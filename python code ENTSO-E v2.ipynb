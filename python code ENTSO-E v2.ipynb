{
 "cells": [
  {
   "cell_type": "code",
   "execution_count": 28,
   "metadata": {},
   "outputs": [],
   "source": [
    "import pandas as pd\n",
    "from entsoe import EntsoePandasClient\n",
    "import time\n",
    "\n",
    "# Insert your API key here once you get it\n",
    "API_KEY = '82aa28d4-59f3-4e3a-b144-6659aa9415b5'\n",
    "\n",
    "# Initialize ENTSO-E client\n",
    "client = EntsoePandasClient(api_key=API_KEY)\n",
    "\n",
    "# Define parameters\n",
    "country_code = 'NL'\n",
    "neighboring_countries = ['BE', 'DE', 'GB', 'DK', 'NO']  # Pas dit aan op basis van de relevante buren\n",
    "years = [2022, 2023, 2024]  # List of years to fetch\n",
    "\n",
    "# Data storage\n",
    "all_data = []\n"
   ]
  },
  {
   "cell_type": "code",
   "execution_count": 29,
   "metadata": {},
   "outputs": [
    {
     "name": "stdout",
     "output_type": "stream",
     "text": [
      "Fetching load data for 2022...\n",
      "Fetching load forecast for 2022...\n",
      "Fetching price data for 2022...\n",
      "Fetching load data for 2023...\n",
      "Fetching load forecast for 2023...\n",
      "Fetching price data for 2023...\n",
      "Fetching load data for 2024...\n",
      "Fetching load forecast for 2024...\n",
      "Fetching price data for 2024...\n"
     ]
    }
   ],
   "source": [
    "# Function to fetch data with retries\n",
    "def fetch_with_retries(fetch_func, *args, retries=3, delay=5, **kwargs):\n",
    "    for attempt in range(retries):\n",
    "        try:\n",
    "            return fetch_func(*args, **kwargs)\n",
    "        except Exception as e:\n",
    "            print(f\"Error: {e}, retrying in {delay} seconds...\")\n",
    "            time.sleep(delay)\n",
    "    raise Exception(f\"Failed to fetch data after {retries} attempts\")\n",
    "\n",
    "# Loop through each year and fetch data separately\n",
    "for year in years:\n",
    "    start = pd.Timestamp(f'{year}-01-01', tz='Europe/Amsterdam')\n",
    "    end = pd.Timestamp(f'{year+1}-01-01', tz='Europe/Amsterdam')  # Exclusive end\n",
    "\n",
    "    print(f\"Fetching load data for {year}...\")\n",
    "    yearly_load = fetch_with_retries(client.query_load, country_code, start=start, end=end).squeeze()  # Convert to 1D Series\n",
    "    \n",
    "    print(f\"Fetching load forecast for {year}...\")\n",
    "    yearly_load_forecast = fetch_with_retries(client.query_load_forecast, country_code, start=start, end=end).squeeze()  # Convert to 1D Series\n",
    "  \n",
    "    print(f\"Fetching price data for {year}...\")\n",
    "    yearly_price = fetch_with_retries(client.query_day_ahead_prices, country_code, start=start, end=end).squeeze()  # Convert to 1D Series"
   ]
  },
  {
   "cell_type": "code",
   "execution_count": null,
   "metadata": {},
   "outputs": [],
   "source": [
    "# Fetch cross-border flows\n",
    "flow_data = {}\n",
    "for neighbor in neighboring_countries:\n",
    "    print(f\"Fetching cross-border flow from {neighbor} to {country_code} for {year}...\")\n",
    "    yearly_flow_to = fetch_with_retries(client.query_crossborder_flows, country_code_from=neighbor, \n",
    "                                            country_code_to=country_code, start=start, end=end).squeeze()  # Convert to 1D Series\n",
    "    flow_data[f'Flow_{neighbor}_to_{country_code}'] = yearly_flow_to\n",
    "\n",
    "    print(f\"Fetching cross-border flow from {country_code} to {neighbor} for {year}...\")\n",
    "    yearly_flow_from = fetch_with_retries(client.query_crossborder_flows, country_code_from=country_code, \n",
    "                                              country_code_to=neighbor, start=start, end=end).squeeze()  # Convert to 1D Series\n",
    "    flow_data[f'Flow_{country_code}_to_{neighbor}'] = yearly_flow_from"
   ]
  },
  {
   "cell_type": "code",
   "execution_count": 6,
   "metadata": {},
   "outputs": [
    {
     "ename": "NameError",
     "evalue": "name 'yearly_load' is not defined",
     "output_type": "error",
     "traceback": [
      "\u001b[1;31m---------------------------------------------------------------------------\u001b[0m",
      "\u001b[1;31mNameError\u001b[0m                                 Traceback (most recent call last)",
      "Cell \u001b[1;32mIn[6], line 2\u001b[0m\n\u001b[0;32m      1\u001b[0m \u001b[38;5;66;03m# Merge all data\u001b[39;00m\n\u001b[1;32m----> 2\u001b[0m \u001b[38;5;28;01mif\u001b[39;00m \u001b[38;5;129;01mnot\u001b[39;00m \u001b[43myearly_load\u001b[49m\u001b[38;5;241m.\u001b[39mempty \u001b[38;5;129;01mand\u001b[39;00m \u001b[38;5;129;01mnot\u001b[39;00m yearly_price\u001b[38;5;241m.\u001b[39mempty \u001b[38;5;129;01mand\u001b[39;00m \u001b[38;5;129;01mnot\u001b[39;00m yearly_load_forecast\u001b[38;5;241m.\u001b[39mempty \u001b[38;5;129;01mand\u001b[39;00m \u001b[38;5;129;01mnot\u001b[39;00m yearly_solar_generation\u001b[38;5;241m.\u001b[39mempty:\n\u001b[0;32m      3\u001b[0m     df \u001b[38;5;241m=\u001b[39m pd\u001b[38;5;241m.\u001b[39mDataFrame({\u001b[38;5;124m'\u001b[39m\u001b[38;5;124mLoad\u001b[39m\u001b[38;5;124m'\u001b[39m: yearly_load, \u001b[38;5;124m'\u001b[39m\u001b[38;5;124mPrice\u001b[39m\u001b[38;5;124m'\u001b[39m: yearly_price, \u001b[38;5;124m'\u001b[39m\u001b[38;5;124mLoadForecast\u001b[39m\u001b[38;5;124m'\u001b[39m: yearly_load_forecast, \u001b[38;5;124m'\u001b[39m\u001b[38;5;124mSolarGeneration\u001b[39m\u001b[38;5;124m'\u001b[39m: yearly_solar_generation})\n\u001b[0;32m      4\u001b[0m     \u001b[38;5;28;01mfor\u001b[39;00m col_name, flow_series \u001b[38;5;129;01min\u001b[39;00m flow_data\u001b[38;5;241m.\u001b[39mitems():\n",
      "\u001b[1;31mNameError\u001b[0m: name 'yearly_load' is not defined"
     ]
    }
   ],
   "source": [
    "    # Merge all data\n",
    "if not yearly_load.empty and not yearly_price.empty and not yearly_load_forecast.empty and not yearly_solar_generation.empty:\n",
    "        df = pd.DataFrame({'Load': yearly_load, 'Price': yearly_price, 'LoadForecast': yearly_load_forecast, 'SolarGeneration': yearly_solar_generation})\n",
    "        for col_name, flow_series in flow_data.items():\n",
    "            if not flow_series.empty:\n",
    "                df[col_name] = flow_series\n",
    "\n",
    "        # Store yearly data\n",
    "        all_data.append(df)\n",
    "else:\n",
    "        print(f\"No data for year {year}\")\n",
    "\n"
   ]
  },
  {
   "cell_type": "code",
   "execution_count": null,
   "metadata": {},
   "outputs": [],
   "source": [
    "# Concatenate all years into one DataFrame if there is data\n",
    "if all_data:\n",
    "    final_data = pd.concat(all_data)\n",
    "    # Save to CSV\n",
    "    final_data.to_csv('electricity_data_nl_2022_2024.csv')\n",
    "    print(\"Data saved successfully!\")\n",
    "else:\n",
    "    print(\"No data to save.\")"
   ]
  }
 ],
 "metadata": {
  "kernelspec": {
   "display_name": "Python 3",
   "language": "python",
   "name": "python3"
  },
  "language_info": {
   "codemirror_mode": {
    "name": "ipython",
    "version": 3
   },
   "file_extension": ".py",
   "mimetype": "text/x-python",
   "name": "python",
   "nbconvert_exporter": "python",
   "pygments_lexer": "ipython3",
   "version": "3.11.9"
  }
 },
 "nbformat": 4,
 "nbformat_minor": 2
}
