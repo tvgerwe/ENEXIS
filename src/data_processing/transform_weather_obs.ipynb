{
 "cells": [
  {
   "cell_type": "code",
   "execution_count": 1,
   "id": "9a58a26a",
   "metadata": {},
   "outputs": [
    {
     "name": "stdout",
     "output_type": "stream",
     "text": [
      "\n",
      "DataFrame Features:\n",
      "Number of columns: 9\n",
      "\n",
      "Features:\n",
      "- date\n",
      "- temperature_2m\n",
      "- wind_speed_10m\n",
      "- apparent_temperature\n",
      "- cloud_cover\n",
      "- snowfall\n",
      "- diffuse_radiation\n",
      "- direct_normal_irradiance\n",
      "- shortwave_radiation\n",
      "\n",
      "DataFrame saved to WARP.db as 'transform_weather_obs' table.\n"
     ]
    }
   ],
   "source": [
    "import sqlite3\n",
    "import pandas as pd\n",
    "\n",
    "conn = sqlite3.connect('../data/WARP.db')\n",
    "\n",
    "query = \"SELECT * FROM raw_weather_obs\"\n",
    "df_raw_weather_obs = pd.read_sql_query(query, conn)\n",
    "\n",
    "conn.close()\n",
    "\n",
    "\n",
    "# No need to rename columns since df_raw_weather_obs is already a DataFrame with correct column names\n",
    "\n",
    "print(\"\\nDataFrame Features:\")\n",
    "print(\"Number of columns:\", df_raw_weather_obs.shape[1])\n",
    "print(\"\\nFeatures:\")\n",
    "for column in df_raw_weather_obs.columns:\n",
    "    print(f\"- {column}\")\n",
    "\n",
    "# save the datafram to a new table in WARP.db, named 'transform_weather_obs'\n",
    "conn = sqlite3.connect('../data/WARP.db')\n",
    "cursor = conn.cursor()\n",
    "\n",
    "df_raw_weather_obs.to_sql('transform_weather_obs', conn, if_exists='replace', index=False)\n",
    "conn.commit()\n",
    "conn.close()\n",
    "print(\"\\nDataFrame saved to WARP.db as 'transform_weather_obs' table.\")"
   ]
  },
  {
   "cell_type": "code",
   "execution_count": 2,
   "id": "1270d2ee",
   "metadata": {},
   "outputs": [
    {
     "name": "stdout",
     "output_type": "stream",
     "text": [
      "                           date  temperature_2m  wind_speed_10m  \\\n",
      "3315  2025-05-19 03:00:00+00:00        7.682500            5.40   \n",
      "3316  2025-05-19 04:00:00+00:00        7.132500            4.68   \n",
      "3317  2025-05-19 05:00:00+00:00        8.032500            4.68   \n",
      "3318  2025-05-19 06:00:00+00:00       10.382501            5.04   \n",
      "3319  2025-05-19 07:00:00+00:00       12.382501            5.76   \n",
      "\n",
      "      apparent_temperature  cloud_cover  snowfall  diffuse_radiation  \\\n",
      "3315              6.147325          0.0       0.0           0.000000   \n",
      "3316              5.573146          1.0       0.0           2.078386   \n",
      "3317              6.574693          0.0       0.0          45.300091   \n",
      "3318              8.767652          0.0       0.0         101.715836   \n",
      "3319             10.490000          0.0       0.0         134.436615   \n",
      "\n",
      "      direct_normal_irradiance  shortwave_radiation  \n",
      "3315                  0.000000                  0.0  \n",
      "3316                  0.000000                  2.0  \n",
      "3317                125.712250                 61.0  \n",
      "3318                395.840515                202.0  \n",
      "3319                559.820801                360.0  \n"
     ]
    }
   ],
   "source": [
    "conn = sqlite3.connect('../data/WARP.db')\n",
    "df_transform = pd.read_sql_query(\"SELECT * FROM transform_weather_obs\", conn)\n",
    "print(df_transform.tail())\n",
    "conn.close()"
   ]
  }
 ],
 "metadata": {
  "kernelspec": {
   "display_name": ".venv",
   "language": "python",
   "name": "python3"
  },
  "language_info": {
   "codemirror_mode": {
    "name": "ipython",
    "version": 3
   },
   "file_extension": ".py",
   "mimetype": "text/x-python",
   "name": "python",
   "nbconvert_exporter": "python",
   "pygments_lexer": "ipython3",
   "version": "3.12.6"
  }
 },
 "nbformat": 4,
 "nbformat_minor": 5
}
