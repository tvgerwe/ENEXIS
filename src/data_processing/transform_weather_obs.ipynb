{
 "cells": [
  {
   "cell_type": "code",
   "execution_count": 1,
   "id": "9a58a26a",
   "metadata": {},
   "outputs": [
    {
     "name": "stdout",
     "output_type": "stream",
     "text": [
      "\n",
      "DataFrame Features:\n",
      "Number of columns: 9\n",
      "\n",
      "Features:\n",
      "- date\n",
      "- temperature_2m\n",
      "- wind_speed_10m\n",
      "- apparent_temperature\n",
      "- cloud_cover\n",
      "- snowfall\n",
      "- diffuse_radiation\n",
      "- direct_normal_irradiance\n",
      "- shortwave_radiation\n",
      "\n",
      "DataFrame saved to WARP.db as 'transform_weather_obs' table.\n"
     ]
    }
   ],
   "source": [
    "import sqlite3\n",
    "import pandas as pd\n",
    "\n",
    "conn = sqlite3.connect('../data/WARP.db')\n",
    "\n",
    "query = \"SELECT * FROM raw_weather_obs\"\n",
    "df_raw_weather_obs = pd.read_sql_query(query, conn)\n",
    "\n",
    "conn.close()\n",
    "\n",
    "\n",
    "# No need to rename columns since df_raw_weather_obs is already a DataFrame with correct column names\n",
    "\n",
    "print(\"\\nDataFrame Features:\")\n",
    "print(\"Number of columns:\", df_raw_weather_obs.shape[1])\n",
    "print(\"\\nFeatures:\")\n",
    "for column in df_raw_weather_obs.columns:\n",
    "    print(f\"- {column}\")\n",
    "\n",
    "# save the datafram to a new table in WARP.db, named 'transform_weather_obs'\n",
    "conn = sqlite3.connect('../data/WARP.db')\n",
    "cursor = conn.cursor()\n",
    "\n",
    "df_raw_weather_obs.to_sql('transform_weather_obs', conn, if_exists='replace', index=False)\n",
    "conn.commit()\n",
    "conn.close()\n",
    "print(\"\\nDataFrame saved to WARP.db as 'transform_weather_obs' table.\")"
   ]
  },
  {
   "cell_type": "code",
   "execution_count": 2,
   "id": "1270d2ee",
   "metadata": {},
   "outputs": [
    {
     "name": "stdout",
     "output_type": "stream",
     "text": [
      "                           date  temperature_2m  wind_speed_10m  \\\n",
      "3983  2025-06-15 23:00:00+00:00         15.2325            2.88   \n",
      "3984  2025-06-16 00:00:00+00:00         14.3325            6.12   \n",
      "3985  2025-06-16 01:00:00+00:00         14.0825            5.40   \n",
      "3986  2025-06-16 02:00:00+00:00         13.9325            5.40   \n",
      "3987  2025-06-16 03:00:00+00:00         13.5825            4.68   \n",
      "\n",
      "      apparent_temperature  cloud_cover  snowfall  diffuse_radiation  \\\n",
      "3983             15.431534          0.0       0.0                0.0   \n",
      "3984             14.011770          0.0       0.0                0.0   \n",
      "3985             13.845232          0.0       0.0                0.0   \n",
      "3986             13.704081          0.0       0.0                0.0   \n",
      "3987             13.621214          0.0       0.0                0.0   \n",
      "\n",
      "      direct_normal_irradiance  shortwave_radiation  \n",
      "3983                       0.0                  0.0  \n",
      "3984                       0.0                  0.0  \n",
      "3985                       0.0                  0.0  \n",
      "3986                       0.0                  0.0  \n",
      "3987                       0.0                  0.0  \n"
     ]
    }
   ],
   "source": [
    "conn = sqlite3.connect('../data/WARP.db')\n",
    "df_transform = pd.read_sql_query(\"SELECT * FROM transform_weather_obs\", conn)\n",
    "print(df_transform.tail())\n",
    "conn.close()"
   ]
  }
 ],
 "metadata": {
  "kernelspec": {
   "display_name": "3.10.13",
   "language": "python",
   "name": "python3"
  },
  "language_info": {
   "codemirror_mode": {
    "name": "ipython",
    "version": 3
   },
   "file_extension": ".py",
   "mimetype": "text/x-python",
   "name": "python",
   "nbconvert_exporter": "python",
   "pygments_lexer": "ipython3",
   "version": "3.10.13"
  }
 },
 "nbformat": 4,
 "nbformat_minor": 5
}
