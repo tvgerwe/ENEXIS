{
 "cells": [
  {
   "cell_type": "code",
   "execution_count": 6,
   "id": "9a58a26a",
   "metadata": {},
   "outputs": [
    {
     "name": "stdout",
     "output_type": "stream",
     "text": [
      "\n",
      "DataFrame Features:\n",
      "Number of rows: 3085\n",
      "Number of columns: 9\n",
      "\n",
      "Features:\n",
      "- timestamp\n",
      "- temperature_obs\n",
      "- wind_speed_obs\n",
      "- wind_dir_obs\n",
      "- humidity_obs\n",
      "- precipit_obs\n",
      "- shortwave_radiation_obs\n",
      "- longwave_radiation_obs\n",
      "- cloud_cover_obs\n",
      "\n",
      "DataFrame saved to WARP.db as 'transform_weather_obs' table.\n"
     ]
    }
   ],
   "source": [
    "import sqlite3\n",
    "import pandas as pd\n",
    "\n",
    "conn = sqlite3.connect('../data/WARP.db')\n",
    "cursor = conn.cursor()\n",
    "\n",
    "\n",
    "query = \"SELECT * FROM raw_weather_obs\"\n",
    "df_raw_weather_obs = cursor.execute(query).fetchall()\n",
    "\n",
    "cursor.close()\n",
    "conn.close()\n",
    "\n",
    "\n",
    "# Create DataFrame with named columns\n",
    "df_raw_weather_obs = pd.DataFrame(df_raw_weather_obs, columns=[\n",
    "    'timestamp',\n",
    "    'temperature_obs',\n",
    "    'wind_speed_obs',\n",
    "    'wind_dir_obs',\n",
    "    'humidity_obs',\n",
    "    'precipit_obs',\n",
    "    'shortwave_radiation_obs',\n",
    "    'longwave_radiation_obs',\n",
    "    'cloud_cover_obs'\n",
    "])\n",
    "\n",
    "print(\"\\nDataFrame Features:\")\n",
    "print(\"Number of rows:\", df_raw_weather_obs.shape[0])\n",
    "print(\"Number of columns:\", df_raw_weather_obs.shape[1])\n",
    "print(\"\\nFeatures:\")\n",
    "for column in df_raw_weather_obs.columns:\n",
    "    print(f\"- {column}\")\n",
    "\n",
    "# save the datafram to a new table in WARP.db, named 'transform_weather_obs'\n",
    "conn = sqlite3.connect('../data/WARP.db')\n",
    "cursor = conn.cursor()\n",
    "\n",
    "df_raw_weather_obs.to_sql('transform_weather_obs', conn, if_exists='replace', index=False)\n",
    "conn.commit()\n",
    "conn.close()\n",
    "print(\"\\nDataFrame saved to WARP.db as 'transform_weather_obs' table.\")"
   ]
  },
  {
   "cell_type": "code",
   "execution_count": 8,
   "id": "1270d2ee",
   "metadata": {},
   "outputs": [
    {
     "name": "stdout",
     "output_type": "stream",
     "text": [
      "                      timestamp  temperature_obs  wind_speed_obs  \\\n",
      "3080  2025-05-09 08:00:00+00:00        14.782500            5.04   \n",
      "3081  2025-05-09 09:00:00+00:00        16.832499            5.76   \n",
      "3082  2025-05-09 10:00:00+00:00        17.882500            8.64   \n",
      "3083  2025-05-09 11:00:00+00:00        18.782499            8.28   \n",
      "3084  2025-05-09 12:00:00+00:00        19.532499            8.28   \n",
      "\n",
      "      wind_dir_obs  humidity_obs  precipit_obs  shortwave_radiation_obs  \\\n",
      "3080     12.600586          25.0           0.0               149.191528   \n",
      "3081     14.661762          17.0           0.0               166.761307   \n",
      "3082     15.704529          87.0           0.0               186.410446   \n",
      "3083     17.116886          36.0           0.0               199.202484   \n",
      "3084     18.262537          33.0           0.0               203.123749   \n",
      "\n",
      "      longwave_radiation_obs  cloud_cover_obs  \n",
      "3080              658.474121            489.0  \n",
      "3081              713.572327            623.0  \n",
      "3082              736.610840            728.0  \n",
      "3083              762.463196            807.0  \n",
      "3084              778.279114            842.0  \n"
     ]
    }
   ],
   "source": [
    "conn = sqlite3.connect('../data/WARP.db')\n",
    "df_transform = pd.read_sql_query(\"SELECT * FROM transform_weather_obs\", conn)\n",
    "print(df_transform.tail())\n",
    "conn.close()"
   ]
  }
 ],
 "metadata": {
  "kernelspec": {
   "display_name": ".venv",
   "language": "python",
   "name": "python3"
  },
  "language_info": {
   "codemirror_mode": {
    "name": "ipython",
    "version": 3
   },
   "file_extension": ".py",
   "mimetype": "text/x-python",
   "name": "python",
   "nbconvert_exporter": "python",
   "pygments_lexer": "ipython3",
   "version": "3.12.6"
  }
 },
 "nbformat": 4,
 "nbformat_minor": 5
}
