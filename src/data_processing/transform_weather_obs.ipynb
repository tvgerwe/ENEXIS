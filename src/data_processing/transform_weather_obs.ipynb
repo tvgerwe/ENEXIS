{
 "cells": [
  {
   "cell_type": "code",
   "execution_count": 2,
   "id": "9a58a26a",
   "metadata": {},
   "outputs": [
    {
     "name": "stdout",
     "output_type": "stream",
     "text": [
      "Available tables in the database: []\n"
     ]
    }
   ],
   "source": [
    "import sqlite3\n",
    "\n",
    "conn = sqlite3.connect('warp.db')\n",
    "cursor = conn.cursor()\n",
    "\n",
    "# First, let's see what tables are available in the database\n",
    "query = \"SELECT name FROM sqlite_master WHERE type='table'\"\n",
    "tables = cursor.execute(query).fetchall()\n",
    "print(\"Available tables in the database:\", [table[0] for table in tables])\n",
    "\n",
    "# After seeing the available tables, you can modify this query to use the correct table name\n",
    "# query = \"SELECT * FROM correct_table_name\"\n",
    "# raw_weather_obs = cursor.execute(query).fetchall()\n",
    "\n",
    "cursor.close()\n",
    "conn.close()"
   ]
  }
 ],
 "metadata": {
  "kernelspec": {
   "display_name": ".venv",
   "language": "python",
   "name": "python3"
  },
  "language_info": {
   "codemirror_mode": {
    "name": "ipython",
    "version": 3
   },
   "file_extension": ".py",
   "mimetype": "text/x-python",
   "name": "python",
   "nbconvert_exporter": "python",
   "pygments_lexer": "ipython3",
   "version": "3.12.6"
  }
 },
 "nbformat": 4,
 "nbformat_minor": 5
}
