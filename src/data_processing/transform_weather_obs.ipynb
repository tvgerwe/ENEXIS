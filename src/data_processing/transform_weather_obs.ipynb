{
 "cells": [
  {
   "cell_type": "code",
   "execution_count": 1,
   "id": "9a58a26a",
   "metadata": {},
   "outputs": [
    {
     "name": "stdout",
     "output_type": "stream",
     "text": [
      "\n",
      "DataFrame Features:\n",
      "Number of columns: 9\n",
      "\n",
      "Features:\n",
      "- date\n",
      "- temperature_2m\n",
      "- wind_speed_10m\n",
      "- apparent_temperature\n",
      "- cloud_cover\n",
      "- snowfall\n",
      "- diffuse_radiation\n",
      "- direct_normal_irradiance\n",
      "- shortwave_radiation\n",
      "\n",
      "DataFrame saved to WARP.db as 'transform_weather_obs' table.\n"
     ]
    }
   ],
   "source": [
    "import sqlite3\n",
    "import pandas as pd\n",
    "\n",
    "conn = sqlite3.connect('../data/WARP.db')\n",
    "\n",
    "query = \"SELECT * FROM raw_weather_obs\"\n",
    "df_raw_weather_obs = pd.read_sql_query(query, conn)\n",
    "\n",
    "conn.close()\n",
    "\n",
    "\n",
    "# No need to rename columns since df_raw_weather_obs is already a DataFrame with correct column names\n",
    "\n",
    "print(\"\\nDataFrame Features:\")\n",
    "print(\"Number of columns:\", df_raw_weather_obs.shape[1])\n",
    "print(\"\\nFeatures:\")\n",
    "for column in df_raw_weather_obs.columns:\n",
    "    print(f\"- {column}\")\n",
    "\n",
    "# save the datafram to a new table in WARP.db, named 'transform_weather_obs'\n",
    "conn = sqlite3.connect('../data/WARP.db')\n",
    "cursor = conn.cursor()\n",
    "\n",
    "df_raw_weather_obs.to_sql('transform_weather_obs', conn, if_exists='replace', index=False)\n",
    "conn.commit()\n",
    "conn.close()\n",
    "print(\"\\nDataFrame saved to WARP.db as 'transform_weather_obs' table.\")"
   ]
  },
  {
   "cell_type": "code",
   "execution_count": 2,
   "id": "1270d2ee",
   "metadata": {},
   "outputs": [
    {
     "name": "stdout",
     "output_type": "stream",
     "text": [
      "                           date  temperature_2m  wind_speed_10m  \\\n",
      "3409  2025-05-23 01:00:00+00:00        8.182500        6.840000   \n",
      "3410  2025-05-23 02:00:00+00:00        8.032500        6.840000   \n",
      "3411  2025-05-23 03:00:00+00:00        8.132501        7.559999   \n",
      "3412  2025-05-23 04:00:00+00:00        8.732500        7.559999   \n",
      "3413  2025-05-23 05:00:00+00:00        9.832500       11.879999   \n",
      "\n",
      "      apparent_temperature  cloud_cover  snowfall  diffuse_radiation  \\\n",
      "3409              5.841366        100.0       0.0           0.000000   \n",
      "3410              5.475086        100.0       0.0           0.000000   \n",
      "3411              5.450811        100.0       0.0           0.000000   \n",
      "3412              6.122458        100.0       0.0           1.078865   \n",
      "3413              6.592233          0.0       0.0          24.654322   \n",
      "\n",
      "      direct_normal_irradiance  shortwave_radiation  \n",
      "3409                  0.000000                  0.0  \n",
      "3410                  0.000000                  0.0  \n",
      "3411                  0.000000                  0.0  \n",
      "3412                  0.000000                  1.0  \n",
      "3413                  2.660518                 25.0  \n"
     ]
    }
   ],
   "source": [
    "conn = sqlite3.connect('../data/WARP.db')\n",
    "df_transform = pd.read_sql_query(\"SELECT * FROM transform_weather_obs\", conn)\n",
    "print(df_transform.tail())\n",
    "conn.close()"
   ]
  }
 ],
 "metadata": {
  "kernelspec": {
   "display_name": "3.10.13",
   "language": "python",
   "name": "python3"
  },
  "language_info": {
   "codemirror_mode": {
    "name": "ipython",
    "version": 3
   },
   "file_extension": ".py",
   "mimetype": "text/x-python",
   "name": "python",
   "nbconvert_exporter": "python",
   "pygments_lexer": "ipython3",
   "version": "3.10.13"
  }
 },
 "nbformat": 4,
 "nbformat_minor": 5
}
