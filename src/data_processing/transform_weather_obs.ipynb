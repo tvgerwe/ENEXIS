{
 "cells": [
  {
   "cell_type": "code",
   "execution_count": 3,
   "id": "9a58a26a",
   "metadata": {},
   "outputs": [
    {
     "name": "stdout",
     "output_type": "stream",
     "text": [
      "\n",
      "DataFrame Features:\n",
      "Number of rows: 3201\n",
      "Number of columns: 9\n",
      "\n",
      "Features:\n",
      "- timestamp\n",
      "- temperature_obs\n",
      "- wind_speed_obs\n",
      "- wind_dir_obs\n",
      "- humidity_obs\n",
      "- precipit_obs\n",
      "- shortwave_radiation_obs\n",
      "- longwave_radiation_obs\n",
      "- cloud_cover_obs\n",
      "\n",
      "DataFrame saved to WARP.db as 'transform_weather_obs' table.\n"
     ]
    }
   ],
   "source": [
    "import sqlite3\n",
    "import pandas as pd\n",
    "\n",
    "conn = sqlite3.connect('../data/WARP.db')\n",
    "cursor = conn.cursor()\n",
    "\n",
    "\n",
    "query = \"SELECT * FROM raw_weather_obs\"\n",
    "df_raw_weather_obs = cursor.execute(query).fetchall()\n",
    "\n",
    "cursor.close()\n",
    "conn.close()\n",
    "\n",
    "\n",
    "# Create DataFrame with named columns\n",
    "df_raw_weather_obs = pd.DataFrame(df_raw_weather_obs, columns=[\n",
    "    'timestamp',\n",
    "    'temperature_obs',\n",
    "    'wind_speed_obs',\n",
    "    'wind_dir_obs',\n",
    "    'humidity_obs',\n",
    "    'precipit_obs',\n",
    "    'shortwave_radiation_obs',\n",
    "    'longwave_radiation_obs',\n",
    "    'cloud_cover_obs'\n",
    "])\n",
    "\n",
    "print(\"\\nDataFrame Features:\")\n",
    "print(\"Number of rows:\", df_raw_weather_obs.shape[0])\n",
    "print(\"Number of columns:\", df_raw_weather_obs.shape[1])\n",
    "print(\"\\nFeatures:\")\n",
    "for column in df_raw_weather_obs.columns:\n",
    "    print(f\"- {column}\")\n",
    "\n",
    "# save the datafram to a new table in WARP.db, named 'transform_weather_obs'\n",
    "conn = sqlite3.connect('../data/WARP.db')\n",
    "cursor = conn.cursor()\n",
    "\n",
    "df_raw_weather_obs.to_sql('transform_weather_obs', conn, if_exists='replace', index=False)\n",
    "conn.commit()\n",
    "conn.close()\n",
    "print(\"\\nDataFrame saved to WARP.db as 'transform_weather_obs' table.\")"
   ]
  },
  {
   "cell_type": "code",
   "execution_count": 4,
   "id": "1270d2ee",
   "metadata": {},
   "outputs": [
    {
     "name": "stdout",
     "output_type": "stream",
     "text": [
      "                      timestamp  temperature_obs  wind_speed_obs  \\\n",
      "3196  2025-05-14 04:00:00+00:00        10.482500            7.92   \n",
      "3197  2025-05-14 05:00:00+00:00        10.882501            9.00   \n",
      "3198  2025-05-14 06:00:00+00:00        12.432500            8.64   \n",
      "3199  2025-05-14 07:00:00+00:00        14.282500            8.28   \n",
      "3200  2025-05-14 08:00:00+00:00        16.282499            8.28   \n",
      "\n",
      "      wind_dir_obs  humidity_obs  precipit_obs  shortwave_radiation_obs  \\\n",
      "3196      8.514256          54.0           0.0                 0.706273   \n",
      "3197      8.758958          92.0           0.0                39.459606   \n",
      "3198     10.381134          99.0           0.0                95.815842   \n",
      "3199     12.330708         100.0           0.0               141.796539   \n",
      "3200     14.103443         100.0           0.0               180.770752   \n",
      "\n",
      "      longwave_radiation_obs  cloud_cover_obs  \n",
      "3196                6.574621              1.0  \n",
      "3197              115.278877             53.0  \n",
      "3198              260.444672            158.0  \n",
      "3199              339.513428            274.0  \n",
      "3200              409.315613            398.0  \n"
     ]
    }
   ],
   "source": [
    "conn = sqlite3.connect('../data/WARP.db')\n",
    "df_transform = pd.read_sql_query(\"SELECT * FROM transform_weather_obs\", conn)\n",
    "print(df_transform.tail())\n",
    "conn.close()"
   ]
  }
 ],
 "metadata": {
  "kernelspec": {
   "display_name": ".venv",
   "language": "python",
   "name": "python3"
  },
  "language_info": {
   "codemirror_mode": {
    "name": "ipython",
    "version": 3
   },
   "file_extension": ".py",
   "mimetype": "text/x-python",
   "name": "python",
   "nbconvert_exporter": "python",
   "pygments_lexer": "ipython3",
   "version": "3.12.6"
  }
 },
 "nbformat": 4,
 "nbformat_minor": 5
}
