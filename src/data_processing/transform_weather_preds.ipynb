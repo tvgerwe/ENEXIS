{
 "cells": [
  {
   "cell_type": "code",
   "execution_count": 1,
   "id": "76b581da",
   "metadata": {},
   "outputs": [
    {
     "name": "stdout",
     "output_type": "stream",
     "text": [
      "Features: ['date', 'temperature_2m', 'temperature_2m_previous_day1', 'temperature_2m_previous_day2', 'temperature_2m_previous_day3', 'temperature_2m_previous_day4', 'temperature_2m_previous_day5', 'temperature_2m_previous_day6', 'temperature_2m_previous_day7', 'wind_speed_10m', 'wind_speed_10m_previous_day1', 'wind_speed_10m_previous_day2', 'wind_speed_10m_previous_day3', 'wind_speed_10m_previous_day4', 'wind_speed_10m_previous_day5', 'wind_speed_10m_previous_day6', 'wind_speed_10m_previous_day7', 'wind_direction_10m_previous_day7', 'wind_direction_10m_previous_day6', 'wind_direction_10m_previous_day5', 'cloud_cover', 'cloud_cover_previous_day1', 'cloud_cover_previous_day2', 'cloud_cover_previous_day3', 'cloud_cover_previous_day4', 'cloud_cover_previous_day5', 'cloud_cover_previous_day6', 'cloud_cover_previous_day7', 'snowfall', 'snowfall_previous_day1', 'snowfall_previous_day2', 'snowfall_previous_day3', 'snowfall_previous_day4', 'snowfall_previous_day5', 'snowfall_previous_day6', 'snowfall_previous_day7', 'apparent_temperature', 'apparent_temperature_previous_day1', 'apparent_temperature_previous_day2', 'apparent_temperature_previous_day3', 'apparent_temperature_previous_day4', 'apparent_temperature_previous_day5', 'apparent_temperature_previous_day6', 'apparent_temperature_previous_day7', 'wind_direction_10m_previous_day4', 'wind_direction_10m_previous_day3', 'wind_direction_10m_previous_day2', 'wind_direction_10m_previous_day1', 'wind_direction_10m', 'diffuse_radiation', 'diffuse_radiation_previous_day1', 'diffuse_radiation_previous_day2', 'diffuse_radiation_previous_day3', 'diffuse_radiation_previous_day4', 'diffuse_radiation_previous_day5', 'diffuse_radiation_previous_day6', 'diffuse_radiation_previous_day7', 'direct_normal_irradiance', 'direct_normal_irradiance_previous_day1', 'direct_normal_irradiance_previous_day2', 'direct_normal_irradiance_previous_day3', 'direct_normal_irradiance_previous_day4', 'direct_normal_irradiance_previous_day5', 'direct_normal_irradiance_previous_day6', 'direct_normal_irradiance_previous_day7', 'shortwave_radiation', 'shortwave_radiation_previous_day1', 'shortwave_radiation_previous_day2', 'shortwave_radiation_previous_day3', 'shortwave_radiation_previous_day4', 'shortwave_radiation_previous_day5', 'shortwave_radiation_previous_day6', 'shortwave_radiation_previous_day7', 'direct_radiation', 'direct_radiation_previous_day1', 'direct_radiation_previous_day2', 'direct_radiation_previous_day3', 'direct_radiation_previous_day4', 'direct_radiation_previous_day5', 'direct_radiation_previous_day6', 'direct_radiation_previous_day7']\n",
      "                        date  temperature_2m  temperature_2m_previous_day1  \\\n",
      "0  2024-12-25 00:00:00+00:00        7.513000                      7.863000   \n",
      "1  2024-12-25 01:00:00+00:00        7.463000                      8.662999   \n",
      "2  2024-12-25 02:00:00+00:00        7.863000                      8.363000   \n",
      "3  2024-12-25 03:00:00+00:00        8.113000                      8.763000   \n",
      "4  2024-12-25 04:00:00+00:00        8.162999                      9.313000   \n",
      "\n",
      "   temperature_2m_previous_day2  temperature_2m_previous_day3  \\\n",
      "0                          8.95                           7.9   \n",
      "1                          8.95                           8.2   \n",
      "2                          8.85                           8.3   \n",
      "3                          8.75                           8.4   \n",
      "4                          8.70                           8.6   \n",
      "\n",
      "   temperature_2m_previous_day4  temperature_2m_previous_day5  \\\n",
      "0                          5.15                          8.70   \n",
      "1                          5.05                          8.80   \n",
      "2                          5.20                          8.95   \n",
      "3                          5.45                          9.00   \n",
      "4                          5.95                          9.00   \n",
      "\n",
      "   temperature_2m_previous_day6  temperature_2m_previous_day7  wind_speed_10m  \\\n",
      "0                          2.80                          9.65            9.00   \n",
      "1                          2.40                          9.60            7.20   \n",
      "2                          2.85                          9.50            6.84   \n",
      "3                          3.30                          9.35            7.92   \n",
      "4                          3.60                          9.25            5.04   \n",
      "\n",
      "   ...  shortwave_radiation_previous_day6  shortwave_radiation_previous_day7  \\\n",
      "0  ...                                0.0                                0.0   \n",
      "1  ...                                0.0                                0.0   \n",
      "2  ...                                0.0                                0.0   \n",
      "3  ...                                0.0                                0.0   \n",
      "4  ...                                0.0                                0.0   \n",
      "\n",
      "   direct_radiation  direct_radiation_previous_day1  \\\n",
      "0               0.0                             0.0   \n",
      "1               0.0                             0.0   \n",
      "2               0.0                             0.0   \n",
      "3               0.0                             0.0   \n",
      "4               0.0                             0.0   \n",
      "\n",
      "   direct_radiation_previous_day2  direct_radiation_previous_day3  \\\n",
      "0                             0.0                             0.0   \n",
      "1                             0.0                             0.0   \n",
      "2                             0.0                             0.0   \n",
      "3                             0.0                             0.0   \n",
      "4                             0.0                             0.0   \n",
      "\n",
      "   direct_radiation_previous_day4  direct_radiation_previous_day5  \\\n",
      "0                             0.0                             0.0   \n",
      "1                             0.0                             0.0   \n",
      "2                             0.0                             0.0   \n",
      "3                             0.0                             0.0   \n",
      "4                             0.0                             0.0   \n",
      "\n",
      "   direct_radiation_previous_day6  direct_radiation_previous_day7  \n",
      "0                             0.0                             0.0  \n",
      "1                             0.0                             0.0  \n",
      "2                             0.0                             0.0  \n",
      "3                             0.0                             0.0  \n",
      "4                             0.0                             0.0  \n",
      "\n",
      "[5 rows x 81 columns]\n"
     ]
    }
   ],
   "source": [
    "import sqlite3\n",
    "import pandas as pd\n",
    "\n",
    "# Connect to the SQLite database\n",
    "conn = sqlite3.connect('../Data/warp.db')\n",
    "\n",
    "# Read the 'raw_weather_preds' table into a DataFrame\n",
    "df = pd.read_sql_query(\"SELECT * FROM raw_weather_preds\", conn)\n",
    "\n",
    "# Print overview of features (columns)\n",
    "print(\"Features:\", df.columns.tolist())\n",
    "\n",
    "# Print first 5 rows\n",
    "print(df.head())\n",
    "\n",
    "# Close the connection\n",
    "conn.close()"
   ]
  },
  {
   "cell_type": "code",
   "execution_count": 2,
   "id": "15b3ef17",
   "metadata": {},
   "outputs": [
    {
     "name": "stdout",
     "output_type": "stream",
     "text": [
      "Tables in database: ['raw_ned_obs', 'transform_ned_obs', 'transform_ned_obs_2', 'raw_NED_preds', 'processed_NED_preds', 'raw_meteo_obs_test', 'raw_meteo_obs', 'transform_meteo_forecast_now', 'dim_datetime', 'master_predictions', 'raw_meteo_forecast_now', 'transform_weather_obs', 'process_weather_preds', 'master_warp', 'training_set', 'raw_weather_obs', 'raw_entsoe_obs', 'raw_weather_preds', 'transform_entsoe_obs']\n"
     ]
    }
   ],
   "source": [
    "conn = sqlite3.connect('../Data/warp.db')\n",
    "tables = pd.read_sql_query(\"SELECT name FROM sqlite_master WHERE type='table';\", conn)\n",
    "print(\"Tables in database:\", tables['name'].tolist())\n",
    "conn.close()"
   ]
  }
 ],
 "metadata": {
  "kernelspec": {
   "display_name": "3.10.13",
   "language": "python",
   "name": "python3"
  },
  "language_info": {
   "codemirror_mode": {
    "name": "ipython",
    "version": 3
   },
   "file_extension": ".py",
   "mimetype": "text/x-python",
   "name": "python",
   "nbconvert_exporter": "python",
   "pygments_lexer": "ipython3",
   "version": "3.10.13"
  }
 },
 "nbformat": 4,
 "nbformat_minor": 5
}
