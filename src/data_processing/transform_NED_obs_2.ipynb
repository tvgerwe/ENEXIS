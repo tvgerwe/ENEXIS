{
 "cells": [
  {
   "cell_type": "code",
   "execution_count": 7,
   "id": "eb4049ee",
   "metadata": {},
   "outputs": [
    {
     "name": "stdout",
     "output_type": "stream",
     "text": [
      "Missing values per column:\n",
      " type       0\n",
      "volume     0\n",
      "validto    0\n",
      "dtype: int64\n",
      "             type   volume                    validto\n",
      "29250  Obs_Type_2  2423299  2025-05-03T18:00:00+00:00\n",
      "29251  Obs_Type_2   973805  2025-05-03T19:00:00+00:00\n",
      "29252  Obs_Type_2    38333  2025-05-03T20:00:00+00:00\n",
      "29253  Obs_Type_2        0  2025-05-03T21:00:00+00:00\n",
      "29254  Obs_Type_2        0  2025-05-03T22:00:00+00:00\n",
      "Unique values in 'type': ['Obs_Type_2']\n"
     ]
    }
   ],
   "source": [
    "import sqlite3\n",
    "import pandas as pd\n",
    "\n",
    "conn = sqlite3.connect('../Data/WARP.db')\n",
    "df = pd.read_sql_query(\"SELECT * FROM raw_NED_obs\", conn)\n",
    "conn.close()\n",
    "df_NED_obs_processed = df.drop(columns=[\n",
    "    '@id', '@type', 'id', 'point', 'granularity', 'lastupdate', 'granularitytimezone', 'activity', 'classification', 'capacity','percentage','emission','emissionfactor','validfrom',])\n",
    "df_NED_obs_processed['type'] = df_NED_obs_processed['type'].str.replace('/v1/types/', 'Obs_Type_')\n",
    "\n",
    "missing_values = df_NED_obs_processed.isnull().sum()\n",
    "print(\"Missing values per column:\\n\", missing_values)\n",
    "print(df_NED_obs_processed.tail())\n",
    "\n",
    "print(\"Unique values in 'type':\", df_NED_obs_processed['type'].unique())\n",
    "\n"
   ]
  },
  {
   "cell_type": "code",
   "execution_count": null,
   "id": "b804f894",
   "metadata": {},
   "outputs": [],
   "source": [
    "# Pivot the table\n",
    "df_NED_obs_pivoted = df_NED_obs_processed.pivot_table(\n",
    "    index=['validto'],  # keep these as index\n",
    "    columns='type',                   # columns become unique values from 'type'\n",
    "    values='volume',                  # values to fill in the new columns\n",
    "    aggfunc='first'                   # if duplicates exist, take the first\n",
    ")\n",
    "\n",
    "print(\"Pivoted DataFrame:\\n\", df_NED_obs_pivoted.head())\n",
    "# Reset the index to make 'validto' a column again\n",
    "df_NED_obs_pivoted.reset_index(inplace=True)\n"
   ]
  },
  {
   "cell_type": "code",
   "execution_count": null,
   "id": "4af3a6eb",
   "metadata": {},
   "outputs": [],
   "source": [
    "# Save the processed DataFrame to a new table in the database\n",
    "conn = sqlite3.connect('../Data/WARP.db')\n",
    "df_NED_obs_processed.to_sql('transform_ned_obs_2', conn, if_exists='replace', index=False)\n",
    "conn.close()"
   ]
  },
  {
   "cell_type": "code",
   "execution_count": 11,
   "id": "ecaac3c8",
   "metadata": {},
   "outputs": [
    {
     "name": "stdout",
     "output_type": "stream",
     "text": [
      "<class 'pandas.core.frame.DataFrame'>\n",
      "RangeIndex: 29255 entries, 0 to 29254\n",
      "Data columns (total 3 columns):\n",
      " #   Column  Non-Null Count  Dtype \n",
      "---  ------  --------------  ----- \n",
      " 0   type    29255 non-null  object\n",
      " 1   volume  29255 non-null  object\n",
      " 2   date    29255 non-null  object\n",
      "dtypes: object(3)\n",
      "memory usage: 685.8+ KB\n",
      "None\n",
      "         type volume                       date\n",
      "0  Obs_Type_2      0  2022-01-01T00:00:00+00:00\n",
      "1  Obs_Type_2      0  2022-01-01T01:00:00+00:00\n",
      "2  Obs_Type_2      0  2022-01-01T02:00:00+00:00\n",
      "3  Obs_Type_2      0  2022-01-01T03:00:00+00:00\n",
      "4  Obs_Type_2      0  2022-01-01T04:00:00+00:00\n"
     ]
    }
   ],
   "source": [
    "# Reopen the database and load the new table as a temporary DataFrame\n",
    "conn = sqlite3.connect('../Data/WARP.db')\n",
    "df_temp = pd.read_sql_query(\"SELECT * FROM transform_ned_obs_2\", conn)\n",
    "conn.close()\n",
    "\n",
    "# Print feature overview\n",
    "print(df_temp.info())\n",
    "print(df_temp.head())"
   ]
  }
 ],
 "metadata": {
  "kernelspec": {
   "display_name": ".venv",
   "language": "python",
   "name": "python3"
  },
  "language_info": {
   "codemirror_mode": {
    "name": "ipython",
    "version": 3
   },
   "file_extension": ".py",
   "mimetype": "text/x-python",
   "name": "python",
   "nbconvert_exporter": "python",
   "pygments_lexer": "ipython3",
   "version": "3.12.6"
  }
 },
 "nbformat": 4,
 "nbformat_minor": 5
}
