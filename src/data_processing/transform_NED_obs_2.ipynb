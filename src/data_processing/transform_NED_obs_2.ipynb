{
 "cells": [
  {
   "cell_type": "code",
   "execution_count": 1,
   "id": "59485514",
   "metadata": {},
   "outputs": [],
   "source": [
    "import sqlite3\n",
    "import pandas as pd\n",
    "\n",
    "conn = sqlite3.connect('../Data/WARP.db')\n",
    "\n",
    "df = pd.read_sql_query(\"SELECT * FROM raw_NED_obs_2\", conn)\n",
    "conn.close()"
   ]
  },
  {
   "cell_type": "code",
   "execution_count": 2,
   "id": "a58917a2",
   "metadata": {},
   "outputs": [
    {
     "name": "stdout",
     "output_type": "stream",
     "text": [
      "<class 'pandas.core.frame.DataFrame'>\n",
      "RangeIndex: 12764 entries, 0 to 12763\n",
      "Data columns (total 17 columns):\n",
      " #   Column               Non-Null Count  Dtype \n",
      "---  ------               --------------  ----- \n",
      " 0   @id                  12764 non-null  object\n",
      " 1   @type                12764 non-null  object\n",
      " 2   id                   12764 non-null  object\n",
      " 3   point                12764 non-null  object\n",
      " 4   type                 12764 non-null  object\n",
      " 5   granularity          12764 non-null  object\n",
      " 6   granularitytimezone  12764 non-null  object\n",
      " 7   activity             12764 non-null  object\n",
      " 8   classification       12764 non-null  object\n",
      " 9   capacity             12764 non-null  object\n",
      " 10  volume               12764 non-null  object\n",
      " 11  percentage           12764 non-null  object\n",
      " 12  emission             12764 non-null  object\n",
      " 13  emissionfactor       12764 non-null  object\n",
      " 14  validfrom            12764 non-null  object\n",
      " 15  validto              12764 non-null  object\n",
      " 16  lastupdate           12764 non-null  object\n",
      "dtypes: object(17)\n",
      "memory usage: 1.7+ MB\n",
      "None\n",
      "                            @id        @type           id         point  \\\n",
      "0  /v1/utilizations/67737666355  Utilization  67737666355  /v1/points/0   \n",
      "1  /v1/utilizations/67738048087  Utilization  67738048087  /v1/points/0   \n",
      "2  /v1/utilizations/67738406074  Utilization  67738406074  /v1/points/0   \n",
      "3  /v1/utilizations/67738763032  Utilization  67738763032  /v1/points/0   \n",
      "4  /v1/utilizations/67739121913  Utilization  67739121913  /v1/points/0   \n",
      "\n",
      "          type          granularity           granularitytimezone  \\\n",
      "0  /v1/types/1  /v1/granularities/5  /v1/granularity_time_zones/0   \n",
      "1  /v1/types/1  /v1/granularities/5  /v1/granularity_time_zones/0   \n",
      "2  /v1/types/1  /v1/granularities/5  /v1/granularity_time_zones/0   \n",
      "3  /v1/types/1  /v1/granularities/5  /v1/granularity_time_zones/0   \n",
      "4  /v1/types/1  /v1/granularities/5  /v1/granularity_time_zones/0   \n",
      "\n",
      "           activity         classification capacity   volume  \\\n",
      "0  /v1/activities/1  /v1/classifications/2  6519520  6519520   \n",
      "1  /v1/activities/1  /v1/classifications/2  5917659  5917659   \n",
      "2  /v1/activities/1  /v1/classifications/2  4994553  4994553   \n",
      "3  /v1/activities/1  /v1/classifications/2  4990896  4990896   \n",
      "4  /v1/activities/1  /v1/classifications/2  4988425  4988425   \n",
      "\n",
      "          percentage emission emissionfactor                  validfrom  \\\n",
      "0  0.995035529136658        0              0  2024-12-31T23:00:00+00:00   \n",
      "1  0.903171479701996        0              0  2025-01-01T00:00:00+00:00   \n",
      "2  0.762279272079468        0              0  2025-01-01T01:00:00+00:00   \n",
      "3  0.761716246604919        0              0  2025-01-01T02:00:00+00:00   \n",
      "4  0.761334478855133        0              0  2025-01-01T03:00:00+00:00   \n",
      "\n",
      "                     validto                 lastupdate  \n",
      "0  2025-01-01T00:00:00+00:00  2025-05-02T06:16:14+00:00  \n",
      "1  2025-01-01T01:00:00+00:00  2025-05-03T06:16:12+00:00  \n",
      "2  2025-01-01T02:00:00+00:00  2025-05-03T06:16:12+00:00  \n",
      "3  2025-01-01T03:00:00+00:00  2025-05-03T06:16:12+00:00  \n",
      "4  2025-01-01T04:00:00+00:00  2025-05-03T06:16:12+00:00  \n",
      "Unique values in 'type': ['/v1/types/1' '/v1/types/2' '/v1/types/17' '/v1/types/20']\n"
     ]
    }
   ],
   "source": [
    "print(df.info())\n",
    "print(df.head())\n",
    "print(\"Unique values in 'type':\", df['type'].unique())"
   ]
  },
  {
   "cell_type": "code",
   "execution_count": 3,
   "id": "d304c529",
   "metadata": {},
   "outputs": [
    {
     "name": "stdout",
     "output_type": "stream",
     "text": [
      "type\n",
      "/v1/types/1     3191\n",
      "/v1/types/2     3191\n",
      "/v1/types/17    3191\n",
      "/v1/types/20    3191\n",
      "Name: count, dtype: int64\n"
     ]
    }
   ],
   "source": [
    "type_counts = df['type'].value_counts()\n",
    "print(type_counts)"
   ]
  },
  {
   "cell_type": "code",
   "execution_count": 4,
   "id": "eb4049ee",
   "metadata": {},
   "outputs": [
    {
     "name": "stdout",
     "output_type": "stream",
     "text": [
      "Missing values per column:\n",
      " type       0\n",
      "volume     0\n",
      "validto    0\n",
      "dtype: int64\n",
      "     type   volume                    validto\n",
      "0  Type_1  6519520  2025-01-01T00:00:00+00:00\n",
      "1  Type_1  5917659  2025-01-01T01:00:00+00:00\n",
      "2  Type_1  4994553  2025-01-01T02:00:00+00:00\n",
      "3  Type_1  4990896  2025-01-01T03:00:00+00:00\n",
      "4  Type_1  4988425  2025-01-01T04:00:00+00:00\n",
      "Unique values in 'type': ['Type_1' 'Type_2' 'Type_17' 'Type_20']\n"
     ]
    }
   ],
   "source": [
    "\n",
    "df_NED_obs_processed = df.drop(columns=[\n",
    "    '@id', '@type', 'id', 'point', 'granularity', 'lastupdate', 'granularitytimezone', 'activity', 'classification', 'capacity','percentage','emission','emissionfactor','validfrom',])\n",
    "df_NED_obs_processed['type'] = df_NED_obs_processed['type'].str.replace('/v1/types/', 'Type_')\n",
    "\n",
    "missing_values = df_NED_obs_processed.isnull().sum()\n",
    "print(\"Missing values per column:\\n\", missing_values)\n",
    "print(df_NED_obs_processed.head())\n",
    "\n",
    "print(\"Unique values in 'type':\", df_NED_obs_processed['type'].unique())\n",
    "\n"
   ]
  },
  {
   "cell_type": "code",
   "execution_count": 8,
   "id": "7030149f",
   "metadata": {},
   "outputs": [
    {
     "name": "stdout",
     "output_type": "stream",
     "text": [
      "                     validto  Type_1_Vol  Type_17_Vol  Type_2_Vol  Type_20_Vol\n",
      "0  2025-01-01T00:00:00+00:00     6519520      4158000           0       486250\n",
      "1  2025-01-01T01:00:00+00:00     5917659      4158000           0       487000\n",
      "2  2025-01-01T02:00:00+00:00     4994553      4158000           0       487000\n",
      "3  2025-01-01T03:00:00+00:00     4990896      3930300           0       487000\n",
      "4  2025-01-01T04:00:00+00:00     4988425      3474900           0       487000\n"
     ]
    }
   ],
   "source": [
    "# Pivot the DataFrame so each unique 'type' becomes a column named like 'Type_1_Vol'\n",
    "df_type_vol = df_NED_obs_processed.pivot_table(\n",
    "    index='validto',\n",
    "    columns='type',\n",
    "    values='volume',\n",
    "    aggfunc='first'\n",
    ")\n",
    "\n",
    "# Rename columns to add '_Vol' suffix\n",
    "df_type_vol.columns = [f\"{col}_Vol\" for col in df_type_vol.columns]\n",
    "\n",
    "# Convert all columns except 'validto' to numeric (float)\n",
    "for col in df_type_vol.columns:\n",
    "    if col != 'validto':\n",
    "        df_type_vol[col] = pd.to_numeric(df_type_vol[col], errors='coerce')\n",
    "\n",
    "# Reset index to make 'validto' a column\n",
    "df_type_vol = df_type_vol.reset_index()\n",
    "\n",
    "print(df_type_vol.head())"
   ]
  },
  {
   "cell_type": "code",
   "execution_count": 9,
   "id": "47ea1e91",
   "metadata": {},
   "outputs": [],
   "source": [
    "conn = sqlite3.connect('../Data/WARP.db')\n",
    "df_type_vol.to_sql('transform_ned_obs_2', conn, if_exists='replace', index=False)\n",
    "conn.close()"
   ]
  },
  {
   "cell_type": "code",
   "execution_count": 10,
   "id": "ecaac3c8",
   "metadata": {},
   "outputs": [
    {
     "name": "stdout",
     "output_type": "stream",
     "text": [
      "<class 'pandas.core.frame.DataFrame'>\n",
      "RangeIndex: 3191 entries, 0 to 3190\n",
      "Data columns (total 5 columns):\n",
      " #   Column       Non-Null Count  Dtype \n",
      "---  ------       --------------  ----- \n",
      " 0   validto      3191 non-null   object\n",
      " 1   Type_1_Vol   3191 non-null   int64 \n",
      " 2   Type_17_Vol  3191 non-null   int64 \n",
      " 3   Type_2_Vol   3191 non-null   int64 \n",
      " 4   Type_20_Vol  3191 non-null   int64 \n",
      "dtypes: int64(4), object(1)\n",
      "memory usage: 124.8+ KB\n",
      "None\n",
      "                     validto  Type_1_Vol  Type_17_Vol  Type_2_Vol  Type_20_Vol\n",
      "0  2025-01-01T00:00:00+00:00     6519520      4158000           0       486250\n",
      "1  2025-01-01T01:00:00+00:00     5917659      4158000           0       487000\n",
      "2  2025-01-01T02:00:00+00:00     4994553      4158000           0       487000\n",
      "3  2025-01-01T03:00:00+00:00     4990896      3930300           0       487000\n",
      "4  2025-01-01T04:00:00+00:00     4988425      3474900           0       487000\n"
     ]
    }
   ],
   "source": [
    "# Reopen the database and load the new table as a temporary DataFrame\n",
    "conn = sqlite3.connect('../Data/WARP.db')\n",
    "df_temp = pd.read_sql_query(\"SELECT * FROM transform_ned_obs_2\", conn)\n",
    "conn.close()\n",
    "\n",
    "# Print feature overview\n",
    "print(df_temp.info())\n",
    "print(df_temp.head())"
   ]
  }
 ],
 "metadata": {
  "kernelspec": {
   "display_name": ".venv",
   "language": "python",
   "name": "python3"
  },
  "language_info": {
   "codemirror_mode": {
    "name": "ipython",
    "version": 3
   },
   "file_extension": ".py",
   "mimetype": "text/x-python",
   "name": "python",
   "nbconvert_exporter": "python",
   "pygments_lexer": "ipython3",
   "version": "3.12.6"
  }
 },
 "nbformat": 4,
 "nbformat_minor": 5
}
