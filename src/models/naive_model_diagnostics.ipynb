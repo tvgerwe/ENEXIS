{
 "cells": [
  {
   "cell_type": "code",
   "execution_count": 3,
   "metadata": {},
   "outputs": [
    {
     "name": "stderr",
     "output_type": "stream",
     "text": [
      "C:\\Users\\dai\\AppData\\Local\\Temp\\ipykernel_10936\\1652218062.py:31: FutureWarning:\n",
      "\n",
      "'H' is deprecated and will be removed in a future version, please use 'h' instead.\n",
      "\n",
      "C:\\Users\\dai\\AppData\\Local\\Temp\\ipykernel_10936\\1652218062.py:128: DeprecationWarning:\n",
      "\n",
      "DataFrameGroupBy.apply operated on the grouping columns. This behavior is deprecated, and in a future version of pandas the grouping columns will be excluded from the operation. Either pass `include_groups=False` to exclude the groupings or explicitly select the grouping columns after groupby to silence this warning.\n",
      "\n",
      "C:\\Users\\dai\\AppData\\Local\\Temp\\ipykernel_10936\\1652218062.py:160: DeprecationWarning:\n",
      "\n",
      "DataFrameGroupBy.apply operated on the grouping columns. This behavior is deprecated, and in a future version of pandas the grouping columns will be excluded from the operation. Either pass `include_groups=False` to exclude the groupings or explicitly select the grouping columns after groupby to silence this warning.\n",
      "\n"
     ]
    },
    {
     "data": {
      "application/vnd.plotly.v1+json": {
       "config": {
        "plotlyServerURL": "https://plot.ly"
       },
       "data": [
        {
         "cells": {
          "align": "center",
          "fill": {
           "color": "#F5F5F5"
          },
          "font": {
           "size": 12
          },
          "values": [
           [
            "RMSE",
            "MAE",
            "MAPE (%)",
            "MASE"
           ],
           [
            "0.0423",
            "0.0300",
            "745.95",
            "14.0869"
           ]
          ]
         },
         "header": {
          "align": "center",
          "fill": {
           "color": "#B3E5FC"
          },
          "font": {
           "color": "black",
           "size": 14
          },
          "values": [
           "Metric",
           "Value"
          ]
         },
         "type": "table"
        }
       ],
       "layout": {
        "height": 200,
        "margin": {
         "b": 20,
         "l": 20,
         "r": 20,
         "t": 60
        },
        "template": {
         "data": {
          "bar": [
           {
            "error_x": {
             "color": "#2a3f5f"
            },
            "error_y": {
             "color": "#2a3f5f"
            },
            "marker": {
             "line": {
              "color": "#E5ECF6",
              "width": 0.5
             },
             "pattern": {
              "fillmode": "overlay",
              "size": 10,
              "solidity": 0.2
             }
            },
            "type": "bar"
           }
          ],
          "barpolar": [
           {
            "marker": {
             "line": {
              "color": "#E5ECF6",
              "width": 0.5
             },
             "pattern": {
              "fillmode": "overlay",
              "size": 10,
              "solidity": 0.2
             }
            },
            "type": "barpolar"
           }
          ],
          "carpet": [
           {
            "aaxis": {
             "endlinecolor": "#2a3f5f",
             "gridcolor": "white",
             "linecolor": "white",
             "minorgridcolor": "white",
             "startlinecolor": "#2a3f5f"
            },
            "baxis": {
             "endlinecolor": "#2a3f5f",
             "gridcolor": "white",
             "linecolor": "white",
             "minorgridcolor": "white",
             "startlinecolor": "#2a3f5f"
            },
            "type": "carpet"
           }
          ],
          "choropleth": [
           {
            "colorbar": {
             "outlinewidth": 0,
             "ticks": ""
            },
            "type": "choropleth"
           }
          ],
          "contour": [
           {
            "colorbar": {
             "outlinewidth": 0,
             "ticks": ""
            },
            "colorscale": [
             [
              0,
              "#0d0887"
             ],
             [
              0.1111111111111111,
              "#46039f"
             ],
             [
              0.2222222222222222,
              "#7201a8"
             ],
             [
              0.3333333333333333,
              "#9c179e"
             ],
             [
              0.4444444444444444,
              "#bd3786"
             ],
             [
              0.5555555555555556,
              "#d8576b"
             ],
             [
              0.6666666666666666,
              "#ed7953"
             ],
             [
              0.7777777777777778,
              "#fb9f3a"
             ],
             [
              0.8888888888888888,
              "#fdca26"
             ],
             [
              1,
              "#f0f921"
             ]
            ],
            "type": "contour"
           }
          ],
          "contourcarpet": [
           {
            "colorbar": {
             "outlinewidth": 0,
             "ticks": ""
            },
            "type": "contourcarpet"
           }
          ],
          "heatmap": [
           {
            "colorbar": {
             "outlinewidth": 0,
             "ticks": ""
            },
            "colorscale": [
             [
              0,
              "#0d0887"
             ],
             [
              0.1111111111111111,
              "#46039f"
             ],
             [
              0.2222222222222222,
              "#7201a8"
             ],
             [
              0.3333333333333333,
              "#9c179e"
             ],
             [
              0.4444444444444444,
              "#bd3786"
             ],
             [
              0.5555555555555556,
              "#d8576b"
             ],
             [
              0.6666666666666666,
              "#ed7953"
             ],
             [
              0.7777777777777778,
              "#fb9f3a"
             ],
             [
              0.8888888888888888,
              "#fdca26"
             ],
             [
              1,
              "#f0f921"
             ]
            ],
            "type": "heatmap"
           }
          ],
          "histogram": [
           {
            "marker": {
             "pattern": {
              "fillmode": "overlay",
              "size": 10,
              "solidity": 0.2
             }
            },
            "type": "histogram"
           }
          ],
          "histogram2d": [
           {
            "colorbar": {
             "outlinewidth": 0,
             "ticks": ""
            },
            "colorscale": [
             [
              0,
              "#0d0887"
             ],
             [
              0.1111111111111111,
              "#46039f"
             ],
             [
              0.2222222222222222,
              "#7201a8"
             ],
             [
              0.3333333333333333,
              "#9c179e"
             ],
             [
              0.4444444444444444,
              "#bd3786"
             ],
             [
              0.5555555555555556,
              "#d8576b"
             ],
             [
              0.6666666666666666,
              "#ed7953"
             ],
             [
              0.7777777777777778,
              "#fb9f3a"
             ],
             [
              0.8888888888888888,
              "#fdca26"
             ],
             [
              1,
              "#f0f921"
             ]
            ],
            "type": "histogram2d"
           }
          ],
          "histogram2dcontour": [
           {
            "colorbar": {
             "outlinewidth": 0,
             "ticks": ""
            },
            "colorscale": [
             [
              0,
              "#0d0887"
             ],
             [
              0.1111111111111111,
              "#46039f"
             ],
             [
              0.2222222222222222,
              "#7201a8"
             ],
             [
              0.3333333333333333,
              "#9c179e"
             ],
             [
              0.4444444444444444,
              "#bd3786"
             ],
             [
              0.5555555555555556,
              "#d8576b"
             ],
             [
              0.6666666666666666,
              "#ed7953"
             ],
             [
              0.7777777777777778,
              "#fb9f3a"
             ],
             [
              0.8888888888888888,
              "#fdca26"
             ],
             [
              1,
              "#f0f921"
             ]
            ],
            "type": "histogram2dcontour"
           }
          ],
          "mesh3d": [
           {
            "colorbar": {
             "outlinewidth": 0,
             "ticks": ""
            },
            "type": "mesh3d"
           }
          ],
          "parcoords": [
           {
            "line": {
             "colorbar": {
              "outlinewidth": 0,
              "ticks": ""
             }
            },
            "type": "parcoords"
           }
          ],
          "pie": [
           {
            "automargin": true,
            "type": "pie"
           }
          ],
          "scatter": [
           {
            "fillpattern": {
             "fillmode": "overlay",
             "size": 10,
             "solidity": 0.2
            },
            "type": "scatter"
           }
          ],
          "scatter3d": [
           {
            "line": {
             "colorbar": {
              "outlinewidth": 0,
              "ticks": ""
             }
            },
            "marker": {
             "colorbar": {
              "outlinewidth": 0,
              "ticks": ""
             }
            },
            "type": "scatter3d"
           }
          ],
          "scattercarpet": [
           {
            "marker": {
             "colorbar": {
              "outlinewidth": 0,
              "ticks": ""
             }
            },
            "type": "scattercarpet"
           }
          ],
          "scattergeo": [
           {
            "marker": {
             "colorbar": {
              "outlinewidth": 0,
              "ticks": ""
             }
            },
            "type": "scattergeo"
           }
          ],
          "scattergl": [
           {
            "marker": {
             "colorbar": {
              "outlinewidth": 0,
              "ticks": ""
             }
            },
            "type": "scattergl"
           }
          ],
          "scattermap": [
           {
            "marker": {
             "colorbar": {
              "outlinewidth": 0,
              "ticks": ""
             }
            },
            "type": "scattermap"
           }
          ],
          "scattermapbox": [
           {
            "marker": {
             "colorbar": {
              "outlinewidth": 0,
              "ticks": ""
             }
            },
            "type": "scattermapbox"
           }
          ],
          "scatterpolar": [
           {
            "marker": {
             "colorbar": {
              "outlinewidth": 0,
              "ticks": ""
             }
            },
            "type": "scatterpolar"
           }
          ],
          "scatterpolargl": [
           {
            "marker": {
             "colorbar": {
              "outlinewidth": 0,
              "ticks": ""
             }
            },
            "type": "scatterpolargl"
           }
          ],
          "scatterternary": [
           {
            "marker": {
             "colorbar": {
              "outlinewidth": 0,
              "ticks": ""
             }
            },
            "type": "scatterternary"
           }
          ],
          "surface": [
           {
            "colorbar": {
             "outlinewidth": 0,
             "ticks": ""
            },
            "colorscale": [
             [
              0,
              "#0d0887"
             ],
             [
              0.1111111111111111,
              "#46039f"
             ],
             [
              0.2222222222222222,
              "#7201a8"
             ],
             [
              0.3333333333333333,
              "#9c179e"
             ],
             [
              0.4444444444444444,
              "#bd3786"
             ],
             [
              0.5555555555555556,
              "#d8576b"
             ],
             [
              0.6666666666666666,
              "#ed7953"
             ],
             [
              0.7777777777777778,
              "#fb9f3a"
             ],
             [
              0.8888888888888888,
              "#fdca26"
             ],
             [
              1,
              "#f0f921"
             ]
            ],
            "type": "surface"
           }
          ],
          "table": [
           {
            "cells": {
             "fill": {
              "color": "#EBF0F8"
             },
             "line": {
              "color": "white"
             }
            },
            "header": {
             "fill": {
              "color": "#C8D4E3"
             },
             "line": {
              "color": "white"
             }
            },
            "type": "table"
           }
          ]
         },
         "layout": {
          "annotationdefaults": {
           "arrowcolor": "#2a3f5f",
           "arrowhead": 0,
           "arrowwidth": 1
          },
          "autotypenumbers": "strict",
          "coloraxis": {
           "colorbar": {
            "outlinewidth": 0,
            "ticks": ""
           }
          },
          "colorscale": {
           "diverging": [
            [
             0,
             "#8e0152"
            ],
            [
             0.1,
             "#c51b7d"
            ],
            [
             0.2,
             "#de77ae"
            ],
            [
             0.3,
             "#f1b6da"
            ],
            [
             0.4,
             "#fde0ef"
            ],
            [
             0.5,
             "#f7f7f7"
            ],
            [
             0.6,
             "#e6f5d0"
            ],
            [
             0.7,
             "#b8e186"
            ],
            [
             0.8,
             "#7fbc41"
            ],
            [
             0.9,
             "#4d9221"
            ],
            [
             1,
             "#276419"
            ]
           ],
           "sequential": [
            [
             0,
             "#0d0887"
            ],
            [
             0.1111111111111111,
             "#46039f"
            ],
            [
             0.2222222222222222,
             "#7201a8"
            ],
            [
             0.3333333333333333,
             "#9c179e"
            ],
            [
             0.4444444444444444,
             "#bd3786"
            ],
            [
             0.5555555555555556,
             "#d8576b"
            ],
            [
             0.6666666666666666,
             "#ed7953"
            ],
            [
             0.7777777777777778,
             "#fb9f3a"
            ],
            [
             0.8888888888888888,
             "#fdca26"
            ],
            [
             1,
             "#f0f921"
            ]
           ],
           "sequentialminus": [
            [
             0,
             "#0d0887"
            ],
            [
             0.1111111111111111,
             "#46039f"
            ],
            [
             0.2222222222222222,
             "#7201a8"
            ],
            [
             0.3333333333333333,
             "#9c179e"
            ],
            [
             0.4444444444444444,
             "#bd3786"
            ],
            [
             0.5555555555555556,
             "#d8576b"
            ],
            [
             0.6666666666666666,
             "#ed7953"
            ],
            [
             0.7777777777777778,
             "#fb9f3a"
            ],
            [
             0.8888888888888888,
             "#fdca26"
            ],
            [
             1,
             "#f0f921"
            ]
           ]
          },
          "colorway": [
           "#636efa",
           "#EF553B",
           "#00cc96",
           "#ab63fa",
           "#FFA15A",
           "#19d3f3",
           "#FF6692",
           "#B6E880",
           "#FF97FF",
           "#FECB52"
          ],
          "font": {
           "color": "#2a3f5f"
          },
          "geo": {
           "bgcolor": "white",
           "lakecolor": "white",
           "landcolor": "#E5ECF6",
           "showlakes": true,
           "showland": true,
           "subunitcolor": "white"
          },
          "hoverlabel": {
           "align": "left"
          },
          "hovermode": "closest",
          "mapbox": {
           "style": "light"
          },
          "paper_bgcolor": "white",
          "plot_bgcolor": "#E5ECF6",
          "polar": {
           "angularaxis": {
            "gridcolor": "white",
            "linecolor": "white",
            "ticks": ""
           },
           "bgcolor": "#E5ECF6",
           "radialaxis": {
            "gridcolor": "white",
            "linecolor": "white",
            "ticks": ""
           }
          },
          "scene": {
           "xaxis": {
            "backgroundcolor": "#E5ECF6",
            "gridcolor": "white",
            "gridwidth": 2,
            "linecolor": "white",
            "showbackground": true,
            "ticks": "",
            "zerolinecolor": "white"
           },
           "yaxis": {
            "backgroundcolor": "#E5ECF6",
            "gridcolor": "white",
            "gridwidth": 2,
            "linecolor": "white",
            "showbackground": true,
            "ticks": "",
            "zerolinecolor": "white"
           },
           "zaxis": {
            "backgroundcolor": "#E5ECF6",
            "gridcolor": "white",
            "gridwidth": 2,
            "linecolor": "white",
            "showbackground": true,
            "ticks": "",
            "zerolinecolor": "white"
           }
          },
          "shapedefaults": {
           "line": {
            "color": "#2a3f5f"
           }
          },
          "ternary": {
           "aaxis": {
            "gridcolor": "white",
            "linecolor": "white",
            "ticks": ""
           },
           "baxis": {
            "gridcolor": "white",
            "linecolor": "white",
            "ticks": ""
           },
           "bgcolor": "#E5ECF6",
           "caxis": {
            "gridcolor": "white",
            "linecolor": "white",
            "ticks": ""
           }
          },
          "title": {
           "x": 0.05
          },
          "xaxis": {
           "automargin": true,
           "gridcolor": "white",
           "linecolor": "white",
           "ticks": "",
           "title": {
            "standoff": 15
           },
           "zerolinecolor": "white",
           "zerolinewidth": 2
          },
          "yaxis": {
           "automargin": true,
           "gridcolor": "white",
           "linecolor": "white",
           "ticks": "",
           "title": {
            "standoff": 15
           },
           "zerolinecolor": "white",
           "zerolinewidth": 2
          }
         }
        },
        "title": {
         "text": "Naive Model: Overall Forecast Evaluation Metrics"
        },
        "width": 500
       }
      }
     },
     "metadata": {},
     "output_type": "display_data"
    },
    {
     "data": {
      "application/vnd.plotly.v1+json": {
       "config": {
        "plotlyServerURL": "https://plot.ly"
       },
       "data": [
        {
         "cells": {
          "align": "center",
          "fill": {
           "color": "#F5F5F5"
          },
          "font": {
           "size": 12
          },
          "values": [
           [
            "Day 1",
            "Day 2",
            "Day 3",
            "Day 4",
            "Day 5",
            "Day 6",
            "Day 7"
           ],
           [
            "0.0324",
            "0.0394",
            "0.0420",
            "0.0448",
            "0.0466",
            "0.0450",
            "0.0441"
           ],
           [
            "0.0214",
            "0.0268",
            "0.0302",
            "0.0328",
            "0.0341",
            "0.0331",
            "0.0314"
           ],
           [
            "220.91",
            "698.50",
            "503.35",
            "1035.93",
            "909.79",
            "884.11",
            "969.06"
           ],
           [
            "10.0740",
            "12.6109",
            "14.2107",
            "15.4005",
            "16.0222",
            "15.5544",
            "14.7354"
           ]
          ]
         },
         "header": {
          "align": "center",
          "fill": {
           "color": "#B3E5FC"
          },
          "font": {
           "color": "black",
           "size": 14
          },
          "values": [
           "Horizon",
           "RMSE",
           "MAE",
           "MAPE (%)",
           "MASE"
          ]
         },
         "type": "table"
        }
       ],
       "layout": {
        "height": 300,
        "margin": {
         "b": 20,
         "l": 20,
         "r": 20,
         "t": 60
        },
        "template": {
         "data": {
          "bar": [
           {
            "error_x": {
             "color": "#2a3f5f"
            },
            "error_y": {
             "color": "#2a3f5f"
            },
            "marker": {
             "line": {
              "color": "#E5ECF6",
              "width": 0.5
             },
             "pattern": {
              "fillmode": "overlay",
              "size": 10,
              "solidity": 0.2
             }
            },
            "type": "bar"
           }
          ],
          "barpolar": [
           {
            "marker": {
             "line": {
              "color": "#E5ECF6",
              "width": 0.5
             },
             "pattern": {
              "fillmode": "overlay",
              "size": 10,
              "solidity": 0.2
             }
            },
            "type": "barpolar"
           }
          ],
          "carpet": [
           {
            "aaxis": {
             "endlinecolor": "#2a3f5f",
             "gridcolor": "white",
             "linecolor": "white",
             "minorgridcolor": "white",
             "startlinecolor": "#2a3f5f"
            },
            "baxis": {
             "endlinecolor": "#2a3f5f",
             "gridcolor": "white",
             "linecolor": "white",
             "minorgridcolor": "white",
             "startlinecolor": "#2a3f5f"
            },
            "type": "carpet"
           }
          ],
          "choropleth": [
           {
            "colorbar": {
             "outlinewidth": 0,
             "ticks": ""
            },
            "type": "choropleth"
           }
          ],
          "contour": [
           {
            "colorbar": {
             "outlinewidth": 0,
             "ticks": ""
            },
            "colorscale": [
             [
              0,
              "#0d0887"
             ],
             [
              0.1111111111111111,
              "#46039f"
             ],
             [
              0.2222222222222222,
              "#7201a8"
             ],
             [
              0.3333333333333333,
              "#9c179e"
             ],
             [
              0.4444444444444444,
              "#bd3786"
             ],
             [
              0.5555555555555556,
              "#d8576b"
             ],
             [
              0.6666666666666666,
              "#ed7953"
             ],
             [
              0.7777777777777778,
              "#fb9f3a"
             ],
             [
              0.8888888888888888,
              "#fdca26"
             ],
             [
              1,
              "#f0f921"
             ]
            ],
            "type": "contour"
           }
          ],
          "contourcarpet": [
           {
            "colorbar": {
             "outlinewidth": 0,
             "ticks": ""
            },
            "type": "contourcarpet"
           }
          ],
          "heatmap": [
           {
            "colorbar": {
             "outlinewidth": 0,
             "ticks": ""
            },
            "colorscale": [
             [
              0,
              "#0d0887"
             ],
             [
              0.1111111111111111,
              "#46039f"
             ],
             [
              0.2222222222222222,
              "#7201a8"
             ],
             [
              0.3333333333333333,
              "#9c179e"
             ],
             [
              0.4444444444444444,
              "#bd3786"
             ],
             [
              0.5555555555555556,
              "#d8576b"
             ],
             [
              0.6666666666666666,
              "#ed7953"
             ],
             [
              0.7777777777777778,
              "#fb9f3a"
             ],
             [
              0.8888888888888888,
              "#fdca26"
             ],
             [
              1,
              "#f0f921"
             ]
            ],
            "type": "heatmap"
           }
          ],
          "histogram": [
           {
            "marker": {
             "pattern": {
              "fillmode": "overlay",
              "size": 10,
              "solidity": 0.2
             }
            },
            "type": "histogram"
           }
          ],
          "histogram2d": [
           {
            "colorbar": {
             "outlinewidth": 0,
             "ticks": ""
            },
            "colorscale": [
             [
              0,
              "#0d0887"
             ],
             [
              0.1111111111111111,
              "#46039f"
             ],
             [
              0.2222222222222222,
              "#7201a8"
             ],
             [
              0.3333333333333333,
              "#9c179e"
             ],
             [
              0.4444444444444444,
              "#bd3786"
             ],
             [
              0.5555555555555556,
              "#d8576b"
             ],
             [
              0.6666666666666666,
              "#ed7953"
             ],
             [
              0.7777777777777778,
              "#fb9f3a"
             ],
             [
              0.8888888888888888,
              "#fdca26"
             ],
             [
              1,
              "#f0f921"
             ]
            ],
            "type": "histogram2d"
           }
          ],
          "histogram2dcontour": [
           {
            "colorbar": {
             "outlinewidth": 0,
             "ticks": ""
            },
            "colorscale": [
             [
              0,
              "#0d0887"
             ],
             [
              0.1111111111111111,
              "#46039f"
             ],
             [
              0.2222222222222222,
              "#7201a8"
             ],
             [
              0.3333333333333333,
              "#9c179e"
             ],
             [
              0.4444444444444444,
              "#bd3786"
             ],
             [
              0.5555555555555556,
              "#d8576b"
             ],
             [
              0.6666666666666666,
              "#ed7953"
             ],
             [
              0.7777777777777778,
              "#fb9f3a"
             ],
             [
              0.8888888888888888,
              "#fdca26"
             ],
             [
              1,
              "#f0f921"
             ]
            ],
            "type": "histogram2dcontour"
           }
          ],
          "mesh3d": [
           {
            "colorbar": {
             "outlinewidth": 0,
             "ticks": ""
            },
            "type": "mesh3d"
           }
          ],
          "parcoords": [
           {
            "line": {
             "colorbar": {
              "outlinewidth": 0,
              "ticks": ""
             }
            },
            "type": "parcoords"
           }
          ],
          "pie": [
           {
            "automargin": true,
            "type": "pie"
           }
          ],
          "scatter": [
           {
            "fillpattern": {
             "fillmode": "overlay",
             "size": 10,
             "solidity": 0.2
            },
            "type": "scatter"
           }
          ],
          "scatter3d": [
           {
            "line": {
             "colorbar": {
              "outlinewidth": 0,
              "ticks": ""
             }
            },
            "marker": {
             "colorbar": {
              "outlinewidth": 0,
              "ticks": ""
             }
            },
            "type": "scatter3d"
           }
          ],
          "scattercarpet": [
           {
            "marker": {
             "colorbar": {
              "outlinewidth": 0,
              "ticks": ""
             }
            },
            "type": "scattercarpet"
           }
          ],
          "scattergeo": [
           {
            "marker": {
             "colorbar": {
              "outlinewidth": 0,
              "ticks": ""
             }
            },
            "type": "scattergeo"
           }
          ],
          "scattergl": [
           {
            "marker": {
             "colorbar": {
              "outlinewidth": 0,
              "ticks": ""
             }
            },
            "type": "scattergl"
           }
          ],
          "scattermap": [
           {
            "marker": {
             "colorbar": {
              "outlinewidth": 0,
              "ticks": ""
             }
            },
            "type": "scattermap"
           }
          ],
          "scattermapbox": [
           {
            "marker": {
             "colorbar": {
              "outlinewidth": 0,
              "ticks": ""
             }
            },
            "type": "scattermapbox"
           }
          ],
          "scatterpolar": [
           {
            "marker": {
             "colorbar": {
              "outlinewidth": 0,
              "ticks": ""
             }
            },
            "type": "scatterpolar"
           }
          ],
          "scatterpolargl": [
           {
            "marker": {
             "colorbar": {
              "outlinewidth": 0,
              "ticks": ""
             }
            },
            "type": "scatterpolargl"
           }
          ],
          "scatterternary": [
           {
            "marker": {
             "colorbar": {
              "outlinewidth": 0,
              "ticks": ""
             }
            },
            "type": "scatterternary"
           }
          ],
          "surface": [
           {
            "colorbar": {
             "outlinewidth": 0,
             "ticks": ""
            },
            "colorscale": [
             [
              0,
              "#0d0887"
             ],
             [
              0.1111111111111111,
              "#46039f"
             ],
             [
              0.2222222222222222,
              "#7201a8"
             ],
             [
              0.3333333333333333,
              "#9c179e"
             ],
             [
              0.4444444444444444,
              "#bd3786"
             ],
             [
              0.5555555555555556,
              "#d8576b"
             ],
             [
              0.6666666666666666,
              "#ed7953"
             ],
             [
              0.7777777777777778,
              "#fb9f3a"
             ],
             [
              0.8888888888888888,
              "#fdca26"
             ],
             [
              1,
              "#f0f921"
             ]
            ],
            "type": "surface"
           }
          ],
          "table": [
           {
            "cells": {
             "fill": {
              "color": "#EBF0F8"
             },
             "line": {
              "color": "white"
             }
            },
            "header": {
             "fill": {
              "color": "#C8D4E3"
             },
             "line": {
              "color": "white"
             }
            },
            "type": "table"
           }
          ]
         },
         "layout": {
          "annotationdefaults": {
           "arrowcolor": "#2a3f5f",
           "arrowhead": 0,
           "arrowwidth": 1
          },
          "autotypenumbers": "strict",
          "coloraxis": {
           "colorbar": {
            "outlinewidth": 0,
            "ticks": ""
           }
          },
          "colorscale": {
           "diverging": [
            [
             0,
             "#8e0152"
            ],
            [
             0.1,
             "#c51b7d"
            ],
            [
             0.2,
             "#de77ae"
            ],
            [
             0.3,
             "#f1b6da"
            ],
            [
             0.4,
             "#fde0ef"
            ],
            [
             0.5,
             "#f7f7f7"
            ],
            [
             0.6,
             "#e6f5d0"
            ],
            [
             0.7,
             "#b8e186"
            ],
            [
             0.8,
             "#7fbc41"
            ],
            [
             0.9,
             "#4d9221"
            ],
            [
             1,
             "#276419"
            ]
           ],
           "sequential": [
            [
             0,
             "#0d0887"
            ],
            [
             0.1111111111111111,
             "#46039f"
            ],
            [
             0.2222222222222222,
             "#7201a8"
            ],
            [
             0.3333333333333333,
             "#9c179e"
            ],
            [
             0.4444444444444444,
             "#bd3786"
            ],
            [
             0.5555555555555556,
             "#d8576b"
            ],
            [
             0.6666666666666666,
             "#ed7953"
            ],
            [
             0.7777777777777778,
             "#fb9f3a"
            ],
            [
             0.8888888888888888,
             "#fdca26"
            ],
            [
             1,
             "#f0f921"
            ]
           ],
           "sequentialminus": [
            [
             0,
             "#0d0887"
            ],
            [
             0.1111111111111111,
             "#46039f"
            ],
            [
             0.2222222222222222,
             "#7201a8"
            ],
            [
             0.3333333333333333,
             "#9c179e"
            ],
            [
             0.4444444444444444,
             "#bd3786"
            ],
            [
             0.5555555555555556,
             "#d8576b"
            ],
            [
             0.6666666666666666,
             "#ed7953"
            ],
            [
             0.7777777777777778,
             "#fb9f3a"
            ],
            [
             0.8888888888888888,
             "#fdca26"
            ],
            [
             1,
             "#f0f921"
            ]
           ]
          },
          "colorway": [
           "#636efa",
           "#EF553B",
           "#00cc96",
           "#ab63fa",
           "#FFA15A",
           "#19d3f3",
           "#FF6692",
           "#B6E880",
           "#FF97FF",
           "#FECB52"
          ],
          "font": {
           "color": "#2a3f5f"
          },
          "geo": {
           "bgcolor": "white",
           "lakecolor": "white",
           "landcolor": "#E5ECF6",
           "showlakes": true,
           "showland": true,
           "subunitcolor": "white"
          },
          "hoverlabel": {
           "align": "left"
          },
          "hovermode": "closest",
          "mapbox": {
           "style": "light"
          },
          "paper_bgcolor": "white",
          "plot_bgcolor": "#E5ECF6",
          "polar": {
           "angularaxis": {
            "gridcolor": "white",
            "linecolor": "white",
            "ticks": ""
           },
           "bgcolor": "#E5ECF6",
           "radialaxis": {
            "gridcolor": "white",
            "linecolor": "white",
            "ticks": ""
           }
          },
          "scene": {
           "xaxis": {
            "backgroundcolor": "#E5ECF6",
            "gridcolor": "white",
            "gridwidth": 2,
            "linecolor": "white",
            "showbackground": true,
            "ticks": "",
            "zerolinecolor": "white"
           },
           "yaxis": {
            "backgroundcolor": "#E5ECF6",
            "gridcolor": "white",
            "gridwidth": 2,
            "linecolor": "white",
            "showbackground": true,
            "ticks": "",
            "zerolinecolor": "white"
           },
           "zaxis": {
            "backgroundcolor": "#E5ECF6",
            "gridcolor": "white",
            "gridwidth": 2,
            "linecolor": "white",
            "showbackground": true,
            "ticks": "",
            "zerolinecolor": "white"
           }
          },
          "shapedefaults": {
           "line": {
            "color": "#2a3f5f"
           }
          },
          "ternary": {
           "aaxis": {
            "gridcolor": "white",
            "linecolor": "white",
            "ticks": ""
           },
           "baxis": {
            "gridcolor": "white",
            "linecolor": "white",
            "ticks": ""
           },
           "bgcolor": "#E5ECF6",
           "caxis": {
            "gridcolor": "white",
            "linecolor": "white",
            "ticks": ""
           }
          },
          "title": {
           "x": 0.05
          },
          "xaxis": {
           "automargin": true,
           "gridcolor": "white",
           "linecolor": "white",
           "ticks": "",
           "title": {
            "standoff": 15
           },
           "zerolinecolor": "white",
           "zerolinewidth": 2
          },
          "yaxis": {
           "automargin": true,
           "gridcolor": "white",
           "linecolor": "white",
           "ticks": "",
           "title": {
            "standoff": 15
           },
           "zerolinecolor": "white",
           "zerolinewidth": 2
          }
         }
        },
        "title": {
         "text": "Naive Model: Forecast Metrics by Horizon"
        },
        "width": 800
       }
      }
     },
     "metadata": {},
     "output_type": "display_data"
    },
    {
     "data": {
      "application/vnd.plotly.v1+json": {
       "config": {
        "plotlyServerURL": "https://plot.ly"
       },
       "data": [
        {
         "line": {
          "color": "blue"
         },
         "mode": "lines+markers",
         "name": "Werkelijke prijs (kWh)",
         "type": "scatter",
         "x": [
          "2025-02-24T00:00:00.000000000",
          "2025-02-24T01:00:00.000000000",
          "2025-02-24T02:00:00.000000000",
          "2025-02-24T03:00:00.000000000",
          "2025-02-24T04:00:00.000000000",
          "2025-02-24T05:00:00.000000000",
          "2025-02-24T06:00:00.000000000",
          "2025-02-24T07:00:00.000000000",
          "2025-02-24T08:00:00.000000000",
          "2025-02-24T09:00:00.000000000",
          "2025-02-24T10:00:00.000000000",
          "2025-02-24T11:00:00.000000000",
          "2025-02-24T12:00:00.000000000",
          "2025-02-24T13:00:00.000000000",
          "2025-02-24T14:00:00.000000000",
          "2025-02-24T15:00:00.000000000",
          "2025-02-24T16:00:00.000000000",
          "2025-02-24T17:00:00.000000000",
          "2025-02-24T18:00:00.000000000",
          "2025-02-24T19:00:00.000000000",
          "2025-02-24T20:00:00.000000000",
          "2025-02-24T21:00:00.000000000",
          "2025-02-24T22:00:00.000000000",
          "2025-02-24T23:00:00.000000000",
          "2025-02-25T00:00:00.000000000",
          "2025-02-25T01:00:00.000000000",
          "2025-02-25T02:00:00.000000000",
          "2025-02-25T03:00:00.000000000",
          "2025-02-25T04:00:00.000000000",
          "2025-02-25T05:00:00.000000000",
          "2025-02-25T06:00:00.000000000",
          "2025-02-25T07:00:00.000000000",
          "2025-02-25T08:00:00.000000000",
          "2025-02-25T09:00:00.000000000",
          "2025-02-25T10:00:00.000000000",
          "2025-02-25T11:00:00.000000000",
          "2025-02-25T12:00:00.000000000",
          "2025-02-25T13:00:00.000000000",
          "2025-02-25T14:00:00.000000000",
          "2025-02-25T15:00:00.000000000",
          "2025-02-25T16:00:00.000000000",
          "2025-02-25T17:00:00.000000000",
          "2025-02-25T18:00:00.000000000",
          "2025-02-25T19:00:00.000000000",
          "2025-02-25T20:00:00.000000000",
          "2025-02-25T21:00:00.000000000",
          "2025-02-25T22:00:00.000000000",
          "2025-02-25T23:00:00.000000000",
          "2025-02-26T00:00:00.000000000",
          "2025-02-26T01:00:00.000000000",
          "2025-02-26T02:00:00.000000000",
          "2025-02-26T03:00:00.000000000",
          "2025-02-26T04:00:00.000000000",
          "2025-02-26T05:00:00.000000000",
          "2025-02-26T06:00:00.000000000",
          "2025-02-26T07:00:00.000000000",
          "2025-02-26T08:00:00.000000000",
          "2025-02-26T09:00:00.000000000",
          "2025-02-26T10:00:00.000000000",
          "2025-02-26T11:00:00.000000000",
          "2025-02-26T12:00:00.000000000",
          "2025-02-26T13:00:00.000000000",
          "2025-02-26T14:00:00.000000000",
          "2025-02-26T15:00:00.000000000",
          "2025-02-26T16:00:00.000000000",
          "2025-02-26T17:00:00.000000000",
          "2025-02-26T18:00:00.000000000",
          "2025-02-26T19:00:00.000000000",
          "2025-02-26T20:00:00.000000000",
          "2025-02-26T21:00:00.000000000",
          "2025-02-26T22:00:00.000000000",
          "2025-02-26T23:00:00.000000000",
          "2025-02-27T00:00:00.000000000",
          "2025-02-27T01:00:00.000000000",
          "2025-02-27T02:00:00.000000000",
          "2025-02-27T03:00:00.000000000",
          "2025-02-27T04:00:00.000000000",
          "2025-02-27T05:00:00.000000000",
          "2025-02-27T06:00:00.000000000",
          "2025-02-27T07:00:00.000000000",
          "2025-02-27T08:00:00.000000000",
          "2025-02-27T09:00:00.000000000",
          "2025-02-27T10:00:00.000000000",
          "2025-02-27T11:00:00.000000000",
          "2025-02-27T12:00:00.000000000",
          "2025-02-27T13:00:00.000000000",
          "2025-02-27T14:00:00.000000000",
          "2025-02-27T15:00:00.000000000",
          "2025-02-27T16:00:00.000000000",
          "2025-02-27T17:00:00.000000000",
          "2025-02-27T18:00:00.000000000",
          "2025-02-27T19:00:00.000000000",
          "2025-02-27T20:00:00.000000000",
          "2025-02-27T21:00:00.000000000",
          "2025-02-27T22:00:00.000000000",
          "2025-02-27T23:00:00.000000000",
          "2025-02-28T00:00:00.000000000",
          "2025-02-28T01:00:00.000000000",
          "2025-02-28T02:00:00.000000000",
          "2025-02-28T03:00:00.000000000",
          "2025-02-28T04:00:00.000000000",
          "2025-02-28T05:00:00.000000000",
          "2025-02-28T06:00:00.000000000",
          "2025-02-28T07:00:00.000000000",
          "2025-02-28T08:00:00.000000000",
          "2025-02-28T09:00:00.000000000",
          "2025-02-28T10:00:00.000000000",
          "2025-02-28T11:00:00.000000000",
          "2025-02-28T12:00:00.000000000",
          "2025-02-28T13:00:00.000000000",
          "2025-02-28T14:00:00.000000000",
          "2025-02-28T15:00:00.000000000",
          "2025-02-28T16:00:00.000000000",
          "2025-02-28T17:00:00.000000000",
          "2025-02-28T18:00:00.000000000",
          "2025-02-28T19:00:00.000000000",
          "2025-02-28T20:00:00.000000000",
          "2025-02-28T21:00:00.000000000",
          "2025-02-28T22:00:00.000000000",
          "2025-02-28T23:00:00.000000000",
          "2025-03-01T00:00:00.000000000",
          "2025-03-01T01:00:00.000000000",
          "2025-03-01T02:00:00.000000000",
          "2025-03-01T03:00:00.000000000",
          "2025-03-01T04:00:00.000000000",
          "2025-03-01T05:00:00.000000000",
          "2025-03-01T06:00:00.000000000",
          "2025-03-01T07:00:00.000000000",
          "2025-03-01T08:00:00.000000000",
          "2025-03-01T09:00:00.000000000",
          "2025-03-01T10:00:00.000000000",
          "2025-03-01T11:00:00.000000000",
          "2025-03-01T12:00:00.000000000",
          "2025-03-01T13:00:00.000000000",
          "2025-03-01T14:00:00.000000000",
          "2025-03-01T15:00:00.000000000",
          "2025-03-01T16:00:00.000000000",
          "2025-03-01T17:00:00.000000000",
          "2025-03-01T18:00:00.000000000",
          "2025-03-01T19:00:00.000000000",
          "2025-03-01T20:00:00.000000000",
          "2025-03-01T21:00:00.000000000",
          "2025-03-01T22:00:00.000000000",
          "2025-03-01T23:00:00.000000000",
          "2025-03-02T00:00:00.000000000",
          "2025-03-02T01:00:00.000000000",
          "2025-03-02T02:00:00.000000000",
          "2025-03-02T03:00:00.000000000",
          "2025-03-02T04:00:00.000000000",
          "2025-03-02T05:00:00.000000000",
          "2025-03-02T06:00:00.000000000",
          "2025-03-02T07:00:00.000000000",
          "2025-03-02T08:00:00.000000000",
          "2025-03-02T09:00:00.000000000",
          "2025-03-02T10:00:00.000000000",
          "2025-03-02T11:00:00.000000000",
          "2025-03-02T12:00:00.000000000",
          "2025-03-02T13:00:00.000000000",
          "2025-03-02T14:00:00.000000000",
          "2025-03-02T15:00:00.000000000",
          "2025-03-02T16:00:00.000000000",
          "2025-03-02T17:00:00.000000000",
          "2025-03-02T18:00:00.000000000",
          "2025-03-02T19:00:00.000000000",
          "2025-03-02T20:00:00.000000000",
          "2025-03-02T21:00:00.000000000",
          "2025-03-02T22:00:00.000000000",
          "2025-03-02T23:00:00.000000000",
          "2025-03-03T00:00:00.000000000",
          "2025-03-03T01:00:00.000000000",
          "2025-03-03T02:00:00.000000000",
          "2025-03-03T03:00:00.000000000",
          "2025-03-03T04:00:00.000000000",
          "2025-03-03T05:00:00.000000000",
          "2025-03-03T06:00:00.000000000",
          "2025-03-03T07:00:00.000000000",
          "2025-03-03T08:00:00.000000000",
          "2025-03-03T09:00:00.000000000",
          "2025-03-03T10:00:00.000000000",
          "2025-03-03T11:00:00.000000000",
          "2025-03-03T12:00:00.000000000",
          "2025-03-03T13:00:00.000000000",
          "2025-03-03T14:00:00.000000000",
          "2025-03-03T15:00:00.000000000",
          "2025-03-03T16:00:00.000000000",
          "2025-03-03T17:00:00.000000000",
          "2025-03-03T18:00:00.000000000",
          "2025-03-03T19:00:00.000000000",
          "2025-03-03T20:00:00.000000000",
          "2025-03-03T21:00:00.000000000",
          "2025-03-03T22:00:00.000000000",
          "2025-03-03T23:00:00.000000000",
          "2025-03-04T00:00:00.000000000",
          "2025-03-04T01:00:00.000000000",
          "2025-03-04T02:00:00.000000000",
          "2025-03-04T03:00:00.000000000",
          "2025-03-04T04:00:00.000000000",
          "2025-03-04T05:00:00.000000000",
          "2025-03-04T06:00:00.000000000",
          "2025-03-04T07:00:00.000000000",
          "2025-03-04T08:00:00.000000000",
          "2025-03-04T09:00:00.000000000",
          "2025-03-04T10:00:00.000000000",
          "2025-03-04T11:00:00.000000000",
          "2025-03-04T12:00:00.000000000",
          "2025-03-04T13:00:00.000000000",
          "2025-03-04T14:00:00.000000000",
          "2025-03-04T15:00:00.000000000",
          "2025-03-04T16:00:00.000000000",
          "2025-03-04T17:00:00.000000000",
          "2025-03-04T18:00:00.000000000",
          "2025-03-04T19:00:00.000000000",
          "2025-03-04T20:00:00.000000000",
          "2025-03-04T21:00:00.000000000",
          "2025-03-04T22:00:00.000000000",
          "2025-03-04T23:00:00.000000000",
          "2025-03-05T00:00:00.000000000",
          "2025-03-05T01:00:00.000000000",
          "2025-03-05T02:00:00.000000000",
          "2025-03-05T03:00:00.000000000",
          "2025-03-05T04:00:00.000000000",
          "2025-03-05T05:00:00.000000000",
          "2025-03-05T06:00:00.000000000",
          "2025-03-05T07:00:00.000000000",
          "2025-03-05T08:00:00.000000000",
          "2025-03-05T09:00:00.000000000",
          "2025-03-05T10:00:00.000000000",
          "2025-03-05T11:00:00.000000000",
          "2025-03-05T12:00:00.000000000",
          "2025-03-05T13:00:00.000000000",
          "2025-03-05T14:00:00.000000000",
          "2025-03-05T15:00:00.000000000",
          "2025-03-05T16:00:00.000000000",
          "2025-03-05T17:00:00.000000000",
          "2025-03-05T18:00:00.000000000",
          "2025-03-05T19:00:00.000000000",
          "2025-03-05T20:00:00.000000000",
          "2025-03-05T21:00:00.000000000",
          "2025-03-05T22:00:00.000000000",
          "2025-03-05T23:00:00.000000000",
          "2025-03-06T00:00:00.000000000",
          "2025-03-06T01:00:00.000000000",
          "2025-03-06T02:00:00.000000000",
          "2025-03-06T03:00:00.000000000",
          "2025-03-06T04:00:00.000000000",
          "2025-03-06T05:00:00.000000000",
          "2025-03-06T06:00:00.000000000",
          "2025-03-06T07:00:00.000000000",
          "2025-03-06T08:00:00.000000000",
          "2025-03-06T09:00:00.000000000",
          "2025-03-06T10:00:00.000000000",
          "2025-03-06T11:00:00.000000000",
          "2025-03-06T12:00:00.000000000",
          "2025-03-06T13:00:00.000000000",
          "2025-03-06T14:00:00.000000000",
          "2025-03-06T15:00:00.000000000",
          "2025-03-06T16:00:00.000000000",
          "2025-03-06T17:00:00.000000000",
          "2025-03-06T18:00:00.000000000",
          "2025-03-06T19:00:00.000000000",
          "2025-03-06T20:00:00.000000000",
          "2025-03-06T21:00:00.000000000",
          "2025-03-06T22:00:00.000000000",
          "2025-03-06T23:00:00.000000000",
          "2025-03-07T00:00:00.000000000",
          "2025-03-07T01:00:00.000000000",
          "2025-03-07T02:00:00.000000000",
          "2025-03-07T03:00:00.000000000",
          "2025-03-07T04:00:00.000000000",
          "2025-03-07T05:00:00.000000000",
          "2025-03-07T06:00:00.000000000",
          "2025-03-07T07:00:00.000000000",
          "2025-03-07T08:00:00.000000000",
          "2025-03-07T09:00:00.000000000",
          "2025-03-07T10:00:00.000000000",
          "2025-03-07T11:00:00.000000000",
          "2025-03-07T12:00:00.000000000",
          "2025-03-07T13:00:00.000000000",
          "2025-03-07T14:00:00.000000000",
          "2025-03-07T15:00:00.000000000",
          "2025-03-07T16:00:00.000000000",
          "2025-03-07T17:00:00.000000000",
          "2025-03-07T18:00:00.000000000",
          "2025-03-07T19:00:00.000000000",
          "2025-03-07T20:00:00.000000000",
          "2025-03-07T21:00:00.000000000",
          "2025-03-07T22:00:00.000000000",
          "2025-03-07T23:00:00.000000000",
          "2025-03-08T00:00:00.000000000",
          "2025-03-08T01:00:00.000000000",
          "2025-03-08T02:00:00.000000000",
          "2025-03-08T03:00:00.000000000",
          "2025-03-08T04:00:00.000000000",
          "2025-03-08T05:00:00.000000000",
          "2025-03-08T06:00:00.000000000",
          "2025-03-08T07:00:00.000000000",
          "2025-03-08T08:00:00.000000000",
          "2025-03-08T09:00:00.000000000",
          "2025-03-08T10:00:00.000000000",
          "2025-03-08T11:00:00.000000000",
          "2025-03-08T12:00:00.000000000",
          "2025-03-08T13:00:00.000000000",
          "2025-03-08T14:00:00.000000000",
          "2025-03-08T15:00:00.000000000",
          "2025-03-08T16:00:00.000000000",
          "2025-03-08T17:00:00.000000000",
          "2025-03-08T18:00:00.000000000",
          "2025-03-08T19:00:00.000000000",
          "2025-03-08T20:00:00.000000000",
          "2025-03-08T21:00:00.000000000",
          "2025-03-08T22:00:00.000000000",
          "2025-03-08T23:00:00.000000000",
          "2025-03-09T00:00:00.000000000",
          "2025-03-09T01:00:00.000000000",
          "2025-03-09T02:00:00.000000000",
          "2025-03-09T03:00:00.000000000",
          "2025-03-09T04:00:00.000000000",
          "2025-03-09T05:00:00.000000000",
          "2025-03-09T06:00:00.000000000",
          "2025-03-09T07:00:00.000000000",
          "2025-03-09T08:00:00.000000000",
          "2025-03-09T09:00:00.000000000",
          "2025-03-09T10:00:00.000000000",
          "2025-03-09T11:00:00.000000000",
          "2025-03-09T12:00:00.000000000",
          "2025-03-09T13:00:00.000000000",
          "2025-03-09T14:00:00.000000000",
          "2025-03-09T15:00:00.000000000",
          "2025-03-09T16:00:00.000000000",
          "2025-03-09T17:00:00.000000000",
          "2025-03-09T18:00:00.000000000",
          "2025-03-09T19:00:00.000000000",
          "2025-03-09T20:00:00.000000000",
          "2025-03-09T21:00:00.000000000",
          "2025-03-09T22:00:00.000000000",
          "2025-03-09T23:00:00.000000000",
          "2025-03-10T00:00:00.000000000",
          "2025-03-10T01:00:00.000000000",
          "2025-03-10T02:00:00.000000000",
          "2025-03-10T03:00:00.000000000",
          "2025-03-10T04:00:00.000000000",
          "2025-03-10T05:00:00.000000000",
          "2025-03-10T06:00:00.000000000",
          "2025-03-10T07:00:00.000000000",
          "2025-03-10T08:00:00.000000000",
          "2025-03-10T09:00:00.000000000",
          "2025-03-10T10:00:00.000000000",
          "2025-03-10T11:00:00.000000000",
          "2025-03-10T12:00:00.000000000",
          "2025-03-10T13:00:00.000000000",
          "2025-03-10T14:00:00.000000000",
          "2025-03-10T15:00:00.000000000",
          "2025-03-10T16:00:00.000000000",
          "2025-03-10T17:00:00.000000000",
          "2025-03-10T18:00:00.000000000",
          "2025-03-10T19:00:00.000000000",
          "2025-03-10T20:00:00.000000000",
          "2025-03-10T21:00:00.000000000",
          "2025-03-10T22:00:00.000000000",
          "2025-03-10T23:00:00.000000000",
          "2025-03-11T00:00:00.000000000",
          "2025-03-11T01:00:00.000000000",
          "2025-03-11T02:00:00.000000000",
          "2025-03-11T03:00:00.000000000",
          "2025-03-11T04:00:00.000000000",
          "2025-03-11T05:00:00.000000000",
          "2025-03-11T06:00:00.000000000",
          "2025-03-11T07:00:00.000000000",
          "2025-03-11T08:00:00.000000000",
          "2025-03-11T09:00:00.000000000",
          "2025-03-11T10:00:00.000000000",
          "2025-03-11T11:00:00.000000000",
          "2025-03-11T12:00:00.000000000",
          "2025-03-11T13:00:00.000000000",
          "2025-03-11T14:00:00.000000000",
          "2025-03-11T15:00:00.000000000",
          "2025-03-11T16:00:00.000000000",
          "2025-03-11T17:00:00.000000000",
          "2025-03-11T18:00:00.000000000",
          "2025-03-11T19:00:00.000000000",
          "2025-03-11T20:00:00.000000000",
          "2025-03-11T21:00:00.000000000",
          "2025-03-11T22:00:00.000000000",
          "2025-03-11T23:00:00.000000000",
          "2025-03-12T00:00:00.000000000",
          "2025-03-12T01:00:00.000000000",
          "2025-03-12T02:00:00.000000000",
          "2025-03-12T03:00:00.000000000",
          "2025-03-12T04:00:00.000000000",
          "2025-03-12T05:00:00.000000000",
          "2025-03-12T06:00:00.000000000",
          "2025-03-12T07:00:00.000000000",
          "2025-03-12T08:00:00.000000000",
          "2025-03-12T09:00:00.000000000",
          "2025-03-12T10:00:00.000000000",
          "2025-03-12T11:00:00.000000000",
          "2025-03-12T12:00:00.000000000",
          "2025-03-12T13:00:00.000000000",
          "2025-03-12T14:00:00.000000000",
          "2025-03-12T15:00:00.000000000",
          "2025-03-12T16:00:00.000000000",
          "2025-03-12T17:00:00.000000000",
          "2025-03-12T18:00:00.000000000",
          "2025-03-12T19:00:00.000000000",
          "2025-03-12T20:00:00.000000000",
          "2025-03-12T21:00:00.000000000",
          "2025-03-12T22:00:00.000000000",
          "2025-03-12T23:00:00.000000000",
          "2025-03-13T00:00:00.000000000",
          "2025-03-13T01:00:00.000000000",
          "2025-03-13T02:00:00.000000000",
          "2025-03-13T03:00:00.000000000",
          "2025-03-13T04:00:00.000000000",
          "2025-03-13T05:00:00.000000000",
          "2025-03-13T06:00:00.000000000",
          "2025-03-13T07:00:00.000000000",
          "2025-03-13T08:00:00.000000000",
          "2025-03-13T09:00:00.000000000",
          "2025-03-13T10:00:00.000000000",
          "2025-03-13T11:00:00.000000000",
          "2025-03-13T12:00:00.000000000",
          "2025-03-13T13:00:00.000000000",
          "2025-03-13T14:00:00.000000000",
          "2025-03-13T15:00:00.000000000",
          "2025-03-13T16:00:00.000000000",
          "2025-03-13T17:00:00.000000000",
          "2025-03-13T18:00:00.000000000",
          "2025-03-13T19:00:00.000000000",
          "2025-03-13T20:00:00.000000000",
          "2025-03-13T21:00:00.000000000",
          "2025-03-13T22:00:00.000000000",
          "2025-03-13T23:00:00.000000000",
          "2025-03-14T00:00:00.000000000",
          "2025-03-14T01:00:00.000000000",
          "2025-03-14T02:00:00.000000000",
          "2025-03-14T03:00:00.000000000",
          "2025-03-14T04:00:00.000000000",
          "2025-03-14T05:00:00.000000000",
          "2025-03-14T06:00:00.000000000",
          "2025-03-14T07:00:00.000000000",
          "2025-03-14T08:00:00.000000000",
          "2025-03-14T09:00:00.000000000",
          "2025-03-14T10:00:00.000000000",
          "2025-03-14T11:00:00.000000000",
          "2025-03-14T12:00:00.000000000",
          "2025-03-14T13:00:00.000000000",
          "2025-03-14T14:00:00.000000000",
          "2025-03-14T15:00:00.000000000",
          "2025-03-14T16:00:00.000000000",
          "2025-03-14T17:00:00.000000000",
          "2025-03-14T18:00:00.000000000",
          "2025-03-14T19:00:00.000000000",
          "2025-03-14T20:00:00.000000000",
          "2025-03-14T21:00:00.000000000",
          "2025-03-14T22:00:00.000000000",
          "2025-03-14T23:00:00.000000000",
          "2025-03-15T00:00:00.000000000",
          "2025-03-15T01:00:00.000000000",
          "2025-03-15T02:00:00.000000000",
          "2025-03-15T03:00:00.000000000",
          "2025-03-15T04:00:00.000000000",
          "2025-03-15T05:00:00.000000000",
          "2025-03-15T06:00:00.000000000",
          "2025-03-15T07:00:00.000000000",
          "2025-03-15T08:00:00.000000000",
          "2025-03-15T09:00:00.000000000",
          "2025-03-15T10:00:00.000000000",
          "2025-03-15T11:00:00.000000000",
          "2025-03-15T12:00:00.000000000",
          "2025-03-15T13:00:00.000000000",
          "2025-03-15T14:00:00.000000000",
          "2025-03-15T15:00:00.000000000",
          "2025-03-15T16:00:00.000000000",
          "2025-03-15T17:00:00.000000000",
          "2025-03-15T18:00:00.000000000",
          "2025-03-15T19:00:00.000000000",
          "2025-03-15T20:00:00.000000000",
          "2025-03-15T21:00:00.000000000",
          "2025-03-15T22:00:00.000000000",
          "2025-03-15T23:00:00.000000000",
          "2025-03-16T00:00:00.000000000",
          "2025-03-16T01:00:00.000000000",
          "2025-03-16T02:00:00.000000000",
          "2025-03-16T03:00:00.000000000",
          "2025-03-16T04:00:00.000000000",
          "2025-03-16T05:00:00.000000000",
          "2025-03-16T06:00:00.000000000",
          "2025-03-16T07:00:00.000000000",
          "2025-03-16T08:00:00.000000000",
          "2025-03-16T09:00:00.000000000",
          "2025-03-16T10:00:00.000000000",
          "2025-03-16T11:00:00.000000000",
          "2025-03-16T12:00:00.000000000",
          "2025-03-16T13:00:00.000000000",
          "2025-03-16T14:00:00.000000000",
          "2025-03-16T15:00:00.000000000",
          "2025-03-16T16:00:00.000000000",
          "2025-03-16T17:00:00.000000000",
          "2025-03-16T18:00:00.000000000",
          "2025-03-16T19:00:00.000000000",
          "2025-03-16T20:00:00.000000000",
          "2025-03-16T21:00:00.000000000",
          "2025-03-16T22:00:00.000000000",
          "2025-03-16T23:00:00.000000000",
          "2025-03-17T00:00:00.000000000",
          "2025-03-17T01:00:00.000000000",
          "2025-03-17T02:00:00.000000000",
          "2025-03-17T03:00:00.000000000",
          "2025-03-17T04:00:00.000000000",
          "2025-03-17T05:00:00.000000000",
          "2025-03-17T06:00:00.000000000",
          "2025-03-17T07:00:00.000000000",
          "2025-03-17T08:00:00.000000000",
          "2025-03-17T09:00:00.000000000",
          "2025-03-17T10:00:00.000000000",
          "2025-03-17T11:00:00.000000000",
          "2025-03-17T12:00:00.000000000",
          "2025-03-17T13:00:00.000000000",
          "2025-03-17T14:00:00.000000000",
          "2025-03-17T15:00:00.000000000",
          "2025-03-17T16:00:00.000000000",
          "2025-03-17T17:00:00.000000000",
          "2025-03-17T18:00:00.000000000",
          "2025-03-17T19:00:00.000000000",
          "2025-03-17T20:00:00.000000000",
          "2025-03-17T21:00:00.000000000",
          "2025-03-17T22:00:00.000000000",
          "2025-03-17T23:00:00.000000000",
          "2025-03-18T00:00:00.000000000",
          "2025-03-18T01:00:00.000000000",
          "2025-03-18T02:00:00.000000000",
          "2025-03-18T03:00:00.000000000",
          "2025-03-18T04:00:00.000000000",
          "2025-03-18T05:00:00.000000000",
          "2025-03-18T06:00:00.000000000",
          "2025-03-18T07:00:00.000000000",
          "2025-03-18T08:00:00.000000000",
          "2025-03-18T09:00:00.000000000",
          "2025-03-18T10:00:00.000000000",
          "2025-03-18T11:00:00.000000000",
          "2025-03-18T12:00:00.000000000",
          "2025-03-18T13:00:00.000000000",
          "2025-03-18T14:00:00.000000000",
          "2025-03-18T15:00:00.000000000",
          "2025-03-18T16:00:00.000000000",
          "2025-03-18T17:00:00.000000000",
          "2025-03-18T18:00:00.000000000",
          "2025-03-18T19:00:00.000000000",
          "2025-03-18T20:00:00.000000000",
          "2025-03-18T21:00:00.000000000",
          "2025-03-18T22:00:00.000000000",
          "2025-03-18T23:00:00.000000000",
          "2025-03-19T00:00:00.000000000",
          "2025-03-19T01:00:00.000000000",
          "2025-03-19T02:00:00.000000000",
          "2025-03-19T03:00:00.000000000",
          "2025-03-19T04:00:00.000000000",
          "2025-03-19T05:00:00.000000000",
          "2025-03-19T06:00:00.000000000",
          "2025-03-19T07:00:00.000000000",
          "2025-03-19T08:00:00.000000000",
          "2025-03-19T09:00:00.000000000",
          "2025-03-19T10:00:00.000000000",
          "2025-03-19T11:00:00.000000000",
          "2025-03-19T12:00:00.000000000",
          "2025-03-19T13:00:00.000000000",
          "2025-03-19T14:00:00.000000000",
          "2025-03-19T15:00:00.000000000",
          "2025-03-19T16:00:00.000000000",
          "2025-03-19T17:00:00.000000000",
          "2025-03-19T18:00:00.000000000",
          "2025-03-19T19:00:00.000000000",
          "2025-03-19T20:00:00.000000000",
          "2025-03-19T21:00:00.000000000",
          "2025-03-19T22:00:00.000000000",
          "2025-03-19T23:00:00.000000000",
          "2025-03-20T00:00:00.000000000",
          "2025-03-20T01:00:00.000000000",
          "2025-03-20T02:00:00.000000000",
          "2025-03-20T03:00:00.000000000",
          "2025-03-20T04:00:00.000000000",
          "2025-03-20T05:00:00.000000000",
          "2025-03-20T06:00:00.000000000",
          "2025-03-20T07:00:00.000000000",
          "2025-03-20T08:00:00.000000000",
          "2025-03-20T09:00:00.000000000",
          "2025-03-20T10:00:00.000000000",
          "2025-03-20T11:00:00.000000000",
          "2025-03-20T12:00:00.000000000",
          "2025-03-20T13:00:00.000000000",
          "2025-03-20T14:00:00.000000000",
          "2025-03-20T15:00:00.000000000",
          "2025-03-20T16:00:00.000000000",
          "2025-03-20T17:00:00.000000000",
          "2025-03-20T18:00:00.000000000",
          "2025-03-20T19:00:00.000000000",
          "2025-03-20T20:00:00.000000000",
          "2025-03-20T21:00:00.000000000",
          "2025-03-20T22:00:00.000000000",
          "2025-03-20T23:00:00.000000000",
          "2025-03-21T00:00:00.000000000",
          "2025-03-21T01:00:00.000000000",
          "2025-03-21T02:00:00.000000000",
          "2025-03-21T03:00:00.000000000",
          "2025-03-21T04:00:00.000000000",
          "2025-03-21T05:00:00.000000000",
          "2025-03-21T06:00:00.000000000",
          "2025-03-21T07:00:00.000000000",
          "2025-03-21T08:00:00.000000000",
          "2025-03-21T09:00:00.000000000",
          "2025-03-21T10:00:00.000000000",
          "2025-03-21T11:00:00.000000000",
          "2025-03-21T12:00:00.000000000",
          "2025-03-21T13:00:00.000000000",
          "2025-03-21T14:00:00.000000000",
          "2025-03-21T15:00:00.000000000",
          "2025-03-21T16:00:00.000000000",
          "2025-03-21T17:00:00.000000000",
          "2025-03-21T18:00:00.000000000",
          "2025-03-21T19:00:00.000000000",
          "2025-03-21T20:00:00.000000000",
          "2025-03-21T21:00:00.000000000",
          "2025-03-21T22:00:00.000000000",
          "2025-03-21T23:00:00.000000000",
          "2025-03-22T00:00:00.000000000",
          "2025-03-22T01:00:00.000000000",
          "2025-03-22T02:00:00.000000000",
          "2025-03-22T03:00:00.000000000",
          "2025-03-22T04:00:00.000000000",
          "2025-03-22T05:00:00.000000000",
          "2025-03-22T06:00:00.000000000",
          "2025-03-22T07:00:00.000000000",
          "2025-03-22T08:00:00.000000000",
          "2025-03-22T09:00:00.000000000",
          "2025-03-22T10:00:00.000000000",
          "2025-03-22T11:00:00.000000000",
          "2025-03-22T12:00:00.000000000",
          "2025-03-22T13:00:00.000000000",
          "2025-03-22T14:00:00.000000000",
          "2025-03-22T15:00:00.000000000",
          "2025-03-22T16:00:00.000000000",
          "2025-03-22T17:00:00.000000000",
          "2025-03-22T18:00:00.000000000",
          "2025-03-22T19:00:00.000000000",
          "2025-03-22T20:00:00.000000000",
          "2025-03-22T21:00:00.000000000",
          "2025-03-22T22:00:00.000000000",
          "2025-03-22T23:00:00.000000000",
          "2025-03-23T00:00:00.000000000",
          "2025-03-23T01:00:00.000000000",
          "2025-03-23T02:00:00.000000000",
          "2025-03-23T03:00:00.000000000",
          "2025-03-23T04:00:00.000000000",
          "2025-03-23T05:00:00.000000000",
          "2025-03-23T06:00:00.000000000",
          "2025-03-23T07:00:00.000000000",
          "2025-03-23T08:00:00.000000000",
          "2025-03-23T09:00:00.000000000",
          "2025-03-23T10:00:00.000000000",
          "2025-03-23T11:00:00.000000000",
          "2025-03-23T12:00:00.000000000",
          "2025-03-23T13:00:00.000000000",
          "2025-03-23T14:00:00.000000000",
          "2025-03-23T15:00:00.000000000",
          "2025-03-23T16:00:00.000000000",
          "2025-03-23T17:00:00.000000000",
          "2025-03-23T18:00:00.000000000",
          "2025-03-23T19:00:00.000000000",
          "2025-03-23T20:00:00.000000000",
          "2025-03-23T21:00:00.000000000",
          "2025-03-23T22:00:00.000000000",
          "2025-03-23T23:00:00.000000000",
          "2025-03-24T00:00:00.000000000",
          "2025-03-24T01:00:00.000000000",
          "2025-03-24T02:00:00.000000000",
          "2025-03-24T03:00:00.000000000",
          "2025-03-24T04:00:00.000000000",
          "2025-03-24T05:00:00.000000000",
          "2025-03-24T06:00:00.000000000",
          "2025-03-24T07:00:00.000000000",
          "2025-03-24T08:00:00.000000000",
          "2025-03-24T09:00:00.000000000",
          "2025-03-24T10:00:00.000000000",
          "2025-03-24T11:00:00.000000000",
          "2025-03-24T12:00:00.000000000",
          "2025-03-24T13:00:00.000000000",
          "2025-03-24T14:00:00.000000000",
          "2025-03-24T15:00:00.000000000",
          "2025-03-24T16:00:00.000000000",
          "2025-03-24T17:00:00.000000000",
          "2025-03-24T18:00:00.000000000",
          "2025-03-24T19:00:00.000000000",
          "2025-03-24T20:00:00.000000000",
          "2025-03-24T21:00:00.000000000",
          "2025-03-24T22:00:00.000000000",
          "2025-03-24T23:00:00.000000000",
          "2025-03-25T00:00:00.000000000",
          "2025-03-25T01:00:00.000000000",
          "2025-03-25T02:00:00.000000000",
          "2025-03-25T03:00:00.000000000",
          "2025-03-25T04:00:00.000000000",
          "2025-03-25T05:00:00.000000000",
          "2025-03-25T06:00:00.000000000",
          "2025-03-25T07:00:00.000000000",
          "2025-03-25T08:00:00.000000000",
          "2025-03-25T09:00:00.000000000",
          "2025-03-25T10:00:00.000000000",
          "2025-03-25T11:00:00.000000000",
          "2025-03-25T12:00:00.000000000",
          "2025-03-25T13:00:00.000000000",
          "2025-03-25T14:00:00.000000000",
          "2025-03-25T15:00:00.000000000",
          "2025-03-25T16:00:00.000000000",
          "2025-03-25T17:00:00.000000000",
          "2025-03-25T18:00:00.000000000",
          "2025-03-25T19:00:00.000000000",
          "2025-03-25T20:00:00.000000000",
          "2025-03-25T21:00:00.000000000",
          "2025-03-25T22:00:00.000000000",
          "2025-03-25T23:00:00.000000000",
          "2025-03-26T00:00:00.000000000",
          "2025-03-26T01:00:00.000000000",
          "2025-03-26T02:00:00.000000000",
          "2025-03-26T03:00:00.000000000",
          "2025-03-26T04:00:00.000000000",
          "2025-03-26T05:00:00.000000000",
          "2025-03-26T06:00:00.000000000",
          "2025-03-26T07:00:00.000000000",
          "2025-03-26T08:00:00.000000000",
          "2025-03-26T09:00:00.000000000",
          "2025-03-26T10:00:00.000000000",
          "2025-03-26T11:00:00.000000000",
          "2025-03-26T12:00:00.000000000",
          "2025-03-26T13:00:00.000000000",
          "2025-03-26T14:00:00.000000000",
          "2025-03-26T15:00:00.000000000",
          "2025-03-26T16:00:00.000000000",
          "2025-03-26T17:00:00.000000000",
          "2025-03-26T18:00:00.000000000",
          "2025-03-26T19:00:00.000000000",
          "2025-03-26T20:00:00.000000000",
          "2025-03-26T21:00:00.000000000",
          "2025-03-26T22:00:00.000000000",
          "2025-03-26T23:00:00.000000000",
          "2025-03-27T00:00:00.000000000",
          "2025-03-27T01:00:00.000000000",
          "2025-03-27T02:00:00.000000000",
          "2025-03-27T03:00:00.000000000",
          "2025-03-27T04:00:00.000000000",
          "2025-03-27T05:00:00.000000000",
          "2025-03-27T06:00:00.000000000",
          "2025-03-27T07:00:00.000000000",
          "2025-03-27T08:00:00.000000000",
          "2025-03-27T09:00:00.000000000",
          "2025-03-27T10:00:00.000000000",
          "2025-03-27T11:00:00.000000000",
          "2025-03-27T12:00:00.000000000",
          "2025-03-27T13:00:00.000000000",
          "2025-03-27T14:00:00.000000000",
          "2025-03-27T15:00:00.000000000",
          "2025-03-27T16:00:00.000000000",
          "2025-03-27T17:00:00.000000000",
          "2025-03-27T18:00:00.000000000",
          "2025-03-27T19:00:00.000000000",
          "2025-03-27T20:00:00.000000000",
          "2025-03-27T21:00:00.000000000",
          "2025-03-27T22:00:00.000000000",
          "2025-03-27T23:00:00.000000000",
          "2025-03-28T00:00:00.000000000",
          "2025-03-28T01:00:00.000000000",
          "2025-03-28T02:00:00.000000000",
          "2025-03-28T03:00:00.000000000",
          "2025-03-28T04:00:00.000000000",
          "2025-03-28T05:00:00.000000000",
          "2025-03-28T06:00:00.000000000",
          "2025-03-28T07:00:00.000000000",
          "2025-03-28T08:00:00.000000000",
          "2025-03-28T09:00:00.000000000",
          "2025-03-28T10:00:00.000000000",
          "2025-03-28T11:00:00.000000000",
          "2025-03-28T12:00:00.000000000",
          "2025-03-28T13:00:00.000000000",
          "2025-03-28T14:00:00.000000000",
          "2025-03-28T15:00:00.000000000",
          "2025-03-28T16:00:00.000000000",
          "2025-03-28T17:00:00.000000000",
          "2025-03-28T18:00:00.000000000",
          "2025-03-28T19:00:00.000000000",
          "2025-03-28T20:00:00.000000000",
          "2025-03-28T21:00:00.000000000",
          "2025-03-28T22:00:00.000000000",
          "2025-03-28T23:00:00.000000000",
          "2025-03-29T00:00:00.000000000"
         ],
         "y": {
          "bdata": "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",
          "dtype": "f8"
         }
        },
        {
         "line": {
          "color": "orange",
          "dash": "dash"
         },
         "mode": "lines+markers",
         "name": "Naive voorspelling (kWh)",
         "type": "scatter",
         "x": [
          "2025-02-24T00:00:00.000000000",
          "2025-02-24T01:00:00.000000000",
          "2025-02-24T02:00:00.000000000",
          "2025-02-24T03:00:00.000000000",
          "2025-02-24T04:00:00.000000000",
          "2025-02-24T05:00:00.000000000",
          "2025-02-24T06:00:00.000000000",
          "2025-02-24T07:00:00.000000000",
          "2025-02-24T08:00:00.000000000",
          "2025-02-24T09:00:00.000000000",
          "2025-02-24T10:00:00.000000000",
          "2025-02-24T11:00:00.000000000",
          "2025-02-24T12:00:00.000000000",
          "2025-02-24T13:00:00.000000000",
          "2025-02-24T14:00:00.000000000",
          "2025-02-24T15:00:00.000000000",
          "2025-02-24T16:00:00.000000000",
          "2025-02-24T17:00:00.000000000",
          "2025-02-24T18:00:00.000000000",
          "2025-02-24T19:00:00.000000000",
          "2025-02-24T20:00:00.000000000",
          "2025-02-24T21:00:00.000000000",
          "2025-02-24T22:00:00.000000000",
          "2025-02-24T23:00:00.000000000",
          "2025-02-25T00:00:00.000000000",
          "2025-02-25T01:00:00.000000000",
          "2025-02-25T02:00:00.000000000",
          "2025-02-25T03:00:00.000000000",
          "2025-02-25T04:00:00.000000000",
          "2025-02-25T05:00:00.000000000",
          "2025-02-25T06:00:00.000000000",
          "2025-02-25T07:00:00.000000000",
          "2025-02-25T08:00:00.000000000",
          "2025-02-25T09:00:00.000000000",
          "2025-02-25T10:00:00.000000000",
          "2025-02-25T11:00:00.000000000",
          "2025-02-25T12:00:00.000000000",
          "2025-02-25T13:00:00.000000000",
          "2025-02-25T14:00:00.000000000",
          "2025-02-25T15:00:00.000000000",
          "2025-02-25T16:00:00.000000000",
          "2025-02-25T17:00:00.000000000",
          "2025-02-25T18:00:00.000000000",
          "2025-02-25T19:00:00.000000000",
          "2025-02-25T20:00:00.000000000",
          "2025-02-25T21:00:00.000000000",
          "2025-02-25T22:00:00.000000000",
          "2025-02-25T23:00:00.000000000",
          "2025-02-26T00:00:00.000000000",
          "2025-02-26T01:00:00.000000000",
          "2025-02-26T02:00:00.000000000",
          "2025-02-26T03:00:00.000000000",
          "2025-02-26T04:00:00.000000000",
          "2025-02-26T05:00:00.000000000",
          "2025-02-26T06:00:00.000000000",
          "2025-02-26T07:00:00.000000000",
          "2025-02-26T08:00:00.000000000",
          "2025-02-26T09:00:00.000000000",
          "2025-02-26T10:00:00.000000000",
          "2025-02-26T11:00:00.000000000",
          "2025-02-26T12:00:00.000000000",
          "2025-02-26T13:00:00.000000000",
          "2025-02-26T14:00:00.000000000",
          "2025-02-26T15:00:00.000000000",
          "2025-02-26T16:00:00.000000000",
          "2025-02-26T17:00:00.000000000",
          "2025-02-26T18:00:00.000000000",
          "2025-02-26T19:00:00.000000000",
          "2025-02-26T20:00:00.000000000",
          "2025-02-26T21:00:00.000000000",
          "2025-02-26T22:00:00.000000000",
          "2025-02-26T23:00:00.000000000",
          "2025-02-27T00:00:00.000000000",
          "2025-02-27T01:00:00.000000000",
          "2025-02-27T02:00:00.000000000",
          "2025-02-27T03:00:00.000000000",
          "2025-02-27T04:00:00.000000000",
          "2025-02-27T05:00:00.000000000",
          "2025-02-27T06:00:00.000000000",
          "2025-02-27T07:00:00.000000000",
          "2025-02-27T08:00:00.000000000",
          "2025-02-27T09:00:00.000000000",
          "2025-02-27T10:00:00.000000000",
          "2025-02-27T11:00:00.000000000",
          "2025-02-27T12:00:00.000000000",
          "2025-02-27T13:00:00.000000000",
          "2025-02-27T14:00:00.000000000",
          "2025-02-27T15:00:00.000000000",
          "2025-02-27T16:00:00.000000000",
          "2025-02-27T17:00:00.000000000",
          "2025-02-27T18:00:00.000000000",
          "2025-02-27T19:00:00.000000000",
          "2025-02-27T20:00:00.000000000",
          "2025-02-27T21:00:00.000000000",
          "2025-02-27T22:00:00.000000000",
          "2025-02-27T23:00:00.000000000",
          "2025-02-28T00:00:00.000000000",
          "2025-02-28T01:00:00.000000000",
          "2025-02-28T02:00:00.000000000",
          "2025-02-28T03:00:00.000000000",
          "2025-02-28T04:00:00.000000000",
          "2025-02-28T05:00:00.000000000",
          "2025-02-28T06:00:00.000000000",
          "2025-02-28T07:00:00.000000000",
          "2025-02-28T08:00:00.000000000",
          "2025-02-28T09:00:00.000000000",
          "2025-02-28T10:00:00.000000000",
          "2025-02-28T11:00:00.000000000",
          "2025-02-28T12:00:00.000000000",
          "2025-02-28T13:00:00.000000000",
          "2025-02-28T14:00:00.000000000",
          "2025-02-28T15:00:00.000000000",
          "2025-02-28T16:00:00.000000000",
          "2025-02-28T17:00:00.000000000",
          "2025-02-28T18:00:00.000000000",
          "2025-02-28T19:00:00.000000000",
          "2025-02-28T20:00:00.000000000",
          "2025-02-28T21:00:00.000000000",
          "2025-02-28T22:00:00.000000000",
          "2025-02-28T23:00:00.000000000",
          "2025-03-01T00:00:00.000000000",
          "2025-03-01T01:00:00.000000000",
          "2025-03-01T02:00:00.000000000",
          "2025-03-01T03:00:00.000000000",
          "2025-03-01T04:00:00.000000000",
          "2025-03-01T05:00:00.000000000",
          "2025-03-01T06:00:00.000000000",
          "2025-03-01T07:00:00.000000000",
          "2025-03-01T08:00:00.000000000",
          "2025-03-01T09:00:00.000000000",
          "2025-03-01T10:00:00.000000000",
          "2025-03-01T11:00:00.000000000",
          "2025-03-01T12:00:00.000000000",
          "2025-03-01T13:00:00.000000000",
          "2025-03-01T14:00:00.000000000",
          "2025-03-01T15:00:00.000000000",
          "2025-03-01T16:00:00.000000000",
          "2025-03-01T17:00:00.000000000",
          "2025-03-01T18:00:00.000000000",
          "2025-03-01T19:00:00.000000000",
          "2025-03-01T20:00:00.000000000",
          "2025-03-01T21:00:00.000000000",
          "2025-03-01T22:00:00.000000000",
          "2025-03-01T23:00:00.000000000",
          "2025-03-02T00:00:00.000000000",
          "2025-03-02T01:00:00.000000000",
          "2025-03-02T02:00:00.000000000",
          "2025-03-02T03:00:00.000000000",
          "2025-03-02T04:00:00.000000000",
          "2025-03-02T05:00:00.000000000",
          "2025-03-02T06:00:00.000000000",
          "2025-03-02T07:00:00.000000000",
          "2025-03-02T08:00:00.000000000",
          "2025-03-02T09:00:00.000000000",
          "2025-03-02T10:00:00.000000000",
          "2025-03-02T11:00:00.000000000",
          "2025-03-02T12:00:00.000000000",
          "2025-03-02T13:00:00.000000000",
          "2025-03-02T14:00:00.000000000",
          "2025-03-02T15:00:00.000000000",
          "2025-03-02T16:00:00.000000000",
          "2025-03-02T17:00:00.000000000",
          "2025-03-02T18:00:00.000000000",
          "2025-03-02T19:00:00.000000000",
          "2025-03-02T20:00:00.000000000",
          "2025-03-02T21:00:00.000000000",
          "2025-03-02T22:00:00.000000000",
          "2025-03-02T23:00:00.000000000",
          "2025-03-03T00:00:00.000000000",
          "2025-03-03T01:00:00.000000000",
          "2025-03-03T02:00:00.000000000",
          "2025-03-03T03:00:00.000000000",
          "2025-03-03T04:00:00.000000000",
          "2025-03-03T05:00:00.000000000",
          "2025-03-03T06:00:00.000000000",
          "2025-03-03T07:00:00.000000000",
          "2025-03-03T08:00:00.000000000",
          "2025-03-03T09:00:00.000000000",
          "2025-03-03T10:00:00.000000000",
          "2025-03-03T11:00:00.000000000",
          "2025-03-03T12:00:00.000000000",
          "2025-03-03T13:00:00.000000000",
          "2025-03-03T14:00:00.000000000",
          "2025-03-03T15:00:00.000000000",
          "2025-03-03T16:00:00.000000000",
          "2025-03-03T17:00:00.000000000",
          "2025-03-03T18:00:00.000000000",
          "2025-03-03T19:00:00.000000000",
          "2025-03-03T20:00:00.000000000",
          "2025-03-03T21:00:00.000000000",
          "2025-03-03T22:00:00.000000000",
          "2025-03-03T23:00:00.000000000",
          "2025-03-04T00:00:00.000000000",
          "2025-03-04T01:00:00.000000000",
          "2025-03-04T02:00:00.000000000",
          "2025-03-04T03:00:00.000000000",
          "2025-03-04T04:00:00.000000000",
          "2025-03-04T05:00:00.000000000",
          "2025-03-04T06:00:00.000000000",
          "2025-03-04T07:00:00.000000000",
          "2025-03-04T08:00:00.000000000",
          "2025-03-04T09:00:00.000000000",
          "2025-03-04T10:00:00.000000000",
          "2025-03-04T11:00:00.000000000",
          "2025-03-04T12:00:00.000000000",
          "2025-03-04T13:00:00.000000000",
          "2025-03-04T14:00:00.000000000",
          "2025-03-04T15:00:00.000000000",
          "2025-03-04T16:00:00.000000000",
          "2025-03-04T17:00:00.000000000",
          "2025-03-04T18:00:00.000000000",
          "2025-03-04T19:00:00.000000000",
          "2025-03-04T20:00:00.000000000",
          "2025-03-04T21:00:00.000000000",
          "2025-03-04T22:00:00.000000000",
          "2025-03-04T23:00:00.000000000",
          "2025-03-05T00:00:00.000000000",
          "2025-03-05T01:00:00.000000000",
          "2025-03-05T02:00:00.000000000",
          "2025-03-05T03:00:00.000000000",
          "2025-03-05T04:00:00.000000000",
          "2025-03-05T05:00:00.000000000",
          "2025-03-05T06:00:00.000000000",
          "2025-03-05T07:00:00.000000000",
          "2025-03-05T08:00:00.000000000",
          "2025-03-05T09:00:00.000000000",
          "2025-03-05T10:00:00.000000000",
          "2025-03-05T11:00:00.000000000",
          "2025-03-05T12:00:00.000000000",
          "2025-03-05T13:00:00.000000000",
          "2025-03-05T14:00:00.000000000",
          "2025-03-05T15:00:00.000000000",
          "2025-03-05T16:00:00.000000000",
          "2025-03-05T17:00:00.000000000",
          "2025-03-05T18:00:00.000000000",
          "2025-03-05T19:00:00.000000000",
          "2025-03-05T20:00:00.000000000",
          "2025-03-05T21:00:00.000000000",
          "2025-03-05T22:00:00.000000000",
          "2025-03-05T23:00:00.000000000",
          "2025-03-06T00:00:00.000000000",
          "2025-03-06T01:00:00.000000000",
          "2025-03-06T02:00:00.000000000",
          "2025-03-06T03:00:00.000000000",
          "2025-03-06T04:00:00.000000000",
          "2025-03-06T05:00:00.000000000",
          "2025-03-06T06:00:00.000000000",
          "2025-03-06T07:00:00.000000000",
          "2025-03-06T08:00:00.000000000",
          "2025-03-06T09:00:00.000000000",
          "2025-03-06T10:00:00.000000000",
          "2025-03-06T11:00:00.000000000",
          "2025-03-06T12:00:00.000000000",
          "2025-03-06T13:00:00.000000000",
          "2025-03-06T14:00:00.000000000",
          "2025-03-06T15:00:00.000000000",
          "2025-03-06T16:00:00.000000000",
          "2025-03-06T17:00:00.000000000",
          "2025-03-06T18:00:00.000000000",
          "2025-03-06T19:00:00.000000000",
          "2025-03-06T20:00:00.000000000",
          "2025-03-06T21:00:00.000000000",
          "2025-03-06T22:00:00.000000000",
          "2025-03-06T23:00:00.000000000",
          "2025-03-07T00:00:00.000000000",
          "2025-03-07T01:00:00.000000000",
          "2025-03-07T02:00:00.000000000",
          "2025-03-07T03:00:00.000000000",
          "2025-03-07T04:00:00.000000000",
          "2025-03-07T05:00:00.000000000",
          "2025-03-07T06:00:00.000000000",
          "2025-03-07T07:00:00.000000000",
          "2025-03-07T08:00:00.000000000",
          "2025-03-07T09:00:00.000000000",
          "2025-03-07T10:00:00.000000000",
          "2025-03-07T11:00:00.000000000",
          "2025-03-07T12:00:00.000000000",
          "2025-03-07T13:00:00.000000000",
          "2025-03-07T14:00:00.000000000",
          "2025-03-07T15:00:00.000000000",
          "2025-03-07T16:00:00.000000000",
          "2025-03-07T17:00:00.000000000",
          "2025-03-07T18:00:00.000000000",
          "2025-03-07T19:00:00.000000000",
          "2025-03-07T20:00:00.000000000",
          "2025-03-07T21:00:00.000000000",
          "2025-03-07T22:00:00.000000000",
          "2025-03-07T23:00:00.000000000",
          "2025-03-08T00:00:00.000000000",
          "2025-03-08T01:00:00.000000000",
          "2025-03-08T02:00:00.000000000",
          "2025-03-08T03:00:00.000000000",
          "2025-03-08T04:00:00.000000000",
          "2025-03-08T05:00:00.000000000",
          "2025-03-08T06:00:00.000000000",
          "2025-03-08T07:00:00.000000000",
          "2025-03-08T08:00:00.000000000",
          "2025-03-08T09:00:00.000000000",
          "2025-03-08T10:00:00.000000000",
          "2025-03-08T11:00:00.000000000",
          "2025-03-08T12:00:00.000000000",
          "2025-03-08T13:00:00.000000000",
          "2025-03-08T14:00:00.000000000",
          "2025-03-08T15:00:00.000000000",
          "2025-03-08T16:00:00.000000000",
          "2025-03-08T17:00:00.000000000",
          "2025-03-08T18:00:00.000000000",
          "2025-03-08T19:00:00.000000000",
          "2025-03-08T20:00:00.000000000",
          "2025-03-08T21:00:00.000000000",
          "2025-03-08T22:00:00.000000000",
          "2025-03-08T23:00:00.000000000",
          "2025-03-09T00:00:00.000000000",
          "2025-03-09T01:00:00.000000000",
          "2025-03-09T02:00:00.000000000",
          "2025-03-09T03:00:00.000000000",
          "2025-03-09T04:00:00.000000000",
          "2025-03-09T05:00:00.000000000",
          "2025-03-09T06:00:00.000000000",
          "2025-03-09T07:00:00.000000000",
          "2025-03-09T08:00:00.000000000",
          "2025-03-09T09:00:00.000000000",
          "2025-03-09T10:00:00.000000000",
          "2025-03-09T11:00:00.000000000",
          "2025-03-09T12:00:00.000000000",
          "2025-03-09T13:00:00.000000000",
          "2025-03-09T14:00:00.000000000",
          "2025-03-09T15:00:00.000000000",
          "2025-03-09T16:00:00.000000000",
          "2025-03-09T17:00:00.000000000",
          "2025-03-09T18:00:00.000000000",
          "2025-03-09T19:00:00.000000000",
          "2025-03-09T20:00:00.000000000",
          "2025-03-09T21:00:00.000000000",
          "2025-03-09T22:00:00.000000000",
          "2025-03-09T23:00:00.000000000",
          "2025-03-10T00:00:00.000000000",
          "2025-03-10T01:00:00.000000000",
          "2025-03-10T02:00:00.000000000",
          "2025-03-10T03:00:00.000000000",
          "2025-03-10T04:00:00.000000000",
          "2025-03-10T05:00:00.000000000",
          "2025-03-10T06:00:00.000000000",
          "2025-03-10T07:00:00.000000000",
          "2025-03-10T08:00:00.000000000",
          "2025-03-10T09:00:00.000000000",
          "2025-03-10T10:00:00.000000000",
          "2025-03-10T11:00:00.000000000",
          "2025-03-10T12:00:00.000000000",
          "2025-03-10T13:00:00.000000000",
          "2025-03-10T14:00:00.000000000",
          "2025-03-10T15:00:00.000000000",
          "2025-03-10T16:00:00.000000000",
          "2025-03-10T17:00:00.000000000",
          "2025-03-10T18:00:00.000000000",
          "2025-03-10T19:00:00.000000000",
          "2025-03-10T20:00:00.000000000",
          "2025-03-10T21:00:00.000000000",
          "2025-03-10T22:00:00.000000000",
          "2025-03-10T23:00:00.000000000",
          "2025-03-11T00:00:00.000000000",
          "2025-03-11T01:00:00.000000000",
          "2025-03-11T02:00:00.000000000",
          "2025-03-11T03:00:00.000000000",
          "2025-03-11T04:00:00.000000000",
          "2025-03-11T05:00:00.000000000",
          "2025-03-11T06:00:00.000000000",
          "2025-03-11T07:00:00.000000000",
          "2025-03-11T08:00:00.000000000",
          "2025-03-11T09:00:00.000000000",
          "2025-03-11T10:00:00.000000000",
          "2025-03-11T11:00:00.000000000",
          "2025-03-11T12:00:00.000000000",
          "2025-03-11T13:00:00.000000000",
          "2025-03-11T14:00:00.000000000",
          "2025-03-11T15:00:00.000000000",
          "2025-03-11T16:00:00.000000000",
          "2025-03-11T17:00:00.000000000",
          "2025-03-11T18:00:00.000000000",
          "2025-03-11T19:00:00.000000000",
          "2025-03-11T20:00:00.000000000",
          "2025-03-11T21:00:00.000000000",
          "2025-03-11T22:00:00.000000000",
          "2025-03-11T23:00:00.000000000",
          "2025-03-12T00:00:00.000000000",
          "2025-03-12T01:00:00.000000000",
          "2025-03-12T02:00:00.000000000",
          "2025-03-12T03:00:00.000000000",
          "2025-03-12T04:00:00.000000000",
          "2025-03-12T05:00:00.000000000",
          "2025-03-12T06:00:00.000000000",
          "2025-03-12T07:00:00.000000000",
          "2025-03-12T08:00:00.000000000",
          "2025-03-12T09:00:00.000000000",
          "2025-03-12T10:00:00.000000000",
          "2025-03-12T11:00:00.000000000",
          "2025-03-12T12:00:00.000000000",
          "2025-03-12T13:00:00.000000000",
          "2025-03-12T14:00:00.000000000",
          "2025-03-12T15:00:00.000000000",
          "2025-03-12T16:00:00.000000000",
          "2025-03-12T17:00:00.000000000",
          "2025-03-12T18:00:00.000000000",
          "2025-03-12T19:00:00.000000000",
          "2025-03-12T20:00:00.000000000",
          "2025-03-12T21:00:00.000000000",
          "2025-03-12T22:00:00.000000000",
          "2025-03-12T23:00:00.000000000",
          "2025-03-13T00:00:00.000000000",
          "2025-03-13T01:00:00.000000000",
          "2025-03-13T02:00:00.000000000",
          "2025-03-13T03:00:00.000000000",
          "2025-03-13T04:00:00.000000000",
          "2025-03-13T05:00:00.000000000",
          "2025-03-13T06:00:00.000000000",
          "2025-03-13T07:00:00.000000000",
          "2025-03-13T08:00:00.000000000",
          "2025-03-13T09:00:00.000000000",
          "2025-03-13T10:00:00.000000000",
          "2025-03-13T11:00:00.000000000",
          "2025-03-13T12:00:00.000000000",
          "2025-03-13T13:00:00.000000000",
          "2025-03-13T14:00:00.000000000",
          "2025-03-13T15:00:00.000000000",
          "2025-03-13T16:00:00.000000000",
          "2025-03-13T17:00:00.000000000",
          "2025-03-13T18:00:00.000000000",
          "2025-03-13T19:00:00.000000000",
          "2025-03-13T20:00:00.000000000",
          "2025-03-13T21:00:00.000000000",
          "2025-03-13T22:00:00.000000000",
          "2025-03-13T23:00:00.000000000",
          "2025-03-14T00:00:00.000000000",
          "2025-03-14T01:00:00.000000000",
          "2025-03-14T02:00:00.000000000",
          "2025-03-14T03:00:00.000000000",
          "2025-03-14T04:00:00.000000000",
          "2025-03-14T05:00:00.000000000",
          "2025-03-14T06:00:00.000000000",
          "2025-03-14T07:00:00.000000000",
          "2025-03-14T08:00:00.000000000",
          "2025-03-14T09:00:00.000000000",
          "2025-03-14T10:00:00.000000000",
          "2025-03-14T11:00:00.000000000",
          "2025-03-14T12:00:00.000000000",
          "2025-03-14T13:00:00.000000000",
          "2025-03-14T14:00:00.000000000",
          "2025-03-14T15:00:00.000000000",
          "2025-03-14T16:00:00.000000000",
          "2025-03-14T17:00:00.000000000",
          "2025-03-14T18:00:00.000000000",
          "2025-03-14T19:00:00.000000000",
          "2025-03-14T20:00:00.000000000",
          "2025-03-14T21:00:00.000000000",
          "2025-03-14T22:00:00.000000000",
          "2025-03-14T23:00:00.000000000",
          "2025-03-15T00:00:00.000000000",
          "2025-03-15T01:00:00.000000000",
          "2025-03-15T02:00:00.000000000",
          "2025-03-15T03:00:00.000000000",
          "2025-03-15T04:00:00.000000000",
          "2025-03-15T05:00:00.000000000",
          "2025-03-15T06:00:00.000000000",
          "2025-03-15T07:00:00.000000000",
          "2025-03-15T08:00:00.000000000",
          "2025-03-15T09:00:00.000000000",
          "2025-03-15T10:00:00.000000000",
          "2025-03-15T11:00:00.000000000",
          "2025-03-15T12:00:00.000000000",
          "2025-03-15T13:00:00.000000000",
          "2025-03-15T14:00:00.000000000",
          "2025-03-15T15:00:00.000000000",
          "2025-03-15T16:00:00.000000000",
          "2025-03-15T17:00:00.000000000",
          "2025-03-15T18:00:00.000000000",
          "2025-03-15T19:00:00.000000000",
          "2025-03-15T20:00:00.000000000",
          "2025-03-15T21:00:00.000000000",
          "2025-03-15T22:00:00.000000000",
          "2025-03-15T23:00:00.000000000",
          "2025-03-16T00:00:00.000000000",
          "2025-03-16T01:00:00.000000000",
          "2025-03-16T02:00:00.000000000",
          "2025-03-16T03:00:00.000000000",
          "2025-03-16T04:00:00.000000000",
          "2025-03-16T05:00:00.000000000",
          "2025-03-16T06:00:00.000000000",
          "2025-03-16T07:00:00.000000000",
          "2025-03-16T08:00:00.000000000",
          "2025-03-16T09:00:00.000000000",
          "2025-03-16T10:00:00.000000000",
          "2025-03-16T11:00:00.000000000",
          "2025-03-16T12:00:00.000000000",
          "2025-03-16T13:00:00.000000000",
          "2025-03-16T14:00:00.000000000",
          "2025-03-16T15:00:00.000000000",
          "2025-03-16T16:00:00.000000000",
          "2025-03-16T17:00:00.000000000",
          "2025-03-16T18:00:00.000000000",
          "2025-03-16T19:00:00.000000000",
          "2025-03-16T20:00:00.000000000",
          "2025-03-16T21:00:00.000000000",
          "2025-03-16T22:00:00.000000000",
          "2025-03-16T23:00:00.000000000",
          "2025-03-17T00:00:00.000000000",
          "2025-03-17T01:00:00.000000000",
          "2025-03-17T02:00:00.000000000",
          "2025-03-17T03:00:00.000000000",
          "2025-03-17T04:00:00.000000000",
          "2025-03-17T05:00:00.000000000",
          "2025-03-17T06:00:00.000000000",
          "2025-03-17T07:00:00.000000000",
          "2025-03-17T08:00:00.000000000",
          "2025-03-17T09:00:00.000000000",
          "2025-03-17T10:00:00.000000000",
          "2025-03-17T11:00:00.000000000",
          "2025-03-17T12:00:00.000000000",
          "2025-03-17T13:00:00.000000000",
          "2025-03-17T14:00:00.000000000",
          "2025-03-17T15:00:00.000000000",
          "2025-03-17T16:00:00.000000000",
          "2025-03-17T17:00:00.000000000",
          "2025-03-17T18:00:00.000000000",
          "2025-03-17T19:00:00.000000000",
          "2025-03-17T20:00:00.000000000",
          "2025-03-17T21:00:00.000000000",
          "2025-03-17T22:00:00.000000000",
          "2025-03-17T23:00:00.000000000",
          "2025-03-18T00:00:00.000000000",
          "2025-03-18T01:00:00.000000000",
          "2025-03-18T02:00:00.000000000",
          "2025-03-18T03:00:00.000000000",
          "2025-03-18T04:00:00.000000000",
          "2025-03-18T05:00:00.000000000",
          "2025-03-18T06:00:00.000000000",
          "2025-03-18T07:00:00.000000000",
          "2025-03-18T08:00:00.000000000",
          "2025-03-18T09:00:00.000000000",
          "2025-03-18T10:00:00.000000000",
          "2025-03-18T11:00:00.000000000",
          "2025-03-18T12:00:00.000000000",
          "2025-03-18T13:00:00.000000000",
          "2025-03-18T14:00:00.000000000",
          "2025-03-18T15:00:00.000000000",
          "2025-03-18T16:00:00.000000000",
          "2025-03-18T17:00:00.000000000",
          "2025-03-18T18:00:00.000000000",
          "2025-03-18T19:00:00.000000000",
          "2025-03-18T20:00:00.000000000",
          "2025-03-18T21:00:00.000000000",
          "2025-03-18T22:00:00.000000000",
          "2025-03-18T23:00:00.000000000",
          "2025-03-19T00:00:00.000000000",
          "2025-03-19T01:00:00.000000000",
          "2025-03-19T02:00:00.000000000",
          "2025-03-19T03:00:00.000000000",
          "2025-03-19T04:00:00.000000000",
          "2025-03-19T05:00:00.000000000",
          "2025-03-19T06:00:00.000000000",
          "2025-03-19T07:00:00.000000000",
          "2025-03-19T08:00:00.000000000",
          "2025-03-19T09:00:00.000000000",
          "2025-03-19T10:00:00.000000000",
          "2025-03-19T11:00:00.000000000",
          "2025-03-19T12:00:00.000000000",
          "2025-03-19T13:00:00.000000000",
          "2025-03-19T14:00:00.000000000",
          "2025-03-19T15:00:00.000000000",
          "2025-03-19T16:00:00.000000000",
          "2025-03-19T17:00:00.000000000",
          "2025-03-19T18:00:00.000000000",
          "2025-03-19T19:00:00.000000000",
          "2025-03-19T20:00:00.000000000",
          "2025-03-19T21:00:00.000000000",
          "2025-03-19T22:00:00.000000000",
          "2025-03-19T23:00:00.000000000",
          "2025-03-20T00:00:00.000000000",
          "2025-03-20T01:00:00.000000000",
          "2025-03-20T02:00:00.000000000",
          "2025-03-20T03:00:00.000000000",
          "2025-03-20T04:00:00.000000000",
          "2025-03-20T05:00:00.000000000",
          "2025-03-20T06:00:00.000000000",
          "2025-03-20T07:00:00.000000000",
          "2025-03-20T08:00:00.000000000",
          "2025-03-20T09:00:00.000000000",
          "2025-03-20T10:00:00.000000000",
          "2025-03-20T11:00:00.000000000",
          "2025-03-20T12:00:00.000000000",
          "2025-03-20T13:00:00.000000000",
          "2025-03-20T14:00:00.000000000",
          "2025-03-20T15:00:00.000000000",
          "2025-03-20T16:00:00.000000000",
          "2025-03-20T17:00:00.000000000",
          "2025-03-20T18:00:00.000000000",
          "2025-03-20T19:00:00.000000000",
          "2025-03-20T20:00:00.000000000",
          "2025-03-20T21:00:00.000000000",
          "2025-03-20T22:00:00.000000000",
          "2025-03-20T23:00:00.000000000",
          "2025-03-21T00:00:00.000000000",
          "2025-03-21T01:00:00.000000000",
          "2025-03-21T02:00:00.000000000",
          "2025-03-21T03:00:00.000000000",
          "2025-03-21T04:00:00.000000000",
          "2025-03-21T05:00:00.000000000",
          "2025-03-21T06:00:00.000000000",
          "2025-03-21T07:00:00.000000000",
          "2025-03-21T08:00:00.000000000",
          "2025-03-21T09:00:00.000000000",
          "2025-03-21T10:00:00.000000000",
          "2025-03-21T11:00:00.000000000",
          "2025-03-21T12:00:00.000000000",
          "2025-03-21T13:00:00.000000000",
          "2025-03-21T14:00:00.000000000",
          "2025-03-21T15:00:00.000000000",
          "2025-03-21T16:00:00.000000000",
          "2025-03-21T17:00:00.000000000",
          "2025-03-21T18:00:00.000000000",
          "2025-03-21T19:00:00.000000000",
          "2025-03-21T20:00:00.000000000",
          "2025-03-21T21:00:00.000000000",
          "2025-03-21T22:00:00.000000000",
          "2025-03-21T23:00:00.000000000",
          "2025-03-22T00:00:00.000000000",
          "2025-03-22T01:00:00.000000000",
          "2025-03-22T02:00:00.000000000",
          "2025-03-22T03:00:00.000000000",
          "2025-03-22T04:00:00.000000000",
          "2025-03-22T05:00:00.000000000",
          "2025-03-22T06:00:00.000000000",
          "2025-03-22T07:00:00.000000000",
          "2025-03-22T08:00:00.000000000",
          "2025-03-22T09:00:00.000000000",
          "2025-03-22T10:00:00.000000000",
          "2025-03-22T11:00:00.000000000",
          "2025-03-22T12:00:00.000000000",
          "2025-03-22T13:00:00.000000000",
          "2025-03-22T14:00:00.000000000",
          "2025-03-22T15:00:00.000000000",
          "2025-03-22T16:00:00.000000000",
          "2025-03-22T17:00:00.000000000",
          "2025-03-22T18:00:00.000000000",
          "2025-03-22T19:00:00.000000000",
          "2025-03-22T20:00:00.000000000",
          "2025-03-22T21:00:00.000000000",
          "2025-03-22T22:00:00.000000000",
          "2025-03-22T23:00:00.000000000",
          "2025-03-23T00:00:00.000000000",
          "2025-03-23T01:00:00.000000000",
          "2025-03-23T02:00:00.000000000",
          "2025-03-23T03:00:00.000000000",
          "2025-03-23T04:00:00.000000000",
          "2025-03-23T05:00:00.000000000",
          "2025-03-23T06:00:00.000000000",
          "2025-03-23T07:00:00.000000000",
          "2025-03-23T08:00:00.000000000",
          "2025-03-23T09:00:00.000000000",
          "2025-03-23T10:00:00.000000000",
          "2025-03-23T11:00:00.000000000",
          "2025-03-23T12:00:00.000000000",
          "2025-03-23T13:00:00.000000000",
          "2025-03-23T14:00:00.000000000",
          "2025-03-23T15:00:00.000000000",
          "2025-03-23T16:00:00.000000000",
          "2025-03-23T17:00:00.000000000",
          "2025-03-23T18:00:00.000000000",
          "2025-03-23T19:00:00.000000000",
          "2025-03-23T20:00:00.000000000",
          "2025-03-23T21:00:00.000000000",
          "2025-03-23T22:00:00.000000000",
          "2025-03-23T23:00:00.000000000",
          "2025-03-24T00:00:00.000000000",
          "2025-03-24T01:00:00.000000000",
          "2025-03-24T02:00:00.000000000",
          "2025-03-24T03:00:00.000000000",
          "2025-03-24T04:00:00.000000000",
          "2025-03-24T05:00:00.000000000",
          "2025-03-24T06:00:00.000000000",
          "2025-03-24T07:00:00.000000000",
          "2025-03-24T08:00:00.000000000",
          "2025-03-24T09:00:00.000000000",
          "2025-03-24T10:00:00.000000000",
          "2025-03-24T11:00:00.000000000",
          "2025-03-24T12:00:00.000000000",
          "2025-03-24T13:00:00.000000000",
          "2025-03-24T14:00:00.000000000",
          "2025-03-24T15:00:00.000000000",
          "2025-03-24T16:00:00.000000000",
          "2025-03-24T17:00:00.000000000",
          "2025-03-24T18:00:00.000000000",
          "2025-03-24T19:00:00.000000000",
          "2025-03-24T20:00:00.000000000",
          "2025-03-24T21:00:00.000000000",
          "2025-03-24T22:00:00.000000000",
          "2025-03-24T23:00:00.000000000",
          "2025-03-25T00:00:00.000000000",
          "2025-03-25T01:00:00.000000000",
          "2025-03-25T02:00:00.000000000",
          "2025-03-25T03:00:00.000000000",
          "2025-03-25T04:00:00.000000000",
          "2025-03-25T05:00:00.000000000",
          "2025-03-25T06:00:00.000000000",
          "2025-03-25T07:00:00.000000000",
          "2025-03-25T08:00:00.000000000",
          "2025-03-25T09:00:00.000000000",
          "2025-03-25T10:00:00.000000000",
          "2025-03-25T11:00:00.000000000",
          "2025-03-25T12:00:00.000000000",
          "2025-03-25T13:00:00.000000000",
          "2025-03-25T14:00:00.000000000",
          "2025-03-25T15:00:00.000000000",
          "2025-03-25T16:00:00.000000000",
          "2025-03-25T17:00:00.000000000",
          "2025-03-25T18:00:00.000000000",
          "2025-03-25T19:00:00.000000000",
          "2025-03-25T20:00:00.000000000",
          "2025-03-25T21:00:00.000000000",
          "2025-03-25T22:00:00.000000000",
          "2025-03-25T23:00:00.000000000",
          "2025-03-26T00:00:00.000000000",
          "2025-03-26T01:00:00.000000000",
          "2025-03-26T02:00:00.000000000",
          "2025-03-26T03:00:00.000000000",
          "2025-03-26T04:00:00.000000000",
          "2025-03-26T05:00:00.000000000",
          "2025-03-26T06:00:00.000000000",
          "2025-03-26T07:00:00.000000000",
          "2025-03-26T08:00:00.000000000",
          "2025-03-26T09:00:00.000000000",
          "2025-03-26T10:00:00.000000000",
          "2025-03-26T11:00:00.000000000",
          "2025-03-26T12:00:00.000000000",
          "2025-03-26T13:00:00.000000000",
          "2025-03-26T14:00:00.000000000",
          "2025-03-26T15:00:00.000000000",
          "2025-03-26T16:00:00.000000000",
          "2025-03-26T17:00:00.000000000",
          "2025-03-26T18:00:00.000000000",
          "2025-03-26T19:00:00.000000000",
          "2025-03-26T20:00:00.000000000",
          "2025-03-26T21:00:00.000000000",
          "2025-03-26T22:00:00.000000000",
          "2025-03-26T23:00:00.000000000",
          "2025-03-27T00:00:00.000000000",
          "2025-03-27T01:00:00.000000000",
          "2025-03-27T02:00:00.000000000",
          "2025-03-27T03:00:00.000000000",
          "2025-03-27T04:00:00.000000000",
          "2025-03-27T05:00:00.000000000",
          "2025-03-27T06:00:00.000000000",
          "2025-03-27T07:00:00.000000000",
          "2025-03-27T08:00:00.000000000",
          "2025-03-27T09:00:00.000000000",
          "2025-03-27T10:00:00.000000000",
          "2025-03-27T11:00:00.000000000",
          "2025-03-27T12:00:00.000000000",
          "2025-03-27T13:00:00.000000000",
          "2025-03-27T14:00:00.000000000",
          "2025-03-27T15:00:00.000000000",
          "2025-03-27T16:00:00.000000000",
          "2025-03-27T17:00:00.000000000",
          "2025-03-27T18:00:00.000000000",
          "2025-03-27T19:00:00.000000000",
          "2025-03-27T20:00:00.000000000",
          "2025-03-27T21:00:00.000000000",
          "2025-03-27T22:00:00.000000000",
          "2025-03-27T23:00:00.000000000",
          "2025-03-28T00:00:00.000000000",
          "2025-03-28T01:00:00.000000000",
          "2025-03-28T02:00:00.000000000",
          "2025-03-28T03:00:00.000000000",
          "2025-03-28T04:00:00.000000000",
          "2025-03-28T05:00:00.000000000",
          "2025-03-28T06:00:00.000000000",
          "2025-03-28T07:00:00.000000000",
          "2025-03-28T08:00:00.000000000",
          "2025-03-28T09:00:00.000000000",
          "2025-03-28T10:00:00.000000000",
          "2025-03-28T11:00:00.000000000",
          "2025-03-28T12:00:00.000000000",
          "2025-03-28T13:00:00.000000000",
          "2025-03-28T14:00:00.000000000",
          "2025-03-28T15:00:00.000000000",
          "2025-03-28T16:00:00.000000000",
          "2025-03-28T17:00:00.000000000",
          "2025-03-28T18:00:00.000000000",
          "2025-03-28T19:00:00.000000000",
          "2025-03-28T20:00:00.000000000",
          "2025-03-28T21:00:00.000000000",
          "2025-03-28T22:00:00.000000000",
          "2025-03-28T23:00:00.000000000",
          "2025-03-29T00:00:00.000000000"
         ],
         "y": {
          "bdata": "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",
          "dtype": "f8"
         }
        }
       ],
       "layout": {
        "height": 600,
        "paper_bgcolor": "white",
        "plot_bgcolor": "white",
        "template": {
         "data": {
          "bar": [
           {
            "error_x": {
             "color": "#2a3f5f"
            },
            "error_y": {
             "color": "#2a3f5f"
            },
            "marker": {
             "line": {
              "color": "#E5ECF6",
              "width": 0.5
             },
             "pattern": {
              "fillmode": "overlay",
              "size": 10,
              "solidity": 0.2
             }
            },
            "type": "bar"
           }
          ],
          "barpolar": [
           {
            "marker": {
             "line": {
              "color": "#E5ECF6",
              "width": 0.5
             },
             "pattern": {
              "fillmode": "overlay",
              "size": 10,
              "solidity": 0.2
             }
            },
            "type": "barpolar"
           }
          ],
          "carpet": [
           {
            "aaxis": {
             "endlinecolor": "#2a3f5f",
             "gridcolor": "white",
             "linecolor": "white",
             "minorgridcolor": "white",
             "startlinecolor": "#2a3f5f"
            },
            "baxis": {
             "endlinecolor": "#2a3f5f",
             "gridcolor": "white",
             "linecolor": "white",
             "minorgridcolor": "white",
             "startlinecolor": "#2a3f5f"
            },
            "type": "carpet"
           }
          ],
          "choropleth": [
           {
            "colorbar": {
             "outlinewidth": 0,
             "ticks": ""
            },
            "type": "choropleth"
           }
          ],
          "contour": [
           {
            "colorbar": {
             "outlinewidth": 0,
             "ticks": ""
            },
            "colorscale": [
             [
              0,
              "#0d0887"
             ],
             [
              0.1111111111111111,
              "#46039f"
             ],
             [
              0.2222222222222222,
              "#7201a8"
             ],
             [
              0.3333333333333333,
              "#9c179e"
             ],
             [
              0.4444444444444444,
              "#bd3786"
             ],
             [
              0.5555555555555556,
              "#d8576b"
             ],
             [
              0.6666666666666666,
              "#ed7953"
             ],
             [
              0.7777777777777778,
              "#fb9f3a"
             ],
             [
              0.8888888888888888,
              "#fdca26"
             ],
             [
              1,
              "#f0f921"
             ]
            ],
            "type": "contour"
           }
          ],
          "contourcarpet": [
           {
            "colorbar": {
             "outlinewidth": 0,
             "ticks": ""
            },
            "type": "contourcarpet"
           }
          ],
          "heatmap": [
           {
            "colorbar": {
             "outlinewidth": 0,
             "ticks": ""
            },
            "colorscale": [
             [
              0,
              "#0d0887"
             ],
             [
              0.1111111111111111,
              "#46039f"
             ],
             [
              0.2222222222222222,
              "#7201a8"
             ],
             [
              0.3333333333333333,
              "#9c179e"
             ],
             [
              0.4444444444444444,
              "#bd3786"
             ],
             [
              0.5555555555555556,
              "#d8576b"
             ],
             [
              0.6666666666666666,
              "#ed7953"
             ],
             [
              0.7777777777777778,
              "#fb9f3a"
             ],
             [
              0.8888888888888888,
              "#fdca26"
             ],
             [
              1,
              "#f0f921"
             ]
            ],
            "type": "heatmap"
           }
          ],
          "histogram": [
           {
            "marker": {
             "pattern": {
              "fillmode": "overlay",
              "size": 10,
              "solidity": 0.2
             }
            },
            "type": "histogram"
           }
          ],
          "histogram2d": [
           {
            "colorbar": {
             "outlinewidth": 0,
             "ticks": ""
            },
            "colorscale": [
             [
              0,
              "#0d0887"
             ],
             [
              0.1111111111111111,
              "#46039f"
             ],
             [
              0.2222222222222222,
              "#7201a8"
             ],
             [
              0.3333333333333333,
              "#9c179e"
             ],
             [
              0.4444444444444444,
              "#bd3786"
             ],
             [
              0.5555555555555556,
              "#d8576b"
             ],
             [
              0.6666666666666666,
              "#ed7953"
             ],
             [
              0.7777777777777778,
              "#fb9f3a"
             ],
             [
              0.8888888888888888,
              "#fdca26"
             ],
             [
              1,
              "#f0f921"
             ]
            ],
            "type": "histogram2d"
           }
          ],
          "histogram2dcontour": [
           {
            "colorbar": {
             "outlinewidth": 0,
             "ticks": ""
            },
            "colorscale": [
             [
              0,
              "#0d0887"
             ],
             [
              0.1111111111111111,
              "#46039f"
             ],
             [
              0.2222222222222222,
              "#7201a8"
             ],
             [
              0.3333333333333333,
              "#9c179e"
             ],
             [
              0.4444444444444444,
              "#bd3786"
             ],
             [
              0.5555555555555556,
              "#d8576b"
             ],
             [
              0.6666666666666666,
              "#ed7953"
             ],
             [
              0.7777777777777778,
              "#fb9f3a"
             ],
             [
              0.8888888888888888,
              "#fdca26"
             ],
             [
              1,
              "#f0f921"
             ]
            ],
            "type": "histogram2dcontour"
           }
          ],
          "mesh3d": [
           {
            "colorbar": {
             "outlinewidth": 0,
             "ticks": ""
            },
            "type": "mesh3d"
           }
          ],
          "parcoords": [
           {
            "line": {
             "colorbar": {
              "outlinewidth": 0,
              "ticks": ""
             }
            },
            "type": "parcoords"
           }
          ],
          "pie": [
           {
            "automargin": true,
            "type": "pie"
           }
          ],
          "scatter": [
           {
            "fillpattern": {
             "fillmode": "overlay",
             "size": 10,
             "solidity": 0.2
            },
            "type": "scatter"
           }
          ],
          "scatter3d": [
           {
            "line": {
             "colorbar": {
              "outlinewidth": 0,
              "ticks": ""
             }
            },
            "marker": {
             "colorbar": {
              "outlinewidth": 0,
              "ticks": ""
             }
            },
            "type": "scatter3d"
           }
          ],
          "scattercarpet": [
           {
            "marker": {
             "colorbar": {
              "outlinewidth": 0,
              "ticks": ""
             }
            },
            "type": "scattercarpet"
           }
          ],
          "scattergeo": [
           {
            "marker": {
             "colorbar": {
              "outlinewidth": 0,
              "ticks": ""
             }
            },
            "type": "scattergeo"
           }
          ],
          "scattergl": [
           {
            "marker": {
             "colorbar": {
              "outlinewidth": 0,
              "ticks": ""
             }
            },
            "type": "scattergl"
           }
          ],
          "scattermap": [
           {
            "marker": {
             "colorbar": {
              "outlinewidth": 0,
              "ticks": ""
             }
            },
            "type": "scattermap"
           }
          ],
          "scattermapbox": [
           {
            "marker": {
             "colorbar": {
              "outlinewidth": 0,
              "ticks": ""
             }
            },
            "type": "scattermapbox"
           }
          ],
          "scatterpolar": [
           {
            "marker": {
             "colorbar": {
              "outlinewidth": 0,
              "ticks": ""
             }
            },
            "type": "scatterpolar"
           }
          ],
          "scatterpolargl": [
           {
            "marker": {
             "colorbar": {
              "outlinewidth": 0,
              "ticks": ""
             }
            },
            "type": "scatterpolargl"
           }
          ],
          "scatterternary": [
           {
            "marker": {
             "colorbar": {
              "outlinewidth": 0,
              "ticks": ""
             }
            },
            "type": "scatterternary"
           }
          ],
          "surface": [
           {
            "colorbar": {
             "outlinewidth": 0,
             "ticks": ""
            },
            "colorscale": [
             [
              0,
              "#0d0887"
             ],
             [
              0.1111111111111111,
              "#46039f"
             ],
             [
              0.2222222222222222,
              "#7201a8"
             ],
             [
              0.3333333333333333,
              "#9c179e"
             ],
             [
              0.4444444444444444,
              "#bd3786"
             ],
             [
              0.5555555555555556,
              "#d8576b"
             ],
             [
              0.6666666666666666,
              "#ed7953"
             ],
             [
              0.7777777777777778,
              "#fb9f3a"
             ],
             [
              0.8888888888888888,
              "#fdca26"
             ],
             [
              1,
              "#f0f921"
             ]
            ],
            "type": "surface"
           }
          ],
          "table": [
           {
            "cells": {
             "fill": {
              "color": "#EBF0F8"
             },
             "line": {
              "color": "white"
             }
            },
            "header": {
             "fill": {
              "color": "#C8D4E3"
             },
             "line": {
              "color": "white"
             }
            },
            "type": "table"
           }
          ]
         },
         "layout": {
          "annotationdefaults": {
           "arrowcolor": "#2a3f5f",
           "arrowhead": 0,
           "arrowwidth": 1
          },
          "autotypenumbers": "strict",
          "coloraxis": {
           "colorbar": {
            "outlinewidth": 0,
            "ticks": ""
           }
          },
          "colorscale": {
           "diverging": [
            [
             0,
             "#8e0152"
            ],
            [
             0.1,
             "#c51b7d"
            ],
            [
             0.2,
             "#de77ae"
            ],
            [
             0.3,
             "#f1b6da"
            ],
            [
             0.4,
             "#fde0ef"
            ],
            [
             0.5,
             "#f7f7f7"
            ],
            [
             0.6,
             "#e6f5d0"
            ],
            [
             0.7,
             "#b8e186"
            ],
            [
             0.8,
             "#7fbc41"
            ],
            [
             0.9,
             "#4d9221"
            ],
            [
             1,
             "#276419"
            ]
           ],
           "sequential": [
            [
             0,
             "#0d0887"
            ],
            [
             0.1111111111111111,
             "#46039f"
            ],
            [
             0.2222222222222222,
             "#7201a8"
            ],
            [
             0.3333333333333333,
             "#9c179e"
            ],
            [
             0.4444444444444444,
             "#bd3786"
            ],
            [
             0.5555555555555556,
             "#d8576b"
            ],
            [
             0.6666666666666666,
             "#ed7953"
            ],
            [
             0.7777777777777778,
             "#fb9f3a"
            ],
            [
             0.8888888888888888,
             "#fdca26"
            ],
            [
             1,
             "#f0f921"
            ]
           ],
           "sequentialminus": [
            [
             0,
             "#0d0887"
            ],
            [
             0.1111111111111111,
             "#46039f"
            ],
            [
             0.2222222222222222,
             "#7201a8"
            ],
            [
             0.3333333333333333,
             "#9c179e"
            ],
            [
             0.4444444444444444,
             "#bd3786"
            ],
            [
             0.5555555555555556,
             "#d8576b"
            ],
            [
             0.6666666666666666,
             "#ed7953"
            ],
            [
             0.7777777777777778,
             "#fb9f3a"
            ],
            [
             0.8888888888888888,
             "#fdca26"
            ],
            [
             1,
             "#f0f921"
            ]
           ]
          },
          "colorway": [
           "#636efa",
           "#EF553B",
           "#00cc96",
           "#ab63fa",
           "#FFA15A",
           "#19d3f3",
           "#FF6692",
           "#B6E880",
           "#FF97FF",
           "#FECB52"
          ],
          "font": {
           "color": "#2a3f5f"
          },
          "geo": {
           "bgcolor": "white",
           "lakecolor": "white",
           "landcolor": "#E5ECF6",
           "showlakes": true,
           "showland": true,
           "subunitcolor": "white"
          },
          "hoverlabel": {
           "align": "left"
          },
          "hovermode": "closest",
          "mapbox": {
           "style": "light"
          },
          "paper_bgcolor": "white",
          "plot_bgcolor": "#E5ECF6",
          "polar": {
           "angularaxis": {
            "gridcolor": "white",
            "linecolor": "white",
            "ticks": ""
           },
           "bgcolor": "#E5ECF6",
           "radialaxis": {
            "gridcolor": "white",
            "linecolor": "white",
            "ticks": ""
           }
          },
          "scene": {
           "xaxis": {
            "backgroundcolor": "#E5ECF6",
            "gridcolor": "white",
            "gridwidth": 2,
            "linecolor": "white",
            "showbackground": true,
            "ticks": "",
            "zerolinecolor": "white"
           },
           "yaxis": {
            "backgroundcolor": "#E5ECF6",
            "gridcolor": "white",
            "gridwidth": 2,
            "linecolor": "white",
            "showbackground": true,
            "ticks": "",
            "zerolinecolor": "white"
           },
           "zaxis": {
            "backgroundcolor": "#E5ECF6",
            "gridcolor": "white",
            "gridwidth": 2,
            "linecolor": "white",
            "showbackground": true,
            "ticks": "",
            "zerolinecolor": "white"
           }
          },
          "shapedefaults": {
           "line": {
            "color": "#2a3f5f"
           }
          },
          "ternary": {
           "aaxis": {
            "gridcolor": "white",
            "linecolor": "white",
            "ticks": ""
           },
           "baxis": {
            "gridcolor": "white",
            "linecolor": "white",
            "ticks": ""
           },
           "bgcolor": "#E5ECF6",
           "caxis": {
            "gridcolor": "white",
            "linecolor": "white",
            "ticks": ""
           }
          },
          "title": {
           "x": 0.05
          },
          "xaxis": {
           "automargin": true,
           "gridcolor": "white",
           "linecolor": "white",
           "ticks": "",
           "title": {
            "standoff": 15
           },
           "zerolinecolor": "white",
           "zerolinewidth": 2
          },
          "yaxis": {
           "automargin": true,
           "gridcolor": "white",
           "linecolor": "white",
           "ticks": "",
           "title": {
            "standoff": 15
           },
           "zerolinecolor": "white",
           "zerolinewidth": 2
          }
         }
        },
        "title": {
         "text": "⚡ Naive Model: Voorspelling vs Realiteit (1-Day-Ahead)"
        },
        "width": 1200,
        "xaxis": {
         "gridcolor": "lightgray",
         "showgrid": true,
         "title": {
          "text": "Datum & Uur"
         }
        },
        "yaxis": {
         "gridcolor": "lightgray",
         "showgrid": true,
         "title": {
          "text": "Prijs (EUR/kWh)"
         }
        }
       }
      }
     },
     "metadata": {},
     "output_type": "display_data"
    },
    {
     "data": {
      "application/vnd.plotly.v1+json": {
       "config": {
        "plotlyServerURL": "https://plot.ly"
       },
       "data": [
        {
         "cells": {
          "align": [
           "center",
           "right",
           "right",
           "right",
           "right",
           "right",
           "right",
           "right",
           "right",
           "right"
          ],
          "fill": {
           "color": "#F5F5F5"
          },
          "font": {
           "size": 11
          },
          "values": [
           [
            "00:00",
            "01:00",
            "02:00",
            "03:00",
            "04:00",
            "05:00",
            "06:00",
            "07:00",
            "08:00",
            "09:00",
            "10:00",
            "11:00",
            "12:00",
            "13:00",
            "14:00",
            "15:00",
            "16:00",
            "17:00",
            "18:00",
            "19:00",
            "20:00",
            "21:00",
            "22:00",
            "23:00"
           ],
           [
            "€0.0974",
            "€0.0929",
            "€0.0910",
            "€0.0891",
            "€0.0898",
            "€0.0971",
            "€0.1166",
            "€0.1317",
            "€0.1209",
            "€0.0936",
            "€0.0694",
            "€0.0495",
            "€0.0405",
            "€0.0391",
            "€0.0494",
            "€0.0726",
            "€0.0989",
            "€0.1318",
            "€0.1623",
            "€0.1582",
            "€0.1346",
            "€0.1167",
            "€0.1101",
            "€0.1021"
           ],
           [
            "0.0317",
            "0.0293",
            "0.0294",
            "0.0301",
            "0.0301",
            "0.0318",
            "0.0370",
            "0.0385",
            "0.0365",
            "0.0365",
            "0.0381",
            "0.0355",
            "0.0354",
            "0.0360",
            "0.0395",
            "0.0312",
            "0.0252",
            "0.0229",
            "0.0398",
            "0.0366",
            "0.0239",
            "0.0232",
            "0.0231",
            "0.0236"
           ],
           [
            "0.0321",
            "0.0303",
            "0.0297",
            "0.0302",
            "0.0302",
            "0.0337",
            "0.0412",
            "0.0482",
            "0.0478",
            "0.0475",
            "0.0497",
            "0.0494",
            "0.0512",
            "0.0507",
            "0.0505",
            "0.0431",
            "0.0334",
            "0.0221",
            "0.0454",
            "0.0394",
            "0.0303",
            "0.0278",
            "0.0272",
            "0.0262"
           ],
           [
            "0.0306",
            "0.0310",
            "0.0311",
            "0.0327",
            "0.0331",
            "0.0342",
            "0.0448",
            "0.0498",
            "0.0502",
            "0.0496",
            "0.0512",
            "0.0568",
            "0.0604",
            "0.0593",
            "0.0534",
            "0.0443",
            "0.0305",
            "0.0233",
            "0.0471",
            "0.0418",
            "0.0325",
            "0.0284",
            "0.0278",
            "0.0275"
           ],
           [
            "0.0328",
            "0.0339",
            "0.0338",
            "0.0345",
            "0.0351",
            "0.0356",
            "0.0421",
            "0.0488",
            "0.0527",
            "0.0530",
            "0.0587",
            "0.0660",
            "0.0683",
            "0.0655",
            "0.0598",
            "0.0467",
            "0.0310",
            "0.0265",
            "0.0463",
            "0.0426",
            "0.0320",
            "0.0280",
            "0.0271",
            "0.0262"
           ],
           [
            "0.0376",
            "0.0369",
            "0.0357",
            "0.0348",
            "0.0346",
            "0.0367",
            "0.0430",
            "0.0501",
            "0.0524",
            "0.0551",
            "0.0631",
            "0.0706",
            "0.0726",
            "0.0702",
            "0.0659",
            "0.0482",
            "0.0323",
            "0.0261",
            "0.0443",
            "0.0393",
            "0.0307",
            "0.0283",
            "0.0277",
            "0.0266"
           ],
           [
            "0.0368",
            "0.0360",
            "0.0344",
            "0.0341",
            "0.0345",
            "0.0351",
            "0.0375",
            "0.0396",
            "0.0457",
            "0.0505",
            "0.0618",
            "0.0732",
            "0.0763",
            "0.0729",
            "0.0645",
            "0.0445",
            "0.0278",
            "0.0238",
            "0.0419",
            "0.0347",
            "0.0265",
            "0.0253",
            "0.0263",
            "0.0265"
           ],
           [
            "0.0390",
            "0.0354",
            "0.0341",
            "0.0346",
            "0.0355",
            "0.0358",
            "0.0333",
            "0.0333",
            "0.0393",
            "0.0483",
            "0.0605",
            "0.0724",
            "0.0765",
            "0.0722",
            "0.0597",
            "0.0413",
            "0.0272",
            "0.0264",
            "0.0432",
            "0.0342",
            "0.0284",
            "0.0271",
            "0.0283",
            "0.0287"
           ],
           [
            "0.0344",
            "0.0333",
            "0.0326",
            "0.0330",
            "0.0333",
            "0.0347",
            "0.0398",
            "0.0440",
            "0.0464",
            "0.0486",
            "0.0547",
            "0.0606",
            "0.0630",
            "0.0610",
            "0.0562",
            "0.0428",
            "0.0296",
            "0.0245",
            "0.0440",
            "0.0384",
            "0.0292",
            "0.0269",
            "0.0268",
            "0.0265"
           ]
          ]
         },
         "header": {
          "align": "center",
          "fill": {
           "color": "#B3E5FC"
          },
          "font": {
           "color": "black",
           "size": 12
          },
          "values": [
           "Hour",
           "actual_price_kwh",
           "RMSE_day1",
           "RMSE_day2",
           "RMSE_day3",
           "RMSE_day4",
           "RMSE_day5",
           "RMSE_day6",
           "RMSE_day7",
           "RMSE_total"
          ]
         },
         "type": "table"
        }
       ],
       "layout": {
        "height": 600,
        "margin": {
         "b": 20,
         "l": 20,
         "r": 20,
         "t": 60
        },
        "template": {
         "data": {
          "bar": [
           {
            "error_x": {
             "color": "#2a3f5f"
            },
            "error_y": {
             "color": "#2a3f5f"
            },
            "marker": {
             "line": {
              "color": "#E5ECF6",
              "width": 0.5
             },
             "pattern": {
              "fillmode": "overlay",
              "size": 10,
              "solidity": 0.2
             }
            },
            "type": "bar"
           }
          ],
          "barpolar": [
           {
            "marker": {
             "line": {
              "color": "#E5ECF6",
              "width": 0.5
             },
             "pattern": {
              "fillmode": "overlay",
              "size": 10,
              "solidity": 0.2
             }
            },
            "type": "barpolar"
           }
          ],
          "carpet": [
           {
            "aaxis": {
             "endlinecolor": "#2a3f5f",
             "gridcolor": "white",
             "linecolor": "white",
             "minorgridcolor": "white",
             "startlinecolor": "#2a3f5f"
            },
            "baxis": {
             "endlinecolor": "#2a3f5f",
             "gridcolor": "white",
             "linecolor": "white",
             "minorgridcolor": "white",
             "startlinecolor": "#2a3f5f"
            },
            "type": "carpet"
           }
          ],
          "choropleth": [
           {
            "colorbar": {
             "outlinewidth": 0,
             "ticks": ""
            },
            "type": "choropleth"
           }
          ],
          "contour": [
           {
            "colorbar": {
             "outlinewidth": 0,
             "ticks": ""
            },
            "colorscale": [
             [
              0,
              "#0d0887"
             ],
             [
              0.1111111111111111,
              "#46039f"
             ],
             [
              0.2222222222222222,
              "#7201a8"
             ],
             [
              0.3333333333333333,
              "#9c179e"
             ],
             [
              0.4444444444444444,
              "#bd3786"
             ],
             [
              0.5555555555555556,
              "#d8576b"
             ],
             [
              0.6666666666666666,
              "#ed7953"
             ],
             [
              0.7777777777777778,
              "#fb9f3a"
             ],
             [
              0.8888888888888888,
              "#fdca26"
             ],
             [
              1,
              "#f0f921"
             ]
            ],
            "type": "contour"
           }
          ],
          "contourcarpet": [
           {
            "colorbar": {
             "outlinewidth": 0,
             "ticks": ""
            },
            "type": "contourcarpet"
           }
          ],
          "heatmap": [
           {
            "colorbar": {
             "outlinewidth": 0,
             "ticks": ""
            },
            "colorscale": [
             [
              0,
              "#0d0887"
             ],
             [
              0.1111111111111111,
              "#46039f"
             ],
             [
              0.2222222222222222,
              "#7201a8"
             ],
             [
              0.3333333333333333,
              "#9c179e"
             ],
             [
              0.4444444444444444,
              "#bd3786"
             ],
             [
              0.5555555555555556,
              "#d8576b"
             ],
             [
              0.6666666666666666,
              "#ed7953"
             ],
             [
              0.7777777777777778,
              "#fb9f3a"
             ],
             [
              0.8888888888888888,
              "#fdca26"
             ],
             [
              1,
              "#f0f921"
             ]
            ],
            "type": "heatmap"
           }
          ],
          "histogram": [
           {
            "marker": {
             "pattern": {
              "fillmode": "overlay",
              "size": 10,
              "solidity": 0.2
             }
            },
            "type": "histogram"
           }
          ],
          "histogram2d": [
           {
            "colorbar": {
             "outlinewidth": 0,
             "ticks": ""
            },
            "colorscale": [
             [
              0,
              "#0d0887"
             ],
             [
              0.1111111111111111,
              "#46039f"
             ],
             [
              0.2222222222222222,
              "#7201a8"
             ],
             [
              0.3333333333333333,
              "#9c179e"
             ],
             [
              0.4444444444444444,
              "#bd3786"
             ],
             [
              0.5555555555555556,
              "#d8576b"
             ],
             [
              0.6666666666666666,
              "#ed7953"
             ],
             [
              0.7777777777777778,
              "#fb9f3a"
             ],
             [
              0.8888888888888888,
              "#fdca26"
             ],
             [
              1,
              "#f0f921"
             ]
            ],
            "type": "histogram2d"
           }
          ],
          "histogram2dcontour": [
           {
            "colorbar": {
             "outlinewidth": 0,
             "ticks": ""
            },
            "colorscale": [
             [
              0,
              "#0d0887"
             ],
             [
              0.1111111111111111,
              "#46039f"
             ],
             [
              0.2222222222222222,
              "#7201a8"
             ],
             [
              0.3333333333333333,
              "#9c179e"
             ],
             [
              0.4444444444444444,
              "#bd3786"
             ],
             [
              0.5555555555555556,
              "#d8576b"
             ],
             [
              0.6666666666666666,
              "#ed7953"
             ],
             [
              0.7777777777777778,
              "#fb9f3a"
             ],
             [
              0.8888888888888888,
              "#fdca26"
             ],
             [
              1,
              "#f0f921"
             ]
            ],
            "type": "histogram2dcontour"
           }
          ],
          "mesh3d": [
           {
            "colorbar": {
             "outlinewidth": 0,
             "ticks": ""
            },
            "type": "mesh3d"
           }
          ],
          "parcoords": [
           {
            "line": {
             "colorbar": {
              "outlinewidth": 0,
              "ticks": ""
             }
            },
            "type": "parcoords"
           }
          ],
          "pie": [
           {
            "automargin": true,
            "type": "pie"
           }
          ],
          "scatter": [
           {
            "fillpattern": {
             "fillmode": "overlay",
             "size": 10,
             "solidity": 0.2
            },
            "type": "scatter"
           }
          ],
          "scatter3d": [
           {
            "line": {
             "colorbar": {
              "outlinewidth": 0,
              "ticks": ""
             }
            },
            "marker": {
             "colorbar": {
              "outlinewidth": 0,
              "ticks": ""
             }
            },
            "type": "scatter3d"
           }
          ],
          "scattercarpet": [
           {
            "marker": {
             "colorbar": {
              "outlinewidth": 0,
              "ticks": ""
             }
            },
            "type": "scattercarpet"
           }
          ],
          "scattergeo": [
           {
            "marker": {
             "colorbar": {
              "outlinewidth": 0,
              "ticks": ""
             }
            },
            "type": "scattergeo"
           }
          ],
          "scattergl": [
           {
            "marker": {
             "colorbar": {
              "outlinewidth": 0,
              "ticks": ""
             }
            },
            "type": "scattergl"
           }
          ],
          "scattermap": [
           {
            "marker": {
             "colorbar": {
              "outlinewidth": 0,
              "ticks": ""
             }
            },
            "type": "scattermap"
           }
          ],
          "scattermapbox": [
           {
            "marker": {
             "colorbar": {
              "outlinewidth": 0,
              "ticks": ""
             }
            },
            "type": "scattermapbox"
           }
          ],
          "scatterpolar": [
           {
            "marker": {
             "colorbar": {
              "outlinewidth": 0,
              "ticks": ""
             }
            },
            "type": "scatterpolar"
           }
          ],
          "scatterpolargl": [
           {
            "marker": {
             "colorbar": {
              "outlinewidth": 0,
              "ticks": ""
             }
            },
            "type": "scatterpolargl"
           }
          ],
          "scatterternary": [
           {
            "marker": {
             "colorbar": {
              "outlinewidth": 0,
              "ticks": ""
             }
            },
            "type": "scatterternary"
           }
          ],
          "surface": [
           {
            "colorbar": {
             "outlinewidth": 0,
             "ticks": ""
            },
            "colorscale": [
             [
              0,
              "#0d0887"
             ],
             [
              0.1111111111111111,
              "#46039f"
             ],
             [
              0.2222222222222222,
              "#7201a8"
             ],
             [
              0.3333333333333333,
              "#9c179e"
             ],
             [
              0.4444444444444444,
              "#bd3786"
             ],
             [
              0.5555555555555556,
              "#d8576b"
             ],
             [
              0.6666666666666666,
              "#ed7953"
             ],
             [
              0.7777777777777778,
              "#fb9f3a"
             ],
             [
              0.8888888888888888,
              "#fdca26"
             ],
             [
              1,
              "#f0f921"
             ]
            ],
            "type": "surface"
           }
          ],
          "table": [
           {
            "cells": {
             "fill": {
              "color": "#EBF0F8"
             },
             "line": {
              "color": "white"
             }
            },
            "header": {
             "fill": {
              "color": "#C8D4E3"
             },
             "line": {
              "color": "white"
             }
            },
            "type": "table"
           }
          ]
         },
         "layout": {
          "annotationdefaults": {
           "arrowcolor": "#2a3f5f",
           "arrowhead": 0,
           "arrowwidth": 1
          },
          "autotypenumbers": "strict",
          "coloraxis": {
           "colorbar": {
            "outlinewidth": 0,
            "ticks": ""
           }
          },
          "colorscale": {
           "diverging": [
            [
             0,
             "#8e0152"
            ],
            [
             0.1,
             "#c51b7d"
            ],
            [
             0.2,
             "#de77ae"
            ],
            [
             0.3,
             "#f1b6da"
            ],
            [
             0.4,
             "#fde0ef"
            ],
            [
             0.5,
             "#f7f7f7"
            ],
            [
             0.6,
             "#e6f5d0"
            ],
            [
             0.7,
             "#b8e186"
            ],
            [
             0.8,
             "#7fbc41"
            ],
            [
             0.9,
             "#4d9221"
            ],
            [
             1,
             "#276419"
            ]
           ],
           "sequential": [
            [
             0,
             "#0d0887"
            ],
            [
             0.1111111111111111,
             "#46039f"
            ],
            [
             0.2222222222222222,
             "#7201a8"
            ],
            [
             0.3333333333333333,
             "#9c179e"
            ],
            [
             0.4444444444444444,
             "#bd3786"
            ],
            [
             0.5555555555555556,
             "#d8576b"
            ],
            [
             0.6666666666666666,
             "#ed7953"
            ],
            [
             0.7777777777777778,
             "#fb9f3a"
            ],
            [
             0.8888888888888888,
             "#fdca26"
            ],
            [
             1,
             "#f0f921"
            ]
           ],
           "sequentialminus": [
            [
             0,
             "#0d0887"
            ],
            [
             0.1111111111111111,
             "#46039f"
            ],
            [
             0.2222222222222222,
             "#7201a8"
            ],
            [
             0.3333333333333333,
             "#9c179e"
            ],
            [
             0.4444444444444444,
             "#bd3786"
            ],
            [
             0.5555555555555556,
             "#d8576b"
            ],
            [
             0.6666666666666666,
             "#ed7953"
            ],
            [
             0.7777777777777778,
             "#fb9f3a"
            ],
            [
             0.8888888888888888,
             "#fdca26"
            ],
            [
             1,
             "#f0f921"
            ]
           ]
          },
          "colorway": [
           "#636efa",
           "#EF553B",
           "#00cc96",
           "#ab63fa",
           "#FFA15A",
           "#19d3f3",
           "#FF6692",
           "#B6E880",
           "#FF97FF",
           "#FECB52"
          ],
          "font": {
           "color": "#2a3f5f"
          },
          "geo": {
           "bgcolor": "white",
           "lakecolor": "white",
           "landcolor": "#E5ECF6",
           "showlakes": true,
           "showland": true,
           "subunitcolor": "white"
          },
          "hoverlabel": {
           "align": "left"
          },
          "hovermode": "closest",
          "mapbox": {
           "style": "light"
          },
          "paper_bgcolor": "white",
          "plot_bgcolor": "#E5ECF6",
          "polar": {
           "angularaxis": {
            "gridcolor": "white",
            "linecolor": "white",
            "ticks": ""
           },
           "bgcolor": "#E5ECF6",
           "radialaxis": {
            "gridcolor": "white",
            "linecolor": "white",
            "ticks": ""
           }
          },
          "scene": {
           "xaxis": {
            "backgroundcolor": "#E5ECF6",
            "gridcolor": "white",
            "gridwidth": 2,
            "linecolor": "white",
            "showbackground": true,
            "ticks": "",
            "zerolinecolor": "white"
           },
           "yaxis": {
            "backgroundcolor": "#E5ECF6",
            "gridcolor": "white",
            "gridwidth": 2,
            "linecolor": "white",
            "showbackground": true,
            "ticks": "",
            "zerolinecolor": "white"
           },
           "zaxis": {
            "backgroundcolor": "#E5ECF6",
            "gridcolor": "white",
            "gridwidth": 2,
            "linecolor": "white",
            "showbackground": true,
            "ticks": "",
            "zerolinecolor": "white"
           }
          },
          "shapedefaults": {
           "line": {
            "color": "#2a3f5f"
           }
          },
          "ternary": {
           "aaxis": {
            "gridcolor": "white",
            "linecolor": "white",
            "ticks": ""
           },
           "baxis": {
            "gridcolor": "white",
            "linecolor": "white",
            "ticks": ""
           },
           "bgcolor": "#E5ECF6",
           "caxis": {
            "gridcolor": "white",
            "linecolor": "white",
            "ticks": ""
           }
          },
          "title": {
           "x": 0.05
          },
          "xaxis": {
           "automargin": true,
           "gridcolor": "white",
           "linecolor": "white",
           "ticks": "",
           "title": {
            "standoff": 15
           },
           "zerolinecolor": "white",
           "zerolinewidth": 2
          },
          "yaxis": {
           "automargin": true,
           "gridcolor": "white",
           "linecolor": "white",
           "ticks": "",
           "title": {
            "standoff": 15
           },
           "zerolinecolor": "white",
           "zerolinewidth": 2
          }
         }
        },
        "title": {
         "text": "Naive Model: Hourly Electricity Price Forecast Evaluation"
        },
        "width": 1000
       }
      }
     },
     "metadata": {},
     "output_type": "display_data"
    },
    {
     "data": {
      "application/vnd.plotly.v1+json": {
       "config": {
        "plotlyServerURL": "https://plot.ly"
       },
       "data": [
        {
         "cells": {
          "align": [
           "center",
           "right",
           "right",
           "right",
           "right",
           "right",
           "right",
           "right",
           "right",
           "right"
          ],
          "fill": {
           "color": "#F5F5F5"
          },
          "font": {
           "size": 11
          },
          "values": [
           [
            "24-02-2025",
            "25-02-2025",
            "26-02-2025",
            "27-02-2025",
            "28-02-2025",
            "01-03-2025",
            "02-03-2025",
            "03-03-2025",
            "04-03-2025",
            "05-03-2025",
            "06-03-2025",
            "07-03-2025",
            "08-03-2025",
            "09-03-2025",
            "10-03-2025",
            "11-03-2025",
            "12-03-2025",
            "13-03-2025",
            "14-03-2025",
            "15-03-2025",
            "16-03-2025",
            "17-03-2025",
            "18-03-2025",
            "19-03-2025",
            "20-03-2025",
            "21-03-2025",
            "22-03-2025",
            "23-03-2025",
            "24-03-2025",
            "25-03-2025",
            "26-03-2025",
            "27-03-2025",
            "28-03-2025",
            "29-03-2025"
           ],
           [
            "€0.0786",
            "€0.1338",
            "€0.1230",
            "€0.1179",
            "€0.1221",
            "€0.1193",
            "€0.0904",
            "€0.1055",
            "€0.1057",
            "€0.0794",
            "€0.0847",
            "€0.0945",
            "€0.0804",
            "€0.0728",
            "€0.1073",
            "€0.1158",
            "€0.1187",
            "€0.1214",
            "€0.1183",
            "€0.0921",
            "€0.0699",
            "€0.0950",
            "€0.0849",
            "€0.0977",
            "€0.0988",
            "€0.0646",
            "€0.0399",
            "€0.0803",
            "€0.1247",
            "€0.1085",
            "€0.1126",
            "€0.0954",
            "€0.0842",
            "€0.1043"
           ],
           [
            "0.0500",
            "0.0610",
            "0.0265",
            "0.0117",
            "0.0098",
            "0.0102",
            "0.0397",
            "0.0288",
            "0.0114",
            "0.0341",
            "0.0183",
            "0.0170",
            "0.0253",
            "0.0206",
            "0.0498",
            "0.0169",
            "0.0093",
            "0.0081",
            "0.0106",
            "0.0316",
            "0.0301",
            "0.0300",
            "0.0168",
            "0.0209",
            "0.0091",
            "0.0576",
            "0.0674",
            "0.0516",
            "0.0560",
            "0.0191",
            "0.0080",
            "0.0300",
            "0.0185",
            "0.0191"
           ],
           [
            "0.0234",
            "0.0586",
            "0.0606",
            "0.0242",
            "0.0094",
            "0.0125",
            "0.0435",
            "0.0393",
            "0.0273",
            "0.0313",
            "0.0240",
            "0.0259",
            "0.0161",
            "0.0320",
            "0.0407",
            "0.0588",
            "0.0153",
            "0.0111",
            "0.0140",
            "0.0341",
            "0.0586",
            "0.0259",
            "0.0205",
            "0.0232",
            "0.0265",
            "0.0544",
            "0.0689",
            "0.0435",
            "0.0931",
            "0.0399",
            "0.0156",
            "0.0227",
            "0.0423",
            "0.0004"
           ],
           [
            "0.0438",
            "0.0545",
            "0.0430",
            "0.0538",
            "0.0235",
            "0.0122",
            "0.0446",
            "0.0392",
            "0.0352",
            "0.0283",
            "0.0246",
            "0.0194",
            "0.0188",
            "0.0263",
            "0.0272",
            "0.0512",
            "0.0600",
            "0.0180",
            "0.0147",
            "0.0319",
            "0.0604",
            "0.0394",
            "0.0313",
            "0.0367",
            "0.0262",
            "0.0390",
            "0.0692",
            "0.0344",
            "0.0716",
            "0.0787",
            "0.0460",
            "0.0377",
            "0.0352",
            "0.0033"
           ],
           [
            "0.0420",
            "0.0555",
            "0.0505",
            "0.0393",
            "0.0564",
            "0.0298",
            "0.0433",
            "0.0410",
            "0.0357",
            "0.0575",
            "0.0234",
            "0.0179",
            "0.0320",
            "0.0228",
            "0.0340",
            "0.0353",
            "0.0522",
            "0.0634",
            "0.0158",
            "0.0295",
            "0.0571",
            "0.0398",
            "0.0511",
            "0.0407",
            "0.0392",
            "0.0433",
            "0.0602",
            "0.0310",
            "0.0464",
            "0.0557",
            "0.0829",
            "0.0259",
            "0.0502",
            "0.0037"
           ],
           [
            "0.0507",
            "0.0436",
            "0.0406",
            "0.0447",
            "0.0429",
            "0.0577",
            "0.0610",
            "0.0376",
            "0.0365",
            "0.0589",
            "0.0477",
            "0.0212",
            "0.0331",
            "0.0435",
            "0.0442",
            "0.0458",
            "0.0353",
            "0.0553",
            "0.0618",
            "0.0230",
            "0.0553",
            "0.0376",
            "0.0522",
            "0.0521",
            "0.0418",
            "0.0327",
            "0.0688",
            "0.0185",
            "0.0469",
            "0.0394",
            "0.0614",
            "0.0679",
            "0.0165",
            "0.0042"
           ],
           [
            "0.0681",
            "0.0334",
            "0.0289",
            "0.0352",
            "0.0459",
            "0.0392",
            "0.0571",
            "0.0513",
            "0.0326",
            "0.0590",
            "0.0492",
            "0.0397",
            "0.0217",
            "0.0408",
            "0.0274",
            "0.0548",
            "0.0460",
            "0.0393",
            "0.0521",
            "0.0349",
            "0.0464",
            "0.0381",
            "0.0492",
            "0.0507",
            "0.0528",
            "0.0426",
            "0.0458",
            "0.0278",
            "0.0519",
            "0.0386",
            "0.0453",
            "0.0434",
            "0.0565",
            "0.0133"
           ],
           [
            "0.0826",
            "0.0238",
            "0.0163",
            "0.0230",
            "0.0402",
            "0.0447",
            "0.0244",
            "0.0633",
            "0.0490",
            "0.0587",
            "0.0484",
            "0.0402",
            "0.0515",
            "0.0271",
            "0.0301",
            "0.0350",
            "0.0554",
            "0.0488",
            "0.0399",
            "0.0287",
            "0.0136",
            "0.0280",
            "0.0493",
            "0.0462",
            "0.0507",
            "0.0641",
            "0.0652",
            "0.0177",
            "0.0397",
            "0.0372",
            "0.0449",
            "0.0277",
            "0.0430",
            "0.0774"
           ],
           [
            "0.0515",
            "0.0472",
            "0.0380",
            "0.0331",
            "0.0326",
            "0.0295",
            "0.0448",
            "0.0429",
            "0.0325",
            "0.0468",
            "0.0336",
            "0.0259",
            "0.0284",
            "0.0304",
            "0.0362",
            "0.0425",
            "0.0391",
            "0.0349",
            "0.0298",
            "0.0305",
            "0.0459",
            "0.0341",
            "0.0386",
            "0.0387",
            "0.0352",
            "0.0477",
            "0.0636",
            "0.0321",
            "0.0579",
            "0.0441",
            "0.0434",
            "0.0365",
            "0.0375",
            "0.0173"
           ]
          ]
         },
         "header": {
          "align": "center",
          "fill": {
           "color": "#B3E5FC"
          },
          "font": {
           "color": "black",
           "size": 12
          },
          "values": [
           "Date",
           "actual_price_kwh",
           "RMSE_day1",
           "RMSE_day2",
           "RMSE_day3",
           "RMSE_day4",
           "RMSE_day5",
           "RMSE_day6",
           "RMSE_day7",
           "RMSE_total"
          ]
         },
         "type": "table"
        }
       ],
       "layout": {
        "height": 800,
        "margin": {
         "b": 20,
         "l": 20,
         "r": 20,
         "t": 60
        },
        "template": {
         "data": {
          "bar": [
           {
            "error_x": {
             "color": "#2a3f5f"
            },
            "error_y": {
             "color": "#2a3f5f"
            },
            "marker": {
             "line": {
              "color": "#E5ECF6",
              "width": 0.5
             },
             "pattern": {
              "fillmode": "overlay",
              "size": 10,
              "solidity": 0.2
             }
            },
            "type": "bar"
           }
          ],
          "barpolar": [
           {
            "marker": {
             "line": {
              "color": "#E5ECF6",
              "width": 0.5
             },
             "pattern": {
              "fillmode": "overlay",
              "size": 10,
              "solidity": 0.2
             }
            },
            "type": "barpolar"
           }
          ],
          "carpet": [
           {
            "aaxis": {
             "endlinecolor": "#2a3f5f",
             "gridcolor": "white",
             "linecolor": "white",
             "minorgridcolor": "white",
             "startlinecolor": "#2a3f5f"
            },
            "baxis": {
             "endlinecolor": "#2a3f5f",
             "gridcolor": "white",
             "linecolor": "white",
             "minorgridcolor": "white",
             "startlinecolor": "#2a3f5f"
            },
            "type": "carpet"
           }
          ],
          "choropleth": [
           {
            "colorbar": {
             "outlinewidth": 0,
             "ticks": ""
            },
            "type": "choropleth"
           }
          ],
          "contour": [
           {
            "colorbar": {
             "outlinewidth": 0,
             "ticks": ""
            },
            "colorscale": [
             [
              0,
              "#0d0887"
             ],
             [
              0.1111111111111111,
              "#46039f"
             ],
             [
              0.2222222222222222,
              "#7201a8"
             ],
             [
              0.3333333333333333,
              "#9c179e"
             ],
             [
              0.4444444444444444,
              "#bd3786"
             ],
             [
              0.5555555555555556,
              "#d8576b"
             ],
             [
              0.6666666666666666,
              "#ed7953"
             ],
             [
              0.7777777777777778,
              "#fb9f3a"
             ],
             [
              0.8888888888888888,
              "#fdca26"
             ],
             [
              1,
              "#f0f921"
             ]
            ],
            "type": "contour"
           }
          ],
          "contourcarpet": [
           {
            "colorbar": {
             "outlinewidth": 0,
             "ticks": ""
            },
            "type": "contourcarpet"
           }
          ],
          "heatmap": [
           {
            "colorbar": {
             "outlinewidth": 0,
             "ticks": ""
            },
            "colorscale": [
             [
              0,
              "#0d0887"
             ],
             [
              0.1111111111111111,
              "#46039f"
             ],
             [
              0.2222222222222222,
              "#7201a8"
             ],
             [
              0.3333333333333333,
              "#9c179e"
             ],
             [
              0.4444444444444444,
              "#bd3786"
             ],
             [
              0.5555555555555556,
              "#d8576b"
             ],
             [
              0.6666666666666666,
              "#ed7953"
             ],
             [
              0.7777777777777778,
              "#fb9f3a"
             ],
             [
              0.8888888888888888,
              "#fdca26"
             ],
             [
              1,
              "#f0f921"
             ]
            ],
            "type": "heatmap"
           }
          ],
          "histogram": [
           {
            "marker": {
             "pattern": {
              "fillmode": "overlay",
              "size": 10,
              "solidity": 0.2
             }
            },
            "type": "histogram"
           }
          ],
          "histogram2d": [
           {
            "colorbar": {
             "outlinewidth": 0,
             "ticks": ""
            },
            "colorscale": [
             [
              0,
              "#0d0887"
             ],
             [
              0.1111111111111111,
              "#46039f"
             ],
             [
              0.2222222222222222,
              "#7201a8"
             ],
             [
              0.3333333333333333,
              "#9c179e"
             ],
             [
              0.4444444444444444,
              "#bd3786"
             ],
             [
              0.5555555555555556,
              "#d8576b"
             ],
             [
              0.6666666666666666,
              "#ed7953"
             ],
             [
              0.7777777777777778,
              "#fb9f3a"
             ],
             [
              0.8888888888888888,
              "#fdca26"
             ],
             [
              1,
              "#f0f921"
             ]
            ],
            "type": "histogram2d"
           }
          ],
          "histogram2dcontour": [
           {
            "colorbar": {
             "outlinewidth": 0,
             "ticks": ""
            },
            "colorscale": [
             [
              0,
              "#0d0887"
             ],
             [
              0.1111111111111111,
              "#46039f"
             ],
             [
              0.2222222222222222,
              "#7201a8"
             ],
             [
              0.3333333333333333,
              "#9c179e"
             ],
             [
              0.4444444444444444,
              "#bd3786"
             ],
             [
              0.5555555555555556,
              "#d8576b"
             ],
             [
              0.6666666666666666,
              "#ed7953"
             ],
             [
              0.7777777777777778,
              "#fb9f3a"
             ],
             [
              0.8888888888888888,
              "#fdca26"
             ],
             [
              1,
              "#f0f921"
             ]
            ],
            "type": "histogram2dcontour"
           }
          ],
          "mesh3d": [
           {
            "colorbar": {
             "outlinewidth": 0,
             "ticks": ""
            },
            "type": "mesh3d"
           }
          ],
          "parcoords": [
           {
            "line": {
             "colorbar": {
              "outlinewidth": 0,
              "ticks": ""
             }
            },
            "type": "parcoords"
           }
          ],
          "pie": [
           {
            "automargin": true,
            "type": "pie"
           }
          ],
          "scatter": [
           {
            "fillpattern": {
             "fillmode": "overlay",
             "size": 10,
             "solidity": 0.2
            },
            "type": "scatter"
           }
          ],
          "scatter3d": [
           {
            "line": {
             "colorbar": {
              "outlinewidth": 0,
              "ticks": ""
             }
            },
            "marker": {
             "colorbar": {
              "outlinewidth": 0,
              "ticks": ""
             }
            },
            "type": "scatter3d"
           }
          ],
          "scattercarpet": [
           {
            "marker": {
             "colorbar": {
              "outlinewidth": 0,
              "ticks": ""
             }
            },
            "type": "scattercarpet"
           }
          ],
          "scattergeo": [
           {
            "marker": {
             "colorbar": {
              "outlinewidth": 0,
              "ticks": ""
             }
            },
            "type": "scattergeo"
           }
          ],
          "scattergl": [
           {
            "marker": {
             "colorbar": {
              "outlinewidth": 0,
              "ticks": ""
             }
            },
            "type": "scattergl"
           }
          ],
          "scattermap": [
           {
            "marker": {
             "colorbar": {
              "outlinewidth": 0,
              "ticks": ""
             }
            },
            "type": "scattermap"
           }
          ],
          "scattermapbox": [
           {
            "marker": {
             "colorbar": {
              "outlinewidth": 0,
              "ticks": ""
             }
            },
            "type": "scattermapbox"
           }
          ],
          "scatterpolar": [
           {
            "marker": {
             "colorbar": {
              "outlinewidth": 0,
              "ticks": ""
             }
            },
            "type": "scatterpolar"
           }
          ],
          "scatterpolargl": [
           {
            "marker": {
             "colorbar": {
              "outlinewidth": 0,
              "ticks": ""
             }
            },
            "type": "scatterpolargl"
           }
          ],
          "scatterternary": [
           {
            "marker": {
             "colorbar": {
              "outlinewidth": 0,
              "ticks": ""
             }
            },
            "type": "scatterternary"
           }
          ],
          "surface": [
           {
            "colorbar": {
             "outlinewidth": 0,
             "ticks": ""
            },
            "colorscale": [
             [
              0,
              "#0d0887"
             ],
             [
              0.1111111111111111,
              "#46039f"
             ],
             [
              0.2222222222222222,
              "#7201a8"
             ],
             [
              0.3333333333333333,
              "#9c179e"
             ],
             [
              0.4444444444444444,
              "#bd3786"
             ],
             [
              0.5555555555555556,
              "#d8576b"
             ],
             [
              0.6666666666666666,
              "#ed7953"
             ],
             [
              0.7777777777777778,
              "#fb9f3a"
             ],
             [
              0.8888888888888888,
              "#fdca26"
             ],
             [
              1,
              "#f0f921"
             ]
            ],
            "type": "surface"
           }
          ],
          "table": [
           {
            "cells": {
             "fill": {
              "color": "#EBF0F8"
             },
             "line": {
              "color": "white"
             }
            },
            "header": {
             "fill": {
              "color": "#C8D4E3"
             },
             "line": {
              "color": "white"
             }
            },
            "type": "table"
           }
          ]
         },
         "layout": {
          "annotationdefaults": {
           "arrowcolor": "#2a3f5f",
           "arrowhead": 0,
           "arrowwidth": 1
          },
          "autotypenumbers": "strict",
          "coloraxis": {
           "colorbar": {
            "outlinewidth": 0,
            "ticks": ""
           }
          },
          "colorscale": {
           "diverging": [
            [
             0,
             "#8e0152"
            ],
            [
             0.1,
             "#c51b7d"
            ],
            [
             0.2,
             "#de77ae"
            ],
            [
             0.3,
             "#f1b6da"
            ],
            [
             0.4,
             "#fde0ef"
            ],
            [
             0.5,
             "#f7f7f7"
            ],
            [
             0.6,
             "#e6f5d0"
            ],
            [
             0.7,
             "#b8e186"
            ],
            [
             0.8,
             "#7fbc41"
            ],
            [
             0.9,
             "#4d9221"
            ],
            [
             1,
             "#276419"
            ]
           ],
           "sequential": [
            [
             0,
             "#0d0887"
            ],
            [
             0.1111111111111111,
             "#46039f"
            ],
            [
             0.2222222222222222,
             "#7201a8"
            ],
            [
             0.3333333333333333,
             "#9c179e"
            ],
            [
             0.4444444444444444,
             "#bd3786"
            ],
            [
             0.5555555555555556,
             "#d8576b"
            ],
            [
             0.6666666666666666,
             "#ed7953"
            ],
            [
             0.7777777777777778,
             "#fb9f3a"
            ],
            [
             0.8888888888888888,
             "#fdca26"
            ],
            [
             1,
             "#f0f921"
            ]
           ],
           "sequentialminus": [
            [
             0,
             "#0d0887"
            ],
            [
             0.1111111111111111,
             "#46039f"
            ],
            [
             0.2222222222222222,
             "#7201a8"
            ],
            [
             0.3333333333333333,
             "#9c179e"
            ],
            [
             0.4444444444444444,
             "#bd3786"
            ],
            [
             0.5555555555555556,
             "#d8576b"
            ],
            [
             0.6666666666666666,
             "#ed7953"
            ],
            [
             0.7777777777777778,
             "#fb9f3a"
            ],
            [
             0.8888888888888888,
             "#fdca26"
            ],
            [
             1,
             "#f0f921"
            ]
           ]
          },
          "colorway": [
           "#636efa",
           "#EF553B",
           "#00cc96",
           "#ab63fa",
           "#FFA15A",
           "#19d3f3",
           "#FF6692",
           "#B6E880",
           "#FF97FF",
           "#FECB52"
          ],
          "font": {
           "color": "#2a3f5f"
          },
          "geo": {
           "bgcolor": "white",
           "lakecolor": "white",
           "landcolor": "#E5ECF6",
           "showlakes": true,
           "showland": true,
           "subunitcolor": "white"
          },
          "hoverlabel": {
           "align": "left"
          },
          "hovermode": "closest",
          "mapbox": {
           "style": "light"
          },
          "paper_bgcolor": "white",
          "plot_bgcolor": "#E5ECF6",
          "polar": {
           "angularaxis": {
            "gridcolor": "white",
            "linecolor": "white",
            "ticks": ""
           },
           "bgcolor": "#E5ECF6",
           "radialaxis": {
            "gridcolor": "white",
            "linecolor": "white",
            "ticks": ""
           }
          },
          "scene": {
           "xaxis": {
            "backgroundcolor": "#E5ECF6",
            "gridcolor": "white",
            "gridwidth": 2,
            "linecolor": "white",
            "showbackground": true,
            "ticks": "",
            "zerolinecolor": "white"
           },
           "yaxis": {
            "backgroundcolor": "#E5ECF6",
            "gridcolor": "white",
            "gridwidth": 2,
            "linecolor": "white",
            "showbackground": true,
            "ticks": "",
            "zerolinecolor": "white"
           },
           "zaxis": {
            "backgroundcolor": "#E5ECF6",
            "gridcolor": "white",
            "gridwidth": 2,
            "linecolor": "white",
            "showbackground": true,
            "ticks": "",
            "zerolinecolor": "white"
           }
          },
          "shapedefaults": {
           "line": {
            "color": "#2a3f5f"
           }
          },
          "ternary": {
           "aaxis": {
            "gridcolor": "white",
            "linecolor": "white",
            "ticks": ""
           },
           "baxis": {
            "gridcolor": "white",
            "linecolor": "white",
            "ticks": ""
           },
           "bgcolor": "#E5ECF6",
           "caxis": {
            "gridcolor": "white",
            "linecolor": "white",
            "ticks": ""
           }
          },
          "title": {
           "x": 0.05
          },
          "xaxis": {
           "automargin": true,
           "gridcolor": "white",
           "linecolor": "white",
           "ticks": "",
           "title": {
            "standoff": 15
           },
           "zerolinecolor": "white",
           "zerolinewidth": 2
          },
          "yaxis": {
           "automargin": true,
           "gridcolor": "white",
           "linecolor": "white",
           "ticks": "",
           "title": {
            "standoff": 15
           },
           "zerolinecolor": "white",
           "zerolinewidth": 2
          }
         }
        },
        "title": {
         "text": "Naive Model: Daily Electricity Price Forecast Evaluation"
        },
        "width": 1000
       }
      }
     },
     "metadata": {},
     "output_type": "display_data"
    }
   ],
   "source": [
    "import pandas as pd\n",
    "import numpy as np\n",
    "import plotly.graph_objects as go\n",
    "from sklearn.metrics import mean_squared_error, mean_absolute_error\n",
    "import warnings\n",
    "warnings.filterwarnings(\"ignore\", category=UserWarning)\n",
    "\n",
    "\n",
    "# ====================\n",
    "# 1. Data Inlezen en Voorbereiden\n",
    "# ====================\n",
    "\n",
    "# Pad naar de actuele data\n",
    "actuals_path = \"https://raw.githubusercontent.com/tvgerwe/ENEXIS/refs/heads/main/workspaces/redouan/GUI_ENERGY_PRICES_202501010000-202601010000.csv\"\n",
    "\n",
    "# Evaluatieperiode\n",
    "start_date = pd.Timestamp(\"2025-02-24\")\n",
    "end_date = pd.Timestamp(\"2025-03-29\")\n",
    "\n",
    "# --- Actuals Data ---\n",
    "actuals_df = pd.read_csv(actuals_path, encoding=\"utf-8-sig\")\n",
    "actuals_df[\"date_anchor\"] = actuals_df[\"MTU (UTC)\"].astype(str).str.split(\" - \").str[1]\n",
    "\n",
    "# Converteer naar datetime\n",
    "actuals_df[\"actual_datetime\"] = pd.to_datetime(\n",
    "    actuals_df[\"date_anchor\"], format=\"%d/%m/%Y %H:%M:%S\", errors=\"coerce\"\n",
    ")\n",
    "\n",
    "# Bereken prijs in EUR/kWh en target_hour\n",
    "actuals_df[\"price_kwh\"] = actuals_df[\"Day-ahead Price (EUR/MWh)\"] / 1000\n",
    "actuals_df[\"target_hour\"] = actuals_df[\"actual_datetime\"].dt.floor(\"H\").dt.tz_localize(None)\n",
    "\n",
    "# Voeg kolommen toe voor datum en uur\n",
    "actuals_df[\"target_date\"] = actuals_df[\"target_hour\"].dt.date\n",
    "actuals_df[\"hour\"] = actuals_df[\"target_hour\"].dt.hour\n",
    "\n",
    "# Sorteer op datum en uur\n",
    "actuals_df = actuals_df.sort_values([\"target_date\", \"hour\"])\n",
    "\n",
    "# ====================\n",
    "# 2. Genereer Naive Forecasts (voor horizon 1-7 dagen)\n",
    "# ====================\n",
    "\n",
    "# Initialiseer een lege dataframe voor alle naive forecasts\n",
    "naive_forecasts_list = []\n",
    "\n",
    "# Voor elke horizon (1 t/m 7 dagen) genereren we een naive forecast\n",
    "for horizon in range(1, 8):\n",
    "    # Maak een kopie van de actuals data\n",
    "    actuals_copy = actuals_df.copy()\n",
    "    \n",
    "    # Voor de naive forecast gebruiken we de prijs van dezelfde uur 'horizon' dagen geleden\n",
    "    # Bereken het target_hour voor de forecast ('horizon' dagen vooruit)\n",
    "    actuals_copy[\"forecast_target_hour\"] = actuals_copy[\"target_hour\"] + pd.Timedelta(days=horizon)\n",
    "    \n",
    "    # Hernoem kolommen voor een duidelijk onderscheid tussen actuele en forecast data\n",
    "    horizon_forecast = actuals_copy.rename(columns={\n",
    "        \"target_hour\": \"issuance_hour\",\n",
    "        \"forecast_target_hour\": \"target_hour\",\n",
    "        \"price_kwh\": \"y\"  # Gebruik 'y' als kolom voor de voorspelde prijs (zoals in benchmark script)\n",
    "    })[[\"issuance_hour\", \"target_hour\", \"y\"]]\n",
    "    \n",
    "    # Voeg de horizon kolom toe\n",
    "    horizon_forecast[\"horizon\"] = horizon\n",
    "    \n",
    "    # Voeg toe aan de lijst met forecasts\n",
    "    naive_forecasts_list.append(horizon_forecast)\n",
    "\n",
    "# Combineer alle forecasts in één dataframe\n",
    "naive_forecasts = pd.concat(naive_forecasts_list, ignore_index=True)\n",
    "\n",
    "# Filter forecasts op de evaluatieperiode\n",
    "naive_forecasts = naive_forecasts[\n",
    "    (naive_forecasts[\"target_hour\"] >= start_date) & \n",
    "    (naive_forecasts[\"target_hour\"] <= end_date)\n",
    "].copy()\n",
    "\n",
    "# Filter actuele data op evaluatieperiode\n",
    "filtered_actuals = actuals_df[\n",
    "    (actuals_df[\"target_hour\"] >= start_date) & \n",
    "    (actuals_df[\"target_hour\"] <= end_date)\n",
    "].copy()\n",
    "\n",
    "# Merge forecasts met actuele data\n",
    "merged = pd.merge(naive_forecasts, filtered_actuals[[\"target_hour\", \"price_kwh\"]], \n",
    "                 on=\"target_hour\", how=\"inner\")\n",
    "merged = merged.dropna(subset=[\"y\", \"price_kwh\"]).copy()\n",
    "merged = merged.sort_values([\"target_hour\", \"horizon\"])\n",
    "\n",
    "# ====================\n",
    "# 3. Evaluatie: Bereken de Foutmaten (overall)\n",
    "# ====================\n",
    "y_true = merged[\"price_kwh\"]\n",
    "y_pred = merged[\"y\"]\n",
    "\n",
    "rmse = np.sqrt(mean_squared_error(y_true, y_pred))\n",
    "mae = mean_absolute_error(y_true, y_pred)\n",
    "mape = np.mean(np.abs((y_true - y_pred) / np.where(y_true != 0, y_true, np.nan))) * 100\n",
    "mase_scale = np.mean(np.abs(y_true.diff().dropna()))\n",
    "mase = mae / mase_scale if mase_scale != 0 else np.nan\n",
    "\n",
    "# Ook per horizon berekenen voor visualisatie\n",
    "horizon_metrics = {}\n",
    "for h in range(1, 8):\n",
    "    horizon_data = merged[merged[\"horizon\"] == h]\n",
    "    if len(horizon_data) > 0:\n",
    "        h_rmse = np.sqrt(mean_squared_error(horizon_data[\"price_kwh\"], horizon_data[\"y\"]))\n",
    "        h_mae = mean_absolute_error(horizon_data[\"price_kwh\"], horizon_data[\"y\"])\n",
    "        h_mape = np.mean(np.abs((horizon_data[\"price_kwh\"] - horizon_data[\"y\"]) / \n",
    "                              np.where(horizon_data[\"price_kwh\"] != 0, horizon_data[\"price_kwh\"], np.nan))) * 100\n",
    "        h_mase = h_mae / mase_scale if mase_scale != 0 else np.nan\n",
    "        \n",
    "        horizon_metrics[h] = {\n",
    "            \"RMSE\": h_rmse,\n",
    "            \"MAE\": h_mae,\n",
    "            \"MAPE\": h_mape,\n",
    "            \"MASE\": h_mase\n",
    "        }\n",
    "\n",
    "# ====================\n",
    "# 4. Aggregatie voor Overzichtsmatrices\n",
    "# ====================\n",
    "\n",
    "# --- Aggregated Hourly Matrix ---\n",
    "merged[\"hour\"] = merged[\"target_hour\"].dt.hour\n",
    "\n",
    "# Groepeer op 'hour' en 'horizon' en bereken de RMSE\n",
    "rmse_hour_agg = merged.groupby([\"hour\", \"horizon\"]).apply(\n",
    "    lambda g: np.sqrt(np.mean((g[\"price_kwh\"] - g[\"y\"])**2))\n",
    ")\n",
    "rmse_hour_df = pd.DataFrame(rmse_hour_agg, columns=[\"rmse\"]).reset_index()\n",
    "\n",
    "# Pivot: rijen = hour, kolommen = horizon (1-7)\n",
    "rmse_hour_pivot = rmse_hour_df.pivot(index=\"hour\", columns=\"horizon\", values=\"rmse\")\n",
    "\n",
    "# Zorg dat alle uren (0-23) aanwezig zijn in de index\n",
    "missing_hours = set(range(24)) - set(rmse_hour_pivot.index)\n",
    "for hour in missing_hours:\n",
    "    rmse_hour_pivot.loc[hour] = np.nan\n",
    "rmse_hour_pivot = rmse_hour_pivot.sort_index()\n",
    "\n",
    "# Zorg dat kolommen voor horizon 1 t/m 7 altijd aanwezig zijn\n",
    "rmse_hour_pivot = rmse_hour_pivot.reindex(columns=range(1, 8))\n",
    "\n",
    "# Voeg de gemiddelde actuals toe per uur (over de evaluatieperiode)\n",
    "actuals_by_hour = merged.groupby(\"hour\")[\"price_kwh\"].mean()\n",
    "rmse_hour_pivot[\"Actuals\"] = actuals_by_hour\n",
    "\n",
    "# Bereken Total_rmse\n",
    "horizon_columns = [col for col in range(1, 8) if col in rmse_hour_pivot.columns]\n",
    "rmse_hour_pivot[\"Total_rmse\"] = rmse_hour_pivot[horizon_columns].mean(axis=1, skipna=True)\n",
    "\n",
    "# Zet de kolomvolgorde\n",
    "ordered_cols = [\"Actuals\"] + list(range(1, 8)) + [\"Total_rmse\"]\n",
    "ordered_cols = [col for col in ordered_cols if col in rmse_hour_pivot.columns]\n",
    "rmse_hour_pivot = rmse_hour_pivot[ordered_cols]\n",
    "\n",
    "# --- Aggregated Daily Matrix ---\n",
    "merged[\"target_date\"] = merged[\"target_hour\"].dt.normalize()\n",
    "rmse_day_agg = merged.groupby([\"target_date\", \"horizon\"]).apply(\n",
    "    lambda g: np.sqrt(np.mean((g[\"price_kwh\"] - g[\"y\"])**2))\n",
    ")\n",
    "rmse_day_df = pd.DataFrame(rmse_day_agg, columns=[\"rmse\"]).reset_index()\n",
    "\n",
    "# Pivot: rijen = target_date, kolommen = horizon (1-7)\n",
    "rmse_day_pivot = rmse_day_df.pivot(index=\"target_date\", columns=\"horizon\", values=\"rmse\")\n",
    "\n",
    "# Zorg dat kolommen voor horizon 1 t/m 7 altijd aanwezig zijn\n",
    "rmse_day_pivot = rmse_day_pivot.reindex(columns=range(1, 8))\n",
    "rmse_day_pivot = rmse_day_pivot.sort_index()\n",
    "\n",
    "# Voeg de gemiddelde actuals toe per dag\n",
    "actuals_by_day = merged.groupby(\"target_date\")[\"price_kwh\"].mean()\n",
    "rmse_day_pivot[\"Actuals\"] = actuals_by_day\n",
    "\n",
    "# Bereken Total_rmse\n",
    "horizon_columns = [col for col in range(1, 8) if col in rmse_day_pivot.columns]\n",
    "rmse_day_pivot[\"Total_rmse\"] = rmse_day_pivot[horizon_columns].mean(axis=1, skipna=True)\n",
    "\n",
    "# Zet de kolomvolgorde\n",
    "ordered_cols_day = [\"Actuals\"] + list(range(1, 8)) + [\"Total_rmse\"]\n",
    "ordered_cols_day = [col for col in ordered_cols_day if col in rmse_day_pivot.columns]\n",
    "rmse_day_pivot = rmse_day_pivot[ordered_cols_day]\n",
    "\n",
    "#%%\n",
    "# ====================\n",
    "# 5. Visualisatie\n",
    "# ====================\n",
    "\n",
    "# --- 5.1 Overzicht Metrics (Naive Model) ---\n",
    "metrics_table_data = [\n",
    "    [\"RMSE\", \"MAE\", \"MAPE (%)\", \"MASE\"],\n",
    "    [f\"{rmse:.4f}\", f\"{mae:.4f}\", f\"{mape:.2f}\", f\"{mase:.4f}\"]\n",
    "]\n",
    "\n",
    "metrics_fig = go.Figure(data=[go.Table(\n",
    "    header=dict(\n",
    "        values=[\"Metric\", \"Value\"],\n",
    "        fill_color='#B3E5FC',\n",
    "        align='center',\n",
    "        font=dict(size=14, color='black')\n",
    "    ),\n",
    "    cells=dict(\n",
    "        values=metrics_table_data,\n",
    "        fill_color='#F5F5F5',\n",
    "        align='center',\n",
    "        font=dict(size=12)\n",
    "    ))\n",
    "])\n",
    "\n",
    "metrics_fig.update_layout(\n",
    "    title=\"Naive Model: Overall Forecast Evaluation Metrics\",\n",
    "    width=500,\n",
    "    height=200,\n",
    "    margin=dict(l=20, r=20, t=60, b=20)\n",
    ")\n",
    "\n",
    "metrics_fig.show()\n",
    "\n",
    "# --- 5.2 Metrics per Horizon ---\n",
    "horizon_metrics_table = []\n",
    "horizon_metrics_table.append([\"Horizon\", \"RMSE\", \"MAE\", \"MAPE (%)\", \"MASE\"])\n",
    "\n",
    "for h in range(1, 8):\n",
    "    if h in horizon_metrics:\n",
    "        metrics = horizon_metrics[h]\n",
    "        horizon_metrics_table.append([\n",
    "            f\"Day {h}\",\n",
    "            f\"{metrics['RMSE']:.4f}\",\n",
    "            f\"{metrics['MAE']:.4f}\",\n",
    "            f\"{metrics['MAPE']:.2f}\",\n",
    "            f\"{metrics['MASE']:.4f}\"\n",
    "        ])\n",
    "\n",
    "horizon_metrics_fig = go.Figure(data=[go.Table(\n",
    "    header=dict(\n",
    "        values=horizon_metrics_table[0],\n",
    "        fill_color='#B3E5FC',\n",
    "        align='center',\n",
    "        font=dict(size=14, color='black')\n",
    "    ),\n",
    "    cells=dict(\n",
    "        values=list(zip(*horizon_metrics_table[1:])),  # Transpose the data for correct display\n",
    "        fill_color='#F5F5F5',\n",
    "        align='center',\n",
    "        font=dict(size=12)\n",
    "    ))\n",
    "])\n",
    "\n",
    "horizon_metrics_fig.update_layout(\n",
    "    title=\"Naive Model: Forecast Metrics by Horizon\",\n",
    "    width=800,\n",
    "    height=300,\n",
    "    margin=dict(l=20, r=20, t=60, b=20)\n",
    ")\n",
    "\n",
    "horizon_metrics_fig.show()\n",
    "\n",
    "# --- 5.3 Plotly Time Series Graph ---\n",
    "# Maak een subset van de data voor day-ahead forecasts (horizon=1)\n",
    "day_ahead_data = merged[merged[\"horizon\"] == 1].sort_values(\"target_hour\")\n",
    "\n",
    "# Teken lijndiagram van werkelijke vs. voorspelde prijzen (alleen day-ahead)\n",
    "timeseries_fig = go.Figure()\n",
    "\n",
    "# Trace voor de werkelijke prijzen\n",
    "timeseries_fig.add_trace(go.Scatter(\n",
    "    x=day_ahead_data[\"target_hour\"],\n",
    "    y=day_ahead_data[\"price_kwh\"],\n",
    "    mode=\"lines+markers\",\n",
    "    name=\"Werkelijke prijs (kWh)\",\n",
    "    line=dict(color=\"blue\")\n",
    "))\n",
    "\n",
    "# Trace voor de voorspelde prijzen (naive model)\n",
    "timeseries_fig.add_trace(go.Scatter(\n",
    "    x=day_ahead_data[\"target_hour\"],\n",
    "    y=day_ahead_data[\"y\"],\n",
    "    mode=\"lines+markers\",\n",
    "    name=\"Naive voorspelling (kWh)\",\n",
    "    line=dict(color=\"orange\", dash=\"dash\")\n",
    "))\n",
    "\n",
    "# Layout update\n",
    "timeseries_fig.update_layout(\n",
    "    title=\"⚡ Naive Model: Voorspelling vs Realiteit (1-Day-Ahead)\",\n",
    "    xaxis_title=\"Datum & Uur\",\n",
    "    yaxis_title=\"Prijs (EUR/kWh)\",\n",
    "    paper_bgcolor=\"white\",\n",
    "    plot_bgcolor=\"white\",\n",
    "    xaxis=dict(showgrid=True, gridcolor=\"lightgray\"),\n",
    "    yaxis=dict(showgrid=True, gridcolor=\"lightgray\"),\n",
    "    width=1200,\n",
    "    height=600\n",
    ")\n",
    "\n",
    "timeseries_fig.show()\n",
    "\n",
    "# --- 5.4 Plotly Tables voor Matrices ---\n",
    "# Functie om DataFrame voor te bereiden voor Plotly tabel-visualisatie\n",
    "def prepare_for_plotly_table(df, is_hourly=True):\n",
    "    plot_df = df.copy()\n",
    "    \n",
    "    # Hernoem kolommen volgens vereist format\n",
    "    column_mapping = {\n",
    "        \"Actuals\": \"actual_price_kwh\",\n",
    "        \"Total_rmse\": \"RMSE_total\"\n",
    "    }\n",
    "    \n",
    "    # Voeg horizon kolommen toe aan mapping\n",
    "    for i in range(1, 8):\n",
    "        if i in plot_df.columns:\n",
    "            column_mapping[i] = f\"RMSE_day{i}\"\n",
    "    \n",
    "    # Hernoem kolommen waar van toepassing\n",
    "    plot_df = plot_df.rename(columns=column_mapping)\n",
    "    \n",
    "    # Zorg voor de juiste kolomvolgorde\n",
    "    ordered_cols = [\"actual_price_kwh\"] + [f\"RMSE_day{i}\" for i in range(1, 8) if f\"RMSE_day{i}\" in plot_df.columns] + [\"RMSE_total\"]\n",
    "    ordered_cols = [col for col in ordered_cols if col in plot_df.columns]\n",
    "    plot_df = plot_df[ordered_cols]\n",
    "    \n",
    "    # Formateer de indextitel\n",
    "    if is_hourly:\n",
    "        index_values = [f\"{hour:02d}:00\" for hour in plot_df.index]\n",
    "    else:\n",
    "        index_values = [date.strftime(\"%d-%m-%Y\") for date in plot_df.index]\n",
    "    \n",
    "    # Formateer de waarden in het DataFrame\n",
    "    if \"actual_price_kwh\" in plot_df.columns:\n",
    "        plot_df[\"actual_price_kwh\"] = plot_df[\"actual_price_kwh\"].apply(lambda x: f\"€{x:.4f}\" if pd.notna(x) else \"\")\n",
    "    \n",
    "    # Formateer RMSE kolommen met 4 decimalen\n",
    "    for col in plot_df.columns:\n",
    "        if col.startswith(\"RMSE_\"):\n",
    "            plot_df[col] = plot_df[col].apply(lambda x: f\"{x:.4f}\" if pd.notna(x) else \"\")\n",
    "    \n",
    "    return plot_df, index_values\n",
    "\n",
    "# Bereid DataFrames voor op Plotly tabel visualisatie\n",
    "rmse_hour_plotly, hour_index_values = prepare_for_plotly_table(rmse_hour_pivot, is_hourly=True)\n",
    "rmse_day_plotly, day_index_values = prepare_for_plotly_table(rmse_day_pivot, is_hourly=False)\n",
    "\n",
    "# Definieer kleuren\n",
    "header_color = '#B3E5FC'  # Lichtblauw\n",
    "cell_color = '#F5F5F5'    # Lichtgrijs\n",
    "\n",
    "# Creëer plotly table voor Hourly Matrix\n",
    "hourly_table = go.Figure(data=[go.Table(\n",
    "    header=dict(\n",
    "        values=['Hour'] + list(rmse_hour_plotly.columns),\n",
    "        fill_color=header_color,\n",
    "        align='center',\n",
    "        font=dict(size=12, color='black')\n",
    "    ),\n",
    "    cells=dict(\n",
    "        values=[hour_index_values] + [rmse_hour_plotly[col] for col in rmse_hour_plotly.columns],\n",
    "        fill_color=cell_color,\n",
    "        align=['center'] + ['right'] * len(rmse_hour_plotly.columns),\n",
    "        font=dict(size=11)\n",
    "    )\n",
    ")])\n",
    "\n",
    "# Pas layout aan voor Hourly Table\n",
    "hourly_table.update_layout(\n",
    "    title=\"Naive Model: Hourly Electricity Price Forecast Evaluation\",\n",
    "    width=1000,\n",
    "    height=600,\n",
    "    margin=dict(l=20, r=20, t=60, b=20)\n",
    ")\n",
    "\n",
    "# Toon Hourly Table\n",
    "hourly_table.show()\n",
    "\n",
    "# Creëer plotly table voor Daily Matrix\n",
    "daily_table = go.Figure(data=[go.Table(\n",
    "    header=dict(\n",
    "        values=['Date'] + list(rmse_day_plotly.columns),\n",
    "        fill_color=header_color,\n",
    "        align='center',\n",
    "        font=dict(size=12, color='black')\n",
    "    ),\n",
    "    cells=dict(\n",
    "        values=[day_index_values] + [rmse_day_plotly[col] for col in rmse_day_plotly.columns],\n",
    "        fill_color=cell_color,\n",
    "        align=['center'] + ['right'] * len(rmse_day_plotly.columns),\n",
    "        font=dict(size=11)\n",
    "    )\n",
    ")])\n",
    "\n",
    "# Pas layout aan voor Daily Table\n",
    "daily_table.update_layout(\n",
    "    title=\"Naive Model: Daily Electricity Price Forecast Evaluation\",\n",
    "    width=1000,\n",
    "    height=800,\n",
    "    margin=dict(l=20, r=20, t=60, b=20)\n",
    ")\n",
    "\n",
    "# Toon Daily Table\n",
    "daily_table.show()"
   ]
  }
 ],
 "metadata": {
  "kernelspec": {
   "display_name": "Python 3",
   "language": "python",
   "name": "python3"
  },
  "language_info": {
   "codemirror_mode": {
    "name": "ipython",
    "version": 3
   },
   "file_extension": ".py",
   "mimetype": "text/x-python",
   "name": "python",
   "nbconvert_exporter": "python",
   "pygments_lexer": "ipython3",
   "version": "3.11.9"
  }
 },
 "nbformat": 4,
 "nbformat_minor": 2
}
