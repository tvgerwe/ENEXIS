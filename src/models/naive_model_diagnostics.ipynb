{
 "cells": [
  {
   "cell_type": "code",
   "execution_count": 1,
   "metadata": {},
   "outputs": [
    {
     "data": {
      "application/vnd.plotly.v1+json": {
       "config": {
        "plotlyServerURL": "https://plot.ly"
       },
       "data": [
        {
         "cells": {
          "align": "center",
          "fill": {
           "color": "#F5F5F5"
          },
          "font": {
           "size": 12
          },
          "values": [
           [
            "RMSE",
            "MAE",
            "MAPE (%)",
            "MASE"
           ],
           [
            "0.0423",
            "0.0300",
            "745.95",
            "14.0869"
           ]
          ]
         },
         "header": {
          "align": "center",
          "fill": {
           "color": "#B3E5FC"
          },
          "font": {
           "color": "black",
           "size": 14
          },
          "values": [
           "Metric",
           "Value"
          ]
         },
         "type": "table"
        }
       ],
       "layout": {
        "height": 200,
        "margin": {
         "b": 20,
         "l": 20,
         "r": 20,
         "t": 60
        },
        "template": {
         "data": {
          "bar": [
           {
            "error_x": {
             "color": "#2a3f5f"
            },
            "error_y": {
             "color": "#2a3f5f"
            },
            "marker": {
             "line": {
              "color": "#E5ECF6",
              "width": 0.5
             },
             "pattern": {
              "fillmode": "overlay",
              "size": 10,
              "solidity": 0.2
             }
            },
            "type": "bar"
           }
          ],
          "barpolar": [
           {
            "marker": {
             "line": {
              "color": "#E5ECF6",
              "width": 0.5
             },
             "pattern": {
              "fillmode": "overlay",
              "size": 10,
              "solidity": 0.2
             }
            },
            "type": "barpolar"
           }
          ],
          "carpet": [
           {
            "aaxis": {
             "endlinecolor": "#2a3f5f",
             "gridcolor": "white",
             "linecolor": "white",
             "minorgridcolor": "white",
             "startlinecolor": "#2a3f5f"
            },
            "baxis": {
             "endlinecolor": "#2a3f5f",
             "gridcolor": "white",
             "linecolor": "white",
             "minorgridcolor": "white",
             "startlinecolor": "#2a3f5f"
            },
            "type": "carpet"
           }
          ],
          "choropleth": [
           {
            "colorbar": {
             "outlinewidth": 0,
             "ticks": ""
            },
            "type": "choropleth"
           }
          ],
          "contour": [
           {
            "colorbar": {
             "outlinewidth": 0,
             "ticks": ""
            },
            "colorscale": [
             [
              0,
              "#0d0887"
             ],
             [
              0.1111111111111111,
              "#46039f"
             ],
             [
              0.2222222222222222,
              "#7201a8"
             ],
             [
              0.3333333333333333,
              "#9c179e"
             ],
             [
              0.4444444444444444,
              "#bd3786"
             ],
             [
              0.5555555555555556,
              "#d8576b"
             ],
             [
              0.6666666666666666,
              "#ed7953"
             ],
             [
              0.7777777777777778,
              "#fb9f3a"
             ],
             [
              0.8888888888888888,
              "#fdca26"
             ],
             [
              1,
              "#f0f921"
             ]
            ],
            "type": "contour"
           }
          ],
          "contourcarpet": [
           {
            "colorbar": {
             "outlinewidth": 0,
             "ticks": ""
            },
            "type": "contourcarpet"
           }
          ],
          "heatmap": [
           {
            "colorbar": {
             "outlinewidth": 0,
             "ticks": ""
            },
            "colorscale": [
             [
              0,
              "#0d0887"
             ],
             [
              0.1111111111111111,
              "#46039f"
             ],
             [
              0.2222222222222222,
              "#7201a8"
             ],
             [
              0.3333333333333333,
              "#9c179e"
             ],
             [
              0.4444444444444444,
              "#bd3786"
             ],
             [
              0.5555555555555556,
              "#d8576b"
             ],
             [
              0.6666666666666666,
              "#ed7953"
             ],
             [
              0.7777777777777778,
              "#fb9f3a"
             ],
             [
              0.8888888888888888,
              "#fdca26"
             ],
             [
              1,
              "#f0f921"
             ]
            ],
            "type": "heatmap"
           }
          ],
          "heatmapgl": [
           {
            "colorbar": {
             "outlinewidth": 0,
             "ticks": ""
            },
            "colorscale": [
             [
              0,
              "#0d0887"
             ],
             [
              0.1111111111111111,
              "#46039f"
             ],
             [
              0.2222222222222222,
              "#7201a8"
             ],
             [
              0.3333333333333333,
              "#9c179e"
             ],
             [
              0.4444444444444444,
              "#bd3786"
             ],
             [
              0.5555555555555556,
              "#d8576b"
             ],
             [
              0.6666666666666666,
              "#ed7953"
             ],
             [
              0.7777777777777778,
              "#fb9f3a"
             ],
             [
              0.8888888888888888,
              "#fdca26"
             ],
             [
              1,
              "#f0f921"
             ]
            ],
            "type": "heatmapgl"
           }
          ],
          "histogram": [
           {
            "marker": {
             "pattern": {
              "fillmode": "overlay",
              "size": 10,
              "solidity": 0.2
             }
            },
            "type": "histogram"
           }
          ],
          "histogram2d": [
           {
            "colorbar": {
             "outlinewidth": 0,
             "ticks": ""
            },
            "colorscale": [
             [
              0,
              "#0d0887"
             ],
             [
              0.1111111111111111,
              "#46039f"
             ],
             [
              0.2222222222222222,
              "#7201a8"
             ],
             [
              0.3333333333333333,
              "#9c179e"
             ],
             [
              0.4444444444444444,
              "#bd3786"
             ],
             [
              0.5555555555555556,
              "#d8576b"
             ],
             [
              0.6666666666666666,
              "#ed7953"
             ],
             [
              0.7777777777777778,
              "#fb9f3a"
             ],
             [
              0.8888888888888888,
              "#fdca26"
             ],
             [
              1,
              "#f0f921"
             ]
            ],
            "type": "histogram2d"
           }
          ],
          "histogram2dcontour": [
           {
            "colorbar": {
             "outlinewidth": 0,
             "ticks": ""
            },
            "colorscale": [
             [
              0,
              "#0d0887"
             ],
             [
              0.1111111111111111,
              "#46039f"
             ],
             [
              0.2222222222222222,
              "#7201a8"
             ],
             [
              0.3333333333333333,
              "#9c179e"
             ],
             [
              0.4444444444444444,
              "#bd3786"
             ],
             [
              0.5555555555555556,
              "#d8576b"
             ],
             [
              0.6666666666666666,
              "#ed7953"
             ],
             [
              0.7777777777777778,
              "#fb9f3a"
             ],
             [
              0.8888888888888888,
              "#fdca26"
             ],
             [
              1,
              "#f0f921"
             ]
            ],
            "type": "histogram2dcontour"
           }
          ],
          "mesh3d": [
           {
            "colorbar": {
             "outlinewidth": 0,
             "ticks": ""
            },
            "type": "mesh3d"
           }
          ],
          "parcoords": [
           {
            "line": {
             "colorbar": {
              "outlinewidth": 0,
              "ticks": ""
             }
            },
            "type": "parcoords"
           }
          ],
          "pie": [
           {
            "automargin": true,
            "type": "pie"
           }
          ],
          "scatter": [
           {
            "fillpattern": {
             "fillmode": "overlay",
             "size": 10,
             "solidity": 0.2
            },
            "type": "scatter"
           }
          ],
          "scatter3d": [
           {
            "line": {
             "colorbar": {
              "outlinewidth": 0,
              "ticks": ""
             }
            },
            "marker": {
             "colorbar": {
              "outlinewidth": 0,
              "ticks": ""
             }
            },
            "type": "scatter3d"
           }
          ],
          "scattercarpet": [
           {
            "marker": {
             "colorbar": {
              "outlinewidth": 0,
              "ticks": ""
             }
            },
            "type": "scattercarpet"
           }
          ],
          "scattergeo": [
           {
            "marker": {
             "colorbar": {
              "outlinewidth": 0,
              "ticks": ""
             }
            },
            "type": "scattergeo"
           }
          ],
          "scattergl": [
           {
            "marker": {
             "colorbar": {
              "outlinewidth": 0,
              "ticks": ""
             }
            },
            "type": "scattergl"
           }
          ],
          "scattermapbox": [
           {
            "marker": {
             "colorbar": {
              "outlinewidth": 0,
              "ticks": ""
             }
            },
            "type": "scattermapbox"
           }
          ],
          "scatterpolar": [
           {
            "marker": {
             "colorbar": {
              "outlinewidth": 0,
              "ticks": ""
             }
            },
            "type": "scatterpolar"
           }
          ],
          "scatterpolargl": [
           {
            "marker": {
             "colorbar": {
              "outlinewidth": 0,
              "ticks": ""
             }
            },
            "type": "scatterpolargl"
           }
          ],
          "scatterternary": [
           {
            "marker": {
             "colorbar": {
              "outlinewidth": 0,
              "ticks": ""
             }
            },
            "type": "scatterternary"
           }
          ],
          "surface": [
           {
            "colorbar": {
             "outlinewidth": 0,
             "ticks": ""
            },
            "colorscale": [
             [
              0,
              "#0d0887"
             ],
             [
              0.1111111111111111,
              "#46039f"
             ],
             [
              0.2222222222222222,
              "#7201a8"
             ],
             [
              0.3333333333333333,
              "#9c179e"
             ],
             [
              0.4444444444444444,
              "#bd3786"
             ],
             [
              0.5555555555555556,
              "#d8576b"
             ],
             [
              0.6666666666666666,
              "#ed7953"
             ],
             [
              0.7777777777777778,
              "#fb9f3a"
             ],
             [
              0.8888888888888888,
              "#fdca26"
             ],
             [
              1,
              "#f0f921"
             ]
            ],
            "type": "surface"
           }
          ],
          "table": [
           {
            "cells": {
             "fill": {
              "color": "#EBF0F8"
             },
             "line": {
              "color": "white"
             }
            },
            "header": {
             "fill": {
              "color": "#C8D4E3"
             },
             "line": {
              "color": "white"
             }
            },
            "type": "table"
           }
          ]
         },
         "layout": {
          "annotationdefaults": {
           "arrowcolor": "#2a3f5f",
           "arrowhead": 0,
           "arrowwidth": 1
          },
          "autotypenumbers": "strict",
          "coloraxis": {
           "colorbar": {
            "outlinewidth": 0,
            "ticks": ""
           }
          },
          "colorscale": {
           "diverging": [
            [
             0,
             "#8e0152"
            ],
            [
             0.1,
             "#c51b7d"
            ],
            [
             0.2,
             "#de77ae"
            ],
            [
             0.3,
             "#f1b6da"
            ],
            [
             0.4,
             "#fde0ef"
            ],
            [
             0.5,
             "#f7f7f7"
            ],
            [
             0.6,
             "#e6f5d0"
            ],
            [
             0.7,
             "#b8e186"
            ],
            [
             0.8,
             "#7fbc41"
            ],
            [
             0.9,
             "#4d9221"
            ],
            [
             1,
             "#276419"
            ]
           ],
           "sequential": [
            [
             0,
             "#0d0887"
            ],
            [
             0.1111111111111111,
             "#46039f"
            ],
            [
             0.2222222222222222,
             "#7201a8"
            ],
            [
             0.3333333333333333,
             "#9c179e"
            ],
            [
             0.4444444444444444,
             "#bd3786"
            ],
            [
             0.5555555555555556,
             "#d8576b"
            ],
            [
             0.6666666666666666,
             "#ed7953"
            ],
            [
             0.7777777777777778,
             "#fb9f3a"
            ],
            [
             0.8888888888888888,
             "#fdca26"
            ],
            [
             1,
             "#f0f921"
            ]
           ],
           "sequentialminus": [
            [
             0,
             "#0d0887"
            ],
            [
             0.1111111111111111,
             "#46039f"
            ],
            [
             0.2222222222222222,
             "#7201a8"
            ],
            [
             0.3333333333333333,
             "#9c179e"
            ],
            [
             0.4444444444444444,
             "#bd3786"
            ],
            [
             0.5555555555555556,
             "#d8576b"
            ],
            [
             0.6666666666666666,
             "#ed7953"
            ],
            [
             0.7777777777777778,
             "#fb9f3a"
            ],
            [
             0.8888888888888888,
             "#fdca26"
            ],
            [
             1,
             "#f0f921"
            ]
           ]
          },
          "colorway": [
           "#636efa",
           "#EF553B",
           "#00cc96",
           "#ab63fa",
           "#FFA15A",
           "#19d3f3",
           "#FF6692",
           "#B6E880",
           "#FF97FF",
           "#FECB52"
          ],
          "font": {
           "color": "#2a3f5f"
          },
          "geo": {
           "bgcolor": "white",
           "lakecolor": "white",
           "landcolor": "#E5ECF6",
           "showlakes": true,
           "showland": true,
           "subunitcolor": "white"
          },
          "hoverlabel": {
           "align": "left"
          },
          "hovermode": "closest",
          "mapbox": {
           "style": "light"
          },
          "paper_bgcolor": "white",
          "plot_bgcolor": "#E5ECF6",
          "polar": {
           "angularaxis": {
            "gridcolor": "white",
            "linecolor": "white",
            "ticks": ""
           },
           "bgcolor": "#E5ECF6",
           "radialaxis": {
            "gridcolor": "white",
            "linecolor": "white",
            "ticks": ""
           }
          },
          "scene": {
           "xaxis": {
            "backgroundcolor": "#E5ECF6",
            "gridcolor": "white",
            "gridwidth": 2,
            "linecolor": "white",
            "showbackground": true,
            "ticks": "",
            "zerolinecolor": "white"
           },
           "yaxis": {
            "backgroundcolor": "#E5ECF6",
            "gridcolor": "white",
            "gridwidth": 2,
            "linecolor": "white",
            "showbackground": true,
            "ticks": "",
            "zerolinecolor": "white"
           },
           "zaxis": {
            "backgroundcolor": "#E5ECF6",
            "gridcolor": "white",
            "gridwidth": 2,
            "linecolor": "white",
            "showbackground": true,
            "ticks": "",
            "zerolinecolor": "white"
           }
          },
          "shapedefaults": {
           "line": {
            "color": "#2a3f5f"
           }
          },
          "ternary": {
           "aaxis": {
            "gridcolor": "white",
            "linecolor": "white",
            "ticks": ""
           },
           "baxis": {
            "gridcolor": "white",
            "linecolor": "white",
            "ticks": ""
           },
           "bgcolor": "#E5ECF6",
           "caxis": {
            "gridcolor": "white",
            "linecolor": "white",
            "ticks": ""
           }
          },
          "title": {
           "x": 0.05
          },
          "xaxis": {
           "automargin": true,
           "gridcolor": "white",
           "linecolor": "white",
           "ticks": "",
           "title": {
            "standoff": 15
           },
           "zerolinecolor": "white",
           "zerolinewidth": 2
          },
          "yaxis": {
           "automargin": true,
           "gridcolor": "white",
           "linecolor": "white",
           "ticks": "",
           "title": {
            "standoff": 15
           },
           "zerolinecolor": "white",
           "zerolinewidth": 2
          }
         }
        },
        "title": {
         "text": "Naive Model: Overall Forecast Evaluation Metrics"
        },
        "width": 500
       }
      }
     },
     "metadata": {},
     "output_type": "display_data"
    },
    {
     "data": {
      "application/vnd.plotly.v1+json": {
       "config": {
        "plotlyServerURL": "https://plot.ly"
       },
       "data": [
        {
         "cells": {
          "align": "center",
          "fill": {
           "color": "#F5F5F5"
          },
          "font": {
           "size": 12
          },
          "values": [
           [
            "Day 1",
            "Day 2",
            "Day 3",
            "Day 4",
            "Day 5",
            "Day 6",
            "Day 7"
           ],
           [
            "0.0324",
            "0.0394",
            "0.0420",
            "0.0448",
            "0.0466",
            "0.0450",
            "0.0441"
           ],
           [
            "0.0214",
            "0.0268",
            "0.0302",
            "0.0328",
            "0.0341",
            "0.0331",
            "0.0314"
           ],
           [
            "220.91",
            "698.50",
            "503.35",
            "1035.93",
            "909.79",
            "884.11",
            "969.06"
           ],
           [
            "10.0740",
            "12.6109",
            "14.2107",
            "15.4005",
            "16.0222",
            "15.5544",
            "14.7354"
           ]
          ]
         },
         "header": {
          "align": "center",
          "fill": {
           "color": "#B3E5FC"
          },
          "font": {
           "color": "black",
           "size": 14
          },
          "values": [
           "Horizon",
           "RMSE",
           "MAE",
           "MAPE (%)",
           "MASE"
          ]
         },
         "type": "table"
        }
       ],
       "layout": {
        "height": 300,
        "margin": {
         "b": 20,
         "l": 20,
         "r": 20,
         "t": 60
        },
        "template": {
         "data": {
          "bar": [
           {
            "error_x": {
             "color": "#2a3f5f"
            },
            "error_y": {
             "color": "#2a3f5f"
            },
            "marker": {
             "line": {
              "color": "#E5ECF6",
              "width": 0.5
             },
             "pattern": {
              "fillmode": "overlay",
              "size": 10,
              "solidity": 0.2
             }
            },
            "type": "bar"
           }
          ],
          "barpolar": [
           {
            "marker": {
             "line": {
              "color": "#E5ECF6",
              "width": 0.5
             },
             "pattern": {
              "fillmode": "overlay",
              "size": 10,
              "solidity": 0.2
             }
            },
            "type": "barpolar"
           }
          ],
          "carpet": [
           {
            "aaxis": {
             "endlinecolor": "#2a3f5f",
             "gridcolor": "white",
             "linecolor": "white",
             "minorgridcolor": "white",
             "startlinecolor": "#2a3f5f"
            },
            "baxis": {
             "endlinecolor": "#2a3f5f",
             "gridcolor": "white",
             "linecolor": "white",
             "minorgridcolor": "white",
             "startlinecolor": "#2a3f5f"
            },
            "type": "carpet"
           }
          ],
          "choropleth": [
           {
            "colorbar": {
             "outlinewidth": 0,
             "ticks": ""
            },
            "type": "choropleth"
           }
          ],
          "contour": [
           {
            "colorbar": {
             "outlinewidth": 0,
             "ticks": ""
            },
            "colorscale": [
             [
              0,
              "#0d0887"
             ],
             [
              0.1111111111111111,
              "#46039f"
             ],
             [
              0.2222222222222222,
              "#7201a8"
             ],
             [
              0.3333333333333333,
              "#9c179e"
             ],
             [
              0.4444444444444444,
              "#bd3786"
             ],
             [
              0.5555555555555556,
              "#d8576b"
             ],
             [
              0.6666666666666666,
              "#ed7953"
             ],
             [
              0.7777777777777778,
              "#fb9f3a"
             ],
             [
              0.8888888888888888,
              "#fdca26"
             ],
             [
              1,
              "#f0f921"
             ]
            ],
            "type": "contour"
           }
          ],
          "contourcarpet": [
           {
            "colorbar": {
             "outlinewidth": 0,
             "ticks": ""
            },
            "type": "contourcarpet"
           }
          ],
          "heatmap": [
           {
            "colorbar": {
             "outlinewidth": 0,
             "ticks": ""
            },
            "colorscale": [
             [
              0,
              "#0d0887"
             ],
             [
              0.1111111111111111,
              "#46039f"
             ],
             [
              0.2222222222222222,
              "#7201a8"
             ],
             [
              0.3333333333333333,
              "#9c179e"
             ],
             [
              0.4444444444444444,
              "#bd3786"
             ],
             [
              0.5555555555555556,
              "#d8576b"
             ],
             [
              0.6666666666666666,
              "#ed7953"
             ],
             [
              0.7777777777777778,
              "#fb9f3a"
             ],
             [
              0.8888888888888888,
              "#fdca26"
             ],
             [
              1,
              "#f0f921"
             ]
            ],
            "type": "heatmap"
           }
          ],
          "heatmapgl": [
           {
            "colorbar": {
             "outlinewidth": 0,
             "ticks": ""
            },
            "colorscale": [
             [
              0,
              "#0d0887"
             ],
             [
              0.1111111111111111,
              "#46039f"
             ],
             [
              0.2222222222222222,
              "#7201a8"
             ],
             [
              0.3333333333333333,
              "#9c179e"
             ],
             [
              0.4444444444444444,
              "#bd3786"
             ],
             [
              0.5555555555555556,
              "#d8576b"
             ],
             [
              0.6666666666666666,
              "#ed7953"
             ],
             [
              0.7777777777777778,
              "#fb9f3a"
             ],
             [
              0.8888888888888888,
              "#fdca26"
             ],
             [
              1,
              "#f0f921"
             ]
            ],
            "type": "heatmapgl"
           }
          ],
          "histogram": [
           {
            "marker": {
             "pattern": {
              "fillmode": "overlay",
              "size": 10,
              "solidity": 0.2
             }
            },
            "type": "histogram"
           }
          ],
          "histogram2d": [
           {
            "colorbar": {
             "outlinewidth": 0,
             "ticks": ""
            },
            "colorscale": [
             [
              0,
              "#0d0887"
             ],
             [
              0.1111111111111111,
              "#46039f"
             ],
             [
              0.2222222222222222,
              "#7201a8"
             ],
             [
              0.3333333333333333,
              "#9c179e"
             ],
             [
              0.4444444444444444,
              "#bd3786"
             ],
             [
              0.5555555555555556,
              "#d8576b"
             ],
             [
              0.6666666666666666,
              "#ed7953"
             ],
             [
              0.7777777777777778,
              "#fb9f3a"
             ],
             [
              0.8888888888888888,
              "#fdca26"
             ],
             [
              1,
              "#f0f921"
             ]
            ],
            "type": "histogram2d"
           }
          ],
          "histogram2dcontour": [
           {
            "colorbar": {
             "outlinewidth": 0,
             "ticks": ""
            },
            "colorscale": [
             [
              0,
              "#0d0887"
             ],
             [
              0.1111111111111111,
              "#46039f"
             ],
             [
              0.2222222222222222,
              "#7201a8"
             ],
             [
              0.3333333333333333,
              "#9c179e"
             ],
             [
              0.4444444444444444,
              "#bd3786"
             ],
             [
              0.5555555555555556,
              "#d8576b"
             ],
             [
              0.6666666666666666,
              "#ed7953"
             ],
             [
              0.7777777777777778,
              "#fb9f3a"
             ],
             [
              0.8888888888888888,
              "#fdca26"
             ],
             [
              1,
              "#f0f921"
             ]
            ],
            "type": "histogram2dcontour"
           }
          ],
          "mesh3d": [
           {
            "colorbar": {
             "outlinewidth": 0,
             "ticks": ""
            },
            "type": "mesh3d"
           }
          ],
          "parcoords": [
           {
            "line": {
             "colorbar": {
              "outlinewidth": 0,
              "ticks": ""
             }
            },
            "type": "parcoords"
           }
          ],
          "pie": [
           {
            "automargin": true,
            "type": "pie"
           }
          ],
          "scatter": [
           {
            "fillpattern": {
             "fillmode": "overlay",
             "size": 10,
             "solidity": 0.2
            },
            "type": "scatter"
           }
          ],
          "scatter3d": [
           {
            "line": {
             "colorbar": {
              "outlinewidth": 0,
              "ticks": ""
             }
            },
            "marker": {
             "colorbar": {
              "outlinewidth": 0,
              "ticks": ""
             }
            },
            "type": "scatter3d"
           }
          ],
          "scattercarpet": [
           {
            "marker": {
             "colorbar": {
              "outlinewidth": 0,
              "ticks": ""
             }
            },
            "type": "scattercarpet"
           }
          ],
          "scattergeo": [
           {
            "marker": {
             "colorbar": {
              "outlinewidth": 0,
              "ticks": ""
             }
            },
            "type": "scattergeo"
           }
          ],
          "scattergl": [
           {
            "marker": {
             "colorbar": {
              "outlinewidth": 0,
              "ticks": ""
             }
            },
            "type": "scattergl"
           }
          ],
          "scattermapbox": [
           {
            "marker": {
             "colorbar": {
              "outlinewidth": 0,
              "ticks": ""
             }
            },
            "type": "scattermapbox"
           }
          ],
          "scatterpolar": [
           {
            "marker": {
             "colorbar": {
              "outlinewidth": 0,
              "ticks": ""
             }
            },
            "type": "scatterpolar"
           }
          ],
          "scatterpolargl": [
           {
            "marker": {
             "colorbar": {
              "outlinewidth": 0,
              "ticks": ""
             }
            },
            "type": "scatterpolargl"
           }
          ],
          "scatterternary": [
           {
            "marker": {
             "colorbar": {
              "outlinewidth": 0,
              "ticks": ""
             }
            },
            "type": "scatterternary"
           }
          ],
          "surface": [
           {
            "colorbar": {
             "outlinewidth": 0,
             "ticks": ""
            },
            "colorscale": [
             [
              0,
              "#0d0887"
             ],
             [
              0.1111111111111111,
              "#46039f"
             ],
             [
              0.2222222222222222,
              "#7201a8"
             ],
             [
              0.3333333333333333,
              "#9c179e"
             ],
             [
              0.4444444444444444,
              "#bd3786"
             ],
             [
              0.5555555555555556,
              "#d8576b"
             ],
             [
              0.6666666666666666,
              "#ed7953"
             ],
             [
              0.7777777777777778,
              "#fb9f3a"
             ],
             [
              0.8888888888888888,
              "#fdca26"
             ],
             [
              1,
              "#f0f921"
             ]
            ],
            "type": "surface"
           }
          ],
          "table": [
           {
            "cells": {
             "fill": {
              "color": "#EBF0F8"
             },
             "line": {
              "color": "white"
             }
            },
            "header": {
             "fill": {
              "color": "#C8D4E3"
             },
             "line": {
              "color": "white"
             }
            },
            "type": "table"
           }
          ]
         },
         "layout": {
          "annotationdefaults": {
           "arrowcolor": "#2a3f5f",
           "arrowhead": 0,
           "arrowwidth": 1
          },
          "autotypenumbers": "strict",
          "coloraxis": {
           "colorbar": {
            "outlinewidth": 0,
            "ticks": ""
           }
          },
          "colorscale": {
           "diverging": [
            [
             0,
             "#8e0152"
            ],
            [
             0.1,
             "#c51b7d"
            ],
            [
             0.2,
             "#de77ae"
            ],
            [
             0.3,
             "#f1b6da"
            ],
            [
             0.4,
             "#fde0ef"
            ],
            [
             0.5,
             "#f7f7f7"
            ],
            [
             0.6,
             "#e6f5d0"
            ],
            [
             0.7,
             "#b8e186"
            ],
            [
             0.8,
             "#7fbc41"
            ],
            [
             0.9,
             "#4d9221"
            ],
            [
             1,
             "#276419"
            ]
           ],
           "sequential": [
            [
             0,
             "#0d0887"
            ],
            [
             0.1111111111111111,
             "#46039f"
            ],
            [
             0.2222222222222222,
             "#7201a8"
            ],
            [
             0.3333333333333333,
             "#9c179e"
            ],
            [
             0.4444444444444444,
             "#bd3786"
            ],
            [
             0.5555555555555556,
             "#d8576b"
            ],
            [
             0.6666666666666666,
             "#ed7953"
            ],
            [
             0.7777777777777778,
             "#fb9f3a"
            ],
            [
             0.8888888888888888,
             "#fdca26"
            ],
            [
             1,
             "#f0f921"
            ]
           ],
           "sequentialminus": [
            [
             0,
             "#0d0887"
            ],
            [
             0.1111111111111111,
             "#46039f"
            ],
            [
             0.2222222222222222,
             "#7201a8"
            ],
            [
             0.3333333333333333,
             "#9c179e"
            ],
            [
             0.4444444444444444,
             "#bd3786"
            ],
            [
             0.5555555555555556,
             "#d8576b"
            ],
            [
             0.6666666666666666,
             "#ed7953"
            ],
            [
             0.7777777777777778,
             "#fb9f3a"
            ],
            [
             0.8888888888888888,
             "#fdca26"
            ],
            [
             1,
             "#f0f921"
            ]
           ]
          },
          "colorway": [
           "#636efa",
           "#EF553B",
           "#00cc96",
           "#ab63fa",
           "#FFA15A",
           "#19d3f3",
           "#FF6692",
           "#B6E880",
           "#FF97FF",
           "#FECB52"
          ],
          "font": {
           "color": "#2a3f5f"
          },
          "geo": {
           "bgcolor": "white",
           "lakecolor": "white",
           "landcolor": "#E5ECF6",
           "showlakes": true,
           "showland": true,
           "subunitcolor": "white"
          },
          "hoverlabel": {
           "align": "left"
          },
          "hovermode": "closest",
          "mapbox": {
           "style": "light"
          },
          "paper_bgcolor": "white",
          "plot_bgcolor": "#E5ECF6",
          "polar": {
           "angularaxis": {
            "gridcolor": "white",
            "linecolor": "white",
            "ticks": ""
           },
           "bgcolor": "#E5ECF6",
           "radialaxis": {
            "gridcolor": "white",
            "linecolor": "white",
            "ticks": ""
           }
          },
          "scene": {
           "xaxis": {
            "backgroundcolor": "#E5ECF6",
            "gridcolor": "white",
            "gridwidth": 2,
            "linecolor": "white",
            "showbackground": true,
            "ticks": "",
            "zerolinecolor": "white"
           },
           "yaxis": {
            "backgroundcolor": "#E5ECF6",
            "gridcolor": "white",
            "gridwidth": 2,
            "linecolor": "white",
            "showbackground": true,
            "ticks": "",
            "zerolinecolor": "white"
           },
           "zaxis": {
            "backgroundcolor": "#E5ECF6",
            "gridcolor": "white",
            "gridwidth": 2,
            "linecolor": "white",
            "showbackground": true,
            "ticks": "",
            "zerolinecolor": "white"
           }
          },
          "shapedefaults": {
           "line": {
            "color": "#2a3f5f"
           }
          },
          "ternary": {
           "aaxis": {
            "gridcolor": "white",
            "linecolor": "white",
            "ticks": ""
           },
           "baxis": {
            "gridcolor": "white",
            "linecolor": "white",
            "ticks": ""
           },
           "bgcolor": "#E5ECF6",
           "caxis": {
            "gridcolor": "white",
            "linecolor": "white",
            "ticks": ""
           }
          },
          "title": {
           "x": 0.05
          },
          "xaxis": {
           "automargin": true,
           "gridcolor": "white",
           "linecolor": "white",
           "ticks": "",
           "title": {
            "standoff": 15
           },
           "zerolinecolor": "white",
           "zerolinewidth": 2
          },
          "yaxis": {
           "automargin": true,
           "gridcolor": "white",
           "linecolor": "white",
           "ticks": "",
           "title": {
            "standoff": 15
           },
           "zerolinecolor": "white",
           "zerolinewidth": 2
          }
         }
        },
        "title": {
         "text": "Naive Model: Forecast Metrics by Horizon"
        },
        "width": 800
       }
      }
     },
     "metadata": {},
     "output_type": "display_data"
    },
    {
     "data": {
      "application/vnd.plotly.v1+json": {
       "config": {
        "plotlyServerURL": "https://plot.ly"
       },
       "data": [
        {
         "line": {
          "color": "blue"
         },
         "mode": "lines+markers",
         "name": "Werkelijke prijs (kWh)",
         "type": "scatter",
         "x": [
          "2025-02-24T00:00:00",
          "2025-02-24T01:00:00",
          "2025-02-24T02:00:00",
          "2025-02-24T03:00:00",
          "2025-02-24T04:00:00",
          "2025-02-24T05:00:00",
          "2025-02-24T06:00:00",
          "2025-02-24T07:00:00",
          "2025-02-24T08:00:00",
          "2025-02-24T09:00:00",
          "2025-02-24T10:00:00",
          "2025-02-24T11:00:00",
          "2025-02-24T12:00:00",
          "2025-02-24T13:00:00",
          "2025-02-24T14:00:00",
          "2025-02-24T15:00:00",
          "2025-02-24T16:00:00",
          "2025-02-24T17:00:00",
          "2025-02-24T18:00:00",
          "2025-02-24T19:00:00",
          "2025-02-24T20:00:00",
          "2025-02-24T21:00:00",
          "2025-02-24T22:00:00",
          "2025-02-24T23:00:00",
          "2025-02-25T00:00:00",
          "2025-02-25T01:00:00",
          "2025-02-25T02:00:00",
          "2025-02-25T03:00:00",
          "2025-02-25T04:00:00",
          "2025-02-25T05:00:00",
          "2025-02-25T06:00:00",
          "2025-02-25T07:00:00",
          "2025-02-25T08:00:00",
          "2025-02-25T09:00:00",
          "2025-02-25T10:00:00",
          "2025-02-25T11:00:00",
          "2025-02-25T12:00:00",
          "2025-02-25T13:00:00",
          "2025-02-25T14:00:00",
          "2025-02-25T15:00:00",
          "2025-02-25T16:00:00",
          "2025-02-25T17:00:00",
          "2025-02-25T18:00:00",
          "2025-02-25T19:00:00",
          "2025-02-25T20:00:00",
          "2025-02-25T21:00:00",
          "2025-02-25T22:00:00",
          "2025-02-25T23:00:00",
          "2025-02-26T00:00:00",
          "2025-02-26T01:00:00",
          "2025-02-26T02:00:00",
          "2025-02-26T03:00:00",
          "2025-02-26T04:00:00",
          "2025-02-26T05:00:00",
          "2025-02-26T06:00:00",
          "2025-02-26T07:00:00",
          "2025-02-26T08:00:00",
          "2025-02-26T09:00:00",
          "2025-02-26T10:00:00",
          "2025-02-26T11:00:00",
          "2025-02-26T12:00:00",
          "2025-02-26T13:00:00",
          "2025-02-26T14:00:00",
          "2025-02-26T15:00:00",
          "2025-02-26T16:00:00",
          "2025-02-26T17:00:00",
          "2025-02-26T18:00:00",
          "2025-02-26T19:00:00",
          "2025-02-26T20:00:00",
          "2025-02-26T21:00:00",
          "2025-02-26T22:00:00",
          "2025-02-26T23:00:00",
          "2025-02-27T00:00:00",
          "2025-02-27T01:00:00",
          "2025-02-27T02:00:00",
          "2025-02-27T03:00:00",
          "2025-02-27T04:00:00",
          "2025-02-27T05:00:00",
          "2025-02-27T06:00:00",
          "2025-02-27T07:00:00",
          "2025-02-27T08:00:00",
          "2025-02-27T09:00:00",
          "2025-02-27T10:00:00",
          "2025-02-27T11:00:00",
          "2025-02-27T12:00:00",
          "2025-02-27T13:00:00",
          "2025-02-27T14:00:00",
          "2025-02-27T15:00:00",
          "2025-02-27T16:00:00",
          "2025-02-27T17:00:00",
          "2025-02-27T18:00:00",
          "2025-02-27T19:00:00",
          "2025-02-27T20:00:00",
          "2025-02-27T21:00:00",
          "2025-02-27T22:00:00",
          "2025-02-27T23:00:00",
          "2025-02-28T00:00:00",
          "2025-02-28T01:00:00",
          "2025-02-28T02:00:00",
          "2025-02-28T03:00:00",
          "2025-02-28T04:00:00",
          "2025-02-28T05:00:00",
          "2025-02-28T06:00:00",
          "2025-02-28T07:00:00",
          "2025-02-28T08:00:00",
          "2025-02-28T09:00:00",
          "2025-02-28T10:00:00",
          "2025-02-28T11:00:00",
          "2025-02-28T12:00:00",
          "2025-02-28T13:00:00",
          "2025-02-28T14:00:00",
          "2025-02-28T15:00:00",
          "2025-02-28T16:00:00",
          "2025-02-28T17:00:00",
          "2025-02-28T18:00:00",
          "2025-02-28T19:00:00",
          "2025-02-28T20:00:00",
          "2025-02-28T21:00:00",
          "2025-02-28T22:00:00",
          "2025-02-28T23:00:00",
          "2025-03-01T00:00:00",
          "2025-03-01T01:00:00",
          "2025-03-01T02:00:00",
          "2025-03-01T03:00:00",
          "2025-03-01T04:00:00",
          "2025-03-01T05:00:00",
          "2025-03-01T06:00:00",
          "2025-03-01T07:00:00",
          "2025-03-01T08:00:00",
          "2025-03-01T09:00:00",
          "2025-03-01T10:00:00",
          "2025-03-01T11:00:00",
          "2025-03-01T12:00:00",
          "2025-03-01T13:00:00",
          "2025-03-01T14:00:00",
          "2025-03-01T15:00:00",
          "2025-03-01T16:00:00",
          "2025-03-01T17:00:00",
          "2025-03-01T18:00:00",
          "2025-03-01T19:00:00",
          "2025-03-01T20:00:00",
          "2025-03-01T21:00:00",
          "2025-03-01T22:00:00",
          "2025-03-01T23:00:00",
          "2025-03-02T00:00:00",
          "2025-03-02T01:00:00",
          "2025-03-02T02:00:00",
          "2025-03-02T03:00:00",
          "2025-03-02T04:00:00",
          "2025-03-02T05:00:00",
          "2025-03-02T06:00:00",
          "2025-03-02T07:00:00",
          "2025-03-02T08:00:00",
          "2025-03-02T09:00:00",
          "2025-03-02T10:00:00",
          "2025-03-02T11:00:00",
          "2025-03-02T12:00:00",
          "2025-03-02T13:00:00",
          "2025-03-02T14:00:00",
          "2025-03-02T15:00:00",
          "2025-03-02T16:00:00",
          "2025-03-02T17:00:00",
          "2025-03-02T18:00:00",
          "2025-03-02T19:00:00",
          "2025-03-02T20:00:00",
          "2025-03-02T21:00:00",
          "2025-03-02T22:00:00",
          "2025-03-02T23:00:00",
          "2025-03-03T00:00:00",
          "2025-03-03T01:00:00",
          "2025-03-03T02:00:00",
          "2025-03-03T03:00:00",
          "2025-03-03T04:00:00",
          "2025-03-03T05:00:00",
          "2025-03-03T06:00:00",
          "2025-03-03T07:00:00",
          "2025-03-03T08:00:00",
          "2025-03-03T09:00:00",
          "2025-03-03T10:00:00",
          "2025-03-03T11:00:00",
          "2025-03-03T12:00:00",
          "2025-03-03T13:00:00",
          "2025-03-03T14:00:00",
          "2025-03-03T15:00:00",
          "2025-03-03T16:00:00",
          "2025-03-03T17:00:00",
          "2025-03-03T18:00:00",
          "2025-03-03T19:00:00",
          "2025-03-03T20:00:00",
          "2025-03-03T21:00:00",
          "2025-03-03T22:00:00",
          "2025-03-03T23:00:00",
          "2025-03-04T00:00:00",
          "2025-03-04T01:00:00",
          "2025-03-04T02:00:00",
          "2025-03-04T03:00:00",
          "2025-03-04T04:00:00",
          "2025-03-04T05:00:00",
          "2025-03-04T06:00:00",
          "2025-03-04T07:00:00",
          "2025-03-04T08:00:00",
          "2025-03-04T09:00:00",
          "2025-03-04T10:00:00",
          "2025-03-04T11:00:00",
          "2025-03-04T12:00:00",
          "2025-03-04T13:00:00",
          "2025-03-04T14:00:00",
          "2025-03-04T15:00:00",
          "2025-03-04T16:00:00",
          "2025-03-04T17:00:00",
          "2025-03-04T18:00:00",
          "2025-03-04T19:00:00",
          "2025-03-04T20:00:00",
          "2025-03-04T21:00:00",
          "2025-03-04T22:00:00",
          "2025-03-04T23:00:00",
          "2025-03-05T00:00:00",
          "2025-03-05T01:00:00",
          "2025-03-05T02:00:00",
          "2025-03-05T03:00:00",
          "2025-03-05T04:00:00",
          "2025-03-05T05:00:00",
          "2025-03-05T06:00:00",
          "2025-03-05T07:00:00",
          "2025-03-05T08:00:00",
          "2025-03-05T09:00:00",
          "2025-03-05T10:00:00",
          "2025-03-05T11:00:00",
          "2025-03-05T12:00:00",
          "2025-03-05T13:00:00",
          "2025-03-05T14:00:00",
          "2025-03-05T15:00:00",
          "2025-03-05T16:00:00",
          "2025-03-05T17:00:00",
          "2025-03-05T18:00:00",
          "2025-03-05T19:00:00",
          "2025-03-05T20:00:00",
          "2025-03-05T21:00:00",
          "2025-03-05T22:00:00",
          "2025-03-05T23:00:00",
          "2025-03-06T00:00:00",
          "2025-03-06T01:00:00",
          "2025-03-06T02:00:00",
          "2025-03-06T03:00:00",
          "2025-03-06T04:00:00",
          "2025-03-06T05:00:00",
          "2025-03-06T06:00:00",
          "2025-03-06T07:00:00",
          "2025-03-06T08:00:00",
          "2025-03-06T09:00:00",
          "2025-03-06T10:00:00",
          "2025-03-06T11:00:00",
          "2025-03-06T12:00:00",
          "2025-03-06T13:00:00",
          "2025-03-06T14:00:00",
          "2025-03-06T15:00:00",
          "2025-03-06T16:00:00",
          "2025-03-06T17:00:00",
          "2025-03-06T18:00:00",
          "2025-03-06T19:00:00",
          "2025-03-06T20:00:00",
          "2025-03-06T21:00:00",
          "2025-03-06T22:00:00",
          "2025-03-06T23:00:00",
          "2025-03-07T00:00:00",
          "2025-03-07T01:00:00",
          "2025-03-07T02:00:00",
          "2025-03-07T03:00:00",
          "2025-03-07T04:00:00",
          "2025-03-07T05:00:00",
          "2025-03-07T06:00:00",
          "2025-03-07T07:00:00",
          "2025-03-07T08:00:00",
          "2025-03-07T09:00:00",
          "2025-03-07T10:00:00",
          "2025-03-07T11:00:00",
          "2025-03-07T12:00:00",
          "2025-03-07T13:00:00",
          "2025-03-07T14:00:00",
          "2025-03-07T15:00:00",
          "2025-03-07T16:00:00",
          "2025-03-07T17:00:00",
          "2025-03-07T18:00:00",
          "2025-03-07T19:00:00",
          "2025-03-07T20:00:00",
          "2025-03-07T21:00:00",
          "2025-03-07T22:00:00",
          "2025-03-07T23:00:00",
          "2025-03-08T00:00:00",
          "2025-03-08T01:00:00",
          "2025-03-08T02:00:00",
          "2025-03-08T03:00:00",
          "2025-03-08T04:00:00",
          "2025-03-08T05:00:00",
          "2025-03-08T06:00:00",
          "2025-03-08T07:00:00",
          "2025-03-08T08:00:00",
          "2025-03-08T09:00:00",
          "2025-03-08T10:00:00",
          "2025-03-08T11:00:00",
          "2025-03-08T12:00:00",
          "2025-03-08T13:00:00",
          "2025-03-08T14:00:00",
          "2025-03-08T15:00:00",
          "2025-03-08T16:00:00",
          "2025-03-08T17:00:00",
          "2025-03-08T18:00:00",
          "2025-03-08T19:00:00",
          "2025-03-08T20:00:00",
          "2025-03-08T21:00:00",
          "2025-03-08T22:00:00",
          "2025-03-08T23:00:00",
          "2025-03-09T00:00:00",
          "2025-03-09T01:00:00",
          "2025-03-09T02:00:00",
          "2025-03-09T03:00:00",
          "2025-03-09T04:00:00",
          "2025-03-09T05:00:00",
          "2025-03-09T06:00:00",
          "2025-03-09T07:00:00",
          "2025-03-09T08:00:00",
          "2025-03-09T09:00:00",
          "2025-03-09T10:00:00",
          "2025-03-09T11:00:00",
          "2025-03-09T12:00:00",
          "2025-03-09T13:00:00",
          "2025-03-09T14:00:00",
          "2025-03-09T15:00:00",
          "2025-03-09T16:00:00",
          "2025-03-09T17:00:00",
          "2025-03-09T18:00:00",
          "2025-03-09T19:00:00",
          "2025-03-09T20:00:00",
          "2025-03-09T21:00:00",
          "2025-03-09T22:00:00",
          "2025-03-09T23:00:00",
          "2025-03-10T00:00:00",
          "2025-03-10T01:00:00",
          "2025-03-10T02:00:00",
          "2025-03-10T03:00:00",
          "2025-03-10T04:00:00",
          "2025-03-10T05:00:00",
          "2025-03-10T06:00:00",
          "2025-03-10T07:00:00",
          "2025-03-10T08:00:00",
          "2025-03-10T09:00:00",
          "2025-03-10T10:00:00",
          "2025-03-10T11:00:00",
          "2025-03-10T12:00:00",
          "2025-03-10T13:00:00",
          "2025-03-10T14:00:00",
          "2025-03-10T15:00:00",
          "2025-03-10T16:00:00",
          "2025-03-10T17:00:00",
          "2025-03-10T18:00:00",
          "2025-03-10T19:00:00",
          "2025-03-10T20:00:00",
          "2025-03-10T21:00:00",
          "2025-03-10T22:00:00",
          "2025-03-10T23:00:00",
          "2025-03-11T00:00:00",
          "2025-03-11T01:00:00",
          "2025-03-11T02:00:00",
          "2025-03-11T03:00:00",
          "2025-03-11T04:00:00",
          "2025-03-11T05:00:00",
          "2025-03-11T06:00:00",
          "2025-03-11T07:00:00",
          "2025-03-11T08:00:00",
          "2025-03-11T09:00:00",
          "2025-03-11T10:00:00",
          "2025-03-11T11:00:00",
          "2025-03-11T12:00:00",
          "2025-03-11T13:00:00",
          "2025-03-11T14:00:00",
          "2025-03-11T15:00:00",
          "2025-03-11T16:00:00",
          "2025-03-11T17:00:00",
          "2025-03-11T18:00:00",
          "2025-03-11T19:00:00",
          "2025-03-11T20:00:00",
          "2025-03-11T21:00:00",
          "2025-03-11T22:00:00",
          "2025-03-11T23:00:00",
          "2025-03-12T00:00:00",
          "2025-03-12T01:00:00",
          "2025-03-12T02:00:00",
          "2025-03-12T03:00:00",
          "2025-03-12T04:00:00",
          "2025-03-12T05:00:00",
          "2025-03-12T06:00:00",
          "2025-03-12T07:00:00",
          "2025-03-12T08:00:00",
          "2025-03-12T09:00:00",
          "2025-03-12T10:00:00",
          "2025-03-12T11:00:00",
          "2025-03-12T12:00:00",
          "2025-03-12T13:00:00",
          "2025-03-12T14:00:00",
          "2025-03-12T15:00:00",
          "2025-03-12T16:00:00",
          "2025-03-12T17:00:00",
          "2025-03-12T18:00:00",
          "2025-03-12T19:00:00",
          "2025-03-12T20:00:00",
          "2025-03-12T21:00:00",
          "2025-03-12T22:00:00",
          "2025-03-12T23:00:00",
          "2025-03-13T00:00:00",
          "2025-03-13T01:00:00",
          "2025-03-13T02:00:00",
          "2025-03-13T03:00:00",
          "2025-03-13T04:00:00",
          "2025-03-13T05:00:00",
          "2025-03-13T06:00:00",
          "2025-03-13T07:00:00",
          "2025-03-13T08:00:00",
          "2025-03-13T09:00:00",
          "2025-03-13T10:00:00",
          "2025-03-13T11:00:00",
          "2025-03-13T12:00:00",
          "2025-03-13T13:00:00",
          "2025-03-13T14:00:00",
          "2025-03-13T15:00:00",
          "2025-03-13T16:00:00",
          "2025-03-13T17:00:00",
          "2025-03-13T18:00:00",
          "2025-03-13T19:00:00",
          "2025-03-13T20:00:00",
          "2025-03-13T21:00:00",
          "2025-03-13T22:00:00",
          "2025-03-13T23:00:00",
          "2025-03-14T00:00:00",
          "2025-03-14T01:00:00",
          "2025-03-14T02:00:00",
          "2025-03-14T03:00:00",
          "2025-03-14T04:00:00",
          "2025-03-14T05:00:00",
          "2025-03-14T06:00:00",
          "2025-03-14T07:00:00",
          "2025-03-14T08:00:00",
          "2025-03-14T09:00:00",
          "2025-03-14T10:00:00",
          "2025-03-14T11:00:00",
          "2025-03-14T12:00:00",
          "2025-03-14T13:00:00",
          "2025-03-14T14:00:00",
          "2025-03-14T15:00:00",
          "2025-03-14T16:00:00",
          "2025-03-14T17:00:00",
          "2025-03-14T18:00:00",
          "2025-03-14T19:00:00",
          "2025-03-14T20:00:00",
          "2025-03-14T21:00:00",
          "2025-03-14T22:00:00",
          "2025-03-14T23:00:00",
          "2025-03-15T00:00:00",
          "2025-03-15T01:00:00",
          "2025-03-15T02:00:00",
          "2025-03-15T03:00:00",
          "2025-03-15T04:00:00",
          "2025-03-15T05:00:00",
          "2025-03-15T06:00:00",
          "2025-03-15T07:00:00",
          "2025-03-15T08:00:00",
          "2025-03-15T09:00:00",
          "2025-03-15T10:00:00",
          "2025-03-15T11:00:00",
          "2025-03-15T12:00:00",
          "2025-03-15T13:00:00",
          "2025-03-15T14:00:00",
          "2025-03-15T15:00:00",
          "2025-03-15T16:00:00",
          "2025-03-15T17:00:00",
          "2025-03-15T18:00:00",
          "2025-03-15T19:00:00",
          "2025-03-15T20:00:00",
          "2025-03-15T21:00:00",
          "2025-03-15T22:00:00",
          "2025-03-15T23:00:00",
          "2025-03-16T00:00:00",
          "2025-03-16T01:00:00",
          "2025-03-16T02:00:00",
          "2025-03-16T03:00:00",
          "2025-03-16T04:00:00",
          "2025-03-16T05:00:00",
          "2025-03-16T06:00:00",
          "2025-03-16T07:00:00",
          "2025-03-16T08:00:00",
          "2025-03-16T09:00:00",
          "2025-03-16T10:00:00",
          "2025-03-16T11:00:00",
          "2025-03-16T12:00:00",
          "2025-03-16T13:00:00",
          "2025-03-16T14:00:00",
          "2025-03-16T15:00:00",
          "2025-03-16T16:00:00",
          "2025-03-16T17:00:00",
          "2025-03-16T18:00:00",
          "2025-03-16T19:00:00",
          "2025-03-16T20:00:00",
          "2025-03-16T21:00:00",
          "2025-03-16T22:00:00",
          "2025-03-16T23:00:00",
          "2025-03-17T00:00:00",
          "2025-03-17T01:00:00",
          "2025-03-17T02:00:00",
          "2025-03-17T03:00:00",
          "2025-03-17T04:00:00",
          "2025-03-17T05:00:00",
          "2025-03-17T06:00:00",
          "2025-03-17T07:00:00",
          "2025-03-17T08:00:00",
          "2025-03-17T09:00:00",
          "2025-03-17T10:00:00",
          "2025-03-17T11:00:00",
          "2025-03-17T12:00:00",
          "2025-03-17T13:00:00",
          "2025-03-17T14:00:00",
          "2025-03-17T15:00:00",
          "2025-03-17T16:00:00",
          "2025-03-17T17:00:00",
          "2025-03-17T18:00:00",
          "2025-03-17T19:00:00",
          "2025-03-17T20:00:00",
          "2025-03-17T21:00:00",
          "2025-03-17T22:00:00",
          "2025-03-17T23:00:00",
          "2025-03-18T00:00:00",
          "2025-03-18T01:00:00",
          "2025-03-18T02:00:00",
          "2025-03-18T03:00:00",
          "2025-03-18T04:00:00",
          "2025-03-18T05:00:00",
          "2025-03-18T06:00:00",
          "2025-03-18T07:00:00",
          "2025-03-18T08:00:00",
          "2025-03-18T09:00:00",
          "2025-03-18T10:00:00",
          "2025-03-18T11:00:00",
          "2025-03-18T12:00:00",
          "2025-03-18T13:00:00",
          "2025-03-18T14:00:00",
          "2025-03-18T15:00:00",
          "2025-03-18T16:00:00",
          "2025-03-18T17:00:00",
          "2025-03-18T18:00:00",
          "2025-03-18T19:00:00",
          "2025-03-18T20:00:00",
          "2025-03-18T21:00:00",
          "2025-03-18T22:00:00",
          "2025-03-18T23:00:00",
          "2025-03-19T00:00:00",
          "2025-03-19T01:00:00",
          "2025-03-19T02:00:00",
          "2025-03-19T03:00:00",
          "2025-03-19T04:00:00",
          "2025-03-19T05:00:00",
          "2025-03-19T06:00:00",
          "2025-03-19T07:00:00",
          "2025-03-19T08:00:00",
          "2025-03-19T09:00:00",
          "2025-03-19T10:00:00",
          "2025-03-19T11:00:00",
          "2025-03-19T12:00:00",
          "2025-03-19T13:00:00",
          "2025-03-19T14:00:00",
          "2025-03-19T15:00:00",
          "2025-03-19T16:00:00",
          "2025-03-19T17:00:00",
          "2025-03-19T18:00:00",
          "2025-03-19T19:00:00",
          "2025-03-19T20:00:00",
          "2025-03-19T21:00:00",
          "2025-03-19T22:00:00",
          "2025-03-19T23:00:00",
          "2025-03-20T00:00:00",
          "2025-03-20T01:00:00",
          "2025-03-20T02:00:00",
          "2025-03-20T03:00:00",
          "2025-03-20T04:00:00",
          "2025-03-20T05:00:00",
          "2025-03-20T06:00:00",
          "2025-03-20T07:00:00",
          "2025-03-20T08:00:00",
          "2025-03-20T09:00:00",
          "2025-03-20T10:00:00",
          "2025-03-20T11:00:00",
          "2025-03-20T12:00:00",
          "2025-03-20T13:00:00",
          "2025-03-20T14:00:00",
          "2025-03-20T15:00:00",
          "2025-03-20T16:00:00",
          "2025-03-20T17:00:00",
          "2025-03-20T18:00:00",
          "2025-03-20T19:00:00",
          "2025-03-20T20:00:00",
          "2025-03-20T21:00:00",
          "2025-03-20T22:00:00",
          "2025-03-20T23:00:00",
          "2025-03-21T00:00:00",
          "2025-03-21T01:00:00",
          "2025-03-21T02:00:00",
          "2025-03-21T03:00:00",
          "2025-03-21T04:00:00",
          "2025-03-21T05:00:00",
          "2025-03-21T06:00:00",
          "2025-03-21T07:00:00",
          "2025-03-21T08:00:00",
          "2025-03-21T09:00:00",
          "2025-03-21T10:00:00",
          "2025-03-21T11:00:00",
          "2025-03-21T12:00:00",
          "2025-03-21T13:00:00",
          "2025-03-21T14:00:00",
          "2025-03-21T15:00:00",
          "2025-03-21T16:00:00",
          "2025-03-21T17:00:00",
          "2025-03-21T18:00:00",
          "2025-03-21T19:00:00",
          "2025-03-21T20:00:00",
          "2025-03-21T21:00:00",
          "2025-03-21T22:00:00",
          "2025-03-21T23:00:00",
          "2025-03-22T00:00:00",
          "2025-03-22T01:00:00",
          "2025-03-22T02:00:00",
          "2025-03-22T03:00:00",
          "2025-03-22T04:00:00",
          "2025-03-22T05:00:00",
          "2025-03-22T06:00:00",
          "2025-03-22T07:00:00",
          "2025-03-22T08:00:00",
          "2025-03-22T09:00:00",
          "2025-03-22T10:00:00",
          "2025-03-22T11:00:00",
          "2025-03-22T12:00:00",
          "2025-03-22T13:00:00",
          "2025-03-22T14:00:00",
          "2025-03-22T15:00:00",
          "2025-03-22T16:00:00",
          "2025-03-22T17:00:00",
          "2025-03-22T18:00:00",
          "2025-03-22T19:00:00",
          "2025-03-22T20:00:00",
          "2025-03-22T21:00:00",
          "2025-03-22T22:00:00",
          "2025-03-22T23:00:00",
          "2025-03-23T00:00:00",
          "2025-03-23T01:00:00",
          "2025-03-23T02:00:00",
          "2025-03-23T03:00:00",
          "2025-03-23T04:00:00",
          "2025-03-23T05:00:00",
          "2025-03-23T06:00:00",
          "2025-03-23T07:00:00",
          "2025-03-23T08:00:00",
          "2025-03-23T09:00:00",
          "2025-03-23T10:00:00",
          "2025-03-23T11:00:00",
          "2025-03-23T12:00:00",
          "2025-03-23T13:00:00",
          "2025-03-23T14:00:00",
          "2025-03-23T15:00:00",
          "2025-03-23T16:00:00",
          "2025-03-23T17:00:00",
          "2025-03-23T18:00:00",
          "2025-03-23T19:00:00",
          "2025-03-23T20:00:00",
          "2025-03-23T21:00:00",
          "2025-03-23T22:00:00",
          "2025-03-23T23:00:00",
          "2025-03-24T00:00:00",
          "2025-03-24T01:00:00",
          "2025-03-24T02:00:00",
          "2025-03-24T03:00:00",
          "2025-03-24T04:00:00",
          "2025-03-24T05:00:00",
          "2025-03-24T06:00:00",
          "2025-03-24T07:00:00",
          "2025-03-24T08:00:00",
          "2025-03-24T09:00:00",
          "2025-03-24T10:00:00",
          "2025-03-24T11:00:00",
          "2025-03-24T12:00:00",
          "2025-03-24T13:00:00",
          "2025-03-24T14:00:00",
          "2025-03-24T15:00:00",
          "2025-03-24T16:00:00",
          "2025-03-24T17:00:00",
          "2025-03-24T18:00:00",
          "2025-03-24T19:00:00",
          "2025-03-24T20:00:00",
          "2025-03-24T21:00:00",
          "2025-03-24T22:00:00",
          "2025-03-24T23:00:00",
          "2025-03-25T00:00:00",
          "2025-03-25T01:00:00",
          "2025-03-25T02:00:00",
          "2025-03-25T03:00:00",
          "2025-03-25T04:00:00",
          "2025-03-25T05:00:00",
          "2025-03-25T06:00:00",
          "2025-03-25T07:00:00",
          "2025-03-25T08:00:00",
          "2025-03-25T09:00:00",
          "2025-03-25T10:00:00",
          "2025-03-25T11:00:00",
          "2025-03-25T12:00:00",
          "2025-03-25T13:00:00",
          "2025-03-25T14:00:00",
          "2025-03-25T15:00:00",
          "2025-03-25T16:00:00",
          "2025-03-25T17:00:00",
          "2025-03-25T18:00:00",
          "2025-03-25T19:00:00",
          "2025-03-25T20:00:00",
          "2025-03-25T21:00:00",
          "2025-03-25T22:00:00",
          "2025-03-25T23:00:00",
          "2025-03-26T00:00:00",
          "2025-03-26T01:00:00",
          "2025-03-26T02:00:00",
          "2025-03-26T03:00:00",
          "2025-03-26T04:00:00",
          "2025-03-26T05:00:00",
          "2025-03-26T06:00:00",
          "2025-03-26T07:00:00",
          "2025-03-26T08:00:00",
          "2025-03-26T09:00:00",
          "2025-03-26T10:00:00",
          "2025-03-26T11:00:00",
          "2025-03-26T12:00:00",
          "2025-03-26T13:00:00",
          "2025-03-26T14:00:00",
          "2025-03-26T15:00:00",
          "2025-03-26T16:00:00",
          "2025-03-26T17:00:00",
          "2025-03-26T18:00:00",
          "2025-03-26T19:00:00",
          "2025-03-26T20:00:00",
          "2025-03-26T21:00:00",
          "2025-03-26T22:00:00",
          "2025-03-26T23:00:00",
          "2025-03-27T00:00:00",
          "2025-03-27T01:00:00",
          "2025-03-27T02:00:00",
          "2025-03-27T03:00:00",
          "2025-03-27T04:00:00",
          "2025-03-27T05:00:00",
          "2025-03-27T06:00:00",
          "2025-03-27T07:00:00",
          "2025-03-27T08:00:00",
          "2025-03-27T09:00:00",
          "2025-03-27T10:00:00",
          "2025-03-27T11:00:00",
          "2025-03-27T12:00:00",
          "2025-03-27T13:00:00",
          "2025-03-27T14:00:00",
          "2025-03-27T15:00:00",
          "2025-03-27T16:00:00",
          "2025-03-27T17:00:00",
          "2025-03-27T18:00:00",
          "2025-03-27T19:00:00",
          "2025-03-27T20:00:00",
          "2025-03-27T21:00:00",
          "2025-03-27T22:00:00",
          "2025-03-27T23:00:00",
          "2025-03-28T00:00:00",
          "2025-03-28T01:00:00",
          "2025-03-28T02:00:00",
          "2025-03-28T03:00:00",
          "2025-03-28T04:00:00",
          "2025-03-28T05:00:00",
          "2025-03-28T06:00:00",
          "2025-03-28T07:00:00",
          "2025-03-28T08:00:00",
          "2025-03-28T09:00:00",
          "2025-03-28T10:00:00",
          "2025-03-28T11:00:00",
          "2025-03-28T12:00:00",
          "2025-03-28T13:00:00",
          "2025-03-28T14:00:00",
          "2025-03-28T15:00:00",
          "2025-03-28T16:00:00",
          "2025-03-28T17:00:00",
          "2025-03-28T18:00:00",
          "2025-03-28T19:00:00",
          "2025-03-28T20:00:00",
          "2025-03-28T21:00:00",
          "2025-03-28T22:00:00",
          "2025-03-28T23:00:00",
          "2025-03-29T00:00:00"
         ],
         "y": [
          0.01,
          0.011890000000000001,
          0.01243,
          0.007679999999999999,
          0.00393,
          0.007,
          0.052,
          0.08929000000000001,
          0.11033,
          0.0955,
          0.08186,
          0.085,
          0.08304,
          0.08419,
          0.08736,
          0.0932,
          0.10355,
          0.11453,
          0.1407,
          0.15071,
          0.13066,
          0.113,
          0.11195999999999999,
          0.10685,
          0.09058,
          0.08997,
          0.09242,
          0.09244,
          0.09431999999999999,
          0.1035,
          0.14,
          0.15941,
          0.16648,
          0.14961000000000002,
          0.13488,
          0.12183,
          0.1185,
          0.11756,
          0.12439,
          0.13466999999999998,
          0.15796000000000002,
          0.19493000000000002,
          0.21580000000000002,
          0.17945,
          0.15428,
          0.13897,
          0.12641,
          0.11209000000000001,
          0.11907999999999999,
          0.11354,
          0.11278,
          0.11084999999999999,
          0.11169,
          0.11389,
          0.12844999999999998,
          0.15672,
          0.16815,
          0.15485,
          0.13311,
          0.1,
          0.08549,
          0.08,
          0.0862,
          0.1158,
          0.10962999999999999,
          0.14596,
          0.15905000000000002,
          0.15212,
          0.14156,
          0.11844,
          0.12093999999999999,
          0.11258,
          0.10165,
          0.10381,
          0.10124,
          0.0996,
          0.10041,
          0.10562,
          0.11515,
          0.15124,
          0.15915,
          0.14,
          0.12601,
          0.10812000000000001,
          0.09995,
          0.0975,
          0.0998,
          0.1,
          0.11647,
          0.14451,
          0.16887,
          0.146,
          0.12925,
          0.10490000000000001,
          0.1042,
          0.10526,
          0.09709999999999999,
          0.11054,
          0.10937999999999999,
          0.10658,
          0.11053,
          0.11112000000000001,
          0.11686,
          0.14883000000000002,
          0.16044999999999998,
          0.14107,
          0.12319,
          0.11,
          0.0964,
          0.0915,
          0.092,
          0.10115,
          0.12409999999999999,
          0.14772,
          0.15663,
          0.158,
          0.14269,
          0.13131,
          0.12554,
          0.11721,
          0.12647,
          0.11946999999999999,
          0.11661,
          0.10990000000000001,
          0.10805,
          0.11188,
          0.1171,
          0.13382,
          0.13625,
          0.13348,
          0.11944,
          0.10643000000000001,
          0.09863,
          0.09140999999999999,
          0.0891,
          0.0964,
          0.11354,
          0.13481,
          0.152,
          0.14676,
          0.13341,
          0.12543,
          0.12203,
          0.11992,
          0.12397,
          0.10772,
          0.09941,
          0.09319,
          0.09448999999999999,
          0.0943,
          0.09643,
          0.103,
          0.10323,
          0.089,
          0.0683,
          0.049,
          0.0275,
          -0.003,
          -0.0038599999999999997,
          0.0507,
          0.0799,
          0.12201999999999999,
          0.14105,
          0.14637999999999998,
          0.13335,
          0.12043999999999999,
          0.12086,
          0.11283,
          0.10828,
          0.10385,
          0.10293000000000001,
          0.0998,
          0.10346999999999999,
          0.11681,
          0.13755,
          0.163,
          0.146,
          0.09,
          0.08,
          0.0064,
          0.00033,
          -0.00176,
          0.060469999999999996,
          0.08347,
          0.10629999999999999,
          0.14275,
          0.18005000000000002,
          0.17582,
          0.15028,
          0.12739,
          0.1251,
          0.12279000000000001,
          0.12129000000000001,
          0.10976000000000001,
          0.10399,
          0.10495,
          0.10062,
          0.11039,
          0.13811,
          0.16962,
          0.14195,
          0.122,
          0.08997,
          0.03,
          -0.003,
          0.00404,
          0.05178,
          0.08152,
          0.109,
          0.14258,
          0.17393,
          0.16394999999999998,
          0.13340000000000002,
          0.11485,
          0.11429,
          0.10729000000000001,
          0.092,
          0.09290000000000001,
          0.0846,
          0.08031999999999999,
          0.08223,
          0.09237000000000001,
          0.11608,
          0.14049,
          0.14152,
          0.04423,
          -0.00624,
          -0.011,
          -0.02035,
          -0.00885,
          -0.002,
          0.04838,
          0.0861,
          0.12709,
          0.14378,
          0.14615999999999998,
          0.12231,
          0.10792,
          0.10878,
          0.09739,
          0.0841,
          0.08414,
          0.08483,
          0.08459,
          0.0901,
          0.09353,
          0.13287000000000002,
          0.14724,
          0.1085,
          0.07872,
          0.05062,
          0.00158,
          -0.00447,
          -0.00204,
          0.01316,
          0.06361,
          0.10056,
          0.13682,
          0.15572999999999998,
          0.13233,
          0.1107,
          0.10337,
          0.0964,
          0.086,
          0.08458,
          0.086,
          0.087,
          0.08588,
          0.09,
          0.1013,
          0.1072,
          0.13659000000000002,
          0.11701,
          0.08211,
          0.06337,
          0.03181,
          0.01279,
          0.00679,
          0.032920000000000005,
          0.06998,
          0.11,
          0.13483,
          0.19547,
          0.1658,
          0.13611,
          0.11855,
          0.10912000000000001,
          0.10242,
          0.11757,
          0.10251,
          0.097,
          0.09936,
          0.10071,
          0.10341,
          0.1149,
          0.11,
          0.09804,
          0.07254000000000001,
          0.01805,
          0.00152,
          -0.00366,
          -0.00051,
          0.00007000000000000001,
          0.04536,
          0.08459,
          0.13041999999999998,
          0.1509,
          0.12235,
          0.09906000000000001,
          0.09018000000000001,
          0.08806,
          0.08648,
          0.08497,
          0.0868,
          0.0857,
          0.09586,
          0.09772,
          0.09985,
          0.1,
          0.08734,
          0.06221,
          0.02927,
          0.0101,
          -0.006549999999999999,
          -0.01277,
          -0.008060000000000001,
          -0.00221,
          0.01739,
          0.081,
          0.11206,
          0.12746,
          0.13463,
          0.12978,
          0.12143999999999999,
          0.11001000000000001,
          0.10364,
          0.09494,
          0.09198,
          0.09264,
          0.09256,
          0.08998,
          0.10114,
          0.14176,
          0.14992,
          0.13332,
          0.09822,
          0.08412,
          0.07787999999999999,
          0.07601999999999999,
          0.07732,
          0.0819,
          0.09054000000000001,
          0.10940000000000001,
          0.1362,
          0.16535,
          0.15688999999999997,
          0.1232,
          0.10859999999999999,
          0.10516,
          0.09631999999999999,
          0.10064000000000001,
          0.09761,
          0.09756000000000001,
          0.09743,
          0.09711,
          0.10349,
          0.09187999999999999,
          0.13902,
          0.13858,
          0.1254,
          0.10152,
          0.09623000000000001,
          0.09416,
          0.09478,
          0.09805,
          0.10649,
          0.11951,
          0.13937,
          0.17088,
          0.16967,
          0.14493,
          0.13084,
          0.1174,
          0.10683,
          0.10093,
          0.09868,
          0.09697,
          0.09536,
          0.09770000000000001,
          0.10392,
          0.13043000000000002,
          0.14201,
          0.1401,
          0.125,
          0.10265,
          0.09893,
          0.09774,
          0.09262000000000001,
          0.0968,
          0.1001,
          0.113,
          0.13806000000000002,
          0.18938,
          0.17912,
          0.14780000000000001,
          0.13219999999999998,
          0.12,
          0.10991,
          0.10851999999999999,
          0.10251,
          0.09959,
          0.09665,
          0.09719,
          0.10511,
          0.13127,
          0.15596000000000002,
          0.1551,
          0.13068000000000002,
          0.12040000000000001,
          0.103,
          0.09562000000000001,
          0.0969,
          0.104,
          0.104,
          0.10881,
          0.13819,
          0.16605,
          0.17346999999999999,
          0.149,
          0.13569,
          0.12348,
          0.11163,
          0.10909,
          0.106,
          0.10590000000000001,
          0.10382999999999999,
          0.10529999999999999,
          0.11361,
          0.14097,
          0.15502000000000002,
          0.15305000000000002,
          0.13190000000000002,
          0.11181,
          0.1012,
          0.09864,
          0.1,
          0.09112,
          0.1065,
          0.1156,
          0.13374,
          0.14569,
          0.15084999999999998,
          0.13001,
          0.11139,
          0.114,
          0.10517,
          0.11215,
          0.10314,
          0.096,
          0.08990000000000001,
          0.0869,
          0.09054999999999999,
          0.09701,
          0.09942000000000001,
          0.09874,
          0.08636,
          0.07248,
          0.06673,
          0.05722,
          0.048,
          0.054509999999999996,
          0.06462999999999999,
          0.07976000000000001,
          0.11565,
          0.12748,
          0.13296,
          0.12146,
          0.1085,
          0.10502,
          0.09525,
          0.09001,
          0.08579,
          0.07962000000000001,
          0.07818000000000001,
          0.07859999999999999,
          0.08051,
          0.08514000000000001,
          0.08206999999999999,
          0.07795,
          0.0574,
          0.02419,
          -0.0007700000000000001,
          -0.01001,
          -0.00316,
          0.0007,
          0.031,
          0.0702,
          0.11170000000000001,
          0.12727,
          0.14,
          0.118,
          0.0999,
          0.092,
          0.08070000000000001,
          0.1046,
          0.10679999999999999,
          0.09673999999999999,
          0.08091,
          0.08585,
          0.1033,
          0.13518,
          0.15287,
          0.12656,
          0.08712,
          0.05421,
          0.03,
          -0.002,
          -0.002,
          0.05,
          0.06712,
          0.09392,
          0.12787,
          0.15665,
          0.17,
          0.1415,
          0.11353,
          0.10645,
          0.0935,
          0.0922,
          0.08999,
          0.09140000000000001,
          0.08723,
          0.09124,
          0.10373,
          0.13252,
          0.13668,
          0.10601000000000001,
          0.07153,
          0.02123,
          -0.00513,
          -0.01168,
          -0.00261,
          0.00529,
          0.04323,
          0.08270999999999999,
          0.12428,
          0.14997,
          0.15972999999999998,
          0.14149,
          0.11767,
          0.10737000000000001,
          0.10042,
          0.09868,
          0.09437000000000001,
          0.09490000000000001,
          0.09609999999999999,
          0.09968,
          0.10987000000000001,
          0.14537,
          0.14621,
          0.10814,
          0.07595,
          0.02587,
          0.000029999999999999997,
          -0.00064,
          -0.00017999999999999998,
          0.00111,
          0.05982,
          0.09929,
          0.13697,
          0.22581,
          0.20983000000000002,
          0.16440000000000002,
          0.12946000000000002,
          0.11739,
          0.10643999999999999,
          0.10873999999999999,
          0.09511,
          0.09369,
          0.093,
          0.09137,
          0.109,
          0.13224,
          0.13515,
          0.09906000000000001,
          0.075,
          0.03497,
          0.00342,
          0.00043,
          0.00065,
          0.01456,
          0.06825,
          0.10479999999999999,
          0.13813,
          0.24689,
          0.23035,
          0.15339,
          0.12607,
          0.11070999999999999,
          0.10664,
          0.10801000000000001,
          0.1001,
          0.0975,
          0.09337999999999999,
          0.09028,
          0.10449,
          0.12565,
          0.13212000000000002,
          0.09920999999999999,
          0.0688,
          0.040490000000000005,
          0.0064,
          -0.002,
          -0.002,
          -0.002,
          -0.00159,
          0.04293,
          0.08973,
          0.1115,
          0.082,
          0.06842000000000001,
          0.045689999999999995,
          0.02923,
          0.021079999999999998,
          0.02693,
          0.013869999999999999,
          0.01071,
          0.008400000000000001,
          0.01117,
          0.013529999999999999,
          0.01307,
          0.01988,
          0.00311,
          0,
          -0.002,
          -0.006,
          -0.01684,
          -0.012,
          -0.00679,
          -0.00151,
          0.04,
          0.12675,
          0.154,
          0.156,
          0.1083,
          0.0999,
          0.1001,
          0.098,
          0.091,
          0.08,
          0.09,
          0.09281,
          0.09279000000000001,
          0.09,
          0.094,
          0.10191,
          0.07973000000000001,
          0.02314,
          0.013779999999999999,
          0.0096,
          0.01349,
          0.00501,
          0.011460000000000001,
          0.04177,
          0.09351999999999999,
          0.11708,
          0.14,
          0.14096,
          0.1397,
          0.12812,
          0.12351999999999999,
          0.11424,
          0.1085,
          0.10281,
          0.09911,
          0.0963,
          0.09864,
          0.1149,
          0.13741,
          0.16162,
          0.15909,
          0.13284,
          0.11025,
          0.10116,
          0.09443,
          0.0915,
          0.09290999999999999,
          0.09959,
          0.11991,
          0.14643,
          0.20061,
          0.19085,
          0.1613,
          0.13578,
          0.12296,
          0.1133,
          0.10062,
          0.099,
          0.09715,
          0.0964,
          0.09564,
          0.1016,
          0.12785,
          0.1391,
          0.13006,
          0.10604000000000001,
          0.09065000000000001,
          0.07819,
          0.06861,
          0.06829,
          0.07743000000000001,
          0.08882,
          0.10189,
          0.13097999999999999,
          0.15456,
          0.16540000000000002,
          0.14859999999999998,
          0.1225,
          0.11345000000000001,
          0.10205,
          0.10102,
          0.09795000000000001,
          0.09734000000000001,
          0.09739,
          0.09572,
          0.09697,
          0.12447,
          0.13946,
          0.13644,
          0.11103,
          0.09899,
          0.09512999999999999,
          0.09417,
          0.08356999999999999,
          0.088,
          0.09117,
          0.09905,
          0.12963,
          0.15732,
          0.16756000000000001,
          0.15,
          0.12633,
          0.11748,
          0.10689,
          0.10391,
          0.09739,
          0.09661,
          0.09584000000000001,
          0.09215999999999999,
          0.10201,
          0.12505,
          0.13779,
          0.1235,
          0.08992,
          0.07078,
          0.044899999999999995,
          0.012,
          0.00412,
          0.02903,
          0.0688,
          0.08708,
          0.11662,
          0.15106999999999998,
          0.16744,
          0.14071,
          0.12273999999999999,
          0.11159999999999999,
          0.09958,
          0.08521,
          0.07905,
          0.07898999999999999,
          0.07789,
          0.07847,
          0.09234,
          0.12279999999999999,
          0.1222,
          0.10208,
          0.0716,
          0.02047,
          -0.002,
          -0.002,
          -0.000029999999999999997,
          0.01343,
          0.06641,
          0.09985,
          0.12084,
          0.15359,
          0.15828,
          0.14318,
          0.1186,
          0.1125,
          0.10734,
          0.10432
         ]
        },
        {
         "line": {
          "color": "orange",
          "dash": "dash"
         },
         "mode": "lines+markers",
         "name": "Naive voorspelling (kWh)",
         "type": "scatter",
         "x": [
          "2025-02-24T00:00:00",
          "2025-02-24T01:00:00",
          "2025-02-24T02:00:00",
          "2025-02-24T03:00:00",
          "2025-02-24T04:00:00",
          "2025-02-24T05:00:00",
          "2025-02-24T06:00:00",
          "2025-02-24T07:00:00",
          "2025-02-24T08:00:00",
          "2025-02-24T09:00:00",
          "2025-02-24T10:00:00",
          "2025-02-24T11:00:00",
          "2025-02-24T12:00:00",
          "2025-02-24T13:00:00",
          "2025-02-24T14:00:00",
          "2025-02-24T15:00:00",
          "2025-02-24T16:00:00",
          "2025-02-24T17:00:00",
          "2025-02-24T18:00:00",
          "2025-02-24T19:00:00",
          "2025-02-24T20:00:00",
          "2025-02-24T21:00:00",
          "2025-02-24T22:00:00",
          "2025-02-24T23:00:00",
          "2025-02-25T00:00:00",
          "2025-02-25T01:00:00",
          "2025-02-25T02:00:00",
          "2025-02-25T03:00:00",
          "2025-02-25T04:00:00",
          "2025-02-25T05:00:00",
          "2025-02-25T06:00:00",
          "2025-02-25T07:00:00",
          "2025-02-25T08:00:00",
          "2025-02-25T09:00:00",
          "2025-02-25T10:00:00",
          "2025-02-25T11:00:00",
          "2025-02-25T12:00:00",
          "2025-02-25T13:00:00",
          "2025-02-25T14:00:00",
          "2025-02-25T15:00:00",
          "2025-02-25T16:00:00",
          "2025-02-25T17:00:00",
          "2025-02-25T18:00:00",
          "2025-02-25T19:00:00",
          "2025-02-25T20:00:00",
          "2025-02-25T21:00:00",
          "2025-02-25T22:00:00",
          "2025-02-25T23:00:00",
          "2025-02-26T00:00:00",
          "2025-02-26T01:00:00",
          "2025-02-26T02:00:00",
          "2025-02-26T03:00:00",
          "2025-02-26T04:00:00",
          "2025-02-26T05:00:00",
          "2025-02-26T06:00:00",
          "2025-02-26T07:00:00",
          "2025-02-26T08:00:00",
          "2025-02-26T09:00:00",
          "2025-02-26T10:00:00",
          "2025-02-26T11:00:00",
          "2025-02-26T12:00:00",
          "2025-02-26T13:00:00",
          "2025-02-26T14:00:00",
          "2025-02-26T15:00:00",
          "2025-02-26T16:00:00",
          "2025-02-26T17:00:00",
          "2025-02-26T18:00:00",
          "2025-02-26T19:00:00",
          "2025-02-26T20:00:00",
          "2025-02-26T21:00:00",
          "2025-02-26T22:00:00",
          "2025-02-26T23:00:00",
          "2025-02-27T00:00:00",
          "2025-02-27T01:00:00",
          "2025-02-27T02:00:00",
          "2025-02-27T03:00:00",
          "2025-02-27T04:00:00",
          "2025-02-27T05:00:00",
          "2025-02-27T06:00:00",
          "2025-02-27T07:00:00",
          "2025-02-27T08:00:00",
          "2025-02-27T09:00:00",
          "2025-02-27T10:00:00",
          "2025-02-27T11:00:00",
          "2025-02-27T12:00:00",
          "2025-02-27T13:00:00",
          "2025-02-27T14:00:00",
          "2025-02-27T15:00:00",
          "2025-02-27T16:00:00",
          "2025-02-27T17:00:00",
          "2025-02-27T18:00:00",
          "2025-02-27T19:00:00",
          "2025-02-27T20:00:00",
          "2025-02-27T21:00:00",
          "2025-02-27T22:00:00",
          "2025-02-27T23:00:00",
          "2025-02-28T00:00:00",
          "2025-02-28T01:00:00",
          "2025-02-28T02:00:00",
          "2025-02-28T03:00:00",
          "2025-02-28T04:00:00",
          "2025-02-28T05:00:00",
          "2025-02-28T06:00:00",
          "2025-02-28T07:00:00",
          "2025-02-28T08:00:00",
          "2025-02-28T09:00:00",
          "2025-02-28T10:00:00",
          "2025-02-28T11:00:00",
          "2025-02-28T12:00:00",
          "2025-02-28T13:00:00",
          "2025-02-28T14:00:00",
          "2025-02-28T15:00:00",
          "2025-02-28T16:00:00",
          "2025-02-28T17:00:00",
          "2025-02-28T18:00:00",
          "2025-02-28T19:00:00",
          "2025-02-28T20:00:00",
          "2025-02-28T21:00:00",
          "2025-02-28T22:00:00",
          "2025-02-28T23:00:00",
          "2025-03-01T00:00:00",
          "2025-03-01T01:00:00",
          "2025-03-01T02:00:00",
          "2025-03-01T03:00:00",
          "2025-03-01T04:00:00",
          "2025-03-01T05:00:00",
          "2025-03-01T06:00:00",
          "2025-03-01T07:00:00",
          "2025-03-01T08:00:00",
          "2025-03-01T09:00:00",
          "2025-03-01T10:00:00",
          "2025-03-01T11:00:00",
          "2025-03-01T12:00:00",
          "2025-03-01T13:00:00",
          "2025-03-01T14:00:00",
          "2025-03-01T15:00:00",
          "2025-03-01T16:00:00",
          "2025-03-01T17:00:00",
          "2025-03-01T18:00:00",
          "2025-03-01T19:00:00",
          "2025-03-01T20:00:00",
          "2025-03-01T21:00:00",
          "2025-03-01T22:00:00",
          "2025-03-01T23:00:00",
          "2025-03-02T00:00:00",
          "2025-03-02T01:00:00",
          "2025-03-02T02:00:00",
          "2025-03-02T03:00:00",
          "2025-03-02T04:00:00",
          "2025-03-02T05:00:00",
          "2025-03-02T06:00:00",
          "2025-03-02T07:00:00",
          "2025-03-02T08:00:00",
          "2025-03-02T09:00:00",
          "2025-03-02T10:00:00",
          "2025-03-02T11:00:00",
          "2025-03-02T12:00:00",
          "2025-03-02T13:00:00",
          "2025-03-02T14:00:00",
          "2025-03-02T15:00:00",
          "2025-03-02T16:00:00",
          "2025-03-02T17:00:00",
          "2025-03-02T18:00:00",
          "2025-03-02T19:00:00",
          "2025-03-02T20:00:00",
          "2025-03-02T21:00:00",
          "2025-03-02T22:00:00",
          "2025-03-02T23:00:00",
          "2025-03-03T00:00:00",
          "2025-03-03T01:00:00",
          "2025-03-03T02:00:00",
          "2025-03-03T03:00:00",
          "2025-03-03T04:00:00",
          "2025-03-03T05:00:00",
          "2025-03-03T06:00:00",
          "2025-03-03T07:00:00",
          "2025-03-03T08:00:00",
          "2025-03-03T09:00:00",
          "2025-03-03T10:00:00",
          "2025-03-03T11:00:00",
          "2025-03-03T12:00:00",
          "2025-03-03T13:00:00",
          "2025-03-03T14:00:00",
          "2025-03-03T15:00:00",
          "2025-03-03T16:00:00",
          "2025-03-03T17:00:00",
          "2025-03-03T18:00:00",
          "2025-03-03T19:00:00",
          "2025-03-03T20:00:00",
          "2025-03-03T21:00:00",
          "2025-03-03T22:00:00",
          "2025-03-03T23:00:00",
          "2025-03-04T00:00:00",
          "2025-03-04T01:00:00",
          "2025-03-04T02:00:00",
          "2025-03-04T03:00:00",
          "2025-03-04T04:00:00",
          "2025-03-04T05:00:00",
          "2025-03-04T06:00:00",
          "2025-03-04T07:00:00",
          "2025-03-04T08:00:00",
          "2025-03-04T09:00:00",
          "2025-03-04T10:00:00",
          "2025-03-04T11:00:00",
          "2025-03-04T12:00:00",
          "2025-03-04T13:00:00",
          "2025-03-04T14:00:00",
          "2025-03-04T15:00:00",
          "2025-03-04T16:00:00",
          "2025-03-04T17:00:00",
          "2025-03-04T18:00:00",
          "2025-03-04T19:00:00",
          "2025-03-04T20:00:00",
          "2025-03-04T21:00:00",
          "2025-03-04T22:00:00",
          "2025-03-04T23:00:00",
          "2025-03-05T00:00:00",
          "2025-03-05T01:00:00",
          "2025-03-05T02:00:00",
          "2025-03-05T03:00:00",
          "2025-03-05T04:00:00",
          "2025-03-05T05:00:00",
          "2025-03-05T06:00:00",
          "2025-03-05T07:00:00",
          "2025-03-05T08:00:00",
          "2025-03-05T09:00:00",
          "2025-03-05T10:00:00",
          "2025-03-05T11:00:00",
          "2025-03-05T12:00:00",
          "2025-03-05T13:00:00",
          "2025-03-05T14:00:00",
          "2025-03-05T15:00:00",
          "2025-03-05T16:00:00",
          "2025-03-05T17:00:00",
          "2025-03-05T18:00:00",
          "2025-03-05T19:00:00",
          "2025-03-05T20:00:00",
          "2025-03-05T21:00:00",
          "2025-03-05T22:00:00",
          "2025-03-05T23:00:00",
          "2025-03-06T00:00:00",
          "2025-03-06T01:00:00",
          "2025-03-06T02:00:00",
          "2025-03-06T03:00:00",
          "2025-03-06T04:00:00",
          "2025-03-06T05:00:00",
          "2025-03-06T06:00:00",
          "2025-03-06T07:00:00",
          "2025-03-06T08:00:00",
          "2025-03-06T09:00:00",
          "2025-03-06T10:00:00",
          "2025-03-06T11:00:00",
          "2025-03-06T12:00:00",
          "2025-03-06T13:00:00",
          "2025-03-06T14:00:00",
          "2025-03-06T15:00:00",
          "2025-03-06T16:00:00",
          "2025-03-06T17:00:00",
          "2025-03-06T18:00:00",
          "2025-03-06T19:00:00",
          "2025-03-06T20:00:00",
          "2025-03-06T21:00:00",
          "2025-03-06T22:00:00",
          "2025-03-06T23:00:00",
          "2025-03-07T00:00:00",
          "2025-03-07T01:00:00",
          "2025-03-07T02:00:00",
          "2025-03-07T03:00:00",
          "2025-03-07T04:00:00",
          "2025-03-07T05:00:00",
          "2025-03-07T06:00:00",
          "2025-03-07T07:00:00",
          "2025-03-07T08:00:00",
          "2025-03-07T09:00:00",
          "2025-03-07T10:00:00",
          "2025-03-07T11:00:00",
          "2025-03-07T12:00:00",
          "2025-03-07T13:00:00",
          "2025-03-07T14:00:00",
          "2025-03-07T15:00:00",
          "2025-03-07T16:00:00",
          "2025-03-07T17:00:00",
          "2025-03-07T18:00:00",
          "2025-03-07T19:00:00",
          "2025-03-07T20:00:00",
          "2025-03-07T21:00:00",
          "2025-03-07T22:00:00",
          "2025-03-07T23:00:00",
          "2025-03-08T00:00:00",
          "2025-03-08T01:00:00",
          "2025-03-08T02:00:00",
          "2025-03-08T03:00:00",
          "2025-03-08T04:00:00",
          "2025-03-08T05:00:00",
          "2025-03-08T06:00:00",
          "2025-03-08T07:00:00",
          "2025-03-08T08:00:00",
          "2025-03-08T09:00:00",
          "2025-03-08T10:00:00",
          "2025-03-08T11:00:00",
          "2025-03-08T12:00:00",
          "2025-03-08T13:00:00",
          "2025-03-08T14:00:00",
          "2025-03-08T15:00:00",
          "2025-03-08T16:00:00",
          "2025-03-08T17:00:00",
          "2025-03-08T18:00:00",
          "2025-03-08T19:00:00",
          "2025-03-08T20:00:00",
          "2025-03-08T21:00:00",
          "2025-03-08T22:00:00",
          "2025-03-08T23:00:00",
          "2025-03-09T00:00:00",
          "2025-03-09T01:00:00",
          "2025-03-09T02:00:00",
          "2025-03-09T03:00:00",
          "2025-03-09T04:00:00",
          "2025-03-09T05:00:00",
          "2025-03-09T06:00:00",
          "2025-03-09T07:00:00",
          "2025-03-09T08:00:00",
          "2025-03-09T09:00:00",
          "2025-03-09T10:00:00",
          "2025-03-09T11:00:00",
          "2025-03-09T12:00:00",
          "2025-03-09T13:00:00",
          "2025-03-09T14:00:00",
          "2025-03-09T15:00:00",
          "2025-03-09T16:00:00",
          "2025-03-09T17:00:00",
          "2025-03-09T18:00:00",
          "2025-03-09T19:00:00",
          "2025-03-09T20:00:00",
          "2025-03-09T21:00:00",
          "2025-03-09T22:00:00",
          "2025-03-09T23:00:00",
          "2025-03-10T00:00:00",
          "2025-03-10T01:00:00",
          "2025-03-10T02:00:00",
          "2025-03-10T03:00:00",
          "2025-03-10T04:00:00",
          "2025-03-10T05:00:00",
          "2025-03-10T06:00:00",
          "2025-03-10T07:00:00",
          "2025-03-10T08:00:00",
          "2025-03-10T09:00:00",
          "2025-03-10T10:00:00",
          "2025-03-10T11:00:00",
          "2025-03-10T12:00:00",
          "2025-03-10T13:00:00",
          "2025-03-10T14:00:00",
          "2025-03-10T15:00:00",
          "2025-03-10T16:00:00",
          "2025-03-10T17:00:00",
          "2025-03-10T18:00:00",
          "2025-03-10T19:00:00",
          "2025-03-10T20:00:00",
          "2025-03-10T21:00:00",
          "2025-03-10T22:00:00",
          "2025-03-10T23:00:00",
          "2025-03-11T00:00:00",
          "2025-03-11T01:00:00",
          "2025-03-11T02:00:00",
          "2025-03-11T03:00:00",
          "2025-03-11T04:00:00",
          "2025-03-11T05:00:00",
          "2025-03-11T06:00:00",
          "2025-03-11T07:00:00",
          "2025-03-11T08:00:00",
          "2025-03-11T09:00:00",
          "2025-03-11T10:00:00",
          "2025-03-11T11:00:00",
          "2025-03-11T12:00:00",
          "2025-03-11T13:00:00",
          "2025-03-11T14:00:00",
          "2025-03-11T15:00:00",
          "2025-03-11T16:00:00",
          "2025-03-11T17:00:00",
          "2025-03-11T18:00:00",
          "2025-03-11T19:00:00",
          "2025-03-11T20:00:00",
          "2025-03-11T21:00:00",
          "2025-03-11T22:00:00",
          "2025-03-11T23:00:00",
          "2025-03-12T00:00:00",
          "2025-03-12T01:00:00",
          "2025-03-12T02:00:00",
          "2025-03-12T03:00:00",
          "2025-03-12T04:00:00",
          "2025-03-12T05:00:00",
          "2025-03-12T06:00:00",
          "2025-03-12T07:00:00",
          "2025-03-12T08:00:00",
          "2025-03-12T09:00:00",
          "2025-03-12T10:00:00",
          "2025-03-12T11:00:00",
          "2025-03-12T12:00:00",
          "2025-03-12T13:00:00",
          "2025-03-12T14:00:00",
          "2025-03-12T15:00:00",
          "2025-03-12T16:00:00",
          "2025-03-12T17:00:00",
          "2025-03-12T18:00:00",
          "2025-03-12T19:00:00",
          "2025-03-12T20:00:00",
          "2025-03-12T21:00:00",
          "2025-03-12T22:00:00",
          "2025-03-12T23:00:00",
          "2025-03-13T00:00:00",
          "2025-03-13T01:00:00",
          "2025-03-13T02:00:00",
          "2025-03-13T03:00:00",
          "2025-03-13T04:00:00",
          "2025-03-13T05:00:00",
          "2025-03-13T06:00:00",
          "2025-03-13T07:00:00",
          "2025-03-13T08:00:00",
          "2025-03-13T09:00:00",
          "2025-03-13T10:00:00",
          "2025-03-13T11:00:00",
          "2025-03-13T12:00:00",
          "2025-03-13T13:00:00",
          "2025-03-13T14:00:00",
          "2025-03-13T15:00:00",
          "2025-03-13T16:00:00",
          "2025-03-13T17:00:00",
          "2025-03-13T18:00:00",
          "2025-03-13T19:00:00",
          "2025-03-13T20:00:00",
          "2025-03-13T21:00:00",
          "2025-03-13T22:00:00",
          "2025-03-13T23:00:00",
          "2025-03-14T00:00:00",
          "2025-03-14T01:00:00",
          "2025-03-14T02:00:00",
          "2025-03-14T03:00:00",
          "2025-03-14T04:00:00",
          "2025-03-14T05:00:00",
          "2025-03-14T06:00:00",
          "2025-03-14T07:00:00",
          "2025-03-14T08:00:00",
          "2025-03-14T09:00:00",
          "2025-03-14T10:00:00",
          "2025-03-14T11:00:00",
          "2025-03-14T12:00:00",
          "2025-03-14T13:00:00",
          "2025-03-14T14:00:00",
          "2025-03-14T15:00:00",
          "2025-03-14T16:00:00",
          "2025-03-14T17:00:00",
          "2025-03-14T18:00:00",
          "2025-03-14T19:00:00",
          "2025-03-14T20:00:00",
          "2025-03-14T21:00:00",
          "2025-03-14T22:00:00",
          "2025-03-14T23:00:00",
          "2025-03-15T00:00:00",
          "2025-03-15T01:00:00",
          "2025-03-15T02:00:00",
          "2025-03-15T03:00:00",
          "2025-03-15T04:00:00",
          "2025-03-15T05:00:00",
          "2025-03-15T06:00:00",
          "2025-03-15T07:00:00",
          "2025-03-15T08:00:00",
          "2025-03-15T09:00:00",
          "2025-03-15T10:00:00",
          "2025-03-15T11:00:00",
          "2025-03-15T12:00:00",
          "2025-03-15T13:00:00",
          "2025-03-15T14:00:00",
          "2025-03-15T15:00:00",
          "2025-03-15T16:00:00",
          "2025-03-15T17:00:00",
          "2025-03-15T18:00:00",
          "2025-03-15T19:00:00",
          "2025-03-15T20:00:00",
          "2025-03-15T21:00:00",
          "2025-03-15T22:00:00",
          "2025-03-15T23:00:00",
          "2025-03-16T00:00:00",
          "2025-03-16T01:00:00",
          "2025-03-16T02:00:00",
          "2025-03-16T03:00:00",
          "2025-03-16T04:00:00",
          "2025-03-16T05:00:00",
          "2025-03-16T06:00:00",
          "2025-03-16T07:00:00",
          "2025-03-16T08:00:00",
          "2025-03-16T09:00:00",
          "2025-03-16T10:00:00",
          "2025-03-16T11:00:00",
          "2025-03-16T12:00:00",
          "2025-03-16T13:00:00",
          "2025-03-16T14:00:00",
          "2025-03-16T15:00:00",
          "2025-03-16T16:00:00",
          "2025-03-16T17:00:00",
          "2025-03-16T18:00:00",
          "2025-03-16T19:00:00",
          "2025-03-16T20:00:00",
          "2025-03-16T21:00:00",
          "2025-03-16T22:00:00",
          "2025-03-16T23:00:00",
          "2025-03-17T00:00:00",
          "2025-03-17T01:00:00",
          "2025-03-17T02:00:00",
          "2025-03-17T03:00:00",
          "2025-03-17T04:00:00",
          "2025-03-17T05:00:00",
          "2025-03-17T06:00:00",
          "2025-03-17T07:00:00",
          "2025-03-17T08:00:00",
          "2025-03-17T09:00:00",
          "2025-03-17T10:00:00",
          "2025-03-17T11:00:00",
          "2025-03-17T12:00:00",
          "2025-03-17T13:00:00",
          "2025-03-17T14:00:00",
          "2025-03-17T15:00:00",
          "2025-03-17T16:00:00",
          "2025-03-17T17:00:00",
          "2025-03-17T18:00:00",
          "2025-03-17T19:00:00",
          "2025-03-17T20:00:00",
          "2025-03-17T21:00:00",
          "2025-03-17T22:00:00",
          "2025-03-17T23:00:00",
          "2025-03-18T00:00:00",
          "2025-03-18T01:00:00",
          "2025-03-18T02:00:00",
          "2025-03-18T03:00:00",
          "2025-03-18T04:00:00",
          "2025-03-18T05:00:00",
          "2025-03-18T06:00:00",
          "2025-03-18T07:00:00",
          "2025-03-18T08:00:00",
          "2025-03-18T09:00:00",
          "2025-03-18T10:00:00",
          "2025-03-18T11:00:00",
          "2025-03-18T12:00:00",
          "2025-03-18T13:00:00",
          "2025-03-18T14:00:00",
          "2025-03-18T15:00:00",
          "2025-03-18T16:00:00",
          "2025-03-18T17:00:00",
          "2025-03-18T18:00:00",
          "2025-03-18T19:00:00",
          "2025-03-18T20:00:00",
          "2025-03-18T21:00:00",
          "2025-03-18T22:00:00",
          "2025-03-18T23:00:00",
          "2025-03-19T00:00:00",
          "2025-03-19T01:00:00",
          "2025-03-19T02:00:00",
          "2025-03-19T03:00:00",
          "2025-03-19T04:00:00",
          "2025-03-19T05:00:00",
          "2025-03-19T06:00:00",
          "2025-03-19T07:00:00",
          "2025-03-19T08:00:00",
          "2025-03-19T09:00:00",
          "2025-03-19T10:00:00",
          "2025-03-19T11:00:00",
          "2025-03-19T12:00:00",
          "2025-03-19T13:00:00",
          "2025-03-19T14:00:00",
          "2025-03-19T15:00:00",
          "2025-03-19T16:00:00",
          "2025-03-19T17:00:00",
          "2025-03-19T18:00:00",
          "2025-03-19T19:00:00",
          "2025-03-19T20:00:00",
          "2025-03-19T21:00:00",
          "2025-03-19T22:00:00",
          "2025-03-19T23:00:00",
          "2025-03-20T00:00:00",
          "2025-03-20T01:00:00",
          "2025-03-20T02:00:00",
          "2025-03-20T03:00:00",
          "2025-03-20T04:00:00",
          "2025-03-20T05:00:00",
          "2025-03-20T06:00:00",
          "2025-03-20T07:00:00",
          "2025-03-20T08:00:00",
          "2025-03-20T09:00:00",
          "2025-03-20T10:00:00",
          "2025-03-20T11:00:00",
          "2025-03-20T12:00:00",
          "2025-03-20T13:00:00",
          "2025-03-20T14:00:00",
          "2025-03-20T15:00:00",
          "2025-03-20T16:00:00",
          "2025-03-20T17:00:00",
          "2025-03-20T18:00:00",
          "2025-03-20T19:00:00",
          "2025-03-20T20:00:00",
          "2025-03-20T21:00:00",
          "2025-03-20T22:00:00",
          "2025-03-20T23:00:00",
          "2025-03-21T00:00:00",
          "2025-03-21T01:00:00",
          "2025-03-21T02:00:00",
          "2025-03-21T03:00:00",
          "2025-03-21T04:00:00",
          "2025-03-21T05:00:00",
          "2025-03-21T06:00:00",
          "2025-03-21T07:00:00",
          "2025-03-21T08:00:00",
          "2025-03-21T09:00:00",
          "2025-03-21T10:00:00",
          "2025-03-21T11:00:00",
          "2025-03-21T12:00:00",
          "2025-03-21T13:00:00",
          "2025-03-21T14:00:00",
          "2025-03-21T15:00:00",
          "2025-03-21T16:00:00",
          "2025-03-21T17:00:00",
          "2025-03-21T18:00:00",
          "2025-03-21T19:00:00",
          "2025-03-21T20:00:00",
          "2025-03-21T21:00:00",
          "2025-03-21T22:00:00",
          "2025-03-21T23:00:00",
          "2025-03-22T00:00:00",
          "2025-03-22T01:00:00",
          "2025-03-22T02:00:00",
          "2025-03-22T03:00:00",
          "2025-03-22T04:00:00",
          "2025-03-22T05:00:00",
          "2025-03-22T06:00:00",
          "2025-03-22T07:00:00",
          "2025-03-22T08:00:00",
          "2025-03-22T09:00:00",
          "2025-03-22T10:00:00",
          "2025-03-22T11:00:00",
          "2025-03-22T12:00:00",
          "2025-03-22T13:00:00",
          "2025-03-22T14:00:00",
          "2025-03-22T15:00:00",
          "2025-03-22T16:00:00",
          "2025-03-22T17:00:00",
          "2025-03-22T18:00:00",
          "2025-03-22T19:00:00",
          "2025-03-22T20:00:00",
          "2025-03-22T21:00:00",
          "2025-03-22T22:00:00",
          "2025-03-22T23:00:00",
          "2025-03-23T00:00:00",
          "2025-03-23T01:00:00",
          "2025-03-23T02:00:00",
          "2025-03-23T03:00:00",
          "2025-03-23T04:00:00",
          "2025-03-23T05:00:00",
          "2025-03-23T06:00:00",
          "2025-03-23T07:00:00",
          "2025-03-23T08:00:00",
          "2025-03-23T09:00:00",
          "2025-03-23T10:00:00",
          "2025-03-23T11:00:00",
          "2025-03-23T12:00:00",
          "2025-03-23T13:00:00",
          "2025-03-23T14:00:00",
          "2025-03-23T15:00:00",
          "2025-03-23T16:00:00",
          "2025-03-23T17:00:00",
          "2025-03-23T18:00:00",
          "2025-03-23T19:00:00",
          "2025-03-23T20:00:00",
          "2025-03-23T21:00:00",
          "2025-03-23T22:00:00",
          "2025-03-23T23:00:00",
          "2025-03-24T00:00:00",
          "2025-03-24T01:00:00",
          "2025-03-24T02:00:00",
          "2025-03-24T03:00:00",
          "2025-03-24T04:00:00",
          "2025-03-24T05:00:00",
          "2025-03-24T06:00:00",
          "2025-03-24T07:00:00",
          "2025-03-24T08:00:00",
          "2025-03-24T09:00:00",
          "2025-03-24T10:00:00",
          "2025-03-24T11:00:00",
          "2025-03-24T12:00:00",
          "2025-03-24T13:00:00",
          "2025-03-24T14:00:00",
          "2025-03-24T15:00:00",
          "2025-03-24T16:00:00",
          "2025-03-24T17:00:00",
          "2025-03-24T18:00:00",
          "2025-03-24T19:00:00",
          "2025-03-24T20:00:00",
          "2025-03-24T21:00:00",
          "2025-03-24T22:00:00",
          "2025-03-24T23:00:00",
          "2025-03-25T00:00:00",
          "2025-03-25T01:00:00",
          "2025-03-25T02:00:00",
          "2025-03-25T03:00:00",
          "2025-03-25T04:00:00",
          "2025-03-25T05:00:00",
          "2025-03-25T06:00:00",
          "2025-03-25T07:00:00",
          "2025-03-25T08:00:00",
          "2025-03-25T09:00:00",
          "2025-03-25T10:00:00",
          "2025-03-25T11:00:00",
          "2025-03-25T12:00:00",
          "2025-03-25T13:00:00",
          "2025-03-25T14:00:00",
          "2025-03-25T15:00:00",
          "2025-03-25T16:00:00",
          "2025-03-25T17:00:00",
          "2025-03-25T18:00:00",
          "2025-03-25T19:00:00",
          "2025-03-25T20:00:00",
          "2025-03-25T21:00:00",
          "2025-03-25T22:00:00",
          "2025-03-25T23:00:00",
          "2025-03-26T00:00:00",
          "2025-03-26T01:00:00",
          "2025-03-26T02:00:00",
          "2025-03-26T03:00:00",
          "2025-03-26T04:00:00",
          "2025-03-26T05:00:00",
          "2025-03-26T06:00:00",
          "2025-03-26T07:00:00",
          "2025-03-26T08:00:00",
          "2025-03-26T09:00:00",
          "2025-03-26T10:00:00",
          "2025-03-26T11:00:00",
          "2025-03-26T12:00:00",
          "2025-03-26T13:00:00",
          "2025-03-26T14:00:00",
          "2025-03-26T15:00:00",
          "2025-03-26T16:00:00",
          "2025-03-26T17:00:00",
          "2025-03-26T18:00:00",
          "2025-03-26T19:00:00",
          "2025-03-26T20:00:00",
          "2025-03-26T21:00:00",
          "2025-03-26T22:00:00",
          "2025-03-26T23:00:00",
          "2025-03-27T00:00:00",
          "2025-03-27T01:00:00",
          "2025-03-27T02:00:00",
          "2025-03-27T03:00:00",
          "2025-03-27T04:00:00",
          "2025-03-27T05:00:00",
          "2025-03-27T06:00:00",
          "2025-03-27T07:00:00",
          "2025-03-27T08:00:00",
          "2025-03-27T09:00:00",
          "2025-03-27T10:00:00",
          "2025-03-27T11:00:00",
          "2025-03-27T12:00:00",
          "2025-03-27T13:00:00",
          "2025-03-27T14:00:00",
          "2025-03-27T15:00:00",
          "2025-03-27T16:00:00",
          "2025-03-27T17:00:00",
          "2025-03-27T18:00:00",
          "2025-03-27T19:00:00",
          "2025-03-27T20:00:00",
          "2025-03-27T21:00:00",
          "2025-03-27T22:00:00",
          "2025-03-27T23:00:00",
          "2025-03-28T00:00:00",
          "2025-03-28T01:00:00",
          "2025-03-28T02:00:00",
          "2025-03-28T03:00:00",
          "2025-03-28T04:00:00",
          "2025-03-28T05:00:00",
          "2025-03-28T06:00:00",
          "2025-03-28T07:00:00",
          "2025-03-28T08:00:00",
          "2025-03-28T09:00:00",
          "2025-03-28T10:00:00",
          "2025-03-28T11:00:00",
          "2025-03-28T12:00:00",
          "2025-03-28T13:00:00",
          "2025-03-28T14:00:00",
          "2025-03-28T15:00:00",
          "2025-03-28T16:00:00",
          "2025-03-28T17:00:00",
          "2025-03-28T18:00:00",
          "2025-03-28T19:00:00",
          "2025-03-28T20:00:00",
          "2025-03-28T21:00:00",
          "2025-03-28T22:00:00",
          "2025-03-28T23:00:00",
          "2025-03-29T00:00:00"
         ],
         "y": [
          0.106,
          0.09259999999999999,
          0.08702,
          0.08363,
          0.0843,
          0.08579,
          0.08662,
          0.10335,
          0.10622,
          0.093,
          0.07612999999999999,
          0.06046,
          0.04981,
          0.033350000000000005,
          0.030789999999999998,
          0.04381,
          0.0757,
          0.13559000000000002,
          0.14339,
          0.11755,
          0.09561,
          0.07719,
          0.06797,
          0.0601,
          0.01,
          0.011890000000000001,
          0.01243,
          0.007679999999999999,
          0.00393,
          0.007,
          0.052,
          0.08929000000000001,
          0.11033,
          0.0955,
          0.08186,
          0.085,
          0.08304,
          0.08419,
          0.08736,
          0.0932,
          0.10355,
          0.11453,
          0.1407,
          0.15071,
          0.13066,
          0.113,
          0.11195999999999999,
          0.10685,
          0.09058,
          0.08997,
          0.09242,
          0.09244,
          0.09431999999999999,
          0.1035,
          0.14,
          0.15941,
          0.16648,
          0.14961000000000002,
          0.13488,
          0.12183,
          0.1185,
          0.11756,
          0.12439,
          0.13466999999999998,
          0.15796000000000002,
          0.19493000000000002,
          0.21580000000000002,
          0.17945,
          0.15428,
          0.13897,
          0.12641,
          0.11209000000000001,
          0.11907999999999999,
          0.11354,
          0.11278,
          0.11084999999999999,
          0.11169,
          0.11389,
          0.12844999999999998,
          0.15672,
          0.16815,
          0.15485,
          0.13311,
          0.1,
          0.08549,
          0.08,
          0.0862,
          0.1158,
          0.10962999999999999,
          0.14596,
          0.15905000000000002,
          0.15212,
          0.14156,
          0.11844,
          0.12093999999999999,
          0.11258,
          0.10165,
          0.10381,
          0.10124,
          0.0996,
          0.10041,
          0.10562,
          0.11515,
          0.15124,
          0.15915,
          0.14,
          0.12601,
          0.10812000000000001,
          0.09995,
          0.0975,
          0.0998,
          0.1,
          0.11647,
          0.14451,
          0.16887,
          0.146,
          0.12925,
          0.10490000000000001,
          0.1042,
          0.10526,
          0.09709999999999999,
          0.11054,
          0.10937999999999999,
          0.10658,
          0.11053,
          0.11112000000000001,
          0.11686,
          0.14883000000000002,
          0.16044999999999998,
          0.14107,
          0.12319,
          0.11,
          0.0964,
          0.0915,
          0.092,
          0.10115,
          0.12409999999999999,
          0.14772,
          0.15663,
          0.158,
          0.14269,
          0.13131,
          0.12554,
          0.11721,
          0.12647,
          0.11946999999999999,
          0.11661,
          0.10990000000000001,
          0.10805,
          0.11188,
          0.1171,
          0.13382,
          0.13625,
          0.13348,
          0.11944,
          0.10643000000000001,
          0.09863,
          0.09140999999999999,
          0.0891,
          0.0964,
          0.11354,
          0.13481,
          0.152,
          0.14676,
          0.13341,
          0.12543,
          0.12203,
          0.11992,
          0.12397,
          0.10772,
          0.09941,
          0.09319,
          0.09448999999999999,
          0.0943,
          0.09643,
          0.103,
          0.10323,
          0.089,
          0.0683,
          0.049,
          0.0275,
          -0.003,
          -0.0038599999999999997,
          0.0507,
          0.0799,
          0.12201999999999999,
          0.14105,
          0.14637999999999998,
          0.13335,
          0.12043999999999999,
          0.12086,
          0.11283,
          0.10828,
          0.10385,
          0.10293000000000001,
          0.0998,
          0.10346999999999999,
          0.11681,
          0.13755,
          0.163,
          0.146,
          0.09,
          0.08,
          0.0064,
          0.00033,
          -0.00176,
          0.060469999999999996,
          0.08347,
          0.10629999999999999,
          0.14275,
          0.18005000000000002,
          0.17582,
          0.15028,
          0.12739,
          0.1251,
          0.12279000000000001,
          0.12129000000000001,
          0.10976000000000001,
          0.10399,
          0.10495,
          0.10062,
          0.11039,
          0.13811,
          0.16962,
          0.14195,
          0.122,
          0.08997,
          0.03,
          -0.003,
          0.00404,
          0.05178,
          0.08152,
          0.109,
          0.14258,
          0.17393,
          0.16394999999999998,
          0.13340000000000002,
          0.11485,
          0.11429,
          0.10729000000000001,
          0.092,
          0.09290000000000001,
          0.0846,
          0.08031999999999999,
          0.08223,
          0.09237000000000001,
          0.11608,
          0.14049,
          0.14152,
          0.04423,
          -0.00624,
          -0.011,
          -0.02035,
          -0.00885,
          -0.002,
          0.04838,
          0.0861,
          0.12709,
          0.14378,
          0.14615999999999998,
          0.12231,
          0.10792,
          0.10878,
          0.09739,
          0.0841,
          0.08414,
          0.08483,
          0.08459,
          0.0901,
          0.09353,
          0.13287000000000002,
          0.14724,
          0.1085,
          0.07872,
          0.05062,
          0.00158,
          -0.00447,
          -0.00204,
          0.01316,
          0.06361,
          0.10056,
          0.13682,
          0.15572999999999998,
          0.13233,
          0.1107,
          0.10337,
          0.0964,
          0.086,
          0.08458,
          0.086,
          0.087,
          0.08588,
          0.09,
          0.1013,
          0.1072,
          0.13659000000000002,
          0.11701,
          0.08211,
          0.06337,
          0.03181,
          0.01279,
          0.00679,
          0.032920000000000005,
          0.06998,
          0.11,
          0.13483,
          0.19547,
          0.1658,
          0.13611,
          0.11855,
          0.10912000000000001,
          0.10242,
          0.11757,
          0.10251,
          0.097,
          0.09936,
          0.10071,
          0.10341,
          0.1149,
          0.11,
          0.09804,
          0.07254000000000001,
          0.01805,
          0.00152,
          -0.00366,
          -0.00051,
          0.00007000000000000001,
          0.04536,
          0.08459,
          0.13041999999999998,
          0.1509,
          0.12235,
          0.09906000000000001,
          0.09018000000000001,
          0.08806,
          0.08648,
          0.08497,
          0.0868,
          0.0857,
          0.09586,
          0.09772,
          0.09985,
          0.1,
          0.08734,
          0.06221,
          0.02927,
          0.0101,
          -0.006549999999999999,
          -0.01277,
          -0.008060000000000001,
          -0.00221,
          0.01739,
          0.081,
          0.11206,
          0.12746,
          0.13463,
          0.12978,
          0.12143999999999999,
          0.11001000000000001,
          0.10364,
          0.09494,
          0.09198,
          0.09264,
          0.09256,
          0.08998,
          0.10114,
          0.14176,
          0.14992,
          0.13332,
          0.09822,
          0.08412,
          0.07787999999999999,
          0.07601999999999999,
          0.07732,
          0.0819,
          0.09054000000000001,
          0.10940000000000001,
          0.1362,
          0.16535,
          0.15688999999999997,
          0.1232,
          0.10859999999999999,
          0.10516,
          0.09631999999999999,
          0.10064000000000001,
          0.09761,
          0.09756000000000001,
          0.09743,
          0.09711,
          0.10349,
          0.09187999999999999,
          0.13902,
          0.13858,
          0.1254,
          0.10152,
          0.09623000000000001,
          0.09416,
          0.09478,
          0.09805,
          0.10649,
          0.11951,
          0.13937,
          0.17088,
          0.16967,
          0.14493,
          0.13084,
          0.1174,
          0.10683,
          0.10093,
          0.09868,
          0.09697,
          0.09536,
          0.09770000000000001,
          0.10392,
          0.13043000000000002,
          0.14201,
          0.1401,
          0.125,
          0.10265,
          0.09893,
          0.09774,
          0.09262000000000001,
          0.0968,
          0.1001,
          0.113,
          0.13806000000000002,
          0.18938,
          0.17912,
          0.14780000000000001,
          0.13219999999999998,
          0.12,
          0.10991,
          0.10851999999999999,
          0.10251,
          0.09959,
          0.09665,
          0.09719,
          0.10511,
          0.13127,
          0.15596000000000002,
          0.1551,
          0.13068000000000002,
          0.12040000000000001,
          0.103,
          0.09562000000000001,
          0.0969,
          0.104,
          0.104,
          0.10881,
          0.13819,
          0.16605,
          0.17346999999999999,
          0.149,
          0.13569,
          0.12348,
          0.11163,
          0.10909,
          0.106,
          0.10590000000000001,
          0.10382999999999999,
          0.10529999999999999,
          0.11361,
          0.14097,
          0.15502000000000002,
          0.15305000000000002,
          0.13190000000000002,
          0.11181,
          0.1012,
          0.09864,
          0.1,
          0.09112,
          0.1065,
          0.1156,
          0.13374,
          0.14569,
          0.15084999999999998,
          0.13001,
          0.11139,
          0.114,
          0.10517,
          0.11215,
          0.10314,
          0.096,
          0.08990000000000001,
          0.0869,
          0.09054999999999999,
          0.09701,
          0.09942000000000001,
          0.09874,
          0.08636,
          0.07248,
          0.06673,
          0.05722,
          0.048,
          0.054509999999999996,
          0.06462999999999999,
          0.07976000000000001,
          0.11565,
          0.12748,
          0.13296,
          0.12146,
          0.1085,
          0.10502,
          0.09525,
          0.09001,
          0.08579,
          0.07962000000000001,
          0.07818000000000001,
          0.07859999999999999,
          0.08051,
          0.08514000000000001,
          0.08206999999999999,
          0.07795,
          0.0574,
          0.02419,
          -0.0007700000000000001,
          -0.01001,
          -0.00316,
          0.0007,
          0.031,
          0.0702,
          0.11170000000000001,
          0.12727,
          0.14,
          0.118,
          0.0999,
          0.092,
          0.08070000000000001,
          0.1046,
          0.10679999999999999,
          0.09673999999999999,
          0.08091,
          0.08585,
          0.1033,
          0.13518,
          0.15287,
          0.12656,
          0.08712,
          0.05421,
          0.03,
          -0.002,
          -0.002,
          0.05,
          0.06712,
          0.09392,
          0.12787,
          0.15665,
          0.17,
          0.1415,
          0.11353,
          0.10645,
          0.0935,
          0.0922,
          0.08999,
          0.09140000000000001,
          0.08723,
          0.09124,
          0.10373,
          0.13252,
          0.13668,
          0.10601000000000001,
          0.07153,
          0.02123,
          -0.00513,
          -0.01168,
          -0.00261,
          0.00529,
          0.04323,
          0.08270999999999999,
          0.12428,
          0.14997,
          0.15972999999999998,
          0.14149,
          0.11767,
          0.10737000000000001,
          0.10042,
          0.09868,
          0.09437000000000001,
          0.09490000000000001,
          0.09609999999999999,
          0.09968,
          0.10987000000000001,
          0.14537,
          0.14621,
          0.10814,
          0.07595,
          0.02587,
          0.000029999999999999997,
          -0.00064,
          -0.00017999999999999998,
          0.00111,
          0.05982,
          0.09929,
          0.13697,
          0.22581,
          0.20983000000000002,
          0.16440000000000002,
          0.12946000000000002,
          0.11739,
          0.10643999999999999,
          0.10873999999999999,
          0.09511,
          0.09369,
          0.093,
          0.09137,
          0.109,
          0.13224,
          0.13515,
          0.09906000000000001,
          0.075,
          0.03497,
          0.00342,
          0.00043,
          0.00065,
          0.01456,
          0.06825,
          0.10479999999999999,
          0.13813,
          0.24689,
          0.23035,
          0.15339,
          0.12607,
          0.11070999999999999,
          0.10664,
          0.10801000000000001,
          0.1001,
          0.0975,
          0.09337999999999999,
          0.09028,
          0.10449,
          0.12565,
          0.13212000000000002,
          0.09920999999999999,
          0.0688,
          0.040490000000000005,
          0.0064,
          -0.002,
          -0.002,
          -0.002,
          -0.00159,
          0.04293,
          0.08973,
          0.1115,
          0.082,
          0.06842000000000001,
          0.045689999999999995,
          0.02923,
          0.021079999999999998,
          0.02693,
          0.013869999999999999,
          0.01071,
          0.008400000000000001,
          0.01117,
          0.013529999999999999,
          0.01307,
          0.01988,
          0.00311,
          0,
          -0.002,
          -0.006,
          -0.01684,
          -0.012,
          -0.00679,
          -0.00151,
          0.04,
          0.12675,
          0.154,
          0.156,
          0.1083,
          0.0999,
          0.1001,
          0.098,
          0.091,
          0.08,
          0.09,
          0.09281,
          0.09279000000000001,
          0.09,
          0.094,
          0.10191,
          0.07973000000000001,
          0.02314,
          0.013779999999999999,
          0.0096,
          0.01349,
          0.00501,
          0.011460000000000001,
          0.04177,
          0.09351999999999999,
          0.11708,
          0.14,
          0.14096,
          0.1397,
          0.12812,
          0.12351999999999999,
          0.11424,
          0.1085,
          0.10281,
          0.09911,
          0.0963,
          0.09864,
          0.1149,
          0.13741,
          0.16162,
          0.15909,
          0.13284,
          0.11025,
          0.10116,
          0.09443,
          0.0915,
          0.09290999999999999,
          0.09959,
          0.11991,
          0.14643,
          0.20061,
          0.19085,
          0.1613,
          0.13578,
          0.12296,
          0.1133,
          0.10062,
          0.099,
          0.09715,
          0.0964,
          0.09564,
          0.1016,
          0.12785,
          0.1391,
          0.13006,
          0.10604000000000001,
          0.09065000000000001,
          0.07819,
          0.06861,
          0.06829,
          0.07743000000000001,
          0.08882,
          0.10189,
          0.13097999999999999,
          0.15456,
          0.16540000000000002,
          0.14859999999999998,
          0.1225,
          0.11345000000000001,
          0.10205,
          0.10102,
          0.09795000000000001,
          0.09734000000000001,
          0.09739,
          0.09572,
          0.09697,
          0.12447,
          0.13946,
          0.13644,
          0.11103,
          0.09899,
          0.09512999999999999,
          0.09417,
          0.08356999999999999,
          0.088,
          0.09117,
          0.09905,
          0.12963,
          0.15732,
          0.16756000000000001,
          0.15,
          0.12633,
          0.11748,
          0.10689,
          0.10391,
          0.09739,
          0.09661,
          0.09584000000000001,
          0.09215999999999999,
          0.10201,
          0.12505,
          0.13779,
          0.1235,
          0.08992,
          0.07078,
          0.044899999999999995,
          0.012,
          0.00412,
          0.02903,
          0.0688,
          0.08708,
          0.11662,
          0.15106999999999998,
          0.16744,
          0.14071,
          0.12273999999999999,
          0.11159999999999999,
          0.09958,
          0.08521
         ]
        }
       ],
       "layout": {
        "height": 600,
        "paper_bgcolor": "white",
        "plot_bgcolor": "white",
        "template": {
         "data": {
          "bar": [
           {
            "error_x": {
             "color": "#2a3f5f"
            },
            "error_y": {
             "color": "#2a3f5f"
            },
            "marker": {
             "line": {
              "color": "#E5ECF6",
              "width": 0.5
             },
             "pattern": {
              "fillmode": "overlay",
              "size": 10,
              "solidity": 0.2
             }
            },
            "type": "bar"
           }
          ],
          "barpolar": [
           {
            "marker": {
             "line": {
              "color": "#E5ECF6",
              "width": 0.5
             },
             "pattern": {
              "fillmode": "overlay",
              "size": 10,
              "solidity": 0.2
             }
            },
            "type": "barpolar"
           }
          ],
          "carpet": [
           {
            "aaxis": {
             "endlinecolor": "#2a3f5f",
             "gridcolor": "white",
             "linecolor": "white",
             "minorgridcolor": "white",
             "startlinecolor": "#2a3f5f"
            },
            "baxis": {
             "endlinecolor": "#2a3f5f",
             "gridcolor": "white",
             "linecolor": "white",
             "minorgridcolor": "white",
             "startlinecolor": "#2a3f5f"
            },
            "type": "carpet"
           }
          ],
          "choropleth": [
           {
            "colorbar": {
             "outlinewidth": 0,
             "ticks": ""
            },
            "type": "choropleth"
           }
          ],
          "contour": [
           {
            "colorbar": {
             "outlinewidth": 0,
             "ticks": ""
            },
            "colorscale": [
             [
              0,
              "#0d0887"
             ],
             [
              0.1111111111111111,
              "#46039f"
             ],
             [
              0.2222222222222222,
              "#7201a8"
             ],
             [
              0.3333333333333333,
              "#9c179e"
             ],
             [
              0.4444444444444444,
              "#bd3786"
             ],
             [
              0.5555555555555556,
              "#d8576b"
             ],
             [
              0.6666666666666666,
              "#ed7953"
             ],
             [
              0.7777777777777778,
              "#fb9f3a"
             ],
             [
              0.8888888888888888,
              "#fdca26"
             ],
             [
              1,
              "#f0f921"
             ]
            ],
            "type": "contour"
           }
          ],
          "contourcarpet": [
           {
            "colorbar": {
             "outlinewidth": 0,
             "ticks": ""
            },
            "type": "contourcarpet"
           }
          ],
          "heatmap": [
           {
            "colorbar": {
             "outlinewidth": 0,
             "ticks": ""
            },
            "colorscale": [
             [
              0,
              "#0d0887"
             ],
             [
              0.1111111111111111,
              "#46039f"
             ],
             [
              0.2222222222222222,
              "#7201a8"
             ],
             [
              0.3333333333333333,
              "#9c179e"
             ],
             [
              0.4444444444444444,
              "#bd3786"
             ],
             [
              0.5555555555555556,
              "#d8576b"
             ],
             [
              0.6666666666666666,
              "#ed7953"
             ],
             [
              0.7777777777777778,
              "#fb9f3a"
             ],
             [
              0.8888888888888888,
              "#fdca26"
             ],
             [
              1,
              "#f0f921"
             ]
            ],
            "type": "heatmap"
           }
          ],
          "heatmapgl": [
           {
            "colorbar": {
             "outlinewidth": 0,
             "ticks": ""
            },
            "colorscale": [
             [
              0,
              "#0d0887"
             ],
             [
              0.1111111111111111,
              "#46039f"
             ],
             [
              0.2222222222222222,
              "#7201a8"
             ],
             [
              0.3333333333333333,
              "#9c179e"
             ],
             [
              0.4444444444444444,
              "#bd3786"
             ],
             [
              0.5555555555555556,
              "#d8576b"
             ],
             [
              0.6666666666666666,
              "#ed7953"
             ],
             [
              0.7777777777777778,
              "#fb9f3a"
             ],
             [
              0.8888888888888888,
              "#fdca26"
             ],
             [
              1,
              "#f0f921"
             ]
            ],
            "type": "heatmapgl"
           }
          ],
          "histogram": [
           {
            "marker": {
             "pattern": {
              "fillmode": "overlay",
              "size": 10,
              "solidity": 0.2
             }
            },
            "type": "histogram"
           }
          ],
          "histogram2d": [
           {
            "colorbar": {
             "outlinewidth": 0,
             "ticks": ""
            },
            "colorscale": [
             [
              0,
              "#0d0887"
             ],
             [
              0.1111111111111111,
              "#46039f"
             ],
             [
              0.2222222222222222,
              "#7201a8"
             ],
             [
              0.3333333333333333,
              "#9c179e"
             ],
             [
              0.4444444444444444,
              "#bd3786"
             ],
             [
              0.5555555555555556,
              "#d8576b"
             ],
             [
              0.6666666666666666,
              "#ed7953"
             ],
             [
              0.7777777777777778,
              "#fb9f3a"
             ],
             [
              0.8888888888888888,
              "#fdca26"
             ],
             [
              1,
              "#f0f921"
             ]
            ],
            "type": "histogram2d"
           }
          ],
          "histogram2dcontour": [
           {
            "colorbar": {
             "outlinewidth": 0,
             "ticks": ""
            },
            "colorscale": [
             [
              0,
              "#0d0887"
             ],
             [
              0.1111111111111111,
              "#46039f"
             ],
             [
              0.2222222222222222,
              "#7201a8"
             ],
             [
              0.3333333333333333,
              "#9c179e"
             ],
             [
              0.4444444444444444,
              "#bd3786"
             ],
             [
              0.5555555555555556,
              "#d8576b"
             ],
             [
              0.6666666666666666,
              "#ed7953"
             ],
             [
              0.7777777777777778,
              "#fb9f3a"
             ],
             [
              0.8888888888888888,
              "#fdca26"
             ],
             [
              1,
              "#f0f921"
             ]
            ],
            "type": "histogram2dcontour"
           }
          ],
          "mesh3d": [
           {
            "colorbar": {
             "outlinewidth": 0,
             "ticks": ""
            },
            "type": "mesh3d"
           }
          ],
          "parcoords": [
           {
            "line": {
             "colorbar": {
              "outlinewidth": 0,
              "ticks": ""
             }
            },
            "type": "parcoords"
           }
          ],
          "pie": [
           {
            "automargin": true,
            "type": "pie"
           }
          ],
          "scatter": [
           {
            "fillpattern": {
             "fillmode": "overlay",
             "size": 10,
             "solidity": 0.2
            },
            "type": "scatter"
           }
          ],
          "scatter3d": [
           {
            "line": {
             "colorbar": {
              "outlinewidth": 0,
              "ticks": ""
             }
            },
            "marker": {
             "colorbar": {
              "outlinewidth": 0,
              "ticks": ""
             }
            },
            "type": "scatter3d"
           }
          ],
          "scattercarpet": [
           {
            "marker": {
             "colorbar": {
              "outlinewidth": 0,
              "ticks": ""
             }
            },
            "type": "scattercarpet"
           }
          ],
          "scattergeo": [
           {
            "marker": {
             "colorbar": {
              "outlinewidth": 0,
              "ticks": ""
             }
            },
            "type": "scattergeo"
           }
          ],
          "scattergl": [
           {
            "marker": {
             "colorbar": {
              "outlinewidth": 0,
              "ticks": ""
             }
            },
            "type": "scattergl"
           }
          ],
          "scattermapbox": [
           {
            "marker": {
             "colorbar": {
              "outlinewidth": 0,
              "ticks": ""
             }
            },
            "type": "scattermapbox"
           }
          ],
          "scatterpolar": [
           {
            "marker": {
             "colorbar": {
              "outlinewidth": 0,
              "ticks": ""
             }
            },
            "type": "scatterpolar"
           }
          ],
          "scatterpolargl": [
           {
            "marker": {
             "colorbar": {
              "outlinewidth": 0,
              "ticks": ""
             }
            },
            "type": "scatterpolargl"
           }
          ],
          "scatterternary": [
           {
            "marker": {
             "colorbar": {
              "outlinewidth": 0,
              "ticks": ""
             }
            },
            "type": "scatterternary"
           }
          ],
          "surface": [
           {
            "colorbar": {
             "outlinewidth": 0,
             "ticks": ""
            },
            "colorscale": [
             [
              0,
              "#0d0887"
             ],
             [
              0.1111111111111111,
              "#46039f"
             ],
             [
              0.2222222222222222,
              "#7201a8"
             ],
             [
              0.3333333333333333,
              "#9c179e"
             ],
             [
              0.4444444444444444,
              "#bd3786"
             ],
             [
              0.5555555555555556,
              "#d8576b"
             ],
             [
              0.6666666666666666,
              "#ed7953"
             ],
             [
              0.7777777777777778,
              "#fb9f3a"
             ],
             [
              0.8888888888888888,
              "#fdca26"
             ],
             [
              1,
              "#f0f921"
             ]
            ],
            "type": "surface"
           }
          ],
          "table": [
           {
            "cells": {
             "fill": {
              "color": "#EBF0F8"
             },
             "line": {
              "color": "white"
             }
            },
            "header": {
             "fill": {
              "color": "#C8D4E3"
             },
             "line": {
              "color": "white"
             }
            },
            "type": "table"
           }
          ]
         },
         "layout": {
          "annotationdefaults": {
           "arrowcolor": "#2a3f5f",
           "arrowhead": 0,
           "arrowwidth": 1
          },
          "autotypenumbers": "strict",
          "coloraxis": {
           "colorbar": {
            "outlinewidth": 0,
            "ticks": ""
           }
          },
          "colorscale": {
           "diverging": [
            [
             0,
             "#8e0152"
            ],
            [
             0.1,
             "#c51b7d"
            ],
            [
             0.2,
             "#de77ae"
            ],
            [
             0.3,
             "#f1b6da"
            ],
            [
             0.4,
             "#fde0ef"
            ],
            [
             0.5,
             "#f7f7f7"
            ],
            [
             0.6,
             "#e6f5d0"
            ],
            [
             0.7,
             "#b8e186"
            ],
            [
             0.8,
             "#7fbc41"
            ],
            [
             0.9,
             "#4d9221"
            ],
            [
             1,
             "#276419"
            ]
           ],
           "sequential": [
            [
             0,
             "#0d0887"
            ],
            [
             0.1111111111111111,
             "#46039f"
            ],
            [
             0.2222222222222222,
             "#7201a8"
            ],
            [
             0.3333333333333333,
             "#9c179e"
            ],
            [
             0.4444444444444444,
             "#bd3786"
            ],
            [
             0.5555555555555556,
             "#d8576b"
            ],
            [
             0.6666666666666666,
             "#ed7953"
            ],
            [
             0.7777777777777778,
             "#fb9f3a"
            ],
            [
             0.8888888888888888,
             "#fdca26"
            ],
            [
             1,
             "#f0f921"
            ]
           ],
           "sequentialminus": [
            [
             0,
             "#0d0887"
            ],
            [
             0.1111111111111111,
             "#46039f"
            ],
            [
             0.2222222222222222,
             "#7201a8"
            ],
            [
             0.3333333333333333,
             "#9c179e"
            ],
            [
             0.4444444444444444,
             "#bd3786"
            ],
            [
             0.5555555555555556,
             "#d8576b"
            ],
            [
             0.6666666666666666,
             "#ed7953"
            ],
            [
             0.7777777777777778,
             "#fb9f3a"
            ],
            [
             0.8888888888888888,
             "#fdca26"
            ],
            [
             1,
             "#f0f921"
            ]
           ]
          },
          "colorway": [
           "#636efa",
           "#EF553B",
           "#00cc96",
           "#ab63fa",
           "#FFA15A",
           "#19d3f3",
           "#FF6692",
           "#B6E880",
           "#FF97FF",
           "#FECB52"
          ],
          "font": {
           "color": "#2a3f5f"
          },
          "geo": {
           "bgcolor": "white",
           "lakecolor": "white",
           "landcolor": "#E5ECF6",
           "showlakes": true,
           "showland": true,
           "subunitcolor": "white"
          },
          "hoverlabel": {
           "align": "left"
          },
          "hovermode": "closest",
          "mapbox": {
           "style": "light"
          },
          "paper_bgcolor": "white",
          "plot_bgcolor": "#E5ECF6",
          "polar": {
           "angularaxis": {
            "gridcolor": "white",
            "linecolor": "white",
            "ticks": ""
           },
           "bgcolor": "#E5ECF6",
           "radialaxis": {
            "gridcolor": "white",
            "linecolor": "white",
            "ticks": ""
           }
          },
          "scene": {
           "xaxis": {
            "backgroundcolor": "#E5ECF6",
            "gridcolor": "white",
            "gridwidth": 2,
            "linecolor": "white",
            "showbackground": true,
            "ticks": "",
            "zerolinecolor": "white"
           },
           "yaxis": {
            "backgroundcolor": "#E5ECF6",
            "gridcolor": "white",
            "gridwidth": 2,
            "linecolor": "white",
            "showbackground": true,
            "ticks": "",
            "zerolinecolor": "white"
           },
           "zaxis": {
            "backgroundcolor": "#E5ECF6",
            "gridcolor": "white",
            "gridwidth": 2,
            "linecolor": "white",
            "showbackground": true,
            "ticks": "",
            "zerolinecolor": "white"
           }
          },
          "shapedefaults": {
           "line": {
            "color": "#2a3f5f"
           }
          },
          "ternary": {
           "aaxis": {
            "gridcolor": "white",
            "linecolor": "white",
            "ticks": ""
           },
           "baxis": {
            "gridcolor": "white",
            "linecolor": "white",
            "ticks": ""
           },
           "bgcolor": "#E5ECF6",
           "caxis": {
            "gridcolor": "white",
            "linecolor": "white",
            "ticks": ""
           }
          },
          "title": {
           "x": 0.05
          },
          "xaxis": {
           "automargin": true,
           "gridcolor": "white",
           "linecolor": "white",
           "ticks": "",
           "title": {
            "standoff": 15
           },
           "zerolinecolor": "white",
           "zerolinewidth": 2
          },
          "yaxis": {
           "automargin": true,
           "gridcolor": "white",
           "linecolor": "white",
           "ticks": "",
           "title": {
            "standoff": 15
           },
           "zerolinecolor": "white",
           "zerolinewidth": 2
          }
         }
        },
        "title": {
         "text": "⚡ Naive Model: Voorspelling vs Realiteit (1-Day-Ahead)"
        },
        "width": 1200,
        "xaxis": {
         "gridcolor": "lightgray",
         "showgrid": true,
         "title": {
          "text": "Datum & Uur"
         }
        },
        "yaxis": {
         "gridcolor": "lightgray",
         "showgrid": true,
         "title": {
          "text": "Prijs (EUR/kWh)"
         }
        }
       }
      }
     },
     "metadata": {},
     "output_type": "display_data"
    },
    {
     "data": {
      "application/vnd.plotly.v1+json": {
       "config": {
        "plotlyServerURL": "https://plot.ly"
       },
       "data": [
        {
         "cells": {
          "align": [
           "center",
           "right",
           "right",
           "right",
           "right",
           "right",
           "right",
           "right",
           "right",
           "right"
          ],
          "fill": {
           "color": "#F5F5F5"
          },
          "font": {
           "size": 11
          },
          "values": [
           [
            "00:00",
            "01:00",
            "02:00",
            "03:00",
            "04:00",
            "05:00",
            "06:00",
            "07:00",
            "08:00",
            "09:00",
            "10:00",
            "11:00",
            "12:00",
            "13:00",
            "14:00",
            "15:00",
            "16:00",
            "17:00",
            "18:00",
            "19:00",
            "20:00",
            "21:00",
            "22:00",
            "23:00"
           ],
           [
            "€0.0974",
            "€0.0929",
            "€0.0910",
            "€0.0891",
            "€0.0898",
            "€0.0971",
            "€0.1166",
            "€0.1317",
            "€0.1209",
            "€0.0936",
            "€0.0694",
            "€0.0495",
            "€0.0405",
            "€0.0391",
            "€0.0494",
            "€0.0726",
            "€0.0989",
            "€0.1318",
            "€0.1623",
            "€0.1582",
            "€0.1346",
            "€0.1167",
            "€0.1101",
            "€0.1021"
           ],
           [
            "0.0317",
            "0.0293",
            "0.0294",
            "0.0301",
            "0.0301",
            "0.0318",
            "0.0370",
            "0.0385",
            "0.0365",
            "0.0365",
            "0.0381",
            "0.0355",
            "0.0354",
            "0.0360",
            "0.0395",
            "0.0312",
            "0.0252",
            "0.0229",
            "0.0398",
            "0.0366",
            "0.0239",
            "0.0232",
            "0.0231",
            "0.0236"
           ],
           [
            "0.0321",
            "0.0303",
            "0.0297",
            "0.0302",
            "0.0302",
            "0.0337",
            "0.0412",
            "0.0482",
            "0.0478",
            "0.0475",
            "0.0497",
            "0.0494",
            "0.0512",
            "0.0507",
            "0.0505",
            "0.0431",
            "0.0334",
            "0.0221",
            "0.0454",
            "0.0394",
            "0.0303",
            "0.0278",
            "0.0272",
            "0.0262"
           ],
           [
            "0.0306",
            "0.0310",
            "0.0311",
            "0.0327",
            "0.0331",
            "0.0342",
            "0.0448",
            "0.0498",
            "0.0502",
            "0.0496",
            "0.0512",
            "0.0568",
            "0.0604",
            "0.0593",
            "0.0534",
            "0.0443",
            "0.0305",
            "0.0233",
            "0.0471",
            "0.0418",
            "0.0325",
            "0.0284",
            "0.0278",
            "0.0275"
           ],
           [
            "0.0328",
            "0.0339",
            "0.0338",
            "0.0345",
            "0.0351",
            "0.0356",
            "0.0421",
            "0.0488",
            "0.0527",
            "0.0530",
            "0.0587",
            "0.0660",
            "0.0683",
            "0.0655",
            "0.0598",
            "0.0467",
            "0.0310",
            "0.0265",
            "0.0463",
            "0.0426",
            "0.0320",
            "0.0280",
            "0.0271",
            "0.0262"
           ],
           [
            "0.0376",
            "0.0369",
            "0.0357",
            "0.0348",
            "0.0346",
            "0.0367",
            "0.0430",
            "0.0501",
            "0.0524",
            "0.0551",
            "0.0631",
            "0.0706",
            "0.0726",
            "0.0702",
            "0.0659",
            "0.0482",
            "0.0323",
            "0.0261",
            "0.0443",
            "0.0393",
            "0.0307",
            "0.0283",
            "0.0277",
            "0.0266"
           ],
           [
            "0.0368",
            "0.0360",
            "0.0344",
            "0.0341",
            "0.0345",
            "0.0351",
            "0.0375",
            "0.0396",
            "0.0457",
            "0.0505",
            "0.0618",
            "0.0732",
            "0.0763",
            "0.0729",
            "0.0645",
            "0.0445",
            "0.0278",
            "0.0238",
            "0.0419",
            "0.0347",
            "0.0265",
            "0.0253",
            "0.0263",
            "0.0265"
           ],
           [
            "0.0390",
            "0.0354",
            "0.0341",
            "0.0346",
            "0.0355",
            "0.0358",
            "0.0333",
            "0.0333",
            "0.0393",
            "0.0483",
            "0.0605",
            "0.0724",
            "0.0765",
            "0.0722",
            "0.0597",
            "0.0413",
            "0.0272",
            "0.0264",
            "0.0432",
            "0.0342",
            "0.0284",
            "0.0271",
            "0.0283",
            "0.0287"
           ],
           [
            "0.0344",
            "0.0333",
            "0.0326",
            "0.0330",
            "0.0333",
            "0.0347",
            "0.0398",
            "0.0440",
            "0.0464",
            "0.0486",
            "0.0547",
            "0.0606",
            "0.0630",
            "0.0610",
            "0.0562",
            "0.0428",
            "0.0296",
            "0.0245",
            "0.0440",
            "0.0384",
            "0.0292",
            "0.0269",
            "0.0268",
            "0.0265"
           ]
          ]
         },
         "header": {
          "align": "center",
          "fill": {
           "color": "#B3E5FC"
          },
          "font": {
           "color": "black",
           "size": 12
          },
          "values": [
           "Hour",
           "actual_price_kwh",
           "RMSE_day1",
           "RMSE_day2",
           "RMSE_day3",
           "RMSE_day4",
           "RMSE_day5",
           "RMSE_day6",
           "RMSE_day7",
           "RMSE_total"
          ]
         },
         "type": "table"
        }
       ],
       "layout": {
        "height": 600,
        "margin": {
         "b": 20,
         "l": 20,
         "r": 20,
         "t": 60
        },
        "template": {
         "data": {
          "bar": [
           {
            "error_x": {
             "color": "#2a3f5f"
            },
            "error_y": {
             "color": "#2a3f5f"
            },
            "marker": {
             "line": {
              "color": "#E5ECF6",
              "width": 0.5
             },
             "pattern": {
              "fillmode": "overlay",
              "size": 10,
              "solidity": 0.2
             }
            },
            "type": "bar"
           }
          ],
          "barpolar": [
           {
            "marker": {
             "line": {
              "color": "#E5ECF6",
              "width": 0.5
             },
             "pattern": {
              "fillmode": "overlay",
              "size": 10,
              "solidity": 0.2
             }
            },
            "type": "barpolar"
           }
          ],
          "carpet": [
           {
            "aaxis": {
             "endlinecolor": "#2a3f5f",
             "gridcolor": "white",
             "linecolor": "white",
             "minorgridcolor": "white",
             "startlinecolor": "#2a3f5f"
            },
            "baxis": {
             "endlinecolor": "#2a3f5f",
             "gridcolor": "white",
             "linecolor": "white",
             "minorgridcolor": "white",
             "startlinecolor": "#2a3f5f"
            },
            "type": "carpet"
           }
          ],
          "choropleth": [
           {
            "colorbar": {
             "outlinewidth": 0,
             "ticks": ""
            },
            "type": "choropleth"
           }
          ],
          "contour": [
           {
            "colorbar": {
             "outlinewidth": 0,
             "ticks": ""
            },
            "colorscale": [
             [
              0,
              "#0d0887"
             ],
             [
              0.1111111111111111,
              "#46039f"
             ],
             [
              0.2222222222222222,
              "#7201a8"
             ],
             [
              0.3333333333333333,
              "#9c179e"
             ],
             [
              0.4444444444444444,
              "#bd3786"
             ],
             [
              0.5555555555555556,
              "#d8576b"
             ],
             [
              0.6666666666666666,
              "#ed7953"
             ],
             [
              0.7777777777777778,
              "#fb9f3a"
             ],
             [
              0.8888888888888888,
              "#fdca26"
             ],
             [
              1,
              "#f0f921"
             ]
            ],
            "type": "contour"
           }
          ],
          "contourcarpet": [
           {
            "colorbar": {
             "outlinewidth": 0,
             "ticks": ""
            },
            "type": "contourcarpet"
           }
          ],
          "heatmap": [
           {
            "colorbar": {
             "outlinewidth": 0,
             "ticks": ""
            },
            "colorscale": [
             [
              0,
              "#0d0887"
             ],
             [
              0.1111111111111111,
              "#46039f"
             ],
             [
              0.2222222222222222,
              "#7201a8"
             ],
             [
              0.3333333333333333,
              "#9c179e"
             ],
             [
              0.4444444444444444,
              "#bd3786"
             ],
             [
              0.5555555555555556,
              "#d8576b"
             ],
             [
              0.6666666666666666,
              "#ed7953"
             ],
             [
              0.7777777777777778,
              "#fb9f3a"
             ],
             [
              0.8888888888888888,
              "#fdca26"
             ],
             [
              1,
              "#f0f921"
             ]
            ],
            "type": "heatmap"
           }
          ],
          "heatmapgl": [
           {
            "colorbar": {
             "outlinewidth": 0,
             "ticks": ""
            },
            "colorscale": [
             [
              0,
              "#0d0887"
             ],
             [
              0.1111111111111111,
              "#46039f"
             ],
             [
              0.2222222222222222,
              "#7201a8"
             ],
             [
              0.3333333333333333,
              "#9c179e"
             ],
             [
              0.4444444444444444,
              "#bd3786"
             ],
             [
              0.5555555555555556,
              "#d8576b"
             ],
             [
              0.6666666666666666,
              "#ed7953"
             ],
             [
              0.7777777777777778,
              "#fb9f3a"
             ],
             [
              0.8888888888888888,
              "#fdca26"
             ],
             [
              1,
              "#f0f921"
             ]
            ],
            "type": "heatmapgl"
           }
          ],
          "histogram": [
           {
            "marker": {
             "pattern": {
              "fillmode": "overlay",
              "size": 10,
              "solidity": 0.2
             }
            },
            "type": "histogram"
           }
          ],
          "histogram2d": [
           {
            "colorbar": {
             "outlinewidth": 0,
             "ticks": ""
            },
            "colorscale": [
             [
              0,
              "#0d0887"
             ],
             [
              0.1111111111111111,
              "#46039f"
             ],
             [
              0.2222222222222222,
              "#7201a8"
             ],
             [
              0.3333333333333333,
              "#9c179e"
             ],
             [
              0.4444444444444444,
              "#bd3786"
             ],
             [
              0.5555555555555556,
              "#d8576b"
             ],
             [
              0.6666666666666666,
              "#ed7953"
             ],
             [
              0.7777777777777778,
              "#fb9f3a"
             ],
             [
              0.8888888888888888,
              "#fdca26"
             ],
             [
              1,
              "#f0f921"
             ]
            ],
            "type": "histogram2d"
           }
          ],
          "histogram2dcontour": [
           {
            "colorbar": {
             "outlinewidth": 0,
             "ticks": ""
            },
            "colorscale": [
             [
              0,
              "#0d0887"
             ],
             [
              0.1111111111111111,
              "#46039f"
             ],
             [
              0.2222222222222222,
              "#7201a8"
             ],
             [
              0.3333333333333333,
              "#9c179e"
             ],
             [
              0.4444444444444444,
              "#bd3786"
             ],
             [
              0.5555555555555556,
              "#d8576b"
             ],
             [
              0.6666666666666666,
              "#ed7953"
             ],
             [
              0.7777777777777778,
              "#fb9f3a"
             ],
             [
              0.8888888888888888,
              "#fdca26"
             ],
             [
              1,
              "#f0f921"
             ]
            ],
            "type": "histogram2dcontour"
           }
          ],
          "mesh3d": [
           {
            "colorbar": {
             "outlinewidth": 0,
             "ticks": ""
            },
            "type": "mesh3d"
           }
          ],
          "parcoords": [
           {
            "line": {
             "colorbar": {
              "outlinewidth": 0,
              "ticks": ""
             }
            },
            "type": "parcoords"
           }
          ],
          "pie": [
           {
            "automargin": true,
            "type": "pie"
           }
          ],
          "scatter": [
           {
            "fillpattern": {
             "fillmode": "overlay",
             "size": 10,
             "solidity": 0.2
            },
            "type": "scatter"
           }
          ],
          "scatter3d": [
           {
            "line": {
             "colorbar": {
              "outlinewidth": 0,
              "ticks": ""
             }
            },
            "marker": {
             "colorbar": {
              "outlinewidth": 0,
              "ticks": ""
             }
            },
            "type": "scatter3d"
           }
          ],
          "scattercarpet": [
           {
            "marker": {
             "colorbar": {
              "outlinewidth": 0,
              "ticks": ""
             }
            },
            "type": "scattercarpet"
           }
          ],
          "scattergeo": [
           {
            "marker": {
             "colorbar": {
              "outlinewidth": 0,
              "ticks": ""
             }
            },
            "type": "scattergeo"
           }
          ],
          "scattergl": [
           {
            "marker": {
             "colorbar": {
              "outlinewidth": 0,
              "ticks": ""
             }
            },
            "type": "scattergl"
           }
          ],
          "scattermapbox": [
           {
            "marker": {
             "colorbar": {
              "outlinewidth": 0,
              "ticks": ""
             }
            },
            "type": "scattermapbox"
           }
          ],
          "scatterpolar": [
           {
            "marker": {
             "colorbar": {
              "outlinewidth": 0,
              "ticks": ""
             }
            },
            "type": "scatterpolar"
           }
          ],
          "scatterpolargl": [
           {
            "marker": {
             "colorbar": {
              "outlinewidth": 0,
              "ticks": ""
             }
            },
            "type": "scatterpolargl"
           }
          ],
          "scatterternary": [
           {
            "marker": {
             "colorbar": {
              "outlinewidth": 0,
              "ticks": ""
             }
            },
            "type": "scatterternary"
           }
          ],
          "surface": [
           {
            "colorbar": {
             "outlinewidth": 0,
             "ticks": ""
            },
            "colorscale": [
             [
              0,
              "#0d0887"
             ],
             [
              0.1111111111111111,
              "#46039f"
             ],
             [
              0.2222222222222222,
              "#7201a8"
             ],
             [
              0.3333333333333333,
              "#9c179e"
             ],
             [
              0.4444444444444444,
              "#bd3786"
             ],
             [
              0.5555555555555556,
              "#d8576b"
             ],
             [
              0.6666666666666666,
              "#ed7953"
             ],
             [
              0.7777777777777778,
              "#fb9f3a"
             ],
             [
              0.8888888888888888,
              "#fdca26"
             ],
             [
              1,
              "#f0f921"
             ]
            ],
            "type": "surface"
           }
          ],
          "table": [
           {
            "cells": {
             "fill": {
              "color": "#EBF0F8"
             },
             "line": {
              "color": "white"
             }
            },
            "header": {
             "fill": {
              "color": "#C8D4E3"
             },
             "line": {
              "color": "white"
             }
            },
            "type": "table"
           }
          ]
         },
         "layout": {
          "annotationdefaults": {
           "arrowcolor": "#2a3f5f",
           "arrowhead": 0,
           "arrowwidth": 1
          },
          "autotypenumbers": "strict",
          "coloraxis": {
           "colorbar": {
            "outlinewidth": 0,
            "ticks": ""
           }
          },
          "colorscale": {
           "diverging": [
            [
             0,
             "#8e0152"
            ],
            [
             0.1,
             "#c51b7d"
            ],
            [
             0.2,
             "#de77ae"
            ],
            [
             0.3,
             "#f1b6da"
            ],
            [
             0.4,
             "#fde0ef"
            ],
            [
             0.5,
             "#f7f7f7"
            ],
            [
             0.6,
             "#e6f5d0"
            ],
            [
             0.7,
             "#b8e186"
            ],
            [
             0.8,
             "#7fbc41"
            ],
            [
             0.9,
             "#4d9221"
            ],
            [
             1,
             "#276419"
            ]
           ],
           "sequential": [
            [
             0,
             "#0d0887"
            ],
            [
             0.1111111111111111,
             "#46039f"
            ],
            [
             0.2222222222222222,
             "#7201a8"
            ],
            [
             0.3333333333333333,
             "#9c179e"
            ],
            [
             0.4444444444444444,
             "#bd3786"
            ],
            [
             0.5555555555555556,
             "#d8576b"
            ],
            [
             0.6666666666666666,
             "#ed7953"
            ],
            [
             0.7777777777777778,
             "#fb9f3a"
            ],
            [
             0.8888888888888888,
             "#fdca26"
            ],
            [
             1,
             "#f0f921"
            ]
           ],
           "sequentialminus": [
            [
             0,
             "#0d0887"
            ],
            [
             0.1111111111111111,
             "#46039f"
            ],
            [
             0.2222222222222222,
             "#7201a8"
            ],
            [
             0.3333333333333333,
             "#9c179e"
            ],
            [
             0.4444444444444444,
             "#bd3786"
            ],
            [
             0.5555555555555556,
             "#d8576b"
            ],
            [
             0.6666666666666666,
             "#ed7953"
            ],
            [
             0.7777777777777778,
             "#fb9f3a"
            ],
            [
             0.8888888888888888,
             "#fdca26"
            ],
            [
             1,
             "#f0f921"
            ]
           ]
          },
          "colorway": [
           "#636efa",
           "#EF553B",
           "#00cc96",
           "#ab63fa",
           "#FFA15A",
           "#19d3f3",
           "#FF6692",
           "#B6E880",
           "#FF97FF",
           "#FECB52"
          ],
          "font": {
           "color": "#2a3f5f"
          },
          "geo": {
           "bgcolor": "white",
           "lakecolor": "white",
           "landcolor": "#E5ECF6",
           "showlakes": true,
           "showland": true,
           "subunitcolor": "white"
          },
          "hoverlabel": {
           "align": "left"
          },
          "hovermode": "closest",
          "mapbox": {
           "style": "light"
          },
          "paper_bgcolor": "white",
          "plot_bgcolor": "#E5ECF6",
          "polar": {
           "angularaxis": {
            "gridcolor": "white",
            "linecolor": "white",
            "ticks": ""
           },
           "bgcolor": "#E5ECF6",
           "radialaxis": {
            "gridcolor": "white",
            "linecolor": "white",
            "ticks": ""
           }
          },
          "scene": {
           "xaxis": {
            "backgroundcolor": "#E5ECF6",
            "gridcolor": "white",
            "gridwidth": 2,
            "linecolor": "white",
            "showbackground": true,
            "ticks": "",
            "zerolinecolor": "white"
           },
           "yaxis": {
            "backgroundcolor": "#E5ECF6",
            "gridcolor": "white",
            "gridwidth": 2,
            "linecolor": "white",
            "showbackground": true,
            "ticks": "",
            "zerolinecolor": "white"
           },
           "zaxis": {
            "backgroundcolor": "#E5ECF6",
            "gridcolor": "white",
            "gridwidth": 2,
            "linecolor": "white",
            "showbackground": true,
            "ticks": "",
            "zerolinecolor": "white"
           }
          },
          "shapedefaults": {
           "line": {
            "color": "#2a3f5f"
           }
          },
          "ternary": {
           "aaxis": {
            "gridcolor": "white",
            "linecolor": "white",
            "ticks": ""
           },
           "baxis": {
            "gridcolor": "white",
            "linecolor": "white",
            "ticks": ""
           },
           "bgcolor": "#E5ECF6",
           "caxis": {
            "gridcolor": "white",
            "linecolor": "white",
            "ticks": ""
           }
          },
          "title": {
           "x": 0.05
          },
          "xaxis": {
           "automargin": true,
           "gridcolor": "white",
           "linecolor": "white",
           "ticks": "",
           "title": {
            "standoff": 15
           },
           "zerolinecolor": "white",
           "zerolinewidth": 2
          },
          "yaxis": {
           "automargin": true,
           "gridcolor": "white",
           "linecolor": "white",
           "ticks": "",
           "title": {
            "standoff": 15
           },
           "zerolinecolor": "white",
           "zerolinewidth": 2
          }
         }
        },
        "title": {
         "text": "Naive Model: Hourly Electricity Price Forecast Evaluation"
        },
        "width": 1000
       }
      }
     },
     "metadata": {},
     "output_type": "display_data"
    },
    {
     "data": {
      "application/vnd.plotly.v1+json": {
       "config": {
        "plotlyServerURL": "https://plot.ly"
       },
       "data": [
        {
         "cells": {
          "align": [
           "center",
           "right",
           "right",
           "right",
           "right",
           "right",
           "right",
           "right",
           "right",
           "right"
          ],
          "fill": {
           "color": "#F5F5F5"
          },
          "font": {
           "size": 11
          },
          "values": [
           [
            "24-02-2025",
            "25-02-2025",
            "26-02-2025",
            "27-02-2025",
            "28-02-2025",
            "01-03-2025",
            "02-03-2025",
            "03-03-2025",
            "04-03-2025",
            "05-03-2025",
            "06-03-2025",
            "07-03-2025",
            "08-03-2025",
            "09-03-2025",
            "10-03-2025",
            "11-03-2025",
            "12-03-2025",
            "13-03-2025",
            "14-03-2025",
            "15-03-2025",
            "16-03-2025",
            "17-03-2025",
            "18-03-2025",
            "19-03-2025",
            "20-03-2025",
            "21-03-2025",
            "22-03-2025",
            "23-03-2025",
            "24-03-2025",
            "25-03-2025",
            "26-03-2025",
            "27-03-2025",
            "28-03-2025",
            "29-03-2025"
           ],
           [
            "€0.0786",
            "€0.1338",
            "€0.1230",
            "€0.1179",
            "€0.1221",
            "€0.1193",
            "€0.0904",
            "€0.1055",
            "€0.1057",
            "€0.0794",
            "€0.0847",
            "€0.0945",
            "€0.0804",
            "€0.0728",
            "€0.1073",
            "€0.1158",
            "€0.1187",
            "€0.1214",
            "€0.1183",
            "€0.0921",
            "€0.0699",
            "€0.0950",
            "€0.0849",
            "€0.0977",
            "€0.0988",
            "€0.0646",
            "€0.0399",
            "€0.0803",
            "€0.1247",
            "€0.1085",
            "€0.1126",
            "€0.0954",
            "€0.0842",
            "€0.1043"
           ],
           [
            "0.0500",
            "0.0610",
            "0.0265",
            "0.0117",
            "0.0098",
            "0.0102",
            "0.0397",
            "0.0288",
            "0.0114",
            "0.0341",
            "0.0183",
            "0.0170",
            "0.0253",
            "0.0206",
            "0.0498",
            "0.0169",
            "0.0093",
            "0.0081",
            "0.0106",
            "0.0316",
            "0.0301",
            "0.0300",
            "0.0168",
            "0.0209",
            "0.0091",
            "0.0576",
            "0.0674",
            "0.0516",
            "0.0560",
            "0.0191",
            "0.0080",
            "0.0300",
            "0.0185",
            "0.0191"
           ],
           [
            "0.0234",
            "0.0586",
            "0.0606",
            "0.0242",
            "0.0094",
            "0.0125",
            "0.0435",
            "0.0393",
            "0.0273",
            "0.0313",
            "0.0240",
            "0.0259",
            "0.0161",
            "0.0320",
            "0.0407",
            "0.0588",
            "0.0153",
            "0.0111",
            "0.0140",
            "0.0341",
            "0.0586",
            "0.0259",
            "0.0205",
            "0.0232",
            "0.0265",
            "0.0544",
            "0.0689",
            "0.0435",
            "0.0931",
            "0.0399",
            "0.0156",
            "0.0227",
            "0.0423",
            "0.0004"
           ],
           [
            "0.0438",
            "0.0545",
            "0.0430",
            "0.0538",
            "0.0235",
            "0.0122",
            "0.0446",
            "0.0392",
            "0.0352",
            "0.0283",
            "0.0246",
            "0.0194",
            "0.0188",
            "0.0263",
            "0.0272",
            "0.0512",
            "0.0600",
            "0.0180",
            "0.0147",
            "0.0319",
            "0.0604",
            "0.0394",
            "0.0313",
            "0.0367",
            "0.0262",
            "0.0390",
            "0.0692",
            "0.0344",
            "0.0716",
            "0.0787",
            "0.0460",
            "0.0377",
            "0.0352",
            "0.0033"
           ],
           [
            "0.0420",
            "0.0555",
            "0.0505",
            "0.0393",
            "0.0564",
            "0.0298",
            "0.0433",
            "0.0410",
            "0.0357",
            "0.0575",
            "0.0234",
            "0.0179",
            "0.0320",
            "0.0228",
            "0.0340",
            "0.0353",
            "0.0522",
            "0.0634",
            "0.0158",
            "0.0295",
            "0.0571",
            "0.0398",
            "0.0511",
            "0.0407",
            "0.0392",
            "0.0433",
            "0.0602",
            "0.0310",
            "0.0464",
            "0.0557",
            "0.0829",
            "0.0259",
            "0.0502",
            "0.0037"
           ],
           [
            "0.0507",
            "0.0436",
            "0.0406",
            "0.0447",
            "0.0429",
            "0.0577",
            "0.0610",
            "0.0376",
            "0.0365",
            "0.0589",
            "0.0477",
            "0.0212",
            "0.0331",
            "0.0435",
            "0.0442",
            "0.0458",
            "0.0353",
            "0.0553",
            "0.0618",
            "0.0230",
            "0.0553",
            "0.0376",
            "0.0522",
            "0.0521",
            "0.0418",
            "0.0327",
            "0.0688",
            "0.0185",
            "0.0469",
            "0.0394",
            "0.0614",
            "0.0679",
            "0.0165",
            "0.0042"
           ],
           [
            "0.0681",
            "0.0334",
            "0.0289",
            "0.0352",
            "0.0459",
            "0.0392",
            "0.0571",
            "0.0513",
            "0.0326",
            "0.0590",
            "0.0492",
            "0.0397",
            "0.0217",
            "0.0408",
            "0.0274",
            "0.0548",
            "0.0460",
            "0.0393",
            "0.0521",
            "0.0349",
            "0.0464",
            "0.0381",
            "0.0492",
            "0.0507",
            "0.0528",
            "0.0426",
            "0.0458",
            "0.0278",
            "0.0519",
            "0.0386",
            "0.0453",
            "0.0434",
            "0.0565",
            "0.0133"
           ],
           [
            "0.0826",
            "0.0238",
            "0.0163",
            "0.0230",
            "0.0402",
            "0.0447",
            "0.0244",
            "0.0633",
            "0.0490",
            "0.0587",
            "0.0484",
            "0.0402",
            "0.0515",
            "0.0271",
            "0.0301",
            "0.0350",
            "0.0554",
            "0.0488",
            "0.0399",
            "0.0287",
            "0.0136",
            "0.0280",
            "0.0493",
            "0.0462",
            "0.0507",
            "0.0641",
            "0.0652",
            "0.0177",
            "0.0397",
            "0.0372",
            "0.0449",
            "0.0277",
            "0.0430",
            "0.0774"
           ],
           [
            "0.0515",
            "0.0472",
            "0.0380",
            "0.0331",
            "0.0326",
            "0.0295",
            "0.0448",
            "0.0429",
            "0.0325",
            "0.0468",
            "0.0336",
            "0.0259",
            "0.0284",
            "0.0304",
            "0.0362",
            "0.0425",
            "0.0391",
            "0.0349",
            "0.0298",
            "0.0305",
            "0.0459",
            "0.0341",
            "0.0386",
            "0.0387",
            "0.0352",
            "0.0477",
            "0.0636",
            "0.0321",
            "0.0579",
            "0.0441",
            "0.0434",
            "0.0365",
            "0.0375",
            "0.0173"
           ]
          ]
         },
         "header": {
          "align": "center",
          "fill": {
           "color": "#B3E5FC"
          },
          "font": {
           "color": "black",
           "size": 12
          },
          "values": [
           "Date",
           "actual_price_kwh",
           "RMSE_day1",
           "RMSE_day2",
           "RMSE_day3",
           "RMSE_day4",
           "RMSE_day5",
           "RMSE_day6",
           "RMSE_day7",
           "RMSE_total"
          ]
         },
         "type": "table"
        }
       ],
       "layout": {
        "height": 800,
        "margin": {
         "b": 20,
         "l": 20,
         "r": 20,
         "t": 60
        },
        "template": {
         "data": {
          "bar": [
           {
            "error_x": {
             "color": "#2a3f5f"
            },
            "error_y": {
             "color": "#2a3f5f"
            },
            "marker": {
             "line": {
              "color": "#E5ECF6",
              "width": 0.5
             },
             "pattern": {
              "fillmode": "overlay",
              "size": 10,
              "solidity": 0.2
             }
            },
            "type": "bar"
           }
          ],
          "barpolar": [
           {
            "marker": {
             "line": {
              "color": "#E5ECF6",
              "width": 0.5
             },
             "pattern": {
              "fillmode": "overlay",
              "size": 10,
              "solidity": 0.2
             }
            },
            "type": "barpolar"
           }
          ],
          "carpet": [
           {
            "aaxis": {
             "endlinecolor": "#2a3f5f",
             "gridcolor": "white",
             "linecolor": "white",
             "minorgridcolor": "white",
             "startlinecolor": "#2a3f5f"
            },
            "baxis": {
             "endlinecolor": "#2a3f5f",
             "gridcolor": "white",
             "linecolor": "white",
             "minorgridcolor": "white",
             "startlinecolor": "#2a3f5f"
            },
            "type": "carpet"
           }
          ],
          "choropleth": [
           {
            "colorbar": {
             "outlinewidth": 0,
             "ticks": ""
            },
            "type": "choropleth"
           }
          ],
          "contour": [
           {
            "colorbar": {
             "outlinewidth": 0,
             "ticks": ""
            },
            "colorscale": [
             [
              0,
              "#0d0887"
             ],
             [
              0.1111111111111111,
              "#46039f"
             ],
             [
              0.2222222222222222,
              "#7201a8"
             ],
             [
              0.3333333333333333,
              "#9c179e"
             ],
             [
              0.4444444444444444,
              "#bd3786"
             ],
             [
              0.5555555555555556,
              "#d8576b"
             ],
             [
              0.6666666666666666,
              "#ed7953"
             ],
             [
              0.7777777777777778,
              "#fb9f3a"
             ],
             [
              0.8888888888888888,
              "#fdca26"
             ],
             [
              1,
              "#f0f921"
             ]
            ],
            "type": "contour"
           }
          ],
          "contourcarpet": [
           {
            "colorbar": {
             "outlinewidth": 0,
             "ticks": ""
            },
            "type": "contourcarpet"
           }
          ],
          "heatmap": [
           {
            "colorbar": {
             "outlinewidth": 0,
             "ticks": ""
            },
            "colorscale": [
             [
              0,
              "#0d0887"
             ],
             [
              0.1111111111111111,
              "#46039f"
             ],
             [
              0.2222222222222222,
              "#7201a8"
             ],
             [
              0.3333333333333333,
              "#9c179e"
             ],
             [
              0.4444444444444444,
              "#bd3786"
             ],
             [
              0.5555555555555556,
              "#d8576b"
             ],
             [
              0.6666666666666666,
              "#ed7953"
             ],
             [
              0.7777777777777778,
              "#fb9f3a"
             ],
             [
              0.8888888888888888,
              "#fdca26"
             ],
             [
              1,
              "#f0f921"
             ]
            ],
            "type": "heatmap"
           }
          ],
          "heatmapgl": [
           {
            "colorbar": {
             "outlinewidth": 0,
             "ticks": ""
            },
            "colorscale": [
             [
              0,
              "#0d0887"
             ],
             [
              0.1111111111111111,
              "#46039f"
             ],
             [
              0.2222222222222222,
              "#7201a8"
             ],
             [
              0.3333333333333333,
              "#9c179e"
             ],
             [
              0.4444444444444444,
              "#bd3786"
             ],
             [
              0.5555555555555556,
              "#d8576b"
             ],
             [
              0.6666666666666666,
              "#ed7953"
             ],
             [
              0.7777777777777778,
              "#fb9f3a"
             ],
             [
              0.8888888888888888,
              "#fdca26"
             ],
             [
              1,
              "#f0f921"
             ]
            ],
            "type": "heatmapgl"
           }
          ],
          "histogram": [
           {
            "marker": {
             "pattern": {
              "fillmode": "overlay",
              "size": 10,
              "solidity": 0.2
             }
            },
            "type": "histogram"
           }
          ],
          "histogram2d": [
           {
            "colorbar": {
             "outlinewidth": 0,
             "ticks": ""
            },
            "colorscale": [
             [
              0,
              "#0d0887"
             ],
             [
              0.1111111111111111,
              "#46039f"
             ],
             [
              0.2222222222222222,
              "#7201a8"
             ],
             [
              0.3333333333333333,
              "#9c179e"
             ],
             [
              0.4444444444444444,
              "#bd3786"
             ],
             [
              0.5555555555555556,
              "#d8576b"
             ],
             [
              0.6666666666666666,
              "#ed7953"
             ],
             [
              0.7777777777777778,
              "#fb9f3a"
             ],
             [
              0.8888888888888888,
              "#fdca26"
             ],
             [
              1,
              "#f0f921"
             ]
            ],
            "type": "histogram2d"
           }
          ],
          "histogram2dcontour": [
           {
            "colorbar": {
             "outlinewidth": 0,
             "ticks": ""
            },
            "colorscale": [
             [
              0,
              "#0d0887"
             ],
             [
              0.1111111111111111,
              "#46039f"
             ],
             [
              0.2222222222222222,
              "#7201a8"
             ],
             [
              0.3333333333333333,
              "#9c179e"
             ],
             [
              0.4444444444444444,
              "#bd3786"
             ],
             [
              0.5555555555555556,
              "#d8576b"
             ],
             [
              0.6666666666666666,
              "#ed7953"
             ],
             [
              0.7777777777777778,
              "#fb9f3a"
             ],
             [
              0.8888888888888888,
              "#fdca26"
             ],
             [
              1,
              "#f0f921"
             ]
            ],
            "type": "histogram2dcontour"
           }
          ],
          "mesh3d": [
           {
            "colorbar": {
             "outlinewidth": 0,
             "ticks": ""
            },
            "type": "mesh3d"
           }
          ],
          "parcoords": [
           {
            "line": {
             "colorbar": {
              "outlinewidth": 0,
              "ticks": ""
             }
            },
            "type": "parcoords"
           }
          ],
          "pie": [
           {
            "automargin": true,
            "type": "pie"
           }
          ],
          "scatter": [
           {
            "fillpattern": {
             "fillmode": "overlay",
             "size": 10,
             "solidity": 0.2
            },
            "type": "scatter"
           }
          ],
          "scatter3d": [
           {
            "line": {
             "colorbar": {
              "outlinewidth": 0,
              "ticks": ""
             }
            },
            "marker": {
             "colorbar": {
              "outlinewidth": 0,
              "ticks": ""
             }
            },
            "type": "scatter3d"
           }
          ],
          "scattercarpet": [
           {
            "marker": {
             "colorbar": {
              "outlinewidth": 0,
              "ticks": ""
             }
            },
            "type": "scattercarpet"
           }
          ],
          "scattergeo": [
           {
            "marker": {
             "colorbar": {
              "outlinewidth": 0,
              "ticks": ""
             }
            },
            "type": "scattergeo"
           }
          ],
          "scattergl": [
           {
            "marker": {
             "colorbar": {
              "outlinewidth": 0,
              "ticks": ""
             }
            },
            "type": "scattergl"
           }
          ],
          "scattermapbox": [
           {
            "marker": {
             "colorbar": {
              "outlinewidth": 0,
              "ticks": ""
             }
            },
            "type": "scattermapbox"
           }
          ],
          "scatterpolar": [
           {
            "marker": {
             "colorbar": {
              "outlinewidth": 0,
              "ticks": ""
             }
            },
            "type": "scatterpolar"
           }
          ],
          "scatterpolargl": [
           {
            "marker": {
             "colorbar": {
              "outlinewidth": 0,
              "ticks": ""
             }
            },
            "type": "scatterpolargl"
           }
          ],
          "scatterternary": [
           {
            "marker": {
             "colorbar": {
              "outlinewidth": 0,
              "ticks": ""
             }
            },
            "type": "scatterternary"
           }
          ],
          "surface": [
           {
            "colorbar": {
             "outlinewidth": 0,
             "ticks": ""
            },
            "colorscale": [
             [
              0,
              "#0d0887"
             ],
             [
              0.1111111111111111,
              "#46039f"
             ],
             [
              0.2222222222222222,
              "#7201a8"
             ],
             [
              0.3333333333333333,
              "#9c179e"
             ],
             [
              0.4444444444444444,
              "#bd3786"
             ],
             [
              0.5555555555555556,
              "#d8576b"
             ],
             [
              0.6666666666666666,
              "#ed7953"
             ],
             [
              0.7777777777777778,
              "#fb9f3a"
             ],
             [
              0.8888888888888888,
              "#fdca26"
             ],
             [
              1,
              "#f0f921"
             ]
            ],
            "type": "surface"
           }
          ],
          "table": [
           {
            "cells": {
             "fill": {
              "color": "#EBF0F8"
             },
             "line": {
              "color": "white"
             }
            },
            "header": {
             "fill": {
              "color": "#C8D4E3"
             },
             "line": {
              "color": "white"
             }
            },
            "type": "table"
           }
          ]
         },
         "layout": {
          "annotationdefaults": {
           "arrowcolor": "#2a3f5f",
           "arrowhead": 0,
           "arrowwidth": 1
          },
          "autotypenumbers": "strict",
          "coloraxis": {
           "colorbar": {
            "outlinewidth": 0,
            "ticks": ""
           }
          },
          "colorscale": {
           "diverging": [
            [
             0,
             "#8e0152"
            ],
            [
             0.1,
             "#c51b7d"
            ],
            [
             0.2,
             "#de77ae"
            ],
            [
             0.3,
             "#f1b6da"
            ],
            [
             0.4,
             "#fde0ef"
            ],
            [
             0.5,
             "#f7f7f7"
            ],
            [
             0.6,
             "#e6f5d0"
            ],
            [
             0.7,
             "#b8e186"
            ],
            [
             0.8,
             "#7fbc41"
            ],
            [
             0.9,
             "#4d9221"
            ],
            [
             1,
             "#276419"
            ]
           ],
           "sequential": [
            [
             0,
             "#0d0887"
            ],
            [
             0.1111111111111111,
             "#46039f"
            ],
            [
             0.2222222222222222,
             "#7201a8"
            ],
            [
             0.3333333333333333,
             "#9c179e"
            ],
            [
             0.4444444444444444,
             "#bd3786"
            ],
            [
             0.5555555555555556,
             "#d8576b"
            ],
            [
             0.6666666666666666,
             "#ed7953"
            ],
            [
             0.7777777777777778,
             "#fb9f3a"
            ],
            [
             0.8888888888888888,
             "#fdca26"
            ],
            [
             1,
             "#f0f921"
            ]
           ],
           "sequentialminus": [
            [
             0,
             "#0d0887"
            ],
            [
             0.1111111111111111,
             "#46039f"
            ],
            [
             0.2222222222222222,
             "#7201a8"
            ],
            [
             0.3333333333333333,
             "#9c179e"
            ],
            [
             0.4444444444444444,
             "#bd3786"
            ],
            [
             0.5555555555555556,
             "#d8576b"
            ],
            [
             0.6666666666666666,
             "#ed7953"
            ],
            [
             0.7777777777777778,
             "#fb9f3a"
            ],
            [
             0.8888888888888888,
             "#fdca26"
            ],
            [
             1,
             "#f0f921"
            ]
           ]
          },
          "colorway": [
           "#636efa",
           "#EF553B",
           "#00cc96",
           "#ab63fa",
           "#FFA15A",
           "#19d3f3",
           "#FF6692",
           "#B6E880",
           "#FF97FF",
           "#FECB52"
          ],
          "font": {
           "color": "#2a3f5f"
          },
          "geo": {
           "bgcolor": "white",
           "lakecolor": "white",
           "landcolor": "#E5ECF6",
           "showlakes": true,
           "showland": true,
           "subunitcolor": "white"
          },
          "hoverlabel": {
           "align": "left"
          },
          "hovermode": "closest",
          "mapbox": {
           "style": "light"
          },
          "paper_bgcolor": "white",
          "plot_bgcolor": "#E5ECF6",
          "polar": {
           "angularaxis": {
            "gridcolor": "white",
            "linecolor": "white",
            "ticks": ""
           },
           "bgcolor": "#E5ECF6",
           "radialaxis": {
            "gridcolor": "white",
            "linecolor": "white",
            "ticks": ""
           }
          },
          "scene": {
           "xaxis": {
            "backgroundcolor": "#E5ECF6",
            "gridcolor": "white",
            "gridwidth": 2,
            "linecolor": "white",
            "showbackground": true,
            "ticks": "",
            "zerolinecolor": "white"
           },
           "yaxis": {
            "backgroundcolor": "#E5ECF6",
            "gridcolor": "white",
            "gridwidth": 2,
            "linecolor": "white",
            "showbackground": true,
            "ticks": "",
            "zerolinecolor": "white"
           },
           "zaxis": {
            "backgroundcolor": "#E5ECF6",
            "gridcolor": "white",
            "gridwidth": 2,
            "linecolor": "white",
            "showbackground": true,
            "ticks": "",
            "zerolinecolor": "white"
           }
          },
          "shapedefaults": {
           "line": {
            "color": "#2a3f5f"
           }
          },
          "ternary": {
           "aaxis": {
            "gridcolor": "white",
            "linecolor": "white",
            "ticks": ""
           },
           "baxis": {
            "gridcolor": "white",
            "linecolor": "white",
            "ticks": ""
           },
           "bgcolor": "#E5ECF6",
           "caxis": {
            "gridcolor": "white",
            "linecolor": "white",
            "ticks": ""
           }
          },
          "title": {
           "x": 0.05
          },
          "xaxis": {
           "automargin": true,
           "gridcolor": "white",
           "linecolor": "white",
           "ticks": "",
           "title": {
            "standoff": 15
           },
           "zerolinecolor": "white",
           "zerolinewidth": 2
          },
          "yaxis": {
           "automargin": true,
           "gridcolor": "white",
           "linecolor": "white",
           "ticks": "",
           "title": {
            "standoff": 15
           },
           "zerolinecolor": "white",
           "zerolinewidth": 2
          }
         }
        },
        "title": {
         "text": "Naive Model: Daily Electricity Price Forecast Evaluation"
        },
        "width": 1000
       }
      }
     },
     "metadata": {},
     "output_type": "display_data"
    }
   ],
   "source": [
    "import pandas as pd\n",
    "import numpy as np\n",
    "import plotly.graph_objects as go\n",
    "from sklearn.metrics import mean_squared_error, mean_absolute_error\n",
    "import warnings\n",
    "warnings.filterwarnings(\"ignore\", category=UserWarning)\n",
    "\n",
    "# ====================\n",
    "# 1. Data Inlezen en Voorbereiden\n",
    "# ====================\n",
    "\n",
    "# Pad naar de actuele data\n",
    "actuals_path = \"/Users/redouan/Downloads/GUI_ENERGY_PRICES_202501010000-202601010000.csv\"\n",
    "\n",
    "# Evaluatieperiode\n",
    "start_date = pd.Timestamp(\"2025-02-24\")\n",
    "end_date = pd.Timestamp(\"2025-03-29\")\n",
    "\n",
    "# --- Actuals Data ---\n",
    "actuals_df = pd.read_csv(actuals_path, encoding=\"utf-8-sig\")\n",
    "actuals_df[\"date_anchor\"] = actuals_df[\"MTU (UTC)\"].astype(str).str.split(\" - \").str[1]\n",
    "\n",
    "# Converteer naar datetime\n",
    "actuals_df[\"actual_datetime\"] = pd.to_datetime(\n",
    "    actuals_df[\"date_anchor\"], format=\"%d/%m/%Y %H:%M:%S\", errors=\"coerce\"\n",
    ")\n",
    "\n",
    "# Bereken prijs in EUR/kWh en target_hour\n",
    "actuals_df[\"price_kwh\"] = actuals_df[\"Day-ahead Price (EUR/MWh)\"] / 1000\n",
    "actuals_df[\"target_hour\"] = actuals_df[\"actual_datetime\"].dt.floor(\"H\").dt.tz_localize(None)\n",
    "\n",
    "# Voeg kolommen toe voor datum en uur\n",
    "actuals_df[\"target_date\"] = actuals_df[\"target_hour\"].dt.date\n",
    "actuals_df[\"hour\"] = actuals_df[\"target_hour\"].dt.hour\n",
    "\n",
    "# Sorteer op datum en uur\n",
    "actuals_df = actuals_df.sort_values([\"target_date\", \"hour\"])\n",
    "\n",
    "# ====================\n",
    "# 2. Genereer Naive Forecasts (voor horizon 1-7 dagen)\n",
    "# ====================\n",
    "\n",
    "# Initialiseer een lege dataframe voor alle naive forecasts\n",
    "naive_forecasts_list = []\n",
    "\n",
    "# Voor elke horizon (1 t/m 7 dagen) genereren we een naive forecast\n",
    "for horizon in range(1, 8):\n",
    "    # Maak een kopie van de actuals data\n",
    "    actuals_copy = actuals_df.copy()\n",
    "    \n",
    "    # Voor de naive forecast gebruiken we de prijs van dezelfde uur 'horizon' dagen geleden\n",
    "    # Bereken het target_hour voor de forecast ('horizon' dagen vooruit)\n",
    "    actuals_copy[\"forecast_target_hour\"] = actuals_copy[\"target_hour\"] + pd.Timedelta(days=horizon)\n",
    "    \n",
    "    # Hernoem kolommen voor een duidelijk onderscheid tussen actuele en forecast data\n",
    "    horizon_forecast = actuals_copy.rename(columns={\n",
    "        \"target_hour\": \"issuance_hour\",\n",
    "        \"forecast_target_hour\": \"target_hour\",\n",
    "        \"price_kwh\": \"y\"  # Gebruik 'y' als kolom voor de voorspelde prijs (zoals in benchmark script)\n",
    "    })[[\"issuance_hour\", \"target_hour\", \"y\"]]\n",
    "    \n",
    "    # Voeg de horizon kolom toe\n",
    "    horizon_forecast[\"horizon\"] = horizon\n",
    "    \n",
    "    # Voeg toe aan de lijst met forecasts\n",
    "    naive_forecasts_list.append(horizon_forecast)\n",
    "\n",
    "# Combineer alle forecasts in één dataframe\n",
    "naive_forecasts = pd.concat(naive_forecasts_list, ignore_index=True)\n",
    "\n",
    "# Filter forecasts op de evaluatieperiode\n",
    "naive_forecasts = naive_forecasts[\n",
    "    (naive_forecasts[\"target_hour\"] >= start_date) & \n",
    "    (naive_forecasts[\"target_hour\"] <= end_date)\n",
    "].copy()\n",
    "\n",
    "# Filter actuele data op evaluatieperiode\n",
    "filtered_actuals = actuals_df[\n",
    "    (actuals_df[\"target_hour\"] >= start_date) & \n",
    "    (actuals_df[\"target_hour\"] <= end_date)\n",
    "].copy()\n",
    "\n",
    "# Merge forecasts met actuele data\n",
    "merged = pd.merge(naive_forecasts, filtered_actuals[[\"target_hour\", \"price_kwh\"]], \n",
    "                 on=\"target_hour\", how=\"inner\")\n",
    "merged = merged.dropna(subset=[\"y\", \"price_kwh\"]).copy()\n",
    "merged = merged.sort_values([\"target_hour\", \"horizon\"])\n",
    "\n",
    "# ====================\n",
    "# 3. Evaluatie: Bereken de Foutmaten (overall)\n",
    "# ====================\n",
    "y_true = merged[\"price_kwh\"]\n",
    "y_pred = merged[\"y\"]\n",
    "\n",
    "rmse = np.sqrt(mean_squared_error(y_true, y_pred))\n",
    "mae = mean_absolute_error(y_true, y_pred)\n",
    "mape = np.mean(np.abs((y_true - y_pred) / np.where(y_true != 0, y_true, np.nan))) * 100\n",
    "mase_scale = np.mean(np.abs(y_true.diff().dropna()))\n",
    "mase = mae / mase_scale if mase_scale != 0 else np.nan\n",
    "\n",
    "# Ook per horizon berekenen voor visualisatie\n",
    "horizon_metrics = {}\n",
    "for h in range(1, 8):\n",
    "    horizon_data = merged[merged[\"horizon\"] == h]\n",
    "    if len(horizon_data) > 0:\n",
    "        h_rmse = np.sqrt(mean_squared_error(horizon_data[\"price_kwh\"], horizon_data[\"y\"]))\n",
    "        h_mae = mean_absolute_error(horizon_data[\"price_kwh\"], horizon_data[\"y\"])\n",
    "        h_mape = np.mean(np.abs((horizon_data[\"price_kwh\"] - horizon_data[\"y\"]) / \n",
    "                              np.where(horizon_data[\"price_kwh\"] != 0, horizon_data[\"price_kwh\"], np.nan))) * 100\n",
    "        h_mase = h_mae / mase_scale if mase_scale != 0 else np.nan\n",
    "        \n",
    "        horizon_metrics[h] = {\n",
    "            \"RMSE\": h_rmse,\n",
    "            \"MAE\": h_mae,\n",
    "            \"MAPE\": h_mape,\n",
    "            \"MASE\": h_mase\n",
    "        }\n",
    "\n",
    "# ====================\n",
    "# 4. Aggregatie voor Overzichtsmatrices\n",
    "# ====================\n",
    "\n",
    "# --- Aggregated Hourly Matrix ---\n",
    "merged[\"hour\"] = merged[\"target_hour\"].dt.hour\n",
    "\n",
    "# Groepeer op 'hour' en 'horizon' en bereken de RMSE\n",
    "rmse_hour_agg = merged.groupby([\"hour\", \"horizon\"]).apply(\n",
    "    lambda g: np.sqrt(np.mean((g[\"price_kwh\"] - g[\"y\"])**2))\n",
    ")\n",
    "rmse_hour_df = pd.DataFrame(rmse_hour_agg, columns=[\"rmse\"]).reset_index()\n",
    "\n",
    "# Pivot: rijen = hour, kolommen = horizon (1-7)\n",
    "rmse_hour_pivot = rmse_hour_df.pivot(index=\"hour\", columns=\"horizon\", values=\"rmse\")\n",
    "\n",
    "# Zorg dat alle uren (0-23) aanwezig zijn in de index\n",
    "missing_hours = set(range(24)) - set(rmse_hour_pivot.index)\n",
    "for hour in missing_hours:\n",
    "    rmse_hour_pivot.loc[hour] = np.nan\n",
    "rmse_hour_pivot = rmse_hour_pivot.sort_index()\n",
    "\n",
    "# Zorg dat kolommen voor horizon 1 t/m 7 altijd aanwezig zijn\n",
    "rmse_hour_pivot = rmse_hour_pivot.reindex(columns=range(1, 8))\n",
    "\n",
    "# Voeg de gemiddelde actuals toe per uur (over de evaluatieperiode)\n",
    "actuals_by_hour = merged.groupby(\"hour\")[\"price_kwh\"].mean()\n",
    "rmse_hour_pivot[\"Actuals\"] = actuals_by_hour\n",
    "\n",
    "# Bereken Total_rmse\n",
    "horizon_columns = [col for col in range(1, 8) if col in rmse_hour_pivot.columns]\n",
    "rmse_hour_pivot[\"Total_rmse\"] = rmse_hour_pivot[horizon_columns].mean(axis=1, skipna=True)\n",
    "\n",
    "# Zet de kolomvolgorde\n",
    "ordered_cols = [\"Actuals\"] + list(range(1, 8)) + [\"Total_rmse\"]\n",
    "ordered_cols = [col for col in ordered_cols if col in rmse_hour_pivot.columns]\n",
    "rmse_hour_pivot = rmse_hour_pivot[ordered_cols]\n",
    "\n",
    "# --- Aggregated Daily Matrix ---\n",
    "merged[\"target_date\"] = merged[\"target_hour\"].dt.normalize()\n",
    "rmse_day_agg = merged.groupby([\"target_date\", \"horizon\"]).apply(\n",
    "    lambda g: np.sqrt(np.mean((g[\"price_kwh\"] - g[\"y\"])**2))\n",
    ")\n",
    "rmse_day_df = pd.DataFrame(rmse_day_agg, columns=[\"rmse\"]).reset_index()\n",
    "\n",
    "# Pivot: rijen = target_date, kolommen = horizon (1-7)\n",
    "rmse_day_pivot = rmse_day_df.pivot(index=\"target_date\", columns=\"horizon\", values=\"rmse\")\n",
    "\n",
    "# Zorg dat kolommen voor horizon 1 t/m 7 altijd aanwezig zijn\n",
    "rmse_day_pivot = rmse_day_pivot.reindex(columns=range(1, 8))\n",
    "rmse_day_pivot = rmse_day_pivot.sort_index()\n",
    "\n",
    "# Voeg de gemiddelde actuals toe per dag\n",
    "actuals_by_day = merged.groupby(\"target_date\")[\"price_kwh\"].mean()\n",
    "rmse_day_pivot[\"Actuals\"] = actuals_by_day\n",
    "\n",
    "# Bereken Total_rmse\n",
    "horizon_columns = [col for col in range(1, 8) if col in rmse_day_pivot.columns]\n",
    "rmse_day_pivot[\"Total_rmse\"] = rmse_day_pivot[horizon_columns].mean(axis=1, skipna=True)\n",
    "\n",
    "# Zet de kolomvolgorde\n",
    "ordered_cols_day = [\"Actuals\"] + list(range(1, 8)) + [\"Total_rmse\"]\n",
    "ordered_cols_day = [col for col in ordered_cols_day if col in rmse_day_pivot.columns]\n",
    "rmse_day_pivot = rmse_day_pivot[ordered_cols_day]\n",
    "\n",
    "#%%\n",
    "# ====================\n",
    "# 5. Visualisatie\n",
    "# ====================\n",
    "\n",
    "# --- 5.1 Overzicht Metrics (Naive Model) ---\n",
    "metrics_table_data = [\n",
    "    [\"RMSE\", \"MAE\", \"MAPE (%)\", \"MASE\"],\n",
    "    [f\"{rmse:.4f}\", f\"{mae:.4f}\", f\"{mape:.2f}\", f\"{mase:.4f}\"]\n",
    "]\n",
    "\n",
    "metrics_fig = go.Figure(data=[go.Table(\n",
    "    header=dict(\n",
    "        values=[\"Metric\", \"Value\"],\n",
    "        fill_color='#B3E5FC',\n",
    "        align='center',\n",
    "        font=dict(size=14, color='black')\n",
    "    ),\n",
    "    cells=dict(\n",
    "        values=metrics_table_data,\n",
    "        fill_color='#F5F5F5',\n",
    "        align='center',\n",
    "        font=dict(size=12)\n",
    "    ))\n",
    "])\n",
    "\n",
    "metrics_fig.update_layout(\n",
    "    title=\"Naive Model: Overall Forecast Evaluation Metrics\",\n",
    "    width=500,\n",
    "    height=200,\n",
    "    margin=dict(l=20, r=20, t=60, b=20)\n",
    ")\n",
    "\n",
    "metrics_fig.show()\n",
    "\n",
    "# --- 5.2 Metrics per Horizon ---\n",
    "horizon_metrics_table = []\n",
    "horizon_metrics_table.append([\"Horizon\", \"RMSE\", \"MAE\", \"MAPE (%)\", \"MASE\"])\n",
    "\n",
    "for h in range(1, 8):\n",
    "    if h in horizon_metrics:\n",
    "        metrics = horizon_metrics[h]\n",
    "        horizon_metrics_table.append([\n",
    "            f\"Day {h}\",\n",
    "            f\"{metrics['RMSE']:.4f}\",\n",
    "            f\"{metrics['MAE']:.4f}\",\n",
    "            f\"{metrics['MAPE']:.2f}\",\n",
    "            f\"{metrics['MASE']:.4f}\"\n",
    "        ])\n",
    "\n",
    "horizon_metrics_fig = go.Figure(data=[go.Table(\n",
    "    header=dict(\n",
    "        values=horizon_metrics_table[0],\n",
    "        fill_color='#B3E5FC',\n",
    "        align='center',\n",
    "        font=dict(size=14, color='black')\n",
    "    ),\n",
    "    cells=dict(\n",
    "        values=list(zip(*horizon_metrics_table[1:])),  # Transpose the data for correct display\n",
    "        fill_color='#F5F5F5',\n",
    "        align='center',\n",
    "        font=dict(size=12)\n",
    "    ))\n",
    "])\n",
    "\n",
    "horizon_metrics_fig.update_layout(\n",
    "    title=\"Naive Model: Forecast Metrics by Horizon\",\n",
    "    width=800,\n",
    "    height=300,\n",
    "    margin=dict(l=20, r=20, t=60, b=20)\n",
    ")\n",
    "\n",
    "horizon_metrics_fig.show()\n",
    "\n",
    "# --- 5.3 Plotly Time Series Graph ---\n",
    "# Maak een subset van de data voor day-ahead forecasts (horizon=1)\n",
    "day_ahead_data = merged[merged[\"horizon\"] == 1].sort_values(\"target_hour\")\n",
    "\n",
    "# Teken lijndiagram van werkelijke vs. voorspelde prijzen (alleen day-ahead)\n",
    "timeseries_fig = go.Figure()\n",
    "\n",
    "# Trace voor de werkelijke prijzen\n",
    "timeseries_fig.add_trace(go.Scatter(\n",
    "    x=day_ahead_data[\"target_hour\"],\n",
    "    y=day_ahead_data[\"price_kwh\"],\n",
    "    mode=\"lines+markers\",\n",
    "    name=\"Werkelijke prijs (kWh)\",\n",
    "    line=dict(color=\"blue\")\n",
    "))\n",
    "\n",
    "# Trace voor de voorspelde prijzen (naive model)\n",
    "timeseries_fig.add_trace(go.Scatter(\n",
    "    x=day_ahead_data[\"target_hour\"],\n",
    "    y=day_ahead_data[\"y\"],\n",
    "    mode=\"lines+markers\",\n",
    "    name=\"Naive voorspelling (kWh)\",\n",
    "    line=dict(color=\"orange\", dash=\"dash\")\n",
    "))\n",
    "\n",
    "# Layout update\n",
    "timeseries_fig.update_layout(\n",
    "    title=\"⚡ Naive Model: Voorspelling vs Realiteit (1-Day-Ahead)\",\n",
    "    xaxis_title=\"Datum & Uur\",\n",
    "    yaxis_title=\"Prijs (EUR/kWh)\",\n",
    "    paper_bgcolor=\"white\",\n",
    "    plot_bgcolor=\"white\",\n",
    "    xaxis=dict(showgrid=True, gridcolor=\"lightgray\"),\n",
    "    yaxis=dict(showgrid=True, gridcolor=\"lightgray\"),\n",
    "    width=1200,\n",
    "    height=600\n",
    ")\n",
    "\n",
    "timeseries_fig.show()\n",
    "\n",
    "# --- 5.4 Plotly Tables voor Matrices ---\n",
    "# Functie om DataFrame voor te bereiden voor Plotly tabel-visualisatie\n",
    "def prepare_for_plotly_table(df, is_hourly=True):\n",
    "    plot_df = df.copy()\n",
    "    \n",
    "    # Hernoem kolommen volgens vereist format\n",
    "    column_mapping = {\n",
    "        \"Actuals\": \"actual_price_kwh\",\n",
    "        \"Total_rmse\": \"RMSE_total\"\n",
    "    }\n",
    "    \n",
    "    # Voeg horizon kolommen toe aan mapping\n",
    "    for i in range(1, 8):\n",
    "        if i in plot_df.columns:\n",
    "            column_mapping[i] = f\"RMSE_day{i}\"\n",
    "    \n",
    "    # Hernoem kolommen waar van toepassing\n",
    "    plot_df = plot_df.rename(columns=column_mapping)\n",
    "    \n",
    "    # Zorg voor de juiste kolomvolgorde\n",
    "    ordered_cols = [\"actual_price_kwh\"] + [f\"RMSE_day{i}\" for i in range(1, 8) if f\"RMSE_day{i}\" in plot_df.columns] + [\"RMSE_total\"]\n",
    "    ordered_cols = [col for col in ordered_cols if col in plot_df.columns]\n",
    "    plot_df = plot_df[ordered_cols]\n",
    "    \n",
    "    # Formateer de indextitel\n",
    "    if is_hourly:\n",
    "        index_values = [f\"{hour:02d}:00\" for hour in plot_df.index]\n",
    "    else:\n",
    "        index_values = [date.strftime(\"%d-%m-%Y\") for date in plot_df.index]\n",
    "    \n",
    "    # Formateer de waarden in het DataFrame\n",
    "    if \"actual_price_kwh\" in plot_df.columns:\n",
    "        plot_df[\"actual_price_kwh\"] = plot_df[\"actual_price_kwh\"].apply(lambda x: f\"€{x:.4f}\" if pd.notna(x) else \"\")\n",
    "    \n",
    "    # Formateer RMSE kolommen met 4 decimalen\n",
    "    for col in plot_df.columns:\n",
    "        if col.startswith(\"RMSE_\"):\n",
    "            plot_df[col] = plot_df[col].apply(lambda x: f\"{x:.4f}\" if pd.notna(x) else \"\")\n",
    "    \n",
    "    return plot_df, index_values\n",
    "\n",
    "# Bereid DataFrames voor op Plotly tabel visualisatie\n",
    "rmse_hour_plotly, hour_index_values = prepare_for_plotly_table(rmse_hour_pivot, is_hourly=True)\n",
    "rmse_day_plotly, day_index_values = prepare_for_plotly_table(rmse_day_pivot, is_hourly=False)\n",
    "\n",
    "# Definieer kleuren\n",
    "header_color = '#B3E5FC'  # Lichtblauw\n",
    "cell_color = '#F5F5F5'    # Lichtgrijs\n",
    "\n",
    "# Creëer plotly table voor Hourly Matrix\n",
    "hourly_table = go.Figure(data=[go.Table(\n",
    "    header=dict(\n",
    "        values=['Hour'] + list(rmse_hour_plotly.columns),\n",
    "        fill_color=header_color,\n",
    "        align='center',\n",
    "        font=dict(size=12, color='black')\n",
    "    ),\n",
    "    cells=dict(\n",
    "        values=[hour_index_values] + [rmse_hour_plotly[col] for col in rmse_hour_plotly.columns],\n",
    "        fill_color=cell_color,\n",
    "        align=['center'] + ['right'] * len(rmse_hour_plotly.columns),\n",
    "        font=dict(size=11)\n",
    "    )\n",
    ")])\n",
    "\n",
    "# Pas layout aan voor Hourly Table\n",
    "hourly_table.update_layout(\n",
    "    title=\"Naive Model: Hourly Electricity Price Forecast Evaluation\",\n",
    "    width=1000,\n",
    "    height=600,\n",
    "    margin=dict(l=20, r=20, t=60, b=20)\n",
    ")\n",
    "\n",
    "# Toon Hourly Table\n",
    "hourly_table.show()\n",
    "\n",
    "# Creëer plotly table voor Daily Matrix\n",
    "daily_table = go.Figure(data=[go.Table(\n",
    "    header=dict(\n",
    "        values=['Date'] + list(rmse_day_plotly.columns),\n",
    "        fill_color=header_color,\n",
    "        align='center',\n",
    "        font=dict(size=12, color='black')\n",
    "    ),\n",
    "    cells=dict(\n",
    "        values=[day_index_values] + [rmse_day_plotly[col] for col in rmse_day_plotly.columns],\n",
    "        fill_color=cell_color,\n",
    "        align=['center'] + ['right'] * len(rmse_day_plotly.columns),\n",
    "        font=dict(size=11)\n",
    "    )\n",
    ")])\n",
    "\n",
    "# Pas layout aan voor Daily Table\n",
    "daily_table.update_layout(\n",
    "    title=\"Naive Model: Daily Electricity Price Forecast Evaluation\",\n",
    "    width=1000,\n",
    "    height=800,\n",
    "    margin=dict(l=20, r=20, t=60, b=20)\n",
    ")\n",
    "\n",
    "# Toon Daily Table\n",
    "daily_table.show()"
   ]
  }
 ],
 "metadata": {
  "kernelspec": {
   "display_name": "3.10.13",
   "language": "python",
   "name": "python3"
  },
  "language_info": {
   "codemirror_mode": {
    "name": "ipython",
    "version": 3
   },
   "file_extension": ".py",
   "mimetype": "text/x-python",
   "name": "python",
   "nbconvert_exporter": "python",
   "pygments_lexer": "ipython3",
   "version": "3.10.13"
  }
 },
 "nbformat": 4,
 "nbformat_minor": 2
}
