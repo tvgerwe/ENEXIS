{
 "cells": [
  {
   "cell_type": "markdown",
   "metadata": {},
   "source": [
    "code to predict pv generation"
   ]
  },
  {
   "cell_type": "code",
   "execution_count": 118,
   "metadata": {},
   "outputs": [],
   "source": [
    "import numpy as np\n",
    "import pandas as pd\n",
    "from scipy.stats import norm, gamma\n",
    "import matplotlib.pyplot as plt\n",
    "import scipy.stats as stats\n",
    "from matplotlib.ticker import MaxNLocator # To ensure demand axis are integer.\n",
    "\n",
    "\n",
    "from sklearn.model_selection import train_test_split\n",
    "from sklearn.linear_model import LinearRegression\n",
    "from sklearn.linear_model import Lasso\n",
    "from sklearn.tree import DecisionTreeRegressor\n",
    "from sklearn.ensemble import RandomForestRegressor\n",
    "from sklearn.metrics import mean_absolute_error\n",
    "\n",
    "\n",
    "# Third party packages.\n",
    "import os                       # Execute tasks related to your operating system.\n",
    "\n",
    "import polars as pl             # Data handling ('Blazingly fast DataFrames') and is a drop-in replacement for pandas.\n",
    "import pickle                   # Save and load data to and from pickle files.\n",
    "import time\n",
    "import json\n",
    "import os\n",
    "\n",
    "from icecream import ic         # Print variables.\n"
   ]
  },
  {
   "cell_type": "markdown",
   "metadata": {},
   "source": [
    "Data Understanding\n",
    "\n",
    "Load data set. Split with 80% and 20% split"
   ]
  },
  {
   "cell_type": "code",
   "execution_count": 119,
   "metadata": {},
   "outputs": [
    {
     "name": "stdout",
     "output_type": "stream",
     "text": [
      "DOWNLOAD_DIR : ../data/powergen/\n"
     ]
    },
    {
     "data": {
      "text/html": [
       "<div>\n",
       "<style scoped>\n",
       "    .dataframe tbody tr th:only-of-type {\n",
       "        vertical-align: middle;\n",
       "    }\n",
       "\n",
       "    .dataframe tbody tr th {\n",
       "        vertical-align: top;\n",
       "    }\n",
       "\n",
       "    .dataframe thead th {\n",
       "        text-align: right;\n",
       "    }\n",
       "</style>\n",
       "<table border=\"1\" class=\"dataframe\">\n",
       "  <thead>\n",
       "    <tr style=\"text-align: right;\">\n",
       "      <th></th>\n",
       "      <th>@id</th>\n",
       "      <th>@type</th>\n",
       "      <th>id</th>\n",
       "      <th>point</th>\n",
       "      <th>type</th>\n",
       "      <th>granularity</th>\n",
       "      <th>granularitytimezone</th>\n",
       "      <th>activity</th>\n",
       "      <th>classification</th>\n",
       "      <th>capacity</th>\n",
       "      <th>volume</th>\n",
       "      <th>percentage</th>\n",
       "      <th>emission</th>\n",
       "      <th>emissionfactor</th>\n",
       "      <th>validfrom</th>\n",
       "      <th>validto</th>\n",
       "      <th>lastupdate</th>\n",
       "    </tr>\n",
       "  </thead>\n",
       "  <tbody>\n",
       "    <tr>\n",
       "      <th>0</th>\n",
       "      <td>/v1/utilizations/23791261744</td>\n",
       "      <td>Utilization</td>\n",
       "      <td>23791261744</td>\n",
       "      <td>/v1/points/0</td>\n",
       "      <td>/v1/types/0</td>\n",
       "      <td>/v1/granularities/4</td>\n",
       "      <td>/v1/granularity_time_zones/0</td>\n",
       "      <td>/v1/activities/1</td>\n",
       "      <td>/v1/classifications/2</td>\n",
       "      <td>8134680</td>\n",
       "      <td>2033670</td>\n",
       "      <td>0</td>\n",
       "      <td>0</td>\n",
       "      <td>0</td>\n",
       "      <td>2021-12-31T23:00:00+00:00</td>\n",
       "      <td>2021-12-31T23:15:00+00:00</td>\n",
       "      <td>2024-11-10T19:01:35+00:00</td>\n",
       "    </tr>\n",
       "    <tr>\n",
       "      <th>1</th>\n",
       "      <td>/v1/utilizations/23791591475</td>\n",
       "      <td>Utilization</td>\n",
       "      <td>23791591475</td>\n",
       "      <td>/v1/points/0</td>\n",
       "      <td>/v1/types/0</td>\n",
       "      <td>/v1/granularities/4</td>\n",
       "      <td>/v1/granularity_time_zones/0</td>\n",
       "      <td>/v1/activities/1</td>\n",
       "      <td>/v1/classifications/2</td>\n",
       "      <td>8039900</td>\n",
       "      <td>2009975</td>\n",
       "      <td>0</td>\n",
       "      <td>0</td>\n",
       "      <td>0</td>\n",
       "      <td>2021-12-31T23:15:00+00:00</td>\n",
       "      <td>2021-12-31T23:30:00+00:00</td>\n",
       "      <td>2024-11-10T19:01:35+00:00</td>\n",
       "    </tr>\n",
       "    <tr>\n",
       "      <th>2</th>\n",
       "      <td>/v1/utilizations/23792244041</td>\n",
       "      <td>Utilization</td>\n",
       "      <td>23792244041</td>\n",
       "      <td>/v1/points/0</td>\n",
       "      <td>/v1/types/0</td>\n",
       "      <td>/v1/granularities/4</td>\n",
       "      <td>/v1/granularity_time_zones/0</td>\n",
       "      <td>/v1/activities/1</td>\n",
       "      <td>/v1/classifications/2</td>\n",
       "      <td>8128668</td>\n",
       "      <td>2032167</td>\n",
       "      <td>0</td>\n",
       "      <td>0</td>\n",
       "      <td>0</td>\n",
       "      <td>2021-12-31T23:30:00+00:00</td>\n",
       "      <td>2021-12-31T23:45:00+00:00</td>\n",
       "      <td>2024-11-10T19:01:35+00:00</td>\n",
       "    </tr>\n",
       "  </tbody>\n",
       "</table>\n",
       "</div>"
      ],
      "text/plain": [
       "                            @id        @type           id         point  \\\n",
       "0  /v1/utilizations/23791261744  Utilization  23791261744  /v1/points/0   \n",
       "1  /v1/utilizations/23791591475  Utilization  23791591475  /v1/points/0   \n",
       "2  /v1/utilizations/23792244041  Utilization  23792244041  /v1/points/0   \n",
       "\n",
       "          type          granularity           granularitytimezone  \\\n",
       "0  /v1/types/0  /v1/granularities/4  /v1/granularity_time_zones/0   \n",
       "1  /v1/types/0  /v1/granularities/4  /v1/granularity_time_zones/0   \n",
       "2  /v1/types/0  /v1/granularities/4  /v1/granularity_time_zones/0   \n",
       "\n",
       "           activity         classification  capacity   volume  percentage  \\\n",
       "0  /v1/activities/1  /v1/classifications/2   8134680  2033670           0   \n",
       "1  /v1/activities/1  /v1/classifications/2   8039900  2009975           0   \n",
       "2  /v1/activities/1  /v1/classifications/2   8128668  2032167           0   \n",
       "\n",
       "   emission  emissionfactor                  validfrom  \\\n",
       "0         0               0  2021-12-31T23:00:00+00:00   \n",
       "1         0               0  2021-12-31T23:15:00+00:00   \n",
       "2         0               0  2021-12-31T23:30:00+00:00   \n",
       "\n",
       "                     validto                 lastupdate  \n",
       "0  2021-12-31T23:15:00+00:00  2024-11-10T19:01:35+00:00  \n",
       "1  2021-12-31T23:30:00+00:00  2024-11-10T19:01:35+00:00  \n",
       "2  2021-12-31T23:45:00+00:00  2024-11-10T19:01:35+00:00  "
      ]
     },
     "execution_count": 119,
     "metadata": {},
     "output_type": "execute_result"
    }
   ],
   "source": [
    "# Load API Key and download directory from config file\n",
    "CONFIG_FILE = \"../config/api-call.json\"\n",
    "\n",
    "def load_config(config_path):\n",
    "    \"\"\"Load configuration from a JSON file.\"\"\"\n",
    "    with open(config_path, \"r\") as file:\n",
    "        return json.load(file)\n",
    "\n",
    "# Load config values\n",
    "config = load_config(CONFIG_FILE)\n",
    "\n",
    "# print(config)\n",
    "DOWNLOAD_DIR = config[\"ned\"][\"ned_download_dir\"]\n",
    "print(\"DOWNLOAD_DIR :\", DOWNLOAD_DIR)\n",
    "pkl_file_path = f'{DOWNLOAD_DIR}/power-gen-type-0.pkl'\n",
    "\n",
    "# with open('../data/dc-ned-json-data-1.pkl', 'rb') as pickle_file:\n",
    "with open(pkl_file_path, 'rb') as pickle_file:\n",
    "    dc_ned_json_data_1 = pickle.load(pickle_file)\n",
    "\n",
    "# df_ned_json_data = dc_ned_json_data_1['df_orig']\n",
    "df_ned_json_data = pd.DataFrame(dc_ned_json_data_1)  # Convert dictionary to DataFrame\n",
    "\n",
    "\n",
    "# df_ned_json_data = dc_ned_json_data_1['df_orig']\n",
    "df_ned_json_data = pd.DataFrame(dc_ned_json_data_1)  # Convert dictionary to DataFrame\n",
    "\n",
    "df_pd_orig = df_ned_json_data\n",
    "# Show a sample of first 3 rows.\n",
    "df_pd_orig.head(3)\n"
   ]
  },
  {
   "cell_type": "markdown",
   "metadata": {},
   "source": [
    "Descriptive Statistics"
   ]
  },
  {
   "cell_type": "code",
   "execution_count": 120,
   "metadata": {},
   "outputs": [
    {
     "name": "stdout",
     "output_type": "stream",
     "text": [
      "We have 6 numerical variables:\n",
      "Index(['id', 'capacity', 'volume', 'percentage', 'emission', 'emissionfactor'], dtype='object')\n",
      "Number of rows: 34944 and column names are: Index(['@id', '@type', 'point', 'type', 'granularity', 'granularitytimezone',\n",
      "       'activity', 'classification', 'validfrom', 'validto', 'lastupdate'],\n",
      "      dtype='object') and column types are: @id                    object\n",
      "@type                  object\n",
      "point                  object\n",
      "type                   object\n",
      "granularity            object\n",
      "granularitytimezone    object\n",
      "activity               object\n",
      "classification         object\n",
      "validfrom              object\n",
      "validto                object\n",
      "lastupdate             object\n",
      "dtype: object\n"
     ]
    }
   ],
   "source": [
    "# Using Pandas.\n",
    "df_pd_num = df_pd_orig.select_dtypes(include='number')\n",
    "\n",
    "# Column names (Pandas: df_pd_orig_num.columns.tolist()).\n",
    "l_df_num_names = df_pd_num.columns\n",
    "print(f\"We have {len(l_df_num_names)} numerical variables:\\n{l_df_num_names}\")\n",
    "\n",
    "# Convert to datetime format\n",
    "df_pd_orig_str    = df_pd_orig.select_dtypes(include='object')\n",
    "print(\"Number of rows:\", df_pd_orig_str.shape[0], \"and column names are:\", df_pd_orig_str.columns, \"and column types are:\", df_pd_orig_str.dtypes)"
   ]
  },
  {
   "cell_type": "markdown",
   "metadata": {},
   "source": [
    "To check if the output column has unique values"
   ]
  },
  {
   "cell_type": "code",
   "execution_count": 121,
   "metadata": {},
   "outputs": [
    {
     "name": "stdout",
     "output_type": "stream",
     "text": [
      "['capacity']:        capacity\n",
      "0       8134680\n",
      "1       8039900\n",
      "2       8128668\n",
      "3       8090804\n",
      "4       8101220\n",
      "...         ...\n",
      "34939  12094504\n",
      "34940  12053024\n",
      "34941  12010416\n",
      "34942  11933236\n",
      "34943  11862020\n",
      "\n",
      "[34944 rows x 1 columns]\n",
      "capacity: [ 8134680  8039900  8128668 ... 12010416 11933236 11862020]\n"
     ]
    }
   ],
   "source": [
    "l_col = ['capacity']\n",
    "\n",
    "for s_col in l_col:\n",
    "    print(f\"{l_col}: {df_pd_orig[l_col]}\")\n",
    "    print(f\"{s_col}: {df_pd_orig[s_col].unique()}\")"
   ]
  },
  {
   "cell_type": "markdown",
   "metadata": {},
   "source": [
    "Contruct a descriptive summary"
   ]
  },
  {
   "cell_type": "code",
   "execution_count": 106,
   "metadata": {},
   "outputs": [
    {
     "data": {
      "text/html": [
       "<div>\n",
       "<style scoped>\n",
       "    .dataframe tbody tr th:only-of-type {\n",
       "        vertical-align: middle;\n",
       "    }\n",
       "\n",
       "    .dataframe tbody tr th {\n",
       "        vertical-align: top;\n",
       "    }\n",
       "\n",
       "    .dataframe thead th {\n",
       "        text-align: right;\n",
       "    }\n",
       "</style>\n",
       "<table border=\"1\" class=\"dataframe\">\n",
       "  <thead>\n",
       "    <tr style=\"text-align: right;\">\n",
       "      <th></th>\n",
       "      <th>id</th>\n",
       "      <th>capacity</th>\n",
       "      <th>volume</th>\n",
       "      <th>percentage</th>\n",
       "      <th>emission</th>\n",
       "      <th>emissionfactor</th>\n",
       "    </tr>\n",
       "  </thead>\n",
       "  <tbody>\n",
       "    <tr>\n",
       "      <th>count</th>\n",
       "      <td>3.494400e+04</td>\n",
       "      <td>3.494400e+04</td>\n",
       "      <td>3.494400e+04</td>\n",
       "      <td>34944.0</td>\n",
       "      <td>34944.0</td>\n",
       "      <td>34944.0</td>\n",
       "    </tr>\n",
       "    <tr>\n",
       "      <th>mean</th>\n",
       "      <td>3.763316e+10</td>\n",
       "      <td>9.217292e+06</td>\n",
       "      <td>2.304323e+06</td>\n",
       "      <td>0.0</td>\n",
       "      <td>0.0</td>\n",
       "      <td>0.0</td>\n",
       "    </tr>\n",
       "    <tr>\n",
       "      <th>std</th>\n",
       "      <td>7.989161e+09</td>\n",
       "      <td>3.884491e+06</td>\n",
       "      <td>9.711227e+05</td>\n",
       "      <td>0.0</td>\n",
       "      <td>0.0</td>\n",
       "      <td>0.0</td>\n",
       "    </tr>\n",
       "    <tr>\n",
       "      <th>min</th>\n",
       "      <td>2.379126e+10</td>\n",
       "      <td>3.050108e+06</td>\n",
       "      <td>7.625270e+05</td>\n",
       "      <td>0.0</td>\n",
       "      <td>0.0</td>\n",
       "      <td>0.0</td>\n",
       "    </tr>\n",
       "    <tr>\n",
       "      <th>25%</th>\n",
       "      <td>3.072638e+10</td>\n",
       "      <td>5.972254e+06</td>\n",
       "      <td>1.493064e+06</td>\n",
       "      <td>0.0</td>\n",
       "      <td>0.0</td>\n",
       "      <td>0.0</td>\n",
       "    </tr>\n",
       "    <tr>\n",
       "      <th>50%</th>\n",
       "      <td>3.764883e+10</td>\n",
       "      <td>8.605130e+06</td>\n",
       "      <td>2.151282e+06</td>\n",
       "      <td>0.0</td>\n",
       "      <td>0.0</td>\n",
       "      <td>0.0</td>\n",
       "    </tr>\n",
       "    <tr>\n",
       "      <th>75%</th>\n",
       "      <td>4.457940e+10</td>\n",
       "      <td>1.195338e+07</td>\n",
       "      <td>2.988344e+06</td>\n",
       "      <td>0.0</td>\n",
       "      <td>0.0</td>\n",
       "      <td>0.0</td>\n",
       "    </tr>\n",
       "    <tr>\n",
       "      <th>max</th>\n",
       "      <td>5.152906e+10</td>\n",
       "      <td>2.204448e+07</td>\n",
       "      <td>5.511119e+06</td>\n",
       "      <td>0.0</td>\n",
       "      <td>0.0</td>\n",
       "      <td>0.0</td>\n",
       "    </tr>\n",
       "  </tbody>\n",
       "</table>\n",
       "</div>"
      ],
      "text/plain": [
       "                 id      capacity        volume  percentage  emission  \\\n",
       "count  3.494400e+04  3.494400e+04  3.494400e+04     34944.0   34944.0   \n",
       "mean   3.763316e+10  9.217292e+06  2.304323e+06         0.0       0.0   \n",
       "std    7.989161e+09  3.884491e+06  9.711227e+05         0.0       0.0   \n",
       "min    2.379126e+10  3.050108e+06  7.625270e+05         0.0       0.0   \n",
       "25%    3.072638e+10  5.972254e+06  1.493064e+06         0.0       0.0   \n",
       "50%    3.764883e+10  8.605130e+06  2.151282e+06         0.0       0.0   \n",
       "75%    4.457940e+10  1.195338e+07  2.988344e+06         0.0       0.0   \n",
       "max    5.152906e+10  2.204448e+07  5.511119e+06         0.0       0.0   \n",
       "\n",
       "       emissionfactor  \n",
       "count         34944.0  \n",
       "mean              0.0  \n",
       "std               0.0  \n",
       "min               0.0  \n",
       "25%               0.0  \n",
       "50%               0.0  \n",
       "75%               0.0  \n",
       "max               0.0  "
      ]
     },
     "execution_count": 106,
     "metadata": {},
     "output_type": "execute_result"
    }
   ],
   "source": [
    "df_pd_orig.describe()"
   ]
  },
  {
   "cell_type": "markdown",
   "metadata": {},
   "source": [
    "Prepare daya for prediction"
   ]
  },
  {
   "cell_type": "code",
   "execution_count": 122,
   "metadata": {},
   "outputs": [],
   "source": [
    "# Convert timestamp to datetime format\n",
    "df_pd_orig[\"validto\"] = pd.to_datetime(df_pd_orig[\"validto\"])\n",
    "\n",
    "# Extract Features from Timestamp\n",
    "df_pd_orig[\"year\"] = df_pd_orig[\"validto\"].dt.year\n",
    "df_pd_orig[\"month\"] = df_pd_orig[\"validto\"].dt.month\n",
    "df_pd_orig[\"day\"] = df_pd_orig[\"validto\"].dt.day\n",
    "df_pd_orig[\"hour\"] = df_pd_orig[\"validto\"].dt.hour\n",
    "df_pd_orig[\"minute\"] = df_pd_orig[\"validto\"].dt.minute\n",
    "\n",
    "# Select Features (X) and Target Variable (y)\n",
    "X = df_pd_orig[[\"year\", \"month\", \"day\", \"hour\", \"minute\"]]  # Features\n",
    "y = df_pd_orig[\"capacity\"]  # Target (Numerical column to predict)\n",
    "\n",
    "# Split Data into Training & Testing Sets\n",
    "X_train, X_test, y_train, y_test = train_test_split(X, y, test_size=0.2, random_state=42)\n"
   ]
  },
  {
   "cell_type": "markdown",
   "metadata": {},
   "source": [
    "Predict"
   ]
  },
  {
   "cell_type": "code",
   "execution_count": 98,
   "metadata": {},
   "outputs": [
    {
     "data": {
      "text/plain": [
       "'\\nmodel = LinearRegression()\\nmodel.fit(X_train, y_train)\\n\\n#  Step 5: Make Predictions\\ny_pred = model.predict(X_test)\\ny_int_pred = np.round(y_pred).astype(int)  # Rounds and converts to int\\n\\n# Step 6: Evaluate the Model\\nmae = mean_absolute_error(y_test, y_int_pred)\\nprint(f\"Mean Absolute Error: {mae}\")\\n\\n# Step 7: Convert Predictions Back to Polars (Optional)\\ndf_pred = pl.DataFrame({\"X Values\": X_test.values, \"Actual\": y_test.values, \"Predicted\": y_int_pred, \"Diff\": y_test.values - y_int_pred})\\nprint(df_pred)\\n'"
      ]
     },
     "execution_count": 98,
     "metadata": {},
     "output_type": "execute_result"
    }
   ],
   "source": [
    "# Step 4: Train a Model (Linear Regression)\n",
    "\n",
    "\n",
    "# If you need numeric values (e.g., Unix timestamp or ordinal)\n",
    "# df_cleaned_datetime_PVW[\"timestamp\"] = df_cleaned_datetime_PVW[\"datetime_parsed\"].astype(\"int64\") // 10**9  # Unix timestamp (seconds since 1970)\n",
    "# selected_columns_df = df_pd_orig[[\"validto\", \"capacity\"]]\n",
    "# 02-02-2025 23:30\n",
    "\n",
    "# X = selected_columns_df[[\"validto\"]]  # Features\n",
    "# y = selected_columns_df[\"capacity\"]  # Target variable\n",
    "\n",
    "'''\n",
    "model = LinearRegression()\n",
    "model.fit(X_train, y_train)\n",
    "\n",
    "#  Step 5: Make Predictions\n",
    "y_pred = model.predict(X_test)\n",
    "y_int_pred = np.round(y_pred).astype(int)  # Rounds and converts to int\n",
    "\n",
    "# Step 6: Evaluate the Model\n",
    "mae = mean_absolute_error(y_test, y_int_pred)\n",
    "print(f\"Mean Absolute Error: {mae}\")\n",
    "\n",
    "# Step 7: Convert Predictions Back to Polars (Optional)\n",
    "df_pred = pl.DataFrame({\"X Values\": X_test.values, \"Actual\": y_test.values, \"Predicted\": y_int_pred, \"Diff\": y_test.values - y_int_pred})\n",
    "print(df_pred)\n",
    "'''"
   ]
  },
  {
   "cell_type": "markdown",
   "metadata": {},
   "source": [
    "Predict using LASSO model"
   ]
  },
  {
   "cell_type": "code",
   "execution_count": null,
   "metadata": {},
   "outputs": [
    {
     "name": "stdout",
     "output_type": "stream",
     "text": [
      "Mean Absolute Error: 3196397.141285067\n",
      "shape: (3_495, 4)\n",
      "┌──────────────────┬──────────┬───────────┬──────────┐\n",
      "│ X Values         ┆ Actual   ┆ Predicted ┆ Diff     │\n",
      "│ ---              ┆ ---      ┆ ---       ┆ ---      │\n",
      "│ array[i32, 5]    ┆ i64      ┆ i64       ┆ i64      │\n",
      "╞══════════════════╪══════════╪═══════════╪══════════╡\n",
      "│ [2022, 5, … 45]  ┆ 8797044  ┆ 9169220   ┆ -372176  │\n",
      "│ [2022, 2, … 15]  ┆ 13988612 ┆ 9558460   ┆ 4430152  │\n",
      "│ [2022, 10, … 45] ┆ 8249260  ┆ 8844472   ┆ -595212  │\n",
      "│ [2022, 11, … 0]  ┆ 5833568  ┆ 8362108   ┆ -2528540 │\n",
      "│ [2022, 10, … 15] ┆ 10010420 ┆ 8821585   ┆ 1188835  │\n",
      "│ …                ┆ …        ┆ …         ┆ …        │\n",
      "│ [2022, 3, … 30]  ┆ 5767792  ┆ 9501241   ┆ -3733449 │\n",
      "│ [2022, 11, … 45] ┆ 10350588 ┆ 9219634   ┆ 1130954  │\n",
      "│ [2022, 2, … 30]  ┆ 11813332 ┆ 9718684   ┆ 2094648  │\n",
      "│ [2022, 10, … 30] ┆ 7231656  ┆ 9029708   ┆ -1798052 │\n",
      "│ [2022, 7, … 30]  ┆ 15931476 ┆ 8769532   ┆ 7161944  │\n",
      "└──────────────────┴──────────┴───────────┴──────────┘\n"
     ]
    }
   ],
   "source": [
    "'''\n",
    "# Train Lasso Regression Model\n",
    "lasso = Lasso(alpha=0.1)  # Adjust alpha for regularization strength\n",
    "lasso.fit(X_train, y_train)\n",
    "# Make Predictions\n",
    "y_pred = lasso.predict(X_test)\n",
    "y_int_pred = np.round(y_pred).astype(int)  # Rounds and converts to int\n",
    "\n",
    "# Evaluate Model\n",
    "mae = mean_absolute_error(y_test, y_pred)\n",
    "print(f\"Mean Absolute Error: {mae}\")\n",
    "\n",
    "# Step 7: Convert Predictions Back to Polars (Optional)\n",
    "df_pred = pl.DataFrame({\"X Values\": X_test.values, \"Actual\": y_test.values, \"Predicted\": y_int_pred, \"Diff\": y_test.values - y_int_pred})\n",
    "print(df_pred)\n",
    "'''"
   ]
  },
  {
   "cell_type": "markdown",
   "metadata": {},
   "source": [
    "Predict using decision tree regression"
   ]
  },
  {
   "cell_type": "code",
   "execution_count": null,
   "metadata": {},
   "outputs": [
    {
     "name": "stdout",
     "output_type": "stream",
     "text": [
      "Mean Absolute Error: 2018878.8761534896\n",
      "shape: (3_495, 4)\n",
      "┌──────────────────┬──────────┬───────────┬──────────┐\n",
      "│ X Values         ┆ Actual   ┆ Predicted ┆ Diff     │\n",
      "│ ---              ┆ ---      ┆ ---       ┆ ---      │\n",
      "│ array[i32, 5]    ┆ i64      ┆ i64       ┆ i64      │\n",
      "╞══════════════════╪══════════╪═══════════╪══════════╡\n",
      "│ [2022, 5, … 45]  ┆ 8797044  ┆ 5937647   ┆ 2859397  │\n",
      "│ [2022, 2, … 15]  ┆ 13988612 ┆ 13295208  ┆ 693404   │\n",
      "│ [2022, 10, … 45] ┆ 8249260  ┆ 6811663   ┆ 1437597  │\n",
      "│ [2022, 11, … 0]  ┆ 5833568  ┆ 8726592   ┆ -2893024 │\n",
      "│ [2022, 10, … 15] ┆ 10010420 ┆ 5937647   ┆ 4072773  │\n",
      "│ …                ┆ …        ┆ …         ┆ …        │\n",
      "│ [2022, 3, … 30]  ┆ 5767792  ┆ 5937647   ┆ -169855  │\n",
      "│ [2022, 11, … 45] ┆ 10350588 ┆ 6811663   ┆ 3538925  │\n",
      "│ [2022, 2, … 30]  ┆ 11813332 ┆ 9895086   ┆ 1918246  │\n",
      "│ [2022, 10, … 30] ┆ 7231656  ┆ 5937647   ┆ 1294009  │\n",
      "│ [2022, 7, … 30]  ┆ 15931476 ┆ 13295208  ┆ 2636268  │\n",
      "└──────────────────┴──────────┴───────────┴──────────┘\n"
     ]
    }
   ],
   "source": [
    "'''\n",
    "# Train Decision Tree Regressor Model\n",
    "dt_regressor = DecisionTreeRegressor(max_depth=3, random_state=42)\n",
    "dt_regressor.fit(X_train, y_train)\n",
    "\n",
    "# Make Predictions\n",
    "y_pred = dt_regressor.predict(X_test)\n",
    "y_int_pred = np.round(y_pred).astype(int)  # Rounds and converts to int\n",
    "\n",
    "# Evaluate Model\n",
    "mae = mean_absolute_error(y_test, y_pred)\n",
    "print(f\"Mean Absolute Error: {mae}\")\n",
    "\n",
    "# Step 7: Convert Predictions Back to Polars (Optional)\n",
    "df_pred = pl.DataFrame({\"X Values\": X_test.values, \"Actual\": y_test.values, \"Predicted\": y_int_pred, \"Diff\": y_test.values - y_int_pred})\n",
    "print(df_pred)\n",
    "'''\n"
   ]
  },
  {
   "cell_type": "markdown",
   "metadata": {},
   "source": [
    "Predit using Random Forest regressor"
   ]
  },
  {
   "cell_type": "code",
   "execution_count": 123,
   "metadata": {},
   "outputs": [
    {
     "name": "stdout",
     "output_type": "stream",
     "text": [
      "Mean Absolute Error: 400517.4624581485\n",
      "shape: (6_989, 4)\n",
      "┌──────────────────┬──────────┬───────────┬──────────┐\n",
      "│ X Values         ┆ Actual   ┆ Predicted ┆ Diff     │\n",
      "│ ---              ┆ ---      ┆ ---       ┆ ---      │\n",
      "│ array[i32, 5]    ┆ i64      ┆ i64       ┆ i64      │\n",
      "╞══════════════════╪══════════╪═══════════╪══════════╡\n",
      "│ [2022, 5, … 45]  ┆ 8797044  ┆ 8742334   ┆ 54710    │\n",
      "│ [2022, 2, … 15]  ┆ 13988612 ┆ 13690655  ┆ 297957   │\n",
      "│ [2022, 10, … 45] ┆ 8249260  ┆ 8440801   ┆ -191541  │\n",
      "│ [2022, 11, … 0]  ┆ 5833568  ┆ 5954081   ┆ -120513  │\n",
      "│ [2022, 10, … 15] ┆ 10010420 ┆ 8681210   ┆ 1329210  │\n",
      "│ …                ┆ …        ┆ …         ┆ …        │\n",
      "│ [2022, 6, … 30]  ┆ 5938156  ┆ 5813986   ┆ 124170   │\n",
      "│ [2022, 7, … 0]   ┆ 9519532  ┆ 11431624  ┆ -1912092 │\n",
      "│ [2022, 6, … 45]  ┆ 6941876  ┆ 7638339   ┆ -696463  │\n",
      "│ [2022, 6, … 45]  ┆ 8764152  ┆ 10531117  ┆ -1766965 │\n",
      "│ [2022, 2, … 45]  ┆ 9761800  ┆ 9873844   ┆ -112044  │\n",
      "└──────────────────┴──────────┴───────────┴──────────┘\n"
     ]
    }
   ],
   "source": [
    "# Train Random Forest Regressor Model\n",
    "rf_regressor = RandomForestRegressor(n_estimators=100, random_state=42)  # 100 trees in the forest\n",
    "rf_regressor.fit(X_train, y_train)\n",
    "\n",
    "# Make Predictions\n",
    "y_pred = rf_regressor.predict(X_test)\n",
    "y_int_pred = np.round(y_pred).astype(int)  # Rounds and converts to int\n",
    "\n",
    "# Evaluate Model\n",
    "mae = mean_absolute_error(y_test, y_pred)\n",
    "print(f\"Mean Absolute Error: {mae}\")\n",
    "\n",
    "# Print Predictions\n",
    "df_pred = pl.DataFrame({\"X Values\": X_test.values, \"Actual\": y_test.values, \"Predicted\": y_int_pred, \"Diff\": y_test.values - y_int_pred})\n",
    "print(df_pred)"
   ]
  }
 ],
 "metadata": {
  "kernelspec": {
   "display_name": "enexis-data-visualization",
   "language": "python",
   "name": "python3"
  },
  "language_info": {
   "codemirror_mode": {
    "name": "ipython",
    "version": 3
   },
   "file_extension": ".py",
   "mimetype": "text/x-python",
   "name": "python",
   "nbconvert_exporter": "python",
   "pygments_lexer": "ipython3",
   "version": "3.12.7"
  }
 },
 "nbformat": 4,
 "nbformat_minor": 2
}
