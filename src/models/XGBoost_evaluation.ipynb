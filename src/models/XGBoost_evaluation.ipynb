{
 "cells": [
  {
   "cell_type": "code",
   "execution_count": 13,
   "id": "a5ed57bf",
   "metadata": {},
   "outputs": [],
   "source": [
    "import pandas as pd\n",
    "import numpy as np\n",
    "import matplotlib.pyplot as plt\n",
    "import seaborn as sns\n",
    "import datetime\n",
    "color_pal = sns.color_palette()\n",
    "import xgboost as xgb\n",
    "from sklearn.model_selection import train_test_split\n",
    "from sklearn.metrics import mean_squared_error\n"
   ]
  },
  {
   "cell_type": "code",
   "execution_count": 15,
   "id": "3b50d883",
   "metadata": {},
   "outputs": [
    {
     "name": "stdout",
     "output_type": "stream",
     "text": [
      "Index(['Price', 'target_datetime', 'Load', 'shortwave_radiation',\n",
      "       'temperature_2m', 'direct_normal_irradiance', 'diffuse_radiation',\n",
      "       'Flow_NO', 'yearday_cos', 'Flow_GB', 'month', 'is_dst', 'yearday_sin',\n",
      "       'is_non_working_day', 'hour_cos', 'is_weekend', 'cloud_cover',\n",
      "       'weekday_sin', 'hour_sin', 'weekday_cos'],\n",
      "      dtype='object')\n"
     ]
    }
   ],
   "source": [
    "import sqlite3\n",
    "\n",
    "conn = sqlite3.connect('../data/WARP.db')\n",
    "df = pd.read_sql_query(\"SELECT * FROM master_warp\", conn)\n",
    "conn.close()\n",
    "print(df.columns)"
   ]
  },
  {
   "cell_type": "code",
   "execution_count": 19,
   "id": "aad43210",
   "metadata": {},
   "outputs": [
    {
     "name": "stdout",
     "output_type": "stream",
     "text": [
      "'target_datetime' column not found in columns. Sorting by index instead.\n",
      "Forecast origin: 2025-03-13 12:00:00+00:00, Predicting 2025-03-15 00:00:00+00:00 to 2025-03-21 00:00:00+00:00, RMSE: 0.021\n",
      "Forecast origin: 2025-03-14 12:00:00+00:00, Predicting 2025-03-16 00:00:00+00:00 to 2025-03-22 00:00:00+00:00, RMSE: 0.026\n",
      "Forecast origin: 2025-03-15 12:00:00+00:00, Predicting 2025-03-17 00:00:00+00:00 to 2025-03-23 00:00:00+00:00, RMSE: 0.031\n",
      "Forecast origin: 2025-03-16 12:00:00+00:00, Predicting 2025-03-18 00:00:00+00:00 to 2025-03-24 00:00:00+00:00, RMSE: 0.031\n",
      "Forecast origin: 2025-03-17 12:00:00+00:00, Predicting 2025-03-19 00:00:00+00:00 to 2025-03-25 00:00:00+00:00, RMSE: 0.032\n",
      "Forecast origin: 2025-03-18 12:00:00+00:00, Predicting 2025-03-20 00:00:00+00:00 to 2025-03-26 00:00:00+00:00, RMSE: 0.031\n",
      "Forecast origin: 2025-03-19 12:00:00+00:00, Predicting 2025-03-21 00:00:00+00:00 to 2025-03-27 00:00:00+00:00, RMSE: 0.030\n",
      "Forecast origin: 2025-03-20 12:00:00+00:00, Predicting 2025-03-22 00:00:00+00:00 to 2025-03-28 00:00:00+00:00, RMSE: 0.025\n",
      "Forecast origin: 2025-03-21 12:00:00+00:00, Predicting 2025-03-23 00:00:00+00:00 to 2025-03-29 00:00:00+00:00, RMSE: 0.021\n",
      "Forecast origin: 2025-03-22 12:00:00+00:00, Predicting 2025-03-24 00:00:00+00:00 to 2025-03-30 00:00:00+00:00, RMSE: 0.026\n",
      "Forecast origin: 2025-03-23 12:00:00+00:00, Predicting 2025-03-25 00:00:00+00:00 to 2025-03-31 00:00:00+00:00, RMSE: 0.028\n",
      "Forecast origin: 2025-03-24 12:00:00+00:00, Predicting 2025-03-26 00:00:00+00:00 to 2025-04-01 00:00:00+00:00, RMSE: 0.028\n",
      "Forecast origin: 2025-03-25 12:00:00+00:00, Predicting 2025-03-27 00:00:00+00:00 to 2025-04-02 00:00:00+00:00, RMSE: 0.030\n",
      "Forecast origin: 2025-03-26 12:00:00+00:00, Predicting 2025-03-28 00:00:00+00:00 to 2025-04-03 00:00:00+00:00, RMSE: 0.032\n",
      "Forecast origin: 2025-03-27 12:00:00+00:00, Predicting 2025-03-29 00:00:00+00:00 to 2025-04-04 00:00:00+00:00, RMSE: 0.031\n",
      "Forecast origin: 2025-03-28 12:00:00+00:00, Predicting 2025-03-30 00:00:00+00:00 to 2025-04-05 00:00:00+00:00, RMSE: 0.033\n",
      "Forecast origin: 2025-03-29 12:00:00+00:00, Predicting 2025-03-31 00:00:00+00:00 to 2025-04-06 00:00:00+00:00, RMSE: 0.033\n",
      "Forecast origin: 2025-03-30 12:00:00+00:00, Predicting 2025-04-01 00:00:00+00:00 to 2025-04-07 00:00:00+00:00, RMSE: 0.039\n",
      "Forecast origin: 2025-03-31 12:00:00+00:00, Predicting 2025-04-02 00:00:00+00:00 to 2025-04-08 00:00:00+00:00, RMSE: 0.047\n",
      "Forecast origin: 2025-04-01 12:00:00+00:00, Predicting 2025-04-03 00:00:00+00:00 to 2025-04-09 00:00:00+00:00, RMSE: 0.040\n",
      "Forecast origin: 2025-04-02 12:00:00+00:00, Predicting 2025-04-04 00:00:00+00:00 to 2025-04-10 00:00:00+00:00, RMSE: 0.035\n",
      "Forecast origin: 2025-04-03 12:00:00+00:00, Predicting 2025-04-05 00:00:00+00:00 to 2025-04-11 00:00:00+00:00, RMSE: 0.030\n",
      "Forecast origin: 2025-04-04 12:00:00+00:00, Predicting 2025-04-06 00:00:00+00:00 to 2025-04-12 00:00:00+00:00, RMSE: 0.028\n",
      "Forecast origin: 2025-04-05 12:00:00+00:00, Predicting 2025-04-07 00:00:00+00:00 to 2025-04-13 00:00:00+00:00, RMSE: 0.023\n",
      "Forecast origin: 2025-04-06 12:00:00+00:00, Predicting 2025-04-08 00:00:00+00:00 to 2025-04-14 00:00:00+00:00, RMSE: 0.047\n",
      "Forecast origin: 2025-04-07 12:00:00+00:00, Predicting 2025-04-09 00:00:00+00:00 to 2025-04-15 00:00:00+00:00, RMSE: 0.052\n",
      "Forecast origin: 2025-04-08 12:00:00+00:00, Predicting 2025-04-10 00:00:00+00:00 to 2025-04-16 00:00:00+00:00, RMSE: 0.049\n",
      "Forecast origin: 2025-04-09 12:00:00+00:00, Predicting 2025-04-11 00:00:00+00:00 to 2025-04-17 00:00:00+00:00, RMSE: 0.069\n",
      "Forecast origin: 2025-04-10 12:00:00+00:00, Predicting 2025-04-12 00:00:00+00:00 to 2025-04-18 00:00:00+00:00, RMSE: 0.070\n",
      "Forecast origin: 2025-04-11 12:00:00+00:00, Predicting 2025-04-13 00:00:00+00:00 to 2025-04-19 00:00:00+00:00, RMSE: 0.051\n",
      "Forecast origin: 2025-04-12 12:00:00+00:00, Predicting 2025-04-14 00:00:00+00:00 to 2025-04-20 00:00:00+00:00, RMSE: 0.054\n",
      "Forecast origin: 2025-04-13 12:00:00+00:00, Predicting 2025-04-15 00:00:00+00:00 to 2025-04-21 00:00:00+00:00, RMSE: 0.062\n",
      "Forecast origin: 2025-04-14 12:00:00+00:00, Predicting 2025-04-16 00:00:00+00:00 to 2025-04-22 00:00:00+00:00, RMSE: 0.021\n",
      "Forecast origin: 2025-04-15 12:00:00+00:00, Predicting 2025-04-17 00:00:00+00:00 to 2025-04-23 00:00:00+00:00, RMSE: 0.021\n",
      "Forecast origin: 2025-04-16 12:00:00+00:00, Predicting 2025-04-18 00:00:00+00:00 to 2025-04-24 00:00:00+00:00, RMSE: 0.017\n",
      "Forecast origin: 2025-04-17 12:00:00+00:00, Predicting 2025-04-19 00:00:00+00:00 to 2025-04-25 00:00:00+00:00, RMSE: 0.013\n",
      "No test data for forecast starting at 2025-04-18 12:00:00+00:00\n",
      "No test data for forecast starting at 2025-04-19 12:00:00+00:00\n",
      "No test data for forecast starting at 2025-04-20 12:00:00+00:00\n",
      "No test data for forecast starting at 2025-04-21 12:00:00+00:00\n",
      "No test data for forecast starting at 2025-04-22 12:00:00+00:00\n",
      "No test data for forecast starting at 2025-04-23 12:00:00+00:00\n",
      "No test data for forecast starting at 2025-04-24 12:00:00+00:00\n",
      "No test data for forecast starting at 2025-04-25 12:00:00+00:00\n",
      "No test data for forecast starting at 2025-04-26 12:00:00+00:00\n",
      "No test data for forecast starting at 2025-04-27 12:00:00+00:00\n",
      "No test data for forecast starting at 2025-04-28 12:00:00+00:00\n",
      "No test data for forecast starting at 2025-04-29 12:00:00+00:00\n",
      "No test data for forecast starting at 2025-04-30 12:00:00+00:00\n",
      "No test data for forecast starting at 2025-05-01 12:00:00+00:00\n",
      "No test data for forecast starting at 2025-05-02 12:00:00+00:00\n",
      "No test data for forecast starting at 2025-05-03 12:00:00+00:00\n",
      "No test data for forecast starting at 2025-05-04 12:00:00+00:00\n",
      "No test data for forecast starting at 2025-05-05 12:00:00+00:00\n",
      "No test data for forecast starting at 2025-05-06 12:00:00+00:00\n",
      "No test data for forecast starting at 2025-05-07 12:00:00+00:00\n",
      "No test data for forecast starting at 2025-05-08 12:00:00+00:00\n",
      "No test data for forecast starting at 2025-05-09 12:00:00+00:00\n",
      "No test data for forecast starting at 2025-05-10 12:00:00+00:00\n",
      "No test data for forecast starting at 2025-05-11 12:00:00+00:00\n",
      "No test data for forecast starting at 2025-05-12 12:00:00+00:00\n",
      "No test data for forecast starting at 2025-05-13 12:00:00+00:00\n",
      "No test data for forecast starting at 2025-05-14 12:00:00+00:00\n",
      "\n",
      "Average RMSE over 36 runs: 0.03485\n",
      "Average RMSE over first 30 runs: 0.03559\n"
     ]
    }
   ],
   "source": [
    "import pandas as pd\n",
    "import numpy as np\n",
    "import xgboost as xgb\n",
    "from sklearn.metrics import mean_squared_error\n",
    "from datetime import timedelta\n",
    "\n",
    "# Feature and target setup\n",
    "features = [\n",
    "    'Flow_NO','is_dst', 'hour_cos', 'hour_sin','month',\n",
    "    'Load','is_non_working_day','shortwave_radiation', 'temperature_2m' \n",
    "] # excluding  'direct_normal_irradiance', 'diffuse_radiation','yearday_cos', 'yearday_sin', 'cloud_cover', 'Flow_GB',  'is_weekend',\n",
    "target = 'Price'\n",
    "\n",
    "\n",
    "# Safe datetime handling\n",
    "if 'target_datetime' not in df.columns:\n",
    "    print(\"'target_datetime' column not found in columns. Sorting by index instead.\")\n",
    "    df = df.sort_index()\n",
    "else:\n",
    "    df['target_datetime'] = pd.to_datetime(df['target_datetime'])\n",
    "    df = df.set_index('target_datetime')\n",
    "\n",
    "\n",
    "# Forecast settings\n",
    "start_date = pd.Timestamp(\"2025-03-13 12:00\", tz='UTC')\n",
    "end_date = pd.Timestamp(\"2025-05-14 12:00\", tz='UTC')\n",
    "lag = timedelta(hours=36)\n",
    "forecast_horizon = timedelta(hours=144)\n",
    "\n",
    "# Store RMSEs\n",
    "rmses = []\n",
    "\n",
    "current_time = start_date\n",
    "while current_time <= end_date:\n",
    "    train_data = df[df.index < current_time]\n",
    "    test_start = current_time + lag # check current time  \n",
    "    test_end = test_start + forecast_horizon\n",
    "    test_data = df[(df.index >= test_start) & (df.index < test_end)]\n",
    "\n",
    "    if test_data.empty:\n",
    "        print(f\"No test data for forecast starting at {current_time}\")\n",
    "        current_time += timedelta(days=1)\n",
    "        continue\n",
    "\n",
    "    X_train = train_data[features]\n",
    "    y_train = train_data[target]\n",
    "    X_test = test_data[features]\n",
    "    y_test = test_data[target]\n",
    "\n",
    "    # Train and predict\n",
    "    model = xgb.XGBRegressor(objective='reg:squarederror', random_state=42)\n",
    "    model.fit(X_train, y_train)\n",
    "    y_pred = model.predict(X_test)\n",
    "\n",
    "    # Evaluate\n",
    "    rmse = np.sqrt(mean_squared_error(y_test, y_pred))\n",
    "    rmses.append(rmse)\n",
    "\n",
    "    print(f\"Forecast origin: {current_time}, Predicting {test_start} to {test_end}, RMSE: {rmse:.3f}\")\n",
    "\n",
    "    current_time += timedelta(days=1)\n",
    "\n",
    "# Summary\n",
    "avg_rmse = np.mean(rmses)\n",
    "print(f\"\\nAverage RMSE over {len(rmses)} runs: {avg_rmse:.5f}\")\n",
    "\n",
    "# Calculate average RMSE over the first 30 runs\n",
    "if len(rmses) >= 30:\n",
    "    avg_rmse_30 = np.mean(rmses[:30])\n",
    "    print(f\"Average RMSE over first 30 runs: {avg_rmse_30:.5f}\")\n",
    "else:\n",
    "    print(\"Less than 30 runs available to calculate average RMSE.\")"
   ]
  },
  {
   "cell_type": "code",
   "execution_count": 17,
   "id": "2e182bce",
   "metadata": {},
   "outputs": [
    {
     "name": "stderr",
     "output_type": "stream",
     "text": [
      "2025-05-27 11:16:48,628 - build_training_set - INFO - 🚀 Start build van trainingset\n",
      "2025-05-27 11:16:48,629 - build_training_set - INFO - 🧠 Actuals van 2025-01-01 00:00:00+00:00 t/m 2025-03-14 23:00:00+00:00\n",
      "2025-05-27 11:16:48,629 - build_training_set - INFO - 📅 Forecast van run_date 2025-03-15 00:00:00+00:00, target range: 2025-03-15 00:00:00+00:00 → 2025-03-21 23:00:00+00:00\n",
      "2025-05-27 11:16:48,680 - build_training_set - INFO - ✅ Actuals geladen: 1752 rijen\n"
     ]
    },
    {
     "name": "stdout",
     "output_type": "stream",
     "text": [
      "🔍 Testing XGBoost Model - RMSE per forecast day\n",
      "============================================================\n"
     ]
    },
    {
     "name": "stderr",
     "output_type": "stream",
     "text": [
      "2025-05-27 11:16:48,841 - build_training_set - INFO - ✅ Added actual prices to 168 forecast rows\n",
      "/Users/Twan/Library/Mobile Documents/com~apple~CloudDocs/Data Science/Data Projects EASI/ENEXIS/src/utils/build_training_set.py:106: FutureWarning: The behavior of DataFrame concatenation with empty or all-NA entries is deprecated. In a future version, this will no longer exclude empty or all-NA columns when determining the result dtypes. To retain the old behavior, exclude the relevant entries before the concat operation.\n",
      "  df_combined = pd.concat([df_actuals, df_preds], ignore_index=True)\n",
      "2025-05-27 11:16:48,856 - build_training_set - INFO - 📦 Eindtabel bevat: 1920 rijen, 31 kolommen\n",
      "2025-05-27 11:16:48,856 - build_training_set - INFO - 🧾 Kolommen: ['Price', 'target_datetime', 'Load', 'shortwave_radiation', 'temperature_2m', 'direct_normal_irradiance', 'diffuse_radiation', 'Flow_NO', 'yearday_cos', 'Flow_GB', 'month', 'is_dst', 'yearday_sin', 'is_non_working_day', 'hour_cos', 'is_weekend', 'cloud_cover', 'weekday_sin', 'hour_sin', 'weekday_cos', 'apparent_temperature', 'day_of_week', 'day_of_year', 'direct_radiation', 'hour', 'is_holiday', 'local_datetime', 'run_date', 'snowfall', 'wind_direction_10m', 'wind_speed_10m']\n",
      "2025-05-27 11:16:48,857 - build_training_set - INFO - ❓ Price NaN count: 0/1920 (0.0%)\n",
      "2025-05-27 11:16:48,869 - build_training_set - INFO - ✅ Opgeslagen als training_set in WARP.db\n",
      "2025-05-27 11:16:48,869 - build_training_set - INFO - 🔒 Verbinding gesloten\n",
      "2025-05-27 11:16:48,991 - build_training_set - INFO - 🚀 Start build van trainingset\n",
      "2025-05-27 11:16:48,991 - build_training_set - INFO - 🧠 Actuals van 2025-01-02 00:00:00+00:00 t/m 2025-03-15 23:00:00+00:00\n",
      "2025-05-27 11:16:48,991 - build_training_set - INFO - 📅 Forecast van run_date 2025-03-16 00:00:00+00:00, target range: 2025-03-16 00:00:00+00:00 → 2025-03-22 23:00:00+00:00\n",
      "2025-05-27 11:16:49,009 - build_training_set - INFO - ✅ Actuals geladen: 1752 rijen\n"
     ]
    },
    {
     "name": "stdout",
     "output_type": "stream",
     "text": [
      "Day 1: ✅ 167 test rows, Run: 03-15\n"
     ]
    },
    {
     "name": "stderr",
     "output_type": "stream",
     "text": [
      "2025-05-27 11:16:49,226 - build_training_set - INFO - ✅ Added actual prices to 168 forecast rows\n",
      "/Users/Twan/Library/Mobile Documents/com~apple~CloudDocs/Data Science/Data Projects EASI/ENEXIS/src/utils/build_training_set.py:106: FutureWarning: The behavior of DataFrame concatenation with empty or all-NA entries is deprecated. In a future version, this will no longer exclude empty or all-NA columns when determining the result dtypes. To retain the old behavior, exclude the relevant entries before the concat operation.\n",
      "  df_combined = pd.concat([df_actuals, df_preds], ignore_index=True)\n",
      "2025-05-27 11:16:49,235 - build_training_set - INFO - 📦 Eindtabel bevat: 1920 rijen, 31 kolommen\n",
      "2025-05-27 11:16:49,235 - build_training_set - INFO - 🧾 Kolommen: ['Price', 'target_datetime', 'Load', 'shortwave_radiation', 'temperature_2m', 'direct_normal_irradiance', 'diffuse_radiation', 'Flow_NO', 'yearday_cos', 'Flow_GB', 'month', 'is_dst', 'yearday_sin', 'is_non_working_day', 'hour_cos', 'is_weekend', 'cloud_cover', 'weekday_sin', 'hour_sin', 'weekday_cos', 'apparent_temperature', 'day_of_week', 'day_of_year', 'direct_radiation', 'hour', 'is_holiday', 'local_datetime', 'run_date', 'snowfall', 'wind_direction_10m', 'wind_speed_10m']\n",
      "2025-05-27 11:16:49,235 - build_training_set - INFO - ❓ Price NaN count: 0/1920 (0.0%)\n",
      "2025-05-27 11:16:49,249 - build_training_set - INFO - ✅ Opgeslagen als training_set in WARP.db\n",
      "2025-05-27 11:16:49,250 - build_training_set - INFO - 🔒 Verbinding gesloten\n",
      "2025-05-27 11:16:49,380 - build_training_set - INFO - 🚀 Start build van trainingset\n",
      "2025-05-27 11:16:49,380 - build_training_set - INFO - 🧠 Actuals van 2025-01-03 00:00:00+00:00 t/m 2025-03-16 23:00:00+00:00\n",
      "2025-05-27 11:16:49,381 - build_training_set - INFO - 📅 Forecast van run_date 2025-03-17 00:00:00+00:00, target range: 2025-03-17 00:00:00+00:00 → 2025-03-23 23:00:00+00:00\n",
      "2025-05-27 11:16:49,398 - build_training_set - INFO - ✅ Actuals geladen: 1752 rijen\n",
      "2025-05-27 11:16:49,542 - build_training_set - INFO - ✅ Added actual prices to 168 forecast rows\n",
      "/Users/Twan/Library/Mobile Documents/com~apple~CloudDocs/Data Science/Data Projects EASI/ENEXIS/src/utils/build_training_set.py:106: FutureWarning: The behavior of DataFrame concatenation with empty or all-NA entries is deprecated. In a future version, this will no longer exclude empty or all-NA columns when determining the result dtypes. To retain the old behavior, exclude the relevant entries before the concat operation.\n",
      "  df_combined = pd.concat([df_actuals, df_preds], ignore_index=True)\n",
      "2025-05-27 11:16:49,551 - build_training_set - INFO - 📦 Eindtabel bevat: 1920 rijen, 31 kolommen\n",
      "2025-05-27 11:16:49,551 - build_training_set - INFO - 🧾 Kolommen: ['Price', 'target_datetime', 'Load', 'shortwave_radiation', 'temperature_2m', 'direct_normal_irradiance', 'diffuse_radiation', 'Flow_NO', 'yearday_cos', 'Flow_GB', 'month', 'is_dst', 'yearday_sin', 'is_non_working_day', 'hour_cos', 'is_weekend', 'cloud_cover', 'weekday_sin', 'hour_sin', 'weekday_cos', 'apparent_temperature', 'day_of_week', 'day_of_year', 'direct_radiation', 'hour', 'is_holiday', 'local_datetime', 'run_date', 'snowfall', 'wind_direction_10m', 'wind_speed_10m']\n",
      "2025-05-27 11:16:49,551 - build_training_set - INFO - ❓ Price NaN count: 0/1920 (0.0%)\n",
      "2025-05-27 11:16:49,563 - build_training_set - INFO - ✅ Opgeslagen als training_set in WARP.db\n",
      "2025-05-27 11:16:49,564 - build_training_set - INFO - 🔒 Verbinding gesloten\n"
     ]
    },
    {
     "name": "stdout",
     "output_type": "stream",
     "text": [
      "Day 2: ✅ 167 test rows, Run: 03-16\n"
     ]
    },
    {
     "name": "stderr",
     "output_type": "stream",
     "text": [
      "2025-05-27 11:16:49,684 - build_training_set - INFO - 🚀 Start build van trainingset\n",
      "2025-05-27 11:16:49,684 - build_training_set - INFO - 🧠 Actuals van 2025-01-04 00:00:00+00:00 t/m 2025-03-17 23:00:00+00:00\n",
      "2025-05-27 11:16:49,684 - build_training_set - INFO - 📅 Forecast van run_date 2025-03-18 00:00:00+00:00, target range: 2025-03-18 00:00:00+00:00 → 2025-03-24 23:00:00+00:00\n",
      "2025-05-27 11:16:49,701 - build_training_set - INFO - ✅ Actuals geladen: 1752 rijen\n",
      "2025-05-27 11:16:49,851 - build_training_set - INFO - ✅ Added actual prices to 168 forecast rows\n",
      "/Users/Twan/Library/Mobile Documents/com~apple~CloudDocs/Data Science/Data Projects EASI/ENEXIS/src/utils/build_training_set.py:106: FutureWarning: The behavior of DataFrame concatenation with empty or all-NA entries is deprecated. In a future version, this will no longer exclude empty or all-NA columns when determining the result dtypes. To retain the old behavior, exclude the relevant entries before the concat operation.\n",
      "  df_combined = pd.concat([df_actuals, df_preds], ignore_index=True)\n",
      "2025-05-27 11:16:49,861 - build_training_set - INFO - 📦 Eindtabel bevat: 1920 rijen, 31 kolommen\n",
      "2025-05-27 11:16:49,861 - build_training_set - INFO - 🧾 Kolommen: ['Price', 'target_datetime', 'Load', 'shortwave_radiation', 'temperature_2m', 'direct_normal_irradiance', 'diffuse_radiation', 'Flow_NO', 'yearday_cos', 'Flow_GB', 'month', 'is_dst', 'yearday_sin', 'is_non_working_day', 'hour_cos', 'is_weekend', 'cloud_cover', 'weekday_sin', 'hour_sin', 'weekday_cos', 'apparent_temperature', 'day_of_week', 'day_of_year', 'direct_radiation', 'hour', 'is_holiday', 'local_datetime', 'run_date', 'snowfall', 'wind_direction_10m', 'wind_speed_10m']\n",
      "2025-05-27 11:16:49,862 - build_training_set - INFO - ❓ Price NaN count: 0/1920 (0.0%)\n",
      "2025-05-27 11:16:49,874 - build_training_set - INFO - ✅ Opgeslagen als training_set in WARP.db\n",
      "2025-05-27 11:16:49,875 - build_training_set - INFO - 🔒 Verbinding gesloten\n"
     ]
    },
    {
     "name": "stdout",
     "output_type": "stream",
     "text": [
      "Day 3: ✅ 167 test rows, Run: 03-17\n"
     ]
    },
    {
     "name": "stderr",
     "output_type": "stream",
     "text": [
      "2025-05-27 11:16:49,997 - build_training_set - INFO - 🚀 Start build van trainingset\n",
      "2025-05-27 11:16:49,997 - build_training_set - INFO - 🧠 Actuals van 2025-01-05 00:00:00+00:00 t/m 2025-03-18 23:00:00+00:00\n",
      "2025-05-27 11:16:49,997 - build_training_set - INFO - 📅 Forecast van run_date 2025-03-19 00:00:00+00:00, target range: 2025-03-19 00:00:00+00:00 → 2025-03-25 23:00:00+00:00\n",
      "2025-05-27 11:16:50,016 - build_training_set - INFO - ✅ Actuals geladen: 1752 rijen\n",
      "2025-05-27 11:16:50,161 - build_training_set - INFO - ✅ Added actual prices to 168 forecast rows\n",
      "/Users/Twan/Library/Mobile Documents/com~apple~CloudDocs/Data Science/Data Projects EASI/ENEXIS/src/utils/build_training_set.py:106: FutureWarning: The behavior of DataFrame concatenation with empty or all-NA entries is deprecated. In a future version, this will no longer exclude empty or all-NA columns when determining the result dtypes. To retain the old behavior, exclude the relevant entries before the concat operation.\n",
      "  df_combined = pd.concat([df_actuals, df_preds], ignore_index=True)\n",
      "2025-05-27 11:16:50,170 - build_training_set - INFO - 📦 Eindtabel bevat: 1920 rijen, 31 kolommen\n",
      "2025-05-27 11:16:50,170 - build_training_set - INFO - 🧾 Kolommen: ['Price', 'target_datetime', 'Load', 'shortwave_radiation', 'temperature_2m', 'direct_normal_irradiance', 'diffuse_radiation', 'Flow_NO', 'yearday_cos', 'Flow_GB', 'month', 'is_dst', 'yearday_sin', 'is_non_working_day', 'hour_cos', 'is_weekend', 'cloud_cover', 'weekday_sin', 'hour_sin', 'weekday_cos', 'apparent_temperature', 'day_of_week', 'day_of_year', 'direct_radiation', 'hour', 'is_holiday', 'local_datetime', 'run_date', 'snowfall', 'wind_direction_10m', 'wind_speed_10m']\n",
      "2025-05-27 11:16:50,170 - build_training_set - INFO - ❓ Price NaN count: 0/1920 (0.0%)\n",
      "2025-05-27 11:16:50,183 - build_training_set - INFO - ✅ Opgeslagen als training_set in WARP.db\n",
      "2025-05-27 11:16:50,183 - build_training_set - INFO - 🔒 Verbinding gesloten\n"
     ]
    },
    {
     "name": "stdout",
     "output_type": "stream",
     "text": [
      "Day 4: ✅ 167 test rows, Run: 03-18\n"
     ]
    },
    {
     "name": "stderr",
     "output_type": "stream",
     "text": [
      "2025-05-27 11:16:50,345 - build_training_set - INFO - 🚀 Start build van trainingset\n",
      "2025-05-27 11:16:50,345 - build_training_set - INFO - 🧠 Actuals van 2025-01-06 00:00:00+00:00 t/m 2025-03-19 23:00:00+00:00\n",
      "2025-05-27 11:16:50,346 - build_training_set - INFO - 📅 Forecast van run_date 2025-03-20 00:00:00+00:00, target range: 2025-03-20 00:00:00+00:00 → 2025-03-26 23:00:00+00:00\n",
      "2025-05-27 11:16:50,364 - build_training_set - INFO - ✅ Actuals geladen: 1752 rijen\n",
      "2025-05-27 11:16:50,509 - build_training_set - INFO - ✅ Added actual prices to 168 forecast rows\n",
      "/Users/Twan/Library/Mobile Documents/com~apple~CloudDocs/Data Science/Data Projects EASI/ENEXIS/src/utils/build_training_set.py:106: FutureWarning: The behavior of DataFrame concatenation with empty or all-NA entries is deprecated. In a future version, this will no longer exclude empty or all-NA columns when determining the result dtypes. To retain the old behavior, exclude the relevant entries before the concat operation.\n",
      "  df_combined = pd.concat([df_actuals, df_preds], ignore_index=True)\n",
      "2025-05-27 11:16:50,518 - build_training_set - INFO - 📦 Eindtabel bevat: 1920 rijen, 31 kolommen\n",
      "2025-05-27 11:16:50,518 - build_training_set - INFO - 🧾 Kolommen: ['Price', 'target_datetime', 'Load', 'shortwave_radiation', 'temperature_2m', 'direct_normal_irradiance', 'diffuse_radiation', 'Flow_NO', 'yearday_cos', 'Flow_GB', 'month', 'is_dst', 'yearday_sin', 'is_non_working_day', 'hour_cos', 'is_weekend', 'cloud_cover', 'weekday_sin', 'hour_sin', 'weekday_cos', 'apparent_temperature', 'day_of_week', 'day_of_year', 'direct_radiation', 'hour', 'is_holiday', 'local_datetime', 'run_date', 'snowfall', 'wind_direction_10m', 'wind_speed_10m']\n",
      "2025-05-27 11:16:50,519 - build_training_set - INFO - ❓ Price NaN count: 0/1920 (0.0%)\n",
      "2025-05-27 11:16:50,530 - build_training_set - INFO - ✅ Opgeslagen als training_set in WARP.db\n",
      "2025-05-27 11:16:50,531 - build_training_set - INFO - 🔒 Verbinding gesloten\n"
     ]
    },
    {
     "name": "stdout",
     "output_type": "stream",
     "text": [
      "Day 5: ✅ 167 test rows, Run: 03-19\n"
     ]
    },
    {
     "name": "stderr",
     "output_type": "stream",
     "text": [
      "2025-05-27 11:16:50,643 - build_training_set - INFO - 🚀 Start build van trainingset\n",
      "2025-05-27 11:16:50,644 - build_training_set - INFO - 🧠 Actuals van 2025-01-07 00:00:00+00:00 t/m 2025-03-20 23:00:00+00:00\n",
      "2025-05-27 11:16:50,644 - build_training_set - INFO - 📅 Forecast van run_date 2025-03-21 00:00:00+00:00, target range: 2025-03-21 00:00:00+00:00 → 2025-03-27 23:00:00+00:00\n",
      "2025-05-27 11:16:50,661 - build_training_set - INFO - ✅ Actuals geladen: 1752 rijen\n",
      "2025-05-27 11:16:50,810 - build_training_set - INFO - ✅ Added actual prices to 168 forecast rows\n",
      "/Users/Twan/Library/Mobile Documents/com~apple~CloudDocs/Data Science/Data Projects EASI/ENEXIS/src/utils/build_training_set.py:106: FutureWarning: The behavior of DataFrame concatenation with empty or all-NA entries is deprecated. In a future version, this will no longer exclude empty or all-NA columns when determining the result dtypes. To retain the old behavior, exclude the relevant entries before the concat operation.\n",
      "  df_combined = pd.concat([df_actuals, df_preds], ignore_index=True)\n",
      "2025-05-27 11:16:50,820 - build_training_set - INFO - 📦 Eindtabel bevat: 1920 rijen, 31 kolommen\n",
      "2025-05-27 11:16:50,820 - build_training_set - INFO - 🧾 Kolommen: ['Price', 'target_datetime', 'Load', 'shortwave_radiation', 'temperature_2m', 'direct_normal_irradiance', 'diffuse_radiation', 'Flow_NO', 'yearday_cos', 'Flow_GB', 'month', 'is_dst', 'yearday_sin', 'is_non_working_day', 'hour_cos', 'is_weekend', 'cloud_cover', 'weekday_sin', 'hour_sin', 'weekday_cos', 'apparent_temperature', 'day_of_week', 'day_of_year', 'direct_radiation', 'hour', 'is_holiday', 'local_datetime', 'run_date', 'snowfall', 'wind_direction_10m', 'wind_speed_10m']\n",
      "2025-05-27 11:16:50,820 - build_training_set - INFO - ❓ Price NaN count: 0/1920 (0.0%)\n",
      "2025-05-27 11:16:50,832 - build_training_set - INFO - ✅ Opgeslagen als training_set in WARP.db\n",
      "2025-05-27 11:16:50,832 - build_training_set - INFO - 🔒 Verbinding gesloten\n"
     ]
    },
    {
     "name": "stdout",
     "output_type": "stream",
     "text": [
      "Day 6: ✅ 167 test rows, Run: 03-20\n"
     ]
    },
    {
     "name": "stderr",
     "output_type": "stream",
     "text": [
      "2025-05-27 11:16:50,951 - build_training_set - INFO - 🚀 Start build van trainingset\n",
      "2025-05-27 11:16:50,951 - build_training_set - INFO - 🧠 Actuals van 2025-01-08 00:00:00+00:00 t/m 2025-03-21 23:00:00+00:00\n",
      "2025-05-27 11:16:50,951 - build_training_set - INFO - 📅 Forecast van run_date 2025-03-22 00:00:00+00:00, target range: 2025-03-22 00:00:00+00:00 → 2025-03-28 23:00:00+00:00\n",
      "2025-05-27 11:16:50,969 - build_training_set - INFO - ✅ Actuals geladen: 1752 rijen\n",
      "2025-05-27 11:16:51,112 - build_training_set - INFO - ✅ Added actual prices to 168 forecast rows\n",
      "/Users/Twan/Library/Mobile Documents/com~apple~CloudDocs/Data Science/Data Projects EASI/ENEXIS/src/utils/build_training_set.py:106: FutureWarning: The behavior of DataFrame concatenation with empty or all-NA entries is deprecated. In a future version, this will no longer exclude empty or all-NA columns when determining the result dtypes. To retain the old behavior, exclude the relevant entries before the concat operation.\n",
      "  df_combined = pd.concat([df_actuals, df_preds], ignore_index=True)\n",
      "2025-05-27 11:16:51,121 - build_training_set - INFO - 📦 Eindtabel bevat: 1920 rijen, 31 kolommen\n",
      "2025-05-27 11:16:51,121 - build_training_set - INFO - 🧾 Kolommen: ['Price', 'target_datetime', 'Load', 'shortwave_radiation', 'temperature_2m', 'direct_normal_irradiance', 'diffuse_radiation', 'Flow_NO', 'yearday_cos', 'Flow_GB', 'month', 'is_dst', 'yearday_sin', 'is_non_working_day', 'hour_cos', 'is_weekend', 'cloud_cover', 'weekday_sin', 'hour_sin', 'weekday_cos', 'apparent_temperature', 'day_of_week', 'day_of_year', 'direct_radiation', 'hour', 'is_holiday', 'local_datetime', 'run_date', 'snowfall', 'wind_direction_10m', 'wind_speed_10m']\n",
      "2025-05-27 11:16:51,121 - build_training_set - INFO - ❓ Price NaN count: 0/1920 (0.0%)\n",
      "2025-05-27 11:16:51,134 - build_training_set - INFO - ✅ Opgeslagen als training_set in WARP.db\n",
      "2025-05-27 11:16:51,134 - build_training_set - INFO - 🔒 Verbinding gesloten\n"
     ]
    },
    {
     "name": "stdout",
     "output_type": "stream",
     "text": [
      "Day 7: ✅ 167 test rows, Run: 03-21\n"
     ]
    },
    {
     "name": "stderr",
     "output_type": "stream",
     "text": [
      "2025-05-27 11:16:51,254 - build_training_set - INFO - 🚀 Start build van trainingset\n",
      "2025-05-27 11:16:51,254 - build_training_set - INFO - 🧠 Actuals van 2025-01-09 00:00:00+00:00 t/m 2025-03-22 23:00:00+00:00\n",
      "2025-05-27 11:16:51,254 - build_training_set - INFO - 📅 Forecast van run_date 2025-03-23 00:00:00+00:00, target range: 2025-03-23 00:00:00+00:00 → 2025-03-29 23:00:00+00:00\n",
      "2025-05-27 11:16:51,285 - build_training_set - INFO - ✅ Actuals geladen: 1752 rijen\n"
     ]
    },
    {
     "name": "stdout",
     "output_type": "stream",
     "text": [
      "Day 8: ✅ 167 test rows, Run: 03-22\n"
     ]
    },
    {
     "name": "stderr",
     "output_type": "stream",
     "text": [
      "2025-05-27 11:16:51,466 - build_training_set - INFO - ✅ Added actual prices to 168 forecast rows\n",
      "/Users/Twan/Library/Mobile Documents/com~apple~CloudDocs/Data Science/Data Projects EASI/ENEXIS/src/utils/build_training_set.py:106: FutureWarning: The behavior of DataFrame concatenation with empty or all-NA entries is deprecated. In a future version, this will no longer exclude empty or all-NA columns when determining the result dtypes. To retain the old behavior, exclude the relevant entries before the concat operation.\n",
      "  df_combined = pd.concat([df_actuals, df_preds], ignore_index=True)\n",
      "2025-05-27 11:16:51,477 - build_training_set - INFO - 📦 Eindtabel bevat: 1920 rijen, 31 kolommen\n",
      "2025-05-27 11:16:51,478 - build_training_set - INFO - 🧾 Kolommen: ['Price', 'target_datetime', 'Load', 'shortwave_radiation', 'temperature_2m', 'direct_normal_irradiance', 'diffuse_radiation', 'Flow_NO', 'yearday_cos', 'Flow_GB', 'month', 'is_dst', 'yearday_sin', 'is_non_working_day', 'hour_cos', 'is_weekend', 'cloud_cover', 'weekday_sin', 'hour_sin', 'weekday_cos', 'apparent_temperature', 'day_of_week', 'day_of_year', 'direct_radiation', 'hour', 'is_holiday', 'local_datetime', 'run_date', 'snowfall', 'wind_direction_10m', 'wind_speed_10m']\n",
      "2025-05-27 11:16:51,478 - build_training_set - INFO - ❓ Price NaN count: 0/1920 (0.0%)\n",
      "2025-05-27 11:16:51,491 - build_training_set - INFO - ✅ Opgeslagen als training_set in WARP.db\n",
      "2025-05-27 11:16:51,492 - build_training_set - INFO - 🔒 Verbinding gesloten\n",
      "2025-05-27 11:16:51,602 - build_training_set - INFO - 🚀 Start build van trainingset\n",
      "2025-05-27 11:16:51,602 - build_training_set - INFO - 🧠 Actuals van 2025-01-10 00:00:00+00:00 t/m 2025-03-23 23:00:00+00:00\n",
      "2025-05-27 11:16:51,602 - build_training_set - INFO - 📅 Forecast van run_date 2025-03-24 00:00:00+00:00, target range: 2025-03-24 00:00:00+00:00 → 2025-03-30 23:00:00+00:00\n",
      "2025-05-27 11:16:51,618 - build_training_set - INFO - ✅ Actuals geladen: 1752 rijen\n",
      "2025-05-27 11:16:51,761 - build_training_set - INFO - ✅ Added actual prices to 168 forecast rows\n",
      "/Users/Twan/Library/Mobile Documents/com~apple~CloudDocs/Data Science/Data Projects EASI/ENEXIS/src/utils/build_training_set.py:106: FutureWarning: The behavior of DataFrame concatenation with empty or all-NA entries is deprecated. In a future version, this will no longer exclude empty or all-NA columns when determining the result dtypes. To retain the old behavior, exclude the relevant entries before the concat operation.\n",
      "  df_combined = pd.concat([df_actuals, df_preds], ignore_index=True)\n",
      "2025-05-27 11:16:51,770 - build_training_set - INFO - 📦 Eindtabel bevat: 1920 rijen, 31 kolommen\n",
      "2025-05-27 11:16:51,771 - build_training_set - INFO - 🧾 Kolommen: ['Price', 'target_datetime', 'Load', 'shortwave_radiation', 'temperature_2m', 'direct_normal_irradiance', 'diffuse_radiation', 'Flow_NO', 'yearday_cos', 'Flow_GB', 'month', 'is_dst', 'yearday_sin', 'is_non_working_day', 'hour_cos', 'is_weekend', 'cloud_cover', 'weekday_sin', 'hour_sin', 'weekday_cos', 'apparent_temperature', 'day_of_week', 'day_of_year', 'direct_radiation', 'hour', 'is_holiday', 'local_datetime', 'run_date', 'snowfall', 'wind_direction_10m', 'wind_speed_10m']\n",
      "2025-05-27 11:16:51,771 - build_training_set - INFO - ❓ Price NaN count: 0/1920 (0.0%)\n",
      "2025-05-27 11:16:51,783 - build_training_set - INFO - ✅ Opgeslagen als training_set in WARP.db\n",
      "2025-05-27 11:16:51,784 - build_training_set - INFO - 🔒 Verbinding gesloten\n"
     ]
    },
    {
     "name": "stdout",
     "output_type": "stream",
     "text": [
      "Day 9: ✅ 167 test rows, Run: 03-23\n"
     ]
    },
    {
     "name": "stderr",
     "output_type": "stream",
     "text": [
      "2025-05-27 11:16:51,900 - build_training_set - INFO - 🚀 Start build van trainingset\n",
      "2025-05-27 11:16:51,900 - build_training_set - INFO - 🧠 Actuals van 2025-01-11 00:00:00+00:00 t/m 2025-03-24 23:00:00+00:00\n",
      "2025-05-27 11:16:51,900 - build_training_set - INFO - 📅 Forecast van run_date 2025-03-25 00:00:00+00:00, target range: 2025-03-25 00:00:00+00:00 → 2025-03-31 23:00:00+00:00\n",
      "2025-05-27 11:16:51,917 - build_training_set - INFO - ✅ Actuals geladen: 1752 rijen\n",
      "2025-05-27 11:16:52,061 - build_training_set - INFO - ✅ Added actual prices to 168 forecast rows\n",
      "/Users/Twan/Library/Mobile Documents/com~apple~CloudDocs/Data Science/Data Projects EASI/ENEXIS/src/utils/build_training_set.py:106: FutureWarning: The behavior of DataFrame concatenation with empty or all-NA entries is deprecated. In a future version, this will no longer exclude empty or all-NA columns when determining the result dtypes. To retain the old behavior, exclude the relevant entries before the concat operation.\n",
      "  df_combined = pd.concat([df_actuals, df_preds], ignore_index=True)\n",
      "2025-05-27 11:16:52,070 - build_training_set - INFO - 📦 Eindtabel bevat: 1920 rijen, 31 kolommen\n",
      "2025-05-27 11:16:52,071 - build_training_set - INFO - 🧾 Kolommen: ['Price', 'target_datetime', 'Load', 'shortwave_radiation', 'temperature_2m', 'direct_normal_irradiance', 'diffuse_radiation', 'Flow_NO', 'yearday_cos', 'Flow_GB', 'month', 'is_dst', 'yearday_sin', 'is_non_working_day', 'hour_cos', 'is_weekend', 'cloud_cover', 'weekday_sin', 'hour_sin', 'weekday_cos', 'apparent_temperature', 'day_of_week', 'day_of_year', 'direct_radiation', 'hour', 'is_holiday', 'local_datetime', 'run_date', 'snowfall', 'wind_direction_10m', 'wind_speed_10m']\n",
      "2025-05-27 11:16:52,071 - build_training_set - INFO - ❓ Price NaN count: 0/1920 (0.0%)\n",
      "2025-05-27 11:16:52,082 - build_training_set - INFO - ✅ Opgeslagen als training_set in WARP.db\n",
      "2025-05-27 11:16:52,083 - build_training_set - INFO - 🔒 Verbinding gesloten\n"
     ]
    },
    {
     "name": "stdout",
     "output_type": "stream",
     "text": [
      "Day 10: ✅ 167 test rows, Run: 03-24\n"
     ]
    },
    {
     "name": "stderr",
     "output_type": "stream",
     "text": [
      "2025-05-27 11:16:52,197 - build_training_set - INFO - 🚀 Start build van trainingset\n",
      "2025-05-27 11:16:52,197 - build_training_set - INFO - 🧠 Actuals van 2025-01-12 00:00:00+00:00 t/m 2025-03-25 23:00:00+00:00\n",
      "2025-05-27 11:16:52,197 - build_training_set - INFO - 📅 Forecast van run_date 2025-03-26 00:00:00+00:00, target range: 2025-03-26 00:00:00+00:00 → 2025-04-01 23:00:00+00:00\n",
      "2025-05-27 11:16:52,215 - build_training_set - INFO - ✅ Actuals geladen: 1752 rijen\n",
      "2025-05-27 11:16:52,357 - build_training_set - INFO - ✅ Added actual prices to 168 forecast rows\n",
      "/Users/Twan/Library/Mobile Documents/com~apple~CloudDocs/Data Science/Data Projects EASI/ENEXIS/src/utils/build_training_set.py:106: FutureWarning: The behavior of DataFrame concatenation with empty or all-NA entries is deprecated. In a future version, this will no longer exclude empty or all-NA columns when determining the result dtypes. To retain the old behavior, exclude the relevant entries before the concat operation.\n",
      "  df_combined = pd.concat([df_actuals, df_preds], ignore_index=True)\n",
      "2025-05-27 11:16:52,366 - build_training_set - INFO - 📦 Eindtabel bevat: 1920 rijen, 31 kolommen\n",
      "2025-05-27 11:16:52,366 - build_training_set - INFO - 🧾 Kolommen: ['Price', 'target_datetime', 'Load', 'shortwave_radiation', 'temperature_2m', 'direct_normal_irradiance', 'diffuse_radiation', 'Flow_NO', 'yearday_cos', 'Flow_GB', 'month', 'is_dst', 'yearday_sin', 'is_non_working_day', 'hour_cos', 'is_weekend', 'cloud_cover', 'weekday_sin', 'hour_sin', 'weekday_cos', 'apparent_temperature', 'day_of_week', 'day_of_year', 'direct_radiation', 'hour', 'is_holiday', 'local_datetime', 'run_date', 'snowfall', 'wind_direction_10m', 'wind_speed_10m']\n",
      "2025-05-27 11:16:52,366 - build_training_set - INFO - ❓ Price NaN count: 0/1920 (0.0%)\n",
      "2025-05-27 11:16:52,378 - build_training_set - INFO - ✅ Opgeslagen als training_set in WARP.db\n",
      "2025-05-27 11:16:52,379 - build_training_set - INFO - 🔒 Verbinding gesloten\n"
     ]
    },
    {
     "name": "stdout",
     "output_type": "stream",
     "text": [
      "Day 11: ✅ 167 test rows, Run: 03-25\n"
     ]
    },
    {
     "name": "stderr",
     "output_type": "stream",
     "text": [
      "2025-05-27 11:16:52,538 - build_training_set - INFO - 🚀 Start build van trainingset\n",
      "2025-05-27 11:16:52,539 - build_training_set - INFO - 🧠 Actuals van 2025-01-13 00:00:00+00:00 t/m 2025-03-26 23:00:00+00:00\n",
      "2025-05-27 11:16:52,539 - build_training_set - INFO - 📅 Forecast van run_date 2025-03-27 00:00:00+00:00, target range: 2025-03-27 00:00:00+00:00 → 2025-04-02 23:00:00+00:00\n",
      "2025-05-27 11:16:52,555 - build_training_set - INFO - ✅ Actuals geladen: 1752 rijen\n",
      "2025-05-27 11:16:52,696 - build_training_set - INFO - ✅ Added actual prices to 168 forecast rows\n",
      "/Users/Twan/Library/Mobile Documents/com~apple~CloudDocs/Data Science/Data Projects EASI/ENEXIS/src/utils/build_training_set.py:106: FutureWarning: The behavior of DataFrame concatenation with empty or all-NA entries is deprecated. In a future version, this will no longer exclude empty or all-NA columns when determining the result dtypes. To retain the old behavior, exclude the relevant entries before the concat operation.\n",
      "  df_combined = pd.concat([df_actuals, df_preds], ignore_index=True)\n",
      "2025-05-27 11:16:52,704 - build_training_set - INFO - 📦 Eindtabel bevat: 1920 rijen, 31 kolommen\n",
      "2025-05-27 11:16:52,704 - build_training_set - INFO - 🧾 Kolommen: ['Price', 'target_datetime', 'Load', 'shortwave_radiation', 'temperature_2m', 'direct_normal_irradiance', 'diffuse_radiation', 'Flow_NO', 'yearday_cos', 'Flow_GB', 'month', 'is_dst', 'yearday_sin', 'is_non_working_day', 'hour_cos', 'is_weekend', 'cloud_cover', 'weekday_sin', 'hour_sin', 'weekday_cos', 'apparent_temperature', 'day_of_week', 'day_of_year', 'direct_radiation', 'hour', 'is_holiday', 'local_datetime', 'run_date', 'snowfall', 'wind_direction_10m', 'wind_speed_10m']\n",
      "2025-05-27 11:16:52,705 - build_training_set - INFO - ❓ Price NaN count: 0/1920 (0.0%)\n",
      "2025-05-27 11:16:52,716 - build_training_set - INFO - ✅ Opgeslagen als training_set in WARP.db\n",
      "2025-05-27 11:16:52,717 - build_training_set - INFO - 🔒 Verbinding gesloten\n"
     ]
    },
    {
     "name": "stdout",
     "output_type": "stream",
     "text": [
      "Day 12: ✅ 167 test rows, Run: 03-26\n"
     ]
    },
    {
     "name": "stderr",
     "output_type": "stream",
     "text": [
      "2025-05-27 11:16:52,829 - build_training_set - INFO - 🚀 Start build van trainingset\n",
      "2025-05-27 11:16:52,830 - build_training_set - INFO - 🧠 Actuals van 2025-01-14 00:00:00+00:00 t/m 2025-03-27 23:00:00+00:00\n",
      "2025-05-27 11:16:52,830 - build_training_set - INFO - 📅 Forecast van run_date 2025-03-28 00:00:00+00:00, target range: 2025-03-28 00:00:00+00:00 → 2025-04-03 23:00:00+00:00\n",
      "2025-05-27 11:16:52,847 - build_training_set - INFO - ✅ Actuals geladen: 1752 rijen\n",
      "2025-05-27 11:16:52,987 - build_training_set - INFO - ✅ Added actual prices to 168 forecast rows\n",
      "/Users/Twan/Library/Mobile Documents/com~apple~CloudDocs/Data Science/Data Projects EASI/ENEXIS/src/utils/build_training_set.py:106: FutureWarning: The behavior of DataFrame concatenation with empty or all-NA entries is deprecated. In a future version, this will no longer exclude empty or all-NA columns when determining the result dtypes. To retain the old behavior, exclude the relevant entries before the concat operation.\n",
      "  df_combined = pd.concat([df_actuals, df_preds], ignore_index=True)\n",
      "2025-05-27 11:16:52,996 - build_training_set - INFO - 📦 Eindtabel bevat: 1920 rijen, 31 kolommen\n",
      "2025-05-27 11:16:52,996 - build_training_set - INFO - 🧾 Kolommen: ['Price', 'target_datetime', 'Load', 'shortwave_radiation', 'temperature_2m', 'direct_normal_irradiance', 'diffuse_radiation', 'Flow_NO', 'yearday_cos', 'Flow_GB', 'month', 'is_dst', 'yearday_sin', 'is_non_working_day', 'hour_cos', 'is_weekend', 'cloud_cover', 'weekday_sin', 'hour_sin', 'weekday_cos', 'apparent_temperature', 'day_of_week', 'day_of_year', 'direct_radiation', 'hour', 'is_holiday', 'local_datetime', 'run_date', 'snowfall', 'wind_direction_10m', 'wind_speed_10m']\n",
      "2025-05-27 11:16:52,996 - build_training_set - INFO - ❓ Price NaN count: 0/1920 (0.0%)\n",
      "2025-05-27 11:16:53,008 - build_training_set - INFO - ✅ Opgeslagen als training_set in WARP.db\n",
      "2025-05-27 11:16:53,009 - build_training_set - INFO - 🔒 Verbinding gesloten\n"
     ]
    },
    {
     "name": "stdout",
     "output_type": "stream",
     "text": [
      "Day 13: ✅ 167 test rows, Run: 03-27\n"
     ]
    },
    {
     "name": "stderr",
     "output_type": "stream",
     "text": [
      "2025-05-27 11:16:53,127 - build_training_set - INFO - 🚀 Start build van trainingset\n",
      "2025-05-27 11:16:53,127 - build_training_set - INFO - 🧠 Actuals van 2025-01-15 00:00:00+00:00 t/m 2025-03-28 23:00:00+00:00\n",
      "2025-05-27 11:16:53,127 - build_training_set - INFO - 📅 Forecast van run_date 2025-03-29 00:00:00+00:00, target range: 2025-03-29 00:00:00+00:00 → 2025-04-04 23:00:00+00:00\n",
      "2025-05-27 11:16:53,145 - build_training_set - INFO - ✅ Actuals geladen: 1752 rijen\n",
      "2025-05-27 11:16:53,288 - build_training_set - INFO - ✅ Added actual prices to 168 forecast rows\n",
      "/Users/Twan/Library/Mobile Documents/com~apple~CloudDocs/Data Science/Data Projects EASI/ENEXIS/src/utils/build_training_set.py:106: FutureWarning: The behavior of DataFrame concatenation with empty or all-NA entries is deprecated. In a future version, this will no longer exclude empty or all-NA columns when determining the result dtypes. To retain the old behavior, exclude the relevant entries before the concat operation.\n",
      "  df_combined = pd.concat([df_actuals, df_preds], ignore_index=True)\n",
      "2025-05-27 11:16:53,298 - build_training_set - INFO - 📦 Eindtabel bevat: 1920 rijen, 31 kolommen\n",
      "2025-05-27 11:16:53,298 - build_training_set - INFO - 🧾 Kolommen: ['Price', 'target_datetime', 'Load', 'shortwave_radiation', 'temperature_2m', 'direct_normal_irradiance', 'diffuse_radiation', 'Flow_NO', 'yearday_cos', 'Flow_GB', 'month', 'is_dst', 'yearday_sin', 'is_non_working_day', 'hour_cos', 'is_weekend', 'cloud_cover', 'weekday_sin', 'hour_sin', 'weekday_cos', 'apparent_temperature', 'day_of_week', 'day_of_year', 'direct_radiation', 'hour', 'is_holiday', 'local_datetime', 'run_date', 'snowfall', 'wind_direction_10m', 'wind_speed_10m']\n",
      "2025-05-27 11:16:53,298 - build_training_set - INFO - ❓ Price NaN count: 0/1920 (0.0%)\n",
      "2025-05-27 11:16:53,310 - build_training_set - INFO - ✅ Opgeslagen als training_set in WARP.db\n",
      "2025-05-27 11:16:53,310 - build_training_set - INFO - 🔒 Verbinding gesloten\n"
     ]
    },
    {
     "name": "stdout",
     "output_type": "stream",
     "text": [
      "Day 14: ✅ 167 test rows, Run: 03-28\n"
     ]
    },
    {
     "name": "stderr",
     "output_type": "stream",
     "text": [
      "2025-05-27 11:16:53,425 - build_training_set - INFO - 🚀 Start build van trainingset\n",
      "2025-05-27 11:16:53,426 - build_training_set - INFO - 🧠 Actuals van 2025-01-16 00:00:00+00:00 t/m 2025-03-29 23:00:00+00:00\n",
      "2025-05-27 11:16:53,426 - build_training_set - INFO - 📅 Forecast van run_date 2025-03-30 00:00:00+00:00, target range: 2025-03-30 00:00:00+00:00 → 2025-04-05 23:00:00+00:00\n",
      "2025-05-27 11:16:53,444 - build_training_set - INFO - ✅ Actuals geladen: 1752 rijen\n",
      "2025-05-27 11:16:53,620 - build_training_set - INFO - ✅ Added actual prices to 168 forecast rows\n"
     ]
    },
    {
     "name": "stdout",
     "output_type": "stream",
     "text": [
      "Day 15: ✅ 167 test rows, Run: 03-29\n"
     ]
    },
    {
     "name": "stderr",
     "output_type": "stream",
     "text": [
      "/Users/Twan/Library/Mobile Documents/com~apple~CloudDocs/Data Science/Data Projects EASI/ENEXIS/src/utils/build_training_set.py:106: FutureWarning: The behavior of DataFrame concatenation with empty or all-NA entries is deprecated. In a future version, this will no longer exclude empty or all-NA columns when determining the result dtypes. To retain the old behavior, exclude the relevant entries before the concat operation.\n",
      "  df_combined = pd.concat([df_actuals, df_preds], ignore_index=True)\n",
      "2025-05-27 11:16:53,630 - build_training_set - INFO - 📦 Eindtabel bevat: 1920 rijen, 31 kolommen\n",
      "2025-05-27 11:16:53,630 - build_training_set - INFO - 🧾 Kolommen: ['Price', 'target_datetime', 'Load', 'shortwave_radiation', 'temperature_2m', 'direct_normal_irradiance', 'diffuse_radiation', 'Flow_NO', 'yearday_cos', 'Flow_GB', 'month', 'is_dst', 'yearday_sin', 'is_non_working_day', 'hour_cos', 'is_weekend', 'cloud_cover', 'weekday_sin', 'hour_sin', 'weekday_cos', 'apparent_temperature', 'day_of_week', 'day_of_year', 'direct_radiation', 'hour', 'is_holiday', 'local_datetime', 'run_date', 'snowfall', 'wind_direction_10m', 'wind_speed_10m']\n",
      "2025-05-27 11:16:53,630 - build_training_set - INFO - ❓ Price NaN count: 0/1920 (0.0%)\n",
      "2025-05-27 11:16:53,642 - build_training_set - INFO - ✅ Opgeslagen als training_set in WARP.db\n",
      "2025-05-27 11:16:53,642 - build_training_set - INFO - 🔒 Verbinding gesloten\n",
      "2025-05-27 11:16:53,761 - build_training_set - INFO - 🚀 Start build van trainingset\n",
      "2025-05-27 11:16:53,761 - build_training_set - INFO - 🧠 Actuals van 2025-01-17 00:00:00+00:00 t/m 2025-03-30 23:00:00+00:00\n",
      "2025-05-27 11:16:53,761 - build_training_set - INFO - 📅 Forecast van run_date 2025-03-31 00:00:00+00:00, target range: 2025-03-31 00:00:00+00:00 → 2025-04-06 23:00:00+00:00\n",
      "2025-05-27 11:16:53,778 - build_training_set - INFO - ✅ Actuals geladen: 1752 rijen\n",
      "2025-05-27 11:16:53,920 - build_training_set - INFO - ✅ Added actual prices to 168 forecast rows\n",
      "/Users/Twan/Library/Mobile Documents/com~apple~CloudDocs/Data Science/Data Projects EASI/ENEXIS/src/utils/build_training_set.py:106: FutureWarning: The behavior of DataFrame concatenation with empty or all-NA entries is deprecated. In a future version, this will no longer exclude empty or all-NA columns when determining the result dtypes. To retain the old behavior, exclude the relevant entries before the concat operation.\n",
      "  df_combined = pd.concat([df_actuals, df_preds], ignore_index=True)\n",
      "2025-05-27 11:16:53,929 - build_training_set - INFO - 📦 Eindtabel bevat: 1920 rijen, 31 kolommen\n",
      "2025-05-27 11:16:53,930 - build_training_set - INFO - 🧾 Kolommen: ['Price', 'target_datetime', 'Load', 'shortwave_radiation', 'temperature_2m', 'direct_normal_irradiance', 'diffuse_radiation', 'Flow_NO', 'yearday_cos', 'Flow_GB', 'month', 'is_dst', 'yearday_sin', 'is_non_working_day', 'hour_cos', 'is_weekend', 'cloud_cover', 'weekday_sin', 'hour_sin', 'weekday_cos', 'apparent_temperature', 'day_of_week', 'day_of_year', 'direct_radiation', 'hour', 'is_holiday', 'local_datetime', 'run_date', 'snowfall', 'wind_direction_10m', 'wind_speed_10m']\n",
      "2025-05-27 11:16:53,930 - build_training_set - INFO - ❓ Price NaN count: 0/1920 (0.0%)\n",
      "2025-05-27 11:16:53,942 - build_training_set - INFO - ✅ Opgeslagen als training_set in WARP.db\n",
      "2025-05-27 11:16:53,943 - build_training_set - INFO - 🔒 Verbinding gesloten\n"
     ]
    },
    {
     "name": "stdout",
     "output_type": "stream",
     "text": [
      "Day 16: ✅ 167 test rows, Run: 03-30\n"
     ]
    },
    {
     "name": "stderr",
     "output_type": "stream",
     "text": [
      "2025-05-27 11:16:54,051 - build_training_set - INFO - 🚀 Start build van trainingset\n",
      "2025-05-27 11:16:54,051 - build_training_set - INFO - 🧠 Actuals van 2025-01-18 00:00:00+00:00 t/m 2025-03-31 23:00:00+00:00\n",
      "2025-05-27 11:16:54,052 - build_training_set - INFO - 📅 Forecast van run_date 2025-04-01 00:00:00+00:00, target range: 2025-04-01 00:00:00+00:00 → 2025-04-07 23:00:00+00:00\n",
      "2025-05-27 11:16:54,068 - build_training_set - INFO - ✅ Actuals geladen: 1752 rijen\n",
      "2025-05-27 11:16:54,212 - build_training_set - INFO - ✅ Added actual prices to 168 forecast rows\n",
      "/Users/Twan/Library/Mobile Documents/com~apple~CloudDocs/Data Science/Data Projects EASI/ENEXIS/src/utils/build_training_set.py:106: FutureWarning: The behavior of DataFrame concatenation with empty or all-NA entries is deprecated. In a future version, this will no longer exclude empty or all-NA columns when determining the result dtypes. To retain the old behavior, exclude the relevant entries before the concat operation.\n",
      "  df_combined = pd.concat([df_actuals, df_preds], ignore_index=True)\n",
      "2025-05-27 11:16:54,221 - build_training_set - INFO - 📦 Eindtabel bevat: 1920 rijen, 31 kolommen\n",
      "2025-05-27 11:16:54,222 - build_training_set - INFO - 🧾 Kolommen: ['Price', 'target_datetime', 'Load', 'shortwave_radiation', 'temperature_2m', 'direct_normal_irradiance', 'diffuse_radiation', 'Flow_NO', 'yearday_cos', 'Flow_GB', 'month', 'is_dst', 'yearday_sin', 'is_non_working_day', 'hour_cos', 'is_weekend', 'cloud_cover', 'weekday_sin', 'hour_sin', 'weekday_cos', 'apparent_temperature', 'day_of_week', 'day_of_year', 'direct_radiation', 'hour', 'is_holiday', 'local_datetime', 'run_date', 'snowfall', 'wind_direction_10m', 'wind_speed_10m']\n",
      "2025-05-27 11:16:54,222 - build_training_set - INFO - ❓ Price NaN count: 0/1920 (0.0%)\n",
      "2025-05-27 11:16:54,236 - build_training_set - INFO - ✅ Opgeslagen als training_set in WARP.db\n",
      "2025-05-27 11:16:54,236 - build_training_set - INFO - 🔒 Verbinding gesloten\n"
     ]
    },
    {
     "name": "stdout",
     "output_type": "stream",
     "text": [
      "Day 17: ✅ 167 test rows, Run: 03-31\n"
     ]
    },
    {
     "name": "stderr",
     "output_type": "stream",
     "text": [
      "2025-05-27 11:16:54,362 - build_training_set - INFO - 🚀 Start build van trainingset\n",
      "2025-05-27 11:16:54,363 - build_training_set - INFO - 🧠 Actuals van 2025-01-19 00:00:00+00:00 t/m 2025-04-01 23:00:00+00:00\n",
      "2025-05-27 11:16:54,363 - build_training_set - INFO - 📅 Forecast van run_date 2025-04-02 00:00:00+00:00, target range: 2025-04-02 00:00:00+00:00 → 2025-04-08 23:00:00+00:00\n",
      "2025-05-27 11:16:54,382 - build_training_set - INFO - ✅ Actuals geladen: 1752 rijen\n",
      "2025-05-27 11:16:54,523 - build_training_set - INFO - ✅ Added actual prices to 168 forecast rows\n",
      "/Users/Twan/Library/Mobile Documents/com~apple~CloudDocs/Data Science/Data Projects EASI/ENEXIS/src/utils/build_training_set.py:106: FutureWarning: The behavior of DataFrame concatenation with empty or all-NA entries is deprecated. In a future version, this will no longer exclude empty or all-NA columns when determining the result dtypes. To retain the old behavior, exclude the relevant entries before the concat operation.\n",
      "  df_combined = pd.concat([df_actuals, df_preds], ignore_index=True)\n",
      "2025-05-27 11:16:54,531 - build_training_set - INFO - 📦 Eindtabel bevat: 1920 rijen, 31 kolommen\n",
      "2025-05-27 11:16:54,531 - build_training_set - INFO - 🧾 Kolommen: ['Price', 'target_datetime', 'Load', 'shortwave_radiation', 'temperature_2m', 'direct_normal_irradiance', 'diffuse_radiation', 'Flow_NO', 'yearday_cos', 'Flow_GB', 'month', 'is_dst', 'yearday_sin', 'is_non_working_day', 'hour_cos', 'is_weekend', 'cloud_cover', 'weekday_sin', 'hour_sin', 'weekday_cos', 'apparent_temperature', 'day_of_week', 'day_of_year', 'direct_radiation', 'hour', 'is_holiday', 'local_datetime', 'run_date', 'snowfall', 'wind_direction_10m', 'wind_speed_10m']\n",
      "2025-05-27 11:16:54,532 - build_training_set - INFO - ❓ Price NaN count: 0/1920 (0.0%)\n",
      "2025-05-27 11:16:54,543 - build_training_set - INFO - ✅ Opgeslagen als training_set in WARP.db\n",
      "2025-05-27 11:16:54,543 - build_training_set - INFO - 🔒 Verbinding gesloten\n"
     ]
    },
    {
     "name": "stdout",
     "output_type": "stream",
     "text": [
      "Day 18: ✅ 167 test rows, Run: 04-01\n"
     ]
    },
    {
     "name": "stderr",
     "output_type": "stream",
     "text": [
      "2025-05-27 11:16:54,713 - build_training_set - INFO - 🚀 Start build van trainingset\n",
      "2025-05-27 11:16:54,713 - build_training_set - INFO - 🧠 Actuals van 2025-01-20 00:00:00+00:00 t/m 2025-04-02 23:00:00+00:00\n",
      "2025-05-27 11:16:54,713 - build_training_set - INFO - 📅 Forecast van run_date 2025-04-03 00:00:00+00:00, target range: 2025-04-03 00:00:00+00:00 → 2025-04-09 23:00:00+00:00\n",
      "2025-05-27 11:16:54,731 - build_training_set - INFO - ✅ Actuals geladen: 1752 rijen\n",
      "2025-05-27 11:16:54,908 - build_training_set - INFO - ✅ Added actual prices to 168 forecast rows\n"
     ]
    },
    {
     "name": "stdout",
     "output_type": "stream",
     "text": [
      "Day 19: ✅ 167 test rows, Run: 04-02\n"
     ]
    },
    {
     "name": "stderr",
     "output_type": "stream",
     "text": [
      "/Users/Twan/Library/Mobile Documents/com~apple~CloudDocs/Data Science/Data Projects EASI/ENEXIS/src/utils/build_training_set.py:106: FutureWarning: The behavior of DataFrame concatenation with empty or all-NA entries is deprecated. In a future version, this will no longer exclude empty or all-NA columns when determining the result dtypes. To retain the old behavior, exclude the relevant entries before the concat operation.\n",
      "  df_combined = pd.concat([df_actuals, df_preds], ignore_index=True)\n",
      "2025-05-27 11:16:54,917 - build_training_set - INFO - 📦 Eindtabel bevat: 1920 rijen, 31 kolommen\n",
      "2025-05-27 11:16:54,917 - build_training_set - INFO - 🧾 Kolommen: ['Price', 'target_datetime', 'Load', 'shortwave_radiation', 'temperature_2m', 'direct_normal_irradiance', 'diffuse_radiation', 'Flow_NO', 'yearday_cos', 'Flow_GB', 'month', 'is_dst', 'yearday_sin', 'is_non_working_day', 'hour_cos', 'is_weekend', 'cloud_cover', 'weekday_sin', 'hour_sin', 'weekday_cos', 'apparent_temperature', 'day_of_week', 'day_of_year', 'direct_radiation', 'hour', 'is_holiday', 'local_datetime', 'run_date', 'snowfall', 'wind_direction_10m', 'wind_speed_10m']\n",
      "2025-05-27 11:16:54,917 - build_training_set - INFO - ❓ Price NaN count: 0/1920 (0.0%)\n",
      "2025-05-27 11:16:54,929 - build_training_set - INFO - ✅ Opgeslagen als training_set in WARP.db\n",
      "2025-05-27 11:16:54,930 - build_training_set - INFO - 🔒 Verbinding gesloten\n",
      "2025-05-27 11:16:55,045 - build_training_set - INFO - 🚀 Start build van trainingset\n",
      "2025-05-27 11:16:55,045 - build_training_set - INFO - 🧠 Actuals van 2025-01-21 00:00:00+00:00 t/m 2025-04-03 23:00:00+00:00\n",
      "2025-05-27 11:16:55,046 - build_training_set - INFO - 📅 Forecast van run_date 2025-04-04 00:00:00+00:00, target range: 2025-04-04 00:00:00+00:00 → 2025-04-10 23:00:00+00:00\n",
      "2025-05-27 11:16:55,061 - build_training_set - INFO - ✅ Actuals geladen: 1752 rijen\n",
      "2025-05-27 11:16:55,203 - build_training_set - INFO - ✅ Added actual prices to 168 forecast rows\n",
      "/Users/Twan/Library/Mobile Documents/com~apple~CloudDocs/Data Science/Data Projects EASI/ENEXIS/src/utils/build_training_set.py:106: FutureWarning: The behavior of DataFrame concatenation with empty or all-NA entries is deprecated. In a future version, this will no longer exclude empty or all-NA columns when determining the result dtypes. To retain the old behavior, exclude the relevant entries before the concat operation.\n",
      "  df_combined = pd.concat([df_actuals, df_preds], ignore_index=True)\n",
      "2025-05-27 11:16:55,211 - build_training_set - INFO - 📦 Eindtabel bevat: 1920 rijen, 31 kolommen\n",
      "2025-05-27 11:16:55,211 - build_training_set - INFO - 🧾 Kolommen: ['Price', 'target_datetime', 'Load', 'shortwave_radiation', 'temperature_2m', 'direct_normal_irradiance', 'diffuse_radiation', 'Flow_NO', 'yearday_cos', 'Flow_GB', 'month', 'is_dst', 'yearday_sin', 'is_non_working_day', 'hour_cos', 'is_weekend', 'cloud_cover', 'weekday_sin', 'hour_sin', 'weekday_cos', 'apparent_temperature', 'day_of_week', 'day_of_year', 'direct_radiation', 'hour', 'is_holiday', 'local_datetime', 'run_date', 'snowfall', 'wind_direction_10m', 'wind_speed_10m']\n",
      "2025-05-27 11:16:55,212 - build_training_set - INFO - ❓ Price NaN count: 0/1920 (0.0%)\n",
      "2025-05-27 11:16:55,224 - build_training_set - INFO - ✅ Opgeslagen als training_set in WARP.db\n",
      "2025-05-27 11:16:55,225 - build_training_set - INFO - 🔒 Verbinding gesloten\n"
     ]
    },
    {
     "name": "stdout",
     "output_type": "stream",
     "text": [
      "Day 20: ✅ 167 test rows, Run: 04-03\n"
     ]
    },
    {
     "name": "stderr",
     "output_type": "stream",
     "text": [
      "2025-05-27 11:16:55,342 - build_training_set - INFO - 🚀 Start build van trainingset\n",
      "2025-05-27 11:16:55,342 - build_training_set - INFO - 🧠 Actuals van 2025-01-22 00:00:00+00:00 t/m 2025-04-04 23:00:00+00:00\n",
      "2025-05-27 11:16:55,342 - build_training_set - INFO - 📅 Forecast van run_date 2025-04-05 00:00:00+00:00, target range: 2025-04-05 00:00:00+00:00 → 2025-04-11 23:00:00+00:00\n",
      "2025-05-27 11:16:55,359 - build_training_set - INFO - ✅ Actuals geladen: 1752 rijen\n",
      "2025-05-27 11:16:55,500 - build_training_set - INFO - ✅ Added actual prices to 168 forecast rows\n",
      "/Users/Twan/Library/Mobile Documents/com~apple~CloudDocs/Data Science/Data Projects EASI/ENEXIS/src/utils/build_training_set.py:106: FutureWarning: The behavior of DataFrame concatenation with empty or all-NA entries is deprecated. In a future version, this will no longer exclude empty or all-NA columns when determining the result dtypes. To retain the old behavior, exclude the relevant entries before the concat operation.\n",
      "  df_combined = pd.concat([df_actuals, df_preds], ignore_index=True)\n",
      "2025-05-27 11:16:55,509 - build_training_set - INFO - 📦 Eindtabel bevat: 1920 rijen, 31 kolommen\n",
      "2025-05-27 11:16:55,509 - build_training_set - INFO - 🧾 Kolommen: ['Price', 'target_datetime', 'Load', 'shortwave_radiation', 'temperature_2m', 'direct_normal_irradiance', 'diffuse_radiation', 'Flow_NO', 'yearday_cos', 'Flow_GB', 'month', 'is_dst', 'yearday_sin', 'is_non_working_day', 'hour_cos', 'is_weekend', 'cloud_cover', 'weekday_sin', 'hour_sin', 'weekday_cos', 'apparent_temperature', 'day_of_week', 'day_of_year', 'direct_radiation', 'hour', 'is_holiday', 'local_datetime', 'run_date', 'snowfall', 'wind_direction_10m', 'wind_speed_10m']\n",
      "2025-05-27 11:16:55,510 - build_training_set - INFO - ❓ Price NaN count: 0/1920 (0.0%)\n",
      "2025-05-27 11:16:55,521 - build_training_set - INFO - ✅ Opgeslagen als training_set in WARP.db\n",
      "2025-05-27 11:16:55,522 - build_training_set - INFO - 🔒 Verbinding gesloten\n"
     ]
    },
    {
     "name": "stdout",
     "output_type": "stream",
     "text": [
      "Day 21: ✅ 167 test rows, Run: 04-04\n"
     ]
    },
    {
     "name": "stderr",
     "output_type": "stream",
     "text": [
      "2025-05-27 11:16:55,650 - build_training_set - INFO - 🚀 Start build van trainingset\n",
      "2025-05-27 11:16:55,650 - build_training_set - INFO - 🧠 Actuals van 2025-01-23 00:00:00+00:00 t/m 2025-04-05 23:00:00+00:00\n",
      "2025-05-27 11:16:55,650 - build_training_set - INFO - 📅 Forecast van run_date 2025-04-06 00:00:00+00:00, target range: 2025-04-06 00:00:00+00:00 → 2025-04-12 23:00:00+00:00\n",
      "2025-05-27 11:16:55,669 - build_training_set - INFO - ✅ Actuals geladen: 1752 rijen\n",
      "2025-05-27 11:16:55,814 - build_training_set - INFO - ✅ Added actual prices to 168 forecast rows\n",
      "/Users/Twan/Library/Mobile Documents/com~apple~CloudDocs/Data Science/Data Projects EASI/ENEXIS/src/utils/build_training_set.py:106: FutureWarning: The behavior of DataFrame concatenation with empty or all-NA entries is deprecated. In a future version, this will no longer exclude empty or all-NA columns when determining the result dtypes. To retain the old behavior, exclude the relevant entries before the concat operation.\n",
      "  df_combined = pd.concat([df_actuals, df_preds], ignore_index=True)\n",
      "2025-05-27 11:16:55,822 - build_training_set - INFO - 📦 Eindtabel bevat: 1920 rijen, 31 kolommen\n",
      "2025-05-27 11:16:55,822 - build_training_set - INFO - 🧾 Kolommen: ['Price', 'target_datetime', 'Load', 'shortwave_radiation', 'temperature_2m', 'direct_normal_irradiance', 'diffuse_radiation', 'Flow_NO', 'yearday_cos', 'Flow_GB', 'month', 'is_dst', 'yearday_sin', 'is_non_working_day', 'hour_cos', 'is_weekend', 'cloud_cover', 'weekday_sin', 'hour_sin', 'weekday_cos', 'apparent_temperature', 'day_of_week', 'day_of_year', 'direct_radiation', 'hour', 'is_holiday', 'local_datetime', 'run_date', 'snowfall', 'wind_direction_10m', 'wind_speed_10m']\n",
      "2025-05-27 11:16:55,823 - build_training_set - INFO - ❓ Price NaN count: 0/1920 (0.0%)\n",
      "2025-05-27 11:16:55,834 - build_training_set - INFO - ✅ Opgeslagen als training_set in WARP.db\n",
      "2025-05-27 11:16:55,835 - build_training_set - INFO - 🔒 Verbinding gesloten\n"
     ]
    },
    {
     "name": "stdout",
     "output_type": "stream",
     "text": [
      "Day 22: ✅ 167 test rows, Run: 04-05\n"
     ]
    },
    {
     "name": "stderr",
     "output_type": "stream",
     "text": [
      "2025-05-27 11:16:55,952 - build_training_set - INFO - 🚀 Start build van trainingset\n",
      "2025-05-27 11:16:55,953 - build_training_set - INFO - 🧠 Actuals van 2025-01-24 00:00:00+00:00 t/m 2025-04-06 23:00:00+00:00\n",
      "2025-05-27 11:16:55,953 - build_training_set - INFO - 📅 Forecast van run_date 2025-04-07 00:00:00+00:00, target range: 2025-04-07 00:00:00+00:00 → 2025-04-13 23:00:00+00:00\n",
      "2025-05-27 11:16:55,973 - build_training_set - INFO - ✅ Actuals geladen: 1752 rijen\n",
      "2025-05-27 11:16:56,146 - build_training_set - INFO - ✅ Added actual prices to 168 forecast rows\n"
     ]
    },
    {
     "name": "stdout",
     "output_type": "stream",
     "text": [
      "Day 23: ✅ 167 test rows, Run: 04-06\n"
     ]
    },
    {
     "name": "stderr",
     "output_type": "stream",
     "text": [
      "/Users/Twan/Library/Mobile Documents/com~apple~CloudDocs/Data Science/Data Projects EASI/ENEXIS/src/utils/build_training_set.py:106: FutureWarning: The behavior of DataFrame concatenation with empty or all-NA entries is deprecated. In a future version, this will no longer exclude empty or all-NA columns when determining the result dtypes. To retain the old behavior, exclude the relevant entries before the concat operation.\n",
      "  df_combined = pd.concat([df_actuals, df_preds], ignore_index=True)\n",
      "2025-05-27 11:16:56,155 - build_training_set - INFO - 📦 Eindtabel bevat: 1920 rijen, 31 kolommen\n",
      "2025-05-27 11:16:56,156 - build_training_set - INFO - 🧾 Kolommen: ['Price', 'target_datetime', 'Load', 'shortwave_radiation', 'temperature_2m', 'direct_normal_irradiance', 'diffuse_radiation', 'Flow_NO', 'yearday_cos', 'Flow_GB', 'month', 'is_dst', 'yearday_sin', 'is_non_working_day', 'hour_cos', 'is_weekend', 'cloud_cover', 'weekday_sin', 'hour_sin', 'weekday_cos', 'apparent_temperature', 'day_of_week', 'day_of_year', 'direct_radiation', 'hour', 'is_holiday', 'local_datetime', 'run_date', 'snowfall', 'wind_direction_10m', 'wind_speed_10m']\n",
      "2025-05-27 11:16:56,156 - build_training_set - INFO - ❓ Price NaN count: 0/1920 (0.0%)\n",
      "2025-05-27 11:16:56,169 - build_training_set - INFO - ✅ Opgeslagen als training_set in WARP.db\n",
      "2025-05-27 11:16:56,170 - build_training_set - INFO - 🔒 Verbinding gesloten\n",
      "2025-05-27 11:16:56,288 - build_training_set - INFO - 🚀 Start build van trainingset\n",
      "2025-05-27 11:16:56,288 - build_training_set - INFO - 🧠 Actuals van 2025-01-25 00:00:00+00:00 t/m 2025-04-07 23:00:00+00:00\n",
      "2025-05-27 11:16:56,288 - build_training_set - INFO - 📅 Forecast van run_date 2025-04-08 00:00:00+00:00, target range: 2025-04-08 00:00:00+00:00 → 2025-04-14 23:00:00+00:00\n",
      "2025-05-27 11:16:56,305 - build_training_set - INFO - ✅ Actuals geladen: 1752 rijen\n",
      "2025-05-27 11:16:56,447 - build_training_set - INFO - ✅ Added actual prices to 168 forecast rows\n",
      "/Users/Twan/Library/Mobile Documents/com~apple~CloudDocs/Data Science/Data Projects EASI/ENEXIS/src/utils/build_training_set.py:106: FutureWarning: The behavior of DataFrame concatenation with empty or all-NA entries is deprecated. In a future version, this will no longer exclude empty or all-NA columns when determining the result dtypes. To retain the old behavior, exclude the relevant entries before the concat operation.\n",
      "  df_combined = pd.concat([df_actuals, df_preds], ignore_index=True)\n",
      "2025-05-27 11:16:56,456 - build_training_set - INFO - 📦 Eindtabel bevat: 1920 rijen, 31 kolommen\n",
      "2025-05-27 11:16:56,456 - build_training_set - INFO - 🧾 Kolommen: ['Price', 'target_datetime', 'Load', 'shortwave_radiation', 'temperature_2m', 'direct_normal_irradiance', 'diffuse_radiation', 'Flow_NO', 'yearday_cos', 'Flow_GB', 'month', 'is_dst', 'yearday_sin', 'is_non_working_day', 'hour_cos', 'is_weekend', 'cloud_cover', 'weekday_sin', 'hour_sin', 'weekday_cos', 'apparent_temperature', 'day_of_week', 'day_of_year', 'direct_radiation', 'hour', 'is_holiday', 'local_datetime', 'run_date', 'snowfall', 'wind_direction_10m', 'wind_speed_10m']\n",
      "2025-05-27 11:16:56,457 - build_training_set - INFO - ❓ Price NaN count: 0/1920 (0.0%)\n",
      "2025-05-27 11:16:56,468 - build_training_set - INFO - ✅ Opgeslagen als training_set in WARP.db\n",
      "2025-05-27 11:16:56,469 - build_training_set - INFO - 🔒 Verbinding gesloten\n"
     ]
    },
    {
     "name": "stdout",
     "output_type": "stream",
     "text": [
      "Day 24: ✅ 167 test rows, Run: 04-07\n"
     ]
    },
    {
     "name": "stderr",
     "output_type": "stream",
     "text": [
      "2025-05-27 11:16:56,586 - build_training_set - INFO - 🚀 Start build van trainingset\n",
      "2025-05-27 11:16:56,587 - build_training_set - INFO - 🧠 Actuals van 2025-01-26 00:00:00+00:00 t/m 2025-04-08 23:00:00+00:00\n",
      "2025-05-27 11:16:56,587 - build_training_set - INFO - 📅 Forecast van run_date 2025-04-09 00:00:00+00:00, target range: 2025-04-09 00:00:00+00:00 → 2025-04-15 23:00:00+00:00\n",
      "2025-05-27 11:16:56,605 - build_training_set - INFO - ✅ Actuals geladen: 1752 rijen\n",
      "2025-05-27 11:16:56,749 - build_training_set - INFO - ✅ Added actual prices to 168 forecast rows\n",
      "/Users/Twan/Library/Mobile Documents/com~apple~CloudDocs/Data Science/Data Projects EASI/ENEXIS/src/utils/build_training_set.py:106: FutureWarning: The behavior of DataFrame concatenation with empty or all-NA entries is deprecated. In a future version, this will no longer exclude empty or all-NA columns when determining the result dtypes. To retain the old behavior, exclude the relevant entries before the concat operation.\n",
      "  df_combined = pd.concat([df_actuals, df_preds], ignore_index=True)\n",
      "2025-05-27 11:16:56,758 - build_training_set - INFO - 📦 Eindtabel bevat: 1920 rijen, 31 kolommen\n",
      "2025-05-27 11:16:56,758 - build_training_set - INFO - 🧾 Kolommen: ['Price', 'target_datetime', 'Load', 'shortwave_radiation', 'temperature_2m', 'direct_normal_irradiance', 'diffuse_radiation', 'Flow_NO', 'yearday_cos', 'Flow_GB', 'month', 'is_dst', 'yearday_sin', 'is_non_working_day', 'hour_cos', 'is_weekend', 'cloud_cover', 'weekday_sin', 'hour_sin', 'weekday_cos', 'apparent_temperature', 'day_of_week', 'day_of_year', 'direct_radiation', 'hour', 'is_holiday', 'local_datetime', 'run_date', 'snowfall', 'wind_direction_10m', 'wind_speed_10m']\n",
      "2025-05-27 11:16:56,759 - build_training_set - INFO - ❓ Price NaN count: 0/1920 (0.0%)\n",
      "2025-05-27 11:16:56,770 - build_training_set - INFO - ✅ Opgeslagen als training_set in WARP.db\n",
      "2025-05-27 11:16:56,771 - build_training_set - INFO - 🔒 Verbinding gesloten\n"
     ]
    },
    {
     "name": "stdout",
     "output_type": "stream",
     "text": [
      "Day 25: ✅ 167 test rows, Run: 04-08\n"
     ]
    },
    {
     "name": "stderr",
     "output_type": "stream",
     "text": [
      "2025-05-27 11:16:56,893 - build_training_set - INFO - 🚀 Start build van trainingset\n",
      "2025-05-27 11:16:56,894 - build_training_set - INFO - 🧠 Actuals van 2025-01-27 00:00:00+00:00 t/m 2025-04-09 23:00:00+00:00\n",
      "2025-05-27 11:16:56,894 - build_training_set - INFO - 📅 Forecast van run_date 2025-04-10 00:00:00+00:00, target range: 2025-04-10 00:00:00+00:00 → 2025-04-16 23:00:00+00:00\n",
      "2025-05-27 11:16:56,913 - build_training_set - INFO - ✅ Actuals geladen: 1752 rijen\n",
      "2025-05-27 11:16:57,055 - build_training_set - INFO - ✅ Added actual prices to 168 forecast rows\n",
      "/Users/Twan/Library/Mobile Documents/com~apple~CloudDocs/Data Science/Data Projects EASI/ENEXIS/src/utils/build_training_set.py:106: FutureWarning: The behavior of DataFrame concatenation with empty or all-NA entries is deprecated. In a future version, this will no longer exclude empty or all-NA columns when determining the result dtypes. To retain the old behavior, exclude the relevant entries before the concat operation.\n",
      "  df_combined = pd.concat([df_actuals, df_preds], ignore_index=True)\n",
      "2025-05-27 11:16:57,064 - build_training_set - INFO - 📦 Eindtabel bevat: 1920 rijen, 31 kolommen\n",
      "2025-05-27 11:16:57,064 - build_training_set - INFO - 🧾 Kolommen: ['Price', 'target_datetime', 'Load', 'shortwave_radiation', 'temperature_2m', 'direct_normal_irradiance', 'diffuse_radiation', 'Flow_NO', 'yearday_cos', 'Flow_GB', 'month', 'is_dst', 'yearday_sin', 'is_non_working_day', 'hour_cos', 'is_weekend', 'cloud_cover', 'weekday_sin', 'hour_sin', 'weekday_cos', 'apparent_temperature', 'day_of_week', 'day_of_year', 'direct_radiation', 'hour', 'is_holiday', 'local_datetime', 'run_date', 'snowfall', 'wind_direction_10m', 'wind_speed_10m']\n",
      "2025-05-27 11:16:57,065 - build_training_set - INFO - ❓ Price NaN count: 0/1920 (0.0%)\n",
      "2025-05-27 11:16:57,076 - build_training_set - INFO - ✅ Opgeslagen als training_set in WARP.db\n",
      "2025-05-27 11:16:57,077 - build_training_set - INFO - 🔒 Verbinding gesloten\n"
     ]
    },
    {
     "name": "stdout",
     "output_type": "stream",
     "text": [
      "Day 26: ✅ 167 test rows, Run: 04-09\n"
     ]
    },
    {
     "name": "stderr",
     "output_type": "stream",
     "text": [
      "2025-05-27 11:16:57,199 - build_training_set - INFO - 🚀 Start build van trainingset\n",
      "2025-05-27 11:16:57,199 - build_training_set - INFO - 🧠 Actuals van 2025-01-28 00:00:00+00:00 t/m 2025-04-10 23:00:00+00:00\n",
      "2025-05-27 11:16:57,200 - build_training_set - INFO - 📅 Forecast van run_date 2025-04-11 00:00:00+00:00, target range: 2025-04-11 00:00:00+00:00 → 2025-04-17 23:00:00+00:00\n",
      "2025-05-27 11:16:57,240 - build_training_set - INFO - ✅ Actuals geladen: 1752 rijen\n",
      "2025-05-27 11:16:57,395 - build_training_set - INFO - ✅ Added actual prices to 168 forecast rows\n"
     ]
    },
    {
     "name": "stdout",
     "output_type": "stream",
     "text": [
      "Day 27: ✅ 167 test rows, Run: 04-10\n"
     ]
    },
    {
     "name": "stderr",
     "output_type": "stream",
     "text": [
      "/Users/Twan/Library/Mobile Documents/com~apple~CloudDocs/Data Science/Data Projects EASI/ENEXIS/src/utils/build_training_set.py:106: FutureWarning: The behavior of DataFrame concatenation with empty or all-NA entries is deprecated. In a future version, this will no longer exclude empty or all-NA columns when determining the result dtypes. To retain the old behavior, exclude the relevant entries before the concat operation.\n",
      "  df_combined = pd.concat([df_actuals, df_preds], ignore_index=True)\n",
      "2025-05-27 11:16:57,404 - build_training_set - INFO - 📦 Eindtabel bevat: 1920 rijen, 31 kolommen\n",
      "2025-05-27 11:16:57,404 - build_training_set - INFO - 🧾 Kolommen: ['Price', 'target_datetime', 'Load', 'shortwave_radiation', 'temperature_2m', 'direct_normal_irradiance', 'diffuse_radiation', 'Flow_NO', 'yearday_cos', 'Flow_GB', 'month', 'is_dst', 'yearday_sin', 'is_non_working_day', 'hour_cos', 'is_weekend', 'cloud_cover', 'weekday_sin', 'hour_sin', 'weekday_cos', 'apparent_temperature', 'day_of_week', 'day_of_year', 'direct_radiation', 'hour', 'is_holiday', 'local_datetime', 'run_date', 'snowfall', 'wind_direction_10m', 'wind_speed_10m']\n",
      "2025-05-27 11:16:57,405 - build_training_set - INFO - ❓ Price NaN count: 0/1920 (0.0%)\n",
      "2025-05-27 11:16:57,417 - build_training_set - INFO - ✅ Opgeslagen als training_set in WARP.db\n",
      "2025-05-27 11:16:57,419 - build_training_set - INFO - 🔒 Verbinding gesloten\n",
      "2025-05-27 11:16:57,537 - build_training_set - INFO - 🚀 Start build van trainingset\n",
      "2025-05-27 11:16:57,537 - build_training_set - INFO - 🧠 Actuals van 2025-01-29 00:00:00+00:00 t/m 2025-04-11 23:00:00+00:00\n",
      "2025-05-27 11:16:57,537 - build_training_set - INFO - 📅 Forecast van run_date 2025-04-12 00:00:00+00:00, target range: 2025-04-12 00:00:00+00:00 → 2025-04-18 23:00:00+00:00\n",
      "2025-05-27 11:16:57,553 - build_training_set - INFO - ✅ Actuals geladen: 1752 rijen\n",
      "2025-05-27 11:16:57,695 - build_training_set - INFO - ✅ Added actual prices to 168 forecast rows\n",
      "/Users/Twan/Library/Mobile Documents/com~apple~CloudDocs/Data Science/Data Projects EASI/ENEXIS/src/utils/build_training_set.py:106: FutureWarning: The behavior of DataFrame concatenation with empty or all-NA entries is deprecated. In a future version, this will no longer exclude empty or all-NA columns when determining the result dtypes. To retain the old behavior, exclude the relevant entries before the concat operation.\n",
      "  df_combined = pd.concat([df_actuals, df_preds], ignore_index=True)\n",
      "2025-05-27 11:16:57,704 - build_training_set - INFO - 📦 Eindtabel bevat: 1920 rijen, 31 kolommen\n",
      "2025-05-27 11:16:57,704 - build_training_set - INFO - 🧾 Kolommen: ['Price', 'target_datetime', 'Load', 'shortwave_radiation', 'temperature_2m', 'direct_normal_irradiance', 'diffuse_radiation', 'Flow_NO', 'yearday_cos', 'Flow_GB', 'month', 'is_dst', 'yearday_sin', 'is_non_working_day', 'hour_cos', 'is_weekend', 'cloud_cover', 'weekday_sin', 'hour_sin', 'weekday_cos', 'apparent_temperature', 'day_of_week', 'day_of_year', 'direct_radiation', 'hour', 'is_holiday', 'local_datetime', 'run_date', 'snowfall', 'wind_direction_10m', 'wind_speed_10m']\n",
      "2025-05-27 11:16:57,704 - build_training_set - INFO - ❓ Price NaN count: 0/1920 (0.0%)\n",
      "2025-05-27 11:16:57,716 - build_training_set - INFO - ✅ Opgeslagen als training_set in WARP.db\n",
      "2025-05-27 11:16:57,717 - build_training_set - INFO - 🔒 Verbinding gesloten\n"
     ]
    },
    {
     "name": "stdout",
     "output_type": "stream",
     "text": [
      "Day 28: ✅ 167 test rows, Run: 04-11\n"
     ]
    },
    {
     "name": "stderr",
     "output_type": "stream",
     "text": [
      "2025-05-27 11:16:57,837 - build_training_set - INFO - 🚀 Start build van trainingset\n",
      "2025-05-27 11:16:57,837 - build_training_set - INFO - 🧠 Actuals van 2025-01-30 00:00:00+00:00 t/m 2025-04-12 23:00:00+00:00\n",
      "2025-05-27 11:16:57,838 - build_training_set - INFO - 📅 Forecast van run_date 2025-04-13 00:00:00+00:00, target range: 2025-04-13 00:00:00+00:00 → 2025-04-19 23:00:00+00:00\n",
      "2025-05-27 11:16:57,855 - build_training_set - INFO - ✅ Actuals geladen: 1752 rijen\n",
      "2025-05-27 11:16:57,995 - build_training_set - INFO - ✅ Added actual prices to 168 forecast rows\n",
      "/Users/Twan/Library/Mobile Documents/com~apple~CloudDocs/Data Science/Data Projects EASI/ENEXIS/src/utils/build_training_set.py:106: FutureWarning: The behavior of DataFrame concatenation with empty or all-NA entries is deprecated. In a future version, this will no longer exclude empty or all-NA columns when determining the result dtypes. To retain the old behavior, exclude the relevant entries before the concat operation.\n",
      "  df_combined = pd.concat([df_actuals, df_preds], ignore_index=True)\n",
      "2025-05-27 11:16:58,003 - build_training_set - INFO - 📦 Eindtabel bevat: 1920 rijen, 31 kolommen\n",
      "2025-05-27 11:16:58,004 - build_training_set - INFO - 🧾 Kolommen: ['Price', 'target_datetime', 'Load', 'shortwave_radiation', 'temperature_2m', 'direct_normal_irradiance', 'diffuse_radiation', 'Flow_NO', 'yearday_cos', 'Flow_GB', 'month', 'is_dst', 'yearday_sin', 'is_non_working_day', 'hour_cos', 'is_weekend', 'cloud_cover', 'weekday_sin', 'hour_sin', 'weekday_cos', 'apparent_temperature', 'day_of_week', 'day_of_year', 'direct_radiation', 'hour', 'is_holiday', 'local_datetime', 'run_date', 'snowfall', 'wind_direction_10m', 'wind_speed_10m']\n",
      "2025-05-27 11:16:58,004 - build_training_set - INFO - ❓ Price NaN count: 0/1920 (0.0%)\n",
      "2025-05-27 11:16:58,016 - build_training_set - INFO - ✅ Opgeslagen als training_set in WARP.db\n",
      "2025-05-27 11:16:58,016 - build_training_set - INFO - 🔒 Verbinding gesloten\n"
     ]
    },
    {
     "name": "stdout",
     "output_type": "stream",
     "text": [
      "Day 29: ✅ 167 test rows, Run: 04-12\n",
      "Day 30: ✅ 167 test rows, Run: 04-13\n",
      "\n",
      "📊 OVERALL RMSE - XGBoost Model\n",
      "================================================================================\n",
      "Successful runs: 30/30\n",
      " iteration   run_date  valid_predictions  rmse\n",
      "         1 2025-03-15                167  0.08\n",
      "         2 2025-03-16                167  0.09\n",
      "         3 2025-03-17                167  0.09\n",
      "         4 2025-03-18                167  0.08\n",
      "         5 2025-03-19                167  0.08\n",
      "         6 2025-03-20                167  0.08\n",
      "         7 2025-03-21                167  0.07\n",
      "         8 2025-03-22                167  0.08\n",
      "         9 2025-03-23                167  0.06\n",
      "        10 2025-03-24                167  0.07\n",
      "        11 2025-03-25                167  0.09\n",
      "        12 2025-03-26                167  0.09\n",
      "        13 2025-03-27                167  0.10\n",
      "        14 2025-03-28                167  0.11\n",
      "        15 2025-03-29                167  0.09\n",
      "        16 2025-03-30                167  0.10\n",
      "        17 2025-03-31                167  0.10\n",
      "        18 2025-04-01                167  0.11\n",
      "        19 2025-04-02                167  0.10\n",
      "        20 2025-04-03                167  0.10\n",
      "        21 2025-04-04                167  0.07\n",
      "        22 2025-04-05                167  0.07\n",
      "        23 2025-04-06                167  0.06\n",
      "        24 2025-04-07                167  0.07\n",
      "        25 2025-04-08                167  0.06\n",
      "        26 2025-04-09                167  0.06\n",
      "        27 2025-04-10                167  0.05\n",
      "        28 2025-04-11                167  0.06\n",
      "        29 2025-04-12                167  0.07\n",
      "        30 2025-04-13                167  0.08\n",
      "\n",
      "📈 SUMMARY STATISTICS\n",
      "----------------------------------------\n",
      "count    30.00\n",
      "mean      0.08\n",
      "std       0.02\n",
      "min       0.05\n",
      "25%       0.07\n",
      "50%       0.08\n",
      "75%       0.09\n",
      "max       0.11\n",
      "Name: rmse, dtype: float64\n",
      "\n",
      "📊 AVERAGE OVERALL RMSE\n",
      "----------------------------------------\n",
      "Mean RMSE: 0.08\n"
     ]
    }
   ],
   "source": [
    "import pandas as pd\n",
    "import numpy as np\n",
    "import xgboost as xgb\n",
    "from sklearn.metrics import mean_squared_error\n",
    "# Dynamic path setup\n",
    "import sys\n",
    "from pathlib import Path\n",
    "\n",
    "# Find project root dynamically\n",
    "current_dir = Path.cwd()\n",
    "while current_dir.name != \"ENEXIS\" and current_dir.parent != current_dir:\n",
    "    current_dir = current_dir.parent\n",
    "project_root = current_dir\n",
    "\n",
    "# Add utils to path\n",
    "utils_path = project_root / \"src\" / \"utils\"\n",
    "sys.path.append(str(utils_path))\n",
    "from build_training_set import build_training_set\n",
    "\n",
    "# Define feature columns and target\n",
    "COMMON_FEATURES = ['is_dst', 'hour_cos', 'hour_sin','month','is_non_working_day','shortwave_radiation', 'temperature_2m'\n",
    "    ]\n",
    "# list of all available features 'cloud_cover', 'direct_normal_irradiance', 'diffuse_radiation','hour_cos', 'hour_sin', 'is_dst', 'is_non_working_day','is_weekend', 'month', 'shortwave_radiation','temperature_2m', 'yearday_cos', 'yearday_sin'\n",
    "TRAIN_ONLY_FEATURES = ['Load','Flow_NO']  # <- Only used if known ex post\n",
    "\n",
    "TRAIN_FEATURES = COMMON_FEATURES + TRAIN_ONLY_FEATURES\n",
    "TEST_FEATURES = COMMON_FEATURES\n",
    "\n",
    "\n",
    "target = 'Price'\n",
    "\n",
    "# Initial training window\n",
    "base_start = \"2025-01-01 00:00:00\"\n",
    "base_end = \"2025-03-14 23:00:00\"\n",
    "base_run = \"2025-03-15 00:00:00\"\n",
    "\n",
    "rmse_results = []\n",
    "\n",
    "print(\"🔍 Testing XGBoost Model - RMSE per forecast day\")\n",
    "print(\"=\" * 60)\n",
    "\n",
    "for i in range(30):\n",
    "    start = pd.Timestamp(base_start) + pd.Timedelta(days=i)\n",
    "    end = pd.Timestamp(base_end) + pd.Timedelta(days=i)\n",
    "    run_date = pd.Timestamp(base_run) + pd.Timedelta(days=i)\n",
    "\n",
    "    try:\n",
    "        df = build_training_set(\n",
    "            train_start=start.strftime(\"%Y-%m-%d %H:%M:%S\"),\n",
    "            train_end=end.strftime(\"%Y-%m-%d %H:%M:%S\"),\n",
    "            run_date=run_date.strftime(\"%Y-%m-%d %H:%M:%S\")\n",
    "        )\n",
    "\n",
    "        if df is None or df.empty:\n",
    "            print(f\"Day {i+1}: ❌ No training data returned\")\n",
    "            continue\n",
    "\n",
    "        df['target_datetime'] = pd.to_datetime(df['target_datetime'], utc=True)\n",
    "        df = df.sort_values('target_datetime').set_index('target_datetime')\n",
    "\n",
    "        # Zorg dat run_date ook in UTC is\n",
    "        run_date_utc = run_date.tz_localize(\"UTC\")\n",
    "\n",
    "        # Split into training and testing sets\n",
    "        train_data = df[df.index <= run_date_utc]\n",
    "        test_data = df[df.index > run_date_utc]\n",
    "\n",
    "        # Drop any missing data in training\n",
    "        train_data = train_data.dropna(subset=features + [target])\n",
    "\n",
    "        if test_data.empty or train_data.empty:\n",
    "            print(f\"Day {i+1}: ❌ Not enough data for training or testing\")\n",
    "            continue\n",
    "\n",
    "        # Train model\n",
    "        X_train = train_data[TRAIN_FEATURES]\n",
    "        y_train = train_data[target]\n",
    "\n",
    "        # Aanvullen met NaN-kolommen waar nodig\n",
    "        for col in TRAIN_FEATURES:\n",
    "            if col not in test_data.columns:\n",
    "                test_data[col] = np.nan\n",
    "\n",
    "        X_test = test_data[TRAIN_FEATURES]\n",
    "        y_test = test_data[target]\n",
    "\n",
    "        model = xgb.XGBRegressor(objective='reg:squarederror', random_state=42)\n",
    "        model.fit(X_train, y_train)\n",
    "\n",
    "        y_pred = model.predict(X_test)\n",
    "\n",
    "        rmse = np.sqrt(mean_squared_error(y_test, y_pred))\n",
    "        rmse_results.append({\n",
    "            'iteration': i + 1,\n",
    "            'run_date': run_date.strftime('%Y-%m-%d'),\n",
    "            'valid_predictions': len(test_data),\n",
    "            'rmse': rmse\n",
    "        })\n",
    "\n",
    "        print(f\"Day {i+1}: ✅ {len(test_data)} test rows, Run: {run_date.strftime('%m-%d')}\")\n",
    "\n",
    "    except Exception as e:\n",
    "        print(f\"Day {i+1}: ❌ Error: {e}\")\n",
    "\n",
    "# Create results dataframe\n",
    "if rmse_results:\n",
    "    rmse_df = pd.DataFrame(rmse_results)\n",
    "\n",
    "    print(f\"\\n📊 OVERALL RMSE - XGBoost Model\")\n",
    "    print(\"=\" * 80)\n",
    "    print(f\"Successful runs: {len(rmse_df)}/30\")\n",
    "\n",
    "    print(rmse_df[['iteration', 'run_date', 'valid_predictions', 'rmse']].round(2).to_string(index=False))\n",
    "\n",
    "    print(f\"\\n📈 SUMMARY STATISTICS\")\n",
    "    print(\"-\" * 40)\n",
    "    print(rmse_df['rmse'].describe().round(2))\n",
    "\n",
    "    print(f\"\\n📊 AVERAGE OVERALL RMSE\")\n",
    "    print(\"-\" * 40)\n",
    "    print(f\"Mean RMSE: {rmse_df['rmse'].mean():.2f}\")\n",
    "else:\n",
    "    print(\"❌ No runs completed successfully\")"
   ]
  },
  {
   "cell_type": "code",
   "execution_count": null,
   "id": "f1a3672b",
   "metadata": {},
   "outputs": [
    {
     "name": "stderr",
     "output_type": "stream",
     "text": [
      "2025-05-27 11:20:34,689 - build_training_set - INFO - 🚀 Start build van trainingset\n",
      "2025-05-27 11:20:34,695 - build_training_set - INFO - 🧠 Actuals van 2025-01-01 00:00:00+00:00 t/m 2025-03-14 23:00:00+00:00\n",
      "2025-05-27 11:20:34,700 - build_training_set - INFO - 📅 Forecast van run_date 2025-03-15 00:00:00+00:00, target range: 2025-03-15 00:00:00+00:00 → 2025-03-21 23:00:00+00:00\n",
      "2025-05-27 11:20:34,812 - build_training_set - INFO - ✅ Actuals geladen: 1752 rijen\n"
     ]
    },
    {
     "name": "stdout",
     "output_type": "stream",
     "text": [
      "🔍 Testing XGBoost Model - RMSE per forecast day\n",
      "============================================================\n"
     ]
    },
    {
     "name": "stderr",
     "output_type": "stream",
     "text": [
      "2025-05-27 11:20:34,972 - build_training_set - INFO - ✅ Added actual prices to 168 forecast rows\n",
      "/Users/Twan/Library/Mobile Documents/com~apple~CloudDocs/Data Science/Data Projects EASI/ENEXIS/src/utils/build_training_set.py:106: FutureWarning: The behavior of DataFrame concatenation with empty or all-NA entries is deprecated. In a future version, this will no longer exclude empty or all-NA columns when determining the result dtypes. To retain the old behavior, exclude the relevant entries before the concat operation.\n",
      "  df_combined = pd.concat([df_actuals, df_preds], ignore_index=True)\n",
      "2025-05-27 11:20:34,983 - build_training_set - INFO - 📦 Eindtabel bevat: 1920 rijen, 31 kolommen\n",
      "2025-05-27 11:20:34,984 - build_training_set - INFO - 🧾 Kolommen: ['Price', 'target_datetime', 'Load', 'shortwave_radiation', 'temperature_2m', 'direct_normal_irradiance', 'diffuse_radiation', 'Flow_NO', 'yearday_cos', 'Flow_GB', 'month', 'is_dst', 'yearday_sin', 'is_non_working_day', 'hour_cos', 'is_weekend', 'cloud_cover', 'weekday_sin', 'hour_sin', 'weekday_cos', 'apparent_temperature', 'day_of_week', 'day_of_year', 'direct_radiation', 'hour', 'is_holiday', 'local_datetime', 'run_date', 'snowfall', 'wind_direction_10m', 'wind_speed_10m']\n",
      "2025-05-27 11:20:34,984 - build_training_set - INFO - ❓ Price NaN count: 0/1920 (0.0%)\n",
      "2025-05-27 11:20:34,999 - build_training_set - INFO - ✅ Opgeslagen als training_set in WARP.db\n",
      "2025-05-27 11:20:35,000 - build_training_set - INFO - 🔒 Verbinding gesloten\n",
      "2025-05-27 11:20:35,447 - build_training_set - INFO - 🚀 Start build van trainingset\n",
      "2025-05-27 11:20:35,448 - build_training_set - INFO - 🧠 Actuals van 2025-01-02 00:00:00+00:00 t/m 2025-03-15 23:00:00+00:00\n",
      "2025-05-27 11:20:35,448 - build_training_set - INFO - 📅 Forecast van run_date 2025-03-16 00:00:00+00:00, target range: 2025-03-16 00:00:00+00:00 → 2025-03-22 23:00:00+00:00\n",
      "2025-05-27 11:20:35,464 - build_training_set - INFO - ✅ Actuals geladen: 1752 rijen\n",
      "2025-05-27 11:20:35,638 - build_training_set - INFO - ✅ Added actual prices to 168 forecast rows\n"
     ]
    },
    {
     "name": "stdout",
     "output_type": "stream",
     "text": [
      "Day 1: ❌ Error: feature_names mismatch: ['hour_sin', 'month', 'shortwave_radiation', 'Load', 'Flow_NO'] ['is_dst', 'hour_cos', 'hour_sin', 'month', 'is_non_working_day', 'shortwave_radiation', 'temperature_2m', 'Load', 'Flow_NO']\n",
      "training data did not have the following fields: is_dst, is_non_working_day, temperature_2m, hour_cos\n"
     ]
    },
    {
     "name": "stderr",
     "output_type": "stream",
     "text": [
      "/Users/Twan/Library/Mobile Documents/com~apple~CloudDocs/Data Science/Data Projects EASI/ENEXIS/src/utils/build_training_set.py:106: FutureWarning: The behavior of DataFrame concatenation with empty or all-NA entries is deprecated. In a future version, this will no longer exclude empty or all-NA columns when determining the result dtypes. To retain the old behavior, exclude the relevant entries before the concat operation.\n",
      "  df_combined = pd.concat([df_actuals, df_preds], ignore_index=True)\n",
      "2025-05-27 11:20:35,674 - build_training_set - INFO - 📦 Eindtabel bevat: 1920 rijen, 31 kolommen\n",
      "2025-05-27 11:20:35,679 - build_training_set - INFO - 🧾 Kolommen: ['Price', 'target_datetime', 'Load', 'shortwave_radiation', 'temperature_2m', 'direct_normal_irradiance', 'diffuse_radiation', 'Flow_NO', 'yearday_cos', 'Flow_GB', 'month', 'is_dst', 'yearday_sin', 'is_non_working_day', 'hour_cos', 'is_weekend', 'cloud_cover', 'weekday_sin', 'hour_sin', 'weekday_cos', 'apparent_temperature', 'day_of_week', 'day_of_year', 'direct_radiation', 'hour', 'is_holiday', 'local_datetime', 'run_date', 'snowfall', 'wind_direction_10m', 'wind_speed_10m']\n",
      "2025-05-27 11:20:35,681 - build_training_set - INFO - ❓ Price NaN count: 0/1920 (0.0%)\n",
      "2025-05-27 11:20:35,718 - build_training_set - INFO - ✅ Opgeslagen als training_set in WARP.db\n",
      "2025-05-27 11:20:35,720 - build_training_set - INFO - 🔒 Verbinding gesloten\n",
      "2025-05-27 11:20:36,087 - build_training_set - INFO - 🚀 Start build van trainingset\n",
      "2025-05-27 11:20:36,087 - build_training_set - INFO - 🧠 Actuals van 2025-01-03 00:00:00+00:00 t/m 2025-03-16 23:00:00+00:00\n",
      "2025-05-27 11:20:36,088 - build_training_set - INFO - 📅 Forecast van run_date 2025-03-17 00:00:00+00:00, target range: 2025-03-17 00:00:00+00:00 → 2025-03-23 23:00:00+00:00\n",
      "2025-05-27 11:20:36,108 - build_training_set - INFO - ✅ Actuals geladen: 1752 rijen\n",
      "2025-05-27 11:20:36,277 - build_training_set - INFO - ✅ Added actual prices to 168 forecast rows\n"
     ]
    },
    {
     "name": "stdout",
     "output_type": "stream",
     "text": [
      "Day 2: ❌ Error: feature_names mismatch: ['hour_sin', 'month', 'shortwave_radiation', 'Load', 'Flow_NO'] ['is_dst', 'hour_cos', 'hour_sin', 'month', 'is_non_working_day', 'shortwave_radiation', 'temperature_2m', 'Load', 'Flow_NO']\n",
      "training data did not have the following fields: is_dst, is_non_working_day, temperature_2m, hour_cos\n"
     ]
    },
    {
     "name": "stderr",
     "output_type": "stream",
     "text": [
      "/Users/Twan/Library/Mobile Documents/com~apple~CloudDocs/Data Science/Data Projects EASI/ENEXIS/src/utils/build_training_set.py:106: FutureWarning: The behavior of DataFrame concatenation with empty or all-NA entries is deprecated. In a future version, this will no longer exclude empty or all-NA columns when determining the result dtypes. To retain the old behavior, exclude the relevant entries before the concat operation.\n",
      "  df_combined = pd.concat([df_actuals, df_preds], ignore_index=True)\n",
      "2025-05-27 11:20:36,290 - build_training_set - INFO - 📦 Eindtabel bevat: 1920 rijen, 31 kolommen\n",
      "2025-05-27 11:20:36,290 - build_training_set - INFO - 🧾 Kolommen: ['Price', 'target_datetime', 'Load', 'shortwave_radiation', 'temperature_2m', 'direct_normal_irradiance', 'diffuse_radiation', 'Flow_NO', 'yearday_cos', 'Flow_GB', 'month', 'is_dst', 'yearday_sin', 'is_non_working_day', 'hour_cos', 'is_weekend', 'cloud_cover', 'weekday_sin', 'hour_sin', 'weekday_cos', 'apparent_temperature', 'day_of_week', 'day_of_year', 'direct_radiation', 'hour', 'is_holiday', 'local_datetime', 'run_date', 'snowfall', 'wind_direction_10m', 'wind_speed_10m']\n",
      "2025-05-27 11:20:36,290 - build_training_set - INFO - ❓ Price NaN count: 0/1920 (0.0%)\n",
      "2025-05-27 11:20:36,368 - build_training_set - INFO - ✅ Opgeslagen als training_set in WARP.db\n",
      "2025-05-27 11:20:36,369 - build_training_set - INFO - 🔒 Verbinding gesloten\n",
      "2025-05-27 11:20:36,670 - build_training_set - INFO - 🚀 Start build van trainingset\n",
      "2025-05-27 11:20:36,670 - build_training_set - INFO - 🧠 Actuals van 2025-01-04 00:00:00+00:00 t/m 2025-03-17 23:00:00+00:00\n",
      "2025-05-27 11:20:36,670 - build_training_set - INFO - 📅 Forecast van run_date 2025-03-18 00:00:00+00:00, target range: 2025-03-18 00:00:00+00:00 → 2025-03-24 23:00:00+00:00\n",
      "2025-05-27 11:20:36,690 - build_training_set - INFO - ✅ Actuals geladen: 1752 rijen\n"
     ]
    },
    {
     "name": "stdout",
     "output_type": "stream",
     "text": [
      "Day 3: ❌ Error: feature_names mismatch: ['hour_sin', 'month', 'shortwave_radiation', 'Load', 'Flow_NO'] ['is_dst', 'hour_cos', 'hour_sin', 'month', 'is_non_working_day', 'shortwave_radiation', 'temperature_2m', 'Load', 'Flow_NO']\n",
      "training data did not have the following fields: is_dst, is_non_working_day, temperature_2m, hour_cos\n"
     ]
    },
    {
     "name": "stderr",
     "output_type": "stream",
     "text": [
      "2025-05-27 11:20:36,890 - build_training_set - INFO - ✅ Added actual prices to 168 forecast rows\n",
      "/Users/Twan/Library/Mobile Documents/com~apple~CloudDocs/Data Science/Data Projects EASI/ENEXIS/src/utils/build_training_set.py:106: FutureWarning: The behavior of DataFrame concatenation with empty or all-NA entries is deprecated. In a future version, this will no longer exclude empty or all-NA columns when determining the result dtypes. To retain the old behavior, exclude the relevant entries before the concat operation.\n",
      "  df_combined = pd.concat([df_actuals, df_preds], ignore_index=True)\n",
      "2025-05-27 11:20:36,901 - build_training_set - INFO - 📦 Eindtabel bevat: 1920 rijen, 31 kolommen\n",
      "2025-05-27 11:20:36,902 - build_training_set - INFO - 🧾 Kolommen: ['Price', 'target_datetime', 'Load', 'shortwave_radiation', 'temperature_2m', 'direct_normal_irradiance', 'diffuse_radiation', 'Flow_NO', 'yearday_cos', 'Flow_GB', 'month', 'is_dst', 'yearday_sin', 'is_non_working_day', 'hour_cos', 'is_weekend', 'cloud_cover', 'weekday_sin', 'hour_sin', 'weekday_cos', 'apparent_temperature', 'day_of_week', 'day_of_year', 'direct_radiation', 'hour', 'is_holiday', 'local_datetime', 'run_date', 'snowfall', 'wind_direction_10m', 'wind_speed_10m']\n",
      "2025-05-27 11:20:36,902 - build_training_set - INFO - ❓ Price NaN count: 0/1920 (0.0%)\n",
      "2025-05-27 11:20:36,917 - build_training_set - INFO - ✅ Opgeslagen als training_set in WARP.db\n",
      "2025-05-27 11:20:36,917 - build_training_set - INFO - 🔒 Verbinding gesloten\n",
      "2025-05-27 11:20:37,167 - build_training_set - INFO - 🚀 Start build van trainingset\n",
      "2025-05-27 11:20:37,167 - build_training_set - INFO - 🧠 Actuals van 2025-01-05 00:00:00+00:00 t/m 2025-03-18 23:00:00+00:00\n",
      "2025-05-27 11:20:37,167 - build_training_set - INFO - 📅 Forecast van run_date 2025-03-19 00:00:00+00:00, target range: 2025-03-19 00:00:00+00:00 → 2025-03-25 23:00:00+00:00\n",
      "2025-05-27 11:20:37,183 - build_training_set - INFO - ✅ Actuals geladen: 1752 rijen\n",
      "2025-05-27 11:20:37,328 - build_training_set - INFO - ✅ Added actual prices to 168 forecast rows\n",
      "/Users/Twan/Library/Mobile Documents/com~apple~CloudDocs/Data Science/Data Projects EASI/ENEXIS/src/utils/build_training_set.py:106: FutureWarning: The behavior of DataFrame concatenation with empty or all-NA entries is deprecated. In a future version, this will no longer exclude empty or all-NA columns when determining the result dtypes. To retain the old behavior, exclude the relevant entries before the concat operation.\n",
      "  df_combined = pd.concat([df_actuals, df_preds], ignore_index=True)\n",
      "2025-05-27 11:20:37,336 - build_training_set - INFO - 📦 Eindtabel bevat: 1920 rijen, 31 kolommen\n",
      "2025-05-27 11:20:37,336 - build_training_set - INFO - 🧾 Kolommen: ['Price', 'target_datetime', 'Load', 'shortwave_radiation', 'temperature_2m', 'direct_normal_irradiance', 'diffuse_radiation', 'Flow_NO', 'yearday_cos', 'Flow_GB', 'month', 'is_dst', 'yearday_sin', 'is_non_working_day', 'hour_cos', 'is_weekend', 'cloud_cover', 'weekday_sin', 'hour_sin', 'weekday_cos', 'apparent_temperature', 'day_of_week', 'day_of_year', 'direct_radiation', 'hour', 'is_holiday', 'local_datetime', 'run_date', 'snowfall', 'wind_direction_10m', 'wind_speed_10m']\n",
      "2025-05-27 11:20:37,337 - build_training_set - INFO - ❓ Price NaN count: 0/1920 (0.0%)\n",
      "2025-05-27 11:20:37,348 - build_training_set - INFO - ✅ Opgeslagen als training_set in WARP.db\n",
      "2025-05-27 11:20:37,349 - build_training_set - INFO - 🔒 Verbinding gesloten\n"
     ]
    },
    {
     "name": "stdout",
     "output_type": "stream",
     "text": [
      "Day 4: ❌ Error: feature_names mismatch: ['hour_sin', 'month', 'shortwave_radiation', 'Load', 'Flow_NO'] ['is_dst', 'hour_cos', 'hour_sin', 'month', 'is_non_working_day', 'shortwave_radiation', 'temperature_2m', 'Load', 'Flow_NO']\n",
      "training data did not have the following fields: is_dst, is_non_working_day, temperature_2m, hour_cos\n"
     ]
    },
    {
     "name": "stderr",
     "output_type": "stream",
     "text": [
      "2025-05-27 11:20:37,569 - build_training_set - INFO - 🚀 Start build van trainingset\n",
      "2025-05-27 11:20:37,570 - build_training_set - INFO - 🧠 Actuals van 2025-01-06 00:00:00+00:00 t/m 2025-03-19 23:00:00+00:00\n",
      "2025-05-27 11:20:37,570 - build_training_set - INFO - 📅 Forecast van run_date 2025-03-20 00:00:00+00:00, target range: 2025-03-20 00:00:00+00:00 → 2025-03-26 23:00:00+00:00\n",
      "2025-05-27 11:20:37,588 - build_training_set - INFO - ✅ Actuals geladen: 1752 rijen\n",
      "2025-05-27 11:20:37,732 - build_training_set - INFO - ✅ Added actual prices to 168 forecast rows\n",
      "/Users/Twan/Library/Mobile Documents/com~apple~CloudDocs/Data Science/Data Projects EASI/ENEXIS/src/utils/build_training_set.py:106: FutureWarning: The behavior of DataFrame concatenation with empty or all-NA entries is deprecated. In a future version, this will no longer exclude empty or all-NA columns when determining the result dtypes. To retain the old behavior, exclude the relevant entries before the concat operation.\n",
      "  df_combined = pd.concat([df_actuals, df_preds], ignore_index=True)\n",
      "2025-05-27 11:20:37,741 - build_training_set - INFO - 📦 Eindtabel bevat: 1920 rijen, 31 kolommen\n",
      "2025-05-27 11:20:37,741 - build_training_set - INFO - 🧾 Kolommen: ['Price', 'target_datetime', 'Load', 'shortwave_radiation', 'temperature_2m', 'direct_normal_irradiance', 'diffuse_radiation', 'Flow_NO', 'yearday_cos', 'Flow_GB', 'month', 'is_dst', 'yearday_sin', 'is_non_working_day', 'hour_cos', 'is_weekend', 'cloud_cover', 'weekday_sin', 'hour_sin', 'weekday_cos', 'apparent_temperature', 'day_of_week', 'day_of_year', 'direct_radiation', 'hour', 'is_holiday', 'local_datetime', 'run_date', 'snowfall', 'wind_direction_10m', 'wind_speed_10m']\n",
      "2025-05-27 11:20:37,741 - build_training_set - INFO - ❓ Price NaN count: 0/1920 (0.0%)\n",
      "2025-05-27 11:20:37,754 - build_training_set - INFO - ✅ Opgeslagen als training_set in WARP.db\n",
      "2025-05-27 11:20:37,755 - build_training_set - INFO - 🔒 Verbinding gesloten\n"
     ]
    },
    {
     "name": "stdout",
     "output_type": "stream",
     "text": [
      "Day 5: ❌ Error: feature_names mismatch: ['hour_cos', 'month', 'shortwave_radiation', 'Load', 'Flow_NO'] ['is_dst', 'hour_cos', 'hour_sin', 'month', 'is_non_working_day', 'shortwave_radiation', 'temperature_2m', 'Load', 'Flow_NO']\n",
      "training data did not have the following fields: is_dst, is_non_working_day, hour_sin, temperature_2m\n"
     ]
    },
    {
     "name": "stderr",
     "output_type": "stream",
     "text": [
      "2025-05-27 11:20:37,981 - build_training_set - INFO - 🚀 Start build van trainingset\n",
      "2025-05-27 11:20:37,981 - build_training_set - INFO - 🧠 Actuals van 2025-01-07 00:00:00+00:00 t/m 2025-03-20 23:00:00+00:00\n",
      "2025-05-27 11:20:37,981 - build_training_set - INFO - 📅 Forecast van run_date 2025-03-21 00:00:00+00:00, target range: 2025-03-21 00:00:00+00:00 → 2025-03-27 23:00:00+00:00\n",
      "2025-05-27 11:20:38,039 - build_training_set - INFO - ✅ Actuals geladen: 1752 rijen\n"
     ]
    },
    {
     "name": "stdout",
     "output_type": "stream",
     "text": [
      "Day 6: ❌ Error: feature_names mismatch: ['hour_cos', 'month', 'shortwave_radiation', 'Load', 'Flow_NO'] ['is_dst', 'hour_cos', 'hour_sin', 'month', 'is_non_working_day', 'shortwave_radiation', 'temperature_2m', 'Load', 'Flow_NO']\n",
      "training data did not have the following fields: is_dst, is_non_working_day, hour_sin, temperature_2m\n"
     ]
    },
    {
     "name": "stderr",
     "output_type": "stream",
     "text": [
      "2025-05-27 11:20:38,188 - build_training_set - INFO - ✅ Added actual prices to 168 forecast rows\n",
      "/Users/Twan/Library/Mobile Documents/com~apple~CloudDocs/Data Science/Data Projects EASI/ENEXIS/src/utils/build_training_set.py:106: FutureWarning: The behavior of DataFrame concatenation with empty or all-NA entries is deprecated. In a future version, this will no longer exclude empty or all-NA columns when determining the result dtypes. To retain the old behavior, exclude the relevant entries before the concat operation.\n",
      "  df_combined = pd.concat([df_actuals, df_preds], ignore_index=True)\n",
      "2025-05-27 11:20:38,198 - build_training_set - INFO - 📦 Eindtabel bevat: 1920 rijen, 31 kolommen\n",
      "2025-05-27 11:20:38,199 - build_training_set - INFO - 🧾 Kolommen: ['Price', 'target_datetime', 'Load', 'shortwave_radiation', 'temperature_2m', 'direct_normal_irradiance', 'diffuse_radiation', 'Flow_NO', 'yearday_cos', 'Flow_GB', 'month', 'is_dst', 'yearday_sin', 'is_non_working_day', 'hour_cos', 'is_weekend', 'cloud_cover', 'weekday_sin', 'hour_sin', 'weekday_cos', 'apparent_temperature', 'day_of_week', 'day_of_year', 'direct_radiation', 'hour', 'is_holiday', 'local_datetime', 'run_date', 'snowfall', 'wind_direction_10m', 'wind_speed_10m']\n",
      "2025-05-27 11:20:38,200 - build_training_set - INFO - ❓ Price NaN count: 0/1920 (0.0%)\n",
      "2025-05-27 11:20:38,214 - build_training_set - INFO - ✅ Opgeslagen als training_set in WARP.db\n",
      "2025-05-27 11:20:38,215 - build_training_set - INFO - 🔒 Verbinding gesloten\n",
      "2025-05-27 11:20:38,441 - build_training_set - INFO - 🚀 Start build van trainingset\n",
      "2025-05-27 11:20:38,441 - build_training_set - INFO - 🧠 Actuals van 2025-01-08 00:00:00+00:00 t/m 2025-03-21 23:00:00+00:00\n",
      "2025-05-27 11:20:38,442 - build_training_set - INFO - 📅 Forecast van run_date 2025-03-22 00:00:00+00:00, target range: 2025-03-22 00:00:00+00:00 → 2025-03-28 23:00:00+00:00\n",
      "2025-05-27 11:20:38,458 - build_training_set - INFO - ✅ Actuals geladen: 1752 rijen\n",
      "2025-05-27 11:20:38,599 - build_training_set - INFO - ✅ Added actual prices to 168 forecast rows\n",
      "/Users/Twan/Library/Mobile Documents/com~apple~CloudDocs/Data Science/Data Projects EASI/ENEXIS/src/utils/build_training_set.py:106: FutureWarning: The behavior of DataFrame concatenation with empty or all-NA entries is deprecated. In a future version, this will no longer exclude empty or all-NA columns when determining the result dtypes. To retain the old behavior, exclude the relevant entries before the concat operation.\n",
      "  df_combined = pd.concat([df_actuals, df_preds], ignore_index=True)\n",
      "2025-05-27 11:20:38,608 - build_training_set - INFO - 📦 Eindtabel bevat: 1920 rijen, 31 kolommen\n",
      "2025-05-27 11:20:38,609 - build_training_set - INFO - 🧾 Kolommen: ['Price', 'target_datetime', 'Load', 'shortwave_radiation', 'temperature_2m', 'direct_normal_irradiance', 'diffuse_radiation', 'Flow_NO', 'yearday_cos', 'Flow_GB', 'month', 'is_dst', 'yearday_sin', 'is_non_working_day', 'hour_cos', 'is_weekend', 'cloud_cover', 'weekday_sin', 'hour_sin', 'weekday_cos', 'apparent_temperature', 'day_of_week', 'day_of_year', 'direct_radiation', 'hour', 'is_holiday', 'local_datetime', 'run_date', 'snowfall', 'wind_direction_10m', 'wind_speed_10m']\n",
      "2025-05-27 11:20:38,609 - build_training_set - INFO - ❓ Price NaN count: 0/1920 (0.0%)\n",
      "2025-05-27 11:20:38,621 - build_training_set - INFO - ✅ Opgeslagen als training_set in WARP.db\n",
      "2025-05-27 11:20:38,621 - build_training_set - INFO - 🔒 Verbinding gesloten\n"
     ]
    },
    {
     "name": "stdout",
     "output_type": "stream",
     "text": [
      "Day 7: ❌ Error: feature_names mismatch: ['hour_cos', 'month', 'shortwave_radiation', 'Load', 'Flow_NO'] ['is_dst', 'hour_cos', 'hour_sin', 'month', 'is_non_working_day', 'shortwave_radiation', 'temperature_2m', 'Load', 'Flow_NO']\n",
      "training data did not have the following fields: is_dst, is_non_working_day, hour_sin, temperature_2m\n"
     ]
    },
    {
     "name": "stderr",
     "output_type": "stream",
     "text": [
      "2025-05-27 11:20:38,836 - build_training_set - INFO - 🚀 Start build van trainingset\n",
      "2025-05-27 11:20:38,836 - build_training_set - INFO - 🧠 Actuals van 2025-01-09 00:00:00+00:00 t/m 2025-03-22 23:00:00+00:00\n",
      "2025-05-27 11:20:38,837 - build_training_set - INFO - 📅 Forecast van run_date 2025-03-23 00:00:00+00:00, target range: 2025-03-23 00:00:00+00:00 → 2025-03-29 23:00:00+00:00\n",
      "2025-05-27 11:20:38,854 - build_training_set - INFO - ✅ Actuals geladen: 1752 rijen\n",
      "2025-05-27 11:20:38,993 - build_training_set - INFO - ✅ Added actual prices to 168 forecast rows\n",
      "/Users/Twan/Library/Mobile Documents/com~apple~CloudDocs/Data Science/Data Projects EASI/ENEXIS/src/utils/build_training_set.py:106: FutureWarning: The behavior of DataFrame concatenation with empty or all-NA entries is deprecated. In a future version, this will no longer exclude empty or all-NA columns when determining the result dtypes. To retain the old behavior, exclude the relevant entries before the concat operation.\n",
      "  df_combined = pd.concat([df_actuals, df_preds], ignore_index=True)\n",
      "2025-05-27 11:20:39,002 - build_training_set - INFO - 📦 Eindtabel bevat: 1920 rijen, 31 kolommen\n",
      "2025-05-27 11:20:39,002 - build_training_set - INFO - 🧾 Kolommen: ['Price', 'target_datetime', 'Load', 'shortwave_radiation', 'temperature_2m', 'direct_normal_irradiance', 'diffuse_radiation', 'Flow_NO', 'yearday_cos', 'Flow_GB', 'month', 'is_dst', 'yearday_sin', 'is_non_working_day', 'hour_cos', 'is_weekend', 'cloud_cover', 'weekday_sin', 'hour_sin', 'weekday_cos', 'apparent_temperature', 'day_of_week', 'day_of_year', 'direct_radiation', 'hour', 'is_holiday', 'local_datetime', 'run_date', 'snowfall', 'wind_direction_10m', 'wind_speed_10m']\n",
      "2025-05-27 11:20:39,003 - build_training_set - INFO - ❓ Price NaN count: 0/1920 (0.0%)\n",
      "2025-05-27 11:20:39,014 - build_training_set - INFO - ✅ Opgeslagen als training_set in WARP.db\n",
      "2025-05-27 11:20:39,016 - build_training_set - INFO - 🔒 Verbinding gesloten\n"
     ]
    },
    {
     "name": "stdout",
     "output_type": "stream",
     "text": [
      "Day 8: ❌ Error: feature_names mismatch: ['hour_cos', 'month', 'shortwave_radiation', 'Load', 'Flow_NO'] ['is_dst', 'hour_cos', 'hour_sin', 'month', 'is_non_working_day', 'shortwave_radiation', 'temperature_2m', 'Load', 'Flow_NO']\n",
      "training data did not have the following fields: is_dst, is_non_working_day, hour_sin, temperature_2m\n"
     ]
    },
    {
     "name": "stderr",
     "output_type": "stream",
     "text": [
      "2025-05-27 11:20:39,231 - build_training_set - INFO - 🚀 Start build van trainingset\n",
      "2025-05-27 11:20:39,231 - build_training_set - INFO - 🧠 Actuals van 2025-01-10 00:00:00+00:00 t/m 2025-03-23 23:00:00+00:00\n",
      "2025-05-27 11:20:39,231 - build_training_set - INFO - 📅 Forecast van run_date 2025-03-24 00:00:00+00:00, target range: 2025-03-24 00:00:00+00:00 → 2025-03-30 23:00:00+00:00\n",
      "2025-05-27 11:20:39,249 - build_training_set - INFO - ✅ Actuals geladen: 1752 rijen\n",
      "2025-05-27 11:20:39,392 - build_training_set - INFO - ✅ Added actual prices to 168 forecast rows\n",
      "/Users/Twan/Library/Mobile Documents/com~apple~CloudDocs/Data Science/Data Projects EASI/ENEXIS/src/utils/build_training_set.py:106: FutureWarning: The behavior of DataFrame concatenation with empty or all-NA entries is deprecated. In a future version, this will no longer exclude empty or all-NA columns when determining the result dtypes. To retain the old behavior, exclude the relevant entries before the concat operation.\n",
      "  df_combined = pd.concat([df_actuals, df_preds], ignore_index=True)\n",
      "2025-05-27 11:20:39,400 - build_training_set - INFO - 📦 Eindtabel bevat: 1920 rijen, 31 kolommen\n",
      "2025-05-27 11:20:39,401 - build_training_set - INFO - 🧾 Kolommen: ['Price', 'target_datetime', 'Load', 'shortwave_radiation', 'temperature_2m', 'direct_normal_irradiance', 'diffuse_radiation', 'Flow_NO', 'yearday_cos', 'Flow_GB', 'month', 'is_dst', 'yearday_sin', 'is_non_working_day', 'hour_cos', 'is_weekend', 'cloud_cover', 'weekday_sin', 'hour_sin', 'weekday_cos', 'apparent_temperature', 'day_of_week', 'day_of_year', 'direct_radiation', 'hour', 'is_holiday', 'local_datetime', 'run_date', 'snowfall', 'wind_direction_10m', 'wind_speed_10m']\n",
      "2025-05-27 11:20:39,401 - build_training_set - INFO - ❓ Price NaN count: 0/1920 (0.0%)\n",
      "2025-05-27 11:20:39,413 - build_training_set - INFO - ✅ Opgeslagen als training_set in WARP.db\n",
      "2025-05-27 11:20:39,413 - build_training_set - INFO - 🔒 Verbinding gesloten\n"
     ]
    },
    {
     "name": "stdout",
     "output_type": "stream",
     "text": [
      "Day 9: ❌ Error: feature_names mismatch: ['hour_cos', 'is_non_working_day', 'temperature_2m', 'Load', 'Flow_NO'] ['is_dst', 'hour_cos', 'hour_sin', 'month', 'is_non_working_day', 'shortwave_radiation', 'temperature_2m', 'Load', 'Flow_NO']\n",
      "training data did not have the following fields: is_dst, hour_sin, shortwave_radiation, month\n"
     ]
    },
    {
     "name": "stderr",
     "output_type": "stream",
     "text": [
      "2025-05-27 11:20:39,629 - build_training_set - INFO - 🚀 Start build van trainingset\n",
      "2025-05-27 11:20:39,630 - build_training_set - INFO - 🧠 Actuals van 2025-01-11 00:00:00+00:00 t/m 2025-03-24 23:00:00+00:00\n",
      "2025-05-27 11:20:39,630 - build_training_set - INFO - 📅 Forecast van run_date 2025-03-25 00:00:00+00:00, target range: 2025-03-25 00:00:00+00:00 → 2025-03-31 23:00:00+00:00\n",
      "2025-05-27 11:20:39,649 - build_training_set - INFO - ✅ Actuals geladen: 1752 rijen\n"
     ]
    },
    {
     "name": "stdout",
     "output_type": "stream",
     "text": [
      "Day 10: ❌ Error: feature_names mismatch: ['hour_cos', 'hour_sin', 'shortwave_radiation', 'Load', 'Flow_NO'] ['is_dst', 'hour_cos', 'hour_sin', 'month', 'is_non_working_day', 'shortwave_radiation', 'temperature_2m', 'Load', 'Flow_NO']\n",
      "training data did not have the following fields: is_dst, is_non_working_day, temperature_2m, month\n"
     ]
    },
    {
     "name": "stderr",
     "output_type": "stream",
     "text": [
      "2025-05-27 11:20:39,832 - build_training_set - INFO - ✅ Added actual prices to 168 forecast rows\n",
      "/Users/Twan/Library/Mobile Documents/com~apple~CloudDocs/Data Science/Data Projects EASI/ENEXIS/src/utils/build_training_set.py:106: FutureWarning: The behavior of DataFrame concatenation with empty or all-NA entries is deprecated. In a future version, this will no longer exclude empty or all-NA columns when determining the result dtypes. To retain the old behavior, exclude the relevant entries before the concat operation.\n",
      "  df_combined = pd.concat([df_actuals, df_preds], ignore_index=True)\n",
      "2025-05-27 11:20:39,841 - build_training_set - INFO - 📦 Eindtabel bevat: 1920 rijen, 31 kolommen\n",
      "2025-05-27 11:20:39,841 - build_training_set - INFO - 🧾 Kolommen: ['Price', 'target_datetime', 'Load', 'shortwave_radiation', 'temperature_2m', 'direct_normal_irradiance', 'diffuse_radiation', 'Flow_NO', 'yearday_cos', 'Flow_GB', 'month', 'is_dst', 'yearday_sin', 'is_non_working_day', 'hour_cos', 'is_weekend', 'cloud_cover', 'weekday_sin', 'hour_sin', 'weekday_cos', 'apparent_temperature', 'day_of_week', 'day_of_year', 'direct_radiation', 'hour', 'is_holiday', 'local_datetime', 'run_date', 'snowfall', 'wind_direction_10m', 'wind_speed_10m']\n",
      "2025-05-27 11:20:39,841 - build_training_set - INFO - ❓ Price NaN count: 0/1920 (0.0%)\n",
      "2025-05-27 11:20:39,856 - build_training_set - INFO - ✅ Opgeslagen als training_set in WARP.db\n",
      "2025-05-27 11:20:39,856 - build_training_set - INFO - 🔒 Verbinding gesloten\n",
      "2025-05-27 11:20:40,088 - build_training_set - INFO - 🚀 Start build van trainingset\n",
      "2025-05-27 11:20:40,088 - build_training_set - INFO - 🧠 Actuals van 2025-01-12 00:00:00+00:00 t/m 2025-03-25 23:00:00+00:00\n",
      "2025-05-27 11:20:40,088 - build_training_set - INFO - 📅 Forecast van run_date 2025-03-26 00:00:00+00:00, target range: 2025-03-26 00:00:00+00:00 → 2025-04-01 23:00:00+00:00\n",
      "2025-05-27 11:20:40,104 - build_training_set - INFO - ✅ Actuals geladen: 1752 rijen\n",
      "2025-05-27 11:20:40,244 - build_training_set - INFO - ✅ Added actual prices to 168 forecast rows\n",
      "/Users/Twan/Library/Mobile Documents/com~apple~CloudDocs/Data Science/Data Projects EASI/ENEXIS/src/utils/build_training_set.py:106: FutureWarning: The behavior of DataFrame concatenation with empty or all-NA entries is deprecated. In a future version, this will no longer exclude empty or all-NA columns when determining the result dtypes. To retain the old behavior, exclude the relevant entries before the concat operation.\n",
      "  df_combined = pd.concat([df_actuals, df_preds], ignore_index=True)\n",
      "2025-05-27 11:20:40,252 - build_training_set - INFO - 📦 Eindtabel bevat: 1920 rijen, 31 kolommen\n",
      "2025-05-27 11:20:40,252 - build_training_set - INFO - 🧾 Kolommen: ['Price', 'target_datetime', 'Load', 'shortwave_radiation', 'temperature_2m', 'direct_normal_irradiance', 'diffuse_radiation', 'Flow_NO', 'yearday_cos', 'Flow_GB', 'month', 'is_dst', 'yearday_sin', 'is_non_working_day', 'hour_cos', 'is_weekend', 'cloud_cover', 'weekday_sin', 'hour_sin', 'weekday_cos', 'apparent_temperature', 'day_of_week', 'day_of_year', 'direct_radiation', 'hour', 'is_holiday', 'local_datetime', 'run_date', 'snowfall', 'wind_direction_10m', 'wind_speed_10m']\n",
      "2025-05-27 11:20:40,253 - build_training_set - INFO - ❓ Price NaN count: 0/1920 (0.0%)\n",
      "2025-05-27 11:20:40,265 - build_training_set - INFO - ✅ Opgeslagen als training_set in WARP.db\n",
      "2025-05-27 11:20:40,266 - build_training_set - INFO - 🔒 Verbinding gesloten\n"
     ]
    },
    {
     "name": "stdout",
     "output_type": "stream",
     "text": [
      "Day 11: ❌ Error: feature_names mismatch: ['hour_cos', 'shortwave_radiation', 'temperature_2m', 'Load', 'Flow_NO'] ['is_dst', 'hour_cos', 'hour_sin', 'month', 'is_non_working_day', 'shortwave_radiation', 'temperature_2m', 'Load', 'Flow_NO']\n",
      "training data did not have the following fields: is_dst, is_non_working_day, hour_sin, month\n"
     ]
    },
    {
     "name": "stderr",
     "output_type": "stream",
     "text": [
      "2025-05-27 11:20:40,492 - build_training_set - INFO - 🚀 Start build van trainingset\n",
      "2025-05-27 11:20:40,493 - build_training_set - INFO - 🧠 Actuals van 2025-01-13 00:00:00+00:00 t/m 2025-03-26 23:00:00+00:00\n",
      "2025-05-27 11:20:40,493 - build_training_set - INFO - 📅 Forecast van run_date 2025-03-27 00:00:00+00:00, target range: 2025-03-27 00:00:00+00:00 → 2025-04-02 23:00:00+00:00\n",
      "2025-05-27 11:20:40,510 - build_training_set - INFO - ✅ Actuals geladen: 1752 rijen\n",
      "2025-05-27 11:20:40,653 - build_training_set - INFO - ✅ Added actual prices to 168 forecast rows\n",
      "/Users/Twan/Library/Mobile Documents/com~apple~CloudDocs/Data Science/Data Projects EASI/ENEXIS/src/utils/build_training_set.py:106: FutureWarning: The behavior of DataFrame concatenation with empty or all-NA entries is deprecated. In a future version, this will no longer exclude empty or all-NA columns when determining the result dtypes. To retain the old behavior, exclude the relevant entries before the concat operation.\n",
      "  df_combined = pd.concat([df_actuals, df_preds], ignore_index=True)\n",
      "2025-05-27 11:20:40,661 - build_training_set - INFO - 📦 Eindtabel bevat: 1920 rijen, 31 kolommen\n",
      "2025-05-27 11:20:40,661 - build_training_set - INFO - 🧾 Kolommen: ['Price', 'target_datetime', 'Load', 'shortwave_radiation', 'temperature_2m', 'direct_normal_irradiance', 'diffuse_radiation', 'Flow_NO', 'yearday_cos', 'Flow_GB', 'month', 'is_dst', 'yearday_sin', 'is_non_working_day', 'hour_cos', 'is_weekend', 'cloud_cover', 'weekday_sin', 'hour_sin', 'weekday_cos', 'apparent_temperature', 'day_of_week', 'day_of_year', 'direct_radiation', 'hour', 'is_holiday', 'local_datetime', 'run_date', 'snowfall', 'wind_direction_10m', 'wind_speed_10m']\n",
      "2025-05-27 11:20:40,662 - build_training_set - INFO - ❓ Price NaN count: 0/1920 (0.0%)\n",
      "2025-05-27 11:20:40,674 - build_training_set - INFO - ✅ Opgeslagen als training_set in WARP.db\n",
      "2025-05-27 11:20:40,675 - build_training_set - INFO - 🔒 Verbinding gesloten\n"
     ]
    },
    {
     "name": "stdout",
     "output_type": "stream",
     "text": [
      "Day 12: ❌ Error: feature_names mismatch: ['hour_cos', 'is_non_working_day', 'shortwave_radiation', 'Load', 'Flow_NO'] ['is_dst', 'hour_cos', 'hour_sin', 'month', 'is_non_working_day', 'shortwave_radiation', 'temperature_2m', 'Load', 'Flow_NO']\n",
      "training data did not have the following fields: is_dst, hour_sin, temperature_2m, month\n"
     ]
    },
    {
     "name": "stderr",
     "output_type": "stream",
     "text": [
      "2025-05-27 11:20:40,899 - build_training_set - INFO - 🚀 Start build van trainingset\n",
      "2025-05-27 11:20:40,899 - build_training_set - INFO - 🧠 Actuals van 2025-01-14 00:00:00+00:00 t/m 2025-03-27 23:00:00+00:00\n",
      "2025-05-27 11:20:40,899 - build_training_set - INFO - 📅 Forecast van run_date 2025-03-28 00:00:00+00:00, target range: 2025-03-28 00:00:00+00:00 → 2025-04-03 23:00:00+00:00\n",
      "2025-05-27 11:20:40,916 - build_training_set - INFO - ✅ Actuals geladen: 1752 rijen\n",
      "2025-05-27 11:20:41,057 - build_training_set - INFO - ✅ Added actual prices to 168 forecast rows\n",
      "/Users/Twan/Library/Mobile Documents/com~apple~CloudDocs/Data Science/Data Projects EASI/ENEXIS/src/utils/build_training_set.py:106: FutureWarning: The behavior of DataFrame concatenation with empty or all-NA entries is deprecated. In a future version, this will no longer exclude empty or all-NA columns when determining the result dtypes. To retain the old behavior, exclude the relevant entries before the concat operation.\n",
      "  df_combined = pd.concat([df_actuals, df_preds], ignore_index=True)\n",
      "2025-05-27 11:20:41,066 - build_training_set - INFO - 📦 Eindtabel bevat: 1920 rijen, 31 kolommen\n",
      "2025-05-27 11:20:41,066 - build_training_set - INFO - 🧾 Kolommen: ['Price', 'target_datetime', 'Load', 'shortwave_radiation', 'temperature_2m', 'direct_normal_irradiance', 'diffuse_radiation', 'Flow_NO', 'yearday_cos', 'Flow_GB', 'month', 'is_dst', 'yearday_sin', 'is_non_working_day', 'hour_cos', 'is_weekend', 'cloud_cover', 'weekday_sin', 'hour_sin', 'weekday_cos', 'apparent_temperature', 'day_of_week', 'day_of_year', 'direct_radiation', 'hour', 'is_holiday', 'local_datetime', 'run_date', 'snowfall', 'wind_direction_10m', 'wind_speed_10m']\n",
      "2025-05-27 11:20:41,067 - build_training_set - INFO - ❓ Price NaN count: 0/1920 (0.0%)\n",
      "2025-05-27 11:20:41,079 - build_training_set - INFO - ✅ Opgeslagen als training_set in WARP.db\n",
      "2025-05-27 11:20:41,079 - build_training_set - INFO - 🔒 Verbinding gesloten\n"
     ]
    },
    {
     "name": "stdout",
     "output_type": "stream",
     "text": [
      "Day 13: ❌ Error: feature_names mismatch: ['hour_cos', 'is_non_working_day', 'shortwave_radiation', 'Load', 'Flow_NO'] ['is_dst', 'hour_cos', 'hour_sin', 'month', 'is_non_working_day', 'shortwave_radiation', 'temperature_2m', 'Load', 'Flow_NO']\n",
      "training data did not have the following fields: is_dst, hour_sin, temperature_2m, month\n"
     ]
    },
    {
     "name": "stderr",
     "output_type": "stream",
     "text": [
      "2025-05-27 11:20:41,306 - build_training_set - INFO - 🚀 Start build van trainingset\n",
      "2025-05-27 11:20:41,306 - build_training_set - INFO - 🧠 Actuals van 2025-01-15 00:00:00+00:00 t/m 2025-03-28 23:00:00+00:00\n",
      "2025-05-27 11:20:41,306 - build_training_set - INFO - 📅 Forecast van run_date 2025-03-29 00:00:00+00:00, target range: 2025-03-29 00:00:00+00:00 → 2025-04-04 23:00:00+00:00\n",
      "2025-05-27 11:20:41,326 - build_training_set - INFO - ✅ Actuals geladen: 1752 rijen\n"
     ]
    },
    {
     "name": "stdout",
     "output_type": "stream",
     "text": [
      "Day 14: ❌ Error: feature_names mismatch: ['hour_cos', 'is_non_working_day', 'shortwave_radiation', 'Load', 'Flow_NO'] ['is_dst', 'hour_cos', 'hour_sin', 'month', 'is_non_working_day', 'shortwave_radiation', 'temperature_2m', 'Load', 'Flow_NO']\n",
      "training data did not have the following fields: is_dst, hour_sin, temperature_2m, month\n"
     ]
    },
    {
     "name": "stderr",
     "output_type": "stream",
     "text": [
      "2025-05-27 11:20:41,514 - build_training_set - INFO - ✅ Added actual prices to 168 forecast rows\n",
      "/Users/Twan/Library/Mobile Documents/com~apple~CloudDocs/Data Science/Data Projects EASI/ENEXIS/src/utils/build_training_set.py:106: FutureWarning: The behavior of DataFrame concatenation with empty or all-NA entries is deprecated. In a future version, this will no longer exclude empty or all-NA columns when determining the result dtypes. To retain the old behavior, exclude the relevant entries before the concat operation.\n",
      "  df_combined = pd.concat([df_actuals, df_preds], ignore_index=True)\n",
      "2025-05-27 11:20:41,523 - build_training_set - INFO - 📦 Eindtabel bevat: 1920 rijen, 31 kolommen\n",
      "2025-05-27 11:20:41,523 - build_training_set - INFO - 🧾 Kolommen: ['Price', 'target_datetime', 'Load', 'shortwave_radiation', 'temperature_2m', 'direct_normal_irradiance', 'diffuse_radiation', 'Flow_NO', 'yearday_cos', 'Flow_GB', 'month', 'is_dst', 'yearday_sin', 'is_non_working_day', 'hour_cos', 'is_weekend', 'cloud_cover', 'weekday_sin', 'hour_sin', 'weekday_cos', 'apparent_temperature', 'day_of_week', 'day_of_year', 'direct_radiation', 'hour', 'is_holiday', 'local_datetime', 'run_date', 'snowfall', 'wind_direction_10m', 'wind_speed_10m']\n",
      "2025-05-27 11:20:41,524 - build_training_set - INFO - ❓ Price NaN count: 0/1920 (0.0%)\n",
      "2025-05-27 11:20:41,537 - build_training_set - INFO - ✅ Opgeslagen als training_set in WARP.db\n",
      "2025-05-27 11:20:41,538 - build_training_set - INFO - 🔒 Verbinding gesloten\n",
      "2025-05-27 11:20:41,750 - build_training_set - INFO - 🚀 Start build van trainingset\n",
      "2025-05-27 11:20:41,750 - build_training_set - INFO - 🧠 Actuals van 2025-01-16 00:00:00+00:00 t/m 2025-03-29 23:00:00+00:00\n",
      "2025-05-27 11:20:41,751 - build_training_set - INFO - 📅 Forecast van run_date 2025-03-30 00:00:00+00:00, target range: 2025-03-30 00:00:00+00:00 → 2025-04-05 23:00:00+00:00\n",
      "2025-05-27 11:20:41,767 - build_training_set - INFO - ✅ Actuals geladen: 1752 rijen\n",
      "2025-05-27 11:20:41,907 - build_training_set - INFO - ✅ Added actual prices to 168 forecast rows\n",
      "/Users/Twan/Library/Mobile Documents/com~apple~CloudDocs/Data Science/Data Projects EASI/ENEXIS/src/utils/build_training_set.py:106: FutureWarning: The behavior of DataFrame concatenation with empty or all-NA entries is deprecated. In a future version, this will no longer exclude empty or all-NA columns when determining the result dtypes. To retain the old behavior, exclude the relevant entries before the concat operation.\n",
      "  df_combined = pd.concat([df_actuals, df_preds], ignore_index=True)\n",
      "2025-05-27 11:20:41,916 - build_training_set - INFO - 📦 Eindtabel bevat: 1920 rijen, 31 kolommen\n",
      "2025-05-27 11:20:41,916 - build_training_set - INFO - 🧾 Kolommen: ['Price', 'target_datetime', 'Load', 'shortwave_radiation', 'temperature_2m', 'direct_normal_irradiance', 'diffuse_radiation', 'Flow_NO', 'yearday_cos', 'Flow_GB', 'month', 'is_dst', 'yearday_sin', 'is_non_working_day', 'hour_cos', 'is_weekend', 'cloud_cover', 'weekday_sin', 'hour_sin', 'weekday_cos', 'apparent_temperature', 'day_of_week', 'day_of_year', 'direct_radiation', 'hour', 'is_holiday', 'local_datetime', 'run_date', 'snowfall', 'wind_direction_10m', 'wind_speed_10m']\n",
      "2025-05-27 11:20:41,916 - build_training_set - INFO - ❓ Price NaN count: 0/1920 (0.0%)\n",
      "2025-05-27 11:20:41,929 - build_training_set - INFO - ✅ Opgeslagen als training_set in WARP.db\n",
      "2025-05-27 11:20:41,930 - build_training_set - INFO - 🔒 Verbinding gesloten\n"
     ]
    },
    {
     "name": "stdout",
     "output_type": "stream",
     "text": [
      "Day 15: ❌ Error: feature_names mismatch: ['hour_cos', 'month', 'is_non_working_day', 'Load', 'Flow_NO'] ['is_dst', 'hour_cos', 'hour_sin', 'month', 'is_non_working_day', 'shortwave_radiation', 'temperature_2m', 'Load', 'Flow_NO']\n",
      "training data did not have the following fields: is_dst, hour_sin, shortwave_radiation, temperature_2m\n"
     ]
    },
    {
     "name": "stderr",
     "output_type": "stream",
     "text": [
      "2025-05-27 11:20:42,155 - build_training_set - INFO - 🚀 Start build van trainingset\n",
      "2025-05-27 11:20:42,156 - build_training_set - INFO - 🧠 Actuals van 2025-01-17 00:00:00+00:00 t/m 2025-03-30 23:00:00+00:00\n",
      "2025-05-27 11:20:42,156 - build_training_set - INFO - 📅 Forecast van run_date 2025-03-31 00:00:00+00:00, target range: 2025-03-31 00:00:00+00:00 → 2025-04-06 23:00:00+00:00\n",
      "2025-05-27 11:20:42,173 - build_training_set - INFO - ✅ Actuals geladen: 1752 rijen\n",
      "2025-05-27 11:20:42,318 - build_training_set - INFO - ✅ Added actual prices to 168 forecast rows\n",
      "/Users/Twan/Library/Mobile Documents/com~apple~CloudDocs/Data Science/Data Projects EASI/ENEXIS/src/utils/build_training_set.py:106: FutureWarning: The behavior of DataFrame concatenation with empty or all-NA entries is deprecated. In a future version, this will no longer exclude empty or all-NA columns when determining the result dtypes. To retain the old behavior, exclude the relevant entries before the concat operation.\n",
      "  df_combined = pd.concat([df_actuals, df_preds], ignore_index=True)\n",
      "2025-05-27 11:20:42,327 - build_training_set - INFO - 📦 Eindtabel bevat: 1920 rijen, 31 kolommen\n",
      "2025-05-27 11:20:42,327 - build_training_set - INFO - 🧾 Kolommen: ['Price', 'target_datetime', 'Load', 'shortwave_radiation', 'temperature_2m', 'direct_normal_irradiance', 'diffuse_radiation', 'Flow_NO', 'yearday_cos', 'Flow_GB', 'month', 'is_dst', 'yearday_sin', 'is_non_working_day', 'hour_cos', 'is_weekend', 'cloud_cover', 'weekday_sin', 'hour_sin', 'weekday_cos', 'apparent_temperature', 'day_of_week', 'day_of_year', 'direct_radiation', 'hour', 'is_holiday', 'local_datetime', 'run_date', 'snowfall', 'wind_direction_10m', 'wind_speed_10m']\n",
      "2025-05-27 11:20:42,328 - build_training_set - INFO - ❓ Price NaN count: 0/1920 (0.0%)\n",
      "2025-05-27 11:20:42,339 - build_training_set - INFO - ✅ Opgeslagen als training_set in WARP.db\n",
      "2025-05-27 11:20:42,340 - build_training_set - INFO - 🔒 Verbinding gesloten\n"
     ]
    },
    {
     "name": "stdout",
     "output_type": "stream",
     "text": [
      "Day 16: ❌ Error: feature_names mismatch: ['hour_cos', 'shortwave_radiation', 'temperature_2m', 'Load', 'Flow_NO'] ['is_dst', 'hour_cos', 'hour_sin', 'month', 'is_non_working_day', 'shortwave_radiation', 'temperature_2m', 'Load', 'Flow_NO']\n",
      "training data did not have the following fields: is_dst, is_non_working_day, hour_sin, month\n"
     ]
    },
    {
     "name": "stderr",
     "output_type": "stream",
     "text": [
      "2025-05-27 11:20:42,564 - build_training_set - INFO - 🚀 Start build van trainingset\n",
      "2025-05-27 11:20:42,564 - build_training_set - INFO - 🧠 Actuals van 2025-01-18 00:00:00+00:00 t/m 2025-03-31 23:00:00+00:00\n",
      "2025-05-27 11:20:42,564 - build_training_set - INFO - 📅 Forecast van run_date 2025-04-01 00:00:00+00:00, target range: 2025-04-01 00:00:00+00:00 → 2025-04-07 23:00:00+00:00\n",
      "2025-05-27 11:20:42,582 - build_training_set - INFO - ✅ Actuals geladen: 1752 rijen\n"
     ]
    },
    {
     "name": "stdout",
     "output_type": "stream",
     "text": [
      "Day 17: ❌ Error: feature_names mismatch: ['is_dst', 'hour_cos', 'temperature_2m', 'Load', 'Flow_NO'] ['is_dst', 'hour_cos', 'hour_sin', 'month', 'is_non_working_day', 'shortwave_radiation', 'temperature_2m', 'Load', 'Flow_NO']\n",
      "training data did not have the following fields: is_non_working_day, hour_sin, shortwave_radiation, month\n"
     ]
    },
    {
     "name": "stderr",
     "output_type": "stream",
     "text": [
      "2025-05-27 11:20:42,776 - build_training_set - INFO - ✅ Added actual prices to 168 forecast rows\n",
      "/Users/Twan/Library/Mobile Documents/com~apple~CloudDocs/Data Science/Data Projects EASI/ENEXIS/src/utils/build_training_set.py:106: FutureWarning: The behavior of DataFrame concatenation with empty or all-NA entries is deprecated. In a future version, this will no longer exclude empty or all-NA columns when determining the result dtypes. To retain the old behavior, exclude the relevant entries before the concat operation.\n",
      "  df_combined = pd.concat([df_actuals, df_preds], ignore_index=True)\n",
      "2025-05-27 11:20:42,787 - build_training_set - INFO - 📦 Eindtabel bevat: 1920 rijen, 31 kolommen\n",
      "2025-05-27 11:20:42,787 - build_training_set - INFO - 🧾 Kolommen: ['Price', 'target_datetime', 'Load', 'shortwave_radiation', 'temperature_2m', 'direct_normal_irradiance', 'diffuse_radiation', 'Flow_NO', 'yearday_cos', 'Flow_GB', 'month', 'is_dst', 'yearday_sin', 'is_non_working_day', 'hour_cos', 'is_weekend', 'cloud_cover', 'weekday_sin', 'hour_sin', 'weekday_cos', 'apparent_temperature', 'day_of_week', 'day_of_year', 'direct_radiation', 'hour', 'is_holiday', 'local_datetime', 'run_date', 'snowfall', 'wind_direction_10m', 'wind_speed_10m']\n",
      "2025-05-27 11:20:42,788 - build_training_set - INFO - ❓ Price NaN count: 0/1920 (0.0%)\n",
      "2025-05-27 11:20:42,820 - build_training_set - INFO - ✅ Opgeslagen als training_set in WARP.db\n",
      "2025-05-27 11:20:42,834 - build_training_set - INFO - 🔒 Verbinding gesloten\n",
      "2025-05-27 11:20:43,058 - build_training_set - INFO - 🚀 Start build van trainingset\n",
      "2025-05-27 11:20:43,059 - build_training_set - INFO - 🧠 Actuals van 2025-01-19 00:00:00+00:00 t/m 2025-04-01 23:00:00+00:00\n",
      "2025-05-27 11:20:43,059 - build_training_set - INFO - 📅 Forecast van run_date 2025-04-02 00:00:00+00:00, target range: 2025-04-02 00:00:00+00:00 → 2025-04-08 23:00:00+00:00\n",
      "2025-05-27 11:20:43,075 - build_training_set - INFO - ✅ Actuals geladen: 1752 rijen\n",
      "2025-05-27 11:20:43,216 - build_training_set - INFO - ✅ Added actual prices to 168 forecast rows\n",
      "/Users/Twan/Library/Mobile Documents/com~apple~CloudDocs/Data Science/Data Projects EASI/ENEXIS/src/utils/build_training_set.py:106: FutureWarning: The behavior of DataFrame concatenation with empty or all-NA entries is deprecated. In a future version, this will no longer exclude empty or all-NA columns when determining the result dtypes. To retain the old behavior, exclude the relevant entries before the concat operation.\n",
      "  df_combined = pd.concat([df_actuals, df_preds], ignore_index=True)\n",
      "2025-05-27 11:20:43,225 - build_training_set - INFO - 📦 Eindtabel bevat: 1920 rijen, 31 kolommen\n",
      "2025-05-27 11:20:43,225 - build_training_set - INFO - 🧾 Kolommen: ['Price', 'target_datetime', 'Load', 'shortwave_radiation', 'temperature_2m', 'direct_normal_irradiance', 'diffuse_radiation', 'Flow_NO', 'yearday_cos', 'Flow_GB', 'month', 'is_dst', 'yearday_sin', 'is_non_working_day', 'hour_cos', 'is_weekend', 'cloud_cover', 'weekday_sin', 'hour_sin', 'weekday_cos', 'apparent_temperature', 'day_of_week', 'day_of_year', 'direct_radiation', 'hour', 'is_holiday', 'local_datetime', 'run_date', 'snowfall', 'wind_direction_10m', 'wind_speed_10m']\n",
      "2025-05-27 11:20:43,225 - build_training_set - INFO - ❓ Price NaN count: 0/1920 (0.0%)\n",
      "2025-05-27 11:20:43,237 - build_training_set - INFO - ✅ Opgeslagen als training_set in WARP.db\n",
      "2025-05-27 11:20:43,238 - build_training_set - INFO - 🔒 Verbinding gesloten\n"
     ]
    },
    {
     "name": "stdout",
     "output_type": "stream",
     "text": [
      "Day 18: ❌ Error: feature_names mismatch: ['hour_cos', 'month', 'shortwave_radiation', 'Load', 'Flow_NO'] ['is_dst', 'hour_cos', 'hour_sin', 'month', 'is_non_working_day', 'shortwave_radiation', 'temperature_2m', 'Load', 'Flow_NO']\n",
      "training data did not have the following fields: is_dst, is_non_working_day, hour_sin, temperature_2m\n"
     ]
    },
    {
     "name": "stderr",
     "output_type": "stream",
     "text": [
      "2025-05-27 11:20:43,462 - build_training_set - INFO - 🚀 Start build van trainingset\n",
      "2025-05-27 11:20:43,462 - build_training_set - INFO - 🧠 Actuals van 2025-01-20 00:00:00+00:00 t/m 2025-04-02 23:00:00+00:00\n",
      "2025-05-27 11:20:43,462 - build_training_set - INFO - 📅 Forecast van run_date 2025-04-03 00:00:00+00:00, target range: 2025-04-03 00:00:00+00:00 → 2025-04-09 23:00:00+00:00\n",
      "2025-05-27 11:20:43,480 - build_training_set - INFO - ✅ Actuals geladen: 1752 rijen\n",
      "2025-05-27 11:20:43,620 - build_training_set - INFO - ✅ Added actual prices to 168 forecast rows\n",
      "/Users/Twan/Library/Mobile Documents/com~apple~CloudDocs/Data Science/Data Projects EASI/ENEXIS/src/utils/build_training_set.py:106: FutureWarning: The behavior of DataFrame concatenation with empty or all-NA entries is deprecated. In a future version, this will no longer exclude empty or all-NA columns when determining the result dtypes. To retain the old behavior, exclude the relevant entries before the concat operation.\n",
      "  df_combined = pd.concat([df_actuals, df_preds], ignore_index=True)\n",
      "2025-05-27 11:20:43,628 - build_training_set - INFO - 📦 Eindtabel bevat: 1920 rijen, 31 kolommen\n",
      "2025-05-27 11:20:43,629 - build_training_set - INFO - 🧾 Kolommen: ['Price', 'target_datetime', 'Load', 'shortwave_radiation', 'temperature_2m', 'direct_normal_irradiance', 'diffuse_radiation', 'Flow_NO', 'yearday_cos', 'Flow_GB', 'month', 'is_dst', 'yearday_sin', 'is_non_working_day', 'hour_cos', 'is_weekend', 'cloud_cover', 'weekday_sin', 'hour_sin', 'weekday_cos', 'apparent_temperature', 'day_of_week', 'day_of_year', 'direct_radiation', 'hour', 'is_holiday', 'local_datetime', 'run_date', 'snowfall', 'wind_direction_10m', 'wind_speed_10m']\n",
      "2025-05-27 11:20:43,629 - build_training_set - INFO - ❓ Price NaN count: 0/1920 (0.0%)\n",
      "2025-05-27 11:20:43,641 - build_training_set - INFO - ✅ Opgeslagen als training_set in WARP.db\n",
      "2025-05-27 11:20:43,641 - build_training_set - INFO - 🔒 Verbinding gesloten\n"
     ]
    },
    {
     "name": "stdout",
     "output_type": "stream",
     "text": [
      "Day 19: ❌ Error: feature_names mismatch: ['hour_cos', 'month', 'shortwave_radiation', 'Load', 'Flow_NO'] ['is_dst', 'hour_cos', 'hour_sin', 'month', 'is_non_working_day', 'shortwave_radiation', 'temperature_2m', 'Load', 'Flow_NO']\n",
      "training data did not have the following fields: is_dst, is_non_working_day, hour_sin, temperature_2m\n"
     ]
    },
    {
     "name": "stderr",
     "output_type": "stream",
     "text": [
      "2025-05-27 11:20:43,867 - build_training_set - INFO - 🚀 Start build van trainingset\n",
      "2025-05-27 11:20:43,867 - build_training_set - INFO - 🧠 Actuals van 2025-01-21 00:00:00+00:00 t/m 2025-04-03 23:00:00+00:00\n",
      "2025-05-27 11:20:43,867 - build_training_set - INFO - 📅 Forecast van run_date 2025-04-04 00:00:00+00:00, target range: 2025-04-04 00:00:00+00:00 → 2025-04-10 23:00:00+00:00\n",
      "2025-05-27 11:20:43,884 - build_training_set - INFO - ✅ Actuals geladen: 1752 rijen\n",
      "2025-05-27 11:20:44,024 - build_training_set - INFO - ✅ Added actual prices to 168 forecast rows\n",
      "/Users/Twan/Library/Mobile Documents/com~apple~CloudDocs/Data Science/Data Projects EASI/ENEXIS/src/utils/build_training_set.py:106: FutureWarning: The behavior of DataFrame concatenation with empty or all-NA entries is deprecated. In a future version, this will no longer exclude empty or all-NA columns when determining the result dtypes. To retain the old behavior, exclude the relevant entries before the concat operation.\n",
      "  df_combined = pd.concat([df_actuals, df_preds], ignore_index=True)\n",
      "2025-05-27 11:20:44,034 - build_training_set - INFO - 📦 Eindtabel bevat: 1920 rijen, 31 kolommen\n",
      "2025-05-27 11:20:44,034 - build_training_set - INFO - 🧾 Kolommen: ['Price', 'target_datetime', 'Load', 'shortwave_radiation', 'temperature_2m', 'direct_normal_irradiance', 'diffuse_radiation', 'Flow_NO', 'yearday_cos', 'Flow_GB', 'month', 'is_dst', 'yearday_sin', 'is_non_working_day', 'hour_cos', 'is_weekend', 'cloud_cover', 'weekday_sin', 'hour_sin', 'weekday_cos', 'apparent_temperature', 'day_of_week', 'day_of_year', 'direct_radiation', 'hour', 'is_holiday', 'local_datetime', 'run_date', 'snowfall', 'wind_direction_10m', 'wind_speed_10m']\n",
      "2025-05-27 11:20:44,035 - build_training_set - INFO - ❓ Price NaN count: 0/1920 (0.0%)\n",
      "2025-05-27 11:20:44,046 - build_training_set - INFO - ✅ Opgeslagen als training_set in WARP.db\n",
      "2025-05-27 11:20:44,046 - build_training_set - INFO - 🔒 Verbinding gesloten\n"
     ]
    },
    {
     "name": "stdout",
     "output_type": "stream",
     "text": [
      "Day 20: ❌ Error: feature_names mismatch: ['hour_cos', 'month', 'shortwave_radiation', 'Load', 'Flow_NO'] ['is_dst', 'hour_cos', 'hour_sin', 'month', 'is_non_working_day', 'shortwave_radiation', 'temperature_2m', 'Load', 'Flow_NO']\n",
      "training data did not have the following fields: is_dst, is_non_working_day, hour_sin, temperature_2m\n"
     ]
    },
    {
     "name": "stderr",
     "output_type": "stream",
     "text": [
      "2025-05-27 11:20:44,271 - build_training_set - INFO - 🚀 Start build van trainingset\n",
      "2025-05-27 11:20:44,271 - build_training_set - INFO - 🧠 Actuals van 2025-01-22 00:00:00+00:00 t/m 2025-04-04 23:00:00+00:00\n",
      "2025-05-27 11:20:44,272 - build_training_set - INFO - 📅 Forecast van run_date 2025-04-05 00:00:00+00:00, target range: 2025-04-05 00:00:00+00:00 → 2025-04-11 23:00:00+00:00\n",
      "2025-05-27 11:20:44,289 - build_training_set - INFO - ✅ Actuals geladen: 1752 rijen\n",
      "2025-05-27 11:20:44,429 - build_training_set - INFO - ✅ Added actual prices to 168 forecast rows\n",
      "/Users/Twan/Library/Mobile Documents/com~apple~CloudDocs/Data Science/Data Projects EASI/ENEXIS/src/utils/build_training_set.py:106: FutureWarning: The behavior of DataFrame concatenation with empty or all-NA entries is deprecated. In a future version, this will no longer exclude empty or all-NA columns when determining the result dtypes. To retain the old behavior, exclude the relevant entries before the concat operation.\n",
      "  df_combined = pd.concat([df_actuals, df_preds], ignore_index=True)\n",
      "2025-05-27 11:20:44,438 - build_training_set - INFO - 📦 Eindtabel bevat: 1920 rijen, 31 kolommen\n",
      "2025-05-27 11:20:44,438 - build_training_set - INFO - 🧾 Kolommen: ['Price', 'target_datetime', 'Load', 'shortwave_radiation', 'temperature_2m', 'direct_normal_irradiance', 'diffuse_radiation', 'Flow_NO', 'yearday_cos', 'Flow_GB', 'month', 'is_dst', 'yearday_sin', 'is_non_working_day', 'hour_cos', 'is_weekend', 'cloud_cover', 'weekday_sin', 'hour_sin', 'weekday_cos', 'apparent_temperature', 'day_of_week', 'day_of_year', 'direct_radiation', 'hour', 'is_holiday', 'local_datetime', 'run_date', 'snowfall', 'wind_direction_10m', 'wind_speed_10m']\n",
      "2025-05-27 11:20:44,439 - build_training_set - INFO - ❓ Price NaN count: 0/1920 (0.0%)\n",
      "2025-05-27 11:20:44,450 - build_training_set - INFO - ✅ Opgeslagen als training_set in WARP.db\n",
      "2025-05-27 11:20:44,451 - build_training_set - INFO - 🔒 Verbinding gesloten\n"
     ]
    },
    {
     "name": "stdout",
     "output_type": "stream",
     "text": [
      "Day 21: ❌ Error: feature_names mismatch: ['hour_cos', 'month', 'shortwave_radiation', 'Load', 'Flow_NO'] ['is_dst', 'hour_cos', 'hour_sin', 'month', 'is_non_working_day', 'shortwave_radiation', 'temperature_2m', 'Load', 'Flow_NO']\n",
      "training data did not have the following fields: is_dst, is_non_working_day, hour_sin, temperature_2m\n"
     ]
    },
    {
     "name": "stderr",
     "output_type": "stream",
     "text": [
      "2025-05-27 11:20:44,715 - build_training_set - INFO - 🚀 Start build van trainingset\n",
      "2025-05-27 11:20:44,715 - build_training_set - INFO - 🧠 Actuals van 2025-01-23 00:00:00+00:00 t/m 2025-04-05 23:00:00+00:00\n",
      "2025-05-27 11:20:44,715 - build_training_set - INFO - 📅 Forecast van run_date 2025-04-06 00:00:00+00:00, target range: 2025-04-06 00:00:00+00:00 → 2025-04-12 23:00:00+00:00\n",
      "2025-05-27 11:20:44,733 - build_training_set - INFO - ✅ Actuals geladen: 1752 rijen\n",
      "2025-05-27 11:20:44,873 - build_training_set - INFO - ✅ Added actual prices to 168 forecast rows\n",
      "/Users/Twan/Library/Mobile Documents/com~apple~CloudDocs/Data Science/Data Projects EASI/ENEXIS/src/utils/build_training_set.py:106: FutureWarning: The behavior of DataFrame concatenation with empty or all-NA entries is deprecated. In a future version, this will no longer exclude empty or all-NA columns when determining the result dtypes. To retain the old behavior, exclude the relevant entries before the concat operation.\n",
      "  df_combined = pd.concat([df_actuals, df_preds], ignore_index=True)\n",
      "2025-05-27 11:20:44,882 - build_training_set - INFO - 📦 Eindtabel bevat: 1920 rijen, 31 kolommen\n",
      "2025-05-27 11:20:44,882 - build_training_set - INFO - 🧾 Kolommen: ['Price', 'target_datetime', 'Load', 'shortwave_radiation', 'temperature_2m', 'direct_normal_irradiance', 'diffuse_radiation', 'Flow_NO', 'yearday_cos', 'Flow_GB', 'month', 'is_dst', 'yearday_sin', 'is_non_working_day', 'hour_cos', 'is_weekend', 'cloud_cover', 'weekday_sin', 'hour_sin', 'weekday_cos', 'apparent_temperature', 'day_of_week', 'day_of_year', 'direct_radiation', 'hour', 'is_holiday', 'local_datetime', 'run_date', 'snowfall', 'wind_direction_10m', 'wind_speed_10m']\n",
      "2025-05-27 11:20:44,883 - build_training_set - INFO - ❓ Price NaN count: 0/1920 (0.0%)\n",
      "2025-05-27 11:20:44,894 - build_training_set - INFO - ✅ Opgeslagen als training_set in WARP.db\n",
      "2025-05-27 11:20:44,894 - build_training_set - INFO - 🔒 Verbinding gesloten\n"
     ]
    },
    {
     "name": "stdout",
     "output_type": "stream",
     "text": [
      "Day 22: ❌ Error: feature_names mismatch: ['hour_cos', 'month', 'shortwave_radiation', 'Load', 'Flow_NO'] ['is_dst', 'hour_cos', 'hour_sin', 'month', 'is_non_working_day', 'shortwave_radiation', 'temperature_2m', 'Load', 'Flow_NO']\n",
      "training data did not have the following fields: is_dst, is_non_working_day, hour_sin, temperature_2m\n"
     ]
    },
    {
     "name": "stderr",
     "output_type": "stream",
     "text": [
      "2025-05-27 11:20:45,121 - build_training_set - INFO - 🚀 Start build van trainingset\n",
      "2025-05-27 11:20:45,122 - build_training_set - INFO - 🧠 Actuals van 2025-01-24 00:00:00+00:00 t/m 2025-04-06 23:00:00+00:00\n",
      "2025-05-27 11:20:45,122 - build_training_set - INFO - 📅 Forecast van run_date 2025-04-07 00:00:00+00:00, target range: 2025-04-07 00:00:00+00:00 → 2025-04-13 23:00:00+00:00\n",
      "2025-05-27 11:20:45,140 - build_training_set - INFO - ✅ Actuals geladen: 1752 rijen\n",
      "2025-05-27 11:20:45,282 - build_training_set - INFO - ✅ Added actual prices to 168 forecast rows\n",
      "/Users/Twan/Library/Mobile Documents/com~apple~CloudDocs/Data Science/Data Projects EASI/ENEXIS/src/utils/build_training_set.py:106: FutureWarning: The behavior of DataFrame concatenation with empty or all-NA entries is deprecated. In a future version, this will no longer exclude empty or all-NA columns when determining the result dtypes. To retain the old behavior, exclude the relevant entries before the concat operation.\n",
      "  df_combined = pd.concat([df_actuals, df_preds], ignore_index=True)\n",
      "2025-05-27 11:20:45,291 - build_training_set - INFO - 📦 Eindtabel bevat: 1920 rijen, 31 kolommen\n",
      "2025-05-27 11:20:45,291 - build_training_set - INFO - 🧾 Kolommen: ['Price', 'target_datetime', 'Load', 'shortwave_radiation', 'temperature_2m', 'direct_normal_irradiance', 'diffuse_radiation', 'Flow_NO', 'yearday_cos', 'Flow_GB', 'month', 'is_dst', 'yearday_sin', 'is_non_working_day', 'hour_cos', 'is_weekend', 'cloud_cover', 'weekday_sin', 'hour_sin', 'weekday_cos', 'apparent_temperature', 'day_of_week', 'day_of_year', 'direct_radiation', 'hour', 'is_holiday', 'local_datetime', 'run_date', 'snowfall', 'wind_direction_10m', 'wind_speed_10m']\n",
      "2025-05-27 11:20:45,292 - build_training_set - INFO - ❓ Price NaN count: 0/1920 (0.0%)\n",
      "2025-05-27 11:20:45,303 - build_training_set - INFO - ✅ Opgeslagen als training_set in WARP.db\n",
      "2025-05-27 11:20:45,303 - build_training_set - INFO - 🔒 Verbinding gesloten\n"
     ]
    },
    {
     "name": "stdout",
     "output_type": "stream",
     "text": [
      "Day 23: ❌ Error: feature_names mismatch: ['hour_sin', 'month', 'shortwave_radiation', 'Load', 'Flow_NO'] ['is_dst', 'hour_cos', 'hour_sin', 'month', 'is_non_working_day', 'shortwave_radiation', 'temperature_2m', 'Load', 'Flow_NO']\n",
      "training data did not have the following fields: is_dst, is_non_working_day, temperature_2m, hour_cos\n"
     ]
    },
    {
     "name": "stderr",
     "output_type": "stream",
     "text": [
      "2025-05-27 11:20:45,532 - build_training_set - INFO - 🚀 Start build van trainingset\n",
      "2025-05-27 11:20:45,532 - build_training_set - INFO - 🧠 Actuals van 2025-01-25 00:00:00+00:00 t/m 2025-04-07 23:00:00+00:00\n",
      "2025-05-27 11:20:45,533 - build_training_set - INFO - 📅 Forecast van run_date 2025-04-08 00:00:00+00:00, target range: 2025-04-08 00:00:00+00:00 → 2025-04-14 23:00:00+00:00\n",
      "2025-05-27 11:20:45,551 - build_training_set - INFO - ✅ Actuals geladen: 1752 rijen\n",
      "2025-05-27 11:20:45,693 - build_training_set - INFO - ✅ Added actual prices to 168 forecast rows\n",
      "/Users/Twan/Library/Mobile Documents/com~apple~CloudDocs/Data Science/Data Projects EASI/ENEXIS/src/utils/build_training_set.py:106: FutureWarning: The behavior of DataFrame concatenation with empty or all-NA entries is deprecated. In a future version, this will no longer exclude empty or all-NA columns when determining the result dtypes. To retain the old behavior, exclude the relevant entries before the concat operation.\n",
      "  df_combined = pd.concat([df_actuals, df_preds], ignore_index=True)\n",
      "2025-05-27 11:20:45,702 - build_training_set - INFO - 📦 Eindtabel bevat: 1920 rijen, 31 kolommen\n",
      "2025-05-27 11:20:45,702 - build_training_set - INFO - 🧾 Kolommen: ['Price', 'target_datetime', 'Load', 'shortwave_radiation', 'temperature_2m', 'direct_normal_irradiance', 'diffuse_radiation', 'Flow_NO', 'yearday_cos', 'Flow_GB', 'month', 'is_dst', 'yearday_sin', 'is_non_working_day', 'hour_cos', 'is_weekend', 'cloud_cover', 'weekday_sin', 'hour_sin', 'weekday_cos', 'apparent_temperature', 'day_of_week', 'day_of_year', 'direct_radiation', 'hour', 'is_holiday', 'local_datetime', 'run_date', 'snowfall', 'wind_direction_10m', 'wind_speed_10m']\n",
      "2025-05-27 11:20:45,702 - build_training_set - INFO - ❓ Price NaN count: 0/1920 (0.0%)\n",
      "2025-05-27 11:20:45,714 - build_training_set - INFO - ✅ Opgeslagen als training_set in WARP.db\n",
      "2025-05-27 11:20:45,714 - build_training_set - INFO - 🔒 Verbinding gesloten\n"
     ]
    },
    {
     "name": "stdout",
     "output_type": "stream",
     "text": [
      "Day 24: ❌ Error: feature_names mismatch: ['hour_cos', 'month', 'shortwave_radiation', 'Load', 'Flow_NO'] ['is_dst', 'hour_cos', 'hour_sin', 'month', 'is_non_working_day', 'shortwave_radiation', 'temperature_2m', 'Load', 'Flow_NO']\n",
      "training data did not have the following fields: is_dst, is_non_working_day, hour_sin, temperature_2m\n"
     ]
    },
    {
     "name": "stderr",
     "output_type": "stream",
     "text": [
      "2025-05-27 11:20:45,939 - build_training_set - INFO - 🚀 Start build van trainingset\n",
      "2025-05-27 11:20:45,940 - build_training_set - INFO - 🧠 Actuals van 2025-01-26 00:00:00+00:00 t/m 2025-04-08 23:00:00+00:00\n",
      "2025-05-27 11:20:45,940 - build_training_set - INFO - 📅 Forecast van run_date 2025-04-09 00:00:00+00:00, target range: 2025-04-09 00:00:00+00:00 → 2025-04-15 23:00:00+00:00\n",
      "2025-05-27 11:20:45,958 - build_training_set - INFO - ✅ Actuals geladen: 1752 rijen\n",
      "2025-05-27 11:20:46,135 - build_training_set - INFO - ✅ Added actual prices to 168 forecast rows\n"
     ]
    },
    {
     "name": "stdout",
     "output_type": "stream",
     "text": [
      "Day 25: ❌ Error: feature_names mismatch: ['hour_sin', 'month', 'shortwave_radiation', 'Load', 'Flow_NO'] ['is_dst', 'hour_cos', 'hour_sin', 'month', 'is_non_working_day', 'shortwave_radiation', 'temperature_2m', 'Load', 'Flow_NO']\n",
      "training data did not have the following fields: is_dst, is_non_working_day, temperature_2m, hour_cos\n"
     ]
    },
    {
     "name": "stderr",
     "output_type": "stream",
     "text": [
      "/Users/Twan/Library/Mobile Documents/com~apple~CloudDocs/Data Science/Data Projects EASI/ENEXIS/src/utils/build_training_set.py:106: FutureWarning: The behavior of DataFrame concatenation with empty or all-NA entries is deprecated. In a future version, this will no longer exclude empty or all-NA columns when determining the result dtypes. To retain the old behavior, exclude the relevant entries before the concat operation.\n",
      "  df_combined = pd.concat([df_actuals, df_preds], ignore_index=True)\n",
      "2025-05-27 11:20:46,145 - build_training_set - INFO - 📦 Eindtabel bevat: 1920 rijen, 31 kolommen\n",
      "2025-05-27 11:20:46,145 - build_training_set - INFO - 🧾 Kolommen: ['Price', 'target_datetime', 'Load', 'shortwave_radiation', 'temperature_2m', 'direct_normal_irradiance', 'diffuse_radiation', 'Flow_NO', 'yearday_cos', 'Flow_GB', 'month', 'is_dst', 'yearday_sin', 'is_non_working_day', 'hour_cos', 'is_weekend', 'cloud_cover', 'weekday_sin', 'hour_sin', 'weekday_cos', 'apparent_temperature', 'day_of_week', 'day_of_year', 'direct_radiation', 'hour', 'is_holiday', 'local_datetime', 'run_date', 'snowfall', 'wind_direction_10m', 'wind_speed_10m']\n",
      "2025-05-27 11:20:46,145 - build_training_set - INFO - ❓ Price NaN count: 0/1920 (0.0%)\n",
      "2025-05-27 11:20:46,159 - build_training_set - INFO - ✅ Opgeslagen als training_set in WARP.db\n",
      "2025-05-27 11:20:46,160 - build_training_set - INFO - 🔒 Verbinding gesloten\n",
      "2025-05-27 11:20:46,391 - build_training_set - INFO - 🚀 Start build van trainingset\n",
      "2025-05-27 11:20:46,391 - build_training_set - INFO - 🧠 Actuals van 2025-01-27 00:00:00+00:00 t/m 2025-04-09 23:00:00+00:00\n",
      "2025-05-27 11:20:46,391 - build_training_set - INFO - 📅 Forecast van run_date 2025-04-10 00:00:00+00:00, target range: 2025-04-10 00:00:00+00:00 → 2025-04-16 23:00:00+00:00\n",
      "2025-05-27 11:20:46,407 - build_training_set - INFO - ✅ Actuals geladen: 1752 rijen\n",
      "2025-05-27 11:20:46,547 - build_training_set - INFO - ✅ Added actual prices to 168 forecast rows\n",
      "/Users/Twan/Library/Mobile Documents/com~apple~CloudDocs/Data Science/Data Projects EASI/ENEXIS/src/utils/build_training_set.py:106: FutureWarning: The behavior of DataFrame concatenation with empty or all-NA entries is deprecated. In a future version, this will no longer exclude empty or all-NA columns when determining the result dtypes. To retain the old behavior, exclude the relevant entries before the concat operation.\n",
      "  df_combined = pd.concat([df_actuals, df_preds], ignore_index=True)\n",
      "2025-05-27 11:20:46,555 - build_training_set - INFO - 📦 Eindtabel bevat: 1920 rijen, 31 kolommen\n",
      "2025-05-27 11:20:46,556 - build_training_set - INFO - 🧾 Kolommen: ['Price', 'target_datetime', 'Load', 'shortwave_radiation', 'temperature_2m', 'direct_normal_irradiance', 'diffuse_radiation', 'Flow_NO', 'yearday_cos', 'Flow_GB', 'month', 'is_dst', 'yearday_sin', 'is_non_working_day', 'hour_cos', 'is_weekend', 'cloud_cover', 'weekday_sin', 'hour_sin', 'weekday_cos', 'apparent_temperature', 'day_of_week', 'day_of_year', 'direct_radiation', 'hour', 'is_holiday', 'local_datetime', 'run_date', 'snowfall', 'wind_direction_10m', 'wind_speed_10m']\n",
      "2025-05-27 11:20:46,556 - build_training_set - INFO - ❓ Price NaN count: 0/1920 (0.0%)\n",
      "2025-05-27 11:20:46,567 - build_training_set - INFO - ✅ Opgeslagen als training_set in WARP.db\n",
      "2025-05-27 11:20:46,568 - build_training_set - INFO - 🔒 Verbinding gesloten\n"
     ]
    },
    {
     "name": "stdout",
     "output_type": "stream",
     "text": [
      "Day 26: ❌ Error: feature_names mismatch: ['hour_sin', 'month', 'shortwave_radiation', 'Load', 'Flow_NO'] ['is_dst', 'hour_cos', 'hour_sin', 'month', 'is_non_working_day', 'shortwave_radiation', 'temperature_2m', 'Load', 'Flow_NO']\n",
      "training data did not have the following fields: is_dst, is_non_working_day, temperature_2m, hour_cos\n"
     ]
    },
    {
     "name": "stderr",
     "output_type": "stream",
     "text": [
      "2025-05-27 11:20:46,792 - build_training_set - INFO - 🚀 Start build van trainingset\n",
      "2025-05-27 11:20:46,792 - build_training_set - INFO - 🧠 Actuals van 2025-01-28 00:00:00+00:00 t/m 2025-04-10 23:00:00+00:00\n",
      "2025-05-27 11:20:46,793 - build_training_set - INFO - 📅 Forecast van run_date 2025-04-11 00:00:00+00:00, target range: 2025-04-11 00:00:00+00:00 → 2025-04-17 23:00:00+00:00\n",
      "2025-05-27 11:20:46,810 - build_training_set - INFO - ✅ Actuals geladen: 1752 rijen\n",
      "2025-05-27 11:20:46,951 - build_training_set - INFO - ✅ Added actual prices to 168 forecast rows\n",
      "/Users/Twan/Library/Mobile Documents/com~apple~CloudDocs/Data Science/Data Projects EASI/ENEXIS/src/utils/build_training_set.py:106: FutureWarning: The behavior of DataFrame concatenation with empty or all-NA entries is deprecated. In a future version, this will no longer exclude empty or all-NA columns when determining the result dtypes. To retain the old behavior, exclude the relevant entries before the concat operation.\n",
      "  df_combined = pd.concat([df_actuals, df_preds], ignore_index=True)\n",
      "2025-05-27 11:20:46,960 - build_training_set - INFO - 📦 Eindtabel bevat: 1920 rijen, 31 kolommen\n",
      "2025-05-27 11:20:46,960 - build_training_set - INFO - 🧾 Kolommen: ['Price', 'target_datetime', 'Load', 'shortwave_radiation', 'temperature_2m', 'direct_normal_irradiance', 'diffuse_radiation', 'Flow_NO', 'yearday_cos', 'Flow_GB', 'month', 'is_dst', 'yearday_sin', 'is_non_working_day', 'hour_cos', 'is_weekend', 'cloud_cover', 'weekday_sin', 'hour_sin', 'weekday_cos', 'apparent_temperature', 'day_of_week', 'day_of_year', 'direct_radiation', 'hour', 'is_holiday', 'local_datetime', 'run_date', 'snowfall', 'wind_direction_10m', 'wind_speed_10m']\n",
      "2025-05-27 11:20:46,960 - build_training_set - INFO - ❓ Price NaN count: 0/1920 (0.0%)\n",
      "2025-05-27 11:20:46,972 - build_training_set - INFO - ✅ Opgeslagen als training_set in WARP.db\n",
      "2025-05-27 11:20:46,974 - build_training_set - INFO - 🔒 Verbinding gesloten\n"
     ]
    },
    {
     "name": "stdout",
     "output_type": "stream",
     "text": [
      "Day 27: ❌ Error: feature_names mismatch: ['hour_cos', 'month', 'shortwave_radiation', 'Load', 'Flow_NO'] ['is_dst', 'hour_cos', 'hour_sin', 'month', 'is_non_working_day', 'shortwave_radiation', 'temperature_2m', 'Load', 'Flow_NO']\n",
      "training data did not have the following fields: is_dst, is_non_working_day, hour_sin, temperature_2m\n"
     ]
    },
    {
     "name": "stderr",
     "output_type": "stream",
     "text": [
      "2025-05-27 11:20:47,251 - build_training_set - INFO - 🚀 Start build van trainingset\n",
      "2025-05-27 11:20:47,252 - build_training_set - INFO - 🧠 Actuals van 2025-01-29 00:00:00+00:00 t/m 2025-04-11 23:00:00+00:00\n",
      "2025-05-27 11:20:47,252 - build_training_set - INFO - 📅 Forecast van run_date 2025-04-12 00:00:00+00:00, target range: 2025-04-12 00:00:00+00:00 → 2025-04-18 23:00:00+00:00\n",
      "2025-05-27 11:20:47,270 - build_training_set - INFO - ✅ Actuals geladen: 1752 rijen\n",
      "2025-05-27 11:20:47,415 - build_training_set - INFO - ✅ Added actual prices to 168 forecast rows\n",
      "/Users/Twan/Library/Mobile Documents/com~apple~CloudDocs/Data Science/Data Projects EASI/ENEXIS/src/utils/build_training_set.py:106: FutureWarning: The behavior of DataFrame concatenation with empty or all-NA entries is deprecated. In a future version, this will no longer exclude empty or all-NA columns when determining the result dtypes. To retain the old behavior, exclude the relevant entries before the concat operation.\n",
      "  df_combined = pd.concat([df_actuals, df_preds], ignore_index=True)\n",
      "2025-05-27 11:20:47,425 - build_training_set - INFO - 📦 Eindtabel bevat: 1920 rijen, 31 kolommen\n",
      "2025-05-27 11:20:47,426 - build_training_set - INFO - 🧾 Kolommen: ['Price', 'target_datetime', 'Load', 'shortwave_radiation', 'temperature_2m', 'direct_normal_irradiance', 'diffuse_radiation', 'Flow_NO', 'yearday_cos', 'Flow_GB', 'month', 'is_dst', 'yearday_sin', 'is_non_working_day', 'hour_cos', 'is_weekend', 'cloud_cover', 'weekday_sin', 'hour_sin', 'weekday_cos', 'apparent_temperature', 'day_of_week', 'day_of_year', 'direct_radiation', 'hour', 'is_holiday', 'local_datetime', 'run_date', 'snowfall', 'wind_direction_10m', 'wind_speed_10m']\n",
      "2025-05-27 11:20:47,426 - build_training_set - INFO - ❓ Price NaN count: 0/1920 (0.0%)\n",
      "2025-05-27 11:20:47,437 - build_training_set - INFO - ✅ Opgeslagen als training_set in WARP.db\n",
      "2025-05-27 11:20:47,438 - build_training_set - INFO - 🔒 Verbinding gesloten\n"
     ]
    },
    {
     "name": "stdout",
     "output_type": "stream",
     "text": [
      "Day 28: ❌ Error: feature_names mismatch: ['hour_cos', 'hour_sin', 'shortwave_radiation', 'Load', 'Flow_NO'] ['is_dst', 'hour_cos', 'hour_sin', 'month', 'is_non_working_day', 'shortwave_radiation', 'temperature_2m', 'Load', 'Flow_NO']\n",
      "training data did not have the following fields: is_dst, is_non_working_day, temperature_2m, month\n"
     ]
    },
    {
     "name": "stderr",
     "output_type": "stream",
     "text": [
      "2025-05-27 11:20:47,665 - build_training_set - INFO - 🚀 Start build van trainingset\n",
      "2025-05-27 11:20:47,665 - build_training_set - INFO - 🧠 Actuals van 2025-01-30 00:00:00+00:00 t/m 2025-04-12 23:00:00+00:00\n",
      "2025-05-27 11:20:47,665 - build_training_set - INFO - 📅 Forecast van run_date 2025-04-13 00:00:00+00:00, target range: 2025-04-13 00:00:00+00:00 → 2025-04-19 23:00:00+00:00\n",
      "2025-05-27 11:20:47,682 - build_training_set - INFO - ✅ Actuals geladen: 1752 rijen\n"
     ]
    },
    {
     "name": "stdout",
     "output_type": "stream",
     "text": [
      "Day 29: ❌ Error: feature_names mismatch: ['hour_cos', 'hour_sin', 'shortwave_radiation', 'Load', 'Flow_NO'] ['is_dst', 'hour_cos', 'hour_sin', 'month', 'is_non_working_day', 'shortwave_radiation', 'temperature_2m', 'Load', 'Flow_NO']\n",
      "training data did not have the following fields: is_dst, is_non_working_day, temperature_2m, month\n"
     ]
    },
    {
     "name": "stderr",
     "output_type": "stream",
     "text": [
      "2025-05-27 11:20:47,878 - build_training_set - INFO - ✅ Added actual prices to 168 forecast rows\n",
      "/Users/Twan/Library/Mobile Documents/com~apple~CloudDocs/Data Science/Data Projects EASI/ENEXIS/src/utils/build_training_set.py:106: FutureWarning: The behavior of DataFrame concatenation with empty or all-NA entries is deprecated. In a future version, this will no longer exclude empty or all-NA columns when determining the result dtypes. To retain the old behavior, exclude the relevant entries before the concat operation.\n",
      "  df_combined = pd.concat([df_actuals, df_preds], ignore_index=True)\n",
      "2025-05-27 11:20:47,888 - build_training_set - INFO - 📦 Eindtabel bevat: 1920 rijen, 31 kolommen\n",
      "2025-05-27 11:20:47,889 - build_training_set - INFO - 🧾 Kolommen: ['Price', 'target_datetime', 'Load', 'shortwave_radiation', 'temperature_2m', 'direct_normal_irradiance', 'diffuse_radiation', 'Flow_NO', 'yearday_cos', 'Flow_GB', 'month', 'is_dst', 'yearday_sin', 'is_non_working_day', 'hour_cos', 'is_weekend', 'cloud_cover', 'weekday_sin', 'hour_sin', 'weekday_cos', 'apparent_temperature', 'day_of_week', 'day_of_year', 'direct_radiation', 'hour', 'is_holiday', 'local_datetime', 'run_date', 'snowfall', 'wind_direction_10m', 'wind_speed_10m']\n",
      "2025-05-27 11:20:47,889 - build_training_set - INFO - ❓ Price NaN count: 0/1920 (0.0%)\n",
      "2025-05-27 11:20:47,902 - build_training_set - INFO - ✅ Opgeslagen als training_set in WARP.db\n",
      "2025-05-27 11:20:47,903 - build_training_set - INFO - 🔒 Verbinding gesloten\n"
     ]
    },
    {
     "name": "stdout",
     "output_type": "stream",
     "text": [
      "Day 30: ❌ Error: feature_names mismatch: ['hour_cos', 'hour_sin', 'shortwave_radiation', 'Load', 'Flow_NO'] ['is_dst', 'hour_cos', 'hour_sin', 'month', 'is_non_working_day', 'shortwave_radiation', 'temperature_2m', 'Load', 'Flow_NO']\n",
      "training data did not have the following fields: is_dst, is_non_working_day, temperature_2m, month\n",
      "❌ No runs completed successfully\n"
     ]
    }
   ],
   "source": [
    "# attempt to use Featre Selection Pipeline , SHAP values mainly\n",
    "\n",
    "import pandas as pd\n",
    "import numpy as np\n",
    "import xgboost as xgb\n",
    "from sklearn.metrics import mean_squared_error\n",
    "# Dynamic path setup\n",
    "import sys\n",
    "from pathlib import Path\n",
    "\n",
    "# Find project root dynamically\n",
    "current_dir = Path.cwd()\n",
    "while current_dir.name != \"ENEXIS\" and current_dir.parent != current_dir:\n",
    "    current_dir = current_dir.parent\n",
    "project_root = current_dir\n",
    "\n",
    "# Add utils to path\n",
    "utils_path = project_root / \"src\" / \"utils\"\n",
    "sys.path.append(str(utils_path))\n",
    "from build_training_set import build_training_set\n",
    "\n",
    "# Define feature columns and target\n",
    "COMMON_FEATURES = ['is_dst', 'hour_cos', 'hour_sin','month','is_non_working_day','shortwave_radiation', 'temperature_2m'\n",
    "    ]\n",
    "# list of all available features 'cloud_cover', 'direct_normal_irradiance', 'diffuse_radiation','hour_cos', 'hour_sin', 'is_dst', 'is_non_working_day','is_weekend', 'month', 'shortwave_radiation','temperature_2m', 'yearday_cos', 'yearday_sin'\n",
    "TRAIN_ONLY_FEATURES = ['Load','Flow_NO']  # <- Only used if known ex post\n",
    "\n",
    "TRAIN_FEATURES = COMMON_FEATURES + TRAIN_ONLY_FEATURES\n",
    "TEST_FEATURES = COMMON_FEATURES\n",
    "\n",
    "\n",
    "target = 'Price'\n",
    "\n",
    "# Initial training window\n",
    "base_start = \"2025-01-01 00:00:00\"\n",
    "base_end = \"2025-03-14 23:00:00\"\n",
    "base_run = \"2025-03-15 00:00:00\"\n",
    "\n",
    "rmse_results = []\n",
    "\n",
    "print(\"🔍 Testing XGBoost Model - RMSE per forecast day\")\n",
    "print(\"=\" * 60)\n",
    "\n",
    "for i in range(30):\n",
    "    start = pd.Timestamp(base_start) + pd.Timedelta(days=i)\n",
    "    end = pd.Timestamp(base_end) + pd.Timedelta(days=i)\n",
    "    run_date = pd.Timestamp(base_run) + pd.Timedelta(days=i)\n",
    "\n",
    "    try:\n",
    "        df = build_training_set(\n",
    "            train_start=start.strftime(\"%Y-%m-%d %H:%M:%S\"),\n",
    "            train_end=end.strftime(\"%Y-%m-%d %H:%M:%S\"),\n",
    "            run_date=run_date.strftime(\"%Y-%m-%d %H:%M:%S\")\n",
    "        )\n",
    "\n",
    "        if df is None or df.empty:\n",
    "            print(f\"Day {i+1}: ❌ No training data returned\")\n",
    "            continue\n",
    "\n",
    "        df['target_datetime'] = pd.to_datetime(df['target_datetime'], utc=True)\n",
    "        df = df.sort_values('target_datetime').set_index('target_datetime')\n",
    "\n",
    "        # Zorg dat run_date ook in UTC is\n",
    "        run_date_utc = run_date.tz_localize(\"UTC\")\n",
    "\n",
    "        # Split into training and testing sets\n",
    "        train_data = df[df.index <= run_date_utc]\n",
    "        test_data = df[df.index > run_date_utc]\n",
    "\n",
    "        # Drop any missing data in training\n",
    "        train_data = train_data.dropna(subset=features + [target])\n",
    "\n",
    "        if test_data.empty or train_data.empty:\n",
    "            print(f\"Day {i+1}: ❌ Not enough data for training or testing\")\n",
    "            continue\n",
    "\n",
    "        # Feature selection wrapper\n",
    "        from sklearn.feature_selection import SelectFromModel\n",
    "\n",
    "        full_X_train = train_data[TRAIN_FEATURES]\n",
    "        full_y_train = train_data[target]\n",
    "\n",
    "        # Train model on full feature set\n",
    "        model = xgb.XGBRegressor(objective='reg:squarederror', random_state=42)\n",
    "        model.fit(full_X_train, full_y_train)\n",
    "\n",
    "        # Feature selection\n",
    "        selector = SelectFromModel(model, prefit=True, threshold=\"median\")\n",
    "        selected_columns = full_X_train.columns[selector.get_support()]\n",
    "\n",
    "        # Apply selection to both train and test\n",
    "        X_train = full_X_train[selected_columns]\n",
    "        X_test = test_data.reindex(columns=selected_columns)\n",
    "\n",
    "        # Aanvullen met NaN-kolommen waar nodig\n",
    "        for col in TRAIN_FEATURES:\n",
    "            if col not in test_data.columns:\n",
    "                test_data[col] = np.nan\n",
    "\n",
    "        X_test = test_data[TRAIN_FEATURES]\n",
    "        y_test = test_data[target]\n",
    "\n",
    "        model = xgb.XGBRegressor(objective='reg:squarederror', random_state=42)\n",
    "        model.fit(X_train, y_train)\n",
    "\n",
    "        y_pred = model.predict(X_test)\n",
    "\n",
    "        rmse = np.sqrt(mean_squared_error(y_test, y_pred))\n",
    "        rmse_results.append({\n",
    "            'iteration': i + 1,\n",
    "            'run_date': run_date.strftime('%Y-%m-%d'),\n",
    "            'valid_predictions': len(test_data),\n",
    "            'rmse': rmse\n",
    "        })\n",
    "\n",
    "        print(f\"Day {i+1}: ✅ {len(test_data)} test rows, Run: {run_date.strftime('%m-%d')}\")\n",
    "\n",
    "    except Exception as e:\n",
    "        print(f\"Day {i+1}: ❌ Error: {e}\")\n",
    "\n",
    "# Create results dataframe\n",
    "if rmse_results:\n",
    "    rmse_df = pd.DataFrame(rmse_results)\n",
    "\n",
    "    print(f\"\\n📊 OVERALL RMSE - XGBoost Model\")\n",
    "    print(\"=\" * 80)\n",
    "    print(f\"Successful runs: {len(rmse_df)}/30\")\n",
    "\n",
    "    print(rmse_df[['iteration', 'run_date', 'valid_predictions', 'rmse']].round(2).to_string(index=False))\n",
    "\n",
    "    print(f\"\\n📈 SUMMARY STATISTICS\")\n",
    "    print(\"-\" * 40)\n",
    "    print(rmse_df['rmse'].describe().round(2))\n",
    "\n",
    "    print(f\"\\n📊 AVERAGE OVERALL RMSE\")\n",
    "    print(\"-\" * 40)\n",
    "    print(f\"Mean RMSE: {rmse_df['rmse'].mean():.2f}\")\n",
    "else:\n",
    "    print(\"❌ No runs completed successfully\")"
   ]
  },
  {
   "cell_type": "code",
   "execution_count": null,
   "id": "c0feaa46",
   "metadata": {},
   "outputs": [],
   "source": [
    "# Get feature importances from the trained XGBoost model\n",
    "importances = model.feature_importances_\n",
    "feature_names = model.feature_names_in_\n",
    "\n",
    "# Create a DataFrame for better visualization\n",
    "feat_imp_df = pd.DataFrame({\n",
    "    'Feature': feature_names,\n",
    "    'Importance': importances\n",
    "}).sort_values(by='Importance', ascending=False)\n",
    "\n",
    "# Display the feature importances\n",
    "print(feat_imp_df)\n",
    "\n",
    "# Optional: Plot feature importances\n",
    "plt.figure(figsize=(10, 6))\n",
    "sns.barplot(x='Importance', y='Feature', data=feat_imp_df, palette='viridis')\n",
    "plt.title('Feature Importance (XGBoost)')\n",
    "plt.tight_layout()\n",
    "plt.show()"
   ]
  },
  {
   "cell_type": "code",
   "execution_count": null,
   "id": "1b1aeffa",
   "metadata": {},
   "outputs": [],
   "source": [
    "# Get feature importances from the last trained model\n",
    "importances = model.feature_importances_\n",
    "feature_names = model.feature_names_in_\n",
    "\n",
    "# Create a DataFrame for better visualization\n",
    "feat_imp_df = pd.DataFrame({\n",
    "    'Feature': feature_names,\n",
    "    'Importance': importances\n",
    "}).sort_values(by='Importance', ascending=False)\n",
    "\n",
    "# Display the feature importances\n",
    "print(feat_imp_df)\n",
    "\n",
    "# Optional: Plot feature importances\n",
    "plt.figure(figsize=(10, 6))\n",
    "sns.barplot(x='Importance', y='Feature', data=feat_imp_df, palette='viridis')\n",
    "plt.title('Feature Importance (XGBoost)')\n",
    "plt.tight_layout()\n",
    "plt.show()"
   ]
  }
 ],
 "metadata": {
  "kernelspec": {
   "display_name": ".venv",
   "language": "python",
   "name": "python3"
  },
  "language_info": {
   "codemirror_mode": {
    "name": "ipython",
    "version": 3
   },
   "file_extension": ".py",
   "mimetype": "text/x-python",
   "name": "python",
   "nbconvert_exporter": "python",
   "pygments_lexer": "ipython3",
   "version": "3.12.6"
  }
 },
 "nbformat": 4,
 "nbformat_minor": 5
}
