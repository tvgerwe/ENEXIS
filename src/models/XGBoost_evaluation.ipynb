{
 "cells": [
  {
   "cell_type": "code",
   "execution_count": 20,
   "id": "a5ed57bf",
   "metadata": {},
   "outputs": [],
   "source": [
    "import pandas as pd\n",
    "import numpy as np\n",
    "import matplotlib.pyplot as plt\n",
    "import seaborn as sns\n",
    "import datetime\n",
    "color_pal = sns.color_palette()\n",
    "import xgboost as xgb\n",
    "from sklearn.model_selection import train_test_split\n",
    "from sklearn.metrics import mean_squared_error\n"
   ]
  },
  {
   "cell_type": "code",
   "execution_count": 21,
   "id": "3b50d883",
   "metadata": {},
   "outputs": [
    {
     "name": "stdout",
     "output_type": "stream",
     "text": [
      "Index(['Price', 'target_datetime', 'Load', 'shortwave_radiation',\n",
      "       'temperature_2m', 'direct_normal_irradiance', 'diffuse_radiation',\n",
      "       'Flow_NO', 'yearday_cos', 'Flow_GB', 'month', 'is_dst', 'yearday_sin',\n",
      "       'is_non_working_day', 'hour_cos', 'is_weekend', 'cloud_cover',\n",
      "       'weekday_sin', 'hour_sin', 'weekday_cos'],\n",
      "      dtype='object')\n"
     ]
    }
   ],
   "source": [
    "import sqlite3\n",
    "\n",
    "conn = sqlite3.connect('../data/WARP.db')\n",
    "df = pd.read_sql_query(\"SELECT * FROM master_warp\", conn)\n",
    "conn.close()\n",
    "print(df.columns)"
   ]
  },
  {
   "cell_type": "code",
   "execution_count": 22,
   "id": "aad43210",
   "metadata": {},
   "outputs": [
    {
     "name": "stdout",
     "output_type": "stream",
     "text": [
      "Forecast origin: 2025-03-13 12:00:00+00:00, Predicting 2025-03-15 00:00:00+00:00 to 2025-03-21 00:00:00+00:00, RMSE: 0.020\n",
      "Forecast origin: 2025-03-14 12:00:00+00:00, Predicting 2025-03-16 00:00:00+00:00 to 2025-03-22 00:00:00+00:00, RMSE: 0.024\n",
      "Forecast origin: 2025-03-15 12:00:00+00:00, Predicting 2025-03-17 00:00:00+00:00 to 2025-03-23 00:00:00+00:00, RMSE: 0.032\n",
      "Forecast origin: 2025-03-16 12:00:00+00:00, Predicting 2025-03-18 00:00:00+00:00 to 2025-03-24 00:00:00+00:00, RMSE: 0.030\n",
      "Forecast origin: 2025-03-17 12:00:00+00:00, Predicting 2025-03-19 00:00:00+00:00 to 2025-03-25 00:00:00+00:00, RMSE: 0.033\n",
      "Forecast origin: 2025-03-18 12:00:00+00:00, Predicting 2025-03-20 00:00:00+00:00 to 2025-03-26 00:00:00+00:00, RMSE: 0.032\n",
      "Forecast origin: 2025-03-19 12:00:00+00:00, Predicting 2025-03-21 00:00:00+00:00 to 2025-03-27 00:00:00+00:00, RMSE: 0.029\n",
      "Forecast origin: 2025-03-20 12:00:00+00:00, Predicting 2025-03-22 00:00:00+00:00 to 2025-03-28 00:00:00+00:00, RMSE: 0.025\n",
      "Forecast origin: 2025-03-21 12:00:00+00:00, Predicting 2025-03-23 00:00:00+00:00 to 2025-03-29 00:00:00+00:00, RMSE: 0.019\n",
      "Forecast origin: 2025-03-22 12:00:00+00:00, Predicting 2025-03-24 00:00:00+00:00 to 2025-03-30 00:00:00+00:00, RMSE: 0.024\n",
      "Forecast origin: 2025-03-23 12:00:00+00:00, Predicting 2025-03-25 00:00:00+00:00 to 2025-03-31 00:00:00+00:00, RMSE: 0.024\n",
      "Forecast origin: 2025-03-24 12:00:00+00:00, Predicting 2025-03-26 00:00:00+00:00 to 2025-04-01 00:00:00+00:00, RMSE: 0.026\n",
      "Forecast origin: 2025-03-25 12:00:00+00:00, Predicting 2025-03-27 00:00:00+00:00 to 2025-04-02 00:00:00+00:00, RMSE: 0.028\n",
      "Forecast origin: 2025-03-26 12:00:00+00:00, Predicting 2025-03-28 00:00:00+00:00 to 2025-04-03 00:00:00+00:00, RMSE: 0.030\n",
      "Forecast origin: 2025-03-27 12:00:00+00:00, Predicting 2025-03-29 00:00:00+00:00 to 2025-04-04 00:00:00+00:00, RMSE: 0.035\n",
      "Forecast origin: 2025-03-28 12:00:00+00:00, Predicting 2025-03-30 00:00:00+00:00 to 2025-04-05 00:00:00+00:00, RMSE: 0.040\n",
      "Forecast origin: 2025-03-29 12:00:00+00:00, Predicting 2025-03-31 00:00:00+00:00 to 2025-04-06 00:00:00+00:00, RMSE: 0.044\n",
      "Forecast origin: 2025-03-30 12:00:00+00:00, Predicting 2025-04-01 00:00:00+00:00 to 2025-04-07 00:00:00+00:00, RMSE: 0.048\n",
      "Forecast origin: 2025-03-31 12:00:00+00:00, Predicting 2025-04-02 00:00:00+00:00 to 2025-04-08 00:00:00+00:00, RMSE: 0.045\n",
      "Forecast origin: 2025-04-01 12:00:00+00:00, Predicting 2025-04-03 00:00:00+00:00 to 2025-04-09 00:00:00+00:00, RMSE: 0.041\n",
      "Forecast origin: 2025-04-02 12:00:00+00:00, Predicting 2025-04-04 00:00:00+00:00 to 2025-04-10 00:00:00+00:00, RMSE: 0.037\n",
      "Forecast origin: 2025-04-03 12:00:00+00:00, Predicting 2025-04-05 00:00:00+00:00 to 2025-04-11 00:00:00+00:00, RMSE: 0.031\n",
      "Forecast origin: 2025-04-04 12:00:00+00:00, Predicting 2025-04-06 00:00:00+00:00 to 2025-04-12 00:00:00+00:00, RMSE: 0.025\n",
      "Forecast origin: 2025-04-05 12:00:00+00:00, Predicting 2025-04-07 00:00:00+00:00 to 2025-04-13 00:00:00+00:00, RMSE: 0.021\n",
      "Forecast origin: 2025-04-06 12:00:00+00:00, Predicting 2025-04-08 00:00:00+00:00 to 2025-04-14 00:00:00+00:00, RMSE: 0.024\n",
      "Forecast origin: 2025-04-07 12:00:00+00:00, Predicting 2025-04-09 00:00:00+00:00 to 2025-04-15 00:00:00+00:00, RMSE: 0.023\n",
      "Forecast origin: 2025-04-08 12:00:00+00:00, Predicting 2025-04-10 00:00:00+00:00 to 2025-04-16 00:00:00+00:00, RMSE: 0.024\n",
      "Forecast origin: 2025-04-09 12:00:00+00:00, Predicting 2025-04-11 00:00:00+00:00 to 2025-04-17 00:00:00+00:00, RMSE: 0.024\n",
      "Forecast origin: 2025-04-10 12:00:00+00:00, Predicting 2025-04-12 00:00:00+00:00 to 2025-04-18 00:00:00+00:00, RMSE: 0.022\n",
      "Forecast origin: 2025-04-11 12:00:00+00:00, Predicting 2025-04-13 00:00:00+00:00 to 2025-04-19 00:00:00+00:00, RMSE: 0.024\n",
      "Forecast origin: 2025-04-12 12:00:00+00:00, Predicting 2025-04-14 00:00:00+00:00 to 2025-04-20 00:00:00+00:00, RMSE: 0.024\n",
      "Forecast origin: 2025-04-13 12:00:00+00:00, Predicting 2025-04-15 00:00:00+00:00 to 2025-04-21 00:00:00+00:00, RMSE: 0.024\n",
      "Forecast origin: 2025-04-14 12:00:00+00:00, Predicting 2025-04-16 00:00:00+00:00 to 2025-04-22 00:00:00+00:00, RMSE: 0.025\n",
      "Forecast origin: 2025-04-15 12:00:00+00:00, Predicting 2025-04-17 00:00:00+00:00 to 2025-04-23 00:00:00+00:00, RMSE: 0.029\n",
      "Forecast origin: 2025-04-16 12:00:00+00:00, Predicting 2025-04-18 00:00:00+00:00 to 2025-04-24 00:00:00+00:00, RMSE: 0.032\n",
      "Forecast origin: 2025-04-17 12:00:00+00:00, Predicting 2025-04-19 00:00:00+00:00 to 2025-04-25 00:00:00+00:00, RMSE: 0.031\n",
      "Forecast origin: 2025-04-18 12:00:00+00:00, Predicting 2025-04-20 00:00:00+00:00 to 2025-04-26 00:00:00+00:00, RMSE: 0.039\n",
      "Forecast origin: 2025-04-19 12:00:00+00:00, Predicting 2025-04-21 00:00:00+00:00 to 2025-04-27 00:00:00+00:00, RMSE: 0.039\n",
      "Forecast origin: 2025-04-20 12:00:00+00:00, Predicting 2025-04-22 00:00:00+00:00 to 2025-04-28 00:00:00+00:00, RMSE: 0.039\n",
      "Forecast origin: 2025-04-21 12:00:00+00:00, Predicting 2025-04-23 00:00:00+00:00 to 2025-04-29 00:00:00+00:00, RMSE: 0.036\n",
      "Forecast origin: 2025-04-22 12:00:00+00:00, Predicting 2025-04-24 00:00:00+00:00 to 2025-04-30 00:00:00+00:00, RMSE: 0.035\n",
      "Forecast origin: 2025-04-23 12:00:00+00:00, Predicting 2025-04-25 00:00:00+00:00 to 2025-05-01 00:00:00+00:00, RMSE: 0.034\n",
      "Forecast origin: 2025-04-24 12:00:00+00:00, Predicting 2025-04-26 00:00:00+00:00 to 2025-05-02 00:00:00+00:00, RMSE: 0.034\n",
      "Forecast origin: 2025-04-25 12:00:00+00:00, Predicting 2025-04-27 00:00:00+00:00 to 2025-05-03 00:00:00+00:00, RMSE: 0.051\n",
      "Forecast origin: 2025-04-26 12:00:00+00:00, Predicting 2025-04-28 00:00:00+00:00 to 2025-05-04 00:00:00+00:00, RMSE: 0.035\n",
      "Forecast origin: 2025-04-27 12:00:00+00:00, Predicting 2025-04-29 00:00:00+00:00 to 2025-05-05 00:00:00+00:00, RMSE: 0.036\n",
      "Forecast origin: 2025-04-28 12:00:00+00:00, Predicting 2025-04-30 00:00:00+00:00 to 2025-05-06 00:00:00+00:00, RMSE: 0.040\n",
      "Forecast origin: 2025-04-29 12:00:00+00:00, Predicting 2025-05-01 00:00:00+00:00 to 2025-05-07 00:00:00+00:00, RMSE: 0.037\n",
      "Forecast origin: 2025-04-30 12:00:00+00:00, Predicting 2025-05-02 00:00:00+00:00 to 2025-05-08 00:00:00+00:00, RMSE: 0.033\n",
      "Forecast origin: 2025-05-01 12:00:00+00:00, Predicting 2025-05-03 00:00:00+00:00 to 2025-05-09 00:00:00+00:00, RMSE: 0.040\n",
      "Forecast origin: 2025-05-02 12:00:00+00:00, Predicting 2025-05-04 00:00:00+00:00 to 2025-05-10 00:00:00+00:00, RMSE: 0.050\n",
      "Forecast origin: 2025-05-03 12:00:00+00:00, Predicting 2025-05-05 00:00:00+00:00 to 2025-05-11 00:00:00+00:00, RMSE: 0.040\n",
      "Forecast origin: 2025-05-04 12:00:00+00:00, Predicting 2025-05-06 00:00:00+00:00 to 2025-05-12 00:00:00+00:00, RMSE: 0.049\n",
      "Forecast origin: 2025-05-05 12:00:00+00:00, Predicting 2025-05-07 00:00:00+00:00 to 2025-05-13 00:00:00+00:00, RMSE: 0.050\n",
      "Forecast origin: 2025-05-06 12:00:00+00:00, Predicting 2025-05-08 00:00:00+00:00 to 2025-05-14 00:00:00+00:00, RMSE: 0.049\n",
      "Forecast origin: 2025-05-07 12:00:00+00:00, Predicting 2025-05-09 00:00:00+00:00 to 2025-05-15 00:00:00+00:00, RMSE: 0.044\n",
      "Forecast origin: 2025-05-08 12:00:00+00:00, Predicting 2025-05-10 00:00:00+00:00 to 2025-05-16 00:00:00+00:00, RMSE: 0.038\n",
      "Forecast origin: 2025-05-09 12:00:00+00:00, Predicting 2025-05-11 00:00:00+00:00 to 2025-05-17 00:00:00+00:00, RMSE: 0.043\n",
      "Forecast origin: 2025-05-10 12:00:00+00:00, Predicting 2025-05-12 00:00:00+00:00 to 2025-05-18 00:00:00+00:00, RMSE: 0.027\n",
      "Forecast origin: 2025-05-11 12:00:00+00:00, Predicting 2025-05-13 00:00:00+00:00 to 2025-05-19 00:00:00+00:00, RMSE: 0.038\n",
      "Forecast origin: 2025-05-12 12:00:00+00:00, Predicting 2025-05-14 00:00:00+00:00 to 2025-05-20 00:00:00+00:00, RMSE: 0.028\n",
      "Forecast origin: 2025-05-13 12:00:00+00:00, Predicting 2025-05-15 00:00:00+00:00 to 2025-05-21 00:00:00+00:00, RMSE: 0.026\n",
      "Forecast origin: 2025-05-14 12:00:00+00:00, Predicting 2025-05-16 00:00:00+00:00 to 2025-05-22 00:00:00+00:00, RMSE: 0.027\n",
      "\n",
      "Average RMSE over 63 runs: 0.03306\n",
      "Average RMSE over first 30 runs: 0.02940\n"
     ]
    }
   ],
   "source": [
    "import pandas as pd\n",
    "import numpy as np\n",
    "import xgboost as xgb\n",
    "from sklearn.metrics import mean_squared_error\n",
    "from datetime import timedelta\n",
    "\n",
    "# Feature and target setup\n",
    "features = [\n",
    "    'Flow_NO','is_dst', 'hour_cos', 'hour_sin','month',\n",
    "    'Load','is_non_working_day','shortwave_radiation', 'temperature_2m' \n",
    "] # excluding  'direct_normal_irradiance', 'diffuse_radiation','yearday_cos', 'yearday_sin', 'cloud_cover', 'Flow_GB',  'is_weekend',\n",
    "target = 'Price'\n",
    "\n",
    "\n",
    "# Safe datetime handling\n",
    "if 'target_datetime' not in df.columns:\n",
    "    print(\"'target_datetime' column not found in columns. Sorting by index instead.\")\n",
    "    df = df.sort_index()\n",
    "else:\n",
    "    df['target_datetime'] = pd.to_datetime(df['target_datetime'])\n",
    "    df = df.set_index('target_datetime')\n",
    "\n",
    "\n",
    "# Forecast settings\n",
    "start_date = pd.Timestamp(\"2025-03-13 12:00\", tz='UTC')\n",
    "end_date = pd.Timestamp(\"2025-05-14 12:00\", tz='UTC')\n",
    "lag = timedelta(hours=36)\n",
    "forecast_horizon = timedelta(hours=144)\n",
    "\n",
    "# Store RMSEs\n",
    "rmses = []\n",
    "\n",
    "current_time = start_date\n",
    "while current_time <= end_date:\n",
    "    train_data = df[df.index < current_time]\n",
    "    test_start = current_time + lag # check current time  \n",
    "    test_end = test_start + forecast_horizon\n",
    "    test_data = df[(df.index >= test_start) & (df.index < test_end)]\n",
    "\n",
    "    if test_data.empty:\n",
    "        print(f\"No test data for forecast starting at {current_time}\")\n",
    "        current_time += timedelta(days=1)\n",
    "        continue\n",
    "\n",
    "    X_train = train_data[features]\n",
    "    y_train = train_data[target]\n",
    "    X_test = test_data[features]\n",
    "    y_test = test_data[target]\n",
    "\n",
    "    # Train and predict\n",
    "    model = xgb.XGBRegressor(objective='reg:squarederror', random_state=42)\n",
    "    model.fit(X_train, y_train)\n",
    "    y_pred = model.predict(X_test)\n",
    "\n",
    "    # Evaluate\n",
    "    rmse = np.sqrt(mean_squared_error(y_test, y_pred))\n",
    "    rmses.append(rmse)\n",
    "\n",
    "    print(f\"Forecast origin: {current_time}, Predicting {test_start} to {test_end}, RMSE: {rmse:.3f}\")\n",
    "\n",
    "    current_time += timedelta(days=1)\n",
    "\n",
    "# Summary\n",
    "avg_rmse = np.mean(rmses)\n",
    "print(f\"\\nAverage RMSE over {len(rmses)} runs: {avg_rmse:.5f}\")\n",
    "\n",
    "# Calculate average RMSE over the first 30 runs\n",
    "if len(rmses) >= 30:\n",
    "    avg_rmse_30 = np.mean(rmses[:30])\n",
    "    print(f\"Average RMSE over first 30 runs: {avg_rmse_30:.5f}\")\n",
    "else:\n",
    "    print(\"Less than 30 runs available to calculate average RMSE.\")"
   ]
  },
  {
   "cell_type": "code",
   "execution_count": null,
   "id": "7be28f9d",
   "metadata": {},
   "outputs": [
    {
     "name": "stdout",
     "output_type": "stream",
     "text": [
      "'target_datetime' column not found in columns. Sorting by index instead.\n",
      "Forecast origin: 2025-03-13 12:00:00+00:00, Predicting 2025-03-13 12:00:00+00:00 to 2025-03-20 12:00:00+00:00, RMSE: 0.019\n",
      "Forecast origin: 2025-03-14 12:00:00+00:00, Predicting 2025-03-14 12:00:00+00:00 to 2025-03-21 12:00:00+00:00, RMSE: 0.020\n",
      "Forecast origin: 2025-03-15 12:00:00+00:00, Predicting 2025-03-15 12:00:00+00:00 to 2025-03-22 12:00:00+00:00, RMSE: 0.027\n",
      "Forecast origin: 2025-03-16 12:00:00+00:00, Predicting 2025-03-16 12:00:00+00:00 to 2025-03-23 12:00:00+00:00, RMSE: 0.030\n",
      "Forecast origin: 2025-03-17 12:00:00+00:00, Predicting 2025-03-17 12:00:00+00:00 to 2025-03-24 12:00:00+00:00, RMSE: 0.030\n",
      "Forecast origin: 2025-03-18 12:00:00+00:00, Predicting 2025-03-18 12:00:00+00:00 to 2025-03-25 12:00:00+00:00, RMSE: 0.030\n",
      "Forecast origin: 2025-03-19 12:00:00+00:00, Predicting 2025-03-19 12:00:00+00:00 to 2025-03-26 12:00:00+00:00, RMSE: 0.031\n",
      "Forecast origin: 2025-03-20 12:00:00+00:00, Predicting 2025-03-20 12:00:00+00:00 to 2025-03-27 12:00:00+00:00, RMSE: 0.028\n",
      "Forecast origin: 2025-03-21 12:00:00+00:00, Predicting 2025-03-21 12:00:00+00:00 to 2025-03-28 12:00:00+00:00, RMSE: 0.029\n",
      "Forecast origin: 2025-03-22 12:00:00+00:00, Predicting 2025-03-22 12:00:00+00:00 to 2025-03-29 12:00:00+00:00, RMSE: 0.033\n",
      "Forecast origin: 2025-03-23 12:00:00+00:00, Predicting 2025-03-23 12:00:00+00:00 to 2025-03-30 12:00:00+00:00, RMSE: 0.025\n",
      "Forecast origin: 2025-03-24 12:00:00+00:00, Predicting 2025-03-24 12:00:00+00:00 to 2025-03-31 12:00:00+00:00, RMSE: 0.026\n",
      "Forecast origin: 2025-03-25 12:00:00+00:00, Predicting 2025-03-25 12:00:00+00:00 to 2025-04-01 12:00:00+00:00, RMSE: 0.027\n",
      "Forecast origin: 2025-03-26 12:00:00+00:00, Predicting 2025-03-26 12:00:00+00:00 to 2025-04-02 12:00:00+00:00, RMSE: 0.027\n",
      "Forecast origin: 2025-03-27 12:00:00+00:00, Predicting 2025-03-27 12:00:00+00:00 to 2025-04-03 12:00:00+00:00, RMSE: 0.030\n",
      "Forecast origin: 2025-03-28 12:00:00+00:00, Predicting 2025-03-28 12:00:00+00:00 to 2025-04-04 12:00:00+00:00, RMSE: 0.031\n",
      "Forecast origin: 2025-03-29 12:00:00+00:00, Predicting 2025-03-29 12:00:00+00:00 to 2025-04-05 12:00:00+00:00, RMSE: 0.031\n",
      "Forecast origin: 2025-03-30 12:00:00+00:00, Predicting 2025-03-30 12:00:00+00:00 to 2025-04-06 12:00:00+00:00, RMSE: 0.035\n",
      "Forecast origin: 2025-03-31 12:00:00+00:00, Predicting 2025-03-31 12:00:00+00:00 to 2025-04-07 12:00:00+00:00, RMSE: 0.044\n",
      "Forecast origin: 2025-04-01 12:00:00+00:00, Predicting 2025-04-01 12:00:00+00:00 to 2025-04-08 12:00:00+00:00, RMSE: 0.040\n",
      "Forecast origin: 2025-04-02 12:00:00+00:00, Predicting 2025-04-02 12:00:00+00:00 to 2025-04-09 12:00:00+00:00, RMSE: 0.035\n",
      "Forecast origin: 2025-04-03 12:00:00+00:00, Predicting 2025-04-03 12:00:00+00:00 to 2025-04-10 12:00:00+00:00, RMSE: 0.032\n",
      "Forecast origin: 2025-04-04 12:00:00+00:00, Predicting 2025-04-04 12:00:00+00:00 to 2025-04-11 12:00:00+00:00, RMSE: 0.028\n",
      "Forecast origin: 2025-04-05 12:00:00+00:00, Predicting 2025-04-05 12:00:00+00:00 to 2025-04-12 12:00:00+00:00, RMSE: 0.026\n",
      "Forecast origin: 2025-04-06 12:00:00+00:00, Predicting 2025-04-06 12:00:00+00:00 to 2025-04-13 12:00:00+00:00, RMSE: 0.041\n",
      "Forecast origin: 2025-04-07 12:00:00+00:00, Predicting 2025-04-07 12:00:00+00:00 to 2025-04-14 12:00:00+00:00, RMSE: 0.048\n",
      "Forecast origin: 2025-04-08 12:00:00+00:00, Predicting 2025-04-08 12:00:00+00:00 to 2025-04-15 12:00:00+00:00, RMSE: 0.045\n",
      "Forecast origin: 2025-04-09 12:00:00+00:00, Predicting 2025-04-09 12:00:00+00:00 to 2025-04-16 12:00:00+00:00, RMSE: 0.062\n",
      "Forecast origin: 2025-04-10 12:00:00+00:00, Predicting 2025-04-10 12:00:00+00:00 to 2025-04-17 12:00:00+00:00, RMSE: 0.064\n",
      "Forecast origin: 2025-04-11 12:00:00+00:00, Predicting 2025-04-11 12:00:00+00:00 to 2025-04-18 12:00:00+00:00, RMSE: 0.047\n",
      "Forecast origin: 2025-04-12 12:00:00+00:00, Predicting 2025-04-12 12:00:00+00:00 to 2025-04-19 12:00:00+00:00, RMSE: 0.061\n",
      "Forecast origin: 2025-04-13 12:00:00+00:00, Predicting 2025-04-13 12:00:00+00:00 to 2025-04-20 12:00:00+00:00, RMSE: 0.063\n",
      "Forecast origin: 2025-04-14 12:00:00+00:00, Predicting 2025-04-14 12:00:00+00:00 to 2025-04-21 12:00:00+00:00, RMSE: 0.022\n",
      "Forecast origin: 2025-04-15 12:00:00+00:00, Predicting 2025-04-15 12:00:00+00:00 to 2025-04-22 12:00:00+00:00, RMSE: 0.019\n",
      "Forecast origin: 2025-04-16 12:00:00+00:00, Predicting 2025-04-16 12:00:00+00:00 to 2025-04-23 12:00:00+00:00, RMSE: 0.018\n",
      "Forecast origin: 2025-04-17 12:00:00+00:00, Predicting 2025-04-17 12:00:00+00:00 to 2025-04-24 12:00:00+00:00, RMSE: 0.017\n",
      "Forecast origin: 2025-04-18 12:00:00+00:00, Predicting 2025-04-18 12:00:00+00:00 to 2025-04-25 12:00:00+00:00, RMSE: 0.019\n",
      "Forecast origin: 2025-04-19 12:00:00+00:00, Predicting 2025-04-19 12:00:00+00:00 to 2025-04-26 12:00:00+00:00, RMSE: 0.015\n",
      "No test data for forecast starting at 2025-04-20 12:00:00+00:00\n",
      "No test data for forecast starting at 2025-04-21 12:00:00+00:00\n",
      "No test data for forecast starting at 2025-04-22 12:00:00+00:00\n",
      "No test data for forecast starting at 2025-04-23 12:00:00+00:00\n",
      "No test data for forecast starting at 2025-04-24 12:00:00+00:00\n",
      "No test data for forecast starting at 2025-04-25 12:00:00+00:00\n",
      "No test data for forecast starting at 2025-04-26 12:00:00+00:00\n",
      "No test data for forecast starting at 2025-04-27 12:00:00+00:00\n",
      "No test data for forecast starting at 2025-04-28 12:00:00+00:00\n",
      "No test data for forecast starting at 2025-04-29 12:00:00+00:00\n",
      "No test data for forecast starting at 2025-04-30 12:00:00+00:00\n",
      "No test data for forecast starting at 2025-05-01 12:00:00+00:00\n",
      "No test data for forecast starting at 2025-05-02 12:00:00+00:00\n",
      "No test data for forecast starting at 2025-05-03 12:00:00+00:00\n",
      "No test data for forecast starting at 2025-05-04 12:00:00+00:00\n",
      "No test data for forecast starting at 2025-05-05 12:00:00+00:00\n",
      "No test data for forecast starting at 2025-05-06 12:00:00+00:00\n",
      "No test data for forecast starting at 2025-05-07 12:00:00+00:00\n",
      "No test data for forecast starting at 2025-05-08 12:00:00+00:00\n",
      "No test data for forecast starting at 2025-05-09 12:00:00+00:00\n",
      "No test data for forecast starting at 2025-05-10 12:00:00+00:00\n",
      "No test data for forecast starting at 2025-05-11 12:00:00+00:00\n",
      "No test data for forecast starting at 2025-05-12 12:00:00+00:00\n",
      "No test data for forecast starting at 2025-05-13 12:00:00+00:00\n",
      "No test data for forecast starting at 2025-05-14 12:00:00+00:00\n",
      "\n",
      "Average RMSE over 38 runs: 0.03296\n",
      "Average RMSE over first 30 runs: 0.03399\n"
     ]
    }
   ],
   "source": [
    "# no lag, 7 days forecast horizon. higly similar average RMSE to the 36 hours lag, 6 days forecast horizon.\n",
    "import pandas as pd\n",
    "import numpy as np\n",
    "import xgboost as xgb\n",
    "from sklearn.metrics import mean_squared_error\n",
    "from datetime import timedelta\n",
    "\n",
    "# Feature and target setup\n",
    "features = [\n",
    "    'Flow_NO','is_dst', 'hour_cos', 'hour_sin','month',\n",
    "    'Load','is_non_working_day','shortwave_radiation', 'temperature_2m'\n",
    "] # excluding  'direct_normal_irradiance', 'diffuse_radiation', 'cloud_cover', 'Flow_GB',  'is_weekend','yearday_cos', 'yearday_sin'\n",
    "target = 'Price'\n",
    "\n",
    "\n",
    "# Safe datetime handling\n",
    "if 'target_datetime' not in df.columns:\n",
    "    print(\"'target_datetime' column not found in columns. Sorting by index instead.\")\n",
    "    df = df.sort_index()\n",
    "else:\n",
    "    df['target_datetime'] = pd.to_datetime(df['target_datetime'])\n",
    "    df = df.set_index('target_datetime')\n",
    "\n",
    "\n",
    "# Forecast settings\n",
    "start_date = pd.Timestamp(\"2025-03-13 12:00\", tz='UTC')\n",
    "end_date = pd.Timestamp(\"2025-05-14 12:00\", tz='UTC')\n",
    "lag = timedelta(hours=0)  # No lag\n",
    "forecast_horizon = timedelta(hours=168)  # 7 days\n",
    "\n",
    "# Store RMSEs\n",
    "rmses = []\n",
    "\n",
    "current_time = start_date\n",
    "while current_time <= end_date:\n",
    "    train_data = df[df.index < current_time]\n",
    "    test_start = current_time + lag # check current time  \n",
    "    test_end = test_start + forecast_horizon\n",
    "    test_data = df[(df.index >= test_start) & (df.index < test_end)]\n",
    "\n",
    "    if test_data.empty:\n",
    "        print(f\"No test data for forecast starting at {current_time}\")\n",
    "        current_time += timedelta(days=1)\n",
    "        continue\n",
    "\n",
    "    X_train = train_data[features]\n",
    "    y_train = train_data[target]\n",
    "    X_test = test_data[features]\n",
    "    y_test = test_data[target]\n",
    "\n",
    "    # Train and predict\n",
    "    model = xgb.XGBRegressor(objective='reg:squarederror', random_state=42)\n",
    "    model.fit(X_train, y_train)\n",
    "    y_pred = model.predict(X_test)\n",
    "\n",
    "    # Evaluate\n",
    "    rmse = np.sqrt(mean_squared_error(y_test, y_pred))\n",
    "    rmses.append(rmse)\n",
    "\n",
    "    print(f\"Forecast origin: {current_time}, Predicting {test_start} to {test_end}, RMSE: {rmse:.3f}\")\n",
    "\n",
    "    current_time += timedelta(days=1)\n",
    "\n",
    "# Summary\n",
    "avg_rmse = np.mean(rmses)\n",
    "print(f\"\\nAverage RMSE over {len(rmses)} runs: {avg_rmse:.5f}\")\n",
    "\n",
    "# Calculate average RMSE over the first 30 runs\n",
    "if len(rmses) >= 30:\n",
    "    avg_rmse_30 = np.mean(rmses[:30])\n",
    "    print(f\"Average RMSE over first 30 runs: {avg_rmse_30:.5f}\")\n",
    "else:\n",
    "    print(\"Less than 30 runs available to calculate average RMSE.\")"
   ]
  },
  {
   "cell_type": "code",
   "execution_count": 25,
   "id": "7b31061a",
   "metadata": {},
   "outputs": [
    {
     "name": "stdout",
     "output_type": "stream",
     "text": [
      "'target_datetime' column not found in columns. Sorting by index instead.\n",
      "Forecast origin: 2025-03-13 12:00:00+00:00, Predicting 2025-03-15 00:00:00+00:00 to 2025-03-21 00:00:00+00:00, RMSE: 0.020, Best params: {'colsample_bytree': 0.6, 'gamma': 0, 'learning_rate': 0.1, 'max_depth': 3, 'n_estimators': 100, 'reg_alpha': 0, 'reg_lambda': 1.5, 'subsample': 1}\n",
      "Forecast origin: 2025-03-14 12:00:00+00:00, Predicting 2025-03-16 00:00:00+00:00 to 2025-03-22 00:00:00+00:00, RMSE: 0.024, Best params: {'colsample_bytree': 0.6, 'gamma': 0, 'learning_rate': 0.05, 'max_depth': 3, 'n_estimators': 100, 'reg_alpha': 0, 'reg_lambda': 1.5, 'subsample': 0.6}\n",
      "Forecast origin: 2025-03-15 12:00:00+00:00, Predicting 2025-03-17 00:00:00+00:00 to 2025-03-23 00:00:00+00:00, RMSE: 0.032, Best params: {'colsample_bytree': 0.6, 'gamma': 0, 'learning_rate': 0.1, 'max_depth': 3, 'n_estimators': 300, 'reg_alpha': 0.1, 'reg_lambda': 1, 'subsample': 1}\n",
      "Forecast origin: 2025-03-16 12:00:00+00:00, Predicting 2025-03-18 00:00:00+00:00 to 2025-03-24 00:00:00+00:00, RMSE: 0.033, Best params: {'colsample_bytree': 0.8, 'gamma': 0, 'learning_rate': 0.05, 'max_depth': 3, 'n_estimators': 300, 'reg_alpha': 0.1, 'reg_lambda': 2, 'subsample': 1}\n",
      "Forecast origin: 2025-03-17 12:00:00+00:00, Predicting 2025-03-19 00:00:00+00:00 to 2025-03-25 00:00:00+00:00, RMSE: 0.034, Best params: {'colsample_bytree': 0.8, 'gamma': 0, 'learning_rate': 0.01, 'max_depth': 3, 'n_estimators': 500, 'reg_alpha': 0, 'reg_lambda': 2, 'subsample': 0.8}\n",
      "Forecast origin: 2025-03-18 12:00:00+00:00, Predicting 2025-03-20 00:00:00+00:00 to 2025-03-26 00:00:00+00:00, RMSE: 0.032, Best params: {'colsample_bytree': 0.6, 'gamma': 0, 'learning_rate': 0.05, 'max_depth': 3, 'n_estimators': 100, 'reg_alpha': 0, 'reg_lambda': 1, 'subsample': 0.6}\n",
      "Forecast origin: 2025-03-19 12:00:00+00:00, Predicting 2025-03-21 00:00:00+00:00 to 2025-03-27 00:00:00+00:00, RMSE: 0.031, Best params: {'colsample_bytree': 0.6, 'gamma': 0, 'learning_rate': 0.05, 'max_depth': 3, 'n_estimators': 100, 'reg_alpha': 0, 'reg_lambda': 1, 'subsample': 0.6}\n",
      "Forecast origin: 2025-03-20 12:00:00+00:00, Predicting 2025-03-22 00:00:00+00:00 to 2025-03-28 00:00:00+00:00, RMSE: 0.028, Best params: {'colsample_bytree': 0.6, 'gamma': 0, 'learning_rate': 0.05, 'max_depth': 3, 'n_estimators': 100, 'reg_alpha': 0, 'reg_lambda': 1, 'subsample': 0.6}\n",
      "Forecast origin: 2025-03-21 12:00:00+00:00, Predicting 2025-03-23 00:00:00+00:00 to 2025-03-29 00:00:00+00:00, RMSE: 0.019, Best params: {'colsample_bytree': 0.8, 'gamma': 0, 'learning_rate': 0.01, 'max_depth': 3, 'n_estimators': 300, 'reg_alpha': 0, 'reg_lambda': 1, 'subsample': 0.6}\n",
      "Forecast origin: 2025-03-22 12:00:00+00:00, Predicting 2025-03-24 00:00:00+00:00 to 2025-03-30 00:00:00+00:00, RMSE: 0.020, Best params: {'colsample_bytree': 0.8, 'gamma': 0, 'learning_rate': 0.01, 'max_depth': 3, 'n_estimators': 300, 'reg_alpha': 0, 'reg_lambda': 1, 'subsample': 0.6}\n",
      "Forecast origin: 2025-03-23 12:00:00+00:00, Predicting 2025-03-25 00:00:00+00:00 to 2025-03-31 00:00:00+00:00, RMSE: 0.024, Best params: {'colsample_bytree': 0.8, 'gamma': 0, 'learning_rate': 0.01, 'max_depth': 3, 'n_estimators': 300, 'reg_alpha': 0, 'reg_lambda': 1, 'subsample': 0.6}\n",
      "Forecast origin: 2025-03-24 12:00:00+00:00, Predicting 2025-03-26 00:00:00+00:00 to 2025-04-01 00:00:00+00:00, RMSE: 0.026, Best params: {'colsample_bytree': 0.8, 'gamma': 0, 'learning_rate': 0.01, 'max_depth': 3, 'n_estimators': 300, 'reg_alpha': 0, 'reg_lambda': 1, 'subsample': 0.6}\n",
      "Forecast origin: 2025-03-25 12:00:00+00:00, Predicting 2025-03-27 00:00:00+00:00 to 2025-04-02 00:00:00+00:00, RMSE: 0.027, Best params: {'colsample_bytree': 0.8, 'gamma': 0, 'learning_rate': 0.01, 'max_depth': 3, 'n_estimators': 300, 'reg_alpha': 0, 'reg_lambda': 1, 'subsample': 0.6}\n",
      "Forecast origin: 2025-03-26 12:00:00+00:00, Predicting 2025-03-28 00:00:00+00:00 to 2025-04-03 00:00:00+00:00, RMSE: 0.031, Best params: {'colsample_bytree': 0.8, 'gamma': 0, 'learning_rate': 0.01, 'max_depth': 3, 'n_estimators': 300, 'reg_alpha': 0, 'reg_lambda': 1, 'subsample': 0.6}\n",
      "Forecast origin: 2025-03-27 12:00:00+00:00, Predicting 2025-03-29 00:00:00+00:00 to 2025-04-04 00:00:00+00:00, RMSE: 0.031, Best params: {'colsample_bytree': 1, 'gamma': 0, 'learning_rate': 0.01, 'max_depth': 3, 'n_estimators': 300, 'reg_alpha': 0, 'reg_lambda': 1, 'subsample': 0.6}\n",
      "Forecast origin: 2025-03-28 12:00:00+00:00, Predicting 2025-03-30 00:00:00+00:00 to 2025-04-05 00:00:00+00:00, RMSE: 0.033, Best params: {'colsample_bytree': 1, 'gamma': 0, 'learning_rate': 0.01, 'max_depth': 3, 'n_estimators': 300, 'reg_alpha': 0, 'reg_lambda': 1, 'subsample': 0.6}\n",
      "Forecast origin: 2025-03-29 12:00:00+00:00, Predicting 2025-03-31 00:00:00+00:00 to 2025-04-06 00:00:00+00:00, RMSE: 0.034, Best params: {'colsample_bytree': 0.8, 'gamma': 0, 'learning_rate': 0.01, 'max_depth': 3, 'n_estimators': 300, 'reg_alpha': 0.1, 'reg_lambda': 2, 'subsample': 0.6}\n",
      "Forecast origin: 2025-03-30 12:00:00+00:00, Predicting 2025-04-01 00:00:00+00:00 to 2025-04-07 00:00:00+00:00, RMSE: 0.042, Best params: {'colsample_bytree': 1, 'gamma': 0, 'learning_rate': 0.01, 'max_depth': 3, 'n_estimators': 300, 'reg_alpha': 0, 'reg_lambda': 1.5, 'subsample': 0.6}\n",
      "Forecast origin: 2025-03-31 12:00:00+00:00, Predicting 2025-04-02 00:00:00+00:00 to 2025-04-08 00:00:00+00:00, RMSE: 0.043, Best params: {'colsample_bytree': 1, 'gamma': 0, 'learning_rate': 0.01, 'max_depth': 3, 'n_estimators': 300, 'reg_alpha': 0, 'reg_lambda': 1, 'subsample': 0.8}\n",
      "Forecast origin: 2025-04-01 12:00:00+00:00, Predicting 2025-04-03 00:00:00+00:00 to 2025-04-09 00:00:00+00:00, RMSE: 0.040, Best params: {'colsample_bytree': 1, 'gamma': 0, 'learning_rate': 0.01, 'max_depth': 3, 'n_estimators': 300, 'reg_alpha': 0, 'reg_lambda': 1.5, 'subsample': 0.6}\n",
      "Forecast origin: 2025-04-02 12:00:00+00:00, Predicting 2025-04-04 00:00:00+00:00 to 2025-04-10 00:00:00+00:00, RMSE: 0.034, Best params: {'colsample_bytree': 1, 'gamma': 0, 'learning_rate': 0.01, 'max_depth': 3, 'n_estimators': 300, 'reg_alpha': 0, 'reg_lambda': 1, 'subsample': 0.8}\n",
      "Forecast origin: 2025-04-03 12:00:00+00:00, Predicting 2025-04-05 00:00:00+00:00 to 2025-04-11 00:00:00+00:00, RMSE: 0.031, Best params: {'colsample_bytree': 1, 'gamma': 0, 'learning_rate': 0.01, 'max_depth': 3, 'n_estimators': 300, 'reg_alpha': 0, 'reg_lambda': 1.5, 'subsample': 1}\n",
      "Forecast origin: 2025-04-04 12:00:00+00:00, Predicting 2025-04-06 00:00:00+00:00 to 2025-04-12 00:00:00+00:00, RMSE: 0.028, Best params: {'colsample_bytree': 1, 'gamma': 0, 'learning_rate': 0.01, 'max_depth': 3, 'n_estimators': 300, 'reg_alpha': 0, 'reg_lambda': 2, 'subsample': 1}\n",
      "Forecast origin: 2025-04-05 12:00:00+00:00, Predicting 2025-04-07 00:00:00+00:00 to 2025-04-13 00:00:00+00:00, RMSE: 0.020, Best params: {'colsample_bytree': 1, 'gamma': 0, 'learning_rate': 0.01, 'max_depth': 3, 'n_estimators': 300, 'reg_alpha': 0, 'reg_lambda': 1, 'subsample': 0.8}\n",
      "Forecast origin: 2025-04-06 12:00:00+00:00, Predicting 2025-04-08 00:00:00+00:00 to 2025-04-14 00:00:00+00:00, RMSE: 0.050, Best params: {'colsample_bytree': 1, 'gamma': 0, 'learning_rate': 0.01, 'max_depth': 3, 'n_estimators': 300, 'reg_alpha': 0, 'reg_lambda': 1, 'subsample': 0.6}\n",
      "Forecast origin: 2025-04-07 12:00:00+00:00, Predicting 2025-04-09 00:00:00+00:00 to 2025-04-15 00:00:00+00:00, RMSE: 0.053, Best params: {'colsample_bytree': 1, 'gamma': 0, 'learning_rate': 0.01, 'max_depth': 3, 'n_estimators': 300, 'reg_alpha': 0, 'reg_lambda': 1, 'subsample': 0.6}\n",
      "Forecast origin: 2025-04-08 12:00:00+00:00, Predicting 2025-04-10 00:00:00+00:00 to 2025-04-16 00:00:00+00:00, RMSE: 0.062, Best params: {'colsample_bytree': 1, 'gamma': 0, 'learning_rate': 0.05, 'max_depth': 3, 'n_estimators': 100, 'reg_alpha': 0, 'reg_lambda': 2, 'subsample': 0.6}\n",
      "Forecast origin: 2025-04-09 12:00:00+00:00, Predicting 2025-04-11 00:00:00+00:00 to 2025-04-17 00:00:00+00:00, RMSE: 0.068, Best params: {'colsample_bytree': 1, 'gamma': 0, 'learning_rate': 0.05, 'max_depth': 3, 'n_estimators': 100, 'reg_alpha': 0, 'reg_lambda': 2, 'subsample': 0.8}\n",
      "Forecast origin: 2025-04-10 12:00:00+00:00, Predicting 2025-04-12 00:00:00+00:00 to 2025-04-18 00:00:00+00:00, RMSE: 0.072, Best params: {'colsample_bytree': 1, 'gamma': 0, 'learning_rate': 0.05, 'max_depth': 3, 'n_estimators': 100, 'reg_alpha': 0, 'reg_lambda': 2, 'subsample': 0.6}\n",
      "Forecast origin: 2025-04-11 12:00:00+00:00, Predicting 2025-04-13 00:00:00+00:00 to 2025-04-19 00:00:00+00:00, RMSE: 0.074, Best params: {'colsample_bytree': 1, 'gamma': 0, 'learning_rate': 0.05, 'max_depth': 3, 'n_estimators': 100, 'reg_alpha': 0.1, 'reg_lambda': 1.5, 'subsample': 0.8}\n",
      "Forecast origin: 2025-04-12 12:00:00+00:00, Predicting 2025-04-14 00:00:00+00:00 to 2025-04-20 00:00:00+00:00, RMSE: 0.066, Best params: {'colsample_bytree': 1, 'gamma': 0, 'learning_rate': 0.05, 'max_depth': 3, 'n_estimators': 100, 'reg_alpha': 0.1, 'reg_lambda': 1.5, 'subsample': 0.8}\n",
      "Forecast origin: 2025-04-13 12:00:00+00:00, Predicting 2025-04-15 00:00:00+00:00 to 2025-04-21 00:00:00+00:00, RMSE: 0.053, Best params: {'colsample_bytree': 1, 'gamma': 0, 'learning_rate': 0.05, 'max_depth': 3, 'n_estimators': 100, 'reg_alpha': 0.1, 'reg_lambda': 1.5, 'subsample': 0.8}\n",
      "Forecast origin: 2025-04-14 12:00:00+00:00, Predicting 2025-04-16 00:00:00+00:00 to 2025-04-22 00:00:00+00:00, RMSE: 0.018, Best params: {'colsample_bytree': 0.8, 'gamma': 0, 'learning_rate': 0.05, 'max_depth': 5, 'n_estimators': 100, 'reg_alpha': 0.1, 'reg_lambda': 1.5, 'subsample': 1}\n",
      "Forecast origin: 2025-04-15 12:00:00+00:00, Predicting 2025-04-17 00:00:00+00:00 to 2025-04-23 00:00:00+00:00, RMSE: 0.017, Best params: {'colsample_bytree': 0.6, 'gamma': 0, 'learning_rate': 0.05, 'max_depth': 5, 'n_estimators': 100, 'reg_alpha': 0.1, 'reg_lambda': 1.5, 'subsample': 0.8}\n",
      "Forecast origin: 2025-04-16 12:00:00+00:00, Predicting 2025-04-18 00:00:00+00:00 to 2025-04-24 00:00:00+00:00, RMSE: 0.016, Best params: {'colsample_bytree': 0.6, 'gamma': 0, 'learning_rate': 0.05, 'max_depth': 5, 'n_estimators': 100, 'reg_alpha': 0, 'reg_lambda': 1, 'subsample': 0.8}\n",
      "Forecast origin: 2025-04-17 12:00:00+00:00, Predicting 2025-04-19 00:00:00+00:00 to 2025-04-25 00:00:00+00:00, RMSE: 0.015, Best params: {'colsample_bytree': 0.6, 'gamma': 0, 'learning_rate': 0.05, 'max_depth': 7, 'n_estimators': 300, 'reg_alpha': 0, 'reg_lambda': 1, 'subsample': 1}\n",
      "No test data for forecast starting at 2025-04-18 12:00:00+00:00\n",
      "No test data for forecast starting at 2025-04-19 12:00:00+00:00\n",
      "No test data for forecast starting at 2025-04-20 12:00:00+00:00\n",
      "No test data for forecast starting at 2025-04-21 12:00:00+00:00\n",
      "No test data for forecast starting at 2025-04-22 12:00:00+00:00\n",
      "No test data for forecast starting at 2025-04-23 12:00:00+00:00\n",
      "No test data for forecast starting at 2025-04-24 12:00:00+00:00\n",
      "No test data for forecast starting at 2025-04-25 12:00:00+00:00\n",
      "No test data for forecast starting at 2025-04-26 12:00:00+00:00\n",
      "No test data for forecast starting at 2025-04-27 12:00:00+00:00\n",
      "No test data for forecast starting at 2025-04-28 12:00:00+00:00\n",
      "No test data for forecast starting at 2025-04-29 12:00:00+00:00\n",
      "No test data for forecast starting at 2025-04-30 12:00:00+00:00\n",
      "No test data for forecast starting at 2025-05-01 12:00:00+00:00\n",
      "No test data for forecast starting at 2025-05-02 12:00:00+00:00\n",
      "No test data for forecast starting at 2025-05-03 12:00:00+00:00\n",
      "No test data for forecast starting at 2025-05-04 12:00:00+00:00\n",
      "No test data for forecast starting at 2025-05-05 12:00:00+00:00\n",
      "No test data for forecast starting at 2025-05-06 12:00:00+00:00\n",
      "No test data for forecast starting at 2025-05-07 12:00:00+00:00\n",
      "No test data for forecast starting at 2025-05-08 12:00:00+00:00\n",
      "No test data for forecast starting at 2025-05-09 12:00:00+00:00\n",
      "No test data for forecast starting at 2025-05-10 12:00:00+00:00\n",
      "No test data for forecast starting at 2025-05-11 12:00:00+00:00\n",
      "No test data for forecast starting at 2025-05-12 12:00:00+00:00\n",
      "No test data for forecast starting at 2025-05-13 12:00:00+00:00\n",
      "No test data for forecast starting at 2025-05-14 12:00:00+00:00\n",
      "\n",
      "Average RMSE over 36 runs: 0.03562\n",
      "Average RMSE over first 30 runs: 0.03660\n"
     ]
    }
   ],
   "source": [
    "# now with hyper parameter tuning using gridsearchCV\n",
    "import pandas as pd\n",
    "import numpy as np\n",
    "import xgboost as xgb\n",
    "from sklearn.metrics import mean_squared_error\n",
    "from sklearn.model_selection import GridSearchCV\n",
    "from datetime import timedelta\n",
    "\n",
    "# Feature and target setup\n",
    "features = [\n",
    "    'Flow_NO','is_dst', 'hour_cos', 'hour_sin','month',\n",
    "    'Load','is_non_working_day','shortwave_radiation', 'temperature_2m' \n",
    "]\n",
    "target = 'Price'\n",
    "\n",
    "# Safe datetime handling\n",
    "if 'target_datetime' not in df.columns:\n",
    "    print(\"'target_datetime' column not found in columns. Sorting by index instead.\")\n",
    "    df = df.sort_index()\n",
    "else:\n",
    "    df['target_datetime'] = pd.to_datetime(df['target_datetime'])\n",
    "    df = df.set_index('target_datetime')\n",
    "\n",
    "# Forecast settings\n",
    "start_date = pd.Timestamp(\"2025-03-13 12:00\", tz='UTC')\n",
    "end_date = pd.Timestamp(\"2025-05-14 12:00\", tz='UTC')\n",
    "lag = timedelta(hours=36)\n",
    "forecast_horizon = timedelta(hours=144)\n",
    "\n",
    "# Store RMSEs\n",
    "rmses = []\n",
    "\n",
    "# Extensive grid\n",
    "param_grid = {\n",
    "    'n_estimators': [100, 300, 500],\n",
    "    'max_depth': [3, 5, 7],\n",
    "    'learning_rate': [0.01, 0.05, 0.1],\n",
    "    'subsample': [0.6, 0.8, 1],\n",
    "    'colsample_bytree': [0.6, 0.8, 1],\n",
    "    'gamma': [0, 0.1, 0.3],\n",
    "    'reg_alpha': [0, 0.1, 1],\n",
    "    'reg_lambda': [1, 1.5, 2],\n",
    "}\n",
    "\n",
    "current_time = start_date\n",
    "while current_time <= end_date:\n",
    "    train_data = df[df.index < current_time]\n",
    "    test_start = current_time + lag\n",
    "    test_end = test_start + forecast_horizon\n",
    "    test_data = df[(df.index >= test_start) & (df.index < test_end)]\n",
    "\n",
    "    if test_data.empty:\n",
    "        print(f\"No test data for forecast starting at {current_time}\")\n",
    "        current_time += timedelta(days=1)\n",
    "        continue\n",
    "\n",
    "    X_train = train_data[features]\n",
    "    y_train = train_data[target]\n",
    "    X_test = test_data[features]\n",
    "    y_test = test_data[target]\n",
    "\n",
    "    try:\n",
    "        base_model = xgb.XGBRegressor(objective='reg:squarederror', random_state=42)\n",
    "        grid_search = GridSearchCV(\n",
    "            estimator=base_model,\n",
    "            param_grid=param_grid,\n",
    "            scoring='neg_root_mean_squared_error',\n",
    "            cv=3,\n",
    "            n_jobs=-1,\n",
    "            verbose=0\n",
    "        )\n",
    "        grid_search.fit(X_train, y_train)\n",
    "        model = grid_search.best_estimator_\n",
    "        best_params = grid_search.best_params_\n",
    "\n",
    "        y_pred = model.predict(X_test)\n",
    "\n",
    "        rmse = np.sqrt(mean_squared_error(y_test, y_pred))\n",
    "        rmses.append(rmse)\n",
    "\n",
    "        print(f\"Forecast origin: {current_time}, Predicting {test_start} to {test_end}, \"\n",
    "              f\"RMSE: {rmse:.3f}, Best params: {best_params}\")\n",
    "\n",
    "    except Exception as e:\n",
    "        print(f\"Error on forecast starting at {current_time}: {e}\")\n",
    "\n",
    "    current_time += timedelta(days=1)\n",
    "\n",
    "# Summary\n",
    "avg_rmse = np.mean(rmses)\n",
    "print(f\"\\nAverage RMSE over {len(rmses)} runs: {avg_rmse:.5f}\")\n",
    "\n",
    "# Average over first 30 runs\n",
    "if len(rmses) >= 30:\n",
    "    avg_rmse_30 = np.mean(rmses[:30])\n",
    "    print(f\"Average RMSE over first 30 runs: {avg_rmse_30:.5f}\")\n",
    "else:\n",
    "    print(\"Less than 30 runs available to calculate average RMSE.\")"
   ]
  },
  {
   "cell_type": "code",
   "execution_count": 27,
   "id": "e02d5e10",
   "metadata": {},
   "outputs": [
    {
     "name": "stdout",
     "output_type": "stream",
     "text": [
      "No best_params found in rmse_results. Make sure to store 'best_params' in each run.\n"
     ]
    }
   ],
   "source": [
    "# Collect best_params from each run if available in rmse_results\n",
    "best_params_list = []\n",
    "for result in rmse_results:\n",
    "    if 'best_params' in result:\n",
    "        best_params_list.append(result['best_params'])\n",
    "\n",
    "if best_params_list:\n",
    "    best_params_df = pd.DataFrame(best_params_list)\n",
    "    print(\"Best hyper-parameter values across runs (top 10 shown):\")\n",
    "    print(best_params_df.head(10))\n",
    "    print(\"\\nMost frequent values for each hyper-parameter:\")\n",
    "    print(best_params_df.mode().iloc[0])\n",
    "else:\n",
    "    print(\"No best_params found in rmse_results. Make sure to store 'best_params' in each run.\")"
   ]
  },
  {
   "cell_type": "code",
   "execution_count": 17,
   "id": "2e182bce",
   "metadata": {},
   "outputs": [
    {
     "name": "stderr",
     "output_type": "stream",
     "text": [
      "2025-05-27 11:16:48,628 - build_training_set - INFO - 🚀 Start build van trainingset\n",
      "2025-05-27 11:16:48,629 - build_training_set - INFO - 🧠 Actuals van 2025-01-01 00:00:00+00:00 t/m 2025-03-14 23:00:00+00:00\n",
      "2025-05-27 11:16:48,629 - build_training_set - INFO - 📅 Forecast van run_date 2025-03-15 00:00:00+00:00, target range: 2025-03-15 00:00:00+00:00 → 2025-03-21 23:00:00+00:00\n",
      "2025-05-27 11:16:48,680 - build_training_set - INFO - ✅ Actuals geladen: 1752 rijen\n"
     ]
    },
    {
     "name": "stdout",
     "output_type": "stream",
     "text": [
      "🔍 Testing XGBoost Model - RMSE per forecast day\n",
      "============================================================\n"
     ]
    },
    {
     "name": "stderr",
     "output_type": "stream",
     "text": [
      "2025-05-27 11:16:48,841 - build_training_set - INFO - ✅ Added actual prices to 168 forecast rows\n",
      "/Users/Twan/Library/Mobile Documents/com~apple~CloudDocs/Data Science/Data Projects EASI/ENEXIS/src/utils/build_training_set.py:106: FutureWarning: The behavior of DataFrame concatenation with empty or all-NA entries is deprecated. In a future version, this will no longer exclude empty or all-NA columns when determining the result dtypes. To retain the old behavior, exclude the relevant entries before the concat operation.\n",
      "  df_combined = pd.concat([df_actuals, df_preds], ignore_index=True)\n",
      "2025-05-27 11:16:48,856 - build_training_set - INFO - 📦 Eindtabel bevat: 1920 rijen, 31 kolommen\n",
      "2025-05-27 11:16:48,856 - build_training_set - INFO - 🧾 Kolommen: ['Price', 'target_datetime', 'Load', 'shortwave_radiation', 'temperature_2m', 'direct_normal_irradiance', 'diffuse_radiation', 'Flow_NO', 'yearday_cos', 'Flow_GB', 'month', 'is_dst', 'yearday_sin', 'is_non_working_day', 'hour_cos', 'is_weekend', 'cloud_cover', 'weekday_sin', 'hour_sin', 'weekday_cos', 'apparent_temperature', 'day_of_week', 'day_of_year', 'direct_radiation', 'hour', 'is_holiday', 'local_datetime', 'run_date', 'snowfall', 'wind_direction_10m', 'wind_speed_10m']\n",
      "2025-05-27 11:16:48,857 - build_training_set - INFO - ❓ Price NaN count: 0/1920 (0.0%)\n",
      "2025-05-27 11:16:48,869 - build_training_set - INFO - ✅ Opgeslagen als training_set in WARP.db\n",
      "2025-05-27 11:16:48,869 - build_training_set - INFO - 🔒 Verbinding gesloten\n",
      "2025-05-27 11:16:48,991 - build_training_set - INFO - 🚀 Start build van trainingset\n",
      "2025-05-27 11:16:48,991 - build_training_set - INFO - 🧠 Actuals van 2025-01-02 00:00:00+00:00 t/m 2025-03-15 23:00:00+00:00\n",
      "2025-05-27 11:16:48,991 - build_training_set - INFO - 📅 Forecast van run_date 2025-03-16 00:00:00+00:00, target range: 2025-03-16 00:00:00+00:00 → 2025-03-22 23:00:00+00:00\n",
      "2025-05-27 11:16:49,009 - build_training_set - INFO - ✅ Actuals geladen: 1752 rijen\n"
     ]
    },
    {
     "name": "stdout",
     "output_type": "stream",
     "text": [
      "Day 1: ✅ 167 test rows, Run: 03-15\n"
     ]
    },
    {
     "name": "stderr",
     "output_type": "stream",
     "text": [
      "2025-05-27 11:16:49,226 - build_training_set - INFO - ✅ Added actual prices to 168 forecast rows\n",
      "/Users/Twan/Library/Mobile Documents/com~apple~CloudDocs/Data Science/Data Projects EASI/ENEXIS/src/utils/build_training_set.py:106: FutureWarning: The behavior of DataFrame concatenation with empty or all-NA entries is deprecated. In a future version, this will no longer exclude empty or all-NA columns when determining the result dtypes. To retain the old behavior, exclude the relevant entries before the concat operation.\n",
      "  df_combined = pd.concat([df_actuals, df_preds], ignore_index=True)\n",
      "2025-05-27 11:16:49,235 - build_training_set - INFO - 📦 Eindtabel bevat: 1920 rijen, 31 kolommen\n",
      "2025-05-27 11:16:49,235 - build_training_set - INFO - 🧾 Kolommen: ['Price', 'target_datetime', 'Load', 'shortwave_radiation', 'temperature_2m', 'direct_normal_irradiance', 'diffuse_radiation', 'Flow_NO', 'yearday_cos', 'Flow_GB', 'month', 'is_dst', 'yearday_sin', 'is_non_working_day', 'hour_cos', 'is_weekend', 'cloud_cover', 'weekday_sin', 'hour_sin', 'weekday_cos', 'apparent_temperature', 'day_of_week', 'day_of_year', 'direct_radiation', 'hour', 'is_holiday', 'local_datetime', 'run_date', 'snowfall', 'wind_direction_10m', 'wind_speed_10m']\n",
      "2025-05-27 11:16:49,235 - build_training_set - INFO - ❓ Price NaN count: 0/1920 (0.0%)\n",
      "2025-05-27 11:16:49,249 - build_training_set - INFO - ✅ Opgeslagen als training_set in WARP.db\n",
      "2025-05-27 11:16:49,250 - build_training_set - INFO - 🔒 Verbinding gesloten\n",
      "2025-05-27 11:16:49,380 - build_training_set - INFO - 🚀 Start build van trainingset\n",
      "2025-05-27 11:16:49,380 - build_training_set - INFO - 🧠 Actuals van 2025-01-03 00:00:00+00:00 t/m 2025-03-16 23:00:00+00:00\n",
      "2025-05-27 11:16:49,381 - build_training_set - INFO - 📅 Forecast van run_date 2025-03-17 00:00:00+00:00, target range: 2025-03-17 00:00:00+00:00 → 2025-03-23 23:00:00+00:00\n",
      "2025-05-27 11:16:49,398 - build_training_set - INFO - ✅ Actuals geladen: 1752 rijen\n",
      "2025-05-27 11:16:49,542 - build_training_set - INFO - ✅ Added actual prices to 168 forecast rows\n",
      "/Users/Twan/Library/Mobile Documents/com~apple~CloudDocs/Data Science/Data Projects EASI/ENEXIS/src/utils/build_training_set.py:106: FutureWarning: The behavior of DataFrame concatenation with empty or all-NA entries is deprecated. In a future version, this will no longer exclude empty or all-NA columns when determining the result dtypes. To retain the old behavior, exclude the relevant entries before the concat operation.\n",
      "  df_combined = pd.concat([df_actuals, df_preds], ignore_index=True)\n",
      "2025-05-27 11:16:49,551 - build_training_set - INFO - 📦 Eindtabel bevat: 1920 rijen, 31 kolommen\n",
      "2025-05-27 11:16:49,551 - build_training_set - INFO - 🧾 Kolommen: ['Price', 'target_datetime', 'Load', 'shortwave_radiation', 'temperature_2m', 'direct_normal_irradiance', 'diffuse_radiation', 'Flow_NO', 'yearday_cos', 'Flow_GB', 'month', 'is_dst', 'yearday_sin', 'is_non_working_day', 'hour_cos', 'is_weekend', 'cloud_cover', 'weekday_sin', 'hour_sin', 'weekday_cos', 'apparent_temperature', 'day_of_week', 'day_of_year', 'direct_radiation', 'hour', 'is_holiday', 'local_datetime', 'run_date', 'snowfall', 'wind_direction_10m', 'wind_speed_10m']\n",
      "2025-05-27 11:16:49,551 - build_training_set - INFO - ❓ Price NaN count: 0/1920 (0.0%)\n",
      "2025-05-27 11:16:49,563 - build_training_set - INFO - ✅ Opgeslagen als training_set in WARP.db\n",
      "2025-05-27 11:16:49,564 - build_training_set - INFO - 🔒 Verbinding gesloten\n"
     ]
    },
    {
     "name": "stdout",
     "output_type": "stream",
     "text": [
      "Day 2: ✅ 167 test rows, Run: 03-16\n"
     ]
    },
    {
     "name": "stderr",
     "output_type": "stream",
     "text": [
      "2025-05-27 11:16:49,684 - build_training_set - INFO - 🚀 Start build van trainingset\n",
      "2025-05-27 11:16:49,684 - build_training_set - INFO - 🧠 Actuals van 2025-01-04 00:00:00+00:00 t/m 2025-03-17 23:00:00+00:00\n",
      "2025-05-27 11:16:49,684 - build_training_set - INFO - 📅 Forecast van run_date 2025-03-18 00:00:00+00:00, target range: 2025-03-18 00:00:00+00:00 → 2025-03-24 23:00:00+00:00\n",
      "2025-05-27 11:16:49,701 - build_training_set - INFO - ✅ Actuals geladen: 1752 rijen\n",
      "2025-05-27 11:16:49,851 - build_training_set - INFO - ✅ Added actual prices to 168 forecast rows\n",
      "/Users/Twan/Library/Mobile Documents/com~apple~CloudDocs/Data Science/Data Projects EASI/ENEXIS/src/utils/build_training_set.py:106: FutureWarning: The behavior of DataFrame concatenation with empty or all-NA entries is deprecated. In a future version, this will no longer exclude empty or all-NA columns when determining the result dtypes. To retain the old behavior, exclude the relevant entries before the concat operation.\n",
      "  df_combined = pd.concat([df_actuals, df_preds], ignore_index=True)\n",
      "2025-05-27 11:16:49,861 - build_training_set - INFO - 📦 Eindtabel bevat: 1920 rijen, 31 kolommen\n",
      "2025-05-27 11:16:49,861 - build_training_set - INFO - 🧾 Kolommen: ['Price', 'target_datetime', 'Load', 'shortwave_radiation', 'temperature_2m', 'direct_normal_irradiance', 'diffuse_radiation', 'Flow_NO', 'yearday_cos', 'Flow_GB', 'month', 'is_dst', 'yearday_sin', 'is_non_working_day', 'hour_cos', 'is_weekend', 'cloud_cover', 'weekday_sin', 'hour_sin', 'weekday_cos', 'apparent_temperature', 'day_of_week', 'day_of_year', 'direct_radiation', 'hour', 'is_holiday', 'local_datetime', 'run_date', 'snowfall', 'wind_direction_10m', 'wind_speed_10m']\n",
      "2025-05-27 11:16:49,862 - build_training_set - INFO - ❓ Price NaN count: 0/1920 (0.0%)\n",
      "2025-05-27 11:16:49,874 - build_training_set - INFO - ✅ Opgeslagen als training_set in WARP.db\n",
      "2025-05-27 11:16:49,875 - build_training_set - INFO - 🔒 Verbinding gesloten\n"
     ]
    },
    {
     "name": "stdout",
     "output_type": "stream",
     "text": [
      "Day 3: ✅ 167 test rows, Run: 03-17\n"
     ]
    },
    {
     "name": "stderr",
     "output_type": "stream",
     "text": [
      "2025-05-27 11:16:49,997 - build_training_set - INFO - 🚀 Start build van trainingset\n",
      "2025-05-27 11:16:49,997 - build_training_set - INFO - 🧠 Actuals van 2025-01-05 00:00:00+00:00 t/m 2025-03-18 23:00:00+00:00\n",
      "2025-05-27 11:16:49,997 - build_training_set - INFO - 📅 Forecast van run_date 2025-03-19 00:00:00+00:00, target range: 2025-03-19 00:00:00+00:00 → 2025-03-25 23:00:00+00:00\n",
      "2025-05-27 11:16:50,016 - build_training_set - INFO - ✅ Actuals geladen: 1752 rijen\n",
      "2025-05-27 11:16:50,161 - build_training_set - INFO - ✅ Added actual prices to 168 forecast rows\n",
      "/Users/Twan/Library/Mobile Documents/com~apple~CloudDocs/Data Science/Data Projects EASI/ENEXIS/src/utils/build_training_set.py:106: FutureWarning: The behavior of DataFrame concatenation with empty or all-NA entries is deprecated. In a future version, this will no longer exclude empty or all-NA columns when determining the result dtypes. To retain the old behavior, exclude the relevant entries before the concat operation.\n",
      "  df_combined = pd.concat([df_actuals, df_preds], ignore_index=True)\n",
      "2025-05-27 11:16:50,170 - build_training_set - INFO - 📦 Eindtabel bevat: 1920 rijen, 31 kolommen\n",
      "2025-05-27 11:16:50,170 - build_training_set - INFO - 🧾 Kolommen: ['Price', 'target_datetime', 'Load', 'shortwave_radiation', 'temperature_2m', 'direct_normal_irradiance', 'diffuse_radiation', 'Flow_NO', 'yearday_cos', 'Flow_GB', 'month', 'is_dst', 'yearday_sin', 'is_non_working_day', 'hour_cos', 'is_weekend', 'cloud_cover', 'weekday_sin', 'hour_sin', 'weekday_cos', 'apparent_temperature', 'day_of_week', 'day_of_year', 'direct_radiation', 'hour', 'is_holiday', 'local_datetime', 'run_date', 'snowfall', 'wind_direction_10m', 'wind_speed_10m']\n",
      "2025-05-27 11:16:50,170 - build_training_set - INFO - ❓ Price NaN count: 0/1920 (0.0%)\n",
      "2025-05-27 11:16:50,183 - build_training_set - INFO - ✅ Opgeslagen als training_set in WARP.db\n",
      "2025-05-27 11:16:50,183 - build_training_set - INFO - 🔒 Verbinding gesloten\n"
     ]
    },
    {
     "name": "stdout",
     "output_type": "stream",
     "text": [
      "Day 4: ✅ 167 test rows, Run: 03-18\n"
     ]
    },
    {
     "name": "stderr",
     "output_type": "stream",
     "text": [
      "2025-05-27 11:16:50,345 - build_training_set - INFO - 🚀 Start build van trainingset\n",
      "2025-05-27 11:16:50,345 - build_training_set - INFO - 🧠 Actuals van 2025-01-06 00:00:00+00:00 t/m 2025-03-19 23:00:00+00:00\n",
      "2025-05-27 11:16:50,346 - build_training_set - INFO - 📅 Forecast van run_date 2025-03-20 00:00:00+00:00, target range: 2025-03-20 00:00:00+00:00 → 2025-03-26 23:00:00+00:00\n",
      "2025-05-27 11:16:50,364 - build_training_set - INFO - ✅ Actuals geladen: 1752 rijen\n",
      "2025-05-27 11:16:50,509 - build_training_set - INFO - ✅ Added actual prices to 168 forecast rows\n",
      "/Users/Twan/Library/Mobile Documents/com~apple~CloudDocs/Data Science/Data Projects EASI/ENEXIS/src/utils/build_training_set.py:106: FutureWarning: The behavior of DataFrame concatenation with empty or all-NA entries is deprecated. In a future version, this will no longer exclude empty or all-NA columns when determining the result dtypes. To retain the old behavior, exclude the relevant entries before the concat operation.\n",
      "  df_combined = pd.concat([df_actuals, df_preds], ignore_index=True)\n",
      "2025-05-27 11:16:50,518 - build_training_set - INFO - 📦 Eindtabel bevat: 1920 rijen, 31 kolommen\n",
      "2025-05-27 11:16:50,518 - build_training_set - INFO - 🧾 Kolommen: ['Price', 'target_datetime', 'Load', 'shortwave_radiation', 'temperature_2m', 'direct_normal_irradiance', 'diffuse_radiation', 'Flow_NO', 'yearday_cos', 'Flow_GB', 'month', 'is_dst', 'yearday_sin', 'is_non_working_day', 'hour_cos', 'is_weekend', 'cloud_cover', 'weekday_sin', 'hour_sin', 'weekday_cos', 'apparent_temperature', 'day_of_week', 'day_of_year', 'direct_radiation', 'hour', 'is_holiday', 'local_datetime', 'run_date', 'snowfall', 'wind_direction_10m', 'wind_speed_10m']\n",
      "2025-05-27 11:16:50,519 - build_training_set - INFO - ❓ Price NaN count: 0/1920 (0.0%)\n",
      "2025-05-27 11:16:50,530 - build_training_set - INFO - ✅ Opgeslagen als training_set in WARP.db\n",
      "2025-05-27 11:16:50,531 - build_training_set - INFO - 🔒 Verbinding gesloten\n"
     ]
    },
    {
     "name": "stdout",
     "output_type": "stream",
     "text": [
      "Day 5: ✅ 167 test rows, Run: 03-19\n"
     ]
    },
    {
     "name": "stderr",
     "output_type": "stream",
     "text": [
      "2025-05-27 11:16:50,643 - build_training_set - INFO - 🚀 Start build van trainingset\n",
      "2025-05-27 11:16:50,644 - build_training_set - INFO - 🧠 Actuals van 2025-01-07 00:00:00+00:00 t/m 2025-03-20 23:00:00+00:00\n",
      "2025-05-27 11:16:50,644 - build_training_set - INFO - 📅 Forecast van run_date 2025-03-21 00:00:00+00:00, target range: 2025-03-21 00:00:00+00:00 → 2025-03-27 23:00:00+00:00\n",
      "2025-05-27 11:16:50,661 - build_training_set - INFO - ✅ Actuals geladen: 1752 rijen\n",
      "2025-05-27 11:16:50,810 - build_training_set - INFO - ✅ Added actual prices to 168 forecast rows\n",
      "/Users/Twan/Library/Mobile Documents/com~apple~CloudDocs/Data Science/Data Projects EASI/ENEXIS/src/utils/build_training_set.py:106: FutureWarning: The behavior of DataFrame concatenation with empty or all-NA entries is deprecated. In a future version, this will no longer exclude empty or all-NA columns when determining the result dtypes. To retain the old behavior, exclude the relevant entries before the concat operation.\n",
      "  df_combined = pd.concat([df_actuals, df_preds], ignore_index=True)\n",
      "2025-05-27 11:16:50,820 - build_training_set - INFO - 📦 Eindtabel bevat: 1920 rijen, 31 kolommen\n",
      "2025-05-27 11:16:50,820 - build_training_set - INFO - 🧾 Kolommen: ['Price', 'target_datetime', 'Load', 'shortwave_radiation', 'temperature_2m', 'direct_normal_irradiance', 'diffuse_radiation', 'Flow_NO', 'yearday_cos', 'Flow_GB', 'month', 'is_dst', 'yearday_sin', 'is_non_working_day', 'hour_cos', 'is_weekend', 'cloud_cover', 'weekday_sin', 'hour_sin', 'weekday_cos', 'apparent_temperature', 'day_of_week', 'day_of_year', 'direct_radiation', 'hour', 'is_holiday', 'local_datetime', 'run_date', 'snowfall', 'wind_direction_10m', 'wind_speed_10m']\n",
      "2025-05-27 11:16:50,820 - build_training_set - INFO - ❓ Price NaN count: 0/1920 (0.0%)\n",
      "2025-05-27 11:16:50,832 - build_training_set - INFO - ✅ Opgeslagen als training_set in WARP.db\n",
      "2025-05-27 11:16:50,832 - build_training_set - INFO - 🔒 Verbinding gesloten\n"
     ]
    },
    {
     "name": "stdout",
     "output_type": "stream",
     "text": [
      "Day 6: ✅ 167 test rows, Run: 03-20\n"
     ]
    },
    {
     "name": "stderr",
     "output_type": "stream",
     "text": [
      "2025-05-27 11:16:50,951 - build_training_set - INFO - 🚀 Start build van trainingset\n",
      "2025-05-27 11:16:50,951 - build_training_set - INFO - 🧠 Actuals van 2025-01-08 00:00:00+00:00 t/m 2025-03-21 23:00:00+00:00\n",
      "2025-05-27 11:16:50,951 - build_training_set - INFO - 📅 Forecast van run_date 2025-03-22 00:00:00+00:00, target range: 2025-03-22 00:00:00+00:00 → 2025-03-28 23:00:00+00:00\n",
      "2025-05-27 11:16:50,969 - build_training_set - INFO - ✅ Actuals geladen: 1752 rijen\n",
      "2025-05-27 11:16:51,112 - build_training_set - INFO - ✅ Added actual prices to 168 forecast rows\n",
      "/Users/Twan/Library/Mobile Documents/com~apple~CloudDocs/Data Science/Data Projects EASI/ENEXIS/src/utils/build_training_set.py:106: FutureWarning: The behavior of DataFrame concatenation with empty or all-NA entries is deprecated. In a future version, this will no longer exclude empty or all-NA columns when determining the result dtypes. To retain the old behavior, exclude the relevant entries before the concat operation.\n",
      "  df_combined = pd.concat([df_actuals, df_preds], ignore_index=True)\n",
      "2025-05-27 11:16:51,121 - build_training_set - INFO - 📦 Eindtabel bevat: 1920 rijen, 31 kolommen\n",
      "2025-05-27 11:16:51,121 - build_training_set - INFO - 🧾 Kolommen: ['Price', 'target_datetime', 'Load', 'shortwave_radiation', 'temperature_2m', 'direct_normal_irradiance', 'diffuse_radiation', 'Flow_NO', 'yearday_cos', 'Flow_GB', 'month', 'is_dst', 'yearday_sin', 'is_non_working_day', 'hour_cos', 'is_weekend', 'cloud_cover', 'weekday_sin', 'hour_sin', 'weekday_cos', 'apparent_temperature', 'day_of_week', 'day_of_year', 'direct_radiation', 'hour', 'is_holiday', 'local_datetime', 'run_date', 'snowfall', 'wind_direction_10m', 'wind_speed_10m']\n",
      "2025-05-27 11:16:51,121 - build_training_set - INFO - ❓ Price NaN count: 0/1920 (0.0%)\n",
      "2025-05-27 11:16:51,134 - build_training_set - INFO - ✅ Opgeslagen als training_set in WARP.db\n",
      "2025-05-27 11:16:51,134 - build_training_set - INFO - 🔒 Verbinding gesloten\n"
     ]
    },
    {
     "name": "stdout",
     "output_type": "stream",
     "text": [
      "Day 7: ✅ 167 test rows, Run: 03-21\n"
     ]
    },
    {
     "name": "stderr",
     "output_type": "stream",
     "text": [
      "2025-05-27 11:16:51,254 - build_training_set - INFO - 🚀 Start build van trainingset\n",
      "2025-05-27 11:16:51,254 - build_training_set - INFO - 🧠 Actuals van 2025-01-09 00:00:00+00:00 t/m 2025-03-22 23:00:00+00:00\n",
      "2025-05-27 11:16:51,254 - build_training_set - INFO - 📅 Forecast van run_date 2025-03-23 00:00:00+00:00, target range: 2025-03-23 00:00:00+00:00 → 2025-03-29 23:00:00+00:00\n",
      "2025-05-27 11:16:51,285 - build_training_set - INFO - ✅ Actuals geladen: 1752 rijen\n"
     ]
    },
    {
     "name": "stdout",
     "output_type": "stream",
     "text": [
      "Day 8: ✅ 167 test rows, Run: 03-22\n"
     ]
    },
    {
     "name": "stderr",
     "output_type": "stream",
     "text": [
      "2025-05-27 11:16:51,466 - build_training_set - INFO - ✅ Added actual prices to 168 forecast rows\n",
      "/Users/Twan/Library/Mobile Documents/com~apple~CloudDocs/Data Science/Data Projects EASI/ENEXIS/src/utils/build_training_set.py:106: FutureWarning: The behavior of DataFrame concatenation with empty or all-NA entries is deprecated. In a future version, this will no longer exclude empty or all-NA columns when determining the result dtypes. To retain the old behavior, exclude the relevant entries before the concat operation.\n",
      "  df_combined = pd.concat([df_actuals, df_preds], ignore_index=True)\n",
      "2025-05-27 11:16:51,477 - build_training_set - INFO - 📦 Eindtabel bevat: 1920 rijen, 31 kolommen\n",
      "2025-05-27 11:16:51,478 - build_training_set - INFO - 🧾 Kolommen: ['Price', 'target_datetime', 'Load', 'shortwave_radiation', 'temperature_2m', 'direct_normal_irradiance', 'diffuse_radiation', 'Flow_NO', 'yearday_cos', 'Flow_GB', 'month', 'is_dst', 'yearday_sin', 'is_non_working_day', 'hour_cos', 'is_weekend', 'cloud_cover', 'weekday_sin', 'hour_sin', 'weekday_cos', 'apparent_temperature', 'day_of_week', 'day_of_year', 'direct_radiation', 'hour', 'is_holiday', 'local_datetime', 'run_date', 'snowfall', 'wind_direction_10m', 'wind_speed_10m']\n",
      "2025-05-27 11:16:51,478 - build_training_set - INFO - ❓ Price NaN count: 0/1920 (0.0%)\n",
      "2025-05-27 11:16:51,491 - build_training_set - INFO - ✅ Opgeslagen als training_set in WARP.db\n",
      "2025-05-27 11:16:51,492 - build_training_set - INFO - 🔒 Verbinding gesloten\n",
      "2025-05-27 11:16:51,602 - build_training_set - INFO - 🚀 Start build van trainingset\n",
      "2025-05-27 11:16:51,602 - build_training_set - INFO - 🧠 Actuals van 2025-01-10 00:00:00+00:00 t/m 2025-03-23 23:00:00+00:00\n",
      "2025-05-27 11:16:51,602 - build_training_set - INFO - 📅 Forecast van run_date 2025-03-24 00:00:00+00:00, target range: 2025-03-24 00:00:00+00:00 → 2025-03-30 23:00:00+00:00\n",
      "2025-05-27 11:16:51,618 - build_training_set - INFO - ✅ Actuals geladen: 1752 rijen\n",
      "2025-05-27 11:16:51,761 - build_training_set - INFO - ✅ Added actual prices to 168 forecast rows\n",
      "/Users/Twan/Library/Mobile Documents/com~apple~CloudDocs/Data Science/Data Projects EASI/ENEXIS/src/utils/build_training_set.py:106: FutureWarning: The behavior of DataFrame concatenation with empty or all-NA entries is deprecated. In a future version, this will no longer exclude empty or all-NA columns when determining the result dtypes. To retain the old behavior, exclude the relevant entries before the concat operation.\n",
      "  df_combined = pd.concat([df_actuals, df_preds], ignore_index=True)\n",
      "2025-05-27 11:16:51,770 - build_training_set - INFO - 📦 Eindtabel bevat: 1920 rijen, 31 kolommen\n",
      "2025-05-27 11:16:51,771 - build_training_set - INFO - 🧾 Kolommen: ['Price', 'target_datetime', 'Load', 'shortwave_radiation', 'temperature_2m', 'direct_normal_irradiance', 'diffuse_radiation', 'Flow_NO', 'yearday_cos', 'Flow_GB', 'month', 'is_dst', 'yearday_sin', 'is_non_working_day', 'hour_cos', 'is_weekend', 'cloud_cover', 'weekday_sin', 'hour_sin', 'weekday_cos', 'apparent_temperature', 'day_of_week', 'day_of_year', 'direct_radiation', 'hour', 'is_holiday', 'local_datetime', 'run_date', 'snowfall', 'wind_direction_10m', 'wind_speed_10m']\n",
      "2025-05-27 11:16:51,771 - build_training_set - INFO - ❓ Price NaN count: 0/1920 (0.0%)\n",
      "2025-05-27 11:16:51,783 - build_training_set - INFO - ✅ Opgeslagen als training_set in WARP.db\n",
      "2025-05-27 11:16:51,784 - build_training_set - INFO - 🔒 Verbinding gesloten\n"
     ]
    },
    {
     "name": "stdout",
     "output_type": "stream",
     "text": [
      "Day 9: ✅ 167 test rows, Run: 03-23\n"
     ]
    },
    {
     "name": "stderr",
     "output_type": "stream",
     "text": [
      "2025-05-27 11:16:51,900 - build_training_set - INFO - 🚀 Start build van trainingset\n",
      "2025-05-27 11:16:51,900 - build_training_set - INFO - 🧠 Actuals van 2025-01-11 00:00:00+00:00 t/m 2025-03-24 23:00:00+00:00\n",
      "2025-05-27 11:16:51,900 - build_training_set - INFO - 📅 Forecast van run_date 2025-03-25 00:00:00+00:00, target range: 2025-03-25 00:00:00+00:00 → 2025-03-31 23:00:00+00:00\n",
      "2025-05-27 11:16:51,917 - build_training_set - INFO - ✅ Actuals geladen: 1752 rijen\n",
      "2025-05-27 11:16:52,061 - build_training_set - INFO - ✅ Added actual prices to 168 forecast rows\n",
      "/Users/Twan/Library/Mobile Documents/com~apple~CloudDocs/Data Science/Data Projects EASI/ENEXIS/src/utils/build_training_set.py:106: FutureWarning: The behavior of DataFrame concatenation with empty or all-NA entries is deprecated. In a future version, this will no longer exclude empty or all-NA columns when determining the result dtypes. To retain the old behavior, exclude the relevant entries before the concat operation.\n",
      "  df_combined = pd.concat([df_actuals, df_preds], ignore_index=True)\n",
      "2025-05-27 11:16:52,070 - build_training_set - INFO - 📦 Eindtabel bevat: 1920 rijen, 31 kolommen\n",
      "2025-05-27 11:16:52,071 - build_training_set - INFO - 🧾 Kolommen: ['Price', 'target_datetime', 'Load', 'shortwave_radiation', 'temperature_2m', 'direct_normal_irradiance', 'diffuse_radiation', 'Flow_NO', 'yearday_cos', 'Flow_GB', 'month', 'is_dst', 'yearday_sin', 'is_non_working_day', 'hour_cos', 'is_weekend', 'cloud_cover', 'weekday_sin', 'hour_sin', 'weekday_cos', 'apparent_temperature', 'day_of_week', 'day_of_year', 'direct_radiation', 'hour', 'is_holiday', 'local_datetime', 'run_date', 'snowfall', 'wind_direction_10m', 'wind_speed_10m']\n",
      "2025-05-27 11:16:52,071 - build_training_set - INFO - ❓ Price NaN count: 0/1920 (0.0%)\n",
      "2025-05-27 11:16:52,082 - build_training_set - INFO - ✅ Opgeslagen als training_set in WARP.db\n",
      "2025-05-27 11:16:52,083 - build_training_set - INFO - 🔒 Verbinding gesloten\n"
     ]
    },
    {
     "name": "stdout",
     "output_type": "stream",
     "text": [
      "Day 10: ✅ 167 test rows, Run: 03-24\n"
     ]
    },
    {
     "name": "stderr",
     "output_type": "stream",
     "text": [
      "2025-05-27 11:16:52,197 - build_training_set - INFO - 🚀 Start build van trainingset\n",
      "2025-05-27 11:16:52,197 - build_training_set - INFO - 🧠 Actuals van 2025-01-12 00:00:00+00:00 t/m 2025-03-25 23:00:00+00:00\n",
      "2025-05-27 11:16:52,197 - build_training_set - INFO - 📅 Forecast van run_date 2025-03-26 00:00:00+00:00, target range: 2025-03-26 00:00:00+00:00 → 2025-04-01 23:00:00+00:00\n",
      "2025-05-27 11:16:52,215 - build_training_set - INFO - ✅ Actuals geladen: 1752 rijen\n",
      "2025-05-27 11:16:52,357 - build_training_set - INFO - ✅ Added actual prices to 168 forecast rows\n",
      "/Users/Twan/Library/Mobile Documents/com~apple~CloudDocs/Data Science/Data Projects EASI/ENEXIS/src/utils/build_training_set.py:106: FutureWarning: The behavior of DataFrame concatenation with empty or all-NA entries is deprecated. In a future version, this will no longer exclude empty or all-NA columns when determining the result dtypes. To retain the old behavior, exclude the relevant entries before the concat operation.\n",
      "  df_combined = pd.concat([df_actuals, df_preds], ignore_index=True)\n",
      "2025-05-27 11:16:52,366 - build_training_set - INFO - 📦 Eindtabel bevat: 1920 rijen, 31 kolommen\n",
      "2025-05-27 11:16:52,366 - build_training_set - INFO - 🧾 Kolommen: ['Price', 'target_datetime', 'Load', 'shortwave_radiation', 'temperature_2m', 'direct_normal_irradiance', 'diffuse_radiation', 'Flow_NO', 'yearday_cos', 'Flow_GB', 'month', 'is_dst', 'yearday_sin', 'is_non_working_day', 'hour_cos', 'is_weekend', 'cloud_cover', 'weekday_sin', 'hour_sin', 'weekday_cos', 'apparent_temperature', 'day_of_week', 'day_of_year', 'direct_radiation', 'hour', 'is_holiday', 'local_datetime', 'run_date', 'snowfall', 'wind_direction_10m', 'wind_speed_10m']\n",
      "2025-05-27 11:16:52,366 - build_training_set - INFO - ❓ Price NaN count: 0/1920 (0.0%)\n",
      "2025-05-27 11:16:52,378 - build_training_set - INFO - ✅ Opgeslagen als training_set in WARP.db\n",
      "2025-05-27 11:16:52,379 - build_training_set - INFO - 🔒 Verbinding gesloten\n"
     ]
    },
    {
     "name": "stdout",
     "output_type": "stream",
     "text": [
      "Day 11: ✅ 167 test rows, Run: 03-25\n"
     ]
    },
    {
     "name": "stderr",
     "output_type": "stream",
     "text": [
      "2025-05-27 11:16:52,538 - build_training_set - INFO - 🚀 Start build van trainingset\n",
      "2025-05-27 11:16:52,539 - build_training_set - INFO - 🧠 Actuals van 2025-01-13 00:00:00+00:00 t/m 2025-03-26 23:00:00+00:00\n",
      "2025-05-27 11:16:52,539 - build_training_set - INFO - 📅 Forecast van run_date 2025-03-27 00:00:00+00:00, target range: 2025-03-27 00:00:00+00:00 → 2025-04-02 23:00:00+00:00\n",
      "2025-05-27 11:16:52,555 - build_training_set - INFO - ✅ Actuals geladen: 1752 rijen\n",
      "2025-05-27 11:16:52,696 - build_training_set - INFO - ✅ Added actual prices to 168 forecast rows\n",
      "/Users/Twan/Library/Mobile Documents/com~apple~CloudDocs/Data Science/Data Projects EASI/ENEXIS/src/utils/build_training_set.py:106: FutureWarning: The behavior of DataFrame concatenation with empty or all-NA entries is deprecated. In a future version, this will no longer exclude empty or all-NA columns when determining the result dtypes. To retain the old behavior, exclude the relevant entries before the concat operation.\n",
      "  df_combined = pd.concat([df_actuals, df_preds], ignore_index=True)\n",
      "2025-05-27 11:16:52,704 - build_training_set - INFO - 📦 Eindtabel bevat: 1920 rijen, 31 kolommen\n",
      "2025-05-27 11:16:52,704 - build_training_set - INFO - 🧾 Kolommen: ['Price', 'target_datetime', 'Load', 'shortwave_radiation', 'temperature_2m', 'direct_normal_irradiance', 'diffuse_radiation', 'Flow_NO', 'yearday_cos', 'Flow_GB', 'month', 'is_dst', 'yearday_sin', 'is_non_working_day', 'hour_cos', 'is_weekend', 'cloud_cover', 'weekday_sin', 'hour_sin', 'weekday_cos', 'apparent_temperature', 'day_of_week', 'day_of_year', 'direct_radiation', 'hour', 'is_holiday', 'local_datetime', 'run_date', 'snowfall', 'wind_direction_10m', 'wind_speed_10m']\n",
      "2025-05-27 11:16:52,705 - build_training_set - INFO - ❓ Price NaN count: 0/1920 (0.0%)\n",
      "2025-05-27 11:16:52,716 - build_training_set - INFO - ✅ Opgeslagen als training_set in WARP.db\n",
      "2025-05-27 11:16:52,717 - build_training_set - INFO - 🔒 Verbinding gesloten\n"
     ]
    },
    {
     "name": "stdout",
     "output_type": "stream",
     "text": [
      "Day 12: ✅ 167 test rows, Run: 03-26\n"
     ]
    },
    {
     "name": "stderr",
     "output_type": "stream",
     "text": [
      "2025-05-27 11:16:52,829 - build_training_set - INFO - 🚀 Start build van trainingset\n",
      "2025-05-27 11:16:52,830 - build_training_set - INFO - 🧠 Actuals van 2025-01-14 00:00:00+00:00 t/m 2025-03-27 23:00:00+00:00\n",
      "2025-05-27 11:16:52,830 - build_training_set - INFO - 📅 Forecast van run_date 2025-03-28 00:00:00+00:00, target range: 2025-03-28 00:00:00+00:00 → 2025-04-03 23:00:00+00:00\n",
      "2025-05-27 11:16:52,847 - build_training_set - INFO - ✅ Actuals geladen: 1752 rijen\n",
      "2025-05-27 11:16:52,987 - build_training_set - INFO - ✅ Added actual prices to 168 forecast rows\n",
      "/Users/Twan/Library/Mobile Documents/com~apple~CloudDocs/Data Science/Data Projects EASI/ENEXIS/src/utils/build_training_set.py:106: FutureWarning: The behavior of DataFrame concatenation with empty or all-NA entries is deprecated. In a future version, this will no longer exclude empty or all-NA columns when determining the result dtypes. To retain the old behavior, exclude the relevant entries before the concat operation.\n",
      "  df_combined = pd.concat([df_actuals, df_preds], ignore_index=True)\n",
      "2025-05-27 11:16:52,996 - build_training_set - INFO - 📦 Eindtabel bevat: 1920 rijen, 31 kolommen\n",
      "2025-05-27 11:16:52,996 - build_training_set - INFO - 🧾 Kolommen: ['Price', 'target_datetime', 'Load', 'shortwave_radiation', 'temperature_2m', 'direct_normal_irradiance', 'diffuse_radiation', 'Flow_NO', 'yearday_cos', 'Flow_GB', 'month', 'is_dst', 'yearday_sin', 'is_non_working_day', 'hour_cos', 'is_weekend', 'cloud_cover', 'weekday_sin', 'hour_sin', 'weekday_cos', 'apparent_temperature', 'day_of_week', 'day_of_year', 'direct_radiation', 'hour', 'is_holiday', 'local_datetime', 'run_date', 'snowfall', 'wind_direction_10m', 'wind_speed_10m']\n",
      "2025-05-27 11:16:52,996 - build_training_set - INFO - ❓ Price NaN count: 0/1920 (0.0%)\n",
      "2025-05-27 11:16:53,008 - build_training_set - INFO - ✅ Opgeslagen als training_set in WARP.db\n",
      "2025-05-27 11:16:53,009 - build_training_set - INFO - 🔒 Verbinding gesloten\n"
     ]
    },
    {
     "name": "stdout",
     "output_type": "stream",
     "text": [
      "Day 13: ✅ 167 test rows, Run: 03-27\n"
     ]
    },
    {
     "name": "stderr",
     "output_type": "stream",
     "text": [
      "2025-05-27 11:16:53,127 - build_training_set - INFO - 🚀 Start build van trainingset\n",
      "2025-05-27 11:16:53,127 - build_training_set - INFO - 🧠 Actuals van 2025-01-15 00:00:00+00:00 t/m 2025-03-28 23:00:00+00:00\n",
      "2025-05-27 11:16:53,127 - build_training_set - INFO - 📅 Forecast van run_date 2025-03-29 00:00:00+00:00, target range: 2025-03-29 00:00:00+00:00 → 2025-04-04 23:00:00+00:00\n",
      "2025-05-27 11:16:53,145 - build_training_set - INFO - ✅ Actuals geladen: 1752 rijen\n",
      "2025-05-27 11:16:53,288 - build_training_set - INFO - ✅ Added actual prices to 168 forecast rows\n",
      "/Users/Twan/Library/Mobile Documents/com~apple~CloudDocs/Data Science/Data Projects EASI/ENEXIS/src/utils/build_training_set.py:106: FutureWarning: The behavior of DataFrame concatenation with empty or all-NA entries is deprecated. In a future version, this will no longer exclude empty or all-NA columns when determining the result dtypes. To retain the old behavior, exclude the relevant entries before the concat operation.\n",
      "  df_combined = pd.concat([df_actuals, df_preds], ignore_index=True)\n",
      "2025-05-27 11:16:53,298 - build_training_set - INFO - 📦 Eindtabel bevat: 1920 rijen, 31 kolommen\n",
      "2025-05-27 11:16:53,298 - build_training_set - INFO - 🧾 Kolommen: ['Price', 'target_datetime', 'Load', 'shortwave_radiation', 'temperature_2m', 'direct_normal_irradiance', 'diffuse_radiation', 'Flow_NO', 'yearday_cos', 'Flow_GB', 'month', 'is_dst', 'yearday_sin', 'is_non_working_day', 'hour_cos', 'is_weekend', 'cloud_cover', 'weekday_sin', 'hour_sin', 'weekday_cos', 'apparent_temperature', 'day_of_week', 'day_of_year', 'direct_radiation', 'hour', 'is_holiday', 'local_datetime', 'run_date', 'snowfall', 'wind_direction_10m', 'wind_speed_10m']\n",
      "2025-05-27 11:16:53,298 - build_training_set - INFO - ❓ Price NaN count: 0/1920 (0.0%)\n",
      "2025-05-27 11:16:53,310 - build_training_set - INFO - ✅ Opgeslagen als training_set in WARP.db\n",
      "2025-05-27 11:16:53,310 - build_training_set - INFO - 🔒 Verbinding gesloten\n"
     ]
    },
    {
     "name": "stdout",
     "output_type": "stream",
     "text": [
      "Day 14: ✅ 167 test rows, Run: 03-28\n"
     ]
    },
    {
     "name": "stderr",
     "output_type": "stream",
     "text": [
      "2025-05-27 11:16:53,425 - build_training_set - INFO - 🚀 Start build van trainingset\n",
      "2025-05-27 11:16:53,426 - build_training_set - INFO - 🧠 Actuals van 2025-01-16 00:00:00+00:00 t/m 2025-03-29 23:00:00+00:00\n",
      "2025-05-27 11:16:53,426 - build_training_set - INFO - 📅 Forecast van run_date 2025-03-30 00:00:00+00:00, target range: 2025-03-30 00:00:00+00:00 → 2025-04-05 23:00:00+00:00\n",
      "2025-05-27 11:16:53,444 - build_training_set - INFO - ✅ Actuals geladen: 1752 rijen\n",
      "2025-05-27 11:16:53,620 - build_training_set - INFO - ✅ Added actual prices to 168 forecast rows\n"
     ]
    },
    {
     "name": "stdout",
     "output_type": "stream",
     "text": [
      "Day 15: ✅ 167 test rows, Run: 03-29\n"
     ]
    },
    {
     "name": "stderr",
     "output_type": "stream",
     "text": [
      "/Users/Twan/Library/Mobile Documents/com~apple~CloudDocs/Data Science/Data Projects EASI/ENEXIS/src/utils/build_training_set.py:106: FutureWarning: The behavior of DataFrame concatenation with empty or all-NA entries is deprecated. In a future version, this will no longer exclude empty or all-NA columns when determining the result dtypes. To retain the old behavior, exclude the relevant entries before the concat operation.\n",
      "  df_combined = pd.concat([df_actuals, df_preds], ignore_index=True)\n",
      "2025-05-27 11:16:53,630 - build_training_set - INFO - 📦 Eindtabel bevat: 1920 rijen, 31 kolommen\n",
      "2025-05-27 11:16:53,630 - build_training_set - INFO - 🧾 Kolommen: ['Price', 'target_datetime', 'Load', 'shortwave_radiation', 'temperature_2m', 'direct_normal_irradiance', 'diffuse_radiation', 'Flow_NO', 'yearday_cos', 'Flow_GB', 'month', 'is_dst', 'yearday_sin', 'is_non_working_day', 'hour_cos', 'is_weekend', 'cloud_cover', 'weekday_sin', 'hour_sin', 'weekday_cos', 'apparent_temperature', 'day_of_week', 'day_of_year', 'direct_radiation', 'hour', 'is_holiday', 'local_datetime', 'run_date', 'snowfall', 'wind_direction_10m', 'wind_speed_10m']\n",
      "2025-05-27 11:16:53,630 - build_training_set - INFO - ❓ Price NaN count: 0/1920 (0.0%)\n",
      "2025-05-27 11:16:53,642 - build_training_set - INFO - ✅ Opgeslagen als training_set in WARP.db\n",
      "2025-05-27 11:16:53,642 - build_training_set - INFO - 🔒 Verbinding gesloten\n",
      "2025-05-27 11:16:53,761 - build_training_set - INFO - 🚀 Start build van trainingset\n",
      "2025-05-27 11:16:53,761 - build_training_set - INFO - 🧠 Actuals van 2025-01-17 00:00:00+00:00 t/m 2025-03-30 23:00:00+00:00\n",
      "2025-05-27 11:16:53,761 - build_training_set - INFO - 📅 Forecast van run_date 2025-03-31 00:00:00+00:00, target range: 2025-03-31 00:00:00+00:00 → 2025-04-06 23:00:00+00:00\n",
      "2025-05-27 11:16:53,778 - build_training_set - INFO - ✅ Actuals geladen: 1752 rijen\n",
      "2025-05-27 11:16:53,920 - build_training_set - INFO - ✅ Added actual prices to 168 forecast rows\n",
      "/Users/Twan/Library/Mobile Documents/com~apple~CloudDocs/Data Science/Data Projects EASI/ENEXIS/src/utils/build_training_set.py:106: FutureWarning: The behavior of DataFrame concatenation with empty or all-NA entries is deprecated. In a future version, this will no longer exclude empty or all-NA columns when determining the result dtypes. To retain the old behavior, exclude the relevant entries before the concat operation.\n",
      "  df_combined = pd.concat([df_actuals, df_preds], ignore_index=True)\n",
      "2025-05-27 11:16:53,929 - build_training_set - INFO - 📦 Eindtabel bevat: 1920 rijen, 31 kolommen\n",
      "2025-05-27 11:16:53,930 - build_training_set - INFO - 🧾 Kolommen: ['Price', 'target_datetime', 'Load', 'shortwave_radiation', 'temperature_2m', 'direct_normal_irradiance', 'diffuse_radiation', 'Flow_NO', 'yearday_cos', 'Flow_GB', 'month', 'is_dst', 'yearday_sin', 'is_non_working_day', 'hour_cos', 'is_weekend', 'cloud_cover', 'weekday_sin', 'hour_sin', 'weekday_cos', 'apparent_temperature', 'day_of_week', 'day_of_year', 'direct_radiation', 'hour', 'is_holiday', 'local_datetime', 'run_date', 'snowfall', 'wind_direction_10m', 'wind_speed_10m']\n",
      "2025-05-27 11:16:53,930 - build_training_set - INFO - ❓ Price NaN count: 0/1920 (0.0%)\n",
      "2025-05-27 11:16:53,942 - build_training_set - INFO - ✅ Opgeslagen als training_set in WARP.db\n",
      "2025-05-27 11:16:53,943 - build_training_set - INFO - 🔒 Verbinding gesloten\n"
     ]
    },
    {
     "name": "stdout",
     "output_type": "stream",
     "text": [
      "Day 16: ✅ 167 test rows, Run: 03-30\n"
     ]
    },
    {
     "name": "stderr",
     "output_type": "stream",
     "text": [
      "2025-05-27 11:16:54,051 - build_training_set - INFO - 🚀 Start build van trainingset\n",
      "2025-05-27 11:16:54,051 - build_training_set - INFO - 🧠 Actuals van 2025-01-18 00:00:00+00:00 t/m 2025-03-31 23:00:00+00:00\n",
      "2025-05-27 11:16:54,052 - build_training_set - INFO - 📅 Forecast van run_date 2025-04-01 00:00:00+00:00, target range: 2025-04-01 00:00:00+00:00 → 2025-04-07 23:00:00+00:00\n",
      "2025-05-27 11:16:54,068 - build_training_set - INFO - ✅ Actuals geladen: 1752 rijen\n",
      "2025-05-27 11:16:54,212 - build_training_set - INFO - ✅ Added actual prices to 168 forecast rows\n",
      "/Users/Twan/Library/Mobile Documents/com~apple~CloudDocs/Data Science/Data Projects EASI/ENEXIS/src/utils/build_training_set.py:106: FutureWarning: The behavior of DataFrame concatenation with empty or all-NA entries is deprecated. In a future version, this will no longer exclude empty or all-NA columns when determining the result dtypes. To retain the old behavior, exclude the relevant entries before the concat operation.\n",
      "  df_combined = pd.concat([df_actuals, df_preds], ignore_index=True)\n",
      "2025-05-27 11:16:54,221 - build_training_set - INFO - 📦 Eindtabel bevat: 1920 rijen, 31 kolommen\n",
      "2025-05-27 11:16:54,222 - build_training_set - INFO - 🧾 Kolommen: ['Price', 'target_datetime', 'Load', 'shortwave_radiation', 'temperature_2m', 'direct_normal_irradiance', 'diffuse_radiation', 'Flow_NO', 'yearday_cos', 'Flow_GB', 'month', 'is_dst', 'yearday_sin', 'is_non_working_day', 'hour_cos', 'is_weekend', 'cloud_cover', 'weekday_sin', 'hour_sin', 'weekday_cos', 'apparent_temperature', 'day_of_week', 'day_of_year', 'direct_radiation', 'hour', 'is_holiday', 'local_datetime', 'run_date', 'snowfall', 'wind_direction_10m', 'wind_speed_10m']\n",
      "2025-05-27 11:16:54,222 - build_training_set - INFO - ❓ Price NaN count: 0/1920 (0.0%)\n",
      "2025-05-27 11:16:54,236 - build_training_set - INFO - ✅ Opgeslagen als training_set in WARP.db\n",
      "2025-05-27 11:16:54,236 - build_training_set - INFO - 🔒 Verbinding gesloten\n"
     ]
    },
    {
     "name": "stdout",
     "output_type": "stream",
     "text": [
      "Day 17: ✅ 167 test rows, Run: 03-31\n"
     ]
    },
    {
     "name": "stderr",
     "output_type": "stream",
     "text": [
      "2025-05-27 11:16:54,362 - build_training_set - INFO - 🚀 Start build van trainingset\n",
      "2025-05-27 11:16:54,363 - build_training_set - INFO - 🧠 Actuals van 2025-01-19 00:00:00+00:00 t/m 2025-04-01 23:00:00+00:00\n",
      "2025-05-27 11:16:54,363 - build_training_set - INFO - 📅 Forecast van run_date 2025-04-02 00:00:00+00:00, target range: 2025-04-02 00:00:00+00:00 → 2025-04-08 23:00:00+00:00\n",
      "2025-05-27 11:16:54,382 - build_training_set - INFO - ✅ Actuals geladen: 1752 rijen\n",
      "2025-05-27 11:16:54,523 - build_training_set - INFO - ✅ Added actual prices to 168 forecast rows\n",
      "/Users/Twan/Library/Mobile Documents/com~apple~CloudDocs/Data Science/Data Projects EASI/ENEXIS/src/utils/build_training_set.py:106: FutureWarning: The behavior of DataFrame concatenation with empty or all-NA entries is deprecated. In a future version, this will no longer exclude empty or all-NA columns when determining the result dtypes. To retain the old behavior, exclude the relevant entries before the concat operation.\n",
      "  df_combined = pd.concat([df_actuals, df_preds], ignore_index=True)\n",
      "2025-05-27 11:16:54,531 - build_training_set - INFO - 📦 Eindtabel bevat: 1920 rijen, 31 kolommen\n",
      "2025-05-27 11:16:54,531 - build_training_set - INFO - 🧾 Kolommen: ['Price', 'target_datetime', 'Load', 'shortwave_radiation', 'temperature_2m', 'direct_normal_irradiance', 'diffuse_radiation', 'Flow_NO', 'yearday_cos', 'Flow_GB', 'month', 'is_dst', 'yearday_sin', 'is_non_working_day', 'hour_cos', 'is_weekend', 'cloud_cover', 'weekday_sin', 'hour_sin', 'weekday_cos', 'apparent_temperature', 'day_of_week', 'day_of_year', 'direct_radiation', 'hour', 'is_holiday', 'local_datetime', 'run_date', 'snowfall', 'wind_direction_10m', 'wind_speed_10m']\n",
      "2025-05-27 11:16:54,532 - build_training_set - INFO - ❓ Price NaN count: 0/1920 (0.0%)\n",
      "2025-05-27 11:16:54,543 - build_training_set - INFO - ✅ Opgeslagen als training_set in WARP.db\n",
      "2025-05-27 11:16:54,543 - build_training_set - INFO - 🔒 Verbinding gesloten\n"
     ]
    },
    {
     "name": "stdout",
     "output_type": "stream",
     "text": [
      "Day 18: ✅ 167 test rows, Run: 04-01\n"
     ]
    },
    {
     "name": "stderr",
     "output_type": "stream",
     "text": [
      "2025-05-27 11:16:54,713 - build_training_set - INFO - 🚀 Start build van trainingset\n",
      "2025-05-27 11:16:54,713 - build_training_set - INFO - 🧠 Actuals van 2025-01-20 00:00:00+00:00 t/m 2025-04-02 23:00:00+00:00\n",
      "2025-05-27 11:16:54,713 - build_training_set - INFO - 📅 Forecast van run_date 2025-04-03 00:00:00+00:00, target range: 2025-04-03 00:00:00+00:00 → 2025-04-09 23:00:00+00:00\n",
      "2025-05-27 11:16:54,731 - build_training_set - INFO - ✅ Actuals geladen: 1752 rijen\n",
      "2025-05-27 11:16:54,908 - build_training_set - INFO - ✅ Added actual prices to 168 forecast rows\n"
     ]
    },
    {
     "name": "stdout",
     "output_type": "stream",
     "text": [
      "Day 19: ✅ 167 test rows, Run: 04-02\n"
     ]
    },
    {
     "name": "stderr",
     "output_type": "stream",
     "text": [
      "/Users/Twan/Library/Mobile Documents/com~apple~CloudDocs/Data Science/Data Projects EASI/ENEXIS/src/utils/build_training_set.py:106: FutureWarning: The behavior of DataFrame concatenation with empty or all-NA entries is deprecated. In a future version, this will no longer exclude empty or all-NA columns when determining the result dtypes. To retain the old behavior, exclude the relevant entries before the concat operation.\n",
      "  df_combined = pd.concat([df_actuals, df_preds], ignore_index=True)\n",
      "2025-05-27 11:16:54,917 - build_training_set - INFO - 📦 Eindtabel bevat: 1920 rijen, 31 kolommen\n",
      "2025-05-27 11:16:54,917 - build_training_set - INFO - 🧾 Kolommen: ['Price', 'target_datetime', 'Load', 'shortwave_radiation', 'temperature_2m', 'direct_normal_irradiance', 'diffuse_radiation', 'Flow_NO', 'yearday_cos', 'Flow_GB', 'month', 'is_dst', 'yearday_sin', 'is_non_working_day', 'hour_cos', 'is_weekend', 'cloud_cover', 'weekday_sin', 'hour_sin', 'weekday_cos', 'apparent_temperature', 'day_of_week', 'day_of_year', 'direct_radiation', 'hour', 'is_holiday', 'local_datetime', 'run_date', 'snowfall', 'wind_direction_10m', 'wind_speed_10m']\n",
      "2025-05-27 11:16:54,917 - build_training_set - INFO - ❓ Price NaN count: 0/1920 (0.0%)\n",
      "2025-05-27 11:16:54,929 - build_training_set - INFO - ✅ Opgeslagen als training_set in WARP.db\n",
      "2025-05-27 11:16:54,930 - build_training_set - INFO - 🔒 Verbinding gesloten\n",
      "2025-05-27 11:16:55,045 - build_training_set - INFO - 🚀 Start build van trainingset\n",
      "2025-05-27 11:16:55,045 - build_training_set - INFO - 🧠 Actuals van 2025-01-21 00:00:00+00:00 t/m 2025-04-03 23:00:00+00:00\n",
      "2025-05-27 11:16:55,046 - build_training_set - INFO - 📅 Forecast van run_date 2025-04-04 00:00:00+00:00, target range: 2025-04-04 00:00:00+00:00 → 2025-04-10 23:00:00+00:00\n",
      "2025-05-27 11:16:55,061 - build_training_set - INFO - ✅ Actuals geladen: 1752 rijen\n",
      "2025-05-27 11:16:55,203 - build_training_set - INFO - ✅ Added actual prices to 168 forecast rows\n",
      "/Users/Twan/Library/Mobile Documents/com~apple~CloudDocs/Data Science/Data Projects EASI/ENEXIS/src/utils/build_training_set.py:106: FutureWarning: The behavior of DataFrame concatenation with empty or all-NA entries is deprecated. In a future version, this will no longer exclude empty or all-NA columns when determining the result dtypes. To retain the old behavior, exclude the relevant entries before the concat operation.\n",
      "  df_combined = pd.concat([df_actuals, df_preds], ignore_index=True)\n",
      "2025-05-27 11:16:55,211 - build_training_set - INFO - 📦 Eindtabel bevat: 1920 rijen, 31 kolommen\n",
      "2025-05-27 11:16:55,211 - build_training_set - INFO - 🧾 Kolommen: ['Price', 'target_datetime', 'Load', 'shortwave_radiation', 'temperature_2m', 'direct_normal_irradiance', 'diffuse_radiation', 'Flow_NO', 'yearday_cos', 'Flow_GB', 'month', 'is_dst', 'yearday_sin', 'is_non_working_day', 'hour_cos', 'is_weekend', 'cloud_cover', 'weekday_sin', 'hour_sin', 'weekday_cos', 'apparent_temperature', 'day_of_week', 'day_of_year', 'direct_radiation', 'hour', 'is_holiday', 'local_datetime', 'run_date', 'snowfall', 'wind_direction_10m', 'wind_speed_10m']\n",
      "2025-05-27 11:16:55,212 - build_training_set - INFO - ❓ Price NaN count: 0/1920 (0.0%)\n",
      "2025-05-27 11:16:55,224 - build_training_set - INFO - ✅ Opgeslagen als training_set in WARP.db\n",
      "2025-05-27 11:16:55,225 - build_training_set - INFO - 🔒 Verbinding gesloten\n"
     ]
    },
    {
     "name": "stdout",
     "output_type": "stream",
     "text": [
      "Day 20: ✅ 167 test rows, Run: 04-03\n"
     ]
    },
    {
     "name": "stderr",
     "output_type": "stream",
     "text": [
      "2025-05-27 11:16:55,342 - build_training_set - INFO - 🚀 Start build van trainingset\n",
      "2025-05-27 11:16:55,342 - build_training_set - INFO - 🧠 Actuals van 2025-01-22 00:00:00+00:00 t/m 2025-04-04 23:00:00+00:00\n",
      "2025-05-27 11:16:55,342 - build_training_set - INFO - 📅 Forecast van run_date 2025-04-05 00:00:00+00:00, target range: 2025-04-05 00:00:00+00:00 → 2025-04-11 23:00:00+00:00\n",
      "2025-05-27 11:16:55,359 - build_training_set - INFO - ✅ Actuals geladen: 1752 rijen\n",
      "2025-05-27 11:16:55,500 - build_training_set - INFO - ✅ Added actual prices to 168 forecast rows\n",
      "/Users/Twan/Library/Mobile Documents/com~apple~CloudDocs/Data Science/Data Projects EASI/ENEXIS/src/utils/build_training_set.py:106: FutureWarning: The behavior of DataFrame concatenation with empty or all-NA entries is deprecated. In a future version, this will no longer exclude empty or all-NA columns when determining the result dtypes. To retain the old behavior, exclude the relevant entries before the concat operation.\n",
      "  df_combined = pd.concat([df_actuals, df_preds], ignore_index=True)\n",
      "2025-05-27 11:16:55,509 - build_training_set - INFO - 📦 Eindtabel bevat: 1920 rijen, 31 kolommen\n",
      "2025-05-27 11:16:55,509 - build_training_set - INFO - 🧾 Kolommen: ['Price', 'target_datetime', 'Load', 'shortwave_radiation', 'temperature_2m', 'direct_normal_irradiance', 'diffuse_radiation', 'Flow_NO', 'yearday_cos', 'Flow_GB', 'month', 'is_dst', 'yearday_sin', 'is_non_working_day', 'hour_cos', 'is_weekend', 'cloud_cover', 'weekday_sin', 'hour_sin', 'weekday_cos', 'apparent_temperature', 'day_of_week', 'day_of_year', 'direct_radiation', 'hour', 'is_holiday', 'local_datetime', 'run_date', 'snowfall', 'wind_direction_10m', 'wind_speed_10m']\n",
      "2025-05-27 11:16:55,510 - build_training_set - INFO - ❓ Price NaN count: 0/1920 (0.0%)\n",
      "2025-05-27 11:16:55,521 - build_training_set - INFO - ✅ Opgeslagen als training_set in WARP.db\n",
      "2025-05-27 11:16:55,522 - build_training_set - INFO - 🔒 Verbinding gesloten\n"
     ]
    },
    {
     "name": "stdout",
     "output_type": "stream",
     "text": [
      "Day 21: ✅ 167 test rows, Run: 04-04\n"
     ]
    },
    {
     "name": "stderr",
     "output_type": "stream",
     "text": [
      "2025-05-27 11:16:55,650 - build_training_set - INFO - 🚀 Start build van trainingset\n",
      "2025-05-27 11:16:55,650 - build_training_set - INFO - 🧠 Actuals van 2025-01-23 00:00:00+00:00 t/m 2025-04-05 23:00:00+00:00\n",
      "2025-05-27 11:16:55,650 - build_training_set - INFO - 📅 Forecast van run_date 2025-04-06 00:00:00+00:00, target range: 2025-04-06 00:00:00+00:00 → 2025-04-12 23:00:00+00:00\n",
      "2025-05-27 11:16:55,669 - build_training_set - INFO - ✅ Actuals geladen: 1752 rijen\n",
      "2025-05-27 11:16:55,814 - build_training_set - INFO - ✅ Added actual prices to 168 forecast rows\n",
      "/Users/Twan/Library/Mobile Documents/com~apple~CloudDocs/Data Science/Data Projects EASI/ENEXIS/src/utils/build_training_set.py:106: FutureWarning: The behavior of DataFrame concatenation with empty or all-NA entries is deprecated. In a future version, this will no longer exclude empty or all-NA columns when determining the result dtypes. To retain the old behavior, exclude the relevant entries before the concat operation.\n",
      "  df_combined = pd.concat([df_actuals, df_preds], ignore_index=True)\n",
      "2025-05-27 11:16:55,822 - build_training_set - INFO - 📦 Eindtabel bevat: 1920 rijen, 31 kolommen\n",
      "2025-05-27 11:16:55,822 - build_training_set - INFO - 🧾 Kolommen: ['Price', 'target_datetime', 'Load', 'shortwave_radiation', 'temperature_2m', 'direct_normal_irradiance', 'diffuse_radiation', 'Flow_NO', 'yearday_cos', 'Flow_GB', 'month', 'is_dst', 'yearday_sin', 'is_non_working_day', 'hour_cos', 'is_weekend', 'cloud_cover', 'weekday_sin', 'hour_sin', 'weekday_cos', 'apparent_temperature', 'day_of_week', 'day_of_year', 'direct_radiation', 'hour', 'is_holiday', 'local_datetime', 'run_date', 'snowfall', 'wind_direction_10m', 'wind_speed_10m']\n",
      "2025-05-27 11:16:55,823 - build_training_set - INFO - ❓ Price NaN count: 0/1920 (0.0%)\n",
      "2025-05-27 11:16:55,834 - build_training_set - INFO - ✅ Opgeslagen als training_set in WARP.db\n",
      "2025-05-27 11:16:55,835 - build_training_set - INFO - 🔒 Verbinding gesloten\n"
     ]
    },
    {
     "name": "stdout",
     "output_type": "stream",
     "text": [
      "Day 22: ✅ 167 test rows, Run: 04-05\n"
     ]
    },
    {
     "name": "stderr",
     "output_type": "stream",
     "text": [
      "2025-05-27 11:16:55,952 - build_training_set - INFO - 🚀 Start build van trainingset\n",
      "2025-05-27 11:16:55,953 - build_training_set - INFO - 🧠 Actuals van 2025-01-24 00:00:00+00:00 t/m 2025-04-06 23:00:00+00:00\n",
      "2025-05-27 11:16:55,953 - build_training_set - INFO - 📅 Forecast van run_date 2025-04-07 00:00:00+00:00, target range: 2025-04-07 00:00:00+00:00 → 2025-04-13 23:00:00+00:00\n",
      "2025-05-27 11:16:55,973 - build_training_set - INFO - ✅ Actuals geladen: 1752 rijen\n",
      "2025-05-27 11:16:56,146 - build_training_set - INFO - ✅ Added actual prices to 168 forecast rows\n"
     ]
    },
    {
     "name": "stdout",
     "output_type": "stream",
     "text": [
      "Day 23: ✅ 167 test rows, Run: 04-06\n"
     ]
    },
    {
     "name": "stderr",
     "output_type": "stream",
     "text": [
      "/Users/Twan/Library/Mobile Documents/com~apple~CloudDocs/Data Science/Data Projects EASI/ENEXIS/src/utils/build_training_set.py:106: FutureWarning: The behavior of DataFrame concatenation with empty or all-NA entries is deprecated. In a future version, this will no longer exclude empty or all-NA columns when determining the result dtypes. To retain the old behavior, exclude the relevant entries before the concat operation.\n",
      "  df_combined = pd.concat([df_actuals, df_preds], ignore_index=True)\n",
      "2025-05-27 11:16:56,155 - build_training_set - INFO - 📦 Eindtabel bevat: 1920 rijen, 31 kolommen\n",
      "2025-05-27 11:16:56,156 - build_training_set - INFO - 🧾 Kolommen: ['Price', 'target_datetime', 'Load', 'shortwave_radiation', 'temperature_2m', 'direct_normal_irradiance', 'diffuse_radiation', 'Flow_NO', 'yearday_cos', 'Flow_GB', 'month', 'is_dst', 'yearday_sin', 'is_non_working_day', 'hour_cos', 'is_weekend', 'cloud_cover', 'weekday_sin', 'hour_sin', 'weekday_cos', 'apparent_temperature', 'day_of_week', 'day_of_year', 'direct_radiation', 'hour', 'is_holiday', 'local_datetime', 'run_date', 'snowfall', 'wind_direction_10m', 'wind_speed_10m']\n",
      "2025-05-27 11:16:56,156 - build_training_set - INFO - ❓ Price NaN count: 0/1920 (0.0%)\n",
      "2025-05-27 11:16:56,169 - build_training_set - INFO - ✅ Opgeslagen als training_set in WARP.db\n",
      "2025-05-27 11:16:56,170 - build_training_set - INFO - 🔒 Verbinding gesloten\n",
      "2025-05-27 11:16:56,288 - build_training_set - INFO - 🚀 Start build van trainingset\n",
      "2025-05-27 11:16:56,288 - build_training_set - INFO - 🧠 Actuals van 2025-01-25 00:00:00+00:00 t/m 2025-04-07 23:00:00+00:00\n",
      "2025-05-27 11:16:56,288 - build_training_set - INFO - 📅 Forecast van run_date 2025-04-08 00:00:00+00:00, target range: 2025-04-08 00:00:00+00:00 → 2025-04-14 23:00:00+00:00\n",
      "2025-05-27 11:16:56,305 - build_training_set - INFO - ✅ Actuals geladen: 1752 rijen\n",
      "2025-05-27 11:16:56,447 - build_training_set - INFO - ✅ Added actual prices to 168 forecast rows\n",
      "/Users/Twan/Library/Mobile Documents/com~apple~CloudDocs/Data Science/Data Projects EASI/ENEXIS/src/utils/build_training_set.py:106: FutureWarning: The behavior of DataFrame concatenation with empty or all-NA entries is deprecated. In a future version, this will no longer exclude empty or all-NA columns when determining the result dtypes. To retain the old behavior, exclude the relevant entries before the concat operation.\n",
      "  df_combined = pd.concat([df_actuals, df_preds], ignore_index=True)\n",
      "2025-05-27 11:16:56,456 - build_training_set - INFO - 📦 Eindtabel bevat: 1920 rijen, 31 kolommen\n",
      "2025-05-27 11:16:56,456 - build_training_set - INFO - 🧾 Kolommen: ['Price', 'target_datetime', 'Load', 'shortwave_radiation', 'temperature_2m', 'direct_normal_irradiance', 'diffuse_radiation', 'Flow_NO', 'yearday_cos', 'Flow_GB', 'month', 'is_dst', 'yearday_sin', 'is_non_working_day', 'hour_cos', 'is_weekend', 'cloud_cover', 'weekday_sin', 'hour_sin', 'weekday_cos', 'apparent_temperature', 'day_of_week', 'day_of_year', 'direct_radiation', 'hour', 'is_holiday', 'local_datetime', 'run_date', 'snowfall', 'wind_direction_10m', 'wind_speed_10m']\n",
      "2025-05-27 11:16:56,457 - build_training_set - INFO - ❓ Price NaN count: 0/1920 (0.0%)\n",
      "2025-05-27 11:16:56,468 - build_training_set - INFO - ✅ Opgeslagen als training_set in WARP.db\n",
      "2025-05-27 11:16:56,469 - build_training_set - INFO - 🔒 Verbinding gesloten\n"
     ]
    },
    {
     "name": "stdout",
     "output_type": "stream",
     "text": [
      "Day 24: ✅ 167 test rows, Run: 04-07\n"
     ]
    },
    {
     "name": "stderr",
     "output_type": "stream",
     "text": [
      "2025-05-27 11:16:56,586 - build_training_set - INFO - 🚀 Start build van trainingset\n",
      "2025-05-27 11:16:56,587 - build_training_set - INFO - 🧠 Actuals van 2025-01-26 00:00:00+00:00 t/m 2025-04-08 23:00:00+00:00\n",
      "2025-05-27 11:16:56,587 - build_training_set - INFO - 📅 Forecast van run_date 2025-04-09 00:00:00+00:00, target range: 2025-04-09 00:00:00+00:00 → 2025-04-15 23:00:00+00:00\n",
      "2025-05-27 11:16:56,605 - build_training_set - INFO - ✅ Actuals geladen: 1752 rijen\n",
      "2025-05-27 11:16:56,749 - build_training_set - INFO - ✅ Added actual prices to 168 forecast rows\n",
      "/Users/Twan/Library/Mobile Documents/com~apple~CloudDocs/Data Science/Data Projects EASI/ENEXIS/src/utils/build_training_set.py:106: FutureWarning: The behavior of DataFrame concatenation with empty or all-NA entries is deprecated. In a future version, this will no longer exclude empty or all-NA columns when determining the result dtypes. To retain the old behavior, exclude the relevant entries before the concat operation.\n",
      "  df_combined = pd.concat([df_actuals, df_preds], ignore_index=True)\n",
      "2025-05-27 11:16:56,758 - build_training_set - INFO - 📦 Eindtabel bevat: 1920 rijen, 31 kolommen\n",
      "2025-05-27 11:16:56,758 - build_training_set - INFO - 🧾 Kolommen: ['Price', 'target_datetime', 'Load', 'shortwave_radiation', 'temperature_2m', 'direct_normal_irradiance', 'diffuse_radiation', 'Flow_NO', 'yearday_cos', 'Flow_GB', 'month', 'is_dst', 'yearday_sin', 'is_non_working_day', 'hour_cos', 'is_weekend', 'cloud_cover', 'weekday_sin', 'hour_sin', 'weekday_cos', 'apparent_temperature', 'day_of_week', 'day_of_year', 'direct_radiation', 'hour', 'is_holiday', 'local_datetime', 'run_date', 'snowfall', 'wind_direction_10m', 'wind_speed_10m']\n",
      "2025-05-27 11:16:56,759 - build_training_set - INFO - ❓ Price NaN count: 0/1920 (0.0%)\n",
      "2025-05-27 11:16:56,770 - build_training_set - INFO - ✅ Opgeslagen als training_set in WARP.db\n",
      "2025-05-27 11:16:56,771 - build_training_set - INFO - 🔒 Verbinding gesloten\n"
     ]
    },
    {
     "name": "stdout",
     "output_type": "stream",
     "text": [
      "Day 25: ✅ 167 test rows, Run: 04-08\n"
     ]
    },
    {
     "name": "stderr",
     "output_type": "stream",
     "text": [
      "2025-05-27 11:16:56,893 - build_training_set - INFO - 🚀 Start build van trainingset\n",
      "2025-05-27 11:16:56,894 - build_training_set - INFO - 🧠 Actuals van 2025-01-27 00:00:00+00:00 t/m 2025-04-09 23:00:00+00:00\n",
      "2025-05-27 11:16:56,894 - build_training_set - INFO - 📅 Forecast van run_date 2025-04-10 00:00:00+00:00, target range: 2025-04-10 00:00:00+00:00 → 2025-04-16 23:00:00+00:00\n",
      "2025-05-27 11:16:56,913 - build_training_set - INFO - ✅ Actuals geladen: 1752 rijen\n",
      "2025-05-27 11:16:57,055 - build_training_set - INFO - ✅ Added actual prices to 168 forecast rows\n",
      "/Users/Twan/Library/Mobile Documents/com~apple~CloudDocs/Data Science/Data Projects EASI/ENEXIS/src/utils/build_training_set.py:106: FutureWarning: The behavior of DataFrame concatenation with empty or all-NA entries is deprecated. In a future version, this will no longer exclude empty or all-NA columns when determining the result dtypes. To retain the old behavior, exclude the relevant entries before the concat operation.\n",
      "  df_combined = pd.concat([df_actuals, df_preds], ignore_index=True)\n",
      "2025-05-27 11:16:57,064 - build_training_set - INFO - 📦 Eindtabel bevat: 1920 rijen, 31 kolommen\n",
      "2025-05-27 11:16:57,064 - build_training_set - INFO - 🧾 Kolommen: ['Price', 'target_datetime', 'Load', 'shortwave_radiation', 'temperature_2m', 'direct_normal_irradiance', 'diffuse_radiation', 'Flow_NO', 'yearday_cos', 'Flow_GB', 'month', 'is_dst', 'yearday_sin', 'is_non_working_day', 'hour_cos', 'is_weekend', 'cloud_cover', 'weekday_sin', 'hour_sin', 'weekday_cos', 'apparent_temperature', 'day_of_week', 'day_of_year', 'direct_radiation', 'hour', 'is_holiday', 'local_datetime', 'run_date', 'snowfall', 'wind_direction_10m', 'wind_speed_10m']\n",
      "2025-05-27 11:16:57,065 - build_training_set - INFO - ❓ Price NaN count: 0/1920 (0.0%)\n",
      "2025-05-27 11:16:57,076 - build_training_set - INFO - ✅ Opgeslagen als training_set in WARP.db\n",
      "2025-05-27 11:16:57,077 - build_training_set - INFO - 🔒 Verbinding gesloten\n"
     ]
    },
    {
     "name": "stdout",
     "output_type": "stream",
     "text": [
      "Day 26: ✅ 167 test rows, Run: 04-09\n"
     ]
    },
    {
     "name": "stderr",
     "output_type": "stream",
     "text": [
      "2025-05-27 11:16:57,199 - build_training_set - INFO - 🚀 Start build van trainingset\n",
      "2025-05-27 11:16:57,199 - build_training_set - INFO - 🧠 Actuals van 2025-01-28 00:00:00+00:00 t/m 2025-04-10 23:00:00+00:00\n",
      "2025-05-27 11:16:57,200 - build_training_set - INFO - 📅 Forecast van run_date 2025-04-11 00:00:00+00:00, target range: 2025-04-11 00:00:00+00:00 → 2025-04-17 23:00:00+00:00\n",
      "2025-05-27 11:16:57,240 - build_training_set - INFO - ✅ Actuals geladen: 1752 rijen\n",
      "2025-05-27 11:16:57,395 - build_training_set - INFO - ✅ Added actual prices to 168 forecast rows\n"
     ]
    },
    {
     "name": "stdout",
     "output_type": "stream",
     "text": [
      "Day 27: ✅ 167 test rows, Run: 04-10\n"
     ]
    },
    {
     "name": "stderr",
     "output_type": "stream",
     "text": [
      "/Users/Twan/Library/Mobile Documents/com~apple~CloudDocs/Data Science/Data Projects EASI/ENEXIS/src/utils/build_training_set.py:106: FutureWarning: The behavior of DataFrame concatenation with empty or all-NA entries is deprecated. In a future version, this will no longer exclude empty or all-NA columns when determining the result dtypes. To retain the old behavior, exclude the relevant entries before the concat operation.\n",
      "  df_combined = pd.concat([df_actuals, df_preds], ignore_index=True)\n",
      "2025-05-27 11:16:57,404 - build_training_set - INFO - 📦 Eindtabel bevat: 1920 rijen, 31 kolommen\n",
      "2025-05-27 11:16:57,404 - build_training_set - INFO - 🧾 Kolommen: ['Price', 'target_datetime', 'Load', 'shortwave_radiation', 'temperature_2m', 'direct_normal_irradiance', 'diffuse_radiation', 'Flow_NO', 'yearday_cos', 'Flow_GB', 'month', 'is_dst', 'yearday_sin', 'is_non_working_day', 'hour_cos', 'is_weekend', 'cloud_cover', 'weekday_sin', 'hour_sin', 'weekday_cos', 'apparent_temperature', 'day_of_week', 'day_of_year', 'direct_radiation', 'hour', 'is_holiday', 'local_datetime', 'run_date', 'snowfall', 'wind_direction_10m', 'wind_speed_10m']\n",
      "2025-05-27 11:16:57,405 - build_training_set - INFO - ❓ Price NaN count: 0/1920 (0.0%)\n",
      "2025-05-27 11:16:57,417 - build_training_set - INFO - ✅ Opgeslagen als training_set in WARP.db\n",
      "2025-05-27 11:16:57,419 - build_training_set - INFO - 🔒 Verbinding gesloten\n",
      "2025-05-27 11:16:57,537 - build_training_set - INFO - 🚀 Start build van trainingset\n",
      "2025-05-27 11:16:57,537 - build_training_set - INFO - 🧠 Actuals van 2025-01-29 00:00:00+00:00 t/m 2025-04-11 23:00:00+00:00\n",
      "2025-05-27 11:16:57,537 - build_training_set - INFO - 📅 Forecast van run_date 2025-04-12 00:00:00+00:00, target range: 2025-04-12 00:00:00+00:00 → 2025-04-18 23:00:00+00:00\n",
      "2025-05-27 11:16:57,553 - build_training_set - INFO - ✅ Actuals geladen: 1752 rijen\n",
      "2025-05-27 11:16:57,695 - build_training_set - INFO - ✅ Added actual prices to 168 forecast rows\n",
      "/Users/Twan/Library/Mobile Documents/com~apple~CloudDocs/Data Science/Data Projects EASI/ENEXIS/src/utils/build_training_set.py:106: FutureWarning: The behavior of DataFrame concatenation with empty or all-NA entries is deprecated. In a future version, this will no longer exclude empty or all-NA columns when determining the result dtypes. To retain the old behavior, exclude the relevant entries before the concat operation.\n",
      "  df_combined = pd.concat([df_actuals, df_preds], ignore_index=True)\n",
      "2025-05-27 11:16:57,704 - build_training_set - INFO - 📦 Eindtabel bevat: 1920 rijen, 31 kolommen\n",
      "2025-05-27 11:16:57,704 - build_training_set - INFO - 🧾 Kolommen: ['Price', 'target_datetime', 'Load', 'shortwave_radiation', 'temperature_2m', 'direct_normal_irradiance', 'diffuse_radiation', 'Flow_NO', 'yearday_cos', 'Flow_GB', 'month', 'is_dst', 'yearday_sin', 'is_non_working_day', 'hour_cos', 'is_weekend', 'cloud_cover', 'weekday_sin', 'hour_sin', 'weekday_cos', 'apparent_temperature', 'day_of_week', 'day_of_year', 'direct_radiation', 'hour', 'is_holiday', 'local_datetime', 'run_date', 'snowfall', 'wind_direction_10m', 'wind_speed_10m']\n",
      "2025-05-27 11:16:57,704 - build_training_set - INFO - ❓ Price NaN count: 0/1920 (0.0%)\n",
      "2025-05-27 11:16:57,716 - build_training_set - INFO - ✅ Opgeslagen als training_set in WARP.db\n",
      "2025-05-27 11:16:57,717 - build_training_set - INFO - 🔒 Verbinding gesloten\n"
     ]
    },
    {
     "name": "stdout",
     "output_type": "stream",
     "text": [
      "Day 28: ✅ 167 test rows, Run: 04-11\n"
     ]
    },
    {
     "name": "stderr",
     "output_type": "stream",
     "text": [
      "2025-05-27 11:16:57,837 - build_training_set - INFO - 🚀 Start build van trainingset\n",
      "2025-05-27 11:16:57,837 - build_training_set - INFO - 🧠 Actuals van 2025-01-30 00:00:00+00:00 t/m 2025-04-12 23:00:00+00:00\n",
      "2025-05-27 11:16:57,838 - build_training_set - INFO - 📅 Forecast van run_date 2025-04-13 00:00:00+00:00, target range: 2025-04-13 00:00:00+00:00 → 2025-04-19 23:00:00+00:00\n",
      "2025-05-27 11:16:57,855 - build_training_set - INFO - ✅ Actuals geladen: 1752 rijen\n",
      "2025-05-27 11:16:57,995 - build_training_set - INFO - ✅ Added actual prices to 168 forecast rows\n",
      "/Users/Twan/Library/Mobile Documents/com~apple~CloudDocs/Data Science/Data Projects EASI/ENEXIS/src/utils/build_training_set.py:106: FutureWarning: The behavior of DataFrame concatenation with empty or all-NA entries is deprecated. In a future version, this will no longer exclude empty or all-NA columns when determining the result dtypes. To retain the old behavior, exclude the relevant entries before the concat operation.\n",
      "  df_combined = pd.concat([df_actuals, df_preds], ignore_index=True)\n",
      "2025-05-27 11:16:58,003 - build_training_set - INFO - 📦 Eindtabel bevat: 1920 rijen, 31 kolommen\n",
      "2025-05-27 11:16:58,004 - build_training_set - INFO - 🧾 Kolommen: ['Price', 'target_datetime', 'Load', 'shortwave_radiation', 'temperature_2m', 'direct_normal_irradiance', 'diffuse_radiation', 'Flow_NO', 'yearday_cos', 'Flow_GB', 'month', 'is_dst', 'yearday_sin', 'is_non_working_day', 'hour_cos', 'is_weekend', 'cloud_cover', 'weekday_sin', 'hour_sin', 'weekday_cos', 'apparent_temperature', 'day_of_week', 'day_of_year', 'direct_radiation', 'hour', 'is_holiday', 'local_datetime', 'run_date', 'snowfall', 'wind_direction_10m', 'wind_speed_10m']\n",
      "2025-05-27 11:16:58,004 - build_training_set - INFO - ❓ Price NaN count: 0/1920 (0.0%)\n",
      "2025-05-27 11:16:58,016 - build_training_set - INFO - ✅ Opgeslagen als training_set in WARP.db\n",
      "2025-05-27 11:16:58,016 - build_training_set - INFO - 🔒 Verbinding gesloten\n"
     ]
    },
    {
     "name": "stdout",
     "output_type": "stream",
     "text": [
      "Day 29: ✅ 167 test rows, Run: 04-12\n",
      "Day 30: ✅ 167 test rows, Run: 04-13\n",
      "\n",
      "📊 OVERALL RMSE - XGBoost Model\n",
      "================================================================================\n",
      "Successful runs: 30/30\n",
      " iteration   run_date  valid_predictions  rmse\n",
      "         1 2025-03-15                167  0.08\n",
      "         2 2025-03-16                167  0.09\n",
      "         3 2025-03-17                167  0.09\n",
      "         4 2025-03-18                167  0.08\n",
      "         5 2025-03-19                167  0.08\n",
      "         6 2025-03-20                167  0.08\n",
      "         7 2025-03-21                167  0.07\n",
      "         8 2025-03-22                167  0.08\n",
      "         9 2025-03-23                167  0.06\n",
      "        10 2025-03-24                167  0.07\n",
      "        11 2025-03-25                167  0.09\n",
      "        12 2025-03-26                167  0.09\n",
      "        13 2025-03-27                167  0.10\n",
      "        14 2025-03-28                167  0.11\n",
      "        15 2025-03-29                167  0.09\n",
      "        16 2025-03-30                167  0.10\n",
      "        17 2025-03-31                167  0.10\n",
      "        18 2025-04-01                167  0.11\n",
      "        19 2025-04-02                167  0.10\n",
      "        20 2025-04-03                167  0.10\n",
      "        21 2025-04-04                167  0.07\n",
      "        22 2025-04-05                167  0.07\n",
      "        23 2025-04-06                167  0.06\n",
      "        24 2025-04-07                167  0.07\n",
      "        25 2025-04-08                167  0.06\n",
      "        26 2025-04-09                167  0.06\n",
      "        27 2025-04-10                167  0.05\n",
      "        28 2025-04-11                167  0.06\n",
      "        29 2025-04-12                167  0.07\n",
      "        30 2025-04-13                167  0.08\n",
      "\n",
      "📈 SUMMARY STATISTICS\n",
      "----------------------------------------\n",
      "count    30.00\n",
      "mean      0.08\n",
      "std       0.02\n",
      "min       0.05\n",
      "25%       0.07\n",
      "50%       0.08\n",
      "75%       0.09\n",
      "max       0.11\n",
      "Name: rmse, dtype: float64\n",
      "\n",
      "📊 AVERAGE OVERALL RMSE\n",
      "----------------------------------------\n",
      "Mean RMSE: 0.08\n"
     ]
    }
   ],
   "source": [
    "import pandas as pd\n",
    "import numpy as np\n",
    "import xgboost as xgb\n",
    "from sklearn.metrics import mean_squared_error\n",
    "# Dynamic path setup\n",
    "import sys\n",
    "from pathlib import Path\n",
    "\n",
    "# Find project root dynamically\n",
    "current_dir = Path.cwd()\n",
    "while current_dir.name != \"ENEXIS\" and current_dir.parent != current_dir:\n",
    "    current_dir = current_dir.parent\n",
    "project_root = current_dir\n",
    "\n",
    "# Add utils to path\n",
    "utils_path = project_root / \"src\" / \"utils\"\n",
    "sys.path.append(str(utils_path))\n",
    "from build_training_set import build_training_set\n",
    "\n",
    "# Define feature columns and target\n",
    "COMMON_FEATURES = ['is_dst', 'hour_cos', 'hour_sin','month','is_non_working_day','shortwave_radiation', 'temperature_2m'\n",
    "    ]\n",
    "# list of all available features 'cloud_cover', 'direct_normal_irradiance', 'diffuse_radiation','hour_cos', 'hour_sin', 'is_dst', 'is_non_working_day','is_weekend', 'month', 'shortwave_radiation','temperature_2m', 'yearday_cos', 'yearday_sin'\n",
    "TRAIN_ONLY_FEATURES = ['Load','Flow_NO']  # <- Only used if known ex post\n",
    "\n",
    "TRAIN_FEATURES = COMMON_FEATURES + TRAIN_ONLY_FEATURES\n",
    "TEST_FEATURES = COMMON_FEATURES\n",
    "\n",
    "\n",
    "target = 'Price'\n",
    "\n",
    "# Initial training window\n",
    "base_start = \"2025-01-01 00:00:00\"\n",
    "base_end = \"2025-03-14 23:00:00\"\n",
    "base_run = \"2025-03-15 00:00:00\"\n",
    "\n",
    "rmse_results = []\n",
    "\n",
    "print(\"🔍 Testing XGBoost Model - RMSE per forecast day\")\n",
    "print(\"=\" * 60)\n",
    "\n",
    "for i in range(30):\n",
    "    start = pd.Timestamp(base_start) + pd.Timedelta(days=i)\n",
    "    end = pd.Timestamp(base_end) + pd.Timedelta(days=i)\n",
    "    run_date = pd.Timestamp(base_run) + pd.Timedelta(days=i)\n",
    "\n",
    "    try:\n",
    "        df = build_training_set(\n",
    "            train_start=start.strftime(\"%Y-%m-%d %H:%M:%S\"),\n",
    "            train_end=end.strftime(\"%Y-%m-%d %H:%M:%S\"),\n",
    "            run_date=run_date.strftime(\"%Y-%m-%d %H:%M:%S\")\n",
    "        )\n",
    "\n",
    "        if df is None or df.empty:\n",
    "            print(f\"Day {i+1}: ❌ No training data returned\")\n",
    "            continue\n",
    "\n",
    "        df['target_datetime'] = pd.to_datetime(df['target_datetime'], utc=True)\n",
    "        df = df.sort_values('target_datetime').set_index('target_datetime')\n",
    "\n",
    "        # Zorg dat run_date ook in UTC is\n",
    "        run_date_utc = run_date.tz_localize(\"UTC\")\n",
    "\n",
    "        # Split into training and testing sets\n",
    "        train_data = df[df.index <= run_date_utc]\n",
    "        test_data = df[df.index > run_date_utc]\n",
    "\n",
    "        # Drop any missing data in training\n",
    "        train_data = train_data.dropna(subset=features + [target])\n",
    "\n",
    "        if test_data.empty or train_data.empty:\n",
    "            print(f\"Day {i+1}: ❌ Not enough data for training or testing\")\n",
    "            continue\n",
    "\n",
    "        # Train model\n",
    "        X_train = train_data[TRAIN_FEATURES]\n",
    "        y_train = train_data[target]\n",
    "\n",
    "        # Aanvullen met NaN-kolommen waar nodig\n",
    "        for col in TRAIN_FEATURES:\n",
    "            if col not in test_data.columns:\n",
    "                test_data[col] = np.nan\n",
    "\n",
    "        X_test = test_data[TRAIN_FEATURES]\n",
    "        y_test = test_data[target]\n",
    "\n",
    "        model = xgb.XGBRegressor(objective='reg:squarederror', random_state=42)\n",
    "        model.fit(X_train, y_train)\n",
    "\n",
    "        y_pred = model.predict(X_test)\n",
    "\n",
    "        rmse = np.sqrt(mean_squared_error(y_test, y_pred))\n",
    "        rmse_results.append({\n",
    "            'iteration': i + 1,\n",
    "            'run_date': run_date.strftime('%Y-%m-%d'),\n",
    "            'valid_predictions': len(test_data),\n",
    "            'rmse': rmse\n",
    "        })\n",
    "\n",
    "        print(f\"Day {i+1}: ✅ {len(test_data)} test rows, Run: {run_date.strftime('%m-%d')}\")\n",
    "\n",
    "    except Exception as e:\n",
    "        print(f\"Day {i+1}: ❌ Error: {e}\")\n",
    "\n",
    "# Create results dataframe\n",
    "if rmse_results:\n",
    "    rmse_df = pd.DataFrame(rmse_results)\n",
    "\n",
    "    print(f\"\\n📊 OVERALL RMSE - XGBoost Model\")\n",
    "    print(\"=\" * 80)\n",
    "    print(f\"Successful runs: {len(rmse_df)}/30\")\n",
    "\n",
    "    print(rmse_df[['iteration', 'run_date', 'valid_predictions', 'rmse']].round(2).to_string(index=False))\n",
    "\n",
    "    print(f\"\\n📈 SUMMARY STATISTICS\")\n",
    "    print(\"-\" * 40)\n",
    "    print(rmse_df['rmse'].describe().round(2))\n",
    "\n",
    "    print(f\"\\n📊 AVERAGE OVERALL RMSE\")\n",
    "    print(\"-\" * 40)\n",
    "    print(f\"Mean RMSE: {rmse_df['rmse'].mean():.2f}\")\n",
    "else:\n",
    "    print(\"❌ No runs completed successfully\")"
   ]
  },
  {
   "cell_type": "code",
   "execution_count": 23,
   "id": "465528b3",
   "metadata": {},
   "outputs": [
    {
     "name": "stderr",
     "output_type": "stream",
     "text": [
      "2025-05-27 11:44:54,535 - build_training_set - INFO - 🚀 Start build van trainingset\n",
      "2025-05-27 11:44:54,536 - build_training_set - INFO - 🧠 Actuals van 2025-01-01 00:00:00+00:00 t/m 2025-03-14 23:00:00+00:00\n",
      "2025-05-27 11:44:54,536 - build_training_set - INFO - 📅 Forecast van run_date 2025-03-15 00:00:00+00:00, target range: 2025-03-15 00:00:00+00:00 → 2025-03-21 23:00:00+00:00\n",
      "2025-05-27 11:44:54,588 - build_training_set - INFO - ✅ Actuals geladen: 1752 rijen\n"
     ]
    },
    {
     "name": "stdout",
     "output_type": "stream",
     "text": [
      "🔍 Testing XGBoost Model - RMSE per forecast day\n",
      "============================================================\n"
     ]
    },
    {
     "name": "stderr",
     "output_type": "stream",
     "text": [
      "2025-05-27 11:44:54,822 - build_training_set - INFO - ✅ Added actual prices to 168 forecast rows\n",
      "/Users/Twan/Library/Mobile Documents/com~apple~CloudDocs/Data Science/Data Projects EASI/ENEXIS/src/utils/build_training_set.py:106: FutureWarning: The behavior of DataFrame concatenation with empty or all-NA entries is deprecated. In a future version, this will no longer exclude empty or all-NA columns when determining the result dtypes. To retain the old behavior, exclude the relevant entries before the concat operation.\n",
      "  df_combined = pd.concat([df_actuals, df_preds], ignore_index=True)\n",
      "2025-05-27 11:44:54,834 - build_training_set - INFO - 📦 Eindtabel bevat: 1920 rijen, 31 kolommen\n",
      "2025-05-27 11:44:54,834 - build_training_set - INFO - 🧾 Kolommen: ['Price', 'target_datetime', 'Load', 'shortwave_radiation', 'temperature_2m', 'direct_normal_irradiance', 'diffuse_radiation', 'Flow_NO', 'yearday_cos', 'Flow_GB', 'month', 'is_dst', 'yearday_sin', 'is_non_working_day', 'hour_cos', 'is_weekend', 'cloud_cover', 'weekday_sin', 'hour_sin', 'weekday_cos', 'apparent_temperature', 'day_of_week', 'day_of_year', 'direct_radiation', 'hour', 'is_holiday', 'local_datetime', 'run_date', 'snowfall', 'wind_direction_10m', 'wind_speed_10m']\n",
      "2025-05-27 11:44:54,835 - build_training_set - INFO - ❓ Price NaN count: 0/1920 (0.0%)\n",
      "2025-05-27 11:44:54,851 - build_training_set - INFO - ✅ Opgeslagen als training_set in WARP.db\n",
      "2025-05-27 11:44:54,852 - build_training_set - INFO - 🔒 Verbinding gesloten\n",
      "2025-05-27 11:44:58,633 - build_training_set - INFO - 🚀 Start build van trainingset\n",
      "2025-05-27 11:44:58,634 - build_training_set - INFO - 🧠 Actuals van 2025-01-02 00:00:00+00:00 t/m 2025-03-15 23:00:00+00:00\n",
      "2025-05-27 11:44:58,636 - build_training_set - INFO - 📅 Forecast van run_date 2025-03-16 00:00:00+00:00, target range: 2025-03-16 00:00:00+00:00 → 2025-03-22 23:00:00+00:00\n",
      "2025-05-27 11:44:58,661 - build_training_set - INFO - ✅ Actuals geladen: 1752 rijen\n",
      "2025-05-27 11:44:58,817 - build_training_set - INFO - ✅ Added actual prices to 168 forecast rows\n",
      "/Users/Twan/Library/Mobile Documents/com~apple~CloudDocs/Data Science/Data Projects EASI/ENEXIS/src/utils/build_training_set.py:106: FutureWarning: The behavior of DataFrame concatenation with empty or all-NA entries is deprecated. In a future version, this will no longer exclude empty or all-NA columns when determining the result dtypes. To retain the old behavior, exclude the relevant entries before the concat operation.\n",
      "  df_combined = pd.concat([df_actuals, df_preds], ignore_index=True)\n",
      "2025-05-27 11:44:58,826 - build_training_set - INFO - 📦 Eindtabel bevat: 1920 rijen, 31 kolommen\n",
      "2025-05-27 11:44:58,826 - build_training_set - INFO - 🧾 Kolommen: ['Price', 'target_datetime', 'Load', 'shortwave_radiation', 'temperature_2m', 'direct_normal_irradiance', 'diffuse_radiation', 'Flow_NO', 'yearday_cos', 'Flow_GB', 'month', 'is_dst', 'yearday_sin', 'is_non_working_day', 'hour_cos', 'is_weekend', 'cloud_cover', 'weekday_sin', 'hour_sin', 'weekday_cos', 'apparent_temperature', 'day_of_week', 'day_of_year', 'direct_radiation', 'hour', 'is_holiday', 'local_datetime', 'run_date', 'snowfall', 'wind_direction_10m', 'wind_speed_10m']\n",
      "2025-05-27 11:44:58,827 - build_training_set - INFO - ❓ Price NaN count: 0/1920 (0.0%)\n"
     ]
    },
    {
     "name": "stdout",
     "output_type": "stream",
     "text": [
      "Day 1: 🧪 Best params: {'colsample_bytree': 0.8, 'learning_rate': 0.05, 'max_depth': 3, 'n_estimators': 100, 'subsample': 1}\n",
      "Day 1: ✅ 167 test rows, Run: 03-15\n"
     ]
    },
    {
     "name": "stderr",
     "output_type": "stream",
     "text": [
      "2025-05-27 11:44:58,841 - build_training_set - INFO - ✅ Opgeslagen als training_set in WARP.db\n",
      "2025-05-27 11:44:58,842 - build_training_set - INFO - 🔒 Verbinding gesloten\n",
      "2025-05-27 11:44:59,641 - build_training_set - INFO - 🚀 Start build van trainingset\n",
      "2025-05-27 11:44:59,643 - build_training_set - INFO - 🧠 Actuals van 2025-01-03 00:00:00+00:00 t/m 2025-03-16 23:00:00+00:00\n",
      "2025-05-27 11:44:59,644 - build_training_set - INFO - 📅 Forecast van run_date 2025-03-17 00:00:00+00:00, target range: 2025-03-17 00:00:00+00:00 → 2025-03-23 23:00:00+00:00\n",
      "2025-05-27 11:44:59,666 - build_training_set - INFO - ✅ Actuals geladen: 1752 rijen\n",
      "2025-05-27 11:44:59,821 - build_training_set - INFO - ✅ Added actual prices to 168 forecast rows\n",
      "/Users/Twan/Library/Mobile Documents/com~apple~CloudDocs/Data Science/Data Projects EASI/ENEXIS/src/utils/build_training_set.py:106: FutureWarning: The behavior of DataFrame concatenation with empty or all-NA entries is deprecated. In a future version, this will no longer exclude empty or all-NA columns when determining the result dtypes. To retain the old behavior, exclude the relevant entries before the concat operation.\n",
      "  df_combined = pd.concat([df_actuals, df_preds], ignore_index=True)\n",
      "2025-05-27 11:44:59,830 - build_training_set - INFO - 📦 Eindtabel bevat: 1920 rijen, 31 kolommen\n",
      "2025-05-27 11:44:59,830 - build_training_set - INFO - 🧾 Kolommen: ['Price', 'target_datetime', 'Load', 'shortwave_radiation', 'temperature_2m', 'direct_normal_irradiance', 'diffuse_radiation', 'Flow_NO', 'yearday_cos', 'Flow_GB', 'month', 'is_dst', 'yearday_sin', 'is_non_working_day', 'hour_cos', 'is_weekend', 'cloud_cover', 'weekday_sin', 'hour_sin', 'weekday_cos', 'apparent_temperature', 'day_of_week', 'day_of_year', 'direct_radiation', 'hour', 'is_holiday', 'local_datetime', 'run_date', 'snowfall', 'wind_direction_10m', 'wind_speed_10m']\n",
      "2025-05-27 11:44:59,831 - build_training_set - INFO - ❓ Price NaN count: 0/1920 (0.0%)\n"
     ]
    },
    {
     "name": "stdout",
     "output_type": "stream",
     "text": [
      "Day 2: 🧪 Best params: {'colsample_bytree': 0.8, 'learning_rate': 0.05, 'max_depth': 3, 'n_estimators': 100, 'subsample': 0.8}\n",
      "Day 2: ✅ 167 test rows, Run: 03-16\n"
     ]
    },
    {
     "name": "stderr",
     "output_type": "stream",
     "text": [
      "2025-05-27 11:44:59,843 - build_training_set - INFO - ✅ Opgeslagen als training_set in WARP.db\n",
      "2025-05-27 11:44:59,844 - build_training_set - INFO - 🔒 Verbinding gesloten\n",
      "2025-05-27 11:45:00,766 - build_training_set - INFO - 🚀 Start build van trainingset\n",
      "2025-05-27 11:45:00,767 - build_training_set - INFO - 🧠 Actuals van 2025-01-04 00:00:00+00:00 t/m 2025-03-17 23:00:00+00:00\n",
      "2025-05-27 11:45:00,767 - build_training_set - INFO - 📅 Forecast van run_date 2025-03-18 00:00:00+00:00, target range: 2025-03-18 00:00:00+00:00 → 2025-03-24 23:00:00+00:00\n",
      "2025-05-27 11:45:00,784 - build_training_set - INFO - ✅ Actuals geladen: 1752 rijen\n",
      "2025-05-27 11:45:00,936 - build_training_set - INFO - ✅ Added actual prices to 168 forecast rows\n",
      "/Users/Twan/Library/Mobile Documents/com~apple~CloudDocs/Data Science/Data Projects EASI/ENEXIS/src/utils/build_training_set.py:106: FutureWarning: The behavior of DataFrame concatenation with empty or all-NA entries is deprecated. In a future version, this will no longer exclude empty or all-NA columns when determining the result dtypes. To retain the old behavior, exclude the relevant entries before the concat operation.\n",
      "  df_combined = pd.concat([df_actuals, df_preds], ignore_index=True)\n",
      "2025-05-27 11:45:00,945 - build_training_set - INFO - 📦 Eindtabel bevat: 1920 rijen, 31 kolommen\n",
      "2025-05-27 11:45:00,945 - build_training_set - INFO - 🧾 Kolommen: ['Price', 'target_datetime', 'Load', 'shortwave_radiation', 'temperature_2m', 'direct_normal_irradiance', 'diffuse_radiation', 'Flow_NO', 'yearday_cos', 'Flow_GB', 'month', 'is_dst', 'yearday_sin', 'is_non_working_day', 'hour_cos', 'is_weekend', 'cloud_cover', 'weekday_sin', 'hour_sin', 'weekday_cos', 'apparent_temperature', 'day_of_week', 'day_of_year', 'direct_radiation', 'hour', 'is_holiday', 'local_datetime', 'run_date', 'snowfall', 'wind_direction_10m', 'wind_speed_10m']\n",
      "2025-05-27 11:45:00,945 - build_training_set - INFO - ❓ Price NaN count: 0/1920 (0.0%)\n",
      "2025-05-27 11:45:00,958 - build_training_set - INFO - ✅ Opgeslagen als training_set in WARP.db\n",
      "2025-05-27 11:45:00,959 - build_training_set - INFO - 🔒 Verbinding gesloten\n"
     ]
    },
    {
     "name": "stdout",
     "output_type": "stream",
     "text": [
      "Day 3: 🧪 Best params: {'colsample_bytree': 1, 'learning_rate': 0.05, 'max_depth': 3, 'n_estimators': 100, 'subsample': 0.8}\n",
      "Day 3: ✅ 167 test rows, Run: 03-17\n"
     ]
    },
    {
     "name": "stderr",
     "output_type": "stream",
     "text": [
      "2025-05-27 11:45:01,691 - build_training_set - INFO - 🚀 Start build van trainingset\n",
      "2025-05-27 11:45:01,691 - build_training_set - INFO - 🧠 Actuals van 2025-01-05 00:00:00+00:00 t/m 2025-03-18 23:00:00+00:00\n",
      "2025-05-27 11:45:01,692 - build_training_set - INFO - 📅 Forecast van run_date 2025-03-19 00:00:00+00:00, target range: 2025-03-19 00:00:00+00:00 → 2025-03-25 23:00:00+00:00\n",
      "2025-05-27 11:45:01,710 - build_training_set - INFO - ✅ Actuals geladen: 1752 rijen\n",
      "2025-05-27 11:45:01,857 - build_training_set - INFO - ✅ Added actual prices to 168 forecast rows\n",
      "/Users/Twan/Library/Mobile Documents/com~apple~CloudDocs/Data Science/Data Projects EASI/ENEXIS/src/utils/build_training_set.py:106: FutureWarning: The behavior of DataFrame concatenation with empty or all-NA entries is deprecated. In a future version, this will no longer exclude empty or all-NA columns when determining the result dtypes. To retain the old behavior, exclude the relevant entries before the concat operation.\n",
      "  df_combined = pd.concat([df_actuals, df_preds], ignore_index=True)\n",
      "2025-05-27 11:45:01,866 - build_training_set - INFO - 📦 Eindtabel bevat: 1920 rijen, 31 kolommen\n",
      "2025-05-27 11:45:01,866 - build_training_set - INFO - 🧾 Kolommen: ['Price', 'target_datetime', 'Load', 'shortwave_radiation', 'temperature_2m', 'direct_normal_irradiance', 'diffuse_radiation', 'Flow_NO', 'yearday_cos', 'Flow_GB', 'month', 'is_dst', 'yearday_sin', 'is_non_working_day', 'hour_cos', 'is_weekend', 'cloud_cover', 'weekday_sin', 'hour_sin', 'weekday_cos', 'apparent_temperature', 'day_of_week', 'day_of_year', 'direct_radiation', 'hour', 'is_holiday', 'local_datetime', 'run_date', 'snowfall', 'wind_direction_10m', 'wind_speed_10m']\n",
      "2025-05-27 11:45:01,867 - build_training_set - INFO - ❓ Price NaN count: 0/1920 (0.0%)\n",
      "2025-05-27 11:45:01,879 - build_training_set - INFO - ✅ Opgeslagen als training_set in WARP.db\n",
      "2025-05-27 11:45:01,880 - build_training_set - INFO - 🔒 Verbinding gesloten\n"
     ]
    },
    {
     "name": "stdout",
     "output_type": "stream",
     "text": [
      "Day 4: 🧪 Best params: {'colsample_bytree': 1, 'learning_rate': 0.05, 'max_depth': 3, 'n_estimators': 200, 'subsample': 0.8}\n",
      "Day 4: ✅ 167 test rows, Run: 03-18\n"
     ]
    },
    {
     "name": "stderr",
     "output_type": "stream",
     "text": [
      "2025-05-27 11:45:02,543 - build_training_set - INFO - 🚀 Start build van trainingset\n",
      "2025-05-27 11:45:02,544 - build_training_set - INFO - 🧠 Actuals van 2025-01-06 00:00:00+00:00 t/m 2025-03-19 23:00:00+00:00\n",
      "2025-05-27 11:45:02,544 - build_training_set - INFO - 📅 Forecast van run_date 2025-03-20 00:00:00+00:00, target range: 2025-03-20 00:00:00+00:00 → 2025-03-26 23:00:00+00:00\n",
      "2025-05-27 11:45:02,562 - build_training_set - INFO - ✅ Actuals geladen: 1752 rijen\n",
      "2025-05-27 11:45:02,716 - build_training_set - INFO - ✅ Added actual prices to 168 forecast rows\n",
      "/Users/Twan/Library/Mobile Documents/com~apple~CloudDocs/Data Science/Data Projects EASI/ENEXIS/src/utils/build_training_set.py:106: FutureWarning: The behavior of DataFrame concatenation with empty or all-NA entries is deprecated. In a future version, this will no longer exclude empty or all-NA columns when determining the result dtypes. To retain the old behavior, exclude the relevant entries before the concat operation.\n",
      "  df_combined = pd.concat([df_actuals, df_preds], ignore_index=True)\n",
      "2025-05-27 11:45:02,726 - build_training_set - INFO - 📦 Eindtabel bevat: 1920 rijen, 31 kolommen\n",
      "2025-05-27 11:45:02,726 - build_training_set - INFO - 🧾 Kolommen: ['Price', 'target_datetime', 'Load', 'shortwave_radiation', 'temperature_2m', 'direct_normal_irradiance', 'diffuse_radiation', 'Flow_NO', 'yearday_cos', 'Flow_GB', 'month', 'is_dst', 'yearday_sin', 'is_non_working_day', 'hour_cos', 'is_weekend', 'cloud_cover', 'weekday_sin', 'hour_sin', 'weekday_cos', 'apparent_temperature', 'day_of_week', 'day_of_year', 'direct_radiation', 'hour', 'is_holiday', 'local_datetime', 'run_date', 'snowfall', 'wind_direction_10m', 'wind_speed_10m']\n",
      "2025-05-27 11:45:02,727 - build_training_set - INFO - ❓ Price NaN count: 0/1920 (0.0%)\n",
      "2025-05-27 11:45:02,741 - build_training_set - INFO - ✅ Opgeslagen als training_set in WARP.db\n"
     ]
    },
    {
     "name": "stdout",
     "output_type": "stream",
     "text": [
      "Day 5: 🧪 Best params: {'colsample_bytree': 1, 'learning_rate': 0.05, 'max_depth': 3, 'n_estimators': 200, 'subsample': 0.8}\n",
      "Day 5: ✅ 167 test rows, Run: 03-19\n"
     ]
    },
    {
     "name": "stderr",
     "output_type": "stream",
     "text": [
      "2025-05-27 11:45:02,742 - build_training_set - INFO - 🔒 Verbinding gesloten\n",
      "2025-05-27 11:45:03,701 - build_training_set - INFO - 🚀 Start build van trainingset\n",
      "2025-05-27 11:45:03,702 - build_training_set - INFO - 🧠 Actuals van 2025-01-07 00:00:00+00:00 t/m 2025-03-20 23:00:00+00:00\n",
      "2025-05-27 11:45:03,702 - build_training_set - INFO - 📅 Forecast van run_date 2025-03-21 00:00:00+00:00, target range: 2025-03-21 00:00:00+00:00 → 2025-03-27 23:00:00+00:00\n",
      "2025-05-27 11:45:03,726 - build_training_set - INFO - ✅ Actuals geladen: 1752 rijen\n",
      "2025-05-27 11:45:03,872 - build_training_set - INFO - ✅ Added actual prices to 168 forecast rows\n",
      "/Users/Twan/Library/Mobile Documents/com~apple~CloudDocs/Data Science/Data Projects EASI/ENEXIS/src/utils/build_training_set.py:106: FutureWarning: The behavior of DataFrame concatenation with empty or all-NA entries is deprecated. In a future version, this will no longer exclude empty or all-NA columns when determining the result dtypes. To retain the old behavior, exclude the relevant entries before the concat operation.\n",
      "  df_combined = pd.concat([df_actuals, df_preds], ignore_index=True)\n",
      "2025-05-27 11:45:03,881 - build_training_set - INFO - 📦 Eindtabel bevat: 1920 rijen, 31 kolommen\n",
      "2025-05-27 11:45:03,881 - build_training_set - INFO - 🧾 Kolommen: ['Price', 'target_datetime', 'Load', 'shortwave_radiation', 'temperature_2m', 'direct_normal_irradiance', 'diffuse_radiation', 'Flow_NO', 'yearday_cos', 'Flow_GB', 'month', 'is_dst', 'yearday_sin', 'is_non_working_day', 'hour_cos', 'is_weekend', 'cloud_cover', 'weekday_sin', 'hour_sin', 'weekday_cos', 'apparent_temperature', 'day_of_week', 'day_of_year', 'direct_radiation', 'hour', 'is_holiday', 'local_datetime', 'run_date', 'snowfall', 'wind_direction_10m', 'wind_speed_10m']\n",
      "2025-05-27 11:45:03,882 - build_training_set - INFO - ❓ Price NaN count: 0/1920 (0.0%)\n",
      "2025-05-27 11:45:03,894 - build_training_set - INFO - ✅ Opgeslagen als training_set in WARP.db\n",
      "2025-05-27 11:45:03,894 - build_training_set - INFO - 🔒 Verbinding gesloten\n"
     ]
    },
    {
     "name": "stdout",
     "output_type": "stream",
     "text": [
      "Day 6: 🧪 Best params: {'colsample_bytree': 1, 'learning_rate': 0.05, 'max_depth': 3, 'n_estimators': 200, 'subsample': 0.8}\n",
      "Day 6: ✅ 167 test rows, Run: 03-20\n"
     ]
    },
    {
     "name": "stderr",
     "output_type": "stream",
     "text": [
      "2025-05-27 11:45:04,515 - build_training_set - INFO - 🚀 Start build van trainingset\n",
      "2025-05-27 11:45:04,516 - build_training_set - INFO - 🧠 Actuals van 2025-01-08 00:00:00+00:00 t/m 2025-03-21 23:00:00+00:00\n",
      "2025-05-27 11:45:04,516 - build_training_set - INFO - 📅 Forecast van run_date 2025-03-22 00:00:00+00:00, target range: 2025-03-22 00:00:00+00:00 → 2025-03-28 23:00:00+00:00\n",
      "2025-05-27 11:45:04,533 - build_training_set - INFO - ✅ Actuals geladen: 1752 rijen\n",
      "2025-05-27 11:45:04,677 - build_training_set - INFO - ✅ Added actual prices to 168 forecast rows\n",
      "/Users/Twan/Library/Mobile Documents/com~apple~CloudDocs/Data Science/Data Projects EASI/ENEXIS/src/utils/build_training_set.py:106: FutureWarning: The behavior of DataFrame concatenation with empty or all-NA entries is deprecated. In a future version, this will no longer exclude empty or all-NA columns when determining the result dtypes. To retain the old behavior, exclude the relevant entries before the concat operation.\n",
      "  df_combined = pd.concat([df_actuals, df_preds], ignore_index=True)\n",
      "2025-05-27 11:45:04,686 - build_training_set - INFO - 📦 Eindtabel bevat: 1920 rijen, 31 kolommen\n",
      "2025-05-27 11:45:04,686 - build_training_set - INFO - 🧾 Kolommen: ['Price', 'target_datetime', 'Load', 'shortwave_radiation', 'temperature_2m', 'direct_normal_irradiance', 'diffuse_radiation', 'Flow_NO', 'yearday_cos', 'Flow_GB', 'month', 'is_dst', 'yearday_sin', 'is_non_working_day', 'hour_cos', 'is_weekend', 'cloud_cover', 'weekday_sin', 'hour_sin', 'weekday_cos', 'apparent_temperature', 'day_of_week', 'day_of_year', 'direct_radiation', 'hour', 'is_holiday', 'local_datetime', 'run_date', 'snowfall', 'wind_direction_10m', 'wind_speed_10m']\n",
      "2025-05-27 11:45:04,687 - build_training_set - INFO - ❓ Price NaN count: 0/1920 (0.0%)\n",
      "2025-05-27 11:45:04,698 - build_training_set - INFO - ✅ Opgeslagen als training_set in WARP.db\n",
      "2025-05-27 11:45:04,699 - build_training_set - INFO - 🔒 Verbinding gesloten\n"
     ]
    },
    {
     "name": "stdout",
     "output_type": "stream",
     "text": [
      "Day 7: 🧪 Best params: {'colsample_bytree': 1, 'learning_rate': 0.05, 'max_depth': 3, 'n_estimators': 100, 'subsample': 0.8}\n",
      "Day 7: ✅ 167 test rows, Run: 03-21\n"
     ]
    },
    {
     "name": "stderr",
     "output_type": "stream",
     "text": [
      "2025-05-27 11:45:05,330 - build_training_set - INFO - 🚀 Start build van trainingset\n",
      "2025-05-27 11:45:05,330 - build_training_set - INFO - 🧠 Actuals van 2025-01-09 00:00:00+00:00 t/m 2025-03-22 23:00:00+00:00\n",
      "2025-05-27 11:45:05,331 - build_training_set - INFO - 📅 Forecast van run_date 2025-03-23 00:00:00+00:00, target range: 2025-03-23 00:00:00+00:00 → 2025-03-29 23:00:00+00:00\n",
      "2025-05-27 11:45:05,348 - build_training_set - INFO - ✅ Actuals geladen: 1752 rijen\n",
      "2025-05-27 11:45:05,490 - build_training_set - INFO - ✅ Added actual prices to 168 forecast rows\n",
      "/Users/Twan/Library/Mobile Documents/com~apple~CloudDocs/Data Science/Data Projects EASI/ENEXIS/src/utils/build_training_set.py:106: FutureWarning: The behavior of DataFrame concatenation with empty or all-NA entries is deprecated. In a future version, this will no longer exclude empty or all-NA columns when determining the result dtypes. To retain the old behavior, exclude the relevant entries before the concat operation.\n",
      "  df_combined = pd.concat([df_actuals, df_preds], ignore_index=True)\n",
      "2025-05-27 11:45:05,499 - build_training_set - INFO - 📦 Eindtabel bevat: 1920 rijen, 31 kolommen\n",
      "2025-05-27 11:45:05,500 - build_training_set - INFO - 🧾 Kolommen: ['Price', 'target_datetime', 'Load', 'shortwave_radiation', 'temperature_2m', 'direct_normal_irradiance', 'diffuse_radiation', 'Flow_NO', 'yearday_cos', 'Flow_GB', 'month', 'is_dst', 'yearday_sin', 'is_non_working_day', 'hour_cos', 'is_weekend', 'cloud_cover', 'weekday_sin', 'hour_sin', 'weekday_cos', 'apparent_temperature', 'day_of_week', 'day_of_year', 'direct_radiation', 'hour', 'is_holiday', 'local_datetime', 'run_date', 'snowfall', 'wind_direction_10m', 'wind_speed_10m']\n",
      "2025-05-27 11:45:05,500 - build_training_set - INFO - ❓ Price NaN count: 0/1920 (0.0%)\n",
      "2025-05-27 11:45:05,512 - build_training_set - INFO - ✅ Opgeslagen als training_set in WARP.db\n",
      "2025-05-27 11:45:05,512 - build_training_set - INFO - 🔒 Verbinding gesloten\n"
     ]
    },
    {
     "name": "stdout",
     "output_type": "stream",
     "text": [
      "Day 8: 🧪 Best params: {'colsample_bytree': 1, 'learning_rate': 0.05, 'max_depth': 3, 'n_estimators': 100, 'subsample': 0.8}\n",
      "Day 8: ✅ 167 test rows, Run: 03-22\n"
     ]
    },
    {
     "name": "stderr",
     "output_type": "stream",
     "text": [
      "2025-05-27 11:45:06,462 - build_training_set - INFO - 🚀 Start build van trainingset\n",
      "2025-05-27 11:45:06,463 - build_training_set - INFO - 🧠 Actuals van 2025-01-10 00:00:00+00:00 t/m 2025-03-23 23:00:00+00:00\n",
      "2025-05-27 11:45:06,463 - build_training_set - INFO - 📅 Forecast van run_date 2025-03-24 00:00:00+00:00, target range: 2025-03-24 00:00:00+00:00 → 2025-03-30 23:00:00+00:00\n",
      "2025-05-27 11:45:06,483 - build_training_set - INFO - ✅ Actuals geladen: 1752 rijen\n"
     ]
    },
    {
     "name": "stdout",
     "output_type": "stream",
     "text": [
      "Day 9: 🧪 Best params: {'colsample_bytree': 1, 'learning_rate': 0.1, 'max_depth': 3, 'n_estimators': 200, 'subsample': 1}\n",
      "Day 9: ✅ 167 test rows, Run: 03-23\n"
     ]
    },
    {
     "name": "stderr",
     "output_type": "stream",
     "text": [
      "2025-05-27 11:45:06,745 - build_training_set - INFO - ✅ Added actual prices to 168 forecast rows\n",
      "/Users/Twan/Library/Mobile Documents/com~apple~CloudDocs/Data Science/Data Projects EASI/ENEXIS/src/utils/build_training_set.py:106: FutureWarning: The behavior of DataFrame concatenation with empty or all-NA entries is deprecated. In a future version, this will no longer exclude empty or all-NA columns when determining the result dtypes. To retain the old behavior, exclude the relevant entries before the concat operation.\n",
      "  df_combined = pd.concat([df_actuals, df_preds], ignore_index=True)\n",
      "2025-05-27 11:45:06,755 - build_training_set - INFO - 📦 Eindtabel bevat: 1920 rijen, 31 kolommen\n",
      "2025-05-27 11:45:06,755 - build_training_set - INFO - 🧾 Kolommen: ['Price', 'target_datetime', 'Load', 'shortwave_radiation', 'temperature_2m', 'direct_normal_irradiance', 'diffuse_radiation', 'Flow_NO', 'yearday_cos', 'Flow_GB', 'month', 'is_dst', 'yearday_sin', 'is_non_working_day', 'hour_cos', 'is_weekend', 'cloud_cover', 'weekday_sin', 'hour_sin', 'weekday_cos', 'apparent_temperature', 'day_of_week', 'day_of_year', 'direct_radiation', 'hour', 'is_holiday', 'local_datetime', 'run_date', 'snowfall', 'wind_direction_10m', 'wind_speed_10m']\n",
      "2025-05-27 11:45:06,755 - build_training_set - INFO - ❓ Price NaN count: 0/1920 (0.0%)\n",
      "2025-05-27 11:45:06,769 - build_training_set - INFO - ✅ Opgeslagen als training_set in WARP.db\n",
      "2025-05-27 11:45:06,769 - build_training_set - INFO - 🔒 Verbinding gesloten\n",
      "2025-05-27 11:45:07,416 - build_training_set - INFO - 🚀 Start build van trainingset\n",
      "2025-05-27 11:45:07,416 - build_training_set - INFO - 🧠 Actuals van 2025-01-11 00:00:00+00:00 t/m 2025-03-24 23:00:00+00:00\n",
      "2025-05-27 11:45:07,416 - build_training_set - INFO - 📅 Forecast van run_date 2025-03-25 00:00:00+00:00, target range: 2025-03-25 00:00:00+00:00 → 2025-03-31 23:00:00+00:00\n",
      "2025-05-27 11:45:07,433 - build_training_set - INFO - ✅ Actuals geladen: 1752 rijen\n",
      "2025-05-27 11:45:07,573 - build_training_set - INFO - ✅ Added actual prices to 168 forecast rows\n",
      "/Users/Twan/Library/Mobile Documents/com~apple~CloudDocs/Data Science/Data Projects EASI/ENEXIS/src/utils/build_training_set.py:106: FutureWarning: The behavior of DataFrame concatenation with empty or all-NA entries is deprecated. In a future version, this will no longer exclude empty or all-NA columns when determining the result dtypes. To retain the old behavior, exclude the relevant entries before the concat operation.\n",
      "  df_combined = pd.concat([df_actuals, df_preds], ignore_index=True)\n",
      "2025-05-27 11:45:07,582 - build_training_set - INFO - 📦 Eindtabel bevat: 1920 rijen, 31 kolommen\n",
      "2025-05-27 11:45:07,582 - build_training_set - INFO - 🧾 Kolommen: ['Price', 'target_datetime', 'Load', 'shortwave_radiation', 'temperature_2m', 'direct_normal_irradiance', 'diffuse_radiation', 'Flow_NO', 'yearday_cos', 'Flow_GB', 'month', 'is_dst', 'yearday_sin', 'is_non_working_day', 'hour_cos', 'is_weekend', 'cloud_cover', 'weekday_sin', 'hour_sin', 'weekday_cos', 'apparent_temperature', 'day_of_week', 'day_of_year', 'direct_radiation', 'hour', 'is_holiday', 'local_datetime', 'run_date', 'snowfall', 'wind_direction_10m', 'wind_speed_10m']\n",
      "2025-05-27 11:45:07,582 - build_training_set - INFO - ❓ Price NaN count: 0/1920 (0.0%)\n",
      "2025-05-27 11:45:07,595 - build_training_set - INFO - ✅ Opgeslagen als training_set in WARP.db\n",
      "2025-05-27 11:45:07,595 - build_training_set - INFO - 🔒 Verbinding gesloten\n"
     ]
    },
    {
     "name": "stdout",
     "output_type": "stream",
     "text": [
      "Day 10: 🧪 Best params: {'colsample_bytree': 1, 'learning_rate': 0.1, 'max_depth': 3, 'n_estimators': 100, 'subsample': 0.8}\n",
      "Day 10: ✅ 167 test rows, Run: 03-24\n"
     ]
    },
    {
     "name": "stderr",
     "output_type": "stream",
     "text": [
      "2025-05-27 11:45:08,196 - build_training_set - INFO - 🚀 Start build van trainingset\n",
      "2025-05-27 11:45:08,196 - build_training_set - INFO - 🧠 Actuals van 2025-01-12 00:00:00+00:00 t/m 2025-03-25 23:00:00+00:00\n",
      "2025-05-27 11:45:08,196 - build_training_set - INFO - 📅 Forecast van run_date 2025-03-26 00:00:00+00:00, target range: 2025-03-26 00:00:00+00:00 → 2025-04-01 23:00:00+00:00\n",
      "2025-05-27 11:45:08,217 - build_training_set - INFO - ✅ Actuals geladen: 1752 rijen\n",
      "2025-05-27 11:45:08,371 - build_training_set - INFO - ✅ Added actual prices to 168 forecast rows\n",
      "/Users/Twan/Library/Mobile Documents/com~apple~CloudDocs/Data Science/Data Projects EASI/ENEXIS/src/utils/build_training_set.py:106: FutureWarning: The behavior of DataFrame concatenation with empty or all-NA entries is deprecated. In a future version, this will no longer exclude empty or all-NA columns when determining the result dtypes. To retain the old behavior, exclude the relevant entries before the concat operation.\n",
      "  df_combined = pd.concat([df_actuals, df_preds], ignore_index=True)\n",
      "2025-05-27 11:45:08,381 - build_training_set - INFO - 📦 Eindtabel bevat: 1920 rijen, 31 kolommen\n",
      "2025-05-27 11:45:08,381 - build_training_set - INFO - 🧾 Kolommen: ['Price', 'target_datetime', 'Load', 'shortwave_radiation', 'temperature_2m', 'direct_normal_irradiance', 'diffuse_radiation', 'Flow_NO', 'yearday_cos', 'Flow_GB', 'month', 'is_dst', 'yearday_sin', 'is_non_working_day', 'hour_cos', 'is_weekend', 'cloud_cover', 'weekday_sin', 'hour_sin', 'weekday_cos', 'apparent_temperature', 'day_of_week', 'day_of_year', 'direct_radiation', 'hour', 'is_holiday', 'local_datetime', 'run_date', 'snowfall', 'wind_direction_10m', 'wind_speed_10m']\n",
      "2025-05-27 11:45:08,381 - build_training_set - INFO - ❓ Price NaN count: 0/1920 (0.0%)\n",
      "2025-05-27 11:45:08,393 - build_training_set - INFO - ✅ Opgeslagen als training_set in WARP.db\n",
      "2025-05-27 11:45:08,394 - build_training_set - INFO - 🔒 Verbinding gesloten\n"
     ]
    },
    {
     "name": "stdout",
     "output_type": "stream",
     "text": [
      "Day 11: 🧪 Best params: {'colsample_bytree': 1, 'learning_rate': 0.05, 'max_depth': 3, 'n_estimators': 100, 'subsample': 0.8}\n",
      "Day 11: ✅ 167 test rows, Run: 03-25\n"
     ]
    },
    {
     "name": "stderr",
     "output_type": "stream",
     "text": [
      "2025-05-27 11:45:09,128 - build_training_set - INFO - 🚀 Start build van trainingset\n",
      "2025-05-27 11:45:09,129 - build_training_set - INFO - 🧠 Actuals van 2025-01-13 00:00:00+00:00 t/m 2025-03-26 23:00:00+00:00\n",
      "2025-05-27 11:45:09,129 - build_training_set - INFO - 📅 Forecast van run_date 2025-03-27 00:00:00+00:00, target range: 2025-03-27 00:00:00+00:00 → 2025-04-02 23:00:00+00:00\n",
      "2025-05-27 11:45:09,149 - build_training_set - INFO - ✅ Actuals geladen: 1752 rijen\n",
      "2025-05-27 11:45:09,311 - build_training_set - INFO - ✅ Added actual prices to 168 forecast rows\n",
      "/Users/Twan/Library/Mobile Documents/com~apple~CloudDocs/Data Science/Data Projects EASI/ENEXIS/src/utils/build_training_set.py:106: FutureWarning: The behavior of DataFrame concatenation with empty or all-NA entries is deprecated. In a future version, this will no longer exclude empty or all-NA columns when determining the result dtypes. To retain the old behavior, exclude the relevant entries before the concat operation.\n",
      "  df_combined = pd.concat([df_actuals, df_preds], ignore_index=True)\n",
      "2025-05-27 11:45:09,321 - build_training_set - INFO - 📦 Eindtabel bevat: 1920 rijen, 31 kolommen\n",
      "2025-05-27 11:45:09,321 - build_training_set - INFO - 🧾 Kolommen: ['Price', 'target_datetime', 'Load', 'shortwave_radiation', 'temperature_2m', 'direct_normal_irradiance', 'diffuse_radiation', 'Flow_NO', 'yearday_cos', 'Flow_GB', 'month', 'is_dst', 'yearday_sin', 'is_non_working_day', 'hour_cos', 'is_weekend', 'cloud_cover', 'weekday_sin', 'hour_sin', 'weekday_cos', 'apparent_temperature', 'day_of_week', 'day_of_year', 'direct_radiation', 'hour', 'is_holiday', 'local_datetime', 'run_date', 'snowfall', 'wind_direction_10m', 'wind_speed_10m']\n",
      "2025-05-27 11:45:09,321 - build_training_set - INFO - ❓ Price NaN count: 0/1920 (0.0%)\n"
     ]
    },
    {
     "name": "stdout",
     "output_type": "stream",
     "text": [
      "Day 12: 🧪 Best params: {'colsample_bytree': 1, 'learning_rate': 0.1, 'max_depth': 3, 'n_estimators': 100, 'subsample': 0.8}\n",
      "Day 12: ✅ 167 test rows, Run: 03-26\n"
     ]
    },
    {
     "name": "stderr",
     "output_type": "stream",
     "text": [
      "2025-05-27 11:45:09,336 - build_training_set - INFO - ✅ Opgeslagen als training_set in WARP.db\n",
      "2025-05-27 11:45:09,337 - build_training_set - INFO - 🔒 Verbinding gesloten\n",
      "2025-05-27 11:45:10,218 - build_training_set - INFO - 🚀 Start build van trainingset\n",
      "2025-05-27 11:45:10,219 - build_training_set - INFO - 🧠 Actuals van 2025-01-14 00:00:00+00:00 t/m 2025-03-27 23:00:00+00:00\n",
      "2025-05-27 11:45:10,219 - build_training_set - INFO - 📅 Forecast van run_date 2025-03-28 00:00:00+00:00, target range: 2025-03-28 00:00:00+00:00 → 2025-04-03 23:00:00+00:00\n",
      "2025-05-27 11:45:10,241 - build_training_set - INFO - ✅ Actuals geladen: 1752 rijen\n",
      "2025-05-27 11:45:10,411 - build_training_set - INFO - ✅ Added actual prices to 168 forecast rows\n"
     ]
    },
    {
     "name": "stdout",
     "output_type": "stream",
     "text": [
      "Day 13: 🧪 Best params: {'colsample_bytree': 0.8, 'learning_rate': 0.05, 'max_depth': 5, 'n_estimators': 100, 'subsample': 1}\n",
      "Day 13: ✅ 167 test rows, Run: 03-27\n"
     ]
    },
    {
     "name": "stderr",
     "output_type": "stream",
     "text": [
      "/Users/Twan/Library/Mobile Documents/com~apple~CloudDocs/Data Science/Data Projects EASI/ENEXIS/src/utils/build_training_set.py:106: FutureWarning: The behavior of DataFrame concatenation with empty or all-NA entries is deprecated. In a future version, this will no longer exclude empty or all-NA columns when determining the result dtypes. To retain the old behavior, exclude the relevant entries before the concat operation.\n",
      "  df_combined = pd.concat([df_actuals, df_preds], ignore_index=True)\n",
      "2025-05-27 11:45:10,421 - build_training_set - INFO - 📦 Eindtabel bevat: 1920 rijen, 31 kolommen\n",
      "2025-05-27 11:45:10,421 - build_training_set - INFO - 🧾 Kolommen: ['Price', 'target_datetime', 'Load', 'shortwave_radiation', 'temperature_2m', 'direct_normal_irradiance', 'diffuse_radiation', 'Flow_NO', 'yearday_cos', 'Flow_GB', 'month', 'is_dst', 'yearday_sin', 'is_non_working_day', 'hour_cos', 'is_weekend', 'cloud_cover', 'weekday_sin', 'hour_sin', 'weekday_cos', 'apparent_temperature', 'day_of_week', 'day_of_year', 'direct_radiation', 'hour', 'is_holiday', 'local_datetime', 'run_date', 'snowfall', 'wind_direction_10m', 'wind_speed_10m']\n",
      "2025-05-27 11:45:10,421 - build_training_set - INFO - ❓ Price NaN count: 0/1920 (0.0%)\n",
      "2025-05-27 11:45:10,437 - build_training_set - INFO - ✅ Opgeslagen als training_set in WARP.db\n",
      "2025-05-27 11:45:10,438 - build_training_set - INFO - 🔒 Verbinding gesloten\n",
      "2025-05-27 11:45:11,083 - build_training_set - INFO - 🚀 Start build van trainingset\n",
      "2025-05-27 11:45:11,084 - build_training_set - INFO - 🧠 Actuals van 2025-01-15 00:00:00+00:00 t/m 2025-03-28 23:00:00+00:00\n",
      "2025-05-27 11:45:11,084 - build_training_set - INFO - 📅 Forecast van run_date 2025-03-29 00:00:00+00:00, target range: 2025-03-29 00:00:00+00:00 → 2025-04-04 23:00:00+00:00\n",
      "2025-05-27 11:45:11,103 - build_training_set - INFO - ✅ Actuals geladen: 1752 rijen\n",
      "2025-05-27 11:45:11,245 - build_training_set - INFO - ✅ Added actual prices to 168 forecast rows\n",
      "/Users/Twan/Library/Mobile Documents/com~apple~CloudDocs/Data Science/Data Projects EASI/ENEXIS/src/utils/build_training_set.py:106: FutureWarning: The behavior of DataFrame concatenation with empty or all-NA entries is deprecated. In a future version, this will no longer exclude empty or all-NA columns when determining the result dtypes. To retain the old behavior, exclude the relevant entries before the concat operation.\n",
      "  df_combined = pd.concat([df_actuals, df_preds], ignore_index=True)\n",
      "2025-05-27 11:45:11,254 - build_training_set - INFO - 📦 Eindtabel bevat: 1920 rijen, 31 kolommen\n",
      "2025-05-27 11:45:11,255 - build_training_set - INFO - 🧾 Kolommen: ['Price', 'target_datetime', 'Load', 'shortwave_radiation', 'temperature_2m', 'direct_normal_irradiance', 'diffuse_radiation', 'Flow_NO', 'yearday_cos', 'Flow_GB', 'month', 'is_dst', 'yearday_sin', 'is_non_working_day', 'hour_cos', 'is_weekend', 'cloud_cover', 'weekday_sin', 'hour_sin', 'weekday_cos', 'apparent_temperature', 'day_of_week', 'day_of_year', 'direct_radiation', 'hour', 'is_holiday', 'local_datetime', 'run_date', 'snowfall', 'wind_direction_10m', 'wind_speed_10m']\n",
      "2025-05-27 11:45:11,255 - build_training_set - INFO - ❓ Price NaN count: 0/1920 (0.0%)\n",
      "2025-05-27 11:45:11,268 - build_training_set - INFO - ✅ Opgeslagen als training_set in WARP.db\n",
      "2025-05-27 11:45:11,269 - build_training_set - INFO - 🔒 Verbinding gesloten\n"
     ]
    },
    {
     "name": "stdout",
     "output_type": "stream",
     "text": [
      "Day 14: 🧪 Best params: {'colsample_bytree': 1, 'learning_rate': 0.05, 'max_depth': 3, 'n_estimators': 100, 'subsample': 0.8}\n",
      "Day 14: ✅ 167 test rows, Run: 03-28\n"
     ]
    },
    {
     "name": "stderr",
     "output_type": "stream",
     "text": [
      "2025-05-27 11:45:11,957 - build_training_set - INFO - 🚀 Start build van trainingset\n",
      "2025-05-27 11:45:11,957 - build_training_set - INFO - 🧠 Actuals van 2025-01-16 00:00:00+00:00 t/m 2025-03-29 23:00:00+00:00\n",
      "2025-05-27 11:45:11,958 - build_training_set - INFO - 📅 Forecast van run_date 2025-03-30 00:00:00+00:00, target range: 2025-03-30 00:00:00+00:00 → 2025-04-05 23:00:00+00:00\n",
      "2025-05-27 11:45:11,975 - build_training_set - INFO - ✅ Actuals geladen: 1752 rijen\n",
      "2025-05-27 11:45:12,121 - build_training_set - INFO - ✅ Added actual prices to 168 forecast rows\n",
      "/Users/Twan/Library/Mobile Documents/com~apple~CloudDocs/Data Science/Data Projects EASI/ENEXIS/src/utils/build_training_set.py:106: FutureWarning: The behavior of DataFrame concatenation with empty or all-NA entries is deprecated. In a future version, this will no longer exclude empty or all-NA columns when determining the result dtypes. To retain the old behavior, exclude the relevant entries before the concat operation.\n",
      "  df_combined = pd.concat([df_actuals, df_preds], ignore_index=True)\n",
      "2025-05-27 11:45:12,129 - build_training_set - INFO - 📦 Eindtabel bevat: 1920 rijen, 31 kolommen\n",
      "2025-05-27 11:45:12,130 - build_training_set - INFO - 🧾 Kolommen: ['Price', 'target_datetime', 'Load', 'shortwave_radiation', 'temperature_2m', 'direct_normal_irradiance', 'diffuse_radiation', 'Flow_NO', 'yearday_cos', 'Flow_GB', 'month', 'is_dst', 'yearday_sin', 'is_non_working_day', 'hour_cos', 'is_weekend', 'cloud_cover', 'weekday_sin', 'hour_sin', 'weekday_cos', 'apparent_temperature', 'day_of_week', 'day_of_year', 'direct_radiation', 'hour', 'is_holiday', 'local_datetime', 'run_date', 'snowfall', 'wind_direction_10m', 'wind_speed_10m']\n",
      "2025-05-27 11:45:12,130 - build_training_set - INFO - ❓ Price NaN count: 0/1920 (0.0%)\n",
      "2025-05-27 11:45:12,142 - build_training_set - INFO - ✅ Opgeslagen als training_set in WARP.db\n",
      "2025-05-27 11:45:12,142 - build_training_set - INFO - 🔒 Verbinding gesloten\n"
     ]
    },
    {
     "name": "stdout",
     "output_type": "stream",
     "text": [
      "Day 15: 🧪 Best params: {'colsample_bytree': 0.8, 'learning_rate': 0.05, 'max_depth': 5, 'n_estimators': 100, 'subsample': 0.8}\n",
      "Day 15: ✅ 167 test rows, Run: 03-29\n"
     ]
    },
    {
     "name": "stderr",
     "output_type": "stream",
     "text": [
      "2025-05-27 11:45:12,772 - build_training_set - INFO - 🚀 Start build van trainingset\n",
      "2025-05-27 11:45:12,773 - build_training_set - INFO - 🧠 Actuals van 2025-01-17 00:00:00+00:00 t/m 2025-03-30 23:00:00+00:00\n",
      "2025-05-27 11:45:12,773 - build_training_set - INFO - 📅 Forecast van run_date 2025-03-31 00:00:00+00:00, target range: 2025-03-31 00:00:00+00:00 → 2025-04-06 23:00:00+00:00\n",
      "2025-05-27 11:45:12,789 - build_training_set - INFO - ✅ Actuals geladen: 1752 rijen\n"
     ]
    },
    {
     "name": "stdout",
     "output_type": "stream",
     "text": [
      "Day 16: 🧪 Best params: {'colsample_bytree': 0.8, 'learning_rate': 0.05, 'max_depth': 3, 'n_estimators': 100, 'subsample': 1}\n",
      "Day 16: ✅ 167 test rows, Run: 03-30\n"
     ]
    },
    {
     "name": "stderr",
     "output_type": "stream",
     "text": [
      "2025-05-27 11:45:13,009 - build_training_set - INFO - ✅ Added actual prices to 168 forecast rows\n",
      "/Users/Twan/Library/Mobile Documents/com~apple~CloudDocs/Data Science/Data Projects EASI/ENEXIS/src/utils/build_training_set.py:106: FutureWarning: The behavior of DataFrame concatenation with empty or all-NA entries is deprecated. In a future version, this will no longer exclude empty or all-NA columns when determining the result dtypes. To retain the old behavior, exclude the relevant entries before the concat operation.\n",
      "  df_combined = pd.concat([df_actuals, df_preds], ignore_index=True)\n",
      "2025-05-27 11:45:13,018 - build_training_set - INFO - 📦 Eindtabel bevat: 1920 rijen, 31 kolommen\n",
      "2025-05-27 11:45:13,018 - build_training_set - INFO - 🧾 Kolommen: ['Price', 'target_datetime', 'Load', 'shortwave_radiation', 'temperature_2m', 'direct_normal_irradiance', 'diffuse_radiation', 'Flow_NO', 'yearday_cos', 'Flow_GB', 'month', 'is_dst', 'yearday_sin', 'is_non_working_day', 'hour_cos', 'is_weekend', 'cloud_cover', 'weekday_sin', 'hour_sin', 'weekday_cos', 'apparent_temperature', 'day_of_week', 'day_of_year', 'direct_radiation', 'hour', 'is_holiday', 'local_datetime', 'run_date', 'snowfall', 'wind_direction_10m', 'wind_speed_10m']\n",
      "2025-05-27 11:45:13,019 - build_training_set - INFO - ❓ Price NaN count: 0/1920 (0.0%)\n",
      "2025-05-27 11:45:13,035 - build_training_set - INFO - ✅ Opgeslagen als training_set in WARP.db\n",
      "2025-05-27 11:45:13,036 - build_training_set - INFO - 🔒 Verbinding gesloten\n",
      "2025-05-27 11:45:13,678 - build_training_set - INFO - 🚀 Start build van trainingset\n",
      "2025-05-27 11:45:13,679 - build_training_set - INFO - 🧠 Actuals van 2025-01-18 00:00:00+00:00 t/m 2025-03-31 23:00:00+00:00\n",
      "2025-05-27 11:45:13,679 - build_training_set - INFO - 📅 Forecast van run_date 2025-04-01 00:00:00+00:00, target range: 2025-04-01 00:00:00+00:00 → 2025-04-07 23:00:00+00:00\n",
      "2025-05-27 11:45:13,695 - build_training_set - INFO - ✅ Actuals geladen: 1752 rijen\n",
      "2025-05-27 11:45:13,841 - build_training_set - INFO - ✅ Added actual prices to 168 forecast rows\n",
      "/Users/Twan/Library/Mobile Documents/com~apple~CloudDocs/Data Science/Data Projects EASI/ENEXIS/src/utils/build_training_set.py:106: FutureWarning: The behavior of DataFrame concatenation with empty or all-NA entries is deprecated. In a future version, this will no longer exclude empty or all-NA columns when determining the result dtypes. To retain the old behavior, exclude the relevant entries before the concat operation.\n",
      "  df_combined = pd.concat([df_actuals, df_preds], ignore_index=True)\n",
      "2025-05-27 11:45:13,850 - build_training_set - INFO - 📦 Eindtabel bevat: 1920 rijen, 31 kolommen\n",
      "2025-05-27 11:45:13,850 - build_training_set - INFO - 🧾 Kolommen: ['Price', 'target_datetime', 'Load', 'shortwave_radiation', 'temperature_2m', 'direct_normal_irradiance', 'diffuse_radiation', 'Flow_NO', 'yearday_cos', 'Flow_GB', 'month', 'is_dst', 'yearday_sin', 'is_non_working_day', 'hour_cos', 'is_weekend', 'cloud_cover', 'weekday_sin', 'hour_sin', 'weekday_cos', 'apparent_temperature', 'day_of_week', 'day_of_year', 'direct_radiation', 'hour', 'is_holiday', 'local_datetime', 'run_date', 'snowfall', 'wind_direction_10m', 'wind_speed_10m']\n",
      "2025-05-27 11:45:13,851 - build_training_set - INFO - ❓ Price NaN count: 0/1920 (0.0%)\n",
      "2025-05-27 11:45:13,864 - build_training_set - INFO - ✅ Opgeslagen als training_set in WARP.db\n",
      "2025-05-27 11:45:13,864 - build_training_set - INFO - 🔒 Verbinding gesloten\n"
     ]
    },
    {
     "name": "stdout",
     "output_type": "stream",
     "text": [
      "Day 17: 🧪 Best params: {'colsample_bytree': 0.8, 'learning_rate': 0.05, 'max_depth': 3, 'n_estimators': 100, 'subsample': 0.8}\n",
      "Day 17: ✅ 167 test rows, Run: 03-31\n"
     ]
    },
    {
     "name": "stderr",
     "output_type": "stream",
     "text": [
      "2025-05-27 11:45:14,680 - build_training_set - INFO - 🚀 Start build van trainingset\n",
      "2025-05-27 11:45:14,680 - build_training_set - INFO - 🧠 Actuals van 2025-01-19 00:00:00+00:00 t/m 2025-04-01 23:00:00+00:00\n",
      "2025-05-27 11:45:14,680 - build_training_set - INFO - 📅 Forecast van run_date 2025-04-02 00:00:00+00:00, target range: 2025-04-02 00:00:00+00:00 → 2025-04-08 23:00:00+00:00\n",
      "2025-05-27 11:45:14,697 - build_training_set - INFO - ✅ Actuals geladen: 1752 rijen\n",
      "2025-05-27 11:45:14,842 - build_training_set - INFO - ✅ Added actual prices to 168 forecast rows\n",
      "/Users/Twan/Library/Mobile Documents/com~apple~CloudDocs/Data Science/Data Projects EASI/ENEXIS/src/utils/build_training_set.py:106: FutureWarning: The behavior of DataFrame concatenation with empty or all-NA entries is deprecated. In a future version, this will no longer exclude empty or all-NA columns when determining the result dtypes. To retain the old behavior, exclude the relevant entries before the concat operation.\n",
      "  df_combined = pd.concat([df_actuals, df_preds], ignore_index=True)\n",
      "2025-05-27 11:45:14,851 - build_training_set - INFO - 📦 Eindtabel bevat: 1920 rijen, 31 kolommen\n",
      "2025-05-27 11:45:14,851 - build_training_set - INFO - 🧾 Kolommen: ['Price', 'target_datetime', 'Load', 'shortwave_radiation', 'temperature_2m', 'direct_normal_irradiance', 'diffuse_radiation', 'Flow_NO', 'yearday_cos', 'Flow_GB', 'month', 'is_dst', 'yearday_sin', 'is_non_working_day', 'hour_cos', 'is_weekend', 'cloud_cover', 'weekday_sin', 'hour_sin', 'weekday_cos', 'apparent_temperature', 'day_of_week', 'day_of_year', 'direct_radiation', 'hour', 'is_holiday', 'local_datetime', 'run_date', 'snowfall', 'wind_direction_10m', 'wind_speed_10m']\n",
      "2025-05-27 11:45:14,852 - build_training_set - INFO - ❓ Price NaN count: 0/1920 (0.0%)\n",
      "2025-05-27 11:45:14,863 - build_training_set - INFO - ✅ Opgeslagen als training_set in WARP.db\n",
      "2025-05-27 11:45:14,864 - build_training_set - INFO - 🔒 Verbinding gesloten\n"
     ]
    },
    {
     "name": "stdout",
     "output_type": "stream",
     "text": [
      "Day 18: 🧪 Best params: {'colsample_bytree': 0.8, 'learning_rate': 0.05, 'max_depth': 3, 'n_estimators': 100, 'subsample': 0.8}\n",
      "Day 18: ✅ 167 test rows, Run: 04-01\n"
     ]
    },
    {
     "name": "stderr",
     "output_type": "stream",
     "text": [
      "2025-05-27 11:45:15,493 - build_training_set - INFO - 🚀 Start build van trainingset\n",
      "2025-05-27 11:45:15,493 - build_training_set - INFO - 🧠 Actuals van 2025-01-20 00:00:00+00:00 t/m 2025-04-02 23:00:00+00:00\n",
      "2025-05-27 11:45:15,493 - build_training_set - INFO - 📅 Forecast van run_date 2025-04-03 00:00:00+00:00, target range: 2025-04-03 00:00:00+00:00 → 2025-04-09 23:00:00+00:00\n",
      "2025-05-27 11:45:15,511 - build_training_set - INFO - ✅ Actuals geladen: 1752 rijen\n",
      "2025-05-27 11:45:15,657 - build_training_set - INFO - ✅ Added actual prices to 168 forecast rows\n",
      "/Users/Twan/Library/Mobile Documents/com~apple~CloudDocs/Data Science/Data Projects EASI/ENEXIS/src/utils/build_training_set.py:106: FutureWarning: The behavior of DataFrame concatenation with empty or all-NA entries is deprecated. In a future version, this will no longer exclude empty or all-NA columns when determining the result dtypes. To retain the old behavior, exclude the relevant entries before the concat operation.\n",
      "  df_combined = pd.concat([df_actuals, df_preds], ignore_index=True)\n",
      "2025-05-27 11:45:15,665 - build_training_set - INFO - 📦 Eindtabel bevat: 1920 rijen, 31 kolommen\n",
      "2025-05-27 11:45:15,666 - build_training_set - INFO - 🧾 Kolommen: ['Price', 'target_datetime', 'Load', 'shortwave_radiation', 'temperature_2m', 'direct_normal_irradiance', 'diffuse_radiation', 'Flow_NO', 'yearday_cos', 'Flow_GB', 'month', 'is_dst', 'yearday_sin', 'is_non_working_day', 'hour_cos', 'is_weekend', 'cloud_cover', 'weekday_sin', 'hour_sin', 'weekday_cos', 'apparent_temperature', 'day_of_week', 'day_of_year', 'direct_radiation', 'hour', 'is_holiday', 'local_datetime', 'run_date', 'snowfall', 'wind_direction_10m', 'wind_speed_10m']\n",
      "2025-05-27 11:45:15,666 - build_training_set - INFO - ❓ Price NaN count: 0/1920 (0.0%)\n",
      "2025-05-27 11:45:15,677 - build_training_set - INFO - ✅ Opgeslagen als training_set in WARP.db\n",
      "2025-05-27 11:45:15,677 - build_training_set - INFO - 🔒 Verbinding gesloten\n"
     ]
    },
    {
     "name": "stdout",
     "output_type": "stream",
     "text": [
      "Day 19: 🧪 Best params: {'colsample_bytree': 0.8, 'learning_rate': 0.05, 'max_depth': 3, 'n_estimators': 100, 'subsample': 0.8}\n",
      "Day 19: ✅ 167 test rows, Run: 04-02\n"
     ]
    },
    {
     "name": "stderr",
     "output_type": "stream",
     "text": [
      "2025-05-27 11:45:16,267 - build_training_set - INFO - 🚀 Start build van trainingset\n",
      "2025-05-27 11:45:16,267 - build_training_set - INFO - 🧠 Actuals van 2025-01-21 00:00:00+00:00 t/m 2025-04-03 23:00:00+00:00\n",
      "2025-05-27 11:45:16,268 - build_training_set - INFO - 📅 Forecast van run_date 2025-04-04 00:00:00+00:00, target range: 2025-04-04 00:00:00+00:00 → 2025-04-10 23:00:00+00:00\n",
      "2025-05-27 11:45:16,284 - build_training_set - INFO - ✅ Actuals geladen: 1752 rijen\n"
     ]
    },
    {
     "name": "stdout",
     "output_type": "stream",
     "text": [
      "Day 20: 🧪 Best params: {'colsample_bytree': 0.8, 'learning_rate': 0.05, 'max_depth': 3, 'n_estimators': 100, 'subsample': 0.8}\n",
      "Day 20: ✅ 167 test rows, Run: 04-03\n"
     ]
    },
    {
     "name": "stderr",
     "output_type": "stream",
     "text": [
      "2025-05-27 11:45:16,503 - build_training_set - INFO - ✅ Added actual prices to 168 forecast rows\n",
      "/Users/Twan/Library/Mobile Documents/com~apple~CloudDocs/Data Science/Data Projects EASI/ENEXIS/src/utils/build_training_set.py:106: FutureWarning: The behavior of DataFrame concatenation with empty or all-NA entries is deprecated. In a future version, this will no longer exclude empty or all-NA columns when determining the result dtypes. To retain the old behavior, exclude the relevant entries before the concat operation.\n",
      "  df_combined = pd.concat([df_actuals, df_preds], ignore_index=True)\n",
      "2025-05-27 11:45:16,512 - build_training_set - INFO - 📦 Eindtabel bevat: 1920 rijen, 31 kolommen\n",
      "2025-05-27 11:45:16,512 - build_training_set - INFO - 🧾 Kolommen: ['Price', 'target_datetime', 'Load', 'shortwave_radiation', 'temperature_2m', 'direct_normal_irradiance', 'diffuse_radiation', 'Flow_NO', 'yearday_cos', 'Flow_GB', 'month', 'is_dst', 'yearday_sin', 'is_non_working_day', 'hour_cos', 'is_weekend', 'cloud_cover', 'weekday_sin', 'hour_sin', 'weekday_cos', 'apparent_temperature', 'day_of_week', 'day_of_year', 'direct_radiation', 'hour', 'is_holiday', 'local_datetime', 'run_date', 'snowfall', 'wind_direction_10m', 'wind_speed_10m']\n",
      "2025-05-27 11:45:16,513 - build_training_set - INFO - ❓ Price NaN count: 0/1920 (0.0%)\n",
      "2025-05-27 11:45:16,525 - build_training_set - INFO - ✅ Opgeslagen als training_set in WARP.db\n",
      "2025-05-27 11:45:16,526 - build_training_set - INFO - 🔒 Verbinding gesloten\n",
      "2025-05-27 11:45:17,163 - build_training_set - INFO - 🚀 Start build van trainingset\n",
      "2025-05-27 11:45:17,163 - build_training_set - INFO - 🧠 Actuals van 2025-01-22 00:00:00+00:00 t/m 2025-04-04 23:00:00+00:00\n",
      "2025-05-27 11:45:17,164 - build_training_set - INFO - 📅 Forecast van run_date 2025-04-05 00:00:00+00:00, target range: 2025-04-05 00:00:00+00:00 → 2025-04-11 23:00:00+00:00\n",
      "2025-05-27 11:45:17,180 - build_training_set - INFO - ✅ Actuals geladen: 1752 rijen\n",
      "2025-05-27 11:45:17,320 - build_training_set - INFO - ✅ Added actual prices to 168 forecast rows\n",
      "/Users/Twan/Library/Mobile Documents/com~apple~CloudDocs/Data Science/Data Projects EASI/ENEXIS/src/utils/build_training_set.py:106: FutureWarning: The behavior of DataFrame concatenation with empty or all-NA entries is deprecated. In a future version, this will no longer exclude empty or all-NA columns when determining the result dtypes. To retain the old behavior, exclude the relevant entries before the concat operation.\n",
      "  df_combined = pd.concat([df_actuals, df_preds], ignore_index=True)\n",
      "2025-05-27 11:45:17,329 - build_training_set - INFO - 📦 Eindtabel bevat: 1920 rijen, 31 kolommen\n",
      "2025-05-27 11:45:17,329 - build_training_set - INFO - 🧾 Kolommen: ['Price', 'target_datetime', 'Load', 'shortwave_radiation', 'temperature_2m', 'direct_normal_irradiance', 'diffuse_radiation', 'Flow_NO', 'yearday_cos', 'Flow_GB', 'month', 'is_dst', 'yearday_sin', 'is_non_working_day', 'hour_cos', 'is_weekend', 'cloud_cover', 'weekday_sin', 'hour_sin', 'weekday_cos', 'apparent_temperature', 'day_of_week', 'day_of_year', 'direct_radiation', 'hour', 'is_holiday', 'local_datetime', 'run_date', 'snowfall', 'wind_direction_10m', 'wind_speed_10m']\n",
      "2025-05-27 11:45:17,330 - build_training_set - INFO - ❓ Price NaN count: 0/1920 (0.0%)\n",
      "2025-05-27 11:45:17,342 - build_training_set - INFO - ✅ Opgeslagen als training_set in WARP.db\n",
      "2025-05-27 11:45:17,343 - build_training_set - INFO - 🔒 Verbinding gesloten\n"
     ]
    },
    {
     "name": "stdout",
     "output_type": "stream",
     "text": [
      "Day 21: 🧪 Best params: {'colsample_bytree': 1, 'learning_rate': 0.05, 'max_depth': 3, 'n_estimators': 100, 'subsample': 1}\n",
      "Day 21: ✅ 167 test rows, Run: 04-04\n"
     ]
    },
    {
     "name": "stderr",
     "output_type": "stream",
     "text": [
      "2025-05-27 11:45:17,960 - build_training_set - INFO - 🚀 Start build van trainingset\n",
      "2025-05-27 11:45:17,961 - build_training_set - INFO - 🧠 Actuals van 2025-01-23 00:00:00+00:00 t/m 2025-04-05 23:00:00+00:00\n",
      "2025-05-27 11:45:17,961 - build_training_set - INFO - 📅 Forecast van run_date 2025-04-06 00:00:00+00:00, target range: 2025-04-06 00:00:00+00:00 → 2025-04-12 23:00:00+00:00\n",
      "2025-05-27 11:45:17,978 - build_training_set - INFO - ✅ Actuals geladen: 1752 rijen\n",
      "2025-05-27 11:45:18,117 - build_training_set - INFO - ✅ Added actual prices to 168 forecast rows\n",
      "/Users/Twan/Library/Mobile Documents/com~apple~CloudDocs/Data Science/Data Projects EASI/ENEXIS/src/utils/build_training_set.py:106: FutureWarning: The behavior of DataFrame concatenation with empty or all-NA entries is deprecated. In a future version, this will no longer exclude empty or all-NA columns when determining the result dtypes. To retain the old behavior, exclude the relevant entries before the concat operation.\n",
      "  df_combined = pd.concat([df_actuals, df_preds], ignore_index=True)\n",
      "2025-05-27 11:45:18,126 - build_training_set - INFO - 📦 Eindtabel bevat: 1920 rijen, 31 kolommen\n",
      "2025-05-27 11:45:18,127 - build_training_set - INFO - 🧾 Kolommen: ['Price', 'target_datetime', 'Load', 'shortwave_radiation', 'temperature_2m', 'direct_normal_irradiance', 'diffuse_radiation', 'Flow_NO', 'yearday_cos', 'Flow_GB', 'month', 'is_dst', 'yearday_sin', 'is_non_working_day', 'hour_cos', 'is_weekend', 'cloud_cover', 'weekday_sin', 'hour_sin', 'weekday_cos', 'apparent_temperature', 'day_of_week', 'day_of_year', 'direct_radiation', 'hour', 'is_holiday', 'local_datetime', 'run_date', 'snowfall', 'wind_direction_10m', 'wind_speed_10m']\n",
      "2025-05-27 11:45:18,127 - build_training_set - INFO - ❓ Price NaN count: 0/1920 (0.0%)\n",
      "2025-05-27 11:45:18,139 - build_training_set - INFO - ✅ Opgeslagen als training_set in WARP.db\n",
      "2025-05-27 11:45:18,140 - build_training_set - INFO - 🔒 Verbinding gesloten\n"
     ]
    },
    {
     "name": "stdout",
     "output_type": "stream",
     "text": [
      "Day 22: 🧪 Best params: {'colsample_bytree': 0.8, 'learning_rate': 0.05, 'max_depth': 3, 'n_estimators': 100, 'subsample': 0.8}\n",
      "Day 22: ✅ 167 test rows, Run: 04-05\n"
     ]
    },
    {
     "name": "stderr",
     "output_type": "stream",
     "text": [
      "2025-05-27 11:45:18,767 - build_training_set - INFO - 🚀 Start build van trainingset\n",
      "2025-05-27 11:45:18,767 - build_training_set - INFO - 🧠 Actuals van 2025-01-24 00:00:00+00:00 t/m 2025-04-06 23:00:00+00:00\n",
      "2025-05-27 11:45:18,767 - build_training_set - INFO - 📅 Forecast van run_date 2025-04-07 00:00:00+00:00, target range: 2025-04-07 00:00:00+00:00 → 2025-04-13 23:00:00+00:00\n",
      "2025-05-27 11:45:18,785 - build_training_set - INFO - ✅ Actuals geladen: 1752 rijen\n",
      "2025-05-27 11:45:18,928 - build_training_set - INFO - ✅ Added actual prices to 168 forecast rows\n",
      "/Users/Twan/Library/Mobile Documents/com~apple~CloudDocs/Data Science/Data Projects EASI/ENEXIS/src/utils/build_training_set.py:106: FutureWarning: The behavior of DataFrame concatenation with empty or all-NA entries is deprecated. In a future version, this will no longer exclude empty or all-NA columns when determining the result dtypes. To retain the old behavior, exclude the relevant entries before the concat operation.\n",
      "  df_combined = pd.concat([df_actuals, df_preds], ignore_index=True)\n",
      "2025-05-27 11:45:18,937 - build_training_set - INFO - 📦 Eindtabel bevat: 1920 rijen, 31 kolommen\n",
      "2025-05-27 11:45:18,937 - build_training_set - INFO - 🧾 Kolommen: ['Price', 'target_datetime', 'Load', 'shortwave_radiation', 'temperature_2m', 'direct_normal_irradiance', 'diffuse_radiation', 'Flow_NO', 'yearday_cos', 'Flow_GB', 'month', 'is_dst', 'yearday_sin', 'is_non_working_day', 'hour_cos', 'is_weekend', 'cloud_cover', 'weekday_sin', 'hour_sin', 'weekday_cos', 'apparent_temperature', 'day_of_week', 'day_of_year', 'direct_radiation', 'hour', 'is_holiday', 'local_datetime', 'run_date', 'snowfall', 'wind_direction_10m', 'wind_speed_10m']\n",
      "2025-05-27 11:45:18,938 - build_training_set - INFO - ❓ Price NaN count: 0/1920 (0.0%)\n",
      "2025-05-27 11:45:18,951 - build_training_set - INFO - ✅ Opgeslagen als training_set in WARP.db\n",
      "2025-05-27 11:45:18,951 - build_training_set - INFO - 🔒 Verbinding gesloten\n"
     ]
    },
    {
     "name": "stdout",
     "output_type": "stream",
     "text": [
      "Day 23: 🧪 Best params: {'colsample_bytree': 0.8, 'learning_rate': 0.05, 'max_depth': 3, 'n_estimators': 100, 'subsample': 0.8}\n",
      "Day 23: ✅ 167 test rows, Run: 04-06\n"
     ]
    },
    {
     "name": "stderr",
     "output_type": "stream",
     "text": [
      "2025-05-27 11:45:19,582 - build_training_set - INFO - 🚀 Start build van trainingset\n",
      "2025-05-27 11:45:19,583 - build_training_set - INFO - 🧠 Actuals van 2025-01-25 00:00:00+00:00 t/m 2025-04-07 23:00:00+00:00\n",
      "2025-05-27 11:45:19,583 - build_training_set - INFO - 📅 Forecast van run_date 2025-04-08 00:00:00+00:00, target range: 2025-04-08 00:00:00+00:00 → 2025-04-14 23:00:00+00:00\n",
      "2025-05-27 11:45:19,600 - build_training_set - INFO - ✅ Actuals geladen: 1752 rijen\n"
     ]
    },
    {
     "name": "stdout",
     "output_type": "stream",
     "text": [
      "Day 24: 🧪 Best params: {'colsample_bytree': 1, 'learning_rate': 0.05, 'max_depth': 3, 'n_estimators': 100, 'subsample': 0.8}\n",
      "Day 24: ✅ 167 test rows, Run: 04-07\n"
     ]
    },
    {
     "name": "stderr",
     "output_type": "stream",
     "text": [
      "2025-05-27 11:45:19,829 - build_training_set - INFO - ✅ Added actual prices to 168 forecast rows\n",
      "/Users/Twan/Library/Mobile Documents/com~apple~CloudDocs/Data Science/Data Projects EASI/ENEXIS/src/utils/build_training_set.py:106: FutureWarning: The behavior of DataFrame concatenation with empty or all-NA entries is deprecated. In a future version, this will no longer exclude empty or all-NA columns when determining the result dtypes. To retain the old behavior, exclude the relevant entries before the concat operation.\n",
      "  df_combined = pd.concat([df_actuals, df_preds], ignore_index=True)\n",
      "2025-05-27 11:45:19,839 - build_training_set - INFO - 📦 Eindtabel bevat: 1920 rijen, 31 kolommen\n",
      "2025-05-27 11:45:19,840 - build_training_set - INFO - 🧾 Kolommen: ['Price', 'target_datetime', 'Load', 'shortwave_radiation', 'temperature_2m', 'direct_normal_irradiance', 'diffuse_radiation', 'Flow_NO', 'yearday_cos', 'Flow_GB', 'month', 'is_dst', 'yearday_sin', 'is_non_working_day', 'hour_cos', 'is_weekend', 'cloud_cover', 'weekday_sin', 'hour_sin', 'weekday_cos', 'apparent_temperature', 'day_of_week', 'day_of_year', 'direct_radiation', 'hour', 'is_holiday', 'local_datetime', 'run_date', 'snowfall', 'wind_direction_10m', 'wind_speed_10m']\n",
      "2025-05-27 11:45:19,840 - build_training_set - INFO - ❓ Price NaN count: 0/1920 (0.0%)\n",
      "2025-05-27 11:45:19,854 - build_training_set - INFO - ✅ Opgeslagen als training_set in WARP.db\n",
      "2025-05-27 11:45:19,854 - build_training_set - INFO - 🔒 Verbinding gesloten\n",
      "2025-05-27 11:45:20,534 - build_training_set - INFO - 🚀 Start build van trainingset\n",
      "2025-05-27 11:45:20,535 - build_training_set - INFO - 🧠 Actuals van 2025-01-26 00:00:00+00:00 t/m 2025-04-08 23:00:00+00:00\n",
      "2025-05-27 11:45:20,535 - build_training_set - INFO - 📅 Forecast van run_date 2025-04-09 00:00:00+00:00, target range: 2025-04-09 00:00:00+00:00 → 2025-04-15 23:00:00+00:00\n",
      "2025-05-27 11:45:20,552 - build_training_set - INFO - ✅ Actuals geladen: 1752 rijen\n",
      "2025-05-27 11:45:20,705 - build_training_set - INFO - ✅ Added actual prices to 168 forecast rows\n",
      "/Users/Twan/Library/Mobile Documents/com~apple~CloudDocs/Data Science/Data Projects EASI/ENEXIS/src/utils/build_training_set.py:106: FutureWarning: The behavior of DataFrame concatenation with empty or all-NA entries is deprecated. In a future version, this will no longer exclude empty or all-NA columns when determining the result dtypes. To retain the old behavior, exclude the relevant entries before the concat operation.\n",
      "  df_combined = pd.concat([df_actuals, df_preds], ignore_index=True)\n",
      "2025-05-27 11:45:20,713 - build_training_set - INFO - 📦 Eindtabel bevat: 1920 rijen, 31 kolommen\n",
      "2025-05-27 11:45:20,713 - build_training_set - INFO - 🧾 Kolommen: ['Price', 'target_datetime', 'Load', 'shortwave_radiation', 'temperature_2m', 'direct_normal_irradiance', 'diffuse_radiation', 'Flow_NO', 'yearday_cos', 'Flow_GB', 'month', 'is_dst', 'yearday_sin', 'is_non_working_day', 'hour_cos', 'is_weekend', 'cloud_cover', 'weekday_sin', 'hour_sin', 'weekday_cos', 'apparent_temperature', 'day_of_week', 'day_of_year', 'direct_radiation', 'hour', 'is_holiday', 'local_datetime', 'run_date', 'snowfall', 'wind_direction_10m', 'wind_speed_10m']\n",
      "2025-05-27 11:45:20,714 - build_training_set - INFO - ❓ Price NaN count: 0/1920 (0.0%)\n",
      "2025-05-27 11:45:20,726 - build_training_set - INFO - ✅ Opgeslagen als training_set in WARP.db\n",
      "2025-05-27 11:45:20,726 - build_training_set - INFO - 🔒 Verbinding gesloten\n"
     ]
    },
    {
     "name": "stdout",
     "output_type": "stream",
     "text": [
      "Day 25: 🧪 Best params: {'colsample_bytree': 0.8, 'learning_rate': 0.05, 'max_depth': 3, 'n_estimators': 100, 'subsample': 0.8}\n",
      "Day 25: ✅ 167 test rows, Run: 04-08\n"
     ]
    },
    {
     "name": "stderr",
     "output_type": "stream",
     "text": [
      "2025-05-27 11:45:21,429 - build_training_set - INFO - 🚀 Start build van trainingset\n",
      "2025-05-27 11:45:21,429 - build_training_set - INFO - 🧠 Actuals van 2025-01-27 00:00:00+00:00 t/m 2025-04-09 23:00:00+00:00\n",
      "2025-05-27 11:45:21,429 - build_training_set - INFO - 📅 Forecast van run_date 2025-04-10 00:00:00+00:00, target range: 2025-04-10 00:00:00+00:00 → 2025-04-16 23:00:00+00:00\n",
      "2025-05-27 11:45:21,445 - build_training_set - INFO - ✅ Actuals geladen: 1752 rijen\n",
      "2025-05-27 11:45:21,594 - build_training_set - INFO - ✅ Added actual prices to 168 forecast rows\n",
      "/Users/Twan/Library/Mobile Documents/com~apple~CloudDocs/Data Science/Data Projects EASI/ENEXIS/src/utils/build_training_set.py:106: FutureWarning: The behavior of DataFrame concatenation with empty or all-NA entries is deprecated. In a future version, this will no longer exclude empty or all-NA columns when determining the result dtypes. To retain the old behavior, exclude the relevant entries before the concat operation.\n",
      "  df_combined = pd.concat([df_actuals, df_preds], ignore_index=True)\n",
      "2025-05-27 11:45:21,603 - build_training_set - INFO - 📦 Eindtabel bevat: 1920 rijen, 31 kolommen\n",
      "2025-05-27 11:45:21,603 - build_training_set - INFO - 🧾 Kolommen: ['Price', 'target_datetime', 'Load', 'shortwave_radiation', 'temperature_2m', 'direct_normal_irradiance', 'diffuse_radiation', 'Flow_NO', 'yearday_cos', 'Flow_GB', 'month', 'is_dst', 'yearday_sin', 'is_non_working_day', 'hour_cos', 'is_weekend', 'cloud_cover', 'weekday_sin', 'hour_sin', 'weekday_cos', 'apparent_temperature', 'day_of_week', 'day_of_year', 'direct_radiation', 'hour', 'is_holiday', 'local_datetime', 'run_date', 'snowfall', 'wind_direction_10m', 'wind_speed_10m']\n",
      "2025-05-27 11:45:21,603 - build_training_set - INFO - ❓ Price NaN count: 0/1920 (0.0%)\n",
      "2025-05-27 11:45:21,615 - build_training_set - INFO - ✅ Opgeslagen als training_set in WARP.db\n",
      "2025-05-27 11:45:21,616 - build_training_set - INFO - 🔒 Verbinding gesloten\n"
     ]
    },
    {
     "name": "stdout",
     "output_type": "stream",
     "text": [
      "Day 26: 🧪 Best params: {'colsample_bytree': 0.8, 'learning_rate': 0.05, 'max_depth': 3, 'n_estimators': 100, 'subsample': 0.8}\n",
      "Day 26: ✅ 167 test rows, Run: 04-09\n"
     ]
    },
    {
     "name": "stderr",
     "output_type": "stream",
     "text": [
      "2025-05-27 11:45:22,298 - build_training_set - INFO - 🚀 Start build van trainingset\n",
      "2025-05-27 11:45:22,298 - build_training_set - INFO - 🧠 Actuals van 2025-01-28 00:00:00+00:00 t/m 2025-04-10 23:00:00+00:00\n",
      "2025-05-27 11:45:22,298 - build_training_set - INFO - 📅 Forecast van run_date 2025-04-11 00:00:00+00:00, target range: 2025-04-11 00:00:00+00:00 → 2025-04-17 23:00:00+00:00\n",
      "2025-05-27 11:45:22,316 - build_training_set - INFO - ✅ Actuals geladen: 1752 rijen\n",
      "2025-05-27 11:45:22,477 - build_training_set - INFO - ✅ Added actual prices to 168 forecast rows\n",
      "/Users/Twan/Library/Mobile Documents/com~apple~CloudDocs/Data Science/Data Projects EASI/ENEXIS/src/utils/build_training_set.py:106: FutureWarning: The behavior of DataFrame concatenation with empty or all-NA entries is deprecated. In a future version, this will no longer exclude empty or all-NA columns when determining the result dtypes. To retain the old behavior, exclude the relevant entries before the concat operation.\n",
      "  df_combined = pd.concat([df_actuals, df_preds], ignore_index=True)\n",
      "2025-05-27 11:45:22,486 - build_training_set - INFO - 📦 Eindtabel bevat: 1920 rijen, 31 kolommen\n",
      "2025-05-27 11:45:22,486 - build_training_set - INFO - 🧾 Kolommen: ['Price', 'target_datetime', 'Load', 'shortwave_radiation', 'temperature_2m', 'direct_normal_irradiance', 'diffuse_radiation', 'Flow_NO', 'yearday_cos', 'Flow_GB', 'month', 'is_dst', 'yearday_sin', 'is_non_working_day', 'hour_cos', 'is_weekend', 'cloud_cover', 'weekday_sin', 'hour_sin', 'weekday_cos', 'apparent_temperature', 'day_of_week', 'day_of_year', 'direct_radiation', 'hour', 'is_holiday', 'local_datetime', 'run_date', 'snowfall', 'wind_direction_10m', 'wind_speed_10m']\n",
      "2025-05-27 11:45:22,486 - build_training_set - INFO - ❓ Price NaN count: 0/1920 (0.0%)\n"
     ]
    },
    {
     "name": "stdout",
     "output_type": "stream",
     "text": [
      "Day 27: 🧪 Best params: {'colsample_bytree': 0.8, 'learning_rate': 0.05, 'max_depth': 3, 'n_estimators': 100, 'subsample': 0.8}\n",
      "Day 27: ✅ 167 test rows, Run: 04-10\n"
     ]
    },
    {
     "name": "stderr",
     "output_type": "stream",
     "text": [
      "2025-05-27 11:45:22,498 - build_training_set - INFO - ✅ Opgeslagen als training_set in WARP.db\n",
      "2025-05-27 11:45:22,499 - build_training_set - INFO - 🔒 Verbinding gesloten\n",
      "2025-05-27 11:45:23,240 - build_training_set - INFO - 🚀 Start build van trainingset\n",
      "2025-05-27 11:45:23,241 - build_training_set - INFO - 🧠 Actuals van 2025-01-29 00:00:00+00:00 t/m 2025-04-11 23:00:00+00:00\n",
      "2025-05-27 11:45:23,241 - build_training_set - INFO - 📅 Forecast van run_date 2025-04-12 00:00:00+00:00, target range: 2025-04-12 00:00:00+00:00 → 2025-04-18 23:00:00+00:00\n",
      "2025-05-27 11:45:23,257 - build_training_set - INFO - ✅ Actuals geladen: 1752 rijen\n",
      "2025-05-27 11:45:23,404 - build_training_set - INFO - ✅ Added actual prices to 168 forecast rows\n",
      "/Users/Twan/Library/Mobile Documents/com~apple~CloudDocs/Data Science/Data Projects EASI/ENEXIS/src/utils/build_training_set.py:106: FutureWarning: The behavior of DataFrame concatenation with empty or all-NA entries is deprecated. In a future version, this will no longer exclude empty or all-NA columns when determining the result dtypes. To retain the old behavior, exclude the relevant entries before the concat operation.\n",
      "  df_combined = pd.concat([df_actuals, df_preds], ignore_index=True)\n",
      "2025-05-27 11:45:23,414 - build_training_set - INFO - 📦 Eindtabel bevat: 1920 rijen, 31 kolommen\n",
      "2025-05-27 11:45:23,414 - build_training_set - INFO - 🧾 Kolommen: ['Price', 'target_datetime', 'Load', 'shortwave_radiation', 'temperature_2m', 'direct_normal_irradiance', 'diffuse_radiation', 'Flow_NO', 'yearday_cos', 'Flow_GB', 'month', 'is_dst', 'yearday_sin', 'is_non_working_day', 'hour_cos', 'is_weekend', 'cloud_cover', 'weekday_sin', 'hour_sin', 'weekday_cos', 'apparent_temperature', 'day_of_week', 'day_of_year', 'direct_radiation', 'hour', 'is_holiday', 'local_datetime', 'run_date', 'snowfall', 'wind_direction_10m', 'wind_speed_10m']\n",
      "2025-05-27 11:45:23,414 - build_training_set - INFO - ❓ Price NaN count: 0/1920 (0.0%)\n",
      "2025-05-27 11:45:23,427 - build_training_set - INFO - ✅ Opgeslagen als training_set in WARP.db\n",
      "2025-05-27 11:45:23,428 - build_training_set - INFO - 🔒 Verbinding gesloten\n"
     ]
    },
    {
     "name": "stdout",
     "output_type": "stream",
     "text": [
      "Day 28: 🧪 Best params: {'colsample_bytree': 0.8, 'learning_rate': 0.05, 'max_depth': 3, 'n_estimators': 100, 'subsample': 0.8}\n",
      "Day 28: ✅ 167 test rows, Run: 04-11\n"
     ]
    },
    {
     "name": "stderr",
     "output_type": "stream",
     "text": [
      "2025-05-27 11:45:24,108 - build_training_set - INFO - 🚀 Start build van trainingset\n",
      "2025-05-27 11:45:24,108 - build_training_set - INFO - 🧠 Actuals van 2025-01-30 00:00:00+00:00 t/m 2025-04-12 23:00:00+00:00\n",
      "2025-05-27 11:45:24,108 - build_training_set - INFO - 📅 Forecast van run_date 2025-04-13 00:00:00+00:00, target range: 2025-04-13 00:00:00+00:00 → 2025-04-19 23:00:00+00:00\n",
      "2025-05-27 11:45:24,125 - build_training_set - INFO - ✅ Actuals geladen: 1752 rijen\n",
      "2025-05-27 11:45:24,280 - build_training_set - INFO - ✅ Added actual prices to 168 forecast rows\n",
      "/Users/Twan/Library/Mobile Documents/com~apple~CloudDocs/Data Science/Data Projects EASI/ENEXIS/src/utils/build_training_set.py:106: FutureWarning: The behavior of DataFrame concatenation with empty or all-NA entries is deprecated. In a future version, this will no longer exclude empty or all-NA columns when determining the result dtypes. To retain the old behavior, exclude the relevant entries before the concat operation.\n",
      "  df_combined = pd.concat([df_actuals, df_preds], ignore_index=True)\n",
      "2025-05-27 11:45:24,289 - build_training_set - INFO - 📦 Eindtabel bevat: 1920 rijen, 31 kolommen\n",
      "2025-05-27 11:45:24,289 - build_training_set - INFO - 🧾 Kolommen: ['Price', 'target_datetime', 'Load', 'shortwave_radiation', 'temperature_2m', 'direct_normal_irradiance', 'diffuse_radiation', 'Flow_NO', 'yearday_cos', 'Flow_GB', 'month', 'is_dst', 'yearday_sin', 'is_non_working_day', 'hour_cos', 'is_weekend', 'cloud_cover', 'weekday_sin', 'hour_sin', 'weekday_cos', 'apparent_temperature', 'day_of_week', 'day_of_year', 'direct_radiation', 'hour', 'is_holiday', 'local_datetime', 'run_date', 'snowfall', 'wind_direction_10m', 'wind_speed_10m']\n",
      "2025-05-27 11:45:24,289 - build_training_set - INFO - ❓ Price NaN count: 0/1920 (0.0%)\n",
      "2025-05-27 11:45:24,304 - build_training_set - INFO - ✅ Opgeslagen als training_set in WARP.db\n",
      "2025-05-27 11:45:24,305 - build_training_set - INFO - 🔒 Verbinding gesloten\n"
     ]
    },
    {
     "name": "stdout",
     "output_type": "stream",
     "text": [
      "Day 29: 🧪 Best params: {'colsample_bytree': 0.8, 'learning_rate': 0.05, 'max_depth': 3, 'n_estimators': 100, 'subsample': 0.8}\n",
      "Day 29: ✅ 167 test rows, Run: 04-12\n",
      "Day 30: 🧪 Best params: {'colsample_bytree': 0.8, 'learning_rate': 0.05, 'max_depth': 3, 'n_estimators': 100, 'subsample': 0.8}\n",
      "Day 30: ✅ 167 test rows, Run: 04-13\n",
      "\n",
      "📊 OVERALL RMSE - XGBoost Model\n",
      "================================================================================\n",
      "Successful runs: 30/30\n",
      " iteration   run_date  valid_predictions  rmse\n",
      "         1 2025-03-15                167  0.09\n",
      "         2 2025-03-16                167  0.10\n",
      "         3 2025-03-17                167  0.10\n",
      "         4 2025-03-18                167  0.09\n",
      "         5 2025-03-19                167  0.09\n",
      "         6 2025-03-20                167  0.08\n",
      "         7 2025-03-21                167  0.10\n",
      "         8 2025-03-22                167  0.09\n",
      "         9 2025-03-23                167  0.07\n",
      "        10 2025-03-24                167  0.10\n",
      "        11 2025-03-25                167  0.10\n",
      "        12 2025-03-26                167  0.09\n",
      "        13 2025-03-27                167  0.10\n",
      "        14 2025-03-28                167  0.12\n",
      "        15 2025-03-29                167  0.10\n",
      "        16 2025-03-30                167  0.12\n",
      "        17 2025-03-31                167  0.10\n",
      "        18 2025-04-01                167  0.12\n",
      "        19 2025-04-02                167  0.11\n",
      "        20 2025-04-03                167  0.10\n",
      "        21 2025-04-04                167  0.08\n",
      "        22 2025-04-05                167  0.08\n",
      "        23 2025-04-06                167  0.08\n",
      "        24 2025-04-07                167  0.08\n",
      "        25 2025-04-08                167  0.08\n",
      "        26 2025-04-09                167  0.08\n",
      "        27 2025-04-10                167  0.08\n",
      "        28 2025-04-11                167  0.08\n",
      "        29 2025-04-12                167  0.09\n",
      "        30 2025-04-13                167  0.08\n",
      "\n",
      "📈 SUMMARY STATISTICS\n",
      "----------------------------------------\n",
      "count    30.00\n",
      "mean      0.09\n",
      "std       0.01\n",
      "min       0.07\n",
      "25%       0.08\n",
      "50%       0.09\n",
      "75%       0.10\n",
      "max       0.12\n",
      "Name: rmse, dtype: float64\n",
      "\n",
      "📊 AVERAGE OVERALL RMSE\n",
      "----------------------------------------\n",
      "Mean RMSE: 0.09\n"
     ]
    }
   ],
   "source": [
    "# optimizing the code for feature selection \n",
    "import pandas as pd\n",
    "import numpy as np\n",
    "import xgboost as xgb\n",
    "from sklearn.metrics import mean_squared_error\n",
    "# Dynamic path setup\n",
    "import sys\n",
    "from pathlib import Path\n",
    "from sklearn.model_selection import GridSearchCV\n",
    "\n",
    "# Find project root dynamically\n",
    "current_dir = Path.cwd()\n",
    "while current_dir.name != \"ENEXIS\" and current_dir.parent != current_dir:\n",
    "    current_dir = current_dir.parent\n",
    "project_root = current_dir\n",
    "\n",
    "# Add utils to path\n",
    "utils_path = project_root / \"src\" / \"utils\"\n",
    "sys.path.append(str(utils_path))\n",
    "from build_training_set import build_training_set\n",
    "\n",
    "# Define feature columns and target\n",
    "COMMON_FEATURES = ['is_dst', 'hour_cos', 'hour_sin','month','is_non_working_day','shortwave_radiation', 'temperature_2m'\n",
    "    ]\n",
    "# list of all available features 'cloud_cover', 'direct_normal_irradiance', 'diffuse_radiation','hour_cos', 'hour_sin', 'is_dst', 'is_non_working_day','is_weekend', 'month', 'shortwave_radiation','temperature_2m', 'yearday_cos', 'yearday_sin'\n",
    "TRAIN_ONLY_FEATURES = ['Load','Flow_NO']  # <- Only used if known ex post\n",
    "\n",
    "TRAIN_FEATURES = COMMON_FEATURES + TRAIN_ONLY_FEATURES\n",
    "TEST_FEATURES = COMMON_FEATURES\n",
    "\n",
    "\n",
    "target = 'Price'\n",
    "\n",
    "# Initial training window\n",
    "base_start = \"2025-01-01 00:00:00\"\n",
    "base_end = \"2025-03-14 23:00:00\"\n",
    "base_run = \"2025-03-15 00:00:00\"\n",
    "\n",
    "rmse_results = []\n",
    "\n",
    "print(\"🔍 Testing XGBoost Model - RMSE per forecast day\")\n",
    "print(\"=\" * 60)\n",
    "\n",
    "# GridSearch parameter grid\n",
    "param_grid = {\n",
    "    'n_estimators': [100, 200],\n",
    "    'max_depth': [3, 5],\n",
    "    'learning_rate': [0.05, 0.1],\n",
    "    'subsample': [0.8, 1],\n",
    "    'colsample_bytree': [0.8, 1],\n",
    "}\n",
    "\n",
    "# Loop over forecast days\n",
    "for i in range(30):\n",
    "    start = pd.Timestamp(base_start) + pd.Timedelta(days=i)\n",
    "    end = pd.Timestamp(base_end) + pd.Timedelta(days=i)\n",
    "    run_date = pd.Timestamp(base_run) + pd.Timedelta(days=i)\n",
    "\n",
    "    try:\n",
    "        df = build_training_set(\n",
    "            train_start=start.strftime(\"%Y-%m-%d %H:%M:%S\"),\n",
    "            train_end=end.strftime(\"%Y-%m-%d %H:%M:%S\"),\n",
    "            run_date=run_date.strftime(\"%Y-%m-%d %H:%M:%S\")\n",
    "        )\n",
    "\n",
    "        if df is None or df.empty:\n",
    "            print(f\"Day {i+1}: ❌ No training data returned\")\n",
    "            continue\n",
    "\n",
    "        df['target_datetime'] = pd.to_datetime(df['target_datetime'], utc=True)\n",
    "        df = df.sort_values('target_datetime').set_index('target_datetime')\n",
    "\n",
    "        # Zorg dat run_date ook in UTC is\n",
    "        run_date_utc = run_date.tz_localize(\"UTC\")\n",
    "\n",
    "        # Split into training and testing sets\n",
    "        train_data = df[df.index <= run_date_utc]\n",
    "        test_data = df[df.index > run_date_utc]\n",
    "\n",
    "        # Drop any missing data in training\n",
    "        train_data = train_data.dropna(subset=TRAIN_FEATURES + [target])\n",
    "\n",
    "        if test_data.empty or train_data.empty:\n",
    "            print(f\"Day {i+1}: ❌ Not enough data for training or testing\")\n",
    "            continue\n",
    "\n",
    "        # Train model\n",
    "        X_train = train_data[TRAIN_FEATURES]\n",
    "        y_train = train_data[target]\n",
    "\n",
    "        # Aanvullen met NaN-kolommen waar nodig\n",
    "        for col in TRAIN_FEATURES:\n",
    "            if col not in test_data.columns:\n",
    "                test_data[col] = np.nan\n",
    "\n",
    "        X_test = test_data[TRAIN_FEATURES]\n",
    "        y_test = test_data[target]\n",
    "\n",
    "        base_model = xgb.XGBRegressor(objective='reg:squarederror', random_state=42)\n",
    "        grid_search = GridSearchCV(\n",
    "            estimator=base_model,\n",
    "            param_grid=param_grid,\n",
    "            scoring='neg_root_mean_squared_error',\n",
    "            cv=3,\n",
    "            n_jobs=-1,\n",
    "            verbose=0\n",
    "        )\n",
    "        grid_search.fit(X_train, y_train)\n",
    "        print(f\"Day {i+1}: 🧪 Best params: {grid_search.best_params_}\")\n",
    "        model = grid_search.best_estimator_\n",
    "\n",
    "        y_pred = model.predict(X_test)\n",
    "\n",
    "        rmse = np.sqrt(mean_squared_error(y_test, y_pred))\n",
    "        rmse_results.append({\n",
    "            'iteration': i + 1,\n",
    "            'run_date': run_date.strftime('%Y-%m-%d'),\n",
    "            'valid_predictions': len(test_data),\n",
    "            'rmse': rmse\n",
    "        })\n",
    "\n",
    "        print(f\"Day {i+1}: ✅ {len(test_data)} test rows, Run: {run_date.strftime('%m-%d')}\")\n",
    "\n",
    "    except Exception as e:\n",
    "        print(f\"Day {i+1}: ❌ Error: {e}\")\n",
    "\n",
    "# Create results dataframe\n",
    "if rmse_results:\n",
    "    rmse_df = pd.DataFrame(rmse_results)\n",
    "\n",
    "    print(f\"\\n📊 OVERALL RMSE - XGBoost Model\")\n",
    "    print(\"=\" * 80)\n",
    "    print(f\"Successful runs: {len(rmse_df)}/30\")\n",
    "\n",
    "    print(rmse_df[['iteration', 'run_date', 'valid_predictions', 'rmse']].round(2).to_string(index=False))\n",
    "\n",
    "    print(f\"\\n📈 SUMMARY STATISTICS\")\n",
    "    print(\"-\" * 40)\n",
    "    print(rmse_df['rmse'].describe().round(2))\n",
    "\n",
    "    print(f\"\\n📊 AVERAGE OVERALL RMSE\")\n",
    "    print(\"-\" * 40)\n",
    "    print(f\"Mean RMSE: {rmse_df['rmse'].mean():.2f}\")\n",
    "else:\n",
    "    print(\"❌ No runs completed successfully\")"
   ]
  },
  {
   "cell_type": "code",
   "execution_count": 24,
   "id": "55d59a61",
   "metadata": {},
   "outputs": [
    {
     "name": "stderr",
     "output_type": "stream",
     "text": [
      "2025-05-27 11:49:28,630 - build_training_set - INFO - 🚀 Start build van trainingset\n",
      "2025-05-27 11:49:28,632 - build_training_set - INFO - 🧠 Actuals van 2025-01-01 00:00:00+00:00 t/m 2025-03-14 23:00:00+00:00\n",
      "2025-05-27 11:49:28,635 - build_training_set - INFO - 📅 Forecast van run_date 2025-03-15 00:00:00+00:00, target range: 2025-03-15 00:00:00+00:00 → 2025-03-21 23:00:00+00:00\n",
      "2025-05-27 11:49:28,729 - build_training_set - INFO - ✅ Actuals geladen: 1752 rijen\n"
     ]
    },
    {
     "name": "stdout",
     "output_type": "stream",
     "text": [
      "🔍 Testing XGBoost Model - RMSE per forecast day\n",
      "============================================================\n"
     ]
    },
    {
     "name": "stderr",
     "output_type": "stream",
     "text": [
      "2025-05-27 11:49:28,893 - build_training_set - INFO - ✅ Added actual prices to 168 forecast rows\n",
      "/Users/Twan/Library/Mobile Documents/com~apple~CloudDocs/Data Science/Data Projects EASI/ENEXIS/src/utils/build_training_set.py:106: FutureWarning: The behavior of DataFrame concatenation with empty or all-NA entries is deprecated. In a future version, this will no longer exclude empty or all-NA columns when determining the result dtypes. To retain the old behavior, exclude the relevant entries before the concat operation.\n",
      "  df_combined = pd.concat([df_actuals, df_preds], ignore_index=True)\n",
      "2025-05-27 11:49:28,904 - build_training_set - INFO - 📦 Eindtabel bevat: 1920 rijen, 31 kolommen\n",
      "2025-05-27 11:49:28,904 - build_training_set - INFO - 🧾 Kolommen: ['Price', 'target_datetime', 'Load', 'shortwave_radiation', 'temperature_2m', 'direct_normal_irradiance', 'diffuse_radiation', 'Flow_NO', 'yearday_cos', 'Flow_GB', 'month', 'is_dst', 'yearday_sin', 'is_non_working_day', 'hour_cos', 'is_weekend', 'cloud_cover', 'weekday_sin', 'hour_sin', 'weekday_cos', 'apparent_temperature', 'day_of_week', 'day_of_year', 'direct_radiation', 'hour', 'is_holiday', 'local_datetime', 'run_date', 'snowfall', 'wind_direction_10m', 'wind_speed_10m']\n",
      "2025-05-27 11:49:28,905 - build_training_set - INFO - ❓ Price NaN count: 0/1920 (0.0%)\n",
      "2025-05-27 11:49:28,921 - build_training_set - INFO - ✅ Opgeslagen als training_set in WARP.db\n",
      "2025-05-27 11:49:28,922 - build_training_set - INFO - 🔒 Verbinding gesloten\n",
      "2025-05-27 11:51:37,540 - build_training_set - INFO - 🚀 Start build van trainingset\n",
      "2025-05-27 11:51:37,543 - build_training_set - INFO - 🧠 Actuals van 2025-01-02 00:00:00+00:00 t/m 2025-03-15 23:00:00+00:00\n",
      "2025-05-27 11:51:37,544 - build_training_set - INFO - 📅 Forecast van run_date 2025-03-16 00:00:00+00:00, target range: 2025-03-16 00:00:00+00:00 → 2025-03-22 23:00:00+00:00\n",
      "2025-05-27 11:51:37,584 - build_training_set - INFO - ✅ Actuals geladen: 1752 rijen\n"
     ]
    },
    {
     "name": "stdout",
     "output_type": "stream",
     "text": [
      "Day 1: 🧪 Best params: {'colsample_bytree': 0.6, 'gamma': 0, 'learning_rate': 0.01, 'max_depth': 3, 'n_estimators': 300, 'reg_alpha': 0, 'reg_lambda': 1, 'subsample': 0.6}\n",
      "Day 1: ✅ 167 test rows, Run: 03-15\n"
     ]
    },
    {
     "name": "stderr",
     "output_type": "stream",
     "text": [
      "2025-05-27 11:51:37,835 - build_training_set - INFO - ✅ Added actual prices to 168 forecast rows\n",
      "/Users/Twan/Library/Mobile Documents/com~apple~CloudDocs/Data Science/Data Projects EASI/ENEXIS/src/utils/build_training_set.py:106: FutureWarning: The behavior of DataFrame concatenation with empty or all-NA entries is deprecated. In a future version, this will no longer exclude empty or all-NA columns when determining the result dtypes. To retain the old behavior, exclude the relevant entries before the concat operation.\n",
      "  df_combined = pd.concat([df_actuals, df_preds], ignore_index=True)\n",
      "2025-05-27 11:51:37,845 - build_training_set - INFO - 📦 Eindtabel bevat: 1920 rijen, 31 kolommen\n",
      "2025-05-27 11:51:37,846 - build_training_set - INFO - 🧾 Kolommen: ['Price', 'target_datetime', 'Load', 'shortwave_radiation', 'temperature_2m', 'direct_normal_irradiance', 'diffuse_radiation', 'Flow_NO', 'yearday_cos', 'Flow_GB', 'month', 'is_dst', 'yearday_sin', 'is_non_working_day', 'hour_cos', 'is_weekend', 'cloud_cover', 'weekday_sin', 'hour_sin', 'weekday_cos', 'apparent_temperature', 'day_of_week', 'day_of_year', 'direct_radiation', 'hour', 'is_holiday', 'local_datetime', 'run_date', 'snowfall', 'wind_direction_10m', 'wind_speed_10m']\n",
      "2025-05-27 11:51:37,846 - build_training_set - INFO - ❓ Price NaN count: 0/1920 (0.0%)\n",
      "2025-05-27 11:51:37,862 - build_training_set - INFO - ✅ Opgeslagen als training_set in WARP.db\n",
      "2025-05-27 11:51:37,862 - build_training_set - INFO - 🔒 Verbinding gesloten\n",
      "2025-05-27 11:54:18,758 - build_training_set - INFO - 🚀 Start build van trainingset\n",
      "2025-05-27 11:54:18,762 - build_training_set - INFO - 🧠 Actuals van 2025-01-03 00:00:00+00:00 t/m 2025-03-16 23:00:00+00:00\n",
      "2025-05-27 11:54:18,763 - build_training_set - INFO - 📅 Forecast van run_date 2025-03-17 00:00:00+00:00, target range: 2025-03-17 00:00:00+00:00 → 2025-03-23 23:00:00+00:00\n",
      "2025-05-27 11:54:18,808 - build_training_set - INFO - ✅ Actuals geladen: 1752 rijen\n"
     ]
    },
    {
     "name": "stdout",
     "output_type": "stream",
     "text": [
      "Day 2: 🧪 Best params: {'colsample_bytree': 1, 'gamma': 0, 'learning_rate': 0.01, 'max_depth': 3, 'n_estimators': 300, 'reg_alpha': 0, 'reg_lambda': 1, 'subsample': 0.6}\n",
      "Day 2: ✅ 167 test rows, Run: 03-16\n"
     ]
    },
    {
     "name": "stderr",
     "output_type": "stream",
     "text": [
      "2025-05-27 11:54:19,095 - build_training_set - INFO - ✅ Added actual prices to 168 forecast rows\n",
      "/Users/Twan/Library/Mobile Documents/com~apple~CloudDocs/Data Science/Data Projects EASI/ENEXIS/src/utils/build_training_set.py:106: FutureWarning: The behavior of DataFrame concatenation with empty or all-NA entries is deprecated. In a future version, this will no longer exclude empty or all-NA columns when determining the result dtypes. To retain the old behavior, exclude the relevant entries before the concat operation.\n",
      "  df_combined = pd.concat([df_actuals, df_preds], ignore_index=True)\n",
      "2025-05-27 11:54:19,106 - build_training_set - INFO - 📦 Eindtabel bevat: 1920 rijen, 31 kolommen\n",
      "2025-05-27 11:54:19,106 - build_training_set - INFO - 🧾 Kolommen: ['Price', 'target_datetime', 'Load', 'shortwave_radiation', 'temperature_2m', 'direct_normal_irradiance', 'diffuse_radiation', 'Flow_NO', 'yearday_cos', 'Flow_GB', 'month', 'is_dst', 'yearday_sin', 'is_non_working_day', 'hour_cos', 'is_weekend', 'cloud_cover', 'weekday_sin', 'hour_sin', 'weekday_cos', 'apparent_temperature', 'day_of_week', 'day_of_year', 'direct_radiation', 'hour', 'is_holiday', 'local_datetime', 'run_date', 'snowfall', 'wind_direction_10m', 'wind_speed_10m']\n",
      "2025-05-27 11:54:19,107 - build_training_set - INFO - ❓ Price NaN count: 0/1920 (0.0%)\n",
      "2025-05-27 11:54:19,126 - build_training_set - INFO - ✅ Opgeslagen als training_set in WARP.db\n",
      "2025-05-27 11:54:19,127 - build_training_set - INFO - 🔒 Verbinding gesloten\n",
      "2025-05-27 11:57:10,978 - build_training_set - INFO - 🚀 Start build van trainingset\n",
      "2025-05-27 11:57:10,981 - build_training_set - INFO - 🧠 Actuals van 2025-01-04 00:00:00+00:00 t/m 2025-03-17 23:00:00+00:00\n",
      "2025-05-27 11:57:10,981 - build_training_set - INFO - 📅 Forecast van run_date 2025-03-18 00:00:00+00:00, target range: 2025-03-18 00:00:00+00:00 → 2025-03-24 23:00:00+00:00\n",
      "2025-05-27 11:57:11,018 - build_training_set - INFO - ✅ Actuals geladen: 1752 rijen\n"
     ]
    },
    {
     "name": "stdout",
     "output_type": "stream",
     "text": [
      "Day 3: 🧪 Best params: {'colsample_bytree': 1, 'gamma': 0, 'learning_rate': 0.01, 'max_depth': 3, 'n_estimators': 500, 'reg_alpha': 0, 'reg_lambda': 1.5, 'subsample': 0.8}\n",
      "Day 3: ✅ 167 test rows, Run: 03-17\n"
     ]
    },
    {
     "name": "stderr",
     "output_type": "stream",
     "text": [
      "2025-05-27 11:57:11,253 - build_training_set - INFO - ✅ Added actual prices to 168 forecast rows\n",
      "/Users/Twan/Library/Mobile Documents/com~apple~CloudDocs/Data Science/Data Projects EASI/ENEXIS/src/utils/build_training_set.py:106: FutureWarning: The behavior of DataFrame concatenation with empty or all-NA entries is deprecated. In a future version, this will no longer exclude empty or all-NA columns when determining the result dtypes. To retain the old behavior, exclude the relevant entries before the concat operation.\n",
      "  df_combined = pd.concat([df_actuals, df_preds], ignore_index=True)\n",
      "2025-05-27 11:57:11,263 - build_training_set - INFO - 📦 Eindtabel bevat: 1920 rijen, 31 kolommen\n",
      "2025-05-27 11:57:11,263 - build_training_set - INFO - 🧾 Kolommen: ['Price', 'target_datetime', 'Load', 'shortwave_radiation', 'temperature_2m', 'direct_normal_irradiance', 'diffuse_radiation', 'Flow_NO', 'yearday_cos', 'Flow_GB', 'month', 'is_dst', 'yearday_sin', 'is_non_working_day', 'hour_cos', 'is_weekend', 'cloud_cover', 'weekday_sin', 'hour_sin', 'weekday_cos', 'apparent_temperature', 'day_of_week', 'day_of_year', 'direct_radiation', 'hour', 'is_holiday', 'local_datetime', 'run_date', 'snowfall', 'wind_direction_10m', 'wind_speed_10m']\n",
      "2025-05-27 11:57:11,264 - build_training_set - INFO - ❓ Price NaN count: 0/1920 (0.0%)\n",
      "2025-05-27 11:57:11,278 - build_training_set - INFO - ✅ Opgeslagen als training_set in WARP.db\n",
      "2025-05-27 11:57:11,279 - build_training_set - INFO - 🔒 Verbinding gesloten\n",
      "2025-05-27 11:59:59,143 - build_training_set - INFO - 🚀 Start build van trainingset\n",
      "2025-05-27 11:59:59,146 - build_training_set - INFO - 🧠 Actuals van 2025-01-05 00:00:00+00:00 t/m 2025-03-18 23:00:00+00:00\n",
      "2025-05-27 11:59:59,147 - build_training_set - INFO - 📅 Forecast van run_date 2025-03-19 00:00:00+00:00, target range: 2025-03-19 00:00:00+00:00 → 2025-03-25 23:00:00+00:00\n",
      "2025-05-27 11:59:59,193 - build_training_set - INFO - ✅ Actuals geladen: 1752 rijen\n"
     ]
    },
    {
     "name": "stdout",
     "output_type": "stream",
     "text": [
      "Day 4: 🧪 Best params: {'colsample_bytree': 1, 'gamma': 0, 'learning_rate': 0.01, 'max_depth': 3, 'n_estimators': 500, 'reg_alpha': 0, 'reg_lambda': 1.5, 'subsample': 0.6}\n",
      "Day 4: ✅ 167 test rows, Run: 03-18\n"
     ]
    },
    {
     "name": "stderr",
     "output_type": "stream",
     "text": [
      "2025-05-27 11:59:59,454 - build_training_set - INFO - ✅ Added actual prices to 168 forecast rows\n",
      "/Users/Twan/Library/Mobile Documents/com~apple~CloudDocs/Data Science/Data Projects EASI/ENEXIS/src/utils/build_training_set.py:106: FutureWarning: The behavior of DataFrame concatenation with empty or all-NA entries is deprecated. In a future version, this will no longer exclude empty or all-NA columns when determining the result dtypes. To retain the old behavior, exclude the relevant entries before the concat operation.\n",
      "  df_combined = pd.concat([df_actuals, df_preds], ignore_index=True)\n",
      "2025-05-27 11:59:59,467 - build_training_set - INFO - 📦 Eindtabel bevat: 1920 rijen, 31 kolommen\n",
      "2025-05-27 11:59:59,467 - build_training_set - INFO - 🧾 Kolommen: ['Price', 'target_datetime', 'Load', 'shortwave_radiation', 'temperature_2m', 'direct_normal_irradiance', 'diffuse_radiation', 'Flow_NO', 'yearday_cos', 'Flow_GB', 'month', 'is_dst', 'yearday_sin', 'is_non_working_day', 'hour_cos', 'is_weekend', 'cloud_cover', 'weekday_sin', 'hour_sin', 'weekday_cos', 'apparent_temperature', 'day_of_week', 'day_of_year', 'direct_radiation', 'hour', 'is_holiday', 'local_datetime', 'run_date', 'snowfall', 'wind_direction_10m', 'wind_speed_10m']\n",
      "2025-05-27 11:59:59,468 - build_training_set - INFO - ❓ Price NaN count: 0/1920 (0.0%)\n",
      "2025-05-27 11:59:59,487 - build_training_set - INFO - ✅ Opgeslagen als training_set in WARP.db\n",
      "2025-05-27 11:59:59,488 - build_training_set - INFO - 🔒 Verbinding gesloten\n",
      "2025-05-27 12:02:52,947 - build_training_set - INFO - 🚀 Start build van trainingset\n",
      "2025-05-27 12:02:52,951 - build_training_set - INFO - 🧠 Actuals van 2025-01-06 00:00:00+00:00 t/m 2025-03-19 23:00:00+00:00\n",
      "2025-05-27 12:02:52,952 - build_training_set - INFO - 📅 Forecast van run_date 2025-03-20 00:00:00+00:00, target range: 2025-03-20 00:00:00+00:00 → 2025-03-26 23:00:00+00:00\n",
      "2025-05-27 12:02:52,996 - build_training_set - INFO - ✅ Actuals geladen: 1752 rijen\n"
     ]
    },
    {
     "name": "stdout",
     "output_type": "stream",
     "text": [
      "Day 5: 🧪 Best params: {'colsample_bytree': 1, 'gamma': 0, 'learning_rate': 0.1, 'max_depth': 3, 'n_estimators': 100, 'reg_alpha': 0, 'reg_lambda': 1, 'subsample': 0.6}\n",
      "Day 5: ✅ 167 test rows, Run: 03-19\n"
     ]
    },
    {
     "name": "stderr",
     "output_type": "stream",
     "text": [
      "2025-05-27 12:02:53,277 - build_training_set - INFO - ✅ Added actual prices to 168 forecast rows\n",
      "/Users/Twan/Library/Mobile Documents/com~apple~CloudDocs/Data Science/Data Projects EASI/ENEXIS/src/utils/build_training_set.py:106: FutureWarning: The behavior of DataFrame concatenation with empty or all-NA entries is deprecated. In a future version, this will no longer exclude empty or all-NA columns when determining the result dtypes. To retain the old behavior, exclude the relevant entries before the concat operation.\n",
      "  df_combined = pd.concat([df_actuals, df_preds], ignore_index=True)\n",
      "2025-05-27 12:02:53,289 - build_training_set - INFO - 📦 Eindtabel bevat: 1920 rijen, 31 kolommen\n",
      "2025-05-27 12:02:53,289 - build_training_set - INFO - 🧾 Kolommen: ['Price', 'target_datetime', 'Load', 'shortwave_radiation', 'temperature_2m', 'direct_normal_irradiance', 'diffuse_radiation', 'Flow_NO', 'yearday_cos', 'Flow_GB', 'month', 'is_dst', 'yearday_sin', 'is_non_working_day', 'hour_cos', 'is_weekend', 'cloud_cover', 'weekday_sin', 'hour_sin', 'weekday_cos', 'apparent_temperature', 'day_of_week', 'day_of_year', 'direct_radiation', 'hour', 'is_holiday', 'local_datetime', 'run_date', 'snowfall', 'wind_direction_10m', 'wind_speed_10m']\n",
      "2025-05-27 12:02:53,289 - build_training_set - INFO - ❓ Price NaN count: 0/1920 (0.0%)\n",
      "2025-05-27 12:02:53,308 - build_training_set - INFO - ✅ Opgeslagen als training_set in WARP.db\n",
      "2025-05-27 12:02:53,309 - build_training_set - INFO - 🔒 Verbinding gesloten\n",
      "2025-05-27 12:06:14,045 - build_training_set - INFO - 🚀 Start build van trainingset\n",
      "2025-05-27 12:06:14,049 - build_training_set - INFO - 🧠 Actuals van 2025-01-07 00:00:00+00:00 t/m 2025-03-20 23:00:00+00:00\n",
      "2025-05-27 12:06:14,050 - build_training_set - INFO - 📅 Forecast van run_date 2025-03-21 00:00:00+00:00, target range: 2025-03-21 00:00:00+00:00 → 2025-03-27 23:00:00+00:00\n",
      "2025-05-27 12:06:14,093 - build_training_set - INFO - ✅ Actuals geladen: 1752 rijen\n"
     ]
    },
    {
     "name": "stdout",
     "output_type": "stream",
     "text": [
      "Day 6: 🧪 Best params: {'colsample_bytree': 1, 'gamma': 0, 'learning_rate': 0.05, 'max_depth': 3, 'n_estimators': 300, 'reg_alpha': 0, 'reg_lambda': 1.5, 'subsample': 0.6}\n",
      "Day 6: ✅ 167 test rows, Run: 03-20\n"
     ]
    },
    {
     "name": "stderr",
     "output_type": "stream",
     "text": [
      "2025-05-27 12:06:14,529 - build_training_set - INFO - ✅ Added actual prices to 168 forecast rows\n",
      "/Users/Twan/Library/Mobile Documents/com~apple~CloudDocs/Data Science/Data Projects EASI/ENEXIS/src/utils/build_training_set.py:106: FutureWarning: The behavior of DataFrame concatenation with empty or all-NA entries is deprecated. In a future version, this will no longer exclude empty or all-NA columns when determining the result dtypes. To retain the old behavior, exclude the relevant entries before the concat operation.\n",
      "  df_combined = pd.concat([df_actuals, df_preds], ignore_index=True)\n",
      "2025-05-27 12:06:14,544 - build_training_set - INFO - 📦 Eindtabel bevat: 1920 rijen, 31 kolommen\n",
      "2025-05-27 12:06:14,545 - build_training_set - INFO - 🧾 Kolommen: ['Price', 'target_datetime', 'Load', 'shortwave_radiation', 'temperature_2m', 'direct_normal_irradiance', 'diffuse_radiation', 'Flow_NO', 'yearday_cos', 'Flow_GB', 'month', 'is_dst', 'yearday_sin', 'is_non_working_day', 'hour_cos', 'is_weekend', 'cloud_cover', 'weekday_sin', 'hour_sin', 'weekday_cos', 'apparent_temperature', 'day_of_week', 'day_of_year', 'direct_radiation', 'hour', 'is_holiday', 'local_datetime', 'run_date', 'snowfall', 'wind_direction_10m', 'wind_speed_10m']\n",
      "2025-05-27 12:06:14,545 - build_training_set - INFO - ❓ Price NaN count: 0/1920 (0.0%)\n",
      "2025-05-27 12:06:14,571 - build_training_set - INFO - ✅ Opgeslagen als training_set in WARP.db\n",
      "2025-05-27 12:06:14,572 - build_training_set - INFO - 🔒 Verbinding gesloten\n",
      "2025-05-27 12:10:15,857 - build_training_set - INFO - 🚀 Start build van trainingset\n",
      "2025-05-27 12:10:15,862 - build_training_set - INFO - 🧠 Actuals van 2025-01-08 00:00:00+00:00 t/m 2025-03-21 23:00:00+00:00\n",
      "2025-05-27 12:10:15,863 - build_training_set - INFO - 📅 Forecast van run_date 2025-03-22 00:00:00+00:00, target range: 2025-03-22 00:00:00+00:00 → 2025-03-28 23:00:00+00:00\n",
      "2025-05-27 12:10:15,917 - build_training_set - INFO - ✅ Actuals geladen: 1752 rijen\n"
     ]
    },
    {
     "name": "stdout",
     "output_type": "stream",
     "text": [
      "Day 7: 🧪 Best params: {'colsample_bytree': 1, 'gamma': 0, 'learning_rate': 0.05, 'max_depth': 3, 'n_estimators': 100, 'reg_alpha': 0, 'reg_lambda': 1.5, 'subsample': 0.6}\n",
      "Day 7: ✅ 167 test rows, Run: 03-21\n"
     ]
    },
    {
     "name": "stderr",
     "output_type": "stream",
     "text": [
      "2025-05-27 12:10:16,241 - build_training_set - INFO - ✅ Added actual prices to 168 forecast rows\n",
      "/Users/Twan/Library/Mobile Documents/com~apple~CloudDocs/Data Science/Data Projects EASI/ENEXIS/src/utils/build_training_set.py:106: FutureWarning: The behavior of DataFrame concatenation with empty or all-NA entries is deprecated. In a future version, this will no longer exclude empty or all-NA columns when determining the result dtypes. To retain the old behavior, exclude the relevant entries before the concat operation.\n",
      "  df_combined = pd.concat([df_actuals, df_preds], ignore_index=True)\n",
      "2025-05-27 12:10:16,257 - build_training_set - INFO - 📦 Eindtabel bevat: 1920 rijen, 31 kolommen\n",
      "2025-05-27 12:10:16,257 - build_training_set - INFO - 🧾 Kolommen: ['Price', 'target_datetime', 'Load', 'shortwave_radiation', 'temperature_2m', 'direct_normal_irradiance', 'diffuse_radiation', 'Flow_NO', 'yearday_cos', 'Flow_GB', 'month', 'is_dst', 'yearday_sin', 'is_non_working_day', 'hour_cos', 'is_weekend', 'cloud_cover', 'weekday_sin', 'hour_sin', 'weekday_cos', 'apparent_temperature', 'day_of_week', 'day_of_year', 'direct_radiation', 'hour', 'is_holiday', 'local_datetime', 'run_date', 'snowfall', 'wind_direction_10m', 'wind_speed_10m']\n",
      "2025-05-27 12:10:16,259 - build_training_set - INFO - ❓ Price NaN count: 0/1920 (0.0%)\n",
      "2025-05-27 12:10:16,277 - build_training_set - INFO - ✅ Opgeslagen als training_set in WARP.db\n",
      "2025-05-27 12:10:16,278 - build_training_set - INFO - 🔒 Verbinding gesloten\n",
      "2025-05-27 12:13:14,177 - build_training_set - INFO - 🚀 Start build van trainingset\n",
      "2025-05-27 12:13:14,180 - build_training_set - INFO - 🧠 Actuals van 2025-01-09 00:00:00+00:00 t/m 2025-03-22 23:00:00+00:00\n",
      "2025-05-27 12:13:14,180 - build_training_set - INFO - 📅 Forecast van run_date 2025-03-23 00:00:00+00:00, target range: 2025-03-23 00:00:00+00:00 → 2025-03-29 23:00:00+00:00\n",
      "2025-05-27 12:13:14,223 - build_training_set - INFO - ✅ Actuals geladen: 1752 rijen\n"
     ]
    },
    {
     "name": "stdout",
     "output_type": "stream",
     "text": [
      "Day 8: 🧪 Best params: {'colsample_bytree': 1, 'gamma': 0, 'learning_rate': 0.05, 'max_depth': 3, 'n_estimators': 100, 'reg_alpha': 0, 'reg_lambda': 1, 'subsample': 0.8}\n",
      "Day 8: ✅ 167 test rows, Run: 03-22\n"
     ]
    },
    {
     "name": "stderr",
     "output_type": "stream",
     "text": [
      "2025-05-27 12:13:14,496 - build_training_set - INFO - ✅ Added actual prices to 168 forecast rows\n",
      "/Users/Twan/Library/Mobile Documents/com~apple~CloudDocs/Data Science/Data Projects EASI/ENEXIS/src/utils/build_training_set.py:106: FutureWarning: The behavior of DataFrame concatenation with empty or all-NA entries is deprecated. In a future version, this will no longer exclude empty or all-NA columns when determining the result dtypes. To retain the old behavior, exclude the relevant entries before the concat operation.\n",
      "  df_combined = pd.concat([df_actuals, df_preds], ignore_index=True)\n",
      "2025-05-27 12:13:14,507 - build_training_set - INFO - 📦 Eindtabel bevat: 1920 rijen, 31 kolommen\n",
      "2025-05-27 12:13:14,508 - build_training_set - INFO - 🧾 Kolommen: ['Price', 'target_datetime', 'Load', 'shortwave_radiation', 'temperature_2m', 'direct_normal_irradiance', 'diffuse_radiation', 'Flow_NO', 'yearday_cos', 'Flow_GB', 'month', 'is_dst', 'yearday_sin', 'is_non_working_day', 'hour_cos', 'is_weekend', 'cloud_cover', 'weekday_sin', 'hour_sin', 'weekday_cos', 'apparent_temperature', 'day_of_week', 'day_of_year', 'direct_radiation', 'hour', 'is_holiday', 'local_datetime', 'run_date', 'snowfall', 'wind_direction_10m', 'wind_speed_10m']\n",
      "2025-05-27 12:13:14,508 - build_training_set - INFO - ❓ Price NaN count: 0/1920 (0.0%)\n",
      "2025-05-27 12:13:14,524 - build_training_set - INFO - ✅ Opgeslagen als training_set in WARP.db\n",
      "2025-05-27 12:13:14,524 - build_training_set - INFO - 🔒 Verbinding gesloten\n",
      "2025-05-27 12:16:28,915 - build_training_set - INFO - 🚀 Start build van trainingset\n",
      "2025-05-27 12:16:28,921 - build_training_set - INFO - 🧠 Actuals van 2025-01-10 00:00:00+00:00 t/m 2025-03-23 23:00:00+00:00\n",
      "2025-05-27 12:16:28,922 - build_training_set - INFO - 📅 Forecast van run_date 2025-03-24 00:00:00+00:00, target range: 2025-03-24 00:00:00+00:00 → 2025-03-30 23:00:00+00:00\n",
      "2025-05-27 12:16:28,964 - build_training_set - INFO - ✅ Actuals geladen: 1752 rijen\n"
     ]
    },
    {
     "name": "stdout",
     "output_type": "stream",
     "text": [
      "Day 9: 🧪 Best params: {'colsample_bytree': 1, 'gamma': 0, 'learning_rate': 0.05, 'max_depth': 3, 'n_estimators': 300, 'reg_alpha': 0, 'reg_lambda': 2, 'subsample': 0.6}\n",
      "Day 9: ✅ 167 test rows, Run: 03-23\n"
     ]
    },
    {
     "name": "stderr",
     "output_type": "stream",
     "text": [
      "2025-05-27 12:16:29,234 - build_training_set - INFO - ✅ Added actual prices to 168 forecast rows\n",
      "/Users/Twan/Library/Mobile Documents/com~apple~CloudDocs/Data Science/Data Projects EASI/ENEXIS/src/utils/build_training_set.py:106: FutureWarning: The behavior of DataFrame concatenation with empty or all-NA entries is deprecated. In a future version, this will no longer exclude empty or all-NA columns when determining the result dtypes. To retain the old behavior, exclude the relevant entries before the concat operation.\n",
      "  df_combined = pd.concat([df_actuals, df_preds], ignore_index=True)\n",
      "2025-05-27 12:16:29,245 - build_training_set - INFO - 📦 Eindtabel bevat: 1920 rijen, 31 kolommen\n",
      "2025-05-27 12:16:29,245 - build_training_set - INFO - 🧾 Kolommen: ['Price', 'target_datetime', 'Load', 'shortwave_radiation', 'temperature_2m', 'direct_normal_irradiance', 'diffuse_radiation', 'Flow_NO', 'yearday_cos', 'Flow_GB', 'month', 'is_dst', 'yearday_sin', 'is_non_working_day', 'hour_cos', 'is_weekend', 'cloud_cover', 'weekday_sin', 'hour_sin', 'weekday_cos', 'apparent_temperature', 'day_of_week', 'day_of_year', 'direct_radiation', 'hour', 'is_holiday', 'local_datetime', 'run_date', 'snowfall', 'wind_direction_10m', 'wind_speed_10m']\n",
      "2025-05-27 12:16:29,245 - build_training_set - INFO - ❓ Price NaN count: 0/1920 (0.0%)\n",
      "2025-05-27 12:16:29,260 - build_training_set - INFO - ✅ Opgeslagen als training_set in WARP.db\n",
      "2025-05-27 12:16:29,261 - build_training_set - INFO - 🔒 Verbinding gesloten\n",
      "2025-05-27 12:18:57,943 - build_training_set - INFO - 🚀 Start build van trainingset\n",
      "2025-05-27 12:18:57,946 - build_training_set - INFO - 🧠 Actuals van 2025-01-11 00:00:00+00:00 t/m 2025-03-24 23:00:00+00:00\n",
      "2025-05-27 12:18:57,948 - build_training_set - INFO - 📅 Forecast van run_date 2025-03-25 00:00:00+00:00, target range: 2025-03-25 00:00:00+00:00 → 2025-03-31 23:00:00+00:00\n",
      "2025-05-27 12:18:57,987 - build_training_set - INFO - ✅ Actuals geladen: 1752 rijen\n"
     ]
    },
    {
     "name": "stdout",
     "output_type": "stream",
     "text": [
      "Day 10: 🧪 Best params: {'colsample_bytree': 1, 'gamma': 0, 'learning_rate': 0.1, 'max_depth': 3, 'n_estimators': 100, 'reg_alpha': 0, 'reg_lambda': 2, 'subsample': 0.6}\n",
      "Day 10: ✅ 167 test rows, Run: 03-24\n"
     ]
    },
    {
     "name": "stderr",
     "output_type": "stream",
     "text": [
      "2025-05-27 12:18:58,245 - build_training_set - INFO - ✅ Added actual prices to 168 forecast rows\n",
      "/Users/Twan/Library/Mobile Documents/com~apple~CloudDocs/Data Science/Data Projects EASI/ENEXIS/src/utils/build_training_set.py:106: FutureWarning: The behavior of DataFrame concatenation with empty or all-NA entries is deprecated. In a future version, this will no longer exclude empty or all-NA columns when determining the result dtypes. To retain the old behavior, exclude the relevant entries before the concat operation.\n",
      "  df_combined = pd.concat([df_actuals, df_preds], ignore_index=True)\n",
      "2025-05-27 12:18:58,256 - build_training_set - INFO - 📦 Eindtabel bevat: 1920 rijen, 31 kolommen\n",
      "2025-05-27 12:18:58,256 - build_training_set - INFO - 🧾 Kolommen: ['Price', 'target_datetime', 'Load', 'shortwave_radiation', 'temperature_2m', 'direct_normal_irradiance', 'diffuse_radiation', 'Flow_NO', 'yearday_cos', 'Flow_GB', 'month', 'is_dst', 'yearday_sin', 'is_non_working_day', 'hour_cos', 'is_weekend', 'cloud_cover', 'weekday_sin', 'hour_sin', 'weekday_cos', 'apparent_temperature', 'day_of_week', 'day_of_year', 'direct_radiation', 'hour', 'is_holiday', 'local_datetime', 'run_date', 'snowfall', 'wind_direction_10m', 'wind_speed_10m']\n",
      "2025-05-27 12:18:58,256 - build_training_set - INFO - ❓ Price NaN count: 0/1920 (0.0%)\n",
      "2025-05-27 12:18:58,273 - build_training_set - INFO - ✅ Opgeslagen als training_set in WARP.db\n",
      "2025-05-27 12:18:58,274 - build_training_set - INFO - 🔒 Verbinding gesloten\n",
      "2025-05-27 12:21:27,637 - build_training_set - INFO - 🚀 Start build van trainingset\n",
      "2025-05-27 12:21:27,640 - build_training_set - INFO - 🧠 Actuals van 2025-01-12 00:00:00+00:00 t/m 2025-03-25 23:00:00+00:00\n",
      "2025-05-27 12:21:27,641 - build_training_set - INFO - 📅 Forecast van run_date 2025-03-26 00:00:00+00:00, target range: 2025-03-26 00:00:00+00:00 → 2025-04-01 23:00:00+00:00\n",
      "2025-05-27 12:21:27,678 - build_training_set - INFO - ✅ Actuals geladen: 1752 rijen\n"
     ]
    },
    {
     "name": "stdout",
     "output_type": "stream",
     "text": [
      "Day 11: 🧪 Best params: {'colsample_bytree': 1, 'gamma': 0, 'learning_rate': 0.05, 'max_depth': 3, 'n_estimators': 100, 'reg_alpha': 0, 'reg_lambda': 1, 'subsample': 0.8}\n",
      "Day 11: ✅ 167 test rows, Run: 03-25\n"
     ]
    },
    {
     "name": "stderr",
     "output_type": "stream",
     "text": [
      "2025-05-27 12:21:27,935 - build_training_set - INFO - ✅ Added actual prices to 168 forecast rows\n",
      "/Users/Twan/Library/Mobile Documents/com~apple~CloudDocs/Data Science/Data Projects EASI/ENEXIS/src/utils/build_training_set.py:106: FutureWarning: The behavior of DataFrame concatenation with empty or all-NA entries is deprecated. In a future version, this will no longer exclude empty or all-NA columns when determining the result dtypes. To retain the old behavior, exclude the relevant entries before the concat operation.\n",
      "  df_combined = pd.concat([df_actuals, df_preds], ignore_index=True)\n",
      "2025-05-27 12:21:27,945 - build_training_set - INFO - 📦 Eindtabel bevat: 1920 rijen, 31 kolommen\n",
      "2025-05-27 12:21:27,945 - build_training_set - INFO - 🧾 Kolommen: ['Price', 'target_datetime', 'Load', 'shortwave_radiation', 'temperature_2m', 'direct_normal_irradiance', 'diffuse_radiation', 'Flow_NO', 'yearday_cos', 'Flow_GB', 'month', 'is_dst', 'yearday_sin', 'is_non_working_day', 'hour_cos', 'is_weekend', 'cloud_cover', 'weekday_sin', 'hour_sin', 'weekday_cos', 'apparent_temperature', 'day_of_week', 'day_of_year', 'direct_radiation', 'hour', 'is_holiday', 'local_datetime', 'run_date', 'snowfall', 'wind_direction_10m', 'wind_speed_10m']\n",
      "2025-05-27 12:21:27,946 - build_training_set - INFO - ❓ Price NaN count: 0/1920 (0.0%)\n",
      "2025-05-27 12:21:27,963 - build_training_set - INFO - ✅ Opgeslagen als training_set in WARP.db\n",
      "2025-05-27 12:21:27,964 - build_training_set - INFO - 🔒 Verbinding gesloten\n",
      "2025-05-27 12:23:56,975 - build_training_set - INFO - 🚀 Start build van trainingset\n",
      "2025-05-27 12:23:56,976 - build_training_set - INFO - 🧠 Actuals van 2025-01-13 00:00:00+00:00 t/m 2025-03-26 23:00:00+00:00\n",
      "2025-05-27 12:23:56,976 - build_training_set - INFO - 📅 Forecast van run_date 2025-03-27 00:00:00+00:00, target range: 2025-03-27 00:00:00+00:00 → 2025-04-02 23:00:00+00:00\n",
      "2025-05-27 12:23:57,003 - build_training_set - INFO - ✅ Actuals geladen: 1752 rijen\n"
     ]
    },
    {
     "name": "stdout",
     "output_type": "stream",
     "text": [
      "Day 12: 🧪 Best params: {'colsample_bytree': 1, 'gamma': 0, 'learning_rate': 0.05, 'max_depth': 5, 'n_estimators': 100, 'reg_alpha': 0, 'reg_lambda': 1, 'subsample': 0.6}\n",
      "Day 12: ✅ 167 test rows, Run: 03-26\n"
     ]
    },
    {
     "name": "stderr",
     "output_type": "stream",
     "text": [
      "2025-05-27 12:23:57,258 - build_training_set - INFO - ✅ Added actual prices to 168 forecast rows\n",
      "/Users/Twan/Library/Mobile Documents/com~apple~CloudDocs/Data Science/Data Projects EASI/ENEXIS/src/utils/build_training_set.py:106: FutureWarning: The behavior of DataFrame concatenation with empty or all-NA entries is deprecated. In a future version, this will no longer exclude empty or all-NA columns when determining the result dtypes. To retain the old behavior, exclude the relevant entries before the concat operation.\n",
      "  df_combined = pd.concat([df_actuals, df_preds], ignore_index=True)\n",
      "2025-05-27 12:23:57,269 - build_training_set - INFO - 📦 Eindtabel bevat: 1920 rijen, 31 kolommen\n",
      "2025-05-27 12:23:57,269 - build_training_set - INFO - 🧾 Kolommen: ['Price', 'target_datetime', 'Load', 'shortwave_radiation', 'temperature_2m', 'direct_normal_irradiance', 'diffuse_radiation', 'Flow_NO', 'yearday_cos', 'Flow_GB', 'month', 'is_dst', 'yearday_sin', 'is_non_working_day', 'hour_cos', 'is_weekend', 'cloud_cover', 'weekday_sin', 'hour_sin', 'weekday_cos', 'apparent_temperature', 'day_of_week', 'day_of_year', 'direct_radiation', 'hour', 'is_holiday', 'local_datetime', 'run_date', 'snowfall', 'wind_direction_10m', 'wind_speed_10m']\n",
      "2025-05-27 12:23:57,270 - build_training_set - INFO - ❓ Price NaN count: 0/1920 (0.0%)\n",
      "2025-05-27 12:23:57,294 - build_training_set - INFO - ✅ Opgeslagen als training_set in WARP.db\n",
      "2025-05-27 12:23:57,295 - build_training_set - INFO - 🔒 Verbinding gesloten\n",
      "2025-05-27 12:26:31,840 - build_training_set - INFO - 🚀 Start build van trainingset\n",
      "2025-05-27 12:26:31,844 - build_training_set - INFO - 🧠 Actuals van 2025-01-14 00:00:00+00:00 t/m 2025-03-27 23:00:00+00:00\n",
      "2025-05-27 12:26:31,845 - build_training_set - INFO - 📅 Forecast van run_date 2025-03-28 00:00:00+00:00, target range: 2025-03-28 00:00:00+00:00 → 2025-04-03 23:00:00+00:00\n",
      "2025-05-27 12:26:31,886 - build_training_set - INFO - ✅ Actuals geladen: 1752 rijen\n"
     ]
    },
    {
     "name": "stdout",
     "output_type": "stream",
     "text": [
      "Day 13: 🧪 Best params: {'colsample_bytree': 0.6, 'gamma': 0, 'learning_rate': 0.05, 'max_depth': 3, 'n_estimators': 100, 'reg_alpha': 0, 'reg_lambda': 1, 'subsample': 1}\n",
      "Day 13: ✅ 167 test rows, Run: 03-27\n"
     ]
    },
    {
     "name": "stderr",
     "output_type": "stream",
     "text": [
      "2025-05-27 12:26:32,154 - build_training_set - INFO - ✅ Added actual prices to 168 forecast rows\n",
      "/Users/Twan/Library/Mobile Documents/com~apple~CloudDocs/Data Science/Data Projects EASI/ENEXIS/src/utils/build_training_set.py:106: FutureWarning: The behavior of DataFrame concatenation with empty or all-NA entries is deprecated. In a future version, this will no longer exclude empty or all-NA columns when determining the result dtypes. To retain the old behavior, exclude the relevant entries before the concat operation.\n",
      "  df_combined = pd.concat([df_actuals, df_preds], ignore_index=True)\n",
      "2025-05-27 12:26:32,164 - build_training_set - INFO - 📦 Eindtabel bevat: 1920 rijen, 31 kolommen\n",
      "2025-05-27 12:26:32,164 - build_training_set - INFO - 🧾 Kolommen: ['Price', 'target_datetime', 'Load', 'shortwave_radiation', 'temperature_2m', 'direct_normal_irradiance', 'diffuse_radiation', 'Flow_NO', 'yearday_cos', 'Flow_GB', 'month', 'is_dst', 'yearday_sin', 'is_non_working_day', 'hour_cos', 'is_weekend', 'cloud_cover', 'weekday_sin', 'hour_sin', 'weekday_cos', 'apparent_temperature', 'day_of_week', 'day_of_year', 'direct_radiation', 'hour', 'is_holiday', 'local_datetime', 'run_date', 'snowfall', 'wind_direction_10m', 'wind_speed_10m']\n",
      "2025-05-27 12:26:32,164 - build_training_set - INFO - ❓ Price NaN count: 0/1920 (0.0%)\n",
      "2025-05-27 12:26:32,182 - build_training_set - INFO - ✅ Opgeslagen als training_set in WARP.db\n",
      "2025-05-27 12:26:32,182 - build_training_set - INFO - 🔒 Verbinding gesloten\n",
      "2025-05-27 12:29:06,092 - build_training_set - INFO - 🚀 Start build van trainingset\n",
      "2025-05-27 12:29:06,095 - build_training_set - INFO - 🧠 Actuals van 2025-01-15 00:00:00+00:00 t/m 2025-03-28 23:00:00+00:00\n",
      "2025-05-27 12:29:06,095 - build_training_set - INFO - 📅 Forecast van run_date 2025-03-29 00:00:00+00:00, target range: 2025-03-29 00:00:00+00:00 → 2025-04-04 23:00:00+00:00\n",
      "2025-05-27 12:29:06,129 - build_training_set - INFO - ✅ Actuals geladen: 1752 rijen\n"
     ]
    },
    {
     "name": "stdout",
     "output_type": "stream",
     "text": [
      "Day 14: 🧪 Best params: {'colsample_bytree': 0.8, 'gamma': 0, 'learning_rate': 0.01, 'max_depth': 3, 'n_estimators': 500, 'reg_alpha': 0, 'reg_lambda': 1, 'subsample': 0.6}\n",
      "Day 14: ✅ 167 test rows, Run: 03-28\n"
     ]
    },
    {
     "name": "stderr",
     "output_type": "stream",
     "text": [
      "2025-05-27 12:29:06,372 - build_training_set - INFO - ✅ Added actual prices to 168 forecast rows\n",
      "/Users/Twan/Library/Mobile Documents/com~apple~CloudDocs/Data Science/Data Projects EASI/ENEXIS/src/utils/build_training_set.py:106: FutureWarning: The behavior of DataFrame concatenation with empty or all-NA entries is deprecated. In a future version, this will no longer exclude empty or all-NA columns when determining the result dtypes. To retain the old behavior, exclude the relevant entries before the concat operation.\n",
      "  df_combined = pd.concat([df_actuals, df_preds], ignore_index=True)\n",
      "2025-05-27 12:29:06,382 - build_training_set - INFO - 📦 Eindtabel bevat: 1920 rijen, 31 kolommen\n",
      "2025-05-27 12:29:06,382 - build_training_set - INFO - 🧾 Kolommen: ['Price', 'target_datetime', 'Load', 'shortwave_radiation', 'temperature_2m', 'direct_normal_irradiance', 'diffuse_radiation', 'Flow_NO', 'yearday_cos', 'Flow_GB', 'month', 'is_dst', 'yearday_sin', 'is_non_working_day', 'hour_cos', 'is_weekend', 'cloud_cover', 'weekday_sin', 'hour_sin', 'weekday_cos', 'apparent_temperature', 'day_of_week', 'day_of_year', 'direct_radiation', 'hour', 'is_holiday', 'local_datetime', 'run_date', 'snowfall', 'wind_direction_10m', 'wind_speed_10m']\n",
      "2025-05-27 12:29:06,382 - build_training_set - INFO - ❓ Price NaN count: 0/1920 (0.0%)\n",
      "2025-05-27 12:29:06,400 - build_training_set - INFO - ✅ Opgeslagen als training_set in WARP.db\n",
      "2025-05-27 12:29:06,401 - build_training_set - INFO - 🔒 Verbinding gesloten\n",
      "2025-05-27 12:31:42,076 - build_training_set - INFO - 🚀 Start build van trainingset\n",
      "2025-05-27 12:31:42,080 - build_training_set - INFO - 🧠 Actuals van 2025-01-16 00:00:00+00:00 t/m 2025-03-29 23:00:00+00:00\n",
      "2025-05-27 12:31:42,081 - build_training_set - INFO - 📅 Forecast van run_date 2025-03-30 00:00:00+00:00, target range: 2025-03-30 00:00:00+00:00 → 2025-04-05 23:00:00+00:00\n",
      "2025-05-27 12:31:42,118 - build_training_set - INFO - ✅ Actuals geladen: 1752 rijen\n"
     ]
    },
    {
     "name": "stdout",
     "output_type": "stream",
     "text": [
      "Day 15: 🧪 Best params: {'colsample_bytree': 0.8, 'gamma': 0, 'learning_rate': 0.05, 'max_depth': 5, 'n_estimators': 100, 'reg_alpha': 0, 'reg_lambda': 1, 'subsample': 0.6}\n",
      "Day 15: ✅ 167 test rows, Run: 03-29\n"
     ]
    },
    {
     "name": "stderr",
     "output_type": "stream",
     "text": [
      "2025-05-27 12:31:42,375 - build_training_set - INFO - ✅ Added actual prices to 168 forecast rows\n",
      "/Users/Twan/Library/Mobile Documents/com~apple~CloudDocs/Data Science/Data Projects EASI/ENEXIS/src/utils/build_training_set.py:106: FutureWarning: The behavior of DataFrame concatenation with empty or all-NA entries is deprecated. In a future version, this will no longer exclude empty or all-NA columns when determining the result dtypes. To retain the old behavior, exclude the relevant entries before the concat operation.\n",
      "  df_combined = pd.concat([df_actuals, df_preds], ignore_index=True)\n",
      "2025-05-27 12:31:42,386 - build_training_set - INFO - 📦 Eindtabel bevat: 1920 rijen, 31 kolommen\n",
      "2025-05-27 12:31:42,386 - build_training_set - INFO - 🧾 Kolommen: ['Price', 'target_datetime', 'Load', 'shortwave_radiation', 'temperature_2m', 'direct_normal_irradiance', 'diffuse_radiation', 'Flow_NO', 'yearday_cos', 'Flow_GB', 'month', 'is_dst', 'yearday_sin', 'is_non_working_day', 'hour_cos', 'is_weekend', 'cloud_cover', 'weekday_sin', 'hour_sin', 'weekday_cos', 'apparent_temperature', 'day_of_week', 'day_of_year', 'direct_radiation', 'hour', 'is_holiday', 'local_datetime', 'run_date', 'snowfall', 'wind_direction_10m', 'wind_speed_10m']\n",
      "2025-05-27 12:31:42,386 - build_training_set - INFO - ❓ Price NaN count: 0/1920 (0.0%)\n",
      "2025-05-27 12:31:42,402 - build_training_set - INFO - ✅ Opgeslagen als training_set in WARP.db\n",
      "2025-05-27 12:31:42,403 - build_training_set - INFO - 🔒 Verbinding gesloten\n",
      "2025-05-27 12:34:15,426 - build_training_set - INFO - 🚀 Start build van trainingset\n",
      "2025-05-27 12:34:15,430 - build_training_set - INFO - 🧠 Actuals van 2025-01-17 00:00:00+00:00 t/m 2025-03-30 23:00:00+00:00\n",
      "2025-05-27 12:34:15,431 - build_training_set - INFO - 📅 Forecast van run_date 2025-03-31 00:00:00+00:00, target range: 2025-03-31 00:00:00+00:00 → 2025-04-06 23:00:00+00:00\n",
      "2025-05-27 12:34:15,470 - build_training_set - INFO - ✅ Actuals geladen: 1752 rijen\n"
     ]
    },
    {
     "name": "stdout",
     "output_type": "stream",
     "text": [
      "Day 16: 🧪 Best params: {'colsample_bytree': 1, 'gamma': 0, 'learning_rate': 0.05, 'max_depth': 3, 'n_estimators': 100, 'reg_alpha': 0, 'reg_lambda': 1, 'subsample': 0.6}\n",
      "Day 16: ✅ 167 test rows, Run: 03-30\n"
     ]
    },
    {
     "name": "stderr",
     "output_type": "stream",
     "text": [
      "2025-05-27 12:34:15,724 - build_training_set - INFO - ✅ Added actual prices to 168 forecast rows\n",
      "/Users/Twan/Library/Mobile Documents/com~apple~CloudDocs/Data Science/Data Projects EASI/ENEXIS/src/utils/build_training_set.py:106: FutureWarning: The behavior of DataFrame concatenation with empty or all-NA entries is deprecated. In a future version, this will no longer exclude empty or all-NA columns when determining the result dtypes. To retain the old behavior, exclude the relevant entries before the concat operation.\n",
      "  df_combined = pd.concat([df_actuals, df_preds], ignore_index=True)\n",
      "2025-05-27 12:34:15,734 - build_training_set - INFO - 📦 Eindtabel bevat: 1920 rijen, 31 kolommen\n",
      "2025-05-27 12:34:15,734 - build_training_set - INFO - 🧾 Kolommen: ['Price', 'target_datetime', 'Load', 'shortwave_radiation', 'temperature_2m', 'direct_normal_irradiance', 'diffuse_radiation', 'Flow_NO', 'yearday_cos', 'Flow_GB', 'month', 'is_dst', 'yearday_sin', 'is_non_working_day', 'hour_cos', 'is_weekend', 'cloud_cover', 'weekday_sin', 'hour_sin', 'weekday_cos', 'apparent_temperature', 'day_of_week', 'day_of_year', 'direct_radiation', 'hour', 'is_holiday', 'local_datetime', 'run_date', 'snowfall', 'wind_direction_10m', 'wind_speed_10m']\n",
      "2025-05-27 12:34:15,735 - build_training_set - INFO - ❓ Price NaN count: 0/1920 (0.0%)\n",
      "2025-05-27 12:34:15,751 - build_training_set - INFO - ✅ Opgeslagen als training_set in WARP.db\n",
      "2025-05-27 12:34:15,751 - build_training_set - INFO - 🔒 Verbinding gesloten\n",
      "2025-05-27 12:36:46,334 - build_training_set - INFO - 🚀 Start build van trainingset\n",
      "2025-05-27 12:36:46,338 - build_training_set - INFO - 🧠 Actuals van 2025-01-18 00:00:00+00:00 t/m 2025-03-31 23:00:00+00:00\n",
      "2025-05-27 12:36:46,339 - build_training_set - INFO - 📅 Forecast van run_date 2025-04-01 00:00:00+00:00, target range: 2025-04-01 00:00:00+00:00 → 2025-04-07 23:00:00+00:00\n",
      "2025-05-27 12:36:46,375 - build_training_set - INFO - ✅ Actuals geladen: 1752 rijen\n"
     ]
    },
    {
     "name": "stdout",
     "output_type": "stream",
     "text": [
      "Day 17: 🧪 Best params: {'colsample_bytree': 0.8, 'gamma': 0, 'learning_rate': 0.01, 'max_depth': 3, 'n_estimators': 500, 'reg_alpha': 0, 'reg_lambda': 1, 'subsample': 0.6}\n",
      "Day 17: ✅ 167 test rows, Run: 03-31\n"
     ]
    },
    {
     "name": "stderr",
     "output_type": "stream",
     "text": [
      "2025-05-27 12:36:46,623 - build_training_set - INFO - ✅ Added actual prices to 168 forecast rows\n",
      "/Users/Twan/Library/Mobile Documents/com~apple~CloudDocs/Data Science/Data Projects EASI/ENEXIS/src/utils/build_training_set.py:106: FutureWarning: The behavior of DataFrame concatenation with empty or all-NA entries is deprecated. In a future version, this will no longer exclude empty or all-NA columns when determining the result dtypes. To retain the old behavior, exclude the relevant entries before the concat operation.\n",
      "  df_combined = pd.concat([df_actuals, df_preds], ignore_index=True)\n",
      "2025-05-27 12:36:46,633 - build_training_set - INFO - 📦 Eindtabel bevat: 1920 rijen, 31 kolommen\n",
      "2025-05-27 12:36:46,633 - build_training_set - INFO - 🧾 Kolommen: ['Price', 'target_datetime', 'Load', 'shortwave_radiation', 'temperature_2m', 'direct_normal_irradiance', 'diffuse_radiation', 'Flow_NO', 'yearday_cos', 'Flow_GB', 'month', 'is_dst', 'yearday_sin', 'is_non_working_day', 'hour_cos', 'is_weekend', 'cloud_cover', 'weekday_sin', 'hour_sin', 'weekday_cos', 'apparent_temperature', 'day_of_week', 'day_of_year', 'direct_radiation', 'hour', 'is_holiday', 'local_datetime', 'run_date', 'snowfall', 'wind_direction_10m', 'wind_speed_10m']\n",
      "2025-05-27 12:36:46,633 - build_training_set - INFO - ❓ Price NaN count: 0/1920 (0.0%)\n",
      "2025-05-27 12:36:46,650 - build_training_set - INFO - ✅ Opgeslagen als training_set in WARP.db\n",
      "2025-05-27 12:36:46,650 - build_training_set - INFO - 🔒 Verbinding gesloten\n",
      "2025-05-27 12:39:16,715 - build_training_set - INFO - 🚀 Start build van trainingset\n",
      "2025-05-27 12:39:16,716 - build_training_set - INFO - 🧠 Actuals van 2025-01-19 00:00:00+00:00 t/m 2025-04-01 23:00:00+00:00\n",
      "2025-05-27 12:39:16,716 - build_training_set - INFO - 📅 Forecast van run_date 2025-04-02 00:00:00+00:00, target range: 2025-04-02 00:00:00+00:00 → 2025-04-08 23:00:00+00:00\n",
      "2025-05-27 12:39:16,743 - build_training_set - INFO - ✅ Actuals geladen: 1752 rijen\n"
     ]
    },
    {
     "name": "stdout",
     "output_type": "stream",
     "text": [
      "Day 18: 🧪 Best params: {'colsample_bytree': 0.8, 'gamma': 0, 'learning_rate': 0.01, 'max_depth': 3, 'n_estimators': 500, 'reg_alpha': 0, 'reg_lambda': 1, 'subsample': 0.6}\n",
      "Day 18: ✅ 167 test rows, Run: 04-01\n"
     ]
    },
    {
     "name": "stderr",
     "output_type": "stream",
     "text": [
      "2025-05-27 12:39:16,987 - build_training_set - INFO - ✅ Added actual prices to 168 forecast rows\n",
      "/Users/Twan/Library/Mobile Documents/com~apple~CloudDocs/Data Science/Data Projects EASI/ENEXIS/src/utils/build_training_set.py:106: FutureWarning: The behavior of DataFrame concatenation with empty or all-NA entries is deprecated. In a future version, this will no longer exclude empty or all-NA columns when determining the result dtypes. To retain the old behavior, exclude the relevant entries before the concat operation.\n",
      "  df_combined = pd.concat([df_actuals, df_preds], ignore_index=True)\n",
      "2025-05-27 12:39:16,996 - build_training_set - INFO - 📦 Eindtabel bevat: 1920 rijen, 31 kolommen\n",
      "2025-05-27 12:39:16,996 - build_training_set - INFO - 🧾 Kolommen: ['Price', 'target_datetime', 'Load', 'shortwave_radiation', 'temperature_2m', 'direct_normal_irradiance', 'diffuse_radiation', 'Flow_NO', 'yearday_cos', 'Flow_GB', 'month', 'is_dst', 'yearday_sin', 'is_non_working_day', 'hour_cos', 'is_weekend', 'cloud_cover', 'weekday_sin', 'hour_sin', 'weekday_cos', 'apparent_temperature', 'day_of_week', 'day_of_year', 'direct_radiation', 'hour', 'is_holiday', 'local_datetime', 'run_date', 'snowfall', 'wind_direction_10m', 'wind_speed_10m']\n",
      "2025-05-27 12:39:16,996 - build_training_set - INFO - ❓ Price NaN count: 0/1920 (0.0%)\n",
      "2025-05-27 12:39:17,013 - build_training_set - INFO - ✅ Opgeslagen als training_set in WARP.db\n",
      "2025-05-27 12:39:17,013 - build_training_set - INFO - 🔒 Verbinding gesloten\n",
      "2025-05-27 12:41:57,426 - build_training_set - INFO - 🚀 Start build van trainingset\n",
      "2025-05-27 12:41:57,429 - build_training_set - INFO - 🧠 Actuals van 2025-01-20 00:00:00+00:00 t/m 2025-04-02 23:00:00+00:00\n",
      "2025-05-27 12:41:57,429 - build_training_set - INFO - 📅 Forecast van run_date 2025-04-03 00:00:00+00:00, target range: 2025-04-03 00:00:00+00:00 → 2025-04-09 23:00:00+00:00\n",
      "2025-05-27 12:41:57,470 - build_training_set - INFO - ✅ Actuals geladen: 1752 rijen\n"
     ]
    },
    {
     "name": "stdout",
     "output_type": "stream",
     "text": [
      "Day 19: 🧪 Best params: {'colsample_bytree': 0.6, 'gamma': 0, 'learning_rate': 0.05, 'max_depth': 3, 'n_estimators': 100, 'reg_alpha': 0, 'reg_lambda': 1.5, 'subsample': 0.8}\n",
      "Day 19: ✅ 167 test rows, Run: 04-02\n"
     ]
    },
    {
     "name": "stderr",
     "output_type": "stream",
     "text": [
      "2025-05-27 12:41:57,729 - build_training_set - INFO - ✅ Added actual prices to 168 forecast rows\n",
      "/Users/Twan/Library/Mobile Documents/com~apple~CloudDocs/Data Science/Data Projects EASI/ENEXIS/src/utils/build_training_set.py:106: FutureWarning: The behavior of DataFrame concatenation with empty or all-NA entries is deprecated. In a future version, this will no longer exclude empty or all-NA columns when determining the result dtypes. To retain the old behavior, exclude the relevant entries before the concat operation.\n",
      "  df_combined = pd.concat([df_actuals, df_preds], ignore_index=True)\n",
      "2025-05-27 12:41:57,740 - build_training_set - INFO - 📦 Eindtabel bevat: 1920 rijen, 31 kolommen\n",
      "2025-05-27 12:41:57,741 - build_training_set - INFO - 🧾 Kolommen: ['Price', 'target_datetime', 'Load', 'shortwave_radiation', 'temperature_2m', 'direct_normal_irradiance', 'diffuse_radiation', 'Flow_NO', 'yearday_cos', 'Flow_GB', 'month', 'is_dst', 'yearday_sin', 'is_non_working_day', 'hour_cos', 'is_weekend', 'cloud_cover', 'weekday_sin', 'hour_sin', 'weekday_cos', 'apparent_temperature', 'day_of_week', 'day_of_year', 'direct_radiation', 'hour', 'is_holiday', 'local_datetime', 'run_date', 'snowfall', 'wind_direction_10m', 'wind_speed_10m']\n",
      "2025-05-27 12:41:57,741 - build_training_set - INFO - ❓ Price NaN count: 0/1920 (0.0%)\n",
      "2025-05-27 12:41:57,758 - build_training_set - INFO - ✅ Opgeslagen als training_set in WARP.db\n",
      "2025-05-27 12:41:57,759 - build_training_set - INFO - 🔒 Verbinding gesloten\n",
      "2025-05-27 12:44:32,352 - build_training_set - INFO - 🚀 Start build van trainingset\n",
      "2025-05-27 12:44:32,355 - build_training_set - INFO - 🧠 Actuals van 2025-01-21 00:00:00+00:00 t/m 2025-04-03 23:00:00+00:00\n",
      "2025-05-27 12:44:32,356 - build_training_set - INFO - 📅 Forecast van run_date 2025-04-04 00:00:00+00:00, target range: 2025-04-04 00:00:00+00:00 → 2025-04-10 23:00:00+00:00\n",
      "2025-05-27 12:44:32,396 - build_training_set - INFO - ✅ Actuals geladen: 1752 rijen\n"
     ]
    },
    {
     "name": "stdout",
     "output_type": "stream",
     "text": [
      "Day 20: 🧪 Best params: {'colsample_bytree': 0.8, 'gamma': 0, 'learning_rate': 0.01, 'max_depth': 3, 'n_estimators': 500, 'reg_alpha': 0, 'reg_lambda': 1, 'subsample': 0.6}\n",
      "Day 20: ✅ 167 test rows, Run: 04-03\n"
     ]
    },
    {
     "name": "stderr",
     "output_type": "stream",
     "text": [
      "2025-05-27 12:44:32,638 - build_training_set - INFO - ✅ Added actual prices to 168 forecast rows\n",
      "/Users/Twan/Library/Mobile Documents/com~apple~CloudDocs/Data Science/Data Projects EASI/ENEXIS/src/utils/build_training_set.py:106: FutureWarning: The behavior of DataFrame concatenation with empty or all-NA entries is deprecated. In a future version, this will no longer exclude empty or all-NA columns when determining the result dtypes. To retain the old behavior, exclude the relevant entries before the concat operation.\n",
      "  df_combined = pd.concat([df_actuals, df_preds], ignore_index=True)\n",
      "2025-05-27 12:44:32,648 - build_training_set - INFO - 📦 Eindtabel bevat: 1920 rijen, 31 kolommen\n",
      "2025-05-27 12:44:32,648 - build_training_set - INFO - 🧾 Kolommen: ['Price', 'target_datetime', 'Load', 'shortwave_radiation', 'temperature_2m', 'direct_normal_irradiance', 'diffuse_radiation', 'Flow_NO', 'yearday_cos', 'Flow_GB', 'month', 'is_dst', 'yearday_sin', 'is_non_working_day', 'hour_cos', 'is_weekend', 'cloud_cover', 'weekday_sin', 'hour_sin', 'weekday_cos', 'apparent_temperature', 'day_of_week', 'day_of_year', 'direct_radiation', 'hour', 'is_holiday', 'local_datetime', 'run_date', 'snowfall', 'wind_direction_10m', 'wind_speed_10m']\n",
      "2025-05-27 12:44:32,649 - build_training_set - INFO - ❓ Price NaN count: 0/1920 (0.0%)\n",
      "2025-05-27 12:44:32,666 - build_training_set - INFO - ✅ Opgeslagen als training_set in WARP.db\n",
      "2025-05-27 12:44:32,667 - build_training_set - INFO - 🔒 Verbinding gesloten\n",
      "2025-05-27 12:47:07,312 - build_training_set - INFO - 🚀 Start build van trainingset\n",
      "2025-05-27 12:47:07,312 - build_training_set - INFO - 🧠 Actuals van 2025-01-22 00:00:00+00:00 t/m 2025-04-04 23:00:00+00:00\n",
      "2025-05-27 12:47:07,312 - build_training_set - INFO - 📅 Forecast van run_date 2025-04-05 00:00:00+00:00, target range: 2025-04-05 00:00:00+00:00 → 2025-04-11 23:00:00+00:00\n",
      "2025-05-27 12:47:07,339 - build_training_set - INFO - ✅ Actuals geladen: 1752 rijen\n"
     ]
    },
    {
     "name": "stdout",
     "output_type": "stream",
     "text": [
      "Day 21: 🧪 Best params: {'colsample_bytree': 1, 'gamma': 0, 'learning_rate': 0.05, 'max_depth': 3, 'n_estimators': 100, 'reg_alpha': 0.1, 'reg_lambda': 2, 'subsample': 1}\n",
      "Day 21: ✅ 167 test rows, Run: 04-04\n"
     ]
    },
    {
     "name": "stderr",
     "output_type": "stream",
     "text": [
      "2025-05-27 12:47:07,594 - build_training_set - INFO - ✅ Added actual prices to 168 forecast rows\n",
      "/Users/Twan/Library/Mobile Documents/com~apple~CloudDocs/Data Science/Data Projects EASI/ENEXIS/src/utils/build_training_set.py:106: FutureWarning: The behavior of DataFrame concatenation with empty or all-NA entries is deprecated. In a future version, this will no longer exclude empty or all-NA columns when determining the result dtypes. To retain the old behavior, exclude the relevant entries before the concat operation.\n",
      "  df_combined = pd.concat([df_actuals, df_preds], ignore_index=True)\n",
      "2025-05-27 12:47:07,604 - build_training_set - INFO - 📦 Eindtabel bevat: 1920 rijen, 31 kolommen\n",
      "2025-05-27 12:47:07,604 - build_training_set - INFO - 🧾 Kolommen: ['Price', 'target_datetime', 'Load', 'shortwave_radiation', 'temperature_2m', 'direct_normal_irradiance', 'diffuse_radiation', 'Flow_NO', 'yearday_cos', 'Flow_GB', 'month', 'is_dst', 'yearday_sin', 'is_non_working_day', 'hour_cos', 'is_weekend', 'cloud_cover', 'weekday_sin', 'hour_sin', 'weekday_cos', 'apparent_temperature', 'day_of_week', 'day_of_year', 'direct_radiation', 'hour', 'is_holiday', 'local_datetime', 'run_date', 'snowfall', 'wind_direction_10m', 'wind_speed_10m']\n",
      "2025-05-27 12:47:07,604 - build_training_set - INFO - ❓ Price NaN count: 0/1920 (0.0%)\n",
      "2025-05-27 12:47:07,621 - build_training_set - INFO - ✅ Opgeslagen als training_set in WARP.db\n",
      "2025-05-27 12:47:07,621 - build_training_set - INFO - 🔒 Verbinding gesloten\n",
      "2025-05-27 12:49:40,373 - build_training_set - INFO - 🚀 Start build van trainingset\n",
      "2025-05-27 12:49:40,374 - build_training_set - INFO - 🧠 Actuals van 2025-01-23 00:00:00+00:00 t/m 2025-04-05 23:00:00+00:00\n",
      "2025-05-27 12:49:40,374 - build_training_set - INFO - 📅 Forecast van run_date 2025-04-06 00:00:00+00:00, target range: 2025-04-06 00:00:00+00:00 → 2025-04-12 23:00:00+00:00\n",
      "2025-05-27 12:49:40,403 - build_training_set - INFO - ✅ Actuals geladen: 1752 rijen\n"
     ]
    },
    {
     "name": "stdout",
     "output_type": "stream",
     "text": [
      "Day 22: 🧪 Best params: {'colsample_bytree': 1, 'gamma': 0, 'learning_rate': 0.01, 'max_depth': 3, 'n_estimators': 300, 'reg_alpha': 0, 'reg_lambda': 1, 'subsample': 0.6}\n",
      "Day 22: ✅ 167 test rows, Run: 04-05\n"
     ]
    },
    {
     "name": "stderr",
     "output_type": "stream",
     "text": [
      "2025-05-27 12:49:40,652 - build_training_set - INFO - ✅ Added actual prices to 168 forecast rows\n",
      "/Users/Twan/Library/Mobile Documents/com~apple~CloudDocs/Data Science/Data Projects EASI/ENEXIS/src/utils/build_training_set.py:106: FutureWarning: The behavior of DataFrame concatenation with empty or all-NA entries is deprecated. In a future version, this will no longer exclude empty or all-NA columns when determining the result dtypes. To retain the old behavior, exclude the relevant entries before the concat operation.\n",
      "  df_combined = pd.concat([df_actuals, df_preds], ignore_index=True)\n",
      "2025-05-27 12:49:40,661 - build_training_set - INFO - 📦 Eindtabel bevat: 1920 rijen, 31 kolommen\n",
      "2025-05-27 12:49:40,662 - build_training_set - INFO - 🧾 Kolommen: ['Price', 'target_datetime', 'Load', 'shortwave_radiation', 'temperature_2m', 'direct_normal_irradiance', 'diffuse_radiation', 'Flow_NO', 'yearday_cos', 'Flow_GB', 'month', 'is_dst', 'yearday_sin', 'is_non_working_day', 'hour_cos', 'is_weekend', 'cloud_cover', 'weekday_sin', 'hour_sin', 'weekday_cos', 'apparent_temperature', 'day_of_week', 'day_of_year', 'direct_radiation', 'hour', 'is_holiday', 'local_datetime', 'run_date', 'snowfall', 'wind_direction_10m', 'wind_speed_10m']\n",
      "2025-05-27 12:49:40,662 - build_training_set - INFO - ❓ Price NaN count: 0/1920 (0.0%)\n",
      "2025-05-27 12:49:40,680 - build_training_set - INFO - ✅ Opgeslagen als training_set in WARP.db\n",
      "2025-05-27 12:49:40,681 - build_training_set - INFO - 🔒 Verbinding gesloten\n",
      "2025-05-27 12:52:18,500 - build_training_set - INFO - 🚀 Start build van trainingset\n",
      "2025-05-27 12:52:18,505 - build_training_set - INFO - 🧠 Actuals van 2025-01-24 00:00:00+00:00 t/m 2025-04-06 23:00:00+00:00\n",
      "2025-05-27 12:52:18,506 - build_training_set - INFO - 📅 Forecast van run_date 2025-04-07 00:00:00+00:00, target range: 2025-04-07 00:00:00+00:00 → 2025-04-13 23:00:00+00:00\n",
      "2025-05-27 12:52:18,544 - build_training_set - INFO - ✅ Actuals geladen: 1752 rijen\n"
     ]
    },
    {
     "name": "stdout",
     "output_type": "stream",
     "text": [
      "Day 23: 🧪 Best params: {'colsample_bytree': 1, 'gamma': 0, 'learning_rate': 0.01, 'max_depth': 3, 'n_estimators': 300, 'reg_alpha': 0, 'reg_lambda': 1, 'subsample': 0.6}\n",
      "Day 23: ✅ 167 test rows, Run: 04-06\n"
     ]
    },
    {
     "name": "stderr",
     "output_type": "stream",
     "text": [
      "2025-05-27 12:52:18,791 - build_training_set - INFO - ✅ Added actual prices to 168 forecast rows\n",
      "/Users/Twan/Library/Mobile Documents/com~apple~CloudDocs/Data Science/Data Projects EASI/ENEXIS/src/utils/build_training_set.py:106: FutureWarning: The behavior of DataFrame concatenation with empty or all-NA entries is deprecated. In a future version, this will no longer exclude empty or all-NA columns when determining the result dtypes. To retain the old behavior, exclude the relevant entries before the concat operation.\n",
      "  df_combined = pd.concat([df_actuals, df_preds], ignore_index=True)\n",
      "2025-05-27 12:52:18,800 - build_training_set - INFO - 📦 Eindtabel bevat: 1920 rijen, 31 kolommen\n",
      "2025-05-27 12:52:18,801 - build_training_set - INFO - 🧾 Kolommen: ['Price', 'target_datetime', 'Load', 'shortwave_radiation', 'temperature_2m', 'direct_normal_irradiance', 'diffuse_radiation', 'Flow_NO', 'yearday_cos', 'Flow_GB', 'month', 'is_dst', 'yearday_sin', 'is_non_working_day', 'hour_cos', 'is_weekend', 'cloud_cover', 'weekday_sin', 'hour_sin', 'weekday_cos', 'apparent_temperature', 'day_of_week', 'day_of_year', 'direct_radiation', 'hour', 'is_holiday', 'local_datetime', 'run_date', 'snowfall', 'wind_direction_10m', 'wind_speed_10m']\n",
      "2025-05-27 12:52:18,801 - build_training_set - INFO - ❓ Price NaN count: 0/1920 (0.0%)\n",
      "2025-05-27 12:52:18,817 - build_training_set - INFO - ✅ Opgeslagen als training_set in WARP.db\n",
      "2025-05-27 12:52:18,818 - build_training_set - INFO - 🔒 Verbinding gesloten\n",
      "2025-05-27 12:55:01,634 - build_training_set - INFO - 🚀 Start build van trainingset\n",
      "2025-05-27 12:55:01,641 - build_training_set - INFO - 🧠 Actuals van 2025-01-25 00:00:00+00:00 t/m 2025-04-07 23:00:00+00:00\n",
      "2025-05-27 12:55:01,642 - build_training_set - INFO - 📅 Forecast van run_date 2025-04-08 00:00:00+00:00, target range: 2025-04-08 00:00:00+00:00 → 2025-04-14 23:00:00+00:00\n",
      "2025-05-27 12:55:01,685 - build_training_set - INFO - ✅ Actuals geladen: 1752 rijen\n"
     ]
    },
    {
     "name": "stdout",
     "output_type": "stream",
     "text": [
      "Day 24: 🧪 Best params: {'colsample_bytree': 1, 'gamma': 0, 'learning_rate': 0.01, 'max_depth': 3, 'n_estimators': 300, 'reg_alpha': 0, 'reg_lambda': 1, 'subsample': 0.6}\n",
      "Day 24: ✅ 167 test rows, Run: 04-07\n"
     ]
    },
    {
     "name": "stderr",
     "output_type": "stream",
     "text": [
      "2025-05-27 12:55:01,978 - build_training_set - INFO - ✅ Added actual prices to 168 forecast rows\n",
      "/Users/Twan/Library/Mobile Documents/com~apple~CloudDocs/Data Science/Data Projects EASI/ENEXIS/src/utils/build_training_set.py:106: FutureWarning: The behavior of DataFrame concatenation with empty or all-NA entries is deprecated. In a future version, this will no longer exclude empty or all-NA columns when determining the result dtypes. To retain the old behavior, exclude the relevant entries before the concat operation.\n",
      "  df_combined = pd.concat([df_actuals, df_preds], ignore_index=True)\n",
      "2025-05-27 12:55:01,990 - build_training_set - INFO - 📦 Eindtabel bevat: 1920 rijen, 31 kolommen\n",
      "2025-05-27 12:55:01,990 - build_training_set - INFO - 🧾 Kolommen: ['Price', 'target_datetime', 'Load', 'shortwave_radiation', 'temperature_2m', 'direct_normal_irradiance', 'diffuse_radiation', 'Flow_NO', 'yearday_cos', 'Flow_GB', 'month', 'is_dst', 'yearday_sin', 'is_non_working_day', 'hour_cos', 'is_weekend', 'cloud_cover', 'weekday_sin', 'hour_sin', 'weekday_cos', 'apparent_temperature', 'day_of_week', 'day_of_year', 'direct_radiation', 'hour', 'is_holiday', 'local_datetime', 'run_date', 'snowfall', 'wind_direction_10m', 'wind_speed_10m']\n",
      "2025-05-27 12:55:01,990 - build_training_set - INFO - ❓ Price NaN count: 0/1920 (0.0%)\n",
      "2025-05-27 12:55:02,007 - build_training_set - INFO - ✅ Opgeslagen als training_set in WARP.db\n",
      "2025-05-27 12:55:02,008 - build_training_set - INFO - 🔒 Verbinding gesloten\n",
      "2025-05-27 12:57:47,972 - build_training_set - INFO - 🚀 Start build van trainingset\n",
      "2025-05-27 12:57:47,976 - build_training_set - INFO - 🧠 Actuals van 2025-01-26 00:00:00+00:00 t/m 2025-04-08 23:00:00+00:00\n",
      "2025-05-27 12:57:47,976 - build_training_set - INFO - 📅 Forecast van run_date 2025-04-09 00:00:00+00:00, target range: 2025-04-09 00:00:00+00:00 → 2025-04-15 23:00:00+00:00\n",
      "2025-05-27 12:57:48,014 - build_training_set - INFO - ✅ Actuals geladen: 1752 rijen\n"
     ]
    },
    {
     "name": "stdout",
     "output_type": "stream",
     "text": [
      "Day 25: 🧪 Best params: {'colsample_bytree': 1, 'gamma': 0, 'learning_rate': 0.01, 'max_depth': 3, 'n_estimators': 300, 'reg_alpha': 0, 'reg_lambda': 1, 'subsample': 0.6}\n",
      "Day 25: ✅ 167 test rows, Run: 04-08\n"
     ]
    },
    {
     "name": "stderr",
     "output_type": "stream",
     "text": [
      "2025-05-27 12:57:48,269 - build_training_set - INFO - ✅ Added actual prices to 168 forecast rows\n",
      "/Users/Twan/Library/Mobile Documents/com~apple~CloudDocs/Data Science/Data Projects EASI/ENEXIS/src/utils/build_training_set.py:106: FutureWarning: The behavior of DataFrame concatenation with empty or all-NA entries is deprecated. In a future version, this will no longer exclude empty or all-NA columns when determining the result dtypes. To retain the old behavior, exclude the relevant entries before the concat operation.\n",
      "  df_combined = pd.concat([df_actuals, df_preds], ignore_index=True)\n",
      "2025-05-27 12:57:48,279 - build_training_set - INFO - 📦 Eindtabel bevat: 1920 rijen, 31 kolommen\n",
      "2025-05-27 12:57:48,279 - build_training_set - INFO - 🧾 Kolommen: ['Price', 'target_datetime', 'Load', 'shortwave_radiation', 'temperature_2m', 'direct_normal_irradiance', 'diffuse_radiation', 'Flow_NO', 'yearday_cos', 'Flow_GB', 'month', 'is_dst', 'yearday_sin', 'is_non_working_day', 'hour_cos', 'is_weekend', 'cloud_cover', 'weekday_sin', 'hour_sin', 'weekday_cos', 'apparent_temperature', 'day_of_week', 'day_of_year', 'direct_radiation', 'hour', 'is_holiday', 'local_datetime', 'run_date', 'snowfall', 'wind_direction_10m', 'wind_speed_10m']\n",
      "2025-05-27 12:57:48,279 - build_training_set - INFO - ❓ Price NaN count: 0/1920 (0.0%)\n",
      "2025-05-27 12:57:48,298 - build_training_set - INFO - ✅ Opgeslagen als training_set in WARP.db\n",
      "2025-05-27 12:57:48,299 - build_training_set - INFO - 🔒 Verbinding gesloten\n",
      "2025-05-27 13:00:37,161 - build_training_set - INFO - 🚀 Start build van trainingset\n",
      "2025-05-27 13:00:37,164 - build_training_set - INFO - 🧠 Actuals van 2025-01-27 00:00:00+00:00 t/m 2025-04-09 23:00:00+00:00\n",
      "2025-05-27 13:00:37,165 - build_training_set - INFO - 📅 Forecast van run_date 2025-04-10 00:00:00+00:00, target range: 2025-04-10 00:00:00+00:00 → 2025-04-16 23:00:00+00:00\n",
      "2025-05-27 13:00:37,203 - build_training_set - INFO - ✅ Actuals geladen: 1752 rijen\n"
     ]
    },
    {
     "name": "stdout",
     "output_type": "stream",
     "text": [
      "Day 26: 🧪 Best params: {'colsample_bytree': 1, 'gamma': 0, 'learning_rate': 0.01, 'max_depth': 3, 'n_estimators': 300, 'reg_alpha': 0, 'reg_lambda': 1, 'subsample': 0.6}\n",
      "Day 26: ✅ 167 test rows, Run: 04-09\n"
     ]
    },
    {
     "name": "stderr",
     "output_type": "stream",
     "text": [
      "2025-05-27 13:00:37,463 - build_training_set - INFO - ✅ Added actual prices to 168 forecast rows\n",
      "/Users/Twan/Library/Mobile Documents/com~apple~CloudDocs/Data Science/Data Projects EASI/ENEXIS/src/utils/build_training_set.py:106: FutureWarning: The behavior of DataFrame concatenation with empty or all-NA entries is deprecated. In a future version, this will no longer exclude empty or all-NA columns when determining the result dtypes. To retain the old behavior, exclude the relevant entries before the concat operation.\n",
      "  df_combined = pd.concat([df_actuals, df_preds], ignore_index=True)\n",
      "2025-05-27 13:00:37,475 - build_training_set - INFO - 📦 Eindtabel bevat: 1920 rijen, 31 kolommen\n",
      "2025-05-27 13:00:37,475 - build_training_set - INFO - 🧾 Kolommen: ['Price', 'target_datetime', 'Load', 'shortwave_radiation', 'temperature_2m', 'direct_normal_irradiance', 'diffuse_radiation', 'Flow_NO', 'yearday_cos', 'Flow_GB', 'month', 'is_dst', 'yearday_sin', 'is_non_working_day', 'hour_cos', 'is_weekend', 'cloud_cover', 'weekday_sin', 'hour_sin', 'weekday_cos', 'apparent_temperature', 'day_of_week', 'day_of_year', 'direct_radiation', 'hour', 'is_holiday', 'local_datetime', 'run_date', 'snowfall', 'wind_direction_10m', 'wind_speed_10m']\n",
      "2025-05-27 13:00:37,476 - build_training_set - INFO - ❓ Price NaN count: 0/1920 (0.0%)\n",
      "2025-05-27 13:00:37,494 - build_training_set - INFO - ✅ Opgeslagen als training_set in WARP.db\n",
      "2025-05-27 13:00:37,494 - build_training_set - INFO - 🔒 Verbinding gesloten\n",
      "2025-05-27 13:03:20,741 - build_training_set - INFO - 🚀 Start build van trainingset\n",
      "2025-05-27 13:03:20,745 - build_training_set - INFO - 🧠 Actuals van 2025-01-28 00:00:00+00:00 t/m 2025-04-10 23:00:00+00:00\n",
      "2025-05-27 13:03:20,746 - build_training_set - INFO - 📅 Forecast van run_date 2025-04-11 00:00:00+00:00, target range: 2025-04-11 00:00:00+00:00 → 2025-04-17 23:00:00+00:00\n",
      "2025-05-27 13:03:20,785 - build_training_set - INFO - ✅ Actuals geladen: 1752 rijen\n"
     ]
    },
    {
     "name": "stdout",
     "output_type": "stream",
     "text": [
      "Day 27: 🧪 Best params: {'colsample_bytree': 1, 'gamma': 0, 'learning_rate': 0.01, 'max_depth': 3, 'n_estimators': 300, 'reg_alpha': 0, 'reg_lambda': 1, 'subsample': 0.6}\n",
      "Day 27: ✅ 167 test rows, Run: 04-10\n"
     ]
    },
    {
     "name": "stderr",
     "output_type": "stream",
     "text": [
      "2025-05-27 13:03:21,036 - build_training_set - INFO - ✅ Added actual prices to 168 forecast rows\n",
      "/Users/Twan/Library/Mobile Documents/com~apple~CloudDocs/Data Science/Data Projects EASI/ENEXIS/src/utils/build_training_set.py:106: FutureWarning: The behavior of DataFrame concatenation with empty or all-NA entries is deprecated. In a future version, this will no longer exclude empty or all-NA columns when determining the result dtypes. To retain the old behavior, exclude the relevant entries before the concat operation.\n",
      "  df_combined = pd.concat([df_actuals, df_preds], ignore_index=True)\n",
      "2025-05-27 13:03:21,046 - build_training_set - INFO - 📦 Eindtabel bevat: 1920 rijen, 31 kolommen\n",
      "2025-05-27 13:03:21,046 - build_training_set - INFO - 🧾 Kolommen: ['Price', 'target_datetime', 'Load', 'shortwave_radiation', 'temperature_2m', 'direct_normal_irradiance', 'diffuse_radiation', 'Flow_NO', 'yearday_cos', 'Flow_GB', 'month', 'is_dst', 'yearday_sin', 'is_non_working_day', 'hour_cos', 'is_weekend', 'cloud_cover', 'weekday_sin', 'hour_sin', 'weekday_cos', 'apparent_temperature', 'day_of_week', 'day_of_year', 'direct_radiation', 'hour', 'is_holiday', 'local_datetime', 'run_date', 'snowfall', 'wind_direction_10m', 'wind_speed_10m']\n",
      "2025-05-27 13:03:21,046 - build_training_set - INFO - ❓ Price NaN count: 0/1920 (0.0%)\n",
      "2025-05-27 13:03:21,063 - build_training_set - INFO - ✅ Opgeslagen als training_set in WARP.db\n",
      "2025-05-27 13:03:21,064 - build_training_set - INFO - 🔒 Verbinding gesloten\n",
      "2025-05-27 13:06:05,086 - build_training_set - INFO - 🚀 Start build van trainingset\n",
      "2025-05-27 13:06:05,089 - build_training_set - INFO - 🧠 Actuals van 2025-01-29 00:00:00+00:00 t/m 2025-04-11 23:00:00+00:00\n",
      "2025-05-27 13:06:05,089 - build_training_set - INFO - 📅 Forecast van run_date 2025-04-12 00:00:00+00:00, target range: 2025-04-12 00:00:00+00:00 → 2025-04-18 23:00:00+00:00\n",
      "2025-05-27 13:06:05,128 - build_training_set - INFO - ✅ Actuals geladen: 1752 rijen\n"
     ]
    },
    {
     "name": "stdout",
     "output_type": "stream",
     "text": [
      "Day 28: 🧪 Best params: {'colsample_bytree': 1, 'gamma': 0, 'learning_rate': 0.01, 'max_depth': 3, 'n_estimators': 300, 'reg_alpha': 0, 'reg_lambda': 1.5, 'subsample': 0.6}\n",
      "Day 28: ✅ 167 test rows, Run: 04-11\n"
     ]
    },
    {
     "name": "stderr",
     "output_type": "stream",
     "text": [
      "2025-05-27 13:06:05,382 - build_training_set - INFO - ✅ Added actual prices to 168 forecast rows\n",
      "/Users/Twan/Library/Mobile Documents/com~apple~CloudDocs/Data Science/Data Projects EASI/ENEXIS/src/utils/build_training_set.py:106: FutureWarning: The behavior of DataFrame concatenation with empty or all-NA entries is deprecated. In a future version, this will no longer exclude empty or all-NA columns when determining the result dtypes. To retain the old behavior, exclude the relevant entries before the concat operation.\n",
      "  df_combined = pd.concat([df_actuals, df_preds], ignore_index=True)\n",
      "2025-05-27 13:06:05,393 - build_training_set - INFO - 📦 Eindtabel bevat: 1920 rijen, 31 kolommen\n",
      "2025-05-27 13:06:05,393 - build_training_set - INFO - 🧾 Kolommen: ['Price', 'target_datetime', 'Load', 'shortwave_radiation', 'temperature_2m', 'direct_normal_irradiance', 'diffuse_radiation', 'Flow_NO', 'yearday_cos', 'Flow_GB', 'month', 'is_dst', 'yearday_sin', 'is_non_working_day', 'hour_cos', 'is_weekend', 'cloud_cover', 'weekday_sin', 'hour_sin', 'weekday_cos', 'apparent_temperature', 'day_of_week', 'day_of_year', 'direct_radiation', 'hour', 'is_holiday', 'local_datetime', 'run_date', 'snowfall', 'wind_direction_10m', 'wind_speed_10m']\n",
      "2025-05-27 13:06:05,393 - build_training_set - INFO - ❓ Price NaN count: 0/1920 (0.0%)\n",
      "2025-05-27 13:06:05,413 - build_training_set - INFO - ✅ Opgeslagen als training_set in WARP.db\n",
      "2025-05-27 13:06:05,414 - build_training_set - INFO - 🔒 Verbinding gesloten\n",
      "2025-05-27 13:08:51,789 - build_training_set - INFO - 🚀 Start build van trainingset\n",
      "2025-05-27 13:08:51,792 - build_training_set - INFO - 🧠 Actuals van 2025-01-30 00:00:00+00:00 t/m 2025-04-12 23:00:00+00:00\n",
      "2025-05-27 13:08:51,792 - build_training_set - INFO - 📅 Forecast van run_date 2025-04-13 00:00:00+00:00, target range: 2025-04-13 00:00:00+00:00 → 2025-04-19 23:00:00+00:00\n",
      "2025-05-27 13:08:51,829 - build_training_set - INFO - ✅ Actuals geladen: 1752 rijen\n"
     ]
    },
    {
     "name": "stdout",
     "output_type": "stream",
     "text": [
      "Day 29: 🧪 Best params: {'colsample_bytree': 1, 'gamma': 0, 'learning_rate': 0.01, 'max_depth': 3, 'n_estimators': 500, 'reg_alpha': 0.1, 'reg_lambda': 1, 'subsample': 0.8}\n",
      "Day 29: ✅ 167 test rows, Run: 04-12\n"
     ]
    },
    {
     "name": "stderr",
     "output_type": "stream",
     "text": [
      "2025-05-27 13:08:52,078 - build_training_set - INFO - ✅ Added actual prices to 168 forecast rows\n",
      "/Users/Twan/Library/Mobile Documents/com~apple~CloudDocs/Data Science/Data Projects EASI/ENEXIS/src/utils/build_training_set.py:106: FutureWarning: The behavior of DataFrame concatenation with empty or all-NA entries is deprecated. In a future version, this will no longer exclude empty or all-NA columns when determining the result dtypes. To retain the old behavior, exclude the relevant entries before the concat operation.\n",
      "  df_combined = pd.concat([df_actuals, df_preds], ignore_index=True)\n",
      "2025-05-27 13:08:52,088 - build_training_set - INFO - 📦 Eindtabel bevat: 1920 rijen, 31 kolommen\n",
      "2025-05-27 13:08:52,089 - build_training_set - INFO - 🧾 Kolommen: ['Price', 'target_datetime', 'Load', 'shortwave_radiation', 'temperature_2m', 'direct_normal_irradiance', 'diffuse_radiation', 'Flow_NO', 'yearday_cos', 'Flow_GB', 'month', 'is_dst', 'yearday_sin', 'is_non_working_day', 'hour_cos', 'is_weekend', 'cloud_cover', 'weekday_sin', 'hour_sin', 'weekday_cos', 'apparent_temperature', 'day_of_week', 'day_of_year', 'direct_radiation', 'hour', 'is_holiday', 'local_datetime', 'run_date', 'snowfall', 'wind_direction_10m', 'wind_speed_10m']\n",
      "2025-05-27 13:08:52,089 - build_training_set - INFO - ❓ Price NaN count: 0/1920 (0.0%)\n",
      "2025-05-27 13:08:52,106 - build_training_set - INFO - ✅ Opgeslagen als training_set in WARP.db\n",
      "2025-05-27 13:08:52,106 - build_training_set - INFO - 🔒 Verbinding gesloten\n"
     ]
    },
    {
     "name": "stdout",
     "output_type": "stream",
     "text": [
      "Day 30: 🧪 Best params: {'colsample_bytree': 0.8, 'gamma': 0, 'learning_rate': 0.05, 'max_depth': 3, 'n_estimators': 100, 'reg_alpha': 0, 'reg_lambda': 1, 'subsample': 0.8}\n",
      "Day 30: ✅ 167 test rows, Run: 04-13\n",
      "\n",
      "📊 OVERALL RMSE - XGBoost Model\n",
      "================================================================================\n",
      "Successful runs: 30/30\n",
      " iteration   run_date  valid_predictions  rmse\n",
      "         1 2025-03-15                167  0.08\n",
      "         2 2025-03-16                167  0.10\n",
      "         3 2025-03-17                167  0.10\n",
      "         4 2025-03-18                167  0.10\n",
      "         5 2025-03-19                167  0.10\n",
      "         6 2025-03-20                167  0.09\n",
      "         7 2025-03-21                167  0.10\n",
      "         8 2025-03-22                167  0.09\n",
      "         9 2025-03-23                167  0.06\n",
      "        10 2025-03-24                167  0.08\n",
      "        11 2025-03-25                167  0.10\n",
      "        12 2025-03-26                167  0.10\n",
      "        13 2025-03-27                167  0.11\n",
      "        14 2025-03-28                167  0.11\n",
      "        15 2025-03-29                167  0.10\n",
      "        16 2025-03-30                167  0.12\n",
      "        17 2025-03-31                167  0.11\n",
      "        18 2025-04-01                167  0.10\n",
      "        19 2025-04-02                167  0.10\n",
      "        20 2025-04-03                167  0.09\n",
      "        21 2025-04-04                167  0.08\n",
      "        22 2025-04-05                167  0.08\n",
      "        23 2025-04-06                167  0.07\n",
      "        24 2025-04-07                167  0.07\n",
      "        25 2025-04-08                167  0.08\n",
      "        26 2025-04-09                167  0.08\n",
      "        27 2025-04-10                167  0.07\n",
      "        28 2025-04-11                167  0.07\n",
      "        29 2025-04-12                167  0.08\n",
      "        30 2025-04-13                167  0.08\n",
      "\n",
      "📈 SUMMARY STATISTICS\n",
      "----------------------------------------\n",
      "count    30.00\n",
      "mean      0.09\n",
      "std       0.01\n",
      "min       0.06\n",
      "25%       0.08\n",
      "50%       0.09\n",
      "75%       0.10\n",
      "max       0.12\n",
      "Name: rmse, dtype: float64\n",
      "\n",
      "📊 AVERAGE OVERALL RMSE\n",
      "----------------------------------------\n",
      "Mean RMSE: 0.09\n"
     ]
    }
   ],
   "source": [
    "# andere setting hyperparameters in GridSearchCV\n",
    "\n",
    "\n",
    "import pandas as pd\n",
    "import numpy as np\n",
    "import xgboost as xgb\n",
    "from sklearn.metrics import mean_squared_error\n",
    "# Dynamic path setup\n",
    "import sys\n",
    "from pathlib import Path\n",
    "from sklearn.model_selection import GridSearchCV\n",
    "\n",
    "# Find project root dynamically\n",
    "current_dir = Path.cwd()\n",
    "while current_dir.name != \"ENEXIS\" and current_dir.parent != current_dir:\n",
    "    current_dir = current_dir.parent\n",
    "project_root = current_dir\n",
    "\n",
    "# Add utils to path\n",
    "utils_path = project_root / \"src\" / \"utils\"\n",
    "sys.path.append(str(utils_path))\n",
    "from build_training_set import build_training_set\n",
    "\n",
    "# Define feature columns and target\n",
    "COMMON_FEATURES = ['is_dst', 'hour_cos', 'hour_sin','month','is_non_working_day','shortwave_radiation', 'temperature_2m'\n",
    "    ]\n",
    "# list of all available features 'cloud_cover', 'direct_normal_irradiance', 'diffuse_radiation','hour_cos', 'hour_sin', 'is_dst', 'is_non_working_day','is_weekend', 'month', 'shortwave_radiation','temperature_2m', 'yearday_cos', 'yearday_sin'\n",
    "TRAIN_ONLY_FEATURES = ['Load','Flow_NO']  # <- Only used if known ex post\n",
    "\n",
    "TRAIN_FEATURES = COMMON_FEATURES + TRAIN_ONLY_FEATURES\n",
    "TEST_FEATURES = COMMON_FEATURES\n",
    "\n",
    "\n",
    "target = 'Price'\n",
    "\n",
    "# Initial training window\n",
    "base_start = \"2025-01-01 00:00:00\"\n",
    "base_end = \"2025-03-14 23:00:00\"\n",
    "base_run = \"2025-03-15 00:00:00\"\n",
    "\n",
    "rmse_results = []\n",
    "\n",
    "print(\"🔍 Testing XGBoost Model - RMSE per forecast day\")\n",
    "print(\"=\" * 60)\n",
    "\n",
    "# GridSearch parameter grid\n",
    "param_grid = {\n",
    "    'n_estimators': [100, 300, 500],\n",
    "    'max_depth': [3, 5, 7],\n",
    "    'learning_rate': [0.01, 0.05, 0.1],\n",
    "    'subsample': [0.6, 0.8, 1],\n",
    "    'colsample_bytree': [0.6, 0.8, 1],\n",
    "    'gamma': [0, 0.1, 0.3],\n",
    "    'reg_alpha': [0, 0.1, 1],\n",
    "    'reg_lambda': [1, 1.5, 2],\n",
    "}\n",
    "\n",
    "# Loop over forecast days\n",
    "for i in range(30):\n",
    "    start = pd.Timestamp(base_start) + pd.Timedelta(days=i)\n",
    "    end = pd.Timestamp(base_end) + pd.Timedelta(days=i)\n",
    "    run_date = pd.Timestamp(base_run) + pd.Timedelta(days=i)\n",
    "\n",
    "    try:\n",
    "        df = build_training_set(\n",
    "            train_start=start.strftime(\"%Y-%m-%d %H:%M:%S\"),\n",
    "            train_end=end.strftime(\"%Y-%m-%d %H:%M:%S\"),\n",
    "            run_date=run_date.strftime(\"%Y-%m-%d %H:%M:%S\")\n",
    "        )\n",
    "\n",
    "        if df is None or df.empty:\n",
    "            print(f\"Day {i+1}: ❌ No training data returned\")\n",
    "            continue\n",
    "\n",
    "        df['target_datetime'] = pd.to_datetime(df['target_datetime'], utc=True)\n",
    "        df = df.sort_values('target_datetime').set_index('target_datetime')\n",
    "\n",
    "        # Zorg dat run_date ook in UTC is\n",
    "        run_date_utc = run_date.tz_localize(\"UTC\")\n",
    "\n",
    "        # Split into training and testing sets\n",
    "        train_data = df[df.index <= run_date_utc]\n",
    "        test_data = df[df.index > run_date_utc]\n",
    "\n",
    "        # Drop any missing data in training\n",
    "        train_data = train_data.dropna(subset=TRAIN_FEATURES + [target])\n",
    "\n",
    "        if test_data.empty or train_data.empty:\n",
    "            print(f\"Day {i+1}: ❌ Not enough data for training or testing\")\n",
    "            continue\n",
    "\n",
    "        # Train model\n",
    "        X_train = train_data[TRAIN_FEATURES]\n",
    "        y_train = train_data[target]\n",
    "\n",
    "        # Aanvullen met NaN-kolommen waar nodig\n",
    "        for col in TRAIN_FEATURES:\n",
    "            if col not in test_data.columns:\n",
    "                test_data[col] = np.nan\n",
    "\n",
    "        X_test = test_data[TRAIN_FEATURES]\n",
    "        y_test = test_data[target]\n",
    "\n",
    "        base_model = xgb.XGBRegressor(objective='reg:squarederror', random_state=42)\n",
    "        grid_search = GridSearchCV(\n",
    "            estimator=base_model,\n",
    "            param_grid=param_grid,\n",
    "            scoring='neg_root_mean_squared_error',\n",
    "            cv=3,\n",
    "            n_jobs=-1,\n",
    "            verbose=0\n",
    "        )\n",
    "        grid_search.fit(X_train, y_train)\n",
    "        print(f\"Day {i+1}: 🧪 Best params: {grid_search.best_params_}\")\n",
    "        model = grid_search.best_estimator_\n",
    "\n",
    "        y_pred = model.predict(X_test)\n",
    "\n",
    "        rmse = np.sqrt(mean_squared_error(y_test, y_pred))\n",
    "        rmse_results.append({\n",
    "            'iteration': i + 1,\n",
    "            'run_date': run_date.strftime('%Y-%m-%d'),\n",
    "            'valid_predictions': len(test_data),\n",
    "            'rmse': rmse\n",
    "        })\n",
    "\n",
    "        print(f\"Day {i+1}: ✅ {len(test_data)} test rows, Run: {run_date.strftime('%m-%d')}\")\n",
    "\n",
    "    except Exception as e:\n",
    "        print(f\"Day {i+1}: ❌ Error: {e}\")\n",
    "\n",
    "# Create results dataframe\n",
    "if rmse_results:\n",
    "    rmse_df = pd.DataFrame(rmse_results)\n",
    "\n",
    "    print(f\"\\n📊 OVERALL RMSE - XGBoost Model\")\n",
    "    print(\"=\" * 80)\n",
    "    print(f\"Successful runs: {len(rmse_df)}/30\")\n",
    "\n",
    "    print(rmse_df[['iteration', 'run_date', 'valid_predictions', 'rmse']].round(2).to_string(index=False))\n",
    "\n",
    "    print(f\"\\n📈 SUMMARY STATISTICS\")\n",
    "    print(\"-\" * 40)\n",
    "    print(rmse_df['rmse'].describe().round(2))\n",
    "\n",
    "    print(f\"\\n📊 AVERAGE OVERALL RMSE\")\n",
    "    print(\"-\" * 40)\n",
    "    print(f\"Mean RMSE: {rmse_df['rmse'].mean():.2f}\")\n",
    "else:\n",
    "    print(\"❌ No runs completed successfully\")"
   ]
  },
  {
   "cell_type": "code",
   "execution_count": null,
   "id": "c0feaa46",
   "metadata": {},
   "outputs": [],
   "source": [
    "# Get feature importances from the trained XGBoost model\n",
    "importances = model.feature_importances_\n",
    "feature_names = model.feature_names_in_\n",
    "\n",
    "# Create a DataFrame for better visualization\n",
    "feat_imp_df = pd.DataFrame({\n",
    "    'Feature': feature_names,\n",
    "    'Importance': importances\n",
    "}).sort_values(by='Importance', ascending=False)\n",
    "\n",
    "# Display the feature importances\n",
    "print(feat_imp_df)\n",
    "\n",
    "# Optional: Plot feature importances\n",
    "plt.figure(figsize=(10, 6))\n",
    "sns.barplot(x='Importance', y='Feature', data=feat_imp_df, palette='viridis')\n",
    "plt.title('Feature Importance (XGBoost)')\n",
    "plt.tight_layout()\n",
    "plt.show()"
   ]
  },
  {
   "cell_type": "code",
   "execution_count": null,
   "id": "1b1aeffa",
   "metadata": {},
   "outputs": [],
   "source": [
    "# Get feature importances from the last trained model\n",
    "importances = model.feature_importances_\n",
    "feature_names = model.feature_names_in_\n",
    "\n",
    "# Create a DataFrame for better visualization\n",
    "feat_imp_df = pd.DataFrame({\n",
    "    'Feature': feature_names,\n",
    "    'Importance': importances\n",
    "}).sort_values(by='Importance', ascending=False)\n",
    "\n",
    "# Display the feature importances\n",
    "print(feat_imp_df)\n",
    "\n",
    "# Optional: Plot feature importances\n",
    "plt.figure(figsize=(10, 6))\n",
    "sns.barplot(x='Importance', y='Feature', data=feat_imp_df, palette='viridis')\n",
    "plt.title('Feature Importance (XGBoost)')\n",
    "plt.tight_layout()\n",
    "plt.show()"
   ]
  }
 ],
 "metadata": {
  "kernelspec": {
   "display_name": ".venv",
   "language": "python",
   "name": "python3"
  },
  "language_info": {
   "codemirror_mode": {
    "name": "ipython",
    "version": 3
   },
   "file_extension": ".py",
   "mimetype": "text/x-python",
   "name": "python",
   "nbconvert_exporter": "python",
   "pygments_lexer": "ipython3",
   "version": "3.12.6"
  }
 },
 "nbformat": 4,
 "nbformat_minor": 5
}
