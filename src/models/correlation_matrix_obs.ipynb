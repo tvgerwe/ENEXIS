{
 "cells": [
  {
   "cell_type": "code",
   "execution_count": 1,
   "id": "c3200234",
   "metadata": {},
   "outputs": [
    {
     "name": "stdout",
     "output_type": "stream",
     "text": [
      "Load                        0.605214\n",
      "shortwave_radiation        -0.632162\n",
      "temperature_2m             -0.518787\n",
      "direct_normal_irradiance   -0.577391\n",
      "diffuse_radiation          -0.571874\n",
      "Flow_NO                     0.494983\n",
      "yearday_cos                 0.389194\n",
      "Flow_GB                     0.375704\n",
      "month                      -0.373343\n",
      "is_dst                     -0.361802\n",
      "yearday_sin                -0.257270\n",
      "is_non_working_day         -0.212123\n",
      "hour_cos                    0.209432\n",
      "is_weekend                 -0.185789\n",
      "cloud_cover                -0.191563\n",
      "weekday_sin                 0.154629\n",
      "hour_sin                   -0.127918\n",
      "weekday_cos                -0.059683\n",
      "Name: Price, dtype: float64\n"
     ]
    }
   ],
   "source": [
    "import sqlite3\n",
    "import pandas as pd\n",
    "\n",
    "# Connect to the database\n",
    "conn = sqlite3.connect('../data/WARP.db')\n",
    "\n",
    "# Load the warp_master table into a DataFrame\n",
    "df = pd.read_sql_query(\"SELECT * FROM master_warp\", conn)\n",
    "\n",
    "# Filter for the specified period\n",
    "df['target_datetime'] = pd.to_datetime(df['target_datetime'])\n",
    "mask = (df['target_datetime'] >= '2025-01-01') & (df['target_datetime'] <= '2025-05-15')\n",
    "df_period = df.loc[mask]\n",
    "\n",
    "# Compute correlation of each column with 'Price'\n",
    "correlations = df_period.corr(numeric_only=True)['Price'].drop('Price')\n",
    "\n",
    "print(correlations)\n",
    "\n",
    "conn.close()\n"
   ]
  },
  {
   "cell_type": "code",
   "execution_count": 3,
   "id": "927973c7",
   "metadata": {},
   "outputs": [
    {
     "name": "stdout",
     "output_type": "stream",
     "text": [
      "                          Correlation  AbsCorrelation\n",
      "shortwave_radiation         -0.632162        0.632162\n",
      "Load                         0.605214        0.605214\n",
      "direct_normal_irradiance    -0.577391        0.577391\n",
      "diffuse_radiation           -0.571874        0.571874\n",
      "temperature_2m              -0.518787        0.518787\n",
      "Flow_NO                      0.494983        0.494983\n",
      "yearday_cos                  0.389194        0.389194\n",
      "Flow_GB                      0.375704        0.375704\n",
      "month                       -0.373343        0.373343\n",
      "is_dst                      -0.361802        0.361802\n",
      "yearday_sin                 -0.257270        0.257270\n",
      "is_non_working_day          -0.212123        0.212123\n",
      "hour_cos                     0.209432        0.209432\n",
      "cloud_cover                 -0.191563        0.191563\n",
      "is_weekend                  -0.185789        0.185789\n",
      "weekday_sin                  0.154629        0.154629\n",
      "hour_sin                    -0.127918        0.127918\n",
      "weekday_cos                 -0.059683        0.059683\n"
     ]
    }
   ],
   "source": [
    "abs_correlations = correlations.abs()\n",
    "result = pd.DataFrame({\n",
    "    'Correlation': correlations,\n",
    "    'AbsCorrelation': abs_correlations\n",
    "}).sort_values('AbsCorrelation', ascending=False)\n",
    "print(result)"
   ]
  },
  {
   "cell_type": "code",
   "execution_count": 4,
   "id": "7b5d0177",
   "metadata": {},
   "outputs": [],
   "source": [
    "result.to_csv('correlation_results.csv')"
   ]
  }
 ],
 "metadata": {
  "kernelspec": {
   "display_name": "enexis-may-01-env-run",
   "language": "python",
   "name": "python3"
  },
  "language_info": {
   "codemirror_mode": {
    "name": "ipython",
    "version": 3
   },
   "file_extension": ".py",
   "mimetype": "text/x-python",
   "name": "python",
   "nbconvert_exporter": "python",
   "pygments_lexer": "ipython3",
   "version": "3.10.16"
  }
 },
 "nbformat": 4,
 "nbformat_minor": 5
}
