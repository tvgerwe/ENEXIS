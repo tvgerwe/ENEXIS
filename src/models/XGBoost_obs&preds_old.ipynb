{
 "cells": [
  {
   "cell_type": "code",
   "execution_count": 1,
   "id": "ef4101d6",
   "metadata": {},
   "outputs": [
    {
     "name": "stderr",
     "output_type": "stream",
     "text": [
      "2025-05-27 08:16:21,582 - build_training_set - INFO - 🚀 Start build van trainingset\n",
      "2025-05-27 08:16:21,583 - build_training_set - INFO - 🧠 Actuals van 2025-01-01 00:00:00+00:00 t/m 2025-03-15 11:00:00+00:00\n",
      "2025-05-27 08:16:21,583 - build_training_set - INFO - 📅 Forecast van run_date 2025-03-15 12:00:00+00:00, target range: 2025-03-15 12:00:00+00:00 → 2025-03-22 11:00:00+00:00\n",
      "2025-05-27 08:16:21,610 - build_training_set - INFO - ✅ Actuals geladen: 1764 rijen\n",
      "2025-05-27 08:16:21,829 - build_training_set - INFO - ✅ Added actual prices to 168 forecast rows\n",
      "/Users/Twan/Library/Mobile Documents/com~apple~CloudDocs/Data Science/Data Projects EASI/ENEXIS/src/utils/build_training_set.py:106: FutureWarning: The behavior of DataFrame concatenation with empty or all-NA entries is deprecated. In a future version, this will no longer exclude empty or all-NA columns when determining the result dtypes. To retain the old behavior, exclude the relevant entries before the concat operation.\n",
      "  df_combined = pd.concat([df_actuals, df_preds], ignore_index=True)\n",
      "2025-05-27 08:16:21,838 - build_training_set - INFO - 📦 Eindtabel bevat: 1764 rijen, 31 kolommen\n",
      "2025-05-27 08:16:21,838 - build_training_set - INFO - 🧾 Kolommen: ['Price', 'target_datetime', 'Load', 'shortwave_radiation', 'temperature_2m', 'direct_normal_irradiance', 'diffuse_radiation', 'Flow_NO', 'yearday_cos', 'Flow_GB', 'month', 'is_dst', 'yearday_sin', 'is_non_working_day', 'hour_cos', 'is_weekend', 'cloud_cover', 'weekday_sin', 'hour_sin', 'weekday_cos', 'apparent_temperature', 'day_of_week', 'day_of_year', 'direct_radiation', 'hour', 'is_holiday', 'local_datetime', 'run_date', 'snowfall', 'wind_direction_10m', 'wind_speed_10m']\n",
      "2025-05-27 08:16:21,838 - build_training_set - INFO - ❓ Price NaN count: 0/1764 (0.0%)\n",
      "2025-05-27 08:16:21,852 - build_training_set - INFO - ✅ Opgeslagen als training_set in WARP.db\n",
      "2025-05-27 08:16:21,853 - build_training_set - INFO - 🔒 Verbinding gesloten\n"
     ]
    },
    {
     "name": "stdout",
     "output_type": "stream",
     "text": [
      "Shape: (1764, 31)\n",
      "Price nulls: 0/1764\n",
      "Date range: 2025-01-01 00:00:00+00:00 to 2025-03-15 11:00:00+00:00\n",
      "     Price           target_datetime      Load  shortwave_radiation  \\\n",
      "0  0.01362 2025-01-01 00:00:00+00:00  12049.25                  0.0   \n",
      "1  0.00624 2025-01-01 01:00:00+00:00  11957.50                  0.0   \n",
      "2  0.00416 2025-01-01 02:00:00+00:00  11636.25                  0.0   \n",
      "3  0.00328 2025-01-01 03:00:00+00:00  11310.50                  0.0   \n",
      "4  0.00068 2025-01-01 04:00:00+00:00  11135.25                  0.0   \n",
      "5  0.00000 2025-01-01 05:00:00+00:00  11185.75                  0.0   \n",
      "6  0.00076 2025-01-01 06:00:00+00:00  11385.00                  0.0   \n",
      "7  0.00079 2025-01-01 07:00:00+00:00  11695.25                  0.0   \n",
      "8  0.00189 2025-01-01 08:00:00+00:00  12041.50                  0.0   \n",
      "9  0.00750 2025-01-01 09:00:00+00:00  12485.75                  0.0   \n",
      "\n",
      "   temperature_2m  direct_normal_irradiance  diffuse_radiation  Flow_NO  \\\n",
      "0             0.0                       0.0                0.0   -649.0   \n",
      "1             0.0                       0.0                0.0   -649.0   \n",
      "2             0.0                       0.0                0.0   -635.0   \n",
      "3             0.0                       0.0                0.0   -306.0   \n",
      "4             0.0                       0.0                0.0      0.0   \n",
      "5             0.0                       0.0                0.0      0.0   \n",
      "6             0.0                       0.0                0.0   -223.0   \n",
      "7             0.0                       0.0                0.0   -648.0   \n",
      "8             0.0                       0.0                0.0   -629.0   \n",
      "9             0.0                       0.0                0.0   -305.0   \n",
      "\n",
      "   yearday_cos  Flow_GB  ...  day_of_week  day_of_year  direct_radiation  \\\n",
      "0     0.999852     0.00  ...         <NA>         <NA>               NaN   \n",
      "1     0.999852     0.25  ...         <NA>         <NA>               NaN   \n",
      "2     0.999852     0.00  ...         <NA>         <NA>               NaN   \n",
      "3     0.999852     0.25  ...         <NA>         <NA>               NaN   \n",
      "4     0.999852     0.50  ...         <NA>         <NA>               NaN   \n",
      "5     0.999852     0.25  ...         <NA>         <NA>               NaN   \n",
      "6     0.999852     0.00  ...         <NA>         <NA>               NaN   \n",
      "7     0.999852     0.00  ...         <NA>         <NA>               NaN   \n",
      "8     0.999852     0.25  ...         <NA>         <NA>               NaN   \n",
      "9     0.999852     0.00  ...         <NA>         <NA>               NaN   \n",
      "\n",
      "   hour  is_holiday  local_datetime  run_date  snowfall  wind_direction_10m  \\\n",
      "0  <NA>        <NA>             NaN       NaN       NaN                 NaN   \n",
      "1  <NA>        <NA>             NaN       NaN       NaN                 NaN   \n",
      "2  <NA>        <NA>             NaN       NaN       NaN                 NaN   \n",
      "3  <NA>        <NA>             NaN       NaN       NaN                 NaN   \n",
      "4  <NA>        <NA>             NaN       NaN       NaN                 NaN   \n",
      "5  <NA>        <NA>             NaN       NaN       NaN                 NaN   \n",
      "6  <NA>        <NA>             NaN       NaN       NaN                 NaN   \n",
      "7  <NA>        <NA>             NaN       NaN       NaN                 NaN   \n",
      "8  <NA>        <NA>             NaN       NaN       NaN                 NaN   \n",
      "9  <NA>        <NA>             NaN       NaN       NaN                 NaN   \n",
      "\n",
      "   wind_speed_10m  \n",
      "0             NaN  \n",
      "1             NaN  \n",
      "2             NaN  \n",
      "3             NaN  \n",
      "4             NaN  \n",
      "5             NaN  \n",
      "6             NaN  \n",
      "7             NaN  \n",
      "8             NaN  \n",
      "9             NaN  \n",
      "\n",
      "[10 rows x 31 columns]\n"
     ]
    }
   ],
   "source": [
    "# Dynamic path setup\n",
    "import sys\n",
    "from pathlib import Path\n",
    "\n",
    "# Find project root dynamically\n",
    "current_dir = Path.cwd()\n",
    "while current_dir.name != \"ENEXIS\" and current_dir.parent != current_dir:\n",
    "    current_dir = current_dir.parent\n",
    "project_root = current_dir\n",
    "\n",
    "# Add utils to path\n",
    "utils_path = project_root / \"src\" / \"utils\"\n",
    "sys.path.append(str(utils_path))\n",
    "\n",
    "# Import the function from the module (make sure the function exists in the file)\n",
    "from build_training_set import build_training_set\n",
    "\n",
    "# Test\n",
    "df = build_training_set(\n",
    "    train_start=\"2025-01-01 00:00:00\",\n",
    "    train_end=\"2025-03-15 11:00:00\",\n",
    "    run_date=\"2025-03-15 12:00:00\"\n",
    ")\n",
    "\n",
    "print(f\"Shape: {df.shape}\")\n",
    "print(f\"Price nulls: {df['Price'].isnull().sum()}/{len(df)}\")\n",
    "print(f\"Date range: {df['target_datetime'].min()} to {df['target_datetime'].max()}\")\n",
    "print(df.head(10))"
   ]
  },
  {
   "cell_type": "code",
   "execution_count": 3,
   "id": "eb2d66d5",
   "metadata": {},
   "outputs": [
    {
     "name": "stderr",
     "output_type": "stream",
     "text": [
      "2025-05-27 08:32:47,490 - build_training_set - INFO - 🚀 Start build van trainingset\n",
      "2025-05-27 08:32:47,491 - build_training_set - INFO - 🧠 Actuals van 2025-01-01 00:00:00+00:00 t/m 2025-03-14 23:00:00+00:00\n",
      "2025-05-27 08:32:47,491 - build_training_set - INFO - 📅 Forecast van run_date 2025-03-15 00:00:00+00:00, target range: 2025-03-15 00:00:00+00:00 → 2025-03-21 23:00:00+00:00\n",
      "2025-05-27 08:32:47,545 - build_training_set - INFO - ✅ Actuals geladen: 1752 rijen\n"
     ]
    },
    {
     "name": "stdout",
     "output_type": "stream",
     "text": [
      "🔍 Testing XGBoost - RMSE per forecast day\n",
      "============================================================\n"
     ]
    },
    {
     "name": "stderr",
     "output_type": "stream",
     "text": [
      "2025-05-27 08:32:47,825 - build_training_set - INFO - ✅ Added actual prices to 168 forecast rows\n",
      "/Users/Twan/Library/Mobile Documents/com~apple~CloudDocs/Data Science/Data Projects EASI/ENEXIS/src/utils/build_training_set.py:106: FutureWarning: The behavior of DataFrame concatenation with empty or all-NA entries is deprecated. In a future version, this will no longer exclude empty or all-NA columns when determining the result dtypes. To retain the old behavior, exclude the relevant entries before the concat operation.\n",
      "  df_combined = pd.concat([df_actuals, df_preds], ignore_index=True)\n",
      "2025-05-27 08:32:47,835 - build_training_set - INFO - 📦 Eindtabel bevat: 1920 rijen, 31 kolommen\n",
      "2025-05-27 08:32:47,835 - build_training_set - INFO - 🧾 Kolommen: ['Price', 'target_datetime', 'Load', 'shortwave_radiation', 'temperature_2m', 'direct_normal_irradiance', 'diffuse_radiation', 'Flow_NO', 'yearday_cos', 'Flow_GB', 'month', 'is_dst', 'yearday_sin', 'is_non_working_day', 'hour_cos', 'is_weekend', 'cloud_cover', 'weekday_sin', 'hour_sin', 'weekday_cos', 'apparent_temperature', 'day_of_week', 'day_of_year', 'direct_radiation', 'hour', 'is_holiday', 'local_datetime', 'run_date', 'snowfall', 'wind_direction_10m', 'wind_speed_10m']\n",
      "2025-05-27 08:32:47,835 - build_training_set - INFO - ❓ Price NaN count: 0/1920 (0.0%)\n",
      "2025-05-27 08:32:47,852 - build_training_set - INFO - ✅ Opgeslagen als training_set in WARP.db\n",
      "2025-05-27 08:32:47,853 - build_training_set - INFO - 🔒 Verbinding gesloten\n",
      "2025-05-27 08:32:47,987 - build_training_set - INFO - 🚀 Start build van trainingset\n",
      "2025-05-27 08:32:47,987 - build_training_set - INFO - 🧠 Actuals van 2025-01-02 00:00:00+00:00 t/m 2025-03-15 23:00:00+00:00\n",
      "2025-05-27 08:32:47,988 - build_training_set - INFO - 📅 Forecast van run_date 2025-03-16 00:00:00+00:00, target range: 2025-03-16 00:00:00+00:00 → 2025-03-22 23:00:00+00:00\n",
      "2025-05-27 08:32:48,004 - build_training_set - INFO - ✅ Actuals geladen: 1752 rijen\n",
      "2025-05-27 08:32:48,145 - build_training_set - INFO - ✅ Added actual prices to 168 forecast rows\n",
      "/Users/Twan/Library/Mobile Documents/com~apple~CloudDocs/Data Science/Data Projects EASI/ENEXIS/src/utils/build_training_set.py:106: FutureWarning: The behavior of DataFrame concatenation with empty or all-NA entries is deprecated. In a future version, this will no longer exclude empty or all-NA columns when determining the result dtypes. To retain the old behavior, exclude the relevant entries before the concat operation.\n",
      "  df_combined = pd.concat([df_actuals, df_preds], ignore_index=True)\n",
      "2025-05-27 08:32:48,154 - build_training_set - INFO - 📦 Eindtabel bevat: 1920 rijen, 31 kolommen\n",
      "2025-05-27 08:32:48,154 - build_training_set - INFO - 🧾 Kolommen: ['Price', 'target_datetime', 'Load', 'shortwave_radiation', 'temperature_2m', 'direct_normal_irradiance', 'diffuse_radiation', 'Flow_NO', 'yearday_cos', 'Flow_GB', 'month', 'is_dst', 'yearday_sin', 'is_non_working_day', 'hour_cos', 'is_weekend', 'cloud_cover', 'weekday_sin', 'hour_sin', 'weekday_cos', 'apparent_temperature', 'day_of_week', 'day_of_year', 'direct_radiation', 'hour', 'is_holiday', 'local_datetime', 'run_date', 'snowfall', 'wind_direction_10m', 'wind_speed_10m']\n",
      "2025-05-27 08:32:48,154 - build_training_set - INFO - ❓ Price NaN count: 0/1920 (0.0%)\n",
      "2025-05-27 08:32:48,167 - build_training_set - INFO - ✅ Opgeslagen als training_set in WARP.db\n",
      "2025-05-27 08:32:48,167 - build_training_set - INFO - 🔒 Verbinding gesloten\n"
     ]
    },
    {
     "name": "stdout",
     "output_type": "stream",
     "text": [
      "Day 1: ✅ 168 predictions, Run: 03-15\n"
     ]
    },
    {
     "name": "stderr",
     "output_type": "stream",
     "text": [
      "2025-05-27 08:32:48,297 - build_training_set - INFO - 🚀 Start build van trainingset\n",
      "2025-05-27 08:32:48,298 - build_training_set - INFO - 🧠 Actuals van 2025-01-03 00:00:00+00:00 t/m 2025-03-16 23:00:00+00:00\n",
      "2025-05-27 08:32:48,298 - build_training_set - INFO - 📅 Forecast van run_date 2025-03-17 00:00:00+00:00, target range: 2025-03-17 00:00:00+00:00 → 2025-03-23 23:00:00+00:00\n",
      "2025-05-27 08:32:48,315 - build_training_set - INFO - ✅ Actuals geladen: 1752 rijen\n",
      "2025-05-27 08:32:48,453 - build_training_set - INFO - ✅ Added actual prices to 168 forecast rows\n",
      "/Users/Twan/Library/Mobile Documents/com~apple~CloudDocs/Data Science/Data Projects EASI/ENEXIS/src/utils/build_training_set.py:106: FutureWarning: The behavior of DataFrame concatenation with empty or all-NA entries is deprecated. In a future version, this will no longer exclude empty or all-NA columns when determining the result dtypes. To retain the old behavior, exclude the relevant entries before the concat operation.\n",
      "  df_combined = pd.concat([df_actuals, df_preds], ignore_index=True)\n",
      "2025-05-27 08:32:48,462 - build_training_set - INFO - 📦 Eindtabel bevat: 1920 rijen, 31 kolommen\n",
      "2025-05-27 08:32:48,462 - build_training_set - INFO - 🧾 Kolommen: ['Price', 'target_datetime', 'Load', 'shortwave_radiation', 'temperature_2m', 'direct_normal_irradiance', 'diffuse_radiation', 'Flow_NO', 'yearday_cos', 'Flow_GB', 'month', 'is_dst', 'yearday_sin', 'is_non_working_day', 'hour_cos', 'is_weekend', 'cloud_cover', 'weekday_sin', 'hour_sin', 'weekday_cos', 'apparent_temperature', 'day_of_week', 'day_of_year', 'direct_radiation', 'hour', 'is_holiday', 'local_datetime', 'run_date', 'snowfall', 'wind_direction_10m', 'wind_speed_10m']\n",
      "2025-05-27 08:32:48,462 - build_training_set - INFO - ❓ Price NaN count: 0/1920 (0.0%)\n",
      "2025-05-27 08:32:48,473 - build_training_set - INFO - ✅ Opgeslagen als training_set in WARP.db\n",
      "2025-05-27 08:32:48,473 - build_training_set - INFO - 🔒 Verbinding gesloten\n"
     ]
    },
    {
     "name": "stdout",
     "output_type": "stream",
     "text": [
      "Day 2: ✅ 168 predictions, Run: 03-16\n"
     ]
    },
    {
     "name": "stderr",
     "output_type": "stream",
     "text": [
      "2025-05-27 08:32:48,608 - build_training_set - INFO - 🚀 Start build van trainingset\n",
      "2025-05-27 08:32:48,608 - build_training_set - INFO - 🧠 Actuals van 2025-01-04 00:00:00+00:00 t/m 2025-03-17 23:00:00+00:00\n",
      "2025-05-27 08:32:48,609 - build_training_set - INFO - 📅 Forecast van run_date 2025-03-18 00:00:00+00:00, target range: 2025-03-18 00:00:00+00:00 → 2025-03-24 23:00:00+00:00\n",
      "2025-05-27 08:32:48,625 - build_training_set - INFO - ✅ Actuals geladen: 1752 rijen\n",
      "2025-05-27 08:32:48,762 - build_training_set - INFO - ✅ Added actual prices to 168 forecast rows\n",
      "/Users/Twan/Library/Mobile Documents/com~apple~CloudDocs/Data Science/Data Projects EASI/ENEXIS/src/utils/build_training_set.py:106: FutureWarning: The behavior of DataFrame concatenation with empty or all-NA entries is deprecated. In a future version, this will no longer exclude empty or all-NA columns when determining the result dtypes. To retain the old behavior, exclude the relevant entries before the concat operation.\n",
      "  df_combined = pd.concat([df_actuals, df_preds], ignore_index=True)\n",
      "2025-05-27 08:32:48,771 - build_training_set - INFO - 📦 Eindtabel bevat: 1920 rijen, 31 kolommen\n",
      "2025-05-27 08:32:48,771 - build_training_set - INFO - 🧾 Kolommen: ['Price', 'target_datetime', 'Load', 'shortwave_radiation', 'temperature_2m', 'direct_normal_irradiance', 'diffuse_radiation', 'Flow_NO', 'yearday_cos', 'Flow_GB', 'month', 'is_dst', 'yearday_sin', 'is_non_working_day', 'hour_cos', 'is_weekend', 'cloud_cover', 'weekday_sin', 'hour_sin', 'weekday_cos', 'apparent_temperature', 'day_of_week', 'day_of_year', 'direct_radiation', 'hour', 'is_holiday', 'local_datetime', 'run_date', 'snowfall', 'wind_direction_10m', 'wind_speed_10m']\n",
      "2025-05-27 08:32:48,772 - build_training_set - INFO - ❓ Price NaN count: 0/1920 (0.0%)\n",
      "2025-05-27 08:32:48,784 - build_training_set - INFO - ✅ Opgeslagen als training_set in WARP.db\n",
      "2025-05-27 08:32:48,785 - build_training_set - INFO - 🔒 Verbinding gesloten\n"
     ]
    },
    {
     "name": "stdout",
     "output_type": "stream",
     "text": [
      "Day 3: ✅ 168 predictions, Run: 03-17\n"
     ]
    },
    {
     "name": "stderr",
     "output_type": "stream",
     "text": [
      "2025-05-27 08:32:48,912 - build_training_set - INFO - 🚀 Start build van trainingset\n",
      "2025-05-27 08:32:48,913 - build_training_set - INFO - 🧠 Actuals van 2025-01-05 00:00:00+00:00 t/m 2025-03-18 23:00:00+00:00\n",
      "2025-05-27 08:32:48,913 - build_training_set - INFO - 📅 Forecast van run_date 2025-03-19 00:00:00+00:00, target range: 2025-03-19 00:00:00+00:00 → 2025-03-25 23:00:00+00:00\n",
      "2025-05-27 08:32:48,943 - build_training_set - INFO - ✅ Actuals geladen: 1752 rijen\n",
      "2025-05-27 08:32:49,095 - build_training_set - INFO - ✅ Added actual prices to 168 forecast rows\n",
      "/Users/Twan/Library/Mobile Documents/com~apple~CloudDocs/Data Science/Data Projects EASI/ENEXIS/src/utils/build_training_set.py:106: FutureWarning: The behavior of DataFrame concatenation with empty or all-NA entries is deprecated. In a future version, this will no longer exclude empty or all-NA columns when determining the result dtypes. To retain the old behavior, exclude the relevant entries before the concat operation.\n",
      "  df_combined = pd.concat([df_actuals, df_preds], ignore_index=True)\n",
      "2025-05-27 08:32:49,104 - build_training_set - INFO - 📦 Eindtabel bevat: 1920 rijen, 31 kolommen\n",
      "2025-05-27 08:32:49,104 - build_training_set - INFO - 🧾 Kolommen: ['Price', 'target_datetime', 'Load', 'shortwave_radiation', 'temperature_2m', 'direct_normal_irradiance', 'diffuse_radiation', 'Flow_NO', 'yearday_cos', 'Flow_GB', 'month', 'is_dst', 'yearday_sin', 'is_non_working_day', 'hour_cos', 'is_weekend', 'cloud_cover', 'weekday_sin', 'hour_sin', 'weekday_cos', 'apparent_temperature', 'day_of_week', 'day_of_year', 'direct_radiation', 'hour', 'is_holiday', 'local_datetime', 'run_date', 'snowfall', 'wind_direction_10m', 'wind_speed_10m']\n",
      "2025-05-27 08:32:49,104 - build_training_set - INFO - ❓ Price NaN count: 0/1920 (0.0%)\n"
     ]
    },
    {
     "name": "stdout",
     "output_type": "stream",
     "text": [
      "Day 4: ✅ 168 predictions, Run: 03-18\n"
     ]
    },
    {
     "name": "stderr",
     "output_type": "stream",
     "text": [
      "2025-05-27 08:32:49,116 - build_training_set - INFO - ✅ Opgeslagen als training_set in WARP.db\n",
      "2025-05-27 08:32:49,117 - build_training_set - INFO - 🔒 Verbinding gesloten\n",
      "2025-05-27 08:32:49,249 - build_training_set - INFO - 🚀 Start build van trainingset\n",
      "2025-05-27 08:32:49,250 - build_training_set - INFO - 🧠 Actuals van 2025-01-06 00:00:00+00:00 t/m 2025-03-19 23:00:00+00:00\n",
      "2025-05-27 08:32:49,250 - build_training_set - INFO - 📅 Forecast van run_date 2025-03-20 00:00:00+00:00, target range: 2025-03-20 00:00:00+00:00 → 2025-03-26 23:00:00+00:00\n",
      "2025-05-27 08:32:49,265 - build_training_set - INFO - ✅ Actuals geladen: 1752 rijen\n",
      "2025-05-27 08:32:49,402 - build_training_set - INFO - ✅ Added actual prices to 168 forecast rows\n",
      "/Users/Twan/Library/Mobile Documents/com~apple~CloudDocs/Data Science/Data Projects EASI/ENEXIS/src/utils/build_training_set.py:106: FutureWarning: The behavior of DataFrame concatenation with empty or all-NA entries is deprecated. In a future version, this will no longer exclude empty or all-NA columns when determining the result dtypes. To retain the old behavior, exclude the relevant entries before the concat operation.\n",
      "  df_combined = pd.concat([df_actuals, df_preds], ignore_index=True)\n",
      "2025-05-27 08:32:49,411 - build_training_set - INFO - 📦 Eindtabel bevat: 1920 rijen, 31 kolommen\n",
      "2025-05-27 08:32:49,411 - build_training_set - INFO - 🧾 Kolommen: ['Price', 'target_datetime', 'Load', 'shortwave_radiation', 'temperature_2m', 'direct_normal_irradiance', 'diffuse_radiation', 'Flow_NO', 'yearday_cos', 'Flow_GB', 'month', 'is_dst', 'yearday_sin', 'is_non_working_day', 'hour_cos', 'is_weekend', 'cloud_cover', 'weekday_sin', 'hour_sin', 'weekday_cos', 'apparent_temperature', 'day_of_week', 'day_of_year', 'direct_radiation', 'hour', 'is_holiday', 'local_datetime', 'run_date', 'snowfall', 'wind_direction_10m', 'wind_speed_10m']\n",
      "2025-05-27 08:32:49,412 - build_training_set - INFO - ❓ Price NaN count: 0/1920 (0.0%)\n",
      "2025-05-27 08:32:49,423 - build_training_set - INFO - ✅ Opgeslagen als training_set in WARP.db\n",
      "2025-05-27 08:32:49,424 - build_training_set - INFO - 🔒 Verbinding gesloten\n"
     ]
    },
    {
     "name": "stdout",
     "output_type": "stream",
     "text": [
      "Day 5: ✅ 168 predictions, Run: 03-19\n"
     ]
    },
    {
     "name": "stderr",
     "output_type": "stream",
     "text": [
      "2025-05-27 08:32:49,551 - build_training_set - INFO - 🚀 Start build van trainingset\n",
      "2025-05-27 08:32:49,552 - build_training_set - INFO - 🧠 Actuals van 2025-01-07 00:00:00+00:00 t/m 2025-03-20 23:00:00+00:00\n",
      "2025-05-27 08:32:49,552 - build_training_set - INFO - 📅 Forecast van run_date 2025-03-21 00:00:00+00:00, target range: 2025-03-21 00:00:00+00:00 → 2025-03-27 23:00:00+00:00\n",
      "2025-05-27 08:32:49,568 - build_training_set - INFO - ✅ Actuals geladen: 1752 rijen\n",
      "2025-05-27 08:32:49,706 - build_training_set - INFO - ✅ Added actual prices to 168 forecast rows\n",
      "/Users/Twan/Library/Mobile Documents/com~apple~CloudDocs/Data Science/Data Projects EASI/ENEXIS/src/utils/build_training_set.py:106: FutureWarning: The behavior of DataFrame concatenation with empty or all-NA entries is deprecated. In a future version, this will no longer exclude empty or all-NA columns when determining the result dtypes. To retain the old behavior, exclude the relevant entries before the concat operation.\n",
      "  df_combined = pd.concat([df_actuals, df_preds], ignore_index=True)\n",
      "2025-05-27 08:32:49,714 - build_training_set - INFO - 📦 Eindtabel bevat: 1920 rijen, 31 kolommen\n",
      "2025-05-27 08:32:49,715 - build_training_set - INFO - 🧾 Kolommen: ['Price', 'target_datetime', 'Load', 'shortwave_radiation', 'temperature_2m', 'direct_normal_irradiance', 'diffuse_radiation', 'Flow_NO', 'yearday_cos', 'Flow_GB', 'month', 'is_dst', 'yearday_sin', 'is_non_working_day', 'hour_cos', 'is_weekend', 'cloud_cover', 'weekday_sin', 'hour_sin', 'weekday_cos', 'apparent_temperature', 'day_of_week', 'day_of_year', 'direct_radiation', 'hour', 'is_holiday', 'local_datetime', 'run_date', 'snowfall', 'wind_direction_10m', 'wind_speed_10m']\n",
      "2025-05-27 08:32:49,715 - build_training_set - INFO - ❓ Price NaN count: 0/1920 (0.0%)\n",
      "2025-05-27 08:32:49,726 - build_training_set - INFO - ✅ Opgeslagen als training_set in WARP.db\n",
      "2025-05-27 08:32:49,727 - build_training_set - INFO - 🔒 Verbinding gesloten\n"
     ]
    },
    {
     "name": "stdout",
     "output_type": "stream",
     "text": [
      "Day 6: ✅ 168 predictions, Run: 03-20\n"
     ]
    },
    {
     "name": "stderr",
     "output_type": "stream",
     "text": [
      "2025-05-27 08:32:49,855 - build_training_set - INFO - 🚀 Start build van trainingset\n",
      "2025-05-27 08:32:49,855 - build_training_set - INFO - 🧠 Actuals van 2025-01-08 00:00:00+00:00 t/m 2025-03-21 23:00:00+00:00\n",
      "2025-05-27 08:32:49,855 - build_training_set - INFO - 📅 Forecast van run_date 2025-03-22 00:00:00+00:00, target range: 2025-03-22 00:00:00+00:00 → 2025-03-28 23:00:00+00:00\n",
      "2025-05-27 08:32:49,872 - build_training_set - INFO - ✅ Actuals geladen: 1752 rijen\n",
      "2025-05-27 08:32:50,010 - build_training_set - INFO - ✅ Added actual prices to 168 forecast rows\n",
      "/Users/Twan/Library/Mobile Documents/com~apple~CloudDocs/Data Science/Data Projects EASI/ENEXIS/src/utils/build_training_set.py:106: FutureWarning: The behavior of DataFrame concatenation with empty or all-NA entries is deprecated. In a future version, this will no longer exclude empty or all-NA columns when determining the result dtypes. To retain the old behavior, exclude the relevant entries before the concat operation.\n",
      "  df_combined = pd.concat([df_actuals, df_preds], ignore_index=True)\n",
      "2025-05-27 08:32:50,019 - build_training_set - INFO - 📦 Eindtabel bevat: 1920 rijen, 31 kolommen\n",
      "2025-05-27 08:32:50,019 - build_training_set - INFO - 🧾 Kolommen: ['Price', 'target_datetime', 'Load', 'shortwave_radiation', 'temperature_2m', 'direct_normal_irradiance', 'diffuse_radiation', 'Flow_NO', 'yearday_cos', 'Flow_GB', 'month', 'is_dst', 'yearday_sin', 'is_non_working_day', 'hour_cos', 'is_weekend', 'cloud_cover', 'weekday_sin', 'hour_sin', 'weekday_cos', 'apparent_temperature', 'day_of_week', 'day_of_year', 'direct_radiation', 'hour', 'is_holiday', 'local_datetime', 'run_date', 'snowfall', 'wind_direction_10m', 'wind_speed_10m']\n",
      "2025-05-27 08:32:50,019 - build_training_set - INFO - ❓ Price NaN count: 0/1920 (0.0%)\n",
      "2025-05-27 08:32:50,030 - build_training_set - INFO - ✅ Opgeslagen als training_set in WARP.db\n",
      "2025-05-27 08:32:50,031 - build_training_set - INFO - 🔒 Verbinding gesloten\n"
     ]
    },
    {
     "name": "stdout",
     "output_type": "stream",
     "text": [
      "Day 7: ✅ 168 predictions, Run: 03-21\n"
     ]
    },
    {
     "name": "stderr",
     "output_type": "stream",
     "text": [
      "2025-05-27 08:32:50,186 - build_training_set - INFO - 🚀 Start build van trainingset\n",
      "2025-05-27 08:32:50,186 - build_training_set - INFO - 🧠 Actuals van 2025-01-09 00:00:00+00:00 t/m 2025-03-22 23:00:00+00:00\n",
      "2025-05-27 08:32:50,186 - build_training_set - INFO - 📅 Forecast van run_date 2025-03-23 00:00:00+00:00, target range: 2025-03-23 00:00:00+00:00 → 2025-03-29 23:00:00+00:00\n",
      "2025-05-27 08:32:50,203 - build_training_set - INFO - ✅ Actuals geladen: 1752 rijen\n",
      "2025-05-27 08:32:50,339 - build_training_set - INFO - ✅ Added actual prices to 168 forecast rows\n",
      "/Users/Twan/Library/Mobile Documents/com~apple~CloudDocs/Data Science/Data Projects EASI/ENEXIS/src/utils/build_training_set.py:106: FutureWarning: The behavior of DataFrame concatenation with empty or all-NA entries is deprecated. In a future version, this will no longer exclude empty or all-NA columns when determining the result dtypes. To retain the old behavior, exclude the relevant entries before the concat operation.\n",
      "  df_combined = pd.concat([df_actuals, df_preds], ignore_index=True)\n",
      "2025-05-27 08:32:50,348 - build_training_set - INFO - 📦 Eindtabel bevat: 1920 rijen, 31 kolommen\n",
      "2025-05-27 08:32:50,348 - build_training_set - INFO - 🧾 Kolommen: ['Price', 'target_datetime', 'Load', 'shortwave_radiation', 'temperature_2m', 'direct_normal_irradiance', 'diffuse_radiation', 'Flow_NO', 'yearday_cos', 'Flow_GB', 'month', 'is_dst', 'yearday_sin', 'is_non_working_day', 'hour_cos', 'is_weekend', 'cloud_cover', 'weekday_sin', 'hour_sin', 'weekday_cos', 'apparent_temperature', 'day_of_week', 'day_of_year', 'direct_radiation', 'hour', 'is_holiday', 'local_datetime', 'run_date', 'snowfall', 'wind_direction_10m', 'wind_speed_10m']\n",
      "2025-05-27 08:32:50,349 - build_training_set - INFO - ❓ Price NaN count: 0/1920 (0.0%)\n",
      "2025-05-27 08:32:50,360 - build_training_set - INFO - ✅ Opgeslagen als training_set in WARP.db\n",
      "2025-05-27 08:32:50,361 - build_training_set - INFO - 🔒 Verbinding gesloten\n"
     ]
    },
    {
     "name": "stdout",
     "output_type": "stream",
     "text": [
      "Day 8: ✅ 168 predictions, Run: 03-22\n"
     ]
    },
    {
     "name": "stderr",
     "output_type": "stream",
     "text": [
      "2025-05-27 08:32:50,491 - build_training_set - INFO - 🚀 Start build van trainingset\n",
      "2025-05-27 08:32:50,491 - build_training_set - INFO - 🧠 Actuals van 2025-01-10 00:00:00+00:00 t/m 2025-03-23 23:00:00+00:00\n",
      "2025-05-27 08:32:50,492 - build_training_set - INFO - 📅 Forecast van run_date 2025-03-24 00:00:00+00:00, target range: 2025-03-24 00:00:00+00:00 → 2025-03-30 23:00:00+00:00\n",
      "2025-05-27 08:32:50,509 - build_training_set - INFO - ✅ Actuals geladen: 1752 rijen\n",
      "2025-05-27 08:32:50,649 - build_training_set - INFO - ✅ Added actual prices to 168 forecast rows\n",
      "/Users/Twan/Library/Mobile Documents/com~apple~CloudDocs/Data Science/Data Projects EASI/ENEXIS/src/utils/build_training_set.py:106: FutureWarning: The behavior of DataFrame concatenation with empty or all-NA entries is deprecated. In a future version, this will no longer exclude empty or all-NA columns when determining the result dtypes. To retain the old behavior, exclude the relevant entries before the concat operation.\n",
      "  df_combined = pd.concat([df_actuals, df_preds], ignore_index=True)\n",
      "2025-05-27 08:32:50,658 - build_training_set - INFO - 📦 Eindtabel bevat: 1920 rijen, 31 kolommen\n",
      "2025-05-27 08:32:50,659 - build_training_set - INFO - 🧾 Kolommen: ['Price', 'target_datetime', 'Load', 'shortwave_radiation', 'temperature_2m', 'direct_normal_irradiance', 'diffuse_radiation', 'Flow_NO', 'yearday_cos', 'Flow_GB', 'month', 'is_dst', 'yearday_sin', 'is_non_working_day', 'hour_cos', 'is_weekend', 'cloud_cover', 'weekday_sin', 'hour_sin', 'weekday_cos', 'apparent_temperature', 'day_of_week', 'day_of_year', 'direct_radiation', 'hour', 'is_holiday', 'local_datetime', 'run_date', 'snowfall', 'wind_direction_10m', 'wind_speed_10m']\n",
      "2025-05-27 08:32:50,659 - build_training_set - INFO - ❓ Price NaN count: 0/1920 (0.0%)\n",
      "2025-05-27 08:32:50,670 - build_training_set - INFO - ✅ Opgeslagen als training_set in WARP.db\n",
      "2025-05-27 08:32:50,671 - build_training_set - INFO - 🔒 Verbinding gesloten\n"
     ]
    },
    {
     "name": "stdout",
     "output_type": "stream",
     "text": [
      "Day 9: ✅ 168 predictions, Run: 03-23\n"
     ]
    },
    {
     "name": "stderr",
     "output_type": "stream",
     "text": [
      "2025-05-27 08:32:50,802 - build_training_set - INFO - 🚀 Start build van trainingset\n",
      "2025-05-27 08:32:50,802 - build_training_set - INFO - 🧠 Actuals van 2025-01-11 00:00:00+00:00 t/m 2025-03-24 23:00:00+00:00\n",
      "2025-05-27 08:32:50,802 - build_training_set - INFO - 📅 Forecast van run_date 2025-03-25 00:00:00+00:00, target range: 2025-03-25 00:00:00+00:00 → 2025-03-31 23:00:00+00:00\n",
      "2025-05-27 08:32:50,819 - build_training_set - INFO - ✅ Actuals geladen: 1752 rijen\n",
      "2025-05-27 08:32:50,960 - build_training_set - INFO - ✅ Added actual prices to 168 forecast rows\n",
      "/Users/Twan/Library/Mobile Documents/com~apple~CloudDocs/Data Science/Data Projects EASI/ENEXIS/src/utils/build_training_set.py:106: FutureWarning: The behavior of DataFrame concatenation with empty or all-NA entries is deprecated. In a future version, this will no longer exclude empty or all-NA columns when determining the result dtypes. To retain the old behavior, exclude the relevant entries before the concat operation.\n",
      "  df_combined = pd.concat([df_actuals, df_preds], ignore_index=True)\n",
      "2025-05-27 08:32:50,969 - build_training_set - INFO - 📦 Eindtabel bevat: 1920 rijen, 31 kolommen\n",
      "2025-05-27 08:32:50,969 - build_training_set - INFO - 🧾 Kolommen: ['Price', 'target_datetime', 'Load', 'shortwave_radiation', 'temperature_2m', 'direct_normal_irradiance', 'diffuse_radiation', 'Flow_NO', 'yearday_cos', 'Flow_GB', 'month', 'is_dst', 'yearday_sin', 'is_non_working_day', 'hour_cos', 'is_weekend', 'cloud_cover', 'weekday_sin', 'hour_sin', 'weekday_cos', 'apparent_temperature', 'day_of_week', 'day_of_year', 'direct_radiation', 'hour', 'is_holiday', 'local_datetime', 'run_date', 'snowfall', 'wind_direction_10m', 'wind_speed_10m']\n",
      "2025-05-27 08:32:50,970 - build_training_set - INFO - ❓ Price NaN count: 0/1920 (0.0%)\n",
      "2025-05-27 08:32:50,983 - build_training_set - INFO - ✅ Opgeslagen als training_set in WARP.db\n",
      "2025-05-27 08:32:50,983 - build_training_set - INFO - 🔒 Verbinding gesloten\n"
     ]
    },
    {
     "name": "stdout",
     "output_type": "stream",
     "text": [
      "Day 10: ✅ 168 predictions, Run: 03-24\n"
     ]
    },
    {
     "name": "stderr",
     "output_type": "stream",
     "text": [
      "2025-05-27 08:32:51,117 - build_training_set - INFO - 🚀 Start build van trainingset\n",
      "2025-05-27 08:32:51,117 - build_training_set - INFO - 🧠 Actuals van 2025-01-12 00:00:00+00:00 t/m 2025-03-25 23:00:00+00:00\n",
      "2025-05-27 08:32:51,117 - build_training_set - INFO - 📅 Forecast van run_date 2025-03-26 00:00:00+00:00, target range: 2025-03-26 00:00:00+00:00 → 2025-04-01 23:00:00+00:00\n",
      "2025-05-27 08:32:51,135 - build_training_set - INFO - ✅ Actuals geladen: 1752 rijen\n",
      "2025-05-27 08:32:51,299 - build_training_set - INFO - ✅ Added actual prices to 168 forecast rows\n",
      "/Users/Twan/Library/Mobile Documents/com~apple~CloudDocs/Data Science/Data Projects EASI/ENEXIS/src/utils/build_training_set.py:106: FutureWarning: The behavior of DataFrame concatenation with empty or all-NA entries is deprecated. In a future version, this will no longer exclude empty or all-NA columns when determining the result dtypes. To retain the old behavior, exclude the relevant entries before the concat operation.\n",
      "  df_combined = pd.concat([df_actuals, df_preds], ignore_index=True)\n",
      "2025-05-27 08:32:51,308 - build_training_set - INFO - 📦 Eindtabel bevat: 1920 rijen, 31 kolommen\n",
      "2025-05-27 08:32:51,309 - build_training_set - INFO - 🧾 Kolommen: ['Price', 'target_datetime', 'Load', 'shortwave_radiation', 'temperature_2m', 'direct_normal_irradiance', 'diffuse_radiation', 'Flow_NO', 'yearday_cos', 'Flow_GB', 'month', 'is_dst', 'yearday_sin', 'is_non_working_day', 'hour_cos', 'is_weekend', 'cloud_cover', 'weekday_sin', 'hour_sin', 'weekday_cos', 'apparent_temperature', 'day_of_week', 'day_of_year', 'direct_radiation', 'hour', 'is_holiday', 'local_datetime', 'run_date', 'snowfall', 'wind_direction_10m', 'wind_speed_10m']\n",
      "2025-05-27 08:32:51,309 - build_training_set - INFO - ❓ Price NaN count: 0/1920 (0.0%)\n"
     ]
    },
    {
     "name": "stdout",
     "output_type": "stream",
     "text": [
      "Day 11: ✅ 168 predictions, Run: 03-25\n"
     ]
    },
    {
     "name": "stderr",
     "output_type": "stream",
     "text": [
      "2025-05-27 08:32:51,320 - build_training_set - INFO - ✅ Opgeslagen als training_set in WARP.db\n",
      "2025-05-27 08:32:51,321 - build_training_set - INFO - 🔒 Verbinding gesloten\n",
      "2025-05-27 08:32:51,448 - build_training_set - INFO - 🚀 Start build van trainingset\n",
      "2025-05-27 08:32:51,449 - build_training_set - INFO - 🧠 Actuals van 2025-01-13 00:00:00+00:00 t/m 2025-03-26 23:00:00+00:00\n",
      "2025-05-27 08:32:51,449 - build_training_set - INFO - 📅 Forecast van run_date 2025-03-27 00:00:00+00:00, target range: 2025-03-27 00:00:00+00:00 → 2025-04-02 23:00:00+00:00\n",
      "2025-05-27 08:32:51,464 - build_training_set - INFO - ✅ Actuals geladen: 1752 rijen\n",
      "2025-05-27 08:32:51,604 - build_training_set - INFO - ✅ Added actual prices to 168 forecast rows\n",
      "/Users/Twan/Library/Mobile Documents/com~apple~CloudDocs/Data Science/Data Projects EASI/ENEXIS/src/utils/build_training_set.py:106: FutureWarning: The behavior of DataFrame concatenation with empty or all-NA entries is deprecated. In a future version, this will no longer exclude empty or all-NA columns when determining the result dtypes. To retain the old behavior, exclude the relevant entries before the concat operation.\n",
      "  df_combined = pd.concat([df_actuals, df_preds], ignore_index=True)\n",
      "2025-05-27 08:32:51,613 - build_training_set - INFO - 📦 Eindtabel bevat: 1920 rijen, 31 kolommen\n",
      "2025-05-27 08:32:51,613 - build_training_set - INFO - 🧾 Kolommen: ['Price', 'target_datetime', 'Load', 'shortwave_radiation', 'temperature_2m', 'direct_normal_irradiance', 'diffuse_radiation', 'Flow_NO', 'yearday_cos', 'Flow_GB', 'month', 'is_dst', 'yearday_sin', 'is_non_working_day', 'hour_cos', 'is_weekend', 'cloud_cover', 'weekday_sin', 'hour_sin', 'weekday_cos', 'apparent_temperature', 'day_of_week', 'day_of_year', 'direct_radiation', 'hour', 'is_holiday', 'local_datetime', 'run_date', 'snowfall', 'wind_direction_10m', 'wind_speed_10m']\n",
      "2025-05-27 08:32:51,613 - build_training_set - INFO - ❓ Price NaN count: 0/1920 (0.0%)\n",
      "2025-05-27 08:32:51,625 - build_training_set - INFO - ✅ Opgeslagen als training_set in WARP.db\n",
      "2025-05-27 08:32:51,626 - build_training_set - INFO - 🔒 Verbinding gesloten\n"
     ]
    },
    {
     "name": "stdout",
     "output_type": "stream",
     "text": [
      "Day 12: ✅ 168 predictions, Run: 03-26\n"
     ]
    },
    {
     "name": "stderr",
     "output_type": "stream",
     "text": [
      "2025-05-27 08:32:51,757 - build_training_set - INFO - 🚀 Start build van trainingset\n",
      "2025-05-27 08:32:51,757 - build_training_set - INFO - 🧠 Actuals van 2025-01-14 00:00:00+00:00 t/m 2025-03-27 23:00:00+00:00\n",
      "2025-05-27 08:32:51,757 - build_training_set - INFO - 📅 Forecast van run_date 2025-03-28 00:00:00+00:00, target range: 2025-03-28 00:00:00+00:00 → 2025-04-03 23:00:00+00:00\n",
      "2025-05-27 08:32:51,774 - build_training_set - INFO - ✅ Actuals geladen: 1752 rijen\n",
      "2025-05-27 08:32:51,915 - build_training_set - INFO - ✅ Added actual prices to 168 forecast rows\n",
      "/Users/Twan/Library/Mobile Documents/com~apple~CloudDocs/Data Science/Data Projects EASI/ENEXIS/src/utils/build_training_set.py:106: FutureWarning: The behavior of DataFrame concatenation with empty or all-NA entries is deprecated. In a future version, this will no longer exclude empty or all-NA columns when determining the result dtypes. To retain the old behavior, exclude the relevant entries before the concat operation.\n",
      "  df_combined = pd.concat([df_actuals, df_preds], ignore_index=True)\n",
      "2025-05-27 08:32:51,923 - build_training_set - INFO - 📦 Eindtabel bevat: 1920 rijen, 31 kolommen\n",
      "2025-05-27 08:32:51,924 - build_training_set - INFO - 🧾 Kolommen: ['Price', 'target_datetime', 'Load', 'shortwave_radiation', 'temperature_2m', 'direct_normal_irradiance', 'diffuse_radiation', 'Flow_NO', 'yearday_cos', 'Flow_GB', 'month', 'is_dst', 'yearday_sin', 'is_non_working_day', 'hour_cos', 'is_weekend', 'cloud_cover', 'weekday_sin', 'hour_sin', 'weekday_cos', 'apparent_temperature', 'day_of_week', 'day_of_year', 'direct_radiation', 'hour', 'is_holiday', 'local_datetime', 'run_date', 'snowfall', 'wind_direction_10m', 'wind_speed_10m']\n",
      "2025-05-27 08:32:51,924 - build_training_set - INFO - ❓ Price NaN count: 0/1920 (0.0%)\n",
      "2025-05-27 08:32:51,935 - build_training_set - INFO - ✅ Opgeslagen als training_set in WARP.db\n",
      "2025-05-27 08:32:51,937 - build_training_set - INFO - 🔒 Verbinding gesloten\n"
     ]
    },
    {
     "name": "stdout",
     "output_type": "stream",
     "text": [
      "Day 13: ✅ 168 predictions, Run: 03-27\n"
     ]
    },
    {
     "name": "stderr",
     "output_type": "stream",
     "text": [
      "2025-05-27 08:32:52,066 - build_training_set - INFO - 🚀 Start build van trainingset\n",
      "2025-05-27 08:32:52,066 - build_training_set - INFO - 🧠 Actuals van 2025-01-15 00:00:00+00:00 t/m 2025-03-28 23:00:00+00:00\n",
      "2025-05-27 08:32:52,066 - build_training_set - INFO - 📅 Forecast van run_date 2025-03-29 00:00:00+00:00, target range: 2025-03-29 00:00:00+00:00 → 2025-04-04 23:00:00+00:00\n",
      "2025-05-27 08:32:52,083 - build_training_set - INFO - ✅ Actuals geladen: 1752 rijen\n",
      "2025-05-27 08:32:52,224 - build_training_set - INFO - ✅ Added actual prices to 168 forecast rows\n",
      "/Users/Twan/Library/Mobile Documents/com~apple~CloudDocs/Data Science/Data Projects EASI/ENEXIS/src/utils/build_training_set.py:106: FutureWarning: The behavior of DataFrame concatenation with empty or all-NA entries is deprecated. In a future version, this will no longer exclude empty or all-NA columns when determining the result dtypes. To retain the old behavior, exclude the relevant entries before the concat operation.\n",
      "  df_combined = pd.concat([df_actuals, df_preds], ignore_index=True)\n",
      "2025-05-27 08:32:52,233 - build_training_set - INFO - 📦 Eindtabel bevat: 1920 rijen, 31 kolommen\n",
      "2025-05-27 08:32:52,233 - build_training_set - INFO - 🧾 Kolommen: ['Price', 'target_datetime', 'Load', 'shortwave_radiation', 'temperature_2m', 'direct_normal_irradiance', 'diffuse_radiation', 'Flow_NO', 'yearday_cos', 'Flow_GB', 'month', 'is_dst', 'yearday_sin', 'is_non_working_day', 'hour_cos', 'is_weekend', 'cloud_cover', 'weekday_sin', 'hour_sin', 'weekday_cos', 'apparent_temperature', 'day_of_week', 'day_of_year', 'direct_radiation', 'hour', 'is_holiday', 'local_datetime', 'run_date', 'snowfall', 'wind_direction_10m', 'wind_speed_10m']\n",
      "2025-05-27 08:32:52,233 - build_training_set - INFO - ❓ Price NaN count: 0/1920 (0.0%)\n"
     ]
    },
    {
     "name": "stdout",
     "output_type": "stream",
     "text": [
      "Day 14: ✅ 168 predictions, Run: 03-28\n"
     ]
    },
    {
     "name": "stderr",
     "output_type": "stream",
     "text": [
      "2025-05-27 08:32:52,274 - build_training_set - INFO - ✅ Opgeslagen als training_set in WARP.db\n",
      "2025-05-27 08:32:52,275 - build_training_set - INFO - 🔒 Verbinding gesloten\n",
      "2025-05-27 08:32:52,405 - build_training_set - INFO - 🚀 Start build van trainingset\n",
      "2025-05-27 08:32:52,406 - build_training_set - INFO - 🧠 Actuals van 2025-01-16 00:00:00+00:00 t/m 2025-03-29 23:00:00+00:00\n",
      "2025-05-27 08:32:52,406 - build_training_set - INFO - 📅 Forecast van run_date 2025-03-30 00:00:00+00:00, target range: 2025-03-30 00:00:00+00:00 → 2025-04-05 23:00:00+00:00\n",
      "2025-05-27 08:32:52,421 - build_training_set - INFO - ✅ Actuals geladen: 1752 rijen\n",
      "2025-05-27 08:32:52,561 - build_training_set - INFO - ✅ Added actual prices to 168 forecast rows\n",
      "/Users/Twan/Library/Mobile Documents/com~apple~CloudDocs/Data Science/Data Projects EASI/ENEXIS/src/utils/build_training_set.py:106: FutureWarning: The behavior of DataFrame concatenation with empty or all-NA entries is deprecated. In a future version, this will no longer exclude empty or all-NA columns when determining the result dtypes. To retain the old behavior, exclude the relevant entries before the concat operation.\n",
      "  df_combined = pd.concat([df_actuals, df_preds], ignore_index=True)\n",
      "2025-05-27 08:32:52,570 - build_training_set - INFO - 📦 Eindtabel bevat: 1920 rijen, 31 kolommen\n",
      "2025-05-27 08:32:52,571 - build_training_set - INFO - 🧾 Kolommen: ['Price', 'target_datetime', 'Load', 'shortwave_radiation', 'temperature_2m', 'direct_normal_irradiance', 'diffuse_radiation', 'Flow_NO', 'yearday_cos', 'Flow_GB', 'month', 'is_dst', 'yearday_sin', 'is_non_working_day', 'hour_cos', 'is_weekend', 'cloud_cover', 'weekday_sin', 'hour_sin', 'weekday_cos', 'apparent_temperature', 'day_of_week', 'day_of_year', 'direct_radiation', 'hour', 'is_holiday', 'local_datetime', 'run_date', 'snowfall', 'wind_direction_10m', 'wind_speed_10m']\n",
      "2025-05-27 08:32:52,571 - build_training_set - INFO - ❓ Price NaN count: 0/1920 (0.0%)\n",
      "2025-05-27 08:32:52,583 - build_training_set - INFO - ✅ Opgeslagen als training_set in WARP.db\n",
      "2025-05-27 08:32:52,583 - build_training_set - INFO - 🔒 Verbinding gesloten\n"
     ]
    },
    {
     "name": "stdout",
     "output_type": "stream",
     "text": [
      "Day 15: ✅ 168 predictions, Run: 03-29\n"
     ]
    },
    {
     "name": "stderr",
     "output_type": "stream",
     "text": [
      "2025-05-27 08:32:52,715 - build_training_set - INFO - 🚀 Start build van trainingset\n",
      "2025-05-27 08:32:52,715 - build_training_set - INFO - 🧠 Actuals van 2025-01-17 00:00:00+00:00 t/m 2025-03-30 23:00:00+00:00\n",
      "2025-05-27 08:32:52,715 - build_training_set - INFO - 📅 Forecast van run_date 2025-03-31 00:00:00+00:00, target range: 2025-03-31 00:00:00+00:00 → 2025-04-06 23:00:00+00:00\n",
      "2025-05-27 08:32:52,733 - build_training_set - INFO - ✅ Actuals geladen: 1752 rijen\n",
      "2025-05-27 08:32:52,870 - build_training_set - INFO - ✅ Added actual prices to 168 forecast rows\n",
      "/Users/Twan/Library/Mobile Documents/com~apple~CloudDocs/Data Science/Data Projects EASI/ENEXIS/src/utils/build_training_set.py:106: FutureWarning: The behavior of DataFrame concatenation with empty or all-NA entries is deprecated. In a future version, this will no longer exclude empty or all-NA columns when determining the result dtypes. To retain the old behavior, exclude the relevant entries before the concat operation.\n",
      "  df_combined = pd.concat([df_actuals, df_preds], ignore_index=True)\n",
      "2025-05-27 08:32:52,879 - build_training_set - INFO - 📦 Eindtabel bevat: 1920 rijen, 31 kolommen\n",
      "2025-05-27 08:32:52,880 - build_training_set - INFO - 🧾 Kolommen: ['Price', 'target_datetime', 'Load', 'shortwave_radiation', 'temperature_2m', 'direct_normal_irradiance', 'diffuse_radiation', 'Flow_NO', 'yearday_cos', 'Flow_GB', 'month', 'is_dst', 'yearday_sin', 'is_non_working_day', 'hour_cos', 'is_weekend', 'cloud_cover', 'weekday_sin', 'hour_sin', 'weekday_cos', 'apparent_temperature', 'day_of_week', 'day_of_year', 'direct_radiation', 'hour', 'is_holiday', 'local_datetime', 'run_date', 'snowfall', 'wind_direction_10m', 'wind_speed_10m']\n",
      "2025-05-27 08:32:52,880 - build_training_set - INFO - ❓ Price NaN count: 0/1920 (0.0%)\n",
      "2025-05-27 08:32:52,891 - build_training_set - INFO - ✅ Opgeslagen als training_set in WARP.db\n",
      "2025-05-27 08:32:52,892 - build_training_set - INFO - 🔒 Verbinding gesloten\n"
     ]
    },
    {
     "name": "stdout",
     "output_type": "stream",
     "text": [
      "Day 16: ✅ 168 predictions, Run: 03-30\n"
     ]
    },
    {
     "name": "stderr",
     "output_type": "stream",
     "text": [
      "2025-05-27 08:32:53,024 - build_training_set - INFO - 🚀 Start build van trainingset\n",
      "2025-05-27 08:32:53,024 - build_training_set - INFO - 🧠 Actuals van 2025-01-18 00:00:00+00:00 t/m 2025-03-31 23:00:00+00:00\n",
      "2025-05-27 08:32:53,024 - build_training_set - INFO - 📅 Forecast van run_date 2025-04-01 00:00:00+00:00, target range: 2025-04-01 00:00:00+00:00 → 2025-04-07 23:00:00+00:00\n",
      "2025-05-27 08:32:53,040 - build_training_set - INFO - ✅ Actuals geladen: 1752 rijen\n",
      "2025-05-27 08:32:53,180 - build_training_set - INFO - ✅ Added actual prices to 168 forecast rows\n",
      "/Users/Twan/Library/Mobile Documents/com~apple~CloudDocs/Data Science/Data Projects EASI/ENEXIS/src/utils/build_training_set.py:106: FutureWarning: The behavior of DataFrame concatenation with empty or all-NA entries is deprecated. In a future version, this will no longer exclude empty or all-NA columns when determining the result dtypes. To retain the old behavior, exclude the relevant entries before the concat operation.\n",
      "  df_combined = pd.concat([df_actuals, df_preds], ignore_index=True)\n",
      "2025-05-27 08:32:53,189 - build_training_set - INFO - 📦 Eindtabel bevat: 1920 rijen, 31 kolommen\n",
      "2025-05-27 08:32:53,189 - build_training_set - INFO - 🧾 Kolommen: ['Price', 'target_datetime', 'Load', 'shortwave_radiation', 'temperature_2m', 'direct_normal_irradiance', 'diffuse_radiation', 'Flow_NO', 'yearday_cos', 'Flow_GB', 'month', 'is_dst', 'yearday_sin', 'is_non_working_day', 'hour_cos', 'is_weekend', 'cloud_cover', 'weekday_sin', 'hour_sin', 'weekday_cos', 'apparent_temperature', 'day_of_week', 'day_of_year', 'direct_radiation', 'hour', 'is_holiday', 'local_datetime', 'run_date', 'snowfall', 'wind_direction_10m', 'wind_speed_10m']\n",
      "2025-05-27 08:32:53,190 - build_training_set - INFO - ❓ Price NaN count: 0/1920 (0.0%)\n",
      "2025-05-27 08:32:53,202 - build_training_set - INFO - ✅ Opgeslagen als training_set in WARP.db\n",
      "2025-05-27 08:32:53,203 - build_training_set - INFO - 🔒 Verbinding gesloten\n"
     ]
    },
    {
     "name": "stdout",
     "output_type": "stream",
     "text": [
      "Day 17: ✅ 168 predictions, Run: 03-31\n"
     ]
    },
    {
     "name": "stderr",
     "output_type": "stream",
     "text": [
      "2025-05-27 08:32:53,370 - build_training_set - INFO - 🚀 Start build van trainingset\n",
      "2025-05-27 08:32:53,370 - build_training_set - INFO - 🧠 Actuals van 2025-01-19 00:00:00+00:00 t/m 2025-04-01 23:00:00+00:00\n",
      "2025-05-27 08:32:53,370 - build_training_set - INFO - 📅 Forecast van run_date 2025-04-02 00:00:00+00:00, target range: 2025-04-02 00:00:00+00:00 → 2025-04-08 23:00:00+00:00\n",
      "2025-05-27 08:32:53,387 - build_training_set - INFO - ✅ Actuals geladen: 1752 rijen\n",
      "2025-05-27 08:32:53,527 - build_training_set - INFO - ✅ Added actual prices to 168 forecast rows\n",
      "/Users/Twan/Library/Mobile Documents/com~apple~CloudDocs/Data Science/Data Projects EASI/ENEXIS/src/utils/build_training_set.py:106: FutureWarning: The behavior of DataFrame concatenation with empty or all-NA entries is deprecated. In a future version, this will no longer exclude empty or all-NA columns when determining the result dtypes. To retain the old behavior, exclude the relevant entries before the concat operation.\n",
      "  df_combined = pd.concat([df_actuals, df_preds], ignore_index=True)\n",
      "2025-05-27 08:32:53,536 - build_training_set - INFO - 📦 Eindtabel bevat: 1920 rijen, 31 kolommen\n",
      "2025-05-27 08:32:53,536 - build_training_set - INFO - 🧾 Kolommen: ['Price', 'target_datetime', 'Load', 'shortwave_radiation', 'temperature_2m', 'direct_normal_irradiance', 'diffuse_radiation', 'Flow_NO', 'yearday_cos', 'Flow_GB', 'month', 'is_dst', 'yearday_sin', 'is_non_working_day', 'hour_cos', 'is_weekend', 'cloud_cover', 'weekday_sin', 'hour_sin', 'weekday_cos', 'apparent_temperature', 'day_of_week', 'day_of_year', 'direct_radiation', 'hour', 'is_holiday', 'local_datetime', 'run_date', 'snowfall', 'wind_direction_10m', 'wind_speed_10m']\n",
      "2025-05-27 08:32:53,536 - build_training_set - INFO - ❓ Price NaN count: 0/1920 (0.0%)\n",
      "2025-05-27 08:32:53,548 - build_training_set - INFO - ✅ Opgeslagen als training_set in WARP.db\n",
      "2025-05-27 08:32:53,548 - build_training_set - INFO - 🔒 Verbinding gesloten\n"
     ]
    },
    {
     "name": "stdout",
     "output_type": "stream",
     "text": [
      "Day 18: ✅ 168 predictions, Run: 04-01\n"
     ]
    },
    {
     "name": "stderr",
     "output_type": "stream",
     "text": [
      "2025-05-27 08:32:53,677 - build_training_set - INFO - 🚀 Start build van trainingset\n",
      "2025-05-27 08:32:53,677 - build_training_set - INFO - 🧠 Actuals van 2025-01-20 00:00:00+00:00 t/m 2025-04-02 23:00:00+00:00\n",
      "2025-05-27 08:32:53,677 - build_training_set - INFO - 📅 Forecast van run_date 2025-04-03 00:00:00+00:00, target range: 2025-04-03 00:00:00+00:00 → 2025-04-09 23:00:00+00:00\n",
      "2025-05-27 08:32:53,694 - build_training_set - INFO - ✅ Actuals geladen: 1752 rijen\n",
      "2025-05-27 08:32:53,833 - build_training_set - INFO - ✅ Added actual prices to 168 forecast rows\n",
      "/Users/Twan/Library/Mobile Documents/com~apple~CloudDocs/Data Science/Data Projects EASI/ENEXIS/src/utils/build_training_set.py:106: FutureWarning: The behavior of DataFrame concatenation with empty or all-NA entries is deprecated. In a future version, this will no longer exclude empty or all-NA columns when determining the result dtypes. To retain the old behavior, exclude the relevant entries before the concat operation.\n",
      "  df_combined = pd.concat([df_actuals, df_preds], ignore_index=True)\n",
      "2025-05-27 08:32:53,842 - build_training_set - INFO - 📦 Eindtabel bevat: 1920 rijen, 31 kolommen\n",
      "2025-05-27 08:32:53,842 - build_training_set - INFO - 🧾 Kolommen: ['Price', 'target_datetime', 'Load', 'shortwave_radiation', 'temperature_2m', 'direct_normal_irradiance', 'diffuse_radiation', 'Flow_NO', 'yearday_cos', 'Flow_GB', 'month', 'is_dst', 'yearday_sin', 'is_non_working_day', 'hour_cos', 'is_weekend', 'cloud_cover', 'weekday_sin', 'hour_sin', 'weekday_cos', 'apparent_temperature', 'day_of_week', 'day_of_year', 'direct_radiation', 'hour', 'is_holiday', 'local_datetime', 'run_date', 'snowfall', 'wind_direction_10m', 'wind_speed_10m']\n",
      "2025-05-27 08:32:53,842 - build_training_set - INFO - ❓ Price NaN count: 0/1920 (0.0%)\n",
      "2025-05-27 08:32:53,854 - build_training_set - INFO - ✅ Opgeslagen als training_set in WARP.db\n",
      "2025-05-27 08:32:53,854 - build_training_set - INFO - 🔒 Verbinding gesloten\n"
     ]
    },
    {
     "name": "stdout",
     "output_type": "stream",
     "text": [
      "Day 19: ✅ 168 predictions, Run: 04-02\n"
     ]
    },
    {
     "name": "stderr",
     "output_type": "stream",
     "text": [
      "2025-05-27 08:32:53,985 - build_training_set - INFO - 🚀 Start build van trainingset\n",
      "2025-05-27 08:32:53,986 - build_training_set - INFO - 🧠 Actuals van 2025-01-21 00:00:00+00:00 t/m 2025-04-03 23:00:00+00:00\n",
      "2025-05-27 08:32:53,986 - build_training_set - INFO - 📅 Forecast van run_date 2025-04-04 00:00:00+00:00, target range: 2025-04-04 00:00:00+00:00 → 2025-04-10 23:00:00+00:00\n",
      "2025-05-27 08:32:54,002 - build_training_set - INFO - ✅ Actuals geladen: 1752 rijen\n",
      "2025-05-27 08:32:54,143 - build_training_set - INFO - ✅ Added actual prices to 168 forecast rows\n",
      "/Users/Twan/Library/Mobile Documents/com~apple~CloudDocs/Data Science/Data Projects EASI/ENEXIS/src/utils/build_training_set.py:106: FutureWarning: The behavior of DataFrame concatenation with empty or all-NA entries is deprecated. In a future version, this will no longer exclude empty or all-NA columns when determining the result dtypes. To retain the old behavior, exclude the relevant entries before the concat operation.\n",
      "  df_combined = pd.concat([df_actuals, df_preds], ignore_index=True)\n",
      "2025-05-27 08:32:54,151 - build_training_set - INFO - 📦 Eindtabel bevat: 1920 rijen, 31 kolommen\n",
      "2025-05-27 08:32:54,151 - build_training_set - INFO - 🧾 Kolommen: ['Price', 'target_datetime', 'Load', 'shortwave_radiation', 'temperature_2m', 'direct_normal_irradiance', 'diffuse_radiation', 'Flow_NO', 'yearday_cos', 'Flow_GB', 'month', 'is_dst', 'yearday_sin', 'is_non_working_day', 'hour_cos', 'is_weekend', 'cloud_cover', 'weekday_sin', 'hour_sin', 'weekday_cos', 'apparent_temperature', 'day_of_week', 'day_of_year', 'direct_radiation', 'hour', 'is_holiday', 'local_datetime', 'run_date', 'snowfall', 'wind_direction_10m', 'wind_speed_10m']\n",
      "2025-05-27 08:32:54,152 - build_training_set - INFO - ❓ Price NaN count: 0/1920 (0.0%)\n",
      "2025-05-27 08:32:54,162 - build_training_set - INFO - ✅ Opgeslagen als training_set in WARP.db\n",
      "2025-05-27 08:32:54,164 - build_training_set - INFO - 🔒 Verbinding gesloten\n"
     ]
    },
    {
     "name": "stdout",
     "output_type": "stream",
     "text": [
      "Day 20: ✅ 168 predictions, Run: 04-03\n"
     ]
    },
    {
     "name": "stderr",
     "output_type": "stream",
     "text": [
      "2025-05-27 08:32:54,296 - build_training_set - INFO - 🚀 Start build van trainingset\n",
      "2025-05-27 08:32:54,297 - build_training_set - INFO - 🧠 Actuals van 2025-01-22 00:00:00+00:00 t/m 2025-04-04 23:00:00+00:00\n",
      "2025-05-27 08:32:54,297 - build_training_set - INFO - 📅 Forecast van run_date 2025-04-05 00:00:00+00:00, target range: 2025-04-05 00:00:00+00:00 → 2025-04-11 23:00:00+00:00\n",
      "2025-05-27 08:32:54,314 - build_training_set - INFO - ✅ Actuals geladen: 1752 rijen\n",
      "2025-05-27 08:32:54,477 - build_training_set - INFO - ✅ Added actual prices to 168 forecast rows\n",
      "/Users/Twan/Library/Mobile Documents/com~apple~CloudDocs/Data Science/Data Projects EASI/ENEXIS/src/utils/build_training_set.py:106: FutureWarning: The behavior of DataFrame concatenation with empty or all-NA entries is deprecated. In a future version, this will no longer exclude empty or all-NA columns when determining the result dtypes. To retain the old behavior, exclude the relevant entries before the concat operation.\n",
      "  df_combined = pd.concat([df_actuals, df_preds], ignore_index=True)\n",
      "2025-05-27 08:32:54,486 - build_training_set - INFO - 📦 Eindtabel bevat: 1920 rijen, 31 kolommen\n",
      "2025-05-27 08:32:54,486 - build_training_set - INFO - 🧾 Kolommen: ['Price', 'target_datetime', 'Load', 'shortwave_radiation', 'temperature_2m', 'direct_normal_irradiance', 'diffuse_radiation', 'Flow_NO', 'yearday_cos', 'Flow_GB', 'month', 'is_dst', 'yearday_sin', 'is_non_working_day', 'hour_cos', 'is_weekend', 'cloud_cover', 'weekday_sin', 'hour_sin', 'weekday_cos', 'apparent_temperature', 'day_of_week', 'day_of_year', 'direct_radiation', 'hour', 'is_holiday', 'local_datetime', 'run_date', 'snowfall', 'wind_direction_10m', 'wind_speed_10m']\n",
      "2025-05-27 08:32:54,486 - build_training_set - INFO - ❓ Price NaN count: 0/1920 (0.0%)\n"
     ]
    },
    {
     "name": "stdout",
     "output_type": "stream",
     "text": [
      "Day 21: ✅ 168 predictions, Run: 04-04\n"
     ]
    },
    {
     "name": "stderr",
     "output_type": "stream",
     "text": [
      "2025-05-27 08:32:54,498 - build_training_set - INFO - ✅ Opgeslagen als training_set in WARP.db\n",
      "2025-05-27 08:32:54,499 - build_training_set - INFO - 🔒 Verbinding gesloten\n",
      "2025-05-27 08:32:54,631 - build_training_set - INFO - 🚀 Start build van trainingset\n",
      "2025-05-27 08:32:54,631 - build_training_set - INFO - 🧠 Actuals van 2025-01-23 00:00:00+00:00 t/m 2025-04-05 23:00:00+00:00\n",
      "2025-05-27 08:32:54,631 - build_training_set - INFO - 📅 Forecast van run_date 2025-04-06 00:00:00+00:00, target range: 2025-04-06 00:00:00+00:00 → 2025-04-12 23:00:00+00:00\n",
      "2025-05-27 08:32:54,648 - build_training_set - INFO - ✅ Actuals geladen: 1752 rijen\n",
      "2025-05-27 08:32:54,786 - build_training_set - INFO - ✅ Added actual prices to 168 forecast rows\n",
      "/Users/Twan/Library/Mobile Documents/com~apple~CloudDocs/Data Science/Data Projects EASI/ENEXIS/src/utils/build_training_set.py:106: FutureWarning: The behavior of DataFrame concatenation with empty or all-NA entries is deprecated. In a future version, this will no longer exclude empty or all-NA columns when determining the result dtypes. To retain the old behavior, exclude the relevant entries before the concat operation.\n",
      "  df_combined = pd.concat([df_actuals, df_preds], ignore_index=True)\n",
      "2025-05-27 08:32:54,795 - build_training_set - INFO - 📦 Eindtabel bevat: 1920 rijen, 31 kolommen\n",
      "2025-05-27 08:32:54,795 - build_training_set - INFO - 🧾 Kolommen: ['Price', 'target_datetime', 'Load', 'shortwave_radiation', 'temperature_2m', 'direct_normal_irradiance', 'diffuse_radiation', 'Flow_NO', 'yearday_cos', 'Flow_GB', 'month', 'is_dst', 'yearday_sin', 'is_non_working_day', 'hour_cos', 'is_weekend', 'cloud_cover', 'weekday_sin', 'hour_sin', 'weekday_cos', 'apparent_temperature', 'day_of_week', 'day_of_year', 'direct_radiation', 'hour', 'is_holiday', 'local_datetime', 'run_date', 'snowfall', 'wind_direction_10m', 'wind_speed_10m']\n",
      "2025-05-27 08:32:54,795 - build_training_set - INFO - ❓ Price NaN count: 0/1920 (0.0%)\n",
      "2025-05-27 08:32:54,807 - build_training_set - INFO - ✅ Opgeslagen als training_set in WARP.db\n",
      "2025-05-27 08:32:54,808 - build_training_set - INFO - 🔒 Verbinding gesloten\n"
     ]
    },
    {
     "name": "stdout",
     "output_type": "stream",
     "text": [
      "Day 22: ✅ 168 predictions, Run: 04-05\n"
     ]
    },
    {
     "name": "stderr",
     "output_type": "stream",
     "text": [
      "2025-05-27 08:32:54,939 - build_training_set - INFO - 🚀 Start build van trainingset\n",
      "2025-05-27 08:32:54,940 - build_training_set - INFO - 🧠 Actuals van 2025-01-24 00:00:00+00:00 t/m 2025-04-06 23:00:00+00:00\n",
      "2025-05-27 08:32:54,940 - build_training_set - INFO - 📅 Forecast van run_date 2025-04-07 00:00:00+00:00, target range: 2025-04-07 00:00:00+00:00 → 2025-04-13 23:00:00+00:00\n",
      "2025-05-27 08:32:54,957 - build_training_set - INFO - ✅ Actuals geladen: 1752 rijen\n",
      "2025-05-27 08:32:55,096 - build_training_set - INFO - ✅ Added actual prices to 168 forecast rows\n",
      "/Users/Twan/Library/Mobile Documents/com~apple~CloudDocs/Data Science/Data Projects EASI/ENEXIS/src/utils/build_training_set.py:106: FutureWarning: The behavior of DataFrame concatenation with empty or all-NA entries is deprecated. In a future version, this will no longer exclude empty or all-NA columns when determining the result dtypes. To retain the old behavior, exclude the relevant entries before the concat operation.\n",
      "  df_combined = pd.concat([df_actuals, df_preds], ignore_index=True)\n",
      "2025-05-27 08:32:55,105 - build_training_set - INFO - 📦 Eindtabel bevat: 1920 rijen, 31 kolommen\n",
      "2025-05-27 08:32:55,105 - build_training_set - INFO - 🧾 Kolommen: ['Price', 'target_datetime', 'Load', 'shortwave_radiation', 'temperature_2m', 'direct_normal_irradiance', 'diffuse_radiation', 'Flow_NO', 'yearday_cos', 'Flow_GB', 'month', 'is_dst', 'yearday_sin', 'is_non_working_day', 'hour_cos', 'is_weekend', 'cloud_cover', 'weekday_sin', 'hour_sin', 'weekday_cos', 'apparent_temperature', 'day_of_week', 'day_of_year', 'direct_radiation', 'hour', 'is_holiday', 'local_datetime', 'run_date', 'snowfall', 'wind_direction_10m', 'wind_speed_10m']\n",
      "2025-05-27 08:32:55,106 - build_training_set - INFO - ❓ Price NaN count: 0/1920 (0.0%)\n",
      "2025-05-27 08:32:55,119 - build_training_set - INFO - ✅ Opgeslagen als training_set in WARP.db\n",
      "2025-05-27 08:32:55,120 - build_training_set - INFO - 🔒 Verbinding gesloten\n"
     ]
    },
    {
     "name": "stdout",
     "output_type": "stream",
     "text": [
      "Day 23: ✅ 168 predictions, Run: 04-06\n"
     ]
    },
    {
     "name": "stderr",
     "output_type": "stream",
     "text": [
      "2025-05-27 08:32:55,248 - build_training_set - INFO - 🚀 Start build van trainingset\n",
      "2025-05-27 08:32:55,249 - build_training_set - INFO - 🧠 Actuals van 2025-01-25 00:00:00+00:00 t/m 2025-04-07 23:00:00+00:00\n",
      "2025-05-27 08:32:55,249 - build_training_set - INFO - 📅 Forecast van run_date 2025-04-08 00:00:00+00:00, target range: 2025-04-08 00:00:00+00:00 → 2025-04-14 23:00:00+00:00\n",
      "2025-05-27 08:32:55,265 - build_training_set - INFO - ✅ Actuals geladen: 1752 rijen\n",
      "2025-05-27 08:32:55,405 - build_training_set - INFO - ✅ Added actual prices to 168 forecast rows\n",
      "/Users/Twan/Library/Mobile Documents/com~apple~CloudDocs/Data Science/Data Projects EASI/ENEXIS/src/utils/build_training_set.py:106: FutureWarning: The behavior of DataFrame concatenation with empty or all-NA entries is deprecated. In a future version, this will no longer exclude empty or all-NA columns when determining the result dtypes. To retain the old behavior, exclude the relevant entries before the concat operation.\n",
      "  df_combined = pd.concat([df_actuals, df_preds], ignore_index=True)\n",
      "2025-05-27 08:32:55,414 - build_training_set - INFO - 📦 Eindtabel bevat: 1920 rijen, 31 kolommen\n",
      "2025-05-27 08:32:55,414 - build_training_set - INFO - 🧾 Kolommen: ['Price', 'target_datetime', 'Load', 'shortwave_radiation', 'temperature_2m', 'direct_normal_irradiance', 'diffuse_radiation', 'Flow_NO', 'yearday_cos', 'Flow_GB', 'month', 'is_dst', 'yearday_sin', 'is_non_working_day', 'hour_cos', 'is_weekend', 'cloud_cover', 'weekday_sin', 'hour_sin', 'weekday_cos', 'apparent_temperature', 'day_of_week', 'day_of_year', 'direct_radiation', 'hour', 'is_holiday', 'local_datetime', 'run_date', 'snowfall', 'wind_direction_10m', 'wind_speed_10m']\n",
      "2025-05-27 08:32:55,414 - build_training_set - INFO - ❓ Price NaN count: 0/1920 (0.0%)\n",
      "2025-05-27 08:32:55,426 - build_training_set - INFO - ✅ Opgeslagen als training_set in WARP.db\n",
      "2025-05-27 08:32:55,426 - build_training_set - INFO - 🔒 Verbinding gesloten\n"
     ]
    },
    {
     "name": "stdout",
     "output_type": "stream",
     "text": [
      "Day 24: ✅ 168 predictions, Run: 04-07\n"
     ]
    },
    {
     "name": "stderr",
     "output_type": "stream",
     "text": [
      "2025-05-27 08:32:55,584 - build_training_set - INFO - 🚀 Start build van trainingset\n",
      "2025-05-27 08:32:55,585 - build_training_set - INFO - 🧠 Actuals van 2025-01-26 00:00:00+00:00 t/m 2025-04-08 23:00:00+00:00\n",
      "2025-05-27 08:32:55,585 - build_training_set - INFO - 📅 Forecast van run_date 2025-04-09 00:00:00+00:00, target range: 2025-04-09 00:00:00+00:00 → 2025-04-15 23:00:00+00:00\n",
      "2025-05-27 08:32:55,601 - build_training_set - INFO - ✅ Actuals geladen: 1752 rijen\n",
      "2025-05-27 08:32:55,740 - build_training_set - INFO - ✅ Added actual prices to 168 forecast rows\n",
      "/Users/Twan/Library/Mobile Documents/com~apple~CloudDocs/Data Science/Data Projects EASI/ENEXIS/src/utils/build_training_set.py:106: FutureWarning: The behavior of DataFrame concatenation with empty or all-NA entries is deprecated. In a future version, this will no longer exclude empty or all-NA columns when determining the result dtypes. To retain the old behavior, exclude the relevant entries before the concat operation.\n",
      "  df_combined = pd.concat([df_actuals, df_preds], ignore_index=True)\n",
      "2025-05-27 08:32:55,749 - build_training_set - INFO - 📦 Eindtabel bevat: 1920 rijen, 31 kolommen\n",
      "2025-05-27 08:32:55,750 - build_training_set - INFO - 🧾 Kolommen: ['Price', 'target_datetime', 'Load', 'shortwave_radiation', 'temperature_2m', 'direct_normal_irradiance', 'diffuse_radiation', 'Flow_NO', 'yearday_cos', 'Flow_GB', 'month', 'is_dst', 'yearday_sin', 'is_non_working_day', 'hour_cos', 'is_weekend', 'cloud_cover', 'weekday_sin', 'hour_sin', 'weekday_cos', 'apparent_temperature', 'day_of_week', 'day_of_year', 'direct_radiation', 'hour', 'is_holiday', 'local_datetime', 'run_date', 'snowfall', 'wind_direction_10m', 'wind_speed_10m']\n",
      "2025-05-27 08:32:55,750 - build_training_set - INFO - ❓ Price NaN count: 0/1920 (0.0%)\n",
      "2025-05-27 08:32:55,761 - build_training_set - INFO - ✅ Opgeslagen als training_set in WARP.db\n",
      "2025-05-27 08:32:55,762 - build_training_set - INFO - 🔒 Verbinding gesloten\n"
     ]
    },
    {
     "name": "stdout",
     "output_type": "stream",
     "text": [
      "Day 25: ✅ 168 predictions, Run: 04-08\n"
     ]
    },
    {
     "name": "stderr",
     "output_type": "stream",
     "text": [
      "2025-05-27 08:32:55,894 - build_training_set - INFO - 🚀 Start build van trainingset\n",
      "2025-05-27 08:32:55,894 - build_training_set - INFO - 🧠 Actuals van 2025-01-27 00:00:00+00:00 t/m 2025-04-09 23:00:00+00:00\n",
      "2025-05-27 08:32:55,894 - build_training_set - INFO - 📅 Forecast van run_date 2025-04-10 00:00:00+00:00, target range: 2025-04-10 00:00:00+00:00 → 2025-04-16 23:00:00+00:00\n",
      "2025-05-27 08:32:55,911 - build_training_set - INFO - ✅ Actuals geladen: 1752 rijen\n",
      "2025-05-27 08:32:56,052 - build_training_set - INFO - ✅ Added actual prices to 168 forecast rows\n",
      "/Users/Twan/Library/Mobile Documents/com~apple~CloudDocs/Data Science/Data Projects EASI/ENEXIS/src/utils/build_training_set.py:106: FutureWarning: The behavior of DataFrame concatenation with empty or all-NA entries is deprecated. In a future version, this will no longer exclude empty or all-NA columns when determining the result dtypes. To retain the old behavior, exclude the relevant entries before the concat operation.\n",
      "  df_combined = pd.concat([df_actuals, df_preds], ignore_index=True)\n",
      "2025-05-27 08:32:56,060 - build_training_set - INFO - 📦 Eindtabel bevat: 1920 rijen, 31 kolommen\n",
      "2025-05-27 08:32:56,060 - build_training_set - INFO - 🧾 Kolommen: ['Price', 'target_datetime', 'Load', 'shortwave_radiation', 'temperature_2m', 'direct_normal_irradiance', 'diffuse_radiation', 'Flow_NO', 'yearday_cos', 'Flow_GB', 'month', 'is_dst', 'yearday_sin', 'is_non_working_day', 'hour_cos', 'is_weekend', 'cloud_cover', 'weekday_sin', 'hour_sin', 'weekday_cos', 'apparent_temperature', 'day_of_week', 'day_of_year', 'direct_radiation', 'hour', 'is_holiday', 'local_datetime', 'run_date', 'snowfall', 'wind_direction_10m', 'wind_speed_10m']\n",
      "2025-05-27 08:32:56,061 - build_training_set - INFO - ❓ Price NaN count: 0/1920 (0.0%)\n",
      "2025-05-27 08:32:56,072 - build_training_set - INFO - ✅ Opgeslagen als training_set in WARP.db\n",
      "2025-05-27 08:32:56,073 - build_training_set - INFO - 🔒 Verbinding gesloten\n"
     ]
    },
    {
     "name": "stdout",
     "output_type": "stream",
     "text": [
      "Day 26: ✅ 168 predictions, Run: 04-09\n"
     ]
    },
    {
     "name": "stderr",
     "output_type": "stream",
     "text": [
      "2025-05-27 08:32:56,201 - build_training_set - INFO - 🚀 Start build van trainingset\n",
      "2025-05-27 08:32:56,201 - build_training_set - INFO - 🧠 Actuals van 2025-01-28 00:00:00+00:00 t/m 2025-04-10 23:00:00+00:00\n",
      "2025-05-27 08:32:56,201 - build_training_set - INFO - 📅 Forecast van run_date 2025-04-11 00:00:00+00:00, target range: 2025-04-11 00:00:00+00:00 → 2025-04-17 23:00:00+00:00\n",
      "2025-05-27 08:32:56,218 - build_training_set - INFO - ✅ Actuals geladen: 1752 rijen\n",
      "2025-05-27 08:32:56,358 - build_training_set - INFO - ✅ Added actual prices to 168 forecast rows\n",
      "/Users/Twan/Library/Mobile Documents/com~apple~CloudDocs/Data Science/Data Projects EASI/ENEXIS/src/utils/build_training_set.py:106: FutureWarning: The behavior of DataFrame concatenation with empty or all-NA entries is deprecated. In a future version, this will no longer exclude empty or all-NA columns when determining the result dtypes. To retain the old behavior, exclude the relevant entries before the concat operation.\n",
      "  df_combined = pd.concat([df_actuals, df_preds], ignore_index=True)\n",
      "2025-05-27 08:32:56,367 - build_training_set - INFO - 📦 Eindtabel bevat: 1920 rijen, 31 kolommen\n",
      "2025-05-27 08:32:56,367 - build_training_set - INFO - 🧾 Kolommen: ['Price', 'target_datetime', 'Load', 'shortwave_radiation', 'temperature_2m', 'direct_normal_irradiance', 'diffuse_radiation', 'Flow_NO', 'yearday_cos', 'Flow_GB', 'month', 'is_dst', 'yearday_sin', 'is_non_working_day', 'hour_cos', 'is_weekend', 'cloud_cover', 'weekday_sin', 'hour_sin', 'weekday_cos', 'apparent_temperature', 'day_of_week', 'day_of_year', 'direct_radiation', 'hour', 'is_holiday', 'local_datetime', 'run_date', 'snowfall', 'wind_direction_10m', 'wind_speed_10m']\n",
      "2025-05-27 08:32:56,367 - build_training_set - INFO - ❓ Price NaN count: 0/1920 (0.0%)\n",
      "2025-05-27 08:32:56,379 - build_training_set - INFO - ✅ Opgeslagen als training_set in WARP.db\n",
      "2025-05-27 08:32:56,379 - build_training_set - INFO - 🔒 Verbinding gesloten\n"
     ]
    },
    {
     "name": "stdout",
     "output_type": "stream",
     "text": [
      "Day 27: ✅ 168 predictions, Run: 04-10\n"
     ]
    },
    {
     "name": "stderr",
     "output_type": "stream",
     "text": [
      "2025-05-27 08:32:56,512 - build_training_set - INFO - 🚀 Start build van trainingset\n",
      "2025-05-27 08:32:56,512 - build_training_set - INFO - 🧠 Actuals van 2025-01-29 00:00:00+00:00 t/m 2025-04-11 23:00:00+00:00\n",
      "2025-05-27 08:32:56,512 - build_training_set - INFO - 📅 Forecast van run_date 2025-04-12 00:00:00+00:00, target range: 2025-04-12 00:00:00+00:00 → 2025-04-18 23:00:00+00:00\n",
      "2025-05-27 08:32:56,534 - build_training_set - INFO - ✅ Actuals geladen: 1752 rijen\n",
      "2025-05-27 08:32:56,696 - build_training_set - INFO - ✅ Added actual prices to 168 forecast rows\n",
      "/Users/Twan/Library/Mobile Documents/com~apple~CloudDocs/Data Science/Data Projects EASI/ENEXIS/src/utils/build_training_set.py:106: FutureWarning: The behavior of DataFrame concatenation with empty or all-NA entries is deprecated. In a future version, this will no longer exclude empty or all-NA columns when determining the result dtypes. To retain the old behavior, exclude the relevant entries before the concat operation.\n",
      "  df_combined = pd.concat([df_actuals, df_preds], ignore_index=True)\n",
      "2025-05-27 08:32:56,705 - build_training_set - INFO - 📦 Eindtabel bevat: 1920 rijen, 31 kolommen\n",
      "2025-05-27 08:32:56,705 - build_training_set - INFO - 🧾 Kolommen: ['Price', 'target_datetime', 'Load', 'shortwave_radiation', 'temperature_2m', 'direct_normal_irradiance', 'diffuse_radiation', 'Flow_NO', 'yearday_cos', 'Flow_GB', 'month', 'is_dst', 'yearday_sin', 'is_non_working_day', 'hour_cos', 'is_weekend', 'cloud_cover', 'weekday_sin', 'hour_sin', 'weekday_cos', 'apparent_temperature', 'day_of_week', 'day_of_year', 'direct_radiation', 'hour', 'is_holiday', 'local_datetime', 'run_date', 'snowfall', 'wind_direction_10m', 'wind_speed_10m']\n",
      "2025-05-27 08:32:56,706 - build_training_set - INFO - ❓ Price NaN count: 0/1920 (0.0%)\n"
     ]
    },
    {
     "name": "stdout",
     "output_type": "stream",
     "text": [
      "Day 28: ✅ 168 predictions, Run: 04-11\n"
     ]
    },
    {
     "name": "stderr",
     "output_type": "stream",
     "text": [
      "2025-05-27 08:32:56,720 - build_training_set - INFO - ✅ Opgeslagen als training_set in WARP.db\n",
      "2025-05-27 08:32:56,721 - build_training_set - INFO - 🔒 Verbinding gesloten\n",
      "2025-05-27 08:32:56,852 - build_training_set - INFO - 🚀 Start build van trainingset\n",
      "2025-05-27 08:32:56,853 - build_training_set - INFO - 🧠 Actuals van 2025-01-30 00:00:00+00:00 t/m 2025-04-12 23:00:00+00:00\n",
      "2025-05-27 08:32:56,853 - build_training_set - INFO - 📅 Forecast van run_date 2025-04-13 00:00:00+00:00, target range: 2025-04-13 00:00:00+00:00 → 2025-04-19 23:00:00+00:00\n",
      "2025-05-27 08:32:56,869 - build_training_set - INFO - ✅ Actuals geladen: 1752 rijen\n",
      "2025-05-27 08:32:57,006 - build_training_set - INFO - ✅ Added actual prices to 168 forecast rows\n",
      "/Users/Twan/Library/Mobile Documents/com~apple~CloudDocs/Data Science/Data Projects EASI/ENEXIS/src/utils/build_training_set.py:106: FutureWarning: The behavior of DataFrame concatenation with empty or all-NA entries is deprecated. In a future version, this will no longer exclude empty or all-NA columns when determining the result dtypes. To retain the old behavior, exclude the relevant entries before the concat operation.\n",
      "  df_combined = pd.concat([df_actuals, df_preds], ignore_index=True)\n",
      "2025-05-27 08:32:57,016 - build_training_set - INFO - 📦 Eindtabel bevat: 1920 rijen, 31 kolommen\n",
      "2025-05-27 08:32:57,016 - build_training_set - INFO - 🧾 Kolommen: ['Price', 'target_datetime', 'Load', 'shortwave_radiation', 'temperature_2m', 'direct_normal_irradiance', 'diffuse_radiation', 'Flow_NO', 'yearday_cos', 'Flow_GB', 'month', 'is_dst', 'yearday_sin', 'is_non_working_day', 'hour_cos', 'is_weekend', 'cloud_cover', 'weekday_sin', 'hour_sin', 'weekday_cos', 'apparent_temperature', 'day_of_week', 'day_of_year', 'direct_radiation', 'hour', 'is_holiday', 'local_datetime', 'run_date', 'snowfall', 'wind_direction_10m', 'wind_speed_10m']\n",
      "2025-05-27 08:32:57,016 - build_training_set - INFO - ❓ Price NaN count: 0/1920 (0.0%)\n",
      "2025-05-27 08:32:57,028 - build_training_set - INFO - ✅ Opgeslagen als training_set in WARP.db\n",
      "2025-05-27 08:32:57,028 - build_training_set - INFO - 🔒 Verbinding gesloten\n"
     ]
    },
    {
     "name": "stdout",
     "output_type": "stream",
     "text": [
      "Day 29: ✅ 168 predictions, Run: 04-12\n",
      "Day 30: ✅ 168 predictions, Run: 04-13\n",
      "\n",
      "📊 RMSE SUMMARY - 168h Forecast\n",
      "============================================================\n",
      "Successful runs: 30/30\n",
      "    iteration    run_date  valid_predictions      rmse\n",
      "0           1  2025-03-15                168  0.113546\n",
      "1           2  2025-03-16                168  0.116602\n",
      "2           3  2025-03-17                168  0.110639\n",
      "3           4  2025-03-18                168  0.114046\n",
      "4           5  2025-03-19                168  0.107027\n",
      "5           6  2025-03-20                168  0.098867\n",
      "6           7  2025-03-21                168  0.103344\n",
      "7           8  2025-03-22                168  0.103362\n",
      "8           9  2025-03-23                168  0.102114\n",
      "9          10  2025-03-24                168  0.123128\n",
      "10         11  2025-03-25                168  0.133307\n",
      "11         12  2025-03-26                168  0.112341\n",
      "12         13  2025-03-27                168  0.132834\n",
      "13         14  2025-03-28                168  0.153039\n",
      "14         15  2025-03-29                168  0.151305\n",
      "15         16  2025-03-30                168  0.125348\n",
      "16         17  2025-03-31                168  0.118052\n",
      "17         18  2025-04-01                168  0.143205\n",
      "18         19  2025-04-02                168  0.137322\n",
      "19         20  2025-04-03                168  0.107166\n",
      "20         21  2025-04-04                168  0.112159\n",
      "21         22  2025-04-05                168  0.113323\n",
      "22         23  2025-04-06                168  0.107191\n",
      "23         24  2025-04-07                168  0.111788\n",
      "24         25  2025-04-08                168  0.111244\n",
      "25         26  2025-04-09                168  0.116091\n",
      "26         27  2025-04-10                168  0.116946\n",
      "27         28  2025-04-11                168  0.114285\n",
      "28         29  2025-04-12                168  0.111656\n",
      "29         30  2025-04-13                168  0.105464\n"
     ]
    }
   ],
   "source": [
    "import pandas as pd\n",
    "import numpy as np\n",
    "from sklearn.metrics import mean_squared_error\n",
    "import xgboost as xgb\n",
    "\n",
    "# Test parameters\n",
    "base_start = \"2025-01-01 00:00:00\"\n",
    "base_end = \"2025-03-14 23:00:00\" \n",
    "base_run = \"2025-03-15 00:00:00\"\n",
    "\n",
    "# Forecast config\n",
    "forecast_horizon = 168  # 168 hours = 7 days\n",
    "\n",
    "# Storage for results\n",
    "rmse_results = []\n",
    "\n",
    "print(\"🔍 Testing XGBoost - RMSE per forecast day\")\n",
    "print(\"=\" * 60)\n",
    "\n",
    "for i in range(30):  # 30 rolling windows\n",
    "    start = pd.Timestamp(base_start) + pd.Timedelta(days=i)\n",
    "    end = pd.Timestamp(base_end) + pd.Timedelta(days=i)\n",
    "    run = pd.Timestamp(base_run) + pd.Timedelta(days=i)\n",
    "\n",
    "    try:\n",
    "        # Get training set\n",
    "        df = build_training_set(\n",
    "            train_start=start.strftime(\"%Y-%m-%d %H:%M:%S\"),\n",
    "            train_end=end.strftime(\"%Y-%m-%d %H:%M:%S\"),\n",
    "            run_date=run.strftime(\"%Y-%m-%d %H:%M:%S\")\n",
    "        )\n",
    "\n",
    "        if df is not None and len(df) > 0:\n",
    "            # Convert datetime\n",
    "            df['target_datetime'] = pd.to_datetime(df['target_datetime'], utc=True)\n",
    "            df = df.sort_values('target_datetime')\n",
    "            df = df.set_index('target_datetime')\n",
    "\n",
    "            # Define features\n",
    "            all_features = [\n",
    "                 'Load','shortwave_radiation','temperature_2m','direct_normal_irradiance','diffuse_radiation','Flow_NO','yearday_cos','Flow_GB',\n",
    "                 'month','is_dst','yearday_sin','wind_speed_10m','is_non_working_day','hour_cos','is_weekend','cloud_cover','weekday_sin','hour_sin','weekday_cos'\n",
    "            ]\n",
    "            target = 'Price'\n",
    "\n",
    "            train_cutoff = pd.Timestamp(end, tz=\"UTC\")\n",
    "            forecast_data = df[df.index > train_cutoff].copy()\n",
    "            train_data = df[df.index <= train_cutoff].copy()\n",
    "\n",
    "            # Clean forecast set\n",
    "            if len(forecast_data) >= forecast_horizon and forecast_data['Price'].notna().sum() > 0:\n",
    "                forecast_data = forecast_data.iloc[:forecast_horizon]  # Limit to 168h\n",
    "                X_train = train_data[all_features]\n",
    "                y_train = train_data[target]\n",
    "                X_test = forecast_data[all_features].copy()\n",
    "                y_test = forecast_data[target]\n",
    "\n",
    "                # Train model\n",
    "                model = xgb.XGBRegressor(objective='reg:squarederror', random_state=42)\n",
    "                model.fit(X_train, y_train)\n",
    "\n",
    "                # Predict\n",
    "                y_pred = model.predict(X_test)\n",
    "\n",
    "                '''# Evaluate per day\n",
    "                valid_data = forecast_data.copy()\n",
    "                valid_data['y_true'] = y_test\n",
    "                valid_data['y_pred'] = y_pred\n",
    "                valid_data['forecast_hour'] = range(len(valid_data))\n",
    "                valid_data['forecast_day'] = (valid_data['forecast_hour'] // 24) + 1\n",
    "\n",
    "                day_rmses = {}\n",
    "                for day in range(1, 8):\n",
    "                    day_data = valid_data[valid_data['forecast_day'] == day]\n",
    "                    if len(day_data) > 0:\n",
    "                        rmse = np.sqrt(mean_squared_error(day_data['y_true'], day_data['y_pred']))\n",
    "                        day_rmses[f'Day_{day}'] = rmse\n",
    "                    else:\n",
    "                        day_rmses[f'Day_{day}'] = np.nan\n",
    "\n",
    "                result = {\n",
    "                    'iteration': i + 1,\n",
    "                    'run_date': run.strftime('%Y-%m-%d'),\n",
    "                    'valid_predictions': len(valid_data),\n",
    "                    **day_rmses\n",
    "                }'''\n",
    "                # Evaluate overall RMSE for the 168-hour forecast\n",
    "                rmse_total = np.sqrt(mean_squared_error(y_test, y_pred))\n",
    "\n",
    "                result = {\n",
    "                    'iteration': i + 1,\n",
    "                    'run_date': run.strftime('%Y-%m-%d'),\n",
    "                    'valid_predictions': len(y_test),\n",
    "                    'rmse': rmse_total\n",
    "    }\n",
    "                \n",
    "                rmse_results.append(result)\n",
    "                print(f\"Day {i+1}: ✅ {len(valid_data)} predictions, Run: {run.strftime('%m-%d')}\")\n",
    "            else:\n",
    "                print(f\"Day {i+1}: ❌ No forecast data with actual prices\")\n",
    "        else:\n",
    "            print(f\"Day {i+1}: ❌ No training data\")\n",
    "\n",
    "    except Exception as e:\n",
    "        print(f\"Day {i+1}: ❌ Error: {e}\")\n",
    "\n",
    "# Create RMSE matrix\n",
    "if rmse_results:\n",
    "    rmse_df = pd.DataFrame(rmse_results)\n",
    "\n",
    "    '''print(f\"\\n📊 RMSE MATRIX - XGBoost Model\")\n",
    "    print(\"=\" * 80)\n",
    "    print(f\"Successful runs: {len(rmse_df)}/30\")'''\n",
    "\n",
    "    print(f\"\\n📊 RMSE SUMMARY - 168h Forecast\")\n",
    "    print(\"=\" * 60)\n",
    "    print(f\"Successful runs: {len(rmse_df)}/30\")\n",
    "    print(rmse_df[['iteration', 'run_date', 'valid_predictions', 'rmse']])\n",
    "\n",
    "    day_columns = [f'Day_{i}' for i in range(1, 8)]\n",
    "    available_day_cols = [col for col in day_columns if col in rmse_df.columns]"
   ]
  },
  {
   "cell_type": "code",
   "execution_count": null,
   "id": "a5ed57bf",
   "metadata": {},
   "outputs": [],
   "source": [
    "import pandas as pd\n",
    "import numpy as np\n",
    "import matplotlib.pyplot as plt\n",
    "import seaborn as sns\n",
    "import datetime\n",
    "color_pal = sns.color_palette()\n",
    "import xgboost as xgb\n",
    "from sklearn.model_selection import train_test_split\n",
    "from sklearn.metrics import mean_squared_error\n"
   ]
  },
  {
   "cell_type": "code",
   "execution_count": null,
   "id": "4edea3ae",
   "metadata": {},
   "outputs": [],
   "source": [
    "import sqlite3\n",
    "\n",
    "conn = sqlite3.connect('../data/WARP.db')\n",
    "df = pd.read_sql_query(\"SELECT * FROM training_set\", conn)\n",
    "conn.close()\n",
    "# change datetime to index\n",
    "df.set_index('target_datetime', inplace=True)\n",
    "# convert to datetime\n",
    "df.index = pd.to_datetime(df.index)\n",
    "print(df.dtypes)\n"
   ]
  },
  {
   "cell_type": "code",
   "execution_count": null,
   "id": "7c8c0308",
   "metadata": {},
   "outputs": [],
   "source": [
    "df['Price'].plot(kind='hist', bins=500)\n",
    "plt.ylim(top=120)\n",
    "plt.xlabel('Price')\n",
    "plt.ylabel('Frequency')\n",
    "plt.title('Price Distribution')\n",
    "plt.show()"
   ]
  },
  {
   "cell_type": "code",
   "execution_count": null,
   "id": "aad43210",
   "metadata": {},
   "outputs": [],
   "source": [
    "import pandas as pd\n",
    "import numpy as np\n",
    "import xgboost as xgb\n",
    "from sklearn.metrics import mean_squared_error\n",
    "from datetime import timedelta\n",
    "\n",
    "# Feature and target setup\n",
    "features = [\n",
    "    'apparent_temperature',\n",
    "    'temperature_2m',\n",
    "    'direct_normal_irradiance',\n",
    "    'diffuse_radiation',\n",
    "    'yearday_sin',\n",
    "    'Flow_BE',\n",
    "    'hour_sin',\n",
    "    'is_non_working_day',\n",
    "    'is_dst',\n",
    "    'is_weekend',\n",
    "    'is_holiday',\n",
    "    'weekday_cos',\n",
    "    'wind_speed_10m',\n",
    "    'hour_cos',\n",
    "    'weekday_sin',\n",
    "    'cloud_cover',\n",
    "    'Flow_GB',\n",
    "    'yearday_cos',\n",
    "    'Flow_NO',\n",
    "    'Load'\n",
    "]\n",
    "target = 'Price'\n",
    "\n",
    "# Safe datetime handling\n",
    "if 'datetime' in df.columns:\n",
    "    df['datetime'] = pd.to_datetime(df['datetime'])\n",
    "    df = df.sort_values('datetime')\n",
    "    df = df.set_index('datetime')\n",
    "else:\n",
    "    print(\"'datetime' column not found in columns. Sorting by index instead.\")\n",
    "    df = df.sort_index()\n",
    "\n",
    "# Forecast settings\n",
    "start_date = pd.Timestamp(\"2025-03-13 12:00\", tz='UTC')\n",
    "end_date = pd.Timestamp(\"2025-05-14 12:00\", tz='UTC')\n",
    "lag = timedelta(hours=36)\n",
    "forecast_horizon = timedelta(hours=144)\n",
    "\n",
    "# Store RMSEs\n",
    "rmses = []\n",
    "\n",
    "current_time = start_date\n",
    "while current_time <= end_date:\n",
    "    train_data = df[df.index < current_time]\n",
    "    test_start = current_time + lag # check current time  \n",
    "    test_end = test_start + forecast_horizon\n",
    "    test_data = df[(df.index >= test_start) & (df.index < test_end)]\n",
    "\n",
    "    if test_data.empty:\n",
    "        print(f\"No test data for forecast starting at {current_time}\")\n",
    "        current_time += timedelta(days=1)\n",
    "        continue\n",
    "\n",
    "    X_train = train_data[features]\n",
    "    y_train = train_data[target]\n",
    "    X_test = test_data[features]\n",
    "    y_test = test_data[target]\n",
    "\n",
    "    # Train and predict\n",
    "    model = xgb.XGBRegressor(objective='reg:squarederror', random_state=42)\n",
    "    model.fit(X_train, y_train)\n",
    "    y_pred = model.predict(X_test)\n",
    "\n",
    "    # Evaluate\n",
    "    rmse = np.sqrt(mean_squared_error(y_test, y_pred))\n",
    "    rmses.append(rmse)\n",
    "\n",
    "    print(f\"Forecast origin: {current_time}, Predicting {test_start} to {test_end}, RMSE: {rmse:.3f}\")\n",
    "\n",
    "    current_time += timedelta(days=1)\n",
    "\n",
    "# Summary\n",
    "avg_rmse = np.mean(rmses)\n",
    "print(f\"\\nAverage RMSE over {len(rmses)} runs: {avg_rmse:.3f}\")"
   ]
  },
  {
   "cell_type": "code",
   "execution_count": null,
   "id": "dc1843a4",
   "metadata": {},
   "outputs": [],
   "source": [
    "import pandas as pd\n",
    "import numpy as np\n",
    "import json\n",
    "import xgboost as xgb\n",
    "from sklearn.metrics import mean_squared_error\n",
    "from datetime import datetime\n",
    "\n",
    "# Configuration\n",
    "MODEL_CODE = \"XGB_1fold_split\"\n",
    "PARAMETERS_USED = {\n",
    "    \"temp_2m\": True,\n",
    "    \"shortwave_radiation\": True,\n",
    "    \"windspeed_10m\": True\n",
    "}\n",
    "timestamp_predict = pd.to_datetime(\"2025-03-15 00:00:00\", utc=True)\n",
    "TARGET = 'Price'\n",
    "\n",
    "# Define features\n",
    "COMMON_FEATURES = [\n",
    "    'yearday_cos', 'yearday_sin', 'month',\n",
    "    'shortwave_radiation', 'windspeed_10m', 'apparent_temperature', 'temperature_2m',\n",
    "    'direct_normal_irradiance', 'diffuse_radiation',\n",
    "    'cloud_cover', , 'hour_cos', 'hour_sin', 'is_non_working_day',\n",
    "    'weekday_sin', 'weekday_cos', 'is_holiday',\n",
    "]\n",
    "\n",
    "# Add Load only to training features\n",
    "TRAIN_FEATURES = COMMON_FEATURES + ['Load', 'Flow_NO', 'Flow_GB', 'Flow_BE', 'Wind_Vol', 'Solar_Vol']\n",
    "TEST_FEATURES = COMMON_FEATURES\n",
    "\n",
    "# Sort by index\n",
    "df = df.sort_index()\n",
    "\n",
    "# Train-test split based on timestamp_predict\n",
    "train = df[df.index < timestamp_predict]\n",
    "test = df[df.index >= timestamp_predict]\n",
    "\n",
    "X_train = train[TRAIN_FEATURES]\n",
    "y_train = train[TARGET]\n",
    "X_test = test[TEST_FEATURES]\n",
    "y_test = test[TARGET]\n",
    "\n",
    "# Train model\n",
    "reg = xgb.XGBRegressor(\n",
    "    base_score=0.5,\n",
    "    booster='gbtree',\n",
    "    n_estimators=1200,\n",
    "    early_stopping_rounds=50,\n",
    "    objective='reg:squarederror',\n",
    "    max_depth=3,\n",
    "    learning_rate=0.02\n",
    ")\n",
    "\n",
    "reg.fit(\n",
    "    X_train, y_train,\n",
    "    eval_set=[(X_train, y_train), (X_test, y_test)],\n",
    "    verbose=100\n",
    ")\n",
    "\n",
    "y_pred = reg.predict(X_test)\n",
    "\n",
    "# Store predictions\n",
    "y_test.index = pd.to_datetime(y_test.index)\n",
    "pred_df = pd.DataFrame({\n",
    "    'datetime': y_test.index,\n",
    "    'y_true': y_test.values,\n",
    "    'y_pred': y_pred\n",
    "})\n",
    "\n",
    "rmse = np.sqrt(mean_squared_error(y_test, y_pred))\n",
    "print(f\"1-Fold RMSE: {rmse:.4f}\")\n",
    "\n",
    "# Collect results\n",
    "results = []\n",
    "for _, row in pred_df.iterrows():\n",
    "    results.append({\n",
    "        'timestamp_predict': timestamp_predict.strftime('%d-%m-%Y %H:%M'),\n",
    "        'datetime': row['datetime'].strftime('%d-%m-%Y %H:%M'),\n",
    "        'model_code': MODEL_CODE,\n",
    "        'price': round(row['y_pred'], 4),\n",
    "        'true_price': round(row['y_true'], 4),\n",
    "        'RSME': round(rmse, 4),\n",
    "        'fold': 1,\n",
    "        'parameters(JSON)': json.dumps(PARAMETERS_USED)\n",
    "    })\n",
    "\n",
    "# Save to CSV\n",
    "results_df = pd.DataFrame(results)\n",
    "results_df.to_csv(\"model_results_log.csv\", mode='a', index=False)"
   ]
  },
  {
   "cell_type": "code",
   "execution_count": null,
   "id": "e32f568a",
   "metadata": {},
   "outputs": [],
   "source": [
    "import pandas as pd\n",
    "import numpy as np\n",
    "import xgboost as xgb\n",
    "from sklearn.metrics import mean_squared_error\n",
    "from datetime import timedelta\n",
    "\n",
    "# Feature and target setup\n",
    "features = ['hour_cos', 'Load', 'hour_sin', 'weekday_sin', 'weekday_cos', 'Solar_Vol', 'Wind_Vol',\n",
    "            'WindOffshore_Vol', 'is_holiday','Total_Flow']\n",
    "\n",
    "target = 'Price'\n",
    "\n",
    "# Safe datetime handling\n",
    "if 'datetime' in df.columns:\n",
    "    df['datetime'] = pd.to_datetime(df['datetime'])\n",
    "    df = df.sort_values('datetime')\n",
    "    df = df.set_index('datetime')\n",
    "else:\n",
    "    print(\"'datetime' column not found in columns. Sorting by index instead.\")\n",
    "    df = df.sort_index()\n",
    "\n",
    "# Forecast settings\n",
    "start_date = pd.Timestamp(\"2025-03-13 12:00\", tz='UTC')\n",
    "end_date = pd.Timestamp(\"2025-05-05 12:00\", tz='UTC')\n",
    "lag = timedelta(hours=36)\n",
    "forecast_horizon = timedelta(hours=144)\n",
    "\n",
    "# Store RMSEs\n",
    "rmses = []\n",
    "\n",
    "current_time = start_date\n",
    "while current_time <= end_date:\n",
    "    train_data = df[df.index < current_time]\n",
    "    test_start = current_time + lag\n",
    "    test_end = test_start + forecast_horizon\n",
    "    test_data = df[(df.index >= test_start) & (df.index < test_end)]\n",
    "\n",
    "    if test_data.empty:\n",
    "        print(f\"No test data for forecast starting at {current_time}\")\n",
    "        current_time += timedelta(days=1)\n",
    "        continue\n",
    "\n",
    "    X_train = train_data[features]\n",
    "    y_train = train_data[target]\n",
    "    X_test = test_data[features]\n",
    "    y_test = test_data[target]\n",
    "\n",
    "    # Train and predict\n",
    "    model = xgb.XGBRegressor(objective='reg:squarederror', random_state=42)\n",
    "    model.fit(X_train, y_train)\n",
    "    y_pred = model.predict(X_test)\n",
    "\n",
    "    # Evaluate\n",
    "    rmse = np.sqrt(mean_squared_error(y_test, y_pred))\n",
    "    rmses.append(rmse)\n",
    "\n",
    "    print(f\"Forecast origin: {current_time}, Predicting {test_start} to {test_end}, RMSE: {rmse:.3f}\")\n",
    "\n",
    "    current_time += timedelta(days=1)\n",
    "\n",
    "# Summary\n",
    "avg_rmse = np.mean(rmses)\n",
    "print(f\"\\nAverage RMSE over {len(rmses)} runs: {avg_rmse:.3f}\")"
   ]
  },
  {
   "cell_type": "code",
   "execution_count": null,
   "id": "74aa2af4",
   "metadata": {},
   "outputs": [],
   "source": [
    "# Extract the forecast origin dates and RMSEs from the previous loop\n",
    "forecast_origins = []\n",
    "rmses_per_run = []\n",
    "\n",
    "start_date = pd.Timestamp(\"2025-03-13 12:00\", tz='UTC')\n",
    "end_date = pd.Timestamp(\"2025-05-05 12:00\", tz='UTC')\n",
    "num_runs = len(rmses)\n",
    "current_time = start_date\n",
    "\n",
    "for i in range(num_runs):\n",
    "    forecast_origins.append(current_time)\n",
    "    current_time += timedelta(days=1)\n",
    "\n",
    "# Plot RMSE vs. forecast origin date\n",
    "plt.figure(figsize=(15, 5))\n",
    "plt.plot(forecast_origins, rmses, marker='o', linestyle='-', color=color_pal[0])\n",
    "plt.title('RMSE vs. First Predicted Date (per run)')\n",
    "plt.xlabel('Forecast Origin (First Predicted Date)')\n",
    "plt.ylabel('RMSE')\n",
    "plt.grid(True)\n",
    "plt.tight_layout()\n",
    "plt.show()"
   ]
  },
  {
   "cell_type": "code",
   "execution_count": null,
   "id": "2a14d5bb",
   "metadata": {},
   "outputs": [],
   "source": [
    "import pandas as pd\n",
    "import numpy as np\n",
    "\n",
    "# Calculate RMSE per day (averaged over all runs where the day is included in the forecast horizon)\n",
    "\n",
    "# Assume forecast_origins and rmses are available from previous cells\n",
    "# Each run predicts 6 days (144 hours), so for each run, map RMSE to each predicted day\n",
    "\n",
    "# Build a DataFrame mapping each forecast run to its predicted days\n",
    "forecast_horizon_days = 6\n",
    "forecast_origin_dates = pd.to_datetime(forecast_origins)\n",
    "rmse_per_day = {}\n",
    "\n",
    "for run_idx, origin in enumerate(forecast_origin_dates):\n",
    "    for day_offset in range(forecast_horizon_days):\n",
    "        day = (origin + pd.Timedelta(hours=36) + pd.Timedelta(days=day_offset)).normalize()\n",
    "        if day not in rmse_per_day:\n",
    "            rmse_per_day[day] = []\n",
    "        rmse_per_day[day].append(rmses[run_idx])\n",
    "\n",
    "# Compute average RMSE per day\n",
    "avg_rmse_per_day = pd.Series({day: np.mean(vals) for day, vals in rmse_per_day.items()})\n",
    "avg_rmse_per_day = avg_rmse_per_day.sort_index()\n",
    "\n",
    "# Plot\n",
    "plt.figure(figsize=(15, 5))\n",
    "plt.plot(avg_rmse_per_day.index, avg_rmse_per_day.values, marker='o', linestyle='-', color=color_pal[1])\n",
    "plt.title('Average RMSE per Predicted Day (Averaged over all runs)')\n",
    "plt.xlabel('Predicted Day')\n",
    "plt.ylabel('Average RMSE')\n",
    "plt.grid(True)\n",
    "plt.tight_layout()\n",
    "plt.show()"
   ]
  },
  {
   "cell_type": "code",
   "execution_count": null,
   "id": "1b1aeffa",
   "metadata": {},
   "outputs": [],
   "source": [
    "# Get feature importances from the last trained model\n",
    "importances = model.feature_importances_\n",
    "feature_names = model.feature_names_in_\n",
    "\n",
    "# Create a DataFrame for better visualization\n",
    "feat_imp_df = pd.DataFrame({\n",
    "    'Feature': feature_names,\n",
    "    'Importance': importances\n",
    "}).sort_values(by='Importance', ascending=False)\n",
    "\n",
    "# Display the feature importances\n",
    "print(feat_imp_df)\n",
    "\n",
    "# Optional: Plot feature importances\n",
    "plt.figure(figsize=(10, 6))\n",
    "sns.barplot(x='Importance', y='Feature', data=feat_imp_df, palette='viridis')\n",
    "plt.title('Feature Importance (XGBoost)')\n",
    "plt.tight_layout()\n",
    "plt.show()"
   ]
  }
 ],
 "metadata": {
  "kernelspec": {
   "display_name": ".venv",
   "language": "python",
   "name": "python3"
  },
  "language_info": {
   "codemirror_mode": {
    "name": "ipython",
    "version": 3
   },
   "file_extension": ".py",
   "mimetype": "text/x-python",
   "name": "python",
   "nbconvert_exporter": "python",
   "pygments_lexer": "ipython3",
   "version": "3.12.6"
  }
 },
 "nbformat": 4,
 "nbformat_minor": 5
}
