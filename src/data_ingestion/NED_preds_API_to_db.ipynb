{
 "cells": [
  {
   "cell_type": "markdown",
   "id": "71424b35",
   "metadata": {},
   "source": [
    "Code to collect NED predictions, (previously) fetched by remote thinclient, plus code to run actual 7 days ahead predictions for energy productions."
   ]
  },
  {
   "cell_type": "code",
   "execution_count": 4,
   "id": "a68556a3",
   "metadata": {},
   "outputs": [],
   "source": [
    "import pandas as pd\n",
    "\n",
    "# Read the CSV files\n",
    "df_NED_preds_CSV_3 = pd.read_csv('../data/ned-api/appended_NED_preds-5May.csv')\n",
    "df_NED_preds_CSV_2 = pd.read_csv('../data/ned-api/appended_NED_preds-1May2025.csv')\n",
    "df_NED_preds_CSV_1 = pd.read_csv('../data/ned-api/appended_NED_preds_2-10-April.csv')\n",
    "\n",
    "\n",
    "# Convert current_datetime to datetime type if it's not already\n",
    "df_NED_preds_CSV_3['current_datetime'] = pd.to_datetime(df_NED_preds_CSV_3['current_datetime'])\n",
    "df_NED_preds_CSV_2['current_datetime'] = pd.to_datetime(df_NED_preds_CSV_2['current_datetime'])\n",
    "df_NED_preds_CSV_1['current_datetime'] = pd.to_datetime(df_NED_preds_CSV_1['current_datetime'])\n",
    "\n"
   ]
  },
  {
   "cell_type": "code",
   "execution_count": 11,
   "id": "60167438",
   "metadata": {},
   "outputs": [
    {
     "name": "stdout",
     "output_type": "stream",
     "text": [
      "\n",
      "Date ranges in df_NED_preds_CSV_1:\n",
      "Start: 2025-04-02 08:17:40\n",
      "End: 2025-04-10 12:00:05\n",
      "\n",
      "Date ranges in df_NED_preds_CSV_2:\n",
      "Start: 2025-04-10 14:07:18\n",
      "End: 2025-05-01 00:00:05\n",
      "\n",
      "Date ranges in df_NED_preds_CSV_3:\n",
      "Start: 2025-05-01 12:00:05\n",
      "End: 2025-05-05 12:00:05\n",
      "\n",
      "Number of records in each DataFrame:\n",
      "df_NED_preds_CSV_1: 68,646 records\n",
      "df_NED_preds_CSV_2: 50,852 records\n",
      "df_NED_preds_CSV_3: 11,004 records\n"
     ]
    }
   ],
   "source": [
    "# Analyze date ranges for each DataFrame\n",
    "\n",
    "\n",
    "print(\"\\nDate ranges in df_NED_preds_CSV_1:\")\n",
    "print(f\"Start: {df_NED_preds_CSV_1['current_datetime'].min()}\")\n",
    "print(f\"End: {df_NED_preds_CSV_1['current_datetime'].max()}\")\n",
    "\n",
    "print(\"\\nDate ranges in df_NED_preds_CSV_2:\")\n",
    "print(f\"Start: {df_NED_preds_CSV_2['current_datetime'].min()}\")\n",
    "print(f\"End: {df_NED_preds_CSV_2['current_datetime'].max()}\")\n",
    "\n",
    "print(\"\\nDate ranges in df_NED_preds_CSV_3:\")\n",
    "print(f\"Start: {df_NED_preds_CSV_3['current_datetime'].min()}\")\n",
    "print(f\"End: {df_NED_preds_CSV_3['current_datetime'].max()}\")\n",
    "\n",
    "print(\"\\nNumber of records in each DataFrame:\")\n",
    "print(f\"df_NED_preds_CSV_1: {len(df_NED_preds_CSV_1):,} records\")\n",
    "print(f\"df_NED_preds_CSV_2: {len(df_NED_preds_CSV_2):,} records\")\n",
    "print(f\"df_NED_preds_CSV_3: {len(df_NED_preds_CSV_3):,} records\")"
   ]
  },
  {
   "cell_type": "code",
   "execution_count": 21,
   "id": "31085245",
   "metadata": {},
   "outputs": [
    {
     "name": "stdout",
     "output_type": "stream",
     "text": [
      "\n",
      "Number of records in each DataFrame:\n",
      "df_NED_preds_CSV_1: 130,502 records\n",
      "Found 0 duplicate records\n",
      "After dropping duplicates, 130,502 records remain\n"
     ]
    }
   ],
   "source": [
    "# Concatenate all dataframes\n",
    "df_NED_preds_CSV = pd.concat([df_NED_preds_CSV_1, df_NED_preds_CSV_2, df_NED_preds_CSV_3], ignore_index=True)\n",
    "\n",
    "print(\"\\nNumber of records in each DataFrame:\")\n",
    "print(f\"df_NED_preds_CSV_1: {len(df_NED_preds_CSV):,} records\")\n",
    "\n",
    "# Check for duplicates before dropping\n",
    "duplicate_count = df_NED_preds_CSV.duplicated(subset=['current_datetime','type','validto']).sum()\n",
    "print(f\"Found {duplicate_count} duplicate records\")\n",
    "\n",
    "# Drop duplicates\n",
    "df_NED_preds_CSV = df_NED_preds_CSV.drop_duplicates(subset=['current_datetime','type','validto'])\n",
    "print(f\"After dropping duplicates, {len(df_NED_preds_CSV):,} records remain\")\n",
    "\n",
    "\n"
   ]
  },
  {
   "cell_type": "code",
   "execution_count": 25,
   "id": "c63bde71",
   "metadata": {},
   "outputs": [
    {
     "name": "stdout",
     "output_type": "stream",
     "text": [
      "\n",
      "Missing values in each column:\n",
      "Series([], dtype: int64)\n",
      "\n",
      "No rows with missing values found.\n"
     ]
    }
   ],
   "source": [
    "# Check for missing values\n",
    "missing_values = df_NED_preds_CSV.isnull().sum()\n",
    "print(\"\\nMissing values in each column:\")\n",
    "print(missing_values[missing_values > 0])\n",
    "# Check for any rows with missing values\n",
    "missing_rows = df_NED_preds_CSV[df_NED_preds_CSV.isnull().any(axis=1)]\n",
    "if not missing_rows.empty:\n",
    "    print(f\"\\nFound {len(missing_rows)} rows with missing values:\")\n",
    "    print(missing_rows)\n",
    "else:\n",
    "    print(\"\\nNo rows with missing values found.\")\n"
   ]
  },
  {
   "cell_type": "code",
   "execution_count": null,
   "id": "9721e76c",
   "metadata": {},
   "outputs": [
    {
     "name": "stdout",
     "output_type": "stream",
     "text": [
      "Date range in the dataset:\n",
      "Start date: 2025-04-02 08:17:40\n",
      "End date: 2025-05-05 12:00:05\n",
      "\n",
      "Total number of records: 130502\n",
      "\n",
      "Number of records in each DataFrame:\n",
      "df_NED_preds_CSV: 130,502 records\n",
      "\n",
      "Dataframe Info:\n",
      "<class 'pandas.core.frame.DataFrame'>\n",
      "RangeIndex: 130502 entries, 0 to 130501\n",
      "Data columns (total 18 columns):\n",
      " #   Column               Non-Null Count   Dtype         \n",
      "---  ------               --------------   -----         \n",
      " 0   @id                  130502 non-null  object        \n",
      " 1   @type                130502 non-null  object        \n",
      " 2   id                   130502 non-null  int64         \n",
      " 3   point                130502 non-null  object        \n",
      " 4   type                 130502 non-null  object        \n",
      " 5   granularity          130502 non-null  object        \n",
      " 6   granularitytimezone  130502 non-null  object        \n",
      " 7   activity             130502 non-null  object        \n",
      " 8   classification       130502 non-null  object        \n",
      " 9   capacity             130502 non-null  int64         \n",
      " 10  volume               130502 non-null  int64         \n",
      " 11  percentage           130502 non-null  float64       \n",
      " 12  emission             130502 non-null  int64         \n",
      " 13  emissionfactor       130502 non-null  float64       \n",
      " 14  validfrom            130502 non-null  object        \n",
      " 15  validto              130502 non-null  object        \n",
      " 16  lastupdate           130502 non-null  object        \n",
      " 17  current_datetime     130502 non-null  datetime64[ns]\n",
      "dtypes: datetime64[ns](1), float64(2), int64(4), object(11)\n",
      "memory usage: 17.9+ MB\n",
      "\n",
      "Numeric Column Statistics:\n",
      "                 id      capacity        volume     percentage       emission  \\\n",
      "count  1.305020e+05  1.305020e+05  1.305020e+05  130502.000000  130502.000000   \n",
      "mean   6.882989e+10  2.166511e+06  2.166511e+06       0.367490   16978.532896   \n",
      "min    6.869851e+10  0.000000e+00  0.000000e+00       0.000000       0.000000   \n",
      "25%    6.874685e+10  1.622088e+05  1.622088e+05       0.000000       0.000000   \n",
      "50%    6.879572e+10  3.650000e+05  3.650000e+05       0.268679       0.000000   \n",
      "75%    6.891152e+10  1.433390e+06  1.433390e+06       0.577149       0.000000   \n",
      "max    6.908355e+10  2.319568e+07  2.319568e+07       1.000000  109500.000000   \n",
      "std    1.007120e+08  4.379351e+06  4.379351e+06       0.374270   39634.464928   \n",
      "\n",
      "       emissionfactor               current_datetime  \n",
      "count   130502.000000                         130502  \n",
      "mean         0.046517  2025-04-14 02:10:11.878599680  \n",
      "min          0.000000            2025-04-02 08:17:40  \n",
      "25%          0.000000            2025-04-05 23:32:01  \n",
      "50%          0.000000            2025-04-10 00:00:05  \n",
      "75%          0.000000            2025-04-22 12:00:05  \n",
      "max          0.300000            2025-05-05 12:00:05  \n",
      "std          0.108588                            NaN  \n",
      "\n",
      "Distribution of types:\n",
      "type\n",
      "/v1/types/1     20235\n",
      "/v1/types/20    20235\n",
      "/v1/types/26    20235\n",
      "/v1/types/21    20235\n",
      "/v1/types/17    20235\n",
      "/v1/types/2     20235\n",
      "/v1/types/59     9092\n",
      "Name: count, dtype: int64\n"
     ]
    }
   ],
   "source": [
    "# Display the date range\n",
    "print(\"Date range in the dataset:\")\n",
    "print(f\"Start date: {df_NED_preds_CSV['current_datetime'].min()}\")\n",
    "print(f\"End date: {df_NED_preds_CSV['current_datetime'].max()}\")\n",
    "print(f\"\\nTotal number of records: {len(df_NED_preds_CSV)}\")\n",
    "\n",
    "# Display info about the types and counts of values\n",
    "print(\"\\nDataframe Info:\")\n",
    "df_NED_preds_CSV.info()\n",
    "\n",
    "# Display numeric column statistics\n",
    "print(\"\\nNumeric Column Statistics:\")\n",
    "print(df_NED_preds_CSV.describe())\n",
    "\n",
    "# Show unique types and their counts\n",
    "print(\"\\nDistribution of types:\")\n",
    "print(df_NED_preds_CSV['type'].value_counts())"
   ]
  },
  {
   "cell_type": "code",
   "execution_count": 28,
   "id": "cec24e7a",
   "metadata": {},
   "outputs": [
    {
     "name": "stdout",
     "output_type": "stream",
     "text": [
      "130502 records successfully written to database table 'raw_NED_preds'\n"
     ]
    }
   ],
   "source": [
    "import sqlite3\n",
    "\n",
    "# Connect to the SQLite database\n",
    "db_path = '../data/WARP.db'\n",
    "conn = sqlite3.connect(db_path)\n",
    "\n",
    "# Write the DataFrame to the database table 'raw_NED_preds'\n",
    "# If table exists, replace it. If not, create new table\n",
    "df_NED_preds_CSV.to_sql('raw_NED_preds', conn, if_exists='replace', index=False)\n",
    "\n",
    "\n",
    "record_count = df_NED_preds_CSV.shape[0]\n",
    "print(f\"{record_count} records successfully written to database table 'raw_NED_preds'\")\n",
    "# Close the connection\n",
    "conn.close()"
   ]
  },
  {
   "cell_type": "code",
   "execution_count": 30,
   "id": "cb72758b",
   "metadata": {},
   "outputs": [
    {
     "name": "stdout",
     "output_type": "stream",
     "text": [
      "The most recent date in raw_NED_preds is: 2025-05-05\n"
     ]
    }
   ],
   "source": [
    "# connecting to the SQLite database and checking the most recent date in the raw_NED_preds table\n",
    "\n",
    "import sqlite3\n",
    "import pandas as pd\n",
    "\n",
    "\n",
    "# Connect to the SQLite database\n",
    "db_path = '../data/WARP.db'\n",
    "conn = sqlite3.connect(db_path)\n",
    "\n",
    "\n",
    "# collect the date column from the raw_NED_preds table\n",
    "NED_pred_dates = pd.read_sql_query(\"SELECT current_datetime FROM raw_NED_preds\", conn)\n",
    "conn.close()\n",
    "\n",
    "# Convert to datetime and find max date\n",
    "NED_pred_dates['current_datetime'] = pd.to_datetime(NED_pred_dates['current_datetime'])\n",
    "most_recent_NED_pred_date = NED_pred_dates['current_datetime'].max().strftime('%Y-%m-%d')\n",
    "print(f\"The most recent date in raw_NED_preds is: {most_recent_NED_pred_date}\")\n",
    "\n"
   ]
  }
 ],
 "metadata": {
  "kernelspec": {
   "display_name": ".venv",
   "language": "python",
   "name": "python3"
  },
  "language_info": {
   "codemirror_mode": {
    "name": "ipython",
    "version": 3
   },
   "file_extension": ".py",
   "mimetype": "text/x-python",
   "name": "python",
   "nbconvert_exporter": "python",
   "pygments_lexer": "ipython3",
   "version": "3.12.6"
  }
 },
 "nbformat": 4,
 "nbformat_minor": 5
}
