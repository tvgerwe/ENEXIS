{
 "cells": [
  {
   "cell_type": "markdown",
   "id": "71424b35",
   "metadata": {},
   "source": [
    "Code to collect NED predictions, (previously) fetched by remote thinclient, plus code to run actual 7 days ahead predictions for energy productions."
   ]
  },
  {
   "cell_type": "code",
   "execution_count": 1,
   "id": "a68556a3",
   "metadata": {},
   "outputs": [],
   "source": [
    "import pandas as pd\n",
    "\n",
    "# Read the CSV files\n",
    "df_NED_preds_CSV_2 = pd.read_csv('../data/ned-api/appended_NED_preds-1May2025.csv')\n",
    "df_NED_preds_CSV_1 = pd.read_csv('../data/ned-api/appended_NED_preds_2-10-April.csv')\n",
    "\n",
    "\n",
    "# Convert current_datetime to datetime type if it's not already\n",
    "df_NED_preds_CSV_2['current_datetime'] = pd.to_datetime(df_NED_preds_CSV_2['current_datetime'])\n",
    "df_NED_preds_CSV_1['current_datetime'] = pd.to_datetime(df_NED_preds_CSV_1['current_datetime'])\n",
    "\n"
   ]
  },
  {
   "cell_type": "code",
   "execution_count": 2,
   "id": "60167438",
   "metadata": {},
   "outputs": [
    {
     "name": "stdout",
     "output_type": "stream",
     "text": [
      "\n",
      "Date ranges in df_NED_preds_CSV_1:\n",
      "Start: 2025-04-02 08:17:40\n",
      "End: 2025-04-10 12:00:05\n",
      "\n",
      "Date ranges in df_NED_preds_CSV_2:\n",
      "Start: 2025-04-10 14:07:18\n",
      "End: 2025-05-01 00:00:05\n"
     ]
    }
   ],
   "source": [
    "# Analyze date ranges for each DataFrame\n",
    "\n",
    "\n",
    "print(\"\\nDate ranges in df_NED_preds_CSV_1:\")\n",
    "print(f\"Start: {df_NED_preds_CSV_1['current_datetime'].min()}\")\n",
    "print(f\"End: {df_NED_preds_CSV_1['current_datetime'].max()}\")\n",
    "\n",
    "print(\"\\nDate ranges in df_NED_preds_CSV_2:\")\n",
    "print(f\"Start: {df_NED_preds_CSV_2['current_datetime'].min()}\")\n",
    "print(f\"End: {df_NED_preds_CSV_2['current_datetime'].max()}\")"
   ]
  },
  {
   "cell_type": "code",
   "execution_count": 3,
   "id": "c63bde71",
   "metadata": {},
   "outputs": [
    {
     "name": "stdout",
     "output_type": "stream",
     "text": [
      "Date range in the dataset:\n",
      "Start date: 2025-04-02 08:17:40\n",
      "End date: 2025-05-01 00:00:05\n",
      "\n",
      "Total number of records: 265\n"
     ]
    }
   ],
   "source": [
    "\n",
    "# Concatenate both dataframes\n",
    "df_NED_preds_CSV = pd.concat([df_NED_preds_CSV_1, df_NED_preds_CSV_2], ignore_index=True)\n",
    "\n",
    "# Drop any potential duplicates based on current_datetime\n",
    "df_NED_preds_CSV = df_NED_preds_CSV.drop_duplicates(subset=['current_datetime'], keep='first')\n",
    "\n",
    "# Sort by current_datetime\n",
    "df_NED_preds_CSV = df_NED_preds_CSV.sort_values('current_datetime')\n",
    "\n",
    "# Display the date range\n",
    "print(\"Date range in the dataset:\")\n",
    "print(f\"Start date: {df_NED_preds_CSV['current_datetime'].min()}\")\n",
    "print(f\"End date: {df_NED_preds_CSV['current_datetime'].max()}\")\n",
    "print(f\"\\nTotal number of records: {len(df_NED_preds_CSV)}\")"
   ]
  },
  {
   "cell_type": "code",
   "execution_count": 4,
   "id": "cec24e7a",
   "metadata": {},
   "outputs": [
    {
     "name": "stdout",
     "output_type": "stream",
     "text": [
      "265 records successfully written to database table 'raw_NED_preds'\n"
     ]
    }
   ],
   "source": [
    "import sqlite3\n",
    "\n",
    "# Connect to the SQLite database\n",
    "db_path = '../data/WARP.db'\n",
    "conn = sqlite3.connect(db_path)\n",
    "\n",
    "# Write the DataFrame to the database table 'raw_NED_preds'\n",
    "# If table exists, replace it. If not, create new table\n",
    "df_NED_preds_CSV.to_sql('raw_NED_preds', conn, if_exists='replace', index=False)\n",
    "\n",
    "\n",
    "record_count = df_NED_preds_CSV.shape[0]\n",
    "print(f\"{record_count} records successfully written to database table 'raw_NED_preds'\")\n",
    "# Close the connection\n",
    "conn.close()"
   ]
  },
  {
   "cell_type": "code",
   "execution_count": 5,
   "id": "cb72758b",
   "metadata": {},
   "outputs": [
    {
     "name": "stdout",
     "output_type": "stream",
     "text": [
      "The most recent date in raw_NED_preds is: 2025-05-01\n"
     ]
    }
   ],
   "source": [
    "# connecting to the SQLite database and checking the most recent date in the raw_NED_preds table\n",
    "\n",
    "import sqlite3\n",
    "import pandas as pd\n",
    "\n",
    "\n",
    "# Connect to the SQLite database\n",
    "db_path = '../data/WARP.db'\n",
    "conn = sqlite3.connect(db_path)\n",
    "\n",
    "\n",
    "# collect the date column from the raw_NED_preds table\n",
    "hist_weather_dates = pd.read_sql_query(\"SELECT current_datetime FROM raw_NED_preds\", conn)\n",
    "conn.close()\n",
    "\n",
    "# Convert to datetime and find max date\n",
    "hist_weather_dates['current_datetime'] = pd.to_datetime(hist_weather_dates['current_datetime'])\n",
    "most_recent_NED_pred_date = hist_weather_dates['current_datetime'].max().strftime('%Y-%m-%d')\n",
    "print(f\"The most recent date in raw_NED_preds is: {most_recent_NED_pred_date}\")\n",
    "\n"
   ]
  }
 ],
 "metadata": {
  "kernelspec": {
   "display_name": ".venv",
   "language": "python",
   "name": "python3"
  },
  "language_info": {
   "codemirror_mode": {
    "name": "ipython",
    "version": 3
   },
   "file_extension": ".py",
   "mimetype": "text/x-python",
   "name": "python",
   "nbconvert_exporter": "python",
   "pygments_lexer": "ipython3",
   "version": "3.12.6"
  }
 },
 "nbformat": 4,
 "nbformat_minor": 5
}
