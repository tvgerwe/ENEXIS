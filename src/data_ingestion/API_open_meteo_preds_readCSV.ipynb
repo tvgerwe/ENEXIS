{
 "cells": [
  {
   "cell_type": "markdown",
   "id": "31bf3d57",
   "metadata": {},
   "source": [
    "This code only has to be run when  the most_recent_weather_pred_date is more than 3 months in the past.."
   ]
  },
  {
   "cell_type": "code",
   "execution_count": null,
   "id": "2596f409",
   "metadata": {},
   "outputs": [
    {
     "name": "stdout",
     "output_type": "stream",
     "text": [
      "                        date  temperature_2m  temperature_2m_previous_day1  \\\n",
      "0  2024-12-25 00:00:00+00:00        7.513000                      7.863000   \n",
      "1  2024-12-25 01:00:00+00:00        7.463000                      8.662999   \n",
      "2  2024-12-25 02:00:00+00:00        7.863000                      8.363000   \n",
      "3  2024-12-25 03:00:00+00:00        8.113000                      8.763000   \n",
      "4  2024-12-25 04:00:00+00:00        8.162999                      9.313000   \n",
      "\n",
      "   temperature_2m_previous_day2  temperature_2m_previous_day3  \\\n",
      "0                          8.95                           7.9   \n",
      "1                          8.95                           8.2   \n",
      "2                          8.85                           8.3   \n",
      "3                          8.75                           8.4   \n",
      "4                          8.70                           8.6   \n",
      "\n",
      "   temperature_2m_previous_day4  temperature_2m_previous_day5  \\\n",
      "0                          5.15                          8.70   \n",
      "1                          5.05                          8.80   \n",
      "2                          5.20                          8.95   \n",
      "3                          5.45                          9.00   \n",
      "4                          5.95                          9.00   \n",
      "\n",
      "   temperature_2m_previous_day6  temperature_2m_previous_day7  wind_speed_10m  \\\n",
      "0                          2.80                          9.65            9.00   \n",
      "1                          2.40                          9.60            7.20   \n",
      "2                          2.85                          9.50            6.84   \n",
      "3                          3.30                          9.35            7.92   \n",
      "4                          3.60                          9.25            5.04   \n",
      "\n",
      "   ...  shortwave_radiation_previous_day6  shortwave_radiation_previous_day7  \\\n",
      "0  ...                                0.0                                0.0   \n",
      "1  ...                                0.0                                0.0   \n",
      "2  ...                                0.0                                0.0   \n",
      "3  ...                                0.0                                0.0   \n",
      "4  ...                                0.0                                0.0   \n",
      "\n",
      "   direct_radiation  direct_radiation_previous_day1  \\\n",
      "0               0.0                             0.0   \n",
      "1               0.0                             0.0   \n",
      "2               0.0                             0.0   \n",
      "3               0.0                             0.0   \n",
      "4               0.0                             0.0   \n",
      "\n",
      "   direct_radiation_previous_day2  direct_radiation_previous_day3  \\\n",
      "0                             0.0                             0.0   \n",
      "1                             0.0                             0.0   \n",
      "2                             0.0                             0.0   \n",
      "3                             0.0                             0.0   \n",
      "4                             0.0                             0.0   \n",
      "\n",
      "   direct_radiation_previous_day4  direct_radiation_previous_day5  \\\n",
      "0                             0.0                             0.0   \n",
      "1                             0.0                             0.0   \n",
      "2                             0.0                             0.0   \n",
      "3                             0.0                             0.0   \n",
      "4                             0.0                             0.0   \n",
      "\n",
      "   direct_radiation_previous_day6  direct_radiation_previous_day7  \n",
      "0                             0.0                             0.0  \n",
      "1                             0.0                             0.0  \n",
      "2                             0.0                             0.0  \n",
      "3                             0.0                             0.0  \n",
      "4                             0.0                             0.0  \n",
      "\n",
      "[5 rows x 81 columns]\n",
      "Date range: 2024-12-25 00:00:00+00:00 to 2025-03-25 23:00:00+00:00\n"
     ]
    }
   ],
   "source": [
    "''' code used to build database from earlier retrieved dataset... CAN BE DELETED\n",
    "#\n",
    "#  \n",
    "import pandas as pd\n",
    "\n",
    "weather_pred_past = pd.read_csv('../data/weather/Weather_pred_past_3m_DeBilt_2025-03-25.csv')\n",
    "print(weather_pred_past.head())\n",
    "weather_pred_past['date'] = pd.to_datetime(weather_pred_past['date'])\n",
    "\n",
    "print(f\"Date range: {weather_pred_past['date'].min()} to {weather_pred_past['date'].max()}\")\n",
    "\n",
    "import sqlite3\n",
    "\n",
    "# Connect to the SQLite database\n",
    "db_path = '../data/WARP.db'\n",
    "conn = sqlite3.connect(db_path)\n",
    "\n",
    "# Write the DataFrame to the database table 'raw_weather_preds'\n",
    "# If table exists, replace it. If not, create new table\n",
    "weather_pred_past.to_sql('raw_weather_preds', conn, if_exists='replace', index=False)\n",
    "\n",
    "\n",
    "record_count = weather_pred_past.shape[0]\n",
    "print(f\"{record_count} records successfully written to database table 'raw_weather_preds'\")\n",
    "# Close the connection\n",
    "conn.close()\n"
   ]
  },
  {
   "cell_type": "code",
   "execution_count": 2,
   "id": "bcb1817c",
   "metadata": {},
   "outputs": [
    {
     "ename": "NameError",
     "evalue": "name 'sqlite3' is not defined",
     "output_type": "error",
     "traceback": [
      "\u001b[31m---------------------------------------------------------------------------\u001b[39m",
      "\u001b[31mNameError\u001b[39m                                 Traceback (most recent call last)",
      "\u001b[36mCell\u001b[39m\u001b[36m \u001b[39m\u001b[32mIn[2]\u001b[39m\u001b[32m, line 2\u001b[39m\n\u001b[32m      1\u001b[39m \u001b[38;5;66;03m# Connect to the SQLite database\u001b[39;00m\n\u001b[32m----> \u001b[39m\u001b[32m2\u001b[39m conn = \u001b[43msqlite3\u001b[49m.connect(db_path)\n\u001b[32m      3\u001b[39m \u001b[38;5;66;03m# collect the date column from the raw_weather_preds table\u001b[39;00m\n\u001b[32m      4\u001b[39m hist_weather_dates = pd.read_sql_query(\u001b[33m\"\u001b[39m\u001b[33mSELECT date FROM raw_weather_preds\u001b[39m\u001b[33m\"\u001b[39m, conn)\n",
      "\u001b[31mNameError\u001b[39m: name 'sqlite3' is not defined"
     ]
    }
   ],
   "source": [
    "# Connect to the SQLite database\n",
    "conn = sqlite3.connect(db_path)\n",
    "# collect the date column from the raw_weather_preds table\n",
    "hist_weather_dates = pd.read_sql_query(\"SELECT date FROM raw_weather_preds\", conn)\n",
    "conn.close()\n",
    "\n",
    "# Convert to datetime and find max date\n",
    "hist_weather_dates['date'] = pd.to_datetime(hist_weather_dates['date'])\n",
    "most_recent_weather_pred_date = hist_weather_dates['date'].max().strftime('%Y-%m-%d')\n",
    "print(f\"The most recent date in raw_weather_preds is: {most_recent_weather_pred_date}\")"
   ]
  }
 ],
 "metadata": {
  "kernelspec": {
   "display_name": ".venv",
   "language": "python",
   "name": "python3"
  },
  "language_info": {
   "codemirror_mode": {
    "name": "ipython",
    "version": 3
   },
   "file_extension": ".py",
   "mimetype": "text/x-python",
   "name": "python",
   "nbconvert_exporter": "python",
   "pygments_lexer": "ipython3",
   "version": "3.12.6"
  }
 },
 "nbformat": 4,
 "nbformat_minor": 5
}
