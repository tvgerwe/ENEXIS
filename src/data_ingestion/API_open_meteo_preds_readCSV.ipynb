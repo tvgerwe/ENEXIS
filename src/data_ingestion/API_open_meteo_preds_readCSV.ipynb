{
 "cells": [
  {
   "cell_type": "markdown",
   "id": "31bf3d57",
   "metadata": {},
   "source": [
    "This code only has to be run when  the most_recent_weather_pred_date is more than 3 months in the past.."
   ]
  },
  {
   "cell_type": "code",
   "execution_count": 4,
   "id": "2596f409",
   "metadata": {},
   "outputs": [
    {
     "data": {
      "text/plain": [
       "' code used to build database from earlier retrieved dataset... CAN BE DELETED\\n#\\n#  \\nimport pandas as pd\\n\\nweather_pred_past = pd.read_csv(\\'../data/weather/Weather_pred_past_3m_DeBilt_2025-03-25.csv\\')\\nprint(weather_pred_past.head())\\nweather_pred_past[\\'date\\'] = pd.to_datetime(weather_pred_past[\\'date\\'])\\n\\nprint(f\"Date range: {weather_pred_past[\\'date\\'].min()} to {weather_pred_past[\\'date\\'].max()}\")\\n\\nimport sqlite3\\n\\n# Connect to the SQLite database\\ndb_path = \\'../data/WARP.db\\'\\nconn = sqlite3.connect(db_path)\\n\\n# Write the DataFrame to the database table \\'raw_weather_preds\\'\\n# If table exists, replace it. If not, create new table\\nweather_pred_past.to_sql(\\'raw_weather_preds\\', conn, if_exists=\\'replace\\', index=False)\\n\\n\\nrecord_count = weather_pred_past.shape[0]\\nprint(f\"{record_count} records successfully written to database table \\'raw_weather_preds\\'\")\\n# Close the connection\\nconn.close()'"
      ]
     },
     "execution_count": 4,
     "metadata": {},
     "output_type": "execute_result"
    }
   ],
   "source": [
    "''' code used to build database from earlier retrieved dataset... CAN BE DELETED\n",
    "#\n",
    "#  \n",
    "import pandas as pd\n",
    "\n",
    "weather_pred_past = pd.read_csv('../data/weather/Weather_pred_past_3m_DeBilt_2025-03-25.csv')\n",
    "print(weather_pred_past.head())\n",
    "weather_pred_past['date'] = pd.to_datetime(weather_pred_past['date'])\n",
    "\n",
    "print(f\"Date range: {weather_pred_past['date'].min()} to {weather_pred_past['date'].max()}\")\n",
    "\n",
    "import sqlite3\n",
    "\n",
    "# Connect to the SQLite database\n",
    "db_path = '../data/WARP.db'\n",
    "conn = sqlite3.connect(db_path)\n",
    "\n",
    "# Write the DataFrame to the database table 'raw_weather_preds'\n",
    "# If table exists, replace it. If not, create new table\n",
    "weather_pred_past.to_sql('raw_weather_preds', conn, if_exists='replace', index=False)\n",
    "\n",
    "\n",
    "record_count = weather_pred_past.shape[0]\n",
    "print(f\"{record_count} records successfully written to database table 'raw_weather_preds'\")\n",
    "# Close the connection\n",
    "conn.close()'''\n"
   ]
  },
  {
   "cell_type": "code",
   "execution_count": 5,
   "id": "bcb1817c",
   "metadata": {},
   "outputs": [
    {
     "name": "stdout",
     "output_type": "stream",
     "text": [
      "The most recent date in raw_weather_preds is: 2025-05-09\n"
     ]
    }
   ],
   "source": [
    "import sqlite3 \n",
    "import pandas as pd\n",
    "\n",
    "# Connect to the SQLite database\n",
    "db_path = '../data/WARP.db'\n",
    "# Connect to the SQLite database\n",
    "conn = sqlite3.connect(db_path)\n",
    "# collect the date column from the raw_weather_preds table\n",
    "hist_weather_dates = pd.read_sql_query(\"SELECT date FROM raw_weather_preds\", conn)\n",
    "conn.close()\n",
    "\n",
    "# Convert to datetime and find max date\n",
    "hist_weather_dates['date'] = pd.to_datetime(hist_weather_dates['date'])\n",
    "most_recent_weather_pred_date = hist_weather_dates['date'].max().strftime('%Y-%m-%d')\n",
    "print(f\"The most recent date in raw_weather_preds is: {most_recent_weather_pred_date}\")"
   ]
  }
 ],
 "metadata": {
  "kernelspec": {
   "display_name": "enexis-may-03-env-run",
   "language": "python",
   "name": "python3"
  },
  "language_info": {
   "codemirror_mode": {
    "name": "ipython",
    "version": 3
   },
   "file_extension": ".py",
   "mimetype": "text/x-python",
   "name": "python",
   "nbconvert_exporter": "python",
   "pygments_lexer": "ipython3",
   "version": "3.10.16"
  }
 },
 "nbformat": 4,
 "nbformat_minor": 5
}
