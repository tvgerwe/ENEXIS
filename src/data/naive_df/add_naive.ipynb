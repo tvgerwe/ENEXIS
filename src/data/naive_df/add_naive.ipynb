{
 "cells": [
  {
   "cell_type": "code",
   "execution_count": 3,
   "metadata": {},
   "outputs": [
    {
     "name": "stdout",
     "output_type": "stream",
     "text": [
      "Naive model: 3624 rows, 3456 non-null predictions\n"
     ]
    }
   ],
   "source": [
    "import sqlite3\n",
    "import pandas as pd\n",
    "from pathlib import Path\n",
    "\n",
    "# Setup project root\n",
    "current_dir = Path.cwd()\n",
    "if \"ENEXIS\" in str(current_dir):\n",
    "    while current_dir.name != \"ENEXIS\" and current_dir.parent != current_dir:\n",
    "        current_dir = current_dir.parent\n",
    "    project_root = current_dir\n",
    "else:\n",
    "    project_root = current_dir\n",
    "\n",
    "# Create Naive Model with 7-day Lag\n",
    "conn = sqlite3.connect(project_root / \"src\" / \"data\" / \"WARP.db\")\n",
    "naive_model = pd.read_sql_query(\n",
    "    \"SELECT target_datetime, Price FROM master_warp ORDER BY target_datetime\", \n",
    "    conn, parse_dates=['target_datetime']\n",
    ").set_index('target_datetime')\n",
    "conn.close()\n",
    "\n",
    "naive_model['naive_price'] = naive_model['Price'].shift(168)\n",
    "print(f\"Naive model: {len(naive_model)} rows, {naive_model['naive_price'].count()} non-null predictions\")"
   ]
  },
  {
   "cell_type": "code",
   "execution_count": 4,
   "metadata": {},
   "outputs": [
    {
     "name": "stdout",
     "output_type": "stream",
     "text": [
      "✅ Naive price merged! Laatste regels:\n",
      "                        run_date           target_datetime  predicted_Price  \\\n",
      "4315  2025-04-13 00:00:00+00:00 2025-04-19 20:00:00+00:00         0.092347   \n",
      "4316  2025-04-13 00:00:00+00:00 2025-04-19 21:00:00+00:00         0.100777   \n",
      "4317  2025-04-13 00:00:00+00:00 2025-04-19 22:00:00+00:00         0.093272   \n",
      "4318  2025-04-13 00:00:00+00:00 2025-04-19 23:00:00+00:00         0.091806   \n",
      "4319  2025-04-13 00:00:00+00:00 2025-04-20 00:00:00+00:00         0.091289   \n",
      "\n",
      "      actual_Price  oxygent_price  naive_price  \n",
      "4315       0.11990          0.162      0.08924  \n",
      "4316       0.10390          0.148      0.08200  \n",
      "4317       0.09441          0.145      0.06990  \n",
      "4318       0.09800          0.130      0.06399  \n",
      "4319       0.09075          0.113      0.05600  \n"
     ]
    }
   ],
   "source": [
    "import pandas as pd\n",
    "\n",
    "csv_path = \"../../../workspaces/sharell/random_forest_predictions_with_actuals.csv\"\n",
    "\n",
    "# 1. Read existing CSV\n",
    "base_df = pd.read_csv(csv_path)\n",
    "\n",
    "# 2. Convert to datetime with UTC\n",
    "base_df['target_datetime'] = pd.to_datetime(base_df['target_datetime'], utc=True)\n",
    "naive_model.index = pd.to_datetime(naive_model.index, utc=True)\n",
    "\n",
    "# 3. Reset index to make target_datetime a column for merging\n",
    "naive_df = naive_model.reset_index()\n",
    "\n",
    "# 4. Merge only naive_price column\n",
    "merged_df = base_df.merge(\n",
    "    naive_df[['target_datetime', 'naive_price']],\n",
    "    on=['target_datetime'],\n",
    "    how='left'\n",
    ")\n",
    "\n",
    "# 5. Write back to CSV\n",
    "merged_df.to_csv(csv_path, index=False)\n",
    "print(f\"✅ Naive price merged! Laatste regels:\\n\", merged_df.tail())"
   ]
  }
 ],
 "metadata": {
  "kernelspec": {
   "display_name": "3.10.13",
   "language": "python",
   "name": "python3"
  },
  "language_info": {
   "codemirror_mode": {
    "name": "ipython",
    "version": 3
   },
   "file_extension": ".py",
   "mimetype": "text/x-python",
   "name": "python",
   "nbconvert_exporter": "python",
   "pygments_lexer": "ipython3",
   "version": "3.10.13"
  }
 },
 "nbformat": 4,
 "nbformat_minor": 2
}
