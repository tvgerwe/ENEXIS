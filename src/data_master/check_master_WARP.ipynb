{
 "cells": [
  {
   "cell_type": "markdown",
   "id": "784961a1",
   "metadata": {},
   "source": [
    "# code to empty master_warp table..\n",
    "\n",
    "and code to grab master-warp table, after rebuilding it, to view all features and check for missing values"
   ]
  },
  {
   "cell_type": "code",
   "execution_count": 5,
   "id": "415d01af",
   "metadata": {},
   "outputs": [],
   "source": [
    "# code to delete master_warp... \n",
    "import sqlite3\n",
    "\n",
    "conn = sqlite3.connect('../data/WARP.db')\n",
    "cursor = conn.cursor()\n",
    "cursor.execute(\"DELETE FROM master_warp\")\n",
    "conn.commit()\n",
    "conn.close()"
   ]
  },
  {
   "cell_type": "code",
   "execution_count": 6,
   "id": "755a6a35",
   "metadata": {},
   "outputs": [],
   "source": [
    "import sqlite3\n",
    "import pandas as pd\n",
    "\n",
    "conn = sqlite3.connect('../data/WARP.db')\n",
    "df = pd.read_sql_query(\"SELECT * FROM master_warp\", conn)\n",
    "conn.close()"
   ]
  },
  {
   "cell_type": "code",
   "execution_count": 7,
   "id": "febe48f6",
   "metadata": {},
   "outputs": [
    {
     "name": "stdout",
     "output_type": "stream",
     "text": [
      "<class 'pandas.core.frame.DataFrame'>\n",
      "RangeIndex: 0 entries\n",
      "Data columns (total 45 columns):\n",
      " #   Column                    Non-Null Count  Dtype \n",
      "---  ------                    --------------  ----- \n",
      " 0   datetime                  0 non-null      object\n",
      " 1   hour                      0 non-null      object\n",
      " 2   day_of_week               0 non-null      object\n",
      " 3   month                     0 non-null      object\n",
      " 4   day_of_year               0 non-null      object\n",
      " 5   date                      0 non-null      object\n",
      " 6   hour_sin                  0 non-null      object\n",
      " 7   hour_cos                  0 non-null      object\n",
      " 8   weekday_sin               0 non-null      object\n",
      " 9   weekday_cos               0 non-null      object\n",
      " 10  yearday_sin               0 non-null      object\n",
      " 11  yearday_cos               0 non-null      object\n",
      " 12  is_holiday                0 non-null      object\n",
      " 13  is_weekend                0 non-null      object\n",
      " 14  is_non_working_day        0 non-null      object\n",
      " 15  Load                      0 non-null      object\n",
      " 16  Price                     0 non-null      object\n",
      " 17  Flow_BE_to_NL             0 non-null      object\n",
      " 18  Flow_NL_to_BE             0 non-null      object\n",
      " 19  Flow_DE_to_NL             0 non-null      object\n",
      " 20  Flow_NL_to_DE             0 non-null      object\n",
      " 21  Flow_GB_to_NL             0 non-null      object\n",
      " 22  Flow_NL_to_GB             0 non-null      object\n",
      " 23  Flow_DK_to_NL             0 non-null      object\n",
      " 24  Flow_NL_to_DK             0 non-null      object\n",
      " 25  Flow_NO_to_NL             0 non-null      object\n",
      " 26  Flow_NL_to_NO             0 non-null      object\n",
      " 27  Flow_BE                   0 non-null      object\n",
      " 28  Flow_DE                   0 non-null      object\n",
      " 29  Flow_GB                   0 non-null      object\n",
      " 30  Flow_DK                   0 non-null      object\n",
      " 31  Flow_NO                   0 non-null      object\n",
      " 32  Total_Flow                0 non-null      object\n",
      " 33  temperature_2m            0 non-null      object\n",
      " 34  wind_speed_10m            0 non-null      object\n",
      " 35  apparent_temperature      0 non-null      object\n",
      " 36  cloud_cover               0 non-null      object\n",
      " 37  snowfall                  0 non-null      object\n",
      " 38  diffuse_radiation         0 non-null      object\n",
      " 39  direct_normal_irradiance  0 non-null      object\n",
      " 40  shortwave_radiation       0 non-null      object\n",
      " 41  Type_1_Vol                0 non-null      object\n",
      " 42  Type_17_Vol               0 non-null      object\n",
      " 43  Type_2_Vol                0 non-null      object\n",
      " 44  Type_20_Vol               0 non-null      object\n",
      "dtypes: object(45)\n",
      "memory usage: 132.0+ bytes\n",
      "None\n",
      "\n",
      "Missing values per column:\n",
      "datetime                    0\n",
      "hour                        0\n",
      "day_of_week                 0\n",
      "month                       0\n",
      "day_of_year                 0\n",
      "date                        0\n",
      "hour_sin                    0\n",
      "hour_cos                    0\n",
      "weekday_sin                 0\n",
      "weekday_cos                 0\n",
      "yearday_sin                 0\n",
      "yearday_cos                 0\n",
      "is_holiday                  0\n",
      "is_weekend                  0\n",
      "is_non_working_day          0\n",
      "Load                        0\n",
      "Price                       0\n",
      "Flow_BE_to_NL               0\n",
      "Flow_NL_to_BE               0\n",
      "Flow_DE_to_NL               0\n",
      "Flow_NL_to_DE               0\n",
      "Flow_GB_to_NL               0\n",
      "Flow_NL_to_GB               0\n",
      "Flow_DK_to_NL               0\n",
      "Flow_NL_to_DK               0\n",
      "Flow_NO_to_NL               0\n",
      "Flow_NL_to_NO               0\n",
      "Flow_BE                     0\n",
      "Flow_DE                     0\n",
      "Flow_GB                     0\n",
      "Flow_DK                     0\n",
      "Flow_NO                     0\n",
      "Total_Flow                  0\n",
      "temperature_2m              0\n",
      "wind_speed_10m              0\n",
      "apparent_temperature        0\n",
      "cloud_cover                 0\n",
      "snowfall                    0\n",
      "diffuse_radiation           0\n",
      "direct_normal_irradiance    0\n",
      "shortwave_radiation         0\n",
      "Type_1_Vol                  0\n",
      "Type_17_Vol                 0\n",
      "Type_2_Vol                  0\n",
      "Type_20_Vol                 0\n",
      "dtype: int64\n"
     ]
    }
   ],
   "source": [
    "print(df.info())\n",
    "print(\"\\nMissing values per column:\")\n",
    "print(df.isnull().sum())"
   ]
  },
  {
   "cell_type": "code",
   "execution_count": 4,
   "id": "13bbab0b",
   "metadata": {},
   "outputs": [
    {
     "name": "stdout",
     "output_type": "stream",
     "text": [
      "Start datetime: 2025-01-01 00:00:00+00:00\n",
      "End datetime: 2025-05-20 18:00:00+00:00\n"
     ]
    }
   ],
   "source": [
    "print(\"Start datetime:\", df['datetime'].min())\n",
    "print(\"End datetime:\", df['datetime'].max())"
   ]
  }
 ],
 "metadata": {
  "kernelspec": {
   "display_name": ".venv",
   "language": "python",
   "name": "python3"
  },
  "language_info": {
   "codemirror_mode": {
    "name": "ipython",
    "version": 3
   },
   "file_extension": ".py",
   "mimetype": "text/x-python",
   "name": "python",
   "nbconvert_exporter": "python",
   "pygments_lexer": "ipython3",
   "version": "3.12.6"
  }
 },
 "nbformat": 4,
 "nbformat_minor": 5
}
