{
 "cells": [
  {
   "cell_type": "markdown",
   "metadata": {},
   "source": [
    "# code to import predictions for Types having 7 days predictions:\n",
    "\n",
    "\n",
    "\n",
    "1 Wind\n",
    "2 Solar\n",
    "17 WindOffshore\n",
    "20 Nuclear\n",
    "21 WastePower\n",
    "26 OtherPower\n",
    "59 ElectricityLoad (as of 9 April 2025, noon UTC)\n",
    "\n",
    "\n",
    "\n",
    "Import required dependencies"
   ]
  },
  {
   "cell_type": "code",
   "execution_count": 1,
   "metadata": {},
   "outputs": [],
   "source": [
    "import os\n",
    "import json\n",
    "import requests\n",
    "import pandas as pd\n",
    "import pickle           # Save and load data\n",
    "import time\n",
    "\n",
    "\n",
    "# Setting Pandas options.\n",
    "pd.set_option(\"display.max_rows\", 50) # How to display all rows from data frame using pandas. Setting value to None to show all rows.\n",
    "pd.set_option(\"display.max_columns\", None)\n",
    "pd.set_option(\"display.max_info_columns\", 100)\n",
    "pd.set_option(\"display.max_info_rows\", 1000000)\n",
    "pd.set_option(\"display.precision\", 2)\n",
    "#pd.set_option(\"styler.format.precision\", 2)"
   ]
  },
  {
   "cell_type": "markdown",
   "metadata": {},
   "source": [
    "load config files"
   ]
  },
  {
   "cell_type": "code",
   "execution_count": 2,
   "metadata": {},
   "outputs": [],
   "source": [
    "# Load API Key and download directory from config file\n",
    "CONFIG_FILE = \"../config/api-call.json\"\n",
    "\n",
    "def load_config(config_path):\n",
    "    \"\"\"Load configuration from a JSON file.\"\"\"\n",
    "    with open(config_path, \"r\") as file:\n",
    "        return json.load(file)"
   ]
  },
  {
   "cell_type": "markdown",
   "metadata": {},
   "source": [
    "Config parameters for API calls"
   ]
  },
  {
   "cell_type": "code",
   "execution_count": 3,
   "metadata": {},
   "outputs": [],
   "source": [
    "# Load config values\n",
    "config = load_config(CONFIG_FILE)\n",
    "# print(config)\n",
    "API_ENDPOINT= config[\"ned\"][\"ned_api_endpoint\"]\n",
    "API_KEY = config[\"ned\"][\"demo-ned-api-key\"]\n",
    "DOWNLOAD_DIR = config[\"ned\"][\"ned_download_dir\"]\n",
    "\n",
    "# https://api.ned.nl/v1/utilizations?point=0&type=2&granularity=3&granularitytimezone=1&classification=2&activity=1&validfrom[strictly_before]=2020-11-17&validfrom[after]=2020-11-16\n",
    "\n",
    "\n",
    "# Ensure the download directory exists\n",
    "os.makedirs(DOWNLOAD_DIR, exist_ok=True)\n",
    "\n",
    "# API details (Replace with actual API endpoint)\n",
    "API_URL = API_ENDPOINT\n",
    "#HEADERS = {\"Authorization\": f\"X-AUTH-TOKEN {API_KEY}\"}\n",
    "\n",
    "# Headers with X-AUTH-TOKEN\n",
    "api_headers = {\n",
    "    \"X-AUTH-TOKEN\": API_KEY,  # Replace with your actual token\n",
    "    \"Content-Type\": \"application/json\"  # Optional, if sending JSON\n",
    "}"
   ]
  },
  {
   "cell_type": "code",
   "execution_count": null,
   "metadata": {},
   "outputs": [
    {
     "name": "stdout",
     "output_type": "stream",
     "text": [
      "Data collection complete! Saved 182 records of Type-1 to csv\n",
      "Data collection complete! Saved 182 records of Type-2 to csv\n",
      "Data collection complete! Saved 182 records of Type-17 to csv\n",
      "Data collection complete! Saved 182 records of Type-20 to csv\n",
      "Data collection complete! Saved 182 records of Type-21 to csv\n",
      "Data collection complete! Saved 182 records of Type-26 to csv\n",
      "Data collection complete! Saved 182 records of Type-59 to csv\n",
      "Waiting until next fetch at 2025-04-11 00:00:05 UTC (35561 seconds)...\n"
     ]
    }
   ],
   "source": [
    "from datetime import datetime, timedelta, time as dtime\n",
    "import time\n",
    "import os\n",
    "import requests\n",
    "import pandas as pd\n",
    "\n",
    "n_values = [1, 2, 17, 20, 21, 26, 59]  # Selected Types of Electricity Sources (NED.nl)\n",
    "\n",
    "FETCH_TIMES_UTC = [dtime(0, 0, 5), dtime(12, 0, 5)]  # 00:00:05 and 12:00:05 UTC\n",
    "\n",
    "def wait_until_next_fetch():\n",
    "    now = datetime.utcnow()\n",
    "    future_fetch_times = [datetime.combine(now.date(), t) for t in FETCH_TIMES_UTC]\n",
    "\n",
    "    # Als we al voorbij het laatste tijdstip van vandaag zijn, plan voor morgen\n",
    "    future_fetch_times = [t if t > now else t + timedelta(days=1) for t in future_fetch_times]\n",
    "    \n",
    "    next_fetch_time = min(future_fetch_times)\n",
    "    wait_seconds = (next_fetch_time - now).total_seconds()\n",
    "    print(f\"Waiting until next fetch at {next_fetch_time} UTC ({int(wait_seconds)} seconds)...\")\n",
    "    time.sleep(wait_seconds)\n",
    "\n",
    "def fetch_and_save_data():\n",
    "    current_datetime = datetime.utcnow()\n",
    "    future_datetime = current_datetime + timedelta(days=8)\n",
    "\n",
    "    current_date_str = current_datetime.strftime(\"%Y-%m-%d\")\n",
    "    future_date_str = future_datetime.strftime(\"%Y-%m-%d\")\n",
    "\n",
    "    for gen_type in n_values:\n",
    "        api_params = {\n",
    "            \"point\": \"0\",\n",
    "            \"type\": gen_type,\n",
    "            \"granularity\": \"5\",  # hourly\n",
    "            \"granularitytimezone\": \"1\",\n",
    "            \"classification\": \"1\",  # Forecast\n",
    "            \"activity\": \"1\",\n",
    "            \"validfrom[before]\": future_date_str,\n",
    "            \"validfrom[after]\": current_date_str,\n",
    "            \"page\": 1\n",
    "        }\n",
    "\n",
    "        full_data = []\n",
    "\n",
    "        response = requests.get(API_URL, params=api_params, headers=api_headers)\n",
    "        if response.status_code == 200:\n",
    "            data = response.json()\n",
    "            last_page_url = data.get(\"hydra:view\", {}).get(\"hydra:last\", None)\n",
    "            last_page_num = int(last_page_url.split(\"page=\")[-1]) if last_page_url else 1\n",
    "        else:\n",
    "            print(f\"Error {response.status_code}: {response.text}\")\n",
    "            return\n",
    "\n",
    "        for page in range(1, last_page_num + 1):\n",
    "            api_params[\"page\"] = page\n",
    "            response = requests.get(API_URL, params=api_params, headers=api_headers)\n",
    "            if response.status_code == 200:\n",
    "                json_dict = response.json()\n",
    "                if \"hydra:member\" in json_dict:\n",
    "                    full_data.extend(json_dict[\"hydra:member\"])\n",
    "            else:\n",
    "                print(f\"Error on page {page}: {response.status_code}\")\n",
    "                break\n",
    "\n",
    "        df = pd.DataFrame(full_data)\n",
    "        df['current_datetime'] = current_datetime.strftime(\"%Y-%m-%d %H:%M:%S\")\n",
    "        # File path for teh appended CSV file\n",
    "        output_dir = \"../Data\"\n",
    "        file_path = os.path.join(output_dir, \"appended_NED_preds.csv\")\n",
    "\n",
    "        # Create the directory if it doesn't exist\n",
    "        os.makedirs(output_dir, exist_ok=True)\n",
    "\n",
    "        # Check if the file already exists\n",
    "        if not os.path.exists(file_path):\n",
    "            # If the file does not exist, write the header (first write)\n",
    "            df.to_csv(file_path, index=False)\n",
    "        else:\n",
    "            # If the file exists, append to it (without writing the header)\n",
    "            df.to_csv(file_path, mode='a', header=False, index=False)\n",
    "\n",
    "        print(f\"Data collection complete! Saved {len(df)} records of Type-{gen_type} to csv\")\n",
    "\n",
    "# Main loop\n",
    "while True:\n",
    "    fetch_and_save_data()\n",
    "    wait_until_next_fetch()"
   ]
  },
  {
   "cell_type": "markdown",
   "metadata": {},
   "source": [
    "# to add function to regularly make API calls, also need to add a timestamp"
   ]
  },
  {
   "cell_type": "code",
   "execution_count": null,
   "metadata": {},
   "outputs": [],
   "source": []
  }
 ],
 "metadata": {
  "kernelspec": {
   "display_name": "Python 3 (ipykernel)",
   "language": "python",
   "name": "python3"
  },
  "language_info": {
   "codemirror_mode": {
    "name": "ipython",
    "version": 3
   },
   "file_extension": ".py",
   "mimetype": "text/x-python",
   "name": "python",
   "nbconvert_exporter": "python",
   "pygments_lexer": "ipython3",
   "version": "3.11.2"
  }
 },
 "nbformat": 4,
 "nbformat_minor": 4
}
