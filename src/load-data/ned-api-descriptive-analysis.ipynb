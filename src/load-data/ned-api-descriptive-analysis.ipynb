{
 "cells": [
  {
   "cell_type": "markdown",
   "metadata": {},
   "source": [
    "import required packages"
   ]
  },
  {
   "cell_type": "code",
   "execution_count": 2,
   "metadata": {},
   "outputs": [],
   "source": [
    "# Third party packages.\n",
    "import pandas as pd             # Data handling\n",
    "import numpy as np              # Numeric calculations\n",
    "import pickle                   # Save and load data\n",
    "import altair as alt            # Visualize data\n",
    "# import seaborn as sns           # Visualize data\n",
    "import matplotlib.pyplot as plt # Visualize data\n",
    "import json\n",
    "from scipy.stats import pearsonr # Correlation"
   ]
  },
  {
   "cell_type": "markdown",
   "metadata": {},
   "source": [
    "load csv file"
   ]
  },
  {
   "cell_type": "code",
   "execution_count": 3,
   "metadata": {},
   "outputs": [
    {
     "name": "stdout",
     "output_type": "stream",
     "text": [
      "DOWNLOAD_DIR : ../data/powergen/\n"
     ]
    }
   ],
   "source": [
    "# Load API Key and download directory from config file\n",
    "CONFIG_FILE = \"../config/api-call.json\"\n",
    "\n",
    "def load_config(config_path):\n",
    "    \"\"\"Load configuration from a JSON file.\"\"\"\n",
    "    with open(config_path, \"r\") as file:\n",
    "        return json.load(file)\n",
    "\n",
    "# Load config values\n",
    "config = load_config(CONFIG_FILE)\n",
    "\n",
    "# print(config)\n",
    "DOWNLOAD_DIR = config[\"ned\"][\"ned_download_dir\"]\n",
    "print(\"DOWNLOAD_DIR :\", DOWNLOAD_DIR)\n",
    "csv_file_path = f'{DOWNLOAD_DIR}/power-gen-consolidated-data-2022-2024.csv'\n",
    "\n",
    "# with open('../data/dc-ned-json-data-1.pkl', 'rb') as pickle_file:\n",
    "with open(csv_file_path, 'rb') as csv_file:\n",
    "    dc_ned_json_data_1 = pd.read_csv(csv_file)\n",
    "# df_ned_json_data = dc_ned_json_data_1['df_orig']\n",
    "df_ned_json_data = pd.DataFrame(dc_ned_json_data_1)  # Convert dictionary to DataFrame"
   ]
  },
  {
   "cell_type": "markdown",
   "metadata": {},
   "source": [
    "set pandas dataframe settings"
   ]
  },
  {
   "cell_type": "code",
   "execution_count": 4,
   "metadata": {},
   "outputs": [],
   "source": [
    "# Setting Pandas options.\n",
    "pd.set_option(\"display.max_rows\", 50) # How to display all rows from data frame using pandas. Setting value to None to show all rows.\n",
    "pd.set_option(\"display.max_columns\", None)\n",
    "pd.set_option(\"display.max_info_columns\", 100)\n",
    "pd.set_option(\"display.max_info_rows\", 1000000)\n",
    "pd.set_option(\"display.precision\", 2)\n",
    "#pd.set_option(\"styler.format.precision\", 2)"
   ]
  },
  {
   "cell_type": "markdown",
   "metadata": {},
   "source": [
    "Descriptive analytics"
   ]
  },
  {
   "cell_type": "code",
   "execution_count": 5,
   "metadata": {},
   "outputs": [
    {
     "data": {
      "text/html": [
       "<div>\n",
       "<style scoped>\n",
       "    .dataframe tbody tr th:only-of-type {\n",
       "        vertical-align: middle;\n",
       "    }\n",
       "\n",
       "    .dataframe tbody tr th {\n",
       "        vertical-align: top;\n",
       "    }\n",
       "\n",
       "    .dataframe thead th {\n",
       "        text-align: right;\n",
       "    }\n",
       "</style>\n",
       "<table border=\"1\" class=\"dataframe\">\n",
       "  <thead>\n",
       "    <tr style=\"text-align: right;\">\n",
       "      <th></th>\n",
       "      <th>validto</th>\n",
       "      <th>capacity_0</th>\n",
       "      <th>volume_0</th>\n",
       "      <th>capacity_1</th>\n",
       "      <th>production_wind</th>\n",
       "      <th>capacity_2</th>\n",
       "      <th>production_solar</th>\n",
       "      <th>capacity_4</th>\n",
       "      <th>production_heatpump</th>\n",
       "      <th>capacity_8</th>\n",
       "      <th>production_cofiring</th>\n",
       "      <th>capacity_9</th>\n",
       "      <th>production_geothermal</th>\n",
       "      <th>capacity_10</th>\n",
       "      <th>production_other</th>\n",
       "      <th>capacity_11</th>\n",
       "      <th>production_waste</th>\n",
       "      <th>capacity_12</th>\n",
       "      <th>production_biooil</th>\n",
       "      <th>capacity_13</th>\n",
       "      <th>production_biomass</th>\n",
       "      <th>capacity_14</th>\n",
       "      <th>production_wood</th>\n",
       "      <th>capacity_17</th>\n",
       "      <th>production_windoffshore</th>\n",
       "      <th>capacity_18</th>\n",
       "      <th>production_fossilgaspower</th>\n",
       "      <th>capacity_19</th>\n",
       "      <th>production_fossilhardcoal</th>\n",
       "      <th>capacity_20</th>\n",
       "      <th>production_nuclear</th>\n",
       "      <th>capacity_21</th>\n",
       "      <th>production_wastepower</th>\n",
       "      <th>capacity_22</th>\n",
       "      <th>production_windoffshoreB</th>\n",
       "      <th>capacity_25</th>\n",
       "      <th>production_biomasspower</th>\n",
       "      <th>capacity_26</th>\n",
       "      <th>production_otherpower</th>\n",
       "      <th>capacity_27</th>\n",
       "      <th>production_electricitymix</th>\n",
       "      <th>capacity_28</th>\n",
       "      <th>volume_28</th>\n",
       "      <th>capacity_35</th>\n",
       "      <th>production_CHP_total</th>\n",
       "      <th>capacity_50</th>\n",
       "      <th>production_solarthermal</th>\n",
       "      <th>capacity_51</th>\n",
       "      <th>production_allconsuminggas</th>\n",
       "    </tr>\n",
       "  </thead>\n",
       "  <tbody>\n",
       "    <tr>\n",
       "      <th>0</th>\n",
       "      <td>2022-01-01 00:00:00+00:00</td>\n",
       "      <td>8098513</td>\n",
       "      <td>8098513</td>\n",
       "      <td>2031015</td>\n",
       "      <td>2031015</td>\n",
       "      <td>0</td>\n",
       "      <td>0</td>\n",
       "      <td>161795</td>\n",
       "      <td>161795</td>\n",
       "      <td>699000</td>\n",
       "      <td>699000</td>\n",
       "      <td>136032</td>\n",
       "      <td>136032</td>\n",
       "      <td>55998</td>\n",
       "      <td>55998</td>\n",
       "      <td>458627</td>\n",
       "      <td>458627</td>\n",
       "      <td>913004</td>\n",
       "      <td>913004</td>\n",
       "      <td>872107</td>\n",
       "      <td>872107</td>\n",
       "      <td>336949</td>\n",
       "      <td>336949</td>\n",
       "      <td>1364456</td>\n",
       "      <td>1364456</td>\n",
       "      <td>1714000</td>\n",
       "      <td>1714000</td>\n",
       "      <td>1926636</td>\n",
       "      <td>1926636</td>\n",
       "      <td>485000</td>\n",
       "      <td>485000</td>\n",
       "      <td>408500</td>\n",
       "      <td>408500</td>\n",
       "      <td>1865500</td>\n",
       "      <td>1865500</td>\n",
       "      <td>447364</td>\n",
       "      <td>447364</td>\n",
       "      <td>241000</td>\n",
       "      <td>241000</td>\n",
       "      <td>10246506</td>\n",
       "      <td>10246506</td>\n",
       "      <td>NaN</td>\n",
       "      <td>NaN</td>\n",
       "      <td>1127491</td>\n",
       "      <td>1127491</td>\n",
       "      <td>482</td>\n",
       "      <td>482</td>\n",
       "      <td>1865500</td>\n",
       "      <td>1865500</td>\n",
       "    </tr>\n",
       "    <tr>\n",
       "      <th>1</th>\n",
       "      <td>2022-01-01 01:00:00+00:00</td>\n",
       "      <td>7914843</td>\n",
       "      <td>7914843</td>\n",
       "      <td>1864849</td>\n",
       "      <td>1864849</td>\n",
       "      <td>0</td>\n",
       "      <td>0</td>\n",
       "      <td>198870</td>\n",
       "      <td>198870</td>\n",
       "      <td>699000</td>\n",
       "      <td>699000</td>\n",
       "      <td>135768</td>\n",
       "      <td>135768</td>\n",
       "      <td>55998</td>\n",
       "      <td>55998</td>\n",
       "      <td>458131</td>\n",
       "      <td>458131</td>\n",
       "      <td>913011</td>\n",
       "      <td>913011</td>\n",
       "      <td>871174</td>\n",
       "      <td>871174</td>\n",
       "      <td>310137</td>\n",
       "      <td>310137</td>\n",
       "      <td>1290465</td>\n",
       "      <td>1290465</td>\n",
       "      <td>1823000</td>\n",
       "      <td>1823000</td>\n",
       "      <td>1592074</td>\n",
       "      <td>1592074</td>\n",
       "      <td>485000</td>\n",
       "      <td>485000</td>\n",
       "      <td>407250</td>\n",
       "      <td>407250</td>\n",
       "      <td>1839500</td>\n",
       "      <td>1839500</td>\n",
       "      <td>646176</td>\n",
       "      <td>646176</td>\n",
       "      <td>241000</td>\n",
       "      <td>241000</td>\n",
       "      <td>10083044</td>\n",
       "      <td>10083044</td>\n",
       "      <td>NaN</td>\n",
       "      <td>NaN</td>\n",
       "      <td>1184195</td>\n",
       "      <td>1184195</td>\n",
       "      <td>391</td>\n",
       "      <td>391</td>\n",
       "      <td>1839500</td>\n",
       "      <td>1839500</td>\n",
       "    </tr>\n",
       "    <tr>\n",
       "      <th>2</th>\n",
       "      <td>2022-01-01 02:00:00+00:00</td>\n",
       "      <td>7442013</td>\n",
       "      <td>7442013</td>\n",
       "      <td>1784513</td>\n",
       "      <td>1784513</td>\n",
       "      <td>0</td>\n",
       "      <td>0</td>\n",
       "      <td>222172</td>\n",
       "      <td>222172</td>\n",
       "      <td>698995</td>\n",
       "      <td>698995</td>\n",
       "      <td>135582</td>\n",
       "      <td>135582</td>\n",
       "      <td>55996</td>\n",
       "      <td>55996</td>\n",
       "      <td>457782</td>\n",
       "      <td>457782</td>\n",
       "      <td>913018</td>\n",
       "      <td>913018</td>\n",
       "      <td>870521</td>\n",
       "      <td>870521</td>\n",
       "      <td>305717</td>\n",
       "      <td>305717</td>\n",
       "      <td>1345134</td>\n",
       "      <td>1345134</td>\n",
       "      <td>1956250</td>\n",
       "      <td>1956250</td>\n",
       "      <td>1500851</td>\n",
       "      <td>1500851</td>\n",
       "      <td>485000</td>\n",
       "      <td>485000</td>\n",
       "      <td>407750</td>\n",
       "      <td>407750</td>\n",
       "      <td>1429250</td>\n",
       "      <td>1429250</td>\n",
       "      <td>609149</td>\n",
       "      <td>609149</td>\n",
       "      <td>241000</td>\n",
       "      <td>241000</td>\n",
       "      <td>9595627</td>\n",
       "      <td>9595627</td>\n",
       "      <td>NaN</td>\n",
       "      <td>NaN</td>\n",
       "      <td>1181864</td>\n",
       "      <td>1181864</td>\n",
       "      <td>444</td>\n",
       "      <td>444</td>\n",
       "      <td>1429250</td>\n",
       "      <td>1429250</td>\n",
       "    </tr>\n",
       "  </tbody>\n",
       "</table>\n",
       "</div>"
      ],
      "text/plain": [
       "                     validto  capacity_0  volume_0  capacity_1  \\\n",
       "0  2022-01-01 00:00:00+00:00     8098513   8098513     2031015   \n",
       "1  2022-01-01 01:00:00+00:00     7914843   7914843     1864849   \n",
       "2  2022-01-01 02:00:00+00:00     7442013   7442013     1784513   \n",
       "\n",
       "   production_wind  capacity_2  production_solar  capacity_4  \\\n",
       "0          2031015           0                 0      161795   \n",
       "1          1864849           0                 0      198870   \n",
       "2          1784513           0                 0      222172   \n",
       "\n",
       "   production_heatpump  capacity_8  production_cofiring  capacity_9  \\\n",
       "0               161795      699000               699000      136032   \n",
       "1               198870      699000               699000      135768   \n",
       "2               222172      698995               698995      135582   \n",
       "\n",
       "   production_geothermal  capacity_10  production_other  capacity_11  \\\n",
       "0                 136032        55998             55998       458627   \n",
       "1                 135768        55998             55998       458131   \n",
       "2                 135582        55996             55996       457782   \n",
       "\n",
       "   production_waste  capacity_12  production_biooil  capacity_13  \\\n",
       "0            458627       913004             913004       872107   \n",
       "1            458131       913011             913011       871174   \n",
       "2            457782       913018             913018       870521   \n",
       "\n",
       "   production_biomass  capacity_14  production_wood  capacity_17  \\\n",
       "0              872107       336949           336949      1364456   \n",
       "1              871174       310137           310137      1290465   \n",
       "2              870521       305717           305717      1345134   \n",
       "\n",
       "   production_windoffshore  capacity_18  production_fossilgaspower  \\\n",
       "0                  1364456      1714000                    1714000   \n",
       "1                  1290465      1823000                    1823000   \n",
       "2                  1345134      1956250                    1956250   \n",
       "\n",
       "   capacity_19  production_fossilhardcoal  capacity_20  production_nuclear  \\\n",
       "0      1926636                    1926636       485000              485000   \n",
       "1      1592074                    1592074       485000              485000   \n",
       "2      1500851                    1500851       485000              485000   \n",
       "\n",
       "   capacity_21  production_wastepower  capacity_22  production_windoffshoreB  \\\n",
       "0       408500                 408500      1865500                   1865500   \n",
       "1       407250                 407250      1839500                   1839500   \n",
       "2       407750                 407750      1429250                   1429250   \n",
       "\n",
       "   capacity_25  production_biomasspower  capacity_26  production_otherpower  \\\n",
       "0       447364                   447364       241000                 241000   \n",
       "1       646176                   646176       241000                 241000   \n",
       "2       609149                   609149       241000                 241000   \n",
       "\n",
       "   capacity_27  production_electricitymix  capacity_28  volume_28  \\\n",
       "0     10246506                   10246506          NaN        NaN   \n",
       "1     10083044                   10083044          NaN        NaN   \n",
       "2      9595627                    9595627          NaN        NaN   \n",
       "\n",
       "   capacity_35  production_CHP_total  capacity_50  production_solarthermal  \\\n",
       "0      1127491               1127491          482                      482   \n",
       "1      1184195               1184195          391                      391   \n",
       "2      1181864               1181864          444                      444   \n",
       "\n",
       "   capacity_51  production_allconsuminggas  \n",
       "0      1865500                     1865500  \n",
       "1      1839500                     1839500  \n",
       "2      1429250                     1429250  "
      ]
     },
     "execution_count": 5,
     "metadata": {},
     "output_type": "execute_result"
    }
   ],
   "source": [
    "# Show a sample of first 3 rows.\n",
    "df_ned_json_data.head(3)"
   ]
  },
  {
   "cell_type": "markdown",
   "metadata": {},
   "source": [
    "Data Understanding\n",
    "\n",
    "a. Which variables are numerical and which can categorical? How many variables are of both types?"
   ]
  },
  {
   "cell_type": "code",
   "execution_count": 6,
   "metadata": {},
   "outputs": [
    {
     "name": "stdout",
     "output_type": "stream",
     "text": [
      "Number of columns in the original data: 49\n",
      "\n",
      "\n",
      "Number of numerical variables: 48\n",
      "['capacity_0', 'volume_0', 'capacity_1', 'production_wind', 'capacity_2', 'production_solar', 'capacity_4', 'production_heatpump', 'capacity_8', 'production_cofiring', 'capacity_9', 'production_geothermal', 'capacity_10', 'production_other', 'capacity_11', 'production_waste', 'capacity_12', 'production_biooil', 'capacity_13', 'production_biomass', 'capacity_14', 'production_wood', 'capacity_17', 'production_windoffshore', 'capacity_18', 'production_fossilgaspower', 'capacity_19', 'production_fossilhardcoal', 'capacity_20', 'production_nuclear', 'capacity_21', 'production_wastepower', 'capacity_22', 'production_windoffshoreB', 'capacity_25', 'production_biomasspower', 'capacity_26', 'production_otherpower', 'capacity_27', 'production_electricitymix', 'capacity_28', 'volume_28', 'capacity_35', 'production_CHP_total', 'capacity_50', 'production_solarthermal', 'capacity_51', 'production_allconsuminggas']\n",
      "\n",
      "Number of categorical variables: 1\n",
      "['validto']\n"
     ]
    }
   ],
   "source": [
    "print(\n",
    "    f\"Number of columns in the original data: \"\n",
    "    f\"{df_ned_json_data.shape[1]}\"\n",
    "    \"\\n\"\n",
    ")\n",
    "\n",
    "df_orig_num    = df_ned_json_data.select_dtypes(include='number')\n",
    "l_df_num_names = df_orig_num.columns.tolist()\n",
    "\n",
    "print(f\"\\nNumber of numerical variables: {len(l_df_num_names)}\")\n",
    "print(l_df_num_names)\n",
    "\n",
    "\n",
    "df_orig_cat    = df_ned_json_data.select_dtypes(include='object')\n",
    "l_df_cat_names = list(df_orig_cat.columns)\n",
    "\n",
    "print(f\"\\nNumber of categorical variables: {len(l_df_cat_names)}\")\n",
    "print(l_df_cat_names)\n"
   ]
  },
  {
   "cell_type": "markdown",
   "metadata": {},
   "source": [
    "Next to check for missing values, variable completeness"
   ]
  },
  {
   "cell_type": "markdown",
   "metadata": {},
   "source": [
    "df_orig_num.info()"
   ]
  },
  {
   "cell_type": "markdown",
   "metadata": {},
   "source": [
    "Create a frequency table counting number of missing values per variable"
   ]
  },
  {
   "cell_type": "code",
   "execution_count": 7,
   "metadata": {},
   "outputs": [],
   "source": [
    "# Pandas Series with type of each variable (variable, column) in df_orig.\n",
    "ps_missing_type    = df_ned_json_data.dtypes\n",
    "\n",
    "# Number of missing data per variable.\n",
    "ps_missing_total   = df_ned_json_data.isnull().sum()\n",
    "\n",
    "# Percentage of missing per variable.\n",
    "ps_missing_percent = round(100 * ps_missing_total / df_ned_json_data.shape[0], 1)"
   ]
  },
  {
   "cell_type": "code",
   "execution_count": 8,
   "metadata": {},
   "outputs": [
    {
     "name": "stdout",
     "output_type": "stream",
     "text": [
      "Number of variables having missing data: 2 (out of 49)\n"
     ]
    },
    {
     "data": {
      "text/html": [
       "<div>\n",
       "<style scoped>\n",
       "    .dataframe tbody tr th:only-of-type {\n",
       "        vertical-align: middle;\n",
       "    }\n",
       "\n",
       "    .dataframe tbody tr th {\n",
       "        vertical-align: top;\n",
       "    }\n",
       "\n",
       "    .dataframe thead th {\n",
       "        text-align: right;\n",
       "    }\n",
       "</style>\n",
       "<table border=\"1\" class=\"dataframe\">\n",
       "  <thead>\n",
       "    <tr style=\"text-align: right;\">\n",
       "      <th></th>\n",
       "      <th>data_type</th>\n",
       "      <th>empty_total</th>\n",
       "      <th>empty_perc</th>\n",
       "    </tr>\n",
       "  </thead>\n",
       "  <tbody>\n",
       "    <tr>\n",
       "      <th>volume_28</th>\n",
       "      <td>float64</td>\n",
       "      <td>19927</td>\n",
       "      <td>75.8</td>\n",
       "    </tr>\n",
       "    <tr>\n",
       "      <th>capacity_28</th>\n",
       "      <td>float64</td>\n",
       "      <td>19927</td>\n",
       "      <td>75.8</td>\n",
       "    </tr>\n",
       "  </tbody>\n",
       "</table>\n",
       "</div>"
      ],
      "text/plain": [
       "            data_type  empty_total  empty_perc\n",
       "volume_28     float64        19927        75.8\n",
       "capacity_28   float64        19927        75.8"
      ]
     },
     "execution_count": 8,
     "metadata": {},
     "output_type": "execute_result"
    }
   ],
   "source": [
    "# Create table (Pandas DataFrame).\n",
    "df_missing_data = pd.DataFrame({\n",
    "\n",
    "    'data_type':   ps_missing_type,\n",
    "    'empty_total': ps_missing_total,\n",
    "    'empty_perc':  ps_missing_percent\n",
    "})\n",
    "\n",
    "# Sort table by number of missing data in descending order.\n",
    "df_missing_data.sort_values(\n",
    "    by        = 'empty_total',\n",
    "    ascending = False,\n",
    "    inplace   = True\n",
    ")\n",
    "\n",
    "# Remove variables that have no missing values.\n",
    "df_missing_data = df_missing_data.query(\"empty_total > 0\")\n",
    "\n",
    "# Show table.\n",
    "print(\n",
    "    f\"Number of variables having missing data: \"\n",
    "    f\"{df_missing_data.shape[0]} (out of {df_ned_json_data.shape[1]})\"\n",
    ")\n",
    "\n",
    "df_missing_data"
   ]
  },
  {
   "cell_type": "markdown",
   "metadata": {},
   "source": [
    "Conduct descriptive / summary statistics"
   ]
  },
  {
   "cell_type": "code",
   "execution_count": 12,
   "metadata": {},
   "outputs": [
    {
     "data": {
      "text/html": [
       "<div>\n",
       "<style scoped>\n",
       "    .dataframe tbody tr th:only-of-type {\n",
       "        vertical-align: middle;\n",
       "    }\n",
       "\n",
       "    .dataframe tbody tr th {\n",
       "        vertical-align: top;\n",
       "    }\n",
       "\n",
       "    .dataframe thead th {\n",
       "        text-align: right;\n",
       "    }\n",
       "</style>\n",
       "<table border=\"1\" class=\"dataframe\">\n",
       "  <thead>\n",
       "    <tr style=\"text-align: right;\">\n",
       "      <th></th>\n",
       "      <th>validto</th>\n",
       "    </tr>\n",
       "  </thead>\n",
       "  <tbody>\n",
       "    <tr>\n",
       "      <th>count</th>\n",
       "      <td>26304</td>\n",
       "    </tr>\n",
       "    <tr>\n",
       "      <th>unique</th>\n",
       "      <td>26304</td>\n",
       "    </tr>\n",
       "    <tr>\n",
       "      <th>top</th>\n",
       "      <td>2022-01-01 00:00:00+00:00</td>\n",
       "    </tr>\n",
       "    <tr>\n",
       "      <th>freq</th>\n",
       "      <td>1</td>\n",
       "    </tr>\n",
       "  </tbody>\n",
       "</table>\n",
       "</div>"
      ],
      "text/plain": [
       "                          validto\n",
       "count                       26304\n",
       "unique                      26304\n",
       "top     2022-01-01 00:00:00+00:00\n",
       "freq                            1"
      ]
     },
     "execution_count": 12,
     "metadata": {},
     "output_type": "execute_result"
    }
   ],
   "source": [
    "df_orig_num.describe()\n",
    "df_orig_cat.describe()"
   ]
  },
  {
   "cell_type": "markdown",
   "metadata": {},
   "source": [
    "data preparation phase"
   ]
  },
  {
   "cell_type": "code",
   "execution_count": 13,
   "metadata": {},
   "outputs": [
    {
     "data": {
      "text/plain": [
       "capacity_0                    9.34e+06\n",
       "volume_0                      9.34e+06\n",
       "capacity_1                    1.31e+06\n",
       "production_wind               1.31e+06\n",
       "capacity_2                    8.14e+04\n",
       "production_solar              8.14e+04\n",
       "capacity_4                    5.70e+05\n",
       "production_heatpump           5.70e+05\n",
       "capacity_8                    6.93e+05\n",
       "production_cofiring           6.93e+05\n",
       "capacity_9                    1.55e+05\n",
       "production_geothermal         1.55e+05\n",
       "capacity_10                   2.15e+04\n",
       "production_other              2.15e+04\n",
       "capacity_11                   4.74e+05\n",
       "production_waste              4.74e+05\n",
       "capacity_12                   8.60e+05\n",
       "production_biooil             8.60e+05\n",
       "capacity_13                   5.93e+05\n",
       "production_biomass            5.93e+05\n",
       "capacity_14                   3.29e+05\n",
       "production_wood               3.29e+05\n",
       "capacity_17                   1.26e+06\n",
       "production_windoffshore       1.26e+06\n",
       "capacity_18                   2.97e+06\n",
       "production_fossilgaspower     2.97e+06\n",
       "capacity_19                   1.01e+06\n",
       "production_fossilhardcoal     1.01e+06\n",
       "capacity_20                   4.77e+05\n",
       "production_nuclear            4.77e+05\n",
       "capacity_21                   3.52e+05\n",
       "production_wastepower         3.52e+05\n",
       "capacity_22                   1.06e+06\n",
       "production_windoffshoreB      1.06e+06\n",
       "capacity_25                   4.26e+05\n",
       "production_biomasspower       4.26e+05\n",
       "capacity_26                   2.21e+05\n",
       "production_otherpower         2.21e+05\n",
       "capacity_27                   1.33e+07\n",
       "production_electricitymix     1.33e+07\n",
       "capacity_28                   1.14e+07\n",
       "volume_28                     1.14e+07\n",
       "capacity_35                   1.57e+06\n",
       "production_CHP_total          1.57e+06\n",
       "capacity_50                   1.93e+03\n",
       "production_solarthermal       1.93e+03\n",
       "capacity_51                   1.06e+06\n",
       "production_allconsuminggas    1.06e+06\n",
       "dtype: float64"
      ]
     },
     "execution_count": 13,
     "metadata": {},
     "output_type": "execute_result"
    }
   ],
   "source": [
    "df_orig_num.median()"
   ]
  },
  {
   "cell_type": "markdown",
   "metadata": {},
   "source": [
    "Impute missing values"
   ]
  },
  {
   "cell_type": "code",
   "execution_count": 20,
   "metadata": {},
   "outputs": [
    {
     "name": "stdout",
     "output_type": "stream",
     "text": [
      "Median values in original numerical data (first five variables):\n",
      "capacity_0         9.34e+06\n",
      "volume_0           9.34e+06\n",
      "capacity_1         1.31e+06\n",
      "production_wind    1.31e+06\n",
      "capacity_2         8.14e+04\n",
      "dtype: float64\n",
      "\n",
      "Median values in imputed numerical data (first five variables):\n",
      "capacity_0         9.34e+06\n",
      "volume_0           9.34e+06\n",
      "capacity_1         1.31e+06\n",
      "production_wind    1.31e+06\n",
      "capacity_2         8.14e+04\n",
      "dtype: float64\n",
      "\n",
      "Number of missing data in imputed data: 0\n"
     ]
    }
   ],
   "source": [
    "df_imputed_num = df_orig_num.replace(np.nan, df_orig_num.median())\n",
    "\n",
    "print(\"Median values in original numerical data (first five variables):\")\n",
    "print(df_orig_num.median().head(5))\n",
    "\n",
    "print(\"\\nMedian values in imputed numerical data (first five variables):\")\n",
    "print(df_imputed_num.median().head(5))\n",
    "\n",
    "\n",
    "print(\n",
    "    f\"\\nNumber of missing data in imputed data: \"\n",
    "    f\"{df_imputed_num.isna().sum().sum()}\"\n",
    ")"
   ]
  },
  {
   "cell_type": "markdown",
   "metadata": {},
   "source": [
    "Imput missing values for categorical variable"
   ]
  },
  {
   "cell_type": "code",
   "execution_count": 15,
   "metadata": {},
   "outputs": [
    {
     "data": {
      "text/html": [
       "<div>\n",
       "<style scoped>\n",
       "    .dataframe tbody tr th:only-of-type {\n",
       "        vertical-align: middle;\n",
       "    }\n",
       "\n",
       "    .dataframe tbody tr th {\n",
       "        vertical-align: top;\n",
       "    }\n",
       "\n",
       "    .dataframe thead th {\n",
       "        text-align: right;\n",
       "    }\n",
       "</style>\n",
       "<table border=\"1\" class=\"dataframe\">\n",
       "  <thead>\n",
       "    <tr style=\"text-align: right;\">\n",
       "      <th></th>\n",
       "      <th>validto</th>\n",
       "    </tr>\n",
       "  </thead>\n",
       "  <tbody>\n",
       "    <tr>\n",
       "      <th>0</th>\n",
       "      <td>2022-01-01 00:00:00+00:00</td>\n",
       "    </tr>\n",
       "    <tr>\n",
       "      <th>1</th>\n",
       "      <td>2022-01-01 01:00:00+00:00</td>\n",
       "    </tr>\n",
       "    <tr>\n",
       "      <th>2</th>\n",
       "      <td>2022-01-01 02:00:00+00:00</td>\n",
       "    </tr>\n",
       "    <tr>\n",
       "      <th>3</th>\n",
       "      <td>2022-01-01 03:00:00+00:00</td>\n",
       "    </tr>\n",
       "    <tr>\n",
       "      <th>4</th>\n",
       "      <td>2022-01-01 04:00:00+00:00</td>\n",
       "    </tr>\n",
       "    <tr>\n",
       "      <th>...</th>\n",
       "      <td>...</td>\n",
       "    </tr>\n",
       "    <tr>\n",
       "      <th>26299</th>\n",
       "      <td>2024-12-31 19:00:00+00:00</td>\n",
       "    </tr>\n",
       "    <tr>\n",
       "      <th>26300</th>\n",
       "      <td>2024-12-31 20:00:00+00:00</td>\n",
       "    </tr>\n",
       "    <tr>\n",
       "      <th>26301</th>\n",
       "      <td>2024-12-31 21:00:00+00:00</td>\n",
       "    </tr>\n",
       "    <tr>\n",
       "      <th>26302</th>\n",
       "      <td>2024-12-31 22:00:00+00:00</td>\n",
       "    </tr>\n",
       "    <tr>\n",
       "      <th>26303</th>\n",
       "      <td>2024-12-31 23:00:00+00:00</td>\n",
       "    </tr>\n",
       "  </tbody>\n",
       "</table>\n",
       "<p>26304 rows × 1 columns</p>\n",
       "</div>"
      ],
      "text/plain": [
       "                         validto\n",
       "0      2022-01-01 00:00:00+00:00\n",
       "1      2022-01-01 01:00:00+00:00\n",
       "2      2022-01-01 02:00:00+00:00\n",
       "3      2022-01-01 03:00:00+00:00\n",
       "4      2022-01-01 04:00:00+00:00\n",
       "...                          ...\n",
       "26299  2024-12-31 19:00:00+00:00\n",
       "26300  2024-12-31 20:00:00+00:00\n",
       "26301  2024-12-31 21:00:00+00:00\n",
       "26302  2024-12-31 22:00:00+00:00\n",
       "26303  2024-12-31 23:00:00+00:00\n",
       "\n",
       "[26304 rows x 1 columns]"
      ]
     },
     "execution_count": 15,
     "metadata": {},
     "output_type": "execute_result"
    }
   ],
   "source": [
    "df_orig_cat.mode()"
   ]
  },
  {
   "cell_type": "markdown",
   "metadata": {},
   "source": [
    "To check for timezone error, if any"
   ]
  },
  {
   "cell_type": "code",
   "execution_count": 36,
   "metadata": {},
   "outputs": [
    {
     "name": "stdout",
     "output_type": "stream",
     "text": [
      "datetime64[ns, UTC]\n",
      "0   2022-01-01 00:00:00+00:00\n",
      "Name: validto, dtype: datetime64[ns, UTC]\n"
     ]
    },
    {
     "data": {
      "image/png": "[encoded data removed]",
      "text/plain": [
       "<Figure size 640x480 with 1 Axes>"
      ]
     },
     "metadata": {},
     "output_type": "display_data"
    }
   ],
   "source": [
    "df_ned_json_data['validto'] = pd.to_datetime(df_ned_json_data['validto'])\n",
    "print(df_ned_json_data['validto'].dtype)\n",
    "print(df_ned_json_data['validto'].head(1))\n",
    "\n",
    "\n",
    "import seaborn as sns\n",
    "import matplotlib.pyplot as plt\n",
    "\n",
    "df_ned_json_data['hour'] = df_ned_json_data['validto'].dt.hour\n",
    "sns.countplot(x='hour', data=df_ned_json_data)\n",
    "plt.title('Hourly distribution of data')\n",
    "plt.show()"
   ]
  },
  {
   "cell_type": "markdown",
   "metadata": {},
   "source": [
    "Intereative Plot"
   ]
  },
  {
   "cell_type": "code",
   "execution_count": 19,
   "metadata": {},
   "outputs": [
    {
     "data": {
      "application/vnd.plotly.v1+json": {
       "config": {
        "plotlyServerURL": "https://plot.ly"
       },
       "data": [
        {
         "hovertemplate": "index=%{x}<br>volume_0=%{y}<extra></extra>",
         "legendgroup": "",
         "line": {
          "color": "#636efa",
          "dash": "solid"
         },
         "marker": {
          "symbol": "circle"
         },
         "mode": "lines",
         "name": "",
         "showlegend": false,
         "type": "scattergl",
         "x": {
          "bdata": "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",
          "dtype": "i2"
         },
         "xaxis": "x",
         "y": {
          "bdata": "0ZJ7AFvFeABdjnEABv5xAIROcQAPZnAA2c5yAML3cwBhJnMAm556AGshkQAk+6MAPIazANjosgBQ/a0AANedAAlGjQAKs4sAOVeNANKwjgAqbo8AyaOKACQqhAAq84EA2xuBADSThAACAIwAxmGOAN2ejgA59pEAMeSVAC3VngAzNKYAhJusAKI6ugDCAskAL8fHALPqxgBPecUAVDS4ALzapQDx5J0ArCGbADK6mABeh5UA9P2bAID/oQCA/6gAXiWsAMJ0owBNXaQAAhikALcjpQCfHKkABQatAAgtrwDaHLIAwLq0AAWSvgBJq8wAMbjUAMxWzgD4eMUAuX61AOxapwCU/Z8AE8yZAHgnlwD8AJAAS3+IAB3HgwAwbX0AI7Z5ANd/dgDNsnYAa4V0ACRFcACE8HAAGfBxAAOgdQBGQXcAtW94AG6ieQC9xYAArPeHAKLwhwAlCoMAT7d1AEFFcAAyb3AANlF0AAFyfAC8w3wABtWAANnihwD2N4sA3amMAPctkgC3CJoAHUCfADrLpwD+OK8Ax+u3AEaPwwA+P8kAlsXJAF79zgCiB9cASPXdADnP2gBYB84An8PAAN5ysQCPtaoANBanAG8ApADSwp4AmROWACVtkgCBo4cAFuuIAKf9gAD2XHQAjdxwALNsaQBlR2MAyCpkAJJaagCfwGoA45puAJ2uhQCKx5kAZQCiACRspgANgJ4AcFyPAIdhggDYFocAUAGOADerlwDu/6MAUo2pABUjqwDj8q0AB5OwAJ+ftQAAA7oAxKu2AHPxuAAJ2bgA4xK+ABzTwgBRfcIASW+9AHpewgD9Is4AnTDPADGQxgB7QLsACfipAHtynAAA3ZMApQ+TAOoajwDayocA+MKCANOIegByt3cAtdN1AGeadwCdIncAgGlyALYrbgAT4HMANhp5APk4fwBYd4cAbt6VAP6IrgBGosEAYM/KAMalzADgF8YAqbLBALKawQAWdMQANozEAHkRwgA3vLsAyTyzAL1TqwCGv6UAH0+ZAGZ6lwCf1pkACw6fADyMqAAVLK4ARl2yAIZbuQAGyrUAoeKwAJswtgD8l70As0i/AJfcsQCqe6QAjJGPALMUdgBPZW0Ap2NrAPEpagAB62YAv2NjANK6XQDbx1gAHPpVAFMMVQDWOVUAZQZWAFlVVwDcmlkA68peALpLZgA78WkAX/ptANgMfQDD0YoAZM2PAHSAigCsC4UAmcNxAGlRYAA4aV8AvlRjAP7+YwBbtGQAnXFjAJeoYwAm42QAImpmAM4yaABWRGwArIBvAF/LcgCB33UAemp+AEO8hwCsZo0AqH+VAOpLogBhsa8ApK64AAS4tgDlnaAA42OLAAyTdABmSW0ApyptAOC8agDElWYAdAliAI2zXgDNGl0A2kZaACv2VgCvk1gAUeVZAOqzWgCBRlwAoWxhAATAZwBMi2oAzk9tAAnQdgCkSn4AcrmBAFAefwD/u3YAW6xsAFneZQBMVWQA1NBiALjeYACD+2AAfaZhAHolYQCcMmIAbHNhAO8oZACyBGcAn5BnAN2zaAD1f2wAQ+JyAJzveQCczH0AKIR/AGctggDmV4sAR06SAHISkgBMt4oAPwOBAGDGdACPOG8AsOlrADNnagCoDWsA74hpAD4vaQCXPW8AAmZyAEthbAB5cmkAUQ1qABB8aQB4BGkAPPNsAGJtcQAkRnMACTlzABG5dQCFeXcAWYd4AC7OcQDrG2cAOqVcAHS0VQBep1UAYwZWABN2VQDWY1QAQtRSAP0zUQB0lFAAD2xQADeLUQAmklMAH49VAML/VwAOIFwAd15jAJFCawDednAANlpzAFCddwAMx3oA0xp8ADRZewAQ73QAOCJuAMyzaABrK2cAgbRpAH2ZagDxWmsAWXpqAPrXZQB9g2MAkKhnAGvTbQAtt3cAnqh/AKCcfQDIaHsAguuBAOytiAB5o4oAwiaIAKGgjQBetZIA9jaZACRknACKfJkAWrKPAGSqggBpgH0APLN9AOypeQA0yHgAOZN6ACxydgDYQXAApexuANkTbwB3JHUAfbF6AJw6fgA9roUAHaGLAFp7kgDw45kAmkKeAPtTqAAQFLIA4GS1AD0PtQDdBrEAnLKiAANTiQBh4XYAnMJrACwqZQANql8AC+1ZAI+zVgBC5VUADzJWALGVVwCzF1kAIrFYAPXZVwAr1VcAu/BaAOUZYAAPzGMAVbBoAGufdABmHIEA0cGGANheiADlK4EAR25zAKP4YwCxVF8Al1pgAEjoXwDlKF8At81gADe/YABiR14A1ixhAOpqYgA212UA8M1nADubagDX/m0A3HxyAPXeegAZa4EAorGJAFjzlQBr96AAV/isADOkrAASG6kAStCmALQqpgBEr6IAhPmeAMC5mQDJwpgATL2TAAqWjADdDYcA58mLAJW4jgAClZgAWnOiAC3XqACYJqsAYTS0AAgTugA/I7gAs/e2AEiBxABL99oATOnpAOcf7AAo5NoA0XHKALKHuABY56QAZSCeAI7wnAAc1JUAF/uNANDViwCJKoMAXYh5ADDJewDPL3sAl9R4AIKGeQAaT3gAjkx+AMsGhAABNIMAW6yJAH5loQDpPq4ALQyqABavpQAtHZ4AqtSVAHdOjwAo8IYAjp+GAJuFhgCLb4cA3jiGAPjYfwBOIX0ATx14AMiOcgARGHEAcSJvALgPbADXE2kANpVtAF3EcQBOrXMAtvpzALjacgB2IHMAc8x0ALD4cgD5PW4AE0pmAKt5YgALImEABQxeAIW3WgDM+FcAwYZVAGqXVABW4lIANJRRAFZAUQD3MVIA++xSADaKUwBGhlUAn8RZAA8iXwAn8WEAkz5kAB2ZaQD7gm4AM3VwAALSbQDua2cAFrtdACUAVgDadFQA8VRVAHVEVgCJ0VUADidVALc5UwBWP1IA6/tSAPqSVAA5olUA549WAL8UVwDidlgApnlcAFxJYQAeQ2QAIwNmAJtwawBMenEALSp0ACIIcwBigGwAKptjAKULWgCbiFYAkr5WAFzPVQAoyFQAB3xTAC+UUgAP+1EAu39RAM6bUQDe51IA5NVTAP6mVACM0lYAmHpbAOlDYQArmmQAGu5lAL77ZwC1MWkA68toABaRZwBe3mMANgBeAD8EWwAVT1oAcCRbAOzyWQAA3lcAjFxWADijVgADdFgACZhbAFacXQD2SmIAfOdpAAXPbwBhkHMA7xh6AK5KgwDTYYUAcK2DAGFQhQARv4cAKLqIABvqiAAUhoYAiNaDAE/iggCc6IAAgZuHANs8jwCfc5YAURedAM97pADU5agAB3SqAL6nrgBXr7AAgLmvAOlrtABwxboAJ2u/AIPEwgDctMcAvjXIAFBvyQB76MoAeZvJAJxXywDHs8kAiq6/AO4itADrNaUAgEGjAAKTpgDGHaQA4QmbAI2blwCYfpEA/+OPAHSAkQAqu40Ae4mKAKwniQAfxIQAaRSDAPS3fwCDMHkA3LZ8AGYtkgDSGZ8AbS+nAKUgpgBEZqgA8BGWANB/fAB9GngAyhiEAP7ckACCFZgAqgKgALb6pABHOqYAs1SpACRmqwDHea0AagmvAPhQsQAeoLIAsXu0AIujuAAdpb4A7DHDAG6pygDEON0Anc7iAIjT4wD6bdYAhB3CABW+vgAV57cA6NK3AGortwA8x7QAV6qzANL5sQBXQ7AAAS6uAFF6qwAodKkAQAunAAiWpACsgaIAnLqgAOnknACTsZsAkaKhANSJsQBQqcQA91bRAHQvyACpcbUA6DqXAM8xeADrYmcAoDtqALTCbgC+dHsAJMGFAKtijQAWp5gAIKiiANMGrQACzrIArVy1ABv3tQAiwLgAaXW8AA7UvQCZhbYA5LixAD5KtAB8DbsAZHC/AMc3vgC/j8EAirXAAPacvgCLOL0Ax7y0AER/rwBhjLEAO2WwAK8HpQCtO5YAIu2HANKGfAChFXoAjjJ/AJSMgwCODZAAzTiiAEjEtACNtb0ALyPEAOubzQCVzdAAc1/PAMvBzQD7NswAWinIAGtXwAAmU7cAfDG2AJVRtQClcbUAdla2ANUzswDSF7IABveuAPUzrgCdxLAAvbGvAAEnsQB4TK4AHNWpADBzpAC0ipkAejScADfKswBTLccA5cvOALYxvgA1JK8Al2aLAAMucgAgeV4A2sxdAPdIYAAYAWMAek1kAKPwZQCK9GYAx0VpAIJfcgB2anoA5CSBAFRKhQDdeosAMNOYAJSLowC4MqkAkimvAMxJtwCFH7YAD/mxALafqwCxJ6QAFbSYAMAejQDSHYMAiLF+AFPDeQCZs3UAoMV5AIdxewDXbIAASDyKAMVhkQB1epUAK1WaAJI7owC6RKkA34ewADSBugAhCMEAONPIAHg10wDkStoAzR/dAICD1AAS5McAR5q8APgytwBOnbIASxmsAMhlqwAJsK0AuWaoAOCMqgCR0KkAAnKsAGhFqgDpdqkA7q2oAILFowCdDaEAdDyiAAKvoQB3JKAA/72uAC5p0AA19e4AVUz1AM3b+gC0EPoAWFPlANsFzAAYgb8ANfa+AEiQvgB9Cr0AZrm6AJnquAC/h7gAaqe4AARduQCiX7oAnGq7AK5TvABwfL4AfAPCABFrxgDu0MkAoynLAOt8zABTn8oArTrHAEJ+wACLhcgAqpjQAOaRxwBHgsAAFznAAHosuQACZbcARQC3AI4uuAAE9rYAWUK2ADW8tgDBzLgACUC3AI1VtwCHuLYAv2K1ACMdqgCodZsA2lOpAC/MzwClTekA7dzsAGR07gByLPAA3dXfABSevwA/Mp4ARoSUAJGTlgAe/5QAnNOWAPHmmQBdqZ8AWwSjAD2/owD2oKUApvGmABdOqAA7HaoAdoKwAOo9twCjJrsA2MzFAOa41wCVw94AX43mAETj5wDNmdoA/JrIAOl4tQAy3qIAzBecAPmclQDbDZYAqtKcAPPzmwDvlZoATUqdAHPDnQAiLJ4Amv6eAFNpoQC7BKYAwharAB9QrwAHurQAzqC6ADhnxQDoY8kAr0fKAAZawwB+erMA1lOhAMBqiQCqAXAAaaJkAGDxXQBeSVoALpFZAKUFWQCKk1gAD3hcAM+rWQAG3FUAcuNUAE9NVQDsjFYAysxbANyhYADmO2MA40drAHTrewCgWJQAHqGtAJMorgD3/p4A7NWWAL5/jADFOXsASrB4AHTIewASLn8Aa2eDAMeZhgCYX4kAdSSPAKaIlQDddaAA/7CoAP+5sQDQGrEA5ai3AKW/vQAIesMAXgPMAEYU5ABpuucA3f3tAAxQ5QBD7sIAlP6iAASZhgD77mUALddbAD+BXQCkvF4AdW5dALQgXAAtXV0A3rJfAC+cZAAVdWkAF4lwAOlJeQCRs4EAd4eLAAg/lgBF6qAAwTy/AJDT5gBxu/wAtb8OAdqkFgHVigwBPhH1AJ7syQDv7qMA9RCZAKdfnAAoS6EAnDemAMdVpADP9KgAyvymALIUpQCjgKgAQr2nAGWPqAA0+6kAqXatAP7ktAD1k8AAaNPXADDY6gBfNPsA0DQMAd/oBgFa/fEASxDbAANSygAGPbUA7wizAOwUtACXjLUAf+u1AD/0swA/EbIAvuuyAObLsgAmZbIAqoOyACu1swCBIrcAWxu6AJlDwAB9iMUAa6HMANOb2QBTGOwA1Hj3AHuJ9QDizPQAgVrvALNI1wDIWrsAh6StACrMqAAioa0AGBqmAFZsmwCTiJAAg+aHAImvhAC1TIAAc3h8AC44fAB9A3oAiQh+AEgHggDvW4YAHLaXAE+qwgAQ6/MAhUMIAVoWBwHu2O8ATeTUAJP4wQCMIrwA1Hy6AL6huwDvG7kAn5CwAJJKoQBwd5UAUbqMAGj4hwD8tYcA71eQALycmwCIfKYAcEa2AGsRvwAV0cUAIibMAM692ABG6+AAixnYAE/y0ACQ0ssAmTDHAGD5vgCuZbYAuUWsAO07kwAS7YYAWG+AAEdchwAFeZkATeedANNCmQDSF5kAODGbAGG9ogDeg5oAWG2jAAhAswD7Z7wAosrRAJkv6wDcFgABno8QAd7yBwHX3PwAgQXfAOd0zgBwtbQAq8OtAK9MpgDQ25oAh4aTAJI4jABY7YIABQ55AL1ScQDsS24AYk9pADiRbQCgI3MAAiGDABPOmQCHgakAJWm6AA+DwwCgv8YAQsTJAEpKugCZLqAAmvuaAPUPhQBHs1kAcbBVAL+6WQCeJFwAu29cABYhXwB36WAApUZ0AMDDiQAIMaEAe164AKIluwDZqr0Az+LCAMTWyAAom84AwknlAGi+/gA6FgsBymYRAcVWCgFEGvYAdRXTAGmDvgDkWboAlfm4ANWstwAB97YAbVewAOyUqwANtaAAx+uUAPZ9jwD1wIMAeMpxAJbdeQDuoIsAV/ekAHDOuQD5+MYA94fMACWt0QBxOdMAXmfOAAIdxQB+TMIAjze/AExrvACrLrYA2dupAFEojwDiFocAms6HALarrAA5H7gAilOxADUEsQCm2rAAOXiqABBxtAASF7gAYy28ACOPwgD/vcsAo9PYAEAH0gCZxb0AYLHNAI201ADPd9UAnpPjAJPC2AAk18IAmVG0AGY4twBuxrUA+mCyACqApQAo1JkARBSWAJP+kAASY4YAd6aDAGblegBci3cAQTB1AAEEewBCFpIA/aa4AJQB1gCcDNQAnxnTAGPrzQCKfs8AriPEAAVYvwBckbsAz+K1AP83qwA/NJ0AcYKbAAoangDCxJ0ACDOYAOrukgBjrY0AW+mGAAyChADiF4AA2+l6ADXWfQCwSYwAEBC1APV05QBZNwYBrC8dAZlWJAELwxkBlPr9AFcF1wByNLYARN6aAGG4kwAlx5UAtUybANtPnQCc858ADRikAJFRqgCsw6oAyiGpAELJqQCloakAztysAER3tADsE78AKZ/TAIxy6gA1fPsAVTgFAUNt5QATN80AT8y9AFQdvgBxy7oAJLyvAB2uqABrq6UAncGiAGptnwCJ7aQA6janAHENqgCEv6gABwWpAOxHqgDfS68APtS2AL+NwACga8YAHPHZACc07wCiCvgA4D0HAdeOAgFpBPcAGN3rAO8D0gDqjaoAS5KGAAabdwAgcXAA1+ZpAOrxYgCNX14AQPdaAOgEWQDK61cAD9tXAPf2WACKUVsAl8JgACTraABlr3oAUx2dAEbgtgBwg8cAp33MADh/zAA0D8AA6netAAxxlQBk0nYAXdJpAFGUagArhHEAZFlyAK80cgA6WXQA0SRzAI3icwAKKHgAK8Z5AN7mewDNi34AhiqBACbVhQDFrZkAFhDEAIWP5wB/9QUB0SkZAYZaGAFk7wgBSLzrAB27xgDzP5oA75x7AJ8KgQAVv4cALgqNABSGigAg+IMAAHOCAIhqgAB/A4EAjD6AADEzgQAp+4QAdxaJAJfRjAC02ZgAQZa+AG924gCHRPoAPRkBAfa4+QAGMOoAmkbYAIoNtgB2sooASrVtAIfEagBgd2sA16ZpABJTZwBxC2YAEPxkAEW4YQD7BmEA+bReAL3fXQAAO14ABA9iAO86ZwD7BXIANEF/ABoChwCWlY8Akh2ZAKB/iwBJ3n0A0mFsAAQeZgB1HWEAsQVXAN2yVgCS51YAP0hWAJKNVQCj2FYAkXFYAEeWWABpLVkAOodcAM7EXQAoy2EAk3RqAJMacgAiloQA1TKmAJyKxwD8X9wA8LXmAIVg4ADnNNIA0UzEAPRPpgBvvn0AS/dlAEdbZAB5FmUAYhNkAJslYwDuZWIATcJiAE/RYQC5wmIAIiJiAD3FYQDq6mMAf0trAKlzdgAHdo8AdnKzANSL0ACxZOcAQRj4AGgL+gAezesA8Y/SAOuEsgCdx40A9D9vALvebwBg3nEAuhZzANrNdAC1zHUA3xByAJfkbAA9G2sAmhlqAFaYagDmLHAAlPd2AMOnfwCS6pUAqf62ABI11QDRh+wAajH0ADDs8QCxROYAMerSAEx1sAA5oY0AWaxxAMADbQDMV3EAA812ANimeAAMnHYAYYRzAGwOcAC4jmsANC1mADCBZAAbv2cAEs1vAJJOeQC12ZYAhcHCAAD82QDUVeUAgETsADGw5gAVkdkA7fDEADMAqQALvZEArMV8AA2LfAA5n34AWal9ANGcfQAVFn0A3XKBABJ5gwBT5YQATkmEALTcggC6o4QAVVKKAL/PkgBACKsAJHjWAMQdAQHyzxEB0z8WAbQMDQGdDPkAcz7pANwVzwBU6q4AUF6QAO9ehQDwDoAA+Px2AFWcbgADSmgABRVjAB7cYAD0rV4AzYpeAApCYQBqoGQA1bxqAA0SdQAqBpYAEG+/AE9E1ADpeu4Az8P2AEC++ADYOu0AD/vgAFVZywCVT6gAxt6FANKlewBr/XgAm6F5AOdBegCsfHgA3QV8AKnxegB24X4Aiux/APiYfwC1LIMAeqSJAHTDkQB3I7QANOnkAK/XCgGHECcBtHwtAaI+JgFiDhYBVpP6ABsY1ACPqaYA7vJ/AB9KcwDWnW8ARkZtAFzEbgCQFW4AF+JtAF31bADRpmsATtxtALSTbQDIXW4A4kdxAEWseQDaSJUAi+W8ACfr2gDtsOwAiY32AHfB+wCxC/MA2NjZAF82sQAvGYUAF1lmADmpZAB+o2QA+yVkAGMtZABTJmQA6K1gAPLSXwCYbWEAjldhAJejXwCQ818Aj3lmADIicQB0No0AkP6zALje0wALKewAblv3ACs9AAH2m/oAfrbhAEfiuADkzIoAMqRtAMgsagBvi2wAupNuAEFGcABgjnQAMIN3ABi+gQDOjogA1M6LAAIwlAB2H5UA33GdALXLqADEjMkAaOf3ADjdGAHsdC0BsbI5AVvmOAHfMS4BxkYVAebx6AAVMr4A1CGiAPQ5lQDsKpMArkqVAERvmwCzhZcAKYKWAA2elAB6v5QAKjuSAL1JkwB1J5MA4rOSAJzBlAADu6YABZjEAClJ5QA6kvkAhIb8AEm48wDeK9kAYyCzAKcekwCOxnkAMRxfAIL9WwCO6WIAzMxvAMi6egAfNnwAn7h8AA11fgAW638AzH6BAFHdgADcf4AApPOBACMQiACn0ZcA+UGxAI971ACD0+wAGMz1AGzK9QDLlewA5ofTAA1cswDu/IQAWSxrAFgoaQAaSGoAvO5qAFB+aQBni2QA/OphACYDXgB53FcAKHNVAJuOWAAfcVsADkBfAIzsZAAEpm8A7Ep9ALl8iwA6Dp0A3S+1AKkhyACfPNEA2DvFAHA7rAC1K4EApMFaAKdHUgBMU1AAQ41PADdkTQADGk0AyUJNAPspTQDXaU0AellOAMFfTwDaiVEAZthUAEc9WwD7XmYAo/JtAPERdgCAzYIAwTKNAK31ogBQpaMAQN2RAF+mggAKWW0A7AtUAOy4UQCE2VIAYZJVAGinVwAUAlcA/ylVAAo3VgDvVFgA7/VZAJ+HXQAg4GQA6mhqANKidQB+IJMAVCO8AICz5QBpNvwAM2YBASa+7ADujNcA4wXFAG1dsADiXpUAbzGEAHwEfgDo23oA7X98ACJRggD72IQA4buDAPOFjgDTfJYASPubACymngBADKUAd7imALaupwC5MKkATWexAIQyxwBTleEA2Uv7AGF4/gBmd/IAPTHYAFkNswAHcYoAOjllAGmaWgCp1FgAk0xYACw1VwCd51YA4aNXADrFVgBdblYATkZVANLEVADArVYAaZZaAHvEaADJG4sAYbqnAJxfxgAcWt4Ak8bnAGF76ADleOAA9x7OALRwuAB9vZwAyYqCAA/ndQBWEHYAJt94AMFCdwDGancA4ap1AFaAdwB6HXcA0OZ4ACayeAAsPHsAHHqAAAVjjwAxXbsAFzzvAH9QFAG0Vy0BHscuAd5ZMwH81ysBSz0gAVUSBQHea94AqO28AOfSpwDbdaAAo1GcAD4fnQA5GJ0AZWmcANq5lgBrO5YALsCXACSXnAAXZ6IASS6jAAU6rgC5DswAOlrjALme6gBiluUA+FvbALLbwQCYyboApVeuABd2mwAhAYUA0cRyAL/haABDjWEAjchfAHYtXABSUlsAWc9aAOfEWQDpbFoAye1cAKjEXgA6pmAAiJxkAEEycgDZ1pMA8QyzAO7kzwDGSeEA7CXqANmB5QCd2tYAOpG8AOJZlgD9WW8A+JBVADePVQAB3FYAVdxYANBFVgD/EVUASkdVAHkgVACCIFMAtR5TAD1CUwAu31QA+J1ZAORKZgCWsYEAJFGkAAy0wQAev9IAcIDZAMGu1AAu9dEAZXe5AM2RmADQaXIAcEVUAKBcUACNy1IAamRUACz6VADGCFAAHQdOAIDZTABf2UwAjnhNABlWTgBN/lAAW2JVAPawYwATXoIAmwilAD2owACmEdYAbU/eAF/b3ACoO9AAj3C2AIJolQCuaXAAnDhSAO5cSwA54EoAqY5JAME6SQDhI0kAVTRJAIFCSQDxJkoA7OdKAN0LTADNUU4A4DxTAMYKYwBTIYIA5aSjAD/HvwBfTdMA4E7cAPyC2gAWLtEADRu4AAdQmAC40HgA2npYABEYTgAXpkwAmsBLAG1hSwCidEsAn5FMAA1uTAC8zk0A62lOABR+TgA9hlAA4FdVAG2AZgAEPYYAuZ2sAIr4zQC5yeQA9zDuANdb7QBBz+EAmm7JAJVSrgCM8ocAoZNmAE/8WgBKBlsApaRbALWXWgCYdVgAWgdXAFZcUwA811EAp19SAH3pUwCfilYANqxaAJ8sagAm0YcAthysAHD6zAA0veYAYUT2AOzh9QAnKeoAZrzXAJ4NugDp15oAb6l5AE9+bgDpf3AA57xxAI6OawCty2AAPM5aAOYWWQC5JlkA92pZAJk5WwA341wAFk1hAONAaQDjvnwALg6gAE7iwwA1edYANJPhALKT7gBwX+cAbNjPAAYlswC6YJIAziRzAL4kYwCkOF4AxlFdAPtmWAAcGlYAL+lUAK3MUgBezVEA9VVRAL68UgCDAVcASv9cAPHpZwA1/HkAcCWSAJzhpgBiPrgAdd7KAPIn2gDfK8oA5m2zAJ0DlwDXlXMA0JRbAN36UgAFklIAIy5TAHS4UgDUrVAAi4NQAOYdUQCnUVAAcHNRAPRZUwB+8FgAHLleABLaZwA+vHIA2jCDAN3VmwDlCrAA+WjCAEgUzwAOWNMAkcC9ACzPoABpm4IAbsVpAAyeXAACMlsAY6RbAFrgXgCa0l4A/+hbAJ81WgBGK1oAkwtbANVZXgB1omUAUgdtAFVZewCUfZYAVM21ACjByQCuY9oA+mbSAOc8zgDDZcEADPKqAH/ikAA4FIMAUzJ4ACrQcwDnV3UAK0R6AOGhhgB5l4YA6K+HACciiABExYYAjaqCAGyziQCwXJAAnT2YACypmgC2XqgAnF+xADeDtwAdkrYAX4HDAD5JxQCq/sUATKrJAHBRxwCq5L0Av5i7AIyuuwCcZbkACyG2AMlwuQCGDbsA1/W+APpvwgDFl8EAl1DBAEFEwgB1DskAGPPSAMxe2gCnJu0A2ugAAQ09CAFBLBUBdmUMAaKHBgGsJgcBnfb+AIk49gDPZeYA+erWAEVOwgCilbEAOECkADiPngCPUJcArQOOAMhQiwDjIIYAVymCACsihADYXYcAL7aOAO1ymADhhMAAAO3uADj+DgHs+gwBR6YNASFnAQEWDgMBpWb2AHhT5QCQvtAAPTezAA9hjwCvB3kAk7dtAHXyYwA6+18AqzxcAKvrWwBmK18AaoxgAJXnYwBiHGgAmKF0AEuvhwCUP6gAOt7KABNX2gDD19AA21PLAIWLxwCt1MsAac7LADCntwBZj6MAgSOIABxCcAAYdGoAIdRtAPZBdwA6eIAAH/2MAC7enQD8r6kAP86zAA0DtwAAUr0AY4PGADKK0gAZcd0A/6nhAG9I3QC6/tkAtoHWAD/M0AA6IcoA8BDGAMJewwDgqLsAmXGtACUyoACRrJQAGuOOAE15iQAEIIUAlv+BAKzdgAA/XH4AJHh4ALo5dwDh6XwAV6aBAAZKhwDksZIAttqdAOlPrgDlxrYA9lXGAPSIxABdmL0AblOwAFu/rACbjJ0A6cSTAFgJjwDkfIoA+geFADZQhgBXLIsAwzKNAHs3kQC8s5UASgKdAEIGpgCScKsAZ2GzACcEvgACYccAO9vRALpR2gBEWdsADMXZAOYX2ACj4cwAVHHHAKeywwCO17oA87CzAHgwrgBK+qwAzAusAMAZqwASIKsAnPCrAP7ArAB6u60ABaKuAPoTsADAhbMAQpK2AHhnvAAJgsQARrDcAO8/DQEhuBABPOEOAU7d/gDlm/IAlW/dAFvj1QAozcUAuxW+AMOOsgAwe7AAQEavALr4rQA5EawAdPakAJrtnwB1u5kAYdiPAMpLkwA/KI0AQg+QAJ0hnwA19rcAjO7KAF0G0AC+edEAKB3HAMPjygBV08YAgy/FAPmJvAAGFaoAAC6eAPFBigB0/4AAl2Z7AB6/gQA3tIMA66eBAOtchgB0UogAoPKLACoCjwDuhpIAiMGfADxYtwCkgtIA9W7yALhKBQEhxxAB0TccAa8SFAHkiA0BdmUJAbFi6gDbX88AFACwALVYiwAgznYAF+JwABq6bgDAimwATB9sANQKbQDj+WwASohwAJDlcwCvu3cAmzOBABuWlwAbZ7kAkoXfAEyC9QC2hwEB5In+AGZkAQE0+vUAr7/jAAKUtAC6qZcAYEtvAE0BWQAzf1cAaGJWAAlbVgC3PVYA+CVXAHZwVwCCGFcAssBXAMwKWwDH5WAAzY9pANg9fgABb50AJWfIAIn+6wBfegkBy1sVAfQeFwHfNRIBh/3zAEDk0gCkLq8AfQiOALJ/egCdSHkAGkN6AHv1ewD17XwATIZ7AFDfdQB/dnQAN+BxAFIfcwBSHncAgtuAABVLlQDjqLgAcDDjAJUu+QAJSwEB5C78AJ6e8QB6f/IAGQzTACn5qADd3HoAYRxfAAXiTQAXBUsAoUZJAAUcSABYIEsATiRKAKCgSQAn000ALsVPAHRXTgBaek8A/shVAOJ7ZwCxw38AlUqYANEZqQC03p4AeryZAGH1mACTLqcA/OKRAGcLgwB1gmQAwqpSANR+SwCcmkoAndJKAF8vTABzVUoAJ7tHABeQRwAfsEcASspFALTPRgD60ksACXpTAKtUaABZNpAAExy0AOb3zQDCouEAA1jhAD7q1ABNjMsAKui7APEarAB4YogAdZtnAJkuTgDAKEkA7+pHAESwRgDKL0YAofZFAKN+RwAjv0gAdsJJAMWdTAAEcFEAV4FXAJo2ZACb5nEAbEWFAIItmgDafa4A+562ALRCsgBpRa4AWk2gALtrkABe5HsAbFZmAGeGWQClrFgAuchXAIXIVwAU6FUAjIxVAI9yVADi+FMAditUADbuVQAzOl4Ail9uABkxkgDNJLwACzXiAF2dAgHoyRABvVcbAQfOGQFsEAsBVwzyALsz1ACujq4A/wOFAP9xYgBGpFwAsLRjAJ2dZwDvLmgAxLRiABA8WwCovloAkp1ZANQQWwAW3V8AWcZsAOOeiwClRLQAny3bAHLd9QC0aQUBwmIOAZoyEAHlTAYBjcHsAKqmyQBE9aQAg5h7AOmyWwB3FFgAh61dANa2ZQCxZWoALNZmAILnYQAbr2AA+ntiACsKZgCuVmgAqnpxAESUjwAPK7QAR4bXAAn16ABkcfcAlYkAATHV/AAGe+oArGfOAFrPqQBV4oAA4/1ZAJqhRgCOQEcAL7JHAJuGSAC1ikgAP1tIAIArSQCCakkAfwlKAM5LTQBNl1IAsWFgAEmJfQAwOKEAxj3IAJiC6wBfTgEBJ9QKAbHyDAEpdQQBs4PuABae1QA0P7gAVVuVAMg6fAAgzngAZeV5ABRYdgAW3W8A/rRrAPW5aAA39GUAgWplADGJZACYdmYAH91yAFm/kQCSW7kA8XHiAGASBgEBcB4Bq6gqAcYXLwGI2SQBjs0PAXuS8wAGA88A+lWkAOipgQDi0XQAGKhwAIzgagBLTGQAgEFjAN83XwAY0FwAL+NcABdJXADQ5V4AJO9tAKGGjQCJeboAMLPoAFgEEgFovy0Bw/g5AbwlOAE5QyoBEvQUATSY8wDwgMsA7yqiAOFzjQDwEoUAmdl9AMFLewB/RX4AfQ9+AM7cfAA/RH0A/Dx/AEDIfwDR0oIAueSRAOEntwA7n+MA3IEBAa6xHQFfCS8BdqsqATKIIAGBZxgBe0P6AJIe4ADvts4ASyayABX6igC1MXYAACd3AGyCgQA/t4UA7ISFALuDiAD4Z4kAyjqKAB84jQBKrZEABNSeAJ7mxgCWyfQA6kURAYpVJAEPdS8Bsew7ARcWOgHkMSYBJVoSAXTiAQF4XeEAq6q5AHT6lgDm64YApZCFACw2hQDcV4gASLCFAAQZgQDvuoMAOtyEADLohgDrbY0AidOcAE1NxAAgUPIAo58TAfeOKwHgxzoB6v5AAXEFOgHgMyUB43UZAfksAQFMMuQAgmTCALIxoQB/cY8AvZSGABj3fgAl73YAxGFxAAAnaABZXGkA4FRtAPVKaQC0SG4Aojp3AGjQhACrXpIAXymaAGQ0nABZdJsAZ1CiAMA9oQAiOKMAB5qdAK0/lQBOaJEAdfyFAJxeeQDk7ncArRF8AFUPfgAUEXwAD2d6AIXZeAA4S3cAWgl1ACHRdQBOtn4A/L2FACMOnACQCcAAYQ/qAPs6CQGlqxEBwNAOAVjWEwETZQQB9zTuAFxu0wDK8q8AfKOQAAbabABrjVkAlL9TAOhQUgBatVEAdhFRADzVUQBNXFMAtLNSAAsuVQBXKFkA23lmAJ1kfAD/WJQAPGmrAJCvvAAOTMsAqiDKABxi1QA88NQAzHjNAD6wuwAplJoAuOx5AOFCYABNjlYAwVdUAOlLUwCoq1IAEzZTAPgGVACdEVQAvw5WAFfCVwD+2lwAQwBtAPd5igDNHawA3T3JALWZ4wCsWPoAwT0BAetECwHAyQYBbwfuAD+HzgDS16oAZ8qMAEKdcgBtKWgArxhlANSUZQBUa2IAaLdfAJB3XgDdfV0Ap0BbAEFIXABUuGEAlqJtAMX9fwBiIZsAfoGuAGY8sQDV+bsA53rNALa63ACHWuEAuIfiAKRA0gCyo7cAEK+iAKaCigC/p3oAzHByAOCMawCM9WcAxopjADUtXwCiY1wA5elYAK2TWQDTeF0APktpAEe/fwDUppgA+PesAIFFugAg87YAj568ALHmsQDB7KwANgqaAMizkgCnMYMAnY5rADAuWgClOVAA3idNAEL+SwC+OUQA8CtFAFshRgAFyEYAqTNHAAjFRwDf9EkAoHpYAJNWcAAmTZAAkVenAM7+ugBBzMQALZzMAG9ezwCZOsoAOS2xALGWmACbPYEAwnxtACKXUQDZMEYA8sJFAO0JRgCbXUYAN8dGAPCvRgBJr0YATzpGADKORgCO8kgAXg9bAJhkfAAdcqUAYqDLANpm6ADH5PkAJcACAXCMAgGLpPgAzh7cAENrwwA136oASSCHADfvYQAuaE8AroNJACdeRQD/FEQAjstDAOPyQwBtykQAcT9GAOiRRwCrLUsAcrxYAJOOcABZF48Au+akAKtnsQDZlsAASqTLAAMcwABVpbsAcJyxAJ3dqQCOxYwAzyZ1AK6gXgArgk8A9n1KAKqLRwDpfkQA7LpDAJn1QgAq6kIAiQ9DALN3QwDRVEUAH6dSABDlbwAKqJUApRy4ABnP2ADJxOsAPOv4AO/m+wD7F+IALErNAGQBrAADYoIAFkViADfBSACA6UAAXHhAAEhrQAB/e0EA3TxCAAlGQwCWTEMApDlDALYDRAC8VUYA0aJRADX1ZABIh4MAtbigAEqYtQABTc8AhonQAD4N2QDYNr4AmwiqAJKOlwCn/3gAj5JkAMx4TgA7rz8AMlw+AMVjPgAaGD4AGv8+ADfMPwDsTUAAmcFAAM9CQgCxe0UAsk9PAAWTYADF7H8Afj2sAM9f3wCKH/oA1AoCAaLDBAFLyPMA8NfWAIIuvQAp4ZoALOJ2AL6BUwDi5EQAtiVBAGo0QAAbuj0Az309APSwPQCQBj4AxVk8AAvyOwC8JT0AZPZGAJpuXwD9u4IAUp6hAN27vwBuEtQAYivIAHtpwgAFZckALN/CAHPisgCpiqcAgFCVAFM/eACymmUAGuVfAF9HYAAydV4ANWxcAPFnWgBufVcAWkpWAKGkVgAXQ1cAvhNmAFw3iACH564AwAjbAC8M+QAQQA4BMc4WAYa8EwHMVwsBlur2ABgb1wDiqbEAIYOJAIe3ZgDPJ1AAa4NJAHJORgCDvUQA4RFEAIO0QwC6ZUIAnVFCAJjBQgAzPUcAp6dcAHIGfwB2gaYAyZrKAN2G5wDXaPoAa1UDAekKAAGxf/IAbK7UAPe2rgCc/4YA4mZfAHgBRgBcqj0AlFY+AF3TQABol0MAwoxHAKp0TACdEk8AwbtSAGaEWwBkUWMAAFRyAFy2iQA1Q6wAwjXUAE+m8gBEXw0BPMgnAVRgDAHwevIAWjrcAGQGvQArIqkAlOyVABzeggA0i2EAnoxOACbPSgB3WkgA9H9KAEEETwCTllQA5iVYADarXQALMmIADYZ2AKy3mgDb1swAGR/7AAG7JQFXijwBJ8tIAcR+TgEROTsBj5kQAbIk4wAaF70AxEWjAPgfkgCBgZMAGaCIAIjEggDM0XsAH0JvAFNNYwDhlFYApARQAN8tSgAPHU0ApndfAJSAhQB1NbIAL/LWAOIA6QCgIAMBZ1EcAbalFAH5xAwBs6L6AErw5QC2wMsA79qmABJqewB0k14Azq5ZACcrWwBNXF0A2pdgAHhqZgCovGMA3xNpALDAbQDLjHIAxhmGAHnjpgBJps0AZS/vAHwX/QCeRg4B0Z4gAbstJgH0FyQB5VYhARlkCgEzd+kAGfXFAEXBngDGt34AqF5uAK+OZQCSs18AIbpdAOC5VgBWOE4ATZtJAN2LRwCd/kkADhlaADYZewB99KMAbAXIAKkL3wCgFeYAFK70ACin8QDIv+QAmY/OAA/itQAyiJEAzVFwANfDTwC7aD4AaMA7AB3IPACVPz0AR48/AMTYQAAS30AA33ZBAAZDQQCkEEcANvteANTRhQCi9K4Asu7VAC0c+AChdg4BvMAYASSuFwGlXA0BqPP4AOy23QCZUr4A6hOfAL2FgQD5tG4AAI9pAMIqaAB9wWYAC95lACOQXQAykFYA2e9VAB3aUgAxaFUA2aNnANaQegDT4ZsAmyHDANlX3gBEit0AkbLNAMjBygBhK9UADLbDAHB7tADhqaUACD+UALDHegCiZ18Ag7pRAFKRSQAWskQA/txAAPcqPwB2pj0ANZ89AKmAPAAZpT8ABtpLAGK5XgADaHMAKtaBAB2tmQCQtbgAlgnNAG754AAn3NEA5IWzABvCngC71HkAg+ZhAEeRSQCzIz8Aicg+AFI4QgAGt0IA1MVFAIPoRgAMv0EAAYlFAJHSQgC3YkgATKZdAJe0dwBRx5kAWwm9AM5/1AAogOQAKivrAFV62gDPMcgARDW3AO5bowCu1YAAV4NfAGPrRQCE4zgAcIA4AO42PADun0AAY7lBAKoWQwAmY0YAFk9IADLVRADoWUsAkm5SADbXXACwWWgAikyFALebsAA6/L8A9RypAM7lcQBq+3oAJHOOALz0mQAcHI0AnhR6AEzuXQBZGUoANj5CAJgjQQCAyz0AOzQ6AKHFOAAVrDYAWhI2ADkXNwBAVjwAhWBSAM7ScwAW/5QAloyxAKHktQA0T7cAsHKoAF5MhADR8GQATW9oAHXdaAAZ7nIAr7VtADUEeABeqHMAZWBwADl5dgDRfnMAQLl4AMFqfwA7e4EA4l6DAK+xhQCeHYQA6W+QAL+8rQB44MoA3bziAMQ88ADYtO0ATEH3ACd7BAGxft0Ao3TCADBDqADYTpMA3xd2AOJgVwD2Iz8A7gI6AHZvOQCdTjoA4UE7AFayOwAEdDwAwec8AIv/PABFm0MAQIBaAMEIfgDPs6YADA7KACOY4gDRnesAHOTwAIxY7ACB6eYA8ZvNAIUhrwDkso0AlThuAIWYUACtVUEAJtNBAOqcRQB8FEsAwYhOAJLdTgC7z00AL1BLAGEjSACT20oAeh9aAL0ibwBc0YMAB0qcAN/qqgDcgboALHvGALPclgDzVncAffxnAEayYQAxll0ASbZdAFs6YQBGCFwAifVTAKDTUwDf/F0AZxdrAJcwawBTcWsAh81pACoEZQAt5WQAPKdzAK4skwByg7oAKojUAOO/3ADgJOkA7TDzAELLCAGgrgcBQBXsAA3E1gDeNL0AheaYALRZbgC34U8AhMFGAHOTRQCplUUAR1VIAKxISACY7EgAApJJAGkUSQBW0FMAoFd0ANwLpADfL9MADEMDAZonHwGmDSUB9TcuAU1dJQGIuQ0BhCn3AOw91ACC8LwANr2tAF+TowBd/psAPmiVAEdPkQDvB4oAaO9+ANrrcgBEhG8AM7xoAH9qYQCIyWAAdzhzAP9slwB39bsAdg3jACtk/QCBuwoBK4kRAWLSFQEOgwQBfdTzAHS94gAD6coAHpizAHFJqgAa0psATJ2YANXukwD/3Y8AydWNABezgQAeIXkAsU5rADvaYgDmXmcAQpF8AEXJpgDqfN8AOEkIATNnIwGnJy8B58w0AXywLQEbeCQB/T0OAXQM7wDy7c4A5JypAJ4jiAAAcWwAJh5hAFNnXwCDRF8A+bZkAGXNbwBAA3YAgJNwALcmagAKPXAASmaPAPRHvQBtAdYAOG3xAMzXBwE2fxQB9ZchAdIEGAEFlw0BpyUFAT3S5gBk1MoADaOpALNihQD75moArnlfAIXKXADmgF0AVSVbAJW1XQAzrV8A0HxfALXCXQD6s2IAFVlrAM37fwDm8J0AvBO0AK/HwQDcVc8A2q/JAPQcxQC0sMgAzCWwAKlzpAAyGpYAsq1+AHK/agBg11UAClxNAENJRwDkw0UAKoFDADFbQwDuTkQALPhDABQ2RABOn0wASQhiAOD8gQBhZ5MAxYGgAMKbsgAfK7oAV3m6AJ5DuwCx+LkAgD2pADujiwCcnnAAG5JhABN3TwCheUIAXng+AD9fPwChtEAAFxVCAKRORAApVkUAHXlGALeWRgAGs0oAPppYAJaxcgCRlZcAlvm8AI2lzACWBb8AHpLAABvOugAzH6wAE66gADQIiQBfJW8AcltfAJyeUwAkGEYA3zRCAJHbQQBhGUQAM6VFAHORRAAVaEQAiAtGAFaJRQCRgEsAAalgANqtfwB0HJ0AZjy4AE/bywAOhMsAGPzRAG/W6QCUveEAU4q9AJhQrgACkqAAnbSDAKDqZAAq0kcAiO8/AHMqPwDY2T8AYMBAAK9PQQAsl0IALh5EAAleRQAKKlAA//hnAGR9igBNR64AFALKAGqq4wBTSPUA7NUDAdIuAAE0RvQAEDvdAOYHxgDqQacA4DyDAFRtZgDlk1EAq6JMABz9TQCn21AAXqBRAHuWUQBcrVAAn0ZNAC/tSgAWM1UANw5zADv5nABoJckAoIjwABccEgF04iwBN4g2AaXfKgFINRUBW1T/ADUF7gCIONQAPOa6AJOPmwCtiIYAVVl5AMUidQC5AXYAs853AA9weADwi3kAeJB1AEF4cQBM+3kAkpiOANe7qQABVcMAD8LdANrCBwGpyxMBcwofAeabPQEB5TABucYdAUB+BAH18eEA7pq7AGeQlQDLInkA3s9wANqBcAByP3IAzJBuADBkbADK3XAAMK5uADI1awCXp2sAaFN1ANc0fQDPUYwA4k+tALGruQD6y6YAY/CTAEiDhgBxPnkACgluACQNZAB3T2AASMJaAF3lWACPqVwAF8JiAKn+XwACXV4Aft9dAKkRXwD61moAchZ6AAchfADSGIIAnfyaAFBTrgBvMc4A8mnsAJki9AC3kvkAMGD7ACaN3QDIhsUAJXK3AGDFpACm3JkAFVuFAG+ydAAG/2YAMhhhAI2LYQAOg2IAoMlkAEF8agDmmG0AUNBtAD2FbwDExG8A9Dh7ACQTkgBeZacAvhW8AHj8zABhQMsAM1LVAJDb6gCc5OkA0cbSAJIMuABPTJkAtup+AGbZWwD32EcALbdEADdURgDj9UMAr9JEAEADRgAb8kUAceFCAADrQQBG9EsAPEtbAMBZcQBFyZQAeL2nALmatQDWF6YAcj6dACZfjQC9BYcAI+B9AJtdeACBWnIAty1vAEPIbwCIGmIAUKxXAHfpUwDLaU4AUHJMAGT1TAAHhEgAoh5IAIpcRwDGK1IAuUhlANj8fwC4Z6AAnb3GAB2l7QCLLf0AfdsSAdymCAGnogMBvCztAPkZ4QDT88YAr9SaANNJdQCyI1gAhz9QAPmGTgD51VEATn1SAERPVQACC1MA255WAI3vVwBBJFwA9K1rAD08eAByVpMA0Ku9AGiV4ADXgfYAqF71AKFA8gAStOMAIT7MAG/bqgAS2p0AMkSFANCqcgBYiGAAuchYANEFWQAk+F0A59BdALSTXQAuxl4ARlhbAPSqWACeH10AHDl2AKJBogCiYcgAJ+PoAG71/gBczRMBFdQkAZX3IgF7tBQB1ST7AAe75gAjTMcALbOfAMryegDbulsA1S1PAJjjTAC7pEsA4JlJAIU+SADhr0QAd1tFAKI5RQBKxksAhnRlAG/CigDeJ7IAIj/RAPCt7QBarAIBkfMcAWsxIgFJZxEB2csEAZRj3gCq9rYADjCQANdrawCPbUsA6SI/ANCrPgDt1j4Ajko+AISaPgBjjkMAQVRNAPOWTwD0HlkAtGhxAMjVnwArCssAsa3iAPRU/ABRKw0B4XgYAXU+IAGE+hgBpU//ADwM2QCnB7YASoWJAAl1ZQBed0UAYpU5ALEwOQAy3jkAONE6ANpqOwAHXzsAxzk7AHHhOwAxWkUAfIteAF78ggCYdKcAcq3EAKZJ0gBg2OMAud3pAEtL6gDeieQAN9bHAJXbuABRFpoAI0t8ADFbYABs/kkAsRFCADUdQwAbaEAAsc9AABHZQABpBj8AqrM9ABlQPQDREkYAouNfAOV0hgDTn6sAJF3TAAi29QBpTQYBnlYNAU6hDAHgGwIB4EPqAMhmzgBoQa8AQ3SKAHClagDjcVIAed9IAMcVRQA0CEMAqH5AAEiuPAAHpTkAaXw3ACosNwCN7j8AyH5ZABXPgACUg6gAPD7MAKVq6ACiB/0AUAsHAZNdAgE46/IAm5LWAMFbuABeu30ALiFkAIzLVADl1zkAFf00AMcWNQDp5TUA7xM2APCUNwCxuDgABvY6ABwaPgAX3UkA4y9bAPnvdQB2FKQAaMHWAPgk9wDKvgkB300LAURAFAH5uAsBXlX0AOpv2ABtfbgA94GVAF3mdgAetF0ABz1TAOOXUgBu/U4AOIVLAM4VRgBOzEAAQhE7ABqvOADvVz8A6HpUANBmdwAmy58ApIHCANpb3wB4PvIAwOrzAEfo8ABLe/AAh2XjANi50gBIPr4ACAKjAE74gQDKq24AU8NsAPzGbQCM3mwAZ8JyABBCcgCSkXEAj415ACDTdwBCH3UAGfxuAN+6bADv1GQAswxmABWZiwAKKL0A4Bm8AKKatQBchKMAkqCXALNSeAAjFXkAJQxoAPAPVgCnbEoAllFGAOecSAAl6E4AtyhNACx9SQBTPUoADm9IAGO2SACm0U8AVLRpAB5cmAAHr7sA/ADgAB5oAQFBtx0BH3khAbgTHAFHeSEBUocOAZzJ6gD1e78AhayYAL4RcQBoe04AGZk9AF1gOgCE6jkAgWg6AO20OwAAITsAOzw7AHOZPAAmykcAn35hAIBPhQCKVaUA9wjFAIq82gDo3eQAylXdAEqozwBR8MYAkPStAGIWlADLSYcAUN12ANgfXADkXkUAbSc6AIqhOAAfMDgAHh04AO4sOQCExjkADCg7AJFkOwBQPUYA4dpgAAtphwDplq0ACpnQAP7s8wAkdAoBHrYVAXzsFAEWWwoB6I72AFPp3QAWGr4ATfSbAPP8ewBbZV4AxslMAK0wRwCT7kMA/D5DAPl7RABFJEQA5CpFAIz1RgChmE8ATyRqAA1rjQB3/bIACsHSACD97ADflf4A8xsDAceEBAHDpPQAO6zgAAErvQDwep4AIYJzAEqzVAAeH0AAFOE6AN+9OwA9hDwA8po8AMbQOgCgxTYAEeg4AAuCOwBbyEEAiZxIANF+SwCdKlgALORxADSBjQCfrJsAwfmgAPfRxAD6EMIAOWK1AOgynwCiJoQAhG5eANU0SgDB8jsA6fQzAEFKNAD7FzUAtLM3AGK4PABrc0YA3pZIAI5gSQAStlQA/IxsAJLCigCwUqAANuasAIRYrwA4mrcAiNK7ACbJtwDTWLUAg9mVABspcwDHaF8ASFxOAIigQADx4zgAhWI1AL8hNwB/hjgAepI4ABAxPQB+Vz4AvHdCAGrBQADnvUUAsUJaAEr/egAra5MA8r6oAM13rwAkSbAAypKxAIDsrwCmTaQAydqSAGzweQDz5mwACG9bAG0QSgD34DkA4g00AH+nMwCibTMATeUzADVqNABXjTQA47Q0AJ2sNAC9zDoAVXhFADmuTQD5oFUABfNiAGaDbACaRG4Awex2AB5FbgC9RGMAXv1rAAzuhgAjYJAAXyiBAMVtcADeqlIAXRhIACVzRAB2h0QAGelEADamRQBh0kYAcC1EAM8RQADXD0gAUBpkAE5miwBCl60AKc3PAGc97gBTVwYBPzYGARKdAQFTK/IACVDUAOe/tQA4uZkACZ91ABc1WAApj0IAv3s7AKdEPQBuD0IAuaJGAKOTSADb7UgAL5FHAIy8RQCqm0sA2wljAMtghwA5HK4AptnLAC3s3gBmaPYAweD3APi9/QCB0e4A7yPTADTMtQDaJJYAHPV5AJ1kVADB1T4AGME1AN6mMwAVazUAd2k3ADVDOACayzsA8jA8APzoPABsZkcAD/1gAGpUhgCPTa4Az7XPAGgR6QA3NuwAazHTABkLzwBlY78AN5CmAMXbkwA7fIEAAK5vAJb6YQB7YloAb15XAFDoUAAwZ1EAmFZTAIlVUgB4h04ARlFRANp3WAC7PFwAlj1tAF42hQC9P64AVz3kAMsK/wAXCgcBS90MAcZMBwFwuQwBo/n2AB9A4wD7UMwAkUS0AB6RkgC3Dm4Aoa1bAOn9VACrslMAkGhRAJwMUgD71VIAjWtRAIoWUgCcKlwALCB1AKtdnACZGs0AOfX0AIEDEgFrghUBzrgEAZkk7wALrt0ArnzFAHOgrgCyMY8A82NrAPkTTQD3oD0AqBc5AP/ZOgDlTTsAs7U7AAMuPAD+KD0Aqvo7ADwaPADAhkMAt7hZAD74fgBoaacAJkfIAJlr2QAK090A6nbjAGuN5ADwQdgAPGbSABq1wABxVaoAqP2FALqXZAC3VkcAlKA6AH2yOQAU+DkAr+06AFteOgA0UzsAUok9ADI9PQDVNUcAQLpeAMfkgQATSqkAd6HDALKy0QD9kvsA5rQNAcnxIQEnGx4BkC8EAeIs5gCzlsMAkHCZALY4bAAA10oAQ/E7AJj8OABuQDkArJ45ACQROgDDnjsAUHY8AGWnPACqkkQAfmZYAHrEeAAvdKAAVDvEAACK4QDE0uEAh+r5ALKvAgFKJfgA9nfyAB8v0wB/lbsA2HGZABl1dAAhh1EAkcJBACvuPQAZgT0AW+Q+AH0PQACzpUAASfJAADoOQABDI0cAJ49bAPHLfQDxDaEAkC7BAP7OxQA/LtwApV3+AMSQBAGFueIAlmPCAGAZqQBB1IcA6At2ABnrZwCTFmEAuohcAL0XXQDkcWMA4HtqAGT0cwCAXnwAvBt+AChYfgCywYIAJdmSAEsVrQCyy8kAOXbhADFH6wDfsewAm+HsAC2Y9QDsA/oAn5HpABBq0AArC7kAPbGXAK1LfQBJaGYAw+BYAL4lUAAwu0gA/J9EALWHPwDxYj4AmsI9AB1fPwA+qUcAmrJbAO9ndwA2I5kAqXq6AD8K1QCc9OkAqVD7AJjB/QDOrvcAALrkAC/0wAAu+acA3Mx3AKDNWACmNkAAkbg2AJCdNgCJ2zYAiMo3AD3EOQD50zsADK88ALx1PgCa+0YAp/RcAChYeAC3gZQArRKwAGnowQCKdeEAxqD9AMXyEgH7xg0BCJ/+AF006AD8BcoAabapAGbyhQCqqGkA1txXABFwTgAFjksATf5HAJu2RgCs+0UASpZGAMBySAD6c0wAf+tZAGjRbgA63IEAw4CMAJkLngAxSaoArUDBAESzyACj5sYAgUG1AE/PpQAdh48AIet5ALkqYgBbkUkAwVM+AASWOwB0DjkA5jY4ABTCNwCWcjcArHc4AI2KOQDR8j0APkhKAJZhWgCb6WsAsPx9ANXehQDrEpgANImoAA6JsQB+ULIA+R+2AFQhowBIV5AA9cdsAD0lTQA+eT0Auiw3AMHjNQCrSTYAb/U3AOXUOAAM6TgAy7A5AFJ4OQBDRUEA88FXAGjtdgALTZsA9ufBAIn74QBITP0A0+8AATJY9wAUZdgAF5OsAIHvhQDDAmgAPSFTADpjRQBMbDoALgQ4ALvJOADFEDsApNk7AHNKPACoVD0APRo8AOd3PQAtL0IAYWtNAFeNXwBgGoUAG0+3AP5l1QArNu4AfiYEAf4RCQH62PIArZjkAPG+2ABqGLkAE7OMAAIWaQBhHEYAu7I5ADlrNQAVsDIA37gxAK7hMQC/uzEA42IyAAJ6MwARPDsAxApTAHykdQAU1ZkA20W9ADx+0gAQK9MAt4TXAIUG5wC+y94Ar8zTAOe4ywBzmbkAkcKXAGKpdABU4lgA5AlJAIwBQQAnoz0A6SA+AMeWPgAAUj8AliE/AM7pPQBvpkMA3CxaACG1eABEGpwAtQzBAHcE2QAA8OMAGi7lAGk72gABSdEApVHHAB3iuAByA6IAkXiDAIgEXgASsUgAaC1JAB3DSADorUkAMExNAA9VUQCQCFMAZQZUAOmFUAA2nlQA82BvAAaOnQCk0sUAQ8jeADPd8AAqsAcB+40HAVaKDgFi2gwBtYj2AHxw1QAA3LEAHEaHAK5yYgAvhkMArHs4AFyzNgDctTYAM7Y2AGUmNwCzjDcAXa43AIOiNwA97jwAePhPANNqcgCTt5wAibXCAHVr5ABqOfYAC3r+AKhGAAFYOfMAFT7YAA8ktAAhBpMAn4xzANjHUgCWgzoA/sM1AIe3NQDTHTYAWhQ4AOipOgAHYT0AJ/o/AD6GQgCPY0UApOxWADnJdwAwl6AAx7DIAH2Z3QDmHfUAJdb9AFAd/wAEXvUAy7TZAK05uwCN9pQAvLVvAG5MTAB5pjcA0MQ0APHRNQDmXzYAMnk2AFbiNgDOvzcAvsk4AMYJOQBrGT0A9RNTALH1dgAM4p0A4YvDALV84gA/wPkARMQGAQDVBwEJe/0AVXLlAIJzxQCIU6IAC/p5AACyVwBunkAAqww+AGYKQgDxq0QAH+JIANBpUwBhbVAAZI1QAKz7UgC5OlwAHOl0AFSHmgAoBb4Av4DkABxs9wD62P8ARywUAUAp/QAw4OUAGb3RAAy1uwBiUZkAQh5yAOhZUgD/YUEAQWI5APTrOwDPQj4Ay18/ACugPQDl7DoAJ+A9AM/6PAAJiD4A3sFJABNyVQB3Z2EAWixnAJy6dwBefnkACKxzAAfofgD2WokAghODAL9rgQBblHgAXBB2AESBZwClGVoAho9SABNtSAC8k0MAv2VCAO79PgCRhzwA32I7APIyOgDaDjsACgJFAEDzVgD9WnEAyNSDAGrRkABez6oA26eyAJGosQAq/acAON+XAH7uiQCfz3EAytleABU7SwB+/z4AYRo4AEeiNwAhrTYABqo2AKhuNgB9lzUAufE1ACONNgCAkzsAKVxRAOeqcQBTvJQAhbS0ABlJ0wAt2ecA3ezxAGtb9wCwMOEAR9zFAPVRogA+pIwA8JlsAElUTgCHAj0AUcI8AFArQABH00IAA1BFAPn0RgCDQ0cAyklJADELSgCskk8AcYVmABKbkQCGjcAAz/vtAP/WCgEL3CcBJOssAd7QLAH2fyABz8gIATD25ABpWrMAqI+FAI1rWgDNrT4AOn83AIPeOADZVDgAnQg3ACA2NQDnkzYAp2E5AI5VPACg9kEAkUVYAEjSdACzEZMArCq+AA3b5gCtz/kAwlr6ALPT/QCX8AQBlHYHAW2O+wBg488A3IazACnXmAB2An0AYWlqAPkCXAAza1MAZf9aAI1NWAAeJFAADlRLACVfSQBKUkkAx1tZAGavcABt/okAt4KhAI73sQCGJ7sABLjMAFBCxgAWxcIANyDKALMZuADKs5AA/7h2AMCbXQCuKkkAnsE+APFBOwDgXjoAr+Q5AGrQOQBaFzsA4ls9ACFiPgATP0MADlBTAMeNbAAEVpQAkDuxAGTJwAC1VNwAEYreAF6i2ADjYMwAginYAImxvwDr4qQARveEABApaABPWU4AwxhDAC3gQQCWLkQA7EFHAM3VSACA80kAlvNHAKpURwC1xUoAM6dcACbyegCnXaMAOX/QAP5F8gAgmAUBnEgOATEYEQHR8/kAnqHiACcuwwA87KQAD2GGACIYagCamVoAzc5WANMjVQAQFlMAROxRALzGTwDH9EwA/+BKAHVjSACi5UgAqRVUAJ8nZwAGa4YASP+lAOIgwQDzENcAM23pAJT08QCxG/EAoyXeAI3AvgAE+Z4AOCqBABe4YACwKUYAo4g+ABwkOgDqNTcAvSw2ANPQNQBe+TUA4W02APyhNgCN4zkA7U9MAKHtawBvA5UAdPy+AOhN3wBe0PEAmk/tAB5b3wC3McwAc9i3ADOklADD23IASLxYAP5fRAAO6TsAUXs7ANmKOgD20DgAb+84AEdLOwCXXz0AD/E/AGkwQADfN0QAFvZQALQOYABJ+HoAX++QAGB7mgAwt6MAWFKrAKzTtABRJbQA5BGuAI3pqgBoPJYAaieGAFJXcQCEU1gAs3dNALw0SQAc1EQAkJFCAO3gPwDLYj8AMcs/AMo4PwBbcUAAfAJKAMATXgDyMHcAEKyhAMF7twDzZMoA3/HQAADB0wDinsoAKZPFANkhtQD7gZgATM9vANSTTAAlJTYAH7A0AFbxNQAwQzkAwiI9ABltQABhRkAAir9EAAbISgBrKFIAaYJnACG5jQAjIL8AZtbvALl7FQE3siIBfhImAfabHwHHDRsB/5MNAZe++ACUd9wAA06zAPHuiAAXO2kANoJaAG8SVACE6VIA4gNSAG5eUACWskwAjOtMAJc9TgAWqVAACPZlAI9BjQBAErwA3RLlAKtmAwES5xsBEkskAX2hHgElugUBE8DzAJH70gDF8KcAHut2AOQeTQAf4zQAkGAxADCfMQAjzDIApvgzAK/cNADP6TMAzkM0AK9INwBfQzgAqphAAOmrVADC+nMAR72cAA4YuAC8ZLYAptGnAIBPwACytccAvu7OAAvzugD3aZsAtqd2AAabVwC2T0EA3L06AAVRNwBVJTUA6QI1AI+QNQCezzYAOWk3AOuzNgCU1DYANKBBAHbgYQCUNYUAKpijAHaSswB1scYAUaTtAFvT/ACeswUBgG30AH6+3QDXGcEAT+2XAFBSagDY/UQAncM7AL18OAD8eDcACU83AOvYNwCh6jgACk86AJCVOQBYGjwAtaNLAJWpbQBmjpYAzy+8AKp8yQBdPd0AhsLcAAFa5gAUxNYAQIa7ALwurwAXio4AtbJsAN8sTQAQUjoAHt42ADnfNQCfvTUAaUc2AGfoNgDpgjcASCo4AKnVOAA6NDsA/ARNALfLbwADyZkARv7BAHbZ4gDO1fkA5gIEAWhhBgEjFvsAb2PfAHV6uQBKP5MANzN1AAsVVAAIrzsAvfw2AMTjNQDgsDUAEh02ADexNgAhBjcAsW03AJMDOAAjNzoAEStJALVAaQCvX5IAYxe1AL+3wgCpOc8AztPMACouzQCA5tQAVd/AAG83rwBN3J0A0CaBABngXQCDtEcAOW9CAC5XPwCDzDwAqB08ACfVOgBmfzoARQw6ABMMOQDx3ToAuvRMAHeScgCiFZ8AlVLJADKb6QAECQQB3BsQAXX/EwGUzwsB7xf6AD8D2wDmY74ArKGcAMoMdAA0ylMA+ddNAA0+SwCFe0gAHtZGAATRQgAcrUAAbtk/AOxVPgBIGT4A1CRPAKoJdQC/lqIAqSrKAAtX6gAGcgQBumQSAek4EAF24gMBQwvsAGI6zgC457AAMUyOAFK9ZQBGck8AG4JMAFPKRwBQEkYAqS9DAOwZQACMXz0AqiU8AJqCOQARxjkA8PhIAPG/bAAB65cAgae9AMrj3QDrTfgA+W0JAaw9DAGGhv8AYH/rAOUNzwCIRK8AHZSIAFahYgAeBk4AS4xKAIpkRgCjYkEA3BQ/AAXLPgCUDDwAoDY7AJsAOgBjLToAYBFIAP9XawAX0ZUAajC8AA5o3AAOXPcAuyIJAZ5ACgGDt/8A7UjoAGDaywBenKsAjDWHAD/LXgAH70wA3IJKAFTJRwD8AkEAY4M6AMQ6OAAKQTcAUUM2ALPJNADSEzUAIz5EADW9aAAkA5UAaq+9AJW83gBFM/kAcY8IAecFBQHDx/QALk7XAAKRuACz9pYAEd1wACSITACdVT8AcSg+ACPXPACzNjwASqY9AA/nQABWHkEAyJ48AOJdOgDEJjkATnVGAAe4aQDFy5UA+1i9ADFb3QCYpvQAbk37AASq/QB+eOYAZyC7APc9jgC7W3EAcghWAF8kQgAj9ToA7lM3AHHbMwC4xTUAZXI1ABZFMgD/8zMAIYw0AMRkNwCXOjgAdQ5BAGyrUgD8DnAAEFqRADBjnAClOqMA4dOhADWvmwAtjqMA8fqlAEIPlQCJm3MAKu1UAOsLQAC0tTYAFk03AOh9NwDeLjUAtqY2ALyeNQDILzUA/T42AMVLOADOsDkAIK1GAHX7ZgDrUpIAwQC6APDZ2QCqt+oAxRzoADmn1AChK8kAVM6lAA72hABvvWgA22xOALBLOQCaLjAANeguABSdLgBDEi8AzJcyAK9GMgDKtjMAx4E2AAJ/OAD1eTgAnMo/AN0TTwBNkVoAOJxnAHy4fwCFfH8AZyt8AL1IdQC4RXAA3e5yAJC6ZwDAT2IAa79TAEfJQwDmizoAKKg5ACSoOABEfzgAObk2AJIfNQB9ATYA0SQ3ABRGOAAUmTcA6CRAAAsPVgDsH3QAOeaQAG+krQA7jKQAxLWvAHYdvwASB7gAxCyhAJo6kADMJX4A5MFbAHmiPQBIWjMAZQI0AGdzNwCDpzgA4UY4ADTZNwDjQDgAfb05AMdQOwCO/j0AV8hHAAwQYwAztoQADpadANIHtACA8r8AJlHLAJ5ytwBgrb4Awm+XACKUiADXuGkAesZVADq5RADyaj0AE+A9AGBrOwBv1DgAuPg4AID9NgBhODUA9+c0AIEhNAARmjQAvdc7ALf6VQACpH4A1ySoAAjayADDA+EAeN/kANQy6gBuxuAArB/RAEPutQApipgARHlyADVXTQDH20EAuZZEAEbVRACULUQAf4BCAIvqQgC+QkQAcl9DAEYCQwAZ5EQA0O1RAL/HcwAEsaEAh/3JAOEv4gAECu4ABEvvAMfl8wC589gAKym8AMkWlgB3XHIAMoJTALgDPABeHjQANfoyACmqMgDrmTIAxuIyACVAMwD5oDMAW5w0AG9gNQCOJTYA4/Q8AIosTgDpZXAAo4ChAKP/uwAeb9UAT17aACm02ABSiccAVju1AKHdnQDTBIgAGiNlAPwCSADc0j8AI9U8ABPPOwAocTsAqiM7AIIlOAAahjYAPnA2ADZXNQAu6jQAO78+AKVSWgB0yoIAWxKsAJUswwCX69wAbH/gAJlS1gBoEcIAkNq4AF2uoABleXwADX9XANUiPgDpXjcAzyU2ADKWNACRBTQABGQzAI4sMwBu8jIAXF80AK+xNADsVjUAi50/AEKFXwBk+IcAsRyvAPyuywB7sOAAsDPeAJMAzAAfmL8Ab/+wADBLjgA7UnEA4ZtRAFsGQgAiAT0Ac2Q+AK6CQAC5/D8Al+w8APAmOwBU4DkALr46AGTkOQA4wDwA3I5FAKNhZQCeOpMA3l6+AOe94QCW0fUA8qQBAWpcAgEHDPkALA/TAIGCrAAHKIQAHbhbANmvSwAQFU4AVV1WANdYXADeUlsA06FaALlvVwCFQ1QA6YdSAD4hUAAYr08AXwVWAOSDZQDBNnMAaHaAAJYCiADDt5AAFD6TACailQBvBY8AJs2PAKL6jQDoanwAnjliANKtTACxA0EA6Qc6AHzpNQBvxDMAJPwyACKJMwD3cTQAhYM1ANmgNwBi4DkA/0RBAKvVVwDYwXUA/eqZAE9isAAMibYAnDC9AHxDxQDV4cIAnKeuAJZOnwALpJEA1SJ7AF2AZADxrFgAnsFQAGX/TgADw00AmKNLAEzwSQC7O0kAyA5KAGn6SQB8WEwAmG5UAGoTcQDPKaYAg8fYAMlt9AAi4AEBz5gJAQysAgFBcfAAXcfhAEocxQCNE6EArGmAAHhgXQCIKlAAryJIAJVqQwAtwEAABOQ+AH7pPgD/Xz4Apf88AGqcOgCsijsAEkhDAEjJVAAVJHcAIoKUANbrpwBHhrQAtp2+AO3AxgBtdMwAgU7GAIwbswD7ip4AuVN9ADYuXABT3FEABr9OAK9ISwCPD0wAhq1NAF2pSwCc30cA/6dEAGUPRAAwIEYA7VdMAK2vYgD68pUA5BXSAI5V+gCfjA0BHpkeAV/sIgG8sRcBs/YBAUwD3gCQIL8AVdOhAFA4fwBnAm8A4YBtAGgIawDQFmgAHwhkAPmyXwCA+1sA+WFZAJG0VQCWBlcAO2xdACLpdgAn264Ax9fuAPyjGgFLIDYBPlxDAecWQAGj6jIBUogTAQfm9QB3388Aq3qqAGxifwCn9m4AiG9rABI5ZwAikmMA9FZgAKd1WQCAHlMAPldNAO/NSgB2y0kAhGhLAPhXXgCx6YkAPE29AOQu5gAlTQwBoxAgAWnLHwEJsxAB/xj1AIZg1gAVsbAAf9qGAEGTXgB4XVUAuIpSAIKgUwAQiFQAQYdXAI72VACmMFIAh1JQAA2mTADeNEsA2i5OALEbXADrv34ACWepALpnzwB1x/YAwvoPAXQqDwG1xvsA217aAOafvQATIpoA7sB0AB9OVwALsEkATT9MAHoGUgC1n1MAEW5VAE30VQAI31YAsgFVAHSEUwC8NVQAXTBXALQxagDInI8AXji6AD6/3QCCqfUARWEIAeqSDAHpKgABOC7aANKisgBRzocAlyZjAOOJRwDWP0IAiQxCAH2yQgDM50IAQv5CAKAUQwCPOUIA+A1BAHkdPwDS1DwA/BI/ABs1TwC1ynIA+oKcAL/ovQA4QtYA5WLYAN+SxwCPXr4AzaKnAB+pkACxoXYAmhJXAOn2PQA7djkA2sY5AJUcOwCIUz8ASvZCAN3pRwDnKkYAfjRGAGCaRABr00IACMhEAEA8VwCRsHwA0umgAD5NwAAcyd0AnorsAGqF5AB5hsYAD9emAJyJgACP0GAAMjpNAAUCQwCOgksAQMtcAOwcWwCosU4AkmVHABIzSAAovUMA+XY7ACcgOQBFVDwAbG5CAO83TgDagHMACECqAOFL1QALoO4A/iL6AJmZ9ABr4uMAK+rEAMG3nABptm4Au+NIAHvjNwAKajkACwY7APE2PAAWRD0ABdc+AJIqQwC8jz8AkbQ9AHsIOwBDwDoAtGxBAKDWSQCvG2UAiWuLAGB4sgASzdMAvWXWADv+0QC6XckAi6eoANOmgQBu5FsA8zVBAPirMwD5STIAMbk0AB6vNwBDBTgAR9c7AFr2PQAuhjwAm247AFoePwAxLEMAQuVFAF5XSQBRFFwAZEt9AJbhnwBiubYAZDW+AGN8xACiCMcAeE2nAGfXhgAY0mwAD7NLADCoQACZvTsAGoE/AHGWRgAjkEgAOe9IAJJUSQCWok0A6URSAAmrVgANDlwAKx1lAMc/fQCKmKAAyLOxAEe8qgAG2LkAhp+8AILvwgDHAcAASie6AH0zmQAuPHgAsqRmAOKHTQAF3EoAbqtJAHX0TQDm4E8A/rZPAH+ETgDA4k4AypBNAGn2UAAqqVEAeYhUACiJXgCTum8AjB+GAP49mgCtfqkAdC2zAEZ3tABS4bAASqygAG1sjQCoQXMAUCpXALlpRACdVUIAGxI/AJs0PQDssDoA3cY4AAMwOADGrjcABm83ACggNwCv2TcAbm07AL8vTQCRoG0AzfaSANhdqwD20LEAlWW6AE9RzwCx37MAsx6qAO8HhwDBSGQAN2pEAOh3NwByajcA6b04AA1fOACKszgAgIA4AKFuOgDWnDwAop49ADYzPwA55UAAS8JFANS0UwAWfHMALjKmAG6bzwAdtu8ALr/7AG8G9gCE3uQAhs3AADg3nADXSHUAT5dLABLYPwBScEAARRg/ADvmPgBeckAA3YpBAGcBPwDnoj0Ae3U/AMPmPQDCoT4AltNAAPM4TACfyGcAvmSVAOl0uwA49coA+MnVAF562wD8RccAUs+lAOdwfwB9QWMAcJ1JAG2NQQBCGEAADbs9AAAmOwB7jjkAdYk5AEH/OQDeATsAp846AF6DOgAqzzoAMY09AIQJRQAHg1MAZcxfAA/fbgA9HnsA+BmDABPpjgDZDYMAqDKDADE2fAC6NV4AIYBKADdCQABSiz4AImJAAATaRwCdpkwAGppNADEVUQDbGFQAOD9TACsKUQDErU4Ab4dSALcvYADi13wAuwuVAIxbrgBJ6MAAunPOAPKk4wBRJs0AfV/AAGVnqAAO8YwA1/90ALLiaADpDWgA6p9pAEGnagDBwGUAzCRoAIAQawAeLWcAySZqANbvawDXNWwAX0xwACI/fgCB+KIAiC3MAHii7gCiIwIBFKUSAdesHgE1hAQBtOjsAKzdzgB/d7cAzzGYAImXhgAbmIMANld8AJfAfAAIb4AAz5qBAK03gADDh4AAufF/AJPugADSHX8AHUuBAMdljwAYV7UAKUHjALa2+ACbPgIBGsgYAdpOHQH94B0Bw3sMAXHD3QAiK7kAxqaUAKeghQCFPHwAbHZ6AK3geQB+AHgAZWt5AM3ndgA7EXUA/yVyAF8ycgCgHnIAvcZzAJCqfQBOyIsAFnycAABmpQAUFbEAAa+xAEfmrABiaaoAW0ugAChongCga5cA1giKAG2rhQBstYMA4Sh/AC+2ewA6d3sAeYB0AL1VbgDIRmsAlhBoAMTvZwBK2WkAFPVtANURegBt5p0AazDDAOXs4ACROucACx7/AHRs+wBS+fAAZdfQAPFEugC/zpIARyZwAMWfXQDrp1kABGhVAGw+UQDZgU8AsUpOAJU4TQCJ60oAVi9KAJKTSQCdaEsAET1NAPOPVwCiDnMA0USUAFw5sgB5YrIA1uWuAFoUvwDfN7kA+Q+lAGaoiQCaNG0AL/9JAHKiQADLXT8AYZNAAOupQAAVOD8AuIk+ADIfPgD/tT4AEUk/ACfVPwAKrEAAdKdCAKeVUwDFqXgAAgapALXjyAC9IM0AvkbQAEP9yQB+Sb8Amt6iAA15hAB3RmMAk41BAGc1PQDUED0A/0M9AHLKPQAhYD4A/Dk/APw3QAAr/kAA+4tBAIMeQgCwXEMAbNBFAMO0VgBkJn4ArLOuAFTpzwBSt+IAFs/pAAPk3gDwcdUAmDK0AD7ijAACYWAAktNCAOeTPwA3TT8Ab6Y/ABQuQgAMx0QA8ARGAAgzRwBe9EgAyWZIAI3pSACUrkkA0RJLACVeVAAkiWYAop+BADBrjQAwZZIAoxiXAIxKjwBItYQAPvduANx6XAACEU0AycdGABb+RADd8EMA5/RFAMtDSgC/7U8ArMpUAAqZVgDxFlkALhFaAD70XgCyxmAAAHBmAI3KawAhN3wA13KPALmTnwCEL68AjCW6ALtluADoSbcAK/msAADamAClG4sAcKFzAAPxZABXr14ARjlZANOkVQA9qlEAWXdPAIOvTwACAU0A4wNLAMd1SgAvx0IAVjlHALUxVABTLnUA/X6kAJ5qvgCXYcQAhcDMAE2SwgCypLEAFeaRAO6TfQAYX1cALlJDAPlXQQBqe0YAbH9SAGvBWgC4jmEAtf5uAPlVegD49oQAu62KAAAJkAAe7ZgA7L+fANIIqQBjdrUA91W9AOi/wQBHxb4A8ra4APwpsgAUIrYA8jGiAGNYkwDUEoMAx2xyADh1bgDIlHQAe0x5ACZNeADZhXcAmXV4AGNJcwBFwHUAUI50AJ1KdQC9UHcAeP11AJwbeACndYgACvKUAKS3oABjLKYA7AGtACgRvQBVlLkA0eCVADx7fgCT0WkAFhtXACpjUADAf04A6CVNAPSNSQBurUsA1S1LANfOTgDwRlEAMW5MABJLUQAtrE4AaoFRAMr7XADO2nsAx1mmAF7KyAD32McAnJ2/AIv5tABs3aoALcqPAFtEegBo42AA3DFHAM/cQgBkBEMAywtDAHrhQgBLD0QA3+1EAA7gRQD1YUYA7PFGAO29RwBHzkgAyIFKAGKHVgCp9HgAumykAHa9ygDs7NsA5pTZAEh30AB9670AYZqYACERewAHjVsA6ipHAF/LQwBV2EIAu3dCAKRQQwB920MALyVEALDCRACMN0UAH51FALpHRgDJt0cAH75KADtsVQAX/XcAII2sAHGZ3wBYMQMBhUcYAW8RFQFyUAIBoi/0AJGU0gBXZqUA59KHAIK5iAD12pIAyzOcAGoyoQDD9aEAsUqiAN4QpwCZzaoAW4uqANx+pwD9NKEAmxKSAGqojQAN6Z4A657AAP723QBAmgEBuBsLAWsdCQHt6wMB74fkANN8vwB2V5kA2gJ3AMlkbwCmF2sAH2hrABgqcQCVXnkAVKJ7AL0EdAAIYnMAh5FzACpWcwAK/G8AcM5pACn4bgDOpoEA3kCYAG9cvgAou9UAFiriAAAp7gC5eeEAD/bKAH1UqgB6lHoAU8JdAOwsVgBkD1IARXZOACTaTQA/F00AUwdLAGWxSQBeZEgAhJVHAPSrRwB+4kkAxlBNANocVgBO+G0A7u6RANbHrQBTorQAJ2yxAK8GnQCIoZMAh911AIGFYQBfE04Adu9CADDZRAAPeEUAaWFIAPNvSAAGWkkAwnlKAO6YTADXEkwAlaZRAChiVQAtOVoAPGNhAO1DbQDw4Y4AqYnCAPse8ACjXAsBwvAVAfRVFQHtKggBz97fAPW9qQCfwIQA4bN2AK7OdQCzk3gAVDR6AGlhfACl+H4A5A+CAGGoggCoTYYAiMOJAPfZiwCDs40A7NeVALwRmwBJ0KkA+IPAAEGf3AAWZugA9gzvAP9/6gAIG/AAHLDhADQ6wgBzE60AUQWnANQ2pQC9baUAzvycAKlCkQCaoY8AMm+NANuqjQBM/IsAVRSGAAougwAC5HsAxYh3AH2/fAAXsJ8AJHfRADoM/wByaxQBv6kgAUDCHgGiGQ8Bue/wAIiwxABU0ZEAgx9xAI96agBg0WgAqDtnACJsZgAJvWcA5TZpAKT2aQCO3G0AZWxuAEITcQCeY3MA5JN6AGyHhgAhiasAQODVAIJf+gCiHgkBaFwQAU8vDwEtvfoAWHHaAPGJswBRoZAAGpyBAJhegAAuSYcA/XGIADSchwBp5IEAqHx8AGgNcQCC9GgADnpmABwcagA0cm4ADspzAJ6JfgAekpwAkAnKAK1E8wAO1voAirkNAdCP9ACIuN0AP17SAGT1qgBRqnYAj91WAOYiUAAWgEwAjzBKAMOgSADKJUgAXPNIAEPySQDOUUoAH2BLANhBTgDna1MAwWhbAGVeZQCt/IEASyOuAATe2QCHfvMAsK/7AGKH8QAk2dkAVK+5ANdNkwBHPGQAhEhSAEkCVgBDclkAXhRcADHoXgDi/GQAKHhmAO5dZwBPk2gATFdnANzfZgB1VGkA61ZrAGfdcABbmIoA1tq2AEWIygD+IsEA1Li9AITcswDkLKYAwR6mACgbnwBi/4EAFnBpAGHNZgBBv2MAI61gAKlBXAC9IlkAYh9XAK3gVADn91IA6SxTAOD+UgCyUVYA7+RbAOrEYABobXcAy+2ZAGIAwAB+r9YAT5bXALzPxAAOjrAATFySAPS/dAAw/lMAvoVJAMzCSQBFnkkA91RJAA7LSQAGzUoAwbdLAKXwTAAm0k0AQ9VPABfZUQA4A1YA8B9cAOv+YwDUingAYHCbAB/nwQDPedwA9YHfAI+5ywAyOrQAYqueAMdldgDX2lsA+FJSAG2YUACNgFAA05ZRAFYGVwAxyFgATdZbAAakWgDepVgAduJYAPTCVwBcuVkAweBbAL+oYwB/J24AZbN7ANIohQBowoEAdqJ/AFOacwDOYW0Ao2thACxxWgAQv04A0BtIANoURwCD2EUAhE9EABoPRACXaUQAuzxFAGyHRgB+c0cAZK5JAL6ISgA8hEwAHG1QAImZVgCxUl8AVedpAMCicgC5znQAvrR2AFUDeAAzDngAD+N3AP0qYQBn4lEAAFRNAHUETQC1iEwAQRZMAJuzTgD/QE8AxvtMAC2qSQC4JUgApZlJAIkgTABM504AevtVAMP1XwCpLnIA7dSPAJ+ZnADGcqMAiMSjAFdBqgBz5rEAy5a2ACugqgDG240A3p6BAC8TgwCsbYgAnhqLAKatiwD+14kAUCOLALb1igCOD4sAWAqMAPMxiwAKbY0ABsuSAJU7nADjX7MA+yvXADFl+QDEoP4A2sn7APhU7wBuNtEA10mUAPksZQCxHksADttJAB0KSAB0nUkAJ1xPAM95UwC4CVUAymFWAOJbWQCkVVwAULpiAIA/awAw+20ASXRqAB+WbwDEFnsAqeOFAIVqhAAyQH0AXF98AI7khwBnmocACMiFAIyQdgCtNGEASjJYANkpVgAFWlIAzG1MAFltRwAFukYAlkxHAGfpRQAt9EQAxOZEABK0RQDcYUgAXP5MAAITUQB84F8AyDeEABFSsAAG5MsAmOTSAPiF0wD0RMQAT5ihAPh/cwA0XVAAjKNHACKnRwDXuEgAvmpJAFw7RwA77UkA0NlLANXWTwChmlEA/zJUAKJhWACIlF0AasZkAM6zawBZmIAA5TSoAAf+2gCM//cAuicFAY/4AgFKK/QAQQzOAEEMngAIRoAAOup/ACgShQDf04kACKqMADOAiwB3bocApdt+ACDefgD5aH8A0o59AKNHfwAKmoMAsSWHAMh7hwCxs44AMwyeAK5TqQAa9KEA4fuTAMvTkgA0fp4AnkGdAH+khACeY2gArsphAKzcXgDjVFkAo1RTAAqOUADfO1EARw5RAIIfTgCQU0wAw8RLAHw3SwBfsUsALflRAGJZVwDvyWIAtZ10ADFOhQA5upUACPysADZbrQDyb68ARnmYAGgudwCQ2FgAYUdZAKnWWQAIS1wAXjNfAEFvXQDIoloAlEpaANLKXQCVFGIASNtjAPBQZgB0A24AN0JyANB8dQAwJIgAkpWnAGzwuAAO3LsACkTBADSJxwD/sMMAtxWlAHfxdgDuMlEAUJBKABoVRgC4zEMAS6JCAFZSQgBXAUMAvDBCAH2XQQDx2EEA5JZDABNDRgByVkoAPaRQAGcaWQCqz2kA47l+AGeuhgD5y48AuZuUAEO/mwDm75wALaGVAIfqgADGRG8AmcNxACTxdwDe2XgAkJ1xAF0ucgB2MXQAovR8AEPSgAATgYkALzySAKQimgB51KAACO6lAH3sqgDtDLsA0gLbAHtS7gBCCv0AiHvzADvW8QDiweIAO0/VAHnktADnrogAKxZ5AKQgdwDS1XUA/IJ1AG9RdwCYu3UAyzp3AGdueQAcwXgAYUtyAMJObABhim4A04xvAI5ycgAuuIAAkh+jAC+4uwArM7sA22XLAMxszADYQbsAH2GdAOUmbQBd4VEAoh1MAOmeSwBQ40oAsIBOADmlSwDlTUsAC+lLAHvGUAAy1VEAiFRRAASzUwCdPlwAAJVjAC0ibgB0x30A3U2lALmBygDUm9oAlHriAAze6wBJNOUAETm5ADQHjgAQz3gA9RpwAHGkZgCS+GEAy9RbALQ6UwBh6VAAFJdPANpJSwC/PE4A2pVRAPmWUgDJbFYAafJcAJNfZgBsxXsAvsqdAGyWuwBvz8kAVIjAAOUAtADPpagASTqYAGR3fgAPuGMAUUNcAF2IWgDQtVgA0DdTANtPSgDig0kAWqxHAFf7QwDjrEQAu0ZFAJT2RgCQ60sAQ1JNALxWUQBHkmQAfamNAGr8pwDa5bsATvLDAB6qwQBalrgAR72mAOIviwBKKHgAoyxvAGySYAARqFMAYVNIAKt9QAC+kT0APUo7AK3lOgA8QjsA6UI9ANM0PgBxbkEAfN9GAPuRTgBX7VYAkf5tAJ48fADoJJEA87ufAG7ZowDOtIsATRhsAL2vTwC+xUsAqlBSAC0uUgD3lFAA5xZOAEVuTAAfTUoABGJKAEXLSAC9W0cAMGBGAM1XRAD5jEMAVSxEAET2SABNSVkAeiN6AC91kABVw6UAABSnAAK3jwB5gHkAqNtqAJwSUgBTEUcAc9hIAJKMSQD4eUsAa0lMAHgFSwAclUsAf6dKANzOSQCUoUgA+TZHAC7wRABJzEUATgRJAH6LTQAQ/FgA9WR4ACAMigCs6ZEA0GeMAMCPkADfmIQAawZtADNnXAC9yloApoxlACs1bgDb8HEAZVV2AGQ+dwDrkXkAg0Z8AI6qggC094kA8Q6OAKNekgBU7ZwAhuimAOEBsACaLbwANmbjAEx8BQHIYhcB8IwYATh8GgHQKgUBTyrkAMlXuQBYxaMA5dehAK6LowCaU6UAWW2hAHjTnQA6+6AATi6kAFV6ogCF76EAHi+iABJWpgAdTq4AJTaxANRisQDW5LYAaiPWAPng9wCldQgBCvsWAd74DgEcn/YAeVbTAA2RoAB0SYsAtz6FACPeigDArpQA+ZegAKZMogAqUaEAn5KfAL08oAA0K6MALpWhANByngB5Np8ASvqdAJqZnwCe1KcAaxi8AAVO0QDeqdoA0VnfAHRU3AB0vcsAU6WoAMukjQDAtn4ADdKAACbzggCUHn0AyTl1ANMbcAC3tmsA2E1sAMQAZwAzoGgAo6ZpAP/bZgAk1GMAt29iAFP9YABOYWYAq7SDAMofnADiraUAnlmwALHHuAC8fKUAvBeHAM0vbADR4mAA+U5gAL3kXQBm8F8AZgphAMEKYADNc1wAR8RWAJhDWADx+VkALh5cABkrXgCPe2MAjP1tAGJdcwAFa4IAekKmAMoxzAAqsNYA6E/WAHx8zwDNzboAfpaoAELFmgAbAJgAUXObAAVrnwBMbaUA22ypAPwOrACxWa8ABkSxACBWsQA1CbIA4tuwAHgIsABhCK0AN+moAKCbsABGfb0AblnUAN3z5wAjUOEAU3nhABMz0wD3asgA6ui8ACvBuQAGcboAfZq+AJqQvAAOxroAdFa7ALeDuADTBrcANEq0APAvtQAK+LMAZvayAD0MsQBWwK8A/1GxAJnQsgCR9LkAJ3/MAHBr3QDQ4OgA/grpAEjv3gAvD80A4te6AFClqQDrpZ8AjaSfANRaoADcXaEA7rueAOE0ngBDVpwApL6TAOcxjgCebIsAtxyNAB62jAA6vYsADN6QAJhbngA5ua0Azd3MAHpV4ABRmegAONfnAIKN8QBw3uAAZjzHANjlqgB725sAKhKaAFxvnQAxvZ4AA8CbAHXSlQD164oAUH6GAHq+igDcNI8A/0mUAO6MlAA/mJoA0iOaAJVRnwB67agAuTbHAEql6wDPJPMARxDtAJ388wA1HOkApc/OAGK7qgBnVZcAyt6PAOxqigCMZIUAKX2BACsbfgC5BnoAdzd2ALO1dgB223oAyol+ADCThADa1IgA9xuNAE9/lgCM8Z8A8wDBALge6AD3t/oAekD7ACZN6QBNL9kA+ezAAA1apQCCapgAfZGbADUBngDmbZsAqeKeACFGnwBV2p0AqEucAMewowApjaIAF2CgAN6SmgAKqJsAB3qhAJXyowAMZasAeAK6AMboygBeldIA4RffABm72QCo4bwACBqWANNAcQAGVWMAZFJjAEyPYwAO32EA0Q5dAGbiWQD38FgAd0tVAO3CUgAV01EA7D5RAK1BUQB4iFMAVS5WABDiWgBcgGIAb5t6ANKclgCwZacAFwWwACrKrQDPsZsA+xh8AJpfWQAKw08AT0JSAJgOUgB3slEA3xtQANXPTwDSGVAAlIxPACThTwA1+k4AzfZPAN26UQDgTVQA2blZAP99YABVSGsA8/aJAMNNqQB4q70AbxzIAKqPwgA8w6sAh+yJABgrZAA7qlkAtJtbAEhIXwDBa2IAdRlnACqhZwCrtmsAqLtvAJF9cQDuPnEADchuAGsQbwDz2XQAkLt2AFVLegAeSIAANbqaAITxuQCwDM0AHanNALRIvgAvh6gAjJqPALW1eAAMb3EAAdZxANqVbwCnj2sAvNFoAGgyZgAzP2IAADRkAC6KZwDe4nUAXgZ3AONqcwAQenwAXa5+AN7jhwB+7I8ANiujAG3FxQDM1uEAXCX2AKoP9AAoc88AH4uvAErWmgAIi5oA+veaADW3mQAnT5MA5UaKAHaShQDGyncAbwd0AB0FcQBNS3MA+EV2AJrzdgAfkXQAEnF5ANURewCA9oIAewaZAIB5vQCnb90AS8HiAGMW3wA9bMkAVHajAAoYgQCJEH4ACZqJADpDkAAPf5cAwnWgALArqgAlp7MAjZW1AG99twAU+rcANB+3AK8vtgCPfLgA+8K8AJo3wgAuMMYAu2/JAIL3zgB0hdUAnl7SANvxzwBNMcgAbi/CAGTgtQBVsa8A5P+sAELkqACfJacA1+ShAHjvmwANFZcALy2TAIeDjgAxsooAWjKFAHFPgwCoB4YAbnGHAEsVigDJg4sAdrSWACljqwDOJbQAaE+0AI8YogDJ+pYAsBWJAMP2fQBlgIUAqGOQAHvflgASSZwAPKCeAEEHngAWKJoASuqbACLXnADzS5oAr/WbAPkKnQA1IqEAysmoAFf/sADCArkAQwHGAMhV1gA0+N4AWI3dAFs11AB1w7oANqeaAMFYfQDjKHQAG2hwALmpbwCieW0AxnNoAEEOYgCvJ10Aoz5aABLrWQDXJVsAbaBcANmoXwBByGMAVN9pAHB6dQD53n8A1fqRACvvoQCSuaoArayoALS/pAA2g5gAwEiOAHOhjQAKLZIAEuWQACoYkACvjogAUVqDAOZ6fADL8XkAtRN0AEtXagD4E2cAIQtmALahZgD/i2kAJrVuAArGdgD8d34ADXCOAJSmpwCPvbEA+Ca8ANtgsADxzZkABpORAKBBkgAg45UAn2yYAEK5nQAs9KIA8xylAJKxpQDJX6QAT1ajAJDUpAD3MKkA4janAMq7pgCBJKYAU+uoAGdQrwBwarcAGVfIAFIU1ADTr9wA0nvaAKsixgBU6LIA15OlAI2HmgAKXZoAsluWAEIlkADc/40AH2OIAJUchgAoBIEAzD2CABYRgAAUWIUAFAyHAMu0iACDjJMA05STAPe0mQADVqcAyNC5ALLU3QCE6/cAUfABAWWJ/QBob9MAdqS1AOjPqwCDgqwAvtStAGy+qwAZe6gAUi2lAD7dogCrBKEAA6qhAA5kpgBPdqUApxmhANN7lgCL2JkAgpubAHa3lwAnTo8A1e+ZALV4vAABKtoA+dPoAMy15AAA+80Ax9CpAJZ4iwANRYwAYMCUAFM9nAAiCZ8AO6KgAPxToABj/pUAcbeZAH1dmQAIUJIAWySJAK5uigC7Z4wAVLiOAPo8mAAZe5sAMUetAPQYzQCzcuIAtw/iABGG0gByCqsAZyeHAEFKaABvV2YA4gBoALr2ZgAYQ2UA7/llAFf8YgAAv18AdRRdAJKkXAA4Zl0AKWtgAFBwYgA9C2YAGZRsALFtdACoK3kADsSHAI97mABpYqcAXDC5ABLwsgBuzqMAyHWVAJCdfQDiSnsAk3R/AL5yhAAF4okA/Y6NAKo/kADVW5IALOOZAO2ynwDHYaIAW4upAFsVqgBJzqoAvP6vADvFsQC2NrQAg72zADzqrgB4s7EAloqyAPqXqwDzdJkADHSMAByEhQA9loEAffx9AJBbeQAEwXQAAzVyADulcABnMXEAWORwAGJsbgDbJHAAiXZxAEgycAB6GXIA4rd1ACRYewAQBXwAJRh6AHC9egD0BHwA5cl6APTvdgBLO2wARPJhAH7EVwASClYAX69WAJ8cVwDoplYAR71UANRGUwBJklIAONxSAA18UwCO11QAn99VAC0ZVgCgE1gA4GNcADHhYgDr0GYAiKNtAPvbeAD/HoEA46mBAG3legAlI3MApe9lANKMWgAFUlkAx5dXAEyKVQCmplQAOK1SAIphUQDgNVEAzFhRAKQJUgDZ7lIASG9TAJkpVQA/L1cAPJ1bANS6YQD5q2UA7s9rAHOzdwAfWoMATyGKABEohgA9cXcAU8RjAAHjWACZ1FoA54BbALrDWQCHU1gAcRpXAJ91VgBaDFYAqO1YAPocWQDLAlsAbv9cAOnVXQCwwWAAJiplAPOCagC4/W0AAIl0AFpIhwCO4pUApeCaAGzNkwAAVYUAH79tAP1IYAA2JWEAwJ9gAMX9XwBwX18AWl5gAC6OXgAGnF0AyaJdADTkXABTdmAAIU1mADf3awD6tXQAEch/AIlSjAB2KZUAks6gACiktgAGZ88ASQnNALASxABnJMIA55a5ABzHtgBUdbwAsBy8ABSRwwACYcAARiO1AApsrwCQCqYAD9OdAO51mgDQOJ8AYf6eANX5ogDxRKoAhNSzAGeyugAceboA2A27AC0lwACRscYAr2++AA1HsgBMkqQAfmCbANZnmgBuoJ8AMlugAI1VnwB7JaIAWOmhAKbPnAAI45UAhx2PAPk3iwDqS4wA/sePAHyLjwC3uZMAvF2cANfTqAB2K7IAylu6AO4ivgCUtLgAU0W0AEbVrADYf6YAJZipAGWNqADCiasAHLeoAHcEpgCrg6MAFb6dAJGCmADc/pIAp1yNAO+MjgDkRI8A71aQAPa3kgBoF5QARRmZAB8LoQALH6cAJ6CmAEaIpABaGqEAdz6aAJsqlQAjfogA8PR/ABizeQAjYnoAeft4ABeGeAB5eXMApXRxAJ8YbgD4FmwAYaNnAK9vaACTamsAnJBtAGtMawA70GoAiJtyACkxdADoAXoAIOt9AIjXkQB6VqIAiMynAM7jmgBAb4oADl92ALMJcQDf7HEAvmlzAEy+cwCuX3UA7HJ0APfQcQCWgXEAurB1AF+sdQDMDnoAp1V9AKvAfQB+F4AAiOyEAO3qigBcJI4ATciRACT8pgA8WLIAM3u4ALEArwBAY5YA5ZSFAFxXdgAbPnYA8xR2AJE6eQDMr3cAWkF6AEtCeAAd6nYA0Dd4AOi8dwACA4EAehmFADmRhQAwvoMA0zGCAMHIiADsX4YA9buCAE4WjAB2fpMAgTuZAESzlACDJowAEi59AF+gcgAsVG4AtKdrAB4SaQDFLmcAoVljAAnYYABqmV8AhulfACHfYACqBWMA3L1jAMz3ZAAsLWcAhlNsACz4cwCHnngAidx+ABxXkgBYypgAMnGXACM6kwBTs4EAE4xyAJyEaQBELm4AOlRyAORzdQDHdXUAAqJ1AGORcgBgFW0AT+doAJtFaQDxOGgA5PdoAMUIbAAjrXIAD4V1AASlfwDFoIUAMyyKAB4/kQB8rZYAFceTANw9igAzYnwAxxFyAF7QcABdGnQAoJt2AK1GdwCe4nQAY7ZwAK7HbwBJDHIAwqNwAPGTbACKXWkAx6FpABBxagC+wWsAn89zAGenfgDYnoUAn9KHAElniwDtD5AAuMSSACDKiAAJoHkAp1dvANbCagCey28AsZVzAC13dAAr2nMA/VJvADjMaQA00GUAXv1hAMrdYQBvJ2QAHvllAG67ZwA6vmoA8ChxADcseQB5xn0AEYKJAKN7pQCDRbsAtaDNAAvswABSkqEA8dGBAJd1aQBtBWsAFGNuANEZbQCaGGoAZLtmAIuZZACQHmQAONZkAL7FZQAfiWYAF91nAMt7aAB3PWsAQ1RzAI+IfABQGoIAnDCRANlZrwDJfMEA9BbFALaRwgDFApQAsPV4AEbvcQBCenQAfsJ4ABffdgCFB3UAQrRzAKU4cAC57msAzaBpAIbTZwAgNGgASlloAIpXaAC4TWsAHX9yAKGOfACc1YIAEEmLAPBKtwCUe9UAPQ/cABO/1ABz7bMA9suLAEWAbQDsBmwA07NsAGk5bgC95GsAY21sAMvHbQBOaG4AvJFtALVWawDOGW0A4gRwAAXncwBlH3kAW7eBAOigjACEQJUAnaSiAJUjxgC+hdsAgFPrAAL52gAHE7YAxaGTAEHNeABlF3cAr4F5AFDBegA8KHoASMyCAKXnhQAh4IQAPr6FAIJngQDUDoEA37R+AIzqegCe3XoAKRd8AGGshABveIMAj4+HAKSXmQCTFKAAMGyZAHQDlAD+0YIA2pVxAHOVZACs0GcAMitrAHPwbAC0pWwAVvNqABBJagBpUmsA6BFrAPbObgCb9HMATZ18AI27gwBzKosAO1mVAMb1oQBAmagAHTetANGVvwCQAcoAExvPACCMyQC5aLoAtBKmAC1dlgBH5JgArCKbAEdXnAA/c5sA2auYAEQgkQAuiYoArQaFAATthAB2nIMA/IyBALB7fwDOLn4AhB+FANNQkwBbtZwAWoSqAPvyuACcjrUAqNmsAN7vpQAjK6EAZ6KdAEmMpABhMKoAsWWxAL6JtADWFLcArfa4AFswugAMyLoAOFC/AIQJwQCCKMAAW/DDALBIxgDbCcwA+dvSAARz2gAOFd4AXzHhAF5/5QCTt+cAXBLkACQs4QDuvdYAThbEAHAvvgBeWMEA3UrBANKsvwBrvL4AZ+K9AHx7vQCt9LwAdXy8AJ6augCl3LoAnRi/AJ3SvgARt8EAeenEAPgTyAB9IckAHBjQAOFe1wA02NsAX63UAOg0xQB/na4A6Q+bAFCfhQC/cHYArVJtAGKSZQBxMl8AMslaAJyRWAArhFcAVtlWAPT1VQChvlYAEDlYAAZSWwDJQGAAytpmAHYmbwC18nkAKXmHAPK6oQCSeroAmh/HAMIdyACwo8AANFauAOH2nQBbEp0AzdueAMQ6mACn+4sA/cWCALf8fACAXXQArGxqAEiQYwBswF0ABZNZAOflVwBHtFkAU4FfAN9QZwD6lG0AFCN2AEw0jQC3sK4AC4DCAFNMvwAg0agAU4qRAHbHgADDFXoALp93AP+qfQA0HHgAmK1yACYubgBqDWsAO35oAG+JZwDQ1WYARQhiAJmqXAAUqloAQKdcADtXYADCu2EACUViAH4+ZwDAG2oAuQ5oAClkaAAt3GcAqnR5AO8/ewDY5X0ADYGIAG/XjABGJZEAVi6SAJtYlgAb4pgAR6GfALrAnQD0wJoACkqaAM+klwCjlJcA4WSWAHFIlgBcSZYAOCeZAJJBowDKqaoAsjKvAAHlrwBNf58AaOONAATPcQARN2YAi9JkALVTZwAiymgAShltAAdZcQBeHm4AKSJuABc5cQBduHMAWplzAFRKdABftnkAbPt+ADRSfgDZf3kAYFx5ANumewDWLXsAXKZ4AJywbwCNy2YA/ptgAOkVXgBCf1oAp2hYACBXVwDhelkAOQpcAJRHXACMFmEATJdiAGQbcABceoAASQCMAM1nlgD7U6YA1ryyANjAvQAQcMYAlMvOAAPQ2gCnQtkAKSLZADXe0gD1rccAuWWzAN0MlABmcpIAaTybAJNCoQD48aIAmWKiAJLTnwBszpoACuKdAIBdpAB9M6cAGSWpABN/qAA376EAb/aeAIWPnAD3vZgAyGmbAMKhtQAKH9EArJTWAD08yAAIib8AO7azAM7GpABANqkAeVuvAPMmugAe8L8AYjDCANETxQDnh8UA/VLFAC8GxADpxccAsvnKAMwTzQBKw9AA3b/TADgY2ADtHtsAk8nZAGsK2wCY2dsA2SDcAEby2gC8gtQAQcDQAIEyyADb/sgAfKbKAIbfygAMjsoAXN/IAEilxgC8E8UAdpy3AL6gtwCP6boAc9u7ABIzvgDgOr8AGdXBAEY10wAORNYAElTZAMf74gDFuekAtrzxAFi07wDOpOAA+VXMAPglwAD7HcAAUe+9AI9iwQBGX8EAHne/AFRZvQBiY7gA8nWxAMFFqgDgjqIAL/OgADK4nQDTJaAAtKqoAGZaswCvNcAAmo7JAF6f2QBqn+QAOTbgALmt1wA8RdUA8VTOAMg1yQAfrcgAbunGAKwRxQAvo8EAW8++AKuPugACkbYAF7CuAOxDqwAWCKcAINWXAEN3jQBvw5AA+HaXACNSoABI/LAAJDm9ACdZzACzq9sAHKDZAPo71gBSrNAA0yLKALAhwAAOv7oArOu3AMk3uAAdFLcARMO2AEWjrwDgmLIAgc6cAPTMmwAnIZwAzPGbAE8ZngD+158A2zijAHVorQAjVbEATX+xAK89twAXu8oAC97TAN97zABQg7kAxzeZANUgewAUP2gA5QFlAFaaYwCGvWUAKb5hAB36VQBo8VMAEY1XAH6DVAD1BlcA8+RcAGVaYwB72mwArq1wAG6wdgCqRXUA3EZ1AMacegAty40AvWGVAPTEkwCZpIUA08B6AEIXcgCVLGwAi55oAJs3ZABrRmEARVFdAFXqWgDfTFkAe7tVAIysUwBRe1IAFqNRAOiHUwAjslcADnRgAJxcaABry3EAind8AL3ykgBuQ58AyC2oAGT1rAAXpLMAvq+oAAO2nQDFLZ4AGIaoADCOsQCzsbYAAsW4AAOyuQBce7sA0iK9AIssvgAYUr8AzQi+AJjJvACMzL8AymDCAEGtxwC6KswA6fnOAPJl1AA7lNsARWndAA1g3gDuI9wAUVnTALHiwwB2U74AdUG9AHCWvACSMLsA/dS4AA13twCk+7UAjN63AKlwtwDKpLUAlXmyAJWLtgCLHbYAAJizAFh3sQClsKoALQmfANy4mwAmjZ0AH7+iAGzRnwC1Y4kA6/BzAGUvZgCw1WcA/XluAFtpfABO34IAdieJAAXXjADP8o0AbaeXAL7bnQDpraQAkHGoAH70rABcj7EAGbO4APB8uwB9IbUAjsCnALeHrABtdMkAZkjhACFt1wDCUrwAiaSXAKGYeQBc/W8A9HlsAHqkcwAub3wA8p5/AK+AgwDlYIgAw46LAMhFkQAgrpgAbMOYAKbTmgDhA5wA2uKfAJm+pAA3pqgAOoKuAMBtvwAZS9oACSPxAFw49ACpO+UAUzbIAA3HsABWW6wAVY+wANkAswDYSrMARr2yAMLtrwC8Wa4AB3ykAADInABWoZoA1OKMAKHNigA4WIcAcQSOAHx0lAAZ45gAGE+gAFLEvACQjtwAZQntAFI77wCcJ9sAxJ+8ADg7nQDEA44ABx6PAEJykQDriJIA/GiWAAUSlAB0DpIAPVeVAHZikgBCaJQA/tiNAP0ZjAA7v5EAaAicAE3ooQApp58A62CaAMyemAAlUqEAea2uAPsysgBnV68Aa1OkALV0jQATuoYAY72FANNihwDPEo4A4E6QADUWiQDlV4QAJGKDAA2viAAaXowAcc+LAKDEiABpBYcAyBuAAPkngwCjmIkAcNGaAJFStACvhsgAEe7LAI3OxQDNIMAAuj+8AFT7uwCpRcMA+X3FAPCHxACeS8IAhIu/AIAZvQAeKLwAcCi6AAHLuQB+FrQAuHGzAB3drwB1j68AEZyoACkCowD146UAk7WmAHybtQBlWd8ALzf+AOXL/gCdgfEAUuPbAMapvAA9i7UAl/W4AD7RugDTDL4AUr++AHgDvgDM7LsAj3u5AGqouACU7LgAOMW4AM+0uwAfyb4AhYrCAPucxgCO8skATg3MAAnx0QBtH9gAsq3ZAK9u0wDyHMMAKki7ANaZuACu5bcAqcy5AI28uQBN6LgAbcW3AMINtwAnjbUAWIK3AFCNtQASjLYAsha3ABUxugCsa7wAqODAAHOwxgATyskAa0/NAPlt1wAMuNsAclHcABqt2wBre9QAxsnMAE9gwACZ7rwA6Pu8AGFFuwDHwrUADmOyAC/2rADn46kAXDiaAAW/jQAabYgAC1mDAJrngQDFVIgAHlqZAERmqQBur7QAELu7AObkxACj6cgAsmXNAE8ZygCiwsYAoinDAPnZvgCbYr0A4UO7ABtYuQD877gA00e1AEGAowBoSJ8AasqkALzbpgA8OqgALwSsAPb3qwARULEAO724ACPWwgCCNMoAQVvSAJLv5ADis/QAS+7xANRE5QBJ0t4AULfVABXoygCp1sEA3Hm6AJ7msQAjjaoAMY+dAD67mQDISI0ArMyCAM3rgACptH8AFHh9AAu+fwAXkoUAoZeMAAHLlwDwbqEAhHuiANT9pQDF3akACWyiANVnlwCfzo4AWxaCAMCcfACraYIAecCFAHzXigB2SZEAluKUADIjnAAStZ8Aax2mADhjqQCZbJ4Ads2TAJrnhwAMB4AAzlKGAKJuiADkPYgAJ82PAHDZqwCSkrsA8MnQAOqX3gAG1sMAPDOmAPj3fQALmG8A385tAKShbQDht2oAnSNqALgHZQCPqWUA6eFkAOgoawDqfnAAW2ZyAF5gdgAw5HoA5X+GAPlEkAAO+ZkA2dKnALLA1wAixQUBVb8QATXtBwEJFvkA9MPSAHlzuwB8k7UANrq0AE4atQA42LMAFHOyAH5PqwC5B7AAs4apALUXpABwj6QAzm+jAMqDmgChzZoAJuSdAM3uoQAdk54AT+CeAKr/sAC8M9MAg6LmAHUq5AB4ds8AN0GlAMrOewB0fWwAXtdtAA//agAVoGoA301pAD5yaABKH2MASbtkAMprZwAKSGsAHRdxAJOhdwBP8YQAUDORAK1NmQA7UqAAldKhAPXyogAQk6YAGd+pAIhVowDX0JYANbuOAK0yhwBAloUA/CiKACT7jQCKhIcA3WZ/ABbSdgBF02wAQHxmAFhqZAAYd2QATq5kAJ2EZwDpNWcANLZsALYGcgBpdHQAzpV7AMMCigDDPZgAvzWnABY4rgBcmZkAGJCEACrjZgDkPGEAKEBkAORkZQCqWGQASWdhADV2XwDDD18AdzleAJ4CXwAeeGIAE5dmAFOkagCysm4Aog15AOv7hwA2BZYAdC2aAFf6nQDDiKMAEQSiAIrVmgDYeYkAtGl9ADA3cwAnem4ABhluAJSdbgCfPGwAfVdlADxXXQBHolsAqWlZACrFWQCZxFoA6QhcAMeOXQBwvmEAQd9nACCAcAB0i3MAJ/V1AHnifQA/hocAcc2PAMHfiwDBu30AXctyAD4WYwDpTlwA1QtcAE4bXAB8FFsAMxxbAOdvWgCHEFoAkk5cAB9yXQCsAl4AYBJgACjbYACUX2QAVS5sAOK+dQAB6XoAYXl7ALjJgAB424IAzvp/AG0PewAQGnEAptdmAD9sXwDXSFwA7L5ZAKwiVwA7dVQA7ExSAOHGUACaRlAAIPJQAEkgUgDBCFQAeepVAGGVWACxD1wAo5JiADlSawCNxnEAxxJ1ADHsegDUdIEAEfiFAHf5hAC5r34An757ADWGeQAfqXUABbJ9AAXhfQAFxHUAE8FtAD2lZgDNhGQAA3VmABDjaAC6dnEAvtl7AEpFegDWDH0AEG2EABYxjAAg7pAAnc+UAL4ApwDWF70AIbLQABzp1AAGe8YAeXiuACRyoABaeZkAme6XAE+rkwDxIY8A4eyNANqpiQA4DYkAV5aOAP3OjwD+rJQA//+dAImUnAB/g58Adq6iAPWQowAPE6AAjDGfAJHtqwAwIbgA4wm1AOfroQCtqYsAtMB9ADZ9dgAmw28Alh1sAPGKaABJeGYAV4BfADz2WQABk1QArAZTAIbnUgD2hVMAvDZUAL9yVQCVj1cAkqVcADvuYwANGmkATRxxAOi8hgD+6qAA6hS5AJyUtgBwv6cA7/yJAHZDaQBS5lwA7PtdAAAPXQCzqF0ANBtcAPd7WQDyEFsA651dAJofXwBrBmIAmUdkAAuNZwDjz3EA+UV6AJgKhgAKdJIA+z2fAFk1rwA3kb0A0HfDABSJxgC2vsMAgTy/ANZEugD/mLgAepC8AETwvgDe8MEACHW+APV3uABxALkAKOm6AN43vQAxHMEAfMnEAJ0LxgDi9sUAokLKAGPF0ABclNQAOEXiAGn9/gA7sgYBkeIPAVrOEwFgNggB24ftAHx3zABJoK8A7iydAB0QjgAQUIYAobSAAA3hegCp63cAbLNzAAYmcgBQNHgAH0B+AIn+iQBhYpgAYMyqAGQauQAw+MEA8jDSALHc5QBgdO4A+VPoAGmn6ADYo+wABKPZAKq6yQBpDLcApvCpAFQxnwDIo6QAbWihAPbMoQAci6QAgnmpAMIBrwCsC7UAhS27ANOXvgCWQ8MAmuPIAJpVzwCe8dMA1fDgAM1U8gBCQ/MArI7qAE5i6ABvFO8AocHdAPo5zgAuEMQANe7AAOvWvQClPLkAcGC2AIH9sQAJu6kAHI+pAKSBoQDyoJ4AotydAMeWngDPE58AJ4+fAKPspwDsXawA99mzAOONvAB+Lb4AX/ewAJU2oADZLZ0Al8OYAK+BmgDX2JgA4c2WAE2MmQD/154ABCKlACYwqgCkOK0A+JawAF5vtgCIr7gAbtO8AKBGwADMucIA0+fFAHh4ygCNVs4AyBDSAKbX2gA2y+QAVIbjAI+h3AClHMoAA2K4ADsXqACKtpcAur6PAJaDiwCgVooAka+EAMnIdQCnWmkA7+hiAB1jXgCkslYA1wFUAHE3UwB231IAyxNVAOhFWACqGlwASzdnAFOGewBE45AA5LObAAfslgCOyYkAbH57ADrhXQCMNE8A7JdOALCkTwAqd1AA919QAJmaTwCT0lIAdaVUAP4QVwD1/FoAj0NfAJr4cgBvt4sAQDufAPFruADYs8MAiMTVAMx57QCP2QABgAkKAU+QEQFyjgkBUZHwAPnVzADIeaYA/xuRAEPbgACZAXMAW+5nAB/rXQATWVgAjsJTAAttUQBLTFAAFBVQADaqUAAR9lIAZ59YAJ6tXwBpGmUAuFFyAO+XiwA3pqUAmIW2ABVAtgCqbKoA+FaRAKaIbgA1PVQAxLNSAGqhUgBET1EASpZPAPy6TgDlrE4AwUxPAIitUAAyUVIAu/pTAE66VgCrx1oAzbBhAC/baQAKK3MAnAeWAI71xQBWLd4ABNvXAPzF1gAoA8kAOJeoAJEWgAC+JlwAI01XAJiVVgDRV1UARMlTAB9lUgC6hVEAcu9RAJ5yUgBRNlQAFwtWAEKkVwCnN1sA7uFhAO+XagBYHnYAYcKmALBy1gB6tucAVZ3mAGME6gD4ANsAWBO6AKhikACHYGkAPR5iAKcXZABj5WEAcflfAHprYABMaGMAl0dpAKAAcABRd3YAPIB8AAxPgQB0xIMATH+HAC42jwDYFZkAZuWtAFQrygBxUtcAbyrTAB2YvQApnpYAx/J+AJ7obgBsq2QAuexgAGEWXwDEHF8AEzFeAEgZXwAO12AA0HNiAOYPYgCw0mIAoXFjALUBZQBRVmYA1LZrAEZrdQBGUH4APlKWAJm1tgBGdd0AEnX9AHXBAwE80P8AD87jABVLvwBySaEAXXqbAEjWnAA8cZ0AfwybAGxnlwC2g5EAxWaQAM1xjwC5Do0AGjmIANnihQD0ooMAuaOGAOKyiwCu2o4A5DSaAB7HowAOnqYAhDGpAHDnpwBkrZ8AuhaOABRhdQDyOmEAz/dVAP72UwBlJVIALmNQABLITgDuwk4AbMFNAFj0TAC14E0Aim9OAN9rTwCQeFEABulVABSrWwCv5F8AZf1nAK5jcQDWWnYAgsp4AGabcwC6NmkA17RgAF5hVgAWG08AONxMAHdfTACoXUsAPstJAC2USAAeK0gABpxIAFLgSQBjQUsAal1MAJ+sTQCTuVAAdi5VAFyOWgBJOGAA6vdxADcwiQDR3qIAheyyAEt5vAA0/bcAY+KiAK9AfQD8+1YATwpOAJCtTgCcsk4AbDpOADnZTQDsbk0AY6hNAKasTgBZjlAAwG1SABkUVADkCVYAZEhbANMlYgCRi2wAUaWOAIl5sQDcocsAVI3ZAI482wBp1M0AApiuAARVfwB+71QA4p9NAP6GTgBdcU4A6IhNAKvlTABDTUwAOd9MAHnQTQCFUU8ARuBQAK/SUgAsDFYAQhlcADzfZADivXMA4xOaAJ8GtQCp1csAOyTZAE1U3wBTgMoAZsesADPfiACjaHAAuvZoAJOOaQCRk20AgjdzAHUgcQC+om4A+fltAIOBbwB8sG0AHB1tACdAawCNPWsA9YdvAGp2cwCK43YABRiAAOBMjADWwKIAHUK3AJAxzAAll94AApnGAIyVsADetaIArPGgACllpQAiJqYASXCmAE8hogCm1aEAI5ShAGMApADhPKkAZe+uAElttABR8roAwDjBAAapxwBpZM0AII7WAFc75ADnWvAAodvuACVG8QCrH+oAbK/pALG+3QBOa8MAIguzAFwqowCj/5EAHBSDAKZedwB/AnUAnQp3AOL7dwA/GH4Aum6EANcOiwDD+5IAtuugAIqosADrncQAURTUAHlk3AC7mOUA3fLtAFQc9QCte+wAbW/eABefwQAkd6kA21KVAC9ljQAuAIUArkiCAGzzgwAZhoUAeoyFACmgigCbbo8AOZmTAHqdkQD4P48AKmyKAFuvhgBp7YMARSyKADPmlQAw8aUAZsCmADxbngAKk4kAZN57ADeTcQDtbmgApX1iAK6wYgB63WcAih5yADv8fAD8JoUAUYqLAIISmAC1IqUAIAWqABvGrgAqFLYAfjW+AD7HxQB8QM4AMXTbAKkp5AC6ueYAHjnpAFgm6wDyFOQAXX7aAOJQ0AAbucIA7eu4AOt8sQBkuqwAXPapAG4wpADn5J4AezuZAHfZkgAIFY8ARwaJACCYgwCDKnkAPkVyAGphcAB9DnQAgmV8AESzhAAZ0IMAuth9APYjegBoyG4AtGNoAIbFYACSHVgAAwZSAF39TgBEkkwAl95LAJqlSwCOjE0AZLxNALLpTgA13VEA3fpTADWrVABaT1YAlTNZACoGXwDLGWkA3z98AKJgjwDy85sAsbGmABngnQAJIYcA5ph3APcsZwAzp1gAnZlQAEVDTQAcAksAfHxJALUMSQCu1EgAgLNJAOzBSgBvaUoAbI9LAAm4TADSLk8A0SpTAJseWQCcMWAAjopqACKjdwA8BYUAH7yGACokjQAwfYsAOraMAD+NlQDUZIgA+5B8AFCJbwD1TGQA8DdcAHQRVQBJ7lMAUpBXABWsWwC3KmEA2gppAOF6cgDiKnwAHtCJAKsImwDCma0Awd2/AJmm0ACm4dIAkGPZAPve3wCc/eQArfniACgV2wAme8EANiKwAD8MpwCGhKQAorCgABYImgBWwJsAHuyXAHuplQBv7JYANvuVAJl6mACh7pgALkCdAL35qgCuSrsALxPZAMBm/QAPqRsBwQc5ASzgPQFzKDIB5twiAaWg+gDGZcYAjPKcAOXGiwAjyoIAji98AJqRdgB3lXYAHwFzAJ6yegBQI3wAp0N5AMAChgA2UYgAJSaKAPerlgApBqwAfDHfABrMDwGXqzoBTrxJAZqqSAG9cj0BZ+EXAVg39gCC5cMAbeecABJligBbuYEAUCB9AFc4cwDJk2oAfjdlAPfhYwBa92AA9zxgAJ/FXwB5amAAeiBnAMQ4cAAjDo4AZyK+AITc2gDm8gEBhb8YAf45AgH33e4ALFnlALBqygBFmqUAjtaDAIiMdgDd/3AARzxqAJBuZQAd2F8ABrpcAAMbWwC6mlsA2/BbAIsqXQDzA18ARThmAJ5dbwD8xoAAA+2YADnKuQALL9gA6XrzAEUj/wCuzO8AI33cALBtswC32oUA3WVlACzGXQCTdVwAyAVZAPvAVQDhvVQAf0JVAEetVgAMxVgAQnpaALhaXQDs22AAmpFmAFobbgAjoI0ApCLAAKV25gDYZv4AuA4UAYscGwHWXxEBcef3ABIjzwB7vaUAzIh6AP/NcwAOaXIA6dN0ACaJdQCCb3UAb+N1AJ4LeQBS/X0AiKZ8AO8KegAtH4IARh+JAGAYkgCAQ6gAai/OANck7AALfgQBwtQXAVJAIgE5cBgBxtz/AG603QBozLMAtreKAPWrgQD063wA/HV1AEUjbQAk+GoAWRhrAFLdbACjNGwADMZsAKKkawCURXAAvgV3AMsafQBHEogAKeKbAMnAqgAxmsYA31bcALmX0gCzvcwAV+CuAN8DlABapoEAJLxwAGjBcABdMW8AMt1sAHfHbACbz2wA41NuAOL7bwCA1nAAkAR2AB71dgDTHHcAAdR8AJ3ygwCgIJEAZQqoAGULwQBXh9MADRjaABDf0wCOPMgAN1a9ABg5pQDM4YkAXhB3AO3xbgD3R2cAVjJkAC94XwCuCVsATKhYAPe3WAAjvFsAuWReAP4xXwB6k2MAtAZrAAdvbwAd0IAAmzmdAOkpuwDCjcsAnw7RAAC7wgBlZb0AJRWvAP+WnQBY54QAk/dvAI9bawB+gWEA3IleADkRWwCUylwAUVlbAPXrXAA1pGEAmENlALaRZQAlKGQA8mJmAAAjawBmq3sAYiKcAOsxuQCWwswAwUbUAA3f2AAWENcA1SPNAPKlvgDKmLIAcEWpAD+5qgAyKbMA2zC0AOD2rQAPAqQArW2fAA3omgBdU5QA8MWPABfdkAACoJMA7a2VAPuymwBpTJ0AAaKdACQ6qgBj57QAZBa7AAzmtgB2OKkAwDqgADcolQDB3oIAUStzAO0lawBjjmIAFDFeANU3XgAxvFwALVBcADm6XQBKs1wAxzteAKDdXwB6rmUAUKNwAHwpfABBEpAAc+ShABsCuACN+twAnkzkAO/XyABF77QAC3WsAFoSnQAY4IkAWaSAAPT5fAAGlX8A4ct+AIBveQBXXHoA7tl4ABcgdACf3nAAs6FqADclaACahmgAOKNrAEbKcgAM3YAAU0qSAJ90oABZBZ4Aq9KUAH6migDxRIEAGqB9AP/5eQCsXnMAdrVvAOnfcgCpg3oAzTOCAFkPhgBBl4gAdtCMAOcJkADbV5IA2x+PADhAjwAISZIA16+YALx4oACLZbAA3qjAAKLYzQABgNgAYyXZAF8S1wB7A9IAU/zQAE6O2AAKY+AA9g/RALAPxQBo1b4AcbC0ANkkpAAzQ40A5ISEADB1eQD4snEANbFrABzoZQAX8GMA9NhlAGF3cgAz7aYAGKvaAEdF8gCu7e0AW3D7ACwIHAGiAA0BZST1AP3dywAbUpoAY7NsAIEWYwCsxl4AnR5dALjfWgDqDVsATKVaAM9MYQDqhGYAsgNtAHe2dQAdNX8AKt6MAM9cnwA1D7MAmVK/AG6bywB7jdgAaXXjAGnj7wDPp/EAEqr0AJQd4wDP5MUAAxiuAKEqqwC0PaoALZSjAFRkqADyyakA3TqqAP2wrgAmnrMAEHK7AMlrvQAXwr0AhUm/ABfAwgAQsskAbN3fAK4MAgG9exoB40wbAaLWHQFzVC4BoysaAXDI9gDvC84ADv21AO+FsAD1IqMA0oyYAKqwlAD7v5QAcXmcAFBmqADMM7MA1y60ACS/swBzcrMApcq3AJ8IvQBvjcUApgLXAK2A6AD24AIBynsjAXhzOgGw+zoBdZEMAbO93QB3O7QAuZuXAHAwhQCTjHYAh7lzAF3HdwAR14UAxveBAAiXdgCvvm0A7r5jAIykYwAhemMAHFVmACwSbQBJ5JYAM4DLAK+d+AD6RhAB8gsgAQXvHgF7/wUBfr7lAHnyvgAQF4sAX15jALbqWACbtlcAMORaACgmXwAO1WYA4iduAP9HeADBf4UAa6yPAIGUlQCBsZ0AEiakAA7SsgD1P8gA2ufeAEv49wCv3h4BnXooAWGNKwEcRTsBKsokAXfD+wD3SMMAT52UAA84gwCTm4YAyQOPANqGjwDat4sAlgGJAI3dhADdxIAAgYF6AIsadgBf6XEA5TdyAEzhegC8iJQASgi8AKDV5ABrYvoAdwzuADug3gAkDrYA85eZAG7legASOVsAnWBMAKrBTQD4BUoAwt9HAM0URwC3e0cAU1xKAOC8SgAA0ksAvGNMAPLZTADnOE8AhSpRAFRpWwD+n3kARRylADA9zgC36uAAQcvUAO6VxABslsUAbASzAHbHnABWIHYAXcJVAJgTTQCguFAAgz1UAGXuXAD4nlsAPxNcAEL1XABdTVwA1DtcAI0yWABAb1QAucZVAPE8XwBfPHYA8oaVAHLJowAx8rAA04i1AP38vAA8h6wAdPaWALfcgQDqxmYA/ehXANCSUADUylAAgBJQAAy8TwDpPE8AnatQAMW0VQBDj1YAQFBcAHg6ZQCzPXQA+NiCAMTXjgDfIqEAtvC3ACV30ABNZ98AWA3jAEWP1ADNT8IAtlOyAInGowDPQJUAXx+GANGseABJh3IAfNNwAE8dcQAe33EA/8xvACeaawCp5mcA9T9oALbiaABEiWwARJN2AF5ZgQCPZY8ADG+fAECNtQA5lcsAZMTpAElQ+QDcf/cAPwDtAEKkygAty7EAi26eAO77kADj544A652RAI7PjwA4BZMAIkSUAF3WlABafJYA/L6VAJj+lAAGc50A0OanAPD2uQB0jdoASlXxAIzp+AAiz+gABrfpAMjw3QDZCNMAbF3MAL1AxQC9fbwAKQ2yAMqprACqqqYAS9OmAOfTqQCkM6gAzpmkACKypwCtaqoAZbKlAPFrrAAEzbEArwW3AD+tvQALSc4AYsnqAIFgGgGTeT4B3NlDAYHdPwF3FSMB+WwVAYk8CAHREssAkFyUACHDewCN/n0A77CEALWsjwA4ZJYA1bqjAP4yqgBLJa8AqtuxABhCtQA++rYA+wq0AL0jvwC1IeIA5X0LAZvEKgFv/DcB8ZA4ATevKwGLNCIB9twZAV41+wCaE94A3M67ALZ/qwDMUqQATzKmAOQGqACcoKkAXBKtAOEDrgA0mLIAu5KsAOcbrgBqRKwAvfOzAHUzwgCvSdkAQajmAMZJ/QCs1Q4ByYQlAZgwIAF/qhsBuKsLAQeG8wDMKNgAMFzDAHWTrgAOfJ0ALneHAEQzcQAZgGUAeateAGCYVwBjH1MAfWNQAGOqTgBA9U8AW2xWAJiJYgBZiXYA+H2PAG15qQBADLUAbdfTAOBZ4QDssu0AV+PxAH+46QAqodYAPO6+AE0LrQCAMJ8AwmCTAKjghACSb30AasR1AI2qdABBfnkAha99AEmjfwCFFYcAiK6VAKKjpwDcktUAcI8IAXGYLwEK3TYBfvRXARaeTwGZvD0BIn4oAUquEgEZ++QAs9OtAEtHhQACiXEA1h1oAJjSYgC+eGMAGyNfALO5XQAceFwALw9eACPWYQBC5WcAAWlwAM0FiwDnILUACgLhAODe+QDNrw8BRPkmATK3HgERzgQBkTDeAMuyxgCuRKcAJFCOAOqviwCFQooAFieIAM3xiQBEMo4AgKqIABY/igCqVYgA53aFADm8gABSbIIA24GHAG2SiwBffJgAe/quAK+zxAAYv9cA2TbnAKpB5AAoB+AAYIzFABpEpADP7n8AyyxxAKv5awC+73AABWR3AAT2ewBDQoQAu+WHAA4/jAAv9pAA782UALWwnQBCnKQAc8iwAPyVxQBcV+YA2bcKAXyFJwG37jcBF446ARalLgEEzDkBkhgxAcs4CwHw4eYAADzFAFrdrgA/IaIAA/+aAPkNjgA+rYcAl6CJABn0iwBJ54MAOKmDAJhKhgAVgYMAxqOLAAzKkwAG9aMAbuC4AIn01gAtZuUAYAXpAH0n6QBi+t8A2WfOAIjmugCPLqkAZcORALcJiQDSkIYAyq1+APSNcwBZynIAx8hxAJgjcQBMBnQALiZ6ANO+gAA0Q4gAtWiIABj4jwDthp4AtNyqACOQuQDTgsEASZTIAIBSzQA16MsAZJrEAAvOuwA2cLYAG4GvABOorQCeILAAVbivABl2sQCl46wAqhesAEEiqQDXSasAZwKvACs0sgDBlbEAgOyyAMGhwwDU1OMA3e0NAQc2KwGsb0sBdrlXAeIAWgHPJVcBHvI4AXbCEwFZo+QAlfWsAF5WhQAMpXoAAxx0AAHqcQDgGm8Ag5ttAJ6WbgC8yWgA96NlAEf/ZgCmZmsAXZx0AGUZlwBCvtAAtxQMAddYNgGgY1sB2nNrAWRjaQG+DlYBggM0AQDTCwHHrtsATUSmAK29fgC+3nIAKqltAGEQawCJZGYAsaNiAFgBXwDjPF0AK75cAL0AXQCTV2AAG0tqAJSjiQCNTLUA+KrhAGSmBgFi5iEB1T4qAZeXJAE0ngwBTcHtAKD/wQDQTpUAFc5zAFFqXACIclcAzexUALOsUQDC21EA/S1SANB9UgBql1MAhE5UAGX2VgDjTl0AyBNpAIF7jQA9nbYAo0/hAPK1AwEJCh8B6zgpAUV6IgHEaxIBaYDvAMoOwgA9pJEAtKFjAMDeTQAk8E0A0xhPALmfUQBqf1UAvctYAOqkXQCEYGAAAoFgADLEYwDHpGoAaxl3AEYykgCbCLEA5+bIABcM2AA5C+gA7xTsAIL13wCVTMoApROzANqAowAqXpcATniJAAcxegDKNXEASyFpAPTwYwA20GIAZupiAG06ZAA+jmUAR2NkACx+ZgBd4GkAhGtvAOboegCHh4gAlJGTACfPowAzJaUA2R+pAFsOqQB6EaEAqq+YANAjiQASlXcAC7NjAMn8WQDXXlcAPvtUAJCnUgDy5FAAOGxPAGdLUAB0KVAAEaZRAOoZUwApLVcAJ5peAItscQAg2pAAGN2rABesyQCSbusA7GX8AEEn8wADQ9wABqC8APJPpgAUmIEACEdfANX5TgDygEwAePBLADPiSwCSqkwAoGNNAEb+TAAUiE4Apc5PAJ3WTwD9IFMAYr1ZAEQ5aQC5I4MAoAWoAKRBzQCgZe4ASkb8AMWX+gBzju0A6JfUAJftuAD00pYA0FZnAOuUSgABqEoAs1BPAIeCUwA+pVgAeoVfAHElZQAobmcAYrRpANMFbwAkyXYAZ15/AGCymQABV74APu7tACVi/ADFLgoByxwZAfCo/QD4sN4A50zIAMlwugBLtrMAMVGuAJHJpACtKZ4AGpOgADJ+oAAiZKIAWISZAJqwlwCNxpUA4i6dAItvpwDumKwAnpmxAMsZzwABKPsAu+4gAULqNgGndkcBQN5hARUYZAGAtFUBoDxBARHgEgGRqtAANWGOAE9KZwCfC2EAO0loAEircgDIvIEAE9OPAFOKmQBgF6EAuT+lAGJapwAMQqoAf5OoAFhRoACK8KAA/GewAOY40wCqVfcAk/IMAafBAwHvU/AAwbbkAL884gA51MwAPTGrAD3WiQA0PX4A34SDANVSkgBQ55wAr9mkADKqpwBs/KYAiDCjAFapnQBUYJsAI2ypAHeIyABOct0ARxT6APcOFQG22yIBHggnATAqOgF5LTwBqGM/AVVFJAFyD/gAwa64AHHsiADlR3UAcWtuAKYobAAvyWoAxg5pAEKZZgDUx2QAVrhhANFIYwAAfWYA7S1xAOselgC6E8YAaGD1AFYpIQHL7jcB3yIqAZYaGQFeVPcATkThACzBvQDDqZMA5TttAI7iVACd+VMAK1tWAF38VQBEUVgA0f9ZAGcCXADMgVwApMldAMFOXgAfMGEARhBqAOZPigBXSr0Aq67xACqSGwGCaDkBXG1BAcygOwGtzyEBy9cKAT7m7ACpOskAFH6sAJxEmQCY+44AZBOFABl6fADwwHcAAxx1APMtdACsD3MAKTxyAAGOcQDo5HYAR759AOZ5hAB5MIwANlqRAAGjnwBeCKgAIU2wAL5srgCRfqoA1CefAF1okADkFHoApYBkAAOKWgC5x1gAgr9XAGRwUgAVWE8Ac6pOAH6ITgC/+k4AhLVPAJ8kUQBkk1UA4v5dAGfyaQD4OHsA/PmTAFu6vQBm5+oAgYUHATaBJAEbNxABT98CAaLS6gC03r0AwoaXAFogeABFmW4A/T9qAFtUaAAqb2gABqJnACFXaQBi32wAmMxwAMCcfgAuXIoAPDCcAMVBwAAY9+oABeIVAQnvKwHK4EIByqo/AdpENAE8IDYB+VY0ARmHCwHCd+YA2Tq6AIZokgCZPoAAUwB8AKMUfADu6X4AgZF/APYYfgCKqnwAjHx/AMDzgABruYUAoPqYAMQ0zADSywsBZuBHAbYVaQEmAYUBWDOQAbq8iAGWVHQBSfZVAeNQOQHVLA8BMwLhAF7FtQD04Z0AKUOSACjOiQADj4MAe0OBAOO1fwDgp30A3kGCAKU/hwCPrZcA6hOqALsMwAAzPtwAT4XrACRlAAHxhAQBhxQTAftbGQH3uiIBSaMfAYQLCwGhgOkAJJC+AB+llQCHSogAvZKBAHLUewA3ZnwAivB4AKJGdADcWHQAzXF7ANtTdQBKO3UA3PCHAC/bqQDn5MwAe4PwAFJpCwHecBoBULoiAXozEgHHOw4Bli7nABVauwBJZJ4AFKB/AGJ4cQBSVW8ApgJlAO1iWQDjtloAkZhXAAPgUQC4fFEAkZpSAJgCUwBsklIARI5bAPrQbwANQ5cAkFTJAOY26wBOyOYARGi3ADl2kQAZz3cAF+lnAMVmZgAy/WYAbbdgACo0TgCsz0YAy5VIANFcTAC0EFAA4lxTAFJ7VAAaGlYAgaJaAMDmYQCULGUAsnV2AC3GoACqn90AbZARAQlJLgGBdyMB9LAWAWaPBwGWpNIA5FSfAPjEfgBvQWUAVcZZAP1pUQAaGlMAFU5cAMZ7ZAC3S2YAl01oABdZcgB44HMAuJN/APd/jQB3R5wA04GlALgYrwAFy70AD9DJAO3L3QDsM+8A51cDAVDO/gBCwPEA0yzwACCY7wCvQNsAO1K1AHbOmQDbaogAzAp/ABfEfgBdGXwAuh5yAJ0TbQBN+m8AUlZvAG8zeAAfeHgAy9aGADlCpgDyDNYAiv4CARLZFQHEriQBqxA5AR44OwEgWC0BonIlAQZR/gDqV9QAJxysAACefQBmIWQABy9dAM+SWwDIgFoAuPVaAHCEWgCErFoAO6tdABlJXwCxq2UAPPp4AEq3lAAwdrEARALDANBsyADXC9kAVE/hAKG/3gD2Ns0A6wLGAClauAAoYJ8A789/ANokYwB5f1MAq89PAPS8TwCM5lAAVqpRACyLUgDHQ1UAyl5YABHiWgAk/2AAKbZ8AG70qADaONwARvMDAeWNGgHxWyMB/KYuAZRUKwEwBwcBNYTeAOjhuwBJ0poA0HtzAJ1MZAAubmcAHkhwAJbKeAAK7H8AgmaBABj7gwBwxYAApb19ALTWeABujnkAIT97AF/ijABIrJcATmqlAP05tgDB48MAsES6AKEhsgASKLAApjKqAFqYmgCws5AAHPF+AGq8agClfGgAvpNtAAe2bgA1XmwAaDBlAJTWYQA4W2AADlVbACLfWgDXUF8A5mBnACXTewAPu6cArqDWAJrN+wD5CgQBMKMEARmIEQE/fAgBFvnnAFQ6ygDXC6kAO9KEAFqhXQDacEsA4vNGAOvhRAA/6EMAwIpDAEi7RACwukYAu6BIAPHjSgCwbFAAuTBpALmzkAD2VMIAhK3tAJqIDgHpMygBVp4zAb9GJwG4qg8BzrrtAOq4zACmRZwAsR5zAOtDUgBfGUcASERFAHM3RADdNkAAZUZBAGf9QQB4b0IAoN1BAAwiQQB11kAAiX9NAA/YZACRT4EAu0yeAJxIyQDnKNkArl/lAIhm0wBh7NoA0IzHAMG7sQBs+aAAnnx6AFNKWQDke0cACeRGAJSnRwBXjVMAHaFkAAI1bwCiM2oARgNrAMBlcgBK5XMAliF5AMQFkwBOVqwA7RrBACyR4ADnafQAv3UKAWFIEAE/AgsBjXv7AIp51QD0daUAbFeDAIgPXwCcwUcAo7RDAKVLQQBPaEAACCZAABnbQABHnEMA4CpDAC3hQwCz5kcAGQBjANIckACmQsMAB5fsAGjVDgG/XSYBZts3AYCHQAEjpTkBo5cmAT3NAwHk5NkAyNymAIpxfgA5Om8AgRhxAKHLcgCrGHMAF/90AIXNdQBlqXEAdolvAIAhbQAGAG4A0TuCAG52qACR1NYAp0MFAZcwMAHWAFMBs3ZrARzCawFuCVIBkccyAYJl/wCgSsoAJSWdAIVXcQBoLVsAtjlYAM7vWABoslgAl1VUAHm9VgCvSVEA7llOAP5FUACzPVAAu5teAPnlhQAb+7MAyyjPAHsAzAAmGKUAEGGPAHQOgwBZ920AITp8AMwjgwDw24UA/eNmAEpKRQBsNjQAU10zAOQnMwAFrTMAn580APtaNQDGjTUAlwE2ABEJNgBEwzgAGdxIAElVagD2wZYAAVjFACIe7QDZ+PsA2dfaAFQNyABpLLgA4KGkAF7afgCyOGoA8BhTADkeRQBgLj0AGLg7ALyDPQBPUz4AVMs/AJCJQQDkYEMAmkRFAK14RgDkj0kA2oZWANYPbACz84gATYqxAILI3AACFuUADuXkAJU80QC2M7IA/UKdAOioggAGAXIAd49ZAODsRAA7rzgAWy04AFDnOQC0IDsAaHw6ACuyOQAWZTkAoWY6AJHKOgAKzz0AcPJMAPfcaQAtlIEATpWgAFWzwQD0wd4ASh3jAIGE3gD2dskAT4q1AOYEjgAm7XAAxk9XACQGRADTXjgACqg3ALbyNgCEyjUAfj03APOpOgChZz0A03k+AGbcPgBHIUMAM8tRAKLyZgCso3cA12eJAEv9lABfkJYAH/uSAIu/kQA0rYMAUsV0ABC6aQAjUl0ApV1QANfyQwDrAT4AmAw+AB8sPgBmYD4A5a06AAqCOQAn7jsAUs4+AJkhQQAjiUEAKbpGABhiVgABwmsA6H1+AGVgiAAHtY8Ai7WbAAlmlwD7KpYAOTGIAMdidgCEcmIAKexSAITDPgAU7zMA6MkxAKf0MQBQPTMABHIyANLAMgBYWzMACPczAFO9NABiKTcAi5lBADp1UQDOxWoAE1iIAKFmngA4wrcAIdvCAGBl0gCWarAAdmKcAP87hwB9mHUAPuJfAJxrUAAnBEgA2ZRLAF4BTQAjU08AM5NQAJWhVQAXJl4A0/9lAEW0bQCZz3EAScB8AEJFjwCeXKoAgB7RADPp+wCtPhQBfRMwAQhALgEJ3CsBY738AJyF3AAls7QA99OMADrmbgClqVoAXplNAKY/TQBL4UMAATBDAI/JQQCOs0MAFyxVALe+WACtyVsA0Qd0AIHhoQASlN8AZcMRAS2oNAEk+lIBdFxcAaOBTgFRizwBpPAvAZHmDAF3susABBe5AEcdhQAPk18AskJSACgOTACJl0QAT5xFAN5zRAC2IEMAKwBCABqLRACXN0oAQIViAFSVgwD1aK4AQY3YAHqf/wDPdh0BIjQgAW3eAgF7+94Ay2DLAOqQswAYjpsAXct6AIBpVQCuOD4Ad2M1ALoZMgBuYDIAq/wyAMzzNACQ/DYAKVI4AHtxOQDk9T4AwAhNAFqLaABZEJMAH0HFABDN2gCmbuMAztjgAGSe0ABxFdsA3aTSAMDhvgCiPacA/dKiAM3NmwAIy5kAmEeZADlzjgBbgH4AF25yACXjaAB1bGIAFQ5eABeMXgC102QA/Ml+AH+6sAACG+YAVXIGAabMKgFKnjABSBVCAUhKLQFtNAwBrebhAKRewgDPjaYAiFuKANlVbQBZXlUAQ/FOAKkJTABcCE4AzcJPAOg5UQDGoFIA2KZSADfGUQDitFgAU3twAA9nnwBOl9MAYCv1AF1vGAH6ijAB9txCAT0qSwF9A0EBYxEjAfjS8wCJ6csAD16WABWuagD7Y0sAZeRCAHq9PwAQYz4ALzg/AL3QPwDPd0AAcNhAABN8QQAp6UgA151iABkjhgCCYbUAQcnYAP9m+AC61R8BnhI8AbDZPAGslSkByIgLAfrb7gD7YcQApJCbAF0SdwAhv10AKR5TAFpIUAAL/04AJJ5OAL5cTACtxEoAi+xHAD8qRAABNksA9/loAPC0lACui80AveD4AHzQKAGoUz4Bv1VPAeehRgGlQUABCNckAR5dDQGl8+cAcbTDAPNooAAhNooA8s6AAGFjeQBITHIA0gRrAAXeZgAKhl4A2iZZACqeWAAuOmEAf4qEALu6vwAiePsA6yIuAepVVgHjkHABMu96AWgDYAFoDUYBwxotAVFSBQFGYuUAMAjGAB0JnwByXHkAlSVoAFllXwAVIlkAKblTABBuTgBiiEgA4bJGANhbRwB47ksAnT1gAJvDfwAwLqwA2AHjAEXkEAEV3C0BHBJIAWY5TgHbDzwBL/kkAVSZBgHIctEAcvibADM4bwA2XVUAdDZNAJPESQDAOEMAo/Q+AGF8PAAKqjcATkU3ADWfOQAORUAAhThTANBQaADHo5EABvPHAPko6gCkuQkB184eAZjfJgGwwyYBOb0EAQ1B9gD4Dc4Ajd+xALsIfQBWj2sAxgd7AIvGgACGcYAA7VmFAPleigBE3osAY32PAM+QkwCcj5wAlRKoAIc2tgC3KdYArl8AAWCUJwGg1TwBNV1IAXCYQAElNTwBwYwqAWDuDgEnAOoAwOK6ALH3igCs9V8A2dJLAMwUQQAyBTwAtDk7AOf+PADpjT4AWck+ACirPwBBgkcAWIFgAD8zigD1DKgARN/QAFsI4ACrsOYAdb/VACOX0wAENtIAXk7GAEA7qwBvOZcAAFGBAH+QZgBb+kgA7ItBAHfcQAAycUEAGQNBAEVOPwDKZT8A/iw/ADY0QABiEkwAf9FoAK1LlgAgHccA6uPjAA5r5ABqivkAVVgWAXT8IwEN4jABgEQqASe7GgERUPoAwNjJADHUoAAhE34AG5VuAMK1aQCoLWYAkuRkAGVVYQCXJF8ARTJhAP9vYADK7GYAdt+GALvRwQBZlQEBcJo5ARtkVAHWgW4BL0V6AYhBeAGid2cBhOxHAV8XMQHqsgMBXwTQAAOWpADez3sAbQpqAEPvYQAnIVsAH/BWANaKUwDk1FEAuJpOAI1NTgCwz1YANhl0AIX4ogCT49QAuP76AMO6JQG1Wz8BSK5JAe+lSAEDgDUBpsweAYb9+gALo8oAjNyYAATRbQCRf1AA5YBFAD91QABrk0EAYutBADrxPgClpj8A24lAAIYmQQAwYkoA0qllAI+zmgDhEtgAU0wEAQnzKgEeYEIBV8hLAbrBWQEN1VQBqKRCAfezIwH7UBABQmDmAL2qugDpp54AQfCPAGoZiABlpYMAaY59AMdMdwDY4XMAjoVwANO3bACHb3UAC5+WAChdywCMZPwAMTQmAdjEPwGWDVYBWg9hAf1YXgGm108B7rY8AQsIHwGEvgoBpYLgAGqltACsapEArjx/AJbjegAZdnoATER6AMbjdgDS53EAZUBpAPRkYwDRqWgA1Zl4ALbRlQDv4bsARwroAORiDQE0jhcBe+shAeTUEgEMTwUB9+bwAA3D1wCD77sAb1OdAPohhQC2Pm8ApWBiAMFRXACX8VUA82pSABWVTAAuqEsAEQxLAOY+TQCbRVoAtOGBAB+HvQBfo/IA6B8dAe89PwG6tGAB/WxxATpadwGz8W4BkOFWAag6NgHXyQoBBDbaAMtTrABcdIwAKEuAANJofwBLenoAshh0APSJbwBfxW0AXE5tAFPNaQAscGwA6Sh8AH5klwB2RrwAxD/qAEwCCAF5ChkBvvgoAfDrJgEAYBsBLIb1AN9r1QAn9bwAIeSjAD87jgCjn4AADTR7AHVSdQDNw3EAH65wAALhaQDmTmcAYyNjAAE0YQC43mEAdz1rAHTufAD8XpgAx6q7ACce3gDvvQIBt2UWAaR/KwHmOy0B+t8iAUxiAAHfZu8AyCLIAE3fngCoRH0AG3lvABk1ZwB/2loAEalTAFKmTADwbUgAQKtEAEbLRAC5uU8AMxByAITuogAD99YA+EwEAWLSOgEXjGEBfUdzAVWMdgGQQGoBa29SAd1gKQHknv4AP2vaAC5/rAD9PIUAxrVsAGvSYwBBxl0AqItWAOHMTABYT0gAzAlGAKb1RAAGQlEAJARyAPOKqQB/Et8AfeENAc5aNQHJwlAB0MNXAS3DWgH6A1EBhlE/AXV2IAGmQvsASk7PADsbpADPVoMAZXRtANz0YgDTcFkATSRQAC4MSwBkaEgA8b1GAE40RwAr9lIAQppxAOCooQARoNQAjP8CAbcbLAEeZkkB7ltZAYy/YAHwu1gB+MxAAY5pGAHiCO0AY6W9AIefkAApimwAWTJeAEDEWAAtFlYA0ddSACCPTgDc8UwAiJBLAEmCTAD7uFcA+Bh8AB2xtQCKougAr2cZAZpxRAE95mIBG+BxAWmXeQEBoGwBX2hLAadfGgE1rfIATrLDAIfxlQDdQHYAKjNhADB/WgAnvlYA1VVTAKq7TwCtZk0APaZNAF/VTgBu1lQARQdrAEpmjADRergAeCrqABSYCwGoXRgByxIhAYjcLQHX6zwBq+wtAZlYBgH21NoAWke5AKbskwCsXHAAAM1gADKAWwC7PVkA5jNXAIkpUwDAnFAArvpPAFrNUAAOM1gAx/91ABO4owDTOdcAQV4KASb+KgHBOFYB+CBnAdBOcgEBqmoBSehUAbo7MAHnbAUBhUbVAHmHqgBSZ4YAr7pzADF9cQCPGW0AByRoADf9ZAA9WmQABlFjACbUXgCiqWUAp3mLABsmugBVsOIAji4NAWnxMgHfO0kBW3pgAS/fZgGCL2MBEVlJAcQsJgE02fwApYzNAC91ogDa3XYAkR5nAHmPYwDcTmEAfBpjACiVYgDhNV8A8ElbAFdDWgCy5GgAAYeMAAs7vgAoZe8ABYsYAUn6OgFJDVYBDghiAcugXQEaSVIB+UQxAdBbDgH8uOUAWa+5ALvAiQCeK2QAyqNVADRWVAAHe1YAtlBVAG45UgDv/00AvZtIAABGRgAXxE8AB39uAGAMnADnrMsAMOPyANASFwFAczIBItNDAYz2PAH80TEBN0sXAc7e7gC+8sMAhwaaADWdcQD2cU8AJTZDAPN/RgA280gAF6lKANdFSAAGxEUA7YxAAGwZPgAYuUgA/JFnAILLlQDVRcYAB1D2AOMNIgE9WEMBmGJOAfVJOgFoKCcBd9MaAf4V/QC7994A5yKyAO3zigDGbmMAb7ZUAEttUwDZZlMAMelOAJ+3TwBoAFIAczNTAANXUABQHlsACwV8APE/rQDSh+QAOjoZAUeKTgEyh28BEbN6ATu9fQFfh2kBTmRNAbAzKgEVRgQB0xbYACVMpwAXm3wAlKppAO+FYwBq31sAj0xcALpiXABHE1YAt+NNAB9sSQDIRVMAsFJ2AEq6qgBc5uEAz8YaAfyJSQFQkGkBj5Z5AcPKdgG6TGUBW9dFAWfNGwEb6ucAJPO4AMYMjgA5z2MAI/VQADLXRQCUm0QAUFJCAPryOgBM8DUAFXw0AM2NNADow0AAmd9eACjujAAELL0A4BLqAEcqDwET3RQB6aokAaayJAFNWCIBDF4WATf5/ABHXdcA/WCnAIBldQD700oAGck3ADxTMQA8jy4AsmAtAEDNLABkMC0AX34tAAOTLgDQJzoAut9aAOB3iAB7QbkAqoTyAC0EFwExyzMBrChEAbQmRgExMzkBpjgnAalWAgE2XdkAcJigAFKTcACkfUgAaLE2AJN6MwCO+jAA0REuAOipLQDDmy0A+dUtAD/+LgB+lzoArW1YALJEggB4BbUAKhHnAL6sDgHjpSgBDyUyAVDfKQHpURYB6RTuALRXwABKC5kAGIhuADB9TABUsDcA2fwxAPVIMQA4cTIAOUw1ACMFNgBHQzcAqNM5AIxhOgCKqkAA/5BSAPxdcgChGIoAQ1GpAKdHtgC91rIAwmG4AAXwrgBNbKYAnY2PAEQgdQBP83AADhhfAEn+VwBdSkgAh5BFAGlxSABJi08AIalYADr4XADCb2oATyVyALJjegBcYoUARueVAMeSpQAhkb0AUnjVAKFt+wBZ5R8BaaY8AYBmSgETKz0BoiQiAX488wA4ubIA0xp0AA87RwAVmDAAMLwpAJJ6KQA95isAeh4vAK1CMwCS6jcAiII5APBCOgBL30IAIwJYAIgUfgAKK6sAvRHdAJjqEAGQEy0B4j03AT35HQGFAfAA+WDFAHiLfgDAPWMAYRNVAOMRRgC5lj0AX1E7AIE3QAC8eEMAuDpGAD/fTADdTEwAxcdGAKfsRAB0BE0AQcNlAIpAlQAUEcoALe34AOCmHwFt9jkBwOg5AbDQLwGkGTYBOcgXAQoe6wC3Wb0AHa2GAIa2VwClGTYA/KkqAF3gKACXZygAa58oABRGKQDzhSkANLYpAG+TKgDv8DQAeN5QAFb1cgAIkpkAltnEAOegzAB0QLsA/VafAN9bkwAUBIIAjBt3APmscgCM8moAWSRlAHKKWgAgiVUAKpVSAORQTACcRUgA1HlFAPdIPgAnDzkAPfk2AALjMgDxKToAr4pWADdegwBMO74AEZjtAOQSGQFwgDABC2A4AXBhNAFNRiMB49MJAePG4wAyxLUAZ198ANRsUABbfjcASZMwAASJMAAqcTAALxUwANJiMAAv9jAADScxAEijMgDOXEAAiBxgADyligB+w7gAC/DsAEkaEgGvNDEBlDE2Af3SMQEGVhUBR7X4AP/BzQAK46MAJcF7AL+LVADTfDQAch0qAFGmKQB9lSkAHsYqABIXLQDbijAAUPMyAHDaMQBxZz4AQGJeABjEigDwErsAWBrpAAPzDgF/TigBk8g2AYlFOAE3xScBJaEHAW6s3wC9n7QA1XiGAKcFWAD3UjoAzDU0AOevOAClhkYAvGFSAF9qWwA7umIAaMphAB0pXgCGE2sADnSPAJ7yyAAJSvwABVciASgdQwFnxlYBjcJkAUL+WgETIUwBx/0sAb45+gB0/s8AGtmpAKNMfAAMkVAAxlU9AB7aOwCV+joA0Zw7ADO0PQDw6DkAa8A6ADWUOQBgI0IAKCdeAMfbjwDe2rsAeMbRADut2QBAqPsADKofAZF4HQHwcgoB1qH2AA831wAveJ8AGwRvAE91SwCPIDcAH1IxAIQkMgBYCzMAbS0zAKF8MgA6+TIA3Zk1AAg8NgAUNTkAFwVEAJUuVAD9o2UA4XF4AAvDkAAHcqYAqXXDAGxXwgAtFrMAbmSeAMpghgDb4HIAXfpaAGqTRgC7AzsA6O03AH2NNwBmPDgA5e84APzFOQD2Sj0A4uw/AAKEQQANX0YAXhFSAAUQZAAIkYMAn2GeANzYtQBAX8YAM3jGAJ7kygBzgdYAwNOzACIKsgDmCo4A3uF2AEzvXQB3WkkAX+85ANQKNAD60DEAeqIxAAKhMwDH/DQAHyw2ABHxNQC9+D8A/sVgAHi2kgCzlcYA2nf3AH3yCgEVfxgB90wlAQsAMgEC2CsBYXodARrz6gClpMcAWTayADXomgDBc4QA3/J6ANR1eQCnUn0AHGiCABf0jAB2MZMAWPmUAF0OnABwS5cATyeYACzwmQCGbKEAs8msADlrsgCV6LUAsCzGAGt9zAAqccwA4LzIAFpdxgAeu6sA8XOMAPDNcgCUlmAAEiFcAMGAXQDLBGAAdQ5lAMtRZwAjGmYACMJlABGKawBkCncAWSmXAKr/ygDHq/gAAfEcAV1eJgGSmU0B2JReAeJAWwHAIE0B4CY2ATZvHgHpEuwA9YrCAATJoQCVxIUAIO12AHc+cgCaYHUAZEZ0AFiMcwCo5HQAyql3AGU/dwBEfXsAVXiMANzrsgDri+IAboH4ALB0DgEwkxQBsHY4AWlRLgGHdQwBfXH9AI3BBwEg2OwATrvHAEDqpwAQVKQAov2eAKgKlgDAqYgAD8p8APkVcwCb0W8Aio5wAMZgbwCDcHAA1W6JAPn6tAC2iuQAX/T+AMmNHgHDIEwBqKRXAeIaSAFRTy8BciT+AEcSygA8TZMAcr1fALQrQQAVJzMAkhs2AHVMRADNrFMADG9iAC4/dwCj3n4A4J+PAFbInQD3cKYAOZ21AECnwwB7kNAA+STIAJYo8QAhJggBefgvAVItEAEzOCcBZcMZAWf8DwFYZO0Ab2C/APjAkwBskWgApRxPAOpbSgCNVUwAnzVLACs6TACtoUkAotVEAHHKQgCAH0kAactiABHKjgB1OcUALsLlANZIBwEFAw8BQusjAfZGIgGD+xgBtL4WAVSK2gAn/68A03KDAOmKVQAKxzgA9awvAN3zLwC70TAAzicxADU0MgAe6TMAiQQ1AN+YNgC9mUUAM0lqAEbGmwBGH88ArbgBAWKkKwGKhEYBiddSAavVRwF8YjoBcXgaAc2q8QDJNcUANtuXALTzbgBub1UALuhNABzdUgBCmloAeIViADjTZACnI2EAVlRcAB1NUwD0RVUAzS9yAJy5oQAMjNUABrQAAf/fIwFcpDYBlcJGAcj+RQEDyjABj2L/AMynvQBuXJAAoqtyAItVTACBVTYAREwuADQMLgC0ly0AdWstACZiLQCgdS4AitQvAONiMgBbzjoAw2xVAA4teQDAoacA4U/SAFuD9QDiUgsBrJoJAc9v4QDN860AjlKZAKOjkgBA44QAdDlkABLsRADKIzAAhYEpACMfKQD2vikAi+QrABfaLwCx6DQAvX41AG01NgCWFj0Af1NXALQmjAAnTcsA7dv/AIKrIgE6oDYB+q5GAWE7RgGMZy4BnwAPAU+u4gDnHa8AWBp4AKG1SAArDTMAvycuAMoVLgBUKy8ANCAyAP0RNQCCfjYArIA7AHmYRQAvQVYAhA9+AElMrgDtDOwA7j0kAVHtVwFZsm0BIGlyARG1cwHUyFMBimknARI9/AAMKMkAuPegAOfWewDfulYA10ZIALr4RABIgU8A2mxWACUHXgDyJ2MAKoVlACRgZQBV4mwAejuCAKDxoQAalcQAPdvjAIZUFQEdJ0ABeRhYAV6EZwFUUVEBTURIAZ2LIwG6J/oA4fvTAAcVqwDqZoMAViJvAMdzYQDDKlIARuJPAI/SVwD8IVcA/rlTAAagTABl1FEACkxtANiHkgCxIbwA7OXcAE5iAwE+cCIBpZ49Aev+TwFbzjEByiokAYatAgEqN9cABPOkAFyedwBTNFcAvFZJAFulRwBNRkYA0AlGAOuYRADcqkMAxKNBAGXGPQBeW0MA865eAA55jwBNo7oAEmveAAJc/AAjG/wAYsruAFIi5ACuetsAQObGAETHogD9y38A8OtpAP5bWgBXJFEA4RNUALuoVQAVy1kA5uFcALHWZQAuemkAyH1nAMN8ZgDslWwATfiBANyUpgCh2dcA8dT9AJu2EAG3EwoB4gQiAX8PLQFIbjMBphgwARKqDQF3DPEAe0HPAM96qAB/2IkABSN7ADfAegDcAXkAoVx7ANdBgADEn30A14OEAGnciwDzFJYA2663ALu65QA46AwBz3IhARRBKwFAoiUBlUUhAdzvNQHkOEABkX0dAfTfBgGHavIA43XJAFs/mQByPXYAz2hrAPtwaQDzrm8A14h0ABsTeAB80HYAuyF4AIpucAC/rnQAOk+SABNhyQCeq/sAnzYcAajnMwEktUcBZ79dAXe8JwH93DYB7uQQAeccBAFOFwUBcTnXAOmtoAD+LWkAcZBLAONfRAC5OD8AqQE6AEDSNgCN9DQAkfMzAEP9MwCN/zkA5EFXAEC3ggAz4LQA5+HjAOg09QBTWAABzewbAW24EQFcwhEBX/fvAOGyyQBKkZEAVaVcAE54QADkWDAAOdErAJ7PKwA9kisARaUsAKwGLwD/oTAAWyEwAEnaMQDiIzgAZKtJAHZ2aQBJBpEA/vqwAK5y2QBJRdYAw13qAOTi8gC/I98A+g/SAPSxsAC4E40A/zVoAMxnTACPtD8ACFU6ANoeOwCL5zYAkcM0AH1pNACYQjIAx7MxALK6MgB/FzgAv7pSALaNfgDXeqwAY5XHAIXl3wBms+wA8/H1AK4R6AAl++IABELRAI+FqAAfcn8AQHleAKKSQwCBXTMAQM0sACpqLADIICwAd58sADTZLABBDC0AdbItABdHLgB3ZjQAiXpLAGnUbQAsAJIA4hK6AMAc5AAnrdgAHdvlAD0N7wANguEADSzWANI43QC49sQAGUKeAOa8cgCE4U4AQglDAOssQAAG4zwAz2E6AIKMOQCDSjoA4o86AE6sOQDhGT8AMY5QALE5dAB4mp0AOvO9AJQi0ADhUNYA2BrRAHeC0AC3C9MA3gDQANXFuAAW8aQAw7CNAP4TgACoBXoAA7F4AOtOdwCmwHgA8ax1AGQTdgDdE3QACrl4ABtwdwAWB3sATfKLAIHwmQCTvrAAvM6/AMaw0QDTSNYANinuAEi+BAFTshcB1+wfARMDFwHbBe8AGd3SAO1npgB6UocAtGN9AH9JeQAhiHYANgJvAE++ZwA2ylsAWC5VADCGTgAOS0oAgDBQAE6cbAC60JYAiYW6APcT1gCAtfAAKI//AES0+wDDbO8AbzfWAD3eyQBi5rQAvhaMAB4FcACLB1kAgsVIACbRPwA3rjwAqvQ/AMkoPwBYK0QAhHVCAHOaQgCdMkYAkPpZAIQmhQDy5rsApaPnAF0Y/QBquBABxEshAZ2jJQFLcCoBfFYJAdLK6gBsAMcALGaaANA4agDygUsAbEBBAMPbQQBb/UAAJ/BAAJV/PgA8kzsAzkg7AFCWPgB30kUAOLVWADCFbwCaA5AAcz7YAEfNDwEg1i4BzVEuAYfgLAGDEToBeHMmASNx/QC03dcAlhWfAP3jbgCJkVMA2EBPANQ9SwCEU0cAc7JHAK2bTAChd1IAEUZWAMcCYAApamkAtfR3AAznhwBfZZkAWVWlAHzvswD28bYAoti+AK1PvwD0xLsAqbK0ACUfrABm+6IAQdKTADpFiACCOHwAtYd0AIgAbwAtAmgALDVhAIhpWQCHJ1QAEHtNAJCnRwA1Q0QAyDZNAN65XwACKnsA5+SRAEkfrAAAi8oADczrADZ97gDNCuoA3vXVANRnuACzoZkAt4x6AMCBWQDjO0cAD4JFAPLuRQCIkkYAzRFJAFRTTACbAU4A+1RTAJFqWAA8j2EATJdvADY/jgB7jb0AuKzdAHdh7QDq9vIAigT9AJWMDAEPXRgBp30rAb0DAgHPvesA+kO+ABEtmACG524AIn9gAMsRYAAPMF0AvuRcAFKMXQC8+lkAE9FbAJf4XgAoPGYA/Lh+AEJ6ngDq08IARabsAOgcEAG+LCEBE44zASj0PwHj7kYBaD4nAf4NAgG0TN4AWIOsACiQigBY9IQA+vR/AGaegACIYIcAcEiKACbZjgCVYYsAdJGEAFriiQDsXoYAObSLAFHQmgA4S7QAxODLAKLY3ACPweAAeGDnALwC5wDXw9cAAqbIAGtXrgCLDZsALcWPAL5XfQC2O3QAPuFkACylXwCNtF4A6aRfAEAUYgDY4GcAf8ltAPyJcACNe3QAb1yIAAmrqQCfM9AAYKj4AMm7EQHAwjUBIe08AYbZSQFO8zgBejUrAbobAQGias4AKqCoAJPShQCvRWwAlFpdACgdVwBkdk4AdglJAPovRwDWEUYAOZxGAHvgTgCD61kAVZFvAB9fhgDurZQAT9WuALWpzwB8iPwAZyIcAdLXPAEF+0sBjYAsAWno+wDiCOAAdn7DAGkOnAAP64YAltx9AFR7dAAmTHQAj+x5ADCbdQD3+nAAq5JtACXpbQDX3WsAecd1AL/qiACC2qoAkWzUAJm+9gAsXAwBCzgNAYuvCwEr3gkBNSXxANtr1wAjtbQA0RyMAJ1mcAApilIAnrhFAIvxQADoRT8Az9hBADH3QQBvjkEAbGBCAI1XRQDgsEkAysNVAAcmagD7TZEAMQarAP101QBPd+0A2RoEAdsLDwFcUBIBuSv0AIoszwCAmKwACLqCAO2mUwAJIzQASaYtADLBLADlISwAb6wsAEoBLQAngS0Afj8xAH8mNgBIHjoABT5NACHGdADlSqkAUJXTACKt9AAnqPYAAHnZAIvgrwCU65YAW56TADVFiQBXioUAMj5kAApcUgDzz0oAJ41EAGZ+RQDDb0oAK8dKAAR4TQA1BlAA6NhUADa2XQCLe2EAeMFoAB+BfABTb44As7aeACJitQCRTMUA+m/NAISm0ABj+88At8fPAGnQ0AD5Ic0Aa3a3AJ3NlQB74YMAkQN/ACacggDhmYcAusSDAOEuhwDelY0A+96PAKT4jADplIoASJaSAFTppwD3OtUAE3oUART4PAFw00gBRDVPAVGkOQHdkT8BIp0lAV93BwGn7OkAllbAAJR5jgDFAGwANThkAFrKYwBaG2kAXoBrAIdVYgDCT14A6UVfAHDmXwBDxGMAiz52AMsarwANaOYAFQIJAc3hHwGqlzEBvpxTAWUUWAEJC0wBKSUuAbeI9QA8X8UAfTahAHG4cgBBp1kARMhNABeHRwCp00QADKZCAAyiPwADiD4Ax78+AAyfPgAvbT8A9edSAOYjdQAmUa0AUk/hAOVXAwHfUxgBsU8kASz/PgGxcUABUW0lATSV/wAEMsMAbGyFAHSTTQD5UjMAqxEwAL2wLwCP+C4A0pMvANH8LwDpKC8Aek4wAPMpMQB4NzMAzChEAPgcagDYNJMA6n+tALsGxQDghdsAVTDxADo8/gBC/e4A0+7QAN7WqACr2IgA+lJgAAPbPwDGwDAA8MMxAMo+NQCNDjgAVk47AKB9PACFbzsA/NE7ALlTPQBLtUAAU8VUAPBNfwALSLYASw7oAAruEQG6dDABldM/AShpPAG4bxgBuhPsAHT3xgDRn5oA1mRzAPpiWgCgGksAgidEAHdlQAAMsj4A6Yw/AJuXPwDWTT0AGls7ADH6OgAO0joACjZDAB/aTwBy/loAQ0xtAPGDlwDT8swAVPIDAQ30MQFiNkwBUHc5AbckGgH/0u0A4nbDAOMUjgDdPHMAbQRrAALaagBAKGwAy5htAHXgcQDKa24AghtrAHoIaACnjmEATEtrAA4ZkQBvFsgAWHDuAD4c/wB79QUBtZP+AMxI/QDp3uUAzcrSAKIEygDhO6cAoyF9ABQ5WgDOrEQA3+5AAOqfQAA57kEA7Y9CAAEvQABMcDwArwA6AIDhOACYnTsA63ZOAOHnZABe65EAiFDXAK1+CgHYvSgBIKcmAZV9KgELjRkBcmL7AHOXxwD22JMAYmxhAJDOPQAKVzIAXb4zAGWXMwDN0DMAudU0AMWGNgB2ZzQAoYI1AIxHNQB7CDkARMxHAK4EcQD/AKgA/u/QAE/I2ABkguoAayoDAdLtEwFdIAwBSdn7AH14zQDkiasATe14AAB1RQArji0ArwArAD0uKgA7EyoAC6IqAONJKwD8ySsAwqQrAOznKwAXCy0A87k7AJznXQBnvJEABvnEAAdk5QBXigEBpVcWAUDZFwGQafsACW7fALRAtgCYBpwALOd7AFbHaAAIW2AAp+BcAO7gWgCU5lwAV0lcAMwwWQDC+lQAHZFQADjCUgALm1YAFClmACKRjAB1c7QAcgriANsr+QBWmQIBtvX+AOro6ABMzswA+9uwANQ3nQBaXY0A4lh5ADCqYgCSolQAakFNAEBnRwAOa0QANZpCAOkKQQBV0j8AgUY/AJi2PQDUKz8AwntHAJfXXABPa3YAsXyVAFcUqgCfkcYAsqruAB6FFAEqJQgB79neAJjLsAAvDokA7YViAOBdSQAMH0EAZJ1EAGaGSAB4r0wAa7NTAKioUwDpn08AX6NLAOYtTAAM+kQAFnZOANUNXwA74XgAjg6gAK0fxQAhedsAxDXSAGBlvgAs/bIAfGnOAIwd3wAnZNAAAEuaAMpnYgDHUUkAtLU/APfuOwA7YDgALVI3ANtkNgAWOjMAE90xAOZQMgDpijQAlFZCADHIbQCa06YAAGXdAJZKCwE6XCYBCOYxARrKKQEqxg8B7tDtAIOmwgCvKJMApd5eAD9xNgAKpCoA9QcqAB+yKQBNjikA2sMqACMuKwDCnSsAh6ArANlVLACNJy4AVdU6AKwHXwBc55UA42LHAKlX7gBJ4hIB8QYkAb34FgELJQkBVZTlAKQXxADmrZEAj/ZeAJSqNgCKJCsAICQrACMIKwB2/SsA2c0sAJFBLgB/Fy8A2SswAHOkMQDgFTUA9XFDANA8aACbvZsA6gqxAKOP1QCpUvAAKA37ANhW9ABAwfAAnJTjAF1tzwDZXagAzOhwACsEQgAGfTIA5a4wAJOtMAB4/TAAgmovAEyDLwDmnS8AuhkwAGMEMQCB7TEAcWo7AFtkXQBmVpQAK47MAAA39gDDag0Bk1sTARIuGAEhvwEBQnrvAHKOxQDTTZUA0TdhAABZOABJ6y0AeW8sAC4MLAAeGy0AGCAwAILtMgCg4DgAfrM4AALBNgAVUzcAKTtDANlWawAfVacASQvGAK8usgAcKXsAuZt4AAV1ngDyypEAmEJpAOSXZwAKh2sAB79SACo7RAAIBToAzb43AIAFOgClCjcAXrI2AEAyMQBtDS4A30EtADOALADwBy4ACWw1AEExSAA03lIAxlZnADmSbwCaFHcAmZaGAO+tlwAJo6UAxC+SAM8VdgAvMmEAd71LABM3NwBBUDEA3JsxAAdONQAT+zkA6KM6AAjiPACQwEMABvRGAMV1RgBd8koArORbACoZgQCh7bIAS1PoAIx2DAGF8yABfeIZAUk3AQH0dOAANX29AP8IoQC2aH0A8t1gANmRRwA92T4AzCU/ACeHPABETjoAUAA4ADZROQCJzjgAxLw8AEgKQADKKEEAQBpMAIQWaAB1zqAA27zPABzt8wBjwOUAmi/cAEcJ2wBHWO0ALDPzABAmzQAwALEAiWWAAJDsVABaWkkArjFHABhdRgD4eEgAOQFGAFvKQwAsJ0AAwJ49ADRrPQBIrDkAxA8+ADl5YADUP40ARCPIAOD81ABHAs8AqnzdAIyJ2gDtiMkA3tuuAKGxmwBN3X4AdWldAKBLPQBN5zAAPa8tAD0OLQCQDS0AjI4tAGNALgDqFS8AyL8vAJdPMAAeJzEApkk5APkIUwDzxX8AIDmlAM0UvACChsIAIAzWAIEYxgDqhbUAXRSkABDyiAC1wGMAV8NJAO4bOgA1rzcAxhw5AHBsPAAGzT4Aj0RBADrsQQCjr0MAScFDAFdRRAAGNE0AYAZcAJJMbgDXuXoAgm2CAFCEnQC24rgAvwzUAOCV7gDSZd4A17XVABQOvADbxKAAJ+ptAB7FSQBs4z0A7CI6APxQPQCYx0AAndRDAFsfRADuykQAGXJIAO90RwDdEEkApylQALSobQDRkJ8Al/vXAFza9QDzTgEBcWAcAc/lEQGy7AwBsFnqAIq8sQBmJIIANKlbAOEGPQDsiDUAPc4zAH7SMwAbHzIAgx8xAHc1MQCZMTEA4boxAGpUMgBJ2zIAZHI5AAioSwBwW2AAdRBsAOFBdQBc44AAeLabAKeZsQA8EbIAIMOgAIbyggDUYl4AB/hBANo8NAAHxDEAjWExAEXnMABmrDAAisowANCPMADbFzAAyOMvAB/3LwAs3DAAD/I2AKjpSQBDlWYAJPyCALkgnwAz/7oA8jzGAG8Y0wAco9UAYOu9AES9rABUbn4AqEJXAPr2OwBlKTQAeh4xAASOLgDp/y8A9oEuAGzKLwCqNy8A9wsvABHJLgCOhS8AT+c1APNLUADiQIAAYXy3AA2y5ABFY/kASSwCAcVu/gAjnPMA2lvMAPMGogCA1HEAKdlOAI8LNQDWOjAAYHswALGQMACjTTEAIVwxACI1MQAe4DAAojYxAF7sMgDbejQA7PY+ANJNYACm05AA0JfMACdL+AAZORQBEaAiAQs0GQFcIv8AM2HbADLTrQA/vnUAABBWAEgrRgDrZUAA/j88APxmOQCbOTgA4Dw4AAL2OACOyTcAZLo3AIWbNwAvtzcAVDQ9AG4mYAAN/ZUAbRPRAOAQ+wCVXxgBZb8mAfw9JgGc5hMB1G3wAOLDwQDD344AeZlYALfXOADN3TQA4D0yAPjcMQAOUDIASBAxAIPRLgAFliwA1DAsAC1ZLACS0iwA4FI0AOzNVwBEIY0AjcLGACUI9QC0mRIBQ9ogAR7uHgHedwoBK+DiAIzLrgCc8HsAfwZJAKP1LQAHuSsAniUsAIs3LQBQyy4Ax/8wABa6MgDVQjEAELsuACipLgCg3zAAHhc3ADOlWwB035IAAvfQAHG3/wAZdR4B3LEtAbMNMQFn2CUBc5n/APzOywBHL5IATKtYADXpOQDqGzgAxMs3APyVNwCi+zUARSE2ANvjMgD98S4Awg4sAPxLKwA6iSwAxdszACs0VACs5YcA25LBABEy6gDHRQUBDjARAfoNDgFQXvsAynnVAHwoowCoqGsA5rI6AD+NKQC5JigAQyMnAFCsJgB6lyYAK+UmAKpOJwBngCcAKuEnABsxKACFMSkAYKguAHSuRwAmY3YAYp2uAFHG3wA4SP0AgiwJATm5BQE0NfIAk5XPAH1joAAMXG0AzSc+AB82KwB9RCoAGDYpAPlBKAAgfCgAHvooACuWKQCltCoAV5csAAyeLgABsTAAOKc1ANzeTwA2X34Al321APdf3wAaqfoASOcEAZmX/gD6VOoAZeLFAG/hmgB3zWwA+XBEACTMMQA75jIA5YE2AOc9PAAg2z4A58M+APSMPACNMjkAgHs3AClxNwApjDkA4lFCAFCUXQDB+I0Avt3IAMdc9ABeDwwBCnYUAaJEDQEjf/EAxvvCAMVzjQBKu14AatM8AOweLwDzCSwAyYcrAICSLACS2CwAG80sAK16KwAoyCsAagYsAGzBKwAHpywALW8xAJaTPABXo1kAEwSGAGy9pgAjpsEAJQ7RAJjdxADAZ6sAYGOeACm6dwDW0FAAyh04AF32LwDZ3jAAfm4wAHETMgCKPTQAsj46ACiWPgBoJ0EATFVJAJKXXwACPXQA0FiKAL2KogA0sLMANc/QAIFT8QCPaAUBLnoDARyl+wAXPNoAZSzEAIEmqQBIRXsAYihQAG/gNQCW5DAA6ossAMQjKwCiBisA4ncrAAV7LAC7Ni0AslYuAD0oMABJ/zEAqEY2AIR8UQCufYMAcM27AOZR6AAWvPgAFQXkALRD5gC9ZNYA6zjBAOiMoACWs2sAISw+AGkMLwAwAS8APwcxALxANgCmITsAv/08AHtMPAB4KzsAiTc6ADCsOQCYbTkAI+Q8AGxTWABO9o0A4lXHAO338gB92BEBESsaAeIpDQFKePkAPPLMAKuYmADnBGkAMqBGABNLOAC7HjcA2L41AOHcNQApLjUAZf0zAJf3MgCFAzIAx5YwADYJLwClbi8ASl4zAHYNTADGTHsAz7uwAE6g1gCWZfEA9N76AMxw+ACdI9cABAaqAJY7gwA6ZVkA8T9CALubQQD6SkgAC2FMAJZOSAD970MAoZE+AG/LOQC19kAAgjxEAMTlRQAdAUwA4cFVAKxiXwCMenYAJfGGAFmqjQCZ4JoAkcSeAJSmpgB0HI4Az89yANROZAAuB0wAs3Q4ABSaMAAFeTIA/ak0APfYNwCOxzwAAIg9AHbDQADgqT8AoVFDAGj2RACbAUsALuVZAInsbgCv24oA07W7AOFL8wAbuBsBgtU4AQRlSwEclTwBUlAbAUp96AAS9tMAqgeyAMOKpwBmUaoAMEqnAJ3bnABM9I8AfsCGAM7ChQAM34gACuWJANx0kQAyX5gAX02gAA13tgCwyOAAwqYUAcnFNAG04UEBFCYrAQIDDwHDS+4ABjDXAKYrzQDxFb8A4re1AIyusgADvbAAO0avADc5rgAl2KsA75GmAPPQogBvCKIAK9agABftoADUa54AMCSfAJtRswD6hNoA/D3zAITq9gDhigUBYmgXAZeSIwHJnC0BYOcNAZ7M3gDQG78A2A6fAMZciACFKn8AXo5/ALHYhQCoUYsA0S2QAKrekwBKpZgAy2SSALw+ggBYk20A1YNbAAa1WAC+81kAsd5YAE0bXQDsFGEAUVxrABOaaQB3MmUADQdTAPMnQABupzQAiE8vAKVSMACH4C4ARL4uABH4MQBDYDYAlUE9AHOfRAAr6kUAIxlLAGm+VABW7VsAFNBkAMmjcwCxBZYAIInIAP74/QDg4ykBUpEtAespBAEgTL4AlfSZAPW/bAAVmVAAF6Q6ANbGNQBhizcA8Vo9AMdrOQAnRD0Aq71BAEyJRQASv0sAXqdRAIdNVQCLrVkARK9bAHW2bADB/pMAthzBACqr4QAZ8dgAE8beADzK3wCmzNsAb0CvAK7GkwDWnG8AF+FEAE20NwAM1zUADUI5ALIaOwDEdD4AjfBAABXSRAAWM04AEgdVAAInWgBWOmAAq7tpAA1RfwC/Ga8A2IfxANhwHgGq/0MBz29RAbQjTwGEhD8BkksUAWzU4wA2l6AAxp9oAEncYQCWnWYASyhpADzlbABIX3AAHWd2AGO3dQCOKHQAUnR2AJm2dgCpj3oADSJ5AM/JhQDYiqUAEg/UAFFy+wCw1wQBNs4IAWeR7wCc0NsAaBHAACi+jgCPn1kAbK85ANQhNQDDjTIAQaIwAHhJMAD4xi8AUT4vAHCTLwAhxS8AIjAxAPAsMgD1ojMAmuk3AHe/SAB4TmsA/qSWAA+fuQBhxdMA3HTbADKa2wDT0rsA6pagAO+hfQA15V4AFFtFANRgQQBlP0IAdLdBAKt2QABIL0AAFOQ+AHNHOwCdaDgAB400AIagMgCahjEAf+UyADJyQACGZV0A//aHABofoQBqibUAOqnNALsa3gAopdoAbGSyAC1ZdQAGYF4AiqZXAIjzYwCUNG4AF/d1AMWffQDsOnwAI1R4AEaoeQCtIX4AkVd/ACnMggB7TIIAZZSAANmNigBySaUAQa3MAAw05wDvdvAAQ3TjAOzY4AC8DcwApUakAHXegQDncF8AO85IAOXZQQAcsz4AKtw+AO9MQgC49EgA4GNPAFk0WAB5omEAroZmAKvDawDpcWwAURluAAN0dAChj4oA/Kq3AGLl0QAbQc0AfFzKABLs2gByrcoAOyvJAKSxvABr/pAA2SpeAAV0TQCJyUUA6wdBAIH0PwAG3T8AlwtAAF3ZPgCeSz4AgEg8APt0OgDGGTkAh846AP8SRQA/YWoAMXSiAGi5zwBW0+sAMZrlALBH0gAsd78AxqGbAC4VcADJVk0Az3Q4ACvFNAAfDjQAS1k0AOu3OACGkT8AVDZDAH8VSAAbAEoAO2BOADC6UgBtFlcA1/tbAMjsZQA2RoUAUKq7AB0p8ADlzRUBcEsoATpZIAFZzf4AHR7RANEOoAC+12oAL5NJAIgnQgBVJkAAblk+AEWFOgDPKTkAaY45AHpOOgB5UTsA0Vo6AOcdOgAGxDkArAQ8ABGGQwCXxWAAhoqGAINcpwDF+rYANP/CAC10vQDsjLAAbGSXACYccAB39kYADYsyANlKNgBKvEIARqlCAFBKSgD/Gk8AM65XAC91ZABHXnYAFqOFAOk0mQAwGaYAVGylAGjAsAAYeL8A4ne/ADqExwDNXcYAA8HJADBA3wC0N/EAoKT4AL9d4QCB1rgAjiSeACmwlACApogABCaKAGimigA70YgA8puIAIzXfwDRUncAUBVyAExCbAAdRWoAPOtpAAoMdAC1K5wAPi/SAIOd+gDfMAgB9f0FAfQd/wBO3u0AXtjcAKhuxwCzmJ8AgPeCAJaGdwAJUnkAKLZ/APnshABFQ4gAgK2HAA06ggC844IASkF9AMKMegATq3wAHvV6ADMEfAA2jIkAMraiAKeeqADnzcIA6YHnAC3O7AAQvdsAAirOAI9rmADacm0A2dZeAFoYZAAaEGgAtBhtAKQNcwAkVngAoJR9AJvPgQBnu4YAjfqOAEIOlQDLc5wAUU2kAJujsQCci8sA7H30AJ7rDAGaZCABGZokAYW+LwHRByEByzgIAQGu1wBFH7UAN4yeAERpnQDftZwAsQmYAHAMlQAIOpEAbMSOADebiwBs94cAys+EAPmKewCiJXkAhcWBALZ2kgCbM60AM+zmAIRcIAH3IjMB9lQ+ARFrMQFuwBgBrf37AHfy1AAvb6sA9tiSAI4iigDvF4cAmTaAAE88cQB84V8AuiVUADkDSAAWXj4ARH09AGApPgDnEzsAw5I+AEYERQAsFlUAy9B0AEVblADqe7QAf+G6ACkDsgDf/pYAQ0d0ALulYwCT70EAOFU4AME7OgCJBzwAa60+APKMPwC6P0QAdSRJAFobTQB0k0sAAplOAP0nVQAhCFoAfjNXAFYzVQDHW18Akex7AGtgoQC23qoA29CvAHaGpQA/XZ0APvSOAEe7bgByYk8ARLc7AMaPNQDM2jIAuokwAIKSLgBPmy4ABjQwABT4MgBw+TQACzs4ANqqPAAockEAd4BLAGy1WQBKH3cAOGuiAPu81QBkFfsA2WARAVQsCwFZC+oAzVnKAF4drQAB8YcAr8R5AIHYfQALlYQAnOWNADkfjgDcApAALf+RAAtXiwBmEYoARZKIAN/RiwB9x5AAM7+TALMQmQBo/rAA2R/MAG+o4QDsu/UAp/sLAdXHBwGorvgA7IPaADcBrwBKG40AYtB/AIZ6fwC/cn0A0fh6AOMOfgCS2nAAoS9kADA4UAACKjwADZg3AAlONwD0OzsASTg8ABQEQADVs0wA7XJeAOGBbgA17H4A+Bx9APMGcwCZe2wAzgxjAP0mVwDXfE4AghRHAJvKQwCejUQA6E1HAI62TwAJVVoAV8BfAFXqXwDvkV8A/dVsALHSdwBAiIQANnGZAOYtqAC0OrIARs7NAOZo6wCFCfcAiwH5AJMs7wD7ed4A2ArPALSmwACXh7EAHcytAONBrQDuiqsAMCWmADfNmQDxmYcAY2R0AHjvegDQVH0ABtd+AKGggwAbV4gAnc+VADcDmACtE7oAh8T0AE1zKwELCT0B/tlEAT43KwEo2SMBHWwAAUkT1QDfkKEAInKJAJSAfACrRXQAapVzANymdADx+HgAm995AIfmfgApYoAAoxaAAE3EhQAmXYcAvEGLAHf5kQCC654ABNq+AKSX2gB7sPsAzr4EAfZcBwEm9fkAUj7bAHHBqAD6yXcAhF9oAA7+YwCQf14AB5RaAOcVVgBEZFUAOOdUAJL/VgDNylYAHKRXAA9TWgCtnFoAYZNcAFnYYQD+OnEAag6UAHmYugCIEc0AO9nPAGnLtgB/u6YAq42QAPiqbgB5sFEAHnZHAJjISACg6UkAvPlTAMHKUgAt/VQAcvlZABJmWwA8JlsA9k1aALX+XAD0xWUAJZ1xAEvyegBiTZIAQAbGACzsCwG6QDsBHgpGAYWwPwHB8CQBfLr9AHqnxwDAyo4A7amAABDNgQDJcIUABMmIAIo7igC/X4gAI52HAPariACUb4cAQYuJAOTckAA2MZsAH1OoAPKnsQCTdsgA5X7xAMt/FgHtpS4BcTBBAcERMwG1PiQBR9j9AD8R1wDPxsEAryS+AJTavwCQ8b4AHTu8AE0psQDfgqkAgBGnANJXpAAcRaEAoPmTAHr/kQCW8owAph2RAMDikQC5O5UAoBSeAGP7tgCw9bkACea7AJhypADGgpQAIH+MAHjWjgD+zngALVJ3AGBtegBThn4ADX+JAGxcjwBV8Y4AdJSWANf6ngD8VKgAb7OsAFQjtABVbrkAYNu7AKTLvAA4ssEAiQjLACw9zwAuXtAA0f/KAJw/wwCH3rIABAinAD1inwAxJpcA9/CYAJpllAA7t4wArByHAKdzggC9soAACop2AHPXbwA7dGwAWPZtABy7dQAOs34A/3qIADUpjwBSJKAA8cfHAAF38AAV3gYBJ/wRASIBGwH51wgB/9PcAJiRtwCvxKgASFKiAFPcqQBWoKkAfIGgALuakwA5YZcAHiGlAMrInQDCK6AAfv6nAG6bogBnK54ALI6cAPGnkgDzwpgAU+y6ANnC2gDVEOcA7JXrAMN25wAwNNIA5JC1AJy7gwBZ+FcASm1LADW4RQDeM0UA2b1BAEGNQAC4Dz8AsoA9ADtTPQAWZj0ApVw/AGzYQADo3EMA1lhJAGBuTgCqB2IAIreEAELtoAClZacAsrasADWDpwCmgJkAdluDACqGbgCM2mkA0z1xAHRreAAnpHwAvLKBAIW5ggA+04MAPY5/AL+NegCAenUAlIJxAPcccQCKoHgAl36AAJIwhABJG4wA2yOuAA/xxwDfjswA4Ke7AMwSvwA4YtYAIabLAP5BsQDz2I8ARFaGAC8FhAArVoUA9uSFAKT6hADuZoMAT3B6AEcMdQDvp2wANiZlACrfXQBDI18AlfpgAC9NZACXrGoALEZ2AID+dgBP0HYAOJ91AJL2bwBAmWwAN/dpAH1mZQB5I18AYHNbAP7iVABCFk4AGAhHANmpQQBE6z4AD3o/AJ2YQgDBI0MARfpDAFBcRQBuI0sAOPZSAPWeWwBk82kAY4GAAEhumgA/nqMAki+sALV6sADUzKgAineMAGJNcQDuFV8Ae3JcAJxHXQCxkFkALydaAPAqVwAYz1QAYmBUAKc9UQBaNU8AN4tQAF/qUwAmalgAMs5aAMwoXAAac2IAeUJwAAfSfQAk8YgA+S6NAEPkfQB3rn8A+9h7ANTzawBDNF0AJ8FXABfmVAAFb1YAmYVaAP8qXQBPIFwAmipiAKUoZgAwQGUA4hhsAO1VcgCJbX0Awo2FAFIRkgALBp4Amei3AEBs1QCF3eIAh2YBAf5lAgE/Ye4A3jDNAAXVmwDo7ocAivSEACAyiAA1sYkA32KQAH5ymgBrdaAA5FyYACLTnwC+gKQASpylAGQIpgBuyKMAR6mqAN0DtQDafccA8Y73AAWlEQHoqRYBNg8LAelcAQEWje0AGMDPAM/zuQAaaasAoV2yACEmuQCMErkAYdG1AB2ssQAnuKcAk+WkAICpnwAy5JkAClGdAHq4oQD3MaYAm4qjAHEEmgD5V6cAIRHRAMpc4ABYMdgAgv/OAI+ytQDAl5EAUwhpAD20SwBgckIA9kRBAKx4QAAIMz8As2Y+APqJPQBG1j8Aa6pCACUOSwAQulYAP9lkACCSaQCkX2QAI0NmAJ6bcQDWcX0AeO+YAKNorgDOyr4ASVe6AF4EsACWj48AQiJwAADGWACj/U8A+gZLAFzGSwASIlAA195bAB/yYQCGG2QABCpjAJTMZgBbs2UAYuhmAE9nbACNG3YApieCAJ7tjACZUp8A5QW6AAg/2QAr9PYA7P0JAV14CwFwxfoA7KfXAKNsvACkZ7YABWy5AIDEuwBIsrwAc2a5AOiFrwD+hKYAL2ygAJ81owCaAakAHkSuAOGgtQDMPboAE0rBAD+AyQB5qNQAtcHuAD4WAQGlV/oArRbxAHO77ABfGtAAah+dALVMmQDmA5YAqRiXAC+fnQAZQaAASBStANaRuQDiSboAORPEAIOxxgBDoscACofIAJkryQDiKcoAQV/LAFSo0AAo4dcAmeXtAKY2EAGhix4BKM0kAUQ2IQEV3xAB/Ef6AGAr0gAZJsIAy+bBAA24wwBqrcEAaoK/AGWgugD9N7UAK0euADplqgAos6UAoV2mADwIrQB5E7AAjNquAMHytwCrz8EArmreAJJ79AA6A/AAgMjhAOmL0gDCMMQAfAi8AOxxuABN+rAAus+oAHakngAZI58AH7yeAGGrmwC1C5kAXIiZAFi4lgCq54sAq4aBAIL9dgAQ13IAwAVxAGotcQBC0X0Ax2WSADcrrACkxrcAeIzAADTRxgCGJswA743DADsvvQCc+LoA0tPBACc/vQBhU7gAsjq4AF3UqQC8XZoAmRmjACJxpACx76cAb0esAHUpsgBOi7YAb0C8AIalxAAKTdIAGeD1AE9MDwG6/hEBfW8GAU/mAgGDYfkAzCvlAD7swQD7DKsA4pumAMcfqQCOBqoAM4CpADoUpQDUFKMA8cufAHr0ngBzjqQAL9qmAKEhpQCH55wA3HKfAErFpAD7ubEAL7vVAL23CgHUDCkBLswiAd7dEwGk1PYA+DjeAJJNuAAk96gAdECtAPmutACI0bYAC9mwAPhApwAjaKEAk0GfAGQPmQCXkJoAnGiWADR5mAC0TaAAT4imANESsQB3F8AA1ZPkADSnCQEksRwBE5oWAVNIBQHDZekA0mPTAD3XyADffsoAoUDLAEMcygAVrsUA9ca5ACWWnwAtg5MAlY+IAG1CfQB163MAxERrAJ82aABq72IATexpAK39bAA+VHIA9HuUABCuxAAkNu8AAf4CAaQ59QA/3NoAUbS1ALWwpABKB6IAEG+cABnDoADDqacAKYGsAGIzrwDXhLAAw261AJr5tgDe9rkAmnC7APnGuACGU7oATE26ANR/wgCXEswAy93bAHwQ3gDefsgAZF+1AAreqgAEOKIA8v+PAMUSdQAYVW4AHnNsAM2CbwBgIHMA+oBzAGxNdwC6fXwABkd9AMTLfQAZ8YEALRGEAEIsiwDcUZEAWlSVAOlylgD6FZcAlzunAALLuACMVtcAX63uAOdo3QCCTtUA/xGjALI+gQARemsACVpoAFodYwCNzFoA56RWAElNUACQjkwA4+ZKAP9KTABH5E0ANN1PAOeMTwC5n1IAi59XAPHbXgBrCGgA2IaAAM31mACuQLAAcF63AOx0pgCaWYkAdytwAA/aVwBi6lUAuD9aADeHXQAFsVoAtfVXAG5EVQBpolMAFrBTAJivVgDOU1gAV9NXAGaVWADnPWAAEa1wAGjFhQBxqZ0A9R6xAFSJvQAyzccAOMzRAET22QCdA+4Au6zyAJvk3QCGjcwA+ezKAF04zAAYZ8kA/FvFAO/fwQCQM8AAR4a9ACZfvwArb70A+jy9AOdYwQAdAsQA/qPIAKfPzwBOedcAarvnAFih/wDG4hYB9woVARL49QCSsdUALB2mAPnHggAecXgAxwV5AIr6fACbtn8APb+BAPIyfwADJ3oAClt2AND9dgD7mHkAWgt7AIFrewASJXsAlDN/AOtyggBNHowAOf6fAP7ixADSZekA74z7ANSUAwGm2wAByd/fAMN7ugCufbAACdavAGZDsQBeja8APYOvAMm1pwAB46cAej2eABbqigDk0ngASlBgAMHqTgDhRksAQPZMADXdUQB2cVoAaMhvAIcTewAlm3wAWEp9AGAMcwDZ22wAz9lfABMTUgAKfE0ALV1LANA3SQABQUYAZtREAGMrRAA3sUMAHrZEAGVGRgDCpkkAxAZMAIt3TQDFL08AIUpVAJvvXABgKWMAHQV1AP/7jwBMHKMAUoulAKYasgBdLqEAXs98AOKaVgDJ5U4AGqBQAC5nUQDW3FEAMZRQAIRKTwA5Q1AA5wtVAAHOWADHfF8ALetlAJ3ibQCR6HYARSqDADs9jgBgQJ8A16SwAPVRwQDR5MkA3W3HANk8yAC+J8gAIEXEAC9BxwCWm8gAN63GAOrsvgCfrrMALyCvAOr/rABMXKsAOzmrAPLVqQDpGK8A6FOyAGvGugDLlL4Ac5/FAG2dzQB57NUAFbLsAM4lCwHVHBcBOMobAVvMEwFZKvIAEbndAJpJwwAs6rUAqcW2ACuAswCtmLAAh/eqAN86qQA4cagAQTmnAJm7qAAL/aUAm26gACD6pABvHqYAVPGmABGOogAw9J0Aa8OpAC4UwQA1tNwAghnfAPB5ywA4550AIIR1AB98VQACckgAlOJHAJMOSgCgbk0A2kROAHDGTQA6ekoAWaZJAE2JSQDFaVEAU39RAFVyVwC0qFsAaoNgALVqbwBDWnoAUhKPAN8hnAA+makA4m+rAPB0qACu66MAcCucAAi1gQDmQXkAsVR8AOitdQA0m2YAcQZbAFGiUADEZ08AdqFLAOlSSQCvVUkAAgtLAFWzTAA86FAAQxtYAAEEYwByS28A6vyFADTlnwAM97YAYCLVAHax2ADN87YAF1yiANQVogDIP64A45GyACgsuADeNrQAk+KwAMWsqwAGhasAlt6mAOADpAAy4aYAN3KoAGcXqwDbA7YA6oW6AKaAwgD3U8sAtEPbANoHAgG8GSIBILYZAWdGEgFVcwEBhVLsALNq2ABei9EAJOzOAGLxzgAybsoAQyfGACbDxABrwMIAz4zBAOjpvQAUuboAp8q6AJrVvADlj7cAAdW8AKc3xwDtSs4AFzraADGH9QBEoBUB3XIkAVD/FAE7VP0AZlfbAFa9wADEb7sAQ0S8AHuruwCZhsIAkNvHABYzvQB7o60AoTSkAFHonABWZZoAyF2WANJ7nABNcaMAOUaoACIouwCQscMAMgXRAC8s8gBbSQ4BEP8OAVzt/QCAlOsA4x/KALW2qQAd+pwA6waRAHcxiABeRn8AA550AOYFaQAusGMAbhhgAN4UYABTyWAAmQhmACIEagAVMWsAG8pvAAlIdAByK3gAAVB+AKkBkACQQpYAKW+WANMgigCiknsA+i1sAGG1ZgBmLGcAagJmAA9vZwAXr2wAy9dvAOseegB6x4MAgCmKACOhjQCq75cA1GGjAMnzqQAiPqIAATGZAOPTlABAyo8AhW2IADiggQAd3oIABpODAPUWfgDPwH4AFo+JAAevnAD2QqQARNGxADL8vQAmsMkAT4fNACWdzgAYts8AK4DQAEsy0QA0WtAAjonLABhmxwCu6sMArSG3AMkmogAI6Y0AiVyLAHv+owCrwroAtVa+AN4WswCuwpoAnfyDAJLWdgB4loMAj8KYAKY0pwAPaboAB9S9AAtKtgDw5rIAwFO1AHXztQAowLgAou3HAJ3CywCwWsoA9CHIALQZyACSy8AARsWxANewsAB3WrsA8ii/AP+angAfpH4AuWRvAJkSWwBnWlgA7J9aAOueWABdwVUAvM5SAHU+UQBAb1AApsZPAMfGUQAc21IAwC1XAPboVwDEfVsA4eFkAL7YbQBQRnQA9Mp+AEcIlwC2/J8ARyecANe/iwB1Gn8ALf9sAPhLXQDCy2EAofdgANj4XQAtZVsAIfRWAG0qVgBfIVYAxQZYAGUnWgAZqV0Ax59fAP+SZABsLGwA+VlzAFN1egBYr34A+eCKAGLvnwCKA64AsBOwAKWppgBF4I8AzEZ4APKaaACbomoAvSlvAA5WcADlEW0A5JZnAEw1XwBGp1kAkQVWAIQZVgDK4lcASd1ZAJ7PWwArRl4A+yZlANsTbwB4LHYAKXSBADGqnAAPmrEApIu2ANCupQAU8IgA1H1xAL4CXgDorWAAHi9lAF8ragAwP2oAvLVlAOkjXwD2xlwAgElcALuEXQDo9mIAQpNoAAtHaQC/iHIAU42BAEmNkwDbFKIARim7AOAd3gCjdfcAZp4BAYHE8wA08MoApGuyAPQVrQBGEbQADmW9AJiuwACoVcAAFVi7AEgmtABsq60AzS6qAH/lpQBZHKcAoTSoAPL+qACAka0Azfi4AGeVwQAjqcoA08DRAEmA2gD1ceEAguTeAOYF0AADuLwA27quACsRpgAQl6UAwgamANQJpABKKKMA0QWhAF/zmQBDupcADmObAOrXmgDBG5wA77acAAfunAB6pp4A+imhAMTpowBT06cAulqoAJMcrQDlUq4ABqymABAOoACj45EAm+qEAPm5egBxEnkATiB3AJpMeAB8knoAWQd1AFFmcgDosnAAMOxuAE20cQDAHHsAHVB4AKG5egBnI30AdhKEALk/hQCDDYMAx/uHAK23lgDXtJwAgLGmAN4/nwABtY4AjEd3ADS8YABsxV0AUsZbAFHxWAAmTVQA0TNSAHy5TwC99U8AhnBRAAolVAAOulYAzplYAGz1WwAOLWMA9i5uANWnewDSUYYARfyRAKXqqACi/78ARynIAIZUwwD9hbEAbBGgACqunQCOPqoASjywAK1ztQATHrMA/WCxAIY1pwAX/aUAHYyiAFOMoACyW5oAPXeTAN8bjwA4hIwAhjKNAKBTkgD9BZIAxZiQAE3ojwCcBo8ARNSKAPY3hwAABYIAb096ADNjdwCBg3wA5+2DACokiQCnt4wAEEaQAPPSlQAMxZsAzTygAOdhpACTvKUAxXqoANjcqgAn4qsAAOewAFTZvgCBP9AANtjXAI915ACyHugAcszoAFpO4gD/G9IAE6bOAMPwzwDZ7tIAICzRADdTywD7YsoA4JTBAI+bwgAGMMcA0tbLAPZB0ADM2NEAlCnTAFeMywB6uL4AFjK/AIJ01QC/A9wA3s/gAKsX8QChbAEBoP0GATV17AA9qs8AdXy6ABnprgAzfrEA49G2ANRYsQDyBbMAujqwALOgtQD3Hr0ALWLBAHYUwADz2sIAXc3DADBNwwDaecUAinbJALjLzwABOtAAw17QABhw2AAWuOQArSDsALuW7ADwUNwAbqm6ALaDmgBly4sAS1mFAEFyfgDcMHEAeKFiAKmQWACFQVQA7WxRAPILTgCopEsAlztKAC79TADikVAAIHxXADmZYgDQimwAuTd7AJW6kwANkaYAUEyoAJHBmgBwZZkAcUuOAEShgwCwHHoA7PJ2AGRbcgDtbnUA6Y5xAK5McABoPHEA9xZ0AECAbwABOWYA/NpkAAM9YwCbeV4AKmFfAPJTYgBM1mMApAZnAFeLcQCcnoAA9Jd6AFH2dgDIy3IA4adqAPQIaQDctW8AtVd6ACsbhwDMd44AcdGTAIfVlwA5opMA7bmMANDigwD3X3sAXrFxADMmZgCqCGAAp0JfAPhmYQCtMWMAOENlAA4pdADtp4EA6sKGAO+IgAA4BXEALVpmADL8WQAAsFwAsp1gAKCsYwBllWMA4aVeAKDaWwAyJF0AYaBcABBYYADVRV8ABRVgANrOYgAaWWQAK+hmAPfBbAAXtHEAvlh3AA5RhQCUrZEAEqKVAKw2nADHMpAAmrh6ANm5ZwCtTWYA2D5rAM8CbQCKA2sAVVhuAOvHbwD533IA8VN3AMOTewBfjIIAyAyJALr+jwD165QAunmeALKYpAAeNKYA50qwAPwmvQCrfroAaXm3ANvXtwCYAbQANmCtACJ7rQCHeLIAClq3ADZOuQByQ7gAmO20AGqDrQACsqYAzkGfADhkoQDdOKIA2/SgAM96ogCxOa0AL5S0ACNkvwBmp8cAGQDQAMg13ACSUOwAeVIIAW7ZGgGvSAwBgXXnAMkfwwDTKr0AJH68AFhztwDgNrYAKqS2AHaZtQDxyLIAy7WrADfpogDudaAAZI+hALuyogDteqgA3BasAOqutgCf4MAANkzKAOvW0gBLu9gAXj/iAPg/3QC8ZNIA3M7LAC72xwCHYMsAWk/OAOLwzwBrx84Adq7NAEkWzADqjMgAxbPHAK5fyAAIEMoAxSTKAAwlyQCFy8kAC4zMAHqvzgCksM0AVn3IAGTWvgDOmbYAQl6xABeSnQBoyYsAOD19AIfsbQD1BmkA0xZvAAXwfQB7soEAMDKGAAWRiADUe44ArcaXAIQ8oAAvzqcAPmWwANP2uACZiMMAeOjJAI/00QB44NkAU17hANFS7QAsaPgATjryAKcK5ACOZtEAOxPMAJJruwDxe7gAW8i+AMNAxwCu1c0AVtXNAFDpywBWKMoAGDHHAJTkxgBjrcUA+4HEAHlZygD+3cwA7SDWAM7U2wBfFt8A4NvfAFUN1wCZ/tQAzZHrAJi77QBBSeUA3brVAKScugA2Sb0AeWm/AJauwACVasEA4lzHACSuxwA4esYAEk/GAHfMwgAIdcoARI/KAPckywCID84AfOfSAJBX1wB0wNYAxM/TABTX1wDLMOAAlAriAIBh4gBqod4AL9fWAGZbzABoscwAB7DQAA5DzwBQdcoAQpDJAB8yxgD5JsAATfqxAAHOqAAYcqUArK+lANNvrAATSrcAP2nBAA+VxwCd5MsAfv3MABIM0gANI9kAagbkAD193gBfGdIAgUrGAAysvQBVFsAAe8HGANTQzQCZ988AcufOAMP3zQCJPM0AiEbOAO7ZwgD5d8MAwJfDAM12wwAfWsQATxfHAKNzywC3C84AFD7aALTn4wDB5uYAxlDmAL+X4QA1z90All7XAJgH0AD9Xs0AU/vMADzEywDpY8oAhbDGAGd7wwCnh7cANkG2AOLQtgCRjrcAEam3AD/ruACokLoA/kW8AN55uQBXXrgAPVSpAAEdrADfbrQAFqWuABletQAMy7MApoCjAFDklwAv+pgAgcadAH7SqQCoz6wACQ2vAJlHrQAylqkA38GtAPyluAA9Br0A/FG9ANC3ugDwwsAA7zbCAFg8wgAlDcwAGKbPAK/a6gBl4AUBHOYHAQDC7QBZ8c8AcnavAIv4igCGlHQAMqJiAGbbWQCL5VMA9DdSABqoTQCDsksADTJJALHrSABZvksAAfRQAEA3WQDAwWMALAFwAFvRfwDpEpQAMRGgABnFrgCKb7wA9X/DAF4+wgBowL4A17S9AHrQugBDB8IAeTzGAOdlxgA/nMwAQAHQAGN4zwDA+M0A0hPDANxxwQAeRMIAjDfDAOpixQAWbcYAexPAAKib0ABPc9YAijjmAEbH+ADqlwcBmE4NAYG0BwFVV/UASL7kAIy20wDaaNEA67HQAFY3ygB7ec4AJYzNAO/HzQAWyM0AnoXLACShwgDg38IAhMDDACSCxADz/sQA9B7HAJH/1gD/29oAd6DcADni5QBfqPUAeHb8AE5F+gAe0+QAt8/OAPIdvQCJ268Abq6oAPe6pgAqiq8A2xCyAE2XuQDJC8IAm0jDAKchvADik7QAbQG4ACxuuAAqfLQAyRq0APrrsgAPPK4Ay+KpAKd9vQBcjdcApa/YAEC50wAv3coAju6pADNqlAAOapkANlmdAKsxpwDAg6oAoNCrAOLtrQAMpbEAQ160ABTstQCw0rUAfYq1APg+tQBi57sAD1m/ALPcxQC9PdMAn7nXAJEx4ACyKOsA/6jyACeSAQEcoPgAAwPiAEoEzACZRMkA0BjMAAB6zgAiaM4AOo7NAD1tzABe5MwAtjjLALFuzgBfRNAAquvSAFw21ADyRtUAFWfUAM7M2ABpMt4Ax+bfAHQM5gBzg/EADsL2ALUT+wDyVfMAsNvfAOLStwAIvagARdqlALi3nADZ95MAa5KcADunmQAw0ZwAtqGcAHREogB6kLEAXtG5ACQqwQC+aMcAU2HCAMr0zQCxFs8ASDnMAMzaxwCKZMMA4sO5AIbjpwCbA6EAdwqeAB/7pADrlqgA0G+wAEkfnACoQ48AAKCQAMzFkADjuZMA2WeMAJuIiQC4wZkAxmm0AB1FuAAxob8AK7vSAH+A2gCn/tsAZFrdAJsN5QD9ivQAp1H3AMaU9ABK6+kAl5/LAEbBpwArgpQAcZqCACjhfAAlLH4AxmR/AHhFgAAYroQAIFmJAPFOkABXhpAACNaOANlJiABB43wAGz55ABJ9fgAh8XsA+5B5ALICggCkQowAo6GIAOxrhABpF3sA5v5oAGH3VgDOUVQA3FtZAOCLYAA/ZmsAjnp3AIIVgAA2f4wAWBWYADnjpgBMQKkAo4GsAKdAsAAVurAA4QOxALIvuAAR67oAyyyuAPWrqwBMCKYAu/CfAFbMmQCGJ5UAm4aEAKlOggASd4QAp5+EAOTyhQBB4okAzCmMAF7uiwArgogAm3CJAGt5jQCVv5AAuReUADxalQADhZgAYkyfALgBpwDsu6oA9uipAKtiqwB3WrEAasKwAJiSrQB0VKoAsiOnAM8LogA9IZ4A31qfAEhUoQAKnJ8ADJehAHfAoQAL96MAOoiiABEiqwDpUrIAJ4q4AAyCvwDv0sUAP03OAKIY3ABRPeYAT8DnAJI/7gDHZAQBdhERAelcDgG2NP8ABIPnACaTvgDINa8A0kGtAIesrQAmi6wA8J6sAPElpgDDeqkAWm2xAGXrswAkEK4Ail+xAB/uuwC3/b4AP6i9ADc3xQCQH9sAScnhAI2p8wBf0BEBxmckAbk/MgFafDEBXHoOAb0O5wChhdsALZPaALg02QBax9QANLXQAPp1zQB8wMwAz2LNAFCtyQCGA8MA2qa/AMEiwwD8iMYAQZrLAB+C1QDXzt8A7UruAOKTGAHY4TkBIIlIAc4iRQFd7SsBKvADASi+0QAh3r4AUFu8AEOOvADvUboAtxmvACRYqwAXZaQAjnubAGD6lACflZMAaruVAJ2imAB39psAUdqmAM4SsAALg7gAVrnFAM5w9wAgyBkBJFYhAcThFAGtQvQANZ7OABS5oQCpJZYAlf+UADYFjADJ438ASFh6AOFycgDYuWgA5rZlAMsNYwDhKmMA0dhkAPSfZgBs128AuX15AJOahwANcowAMQqYAC7UtQBXEMYAqty1AIX+rQAx6pkAl+mDALLsewARqn0AXVl9AGx9ewCrCHcAHjByAAzrawB8m2cAATFoAB1obAAl428AubVwAGQncQCg/nMASWJ8AB76iAAwc44AYZGPAE/akAArU5EAD5WSAKGikADzSooA9wV6AFw9bADMn2kAUFxoAExVZQCAn2EAxupdAH8iWgAzOloA8VFbAKu5YABDM2gAGppvAKXsegAYvYcAeHGVAB+fowABRbMAwZS7AJsnuADq+LEAx0+yALF5qwBf6aYAUv2fACtKlgD2gpQAeyWaAMConQALup0Adm+ZADTZmwCHhJ4ADlKaALyqmwBzW5gAHqKSAKBQkAAPFY4A7BCQAMykmAAHz6EA+MamAHlCtQBAZb0ALia+ALcSwABvvrwAC+OvANvKpwDSMK0Ave6zAHkiuQClgb4AJT3BADzktgCIC7MAY5ewAO7qtwCT6L0AcK68ALzEuQBmEboAkS7BAHdfyQB6odIAc+vcAK9G9wCKuAcB6YcSAWC/AgF35AEBUTzpAOID0QAXVckAycC6ABt/twDynrsAp8ioAIexnABLrJ4AVEaVADPljgDN44gAumOGAJFghgB2644AVCOVAIsAnwA+WqgAaaG2ACYpxAAzGekALBYJAYBBBgFKmekA3c7CAGKzlQB15Y4AQAmZAGtVpQDmDbQAIvW7AL6FuwBuPrwAKHG6AONLtACwOrYA7RS0AJP6qgCTBKYAh+ilAOwfpQDc6aAAvx2hAHv0qADtXKYAD8aaAIT6iQAKBXYAJjtnAKd9XgCKyV4AcchhAO3ZagAMsGoA0ARnADFvZQBANmUA3rZkACg9YQAPpmQAzmhrAJs0ZwDwmm8AvbF5AFh1ggBUtIwAYC6qAJWM4QCXZwEBZQX5AM526wBVzc8ASBajAM0BdAAATWYAglJpABsObwDf73gACaN8AMqxfACy4YoArAKRABlHlQBJcJsAqiiaANLzlgATfJYALAWNANwSkgC2LZcAMGCoACnn4QDGrxMBQiMtAcXJIAEn5hQBBrPyAOrtugDbtqoA4wCwABgPsABkZ7EA0MexAJshtAAkKrQAA4G2AIy0uwBX+bkAmcW4AJ77uQCxQL4AEdrHAIv01gAnl+MALof3AM+RCQHZlhoByb0jAQEIOQEfIiIBW6PrAKPuwQBvv7oA9dfHAEyxzAB6BMkAR5jDACZ5uwDyV7UAVGqyAPe0tAAYybwAJRLIAKJ40gCf5dsADEzrAKB4+QA/GwIBURsIAXPKEwG4QxQBYtESAfZrCQEMIvoAqgnvAI1n6AA5SeQAeQLlAGDW5ABrd+MATtndAOu30QBiW7oAL7WlAMCXrgCTU6YAxnWmAAMbowDypqIASNCoAEbOvQA4CeQAx/rxANNc/ACJ/xIBa70wAXehPwHH7S0BE54GAQkC4wC3L9UAUlPTAExR0QAVb9AA79fRAPzR0ABaMssASqbOAE2BzgBkQNIAlw/SACf3ywDYGNEA+4PVAAKE0QBuK8QAlwTFADp97ACHgh0BMFUlAT8/HQEOYu4AMoTNAP7kygDkiM4Ar5rSACej0gDCbdAAARDMAHk/vQAYnakAuTWUAJUklABH5JIAlDCBAJi/jACpVrcAvGbCAM/AygAreM8ARojbAENE9ACwShIBmDcXAWCKEgH4agkBHbLwACyt1gChU8YA0Vq3AL7fsADaUasA8j2lAEsypgDRnKcA5+GnAI/RnQAhn5AAQYKDAJSqdAA/LWgAFi9nAGr4ZwCsImoAYjJ1AEI8jQB016AAVCCtAHGdrwCZM6EAbxOKAMlbfQACdX4AZdeDABsLigCU2YwA1NCMAGTEkgCRlpcAYZueAKg5pQAb+KoA/ICxAGEEvACy3McAuMrTAKkM2wDJaeAAAdnkAI8o8gAh5RsBj1U+AcUyMwGQcygBN7IMAXXH3QArd7gAg3SrACFwoQBFkZYAE/CGADrxfACVpngAb3V2ANQCdwBPxHIAaupsAPj6awDe5nAAked4AKPyggArGooAZPGdACDfzADayvYAUfYMAan9BgGm7eMAp2OqAJTNfgDBq2kAczZrAKPQawC3Cm4AyqBvAOo/bwAYDmwANZlpAEpQZwDbaGsAxTdzADTZdgBh7nwA/uWCAAbVigCGZZIAUdetACmZ3QDi6P8AovMLAcHmCQEARPMAsc7GABASnQAzdYcAWJeJAO1ejwCTm44AZ6KNAL51iABzH4QApSGBAL1BfgAHd3oAwfN2AFFEdACy63UAcN17ALL7gwC+0YgA/FSXAEE7tQD84tcA/d3lAI3T1gCr4rYAQGGQANKjcACA2mAALqBkAGSRagA6pm8Ajbd0AKRVdwAWK3oAc4F8ABqNeQA+/3kAHnp/ALoTiwDiGZYAWqKdAE6gpgBk5bAAwxm9ADiB1gCYd+gAzxT0AOT0AAGtdvcAHQ/bACw6wwCTabIAluWhAKkrjwCNaoQA7pN4ABE/awBE810A1TxYALfZWABmk1gAlJ9VAAUyWADl0V0ATatoAPANeAAf1X4AysiJAJflngBpHLEARtLAAInD2QBV/OMA7+DgAKRT1gAC284A+KHQAEVR0gAYotQAUw7VANHO0wD0pdIAuy3OAFs6ygA12sUAwNu3ANuWmwA0DI8A1HePAJ3WlAB+9JkAwZ6yABDd4wBeagwBfD4bAX+AFAGDDvQAT13MACkRmACzyWoAdAVkAFdQYwAjR2gAu+FpAJE8cwC+KYAAQR+QAEI+pQB5IrUAFYW8ADuCwQCrOcQAv9TKAPB30gAZgdYA7tPoAOwiAgH1RxYBnkESAdlX/gBf2vMADQLlAIKi3ACoXM8ASmPHABhLyABYBsgACePFAJmAxQBYycUAdFfIAIJ9yQA92coAwIPIAOnGxwB8t8gAu0jMAPPe0QBV3dQATL3XAHMF6gAOoPoACMz7AENn+gAxtfIAWtLlAANVzgBrNbUAGc6jAP1TnABLPJkAO7OfAIM0owC3naQAdZOpANyApwCQg6YAmqKlABj0pADqT6oAh3KwAJOrwgAk0cwAOefdAKzc6ACf9fIApRH1AGPu9gA0FOsAeq/UAO0XzwCc98oAxsbNADA20QD7atAAfvjOALCAzQAXMc0AvB3OAHrFywA69M4AVe7SACLIzgA6IdUACh3aAO+43wClOuQAQpHvADU5AgHsOhABdTobAaTIGwERBw0BG9bwAHf04QDwjNcA+HPWAB1s1QCYv9MANIfRANoB0AAxOtAARMTQAOtD0gBc0dIAvEXTAJQ91ADmkdcAO5raAPzk3gCE9OEAj83pAEff+QCteAsBmXYKAcVM+wADqPsAnpvtALTF3gCqGtQAYUDSAKmt0QDPs8oAVm3FAFLVwQCNcLAA1jebALxcigDS3IgAKsSJANmoggBAmXkAUTZ0AKIJbwAxsGoApxZvAB/eeQDZbZEArD+yAKNNvQDct6MAPm+DABXnZQBoqE8ALPZNAAJATgCaY04ALPVNAEQQTQC2dU0ARMFKAOLiSgAWhksA9k1NAC0iUABAwlQAnOJbAFfsaAAtingAXIWMAIrRmgCw9aEAX0egAEOmoQCfHKAAdmmhAG+XrACwlr0Amia9ACjJwgCxPsEA6x67AJyftgA/z68Are+lAFRNpABeUaUA+J+oABnlqwD3yLAA4S+5AG+4wADay8cAAbHRAH5K5AAjaPUAJ/UGAeZjAAFjkfIA2fnbAFTsuAB+QZYA99mKAHxQiQAxBYYAqHuHABLBhADvbn8AETCBAETsfgDunIAAk7B+AHOweQAIXXYALUB1ABlUcwA74HYA0h6BAIDQjwDkDaQAdhSyAPbXpgA53pkA7XOAABJZZgBhn1MAqt5QAAk4VQCDI1oAvlpeAFh7XgD1CWAAABVlAHXqYQDXA2IAeiNtAEY7aAA2vWcAfX9pALYocgDztXgAxd+CAGO+iwCaQZcA7migAP2OogDuhY8AiLF5AAikaQDNmlgA40JQAFSrUgBhZlIAiJZSAKeKTwAmwU8ANs1PAN65VQDWj1QAHphWAIGNVgBtC1kAt99dADs9YgDaJGgAjzqEAG92owD197cAi4/OAOBb3ABAgNUAbKbTALgOqgBudoQAwoNxAKIabgCRZWoAH3BqAPVjaQAgQ2oAtqNwAMY1gQCB3YgAsnaOAC3RmABH9p8AY0CqAMj4tQDTjcQA7V7mABCQGgFnZjIBG9I1AcihIQGMTQwBnMjYAJBKtAC2JJcA7saUAHi0lQC3G5gAxyWfAH/cpQB+Na8AOCq5AOxQwQBKoskA2yHNAGNwyABFysUAzAXHALfbxwCxQcYAJI/PAMMZ2gDbxeEAj/XiAB3K3wAQr9oAgYfTAFoGwwDexrIAraauAJaBrwBAvLMALG+zACz8rwAie6UA9W6XAJnJjwAYUowAoCyHAOrygQAEM4AAaFSHANPklAD6ApsA6LilADyIrgAXIrwAwmDHAFYRzAD8pssAZDG4AJJrlQBdrHYAtXlxADzPdwC5Tn8ARUqCAB0GgQDtbYEAZqd/AIbEdgAqXHIARftwAPDEdAAAN3sA6u6EALeahwBGGpIASteiACZZrwA4I6oA066kABGHqADg0awAGKOlAEF1kwCCxncAToxrAFP4YgDcomIAn5tnAIdFYwC5VGMAFcZgAIeBXACr7FkAbvZVADDsUwCNIFUARg1VAAFxVAAH/1QAgztiAG+degBp5pAA2FSfAFoKoAARu5cAXV6KAN/xeABL/mAAwopdAGAqZAB88mgAjsNqAGPZcwDyan4A+WuJALltkgC7e54AuQaqALoAtADODr0Av1DGAJTHzgCc+dYA+XjjAEL+6gAuKfAAUtPsAFVz3gCIUNQAx9/OAF7duwAKaq0ABn2wAEzSqgCYD60A27KtAH0rrQAmjaUAjsGQAKVjhQA9238A3gJ4AHeWcwAFi3EAQHx0AMK+eADFlYUASSGlAH1gwADNS8oA9FPQAAzWxQA9L8AAjHG9ABw1rQCffZ8AvoqbAFuzlADEb44AAdiFAMetdQB77GcA5jdnAJ2FZwBa42UAIntkAC0yYQDVy2AAjP9kAAGBaQBX1ngAu0WaABmexQDAt+8AozYUAWHMLAFrjBwBqhgAAZ+s2wChHcYAJGrDANATwwCFv8YAx+nLAKXPygBJsMsAFzfHAPwhvwDZ+rsA5ly5ANUFqQCRgZ0AODObADKOogCRjrMANq/OAETc4wBn6/kAnBwBAQCUBQFk1PwAzrztAHyU2gDaTtIAU3PUAO8X1gDFadUAPwTTADWe0ABJ9coAag3CAKhOtQCxvKQAf72XALJKjQA5BI4A7h6MAEGUkgC9Gp4A+wO5AP/42gDRlPgAP8/wAL7a9QAnevEA+D7jAJ1I1wC60soAPa3RALaf1QAo39YAvM/XAMSl0QCYIcEAPgjWAFR81QD76NYAFsvVAEm41gDtcdkA0pfhAMOC6QAlN/cAqcUMARJFHgEbHyQBccMjATy/KAG/KhQBZGcOAbI57gApgrgAxt+aACJ8lwCdTJEAYTeDAEt5iADy14MA90KEAG/MgQCyA4cAHKmCAG/dfwCd4IIAimmBAFlJhwDvXZYA7amyAE16zwDxq+YAk/DnABI/8wAj2/YAcK7nAKjazgCyjKEAr6+IAPgNfACdb3sA+OB2AOQXfwBhY3sAKlp0APtHbQDcCmoARZ9tAPCCbgA2v2gA+p9pAOxxbgDd9nYAVR6MALuOrgB5rMAA/NbBAAhSvgDDTbUAosOXAPJwhgBRV2UA+BxiAIEVcwAt63sAtMGEAEA7jAAqCY4ASbqUAJN9oACCbqwAyNezACt5uADOHsEAfO7NANnu3AD0eOsAHZH2AM0XAgFvpwwBQSMQAfxCDAH4YwIB/oD/ABfE+ABrJ+YAOZLWAN7V0ABOn8wAF5TFAKJ2uQBdUaoAb6mdAOh2kwDbW44AZa2IANLHgQBZwn4ACdl9AMzYfQA23ooANJGvALed0QCLBeQAUyfyAOIx5gDGT9sA/XfCANfKkwAFH2QAhK5QAIbYTwDBn1IAhFFVAMS4WQCSeWAAwjFoAJO5bQDxFXEAUJFwAEHMagAv+WYAPGxnAFlrbgAnmHkAmiuPAF1rtwCdYNQApSHfAPsf2gB/TskAGfLBANTytwBKi60AIYOjANIxpwA/NK0Ai3CzAAzSsQBhTrMAwVy5AKe5vQBPsMUAwOLKAINvzACBJc4AJF/VALDt2wCqMuUAv2vsAFXR6wBBVe8AyYPoAA8+5ADWGNwAnLjGALbqugDNyqoAcE+fAODAnwAwjKMAUbegADr6nQB5fZgA1MikAKjipgAEi6QAplycAEi+lAB1wpIAKnSSAPy5lwCcwrEAyg3kAJSgHgHyfT4BxMVoAVQQVgEhYh8BN+AIAUdo7QD7WM0A72qaAE3HfwAlpHoAFzqDAOXtlAAPnqYAHLK7AM8MvgC4FrwAOsC5AMasswBPta4AzA2rAM9erwC3jMUAxQQFAaYmQgFpoWoBj0x1AQz+bwFj2UcBdZ0KAWvvxwBb2Z0A0JZ7AHdQdgA1rH0AH39+AAxefwBSnnwAZ9R0AG3nbADTxGoArClmAGrTYgCsaGMAMFplAPLbaACpGXgAvKqUAAiyrwBTT8kAL7PiAOFJ7gAmp+kA2JHRANtspADg83MA4FhgAHQmXACgfloAIgNWAMhdWADMxFsA6nthAFjAaAD7S2wAzC1oAEW0XgCgI1gAhu1aAL7hXQA/aWgANtKHAOABogBlB7gAW/3QAF8W2gApG88AvmO8ALb4jQBTiGIAn3hHAE0KSACqR0kATtNKALtUTADDFE4A45lLAHsnTgB4xVAA/z5QAM/bTwDzH1AANfBTAHtGXAD/X2gACdxyAIO1gACRVowAl4iQAMVBggDAuHoAy0N0ALMJbgCuz2UAGv9dAOpmXACY9VkAAqdaAGmvWwBQ0FsAZKNbAAk9WgCtmVoAAzBbAF9rWwDKllwAEDtgAIQQaQCRcX8A5+GfACU9xQAelt8ALUj0AA+s9wBrat0ApW26AA9PlADKIXAAWmBVADmRUgDoi1UAN6ZYAJL5WQAdE1kAIrtZAA4oWgB2JFoAa+dcAIzXXwCRzmUAAEFuANhAfQCoyKUAz+3gANznFAGqND8BPwhLAfNdPgEfYCQBu2D8AAmn5gB4cMcAMGeyAFPqqwCAIa8ALciwAGpPsAC2f6oANV+kADrGoABV4Z0AT+OeAIcDpAAvXqsA8vW0AJdfwgBwle8AjJ05AXZldQExS5UBB3ihAedikgEGroYBSBJvAUt7PgGDjAIBchvSALzUvgCPpLwA2gm9AK3quABB1bMAfM6vAE2frQDSEKwA7HapAIBjpgAqVaMAYV2eAMbNpwAOxM0AYYgIAaiPLQE3UjsB/Yk6AdWAUQFNuEgBK+RFAZdcCgFDNM8AM8+sAK/hrgDNBbMARPWzAL/wrADrRKYAOi2cAFVnlwAcAJoAQ0ajAJpQqwDoyLIAiFe4ADnFwAC5MNwAY/j9APLBGwGSYSYBwp8eAdykHQGF6BoBOSIHAU6e4wDjCcAAvByeAKPxiQDlEYIAAQp/AKgudgDGvm8Ab89wAOLicwBMeXEABT1vAMjUbwChj20AGW9xAPWxeACM6H4AsZ6JAPG5jgDhkYkA0jWLAAPriQAIjnkA5GNxAOOpZwD3qF0A43JaAJNaWQBKH1sAs8hZAA4AWgD9X1gAIyNZAAPyXQAsw2EAlcxiAO/XYQCzemMAUmpkAAqNagDTEnMAwoiBAJiOlgAjIq0AfOXGAER/ywCgqcYAvQuoANAYjQBIQX4ADSR4AEQDegADinwA9td6AIyIdQBoP3cAIjd6ABtkeQApFYAAAQKMAMUTjQCCXocAlwOLAC3HkwDT/qUAyNe8APwk0QA/0uIAHnPvAOEB+AAtavAAJdDrAH3U3AADzMoAWT29AMsaqwD1M6oA24inAFbKnQB1z5cAUjSVAA1JmgC+SpkASSCWAFZzlQB1a5YA3YybAIr7owA3Xc4AqG8SAUI6SQFk4GkBL558AQf7fQH8DVEB910dAYj/3ACznJ8AsjB8ANJSdwCmgHgAx/t4ALp8fQAgBoMAGEmIAHO+jACGPJMAQYeYAO6jnQAqd6MAU1usAJGJtwAAEdUAMUb9AGqTIwEMYS8BTcE2AYhkPgHD1TsBj8EpAaZEEAFxP+YA9aPFAGsGugA2vbUAnZOzAD8gtQC6Oq4AowGnAHUrogBRhZ4AN+SWAF5blAA+mpMA0RWMABOYiAALN5gAC9yvANL+xABdptoAoRbdABfb5QDva9wA5qzQAOQmrADGgH0ADpBWAGXXRwBPxUUA3GVFAB27RQCD2UYAfNdOAOEuUwDHNFcAi8laAPwOYwD2+2kAiMNvAFDJfACEUKUA63vCAHkp2QDX1vIA4GPrADLX6QBBau4A2dXoAEN8yADPOKoAoF2QAPPAiQBbdY4AvjKPAInhgwCFzXoAGTl3ALi0cgBXkWkAHOZkAFPJYgCmUF8AMDteAHbwYwASh3UAwqmOAIdosAAx89cA0Cf8ACVG9QCyl9wA1ETaAEbHsABoMYEAwlpeAOGLUwBd3VMAXcdRANuDUwB/UlYARQtdADyTXgDH9GIAu+BoAOWGagDuOGoASS1wAN61ewBrpZIAy1uzAKLU3AChhhUBYzM2AWtkMAEfAiAB1HgNARvv3ABIlqAAtSNuAG0DXAB+IVEARAtKALJNRQB+h0IAKIRBAC5zQQDhzEIAC5ZEAGMjRQCm/EYAwiNMAGx8WgDCPnoA7XWlAOpiygCF5dsAPIjiAB375QADvtMAJUWyAD4xhgCb1WAA8LFGAClIPwD2oj8AxbZBAGOORADDvEMABd5KAHLMWwBrOmgAFktzAHq1gwBto4gA8bWAAJo2cQCxXnEA0JCDALDdlgAvc6YAUZSxAHZwugBcQ7oAYCC5AFArswAYh5oAbD6CAMGNeQBrk34ALJ2DAIp2igDGFpUACGmbAGrzngDH4aAAFUWiAC3rpABPAKcAPAKzABrmvwDt3NIAcbnZAGte0AB2GskAERPCAN5JtQC9g6YAt/GYALosjwBiX34AYGNhAOLNUACiukkA3jpIAKGkTgCfalcA4q9dAFSwZQBEp28Ab1B7AObDiQDmk5YAb4SmANLBxwCK2/oAslw2AcskYAE+4GgBLAB5ARXuZgHk2lgBkA1DASk3KAFqkfcAgYrJAGtHrQBx+6UAPGasADcpsQA5N70AU7nGAB4FzwCVJM8AURXJALqYwQBxDMgAiYnLAOL42wASPQoBBOE2AQlbOgGRmEIBNIxGAf2tQwGrwj4B2kQqAc+AGAFQ/v4AAbjhAPtKzQA+J70AgIqqAFuImAChBYYAh0ZzAO6BawBoYWUA7F9gANPEXADzKl0A/09hACgzeQDrFq4AB3TjAM+JDQGebxQBx/ArAe5AKQFXuBUB4Rr8AMlExgA1QpIAKa1zAP/xbQBlInIAu5J4AIMYhgAAEo8AmsySAP0PkQCxJo0AH1CLAAphiACMw4oAe4SKACMnngBRq8kAqS/vAIKD/wCF/gABa8T3AEMG+QBEoegAwLy/AHZ+oAB12YYArmxhAIEmVgDqvVsAIG5lABo7bwDOsm0ATnZ0AJOZdgCelX0ACGqGAABchgBVNokA0sCNAB/SkwBl+KwASLnIAKCo4wALrO4Al+XlAKse/wBadf0AVQnYAMmEwAAfp7gAqZqUALm8fwDiQXwAi8B2ABXYcwC//nAAfiFzAPYQdACYWHgA90B/ABXrigBT7ZcA5b+lAKhqtQCaWcAAzCHTAEJp4wDiFggBkAU0AfWqUAGdY1gBy6Q9AQiJFgEF6/0AQrzTAE+ItADbn7QAAY28ADwgxwCh1MwAtcbLAGC6xwCGUMUAskfEAKSoxQD4U8YATXzJAIfP1AD9r/EAb0IOASdoMAGglU4BDjRwAat1XAEkbFMB6z4wATk+/wDS7b4AU/qCAAt4ZgBw7F8ABKZbACzTVgBfQ10At31sABCqdAA/EW0AczddAM5iWQAi0FAAwfJNAJM5VQCPJmQAoqR5ACH1lwDFpaQAdFCTAKyRlACYzZEAIQWkAGqhnQBg8IsA70RsAP13TADLRUMAo6ZDADm5QwBrD0cAdnRGAFm2RAAah0gA5ZVQAPp4WQDoz2oAiDt7AMAokAA5/bgAbqjlAFgbDwHyVDcBeQ04AWJtFAEWpP0A2ljqAFv1qgBQqH8AKwRxAEOkagA+8l8AnCFiAFVsVgBVUlsAsv5dABAZXAB/jFgApDlUALLuVwDapWEAd+tlALfkcQAlnIUAjUCVAGWWowBc1bQA3UjTABTq+AASWAsB0doUAYZQ8QAEG8sA8yOlAIlufQDOLWwAan1qAMcscADQ6XUAZP54AEJ1fgCm0YIAWquKAKNmkgAMn5gAW1alAJFSwwA77+gAde4FAV2EEwFvjhYBclwmAT1qHgH2OyEBjlkRATjZ9ABAYdMAdqWsAE5ZjACJl3kAOFxrAA4AaABIoWYAg1ljADsjZADc524AVrZ5AE0iewCdjH8AynuFAG1RkAAQNZ8AbTS0AJNHygDy2s8ATqbUAJ8Q8ACllgEBRAj3AE4r6gAvttMAlfHHAIijxgDQGcYAuHnKAGv6ywAAfsgAtE67ABSArACgzqUA3tWaAOaYlQBrXZwAlpKoAGDmuADrUcYAAOfZAPrbAAGpdjoBEa5XAZ8tXwGYpkkB/sszARtzGgEpJ/MASLe+AECppgB9v5cAQVWOAF0bjwBPC4oAFVeJAEgEkAAcX5EAIPOQAFLYjABdqo0AoiKUAImWsACQ89EAuejjAJnC4wCvmfwAF0UTAU0tNgE4qFoB0h9mASEkOgEvIw4BsSvTAMqdrQD08pYAWU+GAGqgeAC9PW0A4XhsAMtfYgD1AlUAn1NZAEDjYACMNG8AFbGBAHt4rABUlukAexsrAcB0UAFhV2gBqgtxAeRLZwHks1YBKfVAAYfcIAH+PecA0YWkAH5FfgD5fnYA0IVyAA8zcgA3wGwANkp3AIsQhgBM9ZcA4LOoAHu8tgBDCrIA5pCvAOT3xQChuf0ADIdIAbLgagFwLHQBl1GbAcqAmwFVX4ABQeRUAS6xEQEFs7oA57N7ADa+YAD1nVgALW1YAEbWUgCM/0wAJtxMADjLSwBBcEUAS3ZDACggQgBf1EIATABIAAf2WwDAa3kAms2wAMn14gC9o+sAAM3HADNYnwAeKJkA/6qxAMbssADiNZ0ArxNrAPUQTgAsGU4Ay01WAKXJWQBWGl4AS55dAKyOcwCl9X4Al9eRADH7lwDqX5oAjQmuAEgbyQDE6ekABK0ZAUAHTAG2hV4B/75FAcXCNAE8wisBoAcgAc82EQHl8/wAS6flAKCt0gAY+M0ARDbMAMgoygAXksgAcZXBAN4ZtAAOqqwAV/SiAG7ZkQDaqH0ARqd1AFzJiQBVWb4A937xALlpGgFPdFUBpDeBAf6KjgGnP4oBZe9vAYVkOAHfvv4ASOi5AOITiwA71IcAIPeLAG8+mAAP+KcAnriyADGnuQBqV70A/w7BAORdxwDC/ckAn/nHADuXyQAuz9EA0mLbAJes5QAVkuMA1ivjADxS4AA31MoAieutAEFMmQBOgoQATzRwABGgaABt0msAh6F1AMPPegDZ7H8A8+yFAKoLjAD8nZMAfHuZAOd3nAAwpaQA7gawAGZ7yAB6OuwA0XIZAfHhVQEKsnUBg3SRAUQDjAH22IcBtzphAdSzIwHbx+kAszyuAORgjgBquIMAnYCCALINhgBgdokA4YOJAAdBhgCE5oUAPDWDAPO3fgCcoXMAE891APFBkgDzvcgAky0AAf5DLwFXT1YBlyxjAcH6aAG1o2cB2BtcAQcmMwFmPQQBb9jQAKW8rwBDVqwAV9yxANtipgACp54Ay5GRALDOkAD4WnkA17dlANa8YQAfdl0A3AxkAENVfgBCobQAdncDAYWQMgGkMFcBNT1qAV+8cwF+EF4BHKArAftp2gDzfpMAlxFfAC6yQQB5ED4Aeh8/AGghQgDIW0sApjVWAFQNXwCPZXIATJp7AJwVggA+eY8AISemANCd2wC4lxsB9NE3AZguUQHmXDgBi1sXASaLCwFyggcBEqQSAaYAMAHOpRQBrPDvAFCv1ABccMkAlCbLAFzlxgAigMIADdW8AIpdwwB8v80ArdHLAKibwQAYQs8AQYLhANE58gBjUBYBg+IxAQ0+PwHPkl8BtMxHAQhPNAHCASQBUHQsAQHSEQErWwIBCSPcAFqmugD615gAlpCEAFYocACqSGUAaCFkAKT8bwD3/HsAlWCAAKeKhgAvt4kAtOKPAH7TnwDjtcIA0RvfAJlWDwFAXBoBe60QAUM5AgEteNsAn57fAOlB3ADv5q4AfcWAAN+eXwD90VQAiKxRAIYzUgBcaVIAkLVRAImjVAA6AFUArV1XAGa6WwCEFmAARJ90AOXyowA8PtgAH0r/AEV5DwF3kSABwA0tAQmqKQG+tRcBBRcFAW/d9AAmeMUAVsShACCOlQDlAZsAu8alAIZArwASOL4A9/nDAIutzwBQQ9cArxDYAN2h2QC5jtYAPJnWAFjG3QCrMvAADPEQAZI7LwHA8VIBlwdrAYCvkAHGhJIB4WZtAUKuXAHTDxwBJOUDAeLI4wDeEdQAtDvMAHHtvQC+YLcAGe61AAbJtAAgZbYA/KiyAJcPtwAiWcIA5unJAAeY5ADCigkBZeovAetUUwFVIW8BMzB4AWracAHSKm0BUalbAWyUNgHUTh4Bt8D4APBc3gBiicYAyru3AHvRrQAHTKkArx6pALn5qAAlZLMAg828AFOXwwCpsc0AV/vYANgG+QB9kiYBgqNjAXFAcgEZDGYBdP1yAW9kWgFLI0oBltw9ATjzJQEX4f8A4THRABjTpgCEFo0AsUWDAFY4egA6NnYArVJvAIjZbAC7iWwAsD9nAPUWbQDdTnIA6AmGAMyzqAACh9oA1S0YAUuLNAG58zwBTKEvAchXQwGMG00Bkyc9AVOhKgENlvsA4lHGAH4KkgCpsnQAL3dmACaiXwDYD1wAu61XAGUmVgDLilQAePRTAMrTVQD7V1wAdNZ4AI94rQAkYeYAOXEcAVbkNQE7FTIBgNVRAX6KSwGz7EEBErYcAc+8CwGPfdMAjJS/AEDxsQAfqqMAheeYABUGlQBii5MAVeeZAL2moQCxtqUAuhirAGZQrQBH3LQAwX3LAM7V8gARLSEBnJEyAYtoVQG5b4QBMtKYASTMfAFXVHYBcZBlARPtLAEBTgUBfebaALyfpQDUCZEAaKGKAAEjgQATcHkA/LBrALTeZwAXmmEAurhiAP/wYwBnhmcAYAt7AKhinAD2HMQAY+npAIp7+gBcOgIBejsZAT4fKQEbNjcB5owVAfVk7wCQSbMAtMKQALbVcQAWtmAAWQNZACE+VgBrdFUAhgpZADfnXgBzf2IAKFpnAPKFaQDY3GsAdnx7ADC4nwDi2c0Aeg7rAF1MCgEogCoBpSZAAS2cNQEnKiMBnpLzAKDAxACWVpYAjepoALhSTgCUL0UAtm5FAKOrRgD7RkkAV2RMADUHUgAYoFYAze1cADTqYQARCWwA6SB+ABoOlADDYq8ABnfKAMbk9gBxffgAo8D4AFjy8wBV8+oA5mnWALh4nQC+wW0AbGZXAP9sRwDnT0MAZNlNANXtXgBhRWoA58V1AMkkigCW7IoA2q2JAKEYjQCiI5MA+l2lAIv1vgCq4e0AtQ4pAVKaUgHKAkEBwLZLAfOlPwEemjYBOvEsAfP2IAG85REBBEH0ACfNygCX3qUAAheQAKt7fQDmwnQAKJVpADk0YQDaMVoA4TBYAJRBWACTa1wACwB3AMxFpgC1cOgAFawlAVe2UAFK8GYBIj9hAaRCSwHOTzoBr58BAZw31gDnApYApeJdADBUQQCDfzQAtwo1AN5DNgCX5DUATaQ2AOyJNgAHnjYAnkU4APjSOgDE2UMASEdRAOb3bABhKZcAnQi/ADqR7gBpxBMB+ZgpAcW2OAHPLh4B9c7nAInusQChsIkA7xFjAE4pRgD7PzoAg0k5AHfcPAAs6zgAkdY1AAxqNAAsLDsAu9Y6AF9WNwCzbDkAFS9QADqIfgBPrMMAvusEAU89PAGquGQBuYh6Ade8fwGRQm4BUMBEAZZ5FAGebtMAFjecAKPubwA4EmAAR8hgAOKGYwAYS2UAGBlpALseawBFZ20A2GhoALYbZQAfpWYAjs6GAN2JvQBwZwABzBAzAWa7XAGjX3UBNfJ/ATnFagEo3k4B90skASCM7QDgCroAuWSEAN7ZYwCuamIAOvZsAKGZbQC1aGsAyFt8ABu7hgAjN3gAJ4FfAHXwWgDBTVoAUvJjAMFybwAc2oEAsX+WAMReqwDV/rwA4CTZAMQF7gBMwO8A0LTvAHxc4QB/FtMAmhy/AHfdmwBYu3YA90BqAHNmYQAd4FgABPdUADnYUAB+MEwA7T9KAPM4RgCoGUYAx69dAOUEiQCG+rkAGTzmAD4M/wABCAkBxe8MAQ8F8ACf+NsAyLjAAEJ2kwA+ZHsACl5mAL77SwCMwDcA3EY2AD74NgDYpDUA66s0ALPVNQDWMTgAMAY7AL92PgAPbkUAsHpbACmndwCKnKUA+8DFAHD66wD+KhEBbe0pAYPdOQFzFgwB7LLqAPjwyQDaXI4AKy1mAOPuQwAnSDQAmk40AEgvNgC8HTkA/kc6AFXkOQB7kTkAyWw6AFnYOQA0iT0AsMpTALQHegDa2rAATrvyAO7rEwFfsSEBOeskAXhECwGu1OsA/oS7AAcNjQDMh3QArNRjAMYuVgCeLksAWFVHAIlFQgDgOj8AjA89ALoWOwBWxToAff46AFxUOgCCJD8A3ztZAAEEiQD5gswA8XMLAeq8OgE2IU4BZ1NWAQxXVQETzUIBW08cAVmF8wDUrswAyPiaAFfLdgCrXl4ANshZAMA1UgCkgUcAE2xBAF0JPQATnz0ATmpBAMieQgDHnUMA0ZNOAJxcaQD6A4QAOomcAPfPqwAcwK8A7ve2AJ6lxgACLtAAjvy6AGtVoADonJYAQUR3AGoVUgAwQzkAcXczAEKNMQAGbDEAZ7wyAKHUMwCmcjQAWgI1APG0NQDunToAsgRVAAjJhAAhisEAfgP3ABWlHQHaOSwBHtsVAQnpBwGnMfYAUOnLAEQiwABLJJsAha5sACyRRQCZLTEAZhQvAHEaLwDRHzAAlh8xALKuMgBszTMAQAU1AEfwNQBUpDsAS0ZWAH//iABNGsUARqT+AMGBJAF8WEMBe/pEAQp3PQGsNSIBFD8KAQ2M4wD4d74AXxSUAOAXZQC7C00AAH5JAB6HSADJaUsAZEJRAB28VAAdOVEA8R1KADqCSQBCoE8A4KdlAKx9kgCzwtIAWIkSAcejQAHwV2IB4LZ1Aes2dwHuJWcBo6BEAZ5nHQGqBuYA0OCwADvugQABpmYA8ElnANhoagB6Z20AL+xwAEBfcACc3G8AU5xyAL3JcgCVrnoAALecANOXzgCZgQUBjDs/AS9nbgHY+YsByz6gAZ0anQEV3YoBuwZeAU7xJAGCQ+wAHcGuAMMDeQByaWUAFypuAGhiaACZa2kAlC1jALosWwD/A1gA6uJRAIBaTgC3AFAAyrluANcPowAFZOEAH5AOAbqLPAGSuVkBR0BaAS53QgE/CxwBYXvrABmAwwDeMJcAq+5vAHDnTABx9jcAQPw4AIRRPABzbTsA0us8AHsHQwBUfUYA7xFSAMlkXAAksm4ApiyeAPLR2ABoTRQBj7dKAaXBfQGcVKYBKUS9ATpQogHITmsBe5glAU1V9QDrdbwArDOOABJIYQB26EQADyc9AD6FNwAVSjMAFUUxAPxHMQCOEDEAWngxAFTNMgD7ZDwArJNiANUzlQBqKcwAbULjAHxqAAFHDgMBkn0EAQUq6gBfXdMACZGlAGlGeACOVWkA+tFZAM1cRwBAQToAM441AHpbNQAOoDQA2BY1AL85NQB1CjYASbw2AJBUOACcj0AAFh1bAIZGfQB0Gp4AVfqyAB7/3ABlLBYBm+wiAYP4JAHhHwYBSxrFAFDnoADDkXgAI5RfAFDqQQC5ATEA7ukqADlbKgAMeCoA/yArAKxYLQCy9S4A7MovAK2qMQDJgDcAZmxJAEqcZQAd5ZEA/ZfCALL+8AC7e/sAczn5AP/x7QAVPr8AcImiACljmwCzJXgAfzFlAFRBVQB+10sAyG1HAAuBRAB4yj8Ai0s+AFPFOwAypDsAn206AG9iOQBilz0AF4BRAL55bgD/i5oA5wvTAEUXDQF0FjQB7YFFASKtOQFXWxMBsj7mAPAqwAA/7JwAkbGDAGvKVQCGezoAgsU0AMPMMwD/BjMA8FIzAEDmMwDFHzQAJqM0AH5mNAA1SToAFAJRAA2jcwCbhakAxrDhALdFJQEkyEgB/oQ3AZKuTQEcnD8BqwQuATF0+ACYGN4AnPi+AAJSkwDDBmsA4GZbAFMUVwDDdVMADl1OAKb4TADiRUwATWROAA2JVAAkxlsAjA1wAKEpiQCDY58A2TW+APTg0wCb4eUAnwMTAa/WFwEB+fMADrLdAAtAxQAEk5wAPoCGACJmbQCAgUkASdM6ALFJNAC2JDIAhZ8zAEVnNAAp3jIAxUkzAMWiNQBQoEIATHloAAOMpACzf9wACZQbAQBuTwEnwlsBPeRGAUdSKQHJhPUAvk7YAI2AswCp1pIABIZ2AIUWYQCffFIAn09RAO4kTgC8oEMAyhxFABMFSQAK60oAL/BTAOfDXQDzinAARdSRAMpqugCwDNgAginvADuS8gDnqvsA7awXAdDDEgE0/CsBOGMnARsiBQE0oOIAT63JAIsJngChaHwAfX9sAEUvagCaE3AAzvBzAKqDdAA3J3sAuXh7AHzddgBNTXgANLeHAJ7zoQCmxMMAQ0/oAEEUAQGoziUBg+0wAXkoOgG+1iMBWfIMAe1Q6AADbcEAno6EAEUXXgArPj0AeRw0ADr1MQAMgDEAoa8xAFJfMQDVNzEA0LUwAIHJMACqYDkAqpFQAAKGaADNWIwAZmCkADvzrACZb6wApYmlAHrplgBX9n0ANx98ALXGaQCtT2AAa39aABlKUgDDQk0ADfpIAOXxSQAgfkgAg09IAHBERQAsnkUAdpdLABuITQDs+k8AFPlYAG8ZawAybIYAzE6aAOsmrAAamscAgUvaANzN2wCYVfAAlA7yAJgZ1AA1vbYAZfWNAJ0rXAB6Nj0AxWg0AGaLMwARdDUA4Gg6AH6tPQCaS0YADFZQAJxEWACQ0WUAlpt9ACVoqAAJ89gAz7/6AP3e+gCFN/wAcVnxAEoxAAG5recANZTcAP2etADo8pkANQWEAC4TdABBR2EAezpeAKbMYADSjmIAb8BoAGAKbgABvG4AAmVvAFHkbwAcAXMAJ9CJALqpvQBgzPEAPL8gAdTcPgG/IFUBbNpBAYl5GgH0OvwAQYLXADYmqQANFH8Ap0ZtAO7LWADZN0sAQY1EAIDFQACXgEEAc9tEAJpiSACxR0sAnIxOAFRTUADVC10Aq/eCABY6ugBu6eEAyNMVAZIrPwHAq1UBEhFFAT1XQQFU7zABnazpAOj3zgAluLEAhdmjACE7oAA0x6AAuP6fAILpoACW8KQATG6mACt5pgC62qcAxiaoAJDTpAC2ZqQAoAyvANcmxABwvtYAnUn4AFDmEQFp4DEBtnsoAS9YPQEm5y4BbL8iAcInFAE5b/YAHkG6ALjbewDaskwAzAM/ANM/NwAV4DcAhr83AEGJOQA//joA+2E7AIZiOwD50UMAaYxYAJ/DfQA58rwAALzpAE5TBwEzDv0AsCXzALlb9wA6oPQAGuzgALio6wDsPsYADg2NAApFZQDUHFYAuTVYALj3WADsKFsAKdlfAPaYZACDj2AAW/9cADztVwAUgVYAualuAKfTjwDh8K8AXJfFAO9S4gDoKRoBjt8jAcQXPgFS+jMBhn4mAXAtEQHo/fkAgnnTALSrtgAerKEAODyYAOh4lABSVZAAIMGPAIE7kQAa3ZQA5biZAEJ/mwC6tZ8AOBOqAF79twDI/8UAbJfSAGD95QDc3vIAnNUGAUGwCwHcHAkBCGn4AOu/5wCBttAAWFfBAKq4twAz4a4AxkKuAEfAqQCIzKMAV46fAGQTnABZEZMAYFyOAJI9iQBAUosAUYuYAHefrQB2vr0AxhbWACqN7ABIgRABqpQ0AWt7QAFt9D0BfJwvAQLJAgHxtuAAqB6rAOD1fAClc1kAsSpGADZwOAD86jEAn8UyAHmYNgAuJjoA5JE7AF40OQAvPT0ACsBKAMOmYQDkhoEAvL+UAHN3vwCXL94A2RzwAFrG3wB32dMAMc+wAK0xjwClk20AV+5WAF3YQQC42jMADesuAP3TLQAGjS0A6fgtAPnVLgB19C8A0pIxAB3nMgCNWjoA611KAHKHYgDtmo0A3W+8ABbO6gC9iyAB96QjAWyzIQFXliABLrkTAbqT/AD0+tEAq9SsAIkulQAS7Y8Aa62QALO3jgC+z48AOLqTAAEZggAOC3kAIXRnAH7QXQDIeF8A6Rx7AAEEsAAUZOgAv9gcAfR8RQFqO20BzEeIAXmnigFWHm8BI8ZWAdgRNwFp+vMALnC+ANLzfgDaJ1IA/o9BABf2PAAdXjwAqZc/AGFfRACxs0QA44BFAM87RAB5iEoA3/JfAE3aiQDILcYAfSQMAQFCHgFF//AAq9XsAHpwAwG9RgABEGPyAAjy4QCBN8wAVRGLADIMYgChXD0AYwkwAJMNMQBAxTIAsKU0AM+iOQC9xz8AQLRFACqKSwA7XlgA5dZ0AOjYpQAPmtkATrAQAZfVOQHKUTABUkxCAXlqSQGN9zkBzmU1AdlXEwHe9O4AceG6AHTZhAAKl1sAeqVTAKplVgC27lsACJNfAJc5YgCEpGIAWUleAIH/WQB+nWYAJt2KAJPYtAADKOMAQYAbATCiPgFhwzQBpq0yASxrTQHLsjwB+vklAWce4gBQWbsAV4aYAKSpbAAlQE0AQ/05AMvDNwCArjoAt7NAAB/+RACqdkoAwGlTANKJWQADuGQAx4SLAJHVyQCH8hcBPyhMAT12agFQpoEB8ol9ASpYcAEz5VcBTvIwASx09gAgOMoAqfCiAEKseABu+VYApF9KAGA3SAC1/EMARctAADxwPAAp3jwANhw7AHctNwDMDz0A+q9OACyWZQCDDX0AfY6RALm3owCb8boAtfLNALyY3wDr4/oAsML6ADnF7gDVutsA0araADfqxwAVUrAAK0CiAOb/hgBmaIYAdh1/AD/FeAB2cXYAotN4ACJDewAQJIcA1X2uABv05gAz9hYB7p8xAbFgOwHhuV0BtPxsAXRVeAFfj1IBMVFDARnEFQF8XfcAlmG+AGaHkADLNm0Al6heAK6rWQBx6VcAahJaAA0hWQC3DFoA591bANAIXAC5yGYA192OAGOovgC6cusAtvoNAYm5JwEydEgBmXk4AWbBLwEF+yEBhUwMAZF45gCiT7oAvSmTAMBUagB7UksAfTs/AFE/PAB51T4AXBhAAHthRABOZUkAMq9PALcXUgBrHWAAjQl1AGr1pwCEkusAE44gAW3WQgGFTjQB5lxCAbdCQAF5HRgBGXT5AMjn0ADZQagAORBuAMuCSgDwPjgArEAyACUVMwAZizsAS4ZDAGtlUAAXdlgA9DlgAOO+agAFjnsAwOySAAfasQBRKdgADqX4AP7d5QDZQuwAJWPtAFuR5wAdLt4AQSLjAJIP2ABOesYATA6RAN+gbgAsC1EAEtxAAKHpPwA3mTwAle87AHYROwDHzT8Aga9JAPbxVwDg0HIACMqbAI2B0ADgHQsBM0obAaM3TgEAsGIBMb9tAaGOZwFg1zYBUbgPAVnLBwEvDewA/E7aAM3qwAAB7LIAMZyiAP4XnAChOZoAdmWXAN5zlABIdpAALUiIAFCghgBvupYA7VS1ACbg1wAqvwYByGkhAeDVKQHcXikBFcc5AcQgHwG6BSEBWDInAfB7FwHLp/QAytzNANoPoQBw9mwAsdVTADhGTwDs0VAAcMlVAC8NWwDuNlkAivZVAFhTUwCIVFwA5+txALWAnAA9ddkAv6QFAV3AMAHIFlUBeERqAYHFbAEAt0EB6w8tAaUnDgE4E90APsGhAFiHawCMyEMAYSYxAMHyLgACji8AYvouAD6SLwAobi8AUOcuADSjLwCTGzsAI8BPAAsRZwBXWYIA8BOOAApgkwCIS4oAM+yBAKkVfADRdXMATvdrAISzYQAvCl0AyfxTAEluRwCv1j4A88E4AJjtNwAd8TgA1QA7AIGdOwCULTwAUCU8AKR+PgAmtlIAyHRzAO9VpAD2DecAmPADAd+bPQEY3lUBTBlVASofYwG6Al0BUB9EATh0KAERoOwAAJq2AIiTigB3rFgAr7I8AKstNQD5FzQAGT8zACy4MQDimjIAL+UyAL8bNgD4dUgAOB9jAFXqhQCvVbMAi8/jAKRiDQFwjwYBuqH/AAI95QDyT+0Aq27aAAZ5wwAtFKAAZDJwAFYpWQAfKUoAz70+APTTOwDI1DcA0wc0ANszMQA1iy8ARF4vAG8vMQBAXTkAXGVIAIrDWQD5dXYAA0KEAC9giwCSpZwAquKYAG2ofgB4aXAADmBrAJ4JXgBXJVkAT2BTAB1lTgAiN0oADXVAADuoPwAGAUcAzAxOAK3EWAAJwlwAjZJlAHRaaAAPaGwAfC2MABskswDZNNEAZvvsAAZsGwGfVzsB9lhaAUoHRwHRpiEBCmQGARj34gBUj7sAfdyQAOREagDu2UUAH/MzALOeMAD2/DAAMqsxAGXKMQBlnDAABtIwAPtFMQCwSkAABVRnAPVWoQDn9dsAaLIQAfghOgFy0D8BusNIAU0JRAFdEisB3tAcAcQ+/wCn+tUAVxyaAHImaACKATwAliArAD3DKQCIoykAh/cpAANsKgBunSoAYRsrANddLAAEhDsA9PBiADHZmgAfM9UACBoNAfxjOAETQU4B73BGAa2+QwEn2jwBtZYjAbRH9AAeUswADTWbAAoeawCE3EMApOk2AKA4OAD6ETkAiUU5AAA8OQCMVTcABN80ANMvNgC+ckMAZ3JrAOvBoADg+dkAWnUOAYJlQQGpHmMBbp90ARGoeAHXiW8BXiFWAQBrMwEyuwIBTEvLAIj3kQCHVGMAO2NOANR/SQBEMEIAPMA+AB43PADnejsAdHc2AFrINQCeIUMAsA9pABzKnwBVr9oAlNESAaIoQwHsX2gBv3R5AclNcwH2cFoBS/Q1AbieCgEz28wAiJGaAKhbaAATlz0A5SctALgoKQD9/CcA9w8pAK/rKAC7MyoATbssAHzWMABXgT0A8GxlAF9HlwC0V88A7lQPAZxkQwG5XGQBZgKEAT8LgQFhdngBLBZbAcScJgHQx+0AAj3HAHpiowDMbIMAUdBzAFqycgD0zGUAgkBaAB0uYADfYGUA/19fAMpqXwBEWHMA1G+bAJ1D3QBe2RkBSak+AavxYgECwX0BwQORAcktlgFt/HkB9UVgAX7SKQFsSwAB5XS7ABx4gAAOlVAAnMs6APWbNgAKZDQAtfExAJy7LQCHrioAwXcqAKK2KwAomzwAGgZgANZ/kgAFtM4Ae3UGAZ91NQERNkwB9h5eAd6VVgHhzD8BObAYAchH5wAyfZ4AUlxqAJ5mUwDhBUkAqVJCAJZmQgAPazoAgpwzAFS0NABI3DgAkD9BAKexRgBcP08AYXFeAPXqeADhtqgAjODwAEZdLwGoVj8BhtUxAU12KwE1Nx8BOdPcANxlugCOuoUAJeRkAEXeUgBcOkYAR1NEAH5SRwDbkEYAu+dEAMgiRgBpA00AUIVNABqySwAzXU0ApAFwABvxrAA1VNIA6yPoAF4A9gBHRxwB944uAU7nGAErzAoBLlnqAMNp1gAM/sIARIyhAPpShQDkSGcATgFaAOyyTwBslE4AW3hRAOFFUAC/TFMAHWRNAJvATAD+DFIA0BRiACaFegCCEZgAQ/itABuJxgBpAd0AiXLmAKVI7gANP/0AqDgEAels8gD0x8YAN5GbAH7wcAD2LFAA8lI/AOREOwDDXDoAtOw8AC7gQACiMkIAiINGAExZTQAAgVsABj53AAInjQCPV5cAJ/2VAMF2mwAYVqIAb1qvAKR63ADsc/8Aee/tAJHZ3ABRSsMA9tSeAOg+igCQFXsAOt2BAJYWiwC4V5AADpibADm/nwDFXKMAZa2gACLRnwCORqUACtSvAH1s4QBbnR0BFThdAfZHeQGIDJwBEuSvAWJZtgF3zp4BYNhwAV26XQG2jy4BNVIAASlVxQCxPJ4AgsSIAIMkhAB7goMA9qWEAKECiAAGrY0Axo6NAAeCigA2IIwAMYiiAG66wgAI1d8AUtn5AGD2AwHNlwIBtKQJAaXzCAH4Kg8Bp6XoAIs21QCzwrUAQ1yhAOVYkAD3jn4AozBtABnXZQCMUmMAL7JnAJivagDsxnIAdMF2AIMOdgDRyHwA7kudAII8yACywOkAjhL+ALFXHgHEtTEB1oxRAXKhaQH5aXgBBetkAViHRwHXTiUBVnL6ALo24QC/37cAq1CVALZDgwAiIX8Aa3x5AJPGegBD5XgA591yAOMEbQCfgngAtkGeALZh0gBubxkB/e87AfA5TQE/sT4BUqM5AamWDgHtmPwAh+HbAJsRyQDs2M4AO3GvAEmkkQBdPXsAUXFyADolcQCrkm8AizVtAHClZAAY61oA6idPABMtRwCq3k0AZ1JpAKRBngA+BtoAQB8SAaIHNAF+ikUBsII9Ac1xHAHfmP4AOAnBAA13ngCVwnQAzJdXAInGQQDiPjUA3XYzAPVCOABX7D4Ao6FEAEV1QwDOKUAAJuxCALdsSwD8P1sARDl/ABxztACoYuAAB24AAXmkFwFTpCoBnv00AQRHJgFWfgwBcDDoACLTugDkIYoAGTNZAHQ2QgBTgjwAy6I1AElpPgCtdTsAjUhAAHUPSACmX00ABe9MAN0LUQDZXVUAxzdlAMCtjQDieMcAO2vxANZJJAGo+zAByilLAcSDbgGvGWgB+jBQARxKPQGrKyUBL5zoAGHatQAt5oYAAaZrAOdFYgBziF4AdJ5cAPP5WQBCxFUAq+tQAI71SgDBD0wACfdnAK61pQBuk98AqUQLAaoqIwHGeTsB2V49AdDtQgEmnDkBbqgUAdvc5gA6fbUAq9l6AC3bVgC/3TcAMpIuANyDLQBFYzEAZJs1AM5YNwCQwzoACMs9ABU9QwAQuFEAB15qAE7geQDqq4gA1I+SAH8XjwDWb4oAXrWQADtEpQC0mrUAzSq3AAJrsgDIOqEA+5aSAM9veAAUSmYA5vZcAP7lXAAA2FcAKPRPANCVUQB2BFUAa5RXAE+oXwAagGgAax6EAKOUnwDvf8IAy/XtAJCHCAFY5CgBEVo8ATTmHQGL2iQB0XkiAakSBwFYOegArj3DACwDmgAWkX4AdExrAJmqZADxn2QA3PVoADjVZwBN92UAvUljAJ0MaAAZhHUAH+6UAH6UxACCLggBobtIAfMFbgF10nEBpS9gASVgZgEJEGUBrTRJAbWLGwE1iOsAuG/AAOSwkAAuPGIAgPhKAKmgRQAB/EEAKcM9AB9uOgAMsDcAXkQ3AH/JNQDiEz4AFYFiADMPlgD9XtAAnrgIAbbeMwH2OT0BiwlQAaVPUAFWYycBHPXyAM2uwwDpyYYAMuBbAAU9RwC/gUQABtFIACUySwCl1U8AmS5VAPtXXQAw/WgAXQR6AJCejwDUgZ4Aho68AIqh7ADXKRwB9Y85AcUjUAHwKmcB6glbAWK+VgGAHioBZoM8AS5KAAHuiu8AOpDDANHdnADueIAAAfZ6AFa7egAUPHwAO491AGtOZADRAVsAsuRWADfhUACbg08A2cBcAJCOegDikJ8ArWjMACax9ACb6BQBk0VAAaGzRgE9UEMBlDQuARGn9ADGX7sABn6JAPb9VAAYYjEAri4pAMGyKACcqSgAVBcpALbSKQCqRyoAvRorAIWCKwBZNDMAeipTAE4sfwCWeq4A9mDlAOsiGAH4aDoB279CAQIgSAHb4jIB9eMIASJ06wArh7QAgdeDAE4uVwAl8DYADqYyAGkMMwBP+jUAIao6AK75OgBSDjgA0j01AKGtMwDFJTkAh6tOAPwLbwD0VJIAhTfRALMk/ADsWQgBPEQxAfU7OgEobg4BSB4BAepb2gCyM7AA02eFAHqlVADvtTcAwt01AK/5PAA3/EEANCVIAHCwTQCnnUgAOnRCAB13QADaaEUAnzFkAN6MlAAhXc4A3n8DAUeAMgF+708BtCdeAbKkUwEwnzoBH/IMATcT4gATZKYANR92AOfdTACGvDEAakIoAMLeJgAxUycAe7EnAOIwKACQlCYAyqwnAIRqKABeATEATUVOAP9+dwAHiJ4AliyjALe9sADZIaIAOmywALNMxwCHqsEAJIazAB3WjQD153oAmbFwAHqfVwB/DkQA/zA8AJ14OwBoTjkAFJQ2ABPFNAByKDIAyu4yAOeYMgBjFDcAznVbAPpCjgCPpr4ACg7xAGrCHgGq6zgBH7pPAR5QSQEGtFEBE2U3AVD/EgHVx+QA67GvAB1+jAC8xoAAX/V8AEJefQAkk30ABUV+ADFydgAAwW0AIdhlAJSpXQAJ4lgAA3lfAPttcAArN48A5pqhAE82wgDT8eoAqrYHAT5UHAGg2CAB6g8NARp99AAoK+gAAUK9AIkLiADqY2MAoSlRAGdoTQDUwUsAwLpMAGQzSwB+u0YAEEZCAOxyPgDcdz4Auw1SAF2MfgD6masAdADYAHXWEgEpNC0BNc49AbU4PwFiJEUBBrcMAZsm9QBX+L4AC6GFAEFiTgDJhS4ARfcpAGNPKwAGOy8AvTozAAp4NQDrFzsAw6hBAAg9SwCRHVYAj79oAGjShQDj96wAOLDMAOrl7QCWZyUBae4zAfvILQEPbBcBUFHcAPAdqAD3coYAvPNyAPoEZQASTF0AbT9ZAAPlWQBEV1kAXKhcAKLQZgAKgmcA36pqADxGZgC96WEAW39pAFTZdQDBt4sAcpXBAHUuAgEuCDEB3V07AfVERwHipjsBcDkeAe974wAX/aAAZYZnACaQRwCsFjYAfV4tAH+SKwCqpioAYioqAAM/KgBz0SsA18ktAA78LgAZpDQAS45MAK1UdQBTwa8A4Q/nAIGzAwHeqwIBKOsEATkCBAF0O+EAGBq3AMTNsgAY14cATChvALytWgDKrj0AeQQzABkVLgCcwS4AdekyACITNgDuGjcAjS45AGW6OQC8tT0AnFtYAIhciwADvMUABAz9AGRuKQHTpU0BiyxjAcbZXwGTVk0BF4kTAZ887wA5pMEAayOCAHdHUADx/DEA1C8sANPGKwCikywAfGcvAFdiMwDIVDYAzoY2AGqQNQDmYjoAxY1bAKQrkQD4INAAi1sKAa0xOQEEp1oBgj1qAX4wbAEncVkBtJE2AYTMBAEKlc0A6dKWAI6rYADfLz0A54E2ADyuMwAqJDQATqU0APPrMQCO7y4A6U4tANnrLADTtTAAPHlMAMj+fgBBzbwAg8D3ABdGJwE8U0gBG0RZAYEiXAFgl0kBAQ0mATtA/QC2YsMAn/2KAIOMVQD7bDgAXqc2AOf1OAB4aToAg8E4AJ+oOAADlDcAcaE0ALNWNgA7aUEA4a5aAK1IfwAqKrIAvXjoAL7V+QDHUA4BmRwhAUZzGQEDhR4BOv4ZAefN9QBKetgABT6sAFQ+fAApu1gA/alLAEdvSgB/O00AYYNMAGa2TQA8MUsAoH1IAMRpSADMMk4A7LhpADNcgQDfPpsAwLe5AMm4xgAvCsgASljGAK+RsADyCqEAHKaXAAbQlADGLYYAnSR5AEIyYQA6YUYAaeM3AAmnMAD+jjAAEQEyAIofMQBBsS4AwfQsAH7lLAAeFjAAbdxEAGetcQBzFK0AM2bkAHIHBQGwlhIBO/k2Af+2MwHr6ywB/jgLATR82AARZqcAYQdyAKEYRABsii0ApYYsAHiZLwBKoDIAjWo3ANd6NwAEbDcACOA2AI8dNwANgTwAcY9QAE0FdgD0+6cAo63XAMq+AgF+cxYB0pobAc5HJQG8/xQBE//9AJ9IzAD+9bcA7YeZAL+0iQBCG2sA9mpUALxjSgCNhj8Akhk8ACnyOwBWozsAksU6ANCpOwAYvz8AXkdRAH1FdwBfFKcAUR7UAPZz4wBzjOgAtc3WADar3gD4INsAmdnJAFfOqADUwZsAFONyAE7JPgDkRywAkpQpABbkKQCpGysAsfYsAGYtLgC+BjAAn9kxAA7zMgCstTUAWsFJAK+scACFG6oAhMrbAM0OFAE1tDcBJDhcAeoPXAGYiVQBhyAuAZSi/QD/QLwAAt5+APh1SQAVsC4AvCIsAAJvKwB5xyoAbyEsAOnmMQARUTkAZj0+AB3fPADIUz4ArBhYAJCRigC3bcgA/9UBAbC5KgF1ZkkBGMJXATmTUgENs0ABD3UfAYAp7AAmxLMA9z9/ANcpXACfPUEAfqo6AHMLNQAMvzMA584yAP9dMwAUIjUA9XkyAO+WMgBIxzEAr95AAFqmVwCBwHoA8pulAPftvADAaOUAzSEBAdmaJgEUOkIBgF4yAVz+HwHTNvAAzvK1AGabeAD0Q1oALSJQAPo2SwCMYkUAYgJAAE+/PQDawkIAuShGACoTQwDftEEA8CdMAMJddwCPQL8Ajn7uAPYBFAENa0UBtqxiAT6YYQGGQlQBQfM+AcipBgFYucQAZmWeAP40dgCAUmsA3FR8AC2ghgBtGpEALhWaAG/bpgCVK6sA1FWuAFnvrQDdNbIAri/AAGWGxwDbhdUACIfoADN69gAUuQYBsxgnAUc8RgGQTmEB5dhHAexZHwFfHOoAS+CmAK64YQBG3z8AWB45AHYoPAD240AAoF1DAFCGPwBHc0IARQtJAK9nRwDEykMAegtWAEPahgA6IsgAOz8DAZGAQQFzH3QBO/qbAbRBlAERiHkBA2JDAedV+wAQWroA0HWGAEXXXQANMEIAu2I3AAQGMQAPAS4A6mgsAC52KwCkMioAtGIpABIPKQDwLisAYv1BAFq2dQDMZ7YA7a3nACQzFwEe+0AB9lROAQ3tPwGSMS4BvJkWAQBN8AAvTsoAVt+dAFSNcADdLFkAJqFYAD48WwDmvVsAv0daAL3HWACuJlkAHs9aAGSIXQCGA2EAlfR5AJoyqwDkdOkAacsoAQcDXAHKeoAB9XuRAc7bjAEUJHQBY91IAdC2DgEXr80AmP2NAHLMVQBu60MATRlDAP4eQADJ6z4A10pAAIzXPgDy7jkAo/k4AAtLNQCzPDYAnQ1MAIYPdwBGtqoAS/3cAF/4/ABliREBKfMfAVeSJwEbxBUBHn76AKGO1gDEm6cAcoh2ACcGRwB8NTUAvC06APCANQCSPi4A8F0sADMTKgAC3yYAQzAnACe8JwDNJiwAm807ANFOWgDYi4sAsHW0AFT3xABqB7YAVQycAGFqfwCGSHgAEz10AFR1aAB0QVsAQKFIAJJfNQC9AioAnMsnAJlcJgDPcCYAQp4mAO0GJwBKlicA244oAL9iKgDU3ysAkmlBAJL7aABrdKUAnobvAPfeKwEmX1kBvRZsARRsbgGUzmsBln1WAUOWSgEe3BcBBh/bADjspACCnYwAAjmKAP75iABgj4oAwMeJAB1bhgDKz4EAu8CBAMQSfgC0DmgAn5liAKp4aQDVQHQABd6EAGlqoQBbqLoArW+3AOmVxQBLFccAfN+1AC1WhQAb7WYA021FAF5MNQB3RykAuj8nAJG3JgBQsyYALRonAB+vJwAZBygA55soADX2KAAzlSoAsFk6ANgAYwCKnp4AZZ/fAOCLDwHmPi8Bxvs4ASXMNwG6LCUB2Yz9AFbpzABns40APrxgAOVOOgARCSsAHCQqAOMAKgDAfSkAnhsqAMAJLAD2lCwAltMrACPVKgA4zisA49g2AJntVgBy0YcAmomzAHvU5QDKHPUASyEHAQnPFgHIDQYB+er2ANSIzwBbX6YAz0Z5AAO7RwD+xzMAvjIwAHoNMAAjwi8AuGEuAFb2LQBvtSwA0fcrAMI6LgDgXzIAUKpDAMWVbgD+V68ApBv0ALNrLgGyWUkBQ/lTAbqUSQEkCzQBZr4PAXM4zwDj65kADF1tAIZyTAA5AEUAgxhJAGzjTQAFLFIATcpRAOuGTQCycVIANF1VALZ8WAAFvV0AXDhtAPCzlAASuMwABnIFAdlZNAFeF1gBVp5bAQ9pQwHaRhoBQ9PMADu9pQBhcYsAbMR3AOc7cAAtIG0AWNxjADSaWABU+F4AUmFmAEsfcABPHXcAD2t5ACcofQAJAIIAulCRAMUmwwD4AAkBDWM3AQHjVQFmp2EBikFnAcPIcgE2u3gBwHo/AQ+2LgHtBwYBy8/OALYDmgAcToEAPKiBAL02gwAAdYMADpuFAJhPhwDXRYkAUB2MAN5gkgD0y5kAW2OoALBvywB2IAUBqv89AUnPaAE6s2oBxzpzAa5FbQFk0GUBLEktAS66CQFc6eMAbyW6AK0upADI/5QAe+uQAMMNiQBsK4sAA2yLAL9ZjQBVVZQA71SXAGg+nwA/sqoA8Ua+AA2T3wAxKAoBUv4uAX9aMgGOJhsB3ZAXAY4BQQEWmEUB4zNKAUaVKQFHkewACAOWAOocWAAg80sAh8pMAAsvVQCBK14A0M9dACukXwAKcWIA0SddAOApVgDRklUApQRZADffYwC5hHoAhAumAHtWzwA/RfoAbd4lAT1FWwHCAlIBJCkfAadt2QBu+JoAa11xAMxXYwBD5WYAke5xAGbodwA4RH4Ai5KCACn7gQAFvIAAGS1+ADV5dgD7YHAA+hx9AIw1rQCwr/AAej43Af6tWAEhmXYBtpl3AcDmZQEB32kB7aBGAagRDgGrM+8A3US6ALPokwAXH4YAEwWFAIbFhgDPSYYAKGCGAFlPigBCpYsAHZONAOFrjAA/9IUA6S2RANOCswD16ekAKKcaAYB9SgHbG2MB+xRUAVFBXQGD9D8BmZsTAQTu7QAqJ7wADfSEAKYIUgB5BUYAC6BDAFtzQQAQD0IAhQ9EAHfMQwADDUIAMpFDANbHRgAWOUkA/lhUAEz8fgAT8bwA3QX9AOkrLgHUB1QBsLVXAbSlVAGFAjYB7NoRAcVg1ACE4ZoAyphbACYqMgAhACwAjg0sAEF4LQBx8y0AmM0uAKKvLwB8Bi8A+N4tAP2/LABtkS4AO0E/AOiXawC9waEAd1PXAA+n/gBl2x4BT51bAVu+VAHvYT8B6WIVAeKB3AB8eZ8ASX5ZABK4MQBq7ysALecqAMlGKgD7XCsAAHouAGG4MAAbGTQAvPYzAJiZNQC3vDUA3IM9ADdbZwBdL6YARxPlAJytEQFufy8BRDQ9ARw8QQHwvQ8By0nnAOJkxgDxP4wAyipcAD3mNwAAzCoAETcnAMomJgAyEyYAA3omAG0VJwBdaicAbgUoAOhEKACSkSkAOjIxAHIISQB8JXMACKycALw3xwDD5+EAOLjxAMYT7QDGZPwAwdTxAJzb1QA0oacAKzuEAEjYYgDPKmAAryJhANl8XwByHF8AaRphAC8+ZADG4mUAhFRpABBMbADZdXEAdlR7AD4ioADaEOAAQ7gtAeUUeQEHi5MBVXmqAVuEngEVuIIBM1trAb1iOQEyRO4ARHWsAABzhgAEoHsArNp9AHhUfQAtunoAThB6AMEzdQDvc3AAB/VkAEcwYQC55GYAwBpzAP78lQBZpsUABu4AAZauOgGkbV8BUUdsAbsNdgHhH2cBbRdGAZatDwGm8ckAoiuLAGu8ZQB1LmYAbbpdAA5xVgDktFQAe2VQAMdKTADXVEQAiac/ANWLPACAGTkAiRhAAKMyYwDKT5YAbhPQANnf+QDX2R4BP5AvAW1cMwEr7hQB5VPpAHI6pgBq23oAu/lQAKxVNgBjVS8AjJcsAJtOKQC8KScAGTgpAMVMKgDKACsADN8rAFu5KwBG0CsAfDU1AACfUACfv3cAXw+gABIquACLy80AFxLIACzPvwCfXLEAmrmTAECAhQCBPl4AvF5DACeAMwBYpDEAjH8vAGZ7MAD1gC8Ar2UwAAAMMgCK0TEARQAzALdKMwDepDMA6Ko6AO9TSwA5aGAA6oR1APY4hABgAI0ASDifALsNsACaiqgALbWKAJn9aABtGVMAM0U9ADIYMACrSC4AX20tAGdILQBSai0AJ0AuALTYMAAUZzMAgPw5ALDnPwDTgUkAKc5dAAO4igCXJsEAm0fuAAXuGwHUw1gBN1V7AaTregGwT38BPE5bASJvJgGhrt8ATF2YAFceagB0P2YACH1vABvhcwA7lXMAsk50AASNdgCulHcAlnJ1AMvabQDeqWgAeSZvAAglkACICsMA7Q37AHnBCwHzWhsBHU0RAW8O/ABARfAARuGzAEWuhAB1flcAt3ZCAM4UOABV2i8Adj0uAOfVKwCyqikAFuYoAOlyKADZ+SkAP2sqAC7YKwCBhC4AvvY0AJGoSwBU/XAAJ92jANRf1wA/zAgB6z4mAQq5IAG+KBABm6/1AD6mtQDLCHoAPq1IACTjNAB7DTcAogNCAEhQSAD/kkkAna5DACuWOQDk6jkAL38/AN/DTQB130wAfqhXADxlcwAQnK4AjWn0AOMGNAH/flcBWv5qAUE9cAHRd1kBGpcfAVOw4QB4LKAA26BkAGdRPwBSLTcAcgIzAKSuLwDoMy4Apb4tAGUvKwByACoAi4ApABRSKwCSgC0AwHo0AObISgDb2XIAPJibAEcBzAAxoPgAXQD3AJutDQFM4xABucEAAUFk8gDIBNcAkqCzAHzhowCxUpUAGnuFAE2PdQDvgmcA3ptgAJ0hXwD9nGQAeA1oAJP5ZwDVgnUAhxGHABXxqQB0qusAEWYwAUASUQFJ2jQBpE4QAWHN+gDL5/YAvtHxADtD5ACgk9AA91y+AM9drgDMuJ0AayiEAGJldgBKc2EArZZWAI4HWADnk18AFrpoALEveABSD38AkXiLAOyirQDN0vIAUZQeAW61OQG5OkgBDqBOAZV+WgE76j0BCZwHAS2D3ABSZaUACOV5AL7VXgCh+FkAuiJWAPdnTwBFZE8AluVOAMg4SgDnT0sAJaVLAB+/RQALNEsA2ARVALTOdADZCpUAIhPHAIVi5wDezv0ApvnqAMM08wDY5vwABwjpAHgqwgBDQ6AAMml1AHCTWAClglcAN/NWANbgVQDdJlcAGgBTAPC1VACXvVEAB91TAKErUwBGXVMAdB9ZAE1HfgAxJrMAxWX9ABMxIwGsLTYBE5oiAQpARAF4+kkBNwQiAef96QB54LAAwotyACxqTgBoY0UAhKdCAI8kQgDBaUAAF0U8AIdFOwBAGj0Awco9ABWdPQAOvTwAc1lBAPETYQCWbZ0A6QLgAKf2DgGvXR8BHbEhAeTnFAGOif8AKqnQAPZItAAQTnkAZyxOAK2MOwB5mTsAf6s9ABz9PwCjNEEAWkpCAEGQQQAMC0AAOO89AJaAPgCbLz4ADbhAAM5lWgCni44Af+vKAONW/gB+1xQBTKQBAef16wCxsdoA+JfBAER0nABr04AAc6paANV2SwDOU0YAoio8ACRyOQBXwjgATMQ3ACGSNQDG1zYA6d02AOzJNgBdpjgAwYtCAE+3YgCx3oMApPy8APhu7QA52/4AwwwXATwvJQHO2y8B0I4IAaLR6QAgQ8UAvbKSABz1cAAQgmcA2FBgAOzNYAD/3F4A04hdAEH1YQBMEmAAx3ZhACWJXADHOGMAMrlvANlwhgCJaMIAI2QDAR8FIwEYZD8BW/NcASqMXgEwHVkBT7g/AbU3HAGEfd0AZS2lALJNjACqFogAtQuEAJ7bewCfgXAAtFRlAP6nXQCYIF4A5StdAAhRWwCsul0AbCVkACpRdgA6fJsAVafDADHt+gBx0TkBlIJgATQ/ZAGczVQB480vAape/ACu0sMAxhaUAL3ghQC5aoAAXzh/ALXregC7jHQAnqlmAMwFWwCiF1UAp9NSAKH5UwDtj1MAb29ZAIBscgCB5ZsASzvIAJbV/gAnhzsBUjlhAWkiYAFCeEkBJXQjAdSJ7wAEC7UAUiWEAPKqdACKXXUA8055ADPPbgCXE2AAPDZWABWGVQD3glcAmshaACHtXAC2/V4AckZnAHtYhQDcmMQAGbgPAZiLRQHQwmoBIr2AAaiqfwFjH2kBYLQ+AdbS/wDeI7UA9hdzACD6XgDXyFsAhlZcAJV8WgDIw1QAd39NAP+SRQDW7T8A6pk9AI+JOwARtToAAuE9AP8iVAAsmIsACyfPAFql/gAL4yABu4guAUijLQFucRQBdyrlAKoYpwCBD2sAZ9U8AGIcNwDOyDcAZjQ4ACnxNwBtvTgA0qY3AI1dNgAJKDUAbfMzAJQMMgDOwjMAMBg4ACadTwCHIoQAFXS0AKkt5gBGZgABuxYSAbYE+ADLeMUAw4eUALQ1eQBWPVgAA0VCAN1HOgCPkzcAYl04AHzQOABDjkEAn4JCANydNgCU7zcAJQ8/ANdkQgBPZkEAHzdIAGGCVwBTw4AAaZG3AFs55gBo8gMBHFIOARaXCAHkswkBZq/SAJWKpADUe3AAFCpFAA2KOgB5kD4AmSA5AMLtNwDlZjsA0t48AAcxPgCdsUEAKNdEAPk5RwBnxEgA+apQADtiYwCpWpAABsnLAM7c7gCnQfgAkioPAQaQJAFAwv8ABIfXAMEZqgCz7Y4AQjx3AKtebwAZHGYAxkNmAN6kYgBAM2oAocVpAHzDbAAsom0AdF5qAFPMZgDRdGgAzqBvAHhQdQBh3YEAhrKQAKFusQB9/8AA3c7UAHWA3ABb0scAJmWgAGCmdgDzXVcACOJCAFVwQQC9nkwAA61WAMf7WQDDe1wAK9VXABp4VwC571UAkA1fAKz9YACJx2kAwdV/AGrlnQBKCdcA69cHARMuNQHTkTQBzgBPAU1WVwHaLksBkHsTAfUyzQDMDpQAbKp4AD5NgABsnI0ATE2gABMmrQBQm7oAAiG+AG5OwQCmKMIALJ3DAEuTwwBhZssAplrKAHxk3gAYugABwdciAULMJwEbNx8BQAwMAfOr+QAP3uIA2mnXADdzywAlQMAAyC60AB79sADgHK4AWy2rAK9/qgCH5Z0ApDKSAFFgigDLLowAiweJAMRkiwBJYIQAfi+AAKzsiwDxCLYA1u/oAG1/FQHe6S0BobA0ARURQQGiMikBrlHzACXSyAClQY4Aj3hZALgHTQBLM0gAnwBFAI0vQQA2dEAAkOM+APDvPgDi8j0Aqos+AHrKQADDIEUAFkNLAAFFYgBjMJsAzYDpACeMIAFZKzUBMrgpATtPCgEv7vEApI/CACPhmwAGo4oA/bt8ALJVggBqn4kALT6RAPjElAAS6pQApnmaAFrQoAAMGqUAyMGpAGMcrQBch7MAsUG7ADrXywBas+4A8kAcAUAhNwFSVjIBmC0hAcEXEQFGI/4AtSzqABnb1gDZb8wAJIfKAILAyAA5TcUAytm4AFkArwA0Ba0APfanAIzfpQDinaUApwOiAKwLngCmpqQA14arAHogsQATTsEABhHWABWX3wCOc+EAKdPgAIV/6QDEaNwAWgXGAPiYqgDcjocAwH5lAFuBUgCZfEoAWfxCAOk5QADFRkMAoBFGAFeISgCdik4ArctVAG3wYAB3z28AvyaDADS5iwBL6J0AvPq6AMEt3QBuS+kAd07kAEAz3QAxoOUAdF7WAC8TtQBQi6IA1tCPALREjAC/PIwA4ZWNAJj4hQCmSHoATsFvADdhaQCfTWQAfXNkANX9YwCk4GMAG2ZlAGfmbgDIO6AAIZXpAICCNAF9Q1sBP5ZZAWD2QwFC8DUBtYYIAfJi0ACjpI0ArKhjAEu2WwAMPloAykZXABGAVADn/U0AMGdJABIYRgBpi0QAkFJFALD0RwAJO00AGWBUANFXYwBb15AAJeLOALauCQHmzSUBzBQoAWqSFAGCiuoAO/TEAOEOjgCPFmEALdhAALhKQAC/zUAApZ5CAF7MQwDpS0YAU8RHAH8BSQBXGUoAGN9JAG5qTADd8VAAX+VXAPtmZQCReZIA+KPUAGyGEgFr0C4BGGsxATJUJgFnmA8B3RbjAE0LqAD2NG4A+SZaAB8kYgAznWYA2GtpADPZbgAErG8AOMxyAAl8bgBEb2oAqc5sAFuNdwDGN4UAao6MAKulmQDI0LoAKA/zAJ4LJwHR6zsB4etTAZX6UAEmX0kBhUEnAa849ABBRLEAZvaMAJoliQCaFIsA8PiIABIvhQDeP4MAE2SFAGVljgCXjZEAmeSVAGh1nQAx16EAwdWnADQtrABLUtMA7YQWAamzRQHThlwBVQtSAbJ4OQEV9RcBF6/iAKvzjwCrplkAGoFMAAI0SgDSDEkAmC1IAC8ySQCLcUcAQ/5PABFXVwCzHloAOn9hAM/0bADwCHoAnPeDAItrlAAbw6wAQA7lACkWHQEoGDYBBmgvAYaxGwHXb/sAECXLANXMmgAQVG4APhdTAMaiWgDAW2sAXpt1AJYQewDCbH4AV/V/AGxxhwCIrYkAIquOAPz5lQBeLZsARfCfAHCwpwCbTsUA56LvAD5TDgGSbAUBRpLwAK1dzQDJiKoAygSBAKLuWwCprUkAiv89AOZjOQB1+DQAG2Q0AFLcOgAVNUEA4FBGAF5mTQAvhFwA7ftxAHbxiQBOS54Awi6zAFo/xAC9VN0AY6ABAfI6IAFDuC0BeQcoAYh9GgFMpfsA7LLcAIuesABP1nwAX5htAO2HaQAH+mQAZIpkAAfOYwBggmQA3qxjAALVYQCFfVsAMVFWAMIUWQAG8VwAeX1hAF1KaAArfI0APJPGADQw/QB20iIBYKoPAd6q/QDZp+AA+Ny9AEEKkwDyuWQAuHpLACNUSwD9+0oALHdLAOIvTwAvilIAt+hVAPWJWAD0uV4AI2tgAMLaZAAKV2YA8NZsAHJ7dAD1+IoAUbutAEgr0gAWet0AIGffAM4I3QDWVdEAnSHKAM77rQAFXaAAFJahAB6srgAh27QABB7BAPAuwQCCc7kABvauAFLRrgD8MLYACLu+AOtvygA7G84APCrfACpu3gAr+vEAOAAYAYrLRwHAakwBlAVCAdfAOwEm+BsBjzb1AJkEsgCUTHYAXThhAJj3XAA2X1YASflRAPjwTADPKEoA7FFIABW/RgBJ3EYAk+1JANXeTgAWPFcAcLZcAJFYXwAOTmwAEzV9AFL9igDyT5cA6RKYAL7CjACOjqEADfesAOA8iQBLy1YABkZNABqdTwDoA1EAkqVOAAfuTAAZdFAAy19WACwEYQCl8mQAmSdpAC9DbwDD93UA3T9/ANf6iQC40a0A4KvgAFHpEwH/8TgBnKBHAZlyQgGvtCoBd83/AOswxADCgJ4AgpKbAGc2pwBUyawAWJOwANP7sABykbEADOOuALEDsgB63a8AoWqyAIYbugAUG74ASE3BAE0exwDb690Ags0BAT/hIgHReyoBbvMoAYDdHAEkxgIBIVvZAJFHsgDDB50Ay2WZAMDxmwC935oA4EeaAN2OmAC8QpIAd+aIANszhQC+2XwAEMp5AEyvewBE7XgAFtd/AOBMhgArnYoAolmmAP5aywDYXNkAcqvIAGp2swAdNqEAZziAAHA9XQA1EkAAr1Q0ANwVMQCsZS4AbTwtAIGyLACPriwAU90sABNLLQDhTi0Ae88tAEKlLgC2VzEAXLs2AOpvPQB3Bk4ABQlkAFh+fwAUBJoAGtSuACdBnAAKoH4ApOliAN9hTQBOfTQANIQvAAV5LwD+AC8A0t0uAI8uMABg8S8AD9QwAHIxMwBeMjQAOqAzAKvHMwBhtjgAhWdAAILwSQCfkFgA9HtxAD0tkgDEUK4AxNu3AFIwrQAH9KwAFOaUAAOziADVPn4A9VN3AMa+dQCwU3MA7fhrAIuHYACXN1cAPcxPAGIuRgDtAEAAuX0/APmXRgAzBk8A02lbAAp2awBQRosA1va4AKsr5QBLhwsBWn44AbsURAEObR4Bs3n2ACXL1wBqUcsA6enLAJe1ygCA9rsALfu8AH9kvwDszLcAXbuwAH78qgDXQacAPYupAHJhogC88ZsAmn6aAN/WlwBE8psAr42nAPrtqQDjAq8AQZ+xAN1tqgDrBpoACpp6AGVVVgAa1EEA7tA7AB5jOAAoFTYAcuU2ABsSPABhfEAARTQ/ACXnPgCILT8AMNtHABvjTQCCGVkAdKdkAFwKcQAfgY8AQKrUABwLDQFBvy4BtFY5AQ+lNQE8aCABDEPuAG0iqwB59XIA9sNgAE0iVwBQR04AxOJHAJ0WQgDlJTwAMXs6AKZyOwDjAzwAugQ9ACs4QAABm0UA+CtNAFcGVwArqWwAHaCOAMIvrwBufb4Am6POAERzyAA3FqkAXi6JAPkLagBO40gAGkhEAIYVQwDCZUIAilJGAPAnUACszlYAyxNZALgSXgBXpWAAg0tcAC2eWABGa10AASphAIBLaAB3boUAtV2+AA+r8gBPxAwBxV4LAaQkAgHki+4AhnXIAG0LkQBzqGoA+9ZmAOvJZAB3ymAAhDdVAPyvTQCzxUUALBJEAJ5fSgDI+0wAMYFHAHWPRABce0kAmy5SAIzRWAD+GnEAgIqgADr7ygBS4N8AWfvqAPO54gA1q8wAtbWfACClZwCT40IAZB9CAEt+OwA77TgAN103AFEVPABPRToAvH04ANo5OQCXjzkACr05AAJROwD5gj8AKaJEAIFCSQDPeFkAgaKJAG4+wAB8zN4AsbXkABQa4QDfHMMAbouKAG0GUQDRjToAUBA6ACLmPQCL7j0Ayag9AJ+GPgA58z4AfhI/ACL8OwBH5EEA3rBFAJPGSADTIEcAePtCAP/+RwBowVYAtbuAALVFvwADAuIAYkjiANzy1gD/G8MABGiRAAafXwDY4j4AOjg6ADDyOgCqMz8ARcJFAMYMSwCgWU8AREdWABdxYQB1x2sAXL97AJrGhQDgKpEAEQqfALU9rQBNxsMAnpjrAJo1BwE4cQcBcDoFAVcyAAE5BfAA/nDcAJDovgAJqqEAMGqUAFXPjAChwocA+fN8ADg3cwCen3AAy/dqAKtyYwBjaGEAKZpjAN3XXQCCbloA7HxbAPXXXwDs+2kARjV8APrajgAgFp4AO7GiANcelgCXpIgAVqF0AO0EVgDkIEYA1y1CAOeNPgAsXzwAhP04AMNMNgAlzjQA2Ns0AO/ZNwAyaTcAHAA2ANKSNQAp9jYAH+I4AKn5PADUEEkAe0diAN9PegBxrIwAUmKJAASvhQDsdWkAjkFaAFoGRgDS1zgAvU83AGNyNgDaVTUAN7EzAM1yMgBdujEAQXAyAIZ1NADSSTUAsvc1ANhEOQDKQjwA9x1BAOHOSACRj1MAOFBqAI0jhwBHnp4AaDiqAGE3qgAjWJ4AOSeIAAgNagAcN1sATl9bAOdmWgDddFgAlTJXAFfMVQBv+FgAoDVaAGEgXQAyvF8AUnZgAMkkZQAYUGoAd25zAGlwewBtsoIADiWSAPpdnADfsKMA9wulAA6boAAvrYoALj92ACgWYwA2f1UAYnJLABR3RwBYEkMAp09BACNhPgCJvj4AlfBAAPDnQwCecUkAz2ZRAH/zUgB71FEAoiNUACtGWADBQGkAGS2KAOl+tADAVckAPrLBAJ93ugAClq0AHD+DABVwWgC+CEkAIqVKAI91TQBw9k0AghdMANd0SACLekcARE5JAPl2SgDdMUoAXH9JABDwSQC13kwAVDBSABbwWABr92sA1pKbAH7iwwDmN90AkYXnABXO3QD+bcIA/VmWAJlBXQDpaEkATVVLAEClTQBFq08ANHFPALKRTQAF4k0AMH5NALLHTwDYFVAAmXVQAGw8UgALjlYAnNxfACXlagCp738Aw2SsACqQ1QAla+8AcBP5ABHc8wAe0doAEIWzANsAfgCdvGgAkedsALnQcQC8P3QAVlBwAIhubQCT4WgAHWxjAAGLYgDLO2AAEtheAMWOXQDOcF8AqENmAC7LbgC42HoAPHOfAGO7xgCVQ+EA8WrkAKrq4QBO974Aq5CNAMi4WQCoU0wAFEtMABWVSwAn9UkArrJIAMSaRwA2TEcA6s1HAHrcSAABsUoA3zJMAKMKTgAOqlAAXzdVAH5BWwAMKmIAAVNtAFGydgDqOXwAazx+ACElewAmxG8A+SphAAjCTgAtBkgAJY1HAGG+RgDGd0UAPgZEAJe5QwBBOkQAk7tEACCbRwBBtUkA0LlKAH2mSwCFhk4AuKdWAFj0YgA+RG8AMF57AJBmhQA6kIcAptiBABwAegA4CW4ABSFiABfnXAA0VV8ALwthAMUuZAD9YGkAt0ttAFXzbABHGmsAmLxuAHNKawCfHGwAyXZrAKdvbQCruXIAxUF6AFxSgABkBYgANlePAMiylgBAFJcAQ2mSAA8viACPDYEAOX16AJqXeACDkHYAWlJzAF7saQBxEWEA4mlaAKymVwBmE1YAVY5VAAfvVQAaVlcA74VZAM1hWwD5blwAV1BfAEDYZQCTZWwAQc5yANOReACVw3kAnjB3APcEbwDrGmQASR9aAB7vUwDatVMAFSJVADmdVQAlflUA3Z1TABimUwAHeFQAPNhYADJNWwC5rlsAzO9bAKbLXQBoiGAAfnljAMJlZwA+420AJQ96AIFIhwCpvZAA+YqSAK0RjQAXZH4AGhtrAIRHVQAbck4AwPxNAI5tTgD3Kk4AttJMAHV1TgDH2VQAhpdcAPsxZQCMm3EAU0F6AOBSkADQ9qEAh3+oAHEoqgDqq60AWtXSAGhkFwHTczsBZWxGAYuTNwGcwhIBHArxADNzzQAykcIAh22+AJI/xQD7OsMAyE/BAEaowwC0f78AzuW5AMR7ugD4dbYAHZSvALUhqACqFKUAuE6jAOsLpAA/3qgAE4+7AOFy2ADmw+sAbpTmAP3v0QD28LgAk9uZALDHeACCwWkABf9nAMW7YwA4LF0AW6lUANPATgCMjUsAfDFIAMTcRwCoTEcA7xZIAPYaSgBOnkwAeGpSAEMmXAB9rmQABMx4AGfkiADtAJwAd/yiAJCxowDVxJsA9/iDAP3SaQDEg1sABztaAHbBXAC8D14AdE1dAEXdWgC0bVsAH4xaAMtuVQA6cFgA+WJfAMGZYQAsfG0ApIN2AEtugwAo7YYAqt6SAJQgqACIqq8AGi2rAP1zpQDDyo8AD7x9AMf/aAABp2AAseldAL3iVgB/7lMAZAVQAChOTABiXUgAcp1HAOHlRgA82kYA9QJHAP7YRwD7OUkANplNAFhGUgC8iVgAOlJnAC5HeQAO4oUAynmEAIBeggALc3AAw81hAKtAVgApilcAZyNgAP8oZwCCWnAAIbF5AAtBhABc5owApb+OADdykwDBepIAVD2XAK/NngADKqEAdc2oANT5sQDiRrkASAjFAJhwzgAORdcAsqPhAAJD4ABZ+dAAlKS+ALqTswDPDLYAOHK0AH+DtQBk6rAAq/2hAHqNiwC3/4MALsaEAHxtjwDm0ZoAP4ajAK9PpwDYGagAhyCvAB4HvgCOSMQA8sHdAHuBBAEFcxwBAGwuASKTKQHcgg4B3q/kADArwABWx68AcKOtABpjoQAfP54A/A2aAP3rgQBdOn0A8jyEACgFjwDQ5J0Adc2eANxCmgDDtpkAxVCfAOd+nAAsT5gA79C0AO0f2ADDAvsADGbuAAzT6gBVgb8AmouUAGepdQAR4WUATn5dAEVhWABVslYAo1xQAA6pUADm7FMAlZleABKFbgDNL3AAevN7AFAwjwAvH6IA1uG8AFYD0gBv39IAMt3MAO3LugDEcK0AURCTAATohQBjBY4Ao92UAO9WjADd6pEA0tWLAAQBiQD+S40ApFiKAF8IlgAzKpYA8bSXAHuAoQC7iKoAyYmuAG9JugCbpb0AN0u7AO2uvAAgPcYAg7jVAALz3gBz0N4AqunrAMa66wDbB/YARC/6ACsJ0QBMPbYAxmGoAN/+pgBnY54AqN+aAFI/nQCpx6AAAderABPSqgBkULcAnOm7ACTKuQCovbwArNPIAF/KzwDJ0tcAkljmANeF/wDX4ggBArv/ANBA5AB6J8YAK86aAJufhgD0g4YAvL2LAIuohQAS8IkAVhiJAFjtigDOipYAElyhAOuvogAXOK0AfO2yAFISwAAG08wA4SraAAvT6AA4WvcA0h0UAUiBLQEj/zMBO+ovAbrGIQHeowcBwTTsAB+43ADNLM0AP3WwAG/nkwADV4YAds+LAPBOiADWh4QASiiLAAGOkgAZe5gAgoSaAIK4oACCBqYA3RSwAIHBwQBD5tQAxvXvAAnSBgHcng8BgnQQAbVHBQFK6fUAc3LvAC3M6ACtZvAAXmXyAMns8AA0T+4AUpHqAMa66AD6sOYAmZfmAPMw5wAwgeIALHTeANcS3gAR+tgAO6/aAJ2z5wBo7PoA1BQRATqnLAEj7EwBoE1XARvgSwEqNCkBhKEMASQi5gA1OtcA32/YALcs1gC4YdIAgH7PAADWzgBkwcsAJzPMAOHUywBcwMMAnRrDAO3UwgCpG8MAKh3GAFgHywAeBMYA8rLDAGxAwQAIjsMAnh7AAFSavwBIbLkA0qmwADynsAA1drkARI69ALQ6vQBjGLUAs7ipAKp6pgDm0Z4AmNWeACeHoABPW54AcJOcAHuenQCCPJ4ActWeADfeqABLXLEAK6vIAFq38QDrov4A97UBATUE7QAG18IAQMGkAPCwgQAzmG0AVFBlAOzEXwAB+FwAK5dXAOyaUwAank4AqSJPAJi1UADgn1AAEGJWACkgYAAIAXIAAomHAPUPnQAKX7MAgtHHAFoH3wCw4+8A6Lv3AFbD8gBcFeoAHSHjAL/f4AC/KcgAAeHGAOpfvAAhy6wARLfMAMnRzwBgj9oAdAfaANyY0wBFmcwAwXbCAB4FuwCD27cAITO3AHxNtAC3CrMAYg/GAN3e8AAkcwYBVjgPAXQb8gBiJMwAdHaXAHK+ZgAmFFYARJFQANQiTQCQwEoAaw5JABooSABlXEgA9/pJAOmNTABY/U8AiedSADY2VgBgPVwAdR1kAKcsbgDbWXgA6oGWANhIxAC2xeEARvTvAOl/8ACaVdkAIEyfANIAegB5T3sA2rWEAMkwjwBsPpQA4t+TAA0olwBV+ZgAB1GXAPpXkwBvhJAAzzKQAAN9kQAjAZUAqbidABjzpgCIaqoAqjLDABVR4gCm8QABRNQEAbAL6QCSVroAMm6NAH9JbgBLOG4AomptADBtagBbZWgAHH1nAJN5ZACWfGMAiV5jANdmZwAR/m0AyTFyAO6fdgBAC34ABIqIAJXPlgBZCKMA5ri/AAOA7ADkEBABYYccASEVEQHuUu8AACW5AAcerACu47cAoj69AOKRugDHILwAh5bEADYqwgDNM8IAgE6+AAcIvQAF1LsAo5O+ACmuwQBswcYA297GAC1uwwDWY8cAMaHKADS3zwDZU90ATv/fAHVH1wD3fMwAMEOwAEbMjQCjvoYASayLAFGrjADlrYMARFd/ACYdiAAIHI8AVfWiAHWJqwDnlLsAc7S4AFXSsACtYK8A9ZmvAHhdrgClNK0AVyiyAAYSyABjRdoAaPTYANq7zgCLia0AejSPAH3PeQDgUXQAZJ9wAGTAbQAuqmkAcihnAKVqYQD+3lkARypUAO7wUgAwXVkARodeAA2GXgBd5WEAPyFmAJzacgAx/noA+hyBANBljgB4I5AA8bSPAHXOiwDZvHwAgwRoAFPjVwDbiVkAVExeACPLYgC9pmsAx1tzABYKewD94IQA/DqTACtxogDQrLUAW2XBAAyyyACaZNQAnf3gAEUV7wB4OfsAgg0GAZZ4CgHHKwgBiTEHAVhc/wDPLPQAxvbpALvT4gAm0+AALf3eAEzr2wBCnNwA2TLgAPZs3wA50d0AeaXeALb24AAaMOIA/TPkALga6AASS+QApL3dAPe64ACd4eEA07DsALs0/wAQUQ4BmfMhAU0tHAGalAgBQoXeAP7HtwCTCqQAAzCMADFZggDzBH4ABkWCAEbjjwB8jZgAyGGoAAcKuwC5nMYA+jDUAK4M3wDvMuYAcJ/sANOc9ADI5vMAGTr2AKBRCgE+Hx8BIj4oAS5KHwFiBQMBO23fAPBy0wAtTs8Abm7JACmVxwC+OLcASFKlAN9gmwCLh5YAgx+dAG5dpwAQErAAvQ+zAEcutwBSir0AI7DFAM6nzADrk9AAQGrXAC+q6AC3rvkA8mb5APzJ9wBxqOcAyOjSAA80xgAR78oAvu/NAChhzQA1ttAAxkbQAESJxwCHB8cASAPIALiMzAA+5dUAZQvYAKTT2QA/KNsAzn7jAC7m7AAvQPMA29X4AMOsAQGw+QkB2hYMARMKBAGBVfcAzvTsAESI5gBRWOYA3GHhAHib2wASLdoA68XXAO8o0wCjtM4A843QAAf00gAHENQAS0HVABrx1QCQ2tgANAXeAIjN5ACwS+wALHLtAD/r6gDRXO4AH/3sAOy44gAPftYAvRjLAGxGxwAiv8QA3g/DAHr7uQCLpakAxvaVAKX0iQAb2H0A3TF6AFVTeQDge3kAaPN5AOU4egCU3nwA8DKFALJ+iQBdQY4AVsOMAJbdjABSYo4AY52FAPcDgADgpnQAI/VmAC4PYwBPYWUAoz9jAKXRXgA2K1wAlHJZAO9JVQCoglQAlOpVACfIVwAgRlgAemNYAPfIWwC6IF8AQ0RmAH5CbgCIHXQAlSZ2ABuhfQC3poEA4wh/AInzdACP+GcAXpVeAC9hWQAGN10ADzdfAO7dYACZYWEASixhAIbHYABpBmIAQV1jAMFCZABVimYAHzhnAMVkagAZR3EAdO56AOmHhAAkmYoA26CKAB/fiwCJFokAcVqCANzZdgA8smcA2CteADWiWwDk6l4AV75iACTZZgDN5GgAjlVpAHdWaQCnBGgADe1qAEbpcwCkiHwAQ7yDAKUEkAAarJgAeUemAKL1tAA3bcIAR87EAPef1ADX890A5DffANHk0ADAmMcAN5WxAPFZqwAgg54A1wCaAHPWlwAv95cAHdCPALeUjQDjwY4AVxSRAJZ7lQA6fJ0Au8SdALPUnACphpsAMaCoAJOPtwAu0MUAepTVAIzd5gAy9fQASGz5AC5g8gBCleUAPe3dAPyj2ABrsNMAwBrRACgP0wBO7NcAQXbXAAN+1gCCqNYA6U/WAAmW2gApjNwArLzaAMqF4ADgwOIA+GTkAEWZ7QAa/vIAAZTzAM9N8wB65vYA5CL1AGFw8QCni+sA9PnbAOs21gBUadEA4KXRAMn0zQA1qscAfmLFAF0avgC8kbgAXSC3AKM6sgCx26wAvf+jAHc+mwD+mJEANfmOAD72mgAMKKAAeMaqADpotQC5NcQAZnjEAO9ftwBEyaUAYi+cAEcOjACYq4sANVySAHFJmgD9J6EAfouqAJ6StABuc7oApqDFAMXAzQCYIdIA4u7VAMIW1AB6p9YAuCbfAPQJ7QAKmPMABmP4AKyJ/wDcqgoBR8cJASw5+gD8uPIAKaD0ABp36AATtuAAKBzeACuA2gBVxdIA0+nJAIp7yQCHqMYA1uTKAKlizADFxM0AHh7RAGxM1gDYitYARGjWADXK5QAzaO0A34vxACup8wDhxeoAbxPpAANq7QDMX+MAEaXIANzsvQAYFr4A/prGAJJ90QDKU80Al7LFAJGLwgB+QsEAaGrCAN5lwQDhGccAONvDAFz2uQAi/bAAUGaqANDYrACDQ7AA9uyyAAF00QDhRfAAHe4BAQhYBAGTa/AA0cXRADZZuwBVCrwAdQXKALUl0gBtj9cAQhnUAJ1G0gATE88ABdPMAIvjzADjgscAmrm4ACgupwCe4aAABi2lABKutAB66cgAhP7cAE3++ACmRwkBR4MNAZmsAQF/6/QAiQXsAJuF6ADy9egAgxXnANfu3gCjXNQAHkHRAJVwzADOM8oAdn3QADVO1gB6P9cAIbbYAG9Y2QB7mNQAxBXcABEh4wBJR+0A5ZrxABzbAAGHEhMBGGQcARpAHgEFzQsBK1v0ABOe3gB/kswAFifFAKR4wQCmMbgA8sOwAGFHvQB2R7oADi64AGBvuQBBtLsA5mbOAGut2QBog9gA6YXjAIxd8AAfavAAoATyAMJgCwEAjCgB5es7AW3LHwHVtf0AQF/XABsQvwAFdbAABbWnANtGmgDw6o0AyTOBAPEedwCIvGoAKltiANLIWwCaT10A7XxhABWwZwDzXHIAOFaCABDnlQBBN6YAs0SxAADYuQAS+sEAR/nEAM+ruwA5UaIATuyQAKRWhwCctIEAd6J5ANhTcwDby2kAcHNnAEzMZAA6rmUAmINlAC9CYwCCpWIA/b9eAEkAXwCskWIATGRoAHgVcQB8j3YAhzh4ANv5eQAZgoEAysaEAOPGgADq4nYAzbprABbhZQBB1mYAgyRrAOwTbgCmMWkAikJhAOavWQBs9VUAn3dXAIgpWADXk1cAYlRYAEjLWAAL21kAitddAElBYwDoCmcAXjZlAAecaAB+A2wA94FtAHw9ZgB5OFsA4YBRAGbYTAANZE0AM2tNAMebTACVHEsAvS5KAKp1SAD9F0gAUrNIAIZPSwBBXU8A3ttQAL9sUgD1OFQA9nRZABEiYgAYRmcA6x1rAI6xdgAzfoUACkeRAAUejQDf73cAnT5jAJDvUgCs2VMAL11VAB+MVQA60VQAGrpSAE/nTwCgn04AMTBOAL24TwBWOlIA7XpUAG4XVwCi+1oA3CFiAHmcawDIcnIAgdd3AHIJhACPj44Av1yUAJkxkAAUWX0AQUptALBaZACNF2gAec1tAMcqdQAQz3QAp11wABxpbQA+dG0AIFRxAGCMcQAL3HEAw9RwAKpJbwC7eHUAWJt+APdPigAgmpUAUxyaANMToQBKsacAxvCmAK4OqACTS6QAXm6bAEsnoQAX1akAklqwAA3/swCpGLUA4tCzAGPmsAAIc7sAr5HAAO5ZyACKmMcATh7FAGYAxgDpW8sAMPDOAEXW0wCH8dsATzLiANDA7ABrg/kAlcv6AGJ89gAPfvAA2KbpAMcY4ADVhN4AV5HbACiz2wB9UdYA5B3SAKuvzQBa5soAYYfLAG2UywALVsoAVizPAIky1wBYvuEA1lzpAFLz8wDdSv8AElcFAc9kCwG3HRIBxuMTAUZGDQHQqf0AqJL1ABh07wDVS+8AS3vvAMyd6wA81eoAa3HpAI0u5wCsducA",
          "dtype": "i4"
         },
         "yaxis": "y"
        }
       ],
       "layout": {
        "legend": {
         "tracegroupgap": 0
        },
        "template": {
         "data": {
          "bar": [
           {
            "error_x": {
             "color": "#f2f5fa"
            },
            "error_y": {
             "color": "#f2f5fa"
            },
            "marker": {
             "line": {
              "color": "rgb(17,17,17)",
              "width": 0.5
             },
             "pattern": {
              "fillmode": "overlay",
              "size": 10,
              "solidity": 0.2
             }
            },
            "type": "bar"
           }
          ],
          "barpolar": [
           {
            "marker": {
             "line": {
              "color": "rgb(17,17,17)",
              "width": 0.5
             },
             "pattern": {
              "fillmode": "overlay",
              "size": 10,
              "solidity": 0.2
             }
            },
            "type": "barpolar"
           }
          ],
          "carpet": [
           {
            "aaxis": {
             "endlinecolor": "#A2B1C6",
             "gridcolor": "#506784",
             "linecolor": "#506784",
             "minorgridcolor": "#506784",
             "startlinecolor": "#A2B1C6"
            },
            "baxis": {
             "endlinecolor": "#A2B1C6",
             "gridcolor": "#506784",
             "linecolor": "#506784",
             "minorgridcolor": "#506784",
             "startlinecolor": "#A2B1C6"
            },
            "type": "carpet"
           }
          ],
          "choropleth": [
           {
            "colorbar": {
             "outlinewidth": 0,
             "ticks": ""
            },
            "type": "choropleth"
           }
          ],
          "contour": [
           {
            "colorbar": {
             "outlinewidth": 0,
             "ticks": ""
            },
            "colorscale": [
             [
              0,
              "#0d0887"
             ],
             [
              0.1111111111111111,
              "#46039f"
             ],
             [
              0.2222222222222222,
              "#7201a8"
             ],
             [
              0.3333333333333333,
              "#9c179e"
             ],
             [
              0.4444444444444444,
              "#bd3786"
             ],
             [
              0.5555555555555556,
              "#d8576b"
             ],
             [
              0.6666666666666666,
              "#ed7953"
             ],
             [
              0.7777777777777778,
              "#fb9f3a"
             ],
             [
              0.8888888888888888,
              "#fdca26"
             ],
             [
              1,
              "#f0f921"
             ]
            ],
            "type": "contour"
           }
          ],
          "contourcarpet": [
           {
            "colorbar": {
             "outlinewidth": 0,
             "ticks": ""
            },
            "type": "contourcarpet"
           }
          ],
          "heatmap": [
           {
            "colorbar": {
             "outlinewidth": 0,
             "ticks": ""
            },
            "colorscale": [
             [
              0,
              "#0d0887"
             ],
             [
              0.1111111111111111,
              "#46039f"
             ],
             [
              0.2222222222222222,
              "#7201a8"
             ],
             [
              0.3333333333333333,
              "#9c179e"
             ],
             [
              0.4444444444444444,
              "#bd3786"
             ],
             [
              0.5555555555555556,
              "#d8576b"
             ],
             [
              0.6666666666666666,
              "#ed7953"
             ],
             [
              0.7777777777777778,
              "#fb9f3a"
             ],
             [
              0.8888888888888888,
              "#fdca26"
             ],
             [
              1,
              "#f0f921"
             ]
            ],
            "type": "heatmap"
           }
          ],
          "histogram": [
           {
            "marker": {
             "pattern": {
              "fillmode": "overlay",
              "size": 10,
              "solidity": 0.2
             }
            },
            "type": "histogram"
           }
          ],
          "histogram2d": [
           {
            "colorbar": {
             "outlinewidth": 0,
             "ticks": ""
            },
            "colorscale": [
             [
              0,
              "#0d0887"
             ],
             [
              0.1111111111111111,
              "#46039f"
             ],
             [
              0.2222222222222222,
              "#7201a8"
             ],
             [
              0.3333333333333333,
              "#9c179e"
             ],
             [
              0.4444444444444444,
              "#bd3786"
             ],
             [
              0.5555555555555556,
              "#d8576b"
             ],
             [
              0.6666666666666666,
              "#ed7953"
             ],
             [
              0.7777777777777778,
              "#fb9f3a"
             ],
             [
              0.8888888888888888,
              "#fdca26"
             ],
             [
              1,
              "#f0f921"
             ]
            ],
            "type": "histogram2d"
           }
          ],
          "histogram2dcontour": [
           {
            "colorbar": {
             "outlinewidth": 0,
             "ticks": ""
            },
            "colorscale": [
             [
              0,
              "#0d0887"
             ],
             [
              0.1111111111111111,
              "#46039f"
             ],
             [
              0.2222222222222222,
              "#7201a8"
             ],
             [
              0.3333333333333333,
              "#9c179e"
             ],
             [
              0.4444444444444444,
              "#bd3786"
             ],
             [
              0.5555555555555556,
              "#d8576b"
             ],
             [
              0.6666666666666666,
              "#ed7953"
             ],
             [
              0.7777777777777778,
              "#fb9f3a"
             ],
             [
              0.8888888888888888,
              "#fdca26"
             ],
             [
              1,
              "#f0f921"
             ]
            ],
            "type": "histogram2dcontour"
           }
          ],
          "mesh3d": [
           {
            "colorbar": {
             "outlinewidth": 0,
             "ticks": ""
            },
            "type": "mesh3d"
           }
          ],
          "parcoords": [
           {
            "line": {
             "colorbar": {
              "outlinewidth": 0,
              "ticks": ""
             }
            },
            "type": "parcoords"
           }
          ],
          "pie": [
           {
            "automargin": true,
            "type": "pie"
           }
          ],
          "scatter": [
           {
            "marker": {
             "line": {
              "color": "#283442"
             }
            },
            "type": "scatter"
           }
          ],
          "scatter3d": [
           {
            "line": {
             "colorbar": {
              "outlinewidth": 0,
              "ticks": ""
             }
            },
            "marker": {
             "colorbar": {
              "outlinewidth": 0,
              "ticks": ""
             }
            },
            "type": "scatter3d"
           }
          ],
          "scattercarpet": [
           {
            "marker": {
             "colorbar": {
              "outlinewidth": 0,
              "ticks": ""
             }
            },
            "type": "scattercarpet"
           }
          ],
          "scattergeo": [
           {
            "marker": {
             "colorbar": {
              "outlinewidth": 0,
              "ticks": ""
             }
            },
            "type": "scattergeo"
           }
          ],
          "scattergl": [
           {
            "marker": {
             "line": {
              "color": "#283442"
             }
            },
            "type": "scattergl"
           }
          ],
          "scattermap": [
           {
            "marker": {
             "colorbar": {
              "outlinewidth": 0,
              "ticks": ""
             }
            },
            "type": "scattermap"
           }
          ],
          "scattermapbox": [
           {
            "marker": {
             "colorbar": {
              "outlinewidth": 0,
              "ticks": ""
             }
            },
            "type": "scattermapbox"
           }
          ],
          "scatterpolar": [
           {
            "marker": {
             "colorbar": {
              "outlinewidth": 0,
              "ticks": ""
             }
            },
            "type": "scatterpolar"
           }
          ],
          "scatterpolargl": [
           {
            "marker": {
             "colorbar": {
              "outlinewidth": 0,
              "ticks": ""
             }
            },
            "type": "scatterpolargl"
           }
          ],
          "scatterternary": [
           {
            "marker": {
             "colorbar": {
              "outlinewidth": 0,
              "ticks": ""
             }
            },
            "type": "scatterternary"
           }
          ],
          "surface": [
           {
            "colorbar": {
             "outlinewidth": 0,
             "ticks": ""
            },
            "colorscale": [
             [
              0,
              "#0d0887"
             ],
             [
              0.1111111111111111,
              "#46039f"
             ],
             [
              0.2222222222222222,
              "#7201a8"
             ],
             [
              0.3333333333333333,
              "#9c179e"
             ],
             [
              0.4444444444444444,
              "#bd3786"
             ],
             [
              0.5555555555555556,
              "#d8576b"
             ],
             [
              0.6666666666666666,
              "#ed7953"
             ],
             [
              0.7777777777777778,
              "#fb9f3a"
             ],
             [
              0.8888888888888888,
              "#fdca26"
             ],
             [
              1,
              "#f0f921"
             ]
            ],
            "type": "surface"
           }
          ],
          "table": [
           {
            "cells": {
             "fill": {
              "color": "#506784"
             },
             "line": {
              "color": "rgb(17,17,17)"
             }
            },
            "header": {
             "fill": {
              "color": "#2a3f5f"
             },
             "line": {
              "color": "rgb(17,17,17)"
             }
            },
            "type": "table"
           }
          ]
         },
         "layout": {
          "annotationdefaults": {
           "arrowcolor": "#f2f5fa",
           "arrowhead": 0,
           "arrowwidth": 1
          },
          "autotypenumbers": "strict",
          "coloraxis": {
           "colorbar": {
            "outlinewidth": 0,
            "ticks": ""
           }
          },
          "colorscale": {
           "diverging": [
            [
             0,
             "#8e0152"
            ],
            [
             0.1,
             "#c51b7d"
            ],
            [
             0.2,
             "#de77ae"
            ],
            [
             0.3,
             "#f1b6da"
            ],
            [
             0.4,
             "#fde0ef"
            ],
            [
             0.5,
             "#f7f7f7"
            ],
            [
             0.6,
             "#e6f5d0"
            ],
            [
             0.7,
             "#b8e186"
            ],
            [
             0.8,
             "#7fbc41"
            ],
            [
             0.9,
             "#4d9221"
            ],
            [
             1,
             "#276419"
            ]
           ],
           "sequential": [
            [
             0,
             "#0d0887"
            ],
            [
             0.1111111111111111,
             "#46039f"
            ],
            [
             0.2222222222222222,
             "#7201a8"
            ],
            [
             0.3333333333333333,
             "#9c179e"
            ],
            [
             0.4444444444444444,
             "#bd3786"
            ],
            [
             0.5555555555555556,
             "#d8576b"
            ],
            [
             0.6666666666666666,
             "#ed7953"
            ],
            [
             0.7777777777777778,
             "#fb9f3a"
            ],
            [
             0.8888888888888888,
             "#fdca26"
            ],
            [
             1,
             "#f0f921"
            ]
           ],
           "sequentialminus": [
            [
             0,
             "#0d0887"
            ],
            [
             0.1111111111111111,
             "#46039f"
            ],
            [
             0.2222222222222222,
             "#7201a8"
            ],
            [
             0.3333333333333333,
             "#9c179e"
            ],
            [
             0.4444444444444444,
             "#bd3786"
            ],
            [
             0.5555555555555556,
             "#d8576b"
            ],
            [
             0.6666666666666666,
             "#ed7953"
            ],
            [
             0.7777777777777778,
             "#fb9f3a"
            ],
            [
             0.8888888888888888,
             "#fdca26"
            ],
            [
             1,
             "#f0f921"
            ]
           ]
          },
          "colorway": [
           "#636efa",
           "#EF553B",
           "#00cc96",
           "#ab63fa",
           "#FFA15A",
           "#19d3f3",
           "#FF6692",
           "#B6E880",
           "#FF97FF",
           "#FECB52"
          ],
          "font": {
           "color": "#f2f5fa"
          },
          "geo": {
           "bgcolor": "rgb(17,17,17)",
           "lakecolor": "rgb(17,17,17)",
           "landcolor": "rgb(17,17,17)",
           "showlakes": true,
           "showland": true,
           "subunitcolor": "#506784"
          },
          "hoverlabel": {
           "align": "left"
          },
          "hovermode": "closest",
          "mapbox": {
           "style": "dark"
          },
          "paper_bgcolor": "rgb(17,17,17)",
          "plot_bgcolor": "rgb(17,17,17)",
          "polar": {
           "angularaxis": {
            "gridcolor": "#506784",
            "linecolor": "#506784",
            "ticks": ""
           },
           "bgcolor": "rgb(17,17,17)",
           "radialaxis": {
            "gridcolor": "#506784",
            "linecolor": "#506784",
            "ticks": ""
           }
          },
          "scene": {
           "xaxis": {
            "backgroundcolor": "rgb(17,17,17)",
            "gridcolor": "#506784",
            "gridwidth": 2,
            "linecolor": "#506784",
            "showbackground": true,
            "ticks": "",
            "zerolinecolor": "#C8D4E3"
           },
           "yaxis": {
            "backgroundcolor": "rgb(17,17,17)",
            "gridcolor": "#506784",
            "gridwidth": 2,
            "linecolor": "#506784",
            "showbackground": true,
            "ticks": "",
            "zerolinecolor": "#C8D4E3"
           },
           "zaxis": {
            "backgroundcolor": "rgb(17,17,17)",
            "gridcolor": "#506784",
            "gridwidth": 2,
            "linecolor": "#506784",
            "showbackground": true,
            "ticks": "",
            "zerolinecolor": "#C8D4E3"
           }
          },
          "shapedefaults": {
           "line": {
            "color": "#f2f5fa"
           }
          },
          "sliderdefaults": {
           "bgcolor": "#C8D4E3",
           "bordercolor": "rgb(17,17,17)",
           "borderwidth": 1,
           "tickwidth": 0
          },
          "ternary": {
           "aaxis": {
            "gridcolor": "#506784",
            "linecolor": "#506784",
            "ticks": ""
           },
           "baxis": {
            "gridcolor": "#506784",
            "linecolor": "#506784",
            "ticks": ""
           },
           "bgcolor": "rgb(17,17,17)",
           "caxis": {
            "gridcolor": "#506784",
            "linecolor": "#506784",
            "ticks": ""
           }
          },
          "title": {
           "x": 0.05
          },
          "updatemenudefaults": {
           "bgcolor": "#506784",
           "borderwidth": 0
          },
          "xaxis": {
           "automargin": true,
           "gridcolor": "#283442",
           "linecolor": "#506784",
           "ticks": "",
           "title": {
            "standoff": 15
           },
           "zerolinecolor": "#283442",
           "zerolinewidth": 2
          },
          "yaxis": {
           "automargin": true,
           "gridcolor": "#283442",
           "linecolor": "#506784",
           "ticks": "",
           "title": {
            "standoff": 15
           },
           "zerolinecolor": "#283442",
           "zerolinewidth": 2
          }
         }
        },
        "title": {
         "text": "Interactive Power Generation Volume Time Series"
        },
        "xaxis": {
         "anchor": "y",
         "domain": [
          0,
          1
         ],
         "rangeslider": {
          "visible": true
         },
         "title": {
          "text": "index"
         }
        },
        "yaxis": {
         "anchor": "x",
         "domain": [
          0,
          1
         ],
         "title": {
          "text": "volume_0"
         }
        }
       }
      }
     },
     "metadata": {},
     "output_type": "display_data"
    },
    {
     "data": {
      "application/vnd.plotly.v1+json": {
       "config": {
        "plotlyServerURL": "https://plot.ly"
       },
       "data": [
        {
         "bingroup": "x",
         "hovertemplate": "volume_0=%{x}<br>count=%{y}<extra></extra>",
         "legendgroup": "",
         "marker": {
          "color": "#636efa",
          "pattern": {
           "shape": ""
          }
         },
         "name": "",
         "nbinsx": 50,
         "orientation": "v",
         "showlegend": false,
         "type": "histogram",
         "x": {
          "bdata": "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",
          "dtype": "i4"
         },
         "xaxis": "x",
         "yaxis": "y"
        }
       ],
       "layout": {
        "bargap": 0.1,
        "barmode": "relative",
        "legend": {
         "tracegroupgap": 0
        },
        "template": {
         "data": {
          "bar": [
           {
            "error_x": {
             "color": "#f2f5fa"
            },
            "error_y": {
             "color": "#f2f5fa"
            },
            "marker": {
             "line": {
              "color": "rgb(17,17,17)",
              "width": 0.5
             },
             "pattern": {
              "fillmode": "overlay",
              "size": 10,
              "solidity": 0.2
             }
            },
            "type": "bar"
           }
          ],
          "barpolar": [
           {
            "marker": {
             "line": {
              "color": "rgb(17,17,17)",
              "width": 0.5
             },
             "pattern": {
              "fillmode": "overlay",
              "size": 10,
              "solidity": 0.2
             }
            },
            "type": "barpolar"
           }
          ],
          "carpet": [
           {
            "aaxis": {
             "endlinecolor": "#A2B1C6",
             "gridcolor": "#506784",
             "linecolor": "#506784",
             "minorgridcolor": "#506784",
             "startlinecolor": "#A2B1C6"
            },
            "baxis": {
             "endlinecolor": "#A2B1C6",
             "gridcolor": "#506784",
             "linecolor": "#506784",
             "minorgridcolor": "#506784",
             "startlinecolor": "#A2B1C6"
            },
            "type": "carpet"
           }
          ],
          "choropleth": [
           {
            "colorbar": {
             "outlinewidth": 0,
             "ticks": ""
            },
            "type": "choropleth"
           }
          ],
          "contour": [
           {
            "colorbar": {
             "outlinewidth": 0,
             "ticks": ""
            },
            "colorscale": [
             [
              0,
              "#0d0887"
             ],
             [
              0.1111111111111111,
              "#46039f"
             ],
             [
              0.2222222222222222,
              "#7201a8"
             ],
             [
              0.3333333333333333,
              "#9c179e"
             ],
             [
              0.4444444444444444,
              "#bd3786"
             ],
             [
              0.5555555555555556,
              "#d8576b"
             ],
             [
              0.6666666666666666,
              "#ed7953"
             ],
             [
              0.7777777777777778,
              "#fb9f3a"
             ],
             [
              0.8888888888888888,
              "#fdca26"
             ],
             [
              1,
              "#f0f921"
             ]
            ],
            "type": "contour"
           }
          ],
          "contourcarpet": [
           {
            "colorbar": {
             "outlinewidth": 0,
             "ticks": ""
            },
            "type": "contourcarpet"
           }
          ],
          "heatmap": [
           {
            "colorbar": {
             "outlinewidth": 0,
             "ticks": ""
            },
            "colorscale": [
             [
              0,
              "#0d0887"
             ],
             [
              0.1111111111111111,
              "#46039f"
             ],
             [
              0.2222222222222222,
              "#7201a8"
             ],
             [
              0.3333333333333333,
              "#9c179e"
             ],
             [
              0.4444444444444444,
              "#bd3786"
             ],
             [
              0.5555555555555556,
              "#d8576b"
             ],
             [
              0.6666666666666666,
              "#ed7953"
             ],
             [
              0.7777777777777778,
              "#fb9f3a"
             ],
             [
              0.8888888888888888,
              "#fdca26"
             ],
             [
              1,
              "#f0f921"
             ]
            ],
            "type": "heatmap"
           }
          ],
          "histogram": [
           {
            "marker": {
             "pattern": {
              "fillmode": "overlay",
              "size": 10,
              "solidity": 0.2
             }
            },
            "type": "histogram"
           }
          ],
          "histogram2d": [
           {
            "colorbar": {
             "outlinewidth": 0,
             "ticks": ""
            },
            "colorscale": [
             [
              0,
              "#0d0887"
             ],
             [
              0.1111111111111111,
              "#46039f"
             ],
             [
              0.2222222222222222,
              "#7201a8"
             ],
             [
              0.3333333333333333,
              "#9c179e"
             ],
             [
              0.4444444444444444,
              "#bd3786"
             ],
             [
              0.5555555555555556,
              "#d8576b"
             ],
             [
              0.6666666666666666,
              "#ed7953"
             ],
             [
              0.7777777777777778,
              "#fb9f3a"
             ],
             [
              0.8888888888888888,
              "#fdca26"
             ],
             [
              1,
              "#f0f921"
             ]
            ],
            "type": "histogram2d"
           }
          ],
          "histogram2dcontour": [
           {
            "colorbar": {
             "outlinewidth": 0,
             "ticks": ""
            },
            "colorscale": [
             [
              0,
              "#0d0887"
             ],
             [
              0.1111111111111111,
              "#46039f"
             ],
             [
              0.2222222222222222,
              "#7201a8"
             ],
             [
              0.3333333333333333,
              "#9c179e"
             ],
             [
              0.4444444444444444,
              "#bd3786"
             ],
             [
              0.5555555555555556,
              "#d8576b"
             ],
             [
              0.6666666666666666,
              "#ed7953"
             ],
             [
              0.7777777777777778,
              "#fb9f3a"
             ],
             [
              0.8888888888888888,
              "#fdca26"
             ],
             [
              1,
              "#f0f921"
             ]
            ],
            "type": "histogram2dcontour"
           }
          ],
          "mesh3d": [
           {
            "colorbar": {
             "outlinewidth": 0,
             "ticks": ""
            },
            "type": "mesh3d"
           }
          ],
          "parcoords": [
           {
            "line": {
             "colorbar": {
              "outlinewidth": 0,
              "ticks": ""
             }
            },
            "type": "parcoords"
           }
          ],
          "pie": [
           {
            "automargin": true,
            "type": "pie"
           }
          ],
          "scatter": [
           {
            "marker": {
             "line": {
              "color": "#283442"
             }
            },
            "type": "scatter"
           }
          ],
          "scatter3d": [
           {
            "line": {
             "colorbar": {
              "outlinewidth": 0,
              "ticks": ""
             }
            },
            "marker": {
             "colorbar": {
              "outlinewidth": 0,
              "ticks": ""
             }
            },
            "type": "scatter3d"
           }
          ],
          "scattercarpet": [
           {
            "marker": {
             "colorbar": {
              "outlinewidth": 0,
              "ticks": ""
             }
            },
            "type": "scattercarpet"
           }
          ],
          "scattergeo": [
           {
            "marker": {
             "colorbar": {
              "outlinewidth": 0,
              "ticks": ""
             }
            },
            "type": "scattergeo"
           }
          ],
          "scattergl": [
           {
            "marker": {
             "line": {
              "color": "#283442"
             }
            },
            "type": "scattergl"
           }
          ],
          "scattermap": [
           {
            "marker": {
             "colorbar": {
              "outlinewidth": 0,
              "ticks": ""
             }
            },
            "type": "scattermap"
           }
          ],
          "scattermapbox": [
           {
            "marker": {
             "colorbar": {
              "outlinewidth": 0,
              "ticks": ""
             }
            },
            "type": "scattermapbox"
           }
          ],
          "scatterpolar": [
           {
            "marker": {
             "colorbar": {
              "outlinewidth": 0,
              "ticks": ""
             }
            },
            "type": "scatterpolar"
           }
          ],
          "scatterpolargl": [
           {
            "marker": {
             "colorbar": {
              "outlinewidth": 0,
              "ticks": ""
             }
            },
            "type": "scatterpolargl"
           }
          ],
          "scatterternary": [
           {
            "marker": {
             "colorbar": {
              "outlinewidth": 0,
              "ticks": ""
             }
            },
            "type": "scatterternary"
           }
          ],
          "surface": [
           {
            "colorbar": {
             "outlinewidth": 0,
             "ticks": ""
            },
            "colorscale": [
             [
              0,
              "#0d0887"
             ],
             [
              0.1111111111111111,
              "#46039f"
             ],
             [
              0.2222222222222222,
              "#7201a8"
             ],
             [
              0.3333333333333333,
              "#9c179e"
             ],
             [
              0.4444444444444444,
              "#bd3786"
             ],
             [
              0.5555555555555556,
              "#d8576b"
             ],
             [
              0.6666666666666666,
              "#ed7953"
             ],
             [
              0.7777777777777778,
              "#fb9f3a"
             ],
             [
              0.8888888888888888,
              "#fdca26"
             ],
             [
              1,
              "#f0f921"
             ]
            ],
            "type": "surface"
           }
          ],
          "table": [
           {
            "cells": {
             "fill": {
              "color": "#506784"
             },
             "line": {
              "color": "rgb(17,17,17)"
             }
            },
            "header": {
             "fill": {
              "color": "#2a3f5f"
             },
             "line": {
              "color": "rgb(17,17,17)"
             }
            },
            "type": "table"
           }
          ]
         },
         "layout": {
          "annotationdefaults": {
           "arrowcolor": "#f2f5fa",
           "arrowhead": 0,
           "arrowwidth": 1
          },
          "autotypenumbers": "strict",
          "coloraxis": {
           "colorbar": {
            "outlinewidth": 0,
            "ticks": ""
           }
          },
          "colorscale": {
           "diverging": [
            [
             0,
             "#8e0152"
            ],
            [
             0.1,
             "#c51b7d"
            ],
            [
             0.2,
             "#de77ae"
            ],
            [
             0.3,
             "#f1b6da"
            ],
            [
             0.4,
             "#fde0ef"
            ],
            [
             0.5,
             "#f7f7f7"
            ],
            [
             0.6,
             "#e6f5d0"
            ],
            [
             0.7,
             "#b8e186"
            ],
            [
             0.8,
             "#7fbc41"
            ],
            [
             0.9,
             "#4d9221"
            ],
            [
             1,
             "#276419"
            ]
           ],
           "sequential": [
            [
             0,
             "#0d0887"
            ],
            [
             0.1111111111111111,
             "#46039f"
            ],
            [
             0.2222222222222222,
             "#7201a8"
            ],
            [
             0.3333333333333333,
             "#9c179e"
            ],
            [
             0.4444444444444444,
             "#bd3786"
            ],
            [
             0.5555555555555556,
             "#d8576b"
            ],
            [
             0.6666666666666666,
             "#ed7953"
            ],
            [
             0.7777777777777778,
             "#fb9f3a"
            ],
            [
             0.8888888888888888,
             "#fdca26"
            ],
            [
             1,
             "#f0f921"
            ]
           ],
           "sequentialminus": [
            [
             0,
             "#0d0887"
            ],
            [
             0.1111111111111111,
             "#46039f"
            ],
            [
             0.2222222222222222,
             "#7201a8"
            ],
            [
             0.3333333333333333,
             "#9c179e"
            ],
            [
             0.4444444444444444,
             "#bd3786"
            ],
            [
             0.5555555555555556,
             "#d8576b"
            ],
            [
             0.6666666666666666,
             "#ed7953"
            ],
            [
             0.7777777777777778,
             "#fb9f3a"
            ],
            [
             0.8888888888888888,
             "#fdca26"
            ],
            [
             1,
             "#f0f921"
            ]
           ]
          },
          "colorway": [
           "#636efa",
           "#EF553B",
           "#00cc96",
           "#ab63fa",
           "#FFA15A",
           "#19d3f3",
           "#FF6692",
           "#B6E880",
           "#FF97FF",
           "#FECB52"
          ],
          "font": {
           "color": "#f2f5fa"
          },
          "geo": {
           "bgcolor": "rgb(17,17,17)",
           "lakecolor": "rgb(17,17,17)",
           "landcolor": "rgb(17,17,17)",
           "showlakes": true,
           "showland": true,
           "subunitcolor": "#506784"
          },
          "hoverlabel": {
           "align": "left"
          },
          "hovermode": "closest",
          "mapbox": {
           "style": "dark"
          },
          "paper_bgcolor": "rgb(17,17,17)",
          "plot_bgcolor": "rgb(17,17,17)",
          "polar": {
           "angularaxis": {
            "gridcolor": "#506784",
            "linecolor": "#506784",
            "ticks": ""
           },
           "bgcolor": "rgb(17,17,17)",
           "radialaxis": {
            "gridcolor": "#506784",
            "linecolor": "#506784",
            "ticks": ""
           }
          },
          "scene": {
           "xaxis": {
            "backgroundcolor": "rgb(17,17,17)",
            "gridcolor": "#506784",
            "gridwidth": 2,
            "linecolor": "#506784",
            "showbackground": true,
            "ticks": "",
            "zerolinecolor": "#C8D4E3"
           },
           "yaxis": {
            "backgroundcolor": "rgb(17,17,17)",
            "gridcolor": "#506784",
            "gridwidth": 2,
            "linecolor": "#506784",
            "showbackground": true,
            "ticks": "",
            "zerolinecolor": "#C8D4E3"
           },
           "zaxis": {
            "backgroundcolor": "rgb(17,17,17)",
            "gridcolor": "#506784",
            "gridwidth": 2,
            "linecolor": "#506784",
            "showbackground": true,
            "ticks": "",
            "zerolinecolor": "#C8D4E3"
           }
          },
          "shapedefaults": {
           "line": {
            "color": "#f2f5fa"
           }
          },
          "sliderdefaults": {
           "bgcolor": "#C8D4E3",
           "bordercolor": "rgb(17,17,17)",
           "borderwidth": 1,
           "tickwidth": 0
          },
          "ternary": {
           "aaxis": {
            "gridcolor": "#506784",
            "linecolor": "#506784",
            "ticks": ""
           },
           "baxis": {
            "gridcolor": "#506784",
            "linecolor": "#506784",
            "ticks": ""
           },
           "bgcolor": "rgb(17,17,17)",
           "caxis": {
            "gridcolor": "#506784",
            "linecolor": "#506784",
            "ticks": ""
           }
          },
          "title": {
           "x": 0.05
          },
          "updatemenudefaults": {
           "bgcolor": "#506784",
           "borderwidth": 0
          },
          "xaxis": {
           "automargin": true,
           "gridcolor": "#283442",
           "linecolor": "#506784",
           "ticks": "",
           "title": {
            "standoff": 15
           },
           "zerolinecolor": "#283442",
           "zerolinewidth": 2
          },
          "yaxis": {
           "automargin": true,
           "gridcolor": "#283442",
           "linecolor": "#506784",
           "ticks": "",
           "title": {
            "standoff": 15
           },
           "zerolinecolor": "#283442",
           "zerolinewidth": 2
          }
         }
        },
        "title": {
         "text": "Distribution of Power generation Volume"
        },
        "xaxis": {
         "anchor": "y",
         "domain": [
          0,
          1
         ],
         "title": {
          "text": "volume_0"
         }
        },
        "yaxis": {
         "anchor": "x",
         "domain": [
          0,
          1
         ],
         "title": {
          "text": "count"
         }
        }
       }
      }
     },
     "metadata": {},
     "output_type": "display_data"
    },
    {
     "data": {
      "application/vnd.plotly.v1+json": {
       "config": {
        "plotlyServerURL": "https://plot.ly"
       },
       "data": [
        {
         "alignmentgroup": "True",
         "hovertemplate": "volume_0=%{y}<extra></extra>",
         "legendgroup": "",
         "marker": {
          "color": "#636efa"
         },
         "name": "",
         "notched": false,
         "offsetgroup": "",
         "orientation": "v",
         "showlegend": false,
         "type": "box",
         "x0": " ",
         "xaxis": "x",
         "y": {
          "bdata": "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",
          "dtype": "i4"
         },
         "y0": " ",
         "yaxis": "y"
        }
       ],
       "layout": {
        "boxmode": "group",
        "legend": {
         "tracegroupgap": 0
        },
        "template": {
         "data": {
          "bar": [
           {
            "error_x": {
             "color": "#f2f5fa"
            },
            "error_y": {
             "color": "#f2f5fa"
            },
            "marker": {
             "line": {
              "color": "rgb(17,17,17)",
              "width": 0.5
             },
             "pattern": {
              "fillmode": "overlay",
              "size": 10,
              "solidity": 0.2
             }
            },
            "type": "bar"
           }
          ],
          "barpolar": [
           {
            "marker": {
             "line": {
              "color": "rgb(17,17,17)",
              "width": 0.5
             },
             "pattern": {
              "fillmode": "overlay",
              "size": 10,
              "solidity": 0.2
             }
            },
            "type": "barpolar"
           }
          ],
          "carpet": [
           {
            "aaxis": {
             "endlinecolor": "#A2B1C6",
             "gridcolor": "#506784",
             "linecolor": "#506784",
             "minorgridcolor": "#506784",
             "startlinecolor": "#A2B1C6"
            },
            "baxis": {
             "endlinecolor": "#A2B1C6",
             "gridcolor": "#506784",
             "linecolor": "#506784",
             "minorgridcolor": "#506784",
             "startlinecolor": "#A2B1C6"
            },
            "type": "carpet"
           }
          ],
          "choropleth": [
           {
            "colorbar": {
             "outlinewidth": 0,
             "ticks": ""
            },
            "type": "choropleth"
           }
          ],
          "contour": [
           {
            "colorbar": {
             "outlinewidth": 0,
             "ticks": ""
            },
            "colorscale": [
             [
              0,
              "#0d0887"
             ],
             [
              0.1111111111111111,
              "#46039f"
             ],
             [
              0.2222222222222222,
              "#7201a8"
             ],
             [
              0.3333333333333333,
              "#9c179e"
             ],
             [
              0.4444444444444444,
              "#bd3786"
             ],
             [
              0.5555555555555556,
              "#d8576b"
             ],
             [
              0.6666666666666666,
              "#ed7953"
             ],
             [
              0.7777777777777778,
              "#fb9f3a"
             ],
             [
              0.8888888888888888,
              "#fdca26"
             ],
             [
              1,
              "#f0f921"
             ]
            ],
            "type": "contour"
           }
          ],
          "contourcarpet": [
           {
            "colorbar": {
             "outlinewidth": 0,
             "ticks": ""
            },
            "type": "contourcarpet"
           }
          ],
          "heatmap": [
           {
            "colorbar": {
             "outlinewidth": 0,
             "ticks": ""
            },
            "colorscale": [
             [
              0,
              "#0d0887"
             ],
             [
              0.1111111111111111,
              "#46039f"
             ],
             [
              0.2222222222222222,
              "#7201a8"
             ],
             [
              0.3333333333333333,
              "#9c179e"
             ],
             [
              0.4444444444444444,
              "#bd3786"
             ],
             [
              0.5555555555555556,
              "#d8576b"
             ],
             [
              0.6666666666666666,
              "#ed7953"
             ],
             [
              0.7777777777777778,
              "#fb9f3a"
             ],
             [
              0.8888888888888888,
              "#fdca26"
             ],
             [
              1,
              "#f0f921"
             ]
            ],
            "type": "heatmap"
           }
          ],
          "histogram": [
           {
            "marker": {
             "pattern": {
              "fillmode": "overlay",
              "size": 10,
              "solidity": 0.2
             }
            },
            "type": "histogram"
           }
          ],
          "histogram2d": [
           {
            "colorbar": {
             "outlinewidth": 0,
             "ticks": ""
            },
            "colorscale": [
             [
              0,
              "#0d0887"
             ],
             [
              0.1111111111111111,
              "#46039f"
             ],
             [
              0.2222222222222222,
              "#7201a8"
             ],
             [
              0.3333333333333333,
              "#9c179e"
             ],
             [
              0.4444444444444444,
              "#bd3786"
             ],
             [
              0.5555555555555556,
              "#d8576b"
             ],
             [
              0.6666666666666666,
              "#ed7953"
             ],
             [
              0.7777777777777778,
              "#fb9f3a"
             ],
             [
              0.8888888888888888,
              "#fdca26"
             ],
             [
              1,
              "#f0f921"
             ]
            ],
            "type": "histogram2d"
           }
          ],
          "histogram2dcontour": [
           {
            "colorbar": {
             "outlinewidth": 0,
             "ticks": ""
            },
            "colorscale": [
             [
              0,
              "#0d0887"
             ],
             [
              0.1111111111111111,
              "#46039f"
             ],
             [
              0.2222222222222222,
              "#7201a8"
             ],
             [
              0.3333333333333333,
              "#9c179e"
             ],
             [
              0.4444444444444444,
              "#bd3786"
             ],
             [
              0.5555555555555556,
              "#d8576b"
             ],
             [
              0.6666666666666666,
              "#ed7953"
             ],
             [
              0.7777777777777778,
              "#fb9f3a"
             ],
             [
              0.8888888888888888,
              "#fdca26"
             ],
             [
              1,
              "#f0f921"
             ]
            ],
            "type": "histogram2dcontour"
           }
          ],
          "mesh3d": [
           {
            "colorbar": {
             "outlinewidth": 0,
             "ticks": ""
            },
            "type": "mesh3d"
           }
          ],
          "parcoords": [
           {
            "line": {
             "colorbar": {
              "outlinewidth": 0,
              "ticks": ""
             }
            },
            "type": "parcoords"
           }
          ],
          "pie": [
           {
            "automargin": true,
            "type": "pie"
           }
          ],
          "scatter": [
           {
            "marker": {
             "line": {
              "color": "#283442"
             }
            },
            "type": "scatter"
           }
          ],
          "scatter3d": [
           {
            "line": {
             "colorbar": {
              "outlinewidth": 0,
              "ticks": ""
             }
            },
            "marker": {
             "colorbar": {
              "outlinewidth": 0,
              "ticks": ""
             }
            },
            "type": "scatter3d"
           }
          ],
          "scattercarpet": [
           {
            "marker": {
             "colorbar": {
              "outlinewidth": 0,
              "ticks": ""
             }
            },
            "type": "scattercarpet"
           }
          ],
          "scattergeo": [
           {
            "marker": {
             "colorbar": {
              "outlinewidth": 0,
              "ticks": ""
             }
            },
            "type": "scattergeo"
           }
          ],
          "scattergl": [
           {
            "marker": {
             "line": {
              "color": "#283442"
             }
            },
            "type": "scattergl"
           }
          ],
          "scattermap": [
           {
            "marker": {
             "colorbar": {
              "outlinewidth": 0,
              "ticks": ""
             }
            },
            "type": "scattermap"
           }
          ],
          "scattermapbox": [
           {
            "marker": {
             "colorbar": {
              "outlinewidth": 0,
              "ticks": ""
             }
            },
            "type": "scattermapbox"
           }
          ],
          "scatterpolar": [
           {
            "marker": {
             "colorbar": {
              "outlinewidth": 0,
              "ticks": ""
             }
            },
            "type": "scatterpolar"
           }
          ],
          "scatterpolargl": [
           {
            "marker": {
             "colorbar": {
              "outlinewidth": 0,
              "ticks": ""
             }
            },
            "type": "scatterpolargl"
           }
          ],
          "scatterternary": [
           {
            "marker": {
             "colorbar": {
              "outlinewidth": 0,
              "ticks": ""
             }
            },
            "type": "scatterternary"
           }
          ],
          "surface": [
           {
            "colorbar": {
             "outlinewidth": 0,
             "ticks": ""
            },
            "colorscale": [
             [
              0,
              "#0d0887"
             ],
             [
              0.1111111111111111,
              "#46039f"
             ],
             [
              0.2222222222222222,
              "#7201a8"
             ],
             [
              0.3333333333333333,
              "#9c179e"
             ],
             [
              0.4444444444444444,
              "#bd3786"
             ],
             [
              0.5555555555555556,
              "#d8576b"
             ],
             [
              0.6666666666666666,
              "#ed7953"
             ],
             [
              0.7777777777777778,
              "#fb9f3a"
             ],
             [
              0.8888888888888888,
              "#fdca26"
             ],
             [
              1,
              "#f0f921"
             ]
            ],
            "type": "surface"
           }
          ],
          "table": [
           {
            "cells": {
             "fill": {
              "color": "#506784"
             },
             "line": {
              "color": "rgb(17,17,17)"
             }
            },
            "header": {
             "fill": {
              "color": "#2a3f5f"
             },
             "line": {
              "color": "rgb(17,17,17)"
             }
            },
            "type": "table"
           }
          ]
         },
         "layout": {
          "annotationdefaults": {
           "arrowcolor": "#f2f5fa",
           "arrowhead": 0,
           "arrowwidth": 1
          },
          "autotypenumbers": "strict",
          "coloraxis": {
           "colorbar": {
            "outlinewidth": 0,
            "ticks": ""
           }
          },
          "colorscale": {
           "diverging": [
            [
             0,
             "#8e0152"
            ],
            [
             0.1,
             "#c51b7d"
            ],
            [
             0.2,
             "#de77ae"
            ],
            [
             0.3,
             "#f1b6da"
            ],
            [
             0.4,
             "#fde0ef"
            ],
            [
             0.5,
             "#f7f7f7"
            ],
            [
             0.6,
             "#e6f5d0"
            ],
            [
             0.7,
             "#b8e186"
            ],
            [
             0.8,
             "#7fbc41"
            ],
            [
             0.9,
             "#4d9221"
            ],
            [
             1,
             "#276419"
            ]
           ],
           "sequential": [
            [
             0,
             "#0d0887"
            ],
            [
             0.1111111111111111,
             "#46039f"
            ],
            [
             0.2222222222222222,
             "#7201a8"
            ],
            [
             0.3333333333333333,
             "#9c179e"
            ],
            [
             0.4444444444444444,
             "#bd3786"
            ],
            [
             0.5555555555555556,
             "#d8576b"
            ],
            [
             0.6666666666666666,
             "#ed7953"
            ],
            [
             0.7777777777777778,
             "#fb9f3a"
            ],
            [
             0.8888888888888888,
             "#fdca26"
            ],
            [
             1,
             "#f0f921"
            ]
           ],
           "sequentialminus": [
            [
             0,
             "#0d0887"
            ],
            [
             0.1111111111111111,
             "#46039f"
            ],
            [
             0.2222222222222222,
             "#7201a8"
            ],
            [
             0.3333333333333333,
             "#9c179e"
            ],
            [
             0.4444444444444444,
             "#bd3786"
            ],
            [
             0.5555555555555556,
             "#d8576b"
            ],
            [
             0.6666666666666666,
             "#ed7953"
            ],
            [
             0.7777777777777778,
             "#fb9f3a"
            ],
            [
             0.8888888888888888,
             "#fdca26"
            ],
            [
             1,
             "#f0f921"
            ]
           ]
          },
          "colorway": [
           "#636efa",
           "#EF553B",
           "#00cc96",
           "#ab63fa",
           "#FFA15A",
           "#19d3f3",
           "#FF6692",
           "#B6E880",
           "#FF97FF",
           "#FECB52"
          ],
          "font": {
           "color": "#f2f5fa"
          },
          "geo": {
           "bgcolor": "rgb(17,17,17)",
           "lakecolor": "rgb(17,17,17)",
           "landcolor": "rgb(17,17,17)",
           "showlakes": true,
           "showland": true,
           "subunitcolor": "#506784"
          },
          "hoverlabel": {
           "align": "left"
          },
          "hovermode": "closest",
          "mapbox": {
           "style": "dark"
          },
          "paper_bgcolor": "rgb(17,17,17)",
          "plot_bgcolor": "rgb(17,17,17)",
          "polar": {
           "angularaxis": {
            "gridcolor": "#506784",
            "linecolor": "#506784",
            "ticks": ""
           },
           "bgcolor": "rgb(17,17,17)",
           "radialaxis": {
            "gridcolor": "#506784",
            "linecolor": "#506784",
            "ticks": ""
           }
          },
          "scene": {
           "xaxis": {
            "backgroundcolor": "rgb(17,17,17)",
            "gridcolor": "#506784",
            "gridwidth": 2,
            "linecolor": "#506784",
            "showbackground": true,
            "ticks": "",
            "zerolinecolor": "#C8D4E3"
           },
           "yaxis": {
            "backgroundcolor": "rgb(17,17,17)",
            "gridcolor": "#506784",
            "gridwidth": 2,
            "linecolor": "#506784",
            "showbackground": true,
            "ticks": "",
            "zerolinecolor": "#C8D4E3"
           },
           "zaxis": {
            "backgroundcolor": "rgb(17,17,17)",
            "gridcolor": "#506784",
            "gridwidth": 2,
            "linecolor": "#506784",
            "showbackground": true,
            "ticks": "",
            "zerolinecolor": "#C8D4E3"
           }
          },
          "shapedefaults": {
           "line": {
            "color": "#f2f5fa"
           }
          },
          "sliderdefaults": {
           "bgcolor": "#C8D4E3",
           "bordercolor": "rgb(17,17,17)",
           "borderwidth": 1,
           "tickwidth": 0
          },
          "ternary": {
           "aaxis": {
            "gridcolor": "#506784",
            "linecolor": "#506784",
            "ticks": ""
           },
           "baxis": {
            "gridcolor": "#506784",
            "linecolor": "#506784",
            "ticks": ""
           },
           "bgcolor": "rgb(17,17,17)",
           "caxis": {
            "gridcolor": "#506784",
            "linecolor": "#506784",
            "ticks": ""
           }
          },
          "title": {
           "x": 0.05
          },
          "updatemenudefaults": {
           "bgcolor": "#506784",
           "borderwidth": 0
          },
          "xaxis": {
           "automargin": true,
           "gridcolor": "#283442",
           "linecolor": "#506784",
           "ticks": "",
           "title": {
            "standoff": 15
           },
           "zerolinecolor": "#283442",
           "zerolinewidth": 2
          },
          "yaxis": {
           "automargin": true,
           "gridcolor": "#283442",
           "linecolor": "#506784",
           "ticks": "",
           "title": {
            "standoff": 15
           },
           "zerolinecolor": "#283442",
           "zerolinewidth": 2
          }
         }
        },
        "title": {
         "text": "Box Plot of Volume"
        },
        "xaxis": {
         "anchor": "y",
         "domain": [
          0,
          1
         ]
        },
        "yaxis": {
         "anchor": "x",
         "domain": [
          0,
          1
         ],
         "title": {
          "text": "volume_0"
         }
        }
       }
      }
     },
     "metadata": {},
     "output_type": "display_data"
    }
   ],
   "source": [
    "import plotly.express as px\n",
    "\n",
    "df = df_orig_num\n",
    "\n",
    "# 1. Interactive Time Series Plot\n",
    "fig_line = px.line(\n",
    "    df,\n",
    "    x=df.index,\n",
    "    y=\"volume_0\",\n",
    "    title=\"Interactive Power Generation Volume Time Series\",\n",
    "    labels={\"x\": \"Time\", \"Volume\": \"Wh)\"},\n",
    "    template=\"plotly_dark\"\n",
    ")\n",
    "fig_line.update_xaxes(rangeslider_visible=True)\n",
    "fig_line.show()\n",
    "\n",
    "# 2. Interactive Histogram of Energy Price\n",
    "fig_hist = px.histogram(\n",
    "    df,\n",
    "    x=\"volume_0\",\n",
    "    nbins=50,\n",
    "    title=\"Distribution of Power generation Volume\",\n",
    "    labels={\"Volume\": \"Wh)\"},\n",
    "    template=\"plotly_dark\"\n",
    ")\n",
    "fig_hist.update_layout(bargap=0.1)\n",
    "fig_hist.show()\n",
    "\n",
    "# 3. Interactive Box Plot for Energy Price\n",
    "fig_box = px.box(\n",
    "    df,\n",
    "    y=\"volume_0\",\n",
    "    title=\"Box Plot of Volume\",\n",
    "    labels={\"Volume\": \"Wh)\"},\n",
    "    template=\"plotly_dark\"\n",
    ")\n",
    "fig_box.show()"
   ]
  },
  {
   "cell_type": "markdown",
   "metadata": {},
   "source": [
    "Further analysis "
   ]
  },
  {
   "cell_type": "code",
   "execution_count": 25,
   "metadata": {},
   "outputs": [
    {
     "name": "stdout",
     "output_type": "stream",
     "text": [
      "Missing Values:\n",
      "\n",
      "validto                           0\n",
      "capacity_0                        0\n",
      "volume_0                          0\n",
      "capacity_1                        0\n",
      "production_wind                   0\n",
      "capacity_2                        0\n",
      "production_solar                  0\n",
      "capacity_4                        0\n",
      "production_heatpump               0\n",
      "capacity_8                        0\n",
      "production_cofiring               0\n",
      "capacity_9                        0\n",
      "production_geothermal             0\n",
      "capacity_10                       0\n",
      "production_other                  0\n",
      "capacity_11                       0\n",
      "production_waste                  0\n",
      "capacity_12                       0\n",
      "production_biooil                 0\n",
      "capacity_13                       0\n",
      "production_biomass                0\n",
      "capacity_14                       0\n",
      "production_wood                   0\n",
      "capacity_17                       0\n",
      "production_windoffshore           0\n",
      "capacity_18                       0\n",
      "production_fossilgaspower         0\n",
      "capacity_19                       0\n",
      "production_fossilhardcoal         0\n",
      "capacity_20                       0\n",
      "production_nuclear                0\n",
      "capacity_21                       0\n",
      "production_wastepower             0\n",
      "capacity_22                       0\n",
      "production_windoffshoreB          0\n",
      "capacity_25                       0\n",
      "production_biomasspower           0\n",
      "capacity_26                       0\n",
      "production_otherpower             0\n",
      "capacity_27                       0\n",
      "production_electricitymix         0\n",
      "capacity_28                   19927\n",
      "volume_28                     19927\n",
      "capacity_35                       0\n",
      "production_CHP_total              0\n",
      "capacity_50                       0\n",
      "production_solarthermal           0\n",
      "capacity_51                       0\n",
      "production_allconsuminggas        0\n",
      "dtype: int64\n",
      "\n",
      "Percentage of Missing Values:\n",
      "\n",
      "validto                        0.00\n",
      "capacity_0                     0.00\n",
      "volume_0                       0.00\n",
      "capacity_1                     0.00\n",
      "production_wind                0.00\n",
      "capacity_2                     0.00\n",
      "production_solar               0.00\n",
      "capacity_4                     0.00\n",
      "production_heatpump            0.00\n",
      "capacity_8                     0.00\n",
      "production_cofiring            0.00\n",
      "capacity_9                     0.00\n",
      "production_geothermal          0.00\n",
      "capacity_10                    0.00\n",
      "production_other               0.00\n",
      "capacity_11                    0.00\n",
      "production_waste               0.00\n",
      "capacity_12                    0.00\n",
      "production_biooil              0.00\n",
      "capacity_13                    0.00\n",
      "production_biomass             0.00\n",
      "capacity_14                    0.00\n",
      "production_wood                0.00\n",
      "capacity_17                    0.00\n",
      "production_windoffshore        0.00\n",
      "capacity_18                    0.00\n",
      "production_fossilgaspower      0.00\n",
      "capacity_19                    0.00\n",
      "production_fossilhardcoal      0.00\n",
      "capacity_20                    0.00\n",
      "production_nuclear             0.00\n",
      "capacity_21                    0.00\n",
      "production_wastepower          0.00\n",
      "capacity_22                    0.00\n",
      "production_windoffshoreB       0.00\n",
      "capacity_25                    0.00\n",
      "production_biomasspower        0.00\n",
      "capacity_26                    0.00\n",
      "production_otherpower          0.00\n",
      "capacity_27                    0.00\n",
      "production_electricitymix      0.00\n",
      "capacity_28                   75.76\n",
      "volume_28                     75.76\n",
      "capacity_35                    0.00\n",
      "production_CHP_total           0.00\n",
      "capacity_50                    0.00\n",
      "production_solarthermal        0.00\n",
      "capacity_51                    0.00\n",
      "production_allconsuminggas     0.00\n",
      "dtype: float64\n",
      "\n",
      "Duplicate Rows:\n",
      "\n",
      "0\n",
      "\n",
      "Data Types:\n",
      "\n",
      "validto                        object\n",
      "capacity_0                      int64\n",
      "volume_0                        int64\n",
      "capacity_1                      int64\n",
      "production_wind                 int64\n",
      "capacity_2                      int64\n",
      "production_solar                int64\n",
      "capacity_4                      int64\n",
      "production_heatpump             int64\n",
      "capacity_8                      int64\n",
      "production_cofiring             int64\n",
      "capacity_9                      int64\n",
      "production_geothermal           int64\n",
      "capacity_10                     int64\n",
      "production_other                int64\n",
      "capacity_11                     int64\n",
      "production_waste                int64\n",
      "capacity_12                     int64\n",
      "production_biooil               int64\n",
      "capacity_13                     int64\n",
      "production_biomass              int64\n",
      "capacity_14                     int64\n",
      "production_wood                 int64\n",
      "capacity_17                     int64\n",
      "production_windoffshore         int64\n",
      "capacity_18                     int64\n",
      "production_fossilgaspower       int64\n",
      "capacity_19                     int64\n",
      "production_fossilhardcoal       int64\n",
      "capacity_20                     int64\n",
      "production_nuclear              int64\n",
      "capacity_21                     int64\n",
      "production_wastepower           int64\n",
      "capacity_22                     int64\n",
      "production_windoffshoreB        int64\n",
      "capacity_25                     int64\n",
      "production_biomasspower         int64\n",
      "capacity_26                     int64\n",
      "production_otherpower           int64\n",
      "capacity_27                     int64\n",
      "production_electricitymix       int64\n",
      "capacity_28                   float64\n",
      "volume_28                     float64\n",
      "capacity_35                     int64\n",
      "production_CHP_total            int64\n",
      "capacity_50                     int64\n",
      "production_solarthermal         int64\n",
      "capacity_51                     int64\n",
      "production_allconsuminggas      int64\n",
      "dtype: object\n"
     ]
    }
   ],
   "source": [
    "# 1. Check for Missing Values\n",
    "print(\"Missing Values:\\n\")\n",
    "print(df_ned_json_data.isnull().sum())\n",
    "print(\"\\nPercentage of Missing Values:\\n\")\n",
    "print((df_ned_json_data.isnull().sum() / len(df_ned_json_data)) * 100)\n",
    "\n",
    "# 2. Check for Duplicates\n",
    "print(\"\\nDuplicate Rows:\\n\")\n",
    "print(df_ned_json_data.duplicated().sum())\n",
    "\n",
    "# 3. Check Data Types\n",
    "print(\"\\nData Types:\\n\")\n",
    "print(df_ned_json_data.dtypes)"
   ]
  },
  {
   "cell_type": "code",
   "execution_count": 26,
   "metadata": {},
   "outputs": [
    {
     "name": "stdout",
     "output_type": "stream",
     "text": [
      "\n",
      "Outlier Detection (IQR Method):\n",
      "\n",
      "capacity_0: 212 outliers detected\n",
      "volume_0: 212 outliers detected\n",
      "capacity_1: 0 outliers detected\n",
      "production_wind: 0 outliers detected\n",
      "capacity_2: 2069 outliers detected\n",
      "production_solar: 2069 outliers detected\n",
      "capacity_4: 736 outliers detected\n",
      "production_heatpump: 736 outliers detected\n",
      "capacity_8: 3337 outliers detected\n",
      "production_cofiring: 3337 outliers detected\n",
      "capacity_9: 0 outliers detected\n",
      "production_geothermal: 0 outliers detected\n",
      "capacity_10: 0 outliers detected\n",
      "production_other: 0 outliers detected\n",
      "capacity_11: 0 outliers detected\n",
      "production_waste: 0 outliers detected\n",
      "capacity_12: 0 outliers detected\n",
      "production_biooil: 0 outliers detected\n",
      "capacity_13: 0 outliers detected\n",
      "production_biomass: 0 outliers detected\n",
      "capacity_14: 138 outliers detected\n",
      "production_wood: 138 outliers detected\n",
      "capacity_17: 0 outliers detected\n",
      "production_windoffshore: 0 outliers detected\n",
      "capacity_18: 0 outliers detected\n",
      "production_fossilgaspower: 0 outliers detected\n",
      "capacity_19: 0 outliers detected\n",
      "production_fossilhardcoal: 0 outliers detected\n",
      "capacity_20: 3262 outliers detected\n",
      "production_nuclear: 3262 outliers detected\n",
      "capacity_21: 148 outliers detected\n",
      "production_wastepower: 148 outliers detected\n",
      "capacity_22: 0 outliers detected\n",
      "production_windoffshoreB: 0 outliers detected\n",
      "capacity_25: 6 outliers detected\n",
      "production_biomasspower: 6 outliers detected\n",
      "capacity_26: 0 outliers detected\n",
      "production_otherpower: 0 outliers detected\n",
      "capacity_27: 55 outliers detected\n",
      "production_electricitymix: 55 outliers detected\n",
      "capacity_28: 578 outliers detected\n",
      "volume_28: 578 outliers detected\n",
      "capacity_35: 522 outliers detected\n",
      "production_CHP_total: 522 outliers detected\n",
      "capacity_50: 2379 outliers detected\n",
      "production_solarthermal: 2379 outliers detected\n",
      "capacity_51: 0 outliers detected\n",
      "production_allconsuminggas: 0 outliers detected\n"
     ]
    }
   ],
   "source": [
    "# 4. Basic Outlier Detection using IQR\n",
    "print(\"\\nOutlier Detection (IQR Method):\\n\")\n",
    "for column in df_ned_json_data.select_dtypes(include=['int64', 'float64']).columns:\n",
    "    Q1 = df_ned_json_data[column].quantile(0.25)\n",
    "    Q3 = df_ned_json_data[column].quantile(0.75)\n",
    "    IQR = Q3 - Q1\n",
    "    outliers = df_ned_json_data[(df_ned_json_data[column] < (Q1 - 1.5 * IQR)) | (df_ned_json_data[column] > (Q3 + 1.5 * IQR))]\n",
    "    print(f\"{column}: {len(outliers)} outliers detected\")"
   ]
  },
  {
   "cell_type": "code",
   "execution_count": 27,
   "metadata": {},
   "outputs": [
    {
     "name": "stdout",
     "output_type": "stream",
     "text": [
      "\n",
      "Summary Statistics:\n",
      "\n",
      "                          validto  capacity_0  volume_0  capacity_1  \\\n",
      "count                       26304    2.63e+04  2.63e+04    2.63e+04   \n",
      "unique                      26304         NaN       NaN         NaN   \n",
      "top     2022-01-01 00:00:00+00:00         NaN       NaN         NaN   \n",
      "freq                            1         NaN       NaN         NaN   \n",
      "mean                          NaN    1.00e+07  1.00e+07    1.87e+06   \n",
      "std                           NaN    4.73e+06  4.73e+06    1.72e+06   \n",
      "min                           NaN    2.50e+06  2.50e+06    0.00e+00   \n",
      "25%                           NaN    6.20e+06  6.20e+06    3.82e+05   \n",
      "50%                           NaN    9.34e+06  9.34e+06    1.31e+06   \n",
      "75%                           NaN    1.30e+07  1.30e+07    3.05e+06   \n",
      "max                           NaN    2.92e+07  2.92e+07    6.52e+06   \n",
      "\n",
      "        production_wind  capacity_2  production_solar  capacity_4  \\\n",
      "count          2.63e+04    2.63e+04          2.63e+04    2.63e+04   \n",
      "unique              NaN         NaN               NaN         NaN   \n",
      "top                 NaN         NaN               NaN         NaN   \n",
      "freq                NaN         NaN               NaN         NaN   \n",
      "mean           1.87e+06    2.47e+06          2.47e+06    6.38e+05   \n",
      "std            1.72e+06    3.85e+06          3.85e+06    4.45e+05   \n",
      "min            0.00e+00    0.00e+00          0.00e+00    3.93e+04   \n",
      "25%            3.82e+05    0.00e+00          0.00e+00    2.97e+05   \n",
      "50%            1.31e+06    8.14e+04          8.14e+04    5.70e+05   \n",
      "75%            3.05e+06    3.83e+06          3.83e+06    8.63e+05   \n",
      "max            6.52e+06    1.97e+07          1.97e+07    3.21e+06   \n",
      "\n",
      "        production_heatpump  capacity_8  production_cofiring  capacity_9  \\\n",
      "count              2.63e+04    26304.00             26304.00    26304.00   \n",
      "unique                  NaN         NaN                  NaN         NaN   \n",
      "top                     NaN         NaN                  NaN         NaN   \n",
      "freq                    NaN         NaN                  NaN         NaN   \n",
      "mean               6.38e+05   680711.49            680711.49   141973.68   \n",
      "std                4.45e+05    27603.19             27603.19    65258.79   \n",
      "min                3.93e+04   600089.00            600089.00        0.00   \n",
      "25%                2.97e+05   674888.00            674888.00    85782.00   \n",
      "50%                5.70e+05   693450.00            693450.00   155408.50   \n",
      "75%                8.63e+05   699456.00            699456.00   199998.00   \n",
      "max                3.21e+06   699995.00            699995.00   240029.00   \n",
      "\n",
      "        production_geothermal  capacity_10  production_other  capacity_11  \\\n",
      "count                26304.00     26304.00          26304.00     26304.00   \n",
      "unique                    NaN          NaN               NaN          NaN   \n",
      "top                       NaN          NaN               NaN          NaN   \n",
      "freq                      NaN          NaN               NaN          NaN   \n",
      "mean                141973.68     26365.21          26365.21    451540.73   \n",
      "std                  65258.79     16441.90          16441.90    113865.17   \n",
      "min                      0.00     10002.00          10002.00    202650.00   \n",
      "25%                  85782.00     10002.00          10002.00    353313.25   \n",
      "50%                 155408.50     21476.00          21476.00    474179.50   \n",
      "75%                 199998.00     43434.00          43434.00    566401.25   \n",
      "max                 240029.00     55998.00          55998.00    579000.00   \n",
      "\n",
      "        production_waste  capacity_12  production_biooil  capacity_13  \\\n",
      "count           26304.00     26304.00           26304.00     2.63e+04   \n",
      "unique               NaN          NaN                NaN          NaN   \n",
      "top                  NaN          NaN                NaN          NaN   \n",
      "freq                 NaN          NaN                NaN          NaN   \n",
      "mean           451540.73    882926.00          882926.00     6.43e+05   \n",
      "std            113865.17     47607.57           47607.57     2.57e+05   \n",
      "min            202650.00    841998.00          841998.00     2.11e+05   \n",
      "25%            353313.25    841998.00          841998.00     4.40e+05   \n",
      "50%            474179.50    859844.50          859844.50     5.93e+05   \n",
      "75%            566401.25    929950.75          929950.75     8.08e+05   \n",
      "max            579000.00    980996.00          980996.00     1.21e+06   \n",
      "\n",
      "        production_biomass  capacity_14  production_wood  capacity_17  \\\n",
      "count             2.63e+04     2.63e+04         2.63e+04     2.63e+04   \n",
      "unique                 NaN          NaN              NaN          NaN   \n",
      "top                    NaN          NaN              NaN          NaN   \n",
      "freq                   NaN          NaN              NaN          NaN   \n",
      "mean              6.43e+05     4.07e+05         4.07e+05     1.51e+06   \n",
      "std               2.57e+05     4.50e+05         4.50e+05     1.19e+06   \n",
      "min               2.11e+05     0.00e+00         0.00e+00     0.00e+00   \n",
      "25%               4.40e+05     0.00e+00         0.00e+00     4.26e+05   \n",
      "50%               5.93e+05     3.29e+05         3.29e+05     1.26e+06   \n",
      "75%               8.08e+05     7.19e+05         7.19e+05     2.40e+06   \n",
      "max               1.21e+06     2.56e+06         2.56e+06     4.23e+06   \n",
      "\n",
      "        production_windoffshore  capacity_18  production_fossilgaspower  \\\n",
      "count                  2.63e+04     2.63e+04                   2.63e+04   \n",
      "unique                      NaN          NaN                        NaN   \n",
      "top                         NaN          NaN                        NaN   \n",
      "freq                        NaN          NaN                        NaN   \n",
      "mean                   1.51e+06     3.67e+06                   3.67e+06   \n",
      "std                    1.19e+06     2.34e+06                   2.34e+06   \n",
      "min                    0.00e+00     5.62e+05                   5.62e+05   \n",
      "25%                    4.26e+05     1.67e+06                   1.67e+06   \n",
      "50%                    1.26e+06     2.97e+06                   2.97e+06   \n",
      "75%                    2.40e+06     5.40e+06                   5.40e+06   \n",
      "max                    4.23e+06     1.05e+07                   1.05e+07   \n",
      "\n",
      "        capacity_19  production_fossilhardcoal  capacity_20  \\\n",
      "count      2.63e+04                   2.63e+04     26304.00   \n",
      "unique          NaN                        NaN          NaN   \n",
      "top             NaN                        NaN          NaN   \n",
      "freq            NaN                        NaN          NaN   \n",
      "mean       1.12e+06                   1.12e+06    421454.67   \n",
      "std        8.38e+05                   8.38e+05    152672.05   \n",
      "min        0.00e+00                   0.00e+00         0.00   \n",
      "25%        3.59e+05                   3.59e+05    468750.00   \n",
      "50%        1.01e+06                   1.01e+06    477000.00   \n",
      "75%        1.79e+06                   1.79e+06    484000.00   \n",
      "max        3.22e+06                   3.22e+06    490000.00   \n",
      "\n",
      "        production_nuclear  capacity_21  production_wastepower  capacity_22  \\\n",
      "count             26304.00     26304.00               26304.00     2.63e+04   \n",
      "unique                 NaN          NaN                    NaN          NaN   \n",
      "top                    NaN          NaN                    NaN          NaN   \n",
      "freq                   NaN          NaN                    NaN          NaN   \n",
      "mean             421454.67    347934.62              347934.62     1.31e+06   \n",
      "std              152672.05     58290.62               58290.62     1.07e+06   \n",
      "min                   0.00     64500.00               64500.00     0.00e+00   \n",
      "25%              468750.00    311750.00              311750.00     3.72e+05   \n",
      "50%              477000.00    352000.00              352000.00     1.06e+06   \n",
      "75%              484000.00    388250.00              388250.00     2.09e+06   \n",
      "max              490000.00    514000.00              514000.00     4.34e+06   \n",
      "\n",
      "        production_windoffshoreB  capacity_25  production_biomasspower  \\\n",
      "count                   2.63e+04     2.63e+04                 2.63e+04   \n",
      "unique                       NaN          NaN                      NaN   \n",
      "top                          NaN          NaN                      NaN   \n",
      "freq                         NaN          NaN                      NaN   \n",
      "mean                    1.31e+06     4.37e+05                 4.37e+05   \n",
      "std                     1.07e+06     2.98e+05                 2.98e+05   \n",
      "min                     0.00e+00     0.00e+00                 0.00e+00   \n",
      "25%                     3.72e+05     1.86e+05                 1.86e+05   \n",
      "50%                     1.06e+06     4.26e+05                 4.26e+05   \n",
      "75%                     2.09e+06     6.66e+05                 6.66e+05   \n",
      "max                     4.34e+06     1.64e+06                 1.64e+06   \n",
      "\n",
      "        capacity_26  production_otherpower  capacity_27  \\\n",
      "count      26304.00               26304.00     2.63e+04   \n",
      "unique          NaN                    NaN          NaN   \n",
      "top             NaN                    NaN          NaN   \n",
      "freq            NaN                    NaN          NaN   \n",
      "mean      227660.58              227660.58     1.35e+07   \n",
      "std         9426.12                9426.12     4.01e+06   \n",
      "min       221000.00              221000.00     3.48e+06   \n",
      "25%       221000.00              221000.00     1.05e+07   \n",
      "50%       221000.00              221000.00     1.33e+07   \n",
      "75%       241000.00              241000.00     1.64e+07   \n",
      "max       241000.00              241000.00     2.97e+07   \n",
      "\n",
      "        production_electricitymix  capacity_28  volume_28  capacity_35  \\\n",
      "count                    2.63e+04     6.38e+03   6.38e+03     2.63e+04   \n",
      "unique                        NaN          NaN        NaN          NaN   \n",
      "top                           NaN          NaN        NaN          NaN   \n",
      "freq                          NaN          NaN        NaN          NaN   \n",
      "mean                     1.35e+07     1.13e+07   1.13e+07     1.66e+06   \n",
      "std                      4.01e+06     1.36e+06   1.36e+06     6.54e+05   \n",
      "min                      3.48e+06     3.89e+06   3.89e+06     4.41e+05   \n",
      "25%                      1.05e+07     1.10e+07   1.10e+07     1.18e+06   \n",
      "50%                      1.33e+07     1.14e+07   1.14e+07     1.57e+06   \n",
      "75%                      1.64e+07     1.22e+07   1.22e+07     2.03e+06   \n",
      "max                      2.97e+07     1.49e+07   1.49e+07     3.94e+06   \n",
      "\n",
      "        production_CHP_total  capacity_50  production_solarthermal  \\\n",
      "count               2.63e+04     26304.00                 26304.00   \n",
      "unique                   NaN          NaN                      NaN   \n",
      "top                      NaN          NaN                      NaN   \n",
      "freq                     NaN          NaN                      NaN   \n",
      "mean                1.66e+06     42418.26                 42418.26   \n",
      "std                 6.54e+05     65692.27                 65692.27   \n",
      "min                 4.41e+05         0.00                     0.00   \n",
      "25%                 1.18e+06       355.00                   355.00   \n",
      "50%                 1.57e+06      1933.00                  1933.00   \n",
      "75%                 2.03e+06     63783.75                 63783.75   \n",
      "max                 3.94e+06    296529.00                296529.00   \n",
      "\n",
      "        capacity_51  production_allconsuminggas  \n",
      "count      2.63e+04                    2.63e+04  \n",
      "unique          NaN                         NaN  \n",
      "top             NaN                         NaN  \n",
      "freq            NaN                         NaN  \n",
      "mean       1.31e+06                    1.31e+06  \n",
      "std        1.07e+06                    1.07e+06  \n",
      "min        0.00e+00                    0.00e+00  \n",
      "25%        3.72e+05                    3.72e+05  \n",
      "50%        1.06e+06                    1.06e+06  \n",
      "75%        2.09e+06                    2.09e+06  \n",
      "max        4.34e+06                    4.34e+06  \n"
     ]
    }
   ],
   "source": [
    "# 5. Summary Statistics\n",
    "print(\"\\nSummary Statistics:\\n\")\n",
    "print(df_ned_json_data.describe(include='all'))"
   ]
  }
 ],
 "metadata": {
  "kernelspec": {
   "display_name": "enexis-mar-visualization",
   "language": "python",
   "name": "python3"
  },
  "language_info": {
   "codemirror_mode": {
    "name": "ipython",
    "version": 3
   },
   "file_extension": ".py",
   "mimetype": "text/x-python",
   "name": "python",
   "nbconvert_exporter": "python",
   "pygments_lexer": "ipython3",
   "version": "3.12.2"
  }
 },
 "nbformat": 4,
 "nbformat_minor": 2
}
