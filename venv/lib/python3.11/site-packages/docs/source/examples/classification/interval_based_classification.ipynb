version https://git-lfs.github.com/spec/v1
oid sha256:0fc0ff932d91ab339cea7fb73efeae67ecd5d7c28ce164b2ec3067fbe6200b1b
size 16400
