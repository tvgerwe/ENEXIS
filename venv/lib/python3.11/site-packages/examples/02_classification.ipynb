version https://git-lfs.github.com/spec/v1
oid sha256:80ea514b0a1d878601b7e0e41caaa2a08a33bf6ffa3517f5f612bea08298f2db
size 177306
