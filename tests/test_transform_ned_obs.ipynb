{
 "cells": [
  {
   "cell_type": "code",
   "execution_count": 1,
   "metadata": {},
   "outputs": [
    {
     "name": "stdout",
     "output_type": "stream",
     "text": [
      "Project-root: /Users/redouan/ENEXIS\n",
      "✅ clean_ned_obs geladen uit: /Users/redouan/ENEXIS/src/data_processing/transform_ned.py\n"
     ]
    }
   ],
   "source": [
    "# %% Cell 1: Dynamisch inladen van transform_ned.py\n",
    "import importlib.util\n",
    "from pathlib import Path\n",
    "\n",
    "# Vind project-root door omhoog te lopen tot we een folder met 'src' tegenkomen\n",
    "NB_PATH = Path().resolve()\n",
    "while not (NB_PATH / 'src').is_dir():\n",
    "    NB_PATH = NB_PATH.parent\n",
    "PROJECT_ROOT = NB_PATH\n",
    "print(\"Project-root:\", PROJECT_ROOT)\n",
    "\n",
    "# Stel het pad naar je module op\n",
    "module_path = PROJECT_ROOT / 'src' / 'data_processing' / 'transform_ned.py'\n",
    "assert module_path.exists(), f\"Kon {module_path} niet vinden!\"\n",
    "\n",
    "# Laad de module vanuit dat bestand\n",
    "spec   = importlib.util.spec_from_file_location('transform_ned', str(module_path))\n",
    "tn_mod = importlib.util.module_from_spec(spec)\n",
    "spec.loader.exec_module(tn_mod)\n",
    "\n",
    "# Haal de clean-functie eruit\n",
    "clean_ned_obs = tn_mod.clean_ned_obs\n",
    "print(\"✅ clean_ned_obs geladen uit:\", module_path)"
   ]
  },
  {
   "cell_type": "code",
   "execution_count": 3,
   "metadata": {},
   "outputs": [
    {
     "name": "stdout",
     "output_type": "stream",
     "text": [
      "Voorbeeld raw_ned_obs:\n"
     ]
    },
    {
     "data": {
      "text/html": [
       "<div>\n",
       "<style scoped>\n",
       "    .dataframe tbody tr th:only-of-type {\n",
       "        vertical-align: middle;\n",
       "    }\n",
       "\n",
       "    .dataframe tbody tr th {\n",
       "        vertical-align: top;\n",
       "    }\n",
       "\n",
       "    .dataframe thead th {\n",
       "        text-align: right;\n",
       "    }\n",
       "</style>\n",
       "<table border=\"1\" class=\"dataframe\">\n",
       "  <thead>\n",
       "    <tr style=\"text-align: right;\">\n",
       "      <th></th>\n",
       "      <th>capacity</th>\n",
       "      <th>volume</th>\n",
       "      <th>percentage</th>\n",
       "      <th>validfrom</th>\n",
       "      <th>@id</th>\n",
       "      <th>lastupdate</th>\n",
       "    </tr>\n",
       "  </thead>\n",
       "  <tbody>\n",
       "    <tr>\n",
       "      <th>0</th>\n",
       "      <td>100</td>\n",
       "      <td>200</td>\n",
       "      <td>50.5</td>\n",
       "      <td>2022-01-01T00:00:00+00:00</td>\n",
       "      <td>/v1/utilizations/1</td>\n",
       "      <td>2024-01-01T12:00:00+00:00</td>\n",
       "    </tr>\n",
       "    <tr>\n",
       "      <th>1</th>\n",
       "      <td>150</td>\n",
       "      <td>300</td>\n",
       "      <td>75.0</td>\n",
       "      <td>2022-01-02T01:00:00+00:00</td>\n",
       "      <td>/v1/utilizations/2</td>\n",
       "      <td>2024-01-02T13:00:00+00:00</td>\n",
       "    </tr>\n",
       "    <tr>\n",
       "      <th>2</th>\n",
       "      <td>None</td>\n",
       "      <td>400</td>\n",
       "      <td>25.25</td>\n",
       "      <td>2022-01-03T02:00:00+00:00</td>\n",
       "      <td>/v1/utilizations/3</td>\n",
       "      <td>2024-01-03T14:00:00+00:00</td>\n",
       "    </tr>\n",
       "  </tbody>\n",
       "</table>\n",
       "</div>"
      ],
      "text/plain": [
       "  capacity volume percentage                  validfrom                 @id  \\\n",
       "0      100    200       50.5  2022-01-01T00:00:00+00:00  /v1/utilizations/1   \n",
       "1      150    300       75.0  2022-01-02T01:00:00+00:00  /v1/utilizations/2   \n",
       "2     None    400      25.25  2022-01-03T02:00:00+00:00  /v1/utilizations/3   \n",
       "\n",
       "                  lastupdate  \n",
       "0  2024-01-01T12:00:00+00:00  \n",
       "1  2024-01-02T13:00:00+00:00  \n",
       "2  2024-01-03T14:00:00+00:00  "
      ]
     },
     "metadata": {},
     "output_type": "display_data"
    },
    {
     "name": "stdout",
     "output_type": "stream",
     "text": [
      "Kolomtypes raw_df:\n",
      "capacity      object\n",
      "volume        object\n",
      "percentage    object\n",
      "validfrom     object\n",
      "@id           object\n",
      "lastupdate    object\n",
      "dtype: object\n"
     ]
    }
   ],
   "source": [
    "# %% Cell 2: Maak een voorbeeld-DataFrame met raw_ned_obs-kolommen\n",
    "import pandas as pd\n",
    "from IPython.display import display\n",
    "\n",
    "data = [\n",
    "    {\"capacity\": \"100\", \"volume\": \"200\", \"percentage\": \"50.5\", \"validfrom\": \"2022-01-01T00:00:00+00:00\",\n",
    "     \"@id\": \"/v1/utilizations/1\", \"lastupdate\": \"2024-01-01T12:00:00+00:00\"},\n",
    "    {\"capacity\": \"150\", \"volume\": \"300\", \"percentage\": \"75.0\", \"validfrom\": \"2022-01-02T01:00:00+00:00\",\n",
    "     \"@id\": \"/v1/utilizations/2\", \"lastupdate\": \"2024-01-02T13:00:00+00:00\"},\n",
    "    {\"capacity\": None, \"volume\": \"400\", \"percentage\": \"25.25\", \"validfrom\": \"2022-01-03T02:00:00+00:00\",\n",
    "     \"@id\": \"/v1/utilizations/3\", \"lastupdate\": \"2024-01-03T14:00:00+00:00\"}\n",
    "]\n",
    "\n",
    "raw_df = pd.DataFrame(data)\n",
    "print(\"Voorbeeld raw_ned_obs:\")\n",
    "display(raw_df)\n",
    "print(\"Kolomtypes raw_df:\")\n",
    "print(raw_df.dtypes)"
   ]
  },
  {
   "cell_type": "code",
   "execution_count": 4,
   "metadata": {},
   "outputs": [
    {
     "name": "stdout",
     "output_type": "stream",
     "text": [
      "\n",
      "Resultaat clean_ned_obs:\n"
     ]
    },
    {
     "data": {
      "text/html": [
       "<div>\n",
       "<style scoped>\n",
       "    .dataframe tbody tr th:only-of-type {\n",
       "        vertical-align: middle;\n",
       "    }\n",
       "\n",
       "    .dataframe tbody tr th {\n",
       "        vertical-align: top;\n",
       "    }\n",
       "\n",
       "    .dataframe thead th {\n",
       "        text-align: right;\n",
       "    }\n",
       "</style>\n",
       "<table border=\"1\" class=\"dataframe\">\n",
       "  <thead>\n",
       "    <tr style=\"text-align: right;\">\n",
       "      <th></th>\n",
       "      <th>ned.capacity</th>\n",
       "      <th>ned.volume</th>\n",
       "      <th>ned.percentage</th>\n",
       "      <th>ned.validfrom</th>\n",
       "    </tr>\n",
       "  </thead>\n",
       "  <tbody>\n",
       "    <tr>\n",
       "      <th>0</th>\n",
       "      <td>100</td>\n",
       "      <td>200</td>\n",
       "      <td>50.50</td>\n",
       "      <td>2022-01-01 00:00:00+00:00</td>\n",
       "    </tr>\n",
       "    <tr>\n",
       "      <th>1</th>\n",
       "      <td>150</td>\n",
       "      <td>300</td>\n",
       "      <td>75.00</td>\n",
       "      <td>2022-01-02 01:00:00+00:00</td>\n",
       "    </tr>\n",
       "    <tr>\n",
       "      <th>2</th>\n",
       "      <td>&lt;NA&gt;</td>\n",
       "      <td>400</td>\n",
       "      <td>25.25</td>\n",
       "      <td>2022-01-03 02:00:00+00:00</td>\n",
       "    </tr>\n",
       "  </tbody>\n",
       "</table>\n",
       "</div>"
      ],
      "text/plain": [
       "   ned.capacity  ned.volume  ned.percentage             ned.validfrom\n",
       "0           100         200           50.50 2022-01-01 00:00:00+00:00\n",
       "1           150         300           75.00 2022-01-02 01:00:00+00:00\n",
       "2          <NA>         400           25.25 2022-01-03 02:00:00+00:00"
      ]
     },
     "metadata": {},
     "output_type": "display_data"
    },
    {
     "name": "stdout",
     "output_type": "stream",
     "text": [
      "Kolomtypes cleaned_df:\n",
      "ned.capacity                    Int64\n",
      "ned.volume                      Int64\n",
      "ned.percentage                float64\n",
      "ned.validfrom     datetime64[ns, UTC]\n",
      "dtype: object\n"
     ]
    }
   ],
   "source": [
    "# %% Cell 3: Transform met clean_ned_obs en inspecteer\n",
    "clean_df = clean_ned_obs(raw_df)\n",
    "print(\"\\nResultaat clean_ned_obs:\")\n",
    "display(clean_df)\n",
    "print(\"Kolomtypes cleaned_df:\")\n",
    "print(clean_df.dtypes)"
   ]
  },
  {
   "cell_type": "code",
   "execution_count": 5,
   "metadata": {},
   "outputs": [
    {
     "name": "stdout",
     "output_type": "stream",
     "text": [
      "\n",
      "✅ clean_ned_obs function werkt correct!\n"
     ]
    }
   ],
   "source": [
    "# %% Cell 4: Automatische checks\n",
    "assert all(col.startswith(\"ned.\") for col in clean_df.columns), \"Prefix ontbreekt!\"\n",
    "import pandas.api.types as ptypes\n",
    "assert ptypes.is_integer_dtype(clean_df[\"ned.capacity\"].dtype),   \"capacity moet Int64 zijn\"\n",
    "assert ptypes.is_integer_dtype(clean_df[\"ned.volume\"].dtype),     \"volume moet Int64 zijn\"\n",
    "assert ptypes.is_float_dtype(clean_df[\"ned.percentage\"].dtype),   \"percentage moet float zijn\"\n",
    "assert ptypes.is_datetime64_any_dtype(clean_df[\"ned.validfrom\"].dtype), \"validfrom moet datetime UTC zijn\"\n",
    "print(\"\\n✅ clean_ned_obs function werkt correct!\")"
   ]
  }
 ],
 "metadata": {
  "kernelspec": {
   "display_name": "venv",
   "language": "python",
   "name": "python3"
  },
  "language_info": {
   "codemirror_mode": {
    "name": "ipython",
    "version": 3
   },
   "file_extension": ".py",
   "mimetype": "text/x-python",
   "name": "python",
   "nbconvert_exporter": "python",
   "pygments_lexer": "ipython3",
   "version": "3.11.12"
  }
 },
 "nbformat": 4,
 "nbformat_minor": 2
}
