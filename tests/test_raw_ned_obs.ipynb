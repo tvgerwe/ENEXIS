{
 "cells": [
  {
   "cell_type": "code",
   "execution_count": 1,
   "metadata": {},
   "outputs": [
    {
     "name": "stdout",
     "output_type": "stream",
     "text": [
      "📁 PROJECT_ROOT is: /Users/redouan/ENEXIS\n",
      "✅ Module data_ingestion.NED geïmporteerd!\n"
     ]
    }
   ],
   "source": [
    "# cell 1: imports, project root en module-path instellen\n",
    "import os, sys\n",
    "from datetime import datetime, date, timezone\n",
    "import pandas as pd\n",
    "# Pas dit pad aan naar de root van jouw ENEXIS-repo:\n",
    "PROJECT_ROOT = '/Users/redouan/ENEXIS'\n",
    "print(\"📁 PROJECT_ROOT is:\", PROJECT_ROOT)\n",
    "\n",
    "# Voeg jouw src-folder toe zodat je NED.py kunt importeren\n",
    "SRC_FOLDER = os.path.join(PROJECT_ROOT, 'src')\n",
    "sys.path.insert(0, SRC_FOLDER)\n",
    "\n",
    "# Nu kun je je module importeren\n",
    "from data_ingestion.NED import (\n",
    "    load_config, get_connection, table_exists,\n",
    "    get_last_timestamp, fetch_records,\n",
    "    create_table_from_df, remove_duplicates\n",
    ")\n",
    "\n",
    "print(\"✅ Module data_ingestion.NED geïmporteerd!\")"
   ]
  },
  {
   "cell_type": "code",
   "execution_count": 2,
   "metadata": {},
   "outputs": [
    {
     "name": "stdout",
     "output_type": "stream",
     "text": [
      "🔍 Config bestand: /Users/redouan/ENEXIS/workspaces/sandeep/config/api-call.json\n",
      "Config keys: ['ned_api_endpoint', 'demo-ned-api-key', 'ned_download_dir']\n"
     ]
    }
   ],
   "source": [
    "# cell 2: config inladen\n",
    "config_path = os.path.join(PROJECT_ROOT, 'workspaces', 'sandeep', 'config', 'api-call.json')\n",
    "print(\"🔍 Config bestand:\", config_path)\n",
    "assert os.path.exists(config_path), f\"Config niet gevonden op {config_path}\"\n",
    "config = load_config(config_path)\n",
    "print(\"Config keys:\", list(config['ned'].keys()))"
   ]
  },
  {
   "cell_type": "code",
   "execution_count": 3,
   "metadata": {},
   "outputs": [
    {
     "name": "stdout",
     "output_type": "stream",
     "text": [
      "🗄️ Data DB: /Users/redouan/ENEXIS/src/data/WARP.db\n",
      "🗄️ Log  DB: /Users/redouan/ENEXIS/src/data/logs.db\n",
      "  - Bestaande tabellen in data DB: ['raw_weather_obs', 'raw_weather_preds', 'raw_ned_obs']\n"
     ]
    }
   ],
   "source": [
    "# cell 3: DB-connecties openen\n",
    "warp_db  = os.path.join(PROJECT_ROOT, 'src', 'data', 'WARP.db')\n",
    "logs_db  = os.path.join(PROJECT_ROOT, 'src', 'data', 'logs.db')\n",
    "\n",
    "# Zorg dat de folder bestaat (werkt dankzij onze aangepaste get_connection)\n",
    "os.makedirs(os.path.dirname(warp_db), exist_ok=True)\n",
    "os.makedirs(os.path.dirname(logs_db), exist_ok=True)\n",
    "\n",
    "conn_data = get_connection(warp_db)\n",
    "conn_log  = get_connection(logs_db)\n",
    "\n",
    "print(f\"🗄️ Data DB: {warp_db}\")\n",
    "print(f\"🗄️ Log  DB: {logs_db}\")\n",
    "print(\"  - Bestaande tabellen in data DB:\",\n",
    "      [row[0] for row in conn_data.execute(\"SELECT name FROM sqlite_master WHERE type='table'\")])"
   ]
  },
  {
   "cell_type": "code",
   "execution_count": 4,
   "metadata": {},
   "outputs": [
    {
     "name": "stdout",
     "output_type": "stream",
     "text": [
      "⏱️  Laatste timestamp in 'raw_ned_obs': 2025-05-03T21:00:00+00:00\n"
     ]
    }
   ],
   "source": [
    "# cell 4: laatste timestamp ophalen\n",
    "TS_COL = config.get('ned_timestamp_column', 'validfrom').lower()\n",
    "# oude regel (verkeerd aantal args):\n",
    "# LAST_TS = get_last_timestamp(conn_data, 'raw_ned_obs', TS_COL)\n",
    "# nieuwe regel:\n",
    "LAST_TS = get_last_timestamp(conn_data)\n",
    "print(\"⏱️  Laatste timestamp in 'raw_ned_obs':\", LAST_TS)"
   ]
  },
  {
   "cell_type": "code",
   "execution_count": 5,
   "metadata": {},
   "outputs": [
    {
     "name": "stdout",
     "output_type": "stream",
     "text": [
      "🟢 Gebruik vorige timestamp als start_date\n",
      "🛑 end_date: 2025-05-04\n"
     ]
    }
   ],
   "source": [
    "# cell 5: start- en einddatum bepalen\n",
    "if LAST_TS:\n",
    "    start_date = LAST_TS\n",
    "    print(\"🟢 Gebruik vorige timestamp als start_date\")\n",
    "else:\n",
    "    start_date = config.get('default_start_date', '2022-01-01')\n",
    "    print(\"⭕ Db leeg, fallback start_date:\", start_date)\n",
    "\n",
    "end_date = date.today().isoformat()\n",
    "print(\"🛑 end_date:\", end_date)"
   ]
  },
  {
   "cell_type": "code",
   "execution_count": 6,
   "metadata": {},
   "outputs": [
    {
     "name": "stdout",
     "output_type": "stream",
     "text": [
      "def fetch_records(endpoint, headers, start_date, end_date, gen_type):\n",
      "    \"\"\"Paginate through the NED API and collect all records for één gen_type.\"\"\"\n",
      "    all_recs = []\n",
      "    params = {\n",
      "        'point': '0',\n",
      "        'type': str(gen_type),\n",
      "        'granularity': '5',\n",
      "        'granularitytimezone': '1',\n",
      "        'classification': '2',\n",
      "        'activity': '1',\n",
      "        'validfrom[after]': start_date,\n",
      "        'validfrom[strictly_before]': end_date,\n",
      "        'page': 1\n",
      "    }\n",
      "    # Eerste request om de laatste pagina te bepalen\n",
      "    resp = requests.get(endpoint, params=params, headers=headers)\n",
      "    resp.raise_for_status()\n",
      "    data = resp.json()\n",
      "    last_url = data.get('hydra:view', {}).get('hydra:last')\n",
      "    if not last_url:\n",
      "        raise RuntimeError('Could not determine last page from API response')\n",
      "    last_page = int(last_url.split('page=')[-1])\n",
      "\n",
      "    # Loop door alle pagina's\n",
      "    for page in range(1, last_page + 1):\n",
      "        params['page'] = page\n",
      "        resp = requests.get(endpoint, params=params, headers=headers)\n",
      "        resp.raise_for_status()\n",
      "        members = resp.json().get('hydra:member', [])\n",
      "        all_recs.extend(members)\n",
      "    return all_recs\n",
      "\n"
     ]
    }
   ],
   "source": [
    "# cell X: inspecteer de functie die je écht gebruikt\n",
    "import inspect\n",
    "print(inspect.getsource(fetch_records))"
   ]
  },
  {
   "cell_type": "code",
   "execution_count": 7,
   "metadata": {},
   "outputs": [
    {
     "name": "stdout",
     "output_type": "stream",
     "text": [
      "\n",
      "➡️  Ophalen gen_type=2 …\n"
     ]
    },
    {
     "ename": "HTTPError",
     "evalue": "403 Client Error: Forbidden for url: https://api.ned.nl/v1/utilizations?point=0&type=2&granularity=5&granularitytimezone=1&classification=2&activity=1&validfrom%5Bafter%5D=2025-05-03T21%3A00%3A00%2B00%3A00&validfrom%5Bstrictly_before%5D=2025-05-04&page=1",
     "output_type": "error",
     "traceback": [
      "\u001b[31m---------------------------------------------------------------------------\u001b[39m",
      "\u001b[31mHTTPError\u001b[39m                                 Traceback (most recent call last)",
      "\u001b[36mCell\u001b[39m\u001b[36m \u001b[39m\u001b[32mIn[7]\u001b[39m\u001b[32m, line 13\u001b[39m\n\u001b[32m     11\u001b[39m \u001b[38;5;28mprint\u001b[39m(\u001b[33mf\u001b[39m\u001b[33m\"\u001b[39m\u001b[38;5;130;01m\\n\u001b[39;00m\u001b[33m➡️  Ophalen gen_type=\u001b[39m\u001b[38;5;132;01m{\u001b[39;00mgen_type\u001b[38;5;132;01m}\u001b[39;00m\u001b[33m …\u001b[39m\u001b[33m\"\u001b[39m)\n\u001b[32m     12\u001b[39m \u001b[38;5;66;03m# fetch_records komt uit data_ingestion.NED en includeert point, granularity, etc.\u001b[39;00m\n\u001b[32m---> \u001b[39m\u001b[32m13\u001b[39m recs = \u001b[43mfetch_records\u001b[49m\u001b[43m(\u001b[49m\u001b[43mendpoint\u001b[49m\u001b[43m,\u001b[49m\u001b[43m \u001b[49m\u001b[43mheaders\u001b[49m\u001b[43m,\u001b[49m\u001b[43m \u001b[49m\u001b[43mstart_date\u001b[49m\u001b[43m,\u001b[49m\u001b[43m \u001b[49m\u001b[43mend_date\u001b[49m\u001b[43m,\u001b[49m\u001b[43m \u001b[49m\u001b[43mgen_type\u001b[49m\u001b[43m)\u001b[49m\n\u001b[32m     14\u001b[39m \u001b[38;5;28mprint\u001b[39m(\u001b[33mf\u001b[39m\u001b[33m\"\u001b[39m\u001b[33m   📦  Aantal records ontvangen voor type \u001b[39m\u001b[38;5;132;01m{\u001b[39;00mgen_type\u001b[38;5;132;01m}\u001b[39;00m\u001b[33m: \u001b[39m\u001b[38;5;132;01m{\u001b[39;00m\u001b[38;5;28mlen\u001b[39m(recs)\u001b[38;5;132;01m}\u001b[39;00m\u001b[33m\"\u001b[39m)\n\u001b[32m     15\u001b[39m all_recs.extend(recs)\n",
      "\u001b[36mFile \u001b[39m\u001b[32m~/ENEXIS/src/data_ingestion/NED.py:108\u001b[39m, in \u001b[36mfetch_records\u001b[39m\u001b[34m(endpoint, headers, start_date, end_date, gen_type)\u001b[39m\n\u001b[32m    106\u001b[39m \u001b[38;5;66;03m# Eerste request om de laatste pagina te bepalen\u001b[39;00m\n\u001b[32m    107\u001b[39m resp = requests.get(endpoint, params=params, headers=headers)\n\u001b[32m--> \u001b[39m\u001b[32m108\u001b[39m \u001b[43mresp\u001b[49m\u001b[43m.\u001b[49m\u001b[43mraise_for_status\u001b[49m\u001b[43m(\u001b[49m\u001b[43m)\u001b[49m\n\u001b[32m    109\u001b[39m data = resp.json()\n\u001b[32m    110\u001b[39m last_url = data.get(\u001b[33m'\u001b[39m\u001b[33mhydra:view\u001b[39m\u001b[33m'\u001b[39m, {}).get(\u001b[33m'\u001b[39m\u001b[33mhydra:last\u001b[39m\u001b[33m'\u001b[39m)\n",
      "\u001b[36mFile \u001b[39m\u001b[32m~/ENEXIS/venv/lib/python3.11/site-packages/requests/models.py:1024\u001b[39m, in \u001b[36mResponse.raise_for_status\u001b[39m\u001b[34m(self)\u001b[39m\n\u001b[32m   1019\u001b[39m     http_error_msg = (\n\u001b[32m   1020\u001b[39m         \u001b[33mf\u001b[39m\u001b[33m\"\u001b[39m\u001b[38;5;132;01m{\u001b[39;00m\u001b[38;5;28mself\u001b[39m.status_code\u001b[38;5;132;01m}\u001b[39;00m\u001b[33m Server Error: \u001b[39m\u001b[38;5;132;01m{\u001b[39;00mreason\u001b[38;5;132;01m}\u001b[39;00m\u001b[33m for url: \u001b[39m\u001b[38;5;132;01m{\u001b[39;00m\u001b[38;5;28mself\u001b[39m.url\u001b[38;5;132;01m}\u001b[39;00m\u001b[33m\"\u001b[39m\n\u001b[32m   1021\u001b[39m     )\n\u001b[32m   1023\u001b[39m \u001b[38;5;28;01mif\u001b[39;00m http_error_msg:\n\u001b[32m-> \u001b[39m\u001b[32m1024\u001b[39m     \u001b[38;5;28;01mraise\u001b[39;00m HTTPError(http_error_msg, response=\u001b[38;5;28mself\u001b[39m)\n",
      "\u001b[31mHTTPError\u001b[39m: 403 Client Error: Forbidden for url: https://api.ned.nl/v1/utilizations?point=0&type=2&granularity=5&granularitytimezone=1&classification=2&activity=1&validfrom%5Bafter%5D=2025-05-03T21%3A00%3A00%2B00%3A00&validfrom%5Bstrictly_before%5D=2025-05-04&page=1"
     ]
    }
   ],
   "source": [
    "# cell 6: records ophalen per type (met volledige params uit data_ingestion.NED)\n",
    "endpoint = config['ned']['ned_api_endpoint']\n",
    "api_key  = config['ned']['demo-ned-api-key']\n",
    "headers  = {\n",
    "    'X-AUTH-TOKEN': api_key,\n",
    "    'Content-Type': 'application/json'\n",
    "}\n",
    "\n",
    "all_recs = []\n",
    "for gen_type in config.get('ned_types', [2]):\n",
    "    print(f\"\\n➡️  Ophalen gen_type={gen_type} …\")\n",
    "    # fetch_records komt uit data_ingestion.NED en includeert point, granularity, etc.\n",
    "    recs = fetch_records(endpoint, headers, start_date, end_date, gen_type)\n",
    "    print(f\"   📦  Aantal records ontvangen voor type {gen_type}: {len(recs)}\")\n",
    "    all_recs.extend(recs)\n",
    "\n",
    "print(f\"\\n📝 Totaal ontvangen records: {len(all_recs)}\")"
   ]
  },
  {
   "cell_type": "code",
   "execution_count": null,
   "metadata": {},
   "outputs": [],
   "source": [
    "# cell 7: data in DataFrame en naar DB schrijven\n",
    "if all_recs:\n",
    "    df = pd.DataFrame(all_recs)\n",
    "    print(\"▶️  DataFrame shape:\", df.shape)\n",
    "    df.columns = [c.lower() for c in df.columns]\n",
    "    \n",
    "    # eerste run: tabel aanmaken\n",
    "    if not table_exists(conn_data, 'raw_ned_obs'):\n",
    "        print(\"📋 Tabel 'raw_ned_obs' bestaat nog niet, maak aan…\")\n",
    "        create_table_from_df(conn_data, df, 'raw_ned_obs')\n",
    "    else:\n",
    "        print(\"✅ Tabel 'raw_ned_obs' bestaat al, ga direct appenden\")\n",
    "    \n",
    "    df.to_sql('raw_ned_obs', conn_data, if_exists='append', index=False)\n",
    "    print(\"✅ Data geschreven naar 'raw_ned_obs'\")\n",
    "    \n",
    "    # duplicaten opruimen\n",
    "    before = conn_data.execute(\"SELECT COUNT(*) FROM raw_ned_obs\").fetchone()[0]\n",
    "    remove_duplicates(conn_data, 'raw_ned_obs')\n",
    "    after  = conn_data.execute(\"SELECT COUNT(*) FROM raw_ned_obs\").fetchone()[0]\n",
    "    print(f\"🧹 Duplicaten verwijderd: vóór={before}, ná={after}\")\n",
    "else:\n",
    "    print(\"⚠️  Geen nieuwe data om te schrijven\")"
   ]
  },
  {
   "cell_type": "code",
   "execution_count": null,
   "metadata": {},
   "outputs": [],
   "source": [
    "# cell 8: afronden en sluiten\n",
    "conn_data.close()\n",
    "conn_log.close()\n",
    "print(\"🔒 Verbindingen gesloten, klaar!\")"
   ]
  }
 ],
 "metadata": {
  "kernelspec": {
   "display_name": "venv",
   "language": "python",
   "name": "python3"
  },
  "language_info": {
   "codemirror_mode": {
    "name": "ipython",
    "version": 3
   },
   "file_extension": ".py",
   "mimetype": "text/x-python",
   "name": "python",
   "nbconvert_exporter": "python",
   "pygments_lexer": "ipython3",
   "version": "3.11.12"
  }
 },
 "nbformat": 4,
 "nbformat_minor": 2
}
