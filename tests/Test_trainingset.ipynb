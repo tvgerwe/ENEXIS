{
 "cells": [
  {
   "cell_type": "markdown",
   "id": "ea340450",
   "metadata": {},
   "source": [
    "# Test Training Set Build and Review"
   ]
  },
  {
   "cell_type": "code",
   "execution_count": 1,
   "id": "60cb4c6a",
   "metadata": {},
   "outputs": [
    {
     "name": "stderr",
     "output_type": "stream",
     "text": [
      "2025-05-26 14:24:17,837 - build_training_set - INFO - 🚀 Start build van trainingset\n",
      "2025-05-26 14:24:17,837 - build_training_set - INFO - 🧠 Actuals van 2025-01-01 00:00:00+00:00 t/m 2025-03-14 23:00:00+00:00\n",
      "2025-05-26 14:24:17,837 - build_training_set - INFO - 📅 Forecast van run_date 2025-03-15 00:00:00+00:00, target range: 2025-03-15 00:00:00+00:00 → 2025-03-21 23:00:00+00:00\n",
      "2025-05-26 14:24:17,866 - build_training_set - INFO - ✅ Actuals geladen: 1752 rijen\n",
      "2025-05-26 14:24:18,074 - build_training_set - INFO - ✅ Added actual prices to 168 forecast rows\n",
      "c:\\Users\\dai\\ENEXIS\\src\\utils\\build_training_set.py:106: FutureWarning: The behavior of DataFrame concatenation with empty or all-NA entries is deprecated. In a future version, this will no longer exclude empty or all-NA columns when determining the result dtypes. To retain the old behavior, exclude the relevant entries before the concat operation.\n",
      "  df_combined = pd.concat([df_actuals, df_preds], ignore_index=True)\n",
      "2025-05-26 14:24:18,080 - build_training_set - INFO - 📦 Eindtabel bevat: 1920 rijen, 35 kolommen\n",
      "2025-05-26 14:24:18,080 - build_training_set - INFO - 🧾 Kolommen: ['Price', 'target_datetime', 'Load', 'shortwave_radiation', 'temperature_2m', 'direct_normal_irradiance', 'diffuse_radiation', 'Flow_NO', 'yearday_cos', 'Flow_GB', 'month', 'is_dst', 'yearday_sin', 'is_non_working_day', 'hour_cos', 'is_weekend', 'cloud_cover', 'weekday_sin', 'hour_sin', 'weekday_cos', 'Flow_BE', 'Flow_DE', 'Flow_DK', 'Total_Flow', 'apparent_temperature', 'day_of_week', 'day_of_year', 'direct_radiation', 'hour', 'is_holiday', 'local_datetime', 'run_date', 'snowfall', 'wind_direction_10m', 'wind_speed_10m']\n",
      "2025-05-26 14:24:18,080 - build_training_set - INFO - ❓ Price NaN count: 0/1920 (0.0%)\n",
      "2025-05-26 14:24:18,112 - build_training_set - INFO - ✅ Opgeslagen als training_set in WARP.db\n",
      "2025-05-26 14:24:18,112 - build_training_set - INFO - 🔒 Verbinding gesloten\n"
     ]
    },
    {
     "name": "stdout",
     "output_type": "stream",
     "text": [
      "Shape: (1920, 35)\n",
      "Price nulls: 0/1920\n",
      "Date range: 2025-01-01 00:00:00+00:00 to 2025-03-21 23:00:00+00:00\n",
      "     Price           target_datetime      Load  shortwave_radiation  \\\n",
      "0  0.01362 2025-01-01 00:00:00+00:00  12049.25                  0.0   \n",
      "1  0.00624 2025-01-01 01:00:00+00:00  11957.50                  0.0   \n",
      "2  0.00416 2025-01-01 02:00:00+00:00  11636.25                  0.0   \n",
      "3  0.00328 2025-01-01 03:00:00+00:00  11310.50                  0.0   \n",
      "4  0.00068 2025-01-01 04:00:00+00:00  11135.25                  0.0   \n",
      "5  0.00000 2025-01-01 05:00:00+00:00  11185.75                  0.0   \n",
      "6  0.00076 2025-01-01 06:00:00+00:00  11385.00                  0.0   \n",
      "7  0.00079 2025-01-01 07:00:00+00:00  11695.25                  0.0   \n",
      "8  0.00189 2025-01-01 08:00:00+00:00  12041.50                  0.0   \n",
      "9  0.00750 2025-01-01 09:00:00+00:00  12485.75                  0.0   \n",
      "\n",
      "   temperature_2m  direct_normal_irradiance  diffuse_radiation  Flow_NO  \\\n",
      "0             0.0                       0.0                0.0   -649.0   \n",
      "1             0.0                       0.0                0.0   -649.0   \n",
      "2             0.0                       0.0                0.0   -635.0   \n",
      "3             0.0                       0.0                0.0   -306.0   \n",
      "4             0.0                       0.0                0.0      0.0   \n",
      "5             0.0                       0.0                0.0      0.0   \n",
      "6             0.0                       0.0                0.0   -223.0   \n",
      "7             0.0                       0.0                0.0   -648.0   \n",
      "8             0.0                       0.0                0.0   -629.0   \n",
      "9             0.0                       0.0                0.0   -305.0   \n",
      "\n",
      "   yearday_cos  Flow_GB  ...  day_of_week  day_of_year  direct_radiation  \\\n",
      "0     0.999852     0.00  ...            2            1               NaN   \n",
      "1     0.999852     0.25  ...            2            1               NaN   \n",
      "2     0.999852     0.00  ...            2            1               NaN   \n",
      "3     0.999852     0.25  ...            2            1               NaN   \n",
      "4     0.999852     0.50  ...            2            1               NaN   \n",
      "5     0.999852     0.25  ...            2            1               NaN   \n",
      "6     0.999852     0.00  ...            2            1               NaN   \n",
      "7     0.999852     0.00  ...            2            1               NaN   \n",
      "8     0.999852     0.25  ...            2            1               NaN   \n",
      "9     0.999852     0.00  ...            2            1               NaN   \n",
      "\n",
      "   hour  is_holiday             local_datetime  run_date  snowfall  \\\n",
      "0     0           1  2025-01-01 01:00:00+01:00       NaT       0.0   \n",
      "1     1           1  2025-01-01 02:00:00+01:00       NaT       0.0   \n",
      "2     2           1  2025-01-01 03:00:00+01:00       NaT       0.0   \n",
      "3     3           1  2025-01-01 04:00:00+01:00       NaT       0.0   \n",
      "4     4           1  2025-01-01 05:00:00+01:00       NaT       0.0   \n",
      "5     5           1  2025-01-01 06:00:00+01:00       NaT       0.0   \n",
      "6     6           1  2025-01-01 07:00:00+01:00       NaT       0.0   \n",
      "7     7           1  2025-01-01 08:00:00+01:00       NaT       0.0   \n",
      "8     8           1  2025-01-01 09:00:00+01:00       NaT       0.0   \n",
      "9     9           1  2025-01-01 10:00:00+01:00       NaT       0.0   \n",
      "\n",
      "   wind_direction_10m  wind_speed_10m  \n",
      "0                 NaN             0.0  \n",
      "1                 NaN             0.0  \n",
      "2                 NaN             0.0  \n",
      "3                 NaN             0.0  \n",
      "4                 NaN             0.0  \n",
      "5                 NaN             0.0  \n",
      "6                 NaN             0.0  \n",
      "7                 NaN             0.0  \n",
      "8                 NaN             0.0  \n",
      "9                 NaN             0.0  \n",
      "\n",
      "[10 rows x 35 columns]\n"
     ]
    }
   ],
   "source": [
    "# Dynamic path setup\n",
    "import sys\n",
    "from pathlib import Path\n",
    "\n",
    "# Find project root dynamically\n",
    "current_dir = Path.cwd()\n",
    "while current_dir.name != \"ENEXIS\" and current_dir.parent != current_dir:\n",
    "    current_dir = current_dir.parent\n",
    "project_root = current_dir\n",
    "\n",
    "# Add utils to path\n",
    "utils_path = project_root / \"src\" / \"utils\"\n",
    "sys.path.append(str(utils_path))\n",
    "\n",
    "# Simple import as requested\n",
    "from build_training_set import build_training_set\n",
    "\n",
    "# Test\n",
    "df = build_training_set(\n",
    "    train_start=\"2025-01-01 00:00:00\",\n",
    "    train_end=\"2025-03-14 23:00:00\",\n",
    "    run_date=\"2025-03-15 00:00:00\"\n",
    ")\n",
    "\n",
    "print(f\"Shape: {df.shape}\")\n",
    "print(f\"Price nulls: {df['Price'].isnull().sum()}/{len(df)}\")\n",
    "print(f\"Date range: {df['target_datetime'].min()} to {df['target_datetime'].max()}\")\n",
    "print(df.head(10))"
   ]
  },
  {
   "cell_type": "code",
   "execution_count": 4,
   "id": "39691624",
   "metadata": {},
   "outputs": [
    {
     "name": "stderr",
     "output_type": "stream",
     "text": [
      "2025-05-26 14:27:49,931 - build_training_set - INFO - 🚀 Start build van trainingset\n",
      "2025-05-26 14:27:49,931 - build_training_set - INFO - 🧠 Actuals van 2025-01-01 00:00:00+00:00 t/m 2025-03-14 23:00:00+00:00\n",
      "2025-05-26 14:27:49,931 - build_training_set - INFO - 📅 Forecast van run_date 2025-03-15 00:00:00+00:00, target range: 2025-03-15 00:00:00+00:00 → 2025-03-21 23:00:00+00:00\n",
      "2025-05-26 14:27:49,984 - build_training_set - INFO - ✅ Actuals geladen: 1752 rijen\n"
     ]
    },
    {
     "name": "stdout",
     "output_type": "stream",
     "text": [
      "🔍 Testing Naive Model (168h lag) - RMSE per forecast day\n",
      "============================================================\n"
     ]
    },
    {
     "name": "stderr",
     "output_type": "stream",
     "text": [
      "2025-05-26 14:27:50,248 - build_training_set - INFO - ✅ Added actual prices to 168 forecast rows\n",
      "c:\\Users\\dai\\ENEXIS\\src\\utils\\build_training_set.py:106: FutureWarning: The behavior of DataFrame concatenation with empty or all-NA entries is deprecated. In a future version, this will no longer exclude empty or all-NA columns when determining the result dtypes. To retain the old behavior, exclude the relevant entries before the concat operation.\n",
      "  df_combined = pd.concat([df_actuals, df_preds], ignore_index=True)\n",
      "2025-05-26 14:27:50,258 - build_training_set - INFO - 📦 Eindtabel bevat: 1920 rijen, 35 kolommen\n",
      "2025-05-26 14:27:50,259 - build_training_set - INFO - 🧾 Kolommen: ['Price', 'target_datetime', 'Load', 'shortwave_radiation', 'temperature_2m', 'direct_normal_irradiance', 'diffuse_radiation', 'Flow_NO', 'yearday_cos', 'Flow_GB', 'month', 'is_dst', 'yearday_sin', 'is_non_working_day', 'hour_cos', 'is_weekend', 'cloud_cover', 'weekday_sin', 'hour_sin', 'weekday_cos', 'Flow_BE', 'Flow_DE', 'Flow_DK', 'Total_Flow', 'apparent_temperature', 'day_of_week', 'day_of_year', 'direct_radiation', 'hour', 'is_holiday', 'local_datetime', 'run_date', 'snowfall', 'wind_direction_10m', 'wind_speed_10m']\n",
      "2025-05-26 14:27:50,260 - build_training_set - INFO - ❓ Price NaN count: 0/1920 (0.0%)\n",
      "2025-05-26 14:27:50,287 - build_training_set - INFO - ✅ Opgeslagen als training_set in WARP.db\n",
      "2025-05-26 14:27:50,288 - build_training_set - INFO - 🔒 Verbinding gesloten\n",
      "2025-05-26 14:27:50,369 - build_training_set - INFO - 🚀 Start build van trainingset\n",
      "2025-05-26 14:27:50,370 - build_training_set - INFO - 🧠 Actuals van 2025-01-02 00:00:00+00:00 t/m 2025-03-15 23:00:00+00:00\n",
      "2025-05-26 14:27:50,370 - build_training_set - INFO - 📅 Forecast van run_date 2025-03-16 00:00:00+00:00, target range: 2025-03-16 00:00:00+00:00 → 2025-03-22 23:00:00+00:00\n",
      "2025-05-26 14:27:50,402 - build_training_set - INFO - ✅ Actuals geladen: 1752 rijen\n"
     ]
    },
    {
     "name": "stdout",
     "output_type": "stream",
     "text": [
      "Day 1: ✅ 168 predictions, Run: 03-15\n"
     ]
    },
    {
     "name": "stderr",
     "output_type": "stream",
     "text": [
      "2025-05-26 14:27:50,616 - build_training_set - INFO - ✅ Added actual prices to 168 forecast rows\n",
      "c:\\Users\\dai\\ENEXIS\\src\\utils\\build_training_set.py:106: FutureWarning: The behavior of DataFrame concatenation with empty or all-NA entries is deprecated. In a future version, this will no longer exclude empty or all-NA columns when determining the result dtypes. To retain the old behavior, exclude the relevant entries before the concat operation.\n",
      "  df_combined = pd.concat([df_actuals, df_preds], ignore_index=True)\n",
      "2025-05-26 14:27:50,626 - build_training_set - INFO - 📦 Eindtabel bevat: 1920 rijen, 35 kolommen\n",
      "2025-05-26 14:27:50,627 - build_training_set - INFO - 🧾 Kolommen: ['Price', 'target_datetime', 'Load', 'shortwave_radiation', 'temperature_2m', 'direct_normal_irradiance', 'diffuse_radiation', 'Flow_NO', 'yearday_cos', 'Flow_GB', 'month', 'is_dst', 'yearday_sin', 'is_non_working_day', 'hour_cos', 'is_weekend', 'cloud_cover', 'weekday_sin', 'hour_sin', 'weekday_cos', 'Flow_BE', 'Flow_DE', 'Flow_DK', 'Total_Flow', 'apparent_temperature', 'day_of_week', 'day_of_year', 'direct_radiation', 'hour', 'is_holiday', 'local_datetime', 'run_date', 'snowfall', 'wind_direction_10m', 'wind_speed_10m']\n",
      "2025-05-26 14:27:50,628 - build_training_set - INFO - ❓ Price NaN count: 0/1920 (0.0%)\n",
      "2025-05-26 14:27:50,651 - build_training_set - INFO - ✅ Opgeslagen als training_set in WARP.db\n",
      "2025-05-26 14:27:50,651 - build_training_set - INFO - 🔒 Verbinding gesloten\n",
      "2025-05-26 14:27:50,733 - build_training_set - INFO - 🚀 Start build van trainingset\n",
      "2025-05-26 14:27:50,734 - build_training_set - INFO - 🧠 Actuals van 2025-01-03 00:00:00+00:00 t/m 2025-03-16 23:00:00+00:00\n",
      "2025-05-26 14:27:50,735 - build_training_set - INFO - 📅 Forecast van run_date 2025-03-17 00:00:00+00:00, target range: 2025-03-17 00:00:00+00:00 → 2025-03-23 23:00:00+00:00\n",
      "2025-05-26 14:27:50,772 - build_training_set - INFO - ✅ Actuals geladen: 1752 rijen\n"
     ]
    },
    {
     "name": "stdout",
     "output_type": "stream",
     "text": [
      "Day 2: ✅ 168 predictions, Run: 03-16\n"
     ]
    },
    {
     "name": "stderr",
     "output_type": "stream",
     "text": [
      "2025-05-26 14:27:51,006 - build_training_set - INFO - ✅ Added actual prices to 168 forecast rows\n",
      "c:\\Users\\dai\\ENEXIS\\src\\utils\\build_training_set.py:106: FutureWarning: The behavior of DataFrame concatenation with empty or all-NA entries is deprecated. In a future version, this will no longer exclude empty or all-NA columns when determining the result dtypes. To retain the old behavior, exclude the relevant entries before the concat operation.\n",
      "  df_combined = pd.concat([df_actuals, df_preds], ignore_index=True)\n",
      "2025-05-26 14:27:51,018 - build_training_set - INFO - 📦 Eindtabel bevat: 1920 rijen, 35 kolommen\n",
      "2025-05-26 14:27:51,018 - build_training_set - INFO - 🧾 Kolommen: ['Price', 'target_datetime', 'Load', 'shortwave_radiation', 'temperature_2m', 'direct_normal_irradiance', 'diffuse_radiation', 'Flow_NO', 'yearday_cos', 'Flow_GB', 'month', 'is_dst', 'yearday_sin', 'is_non_working_day', 'hour_cos', 'is_weekend', 'cloud_cover', 'weekday_sin', 'hour_sin', 'weekday_cos', 'Flow_BE', 'Flow_DE', 'Flow_DK', 'Total_Flow', 'apparent_temperature', 'day_of_week', 'day_of_year', 'direct_radiation', 'hour', 'is_holiday', 'local_datetime', 'run_date', 'snowfall', 'wind_direction_10m', 'wind_speed_10m']\n",
      "2025-05-26 14:27:51,019 - build_training_set - INFO - ❓ Price NaN count: 0/1920 (0.0%)\n",
      "2025-05-26 14:27:51,109 - build_training_set - INFO - ✅ Opgeslagen als training_set in WARP.db\n",
      "2025-05-26 14:27:51,110 - build_training_set - INFO - 🔒 Verbinding gesloten\n",
      "2025-05-26 14:27:51,201 - build_training_set - INFO - 🚀 Start build van trainingset\n",
      "2025-05-26 14:27:51,202 - build_training_set - INFO - 🧠 Actuals van 2025-01-04 00:00:00+00:00 t/m 2025-03-17 23:00:00+00:00\n",
      "2025-05-26 14:27:51,202 - build_training_set - INFO - 📅 Forecast van run_date 2025-03-18 00:00:00+00:00, target range: 2025-03-18 00:00:00+00:00 → 2025-03-24 23:00:00+00:00\n",
      "2025-05-26 14:27:51,235 - build_training_set - INFO - ✅ Actuals geladen: 1752 rijen\n"
     ]
    },
    {
     "name": "stdout",
     "output_type": "stream",
     "text": [
      "Day 3: ✅ 168 predictions, Run: 03-17\n"
     ]
    },
    {
     "name": "stderr",
     "output_type": "stream",
     "text": [
      "2025-05-26 14:27:51,441 - build_training_set - INFO - ✅ Added actual prices to 168 forecast rows\n",
      "c:\\Users\\dai\\ENEXIS\\src\\utils\\build_training_set.py:106: FutureWarning: The behavior of DataFrame concatenation with empty or all-NA entries is deprecated. In a future version, this will no longer exclude empty or all-NA columns when determining the result dtypes. To retain the old behavior, exclude the relevant entries before the concat operation.\n",
      "  df_combined = pd.concat([df_actuals, df_preds], ignore_index=True)\n",
      "2025-05-26 14:27:51,452 - build_training_set - INFO - 📦 Eindtabel bevat: 1920 rijen, 35 kolommen\n",
      "2025-05-26 14:27:51,453 - build_training_set - INFO - 🧾 Kolommen: ['Price', 'target_datetime', 'Load', 'shortwave_radiation', 'temperature_2m', 'direct_normal_irradiance', 'diffuse_radiation', 'Flow_NO', 'yearday_cos', 'Flow_GB', 'month', 'is_dst', 'yearday_sin', 'is_non_working_day', 'hour_cos', 'is_weekend', 'cloud_cover', 'weekday_sin', 'hour_sin', 'weekday_cos', 'Flow_BE', 'Flow_DE', 'Flow_DK', 'Total_Flow', 'apparent_temperature', 'day_of_week', 'day_of_year', 'direct_radiation', 'hour', 'is_holiday', 'local_datetime', 'run_date', 'snowfall', 'wind_direction_10m', 'wind_speed_10m']\n",
      "2025-05-26 14:27:51,454 - build_training_set - INFO - ❓ Price NaN count: 0/1920 (0.0%)\n",
      "2025-05-26 14:27:51,487 - build_training_set - INFO - ✅ Opgeslagen als training_set in WARP.db\n",
      "2025-05-26 14:27:51,488 - build_training_set - INFO - 🔒 Verbinding gesloten\n",
      "2025-05-26 14:27:51,568 - build_training_set - INFO - 🚀 Start build van trainingset\n",
      "2025-05-26 14:27:51,569 - build_training_set - INFO - 🧠 Actuals van 2025-01-05 00:00:00+00:00 t/m 2025-03-18 23:00:00+00:00\n",
      "2025-05-26 14:27:51,570 - build_training_set - INFO - 📅 Forecast van run_date 2025-03-19 00:00:00+00:00, target range: 2025-03-19 00:00:00+00:00 → 2025-03-25 23:00:00+00:00\n",
      "2025-05-26 14:27:51,605 - build_training_set - INFO - ✅ Actuals geladen: 1752 rijen\n"
     ]
    },
    {
     "name": "stdout",
     "output_type": "stream",
     "text": [
      "Day 4: ✅ 168 predictions, Run: 03-18\n"
     ]
    },
    {
     "name": "stderr",
     "output_type": "stream",
     "text": [
      "2025-05-26 14:27:51,798 - build_training_set - INFO - ✅ Added actual prices to 168 forecast rows\n",
      "c:\\Users\\dai\\ENEXIS\\src\\utils\\build_training_set.py:106: FutureWarning: The behavior of DataFrame concatenation with empty or all-NA entries is deprecated. In a future version, this will no longer exclude empty or all-NA columns when determining the result dtypes. To retain the old behavior, exclude the relevant entries before the concat operation.\n",
      "  df_combined = pd.concat([df_actuals, df_preds], ignore_index=True)\n",
      "2025-05-26 14:27:51,813 - build_training_set - INFO - 📦 Eindtabel bevat: 1920 rijen, 35 kolommen\n",
      "2025-05-26 14:27:51,813 - build_training_set - INFO - 🧾 Kolommen: ['Price', 'target_datetime', 'Load', 'shortwave_radiation', 'temperature_2m', 'direct_normal_irradiance', 'diffuse_radiation', 'Flow_NO', 'yearday_cos', 'Flow_GB', 'month', 'is_dst', 'yearday_sin', 'is_non_working_day', 'hour_cos', 'is_weekend', 'cloud_cover', 'weekday_sin', 'hour_sin', 'weekday_cos', 'Flow_BE', 'Flow_DE', 'Flow_DK', 'Total_Flow', 'apparent_temperature', 'day_of_week', 'day_of_year', 'direct_radiation', 'hour', 'is_holiday', 'local_datetime', 'run_date', 'snowfall', 'wind_direction_10m', 'wind_speed_10m']\n",
      "2025-05-26 14:27:51,815 - build_training_set - INFO - ❓ Price NaN count: 0/1920 (0.0%)\n",
      "2025-05-26 14:27:51,846 - build_training_set - INFO - ✅ Opgeslagen als training_set in WARP.db\n",
      "2025-05-26 14:27:51,848 - build_training_set - INFO - 🔒 Verbinding gesloten\n",
      "2025-05-26 14:27:51,919 - build_training_set - INFO - 🚀 Start build van trainingset\n",
      "2025-05-26 14:27:51,926 - build_training_set - INFO - 🧠 Actuals van 2025-01-06 00:00:00+00:00 t/m 2025-03-19 23:00:00+00:00\n",
      "2025-05-26 14:27:51,927 - build_training_set - INFO - 📅 Forecast van run_date 2025-03-20 00:00:00+00:00, target range: 2025-03-20 00:00:00+00:00 → 2025-03-26 23:00:00+00:00\n",
      "2025-05-26 14:27:51,961 - build_training_set - INFO - ✅ Actuals geladen: 1752 rijen\n"
     ]
    },
    {
     "name": "stdout",
     "output_type": "stream",
     "text": [
      "Day 5: ✅ 168 predictions, Run: 03-19\n"
     ]
    },
    {
     "name": "stderr",
     "output_type": "stream",
     "text": [
      "2025-05-26 14:27:52,168 - build_training_set - INFO - ✅ Added actual prices to 168 forecast rows\n",
      "c:\\Users\\dai\\ENEXIS\\src\\utils\\build_training_set.py:106: FutureWarning: The behavior of DataFrame concatenation with empty or all-NA entries is deprecated. In a future version, this will no longer exclude empty or all-NA columns when determining the result dtypes. To retain the old behavior, exclude the relevant entries before the concat operation.\n",
      "  df_combined = pd.concat([df_actuals, df_preds], ignore_index=True)\n",
      "2025-05-26 14:27:52,182 - build_training_set - INFO - 📦 Eindtabel bevat: 1920 rijen, 35 kolommen\n",
      "2025-05-26 14:27:52,182 - build_training_set - INFO - 🧾 Kolommen: ['Price', 'target_datetime', 'Load', 'shortwave_radiation', 'temperature_2m', 'direct_normal_irradiance', 'diffuse_radiation', 'Flow_NO', 'yearday_cos', 'Flow_GB', 'month', 'is_dst', 'yearday_sin', 'is_non_working_day', 'hour_cos', 'is_weekend', 'cloud_cover', 'weekday_sin', 'hour_sin', 'weekday_cos', 'Flow_BE', 'Flow_DE', 'Flow_DK', 'Total_Flow', 'apparent_temperature', 'day_of_week', 'day_of_year', 'direct_radiation', 'hour', 'is_holiday', 'local_datetime', 'run_date', 'snowfall', 'wind_direction_10m', 'wind_speed_10m']\n",
      "2025-05-26 14:27:52,182 - build_training_set - INFO - ❓ Price NaN count: 0/1920 (0.0%)\n",
      "2025-05-26 14:27:52,214 - build_training_set - INFO - ✅ Opgeslagen als training_set in WARP.db\n",
      "2025-05-26 14:27:52,215 - build_training_set - INFO - 🔒 Verbinding gesloten\n",
      "2025-05-26 14:27:52,299 - build_training_set - INFO - 🚀 Start build van trainingset\n",
      "2025-05-26 14:27:52,299 - build_training_set - INFO - 🧠 Actuals van 2025-01-07 00:00:00+00:00 t/m 2025-03-20 23:00:00+00:00\n",
      "2025-05-26 14:27:52,300 - build_training_set - INFO - 📅 Forecast van run_date 2025-03-21 00:00:00+00:00, target range: 2025-03-21 00:00:00+00:00 → 2025-03-27 23:00:00+00:00\n",
      "2025-05-26 14:27:52,338 - build_training_set - INFO - ✅ Actuals geladen: 1752 rijen\n"
     ]
    },
    {
     "name": "stdout",
     "output_type": "stream",
     "text": [
      "Day 6: ✅ 168 predictions, Run: 03-20\n"
     ]
    },
    {
     "name": "stderr",
     "output_type": "stream",
     "text": [
      "2025-05-26 14:27:52,537 - build_training_set - INFO - ✅ Added actual prices to 168 forecast rows\n",
      "c:\\Users\\dai\\ENEXIS\\src\\utils\\build_training_set.py:106: FutureWarning: The behavior of DataFrame concatenation with empty or all-NA entries is deprecated. In a future version, this will no longer exclude empty or all-NA columns when determining the result dtypes. To retain the old behavior, exclude the relevant entries before the concat operation.\n",
      "  df_combined = pd.concat([df_actuals, df_preds], ignore_index=True)\n",
      "2025-05-26 14:27:52,548 - build_training_set - INFO - 📦 Eindtabel bevat: 1920 rijen, 35 kolommen\n",
      "2025-05-26 14:27:52,550 - build_training_set - INFO - 🧾 Kolommen: ['Price', 'target_datetime', 'Load', 'shortwave_radiation', 'temperature_2m', 'direct_normal_irradiance', 'diffuse_radiation', 'Flow_NO', 'yearday_cos', 'Flow_GB', 'month', 'is_dst', 'yearday_sin', 'is_non_working_day', 'hour_cos', 'is_weekend', 'cloud_cover', 'weekday_sin', 'hour_sin', 'weekday_cos', 'Flow_BE', 'Flow_DE', 'Flow_DK', 'Total_Flow', 'apparent_temperature', 'day_of_week', 'day_of_year', 'direct_radiation', 'hour', 'is_holiday', 'local_datetime', 'run_date', 'snowfall', 'wind_direction_10m', 'wind_speed_10m']\n",
      "2025-05-26 14:27:52,553 - build_training_set - INFO - ❓ Price NaN count: 0/1920 (0.0%)\n",
      "2025-05-26 14:27:52,592 - build_training_set - INFO - ✅ Opgeslagen als training_set in WARP.db\n",
      "2025-05-26 14:27:52,595 - build_training_set - INFO - 🔒 Verbinding gesloten\n",
      "2025-05-26 14:27:52,669 - build_training_set - INFO - 🚀 Start build van trainingset\n",
      "2025-05-26 14:27:52,670 - build_training_set - INFO - 🧠 Actuals van 2025-01-08 00:00:00+00:00 t/m 2025-03-21 23:00:00+00:00\n",
      "2025-05-26 14:27:52,670 - build_training_set - INFO - 📅 Forecast van run_date 2025-03-22 00:00:00+00:00, target range: 2025-03-22 00:00:00+00:00 → 2025-03-28 23:00:00+00:00\n",
      "2025-05-26 14:27:52,702 - build_training_set - INFO - ✅ Actuals geladen: 1752 rijen\n"
     ]
    },
    {
     "name": "stdout",
     "output_type": "stream",
     "text": [
      "Day 7: ✅ 168 predictions, Run: 03-21\n"
     ]
    },
    {
     "name": "stderr",
     "output_type": "stream",
     "text": [
      "2025-05-26 14:27:52,900 - build_training_set - INFO - ✅ Added actual prices to 168 forecast rows\n",
      "c:\\Users\\dai\\ENEXIS\\src\\utils\\build_training_set.py:106: FutureWarning: The behavior of DataFrame concatenation with empty or all-NA entries is deprecated. In a future version, this will no longer exclude empty or all-NA columns when determining the result dtypes. To retain the old behavior, exclude the relevant entries before the concat operation.\n",
      "  df_combined = pd.concat([df_actuals, df_preds], ignore_index=True)\n",
      "2025-05-26 14:27:52,912 - build_training_set - INFO - 📦 Eindtabel bevat: 1920 rijen, 35 kolommen\n",
      "2025-05-26 14:27:52,913 - build_training_set - INFO - 🧾 Kolommen: ['Price', 'target_datetime', 'Load', 'shortwave_radiation', 'temperature_2m', 'direct_normal_irradiance', 'diffuse_radiation', 'Flow_NO', 'yearday_cos', 'Flow_GB', 'month', 'is_dst', 'yearday_sin', 'is_non_working_day', 'hour_cos', 'is_weekend', 'cloud_cover', 'weekday_sin', 'hour_sin', 'weekday_cos', 'Flow_BE', 'Flow_DE', 'Flow_DK', 'Total_Flow', 'apparent_temperature', 'day_of_week', 'day_of_year', 'direct_radiation', 'hour', 'is_holiday', 'local_datetime', 'run_date', 'snowfall', 'wind_direction_10m', 'wind_speed_10m']\n",
      "2025-05-26 14:27:52,914 - build_training_set - INFO - ❓ Price NaN count: 0/1920 (0.0%)\n",
      "2025-05-26 14:27:52,948 - build_training_set - INFO - ✅ Opgeslagen als training_set in WARP.db\n",
      "2025-05-26 14:27:52,949 - build_training_set - INFO - 🔒 Verbinding gesloten\n",
      "2025-05-26 14:27:53,029 - build_training_set - INFO - 🚀 Start build van trainingset\n",
      "2025-05-26 14:27:53,030 - build_training_set - INFO - 🧠 Actuals van 2025-01-09 00:00:00+00:00 t/m 2025-03-22 23:00:00+00:00\n",
      "2025-05-26 14:27:53,031 - build_training_set - INFO - 📅 Forecast van run_date 2025-03-23 00:00:00+00:00, target range: 2025-03-23 00:00:00+00:00 → 2025-03-29 23:00:00+00:00\n",
      "2025-05-26 14:27:53,063 - build_training_set - INFO - ✅ Actuals geladen: 1752 rijen\n"
     ]
    },
    {
     "name": "stdout",
     "output_type": "stream",
     "text": [
      "Day 8: ✅ 168 predictions, Run: 03-22\n"
     ]
    },
    {
     "name": "stderr",
     "output_type": "stream",
     "text": [
      "2025-05-26 14:27:53,265 - build_training_set - INFO - ✅ Added actual prices to 168 forecast rows\n",
      "c:\\Users\\dai\\ENEXIS\\src\\utils\\build_training_set.py:106: FutureWarning: The behavior of DataFrame concatenation with empty or all-NA entries is deprecated. In a future version, this will no longer exclude empty or all-NA columns when determining the result dtypes. To retain the old behavior, exclude the relevant entries before the concat operation.\n",
      "  df_combined = pd.concat([df_actuals, df_preds], ignore_index=True)\n",
      "2025-05-26 14:27:53,265 - build_training_set - INFO - 📦 Eindtabel bevat: 1920 rijen, 35 kolommen\n",
      "2025-05-26 14:27:53,276 - build_training_set - INFO - 🧾 Kolommen: ['Price', 'target_datetime', 'Load', 'shortwave_radiation', 'temperature_2m', 'direct_normal_irradiance', 'diffuse_radiation', 'Flow_NO', 'yearday_cos', 'Flow_GB', 'month', 'is_dst', 'yearday_sin', 'is_non_working_day', 'hour_cos', 'is_weekend', 'cloud_cover', 'weekday_sin', 'hour_sin', 'weekday_cos', 'Flow_BE', 'Flow_DE', 'Flow_DK', 'Total_Flow', 'apparent_temperature', 'day_of_week', 'day_of_year', 'direct_radiation', 'hour', 'is_holiday', 'local_datetime', 'run_date', 'snowfall', 'wind_direction_10m', 'wind_speed_10m']\n",
      "2025-05-26 14:27:53,277 - build_training_set - INFO - ❓ Price NaN count: 0/1920 (0.0%)\n",
      "2025-05-26 14:27:53,308 - build_training_set - INFO - ✅ Opgeslagen als training_set in WARP.db\n",
      "2025-05-26 14:27:53,309 - build_training_set - INFO - 🔒 Verbinding gesloten\n",
      "2025-05-26 14:27:53,385 - build_training_set - INFO - 🚀 Start build van trainingset\n",
      "2025-05-26 14:27:53,385 - build_training_set - INFO - 🧠 Actuals van 2025-01-10 00:00:00+00:00 t/m 2025-03-23 23:00:00+00:00\n",
      "2025-05-26 14:27:53,385 - build_training_set - INFO - 📅 Forecast van run_date 2025-03-24 00:00:00+00:00, target range: 2025-03-24 00:00:00+00:00 → 2025-03-30 23:00:00+00:00\n",
      "2025-05-26 14:27:53,417 - build_training_set - INFO - ✅ Actuals geladen: 1752 rijen\n"
     ]
    },
    {
     "name": "stdout",
     "output_type": "stream",
     "text": [
      "Day 9: ✅ 168 predictions, Run: 03-23\n"
     ]
    },
    {
     "name": "stderr",
     "output_type": "stream",
     "text": [
      "2025-05-26 14:27:53,627 - build_training_set - INFO - ✅ Added actual prices to 168 forecast rows\n",
      "c:\\Users\\dai\\ENEXIS\\src\\utils\\build_training_set.py:106: FutureWarning: The behavior of DataFrame concatenation with empty or all-NA entries is deprecated. In a future version, this will no longer exclude empty or all-NA columns when determining the result dtypes. To retain the old behavior, exclude the relevant entries before the concat operation.\n",
      "  df_combined = pd.concat([df_actuals, df_preds], ignore_index=True)\n",
      "2025-05-26 14:27:53,636 - build_training_set - INFO - 📦 Eindtabel bevat: 1920 rijen, 35 kolommen\n",
      "2025-05-26 14:27:53,637 - build_training_set - INFO - 🧾 Kolommen: ['Price', 'target_datetime', 'Load', 'shortwave_radiation', 'temperature_2m', 'direct_normal_irradiance', 'diffuse_radiation', 'Flow_NO', 'yearday_cos', 'Flow_GB', 'month', 'is_dst', 'yearday_sin', 'is_non_working_day', 'hour_cos', 'is_weekend', 'cloud_cover', 'weekday_sin', 'hour_sin', 'weekday_cos', 'Flow_BE', 'Flow_DE', 'Flow_DK', 'Total_Flow', 'apparent_temperature', 'day_of_week', 'day_of_year', 'direct_radiation', 'hour', 'is_holiday', 'local_datetime', 'run_date', 'snowfall', 'wind_direction_10m', 'wind_speed_10m']\n",
      "2025-05-26 14:27:53,637 - build_training_set - INFO - ❓ Price NaN count: 0/1920 (0.0%)\n",
      "2025-05-26 14:27:53,665 - build_training_set - INFO - ✅ Opgeslagen als training_set in WARP.db\n",
      "2025-05-26 14:27:53,666 - build_training_set - INFO - 🔒 Verbinding gesloten\n",
      "2025-05-26 14:27:53,736 - build_training_set - INFO - 🚀 Start build van trainingset\n",
      "2025-05-26 14:27:53,736 - build_training_set - INFO - 🧠 Actuals van 2025-01-11 00:00:00+00:00 t/m 2025-03-24 23:00:00+00:00\n",
      "2025-05-26 14:27:53,737 - build_training_set - INFO - 📅 Forecast van run_date 2025-03-25 00:00:00+00:00, target range: 2025-03-25 00:00:00+00:00 → 2025-03-31 23:00:00+00:00\n",
      "2025-05-26 14:27:53,765 - build_training_set - INFO - ✅ Actuals geladen: 1752 rijen\n"
     ]
    },
    {
     "name": "stdout",
     "output_type": "stream",
     "text": [
      "Day 10: ✅ 168 predictions, Run: 03-24\n"
     ]
    },
    {
     "name": "stderr",
     "output_type": "stream",
     "text": [
      "2025-05-26 14:27:53,960 - build_training_set - INFO - ✅ Added actual prices to 168 forecast rows\n",
      "c:\\Users\\dai\\ENEXIS\\src\\utils\\build_training_set.py:106: FutureWarning: The behavior of DataFrame concatenation with empty or all-NA entries is deprecated. In a future version, this will no longer exclude empty or all-NA columns when determining the result dtypes. To retain the old behavior, exclude the relevant entries before the concat operation.\n",
      "  df_combined = pd.concat([df_actuals, df_preds], ignore_index=True)\n",
      "2025-05-26 14:27:53,971 - build_training_set - INFO - 📦 Eindtabel bevat: 1920 rijen, 35 kolommen\n",
      "2025-05-26 14:27:53,971 - build_training_set - INFO - 🧾 Kolommen: ['Price', 'target_datetime', 'Load', 'shortwave_radiation', 'temperature_2m', 'direct_normal_irradiance', 'diffuse_radiation', 'Flow_NO', 'yearday_cos', 'Flow_GB', 'month', 'is_dst', 'yearday_sin', 'is_non_working_day', 'hour_cos', 'is_weekend', 'cloud_cover', 'weekday_sin', 'hour_sin', 'weekday_cos', 'Flow_BE', 'Flow_DE', 'Flow_DK', 'Total_Flow', 'apparent_temperature', 'day_of_week', 'day_of_year', 'direct_radiation', 'hour', 'is_holiday', 'local_datetime', 'run_date', 'snowfall', 'wind_direction_10m', 'wind_speed_10m']\n",
      "2025-05-26 14:27:53,977 - build_training_set - INFO - ❓ Price NaN count: 0/1920 (0.0%)\n",
      "2025-05-26 14:27:54,001 - build_training_set - INFO - ✅ Opgeslagen als training_set in WARP.db\n",
      "2025-05-26 14:27:54,001 - build_training_set - INFO - 🔒 Verbinding gesloten\n",
      "2025-05-26 14:27:54,082 - build_training_set - INFO - 🚀 Start build van trainingset\n",
      "2025-05-26 14:27:54,082 - build_training_set - INFO - 🧠 Actuals van 2025-01-12 00:00:00+00:00 t/m 2025-03-25 23:00:00+00:00\n",
      "2025-05-26 14:27:54,083 - build_training_set - INFO - 📅 Forecast van run_date 2025-03-26 00:00:00+00:00, target range: 2025-03-26 00:00:00+00:00 → 2025-04-01 23:00:00+00:00\n",
      "2025-05-26 14:27:54,120 - build_training_set - INFO - ✅ Actuals geladen: 1752 rijen\n"
     ]
    },
    {
     "name": "stdout",
     "output_type": "stream",
     "text": [
      "Day 11: ✅ 168 predictions, Run: 03-25\n"
     ]
    },
    {
     "name": "stderr",
     "output_type": "stream",
     "text": [
      "2025-05-26 14:27:54,334 - build_training_set - INFO - ✅ Added actual prices to 168 forecast rows\n",
      "c:\\Users\\dai\\ENEXIS\\src\\utils\\build_training_set.py:106: FutureWarning: The behavior of DataFrame concatenation with empty or all-NA entries is deprecated. In a future version, this will no longer exclude empty or all-NA columns when determining the result dtypes. To retain the old behavior, exclude the relevant entries before the concat operation.\n",
      "  df_combined = pd.concat([df_actuals, df_preds], ignore_index=True)\n",
      "2025-05-26 14:27:54,345 - build_training_set - INFO - 📦 Eindtabel bevat: 1920 rijen, 35 kolommen\n",
      "2025-05-26 14:27:54,346 - build_training_set - INFO - 🧾 Kolommen: ['Price', 'target_datetime', 'Load', 'shortwave_radiation', 'temperature_2m', 'direct_normal_irradiance', 'diffuse_radiation', 'Flow_NO', 'yearday_cos', 'Flow_GB', 'month', 'is_dst', 'yearday_sin', 'is_non_working_day', 'hour_cos', 'is_weekend', 'cloud_cover', 'weekday_sin', 'hour_sin', 'weekday_cos', 'Flow_BE', 'Flow_DE', 'Flow_DK', 'Total_Flow', 'apparent_temperature', 'day_of_week', 'day_of_year', 'direct_radiation', 'hour', 'is_holiday', 'local_datetime', 'run_date', 'snowfall', 'wind_direction_10m', 'wind_speed_10m']\n",
      "2025-05-26 14:27:54,346 - build_training_set - INFO - ❓ Price NaN count: 0/1920 (0.0%)\n",
      "2025-05-26 14:27:54,377 - build_training_set - INFO - ✅ Opgeslagen als training_set in WARP.db\n",
      "2025-05-26 14:27:54,378 - build_training_set - INFO - 🔒 Verbinding gesloten\n",
      "2025-05-26 14:27:54,463 - build_training_set - INFO - 🚀 Start build van trainingset\n",
      "2025-05-26 14:27:54,464 - build_training_set - INFO - 🧠 Actuals van 2025-01-13 00:00:00+00:00 t/m 2025-03-26 23:00:00+00:00\n",
      "2025-05-26 14:27:54,465 - build_training_set - INFO - 📅 Forecast van run_date 2025-03-27 00:00:00+00:00, target range: 2025-03-27 00:00:00+00:00 → 2025-04-02 23:00:00+00:00\n",
      "2025-05-26 14:27:54,499 - build_training_set - INFO - ✅ Actuals geladen: 1752 rijen\n"
     ]
    },
    {
     "name": "stdout",
     "output_type": "stream",
     "text": [
      "Day 12: ✅ 168 predictions, Run: 03-26\n"
     ]
    },
    {
     "name": "stderr",
     "output_type": "stream",
     "text": [
      "2025-05-26 14:27:54,706 - build_training_set - INFO - ✅ Added actual prices to 168 forecast rows\n",
      "c:\\Users\\dai\\ENEXIS\\src\\utils\\build_training_set.py:106: FutureWarning: The behavior of DataFrame concatenation with empty or all-NA entries is deprecated. In a future version, this will no longer exclude empty or all-NA columns when determining the result dtypes. To retain the old behavior, exclude the relevant entries before the concat operation.\n",
      "  df_combined = pd.concat([df_actuals, df_preds], ignore_index=True)\n",
      "2025-05-26 14:27:54,717 - build_training_set - INFO - 📦 Eindtabel bevat: 1920 rijen, 35 kolommen\n",
      "2025-05-26 14:27:54,717 - build_training_set - INFO - 🧾 Kolommen: ['Price', 'target_datetime', 'Load', 'shortwave_radiation', 'temperature_2m', 'direct_normal_irradiance', 'diffuse_radiation', 'Flow_NO', 'yearday_cos', 'Flow_GB', 'month', 'is_dst', 'yearday_sin', 'is_non_working_day', 'hour_cos', 'is_weekend', 'cloud_cover', 'weekday_sin', 'hour_sin', 'weekday_cos', 'Flow_BE', 'Flow_DE', 'Flow_DK', 'Total_Flow', 'apparent_temperature', 'day_of_week', 'day_of_year', 'direct_radiation', 'hour', 'is_holiday', 'local_datetime', 'run_date', 'snowfall', 'wind_direction_10m', 'wind_speed_10m']\n",
      "2025-05-26 14:27:54,717 - build_training_set - INFO - ❓ Price NaN count: 0/1920 (0.0%)\n",
      "2025-05-26 14:27:54,747 - build_training_set - INFO - ✅ Opgeslagen als training_set in WARP.db\n",
      "2025-05-26 14:27:54,747 - build_training_set - INFO - 🔒 Verbinding gesloten\n",
      "2025-05-26 14:27:54,834 - build_training_set - INFO - 🚀 Start build van trainingset\n",
      "2025-05-26 14:27:54,835 - build_training_set - INFO - 🧠 Actuals van 2025-01-14 00:00:00+00:00 t/m 2025-03-27 23:00:00+00:00\n",
      "2025-05-26 14:27:54,836 - build_training_set - INFO - 📅 Forecast van run_date 2025-03-28 00:00:00+00:00, target range: 2025-03-28 00:00:00+00:00 → 2025-04-03 23:00:00+00:00\n",
      "2025-05-26 14:27:54,869 - build_training_set - INFO - ✅ Actuals geladen: 1752 rijen\n"
     ]
    },
    {
     "name": "stdout",
     "output_type": "stream",
     "text": [
      "Day 13: ✅ 168 predictions, Run: 03-27\n"
     ]
    },
    {
     "name": "stderr",
     "output_type": "stream",
     "text": [
      "2025-05-26 14:27:55,088 - build_training_set - INFO - ✅ Added actual prices to 168 forecast rows\n",
      "c:\\Users\\dai\\ENEXIS\\src\\utils\\build_training_set.py:106: FutureWarning: The behavior of DataFrame concatenation with empty or all-NA entries is deprecated. In a future version, this will no longer exclude empty or all-NA columns when determining the result dtypes. To retain the old behavior, exclude the relevant entries before the concat operation.\n",
      "  df_combined = pd.concat([df_actuals, df_preds], ignore_index=True)\n",
      "2025-05-26 14:27:55,098 - build_training_set - INFO - 📦 Eindtabel bevat: 1920 rijen, 35 kolommen\n",
      "2025-05-26 14:27:55,099 - build_training_set - INFO - 🧾 Kolommen: ['Price', 'target_datetime', 'Load', 'shortwave_radiation', 'temperature_2m', 'direct_normal_irradiance', 'diffuse_radiation', 'Flow_NO', 'yearday_cos', 'Flow_GB', 'month', 'is_dst', 'yearday_sin', 'is_non_working_day', 'hour_cos', 'is_weekend', 'cloud_cover', 'weekday_sin', 'hour_sin', 'weekday_cos', 'Flow_BE', 'Flow_DE', 'Flow_DK', 'Total_Flow', 'apparent_temperature', 'day_of_week', 'day_of_year', 'direct_radiation', 'hour', 'is_holiday', 'local_datetime', 'run_date', 'snowfall', 'wind_direction_10m', 'wind_speed_10m']\n",
      "2025-05-26 14:27:55,100 - build_training_set - INFO - ❓ Price NaN count: 0/1920 (0.0%)\n",
      "2025-05-26 14:27:55,136 - build_training_set - INFO - ✅ Opgeslagen als training_set in WARP.db\n",
      "2025-05-26 14:27:55,137 - build_training_set - INFO - 🔒 Verbinding gesloten\n",
      "2025-05-26 14:27:55,207 - build_training_set - INFO - 🚀 Start build van trainingset\n",
      "2025-05-26 14:27:55,210 - build_training_set - INFO - 🧠 Actuals van 2025-01-15 00:00:00+00:00 t/m 2025-03-28 23:00:00+00:00\n",
      "2025-05-26 14:27:55,211 - build_training_set - INFO - 📅 Forecast van run_date 2025-03-29 00:00:00+00:00, target range: 2025-03-29 00:00:00+00:00 → 2025-04-04 23:00:00+00:00\n",
      "2025-05-26 14:27:55,244 - build_training_set - INFO - ✅ Actuals geladen: 1752 rijen\n"
     ]
    },
    {
     "name": "stdout",
     "output_type": "stream",
     "text": [
      "Day 14: ✅ 168 predictions, Run: 03-28\n"
     ]
    },
    {
     "name": "stderr",
     "output_type": "stream",
     "text": [
      "2025-05-26 14:27:55,450 - build_training_set - INFO - ✅ Added actual prices to 168 forecast rows\n",
      "c:\\Users\\dai\\ENEXIS\\src\\utils\\build_training_set.py:106: FutureWarning: The behavior of DataFrame concatenation with empty or all-NA entries is deprecated. In a future version, this will no longer exclude empty or all-NA columns when determining the result dtypes. To retain the old behavior, exclude the relevant entries before the concat operation.\n",
      "  df_combined = pd.concat([df_actuals, df_preds], ignore_index=True)\n",
      "2025-05-26 14:27:55,458 - build_training_set - INFO - 📦 Eindtabel bevat: 1920 rijen, 35 kolommen\n",
      "2025-05-26 14:27:55,459 - build_training_set - INFO - 🧾 Kolommen: ['Price', 'target_datetime', 'Load', 'shortwave_radiation', 'temperature_2m', 'direct_normal_irradiance', 'diffuse_radiation', 'Flow_NO', 'yearday_cos', 'Flow_GB', 'month', 'is_dst', 'yearday_sin', 'is_non_working_day', 'hour_cos', 'is_weekend', 'cloud_cover', 'weekday_sin', 'hour_sin', 'weekday_cos', 'Flow_BE', 'Flow_DE', 'Flow_DK', 'Total_Flow', 'apparent_temperature', 'day_of_week', 'day_of_year', 'direct_radiation', 'hour', 'is_holiday', 'local_datetime', 'run_date', 'snowfall', 'wind_direction_10m', 'wind_speed_10m']\n",
      "2025-05-26 14:27:55,460 - build_training_set - INFO - ❓ Price NaN count: 0/1920 (0.0%)\n",
      "2025-05-26 14:27:55,488 - build_training_set - INFO - ✅ Opgeslagen als training_set in WARP.db\n",
      "2025-05-26 14:27:55,488 - build_training_set - INFO - 🔒 Verbinding gesloten\n",
      "2025-05-26 14:27:55,567 - build_training_set - INFO - 🚀 Start build van trainingset\n",
      "2025-05-26 14:27:55,568 - build_training_set - INFO - 🧠 Actuals van 2025-01-16 00:00:00+00:00 t/m 2025-03-29 23:00:00+00:00\n",
      "2025-05-26 14:27:55,569 - build_training_set - INFO - 📅 Forecast van run_date 2025-03-30 00:00:00+00:00, target range: 2025-03-30 00:00:00+00:00 → 2025-04-05 23:00:00+00:00\n",
      "2025-05-26 14:27:55,602 - build_training_set - INFO - ✅ Actuals geladen: 1752 rijen\n"
     ]
    },
    {
     "name": "stdout",
     "output_type": "stream",
     "text": [
      "Day 15: ✅ 168 predictions, Run: 03-29\n"
     ]
    },
    {
     "name": "stderr",
     "output_type": "stream",
     "text": [
      "2025-05-26 14:27:55,806 - build_training_set - INFO - ✅ Added actual prices to 168 forecast rows\n",
      "c:\\Users\\dai\\ENEXIS\\src\\utils\\build_training_set.py:106: FutureWarning: The behavior of DataFrame concatenation with empty or all-NA entries is deprecated. In a future version, this will no longer exclude empty or all-NA columns when determining the result dtypes. To retain the old behavior, exclude the relevant entries before the concat operation.\n",
      "  df_combined = pd.concat([df_actuals, df_preds], ignore_index=True)\n",
      "2025-05-26 14:27:55,817 - build_training_set - INFO - 📦 Eindtabel bevat: 1920 rijen, 35 kolommen\n",
      "2025-05-26 14:27:55,819 - build_training_set - INFO - 🧾 Kolommen: ['Price', 'target_datetime', 'Load', 'shortwave_radiation', 'temperature_2m', 'direct_normal_irradiance', 'diffuse_radiation', 'Flow_NO', 'yearday_cos', 'Flow_GB', 'month', 'is_dst', 'yearday_sin', 'is_non_working_day', 'hour_cos', 'is_weekend', 'cloud_cover', 'weekday_sin', 'hour_sin', 'weekday_cos', 'Flow_BE', 'Flow_DE', 'Flow_DK', 'Total_Flow', 'apparent_temperature', 'day_of_week', 'day_of_year', 'direct_radiation', 'hour', 'is_holiday', 'local_datetime', 'run_date', 'snowfall', 'wind_direction_10m', 'wind_speed_10m']\n",
      "2025-05-26 14:27:55,821 - build_training_set - INFO - ❓ Price NaN count: 0/1920 (0.0%)\n",
      "2025-05-26 14:27:55,855 - build_training_set - INFO - ✅ Opgeslagen als training_set in WARP.db\n",
      "2025-05-26 14:27:55,855 - build_training_set - INFO - 🔒 Verbinding gesloten\n",
      "2025-05-26 14:27:55,933 - build_training_set - INFO - 🚀 Start build van trainingset\n",
      "2025-05-26 14:27:55,933 - build_training_set - INFO - 🧠 Actuals van 2025-01-17 00:00:00+00:00 t/m 2025-03-30 23:00:00+00:00\n",
      "2025-05-26 14:27:55,934 - build_training_set - INFO - 📅 Forecast van run_date 2025-03-31 00:00:00+00:00, target range: 2025-03-31 00:00:00+00:00 → 2025-04-06 23:00:00+00:00\n",
      "2025-05-26 14:27:55,976 - build_training_set - INFO - ✅ Actuals geladen: 1752 rijen\n"
     ]
    },
    {
     "name": "stdout",
     "output_type": "stream",
     "text": [
      "Day 16: ✅ 168 predictions, Run: 03-30\n"
     ]
    },
    {
     "name": "stderr",
     "output_type": "stream",
     "text": [
      "2025-05-26 14:27:56,197 - build_training_set - INFO - ✅ Added actual prices to 168 forecast rows\n",
      "c:\\Users\\dai\\ENEXIS\\src\\utils\\build_training_set.py:106: FutureWarning: The behavior of DataFrame concatenation with empty or all-NA entries is deprecated. In a future version, this will no longer exclude empty or all-NA columns when determining the result dtypes. To retain the old behavior, exclude the relevant entries before the concat operation.\n",
      "  df_combined = pd.concat([df_actuals, df_preds], ignore_index=True)\n",
      "2025-05-26 14:27:56,201 - build_training_set - INFO - 📦 Eindtabel bevat: 1920 rijen, 35 kolommen\n",
      "2025-05-26 14:27:56,201 - build_training_set - INFO - 🧾 Kolommen: ['Price', 'target_datetime', 'Load', 'shortwave_radiation', 'temperature_2m', 'direct_normal_irradiance', 'diffuse_radiation', 'Flow_NO', 'yearday_cos', 'Flow_GB', 'month', 'is_dst', 'yearday_sin', 'is_non_working_day', 'hour_cos', 'is_weekend', 'cloud_cover', 'weekday_sin', 'hour_sin', 'weekday_cos', 'Flow_BE', 'Flow_DE', 'Flow_DK', 'Total_Flow', 'apparent_temperature', 'day_of_week', 'day_of_year', 'direct_radiation', 'hour', 'is_holiday', 'local_datetime', 'run_date', 'snowfall', 'wind_direction_10m', 'wind_speed_10m']\n",
      "2025-05-26 14:27:56,201 - build_training_set - INFO - ❓ Price NaN count: 0/1920 (0.0%)\n",
      "2025-05-26 14:27:56,236 - build_training_set - INFO - ✅ Opgeslagen als training_set in WARP.db\n",
      "2025-05-26 14:27:56,236 - build_training_set - INFO - 🔒 Verbinding gesloten\n",
      "2025-05-26 14:27:56,315 - build_training_set - INFO - 🚀 Start build van trainingset\n",
      "2025-05-26 14:27:56,315 - build_training_set - INFO - 🧠 Actuals van 2025-01-18 00:00:00+00:00 t/m 2025-03-31 23:00:00+00:00\n",
      "2025-05-26 14:27:56,315 - build_training_set - INFO - 📅 Forecast van run_date 2025-04-01 00:00:00+00:00, target range: 2025-04-01 00:00:00+00:00 → 2025-04-07 23:00:00+00:00\n",
      "2025-05-26 14:27:56,347 - build_training_set - INFO - ✅ Actuals geladen: 1752 rijen\n"
     ]
    },
    {
     "name": "stdout",
     "output_type": "stream",
     "text": [
      "Day 17: ✅ 168 predictions, Run: 03-31\n"
     ]
    },
    {
     "name": "stderr",
     "output_type": "stream",
     "text": [
      "2025-05-26 14:27:56,537 - build_training_set - INFO - ✅ Added actual prices to 168 forecast rows\n",
      "c:\\Users\\dai\\ENEXIS\\src\\utils\\build_training_set.py:106: FutureWarning: The behavior of DataFrame concatenation with empty or all-NA entries is deprecated. In a future version, this will no longer exclude empty or all-NA columns when determining the result dtypes. To retain the old behavior, exclude the relevant entries before the concat operation.\n",
      "  df_combined = pd.concat([df_actuals, df_preds], ignore_index=True)\n",
      "2025-05-26 14:27:56,556 - build_training_set - INFO - 📦 Eindtabel bevat: 1920 rijen, 35 kolommen\n",
      "2025-05-26 14:27:56,557 - build_training_set - INFO - 🧾 Kolommen: ['Price', 'target_datetime', 'Load', 'shortwave_radiation', 'temperature_2m', 'direct_normal_irradiance', 'diffuse_radiation', 'Flow_NO', 'yearday_cos', 'Flow_GB', 'month', 'is_dst', 'yearday_sin', 'is_non_working_day', 'hour_cos', 'is_weekend', 'cloud_cover', 'weekday_sin', 'hour_sin', 'weekday_cos', 'Flow_BE', 'Flow_DE', 'Flow_DK', 'Total_Flow', 'apparent_temperature', 'day_of_week', 'day_of_year', 'direct_radiation', 'hour', 'is_holiday', 'local_datetime', 'run_date', 'snowfall', 'wind_direction_10m', 'wind_speed_10m']\n",
      "2025-05-26 14:27:56,558 - build_training_set - INFO - ❓ Price NaN count: 0/1920 (0.0%)\n",
      "2025-05-26 14:27:56,634 - build_training_set - INFO - ✅ Opgeslagen als training_set in WARP.db\n",
      "2025-05-26 14:27:56,636 - build_training_set - INFO - 🔒 Verbinding gesloten\n",
      "2025-05-26 14:27:56,729 - build_training_set - INFO - 🚀 Start build van trainingset\n",
      "2025-05-26 14:27:56,731 - build_training_set - INFO - 🧠 Actuals van 2025-01-19 00:00:00+00:00 t/m 2025-04-01 23:00:00+00:00\n",
      "2025-05-26 14:27:56,732 - build_training_set - INFO - 📅 Forecast van run_date 2025-04-02 00:00:00+00:00, target range: 2025-04-02 00:00:00+00:00 → 2025-04-08 23:00:00+00:00\n",
      "2025-05-26 14:27:56,767 - build_training_set - INFO - ✅ Actuals geladen: 1752 rijen\n"
     ]
    },
    {
     "name": "stdout",
     "output_type": "stream",
     "text": [
      "Day 18: ✅ 168 predictions, Run: 04-01\n"
     ]
    },
    {
     "name": "stderr",
     "output_type": "stream",
     "text": [
      "2025-05-26 14:27:56,967 - build_training_set - INFO - ✅ Added actual prices to 168 forecast rows\n",
      "c:\\Users\\dai\\ENEXIS\\src\\utils\\build_training_set.py:106: FutureWarning: The behavior of DataFrame concatenation with empty or all-NA entries is deprecated. In a future version, this will no longer exclude empty or all-NA columns when determining the result dtypes. To retain the old behavior, exclude the relevant entries before the concat operation.\n",
      "  df_combined = pd.concat([df_actuals, df_preds], ignore_index=True)\n",
      "2025-05-26 14:27:56,978 - build_training_set - INFO - 📦 Eindtabel bevat: 1920 rijen, 35 kolommen\n",
      "2025-05-26 14:27:56,978 - build_training_set - INFO - 🧾 Kolommen: ['Price', 'target_datetime', 'Load', 'shortwave_radiation', 'temperature_2m', 'direct_normal_irradiance', 'diffuse_radiation', 'Flow_NO', 'yearday_cos', 'Flow_GB', 'month', 'is_dst', 'yearday_sin', 'is_non_working_day', 'hour_cos', 'is_weekend', 'cloud_cover', 'weekday_sin', 'hour_sin', 'weekday_cos', 'Flow_BE', 'Flow_DE', 'Flow_DK', 'Total_Flow', 'apparent_temperature', 'day_of_week', 'day_of_year', 'direct_radiation', 'hour', 'is_holiday', 'local_datetime', 'run_date', 'snowfall', 'wind_direction_10m', 'wind_speed_10m']\n",
      "2025-05-26 14:27:56,979 - build_training_set - INFO - ❓ Price NaN count: 0/1920 (0.0%)\n",
      "2025-05-26 14:27:57,001 - build_training_set - INFO - ✅ Opgeslagen als training_set in WARP.db\n",
      "2025-05-26 14:27:57,001 - build_training_set - INFO - 🔒 Verbinding gesloten\n",
      "2025-05-26 14:27:57,082 - build_training_set - INFO - 🚀 Start build van trainingset\n",
      "2025-05-26 14:27:57,082 - build_training_set - INFO - 🧠 Actuals van 2025-01-20 00:00:00+00:00 t/m 2025-04-02 23:00:00+00:00\n",
      "2025-05-26 14:27:57,083 - build_training_set - INFO - 📅 Forecast van run_date 2025-04-03 00:00:00+00:00, target range: 2025-04-03 00:00:00+00:00 → 2025-04-09 23:00:00+00:00\n",
      "2025-05-26 14:27:57,119 - build_training_set - INFO - ✅ Actuals geladen: 1752 rijen\n"
     ]
    },
    {
     "name": "stdout",
     "output_type": "stream",
     "text": [
      "Day 19: ✅ 168 predictions, Run: 04-02\n"
     ]
    },
    {
     "name": "stderr",
     "output_type": "stream",
     "text": [
      "2025-05-26 14:27:57,312 - build_training_set - INFO - ✅ Added actual prices to 168 forecast rows\n",
      "c:\\Users\\dai\\ENEXIS\\src\\utils\\build_training_set.py:106: FutureWarning: The behavior of DataFrame concatenation with empty or all-NA entries is deprecated. In a future version, this will no longer exclude empty or all-NA columns when determining the result dtypes. To retain the old behavior, exclude the relevant entries before the concat operation.\n",
      "  df_combined = pd.concat([df_actuals, df_preds], ignore_index=True)\n",
      "2025-05-26 14:27:57,319 - build_training_set - INFO - 📦 Eindtabel bevat: 1920 rijen, 35 kolommen\n",
      "2025-05-26 14:27:57,319 - build_training_set - INFO - 🧾 Kolommen: ['Price', 'target_datetime', 'Load', 'shortwave_radiation', 'temperature_2m', 'direct_normal_irradiance', 'diffuse_radiation', 'Flow_NO', 'yearday_cos', 'Flow_GB', 'month', 'is_dst', 'yearday_sin', 'is_non_working_day', 'hour_cos', 'is_weekend', 'cloud_cover', 'weekday_sin', 'hour_sin', 'weekday_cos', 'Flow_BE', 'Flow_DE', 'Flow_DK', 'Total_Flow', 'apparent_temperature', 'day_of_week', 'day_of_year', 'direct_radiation', 'hour', 'is_holiday', 'local_datetime', 'run_date', 'snowfall', 'wind_direction_10m', 'wind_speed_10m']\n",
      "2025-05-26 14:27:57,319 - build_training_set - INFO - ❓ Price NaN count: 0/1920 (0.0%)\n",
      "2025-05-26 14:27:57,353 - build_training_set - INFO - ✅ Opgeslagen als training_set in WARP.db\n",
      "2025-05-26 14:27:57,353 - build_training_set - INFO - 🔒 Verbinding gesloten\n",
      "2025-05-26 14:27:57,433 - build_training_set - INFO - 🚀 Start build van trainingset\n",
      "2025-05-26 14:27:57,433 - build_training_set - INFO - 🧠 Actuals van 2025-01-21 00:00:00+00:00 t/m 2025-04-03 23:00:00+00:00\n",
      "2025-05-26 14:27:57,433 - build_training_set - INFO - 📅 Forecast van run_date 2025-04-04 00:00:00+00:00, target range: 2025-04-04 00:00:00+00:00 → 2025-04-10 23:00:00+00:00\n",
      "2025-05-26 14:27:57,467 - build_training_set - INFO - ✅ Actuals geladen: 1752 rijen\n"
     ]
    },
    {
     "name": "stdout",
     "output_type": "stream",
     "text": [
      "Day 20: ✅ 168 predictions, Run: 04-03\n"
     ]
    },
    {
     "name": "stderr",
     "output_type": "stream",
     "text": [
      "2025-05-26 14:27:57,686 - build_training_set - INFO - ✅ Added actual prices to 168 forecast rows\n",
      "c:\\Users\\dai\\ENEXIS\\src\\utils\\build_training_set.py:106: FutureWarning: The behavior of DataFrame concatenation with empty or all-NA entries is deprecated. In a future version, this will no longer exclude empty or all-NA columns when determining the result dtypes. To retain the old behavior, exclude the relevant entries before the concat operation.\n",
      "  df_combined = pd.concat([df_actuals, df_preds], ignore_index=True)\n",
      "2025-05-26 14:27:57,696 - build_training_set - INFO - 📦 Eindtabel bevat: 1920 rijen, 35 kolommen\n",
      "2025-05-26 14:27:57,697 - build_training_set - INFO - 🧾 Kolommen: ['Price', 'target_datetime', 'Load', 'shortwave_radiation', 'temperature_2m', 'direct_normal_irradiance', 'diffuse_radiation', 'Flow_NO', 'yearday_cos', 'Flow_GB', 'month', 'is_dst', 'yearday_sin', 'is_non_working_day', 'hour_cos', 'is_weekend', 'cloud_cover', 'weekday_sin', 'hour_sin', 'weekday_cos', 'Flow_BE', 'Flow_DE', 'Flow_DK', 'Total_Flow', 'apparent_temperature', 'day_of_week', 'day_of_year', 'direct_radiation', 'hour', 'is_holiday', 'local_datetime', 'run_date', 'snowfall', 'wind_direction_10m', 'wind_speed_10m']\n",
      "2025-05-26 14:27:57,698 - build_training_set - INFO - ❓ Price NaN count: 0/1920 (0.0%)\n",
      "2025-05-26 14:27:57,729 - build_training_set - INFO - ✅ Opgeslagen als training_set in WARP.db\n",
      "2025-05-26 14:27:57,730 - build_training_set - INFO - 🔒 Verbinding gesloten\n",
      "2025-05-26 14:27:57,800 - build_training_set - INFO - 🚀 Start build van trainingset\n",
      "2025-05-26 14:27:57,801 - build_training_set - INFO - 🧠 Actuals van 2025-01-22 00:00:00+00:00 t/m 2025-04-04 23:00:00+00:00\n",
      "2025-05-26 14:27:57,801 - build_training_set - INFO - 📅 Forecast van run_date 2025-04-05 00:00:00+00:00, target range: 2025-04-05 00:00:00+00:00 → 2025-04-11 23:00:00+00:00\n",
      "2025-05-26 14:27:57,833 - build_training_set - INFO - ✅ Actuals geladen: 1752 rijen\n"
     ]
    },
    {
     "name": "stdout",
     "output_type": "stream",
     "text": [
      "Day 21: ✅ 168 predictions, Run: 04-04\n"
     ]
    },
    {
     "name": "stderr",
     "output_type": "stream",
     "text": [
      "2025-05-26 14:27:58,030 - build_training_set - INFO - ✅ Added actual prices to 168 forecast rows\n",
      "c:\\Users\\dai\\ENEXIS\\src\\utils\\build_training_set.py:106: FutureWarning: The behavior of DataFrame concatenation with empty or all-NA entries is deprecated. In a future version, this will no longer exclude empty or all-NA columns when determining the result dtypes. To retain the old behavior, exclude the relevant entries before the concat operation.\n",
      "  df_combined = pd.concat([df_actuals, df_preds], ignore_index=True)\n",
      "2025-05-26 14:27:58,050 - build_training_set - INFO - 📦 Eindtabel bevat: 1920 rijen, 35 kolommen\n",
      "2025-05-26 14:27:58,051 - build_training_set - INFO - 🧾 Kolommen: ['Price', 'target_datetime', 'Load', 'shortwave_radiation', 'temperature_2m', 'direct_normal_irradiance', 'diffuse_radiation', 'Flow_NO', 'yearday_cos', 'Flow_GB', 'month', 'is_dst', 'yearday_sin', 'is_non_working_day', 'hour_cos', 'is_weekend', 'cloud_cover', 'weekday_sin', 'hour_sin', 'weekday_cos', 'Flow_BE', 'Flow_DE', 'Flow_DK', 'Total_Flow', 'apparent_temperature', 'day_of_week', 'day_of_year', 'direct_radiation', 'hour', 'is_holiday', 'local_datetime', 'run_date', 'snowfall', 'wind_direction_10m', 'wind_speed_10m']\n",
      "2025-05-26 14:27:58,053 - build_training_set - INFO - ❓ Price NaN count: 0/1920 (0.0%)\n",
      "2025-05-26 14:27:58,084 - build_training_set - INFO - ✅ Opgeslagen als training_set in WARP.db\n",
      "2025-05-26 14:27:58,084 - build_training_set - INFO - 🔒 Verbinding gesloten\n",
      "2025-05-26 14:27:58,170 - build_training_set - INFO - 🚀 Start build van trainingset\n",
      "2025-05-26 14:27:58,170 - build_training_set - INFO - 🧠 Actuals van 2025-01-23 00:00:00+00:00 t/m 2025-04-05 23:00:00+00:00\n",
      "2025-05-26 14:27:58,170 - build_training_set - INFO - 📅 Forecast van run_date 2025-04-06 00:00:00+00:00, target range: 2025-04-06 00:00:00+00:00 → 2025-04-12 23:00:00+00:00\n",
      "2025-05-26 14:27:58,207 - build_training_set - INFO - ✅ Actuals geladen: 1752 rijen\n"
     ]
    },
    {
     "name": "stdout",
     "output_type": "stream",
     "text": [
      "Day 22: ✅ 168 predictions, Run: 04-05\n"
     ]
    },
    {
     "name": "stderr",
     "output_type": "stream",
     "text": [
      "2025-05-26 14:27:58,413 - build_training_set - INFO - ✅ Added actual prices to 168 forecast rows\n",
      "c:\\Users\\dai\\ENEXIS\\src\\utils\\build_training_set.py:106: FutureWarning: The behavior of DataFrame concatenation with empty or all-NA entries is deprecated. In a future version, this will no longer exclude empty or all-NA columns when determining the result dtypes. To retain the old behavior, exclude the relevant entries before the concat operation.\n",
      "  df_combined = pd.concat([df_actuals, df_preds], ignore_index=True)\n",
      "2025-05-26 14:27:58,424 - build_training_set - INFO - 📦 Eindtabel bevat: 1920 rijen, 35 kolommen\n",
      "2025-05-26 14:27:58,425 - build_training_set - INFO - 🧾 Kolommen: ['Price', 'target_datetime', 'Load', 'shortwave_radiation', 'temperature_2m', 'direct_normal_irradiance', 'diffuse_radiation', 'Flow_NO', 'yearday_cos', 'Flow_GB', 'month', 'is_dst', 'yearday_sin', 'is_non_working_day', 'hour_cos', 'is_weekend', 'cloud_cover', 'weekday_sin', 'hour_sin', 'weekday_cos', 'Flow_BE', 'Flow_DE', 'Flow_DK', 'Total_Flow', 'apparent_temperature', 'day_of_week', 'day_of_year', 'direct_radiation', 'hour', 'is_holiday', 'local_datetime', 'run_date', 'snowfall', 'wind_direction_10m', 'wind_speed_10m']\n",
      "2025-05-26 14:27:58,425 - build_training_set - INFO - ❓ Price NaN count: 0/1920 (0.0%)\n",
      "2025-05-26 14:27:58,451 - build_training_set - INFO - ✅ Opgeslagen als training_set in WARP.db\n",
      "2025-05-26 14:27:58,451 - build_training_set - INFO - 🔒 Verbinding gesloten\n",
      "2025-05-26 14:27:58,541 - build_training_set - INFO - 🚀 Start build van trainingset\n",
      "2025-05-26 14:27:58,542 - build_training_set - INFO - 🧠 Actuals van 2025-01-24 00:00:00+00:00 t/m 2025-04-06 23:00:00+00:00\n",
      "2025-05-26 14:27:58,542 - build_training_set - INFO - 📅 Forecast van run_date 2025-04-07 00:00:00+00:00, target range: 2025-04-07 00:00:00+00:00 → 2025-04-13 23:00:00+00:00\n",
      "2025-05-26 14:27:58,582 - build_training_set - INFO - ✅ Actuals geladen: 1752 rijen\n"
     ]
    },
    {
     "name": "stdout",
     "output_type": "stream",
     "text": [
      "Day 23: ✅ 168 predictions, Run: 04-06\n"
     ]
    },
    {
     "name": "stderr",
     "output_type": "stream",
     "text": [
      "2025-05-26 14:27:58,785 - build_training_set - INFO - ✅ Added actual prices to 168 forecast rows\n",
      "c:\\Users\\dai\\ENEXIS\\src\\utils\\build_training_set.py:106: FutureWarning: The behavior of DataFrame concatenation with empty or all-NA entries is deprecated. In a future version, this will no longer exclude empty or all-NA columns when determining the result dtypes. To retain the old behavior, exclude the relevant entries before the concat operation.\n",
      "  df_combined = pd.concat([df_actuals, df_preds], ignore_index=True)\n",
      "2025-05-26 14:27:58,798 - build_training_set - INFO - 📦 Eindtabel bevat: 1920 rijen, 35 kolommen\n",
      "2025-05-26 14:27:58,800 - build_training_set - INFO - 🧾 Kolommen: ['Price', 'target_datetime', 'Load', 'shortwave_radiation', 'temperature_2m', 'direct_normal_irradiance', 'diffuse_radiation', 'Flow_NO', 'yearday_cos', 'Flow_GB', 'month', 'is_dst', 'yearday_sin', 'is_non_working_day', 'hour_cos', 'is_weekend', 'cloud_cover', 'weekday_sin', 'hour_sin', 'weekday_cos', 'Flow_BE', 'Flow_DE', 'Flow_DK', 'Total_Flow', 'apparent_temperature', 'day_of_week', 'day_of_year', 'direct_radiation', 'hour', 'is_holiday', 'local_datetime', 'run_date', 'snowfall', 'wind_direction_10m', 'wind_speed_10m']\n",
      "2025-05-26 14:27:58,800 - build_training_set - INFO - ❓ Price NaN count: 0/1920 (0.0%)\n",
      "2025-05-26 14:27:58,835 - build_training_set - INFO - ✅ Opgeslagen als training_set in WARP.db\n",
      "2025-05-26 14:27:58,837 - build_training_set - INFO - 🔒 Verbinding gesloten\n",
      "2025-05-26 14:27:58,913 - build_training_set - INFO - 🚀 Start build van trainingset\n",
      "2025-05-26 14:27:58,914 - build_training_set - INFO - 🧠 Actuals van 2025-01-25 00:00:00+00:00 t/m 2025-04-07 23:00:00+00:00\n",
      "2025-05-26 14:27:58,915 - build_training_set - INFO - 📅 Forecast van run_date 2025-04-08 00:00:00+00:00, target range: 2025-04-08 00:00:00+00:00 → 2025-04-14 23:00:00+00:00\n",
      "2025-05-26 14:27:58,944 - build_training_set - INFO - ✅ Actuals geladen: 1752 rijen\n"
     ]
    },
    {
     "name": "stdout",
     "output_type": "stream",
     "text": [
      "Day 24: ✅ 168 predictions, Run: 04-07\n"
     ]
    },
    {
     "name": "stderr",
     "output_type": "stream",
     "text": [
      "2025-05-26 14:27:59,157 - build_training_set - INFO - ✅ Added actual prices to 168 forecast rows\n",
      "c:\\Users\\dai\\ENEXIS\\src\\utils\\build_training_set.py:106: FutureWarning: The behavior of DataFrame concatenation with empty or all-NA entries is deprecated. In a future version, this will no longer exclude empty or all-NA columns when determining the result dtypes. To retain the old behavior, exclude the relevant entries before the concat operation.\n",
      "  df_combined = pd.concat([df_actuals, df_preds], ignore_index=True)\n",
      "2025-05-26 14:27:59,170 - build_training_set - INFO - 📦 Eindtabel bevat: 1920 rijen, 35 kolommen\n",
      "2025-05-26 14:27:59,170 - build_training_set - INFO - 🧾 Kolommen: ['Price', 'target_datetime', 'Load', 'shortwave_radiation', 'temperature_2m', 'direct_normal_irradiance', 'diffuse_radiation', 'Flow_NO', 'yearday_cos', 'Flow_GB', 'month', 'is_dst', 'yearday_sin', 'is_non_working_day', 'hour_cos', 'is_weekend', 'cloud_cover', 'weekday_sin', 'hour_sin', 'weekday_cos', 'Flow_BE', 'Flow_DE', 'Flow_DK', 'Total_Flow', 'apparent_temperature', 'day_of_week', 'day_of_year', 'direct_radiation', 'hour', 'is_holiday', 'local_datetime', 'run_date', 'snowfall', 'wind_direction_10m', 'wind_speed_10m']\n",
      "2025-05-26 14:27:59,170 - build_training_set - INFO - ❓ Price NaN count: 0/1920 (0.0%)\n",
      "2025-05-26 14:27:59,202 - build_training_set - INFO - ✅ Opgeslagen als training_set in WARP.db\n",
      "2025-05-26 14:27:59,203 - build_training_set - INFO - 🔒 Verbinding gesloten\n",
      "2025-05-26 14:27:59,277 - build_training_set - INFO - 🚀 Start build van trainingset\n",
      "2025-05-26 14:27:59,278 - build_training_set - INFO - 🧠 Actuals van 2025-01-26 00:00:00+00:00 t/m 2025-04-08 23:00:00+00:00\n",
      "2025-05-26 14:27:59,278 - build_training_set - INFO - 📅 Forecast van run_date 2025-04-09 00:00:00+00:00, target range: 2025-04-09 00:00:00+00:00 → 2025-04-15 23:00:00+00:00\n",
      "2025-05-26 14:27:59,312 - build_training_set - INFO - ✅ Actuals geladen: 1752 rijen\n"
     ]
    },
    {
     "name": "stdout",
     "output_type": "stream",
     "text": [
      "Day 25: ✅ 168 predictions, Run: 04-08\n"
     ]
    },
    {
     "name": "stderr",
     "output_type": "stream",
     "text": [
      "2025-05-26 14:27:59,532 - build_training_set - INFO - ✅ Added actual prices to 168 forecast rows\n",
      "c:\\Users\\dai\\ENEXIS\\src\\utils\\build_training_set.py:106: FutureWarning: The behavior of DataFrame concatenation with empty or all-NA entries is deprecated. In a future version, this will no longer exclude empty or all-NA columns when determining the result dtypes. To retain the old behavior, exclude the relevant entries before the concat operation.\n",
      "  df_combined = pd.concat([df_actuals, df_preds], ignore_index=True)\n",
      "2025-05-26 14:27:59,541 - build_training_set - INFO - 📦 Eindtabel bevat: 1920 rijen, 35 kolommen\n",
      "2025-05-26 14:27:59,542 - build_training_set - INFO - 🧾 Kolommen: ['Price', 'target_datetime', 'Load', 'shortwave_radiation', 'temperature_2m', 'direct_normal_irradiance', 'diffuse_radiation', 'Flow_NO', 'yearday_cos', 'Flow_GB', 'month', 'is_dst', 'yearday_sin', 'is_non_working_day', 'hour_cos', 'is_weekend', 'cloud_cover', 'weekday_sin', 'hour_sin', 'weekday_cos', 'Flow_BE', 'Flow_DE', 'Flow_DK', 'Total_Flow', 'apparent_temperature', 'day_of_week', 'day_of_year', 'direct_radiation', 'hour', 'is_holiday', 'local_datetime', 'run_date', 'snowfall', 'wind_direction_10m', 'wind_speed_10m']\n",
      "2025-05-26 14:27:59,543 - build_training_set - INFO - ❓ Price NaN count: 0/1920 (0.0%)\n",
      "2025-05-26 14:27:59,585 - build_training_set - INFO - ✅ Opgeslagen als training_set in WARP.db\n",
      "2025-05-26 14:27:59,585 - build_training_set - INFO - 🔒 Verbinding gesloten\n",
      "2025-05-26 14:27:59,664 - build_training_set - INFO - 🚀 Start build van trainingset\n",
      "2025-05-26 14:27:59,665 - build_training_set - INFO - 🧠 Actuals van 2025-01-27 00:00:00+00:00 t/m 2025-04-09 23:00:00+00:00\n",
      "2025-05-26 14:27:59,666 - build_training_set - INFO - 📅 Forecast van run_date 2025-04-10 00:00:00+00:00, target range: 2025-04-10 00:00:00+00:00 → 2025-04-16 23:00:00+00:00\n",
      "2025-05-26 14:27:59,701 - build_training_set - INFO - ✅ Actuals geladen: 1752 rijen\n"
     ]
    },
    {
     "name": "stdout",
     "output_type": "stream",
     "text": [
      "Day 26: ✅ 168 predictions, Run: 04-09\n"
     ]
    },
    {
     "name": "stderr",
     "output_type": "stream",
     "text": [
      "2025-05-26 14:27:59,906 - build_training_set - INFO - ✅ Added actual prices to 168 forecast rows\n",
      "c:\\Users\\dai\\ENEXIS\\src\\utils\\build_training_set.py:106: FutureWarning: The behavior of DataFrame concatenation with empty or all-NA entries is deprecated. In a future version, this will no longer exclude empty or all-NA columns when determining the result dtypes. To retain the old behavior, exclude the relevant entries before the concat operation.\n",
      "  df_combined = pd.concat([df_actuals, df_preds], ignore_index=True)\n",
      "2025-05-26 14:27:59,922 - build_training_set - INFO - 📦 Eindtabel bevat: 1920 rijen, 35 kolommen\n",
      "2025-05-26 14:27:59,923 - build_training_set - INFO - 🧾 Kolommen: ['Price', 'target_datetime', 'Load', 'shortwave_radiation', 'temperature_2m', 'direct_normal_irradiance', 'diffuse_radiation', 'Flow_NO', 'yearday_cos', 'Flow_GB', 'month', 'is_dst', 'yearday_sin', 'is_non_working_day', 'hour_cos', 'is_weekend', 'cloud_cover', 'weekday_sin', 'hour_sin', 'weekday_cos', 'Flow_BE', 'Flow_DE', 'Flow_DK', 'Total_Flow', 'apparent_temperature', 'day_of_week', 'day_of_year', 'direct_radiation', 'hour', 'is_holiday', 'local_datetime', 'run_date', 'snowfall', 'wind_direction_10m', 'wind_speed_10m']\n",
      "2025-05-26 14:27:59,924 - build_training_set - INFO - ❓ Price NaN count: 0/1920 (0.0%)\n",
      "2025-05-26 14:27:59,959 - build_training_set - INFO - ✅ Opgeslagen als training_set in WARP.db\n",
      "2025-05-26 14:27:59,964 - build_training_set - INFO - 🔒 Verbinding gesloten\n",
      "2025-05-26 14:28:00,057 - build_training_set - INFO - 🚀 Start build van trainingset\n",
      "2025-05-26 14:28:00,057 - build_training_set - INFO - 🧠 Actuals van 2025-01-28 00:00:00+00:00 t/m 2025-04-10 23:00:00+00:00\n",
      "2025-05-26 14:28:00,058 - build_training_set - INFO - 📅 Forecast van run_date 2025-04-11 00:00:00+00:00, target range: 2025-04-11 00:00:00+00:00 → 2025-04-17 23:00:00+00:00\n",
      "2025-05-26 14:28:00,087 - build_training_set - INFO - ✅ Actuals geladen: 1752 rijen\n"
     ]
    },
    {
     "name": "stdout",
     "output_type": "stream",
     "text": [
      "Day 27: ✅ 168 predictions, Run: 04-10\n"
     ]
    },
    {
     "name": "stderr",
     "output_type": "stream",
     "text": [
      "2025-05-26 14:28:00,297 - build_training_set - INFO - ✅ Added actual prices to 168 forecast rows\n",
      "c:\\Users\\dai\\ENEXIS\\src\\utils\\build_training_set.py:106: FutureWarning: The behavior of DataFrame concatenation with empty or all-NA entries is deprecated. In a future version, this will no longer exclude empty or all-NA columns when determining the result dtypes. To retain the old behavior, exclude the relevant entries before the concat operation.\n",
      "  df_combined = pd.concat([df_actuals, df_preds], ignore_index=True)\n",
      "2025-05-26 14:28:00,304 - build_training_set - INFO - 📦 Eindtabel bevat: 1920 rijen, 35 kolommen\n",
      "2025-05-26 14:28:00,304 - build_training_set - INFO - 🧾 Kolommen: ['Price', 'target_datetime', 'Load', 'shortwave_radiation', 'temperature_2m', 'direct_normal_irradiance', 'diffuse_radiation', 'Flow_NO', 'yearday_cos', 'Flow_GB', 'month', 'is_dst', 'yearday_sin', 'is_non_working_day', 'hour_cos', 'is_weekend', 'cloud_cover', 'weekday_sin', 'hour_sin', 'weekday_cos', 'Flow_BE', 'Flow_DE', 'Flow_DK', 'Total_Flow', 'apparent_temperature', 'day_of_week', 'day_of_year', 'direct_radiation', 'hour', 'is_holiday', 'local_datetime', 'run_date', 'snowfall', 'wind_direction_10m', 'wind_speed_10m']\n",
      "2025-05-26 14:28:00,311 - build_training_set - INFO - ❓ Price NaN count: 0/1920 (0.0%)\n",
      "2025-05-26 14:28:00,336 - build_training_set - INFO - ✅ Opgeslagen als training_set in WARP.db\n",
      "2025-05-26 14:28:00,336 - build_training_set - INFO - 🔒 Verbinding gesloten\n",
      "2025-05-26 14:28:00,421 - build_training_set - INFO - 🚀 Start build van trainingset\n",
      "2025-05-26 14:28:00,421 - build_training_set - INFO - 🧠 Actuals van 2025-01-29 00:00:00+00:00 t/m 2025-04-11 23:00:00+00:00\n",
      "2025-05-26 14:28:00,421 - build_training_set - INFO - 📅 Forecast van run_date 2025-04-12 00:00:00+00:00, target range: 2025-04-12 00:00:00+00:00 → 2025-04-18 23:00:00+00:00\n",
      "2025-05-26 14:28:00,452 - build_training_set - INFO - ✅ Actuals geladen: 1752 rijen\n"
     ]
    },
    {
     "name": "stdout",
     "output_type": "stream",
     "text": [
      "Day 28: ✅ 168 predictions, Run: 04-11\n"
     ]
    },
    {
     "name": "stderr",
     "output_type": "stream",
     "text": [
      "2025-05-26 14:28:00,650 - build_training_set - INFO - ✅ Added actual prices to 168 forecast rows\n",
      "c:\\Users\\dai\\ENEXIS\\src\\utils\\build_training_set.py:106: FutureWarning: The behavior of DataFrame concatenation with empty or all-NA entries is deprecated. In a future version, this will no longer exclude empty or all-NA columns when determining the result dtypes. To retain the old behavior, exclude the relevant entries before the concat operation.\n",
      "  df_combined = pd.concat([df_actuals, df_preds], ignore_index=True)\n",
      "2025-05-26 14:28:00,662 - build_training_set - INFO - 📦 Eindtabel bevat: 1920 rijen, 35 kolommen\n",
      "2025-05-26 14:28:00,663 - build_training_set - INFO - 🧾 Kolommen: ['Price', 'target_datetime', 'Load', 'shortwave_radiation', 'temperature_2m', 'direct_normal_irradiance', 'diffuse_radiation', 'Flow_NO', 'yearday_cos', 'Flow_GB', 'month', 'is_dst', 'yearday_sin', 'is_non_working_day', 'hour_cos', 'is_weekend', 'cloud_cover', 'weekday_sin', 'hour_sin', 'weekday_cos', 'Flow_BE', 'Flow_DE', 'Flow_DK', 'Total_Flow', 'apparent_temperature', 'day_of_week', 'day_of_year', 'direct_radiation', 'hour', 'is_holiday', 'local_datetime', 'run_date', 'snowfall', 'wind_direction_10m', 'wind_speed_10m']\n",
      "2025-05-26 14:28:00,665 - build_training_set - INFO - ❓ Price NaN count: 0/1920 (0.0%)\n",
      "2025-05-26 14:28:00,685 - build_training_set - INFO - ✅ Opgeslagen als training_set in WARP.db\n",
      "2025-05-26 14:28:00,685 - build_training_set - INFO - 🔒 Verbinding gesloten\n",
      "2025-05-26 14:28:00,776 - build_training_set - INFO - 🚀 Start build van trainingset\n",
      "2025-05-26 14:28:00,777 - build_training_set - INFO - 🧠 Actuals van 2025-01-30 00:00:00+00:00 t/m 2025-04-12 23:00:00+00:00\n",
      "2025-05-26 14:28:00,777 - build_training_set - INFO - 📅 Forecast van run_date 2025-04-13 00:00:00+00:00, target range: 2025-04-13 00:00:00+00:00 → 2025-04-19 23:00:00+00:00\n",
      "2025-05-26 14:28:00,809 - build_training_set - INFO - ✅ Actuals geladen: 1752 rijen\n"
     ]
    },
    {
     "name": "stdout",
     "output_type": "stream",
     "text": [
      "Day 29: ✅ 168 predictions, Run: 04-12\n"
     ]
    },
    {
     "name": "stderr",
     "output_type": "stream",
     "text": [
      "2025-05-26 14:28:01,026 - build_training_set - INFO - ✅ Added actual prices to 168 forecast rows\n",
      "c:\\Users\\dai\\ENEXIS\\src\\utils\\build_training_set.py:106: FutureWarning: The behavior of DataFrame concatenation with empty or all-NA entries is deprecated. In a future version, this will no longer exclude empty or all-NA columns when determining the result dtypes. To retain the old behavior, exclude the relevant entries before the concat operation.\n",
      "  df_combined = pd.concat([df_actuals, df_preds], ignore_index=True)\n",
      "2025-05-26 14:28:01,037 - build_training_set - INFO - 📦 Eindtabel bevat: 1920 rijen, 35 kolommen\n",
      "2025-05-26 14:28:01,037 - build_training_set - INFO - 🧾 Kolommen: ['Price', 'target_datetime', 'Load', 'shortwave_radiation', 'temperature_2m', 'direct_normal_irradiance', 'diffuse_radiation', 'Flow_NO', 'yearday_cos', 'Flow_GB', 'month', 'is_dst', 'yearday_sin', 'is_non_working_day', 'hour_cos', 'is_weekend', 'cloud_cover', 'weekday_sin', 'hour_sin', 'weekday_cos', 'Flow_BE', 'Flow_DE', 'Flow_DK', 'Total_Flow', 'apparent_temperature', 'day_of_week', 'day_of_year', 'direct_radiation', 'hour', 'is_holiday', 'local_datetime', 'run_date', 'snowfall', 'wind_direction_10m', 'wind_speed_10m']\n",
      "2025-05-26 14:28:01,037 - build_training_set - INFO - ❓ Price NaN count: 0/1920 (0.0%)\n",
      "2025-05-26 14:28:01,067 - build_training_set - INFO - ✅ Opgeslagen als training_set in WARP.db\n",
      "2025-05-26 14:28:01,067 - build_training_set - INFO - 🔒 Verbinding gesloten\n"
     ]
    },
    {
     "name": "stdout",
     "output_type": "stream",
     "text": [
      "Day 30: ✅ 168 predictions, Run: 04-13\n",
      "\n",
      "📊 RMSE MATRIX - Naive Model (168h lag)\n",
      "================================================================================\n",
      "Successful runs: 30/30\n",
      " iteration   run_date  Day_1  Day_2  Day_3  Day_4  Day_5  Day_6  Day_7\n",
      "         1 2025-03-15   0.03   0.01   0.03   0.05   0.05   0.05   0.06\n",
      "         2 2025-03-16   0.01   0.03   0.05   0.05   0.05   0.06   0.07\n",
      "         3 2025-03-17   0.03   0.05   0.05   0.05   0.06   0.07   0.02\n",
      "         4 2025-03-18   0.05   0.05   0.05   0.06   0.07   0.02   0.04\n",
      "         5 2025-03-19   0.05   0.05   0.06   0.07   0.02   0.04   0.04\n",
      "         6 2025-03-20   0.05   0.06   0.07   0.02   0.04   0.04   0.04\n",
      "         7 2025-03-21   0.06   0.07   0.02   0.04   0.04   0.04   0.03\n",
      "         8 2025-03-22   0.07   0.02   0.04   0.04   0.04   0.03   0.04\n",
      "         9 2025-03-23   0.02   0.04   0.04   0.04   0.03   0.04   0.06\n",
      "        10 2025-03-24   0.04   0.04   0.04   0.03   0.04   0.06   0.07\n",
      "        11 2025-03-25   0.04   0.04   0.03   0.04   0.06   0.07   0.04\n",
      "        12 2025-03-26   0.04   0.03   0.04   0.06   0.07   0.04   0.04\n",
      "        13 2025-03-27   0.03   0.04   0.06   0.07   0.04   0.04   0.08\n",
      "        14 2025-03-28   0.04   0.06   0.07   0.04   0.04   0.08   0.03\n",
      "        15 2025-03-29   0.06   0.07   0.04   0.04   0.08   0.03   0.02\n",
      "        16 2025-03-30   0.07   0.04   0.04   0.08   0.03   0.02   0.05\n",
      "        17 2025-03-31   0.04   0.04   0.08   0.03   0.02   0.05   0.05\n",
      "        18 2025-04-01   0.04   0.08   0.03   0.02   0.05   0.05   0.02\n",
      "        19 2025-04-02   0.08   0.03   0.02   0.05   0.05   0.02   0.02\n",
      "        20 2025-04-03   0.03   0.02   0.05   0.05   0.02   0.02   0.04\n",
      "        21 2025-04-04   0.02   0.05   0.05   0.02   0.02   0.04   0.03\n",
      "        22 2025-04-05   0.05   0.05   0.02   0.02   0.04   0.03   0.02\n",
      "        23 2025-04-06   0.05   0.02   0.02   0.04   0.03   0.02   0.02\n",
      "        24 2025-04-07   0.02   0.02   0.04   0.03   0.02   0.02   0.04\n",
      "        25 2025-04-08   0.02   0.04   0.03   0.02   0.02   0.04   0.02\n",
      "        26 2025-04-09   0.04   0.03   0.02   0.02   0.04   0.02   0.03\n",
      "        27 2025-04-10   0.03   0.02   0.02   0.04   0.02   0.03   0.02\n",
      "        28 2025-04-11   0.02   0.02   0.04   0.02   0.03   0.02   0.03\n",
      "        29 2025-04-12   0.02   0.04   0.02   0.03   0.02   0.03   0.04\n",
      "        30 2025-04-13   0.04   0.02   0.03   0.02   0.03   0.04   0.02\n",
      "\n",
      "📈 SUMMARY STATISTICS\n",
      "----------------------------------------\n",
      "       Day_1  Day_2  Day_3  Day_4  Day_5  Day_6  Day_7\n",
      "count  30.00  30.00  30.00  30.00  30.00  30.00  30.00\n",
      "mean    0.04   0.04   0.04   0.04   0.04   0.04   0.04\n",
      "std     0.02   0.02   0.02   0.02   0.02   0.02   0.02\n",
      "min     0.01   0.01   0.02   0.02   0.02   0.02   0.02\n",
      "25%     0.03   0.02   0.03   0.02   0.02   0.02   0.02\n",
      "50%     0.04   0.04   0.04   0.04   0.04   0.04   0.04\n",
      "75%     0.05   0.05   0.05   0.05   0.05   0.05   0.04\n",
      "max     0.08   0.08   0.08   0.08   0.08   0.08   0.08\n",
      "\n",
      "📊 AVERAGE RMSE PER FORECAST DAY\n",
      "----------------------------------------\n",
      "Day_1: 0.04\n",
      "Day_2: 0.04\n",
      "Day_3: 0.04\n",
      "Day_4: 0.04\n",
      "Day_5: 0.04\n",
      "Day_6: 0.04\n",
      "Day_7: 0.04\n"
     ]
    }
   ],
   "source": [
    "# RMSE Matrix for Naive Model (168h lag) - 7 day forecast horizon\n",
    "import pandas as pd\n",
    "import numpy as np\n",
    "from sklearn.metrics import mean_squared_error\n",
    "\n",
    "# Test parameters\n",
    "base_start = \"2025-01-01 00:00:00\"\n",
    "base_end = \"2025-03-14 23:00:00\" \n",
    "base_run = \"2025-03-15 00:00:00\"\n",
    "\n",
    "# Storage for results\n",
    "rmse_results = []\n",
    "\n",
    "print(\"🔍 Testing Naive Model (168h lag) - RMSE per forecast day\")\n",
    "print(\"=\" * 60)\n",
    "\n",
    "for i in range(30):  # 30 rolling windows\n",
    "    # Shift dates\n",
    "    start = pd.Timestamp(base_start) + pd.Timedelta(days=i)\n",
    "    end = pd.Timestamp(base_end) + pd.Timedelta(days=i)\n",
    "    run = pd.Timestamp(base_run) + pd.Timedelta(days=i)\n",
    "    \n",
    "    try:\n",
    "        # Get training set\n",
    "        df = build_training_set(\n",
    "            train_start=start.strftime(\"%Y-%m-%d %H:%M:%S\"),\n",
    "            train_end=end.strftime(\"%Y-%m-%d %H:%M:%S\"),\n",
    "            run_date=run.strftime(\"%Y-%m-%d %H:%M:%S\")\n",
    "        )\n",
    "        \n",
    "        if df is not None and len(df) > 0:\n",
    "            # Split into training and forecast periods\n",
    "            train_cutoff = pd.Timestamp(end, tz=\"UTC\")\n",
    "            forecast_data = df[df['target_datetime'] > train_cutoff].copy()\n",
    "            \n",
    "            # Check if we have forecast data with actual prices\n",
    "            if len(forecast_data) > 0 and forecast_data['Price'].notna().sum() > 0:\n",
    "                # Sort by datetime\n",
    "                forecast_data = forecast_data.sort_values('target_datetime').reset_index(drop=True)\n",
    "                \n",
    "                # Create naive predictions (lag 168 hours = 7 days)\n",
    "                # For each forecast hour, predict using price from 168 hours ago\n",
    "                forecast_data['naive_prediction'] = np.nan\n",
    "                \n",
    "                for idx, row in forecast_data.iterrows():\n",
    "                    target_time = row['target_datetime']\n",
    "                    lag_time = target_time - pd.Timedelta(hours=168)\n",
    "                    \n",
    "                    # Find the lagged price in the full dataset\n",
    "                    lagged_price = df[df['target_datetime'] == lag_time]['Price']\n",
    "                    if len(lagged_price) > 0 and lagged_price.iloc[0] is not pd.NA:\n",
    "                        forecast_data.loc[idx, 'naive_prediction'] = lagged_price.iloc[0]\n",
    "                \n",
    "                # Remove rows where we couldn't make predictions or don't have actuals\n",
    "                valid_data = forecast_data.dropna(subset=['Price', 'naive_prediction'])\n",
    "                \n",
    "                if len(valid_data) > 0:\n",
    "                    # Calculate RMSE per day (group by day of forecast)\n",
    "                    valid_data['forecast_hour'] = range(len(valid_data))\n",
    "                    valid_data['forecast_day'] = (valid_data['forecast_hour'] // 24) + 1\n",
    "                    \n",
    "                    # Limit to 7 days (168 hours)\n",
    "                    valid_data = valid_data[valid_data['forecast_day'] <= 7]\n",
    "                    \n",
    "                    day_rmses = {}\n",
    "                    for day in range(1, 8):  # Days 1-7\n",
    "                        day_data = valid_data[valid_data['forecast_day'] == day]\n",
    "                        if len(day_data) > 0:\n",
    "                            rmse = np.sqrt(mean_squared_error(day_data['Price'], day_data['naive_prediction']))\n",
    "                            day_rmses[f'Day_{day}'] = rmse\n",
    "                        else:\n",
    "                            day_rmses[f'Day_{day}'] = np.nan\n",
    "                    \n",
    "                    # Store results\n",
    "                    result = {\n",
    "                        'iteration': i+1,\n",
    "                        'run_date': run.strftime('%Y-%m-%d'),\n",
    "                        'valid_predictions': len(valid_data),\n",
    "                        **day_rmses\n",
    "                    }\n",
    "                    rmse_results.append(result)\n",
    "                    \n",
    "                    print(f\"Day {i+1}: ✅ {len(valid_data)} predictions, Run: {run.strftime('%m-%d')}\")\n",
    "                else:\n",
    "                    print(f\"Day {i+1}: ❌ No valid predictions (missing lag data)\")\n",
    "            else:\n",
    "                print(f\"Day {i+1}: ❌ No forecast data with actual prices\")\n",
    "        else:\n",
    "            print(f\"Day {i+1}: ❌ No training data\")\n",
    "            \n",
    "    except Exception as e:\n",
    "        print(f\"Day {i+1}: ❌ Error: {e}\")\n",
    "\n",
    "# Create RMSE matrix\n",
    "if rmse_results:\n",
    "    rmse_df = pd.DataFrame(rmse_results)\n",
    "    \n",
    "    print(f\"\\n📊 RMSE MATRIX - Naive Model (168h lag)\")\n",
    "    print(\"=\" * 80)\n",
    "    print(f\"Successful runs: {len(rmse_df)}/30\")\n",
    "    \n",
    "    # Show the matrix\n",
    "    day_columns = [f'Day_{i}' for i in range(1, 8)]\n",
    "    available_day_cols = [col for col in day_columns if col in rmse_df.columns]\n",
    "    \n",
    "    if available_day_cols:\n",
    "        display_cols = ['iteration', 'run_date'] + available_day_cols\n",
    "        print(rmse_df[display_cols].round(2).to_string(index=False))\n",
    "        \n",
    "        # Summary statistics\n",
    "        print(f\"\\n📈 SUMMARY STATISTICS\")\n",
    "        print(\"-\" * 40)\n",
    "        summary = rmse_df[available_day_cols].describe().round(2)\n",
    "        print(summary)\n",
    "        \n",
    "        # Average RMSE per day\n",
    "        print(f\"\\n📊 AVERAGE RMSE PER FORECAST DAY\")\n",
    "        print(\"-\" * 40)\n",
    "        avg_rmse = rmse_df[available_day_cols].mean().round(2)\n",
    "        for day, rmse in avg_rmse.items():\n",
    "            print(f\"{day}: {rmse:.2f}\")\n",
    "    else:\n",
    "        print(\"❌ No valid RMSE calculations found\")\n",
    "else:\n",
    "    print(\"❌ No results generated\")"
   ]
  }
 ],
 "metadata": {
  "kernelspec": {
   "display_name": "Python 3",
   "language": "python",
   "name": "python3"
  },
  "language_info": {
   "codemirror_mode": {
    "name": "ipython",
    "version": 3
   },
   "file_extension": ".py",
   "mimetype": "text/x-python",
   "name": "python",
   "nbconvert_exporter": "python",
   "pygments_lexer": "ipython3",
   "version": "3.11.9"
  }
 },
 "nbformat": 4,
 "nbformat_minor": 5
}
