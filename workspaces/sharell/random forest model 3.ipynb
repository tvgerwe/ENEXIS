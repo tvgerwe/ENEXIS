{
 "cells": [
  {
   "cell_type": "code",
   "execution_count": null,
   "id": "d9deec62",
   "metadata": {},
   "outputs": [],
   "source": [
    "import sqlite3\n",
    "import pandas as pd\n",
    "\n",
    "# Pad naar de SQLite-database\n",
    "db_path = 'C:/Users/shba/Documents/JADS project/ENEXIS/src/data/WARP2.db'\n",
    "\n",
    "# Maak verbinding met de database\n",
    "conn = sqlite3.connect(db_path)\n",
    "\n",
    "# Lees de 'raw_entsoe_obs'-tabel in een Pandas DataFrame\n",
    "query = \"SELECT * FROM master_warp\"\n",
    "df = pd.read_sql_query(query, conn)\n",
    "\n",
    "# Sluit de verbinding\n",
    "conn.close()\n",
    "\n",
    "print(df.head())\n"
   ]
  }
 ],
 "metadata": {
  "language_info": {
   "name": "python"
  }
 },
 "nbformat": 4,
 "nbformat_minor": 5
}
