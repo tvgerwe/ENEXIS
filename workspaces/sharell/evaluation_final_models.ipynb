{
 "cells": [
  {
   "cell_type": "code",
   "execution_count": 15,
   "id": "e4037333",
   "metadata": {},
   "outputs": [
    {
     "name": "stdout",
     "output_type": "stream",
     "text": [
      "                    run_date            target_datetime  predicted_Price  \\\n",
      "0  2025-03-15 00:00:00+00:00  2025-03-16 01:00:00+00:00         0.093036   \n",
      "1  2025-03-15 00:00:00+00:00  2025-03-16 02:00:00+00:00         0.091816   \n",
      "2  2025-03-15 00:00:00+00:00  2025-03-16 03:00:00+00:00         0.092445   \n",
      "3  2025-03-15 00:00:00+00:00  2025-03-16 04:00:00+00:00         0.093663   \n",
      "4  2025-03-15 00:00:00+00:00  2025-03-16 05:00:00+00:00         0.093793   \n",
      "\n",
      "   actual_Price  oxygent_price  naive_price  \n",
      "0       0.08579          0.083      0.08680  \n",
      "1       0.07962          0.079      0.08570  \n",
      "2       0.07818          0.074      0.09586  \n",
      "3       0.07860          0.073      0.09772  \n",
      "4       0.08051          0.076      0.09985  \n"
     ]
    }
   ],
   "source": [
    "import pandas as pd\n",
    "from sklearn.metrics import mean_squared_error\n",
    "import numpy as np\n",
    "\n",
    "df = pd.read_csv('random_forest_predictions_with_actuals.csv')\n",
    "print(df.head())"
   ]
  },
  {
   "cell_type": "markdown",
   "id": "61b66bb4",
   "metadata": {},
   "source": [
    "# GENERAL PERFORMANCE METRICS\n"
   ]
  },
  {
   "cell_type": "code",
   "execution_count": 16,
   "id": "df6fef03",
   "metadata": {},
   "outputs": [
    {
     "name": "stdout",
     "output_type": "stream",
     "text": [
      "                 Missing Count  Missing Percentage\n",
      "run_date                     0                0.00\n",
      "target_datetime              0                0.00\n",
      "predicted_Price              0                0.00\n",
      "actual_Price                 0                0.00\n",
      "oxygent_price                6                0.14\n",
      "naive_price                  0                0.00\n"
     ]
    }
   ],
   "source": [
    "# Calculate missing values count and percentage\n",
    "missing_values = pd.DataFrame({\n",
    "    'Missing Count': df.isnull().sum(),\n",
    "    'Missing Percentage': (df.isnull().sum() / len(df) * 100).round(2)\n",
    "})\n",
    "print(missing_values)"
   ]
  },
  {
   "cell_type": "code",
   "execution_count": 17,
   "id": "cf01b57a",
   "metadata": {},
   "outputs": [],
   "source": [
    "df['oxygent_price'] = df['oxygent_price'].fillna(df['predicted_Price'])"
   ]
  },
  {
   "cell_type": "code",
   "execution_count": 18,
   "id": "49008333",
   "metadata": {},
   "outputs": [
    {
     "name": "stdout",
     "output_type": "stream",
     "text": [
      "           Model      RMSE       MAE\n",
      "0  Random Forest  0.035374  0.025476\n",
      "1        Oxygent  0.077176  0.058853\n",
      "2          Naive  0.042212  0.030525\n"
     ]
    }
   ],
   "source": [
    "from sklearn.metrics import mean_squared_error, mean_absolute_error\n",
    "import numpy as np\n",
    "\n",
    "# Calculate metrics for each model\n",
    "results = {\n",
    "    'Model': ['Random Forest', 'Oxygent', 'Naive'],\n",
    "    'RMSE': [\n",
    "        np.sqrt(mean_squared_error(df['actual_Price'], df['predicted_Price'])),\n",
    "        np.sqrt(mean_squared_error(df['actual_Price'], df['oxygent_price'])),\n",
    "        np.sqrt(mean_squared_error(df['actual_Price'], df['naive_price']))\n",
    "    ],\n",
    "    'MAE': [\n",
    "        mean_absolute_error(df['actual_Price'], df['predicted_Price']),\n",
    "        mean_absolute_error(df['actual_Price'], df['oxygent_price']),\n",
    "        mean_absolute_error(df['actual_Price'], df['naive_price'])\n",
    "    ]\n",
    "}\n",
    "\n",
    "# Create results DataFrame and round to 6 decimal places\n",
    "results_df = pd.DataFrame(results).round(6)\n",
    "print(results_df)"
   ]
  },
  {
   "cell_type": "code",
   "execution_count": 19,
   "id": "faf1edb6",
   "metadata": {},
   "outputs": [
    {
     "name": "stdout",
     "output_type": "stream",
     "text": [
      "forecast_horizon\n",
      "2.0    720\n",
      "3.0    720\n",
      "4.0    720\n",
      "5.0    720\n",
      "6.0    720\n",
      "7.0    720\n",
      "Name: count, dtype: int64\n"
     ]
    }
   ],
   "source": [
    "import numpy as np\n",
    "# Count number of samples per forecast horizon\n",
    "df['forecast_horizon'] = np.ceil((pd.to_datetime(df['target_datetime']) - pd.to_datetime(df['run_date'])).dt.total_seconds()/(24*3600))\n",
    "print(df['forecast_horizon'].value_counts().sort_index())"
   ]
  },
  {
   "cell_type": "code",
   "execution_count": 22,
   "id": "2cf2f075",
   "metadata": {
    "vscode": {
     "languageId": "ruby"
    }
   },
   "outputs": [
    {
     "name": "stdout",
     "output_type": "stream",
     "text": [
      "         Random Forest   Oxygent     Naive\n",
      "Horizon                                   \n",
      "2             0.035640  0.074895  0.042605\n",
      "3             0.035503  0.082894  0.042836\n",
      "4             0.036082  0.077497  0.042669\n",
      "5             0.034965  0.078746  0.042153\n",
      "6             0.033881  0.076152  0.041907\n",
      "7             0.036122  0.072460  0.041073\n"
     ]
    }
   ],
   "source": [
    "\n",
    "# Initialize empty dictionary with lists\n",
    "horizon_results = {\n",
    "    'Horizon': [],\n",
    "    'Random Forest': [],\n",
    "    'Oxygent': [],\n",
    "    'Naive': []\n",
    "}\n",
    "\n",
    "# Fill lists with results\n",
    "for h in horizons:\n",
    "    horizon_data = df[df['forecast_horizon'] == h]\n",
    "    horizon_results['Horizon'].append(h)\n",
    "    horizon_results['Random Forest'].append(np.sqrt(mean_squared_error(horizon_data['actual_Price'], horizon_data['predicted_Price'])))\n",
    "    horizon_results['Oxygent'].append(np.sqrt(mean_squared_error(horizon_data['actual_Price'], horizon_data['oxygent_price'])))\n",
    "    horizon_results['Naive'].append(np.sqrt(mean_squared_error(horizon_data['actual_Price'], horizon_data['naive_price'])))\n",
    "\n",
    "# Create and format results DataFrame\n",
    "horizon_results_df = pd.DataFrame(horizon_results).set_index('Horizon').round(6)\n",
    "print(horizon_results_df)\n"
   ]
  },
  {
   "cell_type": "code",
   "execution_count": 23,
   "id": "87348406",
   "metadata": {},
   "outputs": [
    {
     "name": "stdout",
     "output_type": "stream",
     "text": [
      "           Model      Bias       MAE      RMSE\n",
      "0  Random Forest  0.003132  0.025476  0.035374\n",
      "1        Oxygent  0.006267  0.058853  0.077176\n",
      "2          Naive  0.006511  0.030525  0.042212\n"
     ]
    }
   ],
   "source": [
    "# Calculate bias and metrics for each model\n",
    "bias_results = {\n",
    "    'Model': ['Random Forest', 'Oxygent', 'Naive'],\n",
    "    'Bias': [\n",
    "        (df['predicted_Price'] - df['actual_Price']).mean(),\n",
    "        (df['oxygent_price'] - df['actual_Price']).mean(),\n",
    "        (df['naive_price'] - df['actual_Price']).mean()\n",
    "    ],\n",
    "    'MAE': [\n",
    "        mean_absolute_error(df['actual_Price'], df['predicted_Price']),\n",
    "        mean_absolute_error(df['actual_Price'], df['oxygent_price']),\n",
    "        mean_absolute_error(df['actual_Price'], df['naive_price'])\n",
    "    ],\n",
    "    'RMSE': [\n",
    "        np.sqrt(mean_squared_error(df['actual_Price'], df['predicted_Price'])),\n",
    "        np.sqrt(mean_squared_error(df['actual_Price'], df['oxygent_price'])),\n",
    "        np.sqrt(mean_squared_error(df['actual_Price'], df['naive_price']))\n",
    "    ]\n",
    "}\n",
    "\n",
    "# Create DataFrame and round results to 6 decimal places\n",
    "bias_results_df = pd.DataFrame(bias_results).round(6)\n",
    "print(bias_results_df)"
   ]
  },
  {
   "cell_type": "markdown",
   "id": "9254f65c",
   "metadata": {},
   "source": [
    "De **bias**-waarden geven aan of een model structureel te hoog of te laag voorspelt ten opzichte van de werkelijke waarde:\n",
    "\n",
    "- **Bias = gemiddeld(Voorspelling - Werkelijk)**  \n",
    "  - Een **positieve bias** betekent dat het model gemiddeld te hoge waarden voorspelt (overschatting).\n",
    "  - Een **negatieve bias** betekent dat het model gemiddeld te lage waarden voorspelt (onderschatting).\n",
    "  - Een **bias dichtbij 0** betekent dat het model gemiddeld genomen geen structurele overschatting of onderschatting heeft.\n",
    "\n",
    "**Voorbeeld:**  \n",
    "- Bias van +2: het model voorspelt gemiddeld 2 eenheden te hoog.\n",
    "- Bias van -1.5: het model voorspelt gemiddeld 1.5 eenheden te laag.\n",
    "\n",
    "**Let op:**  \n",
    "Een lage bias betekent niet automatisch dat het model goed is; het kan nog steeds grote fouten maken (hoge MAE of RMSE), zolang de overschattingen en onderschattingen elkaar maar ongeveer opheffen. Bias zegt dus alleen iets over de richting van de systematische fout, niet over de spreiding van de fouten."
   ]
  },
  {
   "cell_type": "markdown",
   "id": "71340df5",
   "metadata": {},
   "source": [
    "# PERFORMANCE RELATIVE TO MOST EXPENSIVE HOURS, WITHIN EACH RUN (SO 6 DAYS HORIZON)"
   ]
  },
  {
   "cell_type": "code",
   "execution_count": 24,
   "id": "5d0abfcb",
   "metadata": {},
   "outputs": [
    {
     "name": "stdout",
     "output_type": "stream",
     "text": [
      "           Model  Avg Overlap Cheap Hours  Avg Overlap Expensive Hours  \\\n",
      "0  Random Forest                   1.1333                       1.7667   \n",
      "1        Oxygent                   1.4667                       0.4333   \n",
      "2          Naive                   1.0333                       1.6000   \n",
      "\n",
      "   Avg Price Diff Cheap (€)  Avg Price Diff Expensive (€)  \n",
      "0                    0.0353                        0.0169  \n",
      "1                    0.0212                        0.0542  \n",
      "2                    0.0375                        0.0210  \n"
     ]
    }
   ],
   "source": [
    "# Initialize results dictionary\n",
    "comparison_results = {\n",
    "    'model': [],\n",
    "    'avg_overlap_cheap': [],\n",
    "    'avg_overlap_expensive': [],\n",
    "    'avg_price_diff_cheap': [],\n",
    "    'avg_price_diff_expensive': []\n",
    "}\n",
    "\n",
    "# Get unique run dates\n",
    "run_dates = df['run_date'].unique()\n",
    "\n",
    "# Analyze each run_date\n",
    "for run_date in run_dates:\n",
    "    # Get data for current run date\n",
    "    day_data = df[df['run_date'] == run_date]\n",
    "    \n",
    "    # Find actual cheapest and most expensive hours\n",
    "    actual_cheap = day_data.nsmallest(4, 'actual_Price')\n",
    "    actual_expensive = day_data.nlargest(4, 'actual_Price')\n",
    "    \n",
    "    # Calculate actual average prices for reference\n",
    "    actual_cheap_avg = actual_cheap['actual_Price'].mean()\n",
    "    actual_expensive_avg = actual_expensive['actual_Price'].mean()\n",
    "    \n",
    "    # Analyze each model\n",
    "    for model in ['predicted_Price', 'oxygent_price', 'naive_price']:\n",
    "        model_name = 'Random Forest' if model == 'predicted_Price' else ('Oxygent' if model == 'oxygent_price' else 'Naive')\n",
    "        \n",
    "        # Find model's predicted cheapest and most expensive hours\n",
    "        model_cheap = day_data.nsmallest(4, model)\n",
    "        model_expensive = day_data.nlargest(4, model)\n",
    "        \n",
    "        # Calculate overlaps\n",
    "        cheap_overlap = len(set(model_cheap.index) & set(actual_cheap.index))\n",
    "        expensive_overlap = len(set(model_expensive.index) & set(actual_expensive.index))\n",
    "        \n",
    "        # Calculate average prices for model's selections\n",
    "        model_cheap_actual_avg = day_data.loc[model_cheap.index, 'actual_Price'].mean()\n",
    "        model_expensive_actual_avg = day_data.loc[model_expensive.index, 'actual_Price'].mean()\n",
    "        \n",
    "        # Store results\n",
    "        if model_name not in comparison_results['model']:\n",
    "            comparison_results['model'].append(model_name)\n",
    "            comparison_results['avg_overlap_cheap'].append([])\n",
    "            comparison_results['avg_overlap_expensive'].append([])\n",
    "            comparison_results['avg_price_diff_cheap'].append([])\n",
    "            comparison_results['avg_price_diff_expensive'].append([])\n",
    "        \n",
    "        idx = comparison_results['model'].index(model_name)\n",
    "        comparison_results['avg_overlap_cheap'][idx].append(cheap_overlap)\n",
    "        comparison_results['avg_overlap_expensive'][idx].append(expensive_overlap)\n",
    "        comparison_results['avg_price_diff_cheap'][idx].append(model_cheap_actual_avg - actual_cheap_avg)\n",
    "        comparison_results['avg_price_diff_expensive'][idx].append(actual_expensive_avg - model_expensive_actual_avg)\n",
    "\n",
    "# Calculate final averages\n",
    "final_results = pd.DataFrame({\n",
    "    'Model': comparison_results['model'],\n",
    "    'Avg Overlap Cheap Hours': [np.mean(x) for x in comparison_results['avg_overlap_cheap']],\n",
    "    'Avg Overlap Expensive Hours': [np.mean(x) for x in comparison_results['avg_overlap_expensive']],\n",
    "    'Avg Price Diff Cheap (€)': [np.mean(x) for x in comparison_results['avg_price_diff_cheap']],\n",
    "    'Avg Price Diff Expensive (€)': [np.mean(x) for x in comparison_results['avg_price_diff_expensive']]\n",
    "}).round(4)\n",
    "\n",
    "print(final_results)"
   ]
  }
 ],
 "metadata": {
  "kernelspec": {
   "display_name": ".venv",
   "language": "python",
   "name": "python3"
  },
  "language_info": {
   "codemirror_mode": {
    "name": "ipython",
    "version": 3
   },
   "file_extension": ".py",
   "mimetype": "text/x-python",
   "name": "python",
   "nbconvert_exporter": "python",
   "pygments_lexer": "ipython3",
   "version": "3.12.6"
  }
 },
 "nbformat": 4,
 "nbformat_minor": 5
}
