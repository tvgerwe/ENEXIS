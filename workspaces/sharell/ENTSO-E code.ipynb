{
 "cells": [
  {
   "cell_type": "markdown",
   "metadata": {},
   "source": [
    "Download data van ENTSO-E"
   ]
  },
  {
   "cell_type": "code",
   "execution_count": 2,
   "metadata": {},
   "outputs": [
    {
     "name": "stdout",
     "output_type": "stream",
     "text": [
      "Fetching load data for 2022...\n",
      "Fetching load forecast for 2022...\n",
      "Fetching price data for 2022...\n"
     ]
    },
    {
     "name": "stderr",
     "output_type": "stream",
     "text": [
      "Connection Error, retrying in 0 seconds\n"
     ]
    },
    {
     "name": "stdout",
     "output_type": "stream",
     "text": [
      "Error: ('Connection aborted.', RemoteDisconnected('Remote end closed connection without response')), retrying in 5 seconds...\n",
      "Fetching cross-border flow from BE to NL for 2022...\n",
      "Fetching cross-border flow from NL to BE for 2022...\n",
      "Fetching cross-border flow from DE to NL for 2022...\n",
      "Fetching cross-border flow from NL to DE for 2022...\n",
      "Fetching cross-border flow from GB to NL for 2022...\n",
      "Fetching cross-border flow from NL to GB for 2022...\n",
      "Fetching cross-border flow from DK to NL for 2022...\n",
      "Fetching cross-border flow from NL to DK for 2022...\n",
      "Fetching cross-border flow from NO to NL for 2022...\n",
      "Fetching cross-border flow from NL to NO for 2022...\n",
      "Fetching load data for 2023...\n",
      "Fetching load forecast for 2023...\n",
      "Fetching price data for 2023...\n"
     ]
    },
    {
     "name": "stderr",
     "output_type": "stream",
     "text": [
      "Connection Error, retrying in 0 seconds\n"
     ]
    },
    {
     "name": "stdout",
     "output_type": "stream",
     "text": [
      "Error: ('Connection aborted.', RemoteDisconnected('Remote end closed connection without response')), retrying in 5 seconds...\n",
      "Fetching cross-border flow from BE to NL for 2023...\n",
      "Fetching cross-border flow from NL to BE for 2023...\n",
      "Fetching cross-border flow from DE to NL for 2023...\n",
      "Fetching cross-border flow from NL to DE for 2023...\n",
      "Fetching cross-border flow from GB to NL for 2023...\n",
      "Fetching cross-border flow from NL to GB for 2023...\n",
      "Fetching cross-border flow from DK to NL for 2023...\n",
      "Fetching cross-border flow from NL to DK for 2023...\n",
      "Fetching cross-border flow from NO to NL for 2023...\n",
      "Fetching cross-border flow from NL to NO for 2023...\n",
      "Fetching load data for 2024...\n",
      "Fetching load forecast for 2024...\n",
      "Fetching price data for 2024...\n"
     ]
    },
    {
     "name": "stderr",
     "output_type": "stream",
     "text": [
      "Connection Error, retrying in 0 seconds\n"
     ]
    },
    {
     "name": "stdout",
     "output_type": "stream",
     "text": [
      "Fetching cross-border flow from BE to NL for 2024...\n",
      "Error: ('Connection aborted.', RemoteDisconnected('Remote end closed connection without response')), retrying in 5 seconds...\n",
      "Fetching cross-border flow from NL to BE for 2024...\n",
      "Fetching cross-border flow from DE to NL for 2024...\n",
      "Fetching cross-border flow from NL to DE for 2024...\n",
      "Fetching cross-border flow from GB to NL for 2024...\n",
      "Fetching cross-border flow from NL to GB for 2024...\n",
      "Fetching cross-border flow from DK to NL for 2024...\n",
      "Fetching cross-border flow from NL to DK for 2024...\n",
      "Fetching cross-border flow from NO to NL for 2024...\n",
      "Fetching cross-border flow from NL to NO for 2024...\n",
      "Data saved successfully!\n"
     ]
    }
   ],
   "source": [
    "import pandas as pd\n",
    "from entsoe import EntsoePandasClient\n",
    "import time\n",
    "\n",
    "# Insert your API key here once you get it\n",
    "API_KEY = '82aa28d4-59f3-4e3a-b144-6659aa9415b5'\n",
    "\n",
    "# Initialize ENTSO-E client\n",
    "client = EntsoePandasClient(api_key=API_KEY)\n",
    "\n",
    "# Define parameters\n",
    "country_code = 'NL'\n",
    "neighboring_countries = ['BE', 'DE', 'GB', 'DK', 'NO']  # Pas dit aan op basis van de relevante buren\n",
    "years = [2022, 2023, 2024]  # List of years to fetch\n",
    "\n",
    "# Data storage\n",
    "all_data = []\n",
    "\n",
    "# Function to fetch data with retries\n",
    "def fetch_with_retries(fetch_func, *args, retries=3, delay=5, **kwargs):\n",
    "    for attempt in range(retries):\n",
    "        try:\n",
    "            return fetch_func(*args, **kwargs)\n",
    "        except Exception as e:\n",
    "            print(f\"Error: {e}, retrying in {delay} seconds...\")\n",
    "            time.sleep(delay)\n",
    "    raise Exception(f\"Failed to fetch data after {retries} attempts\")\n",
    "\n",
    "# Loop through each year and fetch data separately\n",
    "for year in years:\n",
    "    start = pd.Timestamp(f'{year}-01-01', tz='Europe/Amsterdam')\n",
    "    end = pd.Timestamp(f'{year+1}-01-01', tz='Europe/Amsterdam')  # Exclusive end\n",
    "\n",
    "    print(f\"Fetching load data for {year}...\")\n",
    "    yearly_load = fetch_with_retries(client.query_load, country_code, start=start, end=end).squeeze()  # Convert to 1D Series\n",
    "\n",
    "    print(f\"Fetching load forecast for {year}...\")\n",
    "    yearly_load_forecast = fetch_with_retries(client.query_load_forecast, country_code, start=start, end=end).squeeze()  # Convert to 1D Series\n",
    "\n",
    "    print(f\"Fetching price data for {year}...\")\n",
    "    yearly_price = fetch_with_retries(client.query_day_ahead_prices, country_code, start=start, end=end).squeeze()  # Convert to 1D Series\n",
    "\n",
    "    # Fetch cross-border flows\n",
    "    flow_data = {}\n",
    "    for neighbor in neighboring_countries:\n",
    "        print(f\"Fetching cross-border flow from {neighbor} to {country_code} for {year}...\")\n",
    "        yearly_flow_to = fetch_with_retries(client.query_crossborder_flows, country_code_from=neighbor, \n",
    "                                            country_code_to=country_code, start=start, end=end).squeeze()  # Convert to 1D Series\n",
    "        flow_data[f'Flow_{neighbor}_to_{country_code}'] = yearly_flow_to\n",
    "\n",
    "        print(f\"Fetching cross-border flow from {country_code} to {neighbor} for {year}...\")\n",
    "        yearly_flow_from = fetch_with_retries(client.query_crossborder_flows, country_code_from=country_code, \n",
    "                                              country_code_to=neighbor, start=start, end=end).squeeze()  # Convert to 1D Series\n",
    "        flow_data[f'Flow_{country_code}_to_{neighbor}'] = yearly_flow_from\n",
    "\n",
    "    # Merge all data\n",
    "    if not yearly_load.empty and not yearly_price.empty:\n",
    "        df = pd.DataFrame({'Load': yearly_load, 'Price': yearly_price})\n",
    "        for col_name, flow_series in flow_data.items():\n",
    "            if not flow_series.empty:\n",
    "                df[col_name] = flow_series\n",
    "\n",
    "        # Store yearly data\n",
    "        all_data.append(df)\n",
    "    else:\n",
    "        print(f\"No data for year {year}\")\n",
    "\n",
    "# Concatenate all years into one DataFrame if there is data\n",
    "if all_data:\n",
    "    final_data = pd.concat(all_data)\n",
    "    # Save to CSV\n",
    "    final_data.to_csv('electricity_data_nl_2022_2024.csv')\n",
    "    print(\"Data saved successfully!\")\n",
    "else:\n",
    "    print(\"No data to save.\")"
   ]
  },
  {
   "cell_type": "markdown",
   "metadata": {},
   "source": [
    "Read excel file + data per uur"
   ]
  },
  {
   "cell_type": "code",
   "execution_count": null,
   "metadata": {},
   "outputs": [
    {
     "name": "stdout",
     "output_type": "stream",
     "text": [
      "CSV file loaded successfully!\n",
      "Index converted to datetime with UTC!\n",
      "Data resampled to hourly frequency based on the past hour!\n",
      "Hourly data with flow saved successfully!\n"
     ]
    }
   ],
   "source": [
    "import pandas as pd\n",
    "from entsoe import EntsoePandasClient\n",
    "import time\n",
    "\n",
    "try:\n",
    "    # Load the existing CSV file\n",
    "    df = pd.read_csv('electricity_data_nl_2022_2024.csv', index_col=0, parse_dates=True)\n",
    "    print(\"CSV file loaded successfully!\")\n",
    "\n",
    "    # Ensure the index is datetime with UTC\n",
    "    df.index = pd.to_datetime(df.index, utc=True)\n",
    "    print(\"Index converted to datetime with UTC!\")\n",
    "\n",
    "    # Shift timestamps by 1 hour to calculate the mean for the past hour\n",
    "    df.index = df.index - pd.Timedelta(hours=1)\n",
    "\n",
    "    # Resample the data to hourly frequency and calculate the mean for each hour\n",
    "    df_hourly = df.resample('h').mean()\n",
    "    print(\"Data resampled to hourly frequency based on the past hour!\")\n",
    "\n",
    "    # Save the resampled data to a new CSV file\n",
    "    df_hourly.to_csv('electricity_data_nl_2022_2024_hourly.csv')\n",
    "    print(\"Hourly data with flow saved successfully!\")\n",
    "\n",
    "except FileNotFoundError:\n",
    "    print(\"Error: The file 'electricity_data_nl_2022_2024.csv' does not exist.\")\n",
    "except pd.errors.EmptyDataError:\n",
    "    print(\"Error: The file 'electricity_data_nl_2022_2024.csv' is empty.\")\n",
    "except Exception as e:\n",
    "    print(f\"An unexpected error occurred: {e}\")"
   ]
  },
  {
   "cell_type": "code",
   "execution_count": null,
   "metadata": {},
   "outputs": [],
   "source": [
    "#Nieuwe variabelen flow toevoegen (per land en totaal)"
   ]
  },
  {
   "cell_type": "code",
   "execution_count": 1,
   "metadata": {},
   "outputs": [
    {
     "ename": "NameError",
     "evalue": "name 'df_hourly' is not defined",
     "output_type": "error",
     "traceback": [
      "\u001b[1;31m---------------------------------------------------------------------------\u001b[0m",
      "\u001b[1;31mNameError\u001b[0m                                 Traceback (most recent call last)",
      "Cell \u001b[1;32mIn[1], line 4\u001b[0m\n\u001b[0;32m      1\u001b[0m neighboring_countries \u001b[38;5;241m=\u001b[39m [\u001b[38;5;124m'\u001b[39m\u001b[38;5;124mBE\u001b[39m\u001b[38;5;124m'\u001b[39m, \u001b[38;5;124m'\u001b[39m\u001b[38;5;124mDE\u001b[39m\u001b[38;5;124m'\u001b[39m, \u001b[38;5;124m'\u001b[39m\u001b[38;5;124mGB\u001b[39m\u001b[38;5;124m'\u001b[39m, \u001b[38;5;124m'\u001b[39m\u001b[38;5;124mDK\u001b[39m\u001b[38;5;124m'\u001b[39m, \u001b[38;5;124m'\u001b[39m\u001b[38;5;124mNO\u001b[39m\u001b[38;5;124m'\u001b[39m]\n\u001b[0;32m      3\u001b[0m \u001b[38;5;28;01mfor\u001b[39;00m neighbor \u001b[38;5;129;01min\u001b[39;00m neighboring_countries:\n\u001b[1;32m----> 4\u001b[0m     df_hourly[\u001b[38;5;124mf\u001b[39m\u001b[38;5;124m'\u001b[39m\u001b[38;5;124mFlow_\u001b[39m\u001b[38;5;132;01m{\u001b[39;00mneighbor\u001b[38;5;132;01m}\u001b[39;00m\u001b[38;5;124m'\u001b[39m] \u001b[38;5;241m=\u001b[39m \u001b[43mdf_hourly\u001b[49m[\u001b[38;5;124mf\u001b[39m\u001b[38;5;124m'\u001b[39m\u001b[38;5;124mFlow_\u001b[39m\u001b[38;5;132;01m{\u001b[39;00mneighbor\u001b[38;5;132;01m}\u001b[39;00m\u001b[38;5;124m_to_NL\u001b[39m\u001b[38;5;124m'\u001b[39m] \u001b[38;5;241m-\u001b[39m df_hourly[\u001b[38;5;124mf\u001b[39m\u001b[38;5;124m'\u001b[39m\u001b[38;5;124mFlow_NL_to_\u001b[39m\u001b[38;5;132;01m{\u001b[39;00mneighbor\u001b[38;5;132;01m}\u001b[39;00m\u001b[38;5;124m'\u001b[39m]\n\u001b[0;32m      6\u001b[0m df_hourly[\u001b[38;5;124m'\u001b[39m\u001b[38;5;124mTotal_Flow\u001b[39m\u001b[38;5;124m'\u001b[39m] \u001b[38;5;241m=\u001b[39m df_hourly[\u001b[38;5;124m'\u001b[39m\u001b[38;5;124mFlow_BE\u001b[39m\u001b[38;5;124m'\u001b[39m] \u001b[38;5;241m+\u001b[39m df_hourly[\u001b[38;5;124m'\u001b[39m\u001b[38;5;124mFlow_DE\u001b[39m\u001b[38;5;124m'\u001b[39m] \u001b[38;5;241m+\u001b[39m df_hourly[\u001b[38;5;124m'\u001b[39m\u001b[38;5;124mFlow_GB\u001b[39m\u001b[38;5;124m'\u001b[39m] \u001b[38;5;241m+\u001b[39m df_hourly[\u001b[38;5;124m'\u001b[39m\u001b[38;5;124mFlow_DK\u001b[39m\u001b[38;5;124m'\u001b[39m] \u001b[38;5;241m+\u001b[39m df_hourly[\u001b[38;5;124m'\u001b[39m\u001b[38;5;124mFlow_DK\u001b[39m\u001b[38;5;124m'\u001b[39m]\n\u001b[0;32m      7\u001b[0m df_hourly\u001b[38;5;241m.\u001b[39mto_csv(\u001b[38;5;124m'\u001b[39m\u001b[38;5;124melectricity_data_nl_2022_2024_hourly_flow.csv\u001b[39m\u001b[38;5;124m'\u001b[39m)\n",
      "\u001b[1;31mNameError\u001b[0m: name 'df_hourly' is not defined"
     ]
    }
   ],
   "source": [
    "neighboring_countries = ['BE', 'DE', 'GB', 'DK', 'NO']\n",
    "\n",
    "for neighbor in neighboring_countries:\n",
    "    df_hourly[f'Flow_{neighbor}'] = df_hourly[f'Flow_{neighbor}_to_NL'] - df_hourly[f'Flow_NL_to_{neighbor}']\n",
    "\n",
    "df_hourly['Total_Flow'] = df_hourly['Flow_BE'] + df_hourly['Flow_DE'] + df_hourly['Flow_GB'] + df_hourly['Flow_DK'] + df_hourly['Flow_DK']\n",
    "df_hourly.to_csv('electricity_data_nl_2022_2024_hourly_flow.csv')\n"
   ]
  }
 ],
 "metadata": {
  "kernelspec": {
   "display_name": "Python 3",
   "language": "python",
   "name": "python3"
  },
  "language_info": {
   "codemirror_mode": {
    "name": "ipython",
    "version": 3
   },
   "file_extension": ".py",
   "mimetype": "text/x-python",
   "name": "python",
   "nbconvert_exporter": "python",
   "pygments_lexer": "ipython3",
   "version": "3.11.9"
  }
 },
 "nbformat": 4,
 "nbformat_minor": 2
}
