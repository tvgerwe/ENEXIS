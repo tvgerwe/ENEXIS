{
 "cells": [
  {
   "cell_type": "markdown",
   "metadata": {},
   "source": [
    "Download data van ENTSO-E"
   ]
  },
  {
   "cell_type": "code",
   "execution_count": null,
   "metadata": {},
   "outputs": [],
   "source": [
    "import pandas as pd\n",
    "from entsoe import EntsoePandasClient\n",
    "import time\n",
    "\n",
    "# Insert your API key here once you get it\n",
    "API_KEY = '82aa28d4-59f3-4e3a-b144-6659aa9415b5'\n",
    "\n",
    "# Initialize ENTSO-E client\n",
    "client = EntsoePandasClient(api_key=API_KEY)\n",
    "\n",
    "# Define parameters\n",
    "country_code = 'NL'\n",
    "neighboring_countries = ['BE', 'DE', 'GB', 'DK', 'NO']  # Pas dit aan op basis van de relevante buren\n",
    "years = [2022, 2023, 2024]  # List of years to fetch\n",
    "\n",
    "# Data storage\n",
    "all_data = []\n",
    "\n",
    "# Function to fetch data with retries\n",
    "def fetch_with_retries(fetch_func, *args, retries=3, delay=5, **kwargs):\n",
    "    for attempt in range(retries):\n",
    "        try:\n",
    "            return fetch_func(*args, **kwargs)\n",
    "        except Exception as e:\n",
    "            print(f\"Error: {e}, retrying in {delay} seconds...\")\n",
    "            time.sleep(delay)\n",
    "    raise Exception(f\"Failed to fetch data after {retries} attempts\")\n",
    "\n",
    "# Loop through each year and fetch data separately\n",
    "for year in years:\n",
    "    start = pd.Timestamp(f'{year}-01-01', tz='Europe/Amsterdam')\n",
    "    end = pd.Timestamp(f'{year+1}-01-01', tz='Europe/Amsterdam')  # Exclusive end\n",
    "\n",
    "    print(f\"Fetching load data for {year}...\")\n",
    "    yearly_load = fetch_with_retries(client.query_load, country_code, start=start, end=end).squeeze()  # Convert to 1D Series\n",
    "\n",
    "    print(f\"Fetching load forecast for {year}...\")\n",
    "    yearly_load_forecast = fetch_with_retries(client.query_load_forecast, country_code, start=start, end=end).squeeze()  # Convert to 1D Series\n",
    "\n",
    "    print(f\"Fetching price data for {year}...\")\n",
    "    yearly_price = fetch_with_retries(client.query_day_ahead_prices, country_code, start=start, end=end).squeeze()  # Convert to 1D Series\n",
    "\n",
    "    # Fetch cross-border flows\n",
    "    flow_data = {}\n",
    "    for neighbor in neighboring_countries:\n",
    "        print(f\"Fetching cross-border flow from {neighbor} to {country_code} for {year}...\")\n",
    "        yearly_flow_to = fetch_with_retries(client.query_crossborder_flows, country_code_from=neighbor, \n",
    "                                            country_code_to=country_code, start=start, end=end).squeeze()  # Convert to 1D Series\n",
    "        flow_data[f'Flow_{neighbor}_to_{country_code}'] = yearly_flow_to\n",
    "\n",
    "        print(f\"Fetching cross-border flow from {country_code} to {neighbor} for {year}...\")\n",
    "        yearly_flow_from = fetch_with_retries(client.query_crossborder_flows, country_code_from=country_code, \n",
    "                                              country_code_to=neighbor, start=start, end=end).squeeze()  # Convert to 1D Series\n",
    "        flow_data[f'Flow_{country_code}_to_{neighbor}'] = yearly_flow_from\n",
    "\n",
    "    # Merge all data\n",
    "    if not yearly_load.empty and not yearly_price.empty:\n",
    "        df = pd.DataFrame({'Load': yearly_load, 'Price': yearly_price})\n",
    "        for col_name, flow_series in flow_data.items():\n",
    "            if not flow_series.empty:\n",
    "                df[col_name] = flow_series\n",
    "\n",
    "        # Store yearly data\n",
    "        all_data.append(df)\n",
    "    else:\n",
    "        print(f\"No data for year {year}\")\n",
    "\n",
    "# Concatenate all years into one DataFrame if there is data\n",
    "if all_data:\n",
    "    final_data = pd.concat(all_data)\n",
    "    # Save to CSV\n",
    "    final_data.to_csv('electricity_data_nl_2022_2024.csv')\n",
    "    print(\"Data saved successfully!\")\n",
    "else:\n",
    "    print(\"No data to save.\")"
   ]
  },
  {
   "cell_type": "markdown",
   "metadata": {},
   "source": [
    "Read excel file"
   ]
  },
  {
   "cell_type": "code",
   "execution_count": 4,
   "metadata": {},
   "outputs": [],
   "source": [
    "import pandas as pd\n",
    "from entsoe import EntsoePandasClient\n",
    "import time\n",
    "\n",
    "# Load the existing CSV file\n",
    "df = pd.read_csv('electricity_data_nl_2022_2024.csv', index_col=0, parse_dates=True)\n",
    "\n"
   ]
  },
  {
   "cell_type": "markdown",
   "metadata": {},
   "source": [
    "Data per uur"
   ]
  },
  {
   "cell_type": "code",
   "execution_count": null,
   "metadata": {},
   "outputs": [
    {
     "name": "stdout",
     "output_type": "stream",
     "text": [
      "CSV file loaded successfully!\n",
      "Index converted to datetime with UTC!\n",
      "Data resampled to hourly frequency!\n"
     ]
    },
    {
     "name": "stderr",
     "output_type": "stream",
     "text": [
      "C:\\Users\\shba\\AppData\\Local\\Temp\\ipykernel_2596\\585774516.py:13: FutureWarning: 'H' is deprecated and will be removed in a future version, please use 'h' instead.\n",
      "  df_hourly = df.resample('H').mean()\n"
     ]
    },
    {
     "name": "stdout",
     "output_type": "stream",
     "text": [
      "Hourly data saved successfully!\n"
     ]
    }
   ],
   "source": [
    "import pandas as pd\n",
    "\n",
    "try:\n",
    "    # Load the existing CSV file\n",
    "    df = pd.read_csv('electricity_data_nl_2022_2024.csv', index_col=0, parse_dates=True)\n",
    "    print(\"CSV file loaded successfully!\")\n",
    "\n",
    "    # Ensure the index is datetime with UTC\n",
    "    df.index = pd.to_datetime(df.index, utc=True)\n",
    "    print(\"Index converted to datetime with UTC!\")\n",
    "\n",
    "    # Resample the data to hourly frequency and calculate the mean for each hour\n",
    "    df_hourly = df.resample('H').mean()\n",
    "    print(\"Data resampled to hourly frequency!\")\n",
    "\n",
    "    # Save the resampled data to a new CSV file\n",
    "    df_hourly.to_csv('electricity_data_nl_2022_2024_hourly.csv')\n",
    "    print(\"Hourly data saved successfully!\")\n"
   ]
  },
  {
   "cell_type": "code",
   "execution_count": null,
   "metadata": {},
   "outputs": [],
   "source": []
  },
  {
   "cell_type": "markdown",
   "metadata": {},
   "source": []
  }
 ],
 "metadata": {
  "kernelspec": {
   "display_name": "Python 3",
   "language": "python",
   "name": "python3"
  },
  "language_info": {
   "codemirror_mode": {
    "name": "ipython",
    "version": 3
   },
   "file_extension": ".py",
   "mimetype": "text/x-python",
   "name": "python",
   "nbconvert_exporter": "python",
   "pygments_lexer": "ipython3",
   "version": "3.11.9"
  }
 },
 "nbformat": 4,
 "nbformat_minor": 2
}
