{
 "cells": [
  {
   "cell_type": "markdown",
   "metadata": {},
   "source": [
    "# code to import predictions for Types having 7 days predictions:\n",
    "\n",
    "\n",
    "\n",
    "1 Wind\n",
    "2 Solar\n",
    "17 WindOffshore\n",
    "20 Nuclear\n",
    "21 WastePower\n",
    "26 OtherPower\n",
    "\n",
    "\n",
    "\n",
    "Import required dependencies"
   ]
  },
  {
   "cell_type": "code",
   "execution_count": 14,
   "metadata": {},
   "outputs": [],
   "source": [
    "import os\n",
    "import json\n",
    "import requests\n",
    "import pandas as pd\n",
    "import pickle           # Save and load data\n",
    "import time\n",
    "\n",
    "\n",
    "# Setting Pandas options.\n",
    "pd.set_option(\"display.max_rows\", 50) # How to display all rows from data frame using pandas. Setting value to None to show all rows.\n",
    "pd.set_option(\"display.max_columns\", None)\n",
    "pd.set_option(\"display.max_info_columns\", 100)\n",
    "pd.set_option(\"display.max_info_rows\", 1000000)\n",
    "pd.set_option(\"display.precision\", 2)\n",
    "#pd.set_option(\"styler.format.precision\", 2)"
   ]
  },
  {
   "cell_type": "markdown",
   "metadata": {},
   "source": [
    "load config files"
   ]
  },
  {
   "cell_type": "code",
   "execution_count": 15,
   "metadata": {},
   "outputs": [],
   "source": [
    "# Load API Key and download directory from config file\n",
    "CONFIG_FILE = \"../config/api-call.json\"\n",
    "\n",
    "def load_config(config_path):\n",
    "    \"\"\"Load configuration from a JSON file.\"\"\"\n",
    "    with open(config_path, \"r\") as file:\n",
    "        return json.load(file)"
   ]
  },
  {
   "cell_type": "markdown",
   "metadata": {},
   "source": [
    "Config parameters for API calls"
   ]
  },
  {
   "cell_type": "code",
   "execution_count": 16,
   "metadata": {},
   "outputs": [],
   "source": [
    "# Load config values\n",
    "config = load_config(CONFIG_FILE)\n",
    "# print(config)\n",
    "API_ENDPOINT= config[\"ned\"][\"ned_api_endpoint\"]\n",
    "API_KEY = config[\"ned\"][\"demo-ned-api-key\"]\n",
    "DOWNLOAD_DIR = config[\"ned\"][\"ned_download_dir\"]\n",
    "\n",
    "# https://api.ned.nl/v1/utilizations?point=0&type=2&granularity=3&granularitytimezone=1&classification=2&activity=1&validfrom[strictly_before]=2020-11-17&validfrom[after]=2020-11-16\n",
    "\n",
    "\n",
    "# Ensure the download directory exists\n",
    "os.makedirs(DOWNLOAD_DIR, exist_ok=True)\n",
    "\n",
    "# API details (Replace with actual API endpoint)\n",
    "API_URL = API_ENDPOINT\n",
    "#HEADERS = {\"Authorization\": f\"X-AUTH-TOKEN {API_KEY}\"}\n",
    "\n",
    "# Headers with X-AUTH-TOKEN\n",
    "api_headers = {\n",
    "    \"X-AUTH-TOKEN\": API_KEY,  # Replace with your actual token\n",
    "    \"Content-Type\": \"application/json\"  # Optional, if sending JSON\n",
    "}"
   ]
  },
  {
   "cell_type": "markdown",
   "metadata": {},
   "source": [
    "Make API calls in loop"
   ]
  },
  {
   "cell_type": "code",
   "execution_count": 25,
   "metadata": {},
   "outputs": [
    {
     "name": "stdout",
     "output_type": "stream",
     "text": [
      "Current datetime: 2025-03-31\n",
      "Datetime 1 week from now: 2025-04-08\n"
     ]
    }
   ],
   "source": [
    "from datetime import datetime, timedelta\n",
    "\n",
    "current_datetime = datetime.now()\n",
    "future_datetime = current_datetime + timedelta(days=8)\n",
    "\n",
    "\n",
    "\n",
    "# Replace the datetime values with formatted strings only showing YYYY-MM-DD\n",
    "current_datetime = current_datetime.strftime(\"%Y-%m-%d\")\n",
    "future_datetime = future_datetime.strftime(\"%Y-%m-%d\")\n",
    "\n",
    "print(\"Current datetime:\", current_datetime)\n",
    "print(\"Datetime 1 week from now:\", future_datetime)"
   ]
  },
  {
   "cell_type": "code",
   "execution_count": null,
   "metadata": {},
   "outputs": [
    {
     "name": "stdout",
     "output_type": "stream",
     "text": [
      "Data collection complete! Saved 183 records to power-gen-pred-1.csv\n",
      "Data collection complete! Saved 183 records to power-gen-pred-2.csv\n",
      "Data collection complete! Saved 183 records to power-gen-pred-17.csv\n",
      "Data collection complete! Saved 183 records to power-gen-pred-20.csv\n",
      "Data collection complete! Saved 183 records to power-gen-pred-21.csv\n",
      "Data collection complete! Saved 183 records to power-gen-pred-26.csv\n"
     ]
    }
   ],
   "source": [
    "n_values = [1,2,17,20,21,26]\n",
    "\n",
    "# Loop through the n values\n",
    "for gen_type in n_values:\n",
    "    api_params = {\n",
    "        \"point\": \"0\",\n",
    "        \"type\": gen_type,\n",
    "        \"granularity\": \"5\",  # hourly\n",
    "        \"granularitytimezone\": \"1\",\n",
    "        \"classification\": \"1\",  # Forecast\n",
    "        \"activity\": \"1\",\n",
    "        \"validfrom[before]\": future_datetime,\n",
    "        \"validfrom[after]\": current_datetime,\n",
    "        \"page\": 1\n",
    "    }\n",
    "\n",
    "    # Initialize storage for full dataset\n",
    "    full_data = []\n",
    "\n",
    "    # First API request to determine the last page\n",
    "    response = requests.get(API_URL, params=api_params, headers=api_headers)\n",
    "    if response.status_code == 200:\n",
    "        data = response.json()\n",
    "        last_page_url = data.get(\"hydra:view\", {}).get(\"hydra:last\", None)\n",
    "        \n",
    "        if last_page_url:\n",
    "            last_page_num = int(last_page_url.split(\"page=\")[-1])\n",
    "        else:\n",
    "            print(\"Warning: Could not determine last page. Defaulting to 1.\")\n",
    "            last_page_num = 1  # Fallback to 1 if last_page_url is missing\n",
    "        '''if last_page_url:\n",
    "            last_page_num = int(last_page_url.split(\"page=\")[-1])\n",
    "            print(\"last_page_num:\", last_page_num)\n",
    "        else:\n",
    "            print(\"Error: Could not determine last page.\")\n",
    "            exit()'''\n",
    "    else:\n",
    "        print(f\"Error {response.status_code}: {response.text}\")\n",
    "        continue\n",
    "\n",
    "    # Iterate through pages\n",
    "    for page in range(1, last_page_num + 1):\n",
    "        api_params[\"page\"] = page\n",
    "        response = requests.get(API_URL, params=api_params, headers=api_headers)\n",
    "        \n",
    "        if response.status_code == 200:\n",
    "            json_dict = response.json()\n",
    "            if \"hydra:member\" in json_dict:\n",
    "                full_data.extend(json_dict[\"hydra:member\"])\n",
    "        else:\n",
    "            print(f\"Error on page {page}: {response.status_code}\")\n",
    "            break\n",
    "\n",
    "    # After collecting all pages, convert the data to a DataFrame and add current_datetime column\n",
    "    df = pd.DataFrame(full_data)\n",
    "    df['current_datetime'] = datetime.now().strftime(\"%Y-%m-%d %H:%M:%S\")\n",
    "    file_path = os.path.join(DOWNLOAD_DIR, f\"power-gen-pred-{gen_type}-{datetime.now().strftime('%Y%m%d_%H%M')}.csv\")\n",
    "    df.to_csv(file_path, index=False)\n",
    "\n",
    "    print(f\"Data collection complete! Saved {len(df)} records of Type-{gen_type} to csv\")\n"
   ]
  },
  {
   "cell_type": "markdown",
   "metadata": {},
   "source": [
    "# to add function to regularly make API calls, also need to add a timestamp"
   ]
  },
  {
   "cell_type": "code",
   "execution_count": null,
   "metadata": {},
   "outputs": [],
   "source": []
  }
 ],
 "metadata": {
  "kernelspec": {
   "display_name": "Python 3",
   "language": "python",
   "name": "python3"
  },
  "language_info": {
   "codemirror_mode": {
    "name": "ipython",
    "version": 3
   },
   "file_extension": ".py",
   "mimetype": "text/x-python",
   "name": "python",
   "nbconvert_exporter": "python",
   "pygments_lexer": "ipython3",
   "version": "3.10.13"
  }
 },
 "nbformat": 4,
 "nbformat_minor": 2
}
