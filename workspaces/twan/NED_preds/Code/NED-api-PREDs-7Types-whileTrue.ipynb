{
 "cells": [
  {
   "cell_type": "markdown",
   "metadata": {},
   "source": [
    "# code to import predictions for Types having 7 days predictions:\n",
    "\n",
    "\n",
    "\n",
    "1 Wind\n",
    "2 Solar\n",
    "17 WindOffshore\n",
    "20 Nuclear\n",
    "21 WastePower\n",
    "26 OtherPower\n",
    "\n",
    "\n",
    "\n",
    "Import required dependencies"
   ]
  },
  {
   "cell_type": "code",
   "execution_count": 6,
   "metadata": {},
   "outputs": [],
   "source": [
    "import os\n",
    "import json\n",
    "import requests\n",
    "import pandas as pd\n",
    "import pickle           # Save and load data\n",
    "import time\n",
    "\n",
    "\n",
    "# Setting Pandas options.\n",
    "pd.set_option(\"display.max_rows\", 50) # How to display all rows from data frame using pandas. Setting value to None to show all rows.\n",
    "pd.set_option(\"display.max_columns\", None)\n",
    "pd.set_option(\"display.max_info_columns\", 100)\n",
    "pd.set_option(\"display.max_info_rows\", 1000000)\n",
    "pd.set_option(\"display.precision\", 2)\n",
    "#pd.set_option(\"styler.format.precision\", 2)"
   ]
  },
  {
   "cell_type": "markdown",
   "metadata": {},
   "source": [
    "load config files"
   ]
  },
  {
   "cell_type": "code",
   "execution_count": 7,
   "metadata": {},
   "outputs": [],
   "source": [
    "# Load API Key and download directory from config file\n",
    "CONFIG_FILE = \"../config/api-call.json\"\n",
    "\n",
    "def load_config(config_path):\n",
    "    \"\"\"Load configuration from a JSON file.\"\"\"\n",
    "    with open(config_path, \"r\") as file:\n",
    "        return json.load(file)"
   ]
  },
  {
   "cell_type": "markdown",
   "metadata": {},
   "source": [
    "Config parameters for API calls"
   ]
  },
  {
   "cell_type": "code",
   "execution_count": 8,
   "metadata": {},
   "outputs": [],
   "source": [
    "# Load config values\n",
    "config = load_config(CONFIG_FILE)\n",
    "# print(config)\n",
    "API_ENDPOINT= config[\"ned\"][\"ned_api_endpoint\"]\n",
    "API_KEY = config[\"ned\"][\"demo-ned-api-key\"]\n",
    "DOWNLOAD_DIR = config[\"ned\"][\"ned_download_dir\"]\n",
    "\n",
    "# https://api.ned.nl/v1/utilizations?point=0&type=2&granularity=3&granularitytimezone=1&classification=2&activity=1&validfrom[strictly_before]=2020-11-17&validfrom[after]=2020-11-16\n",
    "\n",
    "\n",
    "# Ensure the download directory exists\n",
    "os.makedirs(DOWNLOAD_DIR, exist_ok=True)\n",
    "\n",
    "# API details (Replace with actual API endpoint)\n",
    "API_URL = API_ENDPOINT\n",
    "#HEADERS = {\"Authorization\": f\"X-AUTH-TOKEN {API_KEY}\"}\n",
    "\n",
    "# Headers with X-AUTH-TOKEN\n",
    "api_headers = {\n",
    "    \"X-AUTH-TOKEN\": API_KEY,  # Replace with your actual token\n",
    "    \"Content-Type\": \"application/json\"  # Optional, if sending JSON\n",
    "}"
   ]
  },
  {
   "cell_type": "markdown",
   "metadata": {},
   "source": [
    "Make API calls in loop"
   ]
  },
  {
   "cell_type": "code",
   "execution_count": 10,
   "metadata": {},
   "outputs": [],
   "source": [
    "def fetch_and_save_data():\n",
    "    current_datetime = datetime.utcnow()\n",
    "    future_datetime = current_datetime + timedelta(days=8)\n",
    "\n",
    "    current_date_str = current_datetime.strftime(\"%Y-%m-%d\")\n",
    "    future_date_str = future_datetime.strftime(\"%Y-%m-%d\")\n",
    "\n",
    "    for gen_type in n_values:\n",
    "        api_params = {\n",
    "            \"point\": \"0\",\n",
    "            \"type\": gen_type,\n",
    "            \"granularity\": \"5\",  # hourly\n",
    "            \"granularitytimezone\": \"1\",\n",
    "            \"classification\": \"1\",  # Forecast\n",
    "            \"activity\": \"1\",\n",
    "            \"validfrom[before]\": future_date_str,\n",
    "            \"validfrom[after]\": current_date_str,\n",
    "            \"page\": 1\n",
    "        }\n",
    "\n",
    "        full_data = []\n",
    "\n",
    "        response = requests.get(API_URL, params=api_params, headers=api_headers)\n",
    "        if response.status_code == 200:\n",
    "            data = response.json()\n",
    "            last_page_url = data.get(\"hydra:view\", {}).get(\"hydra:last\", None)\n",
    "            last_page_num = int(last_page_url.split(\"page=\")[-1]) if last_page_url else 1\n",
    "        else:\n",
    "            print(f\"Error {response.status_code}: {response.text}\")\n",
    "            return\n",
    "\n",
    "        for page in range(1, last_page_num + 1):\n",
    "            api_params[\"page\"] = page\n",
    "            response = requests.get(API_URL, params=api_params, headers=api_headers)\n",
    "            if response.status_code == 200:\n",
    "                json_dict = response.json()\n",
    "                if \"hydra:member\" in json_dict:\n",
    "                    full_data.extend(json_dict[\"hydra:member\"])\n",
    "            else:\n",
    "                print(f\"Error on page {page}: {response.status_code}\")\n",
    "                break\n",
    "\n",
    "        df = pd.DataFrame(full_data)\n",
    "        df['current_datetime'] = current_datetime.strftime(\"%Y-%m-%d %H:%M:%S\")\n",
    "        output_file = \"../Data/appended_NED_preds.csv\"\n",
    "        output_dir = os.path.dirname(output_file)\n",
    "        os.makedirs(output_dir, exist_ok=True)\n",
    "\n",
    "        # Append to the CSV file\n",
    "        if not os.path.exists(output_file):\n",
    "            df.to_csv(output_file, index=False)  # Write header if file doesn't exist\n",
    "        else:\n",
    "            df.to_csv(output_file, mode='a', header=False, index=False)  # Append without header\n",
    "\n",
    "        print(f\"Data collection complete! Appended {len(df)} records of Type-{gen_type} to {output_file}\")\n"
   ]
  },
  {
   "cell_type": "code",
   "execution_count": 5,
   "metadata": {},
   "outputs": [
    {
     "name": "stderr",
     "output_type": "stream",
     "text": [
      "/var/folders/6_/0hk4r2517rd0g1wg9893jqz40000gp/T/ipykernel_33949/1366933331.py:8: DeprecationWarning: datetime.datetime.utcnow() is deprecated and scheduled for removal in a future version. Use timezone-aware objects to represent datetimes in UTC: datetime.datetime.now(datetime.UTC).\n",
      "  current_datetime = datetime.utcnow()\n",
      "/var/folders/6_/0hk4r2517rd0g1wg9893jqz40000gp/T/ipykernel_33949/1366933331.py:62: DeprecationWarning: datetime.datetime.utcnow() is deprecated and scheduled for removal in a future version. Use timezone-aware objects to represent datetimes in UTC: datetime.datetime.now(datetime.UTC).\n",
      "  df['current_datetime'] = datetime.utcnow().strftime(\"%Y-%m-%d %H:%M:%S\")\n",
      "/var/folders/6_/0hk4r2517rd0g1wg9893jqz40000gp/T/ipykernel_33949/1366933331.py:63: DeprecationWarning: datetime.datetime.utcnow() is deprecated and scheduled for removal in a future version. Use timezone-aware objects to represent datetimes in UTC: datetime.datetime.now(datetime.UTC).\n",
      "  file_name = f\"power-gen-pred-{gen_type}-{datetime.utcnow().strftime('%Y%m%d_%H%M')}.csv\"\n"
     ]
    },
    {
     "name": "stdout",
     "output_type": "stream",
     "text": [
      "Data collection complete! Saved 186 records of Type-1 to csv\n",
      "Saved file: power-gen-pred-1-20250407_1840.csv\n"
     ]
    },
    {
     "name": "stderr",
     "output_type": "stream",
     "text": [
      "/var/folders/6_/0hk4r2517rd0g1wg9893jqz40000gp/T/ipykernel_33949/1366933331.py:62: DeprecationWarning: datetime.datetime.utcnow() is deprecated and scheduled for removal in a future version. Use timezone-aware objects to represent datetimes in UTC: datetime.datetime.now(datetime.UTC).\n",
      "  df['current_datetime'] = datetime.utcnow().strftime(\"%Y-%m-%d %H:%M:%S\")\n",
      "/var/folders/6_/0hk4r2517rd0g1wg9893jqz40000gp/T/ipykernel_33949/1366933331.py:63: DeprecationWarning: datetime.datetime.utcnow() is deprecated and scheduled for removal in a future version. Use timezone-aware objects to represent datetimes in UTC: datetime.datetime.now(datetime.UTC).\n",
      "  file_name = f\"power-gen-pred-{gen_type}-{datetime.utcnow().strftime('%Y%m%d_%H%M')}.csv\"\n"
     ]
    },
    {
     "name": "stdout",
     "output_type": "stream",
     "text": [
      "Data collection complete! Saved 186 records of Type-2 to csv\n",
      "Saved file: power-gen-pred-2-20250407_1840.csv\n"
     ]
    },
    {
     "name": "stderr",
     "output_type": "stream",
     "text": [
      "/var/folders/6_/0hk4r2517rd0g1wg9893jqz40000gp/T/ipykernel_33949/1366933331.py:62: DeprecationWarning: datetime.datetime.utcnow() is deprecated and scheduled for removal in a future version. Use timezone-aware objects to represent datetimes in UTC: datetime.datetime.now(datetime.UTC).\n",
      "  df['current_datetime'] = datetime.utcnow().strftime(\"%Y-%m-%d %H:%M:%S\")\n",
      "/var/folders/6_/0hk4r2517rd0g1wg9893jqz40000gp/T/ipykernel_33949/1366933331.py:63: DeprecationWarning: datetime.datetime.utcnow() is deprecated and scheduled for removal in a future version. Use timezone-aware objects to represent datetimes in UTC: datetime.datetime.now(datetime.UTC).\n",
      "  file_name = f\"power-gen-pred-{gen_type}-{datetime.utcnow().strftime('%Y%m%d_%H%M')}.csv\"\n"
     ]
    },
    {
     "name": "stdout",
     "output_type": "stream",
     "text": [
      "Data collection complete! Saved 186 records of Type-17 to csv\n",
      "Saved file: power-gen-pred-17-20250407_1840.csv\n"
     ]
    },
    {
     "name": "stderr",
     "output_type": "stream",
     "text": [
      "/var/folders/6_/0hk4r2517rd0g1wg9893jqz40000gp/T/ipykernel_33949/1366933331.py:62: DeprecationWarning: datetime.datetime.utcnow() is deprecated and scheduled for removal in a future version. Use timezone-aware objects to represent datetimes in UTC: datetime.datetime.now(datetime.UTC).\n",
      "  df['current_datetime'] = datetime.utcnow().strftime(\"%Y-%m-%d %H:%M:%S\")\n",
      "/var/folders/6_/0hk4r2517rd0g1wg9893jqz40000gp/T/ipykernel_33949/1366933331.py:63: DeprecationWarning: datetime.datetime.utcnow() is deprecated and scheduled for removal in a future version. Use timezone-aware objects to represent datetimes in UTC: datetime.datetime.now(datetime.UTC).\n",
      "  file_name = f\"power-gen-pred-{gen_type}-{datetime.utcnow().strftime('%Y%m%d_%H%M')}.csv\"\n"
     ]
    },
    {
     "name": "stdout",
     "output_type": "stream",
     "text": [
      "Data collection complete! Saved 186 records of Type-20 to csv\n",
      "Saved file: power-gen-pred-20-20250407_1840.csv\n"
     ]
    },
    {
     "name": "stderr",
     "output_type": "stream",
     "text": [
      "/var/folders/6_/0hk4r2517rd0g1wg9893jqz40000gp/T/ipykernel_33949/1366933331.py:62: DeprecationWarning: datetime.datetime.utcnow() is deprecated and scheduled for removal in a future version. Use timezone-aware objects to represent datetimes in UTC: datetime.datetime.now(datetime.UTC).\n",
      "  df['current_datetime'] = datetime.utcnow().strftime(\"%Y-%m-%d %H:%M:%S\")\n",
      "/var/folders/6_/0hk4r2517rd0g1wg9893jqz40000gp/T/ipykernel_33949/1366933331.py:63: DeprecationWarning: datetime.datetime.utcnow() is deprecated and scheduled for removal in a future version. Use timezone-aware objects to represent datetimes in UTC: datetime.datetime.now(datetime.UTC).\n",
      "  file_name = f\"power-gen-pred-{gen_type}-{datetime.utcnow().strftime('%Y%m%d_%H%M')}.csv\"\n"
     ]
    },
    {
     "name": "stdout",
     "output_type": "stream",
     "text": [
      "Data collection complete! Saved 186 records of Type-21 to csv\n",
      "Saved file: power-gen-pred-21-20250407_1840.csv\n"
     ]
    },
    {
     "name": "stderr",
     "output_type": "stream",
     "text": [
      "/var/folders/6_/0hk4r2517rd0g1wg9893jqz40000gp/T/ipykernel_33949/1366933331.py:62: DeprecationWarning: datetime.datetime.utcnow() is deprecated and scheduled for removal in a future version. Use timezone-aware objects to represent datetimes in UTC: datetime.datetime.now(datetime.UTC).\n",
      "  df['current_datetime'] = datetime.utcnow().strftime(\"%Y-%m-%d %H:%M:%S\")\n",
      "/var/folders/6_/0hk4r2517rd0g1wg9893jqz40000gp/T/ipykernel_33949/1366933331.py:63: DeprecationWarning: datetime.datetime.utcnow() is deprecated and scheduled for removal in a future version. Use timezone-aware objects to represent datetimes in UTC: datetime.datetime.now(datetime.UTC).\n",
      "  file_name = f\"power-gen-pred-{gen_type}-{datetime.utcnow().strftime('%Y%m%d_%H%M')}.csv\"\n"
     ]
    },
    {
     "name": "stdout",
     "output_type": "stream",
     "text": [
      "Data collection complete! Saved 186 records of Type-26 to csv\n",
      "Saved file: power-gen-pred-26-20250407_1840.csv\n",
      "Waiting for the next fetch in 4 hours...\n"
     ]
    },
    {
     "ename": "KeyboardInterrupt",
     "evalue": "",
     "output_type": "error",
     "traceback": [
      "\u001b[31m---------------------------------------------------------------------------\u001b[39m",
      "\u001b[31mKeyboardInterrupt\u001b[39m                         Traceback (most recent call last)",
      "\u001b[36mCell\u001b[39m\u001b[36m \u001b[39m\u001b[32mIn[5]\u001b[39m\u001b[32m, line 75\u001b[39m\n\u001b[32m     73\u001b[39m \u001b[38;5;66;03m# Wait exactly one hour before fetching data again\u001b[39;00m\n\u001b[32m     74\u001b[39m \u001b[38;5;28mprint\u001b[39m(\u001b[33m\"\u001b[39m\u001b[33mWaiting for the next fetch in 4 hours...\u001b[39m\u001b[33m\"\u001b[39m)\n\u001b[32m---> \u001b[39m\u001b[32m75\u001b[39m \u001b[43mtime\u001b[49m\u001b[43m.\u001b[49m\u001b[43msleep\u001b[49m\u001b[43m(\u001b[49m\u001b[32;43m4\u001b[39;49m\u001b[43m*\u001b[49m\u001b[32;43m3600\u001b[39;49m\u001b[43m)\u001b[49m\n",
      "\u001b[31mKeyboardInterrupt\u001b[39m: "
     ]
    },
    {
     "name": "stderr",
     "output_type": "stream",
     "text": [
      "/var/folders/6_/0hk4r2517rd0g1wg9893jqz40000gp/T/ipykernel_18431/1366933331.py:8: DeprecationWarning: datetime.datetime.utcnow() is deprecated and scheduled for removal in a future version. Use timezone-aware objects to represent datetimes in UTC: datetime.datetime.now(datetime.UTC).\n",
      "  current_datetime = datetime.utcnow()\n",
      "/var/folders/6_/0hk4r2517rd0g1wg9893jqz40000gp/T/ipykernel_18431/1366933331.py:62: DeprecationWarning: datetime.datetime.utcnow() is deprecated and scheduled for removal in a future version. Use timezone-aware objects to represent datetimes in UTC: datetime.datetime.now(datetime.UTC).\n",
      "  df['current_datetime'] = datetime.utcnow().strftime(\"%Y-%m-%d %H:%M:%S\")\n",
      "/var/folders/6_/0hk4r2517rd0g1wg9893jqz40000gp/T/ipykernel_18431/1366933331.py:63: DeprecationWarning: datetime.datetime.utcnow() is deprecated and scheduled for removal in a future version. Use timezone-aware objects to represent datetimes in UTC: datetime.datetime.now(datetime.UTC).\n",
      "  file_name = f\"power-gen-pred-{gen_type}-{datetime.utcnow().strftime('%Y%m%d_%H%M')}.csv\"\n"
     ]
    },
    {
     "name": "stdout",
     "output_type": "stream",
     "text": [
      "Data collection complete! Saved 185 records of Type-1 to csv\n",
      "Saved file: power-gen-pred-1-20250407_1713.csv\n"
     ]
    },
    {
     "name": "stderr",
     "output_type": "stream",
     "text": [
      "/var/folders/6_/0hk4r2517rd0g1wg9893jqz40000gp/T/ipykernel_18431/1366933331.py:62: DeprecationWarning: datetime.datetime.utcnow() is deprecated and scheduled for removal in a future version. Use timezone-aware objects to represent datetimes in UTC: datetime.datetime.now(datetime.UTC).\n",
      "  df['current_datetime'] = datetime.utcnow().strftime(\"%Y-%m-%d %H:%M:%S\")\n",
      "/var/folders/6_/0hk4r2517rd0g1wg9893jqz40000gp/T/ipykernel_18431/1366933331.py:63: DeprecationWarning: datetime.datetime.utcnow() is deprecated and scheduled for removal in a future version. Use timezone-aware objects to represent datetimes in UTC: datetime.datetime.now(datetime.UTC).\n",
      "  file_name = f\"power-gen-pred-{gen_type}-{datetime.utcnow().strftime('%Y%m%d_%H%M')}.csv\"\n"
     ]
    },
    {
     "name": "stdout",
     "output_type": "stream",
     "text": [
      "Data collection complete! Saved 185 records of Type-2 to csv\n",
      "Saved file: power-gen-pred-2-20250407_1713.csv\n"
     ]
    },
    {
     "name": "stderr",
     "output_type": "stream",
     "text": [
      "/var/folders/6_/0hk4r2517rd0g1wg9893jqz40000gp/T/ipykernel_18431/1366933331.py:62: DeprecationWarning: datetime.datetime.utcnow() is deprecated and scheduled for removal in a future version. Use timezone-aware objects to represent datetimes in UTC: datetime.datetime.now(datetime.UTC).\n",
      "  df['current_datetime'] = datetime.utcnow().strftime(\"%Y-%m-%d %H:%M:%S\")\n",
      "/var/folders/6_/0hk4r2517rd0g1wg9893jqz40000gp/T/ipykernel_18431/1366933331.py:63: DeprecationWarning: datetime.datetime.utcnow() is deprecated and scheduled for removal in a future version. Use timezone-aware objects to represent datetimes in UTC: datetime.datetime.now(datetime.UTC).\n",
      "  file_name = f\"power-gen-pred-{gen_type}-{datetime.utcnow().strftime('%Y%m%d_%H%M')}.csv\"\n"
     ]
    },
    {
     "name": "stdout",
     "output_type": "stream",
     "text": [
      "Data collection complete! Saved 185 records of Type-17 to csv\n",
      "Saved file: power-gen-pred-17-20250407_1713.csv\n"
     ]
    },
    {
     "name": "stderr",
     "output_type": "stream",
     "text": [
      "/var/folders/6_/0hk4r2517rd0g1wg9893jqz40000gp/T/ipykernel_18431/1366933331.py:62: DeprecationWarning: datetime.datetime.utcnow() is deprecated and scheduled for removal in a future version. Use timezone-aware objects to represent datetimes in UTC: datetime.datetime.now(datetime.UTC).\n",
      "  df['current_datetime'] = datetime.utcnow().strftime(\"%Y-%m-%d %H:%M:%S\")\n",
      "/var/folders/6_/0hk4r2517rd0g1wg9893jqz40000gp/T/ipykernel_18431/1366933331.py:63: DeprecationWarning: datetime.datetime.utcnow() is deprecated and scheduled for removal in a future version. Use timezone-aware objects to represent datetimes in UTC: datetime.datetime.now(datetime.UTC).\n",
      "  file_name = f\"power-gen-pred-{gen_type}-{datetime.utcnow().strftime('%Y%m%d_%H%M')}.csv\"\n"
     ]
    },
    {
     "name": "stdout",
     "output_type": "stream",
     "text": [
      "Data collection complete! Saved 185 records of Type-20 to csv\n",
      "Saved file: power-gen-pred-20-20250407_1713.csv\n"
     ]
    },
    {
     "name": "stderr",
     "output_type": "stream",
     "text": [
      "/var/folders/6_/0hk4r2517rd0g1wg9893jqz40000gp/T/ipykernel_18431/1366933331.py:62: DeprecationWarning: datetime.datetime.utcnow() is deprecated and scheduled for removal in a future version. Use timezone-aware objects to represent datetimes in UTC: datetime.datetime.now(datetime.UTC).\n",
      "  df['current_datetime'] = datetime.utcnow().strftime(\"%Y-%m-%d %H:%M:%S\")\n",
      "/var/folders/6_/0hk4r2517rd0g1wg9893jqz40000gp/T/ipykernel_18431/1366933331.py:63: DeprecationWarning: datetime.datetime.utcnow() is deprecated and scheduled for removal in a future version. Use timezone-aware objects to represent datetimes in UTC: datetime.datetime.now(datetime.UTC).\n",
      "  file_name = f\"power-gen-pred-{gen_type}-{datetime.utcnow().strftime('%Y%m%d_%H%M')}.csv\"\n"
     ]
    },
    {
     "name": "stdout",
     "output_type": "stream",
     "text": [
      "Data collection complete! Saved 185 records of Type-21 to csv\n",
      "Saved file: power-gen-pred-21-20250407_1713.csv\n"
     ]
    },
    {
     "name": "stderr",
     "output_type": "stream",
     "text": [
      "/var/folders/6_/0hk4r2517rd0g1wg9893jqz40000gp/T/ipykernel_18431/1366933331.py:62: DeprecationWarning: datetime.datetime.utcnow() is deprecated and scheduled for removal in a future version. Use timezone-aware objects to represent datetimes in UTC: datetime.datetime.now(datetime.UTC).\n",
      "  df['current_datetime'] = datetime.utcnow().strftime(\"%Y-%m-%d %H:%M:%S\")\n",
      "/var/folders/6_/0hk4r2517rd0g1wg9893jqz40000gp/T/ipykernel_18431/1366933331.py:63: DeprecationWarning: datetime.datetime.utcnow() is deprecated and scheduled for removal in a future version. Use timezone-aware objects to represent datetimes in UTC: datetime.datetime.now(datetime.UTC).\n",
      "  file_name = f\"power-gen-pred-{gen_type}-{datetime.utcnow().strftime('%Y%m%d_%H%M')}.csv\"\n"
     ]
    },
    {
     "name": "stdout",
     "output_type": "stream",
     "text": [
      "Data collection complete! Saved 185 records of Type-26 to csv\n",
      "Saved file: power-gen-pred-26-20250407_1713.csv\n",
      "Waiting for the next fetch in 4 hours...\n"
     ]
    }
   ],
   "source": [
    "\n",
    "from datetime import datetime, timedelta\n",
    "import time\n",
    "\n",
    "n_values = [1,2,17,20,21,26]  # Selected Types of Electricity Sources (NED.nl)\n",
    "\n",
    "while True:\n",
    "    # Update current time and week ahead time using UTC\n",
    "    current_datetime = datetime.utcnow()\n",
    "    future_datetime = current_datetime + timedelta(days=8)\n",
    "\n",
    "    # Replace the datetime values with formatted strings only showing YYYY-MM-DD\n",
    "    current_date_str = current_datetime.strftime(\"%Y-%m-%d\")\n",
    "    future_date_str = future_datetime.strftime(\"%Y-%m-%d\")\n",
    "\n",
    "    # Loop through the n values\n",
    "    for gen_type in n_values:\n",
    "        api_params = {\n",
    "            \"point\": \"0\",\n",
    "            \"type\": gen_type,\n",
    "            \"granularity\": \"5\",  # hourly\n",
    "            \"granularitytimezone\": \"1\",\n",
    "            \"classification\": \"1\",  # Forecast\n",
    "            \"activity\": \"1\",\n",
    "            \"validfrom[before]\": future_date_str,\n",
    "            \"validfrom[after]\": current_date_str,\n",
    "            \"page\": 1\n",
    "        }\n",
    "\n",
    "        # Initialize storage for full dataset\n",
    "        full_data = []\n",
    "\n",
    "        # First API request to determine the last page\n",
    "        response = requests.get(API_URL, params=api_params, headers=api_headers)\n",
    "        if response.status_code == 200:\n",
    "            data = response.json()\n",
    "            last_page_url = data.get(\"hydra:view\", {}).get(\"hydra:last\", None)\n",
    "\n",
    "            if last_page_url:\n",
    "                last_page_num = int(last_page_url.split(\"page=\")[-1])\n",
    "            else:\n",
    "                print(\"Warning: Could not determine last page. Defaulting to 1.\")\n",
    "                last_page_num = 1\n",
    "        else:\n",
    "            print(f\"Error {response.status_code}: {response.text}\")\n",
    "            continue\n",
    "\n",
    "        # Iterate through pages\n",
    "        for page in range(1, last_page_num + 1):\n",
    "            api_params[\"page\"] = page\n",
    "            response = requests.get(API_URL, params=api_params, headers=api_headers)\n",
    "\n",
    "            if response.status_code == 200:\n",
    "                json_dict = response.json()\n",
    "                if \"hydra:member\" in json_dict:\n",
    "                    full_data.extend(json_dict[\"hydra:member\"])\n",
    "            else:\n",
    "                print(f\"Error on page {page}: {response.status_code}\")\n",
    "                break\n",
    "\n",
    "        # After collecting all pages, convert the data to a DataFrame and add current_datetime column\n",
    "        df = pd.DataFrame(full_data)\n",
    "        df['current_datetime'] = datetime.utcnow().strftime(\"%Y-%m-%d %H:%M:%S\")\n",
    "        file_name = f\"power-gen-pred-{gen_type}-{datetime.utcnow().strftime('%Y%m%d_%H%M')}.csv\"\n",
    "        # Ensure the directory exists\n",
    "        output_dir = \"../Data/powergen_preds\"\n",
    "        os.makedirs(output_dir, exist_ok=True)\n",
    "        file_path = os.path.join(output_dir, file_name)\n",
    "        df.to_csv(file_path, index=False)\n",
    "\n",
    "        print(f\"Data collection complete! Saved {len(df)} records of Type-{gen_type} to csv\")\n",
    "        print(f\"Saved file: {file_name}\")\n",
    "\n",
    "    # Wait exactly one hour before fetching data again\n",
    "    print(\"Waiting for the next fetch in 4 hours...\")\n",
    "    time.sleep(4*3600)\n"
   ]
  },
  {
   "cell_type": "markdown",
   "metadata": {},
   "source": [
    "# to add function to regularly make API calls, also need to add a timestamp"
   ]
  },
  {
   "cell_type": "code",
   "execution_count": 3,
   "metadata": {},
   "outputs": [
    {
     "ename": "NameError",
     "evalue": "name 'os' is not defined",
     "output_type": "error",
     "traceback": [
      "\u001b[31m---------------------------------------------------------------------------\u001b[39m",
      "\u001b[31mNameError\u001b[39m                                 Traceback (most recent call last)",
      "\u001b[36mCell\u001b[39m\u001b[36m \u001b[39m\u001b[32mIn[3]\u001b[39m\u001b[32m, line 2\u001b[39m\n\u001b[32m      1\u001b[39m \u001b[38;5;66;03m# Iterate through all CSV files in the directory\u001b[39;00m\n\u001b[32m----> \u001b[39m\u001b[32m2\u001b[39m \u001b[38;5;28;01mfor\u001b[39;00m file_name \u001b[38;5;129;01min\u001b[39;00m \u001b[43mos\u001b[49m.listdir(\u001b[33m\"\u001b[39m\u001b[33m../Data\u001b[39m\u001b[33m\"\u001b[39m):\n\u001b[32m      3\u001b[39m     \u001b[38;5;28;01mif\u001b[39;00m file_name.endswith(\u001b[33m\"\u001b[39m\u001b[33m.csv\u001b[39m\u001b[33m\"\u001b[39m):\n\u001b[32m      4\u001b[39m         file_path = os.path.join(data_dir, file_name)\n",
      "\u001b[31mNameError\u001b[39m: name 'os' is not defined"
     ]
    }
   ],
   "source": [
    "# Iterate through all CSV files in the directory\n",
    "for file_name in os.listdir(\"../Data\"):\n",
    "    if file_name.endswith(\".csv\"):\n",
    "        file_path = os.path.join(data_dir, file_name)\n",
    "        df = pd.read_csv(file_path)\n",
    "        dataframes.append(df)\n",
    "\n",
    "# Concatenate all dataframes\n",
    "combined_df = pd.concat(dataframes, ignore_index=True)\n",
    "\n",
    "# Save the combined dataframe to a single CSV file\n",
    "combined_df.to_csv(output_file, index=False)\n",
    "\n",
    "print(f\"Combined CSV file saved to: {output_file}\")"
   ]
  }
 ],
 "metadata": {
  "kernelspec": {
   "display_name": ".venv",
   "language": "python",
   "name": "python3"
  },
  "language_info": {
   "codemirror_mode": {
    "name": "ipython",
    "version": 3
   },
   "file_extension": ".py",
   "mimetype": "text/x-python",
   "name": "python",
   "nbconvert_exporter": "python",
   "pygments_lexer": "ipython3",
   "version": "3.12.6"
  }
 },
 "nbformat": 4,
 "nbformat_minor": 2
}
