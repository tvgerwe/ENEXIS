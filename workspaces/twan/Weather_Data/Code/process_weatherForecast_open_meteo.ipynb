{
 "cells": [
  {
   "cell_type": "code",
   "execution_count": null,
   "metadata": {},
   "outputs": [
    {
     "name": "stdout",
     "output_type": "stream",
     "text": [
      "Current working directory: /Users/Twan/Library/Mobile Documents/com~apple~CloudDocs/Data Science/Data Projects EASI/ENEXIS-2/workspaces/twan/Weather_Data/Code\n"
     ]
    }
   ],
   "source": [
    "import os\n",
    "\n",
    "# reviews a single CSV file, containing weatherForecasts, obtained through Weather Forecast API "
   ]
  },
  {
   "cell_type": "code",
   "execution_count": 3,
   "metadata": {},
   "outputs": [
    {
     "name": "stdout",
     "output_type": "stream",
     "text": [
      "Head of the dataframe:\n",
      "                        date  temperature_2m  cloud_cover  wind_speed_10m  \\\n",
      "0  2025-03-05 00:00:00+00:00          2.0045         21.0       11.879999   \n",
      "1  2025-03-05 01:00:00+00:00          1.5045          0.0       13.320000   \n",
      "2  2025-03-05 02:00:00+00:00          3.2045         55.0       14.400000   \n",
      "3  2025-03-05 03:00:00+00:00          1.9545         98.0       10.799999   \n",
      "4  2025-03-05 04:00:00+00:00          1.3545        100.0       16.560000   \n",
      "\n",
      "   diffuse_radiation  direct_normal_irradiance  shortwave_radiation  \\\n",
      "0                0.0                       0.0                  0.0   \n",
      "1                0.0                       0.0                  0.0   \n",
      "2                0.0                       0.0                  0.0   \n",
      "3                0.0                       0.0                  0.0   \n",
      "4                0.0                       0.0                  0.0   \n",
      "\n",
      "   apparent_temperature location         fetch_timestamp_utc  \n",
      "0             -1.597015    Eelde  2025-03-12 10:17:05.049940  \n",
      "1             -2.509155    Eelde  2025-03-12 10:17:05.049940  \n",
      "2             -0.819808    Eelde  2025-03-12 10:17:05.049940  \n",
      "3             -1.644759    Eelde  2025-03-12 10:17:05.049940  \n",
      "4             -3.014414    Eelde  2025-03-12 10:17:05.049940  \n",
      "\n",
      "Tail of the dataframe:\n",
      "                           date  temperature_2m  cloud_cover  wind_speed_10m  \\\n",
      "1339  2025-03-18 19:00:00+00:00            6.30          0.0       13.551500   \n",
      "1340  2025-03-18 20:00:00+00:00            5.70          0.0       12.864649   \n",
      "1341  2025-03-18 21:00:00+00:00            5.05          0.0       12.181625   \n",
      "1342  2025-03-18 22:00:00+00:00            4.25          0.0       11.503113   \n",
      "1343  2025-03-18 23:00:00+00:00            3.45          0.0       10.829958   \n",
      "\n",
      "      diffuse_radiation  direct_normal_irradiance  shortwave_radiation  \\\n",
      "1339                0.0                       0.0                  0.0   \n",
      "1340                0.0                       0.0                  0.0   \n",
      "1341                0.0                       0.0                  0.0   \n",
      "1342                0.0                       0.0                  0.0   \n",
      "1343                0.0                       0.0                  0.0   \n",
      "\n",
      "      apparent_temperature location         fetch_timestamp_utc  \n",
      "1339              1.732903  Sittard  2025-03-12 10:17:05.049940  \n",
      "1340              1.261172  Sittard  2025-03-12 10:17:05.049940  \n",
      "1341              0.697137  Sittard  2025-03-12 10:17:05.049940  \n",
      "1342             -0.008602  Sittard  2025-03-12 10:17:05.049940  \n",
      "1343             -0.720176  Sittard  2025-03-12 10:17:05.049940  \n"
     ]
    }
   ],
   "source": [
    "import pandas as pd\n",
    "\n",
    "# Import the CSV file\n",
    "weather_data = pd.read_csv('../Data/pred_weather_data_2025-03-12T10:17.csv')\n",
    "\n",
    "# Print the head of the dataframe\n",
    "print(\"Head of the dataframe:\")\n",
    "print(weather_data.head())\n",
    "\n",
    "# Print the tail of the dataframe\n",
    "print(\"\\nTail of the dataframe:\")\n",
    "print(weather_data.tail())"
   ]
  },
  {
   "cell_type": "code",
   "execution_count": 4,
   "metadata": {},
   "outputs": [
    {
     "name": "stdout",
     "output_type": "stream",
     "text": [
      "                             date  temperature_2m  cloud_cover  \\\n",
      "count                        1344     1344.000000  1344.000000   \n",
      "unique                        336             NaN          NaN   \n",
      "top     2025-03-05 00:00:00+00:00             NaN          NaN   \n",
      "freq                            4             NaN          NaN   \n",
      "mean                          NaN        6.797452    34.294643   \n",
      "std                           NaN        4.560642    40.259520   \n",
      "min     2025-03-05 00:00:00+00:00       -2.550000     0.000000   \n",
      "25%                           NaN        3.663000     0.000000   \n",
      "50%                           NaN        6.236000    10.000000   \n",
      "75%                           NaN        8.764125    76.000000   \n",
      "max     2025-03-18 23:00:00+00:00       19.300000   100.000000   \n",
      "\n",
      "        wind_speed_10m  diffuse_radiation  direct_normal_irradiance  \\\n",
      "count      1344.000000        1344.000000               1344.000000   \n",
      "unique             NaN                NaN                       NaN   \n",
      "top                NaN                NaN                       NaN   \n",
      "freq               NaN                NaN                       NaN   \n",
      "mean         10.286559          56.395506                195.229135   \n",
      "std           4.065974          67.930736                267.065918   \n",
      "min           0.000000           0.000000                  0.000000   \n",
      "25%           7.200000           0.000000                  0.000000   \n",
      "50%          10.277305           2.483384                  0.000000   \n",
      "75%          12.981232         131.361063                412.499105   \n",
      "max          23.400000         217.462940                903.894700   \n",
      "\n",
      "        shortwave_radiation  apparent_temperature location  \\\n",
      "count           1344.000000           1344.000000     1344   \n",
      "unique                  NaN                   NaN        4   \n",
      "top                     NaN                   NaN    Eelde   \n",
      "freq                    NaN                   NaN      336   \n",
      "mean             140.915179              3.603403      NaN   \n",
      "std              192.583916              5.036082      NaN   \n",
      "min                0.000000             -6.415231      NaN   \n",
      "25%                0.000000              0.311180      NaN   \n",
      "50%                3.000000              2.773008      NaN   \n",
      "75%              275.000000              5.864802      NaN   \n",
      "max              705.000000             16.948770      NaN   \n",
      "\n",
      "               fetch_timestamp_utc  \n",
      "count                         1344  \n",
      "unique                           1  \n",
      "top     2025-03-12 10:17:05.049940  \n",
      "freq                          1344  \n",
      "mean                           NaN  \n",
      "std                            NaN  \n",
      "min     2025-03-12 10:17:05.049940  \n",
      "25%                            NaN  \n",
      "50%                            NaN  \n",
      "75%                            NaN  \n",
      "max     2025-03-12 10:17:05.049940  \n"
     ]
    }
   ],
   "source": [
    "# Get summary statistics for all columns\n",
    "summary_statistics = weather_data.describe(include='all')\n",
    "\n",
    "# Calculate min and max for 'date' and 'fetch_timestamp_utc'\n",
    "date_min = weather_data['date'].min()\n",
    "date_max = weather_data['date'].max()\n",
    "fetch_timestamp_min = weather_data['fetch_timestamp_utc'].min()\n",
    "fetch_timestamp_max = weather_data['fetch_timestamp_utc'].max()\n",
    "\n",
    "# Add min and max to the summary statistics\n",
    "summary_statistics.loc['min', 'date'] = date_min\n",
    "summary_statistics.loc['max', 'date'] = date_max\n",
    "summary_statistics.loc['min', 'fetch_timestamp_utc'] = fetch_timestamp_min\n",
    "summary_statistics.loc['max', 'fetch_timestamp_utc'] = fetch_timestamp_max\n",
    "\n",
    "print(summary_statistics)"
   ]
  }
 ],
 "metadata": {
  "kernelspec": {
   "display_name": "Python 3",
   "language": "python",
   "name": "python3"
  },
  "language_info": {
   "codemirror_mode": {
    "name": "ipython",
    "version": 3
   },
   "file_extension": ".py",
   "mimetype": "text/x-python",
   "name": "python",
   "nbconvert_exporter": "python",
   "pygments_lexer": "ipython3",
   "version": "3.12.2"
  }
 },
 "nbformat": 4,
 "nbformat_minor": 2
}
