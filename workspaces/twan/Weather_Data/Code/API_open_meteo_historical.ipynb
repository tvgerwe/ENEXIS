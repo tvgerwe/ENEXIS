{
 "cells": [
  {
   "cell_type": "markdown",
   "metadata": {},
   "source": [
    "open-meteo.com provides hourly weather data, with high resolution. Hourly updates. predictions 16 days into to the future, as well as historical data.. Here the features are explored...\n",
    "\n",
    "You can access past weather data dating back to 1940 with the historical weather API \n",
    "offered. *However, there is a 5-day delay in the data*. If you want information for the most recent days, you can use the forecast API and adjust the Past Days setting."
   ]
  },
  {
   "cell_type": "markdown",
   "metadata": {},
   "source": [
    "The strongest correlation to PV (photovoltaic) production is generally found with the following historical weather features:\n",
    "\t1.\tDiffuse Horizontal Irradiance (DHI)\n",
    "\t2.\tDirect Normal Irradiance (DNI) – This measures the amount of solar radiation received per unit area directly from the sun at a normal (perpendicular) angle. It is crucial for systems with solar tracking but less relevant for fixed panels.\n",
    "\t3.\tShortwave Solar Radiation (GHI) – Global Horizontal Irradiance (GHI) is the total solar radiation received on a horizontal surface and is commonly used in PV modeling.\n",
    "\n",
    "    Additionally:\n",
    "     Cloud cover Total, \n",
    "     Windspeed (10m) - due to cooling effect on PVs & wind energy production, \n",
    "     Temperature (2 m) - due to effect on PV efficiency and consumption level, \n",
    "     wind speed (100 m) for wind energy production\n",
    "\n",
    "     are collected for De Bilt, Eelde (Groningen), Vlissingen, Sittard.\n",
    "     for period 2022-2024."
   ]
  },
  {
   "cell_type": "markdown",
   "metadata": {},
   "source": []
  },
  {
   "cell_type": "code",
   "execution_count": 1,
   "metadata": {},
   "outputs": [
    {
     "name": "stdout",
     "output_type": "stream",
     "text": [
      "Requirement already satisfied: openmeteo-requests in /Users/Twan/.pyenv/versions/3.12.2/lib/python3.12/site-packages (1.3.0)\n",
      "Requirement already satisfied: openmeteo-sdk>=1.4.0 in /Users/Twan/.pyenv/versions/3.12.2/lib/python3.12/site-packages (from openmeteo-requests) (1.19.0)\n",
      "Requirement already satisfied: requests in /Users/Twan/.pyenv/versions/3.12.2/lib/python3.12/site-packages (from openmeteo-requests) (2.32.3)\n",
      "Requirement already satisfied: flatbuffers==25.2.10 in /Users/Twan/.pyenv/versions/3.12.2/lib/python3.12/site-packages (from openmeteo-sdk>=1.4.0->openmeteo-requests) (25.2.10)\n",
      "Requirement already satisfied: charset-normalizer<4,>=2 in /Users/Twan/.pyenv/versions/3.12.2/lib/python3.12/site-packages (from requests->openmeteo-requests) (3.4.1)\n",
      "Requirement already satisfied: idna<4,>=2.5 in /Users/Twan/.pyenv/versions/3.12.2/lib/python3.12/site-packages (from requests->openmeteo-requests) (3.10)\n",
      "Requirement already satisfied: urllib3<3,>=1.21.1 in /Users/Twan/.pyenv/versions/3.12.2/lib/python3.12/site-packages (from requests->openmeteo-requests) (2.3.0)\n",
      "Requirement already satisfied: certifi>=2017.4.17 in /Users/Twan/.pyenv/versions/3.12.2/lib/python3.12/site-packages (from requests->openmeteo-requests) (2025.1.31)\n",
      "Requirement already satisfied: requests-cache in /Users/Twan/.pyenv/versions/3.12.2/lib/python3.12/site-packages (1.2.1)\n",
      "Requirement already satisfied: retry-requests in /Users/Twan/.pyenv/versions/3.12.2/lib/python3.12/site-packages (2.0.0)\n",
      "Requirement already satisfied: numpy in /Users/Twan/.pyenv/versions/3.12.2/lib/python3.12/site-packages (2.1.3)\n",
      "Requirement already satisfied: pandas in /Users/Twan/.pyenv/versions/3.12.2/lib/python3.12/site-packages (2.2.3)\n",
      "Requirement already satisfied: attrs>=21.2 in /Users/Twan/.pyenv/versions/3.12.2/lib/python3.12/site-packages (from requests-cache) (25.1.0)\n",
      "Requirement already satisfied: cattrs>=22.2 in /Users/Twan/.pyenv/versions/3.12.2/lib/python3.12/site-packages (from requests-cache) (24.1.2)\n",
      "Requirement already satisfied: platformdirs>=2.5 in /Users/Twan/.pyenv/versions/3.12.2/lib/python3.12/site-packages (from requests-cache) (4.3.6)\n",
      "Requirement already satisfied: requests>=2.22 in /Users/Twan/.pyenv/versions/3.12.2/lib/python3.12/site-packages (from requests-cache) (2.32.3)\n",
      "Requirement already satisfied: url-normalize>=1.4 in /Users/Twan/.pyenv/versions/3.12.2/lib/python3.12/site-packages (from requests-cache) (1.4.3)\n",
      "Requirement already satisfied: urllib3>=1.25.5 in /Users/Twan/.pyenv/versions/3.12.2/lib/python3.12/site-packages (from requests-cache) (2.3.0)\n",
      "Requirement already satisfied: python-dateutil>=2.8.2 in /Users/Twan/.pyenv/versions/3.12.2/lib/python3.12/site-packages (from pandas) (2.9.0.post0)\n",
      "Requirement already satisfied: pytz>=2020.1 in /Users/Twan/.pyenv/versions/3.12.2/lib/python3.12/site-packages (from pandas) (2025.1)\n",
      "Requirement already satisfied: tzdata>=2022.7 in /Users/Twan/.pyenv/versions/3.12.2/lib/python3.12/site-packages (from pandas) (2025.1)\n",
      "Requirement already satisfied: six>=1.5 in /Users/Twan/.pyenv/versions/3.12.2/lib/python3.12/site-packages (from python-dateutil>=2.8.2->pandas) (1.17.0)\n",
      "Requirement already satisfied: charset-normalizer<4,>=2 in /Users/Twan/.pyenv/versions/3.12.2/lib/python3.12/site-packages (from requests>=2.22->requests-cache) (3.4.1)\n",
      "Requirement already satisfied: idna<4,>=2.5 in /Users/Twan/.pyenv/versions/3.12.2/lib/python3.12/site-packages (from requests>=2.22->requests-cache) (3.10)\n",
      "Requirement already satisfied: certifi>=2017.4.17 in /Users/Twan/.pyenv/versions/3.12.2/lib/python3.12/site-packages (from requests>=2.22->requests-cache) (2025.1.31)\n"
     ]
    }
   ],
   "source": [
    "!pip install openmeteo-requests\n",
    "!pip install requests-cache retry-requests numpy pandas"
   ]
  },
  {
   "cell_type": "code",
   "execution_count": 3,
   "metadata": {},
   "outputs": [
    {
     "name": "stdout",
     "output_type": "stream",
     "text": [
      "Coordinates 52.12653732299805°N 5.138121604919434°E\n",
      "Elevation 5.0 m asl\n",
      "Timezone None None\n",
      "Timezone difference to GMT+0 0 s\n",
      "                           date  temperature_2m  cloud_cover  wind_speed_10m  \\\n",
      "0     2022-01-01 00:00:00+00:00         10.4565        100.0       17.713316   \n",
      "1     2022-01-01 01:00:00+00:00         10.8065        100.0       16.199999   \n",
      "2     2022-01-01 02:00:00+00:00         10.5065         82.0       18.000000   \n",
      "3     2022-01-01 03:00:00+00:00         10.2565         47.0       16.323528   \n",
      "4     2022-01-01 04:00:00+00:00         10.1565        100.0       16.563911   \n",
      "...                         ...             ...          ...             ...   \n",
      "26299 2024-12-31 19:00:00+00:00          5.6565        100.0       24.541468   \n",
      "26300 2024-12-31 20:00:00+00:00          6.4565        100.0       24.817816   \n",
      "26301 2024-12-31 21:00:00+00:00          7.2065        100.0       25.750067   \n",
      "26302 2024-12-31 22:00:00+00:00          7.7065        100.0       27.103003   \n",
      "26303 2024-12-31 23:00:00+00:00          8.2565        100.0       28.348713   \n",
      "\n",
      "       shortwave_radiation  diffuse_radiation  direct_normal_irradiance  \n",
      "0                      0.0                0.0                       0.0  \n",
      "1                      0.0                0.0                       0.0  \n",
      "2                      0.0                0.0                       0.0  \n",
      "3                      0.0                0.0                       0.0  \n",
      "4                      0.0                0.0                       0.0  \n",
      "...                    ...                ...                       ...  \n",
      "26299                  0.0                0.0                       0.0  \n",
      "26300                  0.0                0.0                       0.0  \n",
      "26301                  0.0                0.0                       0.0  \n",
      "26302                  0.0                0.0                       0.0  \n",
      "26303                  0.0                0.0                       0.0  \n",
      "\n",
      "[26304 rows x 7 columns]\n"
     ]
    }
   ],
   "source": [
    "import openmeteo_requests\n",
    "\n",
    "import requests_cache\n",
    "import pandas as pd\n",
    "from retry_requests import retry\n",
    "\n",
    "# Setup the Open-Meteo API client with cache and retry on error\n",
    "cache_session = requests_cache.CachedSession('.cache', expire_after = -1)\n",
    "retry_session = retry(cache_session, retries = 5, backoff_factor = 0.2)\n",
    "openmeteo = openmeteo_requests.Client(session = retry_session)\n",
    "\n",
    "# Make sure all required weather variables are listed here\n",
    "# The order of variables in hourly or daily is important to assign them correctly below\n",
    "url = \"https://archive-api.open-meteo.com/v1/archive\"\n",
    "params = {\n",
    "\t\"latitude\": [52.12949, 53.214469, 51.455677, 50.998299],\n",
    "\t\"longitude\": [5.20514, 6.566481, 3.576488, 5.86291],\n",
    "\t\"start_date\": \"2022-01-01\",\n",
    "\t\"end_date\": \"2024-12-31\",\n",
    "\t\"hourly\": [\"temperature_2m\", \"cloud_cover\", \"wind_speed_10m\", \"shortwave_radiation\", \"diffuse_radiation\", \"direct_normal_irradiance\"]\n",
    "}\n",
    "responses = openmeteo.weather_api(url, params=params)\n",
    "\n",
    "# Process first location. Add a for-loop for multiple locations or weather models\n",
    "response = responses[0]\n",
    "print(f\"Coordinates {response.Latitude()}°N {response.Longitude()}°E\")\n",
    "print(f\"Elevation {response.Elevation()} m asl\")\n",
    "print(f\"Timezone {response.Timezone()} {response.TimezoneAbbreviation()}\")\n",
    "print(f\"Timezone difference to GMT+0 {response.UtcOffsetSeconds()} s\")\n",
    "\n",
    "# Process hourly data. The order of variables needs to be the same as requested.\n",
    "hourly = response.Hourly()\n",
    "hourly_temperature_2m = hourly.Variables(0).ValuesAsNumpy()\n",
    "hourly_cloud_cover = hourly.Variables(1).ValuesAsNumpy()\n",
    "hourly_wind_speed_10m = hourly.Variables(2).ValuesAsNumpy()\n",
    "hourly_shortwave_radiation = hourly.Variables(3).ValuesAsNumpy()\n",
    "hourly_diffuse_radiation = hourly.Variables(4).ValuesAsNumpy()\n",
    "hourly_direct_normal_irradiance = hourly.Variables(5).ValuesAsNumpy()\n",
    "\n",
    "hourly_data = {\"date\": pd.date_range(\n",
    "\tstart = pd.to_datetime(hourly.Time(), unit = \"s\", utc = True),\n",
    "\tend = pd.to_datetime(hourly.TimeEnd(), unit = \"s\", utc = True),\n",
    "\tfreq = pd.Timedelta(seconds = hourly.Interval()),\n",
    "\tinclusive = \"left\"\n",
    ")}\n",
    "\n",
    "hourly_data[\"temperature_2m\"] = hourly_temperature_2m\n",
    "hourly_data[\"cloud_cover\"] = hourly_cloud_cover\n",
    "hourly_data[\"wind_speed_10m\"] = hourly_wind_speed_10m\n",
    "hourly_data[\"shortwave_radiation\"] = hourly_shortwave_radiation\n",
    "hourly_data[\"diffuse_radiation\"] = hourly_diffuse_radiation\n",
    "hourly_data[\"direct_normal_irradiance\"] = hourly_direct_normal_irradiance\n",
    "\n",
    "hourly_dataframe = pd.DataFrame(data = hourly_data)\n",
    "print(hourly_dataframe)"
   ]
  },
  {
   "cell_type": "code",
   "execution_count": 4,
   "metadata": {},
   "outputs": [
    {
     "name": "stdout",
     "output_type": "stream",
     "text": [
      "The size of the dataframe is: (26304, 7)\n"
     ]
    }
   ],
   "source": [
    "df_size = hourly_dataframe.shape\n",
    "print(f\"The size of the dataframe is: {df_size}\")"
   ]
  },
  {
   "cell_type": "code",
   "execution_count": 5,
   "metadata": {},
   "outputs": [
    {
     "name": "stdout",
     "output_type": "stream",
     "text": [
      "The size of the dataframe in kilobytes is: 822.13 KB\n"
     ]
    }
   ],
   "source": [
    "# Calculate the memory usage of the dataframe in bytes\n",
    "memory_usage_bytes = hourly_dataframe.memory_usage(deep=True).sum()\n",
    "\n",
    "# Convert the memory usage to kilobytes\n",
    "memory_usage_kb = memory_usage_bytes / 1024\n",
    "\n",
    "print(f\"The size of the dataframe in kilobytes is: {memory_usage_kb:.2f} KB\")"
   ]
  },
  {
   "cell_type": "code",
   "execution_count": 6,
   "metadata": {},
   "outputs": [
    {
     "name": "stdout",
     "output_type": "stream",
     "text": [
      "       temperature_2m   cloud_cover  wind_speed_10m  shortwave_radiation  \\\n",
      "count    26304.000000  26304.000000    26304.000000         26304.000000   \n",
      "mean        11.558265     68.745171       14.702046           131.648270   \n",
      "std          6.358396     38.889961        7.269707           204.015564   \n",
      "min         -6.693500      0.000000        0.000000             0.000000   \n",
      "25%          7.056500     31.000000        9.144637             0.000000   \n",
      "50%         11.306500     97.000000       13.608762             5.000000   \n",
      "75%         16.156500    100.000000       18.998316           201.250000   \n",
      "max         34.256500    100.000000       57.785324           884.000000   \n",
      "\n",
      "       diffuse_radiation  direct_normal_irradiance  \n",
      "count       26304.000000              26304.000000  \n",
      "mean           53.949970                152.752487  \n",
      "std            76.681427                246.064987  \n",
      "min             0.000000                  0.000000  \n",
      "25%             0.000000                  0.000000  \n",
      "50%             5.000000                  0.000000  \n",
      "75%            91.000000                245.248131  \n",
      "max           413.000000                907.784668  \n"
     ]
    }
   ],
   "source": [
    "# Generate descriptive statistics for all columns in the dataframe\n",
    "descriptive_stats = hourly_dataframe.describe()\n",
    "print(descriptive_stats)"
   ]
  }
 ],
 "metadata": {
  "kernelspec": {
   "display_name": "Python 3",
   "language": "python",
   "name": "python3"
  },
  "language_info": {
   "codemirror_mode": {
    "name": "ipython",
    "version": 3
   },
   "file_extension": ".py",
   "mimetype": "text/x-python",
   "name": "python",
   "nbconvert_exporter": "python",
   "pygments_lexer": "ipython3",
   "version": "3.12.2"
  }
 },
 "nbformat": 4,
 "nbformat_minor": 2
}
