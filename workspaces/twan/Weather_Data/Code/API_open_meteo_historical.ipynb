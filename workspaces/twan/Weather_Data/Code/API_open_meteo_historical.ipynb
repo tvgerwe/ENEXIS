{
 "cells": [
  {
   "cell_type": "markdown",
   "metadata": {},
   "source": [
    "open-meteo.com provides hourly weather data, with high resolution. Hourly updates. predictions 16 days into to the future, as well as historical data.. Here the features are explored...\n",
    "\n",
    "You can access past weather data dating back to 1940 with the historical weather API \n",
    "offered. *However, there is a 5-day delay in the data*. If you want information for the most recent days, you can use the forecast API and adjust the Past Days setting.\n",
    "\n",
    "https://open-meteo.com/en/docs/historical-weather-api"
   ]
  },
  {
   "cell_type": "markdown",
   "metadata": {},
   "source": [
    "The strongest correlation to PV (photovoltaic) production is generally found with the following historical weather features:\n",
    "1.\tDiffuse Horizontal Irradiance (DHI)\n",
    "2.\tDirect Normal Irradiance (DNI) – This measures the amount of solar radiation received per unit area directly from the sun at a normal (perpendicular) angle. It is crucial for systems with solar tracking but less relevant for fixed panels.\n",
    "3.\tShortwave Solar Radiation (GHI) – Global Horizontal Irradiance (GHI) is the total solar radiation received on a horizontal surface and is commonly used in PV modeling.\n",
    "\n",
    "Additional weaterh features selected for download:\n",
    "\n",
    "4.Cloud cover Total\n",
    "\n",
    "5.Windspeed (10m) - due to cooling effect on PVs & wind energy production\n",
    "\n",
    "6.Temperature (2 m) - due to effect on PV efficiency and consumption level\n",
    "\n",
    "7.wind speed (100 m) for wind energy production\n",
    "\n",
    "     Data collected for De Bilt, Eelde (Groningen), Vlissingen, Sittard.\n",
    "     for period 2022-2024."
   ]
  },
  {
   "cell_type": "markdown",
   "metadata": {},
   "source": []
  },
  {
   "cell_type": "code",
   "execution_count": 6,
   "metadata": {},
   "outputs": [
    {
     "name": "stdout",
     "output_type": "stream",
     "text": [
      "Requirement already satisfied: openmeteo-requests in /Users/Twan/.pyenv/versions/3.12.2/lib/python3.12/site-packages (1.3.0)\n",
      "Requirement already satisfied: openmeteo-sdk>=1.4.0 in /Users/Twan/.pyenv/versions/3.12.2/lib/python3.12/site-packages (from openmeteo-requests) (1.19.0)\n",
      "Requirement already satisfied: requests in /Users/Twan/.pyenv/versions/3.12.2/lib/python3.12/site-packages (from openmeteo-requests) (2.32.3)\n",
      "Requirement already satisfied: flatbuffers==25.2.10 in /Users/Twan/.pyenv/versions/3.12.2/lib/python3.12/site-packages (from openmeteo-sdk>=1.4.0->openmeteo-requests) (25.2.10)\n",
      "Requirement already satisfied: charset-normalizer<4,>=2 in /Users/Twan/.pyenv/versions/3.12.2/lib/python3.12/site-packages (from requests->openmeteo-requests) (3.4.1)\n",
      "Requirement already satisfied: idna<4,>=2.5 in /Users/Twan/.pyenv/versions/3.12.2/lib/python3.12/site-packages (from requests->openmeteo-requests) (3.10)\n",
      "Requirement already satisfied: urllib3<3,>=1.21.1 in /Users/Twan/.pyenv/versions/3.12.2/lib/python3.12/site-packages (from requests->openmeteo-requests) (2.3.0)\n",
      "Requirement already satisfied: certifi>=2017.4.17 in /Users/Twan/.pyenv/versions/3.12.2/lib/python3.12/site-packages (from requests->openmeteo-requests) (2025.1.31)\n",
      "Note: you may need to restart the kernel to use updated packages.\n",
      "Requirement already satisfied: requests-cache in /Users/Twan/.pyenv/versions/3.12.2/lib/python3.12/site-packages (1.2.1)\n",
      "Requirement already satisfied: retry-requests in /Users/Twan/.pyenv/versions/3.12.2/lib/python3.12/site-packages (2.0.0)\n",
      "Requirement already satisfied: numpy in /Users/Twan/.pyenv/versions/3.12.2/lib/python3.12/site-packages (2.1.3)\n",
      "Requirement already satisfied: pandas in /Users/Twan/.pyenv/versions/3.12.2/lib/python3.12/site-packages (2.2.3)\n",
      "Requirement already satisfied: attrs>=21.2 in /Users/Twan/.pyenv/versions/3.12.2/lib/python3.12/site-packages (from requests-cache) (25.1.0)\n",
      "Requirement already satisfied: cattrs>=22.2 in /Users/Twan/.pyenv/versions/3.12.2/lib/python3.12/site-packages (from requests-cache) (24.1.2)\n",
      "Requirement already satisfied: platformdirs>=2.5 in /Users/Twan/.pyenv/versions/3.12.2/lib/python3.12/site-packages (from requests-cache) (4.3.6)\n",
      "Requirement already satisfied: requests>=2.22 in /Users/Twan/.pyenv/versions/3.12.2/lib/python3.12/site-packages (from requests-cache) (2.32.3)\n",
      "Requirement already satisfied: url-normalize>=1.4 in /Users/Twan/.pyenv/versions/3.12.2/lib/python3.12/site-packages (from requests-cache) (1.4.3)\n",
      "Requirement already satisfied: urllib3>=1.25.5 in /Users/Twan/.pyenv/versions/3.12.2/lib/python3.12/site-packages (from requests-cache) (2.3.0)\n",
      "Requirement already satisfied: python-dateutil>=2.8.2 in /Users/Twan/.pyenv/versions/3.12.2/lib/python3.12/site-packages (from pandas) (2.9.0.post0)\n",
      "Requirement already satisfied: pytz>=2020.1 in /Users/Twan/.pyenv/versions/3.12.2/lib/python3.12/site-packages (from pandas) (2025.1)\n",
      "Requirement already satisfied: tzdata>=2022.7 in /Users/Twan/.pyenv/versions/3.12.2/lib/python3.12/site-packages (from pandas) (2025.1)\n",
      "Requirement already satisfied: six>=1.5 in /Users/Twan/.pyenv/versions/3.12.2/lib/python3.12/site-packages (from python-dateutil>=2.8.2->pandas) (1.17.0)\n",
      "Requirement already satisfied: charset-normalizer<4,>=2 in /Users/Twan/.pyenv/versions/3.12.2/lib/python3.12/site-packages (from requests>=2.22->requests-cache) (3.4.1)\n",
      "Requirement already satisfied: idna<4,>=2.5 in /Users/Twan/.pyenv/versions/3.12.2/lib/python3.12/site-packages (from requests>=2.22->requests-cache) (3.10)\n",
      "Requirement already satisfied: certifi>=2017.4.17 in /Users/Twan/.pyenv/versions/3.12.2/lib/python3.12/site-packages (from requests>=2.22->requests-cache) (2025.1.31)\n",
      "Note: you may need to restart the kernel to use updated packages.\n"
     ]
    }
   ],
   "source": [
    "%pip install openmeteo-requests\n",
    "%pip install requests-cache retry-requests numpy pandas"
   ]
  },
  {
   "cell_type": "code",
   "execution_count": 7,
   "metadata": {},
   "outputs": [
    {
     "name": "stdout",
     "output_type": "stream",
     "text": [
      "Data saved to ../Data/hist_weather_data_2022-2024_app_temp2025-03-19T09-46-18+00-00.csv\n"
     ]
    }
   ],
   "source": [
    "import openmeteo_requests\n",
    "import requests_cache\n",
    "import pandas as pd\n",
    "from retry_requests import retry\n",
    "from datetime import datetime, timezone\n",
    "import os\n",
    "\n",
    "# Setup the Open-Meteo API client with cache and retry on error\n",
    "cache_session = requests_cache.CachedSession('.cache', expire_after=-1)\n",
    "retry_session = retry(cache_session, retries=5, backoff_factor=0.2)\n",
    "openmeteo = openmeteo_requests.Client(session=retry_session)\n",
    "\n",
    "# Define locations\n",
    "locations = [\n",
    "    (\"DeBilt\", 52.12949, 5.20514),\n",
    "    (\"Eelde\", 53.214469, 6.566481),\n",
    "    (\"Vlissingen\", 51.455677, 3.576488),\n",
    "    (\"Sittard\", 50.998299, 5.86291)\n",
    "]\n",
    "\n",
    "# Open-Meteo API parameters\n",
    "url = \"https://archive-api.open-meteo.com/v1/archive\"\n",
    "params = {\n",
    "    \"latitude\": [loc[1] for loc in locations],\n",
    "    \"longitude\": [loc[2] for loc in locations],\n",
    "    \"start_date\": \"2022-01-01\",\n",
    "    \"end_date\": \"2024-12-31\",\n",
    "    \"hourly\": [\"temperature_2m\", \"apparent_temperature\", \"cloud_cover\", \"wind_speed_10m\", \"diffuse_radiation\", \"direct_normal_irradiance\", \"shortwave_radiation\", \"wind_speed_100m\"]\n",
    "}\n",
    "\n",
    "# Fetch data from Open-Meteo\n",
    "responses = openmeteo.weather_api(url, params=params)\n",
    "\n",
    "# Store results in a list\n",
    "dataframes = []\n",
    "for i, response in enumerate(responses):\n",
    "    location_name = locations[i][0]\n",
    "    \n",
    "    # Process hourly data\n",
    "    hourly = response.Hourly()\n",
    "    hourly_data = {\n",
    "        \"date\": pd.date_range(\n",
    "            start=pd.to_datetime(hourly.Time(), unit=\"s\", utc=True),\n",
    "            end=pd.to_datetime(hourly.TimeEnd(), unit=\"s\", utc=True),\n",
    "            freq=pd.Timedelta(seconds=hourly.Interval()),\n",
    "            inclusive=\"left\"\n",
    "        ),\n",
    "        \"temperature_2m\": hourly.Variables(0).ValuesAsNumpy(),\n",
    "        \"apparent_temperature\": hourly.Variables(1).ValuesAsNumpy(),\n",
    "        \"cloud_cover\": hourly.Variables(2).ValuesAsNumpy(),\n",
    "        \"wind_speed_10m\": hourly.Variables(3).ValuesAsNumpy(),\n",
    "        \"diffuse_radiation\": hourly.Variables(4).ValuesAsNumpy(),\n",
    "        \"direct_normal_irradiance\": hourly.Variables(5).ValuesAsNumpy(),\n",
    "        \"shortwave_radiation\": hourly.Variables(6).ValuesAsNumpy(),\n",
    "        \"wind_speed_100m\": hourly.Variables(7).ValuesAsNumpy(),\n",
    "        \"location\": location_name  # Add location column\n",
    "    }\n",
    "\n",
    "    # Convert to DataFrame\n",
    "    df = pd.DataFrame(hourly_data)\n",
    "    dataframes.append(df)\n",
    "\n",
    "# Combine all data into a single DataFrame\n",
    "final_dataframe = pd.concat(dataframes, ignore_index=True)\n",
    "\n",
    "# Generate timestamp for filename\n",
    "fetch_timestamp = datetime.now(timezone.utc)\n",
    "timestamp_str = fetch_timestamp.isoformat(timespec='seconds').replace(':', '-')\n",
    "\n",
    "\n",
    "\n",
    "csv_filename = f\"../Data/hist_weather_data_2022-2024_app_temp{timestamp_str}.csv\"\n",
    "final_dataframe.to_csv(csv_filename, index=False)\n",
    "\n",
    "print(f\"Data saved to {csv_filename}\")"
   ]
  },
  {
   "cell_type": "code",
   "execution_count": 9,
   "metadata": {},
   "outputs": [
    {
     "name": "stdout",
     "output_type": "stream",
     "text": [
      "The size of the dataframe in kilobytes is: 9864.13 KB\n"
     ]
    }
   ],
   "source": [
    "# Calculate the memory usage of the dataframe in bytes\n",
    "memory_usage_bytes = final_dataframe.memory_usage(deep=True).sum()\n",
    "\n",
    "# Convert the memory usage to kilobytes\n",
    "memory_usage_kb = memory_usage_bytes / 1024\n",
    "\n",
    "print(f\"The size of the dataframe in kilobytes is: {memory_usage_kb:.2f} KB\")"
   ]
  },
  {
   "cell_type": "code",
   "execution_count": 10,
   "metadata": {},
   "outputs": [
    {
     "name": "stdout",
     "output_type": "stream",
     "text": [
      "       temperature_2m  apparent_temperature    cloud_cover  wind_speed_10m  \\\n",
      "count   105216.000000         105216.000000  105216.000000   105216.000000   \n",
      "mean        11.605397              9.161288      68.949387       14.674639   \n",
      "std          6.504124              7.924563      38.901718        7.488455   \n",
      "min         -7.765000            -12.164773       0.000000        0.000000   \n",
      "25%          6.985000              3.226279      31.000000        8.905908   \n",
      "50%         11.282500              8.491557      97.000000       13.450708   \n",
      "75%         16.256500             14.966424     100.000000       19.130875   \n",
      "max         38.667500             38.013386     100.000000       58.288883   \n",
      "\n",
      "       diffuse_radiation  direct_normal_irradiance  shortwave_radiation  \\\n",
      "count      105216.000000             105216.000000        105216.000000   \n",
      "mean           54.064438                152.637650           132.234940   \n",
      "std            76.475777                246.768539           205.149323   \n",
      "min             0.000000                  0.000000             0.000000   \n",
      "25%             0.000000                  0.000000             0.000000   \n",
      "50%             5.000000                  0.000000             5.000000   \n",
      "75%            92.000000                243.681454           202.000000   \n",
      "max           413.000000                921.737976           902.000000   \n",
      "\n",
      "       wind_speed_100m  \n",
      "count    105216.000000  \n",
      "mean         24.651751  \n",
      "std          11.467016  \n",
      "min           0.000000  \n",
      "25%          16.575644  \n",
      "50%          23.532547  \n",
      "75%          31.353085  \n",
      "max          89.758476  \n"
     ]
    }
   ],
   "source": [
    "# Generate descriptive statistics for all columns in the dataframe\n",
    "descriptive_stats = final_dataframe.describe()\n",
    "print(descriptive_stats)"
   ]
  }
 ],
 "metadata": {
  "kernelspec": {
   "display_name": "Python 3",
   "language": "python",
   "name": "python3"
  },
  "language_info": {
   "codemirror_mode": {
    "name": "ipython",
    "version": 3
   },
   "file_extension": ".py",
   "mimetype": "text/x-python",
   "name": "python",
   "nbconvert_exporter": "python",
   "pygments_lexer": "ipython3",
   "version": "3.12.2"
  }
 },
 "nbformat": 4,
 "nbformat_minor": 2
}
