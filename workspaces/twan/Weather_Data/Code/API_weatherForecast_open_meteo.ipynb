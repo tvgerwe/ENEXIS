{
 "cells": [
  {
   "cell_type": "markdown",
   "metadata": {},
   "source": [
    "Forecast Data, https://open-meteo.com/en/docs/knmi-api\n",
    "-7 to +7 days (Past days + Predictions), as historical weather API has a 5 days delay...\n",
    "Weather features included:\n"
   ]
  },
  {
   "cell_type": "code",
   "execution_count": 6,
   "metadata": {},
   "outputs": [
    {
     "name": "stderr",
     "output_type": "stream",
     "text": [
      "/var/folders/6_/0hk4r2517rd0g1wg9893jqz40000gp/T/ipykernel_31763/536470782.py:34: DeprecationWarning: datetime.datetime.utcnow() is deprecated and scheduled for removal in a future version. Use timezone-aware objects to represent datetimes in UTC: datetime.datetime.now(datetime.UTC).\n",
      "  fetch_timestamp = datetime.utcnow()\n"
     ]
    },
    {
     "name": "stdout",
     "output_type": "stream",
     "text": [
      "Data saved to ../Data/pred_weather_data_2025-03-24T20:48.csv\n",
      "Data saved to ../Data/pred_weather_data_2025-03-24T23:48.csv\n",
      "Data saved to ../Data/pred_weather_data_2025-03-25T02:48.csv\n",
      "Data saved to ../Data/pred_weather_data_2025-03-25T05:48.csv\n",
      "Data saved to ../Data/pred_weather_data_2025-03-25T09:24.csv\n",
      "Data saved to ../Data/pred_weather_data_2025-03-25T12:24.csv\n",
      "Data saved to ../Data/pred_weather_data_2025-03-25T15:24.csv\n"
     ]
    },
    {
     "ename": "KeyboardInterrupt",
     "evalue": "",
     "output_type": "error",
     "traceback": [
      "\u001b[31m---------------------------------------------------------------------------\u001b[39m",
      "\u001b[31mKeyboardInterrupt\u001b[39m                         Traceback (most recent call last)",
      "\u001b[36mCell\u001b[39m\u001b[36m \u001b[39m\u001b[32mIn[6]\u001b[39m\u001b[32m, line 72\u001b[39m\n\u001b[32m     69\u001b[39m \u001b[38;5;28mprint\u001b[39m(\u001b[33mf\u001b[39m\u001b[33m\"\u001b[39m\u001b[33mData saved to \u001b[39m\u001b[38;5;132;01m{\u001b[39;00mcsv_filename\u001b[38;5;132;01m}\u001b[39;00m\u001b[33m\"\u001b[39m)\n\u001b[32m     71\u001b[39m \u001b[38;5;66;03m# Wait for 3 hour before fetching again\u001b[39;00m\n\u001b[32m---> \u001b[39m\u001b[32m72\u001b[39m \u001b[43mtime\u001b[49m\u001b[43m.\u001b[49m\u001b[43msleep\u001b[49m\u001b[43m(\u001b[49m\u001b[32;43m3\u001b[39;49m\u001b[43m*\u001b[49m\u001b[32;43m3600\u001b[39;49m\u001b[43m)\u001b[49m\n",
      "\u001b[31mKeyboardInterrupt\u001b[39m: "
     ]
    }
   ],
   "source": [
    "import openmeteo_requests\n",
    "import requests_cache\n",
    "import pandas as pd\n",
    "from retry_requests import retry\n",
    "from datetime import datetime, timedelta\n",
    "import time\n",
    "\n",
    "# Setup the Open-Meteo API client with cache and retry on error\n",
    "cache_session = requests_cache.CachedSession('.cache', expire_after=3600)\n",
    "retry_session = retry(cache_session, retries=5, backoff_factor=0.2)\n",
    "openmeteo = openmeteo_requests.Client(session=retry_session)\n",
    "\n",
    "# Define locations\n",
    "locations = [\n",
    "    (\"Eelde\", 53.214469, 6.566481),\n",
    "    (\"DeBilt\", 52.108499, 5.180616),\n",
    "    (\"Vlissingen\", 51.455677, 3.576488),\n",
    "    (\"Sittard\", 50.998299, 5.86291)\n",
    "]\n",
    "\n",
    "# Make sure all required weather variables are listed here\n",
    "url = \"https://api.open-meteo.com/v1/forecast\"\n",
    "params = {\n",
    "    \"latitude\": [lat for _, lat, _ in locations],\n",
    "    \"longitude\": [lon for _, _, lon in locations],\n",
    "    \"hourly\": [\n",
    "        \"temperature_2m\", \"cloud_cover\", \"wind_speed_10m\", \n",
    "        \"diffuse_radiation\", \"direct_normal_irradiance\", \"shortwave_radiation\", \"apparent_temperature\"],\n",
    "    \"models\": \"knmi_seamless\",\n",
    "    \"past_days\": 7\n",
    "}\n",
    "\n",
    "while True:\n",
    "    fetch_timestamp = datetime.utcnow()\n",
    "    responses = openmeteo.weather_api(url, params=params)\n",
    "\n",
    "    # Collect data for all locations\n",
    "    dataframes = []\n",
    "    for idx, (location_name, _, _) in enumerate(locations):\n",
    "        response = responses[idx]\n",
    "        hourly = response.Hourly()\n",
    "        hourly_data = {\n",
    "            \"date\": pd.date_range(\n",
    "                start=pd.to_datetime(hourly.Time(), unit=\"s\", utc=True),\n",
    "                end=pd.to_datetime(hourly.TimeEnd(), unit=\"s\", utc=True),\n",
    "                freq=pd.Timedelta(seconds=hourly.Interval()),\n",
    "                inclusive=\"left\"\n",
    "            ),\n",
    "            \"temperature_2m\": hourly.Variables(0).ValuesAsNumpy(),\n",
    "            \"cloud_cover\": hourly.Variables(1).ValuesAsNumpy(),\n",
    "            \"wind_speed_10m\": hourly.Variables(2).ValuesAsNumpy(),\n",
    "            \"diffuse_radiation\": hourly.Variables(3).ValuesAsNumpy(),\n",
    "            \"direct_normal_irradiance\": hourly.Variables(4).ValuesAsNumpy(),\n",
    "            \"shortwave_radiation\": hourly.Variables(5).ValuesAsNumpy(),\n",
    "            \"apparent_temperature\": hourly.Variables(6).ValuesAsNumpy(),\n",
    "            \"location\": location_name,\n",
    "            \"fetch_timestamp_utc\": fetch_timestamp\n",
    "        }\n",
    "        dataframes.append(pd.DataFrame(data=hourly_data))\n",
    "\n",
    "    # Combine all data into a single DataFrame\n",
    "    final_dataframe = pd.concat(dataframes, ignore_index=True)\n",
    "\n",
    "    # Save to CSV with timestamped filename in the Data folder\n",
    "    timestamp_str = fetch_timestamp.isoformat(timespec='minutes')\n",
    "    csv_filename = f\"../Data/pred_weather_data_{timestamp_str}.csv\"\n",
    "    final_dataframe.to_csv(csv_filename, index=False)\n",
    "\n",
    "    print(f\"Data saved to {csv_filename}\")\n",
    "\n",
    "    # Wait for 3 hour before fetching again\n",
    "    time.sleep(3*3600)\n"
   ]
  },
  {
   "cell_type": "code",
   "execution_count": null,
   "metadata": {},
   "outputs": [
    {
     "name": "stderr",
     "output_type": "stream",
     "text": [
      "/var/folders/6_/0hk4r2517rd0g1wg9893jqz40000gp/T/ipykernel_16619/2302601785.py:42: DeprecationWarning: datetime.datetime.utcnow() is deprecated and scheduled for removal in a future version. Use timezone-aware objects to represent datetimes in UTC: datetime.datetime.now(datetime.UTC).\n",
      "  fetch_timestamp = datetime.utcnow()\n"
     ]
    },
    {
     "name": "stdout",
     "output_type": "stream",
     "text": [
      "[2025-03-18T09:00:14.279252] Fetching weather data...\n",
      "[2025-03-18T09:00:14.279252] Data saved to weather_data/weather_data_20250318_0900.csv\n",
      "Sleeping for 3585 seconds until next hour...\n",
      "\n"
     ]
    },
    {
     "name": "stderr",
     "output_type": "stream",
     "text": [
      "/var/folders/6_/0hk4r2517rd0g1wg9893jqz40000gp/T/ipykernel_16619/2302601785.py:86: DeprecationWarning: datetime.datetime.utcnow() is deprecated and scheduled for removal in a future version. Use timezone-aware objects to represent datetimes in UTC: datetime.datetime.now(datetime.UTC).\n",
      "  now = datetime.utcnow()\n"
     ]
    },
    {
     "name": "stdout",
     "output_type": "stream",
     "text": [
      "[2025-03-18T10:00:00.020944] Fetching weather data...\n",
      "[2025-03-18T10:00:00.020944] Data saved to weather_data/weather_data_20250318_1000.csv\n",
      "Sleeping for 3599 seconds until next hour...\n",
      "\n",
      "[2025-03-18T11:00:00.003213] Fetching weather data...\n",
      "[2025-03-18T11:00:00.003213] Data saved to weather_data/weather_data_20250318_1100.csv\n",
      "Sleeping for 3599 seconds until next hour...\n",
      "\n",
      "[2025-03-18T11:59:59.960052] Fetching weather data...\n",
      "[2025-03-18T11:59:59.960052] Data saved to weather_data/weather_data_20250318_1159.csv\n",
      "Sleeping for 3599 seconds until next hour...\n",
      "\n"
     ]
    },
    {
     "ename": "KeyboardInterrupt",
     "evalue": "",
     "output_type": "error",
     "traceback": [
      "\u001b[0;31m---------------------------------------------------------------------------\u001b[0m",
      "\u001b[0;31mKeyboardInterrupt\u001b[0m                         Traceback (most recent call last)",
      "Cell \u001b[0;32mIn[1], line 95\u001b[0m\n\u001b[1;32m     93\u001b[0m \u001b[38;5;28;01mwhile\u001b[39;00m \u001b[38;5;28;01mTrue\u001b[39;00m:\n\u001b[1;32m     94\u001b[0m     fetch_and_save()\n\u001b[0;32m---> 95\u001b[0m     \u001b[43mwait_until_next_hour\u001b[49m\u001b[43m(\u001b[49m\u001b[43m)\u001b[49m\n",
      "Cell \u001b[0;32mIn[1], line 90\u001b[0m, in \u001b[0;36mwait_until_next_hour\u001b[0;34m()\u001b[0m\n\u001b[1;32m     88\u001b[0m wait_seconds \u001b[38;5;241m=\u001b[39m (next_hour \u001b[38;5;241m-\u001b[39m now)\u001b[38;5;241m.\u001b[39mtotal_seconds()\n\u001b[1;32m     89\u001b[0m \u001b[38;5;28mprint\u001b[39m(\u001b[38;5;124mf\u001b[39m\u001b[38;5;124m\"\u001b[39m\u001b[38;5;124mSleeping for \u001b[39m\u001b[38;5;132;01m{\u001b[39;00m\u001b[38;5;28mint\u001b[39m(wait_seconds)\u001b[38;5;132;01m}\u001b[39;00m\u001b[38;5;124m seconds until next hour...\u001b[39m\u001b[38;5;130;01m\\n\u001b[39;00m\u001b[38;5;124m\"\u001b[39m)\n\u001b[0;32m---> 90\u001b[0m \u001b[43mtime\u001b[49m\u001b[38;5;241;43m.\u001b[39;49m\u001b[43msleep\u001b[49m\u001b[43m(\u001b[49m\u001b[43mwait_seconds\u001b[49m\u001b[43m)\u001b[49m\n",
      "\u001b[0;31mKeyboardInterrupt\u001b[0m: "
     ]
    }
   ],
   "source": [
    "'''#Code running on Home Assistant's Add-on Terminal: \n",
    "\n",
    "import openmeteo_requests\n",
    "import requests_cache\n",
    "import pandas as pd\n",
    "from retry_requests import retry\n",
    "from datetime import datetime, timedelta\n",
    "import time\n",
    "import os\n",
    "\n",
    "# Setup Open-Meteo API client with cache and retry\n",
    "cache_session = requests_cache.CachedSession('.cache', expire_after=3600)\n",
    "retry_session = retry(cache_session, retries=5, backoff_factor=0.2)\n",
    "openmeteo = openmeteo_requests.Client(session=retry_session)\n",
    "\n",
    "# Define locations\n",
    "locations = [\n",
    "    (\"Eelde\", 53.214469, 6.566481),\n",
    "    (\"DeBilt\", 52.108499, 5.180616),\n",
    "    (\"Vlissingen\", 51.455677, 3.576488),\n",
    "    (\"Sittard\", 50.998299, 5.86291)\n",
    "]\n",
    "\n",
    "# Create data folder if not exists\n",
    "data_folder = \"weather_data\"\n",
    "os.makedirs(data_folder, exist_ok=True)\n",
    "\n",
    "# Define API parameters\n",
    "url = \"https://api.open-meteo.com/v1/forecast\"\n",
    "params = {\n",
    "    \"latitude\": [lat for _, lat, _ in locations],\n",
    "    \"longitude\": [lon for _, _, lon in locations],\n",
    "    \"hourly\": [\n",
    "        \"temperature_2m\", \"cloud_cover\", \"wind_speed_10m\", \n",
    "        \"diffuse_radiation\", \"direct_normal_irradiance\", \"shortwave_radiation\", \"apparent_temperature\"],\n",
    "    \"models\": \"knmi_seamless\",\n",
    "    \"past_days\": 7\n",
    "}\n",
    "\n",
    "def fetch_and_save():\n",
    "    \"\"\"Fetch data from API and save to CSV.\"\"\"\n",
    "    fetch_timestamp = datetime.utcnow()\n",
    "    print(f\"[{fetch_timestamp.isoformat()}] Fetching weather data...\")\n",
    "\n",
    "    try:\n",
    "        responses = openmeteo.weather_api(url, params=params)\n",
    "    except Exception as e:\n",
    "        print(f\"[ERROR] Failed to fetch data: {e}\")\n",
    "        return  # Skip this round and try again later\n",
    "\n",
    "    dataframes = []\n",
    "    for idx, (location_name, _, _) in enumerate(locations):\n",
    "        response = responses[idx]\n",
    "        hourly = response.Hourly()\n",
    "        hourly_data = {\n",
    "            \"date\": pd.date_range(\n",
    "                start=pd.to_datetime(hourly.Time(), unit=\"s\", utc=True),\n",
    "                end=pd.to_datetime(hourly.TimeEnd(), unit=\"s\", utc=True),\n",
    "                freq=pd.Timedelta(seconds=hourly.Interval()),\n",
    "                inclusive=\"left\"\n",
    "            ),\n",
    "            \"temperature_2m\": hourly.Variables(0).ValuesAsNumpy(),\n",
    "            \"cloud_cover\": hourly.Variables(1).ValuesAsNumpy(),\n",
    "            \"wind_speed_10m\": hourly.Variables(2).ValuesAsNumpy(),\n",
    "            \"diffuse_radiation\": hourly.Variables(3).ValuesAsNumpy(),\n",
    "            \"direct_normal_irradiance\": hourly.Variables(4).ValuesAsNumpy(),\n",
    "            \"shortwave_radiation\": hourly.Variables(5).ValuesAsNumpy(),\n",
    "            \"apparent_temperature\": hourly.Variables(6).ValuesAsNumpy(),\n",
    "            \"location\": location_name,\n",
    "            \"fetch_timestamp_utc\": fetch_timestamp\n",
    "        }\n",
    "        dataframes.append(pd.DataFrame(data=hourly_data))\n",
    "\n",
    "    # Combine all location data\n",
    "    final_dataframe = pd.concat(dataframes, ignore_index=True)\n",
    "\n",
    "    # Save to CSV with timestamped filename\n",
    "    timestamp_str = fetch_timestamp.strftime(\"%Y%m%d_%H%M\")\n",
    "    csv_filename = os.path.join(data_folder, f\"weather_data_{timestamp_str}.csv\")\n",
    "    final_dataframe.to_csv(csv_filename, index=False)\n",
    "\n",
    "    print(f\"[{fetch_timestamp.isoformat()}] Data saved to {csv_filename}\")\n",
    "\n",
    "def wait_until_next_hour():\n",
    "    \"\"\"Wait until the start of the next hour to fetch data.\"\"\"\n",
    "    now = datetime.utcnow()\n",
    "    next_hour = (now + timedelta(hours=1)).replace(minute=0, second=0, microsecond=0)\n",
    "    wait_seconds = (next_hour - now).total_seconds()\n",
    "    print(f\"Sleeping for {int(wait_seconds)} seconds until next hour...\\n\")\n",
    "    time.sleep(wait_seconds)\n",
    "\n",
    "# Run hourly loop\n",
    "while True:\n",
    "    fetch_and_save()\n",
    "    wait_until_next_hour()"
   ]
  }
 ],
 "metadata": {
  "kernelspec": {
   "display_name": ".venv",
   "language": "python",
   "name": "python3"
  },
  "language_info": {
   "codemirror_mode": {
    "name": "ipython",
    "version": 3
   },
   "file_extension": ".py",
   "mimetype": "text/x-python",
   "name": "python",
   "nbconvert_exporter": "python",
   "pygments_lexer": "ipython3",
   "version": "3.12.6"
  }
 },
 "nbformat": 4,
 "nbformat_minor": 2
}
