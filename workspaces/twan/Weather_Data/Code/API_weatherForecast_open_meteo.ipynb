{
 "cells": [
  {
   "cell_type": "markdown",
   "metadata": {},
   "source": [
    "Forecast Data, https://open-meteo.com/en/docs/knmi-api\n",
    "-7 to +7 days (Past days + Predictions), as historical weather API has a 5 days delay...\n",
    "Weather features included:\n"
   ]
  },
  {
   "cell_type": "code",
   "execution_count": 1,
   "metadata": {},
   "outputs": [
    {
     "name": "stdout",
     "output_type": "stream",
     "text": [
      "Requirement already satisfied: openmeteo-requests in /Users/Twan/.pyenv/versions/3.12.2/lib/python3.12/site-packages (1.3.0)\n",
      "Requirement already satisfied: openmeteo-sdk>=1.4.0 in /Users/Twan/.pyenv/versions/3.12.2/lib/python3.12/site-packages (from openmeteo-requests) (1.19.0)\n",
      "Requirement already satisfied: requests in /Users/Twan/.pyenv/versions/3.12.2/lib/python3.12/site-packages (from openmeteo-requests) (2.32.3)\n",
      "Requirement already satisfied: flatbuffers==25.2.10 in /Users/Twan/.pyenv/versions/3.12.2/lib/python3.12/site-packages (from openmeteo-sdk>=1.4.0->openmeteo-requests) (25.2.10)\n",
      "Requirement already satisfied: charset-normalizer<4,>=2 in /Users/Twan/.pyenv/versions/3.12.2/lib/python3.12/site-packages (from requests->openmeteo-requests) (3.4.1)\n",
      "Requirement already satisfied: idna<4,>=2.5 in /Users/Twan/.pyenv/versions/3.12.2/lib/python3.12/site-packages (from requests->openmeteo-requests) (3.10)\n",
      "Requirement already satisfied: urllib3<3,>=1.21.1 in /Users/Twan/.pyenv/versions/3.12.2/lib/python3.12/site-packages (from requests->openmeteo-requests) (2.3.0)\n",
      "Requirement already satisfied: certifi>=2017.4.17 in /Users/Twan/.pyenv/versions/3.12.2/lib/python3.12/site-packages (from requests->openmeteo-requests) (2025.1.31)\n",
      "Requirement already satisfied: requests-cache in /Users/Twan/.pyenv/versions/3.12.2/lib/python3.12/site-packages (1.2.1)\n",
      "Requirement already satisfied: retry-requests in /Users/Twan/.pyenv/versions/3.12.2/lib/python3.12/site-packages (2.0.0)\n",
      "Requirement already satisfied: numpy in /Users/Twan/.pyenv/versions/3.12.2/lib/python3.12/site-packages (2.1.3)\n",
      "Requirement already satisfied: pandas in /Users/Twan/.pyenv/versions/3.12.2/lib/python3.12/site-packages (2.2.3)\n",
      "Requirement already satisfied: attrs>=21.2 in /Users/Twan/.pyenv/versions/3.12.2/lib/python3.12/site-packages (from requests-cache) (25.1.0)\n",
      "Requirement already satisfied: cattrs>=22.2 in /Users/Twan/.pyenv/versions/3.12.2/lib/python3.12/site-packages (from requests-cache) (24.1.2)\n",
      "Requirement already satisfied: platformdirs>=2.5 in /Users/Twan/.pyenv/versions/3.12.2/lib/python3.12/site-packages (from requests-cache) (4.3.6)\n",
      "Requirement already satisfied: requests>=2.22 in /Users/Twan/.pyenv/versions/3.12.2/lib/python3.12/site-packages (from requests-cache) (2.32.3)\n",
      "Requirement already satisfied: url-normalize>=1.4 in /Users/Twan/.pyenv/versions/3.12.2/lib/python3.12/site-packages (from requests-cache) (1.4.3)\n",
      "Requirement already satisfied: urllib3>=1.25.5 in /Users/Twan/.pyenv/versions/3.12.2/lib/python3.12/site-packages (from requests-cache) (2.3.0)\n",
      "Requirement already satisfied: python-dateutil>=2.8.2 in /Users/Twan/.pyenv/versions/3.12.2/lib/python3.12/site-packages (from pandas) (2.9.0.post0)\n",
      "Requirement already satisfied: pytz>=2020.1 in /Users/Twan/.pyenv/versions/3.12.2/lib/python3.12/site-packages (from pandas) (2025.1)\n",
      "Requirement already satisfied: tzdata>=2022.7 in /Users/Twan/.pyenv/versions/3.12.2/lib/python3.12/site-packages (from pandas) (2025.1)\n",
      "Requirement already satisfied: six>=1.5 in /Users/Twan/.pyenv/versions/3.12.2/lib/python3.12/site-packages (from python-dateutil>=2.8.2->pandas) (1.17.0)\n",
      "Requirement already satisfied: charset-normalizer<4,>=2 in /Users/Twan/.pyenv/versions/3.12.2/lib/python3.12/site-packages (from requests>=2.22->requests-cache) (3.4.1)\n",
      "Requirement already satisfied: idna<4,>=2.5 in /Users/Twan/.pyenv/versions/3.12.2/lib/python3.12/site-packages (from requests>=2.22->requests-cache) (3.10)\n",
      "Requirement already satisfied: certifi>=2017.4.17 in /Users/Twan/.pyenv/versions/3.12.2/lib/python3.12/site-packages (from requests>=2.22->requests-cache) (2025.1.31)\n"
     ]
    }
   ],
   "source": [
    "!pip install openmeteo-requests\n",
    "!pip install requests-cache retry-requests numpy pandas"
   ]
  },
  {
   "cell_type": "code",
   "execution_count": null,
   "metadata": {},
   "outputs": [
    {
     "name": "stderr",
     "output_type": "stream",
     "text": [
      "/var/folders/6_/0hk4r2517rd0g1wg9893jqz40000gp/T/ipykernel_6236/4083320322.py:34: DeprecationWarning: datetime.datetime.utcnow() is deprecated and scheduled for removal in a future version. Use timezone-aware objects to represent datetimes in UTC: datetime.datetime.now(datetime.UTC).\n",
      "  fetch_timestamp = datetime.utcnow()\n"
     ]
    },
    {
     "name": "stdout",
     "output_type": "stream",
     "text": [
      "Data saved to ../Data/pred_weather_data_2025-03-12T16:09.csv\n"
     ]
    }
   ],
   "source": [
    "import openmeteo_requests\n",
    "import requests_cache\n",
    "import pandas as pd\n",
    "from retry_requests import retry\n",
    "from datetime import datetime, timedelta\n",
    "import time\n",
    "\n",
    "# Setup the Open-Meteo API client with cache and retry on error\n",
    "cache_session = requests_cache.CachedSession('.cache', expire_after=3600)\n",
    "retry_session = retry(cache_session, retries=5, backoff_factor=0.2)\n",
    "openmeteo = openmeteo_requests.Client(session=retry_session)\n",
    "\n",
    "# Define locations\n",
    "locations = [\n",
    "    (\"Eelde\", 53.214469, 6.566481),\n",
    "    (\"DeBilt\", 52.108499, 5.180616),\n",
    "    (\"Vlissingen\", 51.455677, 3.576488),\n",
    "    (\"Sittard\", 50.998299, 5.86291)\n",
    "]\n",
    "\n",
    "# Make sure all required weather variables are listed here\n",
    "url = \"https://api.open-meteo.com/v1/forecast\"\n",
    "params = {\n",
    "    \"latitude\": [lat for _, lat, _ in locations],\n",
    "    \"longitude\": [lon for _, _, lon in locations],\n",
    "    \"hourly\": [\n",
    "        \"temperature_2m\", \"cloud_cover\", \"wind_speed_10m\", \n",
    "        \"diffuse_radiation\", \"direct_normal_irradiance\", \"shortwave_radiation\", \"apparent_temperature\"],\n",
    "    \"models\": \"knmi_seamless\",\n",
    "    \"past_days\": 7\n",
    "}\n",
    "\n",
    "while True:\n",
    "    fetch_timestamp = datetime.utcnow()\n",
    "    responses = openmeteo.weather_api(url, params=params)\n",
    "\n",
    "    # Collect data for all locations\n",
    "    dataframes = []\n",
    "    for idx, (location_name, _, _) in enumerate(locations):\n",
    "        response = responses[idx]\n",
    "        hourly = response.Hourly()\n",
    "        hourly_data = {\n",
    "            \"date\": pd.date_range(\n",
    "                start=pd.to_datetime(hourly.Time(), unit=\"s\", utc=True),\n",
    "                end=pd.to_datetime(hourly.TimeEnd(), unit=\"s\", utc=True),\n",
    "                freq=pd.Timedelta(seconds=hourly.Interval()),\n",
    "                inclusive=\"left\"\n",
    "            ),\n",
    "            \"temperature_2m\": hourly.Variables(0).ValuesAsNumpy(),\n",
    "            \"cloud_cover\": hourly.Variables(1).ValuesAsNumpy(),\n",
    "            \"wind_speed_10m\": hourly.Variables(2).ValuesAsNumpy(),\n",
    "            \"diffuse_radiation\": hourly.Variables(3).ValuesAsNumpy(),\n",
    "            \"direct_normal_irradiance\": hourly.Variables(4).ValuesAsNumpy(),\n",
    "            \"shortwave_radiation\": hourly.Variables(5).ValuesAsNumpy(),\n",
    "            \"apparent_temperature\": hourly.Variables(6).ValuesAsNumpy(),\n",
    "            \"location\": location_name,\n",
    "            \"fetch_timestamp_utc\": fetch_timestamp\n",
    "        }\n",
    "        dataframes.append(pd.DataFrame(data=hourly_data))\n",
    "\n",
    "    # Combine all data into a single DataFrame\n",
    "    final_dataframe = pd.concat(dataframes, ignore_index=True)\n",
    "\n",
    "    # Save to CSV with timestamped filename in the Data folder\n",
    "    timestamp_str = fetch_timestamp.isoformat(timespec='minutes')\n",
    "    csv_filename = f\"../Data/pred_weather_data_{timestamp_str}.csv\"\n",
    "    final_dataframe.to_csv(csv_filename, index=False)\n",
    "\n",
    "    print(f\"Data saved to {csv_filename}\")\n",
    "\n",
    "    # Wait for 1 hour before fetching again\n",
    "    time.sleep(3600)\n"
   ]
  }
 ],
 "metadata": {
  "kernelspec": {
   "display_name": "Python 3",
   "language": "python",
   "name": "python3"
  },
  "language_info": {
   "codemirror_mode": {
    "name": "ipython",
    "version": 3
   },
   "file_extension": ".py",
   "mimetype": "text/x-python",
   "name": "python",
   "nbconvert_exporter": "python",
   "pygments_lexer": "ipython3",
   "version": "3.12.2"
  }
 },
 "nbformat": 4,
 "nbformat_minor": 2
}
