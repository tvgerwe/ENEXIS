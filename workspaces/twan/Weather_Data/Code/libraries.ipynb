{
 "cells": [
  {
   "cell_type": "code",
   "execution_count": 1,
   "metadata": {},
   "outputs": [
    {
     "name": "stdout",
     "output_type": "stream",
     "text": [
      "entsoe\n",
      "pandas\n",
      "time\n"
     ]
    }
   ],
   "source": [
    "import os\n",
    "import re\n",
    "\n",
    "repo_path = '/Users/Twan/Library/Mobile Documents/com~apple~CloudDocs/Data Science/Data Projects EASI/ENEXIS-2'\n",
    "libraries = set()\n",
    "\n",
    "# Regular expressions to match import statements\n",
    "import_re = re.compile(r'^\\s*import (\\S+)')\n",
    "from_import_re = re.compile(r'^\\s*from (\\S+) import')\n",
    "\n",
    "# Walk through the repository\n",
    "for root, _, files in os.walk(repo_path):\n",
    "    for file in files:\n",
    "        if file.endswith('.py'):\n",
    "            with open(os.path.join(root, file), 'r') as f:\n",
    "                for line in f:\n",
    "                    match = import_re.match(line) or from_import_re.match(line)\n",
    "                    if match:\n",
    "                        libraries.add(match.group(1))\n",
    "\n",
    "# Print the list of libraries\n",
    "for lib in sorted(libraries):\n",
    "    print(lib)"
   ]
  }
 ],
 "metadata": {
  "kernelspec": {
   "display_name": "Python 3",
   "language": "python",
   "name": "python3"
  },
  "language_info": {
   "codemirror_mode": {
    "name": "ipython",
    "version": 3
   },
   "file_extension": ".py",
   "mimetype": "text/x-python",
   "name": "python",
   "nbconvert_exporter": "python",
   "pygments_lexer": "ipython3",
   "version": "3.12.2"
  }
 },
 "nbformat": 4,
 "nbformat_minor": 2
}
