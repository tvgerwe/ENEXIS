{
 "cells": [
  {
   "cell_type": "code",
   "execution_count": 1,
   "metadata": {},
   "outputs": [
    {
     "name": "stdout",
     "output_type": "stream",
     "text": [
      "Collecting graphviz\n",
      "  Downloading graphviz-0.20.3-py3-none-any.whl.metadata (12 kB)\n",
      "Downloading graphviz-0.20.3-py3-none-any.whl (47 kB)\n",
      "Installing collected packages: graphviz\n",
      "Successfully installed graphviz-0.20.3\n",
      "Note: you may need to restart the kernel to use updated packages.\n"
     ]
    }
   ],
   "source": [
    "%pip install graphviz"
   ]
  },
  {
   "cell_type": "code",
   "execution_count": 4,
   "metadata": {},
   "outputs": [
    {
     "data": {
      "text/plain": [
       "'enexis_flowchart.png'"
      ]
     },
     "execution_count": 4,
     "metadata": {},
     "output_type": "execute_result"
    }
   ],
   "source": [
    "from graphviz import Digraph\n",
    "\n",
    "# Create a new directed graph\n",
    "dot = Digraph(comment='ENEXIS Model Development and Prediction Flowchart')\n",
    "\n",
    "# Define nodes for data sources\n",
    "dot.node('A', 'ENTSO-E\\n(prices, consumption volumes,\\nim- en export volumes)')\n",
    "dot.node('B', 'NED\\n(electricity production per source type:\\nwaste, gas, coal, wind, solar, nuclear,\\ncombined heat and power, biomass)')\n",
    "dot.node('C', 'KNMI\\n(temperature, radiation, irradiation,\\nwind speed - for 4 locations across NLs)')\n",
    "\n",
    "# Define nodes for processes\n",
    "dot.node('D', 'Develop Model\\n(Split historical data into train and test sets)')\n",
    "dot.node('E', 'Optimize Model')\n",
    "dot.node('F', 'Use Predictions\\n(KNMI, NED)')\n",
    "dot.node('G', 'Assess Model Accuracy\\n(Predict hourly electricity prices\\nfor each day up to +7 days)')\n",
    "\n",
    "# Define nodes for predictions\n",
    "dot.node('H', 'Better Predictions\\n(+1 day ahead)')\n",
    "dot.node('I', 'Worse Predictions\\n(+7 days ahead)')\n",
    "\n",
    "# Create edges between nodes\n",
    "dot.edges(['AD', 'BD', 'CD'])\n",
    "dot.edge('D', 'E')\n",
    "dot.edge('E', 'F')\n",
    "dot.edge('F', 'G')\n",
    "dot.edge('G', 'H', label='+1 days')\n",
    "dot.edge('G', 'I', label='+7 days')\n",
    "\n",
    "# Render the graph to a file\n",
    "dot.render('enexis_flowchart', format='png', view=True)"
   ]
  }
 ],
 "metadata": {
  "kernelspec": {
   "display_name": "Python 3",
   "language": "python",
   "name": "python3"
  },
  "language_info": {
   "codemirror_mode": {
    "name": "ipython",
    "version": 3
   },
   "file_extension": ".py",
   "mimetype": "text/x-python",
   "name": "python",
   "nbconvert_exporter": "python",
   "pygments_lexer": "ipython3",
   "version": "3.12.2"
  }
 },
 "nbformat": 4,
 "nbformat_minor": 2
}
