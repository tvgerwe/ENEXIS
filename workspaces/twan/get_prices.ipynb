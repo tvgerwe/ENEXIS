{
 "cells": [
  {
   "cell_type": "code",
   "execution_count": 19,
   "metadata": {},
   "outputs": [
    {
     "name": "stdout",
     "output_type": "stream",
     "text": [
      "Requirement already satisfied: requests in /Users/Twan/.pyenv/versions/3.12.2/lib/python3.12/site-packages (2.32.3)\n",
      "Requirement already satisfied: charset-normalizer<4,>=2 in /Users/Twan/.pyenv/versions/3.12.2/lib/python3.12/site-packages (from requests) (3.4.1)\n",
      "Requirement already satisfied: idna<4,>=2.5 in /Users/Twan/.pyenv/versions/3.12.2/lib/python3.12/site-packages (from requests) (3.10)\n",
      "Requirement already satisfied: urllib3<3,>=1.21.1 in /Users/Twan/.pyenv/versions/3.12.2/lib/python3.12/site-packages (from requests) (2.3.0)\n",
      "Requirement already satisfied: certifi>=2017.4.17 in /Users/Twan/.pyenv/versions/3.12.2/lib/python3.12/site-packages (from requests) (2025.1.31)\n"
     ]
    }
   ],
   "source": [
    "!pip install requests\n",
    "    \n"
   ]
  },
  {
   "cell_type": "code",
   "execution_count": null,
   "metadata": {},
   "outputs": [
    {
     "name": "stdout",
     "output_type": "stream",
     "text": [
      "CSV file 'oxygent_data/time_series_data_20250310 09:10.csv' integrity check passed.\n"
     ]
    }
   ],
   "source": [
    "import os\n",
    "import requests\n",
    "import csv\n",
    "from datetime import datetime, timezone\n",
    "import time\n",
    "\n",
    "def fetch_data_from_api(url):\n",
    "    response = requests.get(url)\n",
    "    if response.status_code == 200:\n",
    "        data = response.json()\n",
    "        return data\n",
    "    else:\n",
    "        print(\"Failed to fetch data\")\n",
    "        return None\n",
    "\n",
    "def add_timestamp_to_data(data, timestamp):\n",
    "    if data:\n",
    "        for subarray_index, subarray in enumerate(data):\n",
    "            for entry in subarray:\n",
    "                entry['timestamp'] = timestamp\n",
    "                entry['subarray'] = subarray_index\n",
    "        return data\n",
    "    else:\n",
    "        return None\n",
    "\n",
    "def save_to_csv(data, file_path):\n",
    "    if data:\n",
    "        with open(file_path, 'w', newline='') as csvfile:\n",
    "            fieldnames = ['x', 'y', 'timestamp', 'subarray']\n",
    "            writer = csv.DictWriter(csvfile, fieldnames=fieldnames)\n",
    "            writer.writeheader()\n",
    "            for subarray in data:\n",
    "                writer.writerows(subarray)\n",
    "\n",
    "def check_integrity(data, file_path):\n",
    "    with open(file_path, 'r') as csvfile:\n",
    "        csv_reader = csv.DictReader(csvfile)\n",
    "        csv_data = list(csv_reader)\n",
    "        original_row_count = sum(len(subarray) for subarray in data)\n",
    "        csv_row_count = len(csv_data)\n",
    "        if original_row_count == csv_row_count:\n",
    "            print(f\"CSV file '{file_path}' integrity check passed.\")\n",
    "        else:\n",
    "            print(f\"CSV file '{file_path}' integrity check failed.\")\n",
    "\n",
    "api_url = 'https://energie.theoxygent.nl/api/prices_v2.php'\n",
    "\n",
    "# Create subfolder if it doesn't exist\n",
    "subfolder = 'oxygent_data'\n",
    "if not os.path.exists(subfolder):\n",
    "    os.makedirs(subfolder)\n",
    "\n",
    "while True:\n",
    "    current_time_gmt = datetime.now(timezone.utc).isoformat()\n",
    "    file_timestamp = datetime.now(timezone.utc).strftime(\"%Y%m%d %H:%M\")\n",
    "    time_series_data = fetch_data_from_api(api_url) \n",
    "    time_series_data_with_timestamp = add_timestamp_to_data(time_series_data, current_time_gmt)\n",
    "    csv_file_path = os.path.join(subfolder, f'time_series_data_{file_timestamp}.csv')\n",
    "    save_to_csv(time_series_data_with_timestamp, csv_file_path)\n",
    "    check_integrity(time_series_data_with_timestamp, csv_file_path)\n",
    "    # Fetch data every hour\n",
    "    time.sleep(3600)\n"
   ]
  }
 ],
 "metadata": {
  "kernelspec": {
   "display_name": "Python 3",
   "language": "python",
   "name": "python3"
  },
  "language_info": {
   "codemirror_mode": {
    "name": "ipython",
    "version": 3
   },
   "file_extension": ".py",
   "mimetype": "text/x-python",
   "name": "python",
   "nbconvert_exporter": "python",
   "pygments_lexer": "ipython3",
   "version": "3.12.2"
  }
 },
 "nbformat": 4,
 "nbformat_minor": 2
}
