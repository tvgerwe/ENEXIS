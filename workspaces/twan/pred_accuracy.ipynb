{
 "cells": [
  {
   "cell_type": "code",
   "execution_count": 1,
   "id": "2d876b82",
   "metadata": {},
   "outputs": [
    {
     "ename": "NameError",
     "evalue": "name 'pred_accuracy_df' is not defined",
     "output_type": "error",
     "traceback": [
      "\u001b[31m---------------------------------------------------------------------------\u001b[39m",
      "\u001b[31mNameError\u001b[39m                                 Traceback (most recent call last)",
      "\u001b[36mCell\u001b[39m\u001b[36m \u001b[39m\u001b[32mIn[1]\u001b[39m\u001b[32m, line 9\u001b[39m\n\u001b[32m      6\u001b[39m start_date = \u001b[33m'\u001b[39m\u001b[33m2025-04-01\u001b[39m\u001b[33m'\u001b[39m\n\u001b[32m      8\u001b[39m \u001b[38;5;66;03m# Filter data for the 7-day range starting from the start date\u001b[39;00m\n\u001b[32m----> \u001b[39m\u001b[32m9\u001b[39m filtered_df = \u001b[43mpred_accuracy_df\u001b[49m[\n\u001b[32m     10\u001b[39m     (pred_accuracy_df[\u001b[33m'\u001b[39m\u001b[33mdatetime\u001b[39m\u001b[33m'\u001b[39m] >= start_date) &\n\u001b[32m     11\u001b[39m     (pred_accuracy_df[\u001b[33m'\u001b[39m\u001b[33mdatetime\u001b[39m\u001b[33m'\u001b[39m] < pd.to_datetime(start_date) + pd.Timedelta(days=\u001b[32m7\u001b[39m))\n\u001b[32m     12\u001b[39m ]\n\u001b[32m     14\u001b[39m \u001b[38;5;66;03m# Get the earliest timestamp value of the day prior to the start date\u001b[39;00m\n\u001b[32m     15\u001b[39m previous_day = pd.to_datetime(start_date) - pd.Timedelta(days=\u001b[32m1\u001b[39m)\n",
      "\u001b[31mNameError\u001b[39m: name 'pred_accuracy_df' is not defined"
     ]
    }
   ],
   "source": [
    "import pandas as pd\n",
    "\n",
    "import plotly.express as px\n",
    "\n",
    "# Define the start date\n",
    "start_date = '2025-04-01'\n",
    "\n",
    "# Filter data for the 7-day range starting from the start date\n",
    "filtered_df = pred_accuracy_df[\n",
    "    (pred_accuracy_df['datetime'] >= start_date) &\n",
    "    (pred_accuracy_df['datetime'] < pd.to_datetime(start_date) + pd.Timedelta(days=7))\n",
    "]\n",
    "\n",
    "# Get the earliest timestamp value of the day prior to the start date\n",
    "previous_day = pd.to_datetime(start_date) - pd.Timedelta(days=1)\n",
    "earliest_timestamp = pred_accuracy_df[\n",
    "    pred_accuracy_df['datetime'].dt.date == previous_day.date()\n",
    "]['timestamp'].min()\n",
    "\n",
    "# Check if the data for the earliest timestamp is NaN\n",
    "if pd.isna(earliest_timestamp):\n",
    "    print(\"Data for the earliest timestamp of the day prior to the start date is NaN. Process stopped.\")\n",
    "else:\n",
    "    # Filter data for subarray == 0 and subarray == 1\n",
    "    day_ahead_price = filtered_df[filtered_df['subarray'] == 0]\n",
    "    prediction_7d = filtered_df[filtered_df['subarray'] == 1]\n",
    "\n",
    "    # Create an interactive plot with two lines\n",
    "    fig = px.line(\n",
    "        filtered_df,\n",
    "        x='datetime',\n",
    "        y='value',\n",
    "        color='subarray',\n",
    "        labels={'subarray': 'Subarray'},\n",
    "        title='DayAheadPrice and Prediction7D'\n",
    "    )\n",
    "\n",
    "    # Update line names\n",
    "    fig.for_each_trace(lambda t: t.update(name='DayAheadPrice' if t.name == '0' else 'Prediction7D'))\n",
    "\n",
    "    # Show the plot\n",
    "    fig.show()"
   ]
  },
  {
   "cell_type": "code",
   "execution_count": null,
   "id": "f3f37ab0",
   "metadata": {},
   "outputs": [],
   "source": []
  }
 ],
 "metadata": {
  "kernelspec": {
   "display_name": ".venv",
   "language": "python",
   "name": "python3"
  },
  "language_info": {
   "codemirror_mode": {
    "name": "ipython",
    "version": 3
   },
   "file_extension": ".py",
   "mimetype": "text/x-python",
   "name": "python",
   "nbconvert_exporter": "python",
   "pygments_lexer": "ipython3",
   "version": "3.12.6"
  }
 },
 "nbformat": 4,
 "nbformat_minor": 5
}
