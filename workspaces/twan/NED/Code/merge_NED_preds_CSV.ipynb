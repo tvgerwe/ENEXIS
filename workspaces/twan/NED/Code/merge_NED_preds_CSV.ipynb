{
 "cells": [
  {
   "cell_type": "code",
   "execution_count": 1,
   "id": "6977a8ac",
   "metadata": {},
   "outputs": [
    {
     "name": "stdout",
     "output_type": "stream",
     "text": [
      "Number of CSV files found: 368\n"
     ]
    }
   ],
   "source": [
    "import pandas as pd\n",
    "import glob\n",
    "import os\n",
    "\n",
    "# Get list of CSV files\n",
    "csv_files = glob.glob('../Data/powergen_preds/*.csv')\n",
    "\n",
    "print(f\"Number of CSV files found: {len(csv_files)}\")"
   ]
  },
  {
   "cell_type": "code",
   "execution_count": 2,
   "id": "0be7b715",
   "metadata": {},
   "outputs": [
    {
     "name": "stdout",
     "output_type": "stream",
     "text": [
      "\n",
      "Datetime range:\n",
      "Start: 2025-04-02 08:17:40\n",
      "End: 2025-04-10 12:00:05\n",
      "\n",
      "Total rows in combined dataset: 68646\n"
     ]
    }
   ],
   "source": [
    "\n",
    "\n",
    "# Read first file to compare structure\n",
    "df_combined = pd.read_csv(csv_files[0])\n",
    "first_columns = set(df_combined.columns)\n",
    "\n",
    "# Merge all files and check structure\n",
    "for file in csv_files[1:]:\n",
    "    df = pd.read_csv(file)\n",
    "    \n",
    "    # Check if columns match\n",
    "    if set(df.columns) != first_columns:\n",
    "        print(f\"Warning: {file} has different structure!\")\n",
    "        print(f\"Different columns: {set(df.columns).symmetric_difference(first_columns)}\")\n",
    "        continue\n",
    "        \n",
    "    df_combined = pd.concat([df_combined, df], ignore_index=True)\n",
    "\n",
    "# Convert to datetime if exists\n",
    "if 'current_datetime' in df_combined.columns:\n",
    "    df_combined['current_datetime'] = pd.to_datetime(df_combined['current_datetime'])\n",
    "    print(\"\\nDatetime range:\")\n",
    "    print(f\"Start: {df_combined['current_datetime'].min()}\")\n",
    "    print(f\"End: {df_combined['current_datetime'].max()}\")\n",
    "\n",
    "print(f\"\\nTotal rows in combined dataset: {len(df_combined)}\")"
   ]
  },
  {
   "cell_type": "code",
   "execution_count": 4,
   "id": "58026e36",
   "metadata": {},
   "outputs": [
    {
     "name": "stdout",
     "output_type": "stream",
     "text": [
      "File saved successfully\n"
     ]
    }
   ],
   "source": [
    "# Create directory if it doesn't exist\n",
    "os.makedirs('../src/data/ned-api', exist_ok=True)\n",
    "\n",
    "# Save to CSV\n",
    "df_combined.to_csv('../src/data/ned-api/appended_NED_preds_2-10-April.csv', index=False)\n",
    "print(\"File saved successfully\")"
   ]
  },
  {
   "cell_type": "code",
   "execution_count": 5,
   "id": "3d2f9d32",
   "metadata": {},
   "outputs": [
    {
     "name": "stdout",
     "output_type": "stream",
     "text": [
      "DataFrame Shape: (68646, 18)\n",
      "\n",
      "First few rows:\n",
      "                            @id        @type           id         point  \\\n",
      "0  /v1/utilizations/68702146339  Utilization  68702146339  /v1/points/0   \n",
      "1  /v1/utilizations/68702448566  Utilization  68702448566  /v1/points/0   \n",
      "2  /v1/utilizations/68702752702  Utilization  68702752702  /v1/points/0   \n",
      "3  /v1/utilizations/68703058767  Utilization  68703058767  /v1/points/0   \n",
      "4  /v1/utilizations/68703363818  Utilization  68703363818  /v1/points/0   \n",
      "\n",
      "          type          granularity           granularitytimezone  \\\n",
      "0  /v1/types/1  /v1/granularities/5  /v1/granularity_time_zones/0   \n",
      "1  /v1/types/1  /v1/granularities/5  /v1/granularity_time_zones/0   \n",
      "2  /v1/types/1  /v1/granularities/5  /v1/granularity_time_zones/0   \n",
      "3  /v1/types/1  /v1/granularities/5  /v1/granularity_time_zones/0   \n",
      "4  /v1/types/1  /v1/granularities/5  /v1/granularity_time_zones/0   \n",
      "\n",
      "           activity         classification  capacity  volume  percentage  \\\n",
      "0  /v1/activities/1  /v1/classifications/1    645659  645659    0.097187   \n",
      "1  /v1/activities/1  /v1/classifications/1    543529  543529    0.081813   \n",
      "2  /v1/activities/1  /v1/classifications/1    458195  458195    0.068968   \n",
      "3  /v1/activities/1  /v1/classifications/1    310618  310618    0.046754   \n",
      "4  /v1/activities/1  /v1/classifications/1    186675  186675    0.028098   \n",
      "\n",
      "   emission  emissionfactor                  validfrom  \\\n",
      "0         0             0.0  2025-04-03T22:00:00+00:00   \n",
      "1         0             0.0  2025-04-03T23:00:00+00:00   \n",
      "2         0             0.0  2025-04-04T00:00:00+00:00   \n",
      "3         0             0.0  2025-04-04T01:00:00+00:00   \n",
      "4         0             0.0  2025-04-04T02:00:00+00:00   \n",
      "\n",
      "                     validto                 lastupdate    current_datetime  \n",
      "0  2025-04-03T23:00:00+00:00  2025-04-03T23:45:27+00:00 2025-04-04 23:20:09  \n",
      "1  2025-04-04T00:00:00+00:00  2025-04-03T23:45:27+00:00 2025-04-04 23:20:09  \n",
      "2  2025-04-04T01:00:00+00:00  2025-04-04T22:45:27+00:00 2025-04-04 23:20:09  \n",
      "3  2025-04-04T02:00:00+00:00  2025-04-04T22:45:27+00:00 2025-04-04 23:20:09  \n",
      "4  2025-04-04T03:00:00+00:00  2025-04-04T22:45:27+00:00 2025-04-04 23:20:09  \n",
      "\n",
      "DataFrame Info:\n",
      "<class 'pandas.core.frame.DataFrame'>\n",
      "RangeIndex: 68646 entries, 0 to 68645\n",
      "Data columns (total 18 columns):\n",
      " #   Column               Non-Null Count  Dtype         \n",
      "---  ------               --------------  -----         \n",
      " 0   @id                  68646 non-null  object        \n",
      " 1   @type                68646 non-null  object        \n",
      " 2   id                   68646 non-null  int64         \n",
      " 3   point                68646 non-null  object        \n",
      " 4   type                 68646 non-null  object        \n",
      " 5   granularity          68646 non-null  object        \n",
      " 6   granularitytimezone  68646 non-null  object        \n",
      " 7   activity             68646 non-null  object        \n",
      " 8   classification       68646 non-null  object        \n",
      " 9   capacity             68646 non-null  int64         \n",
      " 10  volume               68646 non-null  int64         \n",
      " 11  percentage           68646 non-null  float64       \n",
      " 12  emission             68646 non-null  int64         \n",
      " 13  emissionfactor       68646 non-null  float64       \n",
      " 14  validfrom            68646 non-null  object        \n",
      " 15  validto              68646 non-null  object        \n",
      " 16  lastupdate           68646 non-null  object        \n",
      " 17  current_datetime     68646 non-null  datetime64[ns]\n",
      "dtypes: datetime64[ns](1), float64(2), int64(4), object(11)\n",
      "memory usage: 9.4+ MB\n",
      "None\n",
      "\n",
      "Summary Statistics:\n",
      "                 id      capacity        volume    percentage       emission  \\\n",
      "count  6.864600e+04  6.864600e+04  6.864600e+04  68646.000000   68646.000000   \n",
      "mean   6.875089e+10  1.494816e+06  1.494816e+06      0.377703   18109.627655   \n",
      "min    6.869851e+10  0.000000e+00  0.000000e+00      0.000000       0.000000   \n",
      "25%    6.872754e+10  7.363100e+04  7.363100e+04      0.006827       0.000000   \n",
      "50%    6.875020e+10  3.650000e+05  3.650000e+05      0.309524       0.000000   \n",
      "75%    6.877311e+10  9.872890e+05  9.872890e+05      0.579689       0.000000   \n",
      "max    6.883028e+10  2.131683e+07  2.131683e+07      1.000000  109500.000000   \n",
      "std    3.107463e+07  3.503616e+06  3.503616e+06      0.365519   40682.548158   \n",
      "\n",
      "       emissionfactor               current_datetime  \n",
      "count    68646.000000                          68646  \n",
      "mean         0.049615  2025-04-06 01:45:29.331046400  \n",
      "min          0.000000            2025-04-02 08:17:40  \n",
      "25%          0.000000            2025-04-03 10:50:30  \n",
      "50%          0.000000            2025-04-06 03:32:09  \n",
      "75%          0.000000            2025-04-08 07:33:26  \n",
      "max          0.300000            2025-04-10 12:00:05  \n",
      "std          0.111459                            NaN  \n"
     ]
    }
   ],
   "source": [
    "# Print basic info about the dataframe\n",
    "print(\"DataFrame Shape:\", df_combined.shape)\n",
    "print(\"\\nFirst few rows:\")\n",
    "print(df_combined.head())\n",
    "print(\"\\nDataFrame Info:\")\n",
    "print(df_combined.info())\n",
    "print(\"\\nSummary Statistics:\")\n",
    "print(df_combined.describe())"
   ]
  }
 ],
 "metadata": {
  "kernelspec": {
   "display_name": ".venv",
   "language": "python",
   "name": "python3"
  },
  "language_info": {
   "codemirror_mode": {
    "name": "ipython",
    "version": 3
   },
   "file_extension": ".py",
   "mimetype": "text/x-python",
   "name": "python",
   "nbconvert_exporter": "python",
   "pygments_lexer": "ipython3",
   "version": "3.12.6"
  }
 },
 "nbformat": 4,
 "nbformat_minor": 5
}
