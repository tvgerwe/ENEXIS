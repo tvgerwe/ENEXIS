{
 "cells": [
  {
   "cell_type": "markdown",
   "metadata": {},
   "source": [
    "# use of API to download historical hourly data. INDICATIONS THAT A LIMIT EXISTS IN TERMS OF NUMBER OF DAYS ALLOWED TO DOWNLOAD WITH API..."
   ]
  },
  {
   "cell_type": "code",
   "execution_count": 8,
   "metadata": {},
   "outputs": [
    {
     "name": "stdout",
     "output_type": "stream",
     "text": [
      "Requirement already satisfied: openmeteo-requests in /Users/Twan/.pyenv/versions/3.12.2/lib/python3.12/site-packages (1.3.0)\n",
      "Requirement already satisfied: openmeteo-sdk>=1.4.0 in /Users/Twan/.pyenv/versions/3.12.2/lib/python3.12/site-packages (from openmeteo-requests) (1.19.0)\n",
      "Requirement already satisfied: requests in /Users/Twan/.pyenv/versions/3.12.2/lib/python3.12/site-packages (from openmeteo-requests) (2.32.3)\n",
      "Requirement already satisfied: flatbuffers==25.2.10 in /Users/Twan/.pyenv/versions/3.12.2/lib/python3.12/site-packages (from openmeteo-sdk>=1.4.0->openmeteo-requests) (25.2.10)\n",
      "Requirement already satisfied: charset-normalizer<4,>=2 in /Users/Twan/.pyenv/versions/3.12.2/lib/python3.12/site-packages (from requests->openmeteo-requests) (3.4.1)\n",
      "Requirement already satisfied: idna<4,>=2.5 in /Users/Twan/.pyenv/versions/3.12.2/lib/python3.12/site-packages (from requests->openmeteo-requests) (3.10)\n",
      "Requirement already satisfied: urllib3<3,>=1.21.1 in /Users/Twan/.pyenv/versions/3.12.2/lib/python3.12/site-packages (from requests->openmeteo-requests) (2.3.0)\n",
      "Requirement already satisfied: certifi>=2017.4.17 in /Users/Twan/.pyenv/versions/3.12.2/lib/python3.12/site-packages (from requests->openmeteo-requests) (2025.1.31)\n",
      "Requirement already satisfied: requests-cache in /Users/Twan/.pyenv/versions/3.12.2/lib/python3.12/site-packages (1.2.1)\n",
      "Requirement already satisfied: retry-requests in /Users/Twan/.pyenv/versions/3.12.2/lib/python3.12/site-packages (2.0.0)\n",
      "Requirement already satisfied: numpy in /Users/Twan/.pyenv/versions/3.12.2/lib/python3.12/site-packages (2.1.3)\n",
      "Requirement already satisfied: pandas in /Users/Twan/.pyenv/versions/3.12.2/lib/python3.12/site-packages (2.2.3)\n",
      "Requirement already satisfied: attrs>=21.2 in /Users/Twan/.pyenv/versions/3.12.2/lib/python3.12/site-packages (from requests-cache) (25.1.0)\n",
      "Requirement already satisfied: cattrs>=22.2 in /Users/Twan/.pyenv/versions/3.12.2/lib/python3.12/site-packages (from requests-cache) (24.1.2)\n",
      "Requirement already satisfied: platformdirs>=2.5 in /Users/Twan/.pyenv/versions/3.12.2/lib/python3.12/site-packages (from requests-cache) (4.3.6)\n",
      "Requirement already satisfied: requests>=2.22 in /Users/Twan/.pyenv/versions/3.12.2/lib/python3.12/site-packages (from requests-cache) (2.32.3)\n",
      "Requirement already satisfied: url-normalize>=1.4 in /Users/Twan/.pyenv/versions/3.12.2/lib/python3.12/site-packages (from requests-cache) (1.4.3)\n",
      "Requirement already satisfied: urllib3>=1.25.5 in /Users/Twan/.pyenv/versions/3.12.2/lib/python3.12/site-packages (from requests-cache) (2.3.0)\n",
      "Requirement already satisfied: python-dateutil>=2.8.2 in /Users/Twan/.pyenv/versions/3.12.2/lib/python3.12/site-packages (from pandas) (2.9.0.post0)\n",
      "Requirement already satisfied: pytz>=2020.1 in /Users/Twan/.pyenv/versions/3.12.2/lib/python3.12/site-packages (from pandas) (2025.1)\n",
      "Requirement already satisfied: tzdata>=2022.7 in /Users/Twan/.pyenv/versions/3.12.2/lib/python3.12/site-packages (from pandas) (2025.1)\n",
      "Requirement already satisfied: six>=1.5 in /Users/Twan/.pyenv/versions/3.12.2/lib/python3.12/site-packages (from python-dateutil>=2.8.2->pandas) (1.17.0)\n",
      "Requirement already satisfied: charset-normalizer<4,>=2 in /Users/Twan/.pyenv/versions/3.12.2/lib/python3.12/site-packages (from requests>=2.22->requests-cache) (3.4.1)\n",
      "Requirement already satisfied: idna<4,>=2.5 in /Users/Twan/.pyenv/versions/3.12.2/lib/python3.12/site-packages (from requests>=2.22->requests-cache) (3.10)\n",
      "Requirement already satisfied: certifi>=2017.4.17 in /Users/Twan/.pyenv/versions/3.12.2/lib/python3.12/site-packages (from requests>=2.22->requests-cache) (2025.1.31)\n"
     ]
    }
   ],
   "source": [
    "# code based on input from website https://open-meteo.com/en/docs#latitude=51.6533&longitude=5.2875&current=&minutely_15=&hourly=temperature_2m,relative_humidity_2m,precipitation,rain,snowfall,cloud_cover,visibility,wind_speed_10m,wind_speed_80m,wind_speed_120m,wind_speed_180m,wind_gusts_10m,soil_temperature_0cm,soil_temperature_6cm,soil_moisture_0_to_1cm,soil_moisture_1_to_3cm,soil_moisture_3_to_9cm,soil_moisture_9_to_27cm,direct_radiation&daily=&timezone=Europe%2FBerlin&past_days=92&past_minutely_15=4&forecast_hours=1&models=\n",
    "!pip install openmeteo-requests\n",
    "!pip install requests-cache retry-requests numpy pandas"
   ]
  },
  {
   "cell_type": "code",
   "execution_count": 14,
   "metadata": {},
   "outputs": [
    {
     "name": "stdout",
     "output_type": "stream",
     "text": [
      "Coordinates 51.645999908447266°N 5.2779998779296875°E\n",
      "Elevation 12.0 m asl\n",
      "Timezone b'Europe/Berlin' b'GMT+1'\n",
      "Timezone difference to GMT+0 3600 s\n",
      "                         date  temperature_2m  relative_humidity_2m  \\\n",
      "0   2025-02-23 23:00:00+00:00       11.167500                  84.0   \n",
      "1   2025-02-24 00:00:00+00:00       11.317500                  81.0   \n",
      "2   2025-02-24 01:00:00+00:00       11.217500                  80.0   \n",
      "3   2025-02-24 02:00:00+00:00       11.017500                  83.0   \n",
      "4   2025-02-24 03:00:00+00:00       11.367499                  81.0   \n",
      "..                        ...             ...                   ...   \n",
      "331 2025-03-09 18:00:00+00:00       11.250000                  81.0   \n",
      "332 2025-03-09 19:00:00+00:00       10.600000                  82.0   \n",
      "333 2025-03-09 20:00:00+00:00       10.100000                  83.0   \n",
      "334 2025-03-09 21:00:00+00:00        9.600000                  84.0   \n",
      "335 2025-03-09 22:00:00+00:00        9.000000                  85.0   \n",
      "\n",
      "     precipitation  rain  snowfall  cloud_cover  visibility  wind_speed_10m  \\\n",
      "0              0.0   0.0       0.0        100.0     50000.0       18.359999   \n",
      "1              0.0   0.0       0.0        100.0     50000.0       18.359999   \n",
      "2              0.0   0.0       0.0        100.0     13900.0       15.840000   \n",
      "3              0.0   0.0       0.0        100.0     50000.0       19.440001   \n",
      "4              0.0   0.0       0.0        100.0     50000.0       20.880001   \n",
      "..             ...   ...       ...          ...         ...             ...   \n",
      "331            0.0   0.0       0.0         30.0     24140.0        9.957108   \n",
      "332            0.0   0.0       0.0         34.0     24140.0        9.957108   \n",
      "333            0.0   0.0       0.0         40.0     24140.0        9.531505   \n",
      "334            0.0   0.0       0.0         46.0     24140.0        9.114471   \n",
      "335            0.0   0.0       0.0         53.0     24140.0        8.707238   \n",
      "\n",
      "     wind_speed_80m  wind_speed_120m  wind_speed_180m  wind_gusts_10m  \\\n",
      "0         34.386723        36.009743        45.213497       33.839996   \n",
      "1         34.386723        36.009743        44.857491       33.839996   \n",
      "2         31.228758        32.702724        42.009392       30.960001   \n",
      "3         35.439377        37.112083        46.281532       35.279999   \n",
      "4         37.193806        38.949318        47.349567       37.439999   \n",
      "..              ...              ...              ...             ...   \n",
      "331       10.144082        12.313893        12.371645       20.519999   \n",
      "332       10.105681        14.058450        16.862455       20.160000   \n",
      "333       13.849477        19.008547        23.540806       19.799999   \n",
      "334       17.373497        22.553936        27.141230       19.080000   \n",
      "335       17.309973        21.674870        25.651104       18.359999   \n",
      "\n",
      "     soil_temperature_0cm  soil_temperature_6cm  soil_moisture_0_to_1cm  \\\n",
      "0                   10.30              9.837001                   0.171   \n",
      "1                   10.30             10.287001                   0.171   \n",
      "2                   10.25             10.187000                   0.171   \n",
      "3                   10.10              9.937000                   0.171   \n",
      "4                   10.00             10.187000                   0.173   \n",
      "..                    ...                   ...                     ...   \n",
      "331                  8.70             11.167500                   0.238   \n",
      "332                  7.75             10.767500                   0.255   \n",
      "333                  7.30             10.367499                   0.273   \n",
      "334                  6.90             10.017500                   0.284   \n",
      "335                  6.55              9.717500                   0.283   \n",
      "\n",
      "     soil_moisture_1_to_3cm  soil_moisture_3_to_9cm  soil_moisture_9_to_27cm  \\\n",
      "0                     0.173                   0.176                    0.183   \n",
      "1                     0.172                   0.176                    0.183   \n",
      "2                     0.172                   0.175                    0.182   \n",
      "3                     0.172                   0.175                    0.182   \n",
      "4                     0.174                   0.177                    0.180   \n",
      "..                      ...                     ...                      ...   \n",
      "331                   0.222                   0.234                    0.256   \n",
      "332                   0.238                   0.235                    0.256   \n",
      "333                   0.258                   0.236                    0.256   \n",
      "334                   0.273                   0.238                    0.256   \n",
      "335                   0.275                   0.241                    0.256   \n",
      "\n",
      "     direct_radiation  \n",
      "0            0.000000  \n",
      "1            0.000000  \n",
      "2            0.000000  \n",
      "3            0.000000  \n",
      "4            0.000000  \n",
      "..                ...  \n",
      "331          9.072287  \n",
      "332          0.000000  \n",
      "333          0.000000  \n",
      "334          0.000000  \n",
      "335          0.000000  \n",
      "\n",
      "[336 rows x 20 columns]\n"
     ]
    }
   ],
   "source": [
    "import openmeteo_requests\n",
    "\n",
    "import requests_cache\n",
    "import pandas as pd\n",
    "from retry_requests import retry\n",
    "\n",
    "# Setup the Open-Meteo API client with cache and retry on error\n",
    "cache_session = requests_cache.CachedSession('.cache', expire_after = 3600)\n",
    "retry_session = retry(cache_session, retries = 5, backoff_factor = 0.2)\n",
    "openmeteo = openmeteo_requests.Client(session = retry_session)\n",
    "\n",
    "# Make sure all required weather variables are listed here\n",
    "# The order of variables in hourly or daily is important to assign them correctly below\n",
    "url = \"https://api.open-meteo.com/v1/forecast\"\n",
    "params = {\n",
    "\t\"latitude\": 51.6533,\n",
    "\t\"longitude\": 5.2875,\n",
    "\t\"hourly\": [\"temperature_2m\", \"relative_humidity_2m\", \"precipitation\", \"rain\", \"snowfall\", \"cloud_cover\", \"visibility\", \"wind_speed_10m\", \"wind_speed_80m\", \"wind_speed_120m\", \"wind_speed_180m\", \"wind_gusts_10m\", \"soil_temperature_0cm\", \"soil_temperature_6cm\", \"soil_moisture_0_to_1cm\", \"soil_moisture_1_to_3cm\", \"soil_moisture_3_to_9cm\", \"soil_moisture_9_to_27cm\", \"direct_radiation\"],\n",
    "\t\"timezone\": \"Europe/Berlin\",\n",
    "\t\"past_days\": 7,\n",
    "}\n",
    "responses = openmeteo.weather_api(url, params=params)\n",
    "\n",
    "# Process first location. Add a for-loop for multiple locations or weather models\n",
    "response = responses[0]\n",
    "print(f\"Coordinates {response.Latitude()}°N {response.Longitude()}°E\")\n",
    "print(f\"Elevation {response.Elevation()} m asl\")\n",
    "print(f\"Timezone {response.Timezone()} {response.TimezoneAbbreviation()}\")\n",
    "print(f\"Timezone difference to GMT+0 {response.UtcOffsetSeconds()} s\")\n",
    "\n",
    "# Process hourly data. The order of variables needs to be the same as requested.\n",
    "hourly = response.Hourly()\n",
    "hourly_temperature_2m = hourly.Variables(0).ValuesAsNumpy()\n",
    "hourly_relative_humidity_2m = hourly.Variables(1).ValuesAsNumpy()\n",
    "hourly_precipitation = hourly.Variables(2).ValuesAsNumpy()\n",
    "hourly_rain = hourly.Variables(3).ValuesAsNumpy()\n",
    "hourly_snowfall = hourly.Variables(4).ValuesAsNumpy()\n",
    "hourly_cloud_cover = hourly.Variables(5).ValuesAsNumpy()\n",
    "hourly_visibility = hourly.Variables(6).ValuesAsNumpy()\n",
    "hourly_wind_speed_10m = hourly.Variables(7).ValuesAsNumpy()\n",
    "hourly_wind_speed_80m = hourly.Variables(8).ValuesAsNumpy()\n",
    "hourly_wind_speed_120m = hourly.Variables(9).ValuesAsNumpy()\n",
    "hourly_wind_speed_180m = hourly.Variables(10).ValuesAsNumpy()\n",
    "hourly_wind_gusts_10m = hourly.Variables(11).ValuesAsNumpy()\n",
    "hourly_soil_temperature_0cm = hourly.Variables(12).ValuesAsNumpy()\n",
    "hourly_soil_temperature_6cm = hourly.Variables(13).ValuesAsNumpy()\n",
    "hourly_soil_moisture_0_to_1cm = hourly.Variables(14).ValuesAsNumpy()\n",
    "hourly_soil_moisture_1_to_3cm = hourly.Variables(15).ValuesAsNumpy()\n",
    "hourly_soil_moisture_3_to_9cm = hourly.Variables(16).ValuesAsNumpy()\n",
    "hourly_soil_moisture_9_to_27cm = hourly.Variables(17).ValuesAsNumpy()\n",
    "hourly_direct_radiation = hourly.Variables(18).ValuesAsNumpy()\n",
    "\n",
    "hourly_data = {\"date\": pd.date_range(\n",
    "\tstart = pd.to_datetime(hourly.Time(), unit = \"s\", utc = True),\n",
    "\tend = pd.to_datetime(hourly.TimeEnd(), unit = \"s\", utc = True),\n",
    "\tfreq = pd.Timedelta(seconds = hourly.Interval()),\n",
    "\tinclusive = \"left\"\n",
    ")}\n",
    "\n",
    "hourly_data[\"temperature_2m\"] = hourly_temperature_2m\n",
    "hourly_data[\"relative_humidity_2m\"] = hourly_relative_humidity_2m\n",
    "hourly_data[\"precipitation\"] = hourly_precipitation\n",
    "hourly_data[\"rain\"] = hourly_rain\n",
    "hourly_data[\"snowfall\"] = hourly_snowfall\n",
    "hourly_data[\"cloud_cover\"] = hourly_cloud_cover\n",
    "hourly_data[\"visibility\"] = hourly_visibility\n",
    "hourly_data[\"wind_speed_10m\"] = hourly_wind_speed_10m\n",
    "hourly_data[\"wind_speed_80m\"] = hourly_wind_speed_80m\n",
    "hourly_data[\"wind_speed_120m\"] = hourly_wind_speed_120m\n",
    "hourly_data[\"wind_speed_180m\"] = hourly_wind_speed_180m\n",
    "hourly_data[\"wind_gusts_10m\"] = hourly_wind_gusts_10m\n",
    "hourly_data[\"soil_temperature_0cm\"] = hourly_soil_temperature_0cm\n",
    "hourly_data[\"soil_temperature_6cm\"] = hourly_soil_temperature_6cm\n",
    "hourly_data[\"soil_moisture_0_to_1cm\"] = hourly_soil_moisture_0_to_1cm\n",
    "hourly_data[\"soil_moisture_1_to_3cm\"] = hourly_soil_moisture_1_to_3cm\n",
    "hourly_data[\"soil_moisture_3_to_9cm\"] = hourly_soil_moisture_3_to_9cm\n",
    "hourly_data[\"soil_moisture_9_to_27cm\"] = hourly_soil_moisture_9_to_27cm\n",
    "hourly_data[\"direct_radiation\"] = hourly_direct_radiation\n",
    "\n",
    "hourly_dataframe = pd.DataFrame(data = hourly_data)\n",
    "print(hourly_dataframe)\n"
   ]
  },
  {
   "cell_type": "code",
   "execution_count": 15,
   "metadata": {},
   "outputs": [
    {
     "name": "stdout",
     "output_type": "stream",
     "text": [
      "Number of rows: 169\n"
     ]
    }
   ],
   "source": [
    "# Filter the data for the last week\n",
    "last_week_data = hourly_dataframe[hourly_dataframe['date'] >= (hourly_dataframe['date'].max() - pd.Timedelta(days=7))]\n",
    "\n",
    "\n",
    "# Count the number of rows\n",
    "row_count = len(last_week_data)\n",
    "print(f\"Number of rows: {row_count}\")"
   ]
  },
  {
   "cell_type": "code",
   "execution_count": 11,
   "metadata": {},
   "outputs": [
    {
     "name": "stdout",
     "output_type": "stream",
     "text": [
      "datetime64[ns, UTC]\n"
     ]
    }
   ],
   "source": [
    "print(hourly_dataframe['date'].dtype)"
   ]
  },
  {
   "cell_type": "code",
   "execution_count": 16,
   "metadata": {},
   "outputs": [
    {
     "name": "stdout",
     "output_type": "stream",
     "text": [
      "2025-03-09 22:00:00+00:00\n",
      "2025-02-23 23:00:00+00:00\n"
     ]
    }
   ],
   "source": [
    "print(hourly_dataframe['date'].max())\n",
    "print(hourly_dataframe['date'].min())"
   ]
  },
  {
   "cell_type": "code",
   "execution_count": 18,
   "metadata": {},
   "outputs": [],
   "source": [
    "last_week_data.to_csv('last_week_hourly_data.csv', index=False)"
   ]
  }
 ],
 "metadata": {
  "kernelspec": {
   "display_name": "Python 3",
   "language": "python",
   "name": "python3"
  },
  "language_info": {
   "codemirror_mode": {
    "name": "ipython",
    "version": 3
   },
   "file_extension": ".py",
   "mimetype": "text/x-python",
   "name": "python",
   "nbconvert_exporter": "python",
   "pygments_lexer": "ipython3",
   "version": "3.12.2"
  }
 },
 "nbformat": 4,
 "nbformat_minor": 2
}
