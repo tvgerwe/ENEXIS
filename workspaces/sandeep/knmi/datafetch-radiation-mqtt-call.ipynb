{
 "cells": [
  {
   "cell_type": "markdown",
   "metadata": {},
   "source": [
    "Pythin code for MQTT call to fetch data"
   ]
  },
  {
   "cell_type": "code",
   "execution_count": 1,
   "metadata": {},
   "outputs": [],
   "source": [
    "import logging\n",
    "import ssl\n",
    "\n",
    "import paho.mqtt.client as mqtt_client\n",
    "import paho.mqtt.properties as properties"
   ]
  },
  {
   "cell_type": "markdown",
   "metadata": {},
   "source": [
    "Load Configs"
   ]
  },
  {
   "cell_type": "code",
   "execution_count": 1,
   "metadata": {},
   "outputs": [
    {
     "ename": "NameError",
     "evalue": "name 'mqtt_client' is not defined",
     "output_type": "error",
     "traceback": [
      "\u001b[0;31m---------------------------------------------------------------------------\u001b[0m",
      "\u001b[0;31mNameError\u001b[0m                                 Traceback (most recent call last)",
      "Cell \u001b[0;32mIn[1], line 1\u001b[0m\n\u001b[0;32m----> 1\u001b[0m \u001b[38;5;28mprint\u001b[39m(\u001b[43mmqtt_client\u001b[49m\u001b[38;5;241m.\u001b[39mCONNACK_REFUSED_PROTOCOL_VERSION)  \u001b[38;5;66;03m# Should be 1.6.1 or later\u001b[39;00m\n\u001b[1;32m      2\u001b[0m \u001b[38;5;28mprint\u001b[39m(mqtt_client\u001b[38;5;241m.\u001b[39mCallbackAPIVersion)  \u001b[38;5;66;03m#\u001b[39;00m\n\u001b[1;32m      5\u001b[0m BROKER_DOMAIN \u001b[38;5;241m=\u001b[39m \u001b[38;5;124m\"\u001b[39m\u001b[38;5;124mmqtt.dataplatform.knmi.nl\u001b[39m\u001b[38;5;124m\"\u001b[39m\n",
      "\u001b[0;31mNameError\u001b[0m: name 'mqtt_client' is not defined"
     ]
    }
   ],
   "source": [
    "print(mqtt_client.CONNACK_REFUSED_PROTOCOL_VERSION)  # Should be 1.6.1 or later\n",
    "print(mqtt_client.CallbackAPIVersion)  #\n",
    "\n",
    "\n",
    "BROKER_DOMAIN = \"mqtt.dataplatform.knmi.nl\"\n",
    "# Client ID should be made static, it is used to identify your session, so that\n",
    "# missed events can be replayed after a disconnect\n",
    "# https://www.uuidgenerator.net/version4\n",
    "CLIENT_ID = \"358b912b-950f-46c1-bca8-a74d7918ebba\"\n",
    "# Obtain your token at: https://developer.dataplatform.knmi.nl/notification-service\n",
    "TOKEN = \"eyJvcmciOiI1ZTU1NGUxOTI3NGE5NjAwMDEyYTNlYjEiLCJpZCI6IjM3ODk5YjE4NjM5ZDQ0ZmRhYjMzYjdhMjBlZDE3Mjg3IiwiaCI6Im11cm11cjEyOCJ9\"\n",
    "# This will listen to both file creation and update events of this dataset:\n",
    "# https://dataplatform.knmi.nl/dataset/radar-echotopheight-5min-1-0\n",
    "# This topic should have one event every 5 minutes\n",
    "TOPIC = \"dataplatform/file/v1/radar_echotopheight_5min/1.0/#\"\n",
    "# Version 3.1.1 also supported\n",
    "PROTOCOL = mqtt_client.MQTTv5\n",
    "\n",
    "logging.basicConfig()\n",
    "logger = logging.getLogger(__name__)\n",
    "logger.setLevel(\"INFO\")"
   ]
  },
  {
   "cell_type": "markdown",
   "metadata": {},
   "source": [
    "Connect to MQTT"
   ]
  },
  {
   "cell_type": "code",
   "execution_count": 5,
   "metadata": {},
   "outputs": [],
   "source": [
    "def connect_mqtt() -> mqtt_client:\n",
    "    def on_connect(c: mqtt_client, userdata, flags, reason_code, props=None):\n",
    "        logger.info(f\"Connected using client ID: {str(c._client_id)}\")\n",
    "        logger.info(f\"Session present: {str(flags.session_present)}\")\n",
    "        logger.info(f\"Connection result: {str(reason_code)}\")\n",
    "        # Subscribe here so it is automatically done after disconnect\n",
    "        logger.info(f\"Calling subscribe method\")\n",
    "        subscribe(c, TOPIC)\n",
    "\n",
    "    client = mqtt_client.Client(\n",
    "        mqtt_client.CallbackAPIVersion.VERSION2, client_id=CLIENT_ID, protocol=PROTOCOL, transport=\"websockets\"\n",
    "    )\n",
    "    client.tls_set(tls_version=ssl.PROTOCOL_TLS)\n",
    "    connect_properties = properties.Properties(properties.PacketTypes.CONNECT)\n",
    "    # Maximum is 3600\n",
    "    connect_properties.SessionExpiryInterval = 3600\n",
    "\n",
    "    # The MQTT username is not used for authentication, only the token\n",
    "    username = \"token\"\n",
    "    client.username_pw_set(username, TOKEN)\n",
    "    client.on_connect = on_connect\n",
    "\n",
    "    client.connect(host=BROKER_DOMAIN, port=443, keepalive=60, clean_start=False, properties=connect_properties)\n",
    "\n",
    "    return client\n",
    "\n",
    "\n",
    "def subscribe(client: mqtt_client, topic: str):\n",
    "    logger.info(f\"inside subscribe method\")\n",
    "    def on_message(c: mqtt_client, userdata, message):\n",
    "        # NOTE: Do NOT do slow processing in this function, as this will interfere with PUBACK messages for QoS=1.\n",
    "        # A couple of seconds seems fine, a minute is definitely too long.\n",
    "        logger.info(f\"Received message on topic {message.topic}: {str(message.payload)}\")\n",
    "\n",
    "    def on_subscribe(c: mqtt_client, userdata, mid, reason_codes, properties):\n",
    "        logger.info(f\"Subscribed to topic '{topic}'\")\n",
    "\n",
    "    client.on_subscribe = on_subscribe\n",
    "    client.on_message = on_message\n",
    "    # A qos=1 will replay missed events when reconnecting with the same client ID. Use qos=0 to disable\n",
    "    client.subscribe(topic, qos=1)"
   ]
  },
  {
   "cell_type": "markdown",
   "metadata": {},
   "source": [
    "make connection "
   ]
  },
  {
   "cell_type": "code",
   "execution_count": 6,
   "metadata": {},
   "outputs": [
    {
     "name": "stderr",
     "output_type": "stream",
     "text": [
      "INFO:__main__:Connected using client ID: b'358b912b-950f-46c1-bca8-a74d7918ebba'\n",
      "INFO:__main__:Session present: True\n",
      "INFO:__main__:Connection result: Success\n",
      "INFO:__main__:Calling subscribe method\n",
      "INFO:__main__:inside subscribe method\n",
      "INFO:__main__:Subscribed to topic 'dataplatform/file/v1/radar_echotopheight_5min/1.0/#'\n",
      "INFO:__main__:Received message on topic dataplatform/file/v1/radar_echotopheight_5min/1.0/created: b'{\"specversion\": \"1.0\", \"type\": \"nl.knmi.dataplatform.file.created.v1\", \"source\": \"https://dataplatform.knmi.nl\", \"id\": \"2c84a7ea-3a94-1d18-89be-13ef52abd589\", \"time\": \"2025-02-05T11:10:33Z\", \"datacontenttype\": \"application/json\", \"data\": {\"datasetName\": \"radar_echotopheight_5min\", \"datasetVersion\": \"1.0\", \"filename\": \"RAD_NL25_ETH_NA_202502051105.h5\", \"url\": \"https://api.dataplatform.knmi.nl/open-data/v1/datasets/radar_echotopheight_5min/versions/1.0/files/RAD_NL25_ETH_NA_202502051105.h5/url\"}}'\n",
      "INFO:__main__:Received message on topic dataplatform/file/v1/radar_echotopheight_5min/1.0/created: b'{\"specversion\": \"1.0\", \"type\": \"nl.knmi.dataplatform.file.created.v1\", \"source\": \"https://dataplatform.knmi.nl\", \"id\": \"c242f138-8ebc-c79f-29d7-3556913a4b52\", \"time\": \"2025-02-05T11:15:34Z\", \"datacontenttype\": \"application/json\", \"data\": {\"datasetName\": \"radar_echotopheight_5min\", \"datasetVersion\": \"1.0\", \"filename\": \"RAD_NL25_ETH_NA_202502051110.h5\", \"url\": \"https://api.dataplatform.knmi.nl/open-data/v1/datasets/radar_echotopheight_5min/versions/1.0/files/RAD_NL25_ETH_NA_202502051110.h5/url\"}}'\n",
      "INFO:__main__:Received message on topic dataplatform/file/v1/radar_echotopheight_5min/1.0/created: b'{\"specversion\": \"1.0\", \"type\": \"nl.knmi.dataplatform.file.created.v1\", \"source\": \"https://dataplatform.knmi.nl\", \"id\": \"e18dfd0a-cfa2-06b5-73b8-7650073d4b8f\", \"time\": \"2025-02-05T11:20:34Z\", \"datacontenttype\": \"application/json\", \"data\": {\"datasetName\": \"radar_echotopheight_5min\", \"datasetVersion\": \"1.0\", \"filename\": \"RAD_NL25_ETH_NA_202502051115.h5\", \"url\": \"https://api.dataplatform.knmi.nl/open-data/v1/datasets/radar_echotopheight_5min/versions/1.0/files/RAD_NL25_ETH_NA_202502051115.h5/url\"}}'\n"
     ]
    },
    {
     "ename": "KeyboardInterrupt",
     "evalue": "",
     "output_type": "error",
     "traceback": [
      "\u001b[0;31m---------------------------------------------------------------------------\u001b[0m",
      "\u001b[0;31mKeyboardInterrupt\u001b[0m                         Traceback (most recent call last)",
      "Cell \u001b[0;32mIn[6], line 8\u001b[0m\n\u001b[1;32m      4\u001b[0m     client\u001b[38;5;241m.\u001b[39mloop_forever()\n\u001b[1;32m      7\u001b[0m \u001b[38;5;28;01mif\u001b[39;00m \u001b[38;5;18m__name__\u001b[39m \u001b[38;5;241m==\u001b[39m \u001b[38;5;124m\"\u001b[39m\u001b[38;5;124m__main__\u001b[39m\u001b[38;5;124m\"\u001b[39m:\n\u001b[0;32m----> 8\u001b[0m     \u001b[43mrun\u001b[49m\u001b[43m(\u001b[49m\u001b[43m)\u001b[49m\n",
      "Cell \u001b[0;32mIn[6], line 4\u001b[0m, in \u001b[0;36mrun\u001b[0;34m()\u001b[0m\n\u001b[1;32m      2\u001b[0m client \u001b[38;5;241m=\u001b[39m connect_mqtt()\n\u001b[1;32m      3\u001b[0m client\u001b[38;5;241m.\u001b[39menable_logger(logger\u001b[38;5;241m=\u001b[39mlogger)\n\u001b[0;32m----> 4\u001b[0m \u001b[43mclient\u001b[49m\u001b[38;5;241;43m.\u001b[39;49m\u001b[43mloop_forever\u001b[49m\u001b[43m(\u001b[49m\u001b[43m)\u001b[49m\n",
      "File \u001b[0;32m/opt/miniconda3/envs/enexis-data-visualization/lib/python3.12/site-packages/paho/mqtt/client.py:2297\u001b[0m, in \u001b[0;36mClient.loop_forever\u001b[0;34m(self, timeout, retry_first_connection)\u001b[0m\n\u001b[1;32m   2295\u001b[0m rc \u001b[38;5;241m=\u001b[39m MQTTErrorCode\u001b[38;5;241m.\u001b[39mMQTT_ERR_SUCCESS\n\u001b[1;32m   2296\u001b[0m \u001b[38;5;28;01mwhile\u001b[39;00m rc \u001b[38;5;241m==\u001b[39m MQTTErrorCode\u001b[38;5;241m.\u001b[39mMQTT_ERR_SUCCESS:\n\u001b[0;32m-> 2297\u001b[0m     rc \u001b[38;5;241m=\u001b[39m \u001b[38;5;28;43mself\u001b[39;49m\u001b[38;5;241;43m.\u001b[39;49m\u001b[43m_loop\u001b[49m\u001b[43m(\u001b[49m\u001b[43mtimeout\u001b[49m\u001b[43m)\u001b[49m\n\u001b[1;32m   2298\u001b[0m     \u001b[38;5;66;03m# We don't need to worry about locking here, because we've\u001b[39;00m\n\u001b[1;32m   2299\u001b[0m     \u001b[38;5;66;03m# either called loop_forever() when in single threaded mode, or\u001b[39;00m\n\u001b[1;32m   2300\u001b[0m     \u001b[38;5;66;03m# in multi threaded mode when loop_stop() has been called and\u001b[39;00m\n\u001b[1;32m   2301\u001b[0m     \u001b[38;5;66;03m# so no other threads can access _out_packet or _messages.\u001b[39;00m\n\u001b[1;32m   2302\u001b[0m     \u001b[38;5;28;01mif\u001b[39;00m (\u001b[38;5;28mself\u001b[39m\u001b[38;5;241m.\u001b[39m_thread_terminate \u001b[38;5;129;01mis\u001b[39;00m \u001b[38;5;28;01mTrue\u001b[39;00m\n\u001b[1;32m   2303\u001b[0m         \u001b[38;5;129;01mand\u001b[39;00m \u001b[38;5;28mlen\u001b[39m(\u001b[38;5;28mself\u001b[39m\u001b[38;5;241m.\u001b[39m_out_packet) \u001b[38;5;241m==\u001b[39m \u001b[38;5;241m0\u001b[39m\n\u001b[1;32m   2304\u001b[0m             \u001b[38;5;129;01mand\u001b[39;00m \u001b[38;5;28mlen\u001b[39m(\u001b[38;5;28mself\u001b[39m\u001b[38;5;241m.\u001b[39m_out_messages) \u001b[38;5;241m==\u001b[39m \u001b[38;5;241m0\u001b[39m):\n",
      "File \u001b[0;32m/opt/miniconda3/envs/enexis-data-visualization/lib/python3.12/site-packages/paho/mqtt/client.py:1663\u001b[0m, in \u001b[0;36mClient._loop\u001b[0;34m(self, timeout)\u001b[0m\n\u001b[1;32m   1660\u001b[0m     rlist \u001b[38;5;241m=\u001b[39m [\u001b[38;5;28mself\u001b[39m\u001b[38;5;241m.\u001b[39m_sock, \u001b[38;5;28mself\u001b[39m\u001b[38;5;241m.\u001b[39m_sockpairR]\n\u001b[1;32m   1662\u001b[0m \u001b[38;5;28;01mtry\u001b[39;00m:\n\u001b[0;32m-> 1663\u001b[0m     socklist \u001b[38;5;241m=\u001b[39m \u001b[43mselect\u001b[49m\u001b[38;5;241;43m.\u001b[39;49m\u001b[43mselect\u001b[49m\u001b[43m(\u001b[49m\u001b[43mrlist\u001b[49m\u001b[43m,\u001b[49m\u001b[43m \u001b[49m\u001b[43mwlist\u001b[49m\u001b[43m,\u001b[49m\u001b[43m \u001b[49m\u001b[43m[\u001b[49m\u001b[43m]\u001b[49m\u001b[43m,\u001b[49m\u001b[43m \u001b[49m\u001b[43mtimeout\u001b[49m\u001b[43m)\u001b[49m\n\u001b[1;32m   1664\u001b[0m \u001b[38;5;28;01mexcept\u001b[39;00m \u001b[38;5;167;01mTypeError\u001b[39;00m:\n\u001b[1;32m   1665\u001b[0m     \u001b[38;5;66;03m# Socket isn't correct type, in likelihood connection is lost\u001b[39;00m\n\u001b[1;32m   1666\u001b[0m     \u001b[38;5;66;03m# ... or we called disconnect(). In that case the socket will\u001b[39;00m\n\u001b[0;32m   (...)\u001b[0m\n\u001b[1;32m   1669\u001b[0m     \u001b[38;5;66;03m# rc != MQTT_ERR_SUCCESS and we don't want state to change from\u001b[39;00m\n\u001b[1;32m   1670\u001b[0m     \u001b[38;5;66;03m# mqtt_cs_disconnecting.\u001b[39;00m\n\u001b[1;32m   1671\u001b[0m     \u001b[38;5;28;01mif\u001b[39;00m \u001b[38;5;28mself\u001b[39m\u001b[38;5;241m.\u001b[39m_state \u001b[38;5;129;01mnot\u001b[39;00m \u001b[38;5;129;01min\u001b[39;00m (_ConnectionState\u001b[38;5;241m.\u001b[39mMQTT_CS_DISCONNECTING, _ConnectionState\u001b[38;5;241m.\u001b[39mMQTT_CS_DISCONNECTED):\n",
      "\u001b[0;31mKeyboardInterrupt\u001b[0m: "
     ]
    }
   ],
   "source": [
    "def run():\n",
    "    client = connect_mqtt()\n",
    "    client.enable_logger(logger=logger)\n",
    "    client.loop_forever()\n",
    "\n",
    "\n",
    "if __name__ == \"__main__\":\n",
    "    run()"
   ]
  }
 ],
 "metadata": {
  "kernelspec": {
   "display_name": "enexis-data-visualization",
   "language": "python",
   "name": "python3"
  },
  "language_info": {
   "codemirror_mode": {
    "name": "ipython",
    "version": 3
   },
   "file_extension": ".py",
   "mimetype": "text/x-python",
   "name": "python",
   "nbconvert_exporter": "python",
   "pygments_lexer": "ipython3",
   "version": "3.12.2"
  }
 },
 "nbformat": 4,
 "nbformat_minor": 2
}
