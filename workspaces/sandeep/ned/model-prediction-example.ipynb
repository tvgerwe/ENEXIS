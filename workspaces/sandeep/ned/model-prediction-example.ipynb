{
 "cells": [
  {
   "cell_type": "markdown",
   "metadata": {},
   "source": [
    "code to predict pv generation"
   ]
  },
  {
   "cell_type": "code",
   "execution_count": 2,
   "metadata": {},
   "outputs": [],
   "source": [
    "import numpy as np\n",
    "import pandas as pd\n",
    "from scipy.stats import norm, gamma\n",
    "import matplotlib.pyplot as plt\n",
    "import scipy.stats as stats\n",
    "from matplotlib.ticker import MaxNLocator # To ensure demand axis are integer.\n",
    "\n",
    "from sklearn.model_selection import train_test_split\n",
    "from sklearn.linear_model import LinearRegression\n",
    "from sklearn.linear_model import Lasso\n",
    "from sklearn.metrics import mean_absolute_error\n",
    "\n",
    "# Third party packages.\n",
    "import os                       # Execute tasks related to your operating system.\n",
    "\n",
    "import polars as pl             # Data handling ('Blazingly fast DataFrames') and is a drop-in replacement for pandas.\n",
    "import pickle                   # Save and load data to and from pickle files.\n",
    "import time\n",
    "import json\n",
    "import os\n",
    "\n",
    "from icecream import ic         # Print variables.\n"
   ]
  },
  {
   "cell_type": "markdown",
   "metadata": {},
   "source": [
    "Data Understanding\n",
    "\n",
    "Load data set. Split with 80% and 20% split"
   ]
  },
  {
   "cell_type": "code",
   "execution_count": 3,
   "metadata": {},
   "outputs": [
    {
     "name": "stdout",
     "output_type": "stream",
     "text": [
      "DOWNLOAD_DIR : ../data/\n"
     ]
    },
    {
     "data": {
      "text/html": [
       "<div>\n",
       "<style scoped>\n",
       "    .dataframe tbody tr th:only-of-type {\n",
       "        vertical-align: middle;\n",
       "    }\n",
       "\n",
       "    .dataframe tbody tr th {\n",
       "        vertical-align: top;\n",
       "    }\n",
       "\n",
       "    .dataframe thead th {\n",
       "        text-align: right;\n",
       "    }\n",
       "</style>\n",
       "<table border=\"1\" class=\"dataframe\">\n",
       "  <thead>\n",
       "    <tr style=\"text-align: right;\">\n",
       "      <th></th>\n",
       "      <th>ID</th>\n",
       "      <th>Date</th>\n",
       "      <th>Value</th>\n",
       "    </tr>\n",
       "  </thead>\n",
       "  <tbody>\n",
       "    <tr>\n",
       "      <th>0</th>\n",
       "      <td>1</td>\n",
       "      <td>2025-01-01T00:00:00+00:00</td>\n",
       "      <td>102.8</td>\n",
       "    </tr>\n",
       "    <tr>\n",
       "      <th>1</th>\n",
       "      <td>2</td>\n",
       "      <td>2025-01-01T00:15:00+00:00</td>\n",
       "      <td>105.9</td>\n",
       "    </tr>\n",
       "    <tr>\n",
       "      <th>2</th>\n",
       "      <td>3</td>\n",
       "      <td>2025-01-01T00:30:00+00:00</td>\n",
       "      <td>110.1</td>\n",
       "    </tr>\n",
       "  </tbody>\n",
       "</table>\n",
       "</div>"
      ],
      "text/plain": [
       "   ID                       Date  Value\n",
       "0   1  2025-01-01T00:00:00+00:00  102.8\n",
       "1   2  2025-01-01T00:15:00+00:00  105.9\n",
       "2   3  2025-01-01T00:30:00+00:00  110.1"
      ]
     },
     "execution_count": 3,
     "metadata": {},
     "output_type": "execute_result"
    }
   ],
   "source": [
    "# Load API Key and download directory from config file\n",
    "CONFIG_FILE = \"../config/api-call.json\"\n",
    "\n",
    "def load_config(config_path):\n",
    "    \"\"\"Load configuration from a JSON file.\"\"\"\n",
    "    with open(config_path, \"r\") as file:\n",
    "        return json.load(file)\n",
    "\n",
    "# Load config values\n",
    "config = load_config(CONFIG_FILE)\n",
    "\n",
    "# print(config)\n",
    "DOWNLOAD_DIR = config[\"ned\"][\"ned_test_download_dir\"]\n",
    "print(\"DOWNLOAD_DIR :\", DOWNLOAD_DIR)\n",
    "\n",
    "# Step 1: Read JSON data from a file\n",
    "json_file_path = os.path.join(DOWNLOAD_DIR, f\"model-gen-test-data.json\")\n",
    "\n",
    "with open(json_file_path, \"r\") as json_file:\n",
    "    dc_ned_json_data_1 = json.load(json_file)\n",
    "\n",
    "# df_ned_json_data = dc_ned_json_data_1['df_orig']\n",
    "df_ned_json_data = pd.DataFrame(dc_ned_json_data_1)  # Convert dictionary to DataFrame\n",
    "\n",
    "df_pd_orig = df_ned_json_data\n",
    "# Show a sample of first 3 rows.\n",
    "df_pd_orig.head(3)\n"
   ]
  },
  {
   "cell_type": "markdown",
   "metadata": {},
   "source": [
    "Descriptive Statistics"
   ]
  },
  {
   "cell_type": "code",
   "execution_count": 4,
   "metadata": {},
   "outputs": [
    {
     "name": "stdout",
     "output_type": "stream",
     "text": [
      "We have 2 numerical variables:\n",
      "Index(['ID', 'Value'], dtype='object')\n",
      "Number of rows: 50 and column names are: Index(['Date'], dtype='object') and column types are: Date    object\n",
      "dtype: object\n"
     ]
    }
   ],
   "source": [
    "# Using Pandas.\n",
    "df_pd_num = df_pd_orig.select_dtypes(include='number')\n",
    "\n",
    "# Column names (Pandas: df_pd_orig_num.columns.tolist()).\n",
    "l_df_num_names = df_pd_num.columns\n",
    "print(f\"We have {len(l_df_num_names)} numerical variables:\\n{l_df_num_names}\")\n",
    "\n",
    "# Convert to datetime format\n",
    "df_pd_orig_str    = df_pd_orig.select_dtypes(include='object')\n",
    "print(\"Number of rows:\", df_pd_orig_str.shape[0], \"and column names are:\", df_pd_orig_str.columns, \"and column types are:\", df_pd_orig_str.dtypes)"
   ]
  },
  {
   "cell_type": "markdown",
   "metadata": {},
   "source": [
    "To check if the output column has unique values"
   ]
  },
  {
   "cell_type": "code",
   "execution_count": 5,
   "metadata": {},
   "outputs": [
    {
     "name": "stdout",
     "output_type": "stream",
     "text": [
      "['Value']:     Value\n",
      "0   102.8\n",
      "1   105.9\n",
      "2   110.1\n",
      "3   115.3\n",
      "4   121.0\n",
      "5   127.2\n",
      "6   133.7\n",
      "7   140.2\n",
      "8   146.5\n",
      "9   152.2\n",
      "10  157.0\n",
      "11  161.0\n",
      "12  164.2\n",
      "13  166.8\n",
      "14  168.9\n",
      "15  170.6\n",
      "16  172.0\n",
      "17  173.2\n",
      "18  174.4\n",
      "19  175.5\n",
      "20  176.5\n",
      "21  177.6\n",
      "22  178.6\n",
      "23  179.7\n",
      "24  180.8\n",
      "25  181.9\n",
      "26  183.0\n",
      "27  184.0\n",
      "28  185.1\n",
      "29  186.2\n",
      "30  187.3\n",
      "31  188.4\n",
      "32  189.5\n",
      "33  190.6\n",
      "34  191.7\n",
      "35  192.8\n",
      "36  193.9\n",
      "37  195.0\n",
      "38  196.1\n",
      "39  197.2\n",
      "40  198.3\n",
      "41  199.4\n",
      "42  200.5\n",
      "43  201.6\n",
      "44  202.7\n",
      "45  203.8\n",
      "46  204.9\n",
      "47  206.0\n",
      "48  207.1\n",
      "49  208.2\n",
      "Value: [102.8 105.9 110.1 115.3 121.  127.2 133.7 140.2 146.5 152.2 157.  161.\n",
      " 164.2 166.8 168.9 170.6 172.  173.2 174.4 175.5 176.5 177.6 178.6 179.7\n",
      " 180.8 181.9 183.  184.  185.1 186.2 187.3 188.4 189.5 190.6 191.7 192.8\n",
      " 193.9 195.  196.1 197.2 198.3 199.4 200.5 201.6 202.7 203.8 204.9 206.\n",
      " 207.1 208.2]\n"
     ]
    }
   ],
   "source": [
    "l_col = ['Value']\n",
    "\n",
    "for s_col in l_col:\n",
    "    print(f\"{l_col}: {df_pd_orig[l_col]}\")\n",
    "    print(f\"{s_col}: {df_pd_orig[s_col].unique()}\")"
   ]
  },
  {
   "cell_type": "markdown",
   "metadata": {},
   "source": [
    "Contruct a descriptive summary"
   ]
  },
  {
   "cell_type": "code",
   "execution_count": 6,
   "metadata": {},
   "outputs": [
    {
     "data": {
      "text/html": [
       "<div>\n",
       "<style scoped>\n",
       "    .dataframe tbody tr th:only-of-type {\n",
       "        vertical-align: middle;\n",
       "    }\n",
       "\n",
       "    .dataframe tbody tr th {\n",
       "        vertical-align: top;\n",
       "    }\n",
       "\n",
       "    .dataframe thead th {\n",
       "        text-align: right;\n",
       "    }\n",
       "</style>\n",
       "<table border=\"1\" class=\"dataframe\">\n",
       "  <thead>\n",
       "    <tr style=\"text-align: right;\">\n",
       "      <th></th>\n",
       "      <th>ID</th>\n",
       "      <th>Value</th>\n",
       "    </tr>\n",
       "  </thead>\n",
       "  <tbody>\n",
       "    <tr>\n",
       "      <th>count</th>\n",
       "      <td>50.00000</td>\n",
       "      <td>50.000000</td>\n",
       "    </tr>\n",
       "    <tr>\n",
       "      <th>mean</th>\n",
       "      <td>25.50000</td>\n",
       "      <td>174.138000</td>\n",
       "    </tr>\n",
       "    <tr>\n",
       "      <th>std</th>\n",
       "      <td>14.57738</td>\n",
       "      <td>28.429367</td>\n",
       "    </tr>\n",
       "    <tr>\n",
       "      <th>min</th>\n",
       "      <td>1.00000</td>\n",
       "      <td>102.800000</td>\n",
       "    </tr>\n",
       "    <tr>\n",
       "      <th>25%</th>\n",
       "      <td>13.25000</td>\n",
       "      <td>164.850000</td>\n",
       "    </tr>\n",
       "    <tr>\n",
       "      <th>50%</th>\n",
       "      <td>25.50000</td>\n",
       "      <td>181.350000</td>\n",
       "    </tr>\n",
       "    <tr>\n",
       "      <th>75%</th>\n",
       "      <td>37.75000</td>\n",
       "      <td>194.725000</td>\n",
       "    </tr>\n",
       "    <tr>\n",
       "      <th>max</th>\n",
       "      <td>50.00000</td>\n",
       "      <td>208.200000</td>\n",
       "    </tr>\n",
       "  </tbody>\n",
       "</table>\n",
       "</div>"
      ],
      "text/plain": [
       "             ID       Value\n",
       "count  50.00000   50.000000\n",
       "mean   25.50000  174.138000\n",
       "std    14.57738   28.429367\n",
       "min     1.00000  102.800000\n",
       "25%    13.25000  164.850000\n",
       "50%    25.50000  181.350000\n",
       "75%    37.75000  194.725000\n",
       "max    50.00000  208.200000"
      ]
     },
     "execution_count": 6,
     "metadata": {},
     "output_type": "execute_result"
    }
   ],
   "source": [
    "df_pd_orig.describe()"
   ]
  },
  {
   "cell_type": "markdown",
   "metadata": {},
   "source": [
    "Prepare daya for prediction"
   ]
  },
  {
   "cell_type": "code",
   "execution_count": 7,
   "metadata": {},
   "outputs": [],
   "source": [
    "# Convert timestamp to datetime format\n",
    "df_pd_orig[\"Date\"] = pd.to_datetime(df_pd_orig[\"Date\"])\n",
    "\n",
    "# Extract Features from Timestamp\n",
    "df_pd_orig[\"year\"] = df_pd_orig[\"Date\"].dt.year\n",
    "df_pd_orig[\"month\"] = df_pd_orig[\"Date\"].dt.month\n",
    "df_pd_orig[\"day\"] = df_pd_orig[\"Date\"].dt.day\n",
    "df_pd_orig[\"hour\"] = df_pd_orig[\"Date\"].dt.hour\n",
    "df_pd_orig[\"minute\"] = df_pd_orig[\"Date\"].dt.minute\n",
    "\n",
    "# Select Features (X) and Target Variable (y)\n",
    "X = df_pd_orig[[\"year\", \"month\", \"day\", \"hour\", \"minute\"]]  # Features\n",
    "y = df_pd_orig[\"Value\"]  # Target (Numerical column to predict)\n",
    "\n",
    "\n",
    "# Split Data into Training & Testing Sets\n",
    "X_train, X_test, y_train, y_test = train_test_split(X, y, test_size=0.25, random_state=42)\n"
   ]
  },
  {
   "cell_type": "markdown",
   "metadata": {},
   "source": [
    "Predict using linear regression model"
   ]
  },
  {
   "cell_type": "code",
   "execution_count": 8,
   "metadata": {},
   "outputs": [
    {
     "name": "stdout",
     "output_type": "stream",
     "text": [
      "Mean Absolute Error: 8.680518601514354\n",
      "shape: (13, 3)\n",
      "┌─────────────────┬────────┬────────────┐\n",
      "│ X Values        ┆ Actual ┆ Predicted  │\n",
      "│ ---             ┆ ---    ┆ ---        │\n",
      "│ array[i32, 5]   ┆ f64    ┆ f64        │\n",
      "╞═════════════════╪════════╪════════════╡\n",
      "│ [2025, 1, … 15] ┆ 166.8  ┆ 151.555233 │\n",
      "│ [2025, 1, … 45] ┆ 197.2  ┆ 201.229184 │\n",
      "│ [2025, 1, … 30] ┆ 187.3  ┆ 183.885108 │\n",
      "│ [2025, 1, … 15] ┆ 203.8  ┆ 211.49843  │\n",
      "│ [2025, 1, … 15] ┆ 173.2  ┆ 159.048133 │\n",
      "│ …               ┆ …      ┆ …          │\n",
      "│ [2025, 1, … 0]  ┆ 189.5  ┆ 186.661454 │\n",
      "│ [2025, 1, … 45] ┆ 175.5  ┆ 163.764686 │\n",
      "│ [2025, 1, … 0]  ┆ 164.2  ┆ 149.196957 │\n",
      "│ [2025, 1, … 0]  ┆ 121.0  ┆ 134.211158 │\n",
      "│ [2025, 1, … 15] ┆ 195.0  ┆ 196.512631 │\n",
      "└─────────────────┴────────┴────────────┘\n"
     ]
    }
   ],
   "source": [
    "# Step 4: Train a Model (Linear Regression)\n",
    "\n",
    "\n",
    "# If you need numeric values (e.g., Unix timestamp or ordinal)\n",
    "# df_cleaned_datetime_PVW[\"timestamp\"] = df_cleaned_datetime_PVW[\"datetime_parsed\"].astype(\"int64\") // 10**9  # Unix timestamp (seconds since 1970)\n",
    "# selected_columns_df = df_pd_orig[[\"validto\", \"capacity\"]]\n",
    "# 02-02-2025 23:30\n",
    "\n",
    "# X = selected_columns_df[[\"validto\"]]  # Features\n",
    "# y = selected_columns_df[\"capacity\"]  # Target variable\n",
    "\n",
    "model = LinearRegression()\n",
    "model.fit(X_train, y_train)\n",
    "\n",
    "#  Step 5: Make Predictions\n",
    "y_pred = model.predict(X_test)\n",
    "\n",
    "# Step 6: Evaluate the Model\n",
    "mae = mean_absolute_error(y_test, y_pred)\n",
    "print(f\"Mean Absolute Error: {mae}\")\n",
    "\n",
    "# Step 7: Convert Predictions Back to Polars (Optional)\n",
    "df_pred = pl.DataFrame({\"X Values\": X_test.values, \"Actual\": y_test.values, \"Predicted\": y_pred})\n",
    "print(df_pred)"
   ]
  },
  {
   "cell_type": "markdown",
   "metadata": {},
   "source": [
    "Predict using LASSO model"
   ]
  },
  {
   "cell_type": "code",
   "execution_count": 10,
   "metadata": {},
   "outputs": [
    {
     "name": "stdout",
     "output_type": "stream",
     "text": [
      "Mean Absolute Error: 8.670693727998536\n",
      "shape: (13, 3)\n",
      "┌─────────────────┬────────┬────────────┐\n",
      "│ X Values        ┆ Actual ┆ Predicted  │\n",
      "│ ---             ┆ ---    ┆ ---        │\n",
      "│ array[i32, 5]   ┆ f64    ┆ f64        │\n",
      "╞═════════════════╪════════╪════════════╡\n",
      "│ [2025, 1, … 15] ┆ 166.8  ┆ 151.57793  │\n",
      "│ [2025, 1, … 45] ┆ 197.2  ┆ 201.193651 │\n",
      "│ [2025, 1, … 30] ┆ 187.3  ┆ 183.871323 │\n",
      "│ [2025, 1, … 15] ┆ 203.8  ┆ 211.462194 │\n",
      "│ [2025, 1, … 15] ┆ 173.2  ┆ 159.063463 │\n",
      "│ …               ┆ …      ┆ …          │\n",
      "│ [2025, 1, … 0]  ┆ 189.5  ┆ 186.654334 │\n",
      "│ [2025, 1, … 45] ┆ 175.5  ┆ 163.765986 │\n",
      "│ [2025, 1, … 0]  ┆ 164.2  ┆ 149.226669 │\n",
      "│ [2025, 1, … 0]  ┆ 121.0  ┆ 134.255602 │\n",
      "│ [2025, 1, … 15] ┆ 195.0  ┆ 196.491128 │\n",
      "└─────────────────┴────────┴────────────┘\n"
     ]
    }
   ],
   "source": [
    "# Train Lasso Regression Model\n",
    "lasso = Lasso(alpha=0.1)  # Adjust alpha for regularization strength\n",
    "lasso.fit(X_train, y_train)\n",
    "# Make Predictions\n",
    "y_pred = lasso.predict(X_test)\n",
    "\n",
    "# Evaluate Model\n",
    "mae = mean_absolute_error(y_test, y_pred)\n",
    "print(f\"Mean Absolute Error: {mae}\")\n",
    "\n",
    "# Step 7: Convert Predictions Back to Polars (Optional)\n",
    "df_pred = pl.DataFrame({\"X Values\": X_test.values, \"Actual\": y_test.values, \"Predicted\": y_pred})\n",
    "print(df_pred)\n"
   ]
  }
 ],
 "metadata": {
  "kernelspec": {
   "display_name": "enexis-data-visualization",
   "language": "python",
   "name": "python3"
  },
  "language_info": {
   "codemirror_mode": {
    "name": "ipython",
    "version": 3
   },
   "file_extension": ".py",
   "mimetype": "text/x-python",
   "name": "python",
   "nbconvert_exporter": "python",
   "pygments_lexer": "ipython3",
   "version": "3.12.2"
  }
 },
 "nbformat": 4,
 "nbformat_minor": 2
}
