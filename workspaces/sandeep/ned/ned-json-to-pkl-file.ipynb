{
 "cells": [
  {
   "cell_type": "markdown",
   "metadata": {},
   "source": [
    "Code to create a PKL file from JSON file"
   ]
  },
  {
   "cell_type": "code",
   "execution_count": 6,
   "metadata": {},
   "outputs": [
    {
     "name": "stdout",
     "output_type": "stream",
     "text": [
      "DOWNLOAD_DIR : ../data/powergen/\n",
      "JSON data successfully saved as ../data/powergen/power-gen-type-0.pkl\n"
     ]
    }
   ],
   "source": [
    "import json\n",
    "import pickle\n",
    "import os\n",
    "\n",
    "# Load API Key and download directory from config file\n",
    "CONFIG_FILE = \"../config/api-call.json\"\n",
    "\n",
    "def load_config(config_path):\n",
    "    \"\"\"Load configuration from a JSON file.\"\"\"\n",
    "    with open(config_path, \"r\") as file:\n",
    "        return json.load(file)\n",
    "\n",
    "# Load config values\n",
    "config = load_config(CONFIG_FILE)\n",
    "# print(config)\n",
    "DOWNLOAD_DIR = config[\"ned\"][\"ned_download_dir\"]\n",
    "print(\"DOWNLOAD_DIR :\", DOWNLOAD_DIR)\n",
    "\n",
    "# Step 1: Read JSON data from a file\n",
    "json_file_path = os.path.join(DOWNLOAD_DIR, f\"power-gen-type-0.json\")\n",
    "\n",
    "with open(json_file_path, \"r\") as json_file:\n",
    "    data = json.load(json_file)\n",
    "\n",
    "# Step 2: Save the data as a Pickle (.pkl) file\n",
    "pkl_file_path = os.path.join(DOWNLOAD_DIR, f\"power-gen-type-0.pkl\")\n",
    "with open(pkl_file_path, \"wb\") as pkl_file:\n",
    "    pickle.dump(data, pkl_file)\n",
    "\n",
    "print(f\"JSON data successfully saved as {pkl_file_path}\")"
   ]
  }
 ],
 "metadata": {
  "kernelspec": {
   "display_name": "enexis-data-visualization",
   "language": "python",
   "name": "python3"
  },
  "language_info": {
   "codemirror_mode": {
    "name": "ipython",
    "version": 3
   },
   "file_extension": ".py",
   "mimetype": "text/x-python",
   "name": "python",
   "nbconvert_exporter": "python",
   "pygments_lexer": "ipython3",
   "version": "3.12.2"
  }
 },
 "nbformat": 4,
 "nbformat_minor": 2
}
