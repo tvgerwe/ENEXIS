{
 "cells": [
  {
   "cell_type": "markdown",
   "metadata": {},
   "source": [
    "code to run Ned API model using APIs"
   ]
  },
  {
   "cell_type": "code",
   "execution_count": 2,
   "metadata": {},
   "outputs": [],
   "source": [
    "from fastapi import FastAPI\n",
    "import joblib\n",
    "import numpy as np\n",
    "import json\n"
   ]
  },
  {
   "cell_type": "markdown",
   "metadata": {},
   "source": [
    "Load Config files"
   ]
  },
  {
   "cell_type": "code",
   "execution_count": 3,
   "metadata": {},
   "outputs": [],
   "source": [
    "# Load API Key and download directory from config file\n",
    "CONFIG_FILE = \"../config/api-call.json\"\n",
    "\n",
    "def load_config(config_path):\n",
    "    \"\"\"Load configuration from a JSON file.\"\"\"\n",
    "    with open(config_path, \"r\") as file:\n",
    "        return json.load(file)"
   ]
  },
  {
   "cell_type": "markdown",
   "metadata": {},
   "source": [
    "Fetch config values"
   ]
  },
  {
   "cell_type": "code",
   "execution_count": 4,
   "metadata": {},
   "outputs": [
    {
     "name": "stdout",
     "output_type": "stream",
     "text": [
      "model_pkl_file_path : ../models/power-gen-random-forest-model-0.pkl\n"
     ]
    }
   ],
   "source": [
    "# Load config values\n",
    "config = load_config(CONFIG_FILE)\n",
    "\n",
    "# print(config)\n",
    "MODEL_DOWNLOAD_DIR = config[\"ned\"][\"ned_model_download_dir\"]\n",
    "model_pkl_file_path = f'{MODEL_DOWNLOAD_DIR}power-gen-random-forest-model-0.pkl'\n",
    "print(\"model_pkl_file_path :\", model_pkl_file_path)\n"
   ]
  },
  {
   "cell_type": "markdown",
   "metadata": {},
   "source": [
    "API set-up"
   ]
  },
  {
   "cell_type": "code",
   "execution_count": 5,
   "metadata": {},
   "outputs": [],
   "source": [
    "# Load the trained model\n",
    "model = joblib.load(model_pkl_file_path)\n",
    "\n",
    "# Initialize FastAPI\n",
    "app = FastAPI()\n",
    "\n",
    "@app.get(\"/\")\n",
    "def home():\n",
    "    return {\"message\": \"Random Forest Model API is running!\"}\n",
    "\n",
    "@app.post(\"/predict/\")\n",
    "def predict(data: dict):\n",
    "    try:\n",
    "        features = np.array(data[\"features\"]).reshape(1, -1)  # Convert input to NumPy array\n",
    "        prediction = model.predict(features)\n",
    "        return {\"prediction\": float(prediction[0])}\n",
    "    except Exception as e:\n",
    "        return {\"error\": str(e)}\n"
   ]
  },
  {
   "cell_type": "markdown",
   "metadata": {},
   "source": [
    "Run through code"
   ]
  },
  {
   "cell_type": "code",
   "execution_count": null,
   "metadata": {},
   "outputs": [],
   "source": [
    "# Load the model\n",
    "ned_model_random_forest = joblib.load(model_pkl_file_path)\n",
    "\n",
    "# Exmple: New incoming data\n",
    "new_data = [[0.5, 0.2, 0.8, 0.3, 0.9]]  # Replace with actual input\n",
    "predicted_value = ned_model_random_forest.predict(new_data)\n",
    "\n",
    "print(f\"🎯 Predicted Output: {predicted_value[0]:.2f}\")"
   ]
  }
 ],
 "metadata": {
  "kernelspec": {
   "display_name": "enexis-data-visualization",
   "language": "python",
   "name": "python3"
  },
  "language_info": {
   "codemirror_mode": {
    "name": "ipython",
    "version": 3
   },
   "file_extension": ".py",
   "mimetype": "text/x-python",
   "name": "python",
   "nbconvert_exporter": "python",
   "pygments_lexer": "ipython3",
   "version": "3.12.2"
  }
 },
 "nbformat": 4,
 "nbformat_minor": 2
}
