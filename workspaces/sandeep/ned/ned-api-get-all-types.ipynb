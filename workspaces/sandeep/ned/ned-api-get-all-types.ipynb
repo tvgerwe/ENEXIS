{
 "cells": [
  {
   "cell_type": "markdown",
   "metadata": {},
   "source": [
    "Import required dependencies"
   ]
  },
  {
   "cell_type": "code",
   "execution_count": null,
   "metadata": {},
   "outputs": [],
   "source": [
    "import os\n",
    "import json\n",
    "import requests\n",
    "import pandas as pd\n",
    "import pickle           # Save and load data\n",
    "import time\n",
    "\n",
    "\n",
    "# Setting Pandas options.\n",
    "pd.set_option(\"display.max_rows\", 50) # How to display all rows from data frame using pandas. Setting value to None to show all rows.\n",
    "pd.set_option(\"display.max_columns\", None)\n",
    "pd.set_option(\"display.max_info_columns\", 100)\n",
    "pd.set_option(\"display.max_info_rows\", 1000000)\n",
    "pd.set_option(\"display.precision\", 2)\n",
    "#pd.set_option(\"styler.format.precision\", 2)"
   ]
  },
  {
   "cell_type": "markdown",
   "metadata": {},
   "source": [
    "load config files"
   ]
  },
  {
   "cell_type": "code",
   "execution_count": null,
   "metadata": {},
   "outputs": [],
   "source": [
    "# Load API Key and download directory from config file\n",
    "CONFIG_FILE = \"../config/api-call.json\"\n",
    "\n",
    "def load_config(config_path):\n",
    "    \"\"\"Load configuration from a JSON file.\"\"\"\n",
    "    with open(config_path, \"r\") as file:\n",
    "        return json.load(file)"
   ]
  },
  {
   "cell_type": "markdown",
   "metadata": {},
   "source": [
    "Config parameters for API calls"
   ]
  },
  {
   "cell_type": "code",
   "execution_count": null,
   "metadata": {},
   "outputs": [],
   "source": [
    "# Load config values\n",
    "config = load_config(CONFIG_FILE)\n",
    "# print(config)\n",
    "API_ENDPOINT= config[\"ned\"][\"ned_api_endpoint\"]\n",
    "API_KEY = config[\"ned\"][\"demo-ned-api-key\"]\n",
    "DOWNLOAD_DIR = config[\"ned\"][\"ned_download_dir\"]\n",
    "\n",
    "# https://api.ned.nl/v1/utilizations?point=0&type=2&granularity=3&granularitytimezone=1&classification=2&activity=1&validfrom[strictly_before]=2020-11-17&validfrom[after]=2020-11-16\n",
    "\n",
    "\n",
    "# Ensure the download directory exists\n",
    "os.makedirs(DOWNLOAD_DIR, exist_ok=True)\n",
    "\n",
    "# API details (Replace with actual API endpoint)\n",
    "API_URL = API_ENDPOINT\n",
    "#HEADERS = {\"Authorization\": f\"X-AUTH-TOKEN {API_KEY}\"}\n",
    "\n",
    "# Headers with X-AUTH-TOKEN\n",
    "api_headers = {\n",
    "    \"X-AUTH-TOKEN\": API_KEY,  # Replace with your actual token\n",
    "    \"Content-Type\": \"application/json\"  # Optional, if sending JSON\n",
    "}"
   ]
  },
  {
   "cell_type": "markdown",
   "metadata": {},
   "source": [
    "Make API calls in loop"
   ]
  },
  {
   "cell_type": "code",
   "execution_count": 39,
   "metadata": {},
   "outputs": [
    {
     "name": "stdout",
     "output_type": "stream",
     "text": [
      "response 200\n",
      "{'@context': '/v1/contexts/Utilization', '@id': '/v1/utilizations', '@type': 'hydra:Collection', 'hydra:totalItems': 0, 'hydra:member': [], 'hydra:view': {'@id': '/v1/utilizations?activity=1&classification=2&granularity=4&granularitytimezone=1&point=0&type=56&validfrom%5Bstrictly_before%5D=2024-12-31&validfrom%5Bafter%5D=2022-01-01', '@type': 'hydra:PartialCollectionView'}, 'hydra:search': {'@type': 'hydra:IriTemplate', 'hydra:template': '/v1/utilizations{?id,id[],point,point[],type,type[],granularity,granularity[],granularitytimezone,granularitytimezone[],classification,classification[],activity,activity[],validfrom[before],validfrom[strictly_before],validfrom[after],validfrom[strictly_after],order[validfrom]}', 'hydra:variableRepresentation': 'BasicRepresentation', 'hydra:mapping': [{'@type': 'IriTemplateMapping', 'variable': 'id', 'property': 'id', 'required': False}, {'@type': 'IriTemplateMapping', 'variable': 'id[]', 'property': 'id', 'required': False}, {'@type': 'IriTemplateMapping', 'variable': 'point', 'property': 'point', 'required': False}, {'@type': 'IriTemplateMapping', 'variable': 'point[]', 'property': 'point', 'required': False}, {'@type': 'IriTemplateMapping', 'variable': 'type', 'property': 'type', 'required': False}, {'@type': 'IriTemplateMapping', 'variable': 'type[]', 'property': 'type', 'required': False}, {'@type': 'IriTemplateMapping', 'variable': 'granularity', 'property': 'granularity', 'required': False}, {'@type': 'IriTemplateMapping', 'variable': 'granularity[]', 'property': 'granularity', 'required': False}, {'@type': 'IriTemplateMapping', 'variable': 'granularitytimezone', 'property': 'granularitytimezone', 'required': False}, {'@type': 'IriTemplateMapping', 'variable': 'granularitytimezone[]', 'property': 'granularitytimezone', 'required': False}, {'@type': 'IriTemplateMapping', 'variable': 'classification', 'property': 'classification', 'required': False}, {'@type': 'IriTemplateMapping', 'variable': 'classification[]', 'property': 'classification', 'required': False}, {'@type': 'IriTemplateMapping', 'variable': 'activity', 'property': 'activity', 'required': False}, {'@type': 'IriTemplateMapping', 'variable': 'activity[]', 'property': 'activity', 'required': False}, {'@type': 'IriTemplateMapping', 'variable': 'validfrom[before]', 'property': 'validfrom', 'required': False}, {'@type': 'IriTemplateMapping', 'variable': 'validfrom[strictly_before]', 'property': 'validfrom', 'required': False}, {'@type': 'IriTemplateMapping', 'variable': 'validfrom[after]', 'property': 'validfrom', 'required': False}, {'@type': 'IriTemplateMapping', 'variable': 'validfrom[strictly_after]', 'property': 'validfrom', 'required': False}, {'@type': 'IriTemplateMapping', 'variable': 'order[validfrom]', 'property': 'validfrom', 'required': False}]}}\n",
      "\n",
      "Converted JSON Payload to Table Format:\n",
      "\n",
      "File downloaded successfully: ../data/powergen/power-gen-type-2022-2024-56.json\n"
     ]
    }
   ],
   "source": [
    "\n",
    "# Type\t    What is the type of energy carrier?\t0 All, 1 Wind, 2 Solar, 3 Biogas, 4 HeatPump, 8 Cofiring, 9 Geothermal, 10 Other, 11 Waste, 12 BioOil, 13 Biomass\n",
    "# 14 Wood, 17 WindOffshore, 18 FossilGasPower, 19 FossilHardCoal, 20 Nuclear, 21 WastePower, 22 WindOffshoreB, 23 NaturalGas, 24 Biomethane, 25 BiomassPower\n",
    "# 26 OtherPower, 27 ElectricityMix, 28 GasMix, 31 GasDistribution, 35 CHP Total, 50 SolarThermal, 51 WindOffshoreC, 53 IndustrialConsumersGasCombination\n",
    "# 54 IndustrialConsumersPowerGasCombination, 55 LocalDistributionCompaniesCombination, 56 AllConsumingGas\n",
    "\n",
    "\n",
    "# Define an array of n values (Custom values instead of a fixed range)\n",
    "# n_values = [1, 2, 3, 4, 8, 9, 10, 11, 12, 13, 14, 17, 18, 19, 20, 21, 22, 23, 24, 25, 26, 27, 28, \n",
    "# 31, 35, 50, 51, 53, 54, 55, 56]  # Type values\n",
    "\n",
    "# n_values = [1, 2]  # Type values\n",
    "\n",
    "n_values = [56]  # Type values\n",
    "\n",
    "\n",
    "# Loop through the n values\n",
    "for gen_type in n_values:\n",
    "    #params = {\"n\": n}  # Pass n as a parameter\n",
    "    api_params={\n",
    "        \"point\": \"0\",\n",
    "        \"type\": gen_type,\n",
    "        \"granularity\": \"4\",\n",
    "        \"granularitytimezone\": \"1\",\n",
    "        \"classification\": \"2\",\n",
    "        \"activity\": \"1\",\n",
    "        \"validfrom[strictly_before]\": \"2024-12-31\",\n",
    "        \"validfrom[after]\": \"2022-01-01\"\n",
    "        }\n",
    "\n",
    "    \"\"\"Download a data file from an API and save it in the specified directory.\"\"\"\n",
    "    response = requests.get(API_URL, headers=api_headers, params=api_params)\n",
    "\n",
    "    print(\"response\", response.status_code)\n",
    "\n",
    "    # Convert JSON to Pandas DataFrame\n",
    "        \n",
    "    if response.status_code == 200 and response.text.strip():\n",
    "        # JSON in bytes format\n",
    "        json_bytes = response.content\n",
    "\n",
    "        # Convert bytes → string → dictionary\n",
    "        json_dict = json.loads(json_bytes.decode(\"utf-8\"))\n",
    "\n",
    "        print(json_dict)\n",
    "\n",
    "        # Convert to DataFrame\n",
    "        df = pd.DataFrame.from_dict(json_dict, orient=\"index\")\n",
    "\n",
    "        # Convert the list of utilizations into a DataFrame\n",
    "        json_data = pd.DataFrame(json_dict[\"hydra:member\"])\n",
    "\n",
    "        # Display the DataFrame as a table\n",
    "        print(\"\\nConverted JSON Payload to Table Format:\\n\")\n",
    "        # print(json_data.to_string(index=False))\n",
    "\n",
    "            \n",
    "        file_path = os.path.join(DOWNLOAD_DIR, f\"power-gen-type-2022-2024-{gen_type}.json\")  # Change extension as needed\n",
    "        with open(file_path, \"wb\") as file:\n",
    "            file.write(response.content)\n",
    "        print(f\"File downloaded successfully: {file_path}\")        \n",
    "    else:\n",
    "        print(f\"Error for {gen_type} : {response.status_code} - {response.text}\")\n",
    "    #filtered_df = filter_response_data(response_data)\n",
    "    time.sleep(1)  # Optional delay to avoid rate limits"
   ]
  },
  {
   "cell_type": "code",
   "execution_count": null,
   "metadata": {},
   "outputs": [],
   "source": []
  },
  {
   "cell_type": "markdown",
   "metadata": {},
   "source": [
    "Functionl to make API calls"
   ]
  },
  {
   "cell_type": "markdown",
   "metadata": {},
   "source": []
  },
  {
   "cell_type": "code",
   "execution_count": null,
   "metadata": {},
   "outputs": [],
   "source": []
  }
 ],
 "metadata": {
  "kernelspec": {
   "display_name": "enexis-data-visualization",
   "language": "python",
   "name": "python3"
  },
  "language_info": {
   "codemirror_mode": {
    "name": "ipython",
    "version": 3
   },
   "file_extension": ".py",
   "mimetype": "text/x-python",
   "name": "python",
   "nbconvert_exporter": "python",
   "pygments_lexer": "ipython3",
   "version": "3.12.2"
  }
 },
 "nbformat": 4,
 "nbformat_minor": 2
}
