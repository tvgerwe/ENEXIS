{
 "cells": [
  {
   "cell_type": "markdown",
   "metadata": {},
   "source": [
    "Import required dependencies"
   ]
  },
  {
   "cell_type": "code",
   "execution_count": 1,
   "metadata": {},
   "outputs": [],
   "source": [
    "import os\n",
    "import json\n",
    "import requests\n",
    "import pandas as pd\n",
    "import pickle           # Save and load data\n",
    "import time\n",
    "\n",
    "\n",
    "# Setting Pandas options.\n",
    "pd.set_option(\"display.max_rows\", 50) # How to display all rows from data frame using pandas. Setting value to None to show all rows.\n",
    "pd.set_option(\"display.max_columns\", None)\n",
    "pd.set_option(\"display.max_info_columns\", 100)\n",
    "pd.set_option(\"display.max_info_rows\", 1000000)\n",
    "pd.set_option(\"display.precision\", 2)\n",
    "#pd.set_option(\"styler.format.precision\", 2)"
   ]
  },
  {
   "cell_type": "markdown",
   "metadata": {},
   "source": [
    "load config files"
   ]
  },
  {
   "cell_type": "code",
   "execution_count": 2,
   "metadata": {},
   "outputs": [],
   "source": [
    "# Load API Key and download directory from config file\n",
    "CONFIG_FILE = \"../config/api-call.json\"\n",
    "\n",
    "def load_config(config_path):\n",
    "    \"\"\"Load configuration from a JSON file.\"\"\"\n",
    "    with open(config_path, \"r\") as file:\n",
    "        return json.load(file)"
   ]
  },
  {
   "cell_type": "markdown",
   "metadata": {},
   "source": [
    "Config parameters for API calls"
   ]
  },
  {
   "cell_type": "code",
   "execution_count": 3,
   "metadata": {},
   "outputs": [],
   "source": [
    "# Load config values\n",
    "config = load_config(CONFIG_FILE)\n",
    "# print(config)\n",
    "API_ENDPOINT= config[\"ned\"][\"ned_api_endpoint\"]\n",
    "API_KEY = config[\"ned\"][\"demo-ned-api-key\"]\n",
    "DOWNLOAD_DIR = config[\"ned\"][\"ned_download_dir\"]\n",
    "\n",
    "# https://api.ned.nl/v1/utilizations?point=0&type=2&granularity=3&granularitytimezone=1&classification=2&activity=1&validfrom[strictly_before]=2020-11-17&validfrom[after]=2020-11-16\n",
    "\n",
    "\n",
    "# Ensure the download directory exists\n",
    "os.makedirs(DOWNLOAD_DIR, exist_ok=True)\n",
    "\n",
    "# API details (Replace with actual API endpoint)\n",
    "API_URL = API_ENDPOINT\n",
    "#HEADERS = {\"Authorization\": f\"X-AUTH-TOKEN {API_KEY}\"}\n",
    "\n",
    "# Headers with X-AUTH-TOKEN\n",
    "api_headers = {\n",
    "    \"X-AUTH-TOKEN\": API_KEY,  # Replace with your actual token\n",
    "    \"Content-Type\": \"application/json\"  # Optional, if sending JSON\n",
    "}"
   ]
  },
  {
   "cell_type": "markdown",
   "metadata": {},
   "source": [
    "Make API calls in loop"
   ]
  },
  {
   "cell_type": "code",
   "execution_count": null,
   "metadata": {},
   "outputs": [
    {
     "name": "stdout",
     "output_type": "stream",
     "text": [
      "Data collection complete! Saved 2495 records to  power-gen-type-2025-25.csv\n",
      "last_page_num :  18\n",
      "Data collection complete! Saved 2495 records to  power-gen-type-2025-26.csv\n",
      "last_page_num :  18\n",
      "Data collection complete! Saved 2495 records to  power-gen-type-2025-27.csv\n",
      "last_page_num :  18\n",
      "Data collection complete! Saved 2495 records to  power-gen-type-2025-28.csv\n",
      "Error: Could not determine last page.\n",
      "Data collection complete! Saved 0 records to  power-gen-type-2025-31.csv\n",
      "last_page_num :  18\n",
      "Data collection complete! Saved 2495 records to  power-gen-type-2025-35.csv\n",
      "last_page_num :  18\n",
      "Data collection complete! Saved 2495 records to  power-gen-type-2025-50.csv\n",
      "last_page_num :  18\n",
      "Data collection complete! Saved 2495 records to  power-gen-type-2025-51.csv\n",
      "Error: Could not determine last page.\n",
      "Data collection complete! Saved 0 records to  power-gen-type-2025-53.csv\n",
      "Error: Could not determine last page.\n",
      "Data collection complete! Saved 0 records to  power-gen-type-2025-54.csv\n",
      "Error: Could not determine last page.\n",
      "Data collection complete! Saved 0 records to  power-gen-type-2025-55.csv\n",
      "Error: Could not determine last page.\n",
      "Data collection complete! Saved 0 records to  power-gen-type-2025-56.csv\n"
     ]
    },
    {
     "ename": "",
     "evalue": "",
     "output_type": "error",
     "traceback": [
      "\u001b[1;31mThe Kernel crashed while executing code in the current cell or a previous cell. \n",
      "\u001b[1;31mPlease review the code in the cell(s) to identify a possible cause of the failure. \n",
      "\u001b[1;31mClick <a href='https://aka.ms/vscodeJupyterKernelCrash'>here</a> for more info. \n",
      "\u001b[1;31mView Jupyter <a href='command:jupyter.viewOutput'>log</a> for further details."
     ]
    }
   ],
   "source": [
    "\n",
    "# Type\t    What is the type of energy carrier?\t0 All, 1 Wind, 2 Solar, 3 Biogas, 4 HeatPump, 8 Cofiring, 9 Geothermal, 10 Other, 11 Waste, 12 BioOil, 13 Biomass\n",
    "# 14 Wood, 17 WindOffshore, 18 FossilGasPower, 19 FossilHardCoal, 20 Nuclear, 21 WastePower, 22 WindOffshoreB, 23 NaturalGas, 24 Biomethane, 25 BiomassPower\n",
    "# 26 OtherPower, 27 ElectricityMix, 28 GasMix, 31 GasDistribution, 35 CHP Total, 50 SolarThermal, 51 WindOffshoreC, 53 IndustrialConsumersGasCombination\n",
    "# 54 IndustrialConsumersPowerGasCombination, 55 LocalDistributionCompaniesCombination, 56 AllConsumingGas\n",
    "\n",
    "\n",
    "# Define an array of n values (Custom values instead of a fixed range)\n",
    "n_values = [0, 1, 2, 3, 4, 8, 9, 10, 11, 12, 13, 14, 17, 18, 19, 20, 21, 22, 23, 24, 25, 26, 27, 28, 31, 35, 50, 51, 53, 54, 55, 56]  # Type values\n",
    "# n_values = [54, 55, 56]  # Type values\n",
    "# n_values = [23, 31, 54, 55, 56]  # Type values\n",
    "\n",
    "# n_values = [1, 2]  # Type values\n",
    "\n",
    "# n_values = [56]  # Type values\n",
    "\n",
    "# Initialize storage for full dataset\n",
    "full_data = []\n",
    "page_no = 1\n",
    "\n",
    "# Loop through the n values\n",
    "for gen_type in n_values:\n",
    "    #params = {\"n\": n}  # Pass n as a parameter\n",
    "    api_params={\n",
    "        \"point\": \"0\",\n",
    "        \"type\": gen_type,\n",
    "        \"granularity\": \"5\",\n",
    "        \"granularitytimezone\": \"1\",\n",
    "        \"classification\": \"2\",\n",
    "        \"activity\": \"1\",\n",
    "        \"validfrom[strictly_before]\": \"2025-04-14\",\n",
    "        \"validfrom[after]\": \"2022-01-01\",\n",
    "        \"page\": page_no\n",
    "        }\n",
    "\n",
    "    # Initialize storage for full dataset\n",
    "    full_data = []\n",
    "\n",
    "    # First API request to determine the last page\n",
    "    response = requests.get(API_URL, params=api_params, headers=api_headers)\n",
    "\n",
    "    if response.status_code == 200:\n",
    "        data = response.json()\n",
    "        last_page_url = data.get(\"hydra:view\", {}).get(\"hydra:last\", None)\n",
    "        \n",
    "        if last_page_url:\n",
    "            last_page_num = int(last_page_url.split(\"page=\")[-1])  # Extract last page number\n",
    "            print(\"last_page_num : \", last_page_num)\n",
    "        else:\n",
    "            print(\"Error: Could not determine last page.\")\n",
    "            exit()\n",
    "    else:\n",
    "        print(f\"Error {response.status_code}: {response.text}\")\n",
    "        exit()\n",
    "\n",
    "    # Iterate through pages efficiently using the 'page' parameter\n",
    "    for page in range(1, last_page_num + 1):\n",
    "        api_params[\"page\"] = page  # Update page number\n",
    "        response = requests.get(API_URL, params=api_params, headers=api_headers)\n",
    "        \n",
    "        if response.status_code == 200:\n",
    "            json_dict = json.loads(response.content.decode(\"utf-8\"))\n",
    "        \n",
    "            # Extract the list of records from 'hydra:member'\n",
    "            if \"hydra:member\" in json_dict:\n",
    "                full_data.extend(json_dict[\"hydra:member\"])\n",
    "        \n",
    "            # print(f\"Page {page}/{last_page_num} processed.\")\n",
    "        else:\n",
    "            print(f\"Error on page {page}: {response.status_code}\")\n",
    "            break  # Stop if an error occurs\n",
    "\n",
    "        # Convert all collected data into a DataFrame\n",
    "        df = pd.DataFrame(full_data)\n",
    "\n",
    "        file_path = os.path.join(DOWNLOAD_DIR, f\"power-gen-type-2025-{gen_type}.csv\")  # Change extension as needed\n",
    "        with open(file_path, \"wb\") as file:\n",
    "            df.to_csv(file_path, index=False)\n",
    "            # file.write(response.content)\n",
    "            # print(f\"File downloaded successfully: {file_path}\")   \n",
    "        \n",
    "        # print(f\"Data collection complete! Saved {len(df)} records to ned_api_data.csv & ned_api_data.pkl\")\n",
    "    print(f\"Data collection complete! Saved {len(df)} records to \", f\"power-gen-type-2025-{gen_type}.csv\")\n",
    "    # time.sleep(3)\n",
    "\n",
    "\n",
    "        "
   ]
  },
  {
   "cell_type": "code",
   "execution_count": null,
   "metadata": {},
   "outputs": [],
   "source": []
  },
  {
   "cell_type": "markdown",
   "metadata": {},
   "source": [
    "Functionl to make API calls"
   ]
  },
  {
   "cell_type": "markdown",
   "metadata": {},
   "source": []
  },
  {
   "cell_type": "code",
   "execution_count": null,
   "metadata": {},
   "outputs": [],
   "source": []
  }
 ],
 "metadata": {
  "kernelspec": {
   "display_name": "eaisi-enexis-visualization",
   "language": "python",
   "name": "python3"
  },
  "language_info": {
   "codemirror_mode": {
    "name": "ipython",
    "version": 3
   },
   "file_extension": ".py",
   "mimetype": "text/x-python",
   "name": "python",
   "nbconvert_exporter": "python",
   "pygments_lexer": "ipython3",
   "version": "3.13.1"
  }
 },
 "nbformat": 4,
 "nbformat_minor": 2
}
