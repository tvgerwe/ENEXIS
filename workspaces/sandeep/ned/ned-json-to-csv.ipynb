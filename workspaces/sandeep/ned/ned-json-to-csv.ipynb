{
 "cells": [
  {
   "cell_type": "markdown",
   "metadata": {},
   "source": [
    "code to read JSON file and convert to CSV file"
   ]
  },
  {
   "cell_type": "code",
   "execution_count": 1,
   "metadata": {},
   "outputs": [
    {
     "name": "stdout",
     "output_type": "stream",
     "text": [
      "CSV file saved as ../data/powergen/power-gen-type-0-2022.csv\n",
      "Download option only available in Google Colab.\n"
     ]
    }
   ],
   "source": [
    "import json\n",
    "import pandas as pd\n",
    "\n",
    "# Step 1: Read JSON file\n",
    "with open(\"../data/powergen/power-gen-type-0-2022.json\", \"r\") as file:\n",
    "    data = json.load(file)  # Load JSON data\n",
    "\n",
    "# Step 2: Convert JSON to Pandas DataFrame\n",
    "df = pd.DataFrame(data)\n",
    "\n",
    "# Step 3: Save DataFrame as CSV file\n",
    "csv_filename = \"../data/powergen/power-gen-type-0-2022.csv\"\n",
    "df.to_csv(csv_filename, index=False)\n",
    "\n",
    "print(f\"CSV file saved as {csv_filename}\")\n",
    "\n",
    "# Step 4: Download CSV file (Optional for Google Colab)\n",
    "try:\n",
    "    from google.colab import files\n",
    "    files.download(csv_filename)\n",
    "except ImportError:\n",
    "    print(\"Download option only available in Google Colab.\")\n"
   ]
  }
 ],
 "metadata": {
  "kernelspec": {
   "display_name": "enexis-data-visualization",
   "language": "python",
   "name": "python3"
  },
  "language_info": {
   "codemirror_mode": {
    "name": "ipython",
    "version": 3
   },
   "file_extension": ".py",
   "mimetype": "text/x-python",
   "name": "python",
   "nbconvert_exporter": "python",
   "pygments_lexer": "ipython3",
   "version": "3.12.2"
  }
 },
 "nbformat": 4,
 "nbformat_minor": 2
}
