{
 "cells": [
  {
   "cell_type": "markdown",
   "metadata": {},
   "source": [
    "code to read JSON file and convert to CSV file"
   ]
  },
  {
   "cell_type": "code",
   "execution_count": 36,
   "metadata": {},
   "outputs": [
    {
     "name": "stdout",
     "output_type": "stream",
     "text": [
      "CSV file saved as ../data/powergen/power-gen-type-2022-2024-56.csv\n",
      "Download option only available in Google Colab.\n"
     ]
    }
   ],
   "source": [
    "import json\n",
    "import pandas as pd\n",
    "\n",
    "# Type\t    What is the type of energy carrier?\t0 All, 1 Wind, 2 Solar, 3 Biogas, 4 HeatPump, 8 Cofiring, \n",
    "# 9 Geothermal, 10 Other, 11 Waste, 12 BioOil, 13 Biomass\n",
    "# 14 Wood, 17 WindOffshore, 18 FossilGasPower, 19 FossilHardCoal, 20 Nuclear, 21 WastePower, 22 WindOffshoreB, \n",
    "# 23 NaturalGas, 24 Biomethane, 25 BiomassPower\n",
    "# 26 OtherPower, 27 ElectricityMix, 28 GasMix, 31 GasDistribution, 35 CHP Total, 50 SolarThermal, \n",
    "# 51 WindOffshoreC, 53 IndustrialConsumersGasCombination\n",
    "# 54 IndustrialConsumersPowerGasCombination, 55 LocalDistributionCompaniesCombination, 56 AllConsumingGas\n",
    "\n",
    "\n",
    "# Define an array of n values (Custom values instead of a fixed range)\n",
    "# n_values = [0, 1, 2, 3, 4, 8, 9, 10, 11, 12, 13, 14, 17, 18, 19, 20, 21, 22, 23, 24, \n",
    "# 25, 26, 27, 28, 31, 35, 50, 51, 53, 54, 55, 56]  # Type values\n",
    "\n",
    "\n",
    "# Step 1: Read JSON file\n",
    "with open(\"../data/powergen/power-gen-type-2022-2024-56.json\", \"r\") as file:\n",
    "    data = json.load(file)  # Load JSON data\n",
    "\n",
    "# Step 2: Extract \"hydra:member\" key (which contains the relevant data)\n",
    "member_data = data.get(\"hydra:member\", [])  # Extract list of records\n",
    "\n",
    "# Step 3: Convert JSON data to Pandas DataFrame\n",
    "df = pd.DataFrame(member_data)\n",
    "\n",
    "\n",
    "# Step 4: Save DataFrame as CSV file\n",
    "csv_filename = \"../data/powergen/power-gen-type-2022-2024-56.csv\"\n",
    "df.to_csv(csv_filename, index=False)\n",
    "\n",
    "print(f\"CSV file saved as {csv_filename}\")\n",
    "\n",
    "# Step 5: Download CSV file (Optional for Google Colab)\n",
    "try:\n",
    "    from google.colab import files\n",
    "    files.download(csv_filename)\n",
    "except ImportError:\n",
    "    print(\"Download option only available in Google Colab.\")\n"
   ]
  }
 ],
 "metadata": {
  "kernelspec": {
   "display_name": "enexis-data-visualization",
   "language": "python",
   "name": "python3"
  },
  "language_info": {
   "codemirror_mode": {
    "name": "ipython",
    "version": 3
   },
   "file_extension": ".py",
   "mimetype": "text/x-python",
   "name": "python",
   "nbconvert_exporter": "python",
   "pygments_lexer": "ipython3",
   "version": "3.12.2"
  }
 },
 "nbformat": 4,
 "nbformat_minor": 2
}
