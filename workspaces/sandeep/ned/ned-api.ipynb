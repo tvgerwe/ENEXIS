{
 "cells": [
  {
   "cell_type": "markdown",
   "metadata": {},
   "source": [
    "Import required dependencies"
   ]
  },
  {
   "cell_type": "code",
   "execution_count": 20,
   "metadata": {},
   "outputs": [],
   "source": [
    "import os\n",
    "import json\n",
    "import requests\n",
    "import pandas as pd\n",
    "import pickle           # Save and load data"
   ]
  },
  {
   "cell_type": "code",
   "execution_count": 21,
   "metadata": {},
   "outputs": [],
   "source": [
    "# Import functions from Pieter's utils package.\n",
    "# from utils_pieter import f_describe, f_info, f_get_account_name"
   ]
  },
  {
   "cell_type": "markdown",
   "metadata": {},
   "source": [
    "load config files"
   ]
  },
  {
   "cell_type": "code",
   "execution_count": 22,
   "metadata": {},
   "outputs": [],
   "source": [
    "# Load API Key and download directory from config file\n",
    "CONFIG_FILE = \"../config/api-call.json\"\n",
    "\n",
    "def load_config(config_path):\n",
    "    \"\"\"Load configuration from a JSON file.\"\"\"\n",
    "    with open(config_path, \"r\") as file:\n",
    "        return json.load(file)\n",
    "\n"
   ]
  },
  {
   "cell_type": "markdown",
   "metadata": {},
   "source": [
    "API configurations"
   ]
  },
  {
   "cell_type": "code",
   "execution_count": 23,
   "metadata": {},
   "outputs": [
    {
     "name": "stdout",
     "output_type": "stream",
     "text": [
      "{'KNMI': {'api_endpoint': 'https://api.dataplatform.knmi.nl/open-data/v1/datasets/knmi14_globale_straling/versions/3.2/files', 'api_key': 'nctBcxmIU5Ox5CxqzBuiUxLDoDC4yNabewk63UGW', 'notification_key': 'eyJvcmciOiI1ZTU1NGUxOTI3NGE5NjAwMDEyYTNlYjEiLCJpZCI6IjM3ODk5YjE4NjM5ZDQ0ZmRhYjMzYjdhMjBlZDE3Mjg3IiwiaCI6Im11cm11cjEyOCJ9'}, 'ned': {'ned_api_endpoint': 'https://api.ned.nl/v1/utilizations', 'demo-ned-api-key': '01dd5b246eb73805193aa271dfe3ada2589d20f60838d091077155ad4658ac84', 'ned_download_dir': '../../src/data/weather/'}, 'settings': {'download_dir': 'downloads'}}\n"
     ]
    }
   ],
   "source": [
    "# Load config values\n",
    "config = load_config(CONFIG_FILE)\n",
    "print(config)\n",
    "API_ENDPOINT= config[\"ned\"][\"ned_api_endpoint\"]\n",
    "API_KEY = config[\"ned\"][\"demo-ned-api-key\"]\n",
    "DOWNLOAD_DIR = config[\"settings\"][\"download_dir\"]\n",
    "\n",
    "# https://api.ned.nl/v1/utilizations?point=0&type=2&granularity=3&granularitytimezone=1&classification=2&activity=1&validfrom[strictly_before]=2020-11-17&validfrom[after]=2020-11-16\n",
    "\n",
    "\n",
    "# Ensure the download directory exists\n",
    "os.makedirs(DOWNLOAD_DIR, exist_ok=True)\n",
    "\n",
    "# API details (Replace with actual API endpoint)\n",
    "API_URL = API_ENDPOINT\n",
    "#HEADERS = {\"Authorization\": f\"X-AUTH-TOKEN {API_KEY}\"}\n",
    "\n",
    "# Headers with X-AUTH-TOKEN\n",
    "api_headers = {\n",
    "    \"X-AUTH-TOKEN\": API_KEY,  # Replace with your actual token\n",
    "    \"Content-Type\": \"application/json\"  # Optional, if sending JSON\n",
    "}\n",
    "\n",
    "\n",
    "api_params={\n",
    "    \"point\": \"0\",\n",
    "    \"type\": \"2\",\n",
    "    \"granularity\": \"3\",\n",
    "    \"granularitytimezone\": \"1\",\n",
    "    \"classification\": \"2\",\n",
    "    \"activity\": \"1\",\n",
    "    \"validfrom[strictly_before]\": \"2025-02-22\",\n",
    "    \"validfrom[after]\": \"2025-02-01\"\n",
    "    }\n"
   ]
  },
  {
   "cell_type": "markdown",
   "metadata": {},
   "source": [
    "make API call"
   ]
  },
  {
   "cell_type": "code",
   "execution_count": null,
   "metadata": {},
   "outputs": [
    {
     "name": "stdout",
     "output_type": "stream",
     "text": [
      "File downloaded successfully: downloads/downloaded_data.json\n"
     ]
    }
   ],
   "source": [
    "\"\"\"Download a data file from an API and save it in the specified directory.\"\"\"\n",
    "response = requests.get(API_URL, headers=api_headers, params=api_params)\n",
    "\n",
    "# Convert JSON to Pandas DataFrame\n",
    "    \n",
    "if response.status_code == 200:\n",
    "    # JSON in bytes format\n",
    "    json_bytes = response.content\n",
    "\n",
    "    # Convert bytes → string → dictionary\n",
    "    json_dict = json.loads(json_bytes.decode(\"utf-8\"))\n",
    "\n",
    "    # Convert to DataFrame\n",
    "    df = pd.DataFrame.from_dict(json_dict, orient=\"index\")\n",
    "\n",
    "    # Convert the list of utilizations into a DataFrame\n",
    "    json_data = pd.DataFrame(json_dict[\"hydra:member\"])\n",
    "\n",
    "    # Display the DataFrame as a table\n",
    "    # print(\"\\nConverted JSON Payload to Table Format:\\n\")\n",
    "    # print(utilizations.to_string(index=False))\n",
    "\n",
    "    # f_describe(df_input = utilizations, n_top = 3)\n",
    "    json_data.describe()\n",
    "\n",
    "           \n",
    "    #file_path = os.path.join(DOWNLOAD_DIR, \"downloaded_data.json\")  # Change extension as needed\n",
    "    #with open(file_path, \"wb\") as file:\n",
    "    #    file.write(response.content)\n",
    "    #print(f\"File downloaded successfully: {file_path}\")\n",
    "else:\n",
    "    print(f\"Error: {response.status_code} - {response.text}\")\n"
   ]
  },
  {
   "cell_type": "markdown",
   "metadata": {},
   "source": [
    "Descriptive analytics using Pieter package"
   ]
  },
  {
   "cell_type": "code",
   "execution_count": 25,
   "metadata": {},
   "outputs": [
    {
     "name": "stdout",
     "output_type": "stream",
     "text": [
      "['id', 'capacity', 'volume', 'percentage', 'emission', 'emissionfactor']\n",
      "\n",
      "Number of numerical variables: 6\n"
     ]
    }
   ],
   "source": [
    "# f_describe(df, 10)\n",
    "df_orig_num    = json_data.select_dtypes(include='number')\n",
    "l_df_num_names = df_orig_num.columns.tolist()\n",
    "\n",
    "print(l_df_num_names)\n",
    "print(f\"\\nNumber of numerical variables: {len(l_df_num_names)}\")"
   ]
  },
  {
   "cell_type": "markdown",
   "metadata": {},
   "source": [
    "Save as pickel file for data"
   ]
  },
  {
   "cell_type": "code",
   "execution_count": 26,
   "metadata": {},
   "outputs": [],
   "source": [
    "# Create dictionary 'dc_ned_json_data_1' with objects that will be used in the next exercises.\n",
    "dc_ned_json_data_1 = {\n",
    "   'df_orig': json_data    \n",
    "}\n",
    "\n",
    "# Save dc_exercise_1_2_3 as 'dc_ned_json_data_1.pkl'\n",
    "with open('../data/dc-ned-json-data-1.pkl', 'wb') as pickle_file:\n",
    "    pickle.dump(dc_ned_json_data_1, pickle_file)"
   ]
  }
 ],
 "metadata": {
  "kernelspec": {
   "display_name": "enexis-data-visualization",
   "language": "python",
   "name": "python3"
  },
  "language_info": {
   "codemirror_mode": {
    "name": "ipython",
    "version": 3
   },
   "file_extension": ".py",
   "mimetype": "text/x-python",
   "name": "python",
   "nbconvert_exporter": "python",
   "pygments_lexer": "ipython3",
   "version": "3.12.2"
  }
 },
 "nbformat": 4,
 "nbformat_minor": 2
}
