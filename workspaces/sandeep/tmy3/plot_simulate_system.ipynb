{
  "cells": [
    {
      "cell_type": "markdown",
      "metadata": {},
      "source": [
        "\n# Simulating PV system DC output using the ADR module efficiency model\n\nTime series processing with the ADR model is really easy.\n\nThis example reads a TMY3 weather file, and runs a basic simulation\non a fixed latitude-tilt system.\nEfficiency is independent of system size, so adjusting the system\ncapacity is just a matter of setting the desired value, e.g. P_STC = 5000.\n\nAuthor: Anton Driesse\n"
      ]
    },
    {
      "cell_type": "code",
      "execution_count": null,
      "metadata": {
        "collapsed": false
      },
      "outputs": [],
      "source": [
        "import os\nimport pandas as pd\nimport matplotlib.pyplot as plt\n\nimport pvlib\nfrom pvlib import iotools, location\nfrom pvlib.irradiance import get_total_irradiance\nfrom pvlib.pvarray import pvefficiency_adr"
      ]
    },
    {
      "cell_type": "markdown",
      "metadata": {},
      "source": [
        "Read a TMY3 file containing weather data and select needed columns\n\n\n"
      ]
    },
    {
      "cell_type": "code",
      "execution_count": null,
      "metadata": {
        "collapsed": false
      },
      "outputs": [],
      "source": [
        "PVLIB_DIR = pvlib.__path__[0]\nDATA_FILE = os.path.join(PVLIB_DIR, 'data', '723170TYA.CSV')\n\ntmy, metadata = iotools.read_tmy3(DATA_FILE, coerce_year=1990,\n                                  map_variables=True)\n\ndf = pd.DataFrame({'ghi': tmy['ghi'], 'dhi': tmy['dhi'], 'dni': tmy['dni'],\n                   'temp_air': tmy['temp_air'],\n                   'wind_speed': tmy['wind_speed'],\n                   })"
      ]
    },
    {
      "cell_type": "markdown",
      "metadata": {},
      "source": [
        "Shift timestamps to middle of hour and then calculate sun positions\n\n\n"
      ]
    },
    {
      "cell_type": "code",
      "execution_count": null,
      "metadata": {
        "collapsed": false
      },
      "outputs": [],
      "source": [
        "df.index = df.index - pd.Timedelta(minutes=30)\n\nloc = location.Location.from_tmy(metadata)\nsolpos = loc.get_solarposition(df.index)"
      ]
    },
    {
      "cell_type": "markdown",
      "metadata": {},
      "source": [
        "Determine  total irradiance on a fixed-tilt array\n\n\n"
      ]
    },
    {
      "cell_type": "code",
      "execution_count": null,
      "metadata": {
        "collapsed": false
      },
      "outputs": [],
      "source": [
        "TILT = metadata['latitude']\nORIENT = 180\n\ntotal_irrad = get_total_irradiance(TILT, ORIENT,\n                                   solpos.apparent_zenith, solpos.azimuth,\n                                   df.dni, df.ghi, df.dhi)\n\ndf['poa_global'] = total_irrad.poa_global"
      ]
    },
    {
      "cell_type": "markdown",
      "metadata": {},
      "source": [
        "Estimate the expected operating temperature of the PV modules\n\n\n"
      ]
    },
    {
      "cell_type": "code",
      "execution_count": null,
      "metadata": {
        "collapsed": false
      },
      "outputs": [],
      "source": [
        "df['temp_pv'] = pvlib.temperature.faiman(df.poa_global, df.temp_air,\n                                         df.wind_speed)"
      ]
    },
    {
      "cell_type": "markdown",
      "metadata": {},
      "source": [
        "Now we're ready to calculate PV array DC output power based\non POA irradiance and PV module operating temperature.\nAmong the models available in pvlib-python to do this are:\n\n - PVWatts\n - SAPM\n - single-diode model variations\n\nAnd now also the ADR PV efficiency model\n\nSimulation is done in two steps:\n\n - first calculate efficiency using the ADR model,\n - then convert (scale up) efficiency to power.\n\n\n"
      ]
    },
    {
      "cell_type": "code",
      "execution_count": null,
      "metadata": {
        "collapsed": false
      },
      "outputs": [],
      "source": [
        "# Borrow the ADR model parameters from the other example:\n\nadr_params = {'k_a': 0.99924,\n              'k_d': -5.49097,\n              'tc_d': 0.01918,\n              'k_rs': 0.06999,\n              'k_rsh': 0.26144\n              }\n\ndf['eta_rel'] = pvefficiency_adr(df['poa_global'], df['temp_pv'], **adr_params)\n\n# Set the desired array size:\nP_STC = 5000.   # (W)\n\n# and the irradiance level needed to achieve this output:\nG_STC = 1000.   # (W/m2)\n\ndf['p_mp'] = P_STC * df['eta_rel'] * (df['poa_global'] / G_STC)"
      ]
    },
    {
      "cell_type": "markdown",
      "metadata": {},
      "source": [
        "Show how power and efficiency vary with both irradiance and temperature\n\n\n"
      ]
    },
    {
      "cell_type": "code",
      "execution_count": null,
      "metadata": {
        "collapsed": false
      },
      "outputs": [],
      "source": [
        "plt.figure()\npc = plt.scatter(df['poa_global'], df['eta_rel'], c=df['temp_pv'], cmap='jet')\nplt.colorbar(label='Temperature [C]', ax=plt.gca())\npc.set_alpha(0.25)\nplt.grid(alpha=0.5)\nplt.ylim(0.48)\nplt.xlabel('Irradiance [W/m\u00b2]')\nplt.ylabel('Relative efficiency [-]')\nplt.show()\n\nplt.figure()\npc = plt.scatter(df['poa_global'], df['p_mp'], c=df['temp_pv'], cmap='jet')\nplt.colorbar(label='Temperature [C]', ax=plt.gca())\npc.set_alpha(0.25)\nplt.grid(alpha=0.5)\nplt.xlabel('Irradiance [W/m\u00b2]')\nplt.ylabel('Array power [W]')\nplt.show()"
      ]
    },
    {
      "cell_type": "markdown",
      "metadata": {},
      "source": [
        "One day:\n\n\n"
      ]
    },
    {
      "cell_type": "code",
      "execution_count": null,
      "metadata": {
        "collapsed": false
      },
      "outputs": [],
      "source": [
        "DEMO_DAY = '1990-08-05'\n\nplt.figure()\nplt.plot(df['p_mp'][DEMO_DAY])\nplt.xticks(rotation=30)\nplt.ylabel('Power [W]')\nplt.show()"
      ]
    },
    {
      "cell_type": "markdown",
      "metadata": {},
      "source": [
        "## References\n.. [1] A. Driesse and J. S. Stein, \"From IEC 61853 power measurements\n   to PV system simulations\", Sandia Report No. SAND2020-3877, 2020.\n   :doi:`10.2172/1615179`\n\n.. [2] A. Driesse, M. Theristis and J. S. Stein, \"A New Photovoltaic Module\n   Efficiency Model for Energy Prediction and Rating,\" in IEEE Journal\n   of Photovoltaics, vol. 11, no. 2, pp. 527-534, March 2021.\n   :doi:`10.1109/JPHOTOV.2020.3045677`\n\n\n"
      ]
    }
  ],
  "metadata": {
    "kernelspec": {
      "display_name": "Python 3",
      "language": "python",
      "name": "python3"
    },
    "language_info": {
      "codemirror_mode": {
        "name": "ipython",
        "version": 3
      },
      "file_extension": ".py",
      "mimetype": "text/x-python",
      "name": "python",
      "nbconvert_exporter": "python",
      "pygments_lexer": "ipython3",
      "version": "3.11.10"
    }
  },
  "nbformat": 4,
  "nbformat_minor": 0
}