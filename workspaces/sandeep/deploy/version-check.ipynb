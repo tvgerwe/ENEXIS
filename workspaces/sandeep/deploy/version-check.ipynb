{
 "cells": [
  {
   "cell_type": "code",
   "execution_count": 1,
   "id": "3df35f12",
   "metadata": {},
   "outputs": [
    {
     "name": "stdout",
     "output_type": "stream",
     "text": [
      "Checking installed versions in the current environment:\n",
      "\n",
      "numpy Version: 1.26.4\n",
      "pandas Version: 2.2.3\n",
      "matplotlib Version: 3.10.0\n",
      "scipy Version: 1.15.2\n",
      "scikit-learn Version: 1.6.1\n",
      "prefect Version: 3.4.0\n",
      "griffe Version: 1.7.3\n",
      "rich Version: 13.9.4\n",
      "statsmodels is not installed.\n",
      "xgboost is not installed.\n",
      "joblib Version: 1.4.2\n",
      "polars is not installed.\n",
      "icecream is not installed.\n",
      "tensorflow is not installed.\n",
      "prophet is not installed.\n",
      "pytorch is not installed.\n",
      "torchvision is not installed.\n",
      "torchaudio is not installed.\n",
      "transformers is not installed.\n"
     ]
    }
   ],
   "source": [
    "import subprocess\n",
    "\n",
    "# List of dependencies to check for\n",
    "dependencies = [\n",
    "    \"numpy\", \"pandas\", \"matplotlib\", \"scipy\", \"scikit-learn\", \"prefect\",\n",
    "    \"griffe\", \"rich\", \"statsmodels\", \"xgboost\", \"joblib\", \"polars\", \"icecream\",\n",
    "    \"tensorflow\", \"prophet\", \"pytorch\", \"torchvision\", \"torchaudio\", \"transformers\"\n",
    "]\n",
    "\n",
    "def get_installed_packages():\n",
    "    # Execute the 'conda list' command to get installed packages in the current environment\n",
    "    try:\n",
    "        result = subprocess.run(['conda', 'list'], stdout=subprocess.PIPE, stderr=subprocess.PIPE, check=True)\n",
    "        output = result.stdout.decode('utf-8')\n",
    "        return output\n",
    "    except subprocess.CalledProcessError as e:\n",
    "        print(f\"Error occurred while fetching installed packages: {e}\")\n",
    "        return \"\"\n",
    "\n",
    "def check_versions():\n",
    "    # Get installed packages in the active conda environment\n",
    "    installed_packages = get_installed_packages()\n",
    "    \n",
    "    print(f\"Checking installed versions in the current environment:\\n\")\n",
    "    \n",
    "    # Check if the package is in the list and print the version\n",
    "    for package in dependencies:\n",
    "        if package in installed_packages:\n",
    "            # Search for the package and extract the version from the conda list output\n",
    "            start_idx = installed_packages.find(package)\n",
    "            end_idx = installed_packages.find('\\n', start_idx)\n",
    "            package_info = installed_packages[start_idx:end_idx]\n",
    "            \n",
    "            # Split the package info and extract the version\n",
    "            version = package_info.split()[1]\n",
    "            print(f\"{package} Version: {version}\")\n",
    "        else:\n",
    "            print(f\"{package} is not installed.\")\n",
    "\n",
    "if __name__ == \"__main__\":\n",
    "    check_versions()"
   ]
  }
 ],
 "metadata": {
  "kernelspec": {
   "display_name": "enexis-may-03-env-run",
   "language": "python",
   "name": "python3"
  },
  "language_info": {
   "codemirror_mode": {
    "name": "ipython",
    "version": 3
   },
   "file_extension": ".py",
   "mimetype": "text/x-python",
   "name": "python",
   "nbconvert_exporter": "python",
   "pygments_lexer": "ipython3",
   "version": "3.10.16"
  }
 },
 "nbformat": 4,
 "nbformat_minor": 5
}
