{
 "cells": [
  {
   "cell_type": "markdown",
   "metadata": {},
   "source": [
    "Code to merge hourly data into daily file and monthly file"
   ]
  },
  {
   "cell_type": "code",
   "execution_count": 15,
   "metadata": {},
   "outputs": [],
   "source": [
    "import os\n",
    "import pandas as pd\n",
    "import json"
   ]
  },
  {
   "cell_type": "markdown",
   "metadata": {},
   "source": [
    "Load config file"
   ]
  },
  {
   "cell_type": "code",
   "execution_count": 16,
   "metadata": {},
   "outputs": [
    {
     "name": "stdout",
     "output_type": "stream",
     "text": [
      "/Users/sgawde/Downloads/pv-data\n"
     ]
    }
   ],
   "source": [
    "# Load API Key and download directory from config file\n",
    "CONFIG_FILE = \"config/pv-gen-huis.json\"\n",
    "\n",
    "def load_config(config_path):\n",
    "    \"\"\"Load configuration from a JSON file.\"\"\"\n",
    "    with open(config_path, \"r\") as file:\n",
    "        return json.load(file)\n",
    "\n",
    "# Directory containing CSV files\n",
    "config = load_config(CONFIG_FILE)\n",
    "print(config[\"data_dir\"])\n",
    "CSV_DIR=config[\"data_dir\"]\n",
    "#CSV_DIR = \"../../src/data/pv-gen-huis-01\"  # Change to your folder name\n",
    "OUTPUT_FILE = \"../../src/data/pv-gen-huis-01/merged_output.csv\"  # Name of the merged CSV file\n"
   ]
  },
  {
   "cell_type": "markdown",
   "metadata": {},
   "source": [
    "Load csv files"
   ]
  },
  {
   "cell_type": "code",
   "execution_count": 17,
   "metadata": {},
   "outputs": [
    {
     "name": "stdout",
     "output_type": "stream",
     "text": [
      "Merged 175 CSV files into ../../src/data/pv-gen-huis-01/merged_output.csv (Ignoring Headers)\n"
     ]
    }
   ],
   "source": [
    "# Get list of CSV files in the directory\n",
    "csv_files = [file for file in os.listdir(CSV_DIR) if file.endswith(\".csv\")]\n",
    "\n",
    "# Merge all CSV files without headers\n",
    "df_list = [pd.read_csv(os.path.join(CSV_DIR, file), header=None) for file in csv_files]\n",
    "merged_df = pd.concat(df_list, ignore_index=True)\n",
    "\n",
    "# Save the merged CSV file\n",
    "merged_df.to_csv(OUTPUT_FILE, index=False, header=False)  # header=False removes column names\n",
    "\n",
    "print(f\"Merged {len(csv_files)} CSV files into {OUTPUT_FILE} (Ignoring Headers)\")"
   ]
  }
 ],
 "metadata": {
  "kernelspec": {
   "display_name": "enexis-data-visualization",
   "language": "python",
   "name": "python3"
  },
  "language_info": {
   "codemirror_mode": {
    "name": "ipython",
    "version": 3
   },
   "file_extension": ".py",
   "mimetype": "text/x-python",
   "name": "python",
   "nbconvert_exporter": "python",
   "pygments_lexer": "ipython3",
   "version": "3.12.2"
  }
 },
 "nbformat": 4,
 "nbformat_minor": 2
}
