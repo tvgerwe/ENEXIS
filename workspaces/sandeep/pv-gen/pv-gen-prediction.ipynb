{
 "cells": [
  {
   "cell_type": "markdown",
   "metadata": {},
   "source": [
    "code to predict pv generation"
   ]
  },
  {
   "cell_type": "code",
   "execution_count": 24,
   "metadata": {},
   "outputs": [],
   "source": [
    "import numpy as np\n",
    "import pandas as pd\n",
    "from scipy.stats import norm, gamma\n",
    "import matplotlib.pyplot as plt\n",
    "import scipy.stats as stats\n",
    "from matplotlib.ticker import MaxNLocator # To ensure demand axis are integer.\n",
    "from sklearn.model_selection import train_test_split\n",
    "from sklearn.linear_model import LinearRegression\n",
    "from sklearn.metrics import mean_absolute_error\n",
    "\n",
    "# Third party packages.\n",
    "import os                       # Execute tasks related to your operating system.\n",
    "\n",
    "import polars as pl             # Data handling ('Blazingly fast DataFrames') and is a drop-in replacement for pandas.\n",
    "import pickle                   # Save and load data to and from pickle files.\n",
    "import time\n",
    "\n",
    "from icecream import ic         # Print variables.\n"
   ]
  },
  {
   "cell_type": "markdown",
   "metadata": {},
   "source": [
    "Data Understanding\n",
    "\n",
    "Load data set. Split with 80% and 20% split"
   ]
  },
  {
   "cell_type": "code",
   "execution_count": 25,
   "metadata": {},
   "outputs": [
    {
     "data": {
      "text/html": [
       "<div>\n",
       "<style scoped>\n",
       "    .dataframe tbody tr th:only-of-type {\n",
       "        vertical-align: middle;\n",
       "    }\n",
       "\n",
       "    .dataframe tbody tr th {\n",
       "        vertical-align: top;\n",
       "    }\n",
       "\n",
       "    .dataframe thead th {\n",
       "        text-align: right;\n",
       "    }\n",
       "</style>\n",
       "<table border=\"1\" class=\"dataframe\">\n",
       "  <thead>\n",
       "    <tr style=\"text-align: right;\">\n",
       "      <th></th>\n",
       "      <th>Time</th>\n",
       "      <th>PV Productie (W)</th>\n",
       "    </tr>\n",
       "  </thead>\n",
       "  <tbody>\n",
       "    <tr>\n",
       "      <th>0</th>\n",
       "      <td>21-07-2024 0:00</td>\n",
       "      <td>0</td>\n",
       "    </tr>\n",
       "    <tr>\n",
       "      <th>1</th>\n",
       "      <td>21-07-2024 0:15</td>\n",
       "      <td>0</td>\n",
       "    </tr>\n",
       "    <tr>\n",
       "      <th>2</th>\n",
       "      <td>21-07-2024 0:30</td>\n",
       "      <td>0</td>\n",
       "    </tr>\n",
       "  </tbody>\n",
       "</table>\n",
       "</div>"
      ],
      "text/plain": [
       "              Time PV Productie (W)\n",
       "0  21-07-2024 0:00                0\n",
       "1  21-07-2024 0:15                0\n",
       "2  21-07-2024 0:30                0"
      ]
     },
     "execution_count": 25,
     "metadata": {},
     "output_type": "execute_result"
    }
   ],
   "source": [
    "# (I) URL to repo on GitHub.\n",
    "data_file = \"../../src/data/pv-gen-huis-01/merged_output.csv\"  # Name of the merged CSV file\n",
    "\n",
    "\n",
    "# (III) Load data from GitHub using Polars.\n",
    "df_pl_orig = (\n",
    "    pl.read_csv(data_file)\n",
    ")\n",
    "\n",
    "df_pd_orig = pd.read_csv(data_file)\n",
    "# Show a sample of first 3 rows.\n",
    "df_pd_orig.head(3)\n"
   ]
  },
  {
   "cell_type": "markdown",
   "metadata": {},
   "source": [
    "Descriptive Statistics"
   ]
  },
  {
   "cell_type": "code",
   "execution_count": 26,
   "metadata": {},
   "outputs": [
    {
     "name": "stdout",
     "output_type": "stream",
     "text": [
      "We have 0 numerical variables:\n",
      "Index([], dtype='object')\n",
      "Number of rows: 16974 and column names are: Index(['Time', 'PV Productie (W)', 'datetime_parsed'], dtype='object') and column types are: Time                        object\n",
      "PV Productie (W)            object\n",
      "datetime_parsed     datetime64[ns]\n",
      "dtype: object\n",
      "Number of rows: 16800 and column names are: Index(['Time', 'PV Productie (W)', 'datetime_parsed'], dtype='object')\n",
      "Number of rows: 7961 and column names are: Index(['Time', 'PV Productie (W)', 'datetime_parsed'], dtype='object')\n",
      "               Time PV Productie (W)     datetime_parsed\n",
      "24  21-07-2024 6:00           2.5608 2024-07-21 06:00:00\n",
      "25  21-07-2024 6:15          12.0613 2024-07-21 06:15:00\n",
      "26  21-07-2024 6:30          20.8753 2024-07-21 06:30:00\n",
      "We have 3 string variables:\n",
      "Index(['Time', 'PV Productie (W)', 'datetime_parsed'], dtype='object')\n",
      "The data set has  3 columns. The number and string data have total of 6 columns.\n"
     ]
    }
   ],
   "source": [
    "# Using Pandas.\n",
    "df_pd_num = df_pd_orig.select_dtypes(include='number')\n",
    "\n",
    "# Column names (Pandas: df_pd_orig_num.columns.tolist()).\n",
    "l_df_num_names = df_pd_num.columns\n",
    "print(f\"We have {len(l_df_num_names)} numerical variables:\\n{l_df_num_names}\")\n",
    "\n",
    "# In Pandas.\n",
    "# Convert to datetime format\n",
    "df_pd_orig_str    = df_pd_orig.select_dtypes(include='object')\n",
    "# Convert to datetime with errors='coerce' (invalid values become NaT)\n",
    "df_pd_orig_str[\"datetime_parsed\"] = pd.to_datetime(df_pd_orig_str[\"Time\"], format=\"%d-%m-%Y %H:%M\", errors=\"coerce\")\n",
    "print(\"Number of rows:\", df_pd_orig_str.shape[0], \"and column names are:\", df_pd_orig_str.columns, \"and column types are:\", df_pd_orig_str.dtypes)\n",
    "\n",
    "# Display invalid datetime values\n",
    "#invalid_dates = df_pd_orig_str[df_pd_orig_str[\"datetime_parsed\"].isna()]\n",
    "#print(invalid_dates)\n",
    "\n",
    "# Drop rows with invalid datetime values (NaT)\n",
    "df_datetime_cleaned = df_pd_orig_str.dropna(subset=[\"datetime_parsed\"])\n",
    "print(\"Number of rows:\", df_datetime_cleaned.shape[0], \"and column names are:\", df_datetime_cleaned.columns)\n",
    "\n",
    "df_cleaned_datetime_PVW = df_datetime_cleaned[df_datetime_cleaned[\"PV Productie (W)\"] != \"0\"]\n",
    "print(\"Number of rows:\", df_cleaned_datetime_PVW.shape[0], \"and column names are:\", df_cleaned_datetime_PVW.columns)\n",
    "print(df_cleaned_datetime_PVW.head(3))\n",
    "\n",
    "# Check data types\n",
    "df_pd_obj    = df_cleaned_datetime_PVW.select_dtypes(include='object')\n",
    "# Column names (Pandas: df_pd_orig_str.columns.tolist()).\n",
    "l_df_str_names = df_cleaned_datetime_PVW.columns\n",
    "\n",
    "print(f\"We have {len(l_df_str_names)} string variables:\\n{l_df_str_names}\")\n",
    "\n",
    "print(\n",
    "    f\"The data set has  {df_cleaned_datetime_PVW.shape[1]} columns. The number and string data \"\n",
    "    f\"have total of {df_cleaned_datetime_PVW.shape[1] + df_cleaned_datetime_PVW.shape[1]} columns.\"\n",
    ")\n",
    "\n",
    "\n",
    "# We use the number of observations more often, so we define a variable.\n",
    "n_obs = df_cleaned_datetime_PVW.shape[0]\n"
   ]
  },
  {
   "cell_type": "markdown",
   "metadata": {},
   "source": [
    "Look for missing data"
   ]
  },
  {
   "cell_type": "code",
   "execution_count": 27,
   "metadata": {},
   "outputs": [
    {
     "name": "stdout",
     "output_type": "stream",
     "text": [
      "Pandas:\n",
      "PV Productie (W): ['2.5608' '12.0613' '20.8753' ... '110.7054' '90.8471' '17.8264']\n",
      "\n"
     ]
    }
   ],
   "source": [
    "l_col = ['PV Productie (W)']\n",
    "\n",
    "# Pandas\n",
    "print(\"Pandas:\")\n",
    "\n",
    "for s_col in l_col:\n",
    "    # print(f\"{l_col}: {df_cleaned_datetime_PVW[l_col]}\")\n",
    "    print(f\"{s_col}: {df_cleaned_datetime_PVW[s_col].unique()}\")\n",
    "\n",
    "# Comms\n",
    "print(\"\")\n",
    "# print(f\"Pandas: {list(df_cleaned_datetime_PVW['PV Productie (W)'][53:58])}\")"
   ]
  },
  {
   "cell_type": "markdown",
   "metadata": {},
   "source": [
    "Contruct a descriptive summary"
   ]
  },
  {
   "cell_type": "code",
   "execution_count": 28,
   "metadata": {},
   "outputs": [
    {
     "data": {
      "text/html": [
       "<div>\n",
       "<style scoped>\n",
       "    .dataframe tbody tr th:only-of-type {\n",
       "        vertical-align: middle;\n",
       "    }\n",
       "\n",
       "    .dataframe tbody tr th {\n",
       "        vertical-align: top;\n",
       "    }\n",
       "\n",
       "    .dataframe thead th {\n",
       "        text-align: right;\n",
       "    }\n",
       "</style>\n",
       "<table border=\"1\" class=\"dataframe\">\n",
       "  <thead>\n",
       "    <tr style=\"text-align: right;\">\n",
       "      <th></th>\n",
       "      <th>datetime_parsed</th>\n",
       "    </tr>\n",
       "  </thead>\n",
       "  <tbody>\n",
       "    <tr>\n",
       "      <th>count</th>\n",
       "      <td>7961</td>\n",
       "    </tr>\n",
       "    <tr>\n",
       "      <th>mean</th>\n",
       "      <td>2024-09-18 09:38:46.026881024</td>\n",
       "    </tr>\n",
       "    <tr>\n",
       "      <th>min</th>\n",
       "      <td>2024-07-01 05:30:00</td>\n",
       "    </tr>\n",
       "    <tr>\n",
       "      <th>25%</th>\n",
       "      <td>2024-08-02 10:00:00</td>\n",
       "    </tr>\n",
       "    <tr>\n",
       "      <th>50%</th>\n",
       "      <td>2024-09-07 07:00:00</td>\n",
       "    </tr>\n",
       "    <tr>\n",
       "      <th>75%</th>\n",
       "      <td>2024-10-20 17:15:00</td>\n",
       "    </tr>\n",
       "    <tr>\n",
       "      <th>max</th>\n",
       "      <td>2025-02-09 17:30:00</td>\n",
       "    </tr>\n",
       "  </tbody>\n",
       "</table>\n",
       "</div>"
      ],
      "text/plain": [
       "                     datetime_parsed\n",
       "count                           7961\n",
       "mean   2024-09-18 09:38:46.026881024\n",
       "min              2024-07-01 05:30:00\n",
       "25%              2024-08-02 10:00:00\n",
       "50%              2024-09-07 07:00:00\n",
       "75%              2024-10-20 17:15:00\n",
       "max              2025-02-09 17:30:00"
      ]
     },
     "execution_count": 28,
     "metadata": {},
     "output_type": "execute_result"
    }
   ],
   "source": [
    "df_cleaned_datetime_PVW.describe()"
   ]
  },
  {
   "cell_type": "markdown",
   "metadata": {},
   "source": [
    "Predict"
   ]
  },
  {
   "cell_type": "code",
   "execution_count": 29,
   "metadata": {},
   "outputs": [
    {
     "name": "stdout",
     "output_type": "stream",
     "text": [
      "Mean Absolute Error: 579.4446337943965\n",
      "shape: (80, 3)\n",
      "┌───────────────┬───────────┬─────────────┐\n",
      "│ X Values      ┆ Actual    ┆ Predicted   │\n",
      "│ ---           ┆ ---       ┆ ---         │\n",
      "│ array[i64, 1] ┆ str       ┆ f64         │\n",
      "╞═══════════════╪═══════════╪═════════════╡\n",
      "│ [1730103300]  ┆ 224.8311  ┆ 629.0541    │\n",
      "│ [1725816600]  ┆ 499.5489  ┆ 900.880887  │\n",
      "│ [1725784200]  ┆ 626.1318  ┆ 902.935425  │\n",
      "│ [1732188600]  ┆ 136.987   ┆ 496.821754  │\n",
      "│ [1724936400]  ┆ 2277.678  ┆ 956.695835  │\n",
      "│ …             ┆ …         ┆ …           │\n",
      "│ [1730552400]  ┆ 503.8647  ┆ 600.575921  │\n",
      "│ [1737204300]  ┆ 281.4701  ┆ 178.767862  │\n",
      "│ [1723380300]  ┆ 3244.9167 ┆ 1055.370728 │\n",
      "│ [1721335500]  ┆ 62.158    ┆ 1185.034902 │\n",
      "│ [1724688000]  ┆ 844.0526  ┆ 972.447293  │\n",
      "└───────────────┴───────────┴─────────────┘\n"
     ]
    },
    {
     "name": "stderr",
     "output_type": "stream",
     "text": [
      "/var/folders/gy/xs43v__d0mn25qy5kzxrnkrm0000gn/T/ipykernel_10063/3556649163.py:8: SettingWithCopyWarning: \n",
      "A value is trying to be set on a copy of a slice from a DataFrame.\n",
      "Try using .loc[row_indexer,col_indexer] = value instead\n",
      "\n",
      "See the caveats in the documentation: https://pandas.pydata.org/pandas-docs/stable/user_guide/indexing.html#returning-a-view-versus-a-copy\n",
      "  df_cleaned_datetime_PVW[\"timestamp\"] = df_cleaned_datetime_PVW[\"datetime_parsed\"].astype(\"int64\") // 10**9  # Unix timestamp (seconds since 1970)\n"
     ]
    }
   ],
   "source": [
    "df_pd_orig_str_copy = df_cleaned_datetime_PVW\n",
    "\n",
    "\n",
    "# Step 4: Train a Model (Linear Regression)\n",
    "\n",
    "\n",
    "# If you need numeric values (e.g., Unix timestamp or ordinal)\n",
    "df_cleaned_datetime_PVW[\"timestamp\"] = df_cleaned_datetime_PVW[\"datetime_parsed\"].astype(\"int64\") // 10**9  # Unix timestamp (seconds since 1970)\n",
    "selected_columns_df = df_cleaned_datetime_PVW[[\"timestamp\", \"PV Productie (W)\"]]\n",
    "# 02-02-2025 23:30\n",
    "\n",
    "X = selected_columns_df[[\"timestamp\"]]  # Features\n",
    "y = selected_columns_df[\"PV Productie (W)\"]  # Target variable\n",
    "\n",
    "X_train, X_test, y_train, y_test = train_test_split(X, y, test_size=0.01, random_state=42)\n",
    "\n",
    "model = LinearRegression()\n",
    "model.fit(X_train, y_train)\n",
    "\n",
    "#  Step 5: Make Predictions\n",
    "y_pred = model.predict(X_test)\n",
    "\n",
    "# Step 6: Evaluate the Model\n",
    "mae = mean_absolute_error(y_test, y_pred)\n",
    "print(f\"Mean Absolute Error: {mae}\")\n",
    "\n",
    "# Step 7: Convert Predictions Back to Polars (Optional)\n",
    "df_pred = pl.DataFrame({\"X Values\": X_test.values, \"Actual\": y_test.values, \"Predicted\": y_pred})\n",
    "print(df_pred)"
   ]
  }
 ],
 "metadata": {
  "kernelspec": {
   "display_name": "enexis-data-visualization",
   "language": "python",
   "name": "python3"
  },
  "language_info": {
   "codemirror_mode": {
    "name": "ipython",
    "version": 3
   },
   "file_extension": ".py",
   "mimetype": "text/x-python",
   "name": "python",
   "nbconvert_exporter": "python",
   "pygments_lexer": "ipython3",
   "version": "3.12.2"
  }
 },
 "nbformat": 4,
 "nbformat_minor": 2
}
