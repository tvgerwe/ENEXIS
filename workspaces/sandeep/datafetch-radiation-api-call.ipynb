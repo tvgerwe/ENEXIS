{
 "cells": [
  {
   "cell_type": "code",
   "execution_count": 6,
   "metadata": {},
   "outputs": [],
   "source": [
    "import os\n",
    "import json\n",
    "import requests\n",
    "\n",
    "\n"
   ]
  },
  {
   "cell_type": "markdown",
   "metadata": {},
   "source": [
    "Import require files"
   ]
  },
  {
   "cell_type": "code",
   "execution_count": 13,
   "metadata": {},
   "outputs": [],
   "source": [
    "# Load API Key and download directory from config file\n",
    "CONFIG_FILE = \"config/api-call.json\"\n",
    "\n",
    "def load_config(config_path):\n",
    "    \"\"\"Load configuration from a JSON file.\"\"\"\n",
    "    with open(config_path, \"r\") as file:\n",
    "        return json.load(file)\n",
    "\n"
   ]
  },
  {
   "cell_type": "markdown",
   "metadata": {},
   "source": [
    "Load configurations"
   ]
  },
  {
   "cell_type": "code",
   "execution_count": 14,
   "metadata": {},
   "outputs": [],
   "source": [
    "# Load config values\n",
    "config = load_config(CONFIG_FILE)\n",
    "API_ENDPOINT= config[\"api_endpoint\"]\n",
    "API_KEY = config[\"api_key\"]\n",
    "DOWNLOAD_DIR = config[\"download_dir\"]\n",
    "\n",
    "\n",
    "# Ensure the download directory exists\n",
    "os.makedirs(DOWNLOAD_DIR, exist_ok=True)\n",
    "\n",
    "# API details (Replace with actual API endpoint)\n",
    "API_URL = API_ENDPOINT\n",
    "HEADERS = {\"Authorization\": f\"Bearer {API_KEY}\"}\n"
   ]
  },
  {
   "cell_type": "markdown",
   "metadata": {},
   "source": [
    "Download data file"
   ]
  },
  {
   "cell_type": "code",
   "execution_count": 15,
   "metadata": {},
   "outputs": [
    {
     "name": "stdout",
     "output_type": "stream",
     "text": [
      "Error: 403 - {\n",
      "    \"error\": \"Access to this API has been disallowed\"\n",
      "}\n"
     ]
    }
   ],
   "source": [
    "def download_data_file():\n",
    "    \"\"\"Download a data file from an API and save it in the specified directory.\"\"\"\n",
    "    response = requests.get(API_URL, headers=HEADERS)\n",
    "\n",
    "    if response.status_code == 200:\n",
    "        file_path = os.path.join(DOWNLOAD_DIR, \"downloaded_data.json\")  # Change extension as needed\n",
    "        with open(file_path, \"wb\") as file:\n",
    "            file.write(response.content)\n",
    "        print(f\"File downloaded successfully: {file_path}\")\n",
    "    else:\n",
    "        print(f\"Error: {response.status_code} - {response.text}\")\n",
    "\n",
    "# Run the download function\n",
    "download_data_file()"
   ]
  }
 ],
 "metadata": {
  "kernelspec": {
   "display_name": "enexis-data-visualization",
   "language": "python",
   "name": "python3"
  },
  "language_info": {
   "codemirror_mode": {
    "name": "ipython",
    "version": 3
   },
   "file_extension": ".py",
   "mimetype": "text/x-python",
   "name": "python",
   "nbconvert_exporter": "python",
   "pygments_lexer": "ipython3",
   "version": "3.12.2"
  }
 },
 "nbformat": 4,
 "nbformat_minor": 2
}
