{
 "cells": [
  {
   "cell_type": "markdown",
   "metadata": {
    "id": "PpLWCBFNuons"
   },
   "source": [
    "# Enexis Energy - Data Science case study - Bird's eye view of the data"
   ]
  },
  {
   "cell_type": "code",
   "execution_count": 18,
   "metadata": {
    "executionInfo": {
     "elapsed": 698,
     "status": "ok",
     "timestamp": 1608147217503,
     "user": {
      "displayName": "pi1234",
      "photoUrl": "",
      "userId": "00485952581093036663"
     },
     "user_tz": -60
    },
    "id": "r_EATkKHugiZ"
   },
   "outputs": [
    {
     "name": "stdout",
     "output_type": "stream",
     "text": [
      "Requirement already satisfied: pandas in /opt/miniconda3/envs/enexis-data-visualization/lib/python3.12/site-packages (2.2.3)\n",
      "Requirement already satisfied: matplotlib in /opt/miniconda3/envs/enexis-data-visualization/lib/python3.12/site-packages (3.10.0)\n",
      "Requirement already satisfied: numpy>=1.26.0 in /opt/miniconda3/envs/enexis-data-visualization/lib/python3.12/site-packages (from pandas) (2.2.0)\n",
      "Requirement already satisfied: python-dateutil>=2.8.2 in /opt/miniconda3/envs/enexis-data-visualization/lib/python3.12/site-packages (from pandas) (2.9.0.post0)\n",
      "Requirement already satisfied: pytz>=2020.1 in /opt/miniconda3/envs/enexis-data-visualization/lib/python3.12/site-packages (from pandas) (2024.2)\n",
      "Requirement already satisfied: tzdata>=2022.7 in /opt/miniconda3/envs/enexis-data-visualization/lib/python3.12/site-packages (from pandas) (2024.2)\n",
      "Requirement already satisfied: contourpy>=1.0.1 in /opt/miniconda3/envs/enexis-data-visualization/lib/python3.12/site-packages (from matplotlib) (1.3.1)\n",
      "Requirement already satisfied: cycler>=0.10 in /opt/miniconda3/envs/enexis-data-visualization/lib/python3.12/site-packages (from matplotlib) (0.12.1)\n",
      "Requirement already satisfied: fonttools>=4.22.0 in /opt/miniconda3/envs/enexis-data-visualization/lib/python3.12/site-packages (from matplotlib) (4.55.3)\n",
      "Requirement already satisfied: kiwisolver>=1.3.1 in /opt/miniconda3/envs/enexis-data-visualization/lib/python3.12/site-packages (from matplotlib) (1.4.7)\n",
      "Requirement already satisfied: packaging>=20.0 in /opt/miniconda3/envs/enexis-data-visualization/lib/python3.12/site-packages (from matplotlib) (24.2)\n",
      "Requirement already satisfied: pillow>=8 in /opt/miniconda3/envs/enexis-data-visualization/lib/python3.12/site-packages (from matplotlib) (11.0.0)\n",
      "Requirement already satisfied: pyparsing>=2.3.1 in /opt/miniconda3/envs/enexis-data-visualization/lib/python3.12/site-packages (from matplotlib) (3.2.0)\n",
      "Requirement already satisfied: six>=1.5 in /opt/miniconda3/envs/enexis-data-visualization/lib/python3.12/site-packages (from python-dateutil>=2.8.2->pandas) (1.17.0)\n",
      "Note: you may need to restart the kernel to use updated packages.\n"
     ]
    }
   ],
   "source": [
    "%pip install pandas matplotlib"
   ]
  },
  {
   "cell_type": "markdown",
   "metadata": {
    "id": "PPQo8za16cQT"
   },
   "source": [
    "### Importing packages"
   ]
  },
  {
   "cell_type": "code",
   "execution_count": 20,
   "metadata": {
    "executionInfo": {
     "elapsed": 696,
     "status": "ok",
     "timestamp": 1608147217504,
     "user": {
      "displayName": "pi1234",
      "photoUrl": "",
      "userId": "00485952581093036663"
     },
     "user_tz": -60
    },
    "id": "OlwScieYRTmf"
   },
   "outputs": [],
   "source": [
    "import pandas as pd\n",
    "import sys\n",
    "import matplotlib.pyplot as plt\n",
    "import numpy as np      # Numeric calculations\n",
    "import jinja2 as jinja2"
   ]
  },
  {
   "cell_type": "markdown",
   "metadata": {
    "id": "Dm7aDtim6guo"
   },
   "source": [
    "### Functions"
   ]
  },
  {
   "cell_type": "code",
   "execution_count": 21,
   "metadata": {
    "executionInfo": {
     "elapsed": 695,
     "status": "ok",
     "timestamp": 1608147217505,
     "user": {
      "displayName": "pi1234",
      "photoUrl": "",
      "userId": "00485952581093036663"
     },
     "user_tz": -60
    },
    "id": "f1PDhgg8ZBbf"
   },
   "outputs": [],
   "source": [
    "def f_concat(l_input):\n",
    "\n",
    "    # Initialize.\n",
    "    dummy = \"\"\n",
    "    n_len = len(l_input)\n",
    "    \n",
    "    if n_len == 1:\n",
    "        return l_input[0]\n",
    "\n",
    "    # Loop through text elements.\n",
    "    for i in range(n_len-1):\n",
    "        dummy = dummy + l_input[i] + \", \"\n",
    "\n",
    "    # Append last element.\n",
    "    dummy = dummy + \"and \" + l_input[n_len-1]\n",
    "\n",
    "    # Return result.\n",
    "    return dummy\n",
    "\n",
    "# Function to impute median value in missing numerical data\n",
    "def f_impute_numerical_values(df_input):\n",
    "    df_imputed_num = df_input.replace(np.nan, df_input.median())\n",
    "    return df_imputed_num\n",
    "\n",
    "\n",
    "# Function to impute \"Unknown\" value in missing categorical data\n",
    "def f_impute_categorical_values(df_input):\n",
    "    c_replace_by = \"Unknown\"\n",
    "    # Replace using fillna():\n",
    "    df_imputed_cat = df_input.fillna(c_replace_by)\n",
    "    return df_imputed_cat"
   ]
  },
  {
   "cell_type": "code",
   "execution_count": 22,
   "metadata": {
    "executionInfo": {
     "elapsed": 765,
     "status": "ok",
     "timestamp": 1608147219439,
     "user": {
      "displayName": "pi1234",
      "photoUrl": "",
      "userId": "00485952581093036663"
     },
     "user_tz": -60
    },
    "id": "hp-PONLQV4Rp"
   },
   "outputs": [],
   "source": [
    "def f_info(df_input, c_feature, n_top =  10):\n",
    "\n",
    "    # Testing!\n",
    "    # df_input  = df_historyPerYear\n",
    "    # c_feature = \"year\"\n",
    "    # n_top     = 3\n",
    "\n",
    "    # Do not calculate the frequency table in case the feature has unique values.\n",
    "    if(df_input[c_feature].is_unique):\n",
    "        print(\"Feature '\" + c_feature + \"' is unique.\")\n",
    "        return\n",
    "\n",
    "\n",
    "    # Load package.\n",
    "    from collections import Counter\n",
    "\n",
    "    # Bereken frequenties.\n",
    "    c = Counter(df_input[c_feature])\n",
    "\n",
    "    # Converteer naar data frame.\n",
    "    df_output         = pd.DataFrame(list(c.items()))\n",
    "\n",
    "    # Hernoem kolomnamen.\n",
    "    df_output.columns = [\"level\", \"n\"]\n",
    "\n",
    "    # Bereken percentage.\n",
    "    df_output[\"perc\"] = round(100 * df_output[\"n\"] / df_input.shape[0], 1).astype(str) + \"%\"\n",
    "\n",
    "    # Sorteer data frame op frequentie.\n",
    "    df_output         = df_output.sort_values(by = \"n\", ascending = False)\n",
    "\n",
    "    # Reset index en verwijder index kolom die daardoor ontstaat.\n",
    "    df_output         = df_output.reset_index().drop(columns=['index'])\n",
    "\n",
    "    # Display tabel zonder index.\n",
    "    # https://stackoverflow.com/questions/61363712/how-to-print-a-pandas-io-formats-style-styler-object\n",
    "    if(df_output.shape[0] <= n_top):\n",
    "        c.message = \"we tonen alle \" + str(df_output.shape[0]) + \" levels:\"\n",
    "        \n",
    "    else:\n",
    "        c.message = \"we tonen de Top-\" + str(n_top) + \" van de \" + str(df_output.shape[0]) + \" levels:\"\n",
    "\n",
    "        \n",
    "    # Print header\n",
    "    print(\"Frequentietabel voor '\" + c_feature + \"', \" + c.message + \"\\n\")\n",
    "        \n",
    "    print(f\"'None': {c[None]} ({round(100 * c[None] / df_input.shape[0], 1)}%)\")\n",
    "\n",
    "    print(f\"'NA':   {df_input[c_feature].isna().sum()} ({round(100 * df_input[c_feature].isna().sum() / df_input.shape[0], 1)}%)\")\n",
    "            \n",
    "    display(df_output.head(n_top).style.hide_index())\n",
    "    \n",
    "    plt.hist(df[\"year\"], bins=10, orientation='horizontal') #plt.show()\n",
    "\n",
    "    # Plot frequency if count is smaller than 20.\n",
    "    v_data_to_plot = df[c_feature].value_counts(sort = True)[0:n_top]\n",
    "    \n",
    "    # https://stackoverflow.com/questions/36367986/how-to-make-inline-plots-in-jupyter-notebook-larger\n",
    "    plt.rcParams['figure.figsize'] = [15, 5]\n",
    "    \n",
    "    fig, ax = plt.subplots()\n",
    "    v_data_to_plot.plot(kind='bar', ax=ax)  \n",
    "    plt.show()\n",
    "    "
   ]
  },
  {
   "cell_type": "code",
   "execution_count": 23,
   "metadata": {},
   "outputs": [
    {
     "name": "stdout",
     "output_type": "stream",
     "text": [
      "['Peildatum', 'CBS Buurtcode', 'Aantal aansluitingen in CBS-buurt ', 'Aantal aansluitingen met opwekinstallatie', 'Opgesteld vermogen']\n",
      "Peildatum                                              202001.0\n",
      "Netbeheerder                                             Enexis\n",
      "Provincie                                             Groningen\n",
      "Gemeente                                             Appingedam\n",
      "CBS Buurt                                    Appingedam-Centrum\n",
      "CBS Buurtcode                                           30000.0\n",
      "Aantal aansluitingen in CBS-buurt                          1.48\n",
      "Aantal aansluitingen met opwekinstallatie                 155.0\n",
      "Opgesteld vermogen                                        507.0\n",
      "Name: 0, dtype: object\n",
      "\n",
      "Number of numerical variables: 5\n",
      "['Netbeheerder', 'Provincie', 'Gemeente', 'CBS Buurt ']\n",
      "\n",
      "Number of categorical variables: 4\n",
      "Number of variables having missing data: 9 (out of 9)\n",
      "Number of variables having missing data in df_imputed: 4647 (out of 9)\n",
      "Median values in original numerical data (first five variables):\n",
      "Peildatum                                     202001.0\n",
      "CBS Buurtcode                                8551707.0\n",
      "Aantal aansluitingen in CBS-buurt                183.0\n",
      "Aantal aansluitingen met opwekinstallatie         59.0\n",
      "Opgesteld vermogen                               236.5\n",
      "dtype: float64\n"
     ]
    }
   ],
   "source": [
    "\n",
    "\n",
    "# Load local data - How to do it\n",
    "df_orig = pd.read_csv(\n",
    "    \"../../src/data/github-data/Enexis_decentrale_opwek_kv_(zon_pv)_01012020.csv\"\n",
    ", delimiter=';')\n",
    "\n",
    "# df_orig = pd.read_csv(\n",
    "#    \"/Users/sgawde/work/eaisi-code/enexis-code-repo/ENEXIS/application-project-enexis/data/Enexis_opwekdata_gv_wind_en_zon_11062021.csv\"\n",
    "# , delimiter=';')\n",
    "\n",
    "# df_orig = pd.read_csv(\n",
    "#    \"/Users/sgawde/work/eaisi-code/enexis-code-repo/ENEXIS/application-project-enexis/data/Enexis_opwekdata_gv_wind_en_zon_11062021.csv\"\n",
    "# , delimiter=';')\n",
    "\n",
    "df_orig_num    = df_orig.select_dtypes(include='number')\n",
    "l_df_num_names = df_orig_num.columns.tolist()\n",
    "\n",
    "print(l_df_num_names)\n",
    "# Get the first row as a Series\n",
    "first_row = df_orig.iloc[0]\n",
    "print(first_row)\n",
    "print(f\"\\nNumber of numerical variables: {len(l_df_num_names)}\")\n",
    "\n",
    "df_orig_cat    = df_orig.select_dtypes(include='object')\n",
    "l_df_cat_names = list(df_orig_cat.columns)\n",
    "\n",
    "print(l_df_cat_names)\n",
    "print(f\"\\nNumber of categorical variables: {len(l_df_cat_names)}\")\n",
    "\n",
    "# Pandas Series with type of each variable (variable, column) in df_orig.\n",
    "ps_missing_type    = df_orig.dtypes\n",
    "\n",
    "# Number of missing data per variable.\n",
    "ps_missing_total   = df_orig.isnull().sum()\n",
    "\n",
    "# Percentage of missing per variable.\n",
    "ps_missing_percent = round(100 * ps_missing_total / df_orig.shape[0], 1)\n",
    "\n",
    "\n",
    "# Create table (Pandas DataFrame).\n",
    "df_missing_data = pd.DataFrame({\n",
    "\n",
    "    'data_type':   ps_missing_type,\n",
    "    'empty_total': ps_missing_total,\n",
    "    'empty_perc':  ps_missing_percent\n",
    "})\n",
    "\n",
    "# Sort table by number of missing data in descending order.\n",
    "df_missing_data.sort_values(\n",
    "    by        = 'empty_total',\n",
    "    ascending = False,\n",
    "    inplace   = True\n",
    ")\n",
    "\n",
    "# Remove variables that have no missing values.\n",
    "df_missing_data = df_missing_data.query(\"empty_total > 0\")\n",
    "\n",
    "# Show table.\n",
    "print(\n",
    "    f\"Number of variables having missing data: \"\n",
    "    f\"{df_missing_data.shape[0]} (out of {df_orig.shape[1]})\"\n",
    ")\n",
    "\n",
    "\n",
    "# df_orig_num.info()\n",
    "# df_orig_cat.info()\n",
    "# print(df_orig.columns)\n",
    "\n",
    "df_imputed_num = df_orig_num.replace(np.nan, df_orig_num.median())\n",
    "\n",
    "\n",
    "c_replace_by = \"Unknown\"\n",
    "df_imputed_cat = df_orig_cat.fillna(c_replace_by)\n",
    "\n",
    "df_imputed = pd.concat([df_imputed_cat, df_imputed_num], axis=1)\n",
    "\n",
    "\n",
    "# Show table.\n",
    "print(\n",
    "    f\"Number of variables having missing data in df_imputed: \"\n",
    "    f\"{df_imputed.shape[0]} (out of {df_imputed.shape[1]})\"\n",
    ")\n",
    "\n",
    "\n",
    "# Imput missing values in 'Netbeheerder' (if applicable)\n",
    "# Imput missing values in 'Provincie' (if applicable)\n",
    "# Imput missing values in 'Gemeente' (if applicable)\n",
    "# df_impute_cat = f_impute_categorical_values(df_orig_cat)\n",
    "\n",
    "# Imput missing values in 'Peildatum' (if applicable)\n",
    "# Imput missing values in 'CBS Buurtcode' (if applicable)\n",
    "# Imput missing values in 'Aantal aansluitingen in CBS-buurt ' (if applicable)\n",
    "# Imput missing values in 'Aantal aansluitingen met opwekinstallatie' (if applicable)\n",
    "# Imput missing values in 'Opgesteld vermogen' (if applicable)\n",
    "\n",
    "\n",
    "# Imput missing values in 'Gemeente' (if applicable)\n",
    "# df_orig['Gemeente'] = df_orig['Gemeente'].fillna('Unknown')\n",
    "\n",
    "\n",
    "\n",
    "# Imput missing values in 'Gemeente' (if applicable)\n",
    "print(\"Median values in original numerical data (first five variables):\")\n",
    "print(df_orig_num.median().head(5))\n",
    "\n",
    "\n",
    "\n",
    "# Bar chart for numerical variable grouped by categories\n",
    "# plt.bar(df_orig['Gemeente'], df_orig['Aantal aansluitingen met opwekinstallatie'])\n",
    "# plt.xlabel('Gemeente')\n",
    "# plt.ylabel('Value')\n",
    "# plt.title('Bar Chart for Numerical Variable')\n",
    "# plt.show()\n",
    "\n",
    "\n",
    "\n",
    "# f_info(df_orig, 'Peildatum')\n",
    "#f_info(df_orig.Provincie, n_top=5, b_show_plot=True)\n",
    "#f_info(df_orig['Gemeente'])\n",
    "\n",
    "# df = df_orig\n",
    "# df['transactions'].value_counts(sort = True)[0:10]"
   ]
  },
  {
   "cell_type": "code",
   "execution_count": 24,
   "metadata": {},
   "outputs": [],
   "source": [
    "#f_info(df, \"month\", 15)"
   ]
  },
  {
   "cell_type": "code",
   "execution_count": 25,
   "metadata": {},
   "outputs": [],
   "source": [
    "def f_describe(df_input, n_top = 10):\n",
    "    \n",
    "    print(\"First \" + str(n_top) + \" rows in de data:\")\n",
    "    display(df_input.head(n_top))\n",
    "     \n",
    "    \n",
    "    df_numeric = df_input.select_dtypes(include = ['uint8', 'uint16', 'uint32', 'uint64', 'int8', 'int16', 'int32', 'int64', 'float16', 'float32', 'float64'])\n",
    "\n",
    "    if len(df_numeric.columns):\n",
    "        print(\"Numerical data:\")\n",
    "        display(df_numeric.describe())\n",
    "\n",
    "        \n",
    "    df_textual = df_input.select_dtypes(include = ['category', 'object', 'bool'])\n",
    "\n",
    "    if len(df_textual.columns):\n",
    "        print(\"Textual data:\")\n",
    "        display(df_textual.describe())\n",
    "        \n",
    "        \n",
    "    v_na = [col + \" (\" + str(df[col].isna().sum()) + \", \" + str(round(100 * df[col].isna().sum() / df.shape[0], 1)) + \"%)\" for col in df.columns if df[col].isna().sum() > 0]\n",
    "\n",
    "    if len(v_na) > 0:\n",
    "        print(\"Features and their number of missing values:\")\n",
    "        display(f_concat(v_na))\n"
   ]
  },
  {
   "cell_type": "code",
   "execution_count": 26,
   "metadata": {
    "id": "XaDlRA_wRK0U"
   },
   "outputs": [],
   "source": [
    "def f_get_data(i=0):\n",
    "\n",
    "    # Define path.\n",
    "    c_path = \"../../src/data/github-data/\"\n",
    "\n",
    "    # Identify file.\n",
    "    v_file = (\"Enexis_kleinverbruiksgegevens_01012010\",                                          # 0\n",
    "              \"Enexis_kleinverbruiksgegevens_01012020\",                                          # 1\n",
    "              \"Enexis_decentrale_opwek_kv_(zon_pv)_01012020\",                                    # 2\n",
    "              \"Open_Asset_Data_Elektra_CSV/IMKL-Appurtenance_E_Lv_Charging_Point_Noord_ligging\", # 3\n",
    "              \"CBS_PC6_2016_v2\")                                                                 # 4\n",
    "    \n",
    "    \n",
    "    # Assign decimal separator.\n",
    "    if(i in [0, 1]):\n",
    "        c_decimal = \",\"\n",
    "        \n",
    "    else:\n",
    "        c_decimal = \".\"\n",
    "        \n",
    "        \n",
    "    # Load data. Used encoding= 'unicode_escape' to read 'kvb 01012010'.\n",
    "    df     = pd.read_csv(filepath_or_buffer = c_path + v_file[i] + \".csv\",\n",
    "                         sep                = ';',\n",
    "                         decimal            = c_decimal,\n",
    "                         encoding           = 'unicode_escape')\n",
    "    \n",
    "    print(c_path + v_file[i] + \".csv\")\n",
    "    print(c_decimal)\n",
    "    \n",
    "    # Return data.\n",
    "    return df"
   ]
  },
  {
   "cell_type": "markdown",
   "metadata": {
    "id": "-zXWuFInRee5"
   },
   "source": [
    "### Importing data\n",
    "Import the data by selecting the index of the file in v_file in f_get_data."
   ]
  },
  {
   "cell_type": "code",
   "execution_count": 27,
   "metadata": {},
   "outputs": [
    {
     "name": "stdout",
     "output_type": "stream",
     "text": [
      "../../src/data/github-data/Enexis_decentrale_opwek_kv_(zon_pv)_01012020.csv\n",
      ".\n"
     ]
    }
   ],
   "source": [
    "df = f_get_data(2)"
   ]
  },
  {
   "cell_type": "markdown",
   "metadata": {},
   "source": [
    "### Downcast data as needed"
   ]
  },
  {
   "cell_type": "code",
   "execution_count": 28,
   "metadata": {},
   "outputs": [
    {
     "name": "stdout",
     "output_type": "stream",
     "text": [
      "The data:\n",
      "\n",
      "-> has size of 1.14 MB.\n",
      "\n",
      "<class 'pandas.core.frame.DataFrame'>\n",
      "RangeIndex: 4647 entries, 0 to 4646\n",
      "Data columns (total 9 columns):\n",
      " #   Column                                     Non-Null Count  Dtype  \n",
      "---  ------                                     --------------  -----  \n",
      " 0   ï»¿Peildatum                               3890 non-null   float64\n",
      " 1   Netbeheerder                               3890 non-null   object \n",
      " 2   Provincie                                  3889 non-null   object \n",
      " 3   Gemeente                                   3888 non-null   object \n",
      " 4   CBS Buurt                                  3757 non-null   object \n",
      " 5   CBS Buurtcode                              3729 non-null   float64\n",
      " 6   Aantal aansluitingen in CBS-buurt          3890 non-null   float64\n",
      " 7   Aantal aansluitingen met opwekinstallatie  3890 non-null   float64\n",
      " 8   Opgesteld vermogen                         3890 non-null   float64\n",
      "dtypes: float64(5), object(4)\n",
      "memory usage: 326.9+ KB\n"
     ]
    }
   ],
   "source": [
    "# A few basic statistics on the data frame.\n",
    "print(\"The data:\\n\")\n",
    "print(f\"-> has size of {sys.getsizeof(df)/1024.0/1024.0:0.2f} MB.\")\n",
    "print(\"\")\n",
    "\n",
    "df.info()"
   ]
  },
  {
   "cell_type": "code",
   "execution_count": 29,
   "metadata": {},
   "outputs": [
    {
     "name": "stdout",
     "output_type": "stream",
     "text": [
      "\n",
      "change: integer --> unsigned\n",
      "\n",
      "change: float --> float\n",
      "ï»¿Peildatum\n",
      "CBS Buurtcode\n",
      "Aantal aansluitingen in CBS-buurt \n",
      "Aantal aansluitingen met opwekinstallatie\n",
      "Opgesteld vermogen\n"
     ]
    }
   ],
   "source": [
    "# objects to categorical - Not applicable here because there are no 'object' features\n",
    "df[df.select_dtypes(include='object').columns] = df.select_dtypes(include='object').astype('category')\n",
    "\n",
    "# convert integers to smallest unsigned integer and floats to smallest\n",
    "for old, new in [('integer', 'unsigned'), ('float', 'float')]:\n",
    "    \n",
    "    print(\"\\nchange: \" + old + \" --> \" + new)\n",
    "    \n",
    "    for col in df.select_dtypes(include=old).columns:\n",
    "        \n",
    "        print(col)\n",
    "        \n",
    "        df[col] = pd.to_numeric(df[col], downcast=new)"
   ]
  },
  {
   "cell_type": "code",
   "execution_count": 30,
   "metadata": {},
   "outputs": [
    {
     "name": "stdout",
     "output_type": "stream",
     "text": [
      "<class 'pandas.core.frame.DataFrame'>\n",
      "RangeIndex: 4647 entries, 0 to 4646\n",
      "Data columns (total 9 columns):\n",
      " #   Column                                     Non-Null Count  Dtype   \n",
      "---  ------                                     --------------  -----   \n",
      " 0   ï»¿Peildatum                               3890 non-null   float32 \n",
      " 1   Netbeheerder                               3890 non-null   category\n",
      " 2   Provincie                                  3889 non-null   category\n",
      " 3   Gemeente                                   3888 non-null   category\n",
      " 4   CBS Buurt                                  3757 non-null   category\n",
      " 5   CBS Buurtcode                              3729 non-null   float64 \n",
      " 6   Aantal aansluitingen in CBS-buurt          3890 non-null   float32 \n",
      " 7   Aantal aansluitingen met opwekinstallatie  3890 non-null   float32 \n",
      " 8   Opgesteld vermogen                         3890 non-null   float32 \n",
      "dtypes: category(4), float32(4), float64(1)\n",
      "memory usage: 299.2 KB\n"
     ]
    }
   ],
   "source": [
    "df.info()"
   ]
  },
  {
   "cell_type": "markdown",
   "metadata": {
    "id": "JRjToxz4Rb3h"
   },
   "source": [
    "### Some Statistics:"
   ]
  },
  {
   "cell_type": "code",
   "execution_count": 31,
   "metadata": {
    "colab": {
     "base_uri": "https://localhost:8080/"
    },
    "executionInfo": {
     "elapsed": 11505,
     "status": "ok",
     "timestamp": 1608136751408,
     "user": {
      "displayName": "pi1234",
      "photoUrl": "",
      "userId": "00485952581093036663"
     },
     "user_tz": -60
    },
    "id": "HV1Ee1SwSefa",
    "outputId": "d77a35c0-17b1-4328-f216-9a9d85c81220"
   },
   "outputs": [
    {
     "name": "stdout",
     "output_type": "stream",
     "text": [
      "The data:\n",
      "\n",
      "-> contain 0.0 million observations and 9 features.\n",
      "\n",
      "-> contain 4647 observations and 9 features.\n",
      "\n",
      "-> have feature names: ï»¿Peildatum, Netbeheerder, Provincie, Gemeente, CBS Buurt , CBS Buurtcode, Aantal aansluitingen in CBS-buurt , Aantal aansluitingen met opwekinstallatie, and Opgesteld vermogen.\n",
      "\n",
      "-> has size of 0.50 MB.\n"
     ]
    }
   ],
   "source": [
    "print(\"The data:\\n\")\n",
    "print(f\"-> contain {df.shape[0]/1e6:0.1f} million observations and {df.shape[1]} features.\\n\")\n",
    "print(f\"-> contain {df.shape[0]} observations and {df.shape[1]} features.\\n\")\n",
    "print(f\"-> have feature names: {f_concat(df.columns)}.\\n\")\n",
    "print(f\"-> has size of {sys.getsizeof(df)/1024.0/1024.0:0.2f} MB.\")"
   ]
  },
  {
   "cell_type": "code",
   "execution_count": 34,
   "metadata": {},
   "outputs": [
    {
     "name": "stdout",
     "output_type": "stream",
     "text": [
      "First 10 rows in de data:\n"
     ]
    },
    {
     "data": {
      "text/html": [
       "<div>\n",
       "<style scoped>\n",
       "    .dataframe tbody tr th:only-of-type {\n",
       "        vertical-align: middle;\n",
       "    }\n",
       "\n",
       "    .dataframe tbody tr th {\n",
       "        vertical-align: top;\n",
       "    }\n",
       "\n",
       "    .dataframe thead th {\n",
       "        text-align: right;\n",
       "    }\n",
       "</style>\n",
       "<table border=\"1\" class=\"dataframe\">\n",
       "  <thead>\n",
       "    <tr style=\"text-align: right;\">\n",
       "      <th></th>\n",
       "      <th>ï»¿Peildatum</th>\n",
       "      <th>Netbeheerder</th>\n",
       "      <th>Provincie</th>\n",
       "      <th>Gemeente</th>\n",
       "      <th>CBS Buurt</th>\n",
       "      <th>CBS Buurtcode</th>\n",
       "      <th>Aantal aansluitingen in CBS-buurt</th>\n",
       "      <th>Aantal aansluitingen met opwekinstallatie</th>\n",
       "      <th>Opgesteld vermogen</th>\n",
       "    </tr>\n",
       "  </thead>\n",
       "  <tbody>\n",
       "    <tr>\n",
       "      <th>0</th>\n",
       "      <td>202001.0</td>\n",
       "      <td>Enexis</td>\n",
       "      <td>Groningen</td>\n",
       "      <td>Appingedam</td>\n",
       "      <td>Appingedam-Centrum</td>\n",
       "      <td>30000.0</td>\n",
       "      <td>1.480</td>\n",
       "      <td>155.0</td>\n",
       "      <td>507.000</td>\n",
       "    </tr>\n",
       "    <tr>\n",
       "      <th>1</th>\n",
       "      <td>202001.0</td>\n",
       "      <td>Enexis</td>\n",
       "      <td>Groningen</td>\n",
       "      <td>Appingedam</td>\n",
       "      <td>Appingedam-West</td>\n",
       "      <td>30001.0</td>\n",
       "      <td>1.331</td>\n",
       "      <td>479.0</td>\n",
       "      <td>1.685</td>\n",
       "    </tr>\n",
       "    <tr>\n",
       "      <th>2</th>\n",
       "      <td>202001.0</td>\n",
       "      <td>Enexis</td>\n",
       "      <td>Groningen</td>\n",
       "      <td>Appingedam</td>\n",
       "      <td>Appingedam-Oost</td>\n",
       "      <td>30002.0</td>\n",
       "      <td>2.826</td>\n",
       "      <td>439.0</td>\n",
       "      <td>1.616</td>\n",
       "    </tr>\n",
       "    <tr>\n",
       "      <th>3</th>\n",
       "      <td>202001.0</td>\n",
       "      <td>Enexis</td>\n",
       "      <td>Groningen</td>\n",
       "      <td>Appingedam</td>\n",
       "      <td>Verspreide huizen Damsterdiep en Eemskanaal</td>\n",
       "      <td>30007.0</td>\n",
       "      <td>230.000</td>\n",
       "      <td>97.0</td>\n",
       "      <td>405.000</td>\n",
       "    </tr>\n",
       "    <tr>\n",
       "      <th>4</th>\n",
       "      <td>202001.0</td>\n",
       "      <td>Enexis</td>\n",
       "      <td>Groningen</td>\n",
       "      <td>Appingedam</td>\n",
       "      <td>Verspreide huizen ten zuiden van Eemskanaal</td>\n",
       "      <td>30008.0</td>\n",
       "      <td>102.000</td>\n",
       "      <td>21.0</td>\n",
       "      <td>61.000</td>\n",
       "    </tr>\n",
       "    <tr>\n",
       "      <th>5</th>\n",
       "      <td>202001.0</td>\n",
       "      <td>Enexis</td>\n",
       "      <td>Groningen</td>\n",
       "      <td>Appingedam</td>\n",
       "      <td>Verspreide huizen ten noorden van het Damsterdiep</td>\n",
       "      <td>30009.0</td>\n",
       "      <td>137.000</td>\n",
       "      <td>31.0</td>\n",
       "      <td>166.000</td>\n",
       "    </tr>\n",
       "    <tr>\n",
       "      <th>6</th>\n",
       "      <td>202001.0</td>\n",
       "      <td>Enexis</td>\n",
       "      <td>Groningen</td>\n",
       "      <td>Groningen</td>\n",
       "      <td>Ten Boer</td>\n",
       "      <td>90000.0</td>\n",
       "      <td>1.732</td>\n",
       "      <td>534.0</td>\n",
       "      <td>1.656</td>\n",
       "    </tr>\n",
       "    <tr>\n",
       "      <th>7</th>\n",
       "      <td>202001.0</td>\n",
       "      <td>Enexis</td>\n",
       "      <td>Groningen</td>\n",
       "      <td>Groningen</td>\n",
       "      <td>Sint-Annen</td>\n",
       "      <td>90003.0</td>\n",
       "      <td>58.000</td>\n",
       "      <td>24.0</td>\n",
       "      <td>93.000</td>\n",
       "    </tr>\n",
       "    <tr>\n",
       "      <th>8</th>\n",
       "      <td>202001.0</td>\n",
       "      <td>Enexis</td>\n",
       "      <td>Groningen</td>\n",
       "      <td>Groningen</td>\n",
       "      <td>Verspreide huizen ten noorden van het Eemskanaal</td>\n",
       "      <td>90009.0</td>\n",
       "      <td>488.000</td>\n",
       "      <td>196.0</td>\n",
       "      <td>1.109</td>\n",
       "    </tr>\n",
       "    <tr>\n",
       "      <th>9</th>\n",
       "      <td>202001.0</td>\n",
       "      <td>Enexis</td>\n",
       "      <td>Groningen</td>\n",
       "      <td>Groningen</td>\n",
       "      <td>Ten Post</td>\n",
       "      <td>90100.0</td>\n",
       "      <td>266.000</td>\n",
       "      <td>107.0</td>\n",
       "      <td>585.000</td>\n",
       "    </tr>\n",
       "  </tbody>\n",
       "</table>\n",
       "</div>"
      ],
      "text/plain": [
       "   ï»¿Peildatum Netbeheerder  Provincie    Gemeente  \\\n",
       "0      202001.0       Enexis  Groningen  Appingedam   \n",
       "1      202001.0       Enexis  Groningen  Appingedam   \n",
       "2      202001.0       Enexis  Groningen  Appingedam   \n",
       "3      202001.0       Enexis  Groningen  Appingedam   \n",
       "4      202001.0       Enexis  Groningen  Appingedam   \n",
       "5      202001.0       Enexis  Groningen  Appingedam   \n",
       "6      202001.0       Enexis  Groningen   Groningen   \n",
       "7      202001.0       Enexis  Groningen   Groningen   \n",
       "8      202001.0       Enexis  Groningen   Groningen   \n",
       "9      202001.0       Enexis  Groningen   Groningen   \n",
       "\n",
       "                                          CBS Buurt   CBS Buurtcode  \\\n",
       "0                                 Appingedam-Centrum        30000.0   \n",
       "1                                    Appingedam-West        30001.0   \n",
       "2                                    Appingedam-Oost        30002.0   \n",
       "3        Verspreide huizen Damsterdiep en Eemskanaal        30007.0   \n",
       "4        Verspreide huizen ten zuiden van Eemskanaal        30008.0   \n",
       "5  Verspreide huizen ten noorden van het Damsterdiep        30009.0   \n",
       "6                                           Ten Boer        90000.0   \n",
       "7                                         Sint-Annen        90003.0   \n",
       "8   Verspreide huizen ten noorden van het Eemskanaal        90009.0   \n",
       "9                                           Ten Post        90100.0   \n",
       "\n",
       "   Aantal aansluitingen in CBS-buurt   \\\n",
       "0                               1.480   \n",
       "1                               1.331   \n",
       "2                               2.826   \n",
       "3                             230.000   \n",
       "4                             102.000   \n",
       "5                             137.000   \n",
       "6                               1.732   \n",
       "7                              58.000   \n",
       "8                             488.000   \n",
       "9                             266.000   \n",
       "\n",
       "   Aantal aansluitingen met opwekinstallatie  Opgesteld vermogen  \n",
       "0                                      155.0             507.000  \n",
       "1                                      479.0               1.685  \n",
       "2                                      439.0               1.616  \n",
       "3                                       97.0             405.000  \n",
       "4                                       21.0              61.000  \n",
       "5                                       31.0             166.000  \n",
       "6                                      534.0               1.656  \n",
       "7                                       24.0              93.000  \n",
       "8                                      196.0               1.109  \n",
       "9                                      107.0             585.000  "
      ]
     },
     "metadata": {},
     "output_type": "display_data"
    },
    {
     "name": "stdout",
     "output_type": "stream",
     "text": [
      "Numerical data:\n"
     ]
    },
    {
     "data": {
      "text/html": [
       "<div>\n",
       "<style scoped>\n",
       "    .dataframe tbody tr th:only-of-type {\n",
       "        vertical-align: middle;\n",
       "    }\n",
       "\n",
       "    .dataframe tbody tr th {\n",
       "        vertical-align: top;\n",
       "    }\n",
       "\n",
       "    .dataframe thead th {\n",
       "        text-align: right;\n",
       "    }\n",
       "</style>\n",
       "<table border=\"1\" class=\"dataframe\">\n",
       "  <thead>\n",
       "    <tr style=\"text-align: right;\">\n",
       "      <th></th>\n",
       "      <th>ï»¿Peildatum</th>\n",
       "      <th>CBS Buurtcode</th>\n",
       "      <th>Aantal aansluitingen in CBS-buurt</th>\n",
       "      <th>Aantal aansluitingen met opwekinstallatie</th>\n",
       "      <th>Opgesteld vermogen</th>\n",
       "    </tr>\n",
       "  </thead>\n",
       "  <tbody>\n",
       "    <tr>\n",
       "      <th>count</th>\n",
       "      <td>3890.0</td>\n",
       "      <td>3.729000e+03</td>\n",
       "      <td>3890.000000</td>\n",
       "      <td>3890.000000</td>\n",
       "      <td>3890.000000</td>\n",
       "    </tr>\n",
       "    <tr>\n",
       "      <th>mean</th>\n",
       "      <td>202001.0</td>\n",
       "      <td>9.669277e+06</td>\n",
       "      <td>267.369598</td>\n",
       "      <td>101.218048</td>\n",
       "      <td>293.752869</td>\n",
       "    </tr>\n",
       "    <tr>\n",
       "      <th>std</th>\n",
       "      <td>0.0</td>\n",
       "      <td>6.547942e+06</td>\n",
       "      <td>268.376007</td>\n",
       "      <td>115.934532</td>\n",
       "      <td>232.853012</td>\n",
       "    </tr>\n",
       "    <tr>\n",
       "      <th>min</th>\n",
       "      <td>202001.0</td>\n",
       "      <td>3.000000e+04</td>\n",
       "      <td>1.002000</td>\n",
       "      <td>1.007000</td>\n",
       "      <td>1.006000</td>\n",
       "    </tr>\n",
       "    <tr>\n",
       "      <th>25%</th>\n",
       "      <td>202001.0</td>\n",
       "      <td>1.890107e+06</td>\n",
       "      <td>45.250000</td>\n",
       "      <td>27.000000</td>\n",
       "      <td>116.000000</td>\n",
       "    </tr>\n",
       "    <tr>\n",
       "      <th>50%</th>\n",
       "      <td>202001.0</td>\n",
       "      <td>8.551707e+06</td>\n",
       "      <td>183.000000</td>\n",
       "      <td>59.000000</td>\n",
       "      <td>236.500000</td>\n",
       "    </tr>\n",
       "    <tr>\n",
       "      <th>75%</th>\n",
       "      <td>202001.0</td>\n",
       "      <td>1.690060e+07</td>\n",
       "      <td>419.000000</td>\n",
       "      <td>130.000000</td>\n",
       "      <td>432.000000</td>\n",
       "    </tr>\n",
       "    <tr>\n",
       "      <th>max</th>\n",
       "      <td>202001.0</td>\n",
       "      <td>1.987031e+07</td>\n",
       "      <td>999.000000</td>\n",
       "      <td>958.000000</td>\n",
       "      <td>998.000000</td>\n",
       "    </tr>\n",
       "  </tbody>\n",
       "</table>\n",
       "</div>"
      ],
      "text/plain": [
       "       ï»¿Peildatum  CBS Buurtcode  Aantal aansluitingen in CBS-buurt   \\\n",
       "count        3890.0   3.729000e+03                         3890.000000   \n",
       "mean       202001.0   9.669277e+06                          267.369598   \n",
       "std             0.0   6.547942e+06                          268.376007   \n",
       "min        202001.0   3.000000e+04                            1.002000   \n",
       "25%        202001.0   1.890107e+06                           45.250000   \n",
       "50%        202001.0   8.551707e+06                          183.000000   \n",
       "75%        202001.0   1.690060e+07                          419.000000   \n",
       "max        202001.0   1.987031e+07                          999.000000   \n",
       "\n",
       "       Aantal aansluitingen met opwekinstallatie  Opgesteld vermogen  \n",
       "count                                3890.000000         3890.000000  \n",
       "mean                                  101.218048          293.752869  \n",
       "std                                   115.934532          232.853012  \n",
       "min                                     1.007000            1.006000  \n",
       "25%                                    27.000000          116.000000  \n",
       "50%                                    59.000000          236.500000  \n",
       "75%                                   130.000000          432.000000  \n",
       "max                                   958.000000          998.000000  "
      ]
     },
     "metadata": {},
     "output_type": "display_data"
    },
    {
     "name": "stdout",
     "output_type": "stream",
     "text": [
      "Textual data:\n"
     ]
    },
    {
     "data": {
      "text/html": [
       "<div>\n",
       "<style scoped>\n",
       "    .dataframe tbody tr th:only-of-type {\n",
       "        vertical-align: middle;\n",
       "    }\n",
       "\n",
       "    .dataframe tbody tr th {\n",
       "        vertical-align: top;\n",
       "    }\n",
       "\n",
       "    .dataframe thead th {\n",
       "        text-align: right;\n",
       "    }\n",
       "</style>\n",
       "<table border=\"1\" class=\"dataframe\">\n",
       "  <thead>\n",
       "    <tr style=\"text-align: right;\">\n",
       "      <th></th>\n",
       "      <th>Netbeheerder</th>\n",
       "      <th>Provincie</th>\n",
       "      <th>Gemeente</th>\n",
       "      <th>CBS Buurt</th>\n",
       "    </tr>\n",
       "  </thead>\n",
       "  <tbody>\n",
       "    <tr>\n",
       "      <th>count</th>\n",
       "      <td>3890</td>\n",
       "      <td>3889</td>\n",
       "      <td>3888</td>\n",
       "      <td>3757</td>\n",
       "    </tr>\n",
       "    <tr>\n",
       "      <th>unique</th>\n",
       "      <td>1</td>\n",
       "      <td>5</td>\n",
       "      <td>142</td>\n",
       "      <td>3632</td>\n",
       "    </tr>\n",
       "    <tr>\n",
       "      <th>top</th>\n",
       "      <td>Enexis</td>\n",
       "      <td>Noord-Brabant</td>\n",
       "      <td>Groningen</td>\n",
       "      <td>Centrum</td>\n",
       "    </tr>\n",
       "    <tr>\n",
       "      <th>freq</th>\n",
       "      <td>3890</td>\n",
       "      <td>1394</td>\n",
       "      <td>98</td>\n",
       "      <td>17</td>\n",
       "    </tr>\n",
       "  </tbody>\n",
       "</table>\n",
       "</div>"
      ],
      "text/plain": [
       "       Netbeheerder      Provincie   Gemeente CBS Buurt \n",
       "count          3890           3889       3888       3757\n",
       "unique            1              5        142       3632\n",
       "top          Enexis  Noord-Brabant  Groningen    Centrum\n",
       "freq           3890           1394         98         17"
      ]
     },
     "metadata": {},
     "output_type": "display_data"
    },
    {
     "name": "stdout",
     "output_type": "stream",
     "text": [
      "Features and their number of missing values:\n"
     ]
    },
    {
     "data": {
      "text/plain": [
       "'ï»¿Peildatum (757, 16.3%), Netbeheerder (757, 16.3%), Provincie (758, 16.3%), Gemeente (759, 16.3%), CBS Buurt  (890, 19.2%), CBS Buurtcode (918, 19.8%), Aantal aansluitingen in CBS-buurt  (757, 16.3%), Aantal aansluitingen met opwekinstallatie (757, 16.3%), and Opgesteld vermogen (757, 16.3%)'"
      ]
     },
     "metadata": {},
     "output_type": "display_data"
    },
    {
     "name": "stdout",
     "output_type": "stream",
     "text": [
      "2.2.3\n"
     ]
    }
   ],
   "source": [
    "f_describe(df)\n",
    "print(pd.__version__)"
   ]
  },
  {
   "cell_type": "code",
   "execution_count": 33,
   "metadata": {
    "colab": {
     "base_uri": "https://localhost:8080/",
     "height": 297
    },
    "executionInfo": {
     "elapsed": 29137,
     "status": "ok",
     "timestamp": 1608136587803,
     "user": {
      "displayName": "pi1234",
      "photoUrl": "",
      "userId": "00485952581093036663"
     },
     "user_tz": -60
    },
    "id": "BdzdN9Qi9hjw",
    "outputId": "33222be8-68da-4d56-ffe4-00c6175740fc"
   },
   "outputs": [
    {
     "name": "stdout",
     "output_type": "stream",
     "text": [
      "Frequentietabel voor 'Netbeheerder', we tonen alle 2 levels:\n",
      "\n",
      "'None': 0 (0.0%)\n",
      "'NA':   757 (16.3%)\n"
     ]
    },
    {
     "ename": "AttributeError",
     "evalue": "'Styler' object has no attribute 'hide_index'",
     "output_type": "error",
     "traceback": [
      "\u001b[0;31m---------------------------------------------------------------------------\u001b[0m",
      "\u001b[0;31mAttributeError\u001b[0m                            Traceback (most recent call last)",
      "Cell \u001b[0;32mIn[33], line 1\u001b[0m\n\u001b[0;32m----> 1\u001b[0m \u001b[43mf_info\u001b[49m\u001b[43m(\u001b[49m\u001b[43mdf\u001b[49m\u001b[43m,\u001b[49m\u001b[43m \u001b[49m\u001b[38;5;124;43m\"\u001b[39;49m\u001b[38;5;124;43mNetbeheerder\u001b[39;49m\u001b[38;5;124;43m\"\u001b[39;49m\u001b[43m)\u001b[49m\n",
      "Cell \u001b[0;32mIn[22], line 51\u001b[0m, in \u001b[0;36mf_info\u001b[0;34m(df_input, c_feature, n_top)\u001b[0m\n\u001b[1;32m     47\u001b[0m \u001b[38;5;28mprint\u001b[39m(\u001b[38;5;124mf\u001b[39m\u001b[38;5;124m\"\u001b[39m\u001b[38;5;124m'\u001b[39m\u001b[38;5;124mNone\u001b[39m\u001b[38;5;124m'\u001b[39m\u001b[38;5;124m: \u001b[39m\u001b[38;5;132;01m{\u001b[39;00mc[\u001b[38;5;28;01mNone\u001b[39;00m]\u001b[38;5;132;01m}\u001b[39;00m\u001b[38;5;124m (\u001b[39m\u001b[38;5;132;01m{\u001b[39;00m\u001b[38;5;28mround\u001b[39m(\u001b[38;5;241m100\u001b[39m\u001b[38;5;250m \u001b[39m\u001b[38;5;241m*\u001b[39m\u001b[38;5;250m \u001b[39mc[\u001b[38;5;28;01mNone\u001b[39;00m]\u001b[38;5;250m \u001b[39m\u001b[38;5;241m/\u001b[39m\u001b[38;5;250m \u001b[39mdf_input\u001b[38;5;241m.\u001b[39mshape[\u001b[38;5;241m0\u001b[39m],\u001b[38;5;250m \u001b[39m\u001b[38;5;241m1\u001b[39m)\u001b[38;5;132;01m}\u001b[39;00m\u001b[38;5;124m%)\u001b[39m\u001b[38;5;124m\"\u001b[39m)\n\u001b[1;32m     49\u001b[0m \u001b[38;5;28mprint\u001b[39m(\u001b[38;5;124mf\u001b[39m\u001b[38;5;124m\"\u001b[39m\u001b[38;5;124m'\u001b[39m\u001b[38;5;124mNA\u001b[39m\u001b[38;5;124m'\u001b[39m\u001b[38;5;124m:   \u001b[39m\u001b[38;5;132;01m{\u001b[39;00mdf_input[c_feature]\u001b[38;5;241m.\u001b[39misna()\u001b[38;5;241m.\u001b[39msum()\u001b[38;5;132;01m}\u001b[39;00m\u001b[38;5;124m (\u001b[39m\u001b[38;5;132;01m{\u001b[39;00m\u001b[38;5;28mround\u001b[39m(\u001b[38;5;241m100\u001b[39m\u001b[38;5;250m \u001b[39m\u001b[38;5;241m*\u001b[39m\u001b[38;5;250m \u001b[39mdf_input[c_feature]\u001b[38;5;241m.\u001b[39misna()\u001b[38;5;241m.\u001b[39msum()\u001b[38;5;250m \u001b[39m\u001b[38;5;241m/\u001b[39m\u001b[38;5;250m \u001b[39mdf_input\u001b[38;5;241m.\u001b[39mshape[\u001b[38;5;241m0\u001b[39m],\u001b[38;5;250m \u001b[39m\u001b[38;5;241m1\u001b[39m)\u001b[38;5;132;01m}\u001b[39;00m\u001b[38;5;124m%)\u001b[39m\u001b[38;5;124m\"\u001b[39m)\n\u001b[0;32m---> 51\u001b[0m display(\u001b[43mdf_output\u001b[49m\u001b[38;5;241;43m.\u001b[39;49m\u001b[43mhead\u001b[49m\u001b[43m(\u001b[49m\u001b[43mn_top\u001b[49m\u001b[43m)\u001b[49m\u001b[38;5;241;43m.\u001b[39;49m\u001b[43mstyle\u001b[49m\u001b[38;5;241;43m.\u001b[39;49m\u001b[43mhide_index\u001b[49m())\n\u001b[1;32m     53\u001b[0m plt\u001b[38;5;241m.\u001b[39mhist(df[\u001b[38;5;124m\"\u001b[39m\u001b[38;5;124myear\u001b[39m\u001b[38;5;124m\"\u001b[39m], bins\u001b[38;5;241m=\u001b[39m\u001b[38;5;241m10\u001b[39m, orientation\u001b[38;5;241m=\u001b[39m\u001b[38;5;124m'\u001b[39m\u001b[38;5;124mhorizontal\u001b[39m\u001b[38;5;124m'\u001b[39m) \u001b[38;5;66;03m#plt.show()\u001b[39;00m\n\u001b[1;32m     55\u001b[0m \u001b[38;5;66;03m# Plot frequency if count is smaller than 20.\u001b[39;00m\n",
      "\u001b[0;31mAttributeError\u001b[0m: 'Styler' object has no attribute 'hide_index'"
     ]
    }
   ],
   "source": [
    "f_info(df, \"Netbeheerder\")"
   ]
  },
  {
   "cell_type": "code",
   "execution_count": null,
   "metadata": {},
   "outputs": [],
   "source": []
  }
 ],
 "metadata": {
  "colab": {
   "authorship_tag": "ABX9TyP1XEh6OeJMgPK4tWBSiOU8",
   "collapsed_sections": [],
   "mount_file_id": "1tas4gpn15avV6RH91pDuPfl4mfnjqven",
   "name": "Copy of 2020 12 13 - EyeOn Supermarket - v1.ipynb",
   "provenance": [
    {
     "file_id": "1tas4gpn15avV6RH91pDuPfl4mfnjqven",
     "timestamp": 1608148229653
    }
   ],
   "toc_visible": true
  },
  "kernelspec": {
   "display_name": "enexis-data-visualization",
   "language": "python",
   "name": "python3"
  },
  "language_info": {
   "codemirror_mode": {
    "name": "ipython",
    "version": 3
   },
   "file_extension": ".py",
   "mimetype": "text/x-python",
   "name": "python",
   "nbconvert_exporter": "python",
   "pygments_lexer": "ipython3",
   "version": "3.12.7"
  }
 },
 "nbformat": 4,
 "nbformat_minor": 4
}
