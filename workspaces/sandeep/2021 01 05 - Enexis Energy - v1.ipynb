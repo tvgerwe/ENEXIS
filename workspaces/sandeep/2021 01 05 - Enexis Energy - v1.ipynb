{
 "cells": [
  {
   "cell_type": "markdown",
   "metadata": {
    "id": "PpLWCBFNuons"
   },
   "source": [
    "# Enexis Energy - Data Science case study - Bird's eye view of the data"
   ]
  },
  {
   "cell_type": "code",
   "execution_count": 1,
   "metadata": {
    "executionInfo": {
     "elapsed": 698,
     "status": "ok",
     "timestamp": 1608147217503,
     "user": {
      "displayName": "pi1234",
      "photoUrl": "",
      "userId": "00485952581093036663"
     },
     "user_tz": -60
    },
    "id": "r_EATkKHugiZ"
   },
   "outputs": [
    {
     "name": "stdout",
     "output_type": "stream",
     "text": [
      "Requirement already satisfied: pandas in /opt/miniconda3/envs/enexis-data-visualization/lib/python3.12/site-packages (2.2.3)\n",
      "Requirement already satisfied: matplotlib in /opt/miniconda3/envs/enexis-data-visualization/lib/python3.12/site-packages (3.10.0)\n",
      "Requirement already satisfied: numpy>=1.26.0 in /opt/miniconda3/envs/enexis-data-visualization/lib/python3.12/site-packages (from pandas) (2.2.0)\n",
      "Requirement already satisfied: python-dateutil>=2.8.2 in /opt/miniconda3/envs/enexis-data-visualization/lib/python3.12/site-packages (from pandas) (2.9.0.post0)\n",
      "Requirement already satisfied: pytz>=2020.1 in /opt/miniconda3/envs/enexis-data-visualization/lib/python3.12/site-packages (from pandas) (2024.2)\n",
      "Requirement already satisfied: tzdata>=2022.7 in /opt/miniconda3/envs/enexis-data-visualization/lib/python3.12/site-packages (from pandas) (2024.2)\n",
      "Requirement already satisfied: contourpy>=1.0.1 in /opt/miniconda3/envs/enexis-data-visualization/lib/python3.12/site-packages (from matplotlib) (1.3.1)\n",
      "Requirement already satisfied: cycler>=0.10 in /opt/miniconda3/envs/enexis-data-visualization/lib/python3.12/site-packages (from matplotlib) (0.12.1)\n",
      "Requirement already satisfied: fonttools>=4.22.0 in /opt/miniconda3/envs/enexis-data-visualization/lib/python3.12/site-packages (from matplotlib) (4.55.3)\n",
      "Requirement already satisfied: kiwisolver>=1.3.1 in /opt/miniconda3/envs/enexis-data-visualization/lib/python3.12/site-packages (from matplotlib) (1.4.7)\n",
      "Requirement already satisfied: packaging>=20.0 in /opt/miniconda3/envs/enexis-data-visualization/lib/python3.12/site-packages (from matplotlib) (24.2)\n",
      "Requirement already satisfied: pillow>=8 in /opt/miniconda3/envs/enexis-data-visualization/lib/python3.12/site-packages (from matplotlib) (11.0.0)\n",
      "Requirement already satisfied: pyparsing>=2.3.1 in /opt/miniconda3/envs/enexis-data-visualization/lib/python3.12/site-packages (from matplotlib) (3.2.0)\n",
      "Requirement already satisfied: six>=1.5 in /opt/miniconda3/envs/enexis-data-visualization/lib/python3.12/site-packages (from python-dateutil>=2.8.2->pandas) (1.17.0)\n",
      "Note: you may need to restart the kernel to use updated packages.\n"
     ]
    }
   ],
   "source": [
    "%pip install pandas matplotlib"
   ]
  },
  {
   "cell_type": "markdown",
   "metadata": {
    "id": "PPQo8za16cQT"
   },
   "source": [
    "### Importing packages"
   ]
  },
  {
   "cell_type": "code",
   "execution_count": 2,
   "metadata": {
    "executionInfo": {
     "elapsed": 696,
     "status": "ok",
     "timestamp": 1608147217504,
     "user": {
      "displayName": "pi1234",
      "photoUrl": "",
      "userId": "00485952581093036663"
     },
     "user_tz": -60
    },
    "id": "OlwScieYRTmf"
   },
   "outputs": [],
   "source": [
    "import pandas as pd\n",
    "import sys\n",
    "import matplotlib.pyplot as plt\n",
    "import numpy as np      # Numeric calculations"
   ]
  },
  {
   "cell_type": "markdown",
   "metadata": {
    "id": "Dm7aDtim6guo"
   },
   "source": [
    "### Functions"
   ]
  },
  {
   "cell_type": "code",
   "execution_count": 3,
   "metadata": {
    "executionInfo": {
     "elapsed": 695,
     "status": "ok",
     "timestamp": 1608147217505,
     "user": {
      "displayName": "pi1234",
      "photoUrl": "",
      "userId": "00485952581093036663"
     },
     "user_tz": -60
    },
    "id": "f1PDhgg8ZBbf"
   },
   "outputs": [],
   "source": [
    "def f_concat(l_input):\n",
    "\n",
    "    # Initialize.\n",
    "    dummy = \"\"\n",
    "    n_len = len(l_input)\n",
    "    \n",
    "    if n_len == 1:\n",
    "        return l_input[0]\n",
    "\n",
    "    # Loop through text elements.\n",
    "    for i in range(n_len-1):\n",
    "        dummy = dummy + l_input[i] + \", \"\n",
    "\n",
    "    # Append last element.\n",
    "    dummy = dummy + \"and \" + l_input[n_len-1]\n",
    "\n",
    "    # Return result.\n",
    "    return dummy\n",
    "\n",
    "# Function to impute median value in missing numerical data\n",
    "def f_impute_numerical_values(df_input):\n",
    "    df_imputed_num = df_input.replace(np.nan, df_input.median())\n",
    "    return df_imputed_num\n",
    "\n",
    "\n",
    "# Function to impute \"Unknown\" value in missing categorical data\n",
    "def f_impute_categorical_values(df_input):\n",
    "    c_replace_by = \"Unknown\"\n",
    "    # Replace using fillna():\n",
    "    df_imputed_cat = df_input.fillna(c_replace_by)\n",
    "    return df_imputed_cat"
   ]
  },
  {
   "cell_type": "code",
   "execution_count": 4,
   "metadata": {
    "executionInfo": {
     "elapsed": 765,
     "status": "ok",
     "timestamp": 1608147219439,
     "user": {
      "displayName": "pi1234",
      "photoUrl": "",
      "userId": "00485952581093036663"
     },
     "user_tz": -60
    },
    "id": "hp-PONLQV4Rp"
   },
   "outputs": [],
   "source": [
    "def f_info(df_input, c_feature, n_top =  10):\n",
    "\n",
    "    # Testing!\n",
    "    # df_input  = df_historyPerYear\n",
    "    # c_feature = \"year\"\n",
    "    # n_top     = 3\n",
    "\n",
    "    # Do not calculate the frequency table in case the feature has unique values.\n",
    "    if(df_input[c_feature].is_unique):\n",
    "        print(\"Feature '\" + c_feature + \"' is unique.\")\n",
    "        return\n",
    "\n",
    "\n",
    "    # Load package.\n",
    "    from collections import Counter\n",
    "\n",
    "    # Bereken frequenties.\n",
    "    c = Counter(df_input[c_feature])\n",
    "\n",
    "    # Converteer naar data frame.\n",
    "    df_output         = pd.DataFrame(list(c.items()))\n",
    "\n",
    "    # Hernoem kolomnamen.\n",
    "    df_output.columns = [\"level\", \"n\"]\n",
    "\n",
    "    # Bereken percentage.\n",
    "    df_output[\"perc\"] = round(100 * df_output[\"n\"] / df_input.shape[0], 1).astype(str) + \"%\"\n",
    "\n",
    "    # Sorteer data frame op frequentie.\n",
    "    df_output         = df_output.sort_values(by = \"n\", ascending = False)\n",
    "\n",
    "    # Reset index en verwijder index kolom die daardoor ontstaat.\n",
    "    df_output         = df_output.reset_index().drop(columns=['index'])\n",
    "\n",
    "    # Display tabel zonder index.\n",
    "    # https://stackoverflow.com/questions/61363712/how-to-print-a-pandas-io-formats-style-styler-object\n",
    "    if(df_output.shape[0] <= n_top):\n",
    "        c.message = \"we tonen alle \" + str(df_output.shape[0]) + \" levels:\"\n",
    "        \n",
    "    else:\n",
    "        c.message = \"we tonen de Top-\" + str(n_top) + \" van de \" + str(df_output.shape[0]) + \" levels:\"\n",
    "\n",
    "        \n",
    "    # Print header\n",
    "    print(\"Frequentietabel voor '\" + c_feature + \"', \" + c.message + \"\\n\")\n",
    "        \n",
    "    print(f\"'None': {c[None]} ({round(100 * c[None] / df_input.shape[0], 1)}%)\")\n",
    "\n",
    "    print(f\"'NA':   {df_input[c_feature].isna().sum()} ({round(100 * df_input[c_feature].isna().sum() / df_input.shape[0], 1)}%)\")\n",
    "            \n",
    "    display(df_output.head(n_top).style.hide_index())\n",
    "    \n",
    "    plt.hist(df[\"year\"], bins=10, orientation='horizontal') #plt.show()\n",
    "\n",
    "    # Plot frequency if count is smaller than 20.\n",
    "    v_data_to_plot = df[c_feature].value_counts(sort = True)[0:n_top]\n",
    "    \n",
    "    # https://stackoverflow.com/questions/36367986/how-to-make-inline-plots-in-jupyter-notebook-larger\n",
    "    plt.rcParams['figure.figsize'] = [15, 5]\n",
    "    \n",
    "    fig, ax = plt.subplots()\n",
    "    v_data_to_plot.plot(kind='bar', ax=ax)  \n",
    "    plt.show()\n",
    "    "
   ]
  },
  {
   "cell_type": "code",
   "execution_count": 6,
   "metadata": {},
   "outputs": [
    {
     "name": "stdout",
     "output_type": "stream",
     "text": [
      "['Peildatum', 'CBS Buurtcode', 'Aantal aansluitingen in CBS-buurt ', 'Aantal aansluitingen met opwekinstallatie', 'Opgesteld vermogen']\n",
      "Peildatum                                              202001.0\n",
      "Netbeheerder                                             Enexis\n",
      "Provincie                                             Groningen\n",
      "Gemeente                                             Appingedam\n",
      "CBS Buurt                                    Appingedam-Centrum\n",
      "CBS Buurtcode                                           30000.0\n",
      "Aantal aansluitingen in CBS-buurt                          1.48\n",
      "Aantal aansluitingen met opwekinstallatie                 155.0\n",
      "Opgesteld vermogen                                        507.0\n",
      "Name: 0, dtype: object\n",
      "\n",
      "Number of numerical variables: 5\n",
      "['Netbeheerder', 'Provincie', 'Gemeente', 'CBS Buurt ']\n",
      "\n",
      "Number of categorical variables: 4\n",
      "Number of variables having missing data: 9 (out of 9)\n",
      "Number of variables having missing data in df_imputed: 4647 (out of 9)\n",
      "Median values in original numerical data (first five variables):\n",
      "Peildatum                                     202001.0\n",
      "CBS Buurtcode                                8551707.0\n",
      "Aantal aansluitingen in CBS-buurt                183.0\n",
      "Aantal aansluitingen met opwekinstallatie         59.0\n",
      "Opgesteld vermogen                               236.5\n",
      "dtype: float64\n"
     ]
    }
   ],
   "source": [
    "\n",
    "\n",
    "# Load local data - How to do it\n",
    "df_orig = pd.read_csv(\n",
    "    \"../../src/data/github-data/Enexis_decentrale_opwek_kv_(zon_pv)_01012020.csv\"\n",
    ", delimiter=';')\n",
    "\n",
    "# df_orig = pd.read_csv(\n",
    "#    \"/Users/sgawde/work/eaisi-code/enexis-code-repo/ENEXIS/application-project-enexis/data/Enexis_opwekdata_gv_wind_en_zon_11062021.csv\"\n",
    "# , delimiter=';')\n",
    "\n",
    "# df_orig = pd.read_csv(\n",
    "#    \"/Users/sgawde/work/eaisi-code/enexis-code-repo/ENEXIS/application-project-enexis/data/Enexis_opwekdata_gv_wind_en_zon_11062021.csv\"\n",
    "# , delimiter=';')\n",
    "\n",
    "df_orig_num    = df_orig.select_dtypes(include='number')\n",
    "l_df_num_names = df_orig_num.columns.tolist()\n",
    "\n",
    "print(l_df_num_names)\n",
    "# Get the first row as a Series\n",
    "first_row = df_orig.iloc[0]\n",
    "print(first_row)\n",
    "print(f\"\\nNumber of numerical variables: {len(l_df_num_names)}\")\n",
    "\n",
    "df_orig_cat    = df_orig.select_dtypes(include='object')\n",
    "l_df_cat_names = list(df_orig_cat.columns)\n",
    "\n",
    "print(l_df_cat_names)\n",
    "print(f\"\\nNumber of categorical variables: {len(l_df_cat_names)}\")\n",
    "\n",
    "# Pandas Series with type of each variable (variable, column) in df_orig.\n",
    "ps_missing_type    = df_orig.dtypes\n",
    "\n",
    "# Number of missing data per variable.\n",
    "ps_missing_total   = df_orig.isnull().sum()\n",
    "\n",
    "# Percentage of missing per variable.\n",
    "ps_missing_percent = round(100 * ps_missing_total / df_orig.shape[0], 1)\n",
    "\n",
    "\n",
    "# Create table (Pandas DataFrame).\n",
    "df_missing_data = pd.DataFrame({\n",
    "\n",
    "    'data_type':   ps_missing_type,\n",
    "    'empty_total': ps_missing_total,\n",
    "    'empty_perc':  ps_missing_percent\n",
    "})\n",
    "\n",
    "# Sort table by number of missing data in descending order.\n",
    "df_missing_data.sort_values(\n",
    "    by        = 'empty_total',\n",
    "    ascending = False,\n",
    "    inplace   = True\n",
    ")\n",
    "\n",
    "# Remove variables that have no missing values.\n",
    "df_missing_data = df_missing_data.query(\"empty_total > 0\")\n",
    "\n",
    "# Show table.\n",
    "print(\n",
    "    f\"Number of variables having missing data: \"\n",
    "    f\"{df_missing_data.shape[0]} (out of {df_orig.shape[1]})\"\n",
    ")\n",
    "\n",
    "\n",
    "# df_orig_num.info()\n",
    "# df_orig_cat.info()\n",
    "# print(df_orig.columns)\n",
    "\n",
    "df_imputed_num = df_orig_num.replace(np.nan, df_orig_num.median())\n",
    "\n",
    "\n",
    "c_replace_by = \"Unknown\"\n",
    "df_imputed_cat = df_orig_cat.fillna(c_replace_by)\n",
    "\n",
    "df_imputed = pd.concat([df_imputed_cat, df_imputed_num], axis=1)\n",
    "\n",
    "\n",
    "# Show table.\n",
    "print(\n",
    "    f\"Number of variables having missing data in df_imputed: \"\n",
    "    f\"{df_imputed.shape[0]} (out of {df_imputed.shape[1]})\"\n",
    ")\n",
    "\n",
    "\n",
    "# Imput missing values in 'Netbeheerder' (if applicable)\n",
    "# Imput missing values in 'Provincie' (if applicable)\n",
    "# Imput missing values in 'Gemeente' (if applicable)\n",
    "# df_impute_cat = f_impute_categorical_values(df_orig_cat)\n",
    "\n",
    "# Imput missing values in 'Peildatum' (if applicable)\n",
    "# Imput missing values in 'CBS Buurtcode' (if applicable)\n",
    "# Imput missing values in 'Aantal aansluitingen in CBS-buurt ' (if applicable)\n",
    "# Imput missing values in 'Aantal aansluitingen met opwekinstallatie' (if applicable)\n",
    "# Imput missing values in 'Opgesteld vermogen' (if applicable)\n",
    "\n",
    "\n",
    "# Imput missing values in 'Gemeente' (if applicable)\n",
    "# df_orig['Gemeente'] = df_orig['Gemeente'].fillna('Unknown')\n",
    "\n",
    "\n",
    "\n",
    "# Imput missing values in 'Gemeente' (if applicable)\n",
    "print(\"Median values in original numerical data (first five variables):\")\n",
    "print(df_orig_num.median().head(5))\n",
    "\n",
    "\n",
    "\n",
    "# Bar chart for numerical variable grouped by categories\n",
    "# plt.bar(df_orig['Gemeente'], df_orig['Aantal aansluitingen met opwekinstallatie'])\n",
    "# plt.xlabel('Gemeente')\n",
    "# plt.ylabel('Value')\n",
    "# plt.title('Bar Chart for Numerical Variable')\n",
    "# plt.show()\n",
    "\n",
    "\n",
    "\n",
    "# f_info(df_orig, 'Peildatum')\n",
    "#f_info(df_orig.Provincie, n_top=5, b_show_plot=True)\n",
    "#f_info(df_orig['Gemeente'])\n",
    "\n",
    "# df = df_orig\n",
    "# df['transactions'].value_counts(sort = True)[0:10]"
   ]
  },
  {
   "cell_type": "code",
   "execution_count": 6,
   "metadata": {},
   "outputs": [],
   "source": [
    "#f_info(df, \"month\", 15)"
   ]
  },
  {
   "cell_type": "code",
   "execution_count": 7,
   "metadata": {},
   "outputs": [],
   "source": [
    "def f_describe(df_input, n_top = 10):\n",
    "    \n",
    "    print(\"First \" + str(n_top) + \" rows in de data:\")\n",
    "    display(df_input.head(n_top))\n",
    "     \n",
    "    \n",
    "    df_numeric = df_input.select_dtypes(include = ['uint8', 'uint16', 'uint32', 'uint64', 'int8', 'int16', 'int32', 'int64', 'float16', 'float32', 'float64'])\n",
    "\n",
    "    if len(df_numeric.columns):\n",
    "        print(\"Numerical data:\")\n",
    "        display(df_numeric.describe())\n",
    "\n",
    "        \n",
    "    df_textual = df_input.select_dtypes(include = ['category', 'object', 'bool'])\n",
    "\n",
    "    if len(df_textual.columns):\n",
    "        print(\"Textual data:\")\n",
    "        display(df_textual.describe())\n",
    "        \n",
    "        \n",
    "    v_na = [col + \" (\" + str(df[col].isna().sum()) + \", \" + str(round(100 * df[col].isna().sum() / df.shape[0], 1)) + \"%)\" for col in df.columns if df[col].isna().sum() > 0]\n",
    "\n",
    "    if len(v_na) > 0:\n",
    "        print(\"Features and their number of missing values:\")\n",
    "        display(f_concat(v_na))\n"
   ]
  },
  {
   "cell_type": "code",
   "execution_count": 8,
   "metadata": {
    "id": "XaDlRA_wRK0U"
   },
   "outputs": [],
   "source": [
    "def f_get_data(i=0):\n",
    "\n",
    "    # Define path.\n",
    "    c_path = \"../data/\"\n",
    "\n",
    "    # Identify file.\n",
    "    v_file = (\"Enexis_kleinverbruiksgegevens_01012010\",                                          # 0\n",
    "              \"Enexis_kleinverbruiksgegevens_01012020\",                                          # 1\n",
    "              \"Enexis_decentrale_opwek_kv_(zon_pv)_01012020\",                                    # 2\n",
    "              \"Open_Asset_Data_Elektra_CSV/IMKL-Appurtenance_E_Lv_Charging_Point_Noord_ligging\", # 3\n",
    "              \"CBS_PC6_2016_v2\")                                                                 # 4\n",
    "    \n",
    "    \n",
    "    # Assign decimal separator.\n",
    "    if(i in [0, 1]):\n",
    "        c_decimal = \",\"\n",
    "        \n",
    "    else:\n",
    "        c_decimal = \".\"\n",
    "        \n",
    "        \n",
    "    # Load data. Used encoding= 'unicode_escape' to read 'kvb 01012010'.\n",
    "    df     = pd.read_csv(filepath_or_buffer = c_path + v_file[i] + \".csv\",\n",
    "                         sep                = ';',\n",
    "                         decimal            = c_decimal,\n",
    "                         encoding           = 'unicode_escape')\n",
    "    \n",
    "    print(c_path + v_file[i] + \".csv\")\n",
    "    print(c_decimal)\n",
    "    \n",
    "    # Return data.\n",
    "    return df"
   ]
  },
  {
   "cell_type": "markdown",
   "metadata": {
    "id": "-zXWuFInRee5"
   },
   "source": [
    "### Importing data\n",
    "Import the data by selecting the index of the file in v_file in f_get_data."
   ]
  },
  {
   "cell_type": "code",
   "execution_count": null,
   "metadata": {},
   "outputs": [],
   "source": [
    "df = f_get_data(2)"
   ]
  },
  {
   "cell_type": "markdown",
   "metadata": {},
   "source": [
    "### Downcast data as needed"
   ]
  },
  {
   "cell_type": "code",
   "execution_count": null,
   "metadata": {},
   "outputs": [],
   "source": [
    "# A few basic statistics on the data frame.\n",
    "print(\"The data:\\n\")\n",
    "print(f\"-> has size of {sys.getsizeof(df)/1024.0/1024.0:0.2f} MB.\")\n",
    "print(\"\")\n",
    "\n",
    "df.info()"
   ]
  },
  {
   "cell_type": "code",
   "execution_count": null,
   "metadata": {},
   "outputs": [],
   "source": [
    "# objects to categorical - Not applicable here because there are no 'object' features\n",
    "df[df.select_dtypes(include='object').columns] = df.select_dtypes(include='object').astype('category')\n",
    "\n",
    "# convert integers to smallest unsigned integer and floats to smallest\n",
    "for old, new in [('integer', 'unsigned'), ('float', 'float')]:\n",
    "    \n",
    "    print(\"\\nchange: \" + old + \" --> \" + new)\n",
    "    \n",
    "    for col in df.select_dtypes(include=old).columns:\n",
    "        \n",
    "        print(col)\n",
    "        \n",
    "        df[col] = pd.to_numeric(df[col], downcast=new)"
   ]
  },
  {
   "cell_type": "code",
   "execution_count": null,
   "metadata": {},
   "outputs": [],
   "source": [
    "df.info()"
   ]
  },
  {
   "cell_type": "markdown",
   "metadata": {
    "id": "JRjToxz4Rb3h"
   },
   "source": [
    "### Some Statistics:"
   ]
  },
  {
   "cell_type": "code",
   "execution_count": null,
   "metadata": {
    "colab": {
     "base_uri": "https://localhost:8080/"
    },
    "executionInfo": {
     "elapsed": 11505,
     "status": "ok",
     "timestamp": 1608136751408,
     "user": {
      "displayName": "pi1234",
      "photoUrl": "",
      "userId": "00485952581093036663"
     },
     "user_tz": -60
    },
    "id": "HV1Ee1SwSefa",
    "outputId": "d77a35c0-17b1-4328-f216-9a9d85c81220"
   },
   "outputs": [],
   "source": [
    "print(\"The data:\\n\")\n",
    "print(f\"-> contain {df.shape[0]/1e6:0.1f} million observations and {df.shape[1]} features.\\n\")\n",
    "print(f\"-> contain {df.shape[0]} observations and {df.shape[1]} features.\\n\")\n",
    "print(f\"-> have feature names: {f_concat(df.columns)}.\\n\")\n",
    "print(f\"-> has size of {sys.getsizeof(df)/1024.0/1024.0:0.2f} MB.\")"
   ]
  },
  {
   "cell_type": "code",
   "execution_count": null,
   "metadata": {},
   "outputs": [],
   "source": [
    "f_describe(df)"
   ]
  },
  {
   "cell_type": "code",
   "execution_count": null,
   "metadata": {
    "colab": {
     "base_uri": "https://localhost:8080/",
     "height": 297
    },
    "executionInfo": {
     "elapsed": 29137,
     "status": "ok",
     "timestamp": 1608136587803,
     "user": {
      "displayName": "pi1234",
      "photoUrl": "",
      "userId": "00485952581093036663"
     },
     "user_tz": -60
    },
    "id": "BdzdN9Qi9hjw",
    "outputId": "33222be8-68da-4d56-ffe4-00c6175740fc"
   },
   "outputs": [],
   "source": [
    "f_info(df, \"Netbeheerder\")"
   ]
  },
  {
   "cell_type": "code",
   "execution_count": null,
   "metadata": {},
   "outputs": [],
   "source": []
  }
 ],
 "metadata": {
  "colab": {
   "authorship_tag": "ABX9TyP1XEh6OeJMgPK4tWBSiOU8",
   "collapsed_sections": [],
   "mount_file_id": "1tas4gpn15avV6RH91pDuPfl4mfnjqven",
   "name": "Copy of 2020 12 13 - EyeOn Supermarket - v1.ipynb",
   "provenance": [
    {
     "file_id": "1tas4gpn15avV6RH91pDuPfl4mfnjqven",
     "timestamp": 1608148229653
    }
   ],
   "toc_visible": true
  },
  "kernelspec": {
   "display_name": "enexis-data-visualization",
   "language": "python",
   "name": "python3"
  },
  "language_info": {
   "codemirror_mode": {
    "name": "ipython",
    "version": 3
   },
   "file_extension": ".py",
   "mimetype": "text/x-python",
   "name": "python",
   "nbconvert_exporter": "python",
   "pygments_lexer": "ipython3",
   "version": "3.12.7"
  }
 },
 "nbformat": 4,
 "nbformat_minor": 4
}
