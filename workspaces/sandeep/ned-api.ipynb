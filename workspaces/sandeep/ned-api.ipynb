{
 "cells": [
  {
   "cell_type": "markdown",
   "metadata": {},
   "source": [
    "Import required dependencies"
   ]
  },
  {
   "cell_type": "code",
   "execution_count": 62,
   "metadata": {},
   "outputs": [],
   "source": [
    "import os\n",
    "import json\n",
    "import requests\n",
    "import pandas as pd"
   ]
  },
  {
   "cell_type": "markdown",
   "metadata": {},
   "source": [
    "load config files"
   ]
  },
  {
   "cell_type": "code",
   "execution_count": 63,
   "metadata": {},
   "outputs": [],
   "source": [
    "# Load API Key and download directory from config file\n",
    "CONFIG_FILE = \"config/api-call.json\"\n",
    "\n",
    "def load_config(config_path):\n",
    "    \"\"\"Load configuration from a JSON file.\"\"\"\n",
    "    with open(config_path, \"r\") as file:\n",
    "        return json.load(file)\n",
    "\n"
   ]
  },
  {
   "cell_type": "markdown",
   "metadata": {},
   "source": [
    "API configurations"
   ]
  },
  {
   "cell_type": "code",
   "execution_count": 64,
   "metadata": {},
   "outputs": [],
   "source": [
    "# Load config values\n",
    "config = load_config(CONFIG_FILE)\n",
    "API_ENDPOINT= config[\"ned_api_endpoint\"]\n",
    "API_KEY = config[\"demo-ned-api-key\"]\n",
    "DOWNLOAD_DIR = config[\"download_dir\"]\n",
    "\n",
    "# https://api.ned.nl/v1/utilizations?point=0&type=2&granularity=3&granularitytimezone=1&classification=2&activity=1&validfrom[strictly_before]=2020-11-17&validfrom[after]=2020-11-16\n",
    "\n",
    "\n",
    "# Ensure the download directory exists\n",
    "os.makedirs(DOWNLOAD_DIR, exist_ok=True)\n",
    "\n",
    "# API details (Replace with actual API endpoint)\n",
    "API_URL = API_ENDPOINT\n",
    "#HEADERS = {\"Authorization\": f\"X-AUTH-TOKEN {API_KEY}\"}\n",
    "\n",
    "# Headers with X-AUTH-TOKEN\n",
    "api_headers = {\n",
    "    \"X-AUTH-TOKEN\": API_KEY,  # Replace with your actual token\n",
    "    \"Content-Type\": \"application/json\"  # Optional, if sending JSON\n",
    "}\n",
    "\n",
    "\n",
    "api_params={\n",
    "    \"point\": \"0\",\n",
    "    \"type\": \"2\",\n",
    "    \"granularity\": \"3\",\n",
    "    \"granularitytimezone\": \"1\",\n",
    "    \"classification\": \"2\",\n",
    "    \"activity\": \"1\",\n",
    "    \"validfrom[strictly_before]\": \"2025-02-02\",\n",
    "    \"validfrom[after]\": \"2025-02-01\"\n",
    "    }\n"
   ]
  },
  {
   "cell_type": "markdown",
   "metadata": {},
   "source": [
    "make API call"
   ]
  },
  {
   "cell_type": "code",
   "execution_count": 65,
   "metadata": {},
   "outputs": [
    {
     "name": "stdout",
     "output_type": "stream",
     "text": [
      "                                                                  0\n",
      "@context                                   /v1/contexts/Utilization\n",
      "@id                                                /v1/utilizations\n",
      "@type                                              hydra:Collection\n",
      "hydra:totalItems                                                144\n",
      "hydra:member      [{'@id': '/v1/utilizations/68092561339', '@typ...\n",
      "hydra:view        {'@id': '/v1/utilizations?activity=1&classific...\n",
      "hydra:search      {'@type': 'hydra:IriTemplate', 'hydra:template...\n"
     ]
    }
   ],
   "source": [
    "def download_data_file():\n",
    "    \"\"\"Download a data file from an API and save it in the specified directory.\"\"\"\n",
    "    response = requests.get(API_URL, headers=api_headers, params=api_params)\n",
    "    # Convert JSON to Pandas DataFrame\n",
    "    \n",
    "    if response.status_code == 200:\n",
    "        \n",
    "        # JSON in bytes format\n",
    "        json_bytes = response.content\n",
    "\n",
    "        # Convert bytes → string → dictionary\n",
    "        json_dict = json.loads(json_bytes.decode(\"utf-8\"))\n",
    "\n",
    "        # Convert to DataFrame\n",
    "        df = pd.DataFrame.from_dict(json_dict, orient=\"index\")\n",
    "\n",
    "        # Print DataFrame\n",
    "        print(df)\n",
    "\n",
    "            \n",
    "        #file_path = os.path.join(DOWNLOAD_DIR, \"downloaded_data.json\")  # Change extension as needed\n",
    "        #with open(file_path, \"wb\") as file:\n",
    "        #    file.write(response.content)\n",
    "        #print(f\"File downloaded successfully: {file_path}\")\n",
    "    else:\n",
    "        print(f\"Error: {response.status_code} - {response.text}\")\n",
    "\n",
    "# Run the download function\n",
    "download_data_file()"
   ]
  }
 ],
 "metadata": {
  "kernelspec": {
   "display_name": "enexis-data-visualization",
   "language": "python",
   "name": "python3"
  },
  "language_info": {
   "codemirror_mode": {
    "name": "ipython",
    "version": 3
   },
   "file_extension": ".py",
   "mimetype": "text/x-python",
   "name": "python",
   "nbconvert_exporter": "python",
   "pygments_lexer": "ipython3",
   "version": "3.12.2"
  }
 },
 "nbformat": 4,
 "nbformat_minor": 2
}
